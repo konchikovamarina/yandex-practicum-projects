{
 "cells": [
  {
   "cell_type": "markdown",
   "id": "6e51aef5",
   "metadata": {},
   "source": [
    "# Задание к Проекту Статистический анализ данных и знакомство с данными.\n"
   ]
  },
  {
   "cell_type": "markdown",
   "id": "a24efbad",
   "metadata": {},
   "source": [
    "## Задание к Проекту Статистический анализ данных.\n",
    "\n",
    "Исследование для компании «Мегалайн» — федерального оператора сотовой связи. Клиентам предлагают два тарифных плана: «Смарт» и «Ультра». Чтобы скорректировать рекламный бюджет, коммерческий департамент хочет понять, какой тариф приносит больше денег.\n",
    "Предстоит сделать предварительный анализ тарифов на небольшой выборке клиентов. Предоставлены данные 500 пользователей «Мегалайна»: кто они, откуда, каким тарифом пользуются, сколько звонков и сообщений каждый отправил за 2018 год. Нужно проанализировать поведение клиентов и сделать вывод — какой тариф лучше.\n",
    "\n",
    "Для начала работы по проекту необходимо проверить данные на наличие пропусков, привести в соответствие их тип ,  удалить лишние и добавить необходимые значения. Затем следует исследовать полученные данные , сделать необходимые вычисления и визуализировать результаты.Проверить гипотезу о тарифах. По окончании работы следует сделать выводы. \n"
   ]
  },
  {
   "cell_type": "markdown",
   "id": "fe9de659",
   "metadata": {},
   "source": [
    "Тариф «Смарт»\n",
    "\n",
    "1.\tЕжемесячная плата: 550 рублей\n",
    "2.\tВключено 500 минут разговора, 50 сообщений и 15 Гб интернет-трафика\n",
    "3.\tСтоимость услуг сверх тарифного пакета:\n",
    "\n",
    "o\tминута разговора: 3 рубля\n",
    "\n",
    "o\tсообщение: 3 рубля\n",
    "\n",
    "o\t1 Гб интернет-трафика: 200 рублей\n"
   ]
  },
  {
   "cell_type": "markdown",
   "id": "b7c2c09d",
   "metadata": {},
   "source": [
    "Тариф «Ультра»\n",
    "\n",
    "1.\tЕжемесячная плата: 1950 рублей\n",
    "2.\tВключено 3000 минут разговора, 1000 сообщений и 30 Гб интернет-трафика\n",
    "3.\tСтоимость услуг сверх тарифного пакета:\n",
    "\n",
    "o\tминута разговора: 1 рубль\n",
    "\n",
    "o\tсообщение: 1 рубль\n",
    "\n",
    "o\t1 Гб интернет-трафика: 150 рублей\n"
   ]
  },
  {
   "cell_type": "markdown",
   "id": "5a75ad56",
   "metadata": {},
   "source": [
    "Примечание:\n",
    "\n",
    "«Мегалайн» всегда округляет секунды до минут, а мегабайты — до гигабайт. \n",
    "\n",
    "Каждый звонок округляется отдельно: даже если он длился всего 1 секунду, будет засчитан как 1 минута.\n",
    "\n",
    "Для веб-трафика отдельные сессии не считаются. Вместо этого общая сумма за месяц округляется в бо́льшую сторону. Если абонент использует 1025 мегабайт в этом месяце, с него возьмут плату за 2 гигабайта.\n"
   ]
  },
  {
   "cell_type": "markdown",
   "id": "8aebf96e",
   "metadata": {},
   "source": [
    "## Загрузка и знакомство с данными проекта."
   ]
  },
  {
   "cell_type": "code",
   "execution_count": 144,
   "id": "047f52b0",
   "metadata": {},
   "outputs": [],
   "source": [
    "# загружаем необходимые библиотеки\n",
    "import pandas as pd\n",
    "from scipy import stats as st\n",
    "import math\n",
    "import matplotlib.pyplot as plt\n",
    "import numpy as np"
   ]
  },
  {
   "cell_type": "raw",
   "id": "6d272426",
   "metadata": {},
   "source": [
    "# сохраним данные файла calls в переменную data_calls\n",
    "data_calls = pd.read_csv('C:\\Dev\\Jupyter\\dist\\projects\\Файлы к Проекту 4\\calls.csv') \n",
    "\n",
    "# сохраним данные файла internet.csv в переменную data_internet\n",
    "data_internet = pd.read_csv('C:\\Dev\\Jupyter\\dist\\projects\\Файлы к Проекту 4\\internet.csv',index_col=0) \n",
    "\n",
    "# сохраним данные файла messages.csv в переменную data_messages\n",
    "data_messages = pd.read_csv('C:\\Dev\\Jupyter\\dist\\projects\\Файлы к Проекту 4\\messages.csv') \n",
    "\n",
    "# сохраним данные файла tariffs.csv в переменную data_tariffs\n",
    "data_tariffs = pd.read_csv('C:\\\\Dev\\\\Jupyter\\\\dist\\\\projects\\\\Файлы к Проекту 4\\\\tariffs.csv') \n",
    "\n",
    "# сохраним данные файла users.csv в переменную data_users\n",
    "data_users = pd.read_csv('C:\\\\Dev\\\\Jupyter\\\\dist\\\\projects\\\\Файлы к Проекту 4\\\\users.csv')\n"
   ]
  },
  {
   "cell_type": "markdown",
   "id": "2784a2c7",
   "metadata": {},
   "source": [
    "<div class=\"alert alert-anger\">\n",
    "<font size=\"4\"><b>❌ Комментарий ревьюера</b></font>\n",
    "    <br /> \n",
    "    <font size=\"3\", color = \"black\">\n",
    "<br /> Данные не загружены"
   ]
  },
  {
   "cell_type": "code",
   "execution_count": 199,
   "id": "c69e75d5",
   "metadata": {},
   "outputs": [],
   "source": [
    "# чтение файлов с данными\n",
    "data_calls = pd.read_csv('/datasets/calls.csv')\n",
    "data_internet = pd.read_csv('/datasets/internet.csv',index_col=0)\n",
    "data_messages = pd.read_csv('/datasets/messages.csv')\n",
    "data_tariffs = pd.read_csv('/datasets/tariffs.csv')\n",
    "data_users = pd.read_csv('/datasets/users.csv')"
   ]
  },
  {
   "cell_type": "markdown",
   "id": "fb363a49",
   "metadata": {},
   "source": [
    "### Знакомство с data_calls"
   ]
  },
  {
   "cell_type": "code",
   "execution_count": 200,
   "id": "b6604e2a",
   "metadata": {},
   "outputs": [
    {
     "name": "stdout",
     "output_type": "stream",
     "text": [
      "<class 'pandas.core.frame.DataFrame'>\n",
      "RangeIndex: 202607 entries, 0 to 202606\n",
      "Data columns (total 4 columns):\n",
      " #   Column     Non-Null Count   Dtype  \n",
      "---  ------     --------------   -----  \n",
      " 0   id         202607 non-null  object \n",
      " 1   call_date  202607 non-null  object \n",
      " 2   duration   202607 non-null  float64\n",
      " 3   user_id    202607 non-null  int64  \n",
      "dtypes: float64(1), int64(1), object(2)\n",
      "memory usage: 6.2+ MB\n",
      "None\n"
     ]
    }
   ],
   "source": [
    "print(data_calls.info()) # выведем на экран общую информвцию о data_calls \n",
    "\n"
   ]
  },
  {
   "cell_type": "code",
   "execution_count": 201,
   "id": "0ad9ccbc",
   "metadata": {},
   "outputs": [
    {
     "data": {
      "text/html": [
       "<div>\n",
       "<style scoped>\n",
       "    .dataframe tbody tr th:only-of-type {\n",
       "        vertical-align: middle;\n",
       "    }\n",
       "\n",
       "    .dataframe tbody tr th {\n",
       "        vertical-align: top;\n",
       "    }\n",
       "\n",
       "    .dataframe thead th {\n",
       "        text-align: right;\n",
       "    }\n",
       "</style>\n",
       "<table border=\"1\" class=\"dataframe\">\n",
       "  <thead>\n",
       "    <tr style=\"text-align: right;\">\n",
       "      <th></th>\n",
       "      <th>id</th>\n",
       "      <th>call_date</th>\n",
       "      <th>duration</th>\n",
       "      <th>user_id</th>\n",
       "    </tr>\n",
       "  </thead>\n",
       "  <tbody>\n",
       "    <tr>\n",
       "      <th>0</th>\n",
       "      <td>1000_0</td>\n",
       "      <td>2018-07-25</td>\n",
       "      <td>0.00</td>\n",
       "      <td>1000</td>\n",
       "    </tr>\n",
       "    <tr>\n",
       "      <th>1</th>\n",
       "      <td>1000_1</td>\n",
       "      <td>2018-08-17</td>\n",
       "      <td>0.00</td>\n",
       "      <td>1000</td>\n",
       "    </tr>\n",
       "    <tr>\n",
       "      <th>2</th>\n",
       "      <td>1000_2</td>\n",
       "      <td>2018-06-11</td>\n",
       "      <td>2.85</td>\n",
       "      <td>1000</td>\n",
       "    </tr>\n",
       "    <tr>\n",
       "      <th>3</th>\n",
       "      <td>1000_3</td>\n",
       "      <td>2018-09-21</td>\n",
       "      <td>13.80</td>\n",
       "      <td>1000</td>\n",
       "    </tr>\n",
       "    <tr>\n",
       "      <th>4</th>\n",
       "      <td>1000_4</td>\n",
       "      <td>2018-12-15</td>\n",
       "      <td>5.18</td>\n",
       "      <td>1000</td>\n",
       "    </tr>\n",
       "  </tbody>\n",
       "</table>\n",
       "</div>"
      ],
      "text/plain": [
       "       id   call_date  duration  user_id\n",
       "0  1000_0  2018-07-25      0.00     1000\n",
       "1  1000_1  2018-08-17      0.00     1000\n",
       "2  1000_2  2018-06-11      2.85     1000\n",
       "3  1000_3  2018-09-21     13.80     1000\n",
       "4  1000_4  2018-12-15      5.18     1000"
      ]
     },
     "metadata": {},
     "output_type": "display_data"
    },
    {
     "data": {
      "text/html": [
       "<div>\n",
       "<style scoped>\n",
       "    .dataframe tbody tr th:only-of-type {\n",
       "        vertical-align: middle;\n",
       "    }\n",
       "\n",
       "    .dataframe tbody tr th {\n",
       "        vertical-align: top;\n",
       "    }\n",
       "\n",
       "    .dataframe thead th {\n",
       "        text-align: right;\n",
       "    }\n",
       "</style>\n",
       "<table border=\"1\" class=\"dataframe\">\n",
       "  <thead>\n",
       "    <tr style=\"text-align: right;\">\n",
       "      <th></th>\n",
       "      <th>id</th>\n",
       "      <th>call_date</th>\n",
       "      <th>duration</th>\n",
       "      <th>user_id</th>\n",
       "    </tr>\n",
       "  </thead>\n",
       "  <tbody>\n",
       "    <tr>\n",
       "      <th>202602</th>\n",
       "      <td>1499_215</td>\n",
       "      <td>2018-12-26</td>\n",
       "      <td>0.76</td>\n",
       "      <td>1499</td>\n",
       "    </tr>\n",
       "    <tr>\n",
       "      <th>202603</th>\n",
       "      <td>1499_216</td>\n",
       "      <td>2018-10-18</td>\n",
       "      <td>18.83</td>\n",
       "      <td>1499</td>\n",
       "    </tr>\n",
       "    <tr>\n",
       "      <th>202604</th>\n",
       "      <td>1499_217</td>\n",
       "      <td>2018-11-10</td>\n",
       "      <td>10.81</td>\n",
       "      <td>1499</td>\n",
       "    </tr>\n",
       "    <tr>\n",
       "      <th>202605</th>\n",
       "      <td>1499_218</td>\n",
       "      <td>2018-10-06</td>\n",
       "      <td>4.27</td>\n",
       "      <td>1499</td>\n",
       "    </tr>\n",
       "    <tr>\n",
       "      <th>202606</th>\n",
       "      <td>1499_219</td>\n",
       "      <td>2018-12-14</td>\n",
       "      <td>19.62</td>\n",
       "      <td>1499</td>\n",
       "    </tr>\n",
       "  </tbody>\n",
       "</table>\n",
       "</div>"
      ],
      "text/plain": [
       "              id   call_date  duration  user_id\n",
       "202602  1499_215  2018-12-26      0.76     1499\n",
       "202603  1499_216  2018-10-18     18.83     1499\n",
       "202604  1499_217  2018-11-10     10.81     1499\n",
       "202605  1499_218  2018-10-06      4.27     1499\n",
       "202606  1499_219  2018-12-14     19.62     1499"
      ]
     },
     "metadata": {},
     "output_type": "display_data"
    }
   ],
   "source": [
    "display(data_calls.head(),data_calls.tail()) # выведем первые  и последние 5 строк на экран"
   ]
  },
  {
   "cell_type": "markdown",
   "id": "0fa4d28e",
   "metadata": {},
   "source": [
    "Таблица calls (информация о звонках):\n",
    "\n",
    "•\tid — уникальный номер звонка\n",
    "\n",
    "•\tcall_date — дата звонка\n",
    "\n",
    "•\tduration — длительность звонка в минутах\n",
    "\n",
    "•\tuser_id — идентификатор пользователя, сделавшего звонок\n"
   ]
  },
  {
   "cell_type": "markdown",
   "id": "ecd089a5",
   "metadata": {},
   "source": [
    "### Знакомство с data_internet"
   ]
  },
  {
   "cell_type": "code",
   "execution_count": 202,
   "id": "8ebc1bcb",
   "metadata": {},
   "outputs": [
    {
     "name": "stdout",
     "output_type": "stream",
     "text": [
      "<class 'pandas.core.frame.DataFrame'>\n",
      "Int64Index: 149396 entries, 0 to 149395\n",
      "Data columns (total 4 columns):\n",
      " #   Column        Non-Null Count   Dtype  \n",
      "---  ------        --------------   -----  \n",
      " 0   id            149396 non-null  object \n",
      " 1   mb_used       149396 non-null  float64\n",
      " 2   session_date  149396 non-null  object \n",
      " 3   user_id       149396 non-null  int64  \n",
      "dtypes: float64(1), int64(1), object(2)\n",
      "memory usage: 5.7+ MB\n"
     ]
    }
   ],
   "source": [
    "data_internet.info() # выведем на экран общую информвцию о data_internet "
   ]
  },
  {
   "cell_type": "code",
   "execution_count": 203,
   "id": "af89ebb8",
   "metadata": {},
   "outputs": [
    {
     "data": {
      "text/html": [
       "<div>\n",
       "<style scoped>\n",
       "    .dataframe tbody tr th:only-of-type {\n",
       "        vertical-align: middle;\n",
       "    }\n",
       "\n",
       "    .dataframe tbody tr th {\n",
       "        vertical-align: top;\n",
       "    }\n",
       "\n",
       "    .dataframe thead th {\n",
       "        text-align: right;\n",
       "    }\n",
       "</style>\n",
       "<table border=\"1\" class=\"dataframe\">\n",
       "  <thead>\n",
       "    <tr style=\"text-align: right;\">\n",
       "      <th></th>\n",
       "      <th>id</th>\n",
       "      <th>mb_used</th>\n",
       "      <th>session_date</th>\n",
       "      <th>user_id</th>\n",
       "    </tr>\n",
       "  </thead>\n",
       "  <tbody>\n",
       "    <tr>\n",
       "      <th>0</th>\n",
       "      <td>1000_0</td>\n",
       "      <td>112.95</td>\n",
       "      <td>2018-11-25</td>\n",
       "      <td>1000</td>\n",
       "    </tr>\n",
       "    <tr>\n",
       "      <th>1</th>\n",
       "      <td>1000_1</td>\n",
       "      <td>1052.81</td>\n",
       "      <td>2018-09-07</td>\n",
       "      <td>1000</td>\n",
       "    </tr>\n",
       "    <tr>\n",
       "      <th>2</th>\n",
       "      <td>1000_2</td>\n",
       "      <td>1197.26</td>\n",
       "      <td>2018-06-25</td>\n",
       "      <td>1000</td>\n",
       "    </tr>\n",
       "    <tr>\n",
       "      <th>3</th>\n",
       "      <td>1000_3</td>\n",
       "      <td>550.27</td>\n",
       "      <td>2018-08-22</td>\n",
       "      <td>1000</td>\n",
       "    </tr>\n",
       "    <tr>\n",
       "      <th>4</th>\n",
       "      <td>1000_4</td>\n",
       "      <td>302.56</td>\n",
       "      <td>2018-09-24</td>\n",
       "      <td>1000</td>\n",
       "    </tr>\n",
       "  </tbody>\n",
       "</table>\n",
       "</div>"
      ],
      "text/plain": [
       "       id  mb_used session_date  user_id\n",
       "0  1000_0   112.95   2018-11-25     1000\n",
       "1  1000_1  1052.81   2018-09-07     1000\n",
       "2  1000_2  1197.26   2018-06-25     1000\n",
       "3  1000_3   550.27   2018-08-22     1000\n",
       "4  1000_4   302.56   2018-09-24     1000"
      ]
     },
     "metadata": {},
     "output_type": "display_data"
    }
   ],
   "source": [
    "display(data_internet.head()) # выведем первые 5 строк на экран"
   ]
  },
  {
   "cell_type": "markdown",
   "id": "5e967bbf",
   "metadata": {},
   "source": [
    "\n",
    "Таблица internet (информация об интернет-сессиях):\n",
    "\n",
    "•\tid — уникальный номер сессии\n",
    "\n",
    "•\tmb_used — объём потраченного за сессию интернет-трафика (в мегабайтах)\n",
    "\n",
    "•\tsession_date — дата интернет-сессии\n",
    "\n",
    "•\tuser_id — идентификатор пользователя\n"
   ]
  },
  {
   "cell_type": "markdown",
   "id": "5dc31aef",
   "metadata": {},
   "source": [
    "### Знакомство с data_messages"
   ]
  },
  {
   "cell_type": "code",
   "execution_count": 204,
   "id": "717fd5d3",
   "metadata": {},
   "outputs": [
    {
     "name": "stdout",
     "output_type": "stream",
     "text": [
      "<class 'pandas.core.frame.DataFrame'>\n",
      "RangeIndex: 123036 entries, 0 to 123035\n",
      "Data columns (total 3 columns):\n",
      " #   Column        Non-Null Count   Dtype \n",
      "---  ------        --------------   ----- \n",
      " 0   id            123036 non-null  object\n",
      " 1   message_date  123036 non-null  object\n",
      " 2   user_id       123036 non-null  int64 \n",
      "dtypes: int64(1), object(2)\n",
      "memory usage: 2.8+ MB\n"
     ]
    }
   ],
   "source": [
    "data_messages.info() # выведем на экран общую информвцию о data_messages"
   ]
  },
  {
   "cell_type": "code",
   "execution_count": 205,
   "id": "db7e6501",
   "metadata": {},
   "outputs": [
    {
     "data": {
      "text/html": [
       "<div>\n",
       "<style scoped>\n",
       "    .dataframe tbody tr th:only-of-type {\n",
       "        vertical-align: middle;\n",
       "    }\n",
       "\n",
       "    .dataframe tbody tr th {\n",
       "        vertical-align: top;\n",
       "    }\n",
       "\n",
       "    .dataframe thead th {\n",
       "        text-align: right;\n",
       "    }\n",
       "</style>\n",
       "<table border=\"1\" class=\"dataframe\">\n",
       "  <thead>\n",
       "    <tr style=\"text-align: right;\">\n",
       "      <th></th>\n",
       "      <th>id</th>\n",
       "      <th>message_date</th>\n",
       "      <th>user_id</th>\n",
       "    </tr>\n",
       "  </thead>\n",
       "  <tbody>\n",
       "    <tr>\n",
       "      <th>0</th>\n",
       "      <td>1000_0</td>\n",
       "      <td>2018-06-27</td>\n",
       "      <td>1000</td>\n",
       "    </tr>\n",
       "    <tr>\n",
       "      <th>1</th>\n",
       "      <td>1000_1</td>\n",
       "      <td>2018-10-08</td>\n",
       "      <td>1000</td>\n",
       "    </tr>\n",
       "    <tr>\n",
       "      <th>2</th>\n",
       "      <td>1000_2</td>\n",
       "      <td>2018-08-04</td>\n",
       "      <td>1000</td>\n",
       "    </tr>\n",
       "    <tr>\n",
       "      <th>3</th>\n",
       "      <td>1000_3</td>\n",
       "      <td>2018-06-16</td>\n",
       "      <td>1000</td>\n",
       "    </tr>\n",
       "    <tr>\n",
       "      <th>4</th>\n",
       "      <td>1000_4</td>\n",
       "      <td>2018-12-05</td>\n",
       "      <td>1000</td>\n",
       "    </tr>\n",
       "  </tbody>\n",
       "</table>\n",
       "</div>"
      ],
      "text/plain": [
       "       id message_date  user_id\n",
       "0  1000_0   2018-06-27     1000\n",
       "1  1000_1   2018-10-08     1000\n",
       "2  1000_2   2018-08-04     1000\n",
       "3  1000_3   2018-06-16     1000\n",
       "4  1000_4   2018-12-05     1000"
      ]
     },
     "metadata": {},
     "output_type": "display_data"
    }
   ],
   "source": [
    "display(data_messages.head()) # выведем первые 5 строк на экран"
   ]
  },
  {
   "cell_type": "markdown",
   "id": "fcfc32c9",
   "metadata": {},
   "source": [
    "Таблица messages (информация о сообщениях):\n",
    "\n",
    "•\tid — уникальный номер сообщения\n",
    "\n",
    "•\tmessage_date — дата сообщения\n",
    "\n",
    "•\tuser_id — идентификатор пользователя, отправившего сообщение\n"
   ]
  },
  {
   "cell_type": "markdown",
   "id": "4a994549",
   "metadata": {},
   "source": [
    "### Знакомство с data_tariffs"
   ]
  },
  {
   "cell_type": "code",
   "execution_count": 206,
   "id": "a0eeaf4c",
   "metadata": {
    "scrolled": true
   },
   "outputs": [
    {
     "name": "stdout",
     "output_type": "stream",
     "text": [
      "<class 'pandas.core.frame.DataFrame'>\n",
      "RangeIndex: 2 entries, 0 to 1\n",
      "Data columns (total 8 columns):\n",
      " #   Column                 Non-Null Count  Dtype \n",
      "---  ------                 --------------  ----- \n",
      " 0   messages_included      2 non-null      int64 \n",
      " 1   mb_per_month_included  2 non-null      int64 \n",
      " 2   minutes_included       2 non-null      int64 \n",
      " 3   rub_monthly_fee        2 non-null      int64 \n",
      " 4   rub_per_gb             2 non-null      int64 \n",
      " 5   rub_per_message        2 non-null      int64 \n",
      " 6   rub_per_minute         2 non-null      int64 \n",
      " 7   tariff_name            2 non-null      object\n",
      "dtypes: int64(7), object(1)\n",
      "memory usage: 256.0+ bytes\n"
     ]
    }
   ],
   "source": [
    "data_tariffs.info() # выведем на экран общую информвцию"
   ]
  },
  {
   "cell_type": "code",
   "execution_count": 207,
   "id": "500b81ac",
   "metadata": {},
   "outputs": [
    {
     "data": {
      "text/html": [
       "<div>\n",
       "<style scoped>\n",
       "    .dataframe tbody tr th:only-of-type {\n",
       "        vertical-align: middle;\n",
       "    }\n",
       "\n",
       "    .dataframe tbody tr th {\n",
       "        vertical-align: top;\n",
       "    }\n",
       "\n",
       "    .dataframe thead th {\n",
       "        text-align: right;\n",
       "    }\n",
       "</style>\n",
       "<table border=\"1\" class=\"dataframe\">\n",
       "  <thead>\n",
       "    <tr style=\"text-align: right;\">\n",
       "      <th></th>\n",
       "      <th>messages_included</th>\n",
       "      <th>mb_per_month_included</th>\n",
       "      <th>minutes_included</th>\n",
       "      <th>rub_monthly_fee</th>\n",
       "      <th>rub_per_gb</th>\n",
       "      <th>rub_per_message</th>\n",
       "      <th>rub_per_minute</th>\n",
       "      <th>tariff_name</th>\n",
       "    </tr>\n",
       "  </thead>\n",
       "  <tbody>\n",
       "    <tr>\n",
       "      <th>0</th>\n",
       "      <td>50</td>\n",
       "      <td>15360</td>\n",
       "      <td>500</td>\n",
       "      <td>550</td>\n",
       "      <td>200</td>\n",
       "      <td>3</td>\n",
       "      <td>3</td>\n",
       "      <td>smart</td>\n",
       "    </tr>\n",
       "    <tr>\n",
       "      <th>1</th>\n",
       "      <td>1000</td>\n",
       "      <td>30720</td>\n",
       "      <td>3000</td>\n",
       "      <td>1950</td>\n",
       "      <td>150</td>\n",
       "      <td>1</td>\n",
       "      <td>1</td>\n",
       "      <td>ultra</td>\n",
       "    </tr>\n",
       "  </tbody>\n",
       "</table>\n",
       "</div>"
      ],
      "text/plain": [
       "   messages_included  mb_per_month_included  minutes_included  \\\n",
       "0                 50                  15360               500   \n",
       "1               1000                  30720              3000   \n",
       "\n",
       "   rub_monthly_fee  rub_per_gb  rub_per_message  rub_per_minute tariff_name  \n",
       "0              550         200                3               3       smart  \n",
       "1             1950         150                1               1       ultra  "
      ]
     },
     "metadata": {},
     "output_type": "display_data"
    }
   ],
   "source": [
    "display(data_tariffs) # выведем на экран"
   ]
  },
  {
   "cell_type": "markdown",
   "id": "48dfca52",
   "metadata": {},
   "source": [
    "Таблица tariffs (информация о тарифах):\n",
    "\n",
    "•\ttariff_name — название тарифа\n",
    "\n",
    "•\trub_monthly_fee — ежемесячная абонентская плата в рублях\n",
    "\n",
    "•\tminutes_included — количество минут разговора в месяц, включённых в абонентскую плату\n",
    "\n",
    "•\tmessages_included — количество сообщений в месяц, включённых в абонентскую плату\n",
    "\n",
    "•\tmb_per_month_included — объём интернет-трафика, включённого в абонентскую плату (в мегабайтах)\n",
    "\n",
    "•\trub_per_minute — стоимость минуты разговора сверх тарифного пакета (например, если в тарифе 100 минут разговора в месяц, то со 101 минуты будет взиматься плата)\n",
    "\n",
    "•\trub_per_message — стоимость отправки сообщения сверх тарифного пакета\n",
    "\n",
    "•\trub_per_gb — стоимость дополнительного гигабайта интернет-трафика сверх тарифного пакета (1 гигабайт = 1024 мегабайта)\n"
   ]
  },
  {
   "cell_type": "markdown",
   "id": "0467ae37",
   "metadata": {},
   "source": [
    "### Знакомство с data_users"
   ]
  },
  {
   "cell_type": "code",
   "execution_count": 208,
   "id": "3b1a1334",
   "metadata": {},
   "outputs": [
    {
     "name": "stdout",
     "output_type": "stream",
     "text": [
      "<class 'pandas.core.frame.DataFrame'>\n",
      "RangeIndex: 500 entries, 0 to 499\n",
      "Data columns (total 8 columns):\n",
      " #   Column      Non-Null Count  Dtype \n",
      "---  ------      --------------  ----- \n",
      " 0   user_id     500 non-null    int64 \n",
      " 1   age         500 non-null    int64 \n",
      " 2   churn_date  38 non-null     object\n",
      " 3   city        500 non-null    object\n",
      " 4   first_name  500 non-null    object\n",
      " 5   last_name   500 non-null    object\n",
      " 6   reg_date    500 non-null    object\n",
      " 7   tariff      500 non-null    object\n",
      "dtypes: int64(2), object(6)\n",
      "memory usage: 31.4+ KB\n"
     ]
    }
   ],
   "source": [
    "data_users.info()# выведем на экран общую информвцию о data_users\n"
   ]
  },
  {
   "cell_type": "code",
   "execution_count": 209,
   "id": "d5a7fa8b",
   "metadata": {},
   "outputs": [
    {
     "data": {
      "text/html": [
       "<div>\n",
       "<style scoped>\n",
       "    .dataframe tbody tr th:only-of-type {\n",
       "        vertical-align: middle;\n",
       "    }\n",
       "\n",
       "    .dataframe tbody tr th {\n",
       "        vertical-align: top;\n",
       "    }\n",
       "\n",
       "    .dataframe thead th {\n",
       "        text-align: right;\n",
       "    }\n",
       "</style>\n",
       "<table border=\"1\" class=\"dataframe\">\n",
       "  <thead>\n",
       "    <tr style=\"text-align: right;\">\n",
       "      <th></th>\n",
       "      <th>user_id</th>\n",
       "      <th>age</th>\n",
       "      <th>churn_date</th>\n",
       "      <th>city</th>\n",
       "      <th>first_name</th>\n",
       "      <th>last_name</th>\n",
       "      <th>reg_date</th>\n",
       "      <th>tariff</th>\n",
       "    </tr>\n",
       "  </thead>\n",
       "  <tbody>\n",
       "    <tr>\n",
       "      <th>495</th>\n",
       "      <td>1495</td>\n",
       "      <td>65</td>\n",
       "      <td>NaN</td>\n",
       "      <td>Иркутск</td>\n",
       "      <td>Авксентий</td>\n",
       "      <td>Фокин</td>\n",
       "      <td>2018-08-28</td>\n",
       "      <td>ultra</td>\n",
       "    </tr>\n",
       "    <tr>\n",
       "      <th>496</th>\n",
       "      <td>1496</td>\n",
       "      <td>36</td>\n",
       "      <td>NaN</td>\n",
       "      <td>Вологда</td>\n",
       "      <td>Трифон</td>\n",
       "      <td>Блохин</td>\n",
       "      <td>2018-01-27</td>\n",
       "      <td>smart</td>\n",
       "    </tr>\n",
       "    <tr>\n",
       "      <th>497</th>\n",
       "      <td>1497</td>\n",
       "      <td>32</td>\n",
       "      <td>NaN</td>\n",
       "      <td>Челябинск</td>\n",
       "      <td>Каролина</td>\n",
       "      <td>Агеева</td>\n",
       "      <td>2018-10-09</td>\n",
       "      <td>smart</td>\n",
       "    </tr>\n",
       "    <tr>\n",
       "      <th>498</th>\n",
       "      <td>1498</td>\n",
       "      <td>68</td>\n",
       "      <td>2018-10-25</td>\n",
       "      <td>Владикавказ</td>\n",
       "      <td>Всеволод</td>\n",
       "      <td>Акимчин</td>\n",
       "      <td>2018-07-19</td>\n",
       "      <td>smart</td>\n",
       "    </tr>\n",
       "    <tr>\n",
       "      <th>499</th>\n",
       "      <td>1499</td>\n",
       "      <td>35</td>\n",
       "      <td>NaN</td>\n",
       "      <td>Пермь</td>\n",
       "      <td>Гектор</td>\n",
       "      <td>Корнилов</td>\n",
       "      <td>2018-09-27</td>\n",
       "      <td>smart</td>\n",
       "    </tr>\n",
       "  </tbody>\n",
       "</table>\n",
       "</div>"
      ],
      "text/plain": [
       "     user_id  age  churn_date         city first_name last_name    reg_date  \\\n",
       "495     1495   65         NaN      Иркутск  Авксентий     Фокин  2018-08-28   \n",
       "496     1496   36         NaN      Вологда     Трифон    Блохин  2018-01-27   \n",
       "497     1497   32         NaN    Челябинск   Каролина    Агеева  2018-10-09   \n",
       "498     1498   68  2018-10-25  Владикавказ   Всеволод   Акимчин  2018-07-19   \n",
       "499     1499   35         NaN        Пермь     Гектор  Корнилов  2018-09-27   \n",
       "\n",
       "    tariff  \n",
       "495  ultra  \n",
       "496  smart  \n",
       "497  smart  \n",
       "498  smart  \n",
       "499  smart  "
      ]
     },
     "metadata": {},
     "output_type": "display_data"
    }
   ],
   "source": [
    "display(data_users.tail()) # выведем первые 5 строк на экран"
   ]
  },
  {
   "cell_type": "markdown",
   "id": "210bb90b",
   "metadata": {},
   "source": [
    "Таблица users (информация о пользователях):\n",
    "\n",
    "•\tuser_id — уникальный идентификатор пользователя\n",
    "\n",
    "•\tfirst_name — имя пользователя\n",
    "\n",
    "•\tlast_name — фамилия пользователя\n",
    "\n",
    "•\tage — возраст пользователя (годы)\n",
    "\n",
    "•\treg_date — дата подключения тарифа (день, месяц, год)\n",
    "\n",
    "•\tchurn_date — дата прекращения пользования тарифом (если значение пропущено, то тариф ещё действовал на момент выгрузки данных)\n",
    "\n",
    "•\tcity — город проживания пользователя\n",
    "\n",
    "•\ttariff — название тарифного плана\n"
   ]
  },
  {
   "cell_type": "code",
   "execution_count": 210,
   "id": "c22fed18",
   "metadata": {},
   "outputs": [
    {
     "data": {
      "text/plain": [
       "149396"
      ]
     },
     "metadata": {},
     "output_type": "display_data"
    },
    {
     "data": {
      "text/plain": [
       "202607"
      ]
     },
     "metadata": {},
     "output_type": "display_data"
    },
    {
     "data": {
      "text/plain": [
       "123036"
      ]
     },
     "metadata": {},
     "output_type": "display_data"
    },
    {
     "data": {
      "text/plain": [
       "2"
      ]
     },
     "metadata": {},
     "output_type": "display_data"
    },
    {
     "data": {
      "text/plain": [
       "500"
      ]
     },
     "metadata": {},
     "output_type": "display_data"
    }
   ],
   "source": [
    "# выведем количество дубликатов\n",
    "display(data_internet.duplicated().count())\n",
    "display(data_calls.duplicated().count())\n",
    "display(data_messages.duplicated().count())\n",
    "display(data_tariffs.duplicated().count())\n",
    "display(data_users.duplicated().count())"
   ]
  },
  {
   "cell_type": "code",
   "execution_count": 211,
   "id": "d6f55f3e",
   "metadata": {},
   "outputs": [
    {
     "data": {
      "image/png": "[encoded data removed]",
      "text/plain": [
       "<Figure size 432x288 with 1 Axes>"
      ]
     },
     "metadata": {
      "needs_background": "light"
     },
     "output_type": "display_data"
    }
   ],
   "source": [
    "# построим гистограмму объёма интернет-сессий\n",
    "data_internet ['mb_used'].hist(bins=100)\n",
    "\n",
    "plt.show()"
   ]
  },
  {
   "cell_type": "markdown",
   "id": "a1c0f2e1",
   "metadata": {},
   "source": [
    "<div class=\"alert-info\"> \n",
    "    \n",
    "Количество обнаруженных дубликатов во всех таблицах равно количеству строк. \n",
    "    \n",
    "* Гистограмма интернет трафика показала пик в области нулевых значений .\n",
    "\n",
    "</div>    "
   ]
  },
  {
   "cell_type": "markdown",
   "id": "5b3ab6ea",
   "metadata": {},
   "source": [
    "# Подготовка данных"
   ]
  },
  {
   "cell_type": "markdown",
   "id": "5f32b9f3",
   "metadata": {},
   "source": [
    "## \tПриведение данных к нужным типам,поиск и исправление ошибок в данных.\n"
   ]
  },
  {
   "cell_type": "markdown",
   "id": "4d841f83",
   "metadata": {},
   "source": [
    "### Удаление столбцов 'Unnamed: 0 и 'id' в таблице data_internet."
   ]
  },
  {
   "cell_type": "code",
   "execution_count": 212,
   "id": "c44c19be",
   "metadata": {},
   "outputs": [
    {
     "name": "stdout",
     "output_type": "stream",
     "text": [
      "<class 'pandas.core.frame.DataFrame'>\n",
      "Int64Index: 149396 entries, 0 to 149395\n",
      "Data columns (total 4 columns):\n",
      " #   Column        Non-Null Count   Dtype  \n",
      "---  ------        --------------   -----  \n",
      " 0   id            149396 non-null  object \n",
      " 1   mb_used       149396 non-null  float64\n",
      " 2   session_date  149396 non-null  object \n",
      " 3   user_id       149396 non-null  int64  \n",
      "dtypes: float64(1), int64(1), object(2)\n",
      "memory usage: 5.7+ MB\n"
     ]
    }
   ],
   "source": [
    "data_internet.info() # выведем на экран общую информвцию о data_internet "
   ]
  },
  {
   "cell_type": "markdown",
   "id": "658f702d",
   "metadata": {},
   "source": [
    "В data_internet обнаружен безымянный столбец 'Unnamed: 0'и столбец 'id' , в которых дублирутся индексы. Их удаляем методом drop."
   ]
  },
  {
   "cell_type": "code",
   "execution_count": 213,
   "id": "95e192b5",
   "metadata": {
    "scrolled": true
   },
   "outputs": [
    {
     "data": {
      "text/html": [
       "<div>\n",
       "<style scoped>\n",
       "    .dataframe tbody tr th:only-of-type {\n",
       "        vertical-align: middle;\n",
       "    }\n",
       "\n",
       "    .dataframe tbody tr th {\n",
       "        vertical-align: top;\n",
       "    }\n",
       "\n",
       "    .dataframe thead th {\n",
       "        text-align: right;\n",
       "    }\n",
       "</style>\n",
       "<table border=\"1\" class=\"dataframe\">\n",
       "  <thead>\n",
       "    <tr style=\"text-align: right;\">\n",
       "      <th></th>\n",
       "      <th>id</th>\n",
       "      <th>mb_used</th>\n",
       "      <th>session_date</th>\n",
       "      <th>user_id</th>\n",
       "    </tr>\n",
       "  </thead>\n",
       "  <tbody>\n",
       "    <tr>\n",
       "      <th>0</th>\n",
       "      <td>1000_0</td>\n",
       "      <td>112.95</td>\n",
       "      <td>2018-11-25</td>\n",
       "      <td>1000</td>\n",
       "    </tr>\n",
       "    <tr>\n",
       "      <th>1</th>\n",
       "      <td>1000_1</td>\n",
       "      <td>1052.81</td>\n",
       "      <td>2018-09-07</td>\n",
       "      <td>1000</td>\n",
       "    </tr>\n",
       "    <tr>\n",
       "      <th>2</th>\n",
       "      <td>1000_2</td>\n",
       "      <td>1197.26</td>\n",
       "      <td>2018-06-25</td>\n",
       "      <td>1000</td>\n",
       "    </tr>\n",
       "    <tr>\n",
       "      <th>3</th>\n",
       "      <td>1000_3</td>\n",
       "      <td>550.27</td>\n",
       "      <td>2018-08-22</td>\n",
       "      <td>1000</td>\n",
       "    </tr>\n",
       "    <tr>\n",
       "      <th>4</th>\n",
       "      <td>1000_4</td>\n",
       "      <td>302.56</td>\n",
       "      <td>2018-09-24</td>\n",
       "      <td>1000</td>\n",
       "    </tr>\n",
       "  </tbody>\n",
       "</table>\n",
       "</div>"
      ],
      "text/plain": [
       "       id  mb_used session_date  user_id\n",
       "0  1000_0   112.95   2018-11-25     1000\n",
       "1  1000_1  1052.81   2018-09-07     1000\n",
       "2  1000_2  1197.26   2018-06-25     1000\n",
       "3  1000_3   550.27   2018-08-22     1000\n",
       "4  1000_4   302.56   2018-09-24     1000"
      ]
     },
     "metadata": {},
     "output_type": "display_data"
    }
   ],
   "source": [
    "# удаляем методом drop колонки 'Unnamed: 0' и 'id'\n",
    "#data_internet.drop(columns=['Unnamed: 0','id'], inplace=True)\n",
    "\n",
    "display(data_internet.head()) # выведем первые  5 строк на экран"
   ]
  },
  {
   "cell_type": "markdown",
   "id": "4b14cf10",
   "metadata": {},
   "source": [
    "### Смена типа данных 'call_date' на целочисленный."
   ]
  },
  {
   "cell_type": "code",
   "execution_count": 214,
   "id": "c07e6d58",
   "metadata": {},
   "outputs": [
    {
     "name": "stdout",
     "output_type": "stream",
     "text": [
      "<class 'pandas.core.frame.DataFrame'>\n",
      "RangeIndex: 202607 entries, 0 to 202606\n",
      "Data columns (total 4 columns):\n",
      " #   Column     Non-Null Count   Dtype  \n",
      "---  ------     --------------   -----  \n",
      " 0   id         202607 non-null  object \n",
      " 1   call_date  202607 non-null  object \n",
      " 2   duration   202607 non-null  float64\n",
      " 3   user_id    202607 non-null  int64  \n",
      "dtypes: float64(1), int64(1), object(2)\n",
      "memory usage: 6.2+ MB\n"
     ]
    }
   ],
   "source": [
    "# выведем общую информацию\n",
    "\n",
    "data_calls.info()"
   ]
  },
  {
   "cell_type": "markdown",
   "id": "fe626c24",
   "metadata": {},
   "source": [
    "### Сохраним в data_users_filtered  необходимые для анализа данные."
   ]
  },
  {
   "cell_type": "code",
   "execution_count": 215,
   "id": "a54ce210",
   "metadata": {},
   "outputs": [
    {
     "name": "stdout",
     "output_type": "stream",
     "text": [
      "   user_id         city tariff\n",
      "0     1000    Краснодар  ultra\n",
      "1     1001       Москва  smart\n",
      "2     1002  Стерлитамак  smart\n",
      "3     1003       Москва  ultra\n",
      "4     1004  Новокузнецк  ultra\n"
     ]
    }
   ],
   "source": [
    "# для дальнейшей работы сохраним в data_users_filtered колонки 'user_id'и'tariff'\n",
    "data_users_filtered = data_users[['user_id','city','tariff']]\n",
    "# выведем первые 5 строк\n",
    "print(data_users_filtered.head())"
   ]
  },
  {
   "cell_type": "code",
   "execution_count": 216,
   "id": "6fb805e6",
   "metadata": {},
   "outputs": [
    {
     "name": "stdout",
     "output_type": "stream",
     "text": [
      "<class 'pandas.core.frame.DataFrame'>\n",
      "RangeIndex: 500 entries, 0 to 499\n",
      "Data columns (total 3 columns):\n",
      " #   Column   Non-Null Count  Dtype \n",
      "---  ------   --------------  ----- \n",
      " 0   user_id  500 non-null    int64 \n",
      " 1   city     500 non-null    object\n",
      " 2   tariff   500 non-null    object\n",
      "dtypes: int64(1), object(2)\n",
      "memory usage: 11.8+ KB\n",
      "<class 'pandas.core.frame.DataFrame'>\n",
      "RangeIndex: 202607 entries, 0 to 202606\n",
      "Data columns (total 4 columns):\n",
      " #   Column     Non-Null Count   Dtype  \n",
      "---  ------     --------------   -----  \n",
      " 0   id         202607 non-null  object \n",
      " 1   call_date  202607 non-null  object \n",
      " 2   duration   202607 non-null  float64\n",
      " 3   user_id    202607 non-null  int64  \n",
      "dtypes: float64(1), int64(1), object(2)\n",
      "memory usage: 6.2+ MB\n"
     ]
    }
   ],
   "source": [
    "# выведем общую информацию\n",
    "data_users_filtered.info()\n",
    "data_calls.info()"
   ]
  },
  {
   "cell_type": "markdown",
   "id": "722269da",
   "metadata": {},
   "source": [
    "### Соединим таблицы data_users и data_calls"
   ]
  },
  {
   "cell_type": "code",
   "execution_count": 217,
   "id": "777bf8ec",
   "metadata": {},
   "outputs": [],
   "source": [
    "# присоединим к data_users таблицу data_calls с помощью метода merge\n",
    "data = data_users_filtered.merge(data_calls, on='user_id', how='left')\n",
    "\n",
    "   "
   ]
  },
  {
   "cell_type": "code",
   "execution_count": 218,
   "id": "7d324193",
   "metadata": {},
   "outputs": [],
   "source": [
    "#округлим  время до целых минут\n",
    "data['duration'] = np.ceil(data['duration'])\n"
   ]
  },
  {
   "cell_type": "markdown",
   "id": "ccaba2d5",
   "metadata": {},
   "source": [
    "### Переименуем колонки"
   ]
  },
  {
   "cell_type": "code",
   "execution_count": 219,
   "id": "4d7faea3",
   "metadata": {},
   "outputs": [
    {
     "data": {
      "text/html": [
       "<div>\n",
       "<style scoped>\n",
       "    .dataframe tbody tr th:only-of-type {\n",
       "        vertical-align: middle;\n",
       "    }\n",
       "\n",
       "    .dataframe tbody tr th {\n",
       "        vertical-align: top;\n",
       "    }\n",
       "\n",
       "    .dataframe thead th {\n",
       "        text-align: right;\n",
       "    }\n",
       "</style>\n",
       "<table border=\"1\" class=\"dataframe\">\n",
       "  <thead>\n",
       "    <tr style=\"text-align: right;\">\n",
       "      <th></th>\n",
       "      <th>messages_included</th>\n",
       "      <th>mb_per_month_included</th>\n",
       "      <th>minutes_included</th>\n",
       "      <th>rub_monthly_fee</th>\n",
       "      <th>rub_per_gb</th>\n",
       "      <th>rub_per_message</th>\n",
       "      <th>rub_per_minute</th>\n",
       "      <th>tariff</th>\n",
       "    </tr>\n",
       "  </thead>\n",
       "  <tbody>\n",
       "    <tr>\n",
       "      <th>0</th>\n",
       "      <td>50</td>\n",
       "      <td>15360</td>\n",
       "      <td>500</td>\n",
       "      <td>550</td>\n",
       "      <td>200</td>\n",
       "      <td>3</td>\n",
       "      <td>3</td>\n",
       "      <td>smart</td>\n",
       "    </tr>\n",
       "    <tr>\n",
       "      <th>1</th>\n",
       "      <td>1000</td>\n",
       "      <td>30720</td>\n",
       "      <td>3000</td>\n",
       "      <td>1950</td>\n",
       "      <td>150</td>\n",
       "      <td>1</td>\n",
       "      <td>1</td>\n",
       "      <td>ultra</td>\n",
       "    </tr>\n",
       "  </tbody>\n",
       "</table>\n",
       "</div>"
      ],
      "text/plain": [
       "   messages_included  mb_per_month_included  minutes_included  \\\n",
       "0                 50                  15360               500   \n",
       "1               1000                  30720              3000   \n",
       "\n",
       "   rub_monthly_fee  rub_per_gb  rub_per_message  rub_per_minute tariff  \n",
       "0              550         200                3               3  smart  \n",
       "1             1950         150                1               1  ultra  "
      ]
     },
     "metadata": {},
     "output_type": "display_data"
    }
   ],
   "source": [
    "# переименуем колонку 'tariff_name' в 'tariff' и сохраним изменения в таблице\n",
    "data_tariffs.rename(columns={'tariff_name': 'tariff'}, inplace=True)\n",
    "\n",
    "# выведем на экран data_tariffs\n",
    "display(data_tariffs)"
   ]
  },
  {
   "cell_type": "markdown",
   "id": "571cc940",
   "metadata": {},
   "source": [
    "## Расчет показателей для каждого пользователя:"
   ]
  },
  {
   "cell_type": "markdown",
   "id": "204253e4",
   "metadata": {},
   "source": [
    "###\t количество сделанных звонков и израсходованных минут разговора по месяцам"
   ]
  },
  {
   "cell_type": "code",
   "execution_count": 220,
   "id": "e3fbd822",
   "metadata": {},
   "outputs": [
    {
     "data": {
      "text/html": [
       "<div>\n",
       "<style scoped>\n",
       "    .dataframe tbody tr th:only-of-type {\n",
       "        vertical-align: middle;\n",
       "    }\n",
       "\n",
       "    .dataframe tbody tr th {\n",
       "        vertical-align: top;\n",
       "    }\n",
       "\n",
       "    .dataframe thead th {\n",
       "        text-align: right;\n",
       "    }\n",
       "</style>\n",
       "<table border=\"1\" class=\"dataframe\">\n",
       "  <thead>\n",
       "    <tr style=\"text-align: right;\">\n",
       "      <th></th>\n",
       "      <th>user_id</th>\n",
       "      <th>call_date</th>\n",
       "      <th>duration_month</th>\n",
       "    </tr>\n",
       "  </thead>\n",
       "  <tbody>\n",
       "    <tr>\n",
       "      <th>0</th>\n",
       "      <td>1000</td>\n",
       "      <td>2018-05</td>\n",
       "      <td>159.0</td>\n",
       "    </tr>\n",
       "    <tr>\n",
       "      <th>1</th>\n",
       "      <td>1000</td>\n",
       "      <td>2018-06</td>\n",
       "      <td>172.0</td>\n",
       "    </tr>\n",
       "    <tr>\n",
       "      <th>2</th>\n",
       "      <td>1000</td>\n",
       "      <td>2018-07</td>\n",
       "      <td>340.0</td>\n",
       "    </tr>\n",
       "    <tr>\n",
       "      <th>3</th>\n",
       "      <td>1000</td>\n",
       "      <td>2018-08</td>\n",
       "      <td>408.0</td>\n",
       "    </tr>\n",
       "    <tr>\n",
       "      <th>4</th>\n",
       "      <td>1000</td>\n",
       "      <td>2018-09</td>\n",
       "      <td>466.0</td>\n",
       "    </tr>\n",
       "  </tbody>\n",
       "</table>\n",
       "</div>"
      ],
      "text/plain": [
       "   user_id call_date  duration_month\n",
       "0     1000   2018-05           159.0\n",
       "1     1000   2018-06           172.0\n",
       "2     1000   2018-07           340.0\n",
       "3     1000   2018-08           408.0\n",
       "4     1000   2018-09           466.0"
      ]
     },
     "metadata": {},
     "output_type": "display_data"
    },
    {
     "name": "stdout",
     "output_type": "stream",
     "text": [
      "<class 'pandas.core.frame.DataFrame'>\n",
      "RangeIndex: 3174 entries, 0 to 3173\n",
      "Data columns (total 3 columns):\n",
      " #   Column          Non-Null Count  Dtype  \n",
      "---  ------          --------------  -----  \n",
      " 0   user_id         3174 non-null   int64  \n",
      " 1   call_date       3174 non-null   object \n",
      " 2   duration_month  3174 non-null   float64\n",
      "dtypes: float64(1), int64(1), object(1)\n",
      "memory usage: 74.5+ KB\n"
     ]
    }
   ],
   "source": [
    "# сгруппируем data по колонке 'user_id' и посчитаем количество израсходованных минут по месяцам\n",
    "data_duration_month = data.groupby(['user_id', pd.to_datetime(data.call_date).dt.strftime('%Y-%m')])['duration'].sum().reset_index(name='duration_month')\n",
    "# выведем на экран первые 5 строк\n",
    "display(data_duration_month.head())\n",
    "# выведем общую информацию\n",
    "data_duration_month.info()"
   ]
  },
  {
   "cell_type": "code",
   "execution_count": 221,
   "id": "44856163",
   "metadata": {},
   "outputs": [
    {
     "data": {
      "text/html": [
       "<div>\n",
       "<style scoped>\n",
       "    .dataframe tbody tr th:only-of-type {\n",
       "        vertical-align: middle;\n",
       "    }\n",
       "\n",
       "    .dataframe tbody tr th {\n",
       "        vertical-align: top;\n",
       "    }\n",
       "\n",
       "    .dataframe thead th {\n",
       "        text-align: right;\n",
       "    }\n",
       "</style>\n",
       "<table border=\"1\" class=\"dataframe\">\n",
       "  <thead>\n",
       "    <tr style=\"text-align: right;\">\n",
       "      <th></th>\n",
       "      <th>user_id</th>\n",
       "      <th>call_date</th>\n",
       "      <th>call_month</th>\n",
       "    </tr>\n",
       "  </thead>\n",
       "  <tbody>\n",
       "    <tr>\n",
       "      <th>0</th>\n",
       "      <td>1000</td>\n",
       "      <td>2018-05</td>\n",
       "      <td>22</td>\n",
       "    </tr>\n",
       "    <tr>\n",
       "      <th>1</th>\n",
       "      <td>1000</td>\n",
       "      <td>2018-06</td>\n",
       "      <td>43</td>\n",
       "    </tr>\n",
       "    <tr>\n",
       "      <th>2</th>\n",
       "      <td>1000</td>\n",
       "      <td>2018-07</td>\n",
       "      <td>47</td>\n",
       "    </tr>\n",
       "    <tr>\n",
       "      <th>3</th>\n",
       "      <td>1000</td>\n",
       "      <td>2018-08</td>\n",
       "      <td>52</td>\n",
       "    </tr>\n",
       "    <tr>\n",
       "      <th>4</th>\n",
       "      <td>1000</td>\n",
       "      <td>2018-09</td>\n",
       "      <td>58</td>\n",
       "    </tr>\n",
       "  </tbody>\n",
       "</table>\n",
       "</div>"
      ],
      "text/plain": [
       "   user_id call_date  call_month\n",
       "0     1000   2018-05          22\n",
       "1     1000   2018-06          43\n",
       "2     1000   2018-07          47\n",
       "3     1000   2018-08          52\n",
       "4     1000   2018-09          58"
      ]
     },
     "metadata": {},
     "output_type": "display_data"
    },
    {
     "name": "stdout",
     "output_type": "stream",
     "text": [
      "<class 'pandas.core.frame.DataFrame'>\n",
      "RangeIndex: 3174 entries, 0 to 3173\n",
      "Data columns (total 3 columns):\n",
      " #   Column      Non-Null Count  Dtype \n",
      "---  ------      --------------  ----- \n",
      " 0   user_id     3174 non-null   int64 \n",
      " 1   call_date   3174 non-null   object\n",
      " 2   call_month  3174 non-null   int64 \n",
      "dtypes: int64(2), object(1)\n",
      "memory usage: 74.5+ KB\n"
     ]
    }
   ],
   "source": [
    "# сгруппируем data по колонке 'user_id' и посчитаем количество звонков по месяцам\n",
    "data_call_month = data.groupby(['user_id', pd.to_datetime(data.call_date).dt.strftime('%Y-%m')])['id'].count().reset_index(name='call_month')\n",
    "\n",
    "# выведем на экран первые 5 строк\n",
    "display(data_call_month.head())\n",
    "# выведем общую информацию\n",
    "data_call_month.info()"
   ]
  },
  {
   "cell_type": "markdown",
   "id": "6b39f028",
   "metadata": {},
   "source": [
    "### •\tколичество отправленных сообщений по месяцам"
   ]
  },
  {
   "cell_type": "code",
   "execution_count": 222,
   "id": "e1a9648b",
   "metadata": {},
   "outputs": [
    {
     "data": {
      "text/html": [
       "<div>\n",
       "<style scoped>\n",
       "    .dataframe tbody tr th:only-of-type {\n",
       "        vertical-align: middle;\n",
       "    }\n",
       "\n",
       "    .dataframe tbody tr th {\n",
       "        vertical-align: top;\n",
       "    }\n",
       "\n",
       "    .dataframe thead th {\n",
       "        text-align: right;\n",
       "    }\n",
       "</style>\n",
       "<table border=\"1\" class=\"dataframe\">\n",
       "  <thead>\n",
       "    <tr style=\"text-align: right;\">\n",
       "      <th></th>\n",
       "      <th>user_id</th>\n",
       "      <th>message_date</th>\n",
       "      <th>messages_month</th>\n",
       "    </tr>\n",
       "  </thead>\n",
       "  <tbody>\n",
       "    <tr>\n",
       "      <th>0</th>\n",
       "      <td>1000</td>\n",
       "      <td>2018-05</td>\n",
       "      <td>22</td>\n",
       "    </tr>\n",
       "    <tr>\n",
       "      <th>1</th>\n",
       "      <td>1000</td>\n",
       "      <td>2018-06</td>\n",
       "      <td>60</td>\n",
       "    </tr>\n",
       "    <tr>\n",
       "      <th>2</th>\n",
       "      <td>1000</td>\n",
       "      <td>2018-07</td>\n",
       "      <td>75</td>\n",
       "    </tr>\n",
       "    <tr>\n",
       "      <th>3</th>\n",
       "      <td>1000</td>\n",
       "      <td>2018-08</td>\n",
       "      <td>81</td>\n",
       "    </tr>\n",
       "    <tr>\n",
       "      <th>4</th>\n",
       "      <td>1000</td>\n",
       "      <td>2018-09</td>\n",
       "      <td>57</td>\n",
       "    </tr>\n",
       "  </tbody>\n",
       "</table>\n",
       "</div>"
      ],
      "text/plain": [
       "   user_id message_date  messages_month\n",
       "0     1000      2018-05              22\n",
       "1     1000      2018-06              60\n",
       "2     1000      2018-07              75\n",
       "3     1000      2018-08              81\n",
       "4     1000      2018-09              57"
      ]
     },
     "metadata": {},
     "output_type": "display_data"
    }
   ],
   "source": [
    "# сгруппируем data по колонке 'user_id' и посчитаем количество сообщений по месяцам\n",
    "data_messages_month = data_messages.groupby(['user_id', pd.to_datetime(data_messages.message_date).dt.strftime('%Y-%m')])['id'].count().reset_index(name='messages_month')\n",
    "\n",
    "pd.to_datetime(data_messages_month['message_date'])\n",
    "\n",
    "# выведем на экран первые 5 строк\n",
    "display(data_messages_month.head())"
   ]
  },
  {
   "cell_type": "markdown",
   "id": "a307d11e",
   "metadata": {},
   "source": [
    "### •\tобъем израсходованного интернет-трафика по месяцам"
   ]
  },
  {
   "cell_type": "code",
   "execution_count": 223,
   "id": "a7aa0150",
   "metadata": {},
   "outputs": [
    {
     "data": {
      "text/html": [
       "<div>\n",
       "<style scoped>\n",
       "    .dataframe tbody tr th:only-of-type {\n",
       "        vertical-align: middle;\n",
       "    }\n",
       "\n",
       "    .dataframe tbody tr th {\n",
       "        vertical-align: top;\n",
       "    }\n",
       "\n",
       "    .dataframe thead th {\n",
       "        text-align: right;\n",
       "    }\n",
       "</style>\n",
       "<table border=\"1\" class=\"dataframe\">\n",
       "  <thead>\n",
       "    <tr style=\"text-align: right;\">\n",
       "      <th></th>\n",
       "      <th>user_id</th>\n",
       "      <th>session_date</th>\n",
       "      <th>mb_month</th>\n",
       "    </tr>\n",
       "  </thead>\n",
       "  <tbody>\n",
       "    <tr>\n",
       "      <th>0</th>\n",
       "      <td>1000</td>\n",
       "      <td>2018-05</td>\n",
       "      <td>2253.49</td>\n",
       "    </tr>\n",
       "    <tr>\n",
       "      <th>1</th>\n",
       "      <td>1000</td>\n",
       "      <td>2018-06</td>\n",
       "      <td>23233.77</td>\n",
       "    </tr>\n",
       "    <tr>\n",
       "      <th>2</th>\n",
       "      <td>1000</td>\n",
       "      <td>2018-07</td>\n",
       "      <td>14003.64</td>\n",
       "    </tr>\n",
       "    <tr>\n",
       "      <th>3</th>\n",
       "      <td>1000</td>\n",
       "      <td>2018-08</td>\n",
       "      <td>14055.93</td>\n",
       "    </tr>\n",
       "    <tr>\n",
       "      <th>4</th>\n",
       "      <td>1000</td>\n",
       "      <td>2018-09</td>\n",
       "      <td>14568.91</td>\n",
       "    </tr>\n",
       "  </tbody>\n",
       "</table>\n",
       "</div>"
      ],
      "text/plain": [
       "   user_id session_date  mb_month\n",
       "0     1000      2018-05   2253.49\n",
       "1     1000      2018-06  23233.77\n",
       "2     1000      2018-07  14003.64\n",
       "3     1000      2018-08  14055.93\n",
       "4     1000      2018-09  14568.91"
      ]
     },
     "metadata": {},
     "output_type": "display_data"
    }
   ],
   "source": [
    "# сгруппируем data по колонке 'user_id' и посчитаем количество Мбт трафика  по месяцам\n",
    "data_mb_month = data_internet.groupby(['user_id', pd.to_datetime(data_internet.session_date).dt.strftime('%Y-%m')])['mb_used'].sum().reset_index(name='mb_month')\n",
    "\n",
    "# выведем на экран первые 5 строк\n",
    "display(data_mb_month.head())"
   ]
  },
  {
   "cell_type": "markdown",
   "id": "8603c093",
   "metadata": {},
   "source": [
    "### •\tРасчет помесячной выручки с каждого пользователя ."
   ]
  },
  {
   "cell_type": "code",
   "execution_count": 224,
   "id": "ce96a461",
   "metadata": {},
   "outputs": [
    {
     "data": {
      "text/html": [
       "<div>\n",
       "<style scoped>\n",
       "    .dataframe tbody tr th:only-of-type {\n",
       "        vertical-align: middle;\n",
       "    }\n",
       "\n",
       "    .dataframe tbody tr th {\n",
       "        vertical-align: top;\n",
       "    }\n",
       "\n",
       "    .dataframe thead th {\n",
       "        text-align: right;\n",
       "    }\n",
       "</style>\n",
       "<table border=\"1\" class=\"dataframe\">\n",
       "  <thead>\n",
       "    <tr style=\"text-align: right;\">\n",
       "      <th></th>\n",
       "      <th>messages_included</th>\n",
       "      <th>mb_per_month_included</th>\n",
       "      <th>minutes_included</th>\n",
       "      <th>rub_monthly_fee</th>\n",
       "      <th>rub_per_gb</th>\n",
       "      <th>rub_per_message</th>\n",
       "      <th>rub_per_minute</th>\n",
       "      <th>tariff</th>\n",
       "    </tr>\n",
       "  </thead>\n",
       "  <tbody>\n",
       "    <tr>\n",
       "      <th>0</th>\n",
       "      <td>50</td>\n",
       "      <td>15360</td>\n",
       "      <td>500</td>\n",
       "      <td>550</td>\n",
       "      <td>200</td>\n",
       "      <td>3</td>\n",
       "      <td>3</td>\n",
       "      <td>smart</td>\n",
       "    </tr>\n",
       "    <tr>\n",
       "      <th>1</th>\n",
       "      <td>1000</td>\n",
       "      <td>30720</td>\n",
       "      <td>3000</td>\n",
       "      <td>1950</td>\n",
       "      <td>150</td>\n",
       "      <td>1</td>\n",
       "      <td>1</td>\n",
       "      <td>ultra</td>\n",
       "    </tr>\n",
       "  </tbody>\n",
       "</table>\n",
       "</div>"
      ],
      "text/plain": [
       "   messages_included  mb_per_month_included  minutes_included  \\\n",
       "0                 50                  15360               500   \n",
       "1               1000                  30720              3000   \n",
       "\n",
       "   rub_monthly_fee  rub_per_gb  rub_per_message  rub_per_minute tariff  \n",
       "0              550         200                3               3  smart  \n",
       "1             1950         150                1               1  ultra  "
      ]
     },
     "metadata": {},
     "output_type": "display_data"
    }
   ],
   "source": [
    "# выведем на экран data_tariffs\n",
    "display(data_tariffs.head())"
   ]
  },
  {
   "cell_type": "code",
   "execution_count": 225,
   "id": "ac67e8fb",
   "metadata": {},
   "outputs": [
    {
     "data": {
      "text/html": [
       "<div>\n",
       "<style scoped>\n",
       "    .dataframe tbody tr th:only-of-type {\n",
       "        vertical-align: middle;\n",
       "    }\n",
       "\n",
       "    .dataframe tbody tr th {\n",
       "        vertical-align: top;\n",
       "    }\n",
       "\n",
       "    .dataframe thead th {\n",
       "        text-align: right;\n",
       "    }\n",
       "</style>\n",
       "<table border=\"1\" class=\"dataframe\">\n",
       "  <thead>\n",
       "    <tr style=\"text-align: right;\">\n",
       "      <th></th>\n",
       "      <th>user_id</th>\n",
       "      <th>date</th>\n",
       "      <th>duration_month</th>\n",
       "      <th>call_month</th>\n",
       "      <th>messages_month</th>\n",
       "      <th>mb_month</th>\n",
       "    </tr>\n",
       "  </thead>\n",
       "  <tbody>\n",
       "    <tr>\n",
       "      <th>0</th>\n",
       "      <td>1000</td>\n",
       "      <td>2018-05</td>\n",
       "      <td>159.0</td>\n",
       "      <td>22.0</td>\n",
       "      <td>22.0</td>\n",
       "      <td>2253.49</td>\n",
       "    </tr>\n",
       "    <tr>\n",
       "      <th>1</th>\n",
       "      <td>1000</td>\n",
       "      <td>2018-06</td>\n",
       "      <td>172.0</td>\n",
       "      <td>43.0</td>\n",
       "      <td>60.0</td>\n",
       "      <td>23233.77</td>\n",
       "    </tr>\n",
       "    <tr>\n",
       "      <th>2</th>\n",
       "      <td>1000</td>\n",
       "      <td>2018-07</td>\n",
       "      <td>340.0</td>\n",
       "      <td>47.0</td>\n",
       "      <td>75.0</td>\n",
       "      <td>14003.64</td>\n",
       "    </tr>\n",
       "    <tr>\n",
       "      <th>3</th>\n",
       "      <td>1000</td>\n",
       "      <td>2018-08</td>\n",
       "      <td>408.0</td>\n",
       "      <td>52.0</td>\n",
       "      <td>81.0</td>\n",
       "      <td>14055.93</td>\n",
       "    </tr>\n",
       "    <tr>\n",
       "      <th>4</th>\n",
       "      <td>1000</td>\n",
       "      <td>2018-09</td>\n",
       "      <td>466.0</td>\n",
       "      <td>58.0</td>\n",
       "      <td>57.0</td>\n",
       "      <td>14568.91</td>\n",
       "    </tr>\n",
       "  </tbody>\n",
       "</table>\n",
       "</div>"
      ],
      "text/plain": [
       "   user_id     date  duration_month  call_month  messages_month  mb_month\n",
       "0     1000  2018-05           159.0        22.0            22.0   2253.49\n",
       "1     1000  2018-06           172.0        43.0            60.0  23233.77\n",
       "2     1000  2018-07           340.0        47.0            75.0  14003.64\n",
       "3     1000  2018-08           408.0        52.0            81.0  14055.93\n",
       "4     1000  2018-09           466.0        58.0            57.0  14568.91"
      ]
     },
     "metadata": {},
     "output_type": "display_data"
    }
   ],
   "source": [
    "# соединим две таблицы по колонкам 'user_id'и'date' и сохраним в data_total_month\n",
    "data_total_month = data_duration_month.merge(data_call_month, on =['user_id','call_date'],how='outer')\n",
    "\n",
    "# переименуем колонки с датами в 'date' в остальных таблицах с сохранением изменений \n",
    "data_total_month.rename(columns={'call_date': 'date'}, inplace=True)\n",
    "data_messages_month.rename(columns={'message_date': 'date'},inplace=True)\n",
    "data_mb_month.rename(columns={'session_date': 'date'},inplace=True)\n",
    "\n",
    "\n",
    "# соединим две таблицы по колонкам 'user_id'и'date' и сохраним изменения\n",
    "data_total_month = data_total_month.merge(data_messages_month, on=['user_id','date'], how='outer')\n",
    "\n",
    "data_total_month = data_total_month.merge(data_mb_month, on=['user_id','date'], how='outer')\n",
    "# выведем на экран data_total_month\n",
    "display(data_total_month.head())"
   ]
  },
  {
   "cell_type": "code",
   "execution_count": 226,
   "id": "e340af00",
   "metadata": {},
   "outputs": [
    {
     "name": "stdout",
     "output_type": "stream",
     "text": [
      "<class 'pandas.core.frame.DataFrame'>\n",
      "Int64Index: 3214 entries, 0 to 3213\n",
      "Data columns (total 6 columns):\n",
      " #   Column          Non-Null Count  Dtype  \n",
      "---  ------          --------------  -----  \n",
      " 0   user_id         3214 non-null   int64  \n",
      " 1   date            3214 non-null   object \n",
      " 2   duration_month  3174 non-null   float64\n",
      " 3   call_month      3174 non-null   float64\n",
      " 4   messages_month  2717 non-null   float64\n",
      " 5   mb_month        3203 non-null   float64\n",
      "dtypes: float64(4), int64(1), object(1)\n",
      "memory usage: 175.8+ KB\n"
     ]
    }
   ],
   "source": [
    "# выведем обшую информацию data_total_month\n",
    "data_total_month.info()"
   ]
  },
  {
   "cell_type": "code",
   "execution_count": 227,
   "id": "dc415dd5",
   "metadata": {},
   "outputs": [
    {
     "name": "stdout",
     "output_type": "stream",
     "text": [
      "         duration_month  call_month  messages_month   mb_month\n",
      "user_id                                                       \n",
      "1000             2566.0       368.0           496.0  107392.31\n",
      "1001              844.0       122.0             0.0   32466.00\n",
      "1002             1517.0       217.0            70.0  116036.52\n",
      "1003             3822.0       520.0           380.0   57280.64\n",
      "1004              987.0       176.0          1192.0  149039.48\n"
     ]
    }
   ],
   "source": [
    "# сгруппируем data_total_month по колонке 'user_id' и выведем суммы за месяц\n",
    "print(data_total_month.groupby('user_id').sum().head())\n"
   ]
  },
  {
   "cell_type": "code",
   "execution_count": 228,
   "id": "26e2f37a",
   "metadata": {},
   "outputs": [
    {
     "data": {
      "text/html": [
       "<div>\n",
       "<style scoped>\n",
       "    .dataframe tbody tr th:only-of-type {\n",
       "        vertical-align: middle;\n",
       "    }\n",
       "\n",
       "    .dataframe tbody tr th {\n",
       "        vertical-align: top;\n",
       "    }\n",
       "\n",
       "    .dataframe thead th {\n",
       "        text-align: right;\n",
       "    }\n",
       "</style>\n",
       "<table border=\"1\" class=\"dataframe\">\n",
       "  <thead>\n",
       "    <tr style=\"text-align: right;\">\n",
       "      <th></th>\n",
       "      <th>user_id</th>\n",
       "      <th>city</th>\n",
       "      <th>tariff</th>\n",
       "      <th>date</th>\n",
       "      <th>duration_month</th>\n",
       "      <th>call_month</th>\n",
       "      <th>messages_month</th>\n",
       "      <th>mb_month</th>\n",
       "    </tr>\n",
       "  </thead>\n",
       "  <tbody>\n",
       "    <tr>\n",
       "      <th>0</th>\n",
       "      <td>1000</td>\n",
       "      <td>Краснодар</td>\n",
       "      <td>ultra</td>\n",
       "      <td>2018-05</td>\n",
       "      <td>159.0</td>\n",
       "      <td>22.0</td>\n",
       "      <td>22.0</td>\n",
       "      <td>2253.49</td>\n",
       "    </tr>\n",
       "    <tr>\n",
       "      <th>1</th>\n",
       "      <td>1000</td>\n",
       "      <td>Краснодар</td>\n",
       "      <td>ultra</td>\n",
       "      <td>2018-06</td>\n",
       "      <td>172.0</td>\n",
       "      <td>43.0</td>\n",
       "      <td>60.0</td>\n",
       "      <td>23233.77</td>\n",
       "    </tr>\n",
       "    <tr>\n",
       "      <th>2</th>\n",
       "      <td>1000</td>\n",
       "      <td>Краснодар</td>\n",
       "      <td>ultra</td>\n",
       "      <td>2018-07</td>\n",
       "      <td>340.0</td>\n",
       "      <td>47.0</td>\n",
       "      <td>75.0</td>\n",
       "      <td>14003.64</td>\n",
       "    </tr>\n",
       "    <tr>\n",
       "      <th>3</th>\n",
       "      <td>1000</td>\n",
       "      <td>Краснодар</td>\n",
       "      <td>ultra</td>\n",
       "      <td>2018-08</td>\n",
       "      <td>408.0</td>\n",
       "      <td>52.0</td>\n",
       "      <td>81.0</td>\n",
       "      <td>14055.93</td>\n",
       "    </tr>\n",
       "    <tr>\n",
       "      <th>4</th>\n",
       "      <td>1000</td>\n",
       "      <td>Краснодар</td>\n",
       "      <td>ultra</td>\n",
       "      <td>2018-09</td>\n",
       "      <td>466.0</td>\n",
       "      <td>58.0</td>\n",
       "      <td>57.0</td>\n",
       "      <td>14568.91</td>\n",
       "    </tr>\n",
       "  </tbody>\n",
       "</table>\n",
       "</div>"
      ],
      "text/plain": [
       "   user_id       city tariff     date  duration_month  call_month  \\\n",
       "0     1000  Краснодар  ultra  2018-05           159.0        22.0   \n",
       "1     1000  Краснодар  ultra  2018-06           172.0        43.0   \n",
       "2     1000  Краснодар  ultra  2018-07           340.0        47.0   \n",
       "3     1000  Краснодар  ultra  2018-08           408.0        52.0   \n",
       "4     1000  Краснодар  ultra  2018-09           466.0        58.0   \n",
       "\n",
       "   messages_month  mb_month  \n",
       "0            22.0   2253.49  \n",
       "1            60.0  23233.77  \n",
       "2            75.0  14003.64  \n",
       "3            81.0  14055.93  \n",
       "4            57.0  14568.91  "
      ]
     },
     "metadata": {},
     "output_type": "display_data"
    },
    {
     "name": "stdout",
     "output_type": "stream",
     "text": [
      "<class 'pandas.core.frame.DataFrame'>\n",
      "Int64Index: 3216 entries, 0 to 3215\n",
      "Data columns (total 8 columns):\n",
      " #   Column          Non-Null Count  Dtype  \n",
      "---  ------          --------------  -----  \n",
      " 0   user_id         3216 non-null   int64  \n",
      " 1   city            3216 non-null   object \n",
      " 2   tariff          3216 non-null   object \n",
      " 3   date            3214 non-null   object \n",
      " 4   duration_month  3174 non-null   float64\n",
      " 5   call_month      3174 non-null   float64\n",
      " 6   messages_month  2717 non-null   float64\n",
      " 7   mb_month        3203 non-null   float64\n",
      "dtypes: float64(4), int64(1), object(3)\n",
      "memory usage: 226.1+ KB\n"
     ]
    }
   ],
   "source": [
    "# присоединим к data_total_month  data_users_filtered по колонке 'user_id' соханим изменеия \n",
    "data_total_month = data_users_filtered.merge(data_total_month, on=['user_id'], how='left')\n",
    "# выведем первые 5 строк полученного массива\n",
    "display(data_total_month.head())\n",
    "# выведем общую информацию data_total_month\n",
    "data_total_month.info()\n"
   ]
  },
  {
   "cell_type": "code",
   "execution_count": 229,
   "id": "e0c8c984",
   "metadata": {},
   "outputs": [
    {
     "data": {
      "text/html": [
       "<div>\n",
       "<style scoped>\n",
       "    .dataframe tbody tr th:only-of-type {\n",
       "        vertical-align: middle;\n",
       "    }\n",
       "\n",
       "    .dataframe tbody tr th {\n",
       "        vertical-align: top;\n",
       "    }\n",
       "\n",
       "    .dataframe thead th {\n",
       "        text-align: right;\n",
       "    }\n",
       "</style>\n",
       "<table border=\"1\" class=\"dataframe\">\n",
       "  <thead>\n",
       "    <tr style=\"text-align: right;\">\n",
       "      <th></th>\n",
       "      <th>user_id</th>\n",
       "      <th>city</th>\n",
       "      <th>tariff</th>\n",
       "      <th>date</th>\n",
       "      <th>duration_month</th>\n",
       "      <th>call_month</th>\n",
       "      <th>messages_month</th>\n",
       "      <th>mb_month</th>\n",
       "      <th>messages_included</th>\n",
       "      <th>mb_per_month_included</th>\n",
       "      <th>minutes_included</th>\n",
       "      <th>rub_monthly_fee</th>\n",
       "      <th>rub_per_gb</th>\n",
       "      <th>rub_per_message</th>\n",
       "      <th>rub_per_minute</th>\n",
       "    </tr>\n",
       "  </thead>\n",
       "  <tbody>\n",
       "    <tr>\n",
       "      <th>0</th>\n",
       "      <td>1000</td>\n",
       "      <td>Краснодар</td>\n",
       "      <td>ultra</td>\n",
       "      <td>2018-05</td>\n",
       "      <td>159.0</td>\n",
       "      <td>22.0</td>\n",
       "      <td>22.0</td>\n",
       "      <td>2253.49</td>\n",
       "      <td>1000</td>\n",
       "      <td>30720</td>\n",
       "      <td>3000</td>\n",
       "      <td>1950</td>\n",
       "      <td>150</td>\n",
       "      <td>1</td>\n",
       "      <td>1</td>\n",
       "    </tr>\n",
       "    <tr>\n",
       "      <th>1</th>\n",
       "      <td>1000</td>\n",
       "      <td>Краснодар</td>\n",
       "      <td>ultra</td>\n",
       "      <td>2018-06</td>\n",
       "      <td>172.0</td>\n",
       "      <td>43.0</td>\n",
       "      <td>60.0</td>\n",
       "      <td>23233.77</td>\n",
       "      <td>1000</td>\n",
       "      <td>30720</td>\n",
       "      <td>3000</td>\n",
       "      <td>1950</td>\n",
       "      <td>150</td>\n",
       "      <td>1</td>\n",
       "      <td>1</td>\n",
       "    </tr>\n",
       "    <tr>\n",
       "      <th>2</th>\n",
       "      <td>1000</td>\n",
       "      <td>Краснодар</td>\n",
       "      <td>ultra</td>\n",
       "      <td>2018-07</td>\n",
       "      <td>340.0</td>\n",
       "      <td>47.0</td>\n",
       "      <td>75.0</td>\n",
       "      <td>14003.64</td>\n",
       "      <td>1000</td>\n",
       "      <td>30720</td>\n",
       "      <td>3000</td>\n",
       "      <td>1950</td>\n",
       "      <td>150</td>\n",
       "      <td>1</td>\n",
       "      <td>1</td>\n",
       "    </tr>\n",
       "    <tr>\n",
       "      <th>3</th>\n",
       "      <td>1000</td>\n",
       "      <td>Краснодар</td>\n",
       "      <td>ultra</td>\n",
       "      <td>2018-08</td>\n",
       "      <td>408.0</td>\n",
       "      <td>52.0</td>\n",
       "      <td>81.0</td>\n",
       "      <td>14055.93</td>\n",
       "      <td>1000</td>\n",
       "      <td>30720</td>\n",
       "      <td>3000</td>\n",
       "      <td>1950</td>\n",
       "      <td>150</td>\n",
       "      <td>1</td>\n",
       "      <td>1</td>\n",
       "    </tr>\n",
       "    <tr>\n",
       "      <th>4</th>\n",
       "      <td>1000</td>\n",
       "      <td>Краснодар</td>\n",
       "      <td>ultra</td>\n",
       "      <td>2018-09</td>\n",
       "      <td>466.0</td>\n",
       "      <td>58.0</td>\n",
       "      <td>57.0</td>\n",
       "      <td>14568.91</td>\n",
       "      <td>1000</td>\n",
       "      <td>30720</td>\n",
       "      <td>3000</td>\n",
       "      <td>1950</td>\n",
       "      <td>150</td>\n",
       "      <td>1</td>\n",
       "      <td>1</td>\n",
       "    </tr>\n",
       "  </tbody>\n",
       "</table>\n",
       "</div>"
      ],
      "text/plain": [
       "   user_id       city tariff     date  duration_month  call_month  \\\n",
       "0     1000  Краснодар  ultra  2018-05           159.0        22.0   \n",
       "1     1000  Краснодар  ultra  2018-06           172.0        43.0   \n",
       "2     1000  Краснодар  ultra  2018-07           340.0        47.0   \n",
       "3     1000  Краснодар  ultra  2018-08           408.0        52.0   \n",
       "4     1000  Краснодар  ultra  2018-09           466.0        58.0   \n",
       "\n",
       "   messages_month  mb_month  messages_included  mb_per_month_included  \\\n",
       "0            22.0   2253.49               1000                  30720   \n",
       "1            60.0  23233.77               1000                  30720   \n",
       "2            75.0  14003.64               1000                  30720   \n",
       "3            81.0  14055.93               1000                  30720   \n",
       "4            57.0  14568.91               1000                  30720   \n",
       "\n",
       "   minutes_included  rub_monthly_fee  rub_per_gb  rub_per_message  \\\n",
       "0              3000             1950         150                1   \n",
       "1              3000             1950         150                1   \n",
       "2              3000             1950         150                1   \n",
       "3              3000             1950         150                1   \n",
       "4              3000             1950         150                1   \n",
       "\n",
       "   rub_per_minute  \n",
       "0               1  \n",
       "1               1  \n",
       "2               1  \n",
       "3               1  \n",
       "4               1  "
      ]
     },
     "metadata": {},
     "output_type": "display_data"
    },
    {
     "name": "stdout",
     "output_type": "stream",
     "text": [
      "<class 'pandas.core.frame.DataFrame'>\n",
      "Int64Index: 3216 entries, 0 to 3215\n",
      "Data columns (total 15 columns):\n",
      " #   Column                 Non-Null Count  Dtype  \n",
      "---  ------                 --------------  -----  \n",
      " 0   user_id                3216 non-null   int64  \n",
      " 1   city                   3216 non-null   object \n",
      " 2   tariff                 3216 non-null   object \n",
      " 3   date                   3214 non-null   object \n",
      " 4   duration_month         3174 non-null   float64\n",
      " 5   call_month             3174 non-null   float64\n",
      " 6   messages_month         2717 non-null   float64\n",
      " 7   mb_month               3203 non-null   float64\n",
      " 8   messages_included      3216 non-null   int64  \n",
      " 9   mb_per_month_included  3216 non-null   int64  \n",
      " 10  minutes_included       3216 non-null   int64  \n",
      " 11  rub_monthly_fee        3216 non-null   int64  \n",
      " 12  rub_per_gb             3216 non-null   int64  \n",
      " 13  rub_per_message        3216 non-null   int64  \n",
      " 14  rub_per_minute         3216 non-null   int64  \n",
      "dtypes: float64(4), int64(8), object(3)\n",
      "memory usage: 402.0+ KB\n"
     ]
    }
   ],
   "source": [
    "# присоединим к data_total_month значения data_tariffs и сохраним изменения \n",
    "data_total_month = data_total_month.merge(data_tariffs,on=['tariff'], how='left')\n",
    "\n",
    "# выведем первые 5 строк data_total_month на экран\n",
    "display(data_total_month.head())\n",
    "\n",
    "# выведем общую информвцию по data_total_month на экран\n",
    "data_total_month.info()\n"
   ]
  },
  {
   "cell_type": "code",
   "execution_count": 230,
   "id": "666c467d",
   "metadata": {},
   "outputs": [
    {
     "data": {
      "text/html": [
       "<div>\n",
       "<style scoped>\n",
       "    .dataframe tbody tr th:only-of-type {\n",
       "        vertical-align: middle;\n",
       "    }\n",
       "\n",
       "    .dataframe tbody tr th {\n",
       "        vertical-align: top;\n",
       "    }\n",
       "\n",
       "    .dataframe thead th {\n",
       "        text-align: right;\n",
       "    }\n",
       "</style>\n",
       "<table border=\"1\" class=\"dataframe\">\n",
       "  <thead>\n",
       "    <tr style=\"text-align: right;\">\n",
       "      <th></th>\n",
       "      <th>user_id</th>\n",
       "      <th>city</th>\n",
       "      <th>tariff</th>\n",
       "      <th>date</th>\n",
       "      <th>duration_month</th>\n",
       "      <th>call_month</th>\n",
       "      <th>messages_month</th>\n",
       "      <th>mb_month</th>\n",
       "      <th>messages_included</th>\n",
       "      <th>mb_per_month_included</th>\n",
       "      <th>minutes_included</th>\n",
       "      <th>rub_monthly_fee</th>\n",
       "      <th>rub_per_gb</th>\n",
       "      <th>rub_per_message</th>\n",
       "      <th>rub_per_minute</th>\n",
       "    </tr>\n",
       "  </thead>\n",
       "  <tbody>\n",
       "    <tr>\n",
       "      <th>827</th>\n",
       "      <td>1128</td>\n",
       "      <td>Волжский</td>\n",
       "      <td>ultra</td>\n",
       "      <td>NaN</td>\n",
       "      <td>NaN</td>\n",
       "      <td>NaN</td>\n",
       "      <td>NaN</td>\n",
       "      <td>NaN</td>\n",
       "      <td>1000</td>\n",
       "      <td>30720</td>\n",
       "      <td>3000</td>\n",
       "      <td>1950</td>\n",
       "      <td>150</td>\n",
       "      <td>1</td>\n",
       "      <td>1</td>\n",
       "    </tr>\n",
       "    <tr>\n",
       "      <th>2335</th>\n",
       "      <td>1371</td>\n",
       "      <td>Омск</td>\n",
       "      <td>smart</td>\n",
       "      <td>NaN</td>\n",
       "      <td>NaN</td>\n",
       "      <td>NaN</td>\n",
       "      <td>NaN</td>\n",
       "      <td>NaN</td>\n",
       "      <td>50</td>\n",
       "      <td>15360</td>\n",
       "      <td>500</td>\n",
       "      <td>550</td>\n",
       "      <td>200</td>\n",
       "      <td>3</td>\n",
       "      <td>3</td>\n",
       "    </tr>\n",
       "  </tbody>\n",
       "</table>\n",
       "</div>"
      ],
      "text/plain": [
       "      user_id      city tariff date  duration_month  call_month  \\\n",
       "827      1128  Волжский  ultra  NaN             NaN         NaN   \n",
       "2335     1371      Омск  smart  NaN             NaN         NaN   \n",
       "\n",
       "      messages_month  mb_month  messages_included  mb_per_month_included  \\\n",
       "827              NaN       NaN               1000                  30720   \n",
       "2335             NaN       NaN                 50                  15360   \n",
       "\n",
       "      minutes_included  rub_monthly_fee  rub_per_gb  rub_per_message  \\\n",
       "827               3000             1950         150                1   \n",
       "2335               500              550         200                3   \n",
       "\n",
       "      rub_per_minute  \n",
       "827                1  \n",
       "2335               3  "
      ]
     },
     "execution_count": 230,
     "metadata": {},
     "output_type": "execute_result"
    }
   ],
   "source": [
    "# выведем строки с пропусками в колонке 'date'\n",
    "data_total_month[data_total_month['date'].isna()]"
   ]
  },
  {
   "cell_type": "code",
   "execution_count": 231,
   "id": "6b7e9801",
   "metadata": {
    "scrolled": true
   },
   "outputs": [
    {
     "data": {
      "text/html": [
       "<div>\n",
       "<style scoped>\n",
       "    .dataframe tbody tr th:only-of-type {\n",
       "        vertical-align: middle;\n",
       "    }\n",
       "\n",
       "    .dataframe tbody tr th {\n",
       "        vertical-align: top;\n",
       "    }\n",
       "\n",
       "    .dataframe thead th {\n",
       "        text-align: right;\n",
       "    }\n",
       "</style>\n",
       "<table border=\"1\" class=\"dataframe\">\n",
       "  <thead>\n",
       "    <tr style=\"text-align: right;\">\n",
       "      <th></th>\n",
       "      <th>user_id</th>\n",
       "      <th>age</th>\n",
       "      <th>churn_date</th>\n",
       "      <th>city</th>\n",
       "      <th>first_name</th>\n",
       "      <th>last_name</th>\n",
       "      <th>reg_date</th>\n",
       "      <th>tariff</th>\n",
       "    </tr>\n",
       "  </thead>\n",
       "  <tbody>\n",
       "    <tr>\n",
       "      <th>128</th>\n",
       "      <td>1128</td>\n",
       "      <td>51</td>\n",
       "      <td>2018-12-23</td>\n",
       "      <td>Волжский</td>\n",
       "      <td>Ксения</td>\n",
       "      <td>Агаева</td>\n",
       "      <td>2018-12-15</td>\n",
       "      <td>ultra</td>\n",
       "    </tr>\n",
       "  </tbody>\n",
       "</table>\n",
       "</div>"
      ],
      "text/plain": [
       "     user_id  age  churn_date      city first_name last_name    reg_date  \\\n",
       "128     1128   51  2018-12-23  Волжский     Ксения    Агаева  2018-12-15   \n",
       "\n",
       "    tariff  \n",
       "128  ultra  "
      ]
     },
     "metadata": {},
     "output_type": "display_data"
    },
    {
     "data": {
      "text/html": [
       "<div>\n",
       "<style scoped>\n",
       "    .dataframe tbody tr th:only-of-type {\n",
       "        vertical-align: middle;\n",
       "    }\n",
       "\n",
       "    .dataframe tbody tr th {\n",
       "        vertical-align: top;\n",
       "    }\n",
       "\n",
       "    .dataframe thead th {\n",
       "        text-align: right;\n",
       "    }\n",
       "</style>\n",
       "<table border=\"1\" class=\"dataframe\">\n",
       "  <thead>\n",
       "    <tr style=\"text-align: right;\">\n",
       "      <th></th>\n",
       "      <th>user_id</th>\n",
       "      <th>age</th>\n",
       "      <th>churn_date</th>\n",
       "      <th>city</th>\n",
       "      <th>first_name</th>\n",
       "      <th>last_name</th>\n",
       "      <th>reg_date</th>\n",
       "      <th>tariff</th>\n",
       "    </tr>\n",
       "  </thead>\n",
       "  <tbody>\n",
       "    <tr>\n",
       "      <th>371</th>\n",
       "      <td>1371</td>\n",
       "      <td>50</td>\n",
       "      <td>2018-12-30</td>\n",
       "      <td>Омск</td>\n",
       "      <td>Ириней</td>\n",
       "      <td>Трофимов</td>\n",
       "      <td>2018-12-25</td>\n",
       "      <td>smart</td>\n",
       "    </tr>\n",
       "  </tbody>\n",
       "</table>\n",
       "</div>"
      ],
      "text/plain": [
       "     user_id  age  churn_date  city first_name last_name    reg_date tariff\n",
       "371     1371   50  2018-12-30  Омск     Ириней  Трофимов  2018-12-25  smart"
      ]
     },
     "metadata": {},
     "output_type": "display_data"
    }
   ],
   "source": [
    "# посмотрим информацию о клиентах с пропусками в файле data_users\n",
    "display(data_users.query('user_id==1128'))\n",
    "display(data_users.query('user_id==1371'))"
   ]
  },
  {
   "cell_type": "code",
   "execution_count": 232,
   "id": "9de3369d",
   "metadata": {},
   "outputs": [],
   "source": [
    "#заменим пропуски в дате на декабрь\n",
    "data_total_month ['date']= data_total_month['date'].fillna(12)"
   ]
  },
  {
   "cell_type": "code",
   "execution_count": 52,
   "id": "d157cfc2",
   "metadata": {},
   "outputs": [
    {
     "data": {
      "text/html": [
       "<div>\n",
       "<style scoped>\n",
       "    .dataframe tbody tr th:only-of-type {\n",
       "        vertical-align: middle;\n",
       "    }\n",
       "\n",
       "    .dataframe tbody tr th {\n",
       "        vertical-align: top;\n",
       "    }\n",
       "\n",
       "    .dataframe thead th {\n",
       "        text-align: right;\n",
       "    }\n",
       "</style>\n",
       "<table border=\"1\" class=\"dataframe\">\n",
       "  <thead>\n",
       "    <tr style=\"text-align: right;\">\n",
       "      <th></th>\n",
       "      <th>user_id</th>\n",
       "      <th>age</th>\n",
       "      <th>churn_date</th>\n",
       "      <th>city</th>\n",
       "      <th>first_name</th>\n",
       "      <th>last_name</th>\n",
       "      <th>reg_date</th>\n",
       "      <th>tariff</th>\n",
       "    </tr>\n",
       "  </thead>\n",
       "  <tbody>\n",
       "    <tr>\n",
       "      <th>128</th>\n",
       "      <td>1128</td>\n",
       "      <td>51</td>\n",
       "      <td>2018-12-23</td>\n",
       "      <td>Волжский</td>\n",
       "      <td>Ксения</td>\n",
       "      <td>Агаева</td>\n",
       "      <td>2018-12-15</td>\n",
       "      <td>ultra</td>\n",
       "    </tr>\n",
       "  </tbody>\n",
       "</table>\n",
       "</div>"
      ],
      "text/plain": [
       "     user_id  age  churn_date      city first_name last_name    reg_date  \\\n",
       "128     1128   51  2018-12-23  Волжский     Ксения    Агаева  2018-12-15   \n",
       "\n",
       "    tariff  \n",
       "128  ultra  "
      ]
     },
     "metadata": {},
     "output_type": "display_data"
    },
    {
     "data": {
      "text/html": [
       "<div>\n",
       "<style scoped>\n",
       "    .dataframe tbody tr th:only-of-type {\n",
       "        vertical-align: middle;\n",
       "    }\n",
       "\n",
       "    .dataframe tbody tr th {\n",
       "        vertical-align: top;\n",
       "    }\n",
       "\n",
       "    .dataframe thead th {\n",
       "        text-align: right;\n",
       "    }\n",
       "</style>\n",
       "<table border=\"1\" class=\"dataframe\">\n",
       "  <thead>\n",
       "    <tr style=\"text-align: right;\">\n",
       "      <th></th>\n",
       "      <th>user_id</th>\n",
       "      <th>age</th>\n",
       "      <th>churn_date</th>\n",
       "      <th>city</th>\n",
       "      <th>first_name</th>\n",
       "      <th>last_name</th>\n",
       "      <th>reg_date</th>\n",
       "      <th>tariff</th>\n",
       "    </tr>\n",
       "  </thead>\n",
       "  <tbody>\n",
       "    <tr>\n",
       "      <th>371</th>\n",
       "      <td>1371</td>\n",
       "      <td>50</td>\n",
       "      <td>2018-12-30</td>\n",
       "      <td>Омск</td>\n",
       "      <td>Ириней</td>\n",
       "      <td>Трофимов</td>\n",
       "      <td>2018-12-25</td>\n",
       "      <td>smart</td>\n",
       "    </tr>\n",
       "  </tbody>\n",
       "</table>\n",
       "</div>"
      ],
      "text/plain": [
       "     user_id  age  churn_date  city first_name last_name    reg_date tariff\n",
       "371     1371   50  2018-12-30  Омск     Ириней  Трофимов  2018-12-25  smart"
      ]
     },
     "metadata": {},
     "output_type": "display_data"
    }
   ],
   "source": [
    "# посмотрим информацию о клиентах с пропусками в файле data_users\n",
    "display(data_users.query('user_id==1128'))\n",
    "display(data_users.query('user_id==1371'))"
   ]
  },
  {
   "cell_type": "code",
   "execution_count": 233,
   "id": "5494cd01",
   "metadata": {},
   "outputs": [
    {
     "data": {
      "text/html": [
       "<div>\n",
       "<style scoped>\n",
       "    .dataframe tbody tr th:only-of-type {\n",
       "        vertical-align: middle;\n",
       "    }\n",
       "\n",
       "    .dataframe tbody tr th {\n",
       "        vertical-align: top;\n",
       "    }\n",
       "\n",
       "    .dataframe thead th {\n",
       "        text-align: right;\n",
       "    }\n",
       "</style>\n",
       "<table border=\"1\" class=\"dataframe\">\n",
       "  <thead>\n",
       "    <tr style=\"text-align: right;\">\n",
       "      <th></th>\n",
       "      <th>user_id</th>\n",
       "      <th>city</th>\n",
       "      <th>tariff</th>\n",
       "      <th>date</th>\n",
       "      <th>duration_month</th>\n",
       "      <th>call_month</th>\n",
       "      <th>messages_month</th>\n",
       "      <th>mb_month</th>\n",
       "      <th>messages_included</th>\n",
       "      <th>mb_per_month_included</th>\n",
       "      <th>minutes_included</th>\n",
       "      <th>rub_monthly_fee</th>\n",
       "      <th>rub_per_gb</th>\n",
       "      <th>rub_per_message</th>\n",
       "      <th>rub_per_minute</th>\n",
       "    </tr>\n",
       "  </thead>\n",
       "  <tbody>\n",
       "  </tbody>\n",
       "</table>\n",
       "</div>"
      ],
      "text/plain": [
       "Empty DataFrame\n",
       "Columns: [user_id, city, tariff, date, duration_month, call_month, messages_month, mb_month, messages_included, mb_per_month_included, minutes_included, rub_monthly_fee, rub_per_gb, rub_per_message, rub_per_minute]\n",
       "Index: []"
      ]
     },
     "execution_count": 233,
     "metadata": {},
     "output_type": "execute_result"
    }
   ],
   "source": [
    "# выведем строки с пропусками в колонке 'date' для контроля\n",
    "data_total_month[data_total_month['date'].isna()]"
   ]
  },
  {
   "cell_type": "code",
   "execution_count": 234,
   "id": "e7277481",
   "metadata": {},
   "outputs": [],
   "source": [
    "#заменим остальные пропущенные значения на 0\n",
    "data_total_month = data_total_month.fillna(0)"
   ]
  },
  {
   "cell_type": "code",
   "execution_count": 182,
   "id": "47586471",
   "metadata": {},
   "outputs": [
    {
     "name": "stdout",
     "output_type": "stream",
     "text": [
      "<class 'pandas.core.frame.DataFrame'>\n",
      "Int64Index: 3216 entries, 0 to 3215\n",
      "Data columns (total 15 columns):\n",
      " #   Column                 Non-Null Count  Dtype  \n",
      "---  ------                 --------------  -----  \n",
      " 0   user_id                3216 non-null   int64  \n",
      " 1   city                   3216 non-null   object \n",
      " 2   tariff                 3216 non-null   object \n",
      " 3   date                   3216 non-null   object \n",
      " 4   duration_month         3216 non-null   float64\n",
      " 5   call_month             3216 non-null   float64\n",
      " 6   messages_month         3216 non-null   float64\n",
      " 7   mb_month               3216 non-null   float64\n",
      " 8   messages_included      3216 non-null   int64  \n",
      " 9   mb_per_month_included  3216 non-null   int64  \n",
      " 10  minutes_included       3216 non-null   int64  \n",
      " 11  rub_monthly_fee        3216 non-null   int64  \n",
      " 12  rub_per_gb             3216 non-null   int64  \n",
      " 13  rub_per_message        3216 non-null   int64  \n",
      " 14  rub_per_minute         3216 non-null   int64  \n",
      "dtypes: float64(4), int64(8), object(3)\n",
      "memory usage: 402.0+ KB\n"
     ]
    }
   ],
   "source": [
    "#  выведем общую информацию\n",
    "data_total_month.info()"
   ]
  },
  {
   "cell_type": "code",
   "execution_count": 235,
   "id": "a4a91fdc",
   "metadata": {},
   "outputs": [
    {
     "name": "stdout",
     "output_type": "stream",
     "text": [
      "12000.06\n"
     ]
    }
   ],
   "source": [
    "# напишем функцию для  подсчета выручки за разговоры с каждого пользователя\n",
    "\n",
    "def make_call_revenue(row):\n",
    "    duration_month = row['duration_month'] \n",
    "    minutes_included = row['minutes_included']\n",
    "    rub_per_minute = row['rub_per_minute']\n",
    "    call_revenue = 0\n",
    "    \n",
    "    \n",
    "    if duration_month >= minutes_included:\n",
    "        call_revenue += (duration_month - minutes_included) * rub_per_minute\n",
    "    return call_revenue\n",
    "    \n",
    "# проверим работу функции      \n",
    "\n",
    "row_values = [15000.06,3000,1]\n",
    "\n",
    "row_columns = ['duration_month', 'minutes_included','rub_per_minute']\n",
    "       \n",
    "        \n",
    "row = pd.Series(data=row_values, index=row_columns)         \n",
    "\n",
    "print(make_call_revenue(row)) \n",
    "\n",
    "\n"
   ]
  },
  {
   "cell_type": "code",
   "execution_count": 236,
   "id": "46fe79f1",
   "metadata": {},
   "outputs": [
    {
     "data": {
      "text/html": [
       "<div>\n",
       "<style scoped>\n",
       "    .dataframe tbody tr th:only-of-type {\n",
       "        vertical-align: middle;\n",
       "    }\n",
       "\n",
       "    .dataframe tbody tr th {\n",
       "        vertical-align: top;\n",
       "    }\n",
       "\n",
       "    .dataframe thead th {\n",
       "        text-align: right;\n",
       "    }\n",
       "</style>\n",
       "<table border=\"1\" class=\"dataframe\">\n",
       "  <thead>\n",
       "    <tr style=\"text-align: right;\">\n",
       "      <th></th>\n",
       "      <th>user_id</th>\n",
       "      <th>city</th>\n",
       "      <th>tariff</th>\n",
       "      <th>date</th>\n",
       "      <th>duration_month</th>\n",
       "      <th>call_month</th>\n",
       "      <th>messages_month</th>\n",
       "      <th>mb_month</th>\n",
       "      <th>messages_included</th>\n",
       "      <th>mb_per_month_included</th>\n",
       "      <th>minutes_included</th>\n",
       "      <th>rub_monthly_fee</th>\n",
       "      <th>rub_per_gb</th>\n",
       "      <th>rub_per_message</th>\n",
       "      <th>rub_per_minute</th>\n",
       "      <th>call_revenue</th>\n",
       "    </tr>\n",
       "  </thead>\n",
       "  <tbody>\n",
       "    <tr>\n",
       "      <th>0</th>\n",
       "      <td>1000</td>\n",
       "      <td>Краснодар</td>\n",
       "      <td>ultra</td>\n",
       "      <td>2018-05</td>\n",
       "      <td>159.0</td>\n",
       "      <td>22.0</td>\n",
       "      <td>22.0</td>\n",
       "      <td>2253.49</td>\n",
       "      <td>1000</td>\n",
       "      <td>30720</td>\n",
       "      <td>3000</td>\n",
       "      <td>1950</td>\n",
       "      <td>150</td>\n",
       "      <td>1</td>\n",
       "      <td>1</td>\n",
       "      <td>0.0</td>\n",
       "    </tr>\n",
       "    <tr>\n",
       "      <th>1</th>\n",
       "      <td>1000</td>\n",
       "      <td>Краснодар</td>\n",
       "      <td>ultra</td>\n",
       "      <td>2018-06</td>\n",
       "      <td>172.0</td>\n",
       "      <td>43.0</td>\n",
       "      <td>60.0</td>\n",
       "      <td>23233.77</td>\n",
       "      <td>1000</td>\n",
       "      <td>30720</td>\n",
       "      <td>3000</td>\n",
       "      <td>1950</td>\n",
       "      <td>150</td>\n",
       "      <td>1</td>\n",
       "      <td>1</td>\n",
       "      <td>0.0</td>\n",
       "    </tr>\n",
       "    <tr>\n",
       "      <th>2</th>\n",
       "      <td>1000</td>\n",
       "      <td>Краснодар</td>\n",
       "      <td>ultra</td>\n",
       "      <td>2018-07</td>\n",
       "      <td>340.0</td>\n",
       "      <td>47.0</td>\n",
       "      <td>75.0</td>\n",
       "      <td>14003.64</td>\n",
       "      <td>1000</td>\n",
       "      <td>30720</td>\n",
       "      <td>3000</td>\n",
       "      <td>1950</td>\n",
       "      <td>150</td>\n",
       "      <td>1</td>\n",
       "      <td>1</td>\n",
       "      <td>0.0</td>\n",
       "    </tr>\n",
       "    <tr>\n",
       "      <th>3</th>\n",
       "      <td>1000</td>\n",
       "      <td>Краснодар</td>\n",
       "      <td>ultra</td>\n",
       "      <td>2018-08</td>\n",
       "      <td>408.0</td>\n",
       "      <td>52.0</td>\n",
       "      <td>81.0</td>\n",
       "      <td>14055.93</td>\n",
       "      <td>1000</td>\n",
       "      <td>30720</td>\n",
       "      <td>3000</td>\n",
       "      <td>1950</td>\n",
       "      <td>150</td>\n",
       "      <td>1</td>\n",
       "      <td>1</td>\n",
       "      <td>0.0</td>\n",
       "    </tr>\n",
       "    <tr>\n",
       "      <th>4</th>\n",
       "      <td>1000</td>\n",
       "      <td>Краснодар</td>\n",
       "      <td>ultra</td>\n",
       "      <td>2018-09</td>\n",
       "      <td>466.0</td>\n",
       "      <td>58.0</td>\n",
       "      <td>57.0</td>\n",
       "      <td>14568.91</td>\n",
       "      <td>1000</td>\n",
       "      <td>30720</td>\n",
       "      <td>3000</td>\n",
       "      <td>1950</td>\n",
       "      <td>150</td>\n",
       "      <td>1</td>\n",
       "      <td>1</td>\n",
       "      <td>0.0</td>\n",
       "    </tr>\n",
       "  </tbody>\n",
       "</table>\n",
       "</div>"
      ],
      "text/plain": [
       "   user_id       city tariff     date  duration_month  call_month  \\\n",
       "0     1000  Краснодар  ultra  2018-05           159.0        22.0   \n",
       "1     1000  Краснодар  ultra  2018-06           172.0        43.0   \n",
       "2     1000  Краснодар  ultra  2018-07           340.0        47.0   \n",
       "3     1000  Краснодар  ultra  2018-08           408.0        52.0   \n",
       "4     1000  Краснодар  ultra  2018-09           466.0        58.0   \n",
       "\n",
       "   messages_month  mb_month  messages_included  mb_per_month_included  \\\n",
       "0            22.0   2253.49               1000                  30720   \n",
       "1            60.0  23233.77               1000                  30720   \n",
       "2            75.0  14003.64               1000                  30720   \n",
       "3            81.0  14055.93               1000                  30720   \n",
       "4            57.0  14568.91               1000                  30720   \n",
       "\n",
       "   minutes_included  rub_monthly_fee  rub_per_gb  rub_per_message  \\\n",
       "0              3000             1950         150                1   \n",
       "1              3000             1950         150                1   \n",
       "2              3000             1950         150                1   \n",
       "3              3000             1950         150                1   \n",
       "4              3000             1950         150                1   \n",
       "\n",
       "   rub_per_minute  call_revenue  \n",
       "0               1           0.0  \n",
       "1               1           0.0  \n",
       "2               1           0.0  \n",
       "3               1           0.0  \n",
       "4               1           0.0  "
      ]
     },
     "metadata": {},
     "output_type": "display_data"
    },
    {
     "data": {
      "text/html": [
       "<div>\n",
       "<style scoped>\n",
       "    .dataframe tbody tr th:only-of-type {\n",
       "        vertical-align: middle;\n",
       "    }\n",
       "\n",
       "    .dataframe tbody tr th {\n",
       "        vertical-align: top;\n",
       "    }\n",
       "\n",
       "    .dataframe thead th {\n",
       "        text-align: right;\n",
       "    }\n",
       "</style>\n",
       "<table border=\"1\" class=\"dataframe\">\n",
       "  <thead>\n",
       "    <tr style=\"text-align: right;\">\n",
       "      <th></th>\n",
       "      <th>user_id</th>\n",
       "      <th>city</th>\n",
       "      <th>tariff</th>\n",
       "      <th>date</th>\n",
       "      <th>duration_month</th>\n",
       "      <th>call_month</th>\n",
       "      <th>messages_month</th>\n",
       "      <th>mb_month</th>\n",
       "      <th>messages_included</th>\n",
       "      <th>mb_per_month_included</th>\n",
       "      <th>minutes_included</th>\n",
       "      <th>rub_monthly_fee</th>\n",
       "      <th>rub_per_gb</th>\n",
       "      <th>rub_per_message</th>\n",
       "      <th>rub_per_minute</th>\n",
       "      <th>call_revenue</th>\n",
       "    </tr>\n",
       "  </thead>\n",
       "  <tbody>\n",
       "    <tr>\n",
       "      <th>3211</th>\n",
       "      <td>1498</td>\n",
       "      <td>Владикавказ</td>\n",
       "      <td>smart</td>\n",
       "      <td>2018-10</td>\n",
       "      <td>247.0</td>\n",
       "      <td>41.0</td>\n",
       "      <td>42.0</td>\n",
       "      <td>20579.36</td>\n",
       "      <td>50</td>\n",
       "      <td>15360</td>\n",
       "      <td>500</td>\n",
       "      <td>550</td>\n",
       "      <td>200</td>\n",
       "      <td>3</td>\n",
       "      <td>3</td>\n",
       "      <td>0.0</td>\n",
       "    </tr>\n",
       "    <tr>\n",
       "      <th>3212</th>\n",
       "      <td>1499</td>\n",
       "      <td>Пермь</td>\n",
       "      <td>smart</td>\n",
       "      <td>2018-09</td>\n",
       "      <td>70.0</td>\n",
       "      <td>9.0</td>\n",
       "      <td>11.0</td>\n",
       "      <td>1845.75</td>\n",
       "      <td>50</td>\n",
       "      <td>15360</td>\n",
       "      <td>500</td>\n",
       "      <td>550</td>\n",
       "      <td>200</td>\n",
       "      <td>3</td>\n",
       "      <td>3</td>\n",
       "      <td>0.0</td>\n",
       "    </tr>\n",
       "    <tr>\n",
       "      <th>3213</th>\n",
       "      <td>1499</td>\n",
       "      <td>Пермь</td>\n",
       "      <td>smart</td>\n",
       "      <td>2018-10</td>\n",
       "      <td>449.0</td>\n",
       "      <td>68.0</td>\n",
       "      <td>48.0</td>\n",
       "      <td>17788.51</td>\n",
       "      <td>50</td>\n",
       "      <td>15360</td>\n",
       "      <td>500</td>\n",
       "      <td>550</td>\n",
       "      <td>200</td>\n",
       "      <td>3</td>\n",
       "      <td>3</td>\n",
       "      <td>0.0</td>\n",
       "    </tr>\n",
       "    <tr>\n",
       "      <th>3214</th>\n",
       "      <td>1499</td>\n",
       "      <td>Пермь</td>\n",
       "      <td>smart</td>\n",
       "      <td>2018-11</td>\n",
       "      <td>612.0</td>\n",
       "      <td>74.0</td>\n",
       "      <td>59.0</td>\n",
       "      <td>17963.31</td>\n",
       "      <td>50</td>\n",
       "      <td>15360</td>\n",
       "      <td>500</td>\n",
       "      <td>550</td>\n",
       "      <td>200</td>\n",
       "      <td>3</td>\n",
       "      <td>3</td>\n",
       "      <td>336.0</td>\n",
       "    </tr>\n",
       "    <tr>\n",
       "      <th>3215</th>\n",
       "      <td>1499</td>\n",
       "      <td>Пермь</td>\n",
       "      <td>smart</td>\n",
       "      <td>2018-12</td>\n",
       "      <td>492.0</td>\n",
       "      <td>69.0</td>\n",
       "      <td>66.0</td>\n",
       "      <td>13055.58</td>\n",
       "      <td>50</td>\n",
       "      <td>15360</td>\n",
       "      <td>500</td>\n",
       "      <td>550</td>\n",
       "      <td>200</td>\n",
       "      <td>3</td>\n",
       "      <td>3</td>\n",
       "      <td>0.0</td>\n",
       "    </tr>\n",
       "  </tbody>\n",
       "</table>\n",
       "</div>"
      ],
      "text/plain": [
       "      user_id         city tariff     date  duration_month  call_month  \\\n",
       "3211     1498  Владикавказ  smart  2018-10           247.0        41.0   \n",
       "3212     1499        Пермь  smart  2018-09            70.0         9.0   \n",
       "3213     1499        Пермь  smart  2018-10           449.0        68.0   \n",
       "3214     1499        Пермь  smart  2018-11           612.0        74.0   \n",
       "3215     1499        Пермь  smart  2018-12           492.0        69.0   \n",
       "\n",
       "      messages_month  mb_month  messages_included  mb_per_month_included  \\\n",
       "3211            42.0  20579.36                 50                  15360   \n",
       "3212            11.0   1845.75                 50                  15360   \n",
       "3213            48.0  17788.51                 50                  15360   \n",
       "3214            59.0  17963.31                 50                  15360   \n",
       "3215            66.0  13055.58                 50                  15360   \n",
       "\n",
       "      minutes_included  rub_monthly_fee  rub_per_gb  rub_per_message  \\\n",
       "3211               500              550         200                3   \n",
       "3212               500              550         200                3   \n",
       "3213               500              550         200                3   \n",
       "3214               500              550         200                3   \n",
       "3215               500              550         200                3   \n",
       "\n",
       "      rub_per_minute  call_revenue  \n",
       "3211               3           0.0  \n",
       "3212               3           0.0  \n",
       "3213               3           0.0  \n",
       "3214               3         336.0  \n",
       "3215               3           0.0  "
      ]
     },
     "metadata": {},
     "output_type": "display_data"
    }
   ],
   "source": [
    "# в колонке 'call_revenue' сохоаним результат  функции make_call_revenue\n",
    "data_total_month['call_revenue'] = data_total_month.apply(make_call_revenue,axis=1)\n",
    "# выведем на экран первые 5 строк data_total_month\n",
    "display(data_total_month.head())\n",
    "# выведем на экран последние 5 строк data_total_month\n",
    "display(data_total_month.tail())"
   ]
  },
  {
   "cell_type": "code",
   "execution_count": 237,
   "id": "9b82dce3",
   "metadata": {},
   "outputs": [
    {
     "name": "stdout",
     "output_type": "stream",
     "text": [
      "183\n"
     ]
    }
   ],
   "source": [
    "# напишем функцию для  подсчета выручки за сообщения с каждого пользователя\n",
    "\n",
    "def make_messagе_revenue(row):\n",
    "    messages_month = row['messages_month'] \n",
    "    messages_included = row['messages_included']\n",
    "    rub_per_message = row['rub_per_message']\n",
    "    messages_revenue = 0\n",
    "    \n",
    "    \n",
    "    if messages_month >= messages_included:\n",
    "        messages_revenue += (messages_month - messages_included) * rub_per_message\n",
    "    return messages_revenue\n",
    "    \n",
    "# проверим работу функции      \n",
    "\n",
    "row_values = [111,50,3]\n",
    "\n",
    "row_columns = ['messages_month', 'messages_included','rub_per_message']\n",
    "       \n",
    "        \n",
    "row = pd.Series(data=row_values, index=row_columns)         \n",
    "\n",
    "print(make_messagе_revenue(row)) \n",
    "\n"
   ]
  },
  {
   "cell_type": "code",
   "execution_count": 238,
   "id": "8ac0206a",
   "metadata": {},
   "outputs": [
    {
     "data": {
      "text/html": [
       "<div>\n",
       "<style scoped>\n",
       "    .dataframe tbody tr th:only-of-type {\n",
       "        vertical-align: middle;\n",
       "    }\n",
       "\n",
       "    .dataframe tbody tr th {\n",
       "        vertical-align: top;\n",
       "    }\n",
       "\n",
       "    .dataframe thead th {\n",
       "        text-align: right;\n",
       "    }\n",
       "</style>\n",
       "<table border=\"1\" class=\"dataframe\">\n",
       "  <thead>\n",
       "    <tr style=\"text-align: right;\">\n",
       "      <th></th>\n",
       "      <th>user_id</th>\n",
       "      <th>city</th>\n",
       "      <th>tariff</th>\n",
       "      <th>date</th>\n",
       "      <th>duration_month</th>\n",
       "      <th>call_month</th>\n",
       "      <th>messages_month</th>\n",
       "      <th>mb_month</th>\n",
       "      <th>messages_included</th>\n",
       "      <th>mb_per_month_included</th>\n",
       "      <th>minutes_included</th>\n",
       "      <th>rub_monthly_fee</th>\n",
       "      <th>rub_per_gb</th>\n",
       "      <th>rub_per_message</th>\n",
       "      <th>rub_per_minute</th>\n",
       "      <th>call_revenue</th>\n",
       "      <th>messagе_revenue</th>\n",
       "    </tr>\n",
       "  </thead>\n",
       "  <tbody>\n",
       "    <tr>\n",
       "      <th>0</th>\n",
       "      <td>1000</td>\n",
       "      <td>Краснодар</td>\n",
       "      <td>ultra</td>\n",
       "      <td>2018-05</td>\n",
       "      <td>159.0</td>\n",
       "      <td>22.0</td>\n",
       "      <td>22.0</td>\n",
       "      <td>2253.49</td>\n",
       "      <td>1000</td>\n",
       "      <td>30720</td>\n",
       "      <td>3000</td>\n",
       "      <td>1950</td>\n",
       "      <td>150</td>\n",
       "      <td>1</td>\n",
       "      <td>1</td>\n",
       "      <td>0.0</td>\n",
       "      <td>0.0</td>\n",
       "    </tr>\n",
       "    <tr>\n",
       "      <th>1</th>\n",
       "      <td>1000</td>\n",
       "      <td>Краснодар</td>\n",
       "      <td>ultra</td>\n",
       "      <td>2018-06</td>\n",
       "      <td>172.0</td>\n",
       "      <td>43.0</td>\n",
       "      <td>60.0</td>\n",
       "      <td>23233.77</td>\n",
       "      <td>1000</td>\n",
       "      <td>30720</td>\n",
       "      <td>3000</td>\n",
       "      <td>1950</td>\n",
       "      <td>150</td>\n",
       "      <td>1</td>\n",
       "      <td>1</td>\n",
       "      <td>0.0</td>\n",
       "      <td>0.0</td>\n",
       "    </tr>\n",
       "    <tr>\n",
       "      <th>2</th>\n",
       "      <td>1000</td>\n",
       "      <td>Краснодар</td>\n",
       "      <td>ultra</td>\n",
       "      <td>2018-07</td>\n",
       "      <td>340.0</td>\n",
       "      <td>47.0</td>\n",
       "      <td>75.0</td>\n",
       "      <td>14003.64</td>\n",
       "      <td>1000</td>\n",
       "      <td>30720</td>\n",
       "      <td>3000</td>\n",
       "      <td>1950</td>\n",
       "      <td>150</td>\n",
       "      <td>1</td>\n",
       "      <td>1</td>\n",
       "      <td>0.0</td>\n",
       "      <td>0.0</td>\n",
       "    </tr>\n",
       "    <tr>\n",
       "      <th>3</th>\n",
       "      <td>1000</td>\n",
       "      <td>Краснодар</td>\n",
       "      <td>ultra</td>\n",
       "      <td>2018-08</td>\n",
       "      <td>408.0</td>\n",
       "      <td>52.0</td>\n",
       "      <td>81.0</td>\n",
       "      <td>14055.93</td>\n",
       "      <td>1000</td>\n",
       "      <td>30720</td>\n",
       "      <td>3000</td>\n",
       "      <td>1950</td>\n",
       "      <td>150</td>\n",
       "      <td>1</td>\n",
       "      <td>1</td>\n",
       "      <td>0.0</td>\n",
       "      <td>0.0</td>\n",
       "    </tr>\n",
       "    <tr>\n",
       "      <th>4</th>\n",
       "      <td>1000</td>\n",
       "      <td>Краснодар</td>\n",
       "      <td>ultra</td>\n",
       "      <td>2018-09</td>\n",
       "      <td>466.0</td>\n",
       "      <td>58.0</td>\n",
       "      <td>57.0</td>\n",
       "      <td>14568.91</td>\n",
       "      <td>1000</td>\n",
       "      <td>30720</td>\n",
       "      <td>3000</td>\n",
       "      <td>1950</td>\n",
       "      <td>150</td>\n",
       "      <td>1</td>\n",
       "      <td>1</td>\n",
       "      <td>0.0</td>\n",
       "      <td>0.0</td>\n",
       "    </tr>\n",
       "  </tbody>\n",
       "</table>\n",
       "</div>"
      ],
      "text/plain": [
       "   user_id       city tariff     date  duration_month  call_month  \\\n",
       "0     1000  Краснодар  ultra  2018-05           159.0        22.0   \n",
       "1     1000  Краснодар  ultra  2018-06           172.0        43.0   \n",
       "2     1000  Краснодар  ultra  2018-07           340.0        47.0   \n",
       "3     1000  Краснодар  ultra  2018-08           408.0        52.0   \n",
       "4     1000  Краснодар  ultra  2018-09           466.0        58.0   \n",
       "\n",
       "   messages_month  mb_month  messages_included  mb_per_month_included  \\\n",
       "0            22.0   2253.49               1000                  30720   \n",
       "1            60.0  23233.77               1000                  30720   \n",
       "2            75.0  14003.64               1000                  30720   \n",
       "3            81.0  14055.93               1000                  30720   \n",
       "4            57.0  14568.91               1000                  30720   \n",
       "\n",
       "   minutes_included  rub_monthly_fee  rub_per_gb  rub_per_message  \\\n",
       "0              3000             1950         150                1   \n",
       "1              3000             1950         150                1   \n",
       "2              3000             1950         150                1   \n",
       "3              3000             1950         150                1   \n",
       "4              3000             1950         150                1   \n",
       "\n",
       "   rub_per_minute  call_revenue  messagе_revenue  \n",
       "0               1           0.0              0.0  \n",
       "1               1           0.0              0.0  \n",
       "2               1           0.0              0.0  \n",
       "3               1           0.0              0.0  \n",
       "4               1           0.0              0.0  "
      ]
     },
     "metadata": {},
     "output_type": "display_data"
    },
    {
     "data": {
      "text/html": [
       "<div>\n",
       "<style scoped>\n",
       "    .dataframe tbody tr th:only-of-type {\n",
       "        vertical-align: middle;\n",
       "    }\n",
       "\n",
       "    .dataframe tbody tr th {\n",
       "        vertical-align: top;\n",
       "    }\n",
       "\n",
       "    .dataframe thead th {\n",
       "        text-align: right;\n",
       "    }\n",
       "</style>\n",
       "<table border=\"1\" class=\"dataframe\">\n",
       "  <thead>\n",
       "    <tr style=\"text-align: right;\">\n",
       "      <th></th>\n",
       "      <th>user_id</th>\n",
       "      <th>city</th>\n",
       "      <th>tariff</th>\n",
       "      <th>date</th>\n",
       "      <th>duration_month</th>\n",
       "      <th>call_month</th>\n",
       "      <th>messages_month</th>\n",
       "      <th>mb_month</th>\n",
       "      <th>messages_included</th>\n",
       "      <th>mb_per_month_included</th>\n",
       "      <th>minutes_included</th>\n",
       "      <th>rub_monthly_fee</th>\n",
       "      <th>rub_per_gb</th>\n",
       "      <th>rub_per_message</th>\n",
       "      <th>rub_per_minute</th>\n",
       "      <th>call_revenue</th>\n",
       "      <th>messagе_revenue</th>\n",
       "    </tr>\n",
       "  </thead>\n",
       "  <tbody>\n",
       "    <tr>\n",
       "      <th>3211</th>\n",
       "      <td>1498</td>\n",
       "      <td>Владикавказ</td>\n",
       "      <td>smart</td>\n",
       "      <td>2018-10</td>\n",
       "      <td>247.0</td>\n",
       "      <td>41.0</td>\n",
       "      <td>42.0</td>\n",
       "      <td>20579.36</td>\n",
       "      <td>50</td>\n",
       "      <td>15360</td>\n",
       "      <td>500</td>\n",
       "      <td>550</td>\n",
       "      <td>200</td>\n",
       "      <td>3</td>\n",
       "      <td>3</td>\n",
       "      <td>0.0</td>\n",
       "      <td>0.0</td>\n",
       "    </tr>\n",
       "    <tr>\n",
       "      <th>3212</th>\n",
       "      <td>1499</td>\n",
       "      <td>Пермь</td>\n",
       "      <td>smart</td>\n",
       "      <td>2018-09</td>\n",
       "      <td>70.0</td>\n",
       "      <td>9.0</td>\n",
       "      <td>11.0</td>\n",
       "      <td>1845.75</td>\n",
       "      <td>50</td>\n",
       "      <td>15360</td>\n",
       "      <td>500</td>\n",
       "      <td>550</td>\n",
       "      <td>200</td>\n",
       "      <td>3</td>\n",
       "      <td>3</td>\n",
       "      <td>0.0</td>\n",
       "      <td>0.0</td>\n",
       "    </tr>\n",
       "    <tr>\n",
       "      <th>3213</th>\n",
       "      <td>1499</td>\n",
       "      <td>Пермь</td>\n",
       "      <td>smart</td>\n",
       "      <td>2018-10</td>\n",
       "      <td>449.0</td>\n",
       "      <td>68.0</td>\n",
       "      <td>48.0</td>\n",
       "      <td>17788.51</td>\n",
       "      <td>50</td>\n",
       "      <td>15360</td>\n",
       "      <td>500</td>\n",
       "      <td>550</td>\n",
       "      <td>200</td>\n",
       "      <td>3</td>\n",
       "      <td>3</td>\n",
       "      <td>0.0</td>\n",
       "      <td>0.0</td>\n",
       "    </tr>\n",
       "    <tr>\n",
       "      <th>3214</th>\n",
       "      <td>1499</td>\n",
       "      <td>Пермь</td>\n",
       "      <td>smart</td>\n",
       "      <td>2018-11</td>\n",
       "      <td>612.0</td>\n",
       "      <td>74.0</td>\n",
       "      <td>59.0</td>\n",
       "      <td>17963.31</td>\n",
       "      <td>50</td>\n",
       "      <td>15360</td>\n",
       "      <td>500</td>\n",
       "      <td>550</td>\n",
       "      <td>200</td>\n",
       "      <td>3</td>\n",
       "      <td>3</td>\n",
       "      <td>336.0</td>\n",
       "      <td>27.0</td>\n",
       "    </tr>\n",
       "    <tr>\n",
       "      <th>3215</th>\n",
       "      <td>1499</td>\n",
       "      <td>Пермь</td>\n",
       "      <td>smart</td>\n",
       "      <td>2018-12</td>\n",
       "      <td>492.0</td>\n",
       "      <td>69.0</td>\n",
       "      <td>66.0</td>\n",
       "      <td>13055.58</td>\n",
       "      <td>50</td>\n",
       "      <td>15360</td>\n",
       "      <td>500</td>\n",
       "      <td>550</td>\n",
       "      <td>200</td>\n",
       "      <td>3</td>\n",
       "      <td>3</td>\n",
       "      <td>0.0</td>\n",
       "      <td>48.0</td>\n",
       "    </tr>\n",
       "  </tbody>\n",
       "</table>\n",
       "</div>"
      ],
      "text/plain": [
       "      user_id         city tariff     date  duration_month  call_month  \\\n",
       "3211     1498  Владикавказ  smart  2018-10           247.0        41.0   \n",
       "3212     1499        Пермь  smart  2018-09            70.0         9.0   \n",
       "3213     1499        Пермь  smart  2018-10           449.0        68.0   \n",
       "3214     1499        Пермь  smart  2018-11           612.0        74.0   \n",
       "3215     1499        Пермь  smart  2018-12           492.0        69.0   \n",
       "\n",
       "      messages_month  mb_month  messages_included  mb_per_month_included  \\\n",
       "3211            42.0  20579.36                 50                  15360   \n",
       "3212            11.0   1845.75                 50                  15360   \n",
       "3213            48.0  17788.51                 50                  15360   \n",
       "3214            59.0  17963.31                 50                  15360   \n",
       "3215            66.0  13055.58                 50                  15360   \n",
       "\n",
       "      minutes_included  rub_monthly_fee  rub_per_gb  rub_per_message  \\\n",
       "3211               500              550         200                3   \n",
       "3212               500              550         200                3   \n",
       "3213               500              550         200                3   \n",
       "3214               500              550         200                3   \n",
       "3215               500              550         200                3   \n",
       "\n",
       "      rub_per_minute  call_revenue  messagе_revenue  \n",
       "3211               3           0.0              0.0  \n",
       "3212               3           0.0              0.0  \n",
       "3213               3           0.0              0.0  \n",
       "3214               3         336.0             27.0  \n",
       "3215               3           0.0             48.0  "
      ]
     },
     "metadata": {},
     "output_type": "display_data"
    }
   ],
   "source": [
    "# в колонке 'messagе_revenue' сохоаним результат  функции make_messagе_revenue\n",
    "data_total_month['messagе_revenue'] = data_total_month.apply(make_messagе_revenue,axis=1)\n",
    "# выведем на экран первые 5 строк data_total_month\n",
    "display(data_total_month.head())\n",
    "# выведем на экран последние 5 строк data_total_month\n",
    "display(data_total_month.tail())"
   ]
  },
  {
   "cell_type": "code",
   "execution_count": 239,
   "id": "ee52a4c0",
   "metadata": {},
   "outputs": [
    {
     "name": "stdout",
     "output_type": "stream",
     "text": [
      "600.0\n"
     ]
    }
   ],
   "source": [
    "# напишем функцию для  подсчета выручки за интернет с каждого пользователя\n",
    "\n",
    "def make_internet_revenue(row):\n",
    "    mb_month = row['mb_month'] \n",
    "    mb_per_month_included = row['mb_per_month_included']\n",
    "    rub_per_gb = row['rub_per_gb']\n",
    "    internet_revenue = 0\n",
    "    \n",
    "    \n",
    "    if mb_month >= mb_per_month_included:\n",
    "        internet_revenue += math.ceil((mb_month - mb_per_month_included)/1024) * rub_per_gb\n",
    "    return internet_revenue\n",
    "    \n",
    "# проверим работу функции      \n",
    "\n",
    "row_values = [17663.31,15360,200]\n",
    "\n",
    "row_columns = ['mb_month', 'mb_per_month_included','rub_per_gb']\n",
    "       \n",
    "        \n",
    "row = pd.Series(data=row_values, index=row_columns)         \n",
    "\n",
    "print(make_internet_revenue(row)) \n",
    "\n"
   ]
  },
  {
   "cell_type": "code",
   "execution_count": 240,
   "id": "71c64b93",
   "metadata": {},
   "outputs": [
    {
     "data": {
      "text/html": [
       "<div>\n",
       "<style scoped>\n",
       "    .dataframe tbody tr th:only-of-type {\n",
       "        vertical-align: middle;\n",
       "    }\n",
       "\n",
       "    .dataframe tbody tr th {\n",
       "        vertical-align: top;\n",
       "    }\n",
       "\n",
       "    .dataframe thead th {\n",
       "        text-align: right;\n",
       "    }\n",
       "</style>\n",
       "<table border=\"1\" class=\"dataframe\">\n",
       "  <thead>\n",
       "    <tr style=\"text-align: right;\">\n",
       "      <th></th>\n",
       "      <th>user_id</th>\n",
       "      <th>city</th>\n",
       "      <th>tariff</th>\n",
       "      <th>date</th>\n",
       "      <th>duration_month</th>\n",
       "      <th>call_month</th>\n",
       "      <th>messages_month</th>\n",
       "      <th>mb_month</th>\n",
       "      <th>messages_included</th>\n",
       "      <th>mb_per_month_included</th>\n",
       "      <th>minutes_included</th>\n",
       "      <th>rub_monthly_fee</th>\n",
       "      <th>rub_per_gb</th>\n",
       "      <th>rub_per_message</th>\n",
       "      <th>rub_per_minute</th>\n",
       "      <th>call_revenue</th>\n",
       "      <th>messagе_revenue</th>\n",
       "      <th>internet_revenue</th>\n",
       "    </tr>\n",
       "  </thead>\n",
       "  <tbody>\n",
       "    <tr>\n",
       "      <th>0</th>\n",
       "      <td>1000</td>\n",
       "      <td>Краснодар</td>\n",
       "      <td>ultra</td>\n",
       "      <td>2018-05</td>\n",
       "      <td>159.0</td>\n",
       "      <td>22.0</td>\n",
       "      <td>22.0</td>\n",
       "      <td>2253.49</td>\n",
       "      <td>1000</td>\n",
       "      <td>30720</td>\n",
       "      <td>3000</td>\n",
       "      <td>1950</td>\n",
       "      <td>150</td>\n",
       "      <td>1</td>\n",
       "      <td>1</td>\n",
       "      <td>0.0</td>\n",
       "      <td>0.0</td>\n",
       "      <td>0</td>\n",
       "    </tr>\n",
       "    <tr>\n",
       "      <th>1</th>\n",
       "      <td>1000</td>\n",
       "      <td>Краснодар</td>\n",
       "      <td>ultra</td>\n",
       "      <td>2018-06</td>\n",
       "      <td>172.0</td>\n",
       "      <td>43.0</td>\n",
       "      <td>60.0</td>\n",
       "      <td>23233.77</td>\n",
       "      <td>1000</td>\n",
       "      <td>30720</td>\n",
       "      <td>3000</td>\n",
       "      <td>1950</td>\n",
       "      <td>150</td>\n",
       "      <td>1</td>\n",
       "      <td>1</td>\n",
       "      <td>0.0</td>\n",
       "      <td>0.0</td>\n",
       "      <td>0</td>\n",
       "    </tr>\n",
       "    <tr>\n",
       "      <th>2</th>\n",
       "      <td>1000</td>\n",
       "      <td>Краснодар</td>\n",
       "      <td>ultra</td>\n",
       "      <td>2018-07</td>\n",
       "      <td>340.0</td>\n",
       "      <td>47.0</td>\n",
       "      <td>75.0</td>\n",
       "      <td>14003.64</td>\n",
       "      <td>1000</td>\n",
       "      <td>30720</td>\n",
       "      <td>3000</td>\n",
       "      <td>1950</td>\n",
       "      <td>150</td>\n",
       "      <td>1</td>\n",
       "      <td>1</td>\n",
       "      <td>0.0</td>\n",
       "      <td>0.0</td>\n",
       "      <td>0</td>\n",
       "    </tr>\n",
       "    <tr>\n",
       "      <th>3</th>\n",
       "      <td>1000</td>\n",
       "      <td>Краснодар</td>\n",
       "      <td>ultra</td>\n",
       "      <td>2018-08</td>\n",
       "      <td>408.0</td>\n",
       "      <td>52.0</td>\n",
       "      <td>81.0</td>\n",
       "      <td>14055.93</td>\n",
       "      <td>1000</td>\n",
       "      <td>30720</td>\n",
       "      <td>3000</td>\n",
       "      <td>1950</td>\n",
       "      <td>150</td>\n",
       "      <td>1</td>\n",
       "      <td>1</td>\n",
       "      <td>0.0</td>\n",
       "      <td>0.0</td>\n",
       "      <td>0</td>\n",
       "    </tr>\n",
       "    <tr>\n",
       "      <th>4</th>\n",
       "      <td>1000</td>\n",
       "      <td>Краснодар</td>\n",
       "      <td>ultra</td>\n",
       "      <td>2018-09</td>\n",
       "      <td>466.0</td>\n",
       "      <td>58.0</td>\n",
       "      <td>57.0</td>\n",
       "      <td>14568.91</td>\n",
       "      <td>1000</td>\n",
       "      <td>30720</td>\n",
       "      <td>3000</td>\n",
       "      <td>1950</td>\n",
       "      <td>150</td>\n",
       "      <td>1</td>\n",
       "      <td>1</td>\n",
       "      <td>0.0</td>\n",
       "      <td>0.0</td>\n",
       "      <td>0</td>\n",
       "    </tr>\n",
       "  </tbody>\n",
       "</table>\n",
       "</div>"
      ],
      "text/plain": [
       "   user_id       city tariff     date  duration_month  call_month  \\\n",
       "0     1000  Краснодар  ultra  2018-05           159.0        22.0   \n",
       "1     1000  Краснодар  ultra  2018-06           172.0        43.0   \n",
       "2     1000  Краснодар  ultra  2018-07           340.0        47.0   \n",
       "3     1000  Краснодар  ultra  2018-08           408.0        52.0   \n",
       "4     1000  Краснодар  ultra  2018-09           466.0        58.0   \n",
       "\n",
       "   messages_month  mb_month  messages_included  mb_per_month_included  \\\n",
       "0            22.0   2253.49               1000                  30720   \n",
       "1            60.0  23233.77               1000                  30720   \n",
       "2            75.0  14003.64               1000                  30720   \n",
       "3            81.0  14055.93               1000                  30720   \n",
       "4            57.0  14568.91               1000                  30720   \n",
       "\n",
       "   minutes_included  rub_monthly_fee  rub_per_gb  rub_per_message  \\\n",
       "0              3000             1950         150                1   \n",
       "1              3000             1950         150                1   \n",
       "2              3000             1950         150                1   \n",
       "3              3000             1950         150                1   \n",
       "4              3000             1950         150                1   \n",
       "\n",
       "   rub_per_minute  call_revenue  messagе_revenue  internet_revenue  \n",
       "0               1           0.0              0.0                 0  \n",
       "1               1           0.0              0.0                 0  \n",
       "2               1           0.0              0.0                 0  \n",
       "3               1           0.0              0.0                 0  \n",
       "4               1           0.0              0.0                 0  "
      ]
     },
     "metadata": {},
     "output_type": "display_data"
    },
    {
     "name": "stdout",
     "output_type": "stream",
     "text": [
      "<class 'pandas.core.frame.DataFrame'>\n",
      "Int64Index: 3216 entries, 0 to 3215\n",
      "Data columns (total 18 columns):\n",
      " #   Column                 Non-Null Count  Dtype  \n",
      "---  ------                 --------------  -----  \n",
      " 0   user_id                3216 non-null   int64  \n",
      " 1   city                   3216 non-null   object \n",
      " 2   tariff                 3216 non-null   object \n",
      " 3   date                   3216 non-null   object \n",
      " 4   duration_month         3216 non-null   float64\n",
      " 5   call_month             3216 non-null   float64\n",
      " 6   messages_month         3216 non-null   float64\n",
      " 7   mb_month               3216 non-null   float64\n",
      " 8   messages_included      3216 non-null   int64  \n",
      " 9   mb_per_month_included  3216 non-null   int64  \n",
      " 10  minutes_included       3216 non-null   int64  \n",
      " 11  rub_monthly_fee        3216 non-null   int64  \n",
      " 12  rub_per_gb             3216 non-null   int64  \n",
      " 13  rub_per_message        3216 non-null   int64  \n",
      " 14  rub_per_minute         3216 non-null   int64  \n",
      " 15  call_revenue           3216 non-null   float64\n",
      " 16  messagе_revenue        3216 non-null   float64\n",
      " 17  internet_revenue       3216 non-null   int64  \n",
      "dtypes: float64(6), int64(9), object(3)\n",
      "memory usage: 477.4+ KB\n"
     ]
    }
   ],
   "source": [
    "# в колонке 'internet_revenue' сохраним результат  функции make_internet_revenue\n",
    "data_total_month['internet_revenue'] = data_total_month.apply(make_internet_revenue,axis=1)\n",
    "# выведем на экран первые 5 строк data_total_month\n",
    "display(data_total_month.head())\n",
    "# выведем на экран последние 5 строк data_total_month\n",
    "data_total_month.info()"
   ]
  },
  {
   "cell_type": "code",
   "execution_count": 241,
   "id": "1fc28898",
   "metadata": {},
   "outputs": [
    {
     "name": "stdout",
     "output_type": "stream",
     "text": [
      "<class 'pandas.core.frame.DataFrame'>\n",
      "Int64Index: 3216 entries, 0 to 3215\n",
      "Data columns (total 18 columns):\n",
      " #   Column                 Non-Null Count  Dtype  \n",
      "---  ------                 --------------  -----  \n",
      " 0   user_id                3216 non-null   int64  \n",
      " 1   city                   3216 non-null   object \n",
      " 2   tariff                 3216 non-null   object \n",
      " 3   date                   3216 non-null   object \n",
      " 4   duration_month         3216 non-null   int64  \n",
      " 5   call_month             3216 non-null   float64\n",
      " 6   messages_month         3216 non-null   int64  \n",
      " 7   mb_month               3216 non-null   int64  \n",
      " 8   messages_included      3216 non-null   int64  \n",
      " 9   mb_per_month_included  3216 non-null   int64  \n",
      " 10  minutes_included       3216 non-null   int64  \n",
      " 11  rub_monthly_fee        3216 non-null   int64  \n",
      " 12  rub_per_gb             3216 non-null   int64  \n",
      " 13  rub_per_message        3216 non-null   int64  \n",
      " 14  rub_per_minute         3216 non-null   int64  \n",
      " 15  call_revenue           3216 non-null   int64  \n",
      " 16  messagе_revenue        3216 non-null   int64  \n",
      " 17  internet_revenue       3216 non-null   int64  \n",
      "dtypes: float64(1), int64(14), object(3)\n",
      "memory usage: 477.4+ KB\n"
     ]
    }
   ],
   "source": [
    "# выведем количество пропусков в колонке 'messages_month'\n",
    "data_total_month.isnull().sum() \n",
    "\n",
    "# заменим пропуски в колонке 'messages_month' на 0\n",
    "# data_total_month.fillna(0,inplace = True)\n",
    "\n",
    "# приведём данные колонок 'call_revenue' и 'messagе_revenue' к целочисленному типу\n",
    "data_total_month = data_total_month.astype({'call_revenue':'int64',\n",
    "                                            'messagе_revenue':'int64',\n",
    "                                            'duration_month':'int64',\n",
    "                                           'messages_month':'int64',\n",
    "                                           'mb_month':'int64'})\n",
    "\n",
    "# # выведем на экран первые 5 строк data_total_month\n",
    "data_total_month.info()"
   ]
  },
  {
   "cell_type": "code",
   "execution_count": 242,
   "id": "0cf3da5c",
   "metadata": {},
   "outputs": [
    {
     "data": {
      "text/html": [
       "<div>\n",
       "<style scoped>\n",
       "    .dataframe tbody tr th:only-of-type {\n",
       "        vertical-align: middle;\n",
       "    }\n",
       "\n",
       "    .dataframe tbody tr th {\n",
       "        vertical-align: top;\n",
       "    }\n",
       "\n",
       "    .dataframe thead th {\n",
       "        text-align: right;\n",
       "    }\n",
       "</style>\n",
       "<table border=\"1\" class=\"dataframe\">\n",
       "  <thead>\n",
       "    <tr style=\"text-align: right;\">\n",
       "      <th></th>\n",
       "      <th>user_id</th>\n",
       "      <th>city</th>\n",
       "      <th>tariff</th>\n",
       "      <th>date</th>\n",
       "      <th>duration_month</th>\n",
       "      <th>call_month</th>\n",
       "      <th>messages_month</th>\n",
       "      <th>mb_month</th>\n",
       "      <th>messages_included</th>\n",
       "      <th>mb_per_month_included</th>\n",
       "      <th>minutes_included</th>\n",
       "      <th>rub_monthly_fee</th>\n",
       "      <th>rub_per_gb</th>\n",
       "      <th>rub_per_message</th>\n",
       "      <th>rub_per_minute</th>\n",
       "      <th>call_revenue</th>\n",
       "      <th>messagе_revenue</th>\n",
       "      <th>internet_revenue</th>\n",
       "      <th>revenue</th>\n",
       "    </tr>\n",
       "  </thead>\n",
       "  <tbody>\n",
       "    <tr>\n",
       "      <th>0</th>\n",
       "      <td>1000</td>\n",
       "      <td>Краснодар</td>\n",
       "      <td>ultra</td>\n",
       "      <td>2018-05</td>\n",
       "      <td>159</td>\n",
       "      <td>22.0</td>\n",
       "      <td>22</td>\n",
       "      <td>2253</td>\n",
       "      <td>1000</td>\n",
       "      <td>30720</td>\n",
       "      <td>3000</td>\n",
       "      <td>1950</td>\n",
       "      <td>150</td>\n",
       "      <td>1</td>\n",
       "      <td>1</td>\n",
       "      <td>0</td>\n",
       "      <td>0</td>\n",
       "      <td>0</td>\n",
       "      <td>1950</td>\n",
       "    </tr>\n",
       "    <tr>\n",
       "      <th>1</th>\n",
       "      <td>1000</td>\n",
       "      <td>Краснодар</td>\n",
       "      <td>ultra</td>\n",
       "      <td>2018-06</td>\n",
       "      <td>172</td>\n",
       "      <td>43.0</td>\n",
       "      <td>60</td>\n",
       "      <td>23233</td>\n",
       "      <td>1000</td>\n",
       "      <td>30720</td>\n",
       "      <td>3000</td>\n",
       "      <td>1950</td>\n",
       "      <td>150</td>\n",
       "      <td>1</td>\n",
       "      <td>1</td>\n",
       "      <td>0</td>\n",
       "      <td>0</td>\n",
       "      <td>0</td>\n",
       "      <td>1950</td>\n",
       "    </tr>\n",
       "    <tr>\n",
       "      <th>2</th>\n",
       "      <td>1000</td>\n",
       "      <td>Краснодар</td>\n",
       "      <td>ultra</td>\n",
       "      <td>2018-07</td>\n",
       "      <td>340</td>\n",
       "      <td>47.0</td>\n",
       "      <td>75</td>\n",
       "      <td>14003</td>\n",
       "      <td>1000</td>\n",
       "      <td>30720</td>\n",
       "      <td>3000</td>\n",
       "      <td>1950</td>\n",
       "      <td>150</td>\n",
       "      <td>1</td>\n",
       "      <td>1</td>\n",
       "      <td>0</td>\n",
       "      <td>0</td>\n",
       "      <td>0</td>\n",
       "      <td>1950</td>\n",
       "    </tr>\n",
       "    <tr>\n",
       "      <th>3</th>\n",
       "      <td>1000</td>\n",
       "      <td>Краснодар</td>\n",
       "      <td>ultra</td>\n",
       "      <td>2018-08</td>\n",
       "      <td>408</td>\n",
       "      <td>52.0</td>\n",
       "      <td>81</td>\n",
       "      <td>14055</td>\n",
       "      <td>1000</td>\n",
       "      <td>30720</td>\n",
       "      <td>3000</td>\n",
       "      <td>1950</td>\n",
       "      <td>150</td>\n",
       "      <td>1</td>\n",
       "      <td>1</td>\n",
       "      <td>0</td>\n",
       "      <td>0</td>\n",
       "      <td>0</td>\n",
       "      <td>1950</td>\n",
       "    </tr>\n",
       "    <tr>\n",
       "      <th>4</th>\n",
       "      <td>1000</td>\n",
       "      <td>Краснодар</td>\n",
       "      <td>ultra</td>\n",
       "      <td>2018-09</td>\n",
       "      <td>466</td>\n",
       "      <td>58.0</td>\n",
       "      <td>57</td>\n",
       "      <td>14568</td>\n",
       "      <td>1000</td>\n",
       "      <td>30720</td>\n",
       "      <td>3000</td>\n",
       "      <td>1950</td>\n",
       "      <td>150</td>\n",
       "      <td>1</td>\n",
       "      <td>1</td>\n",
       "      <td>0</td>\n",
       "      <td>0</td>\n",
       "      <td>0</td>\n",
       "      <td>1950</td>\n",
       "    </tr>\n",
       "  </tbody>\n",
       "</table>\n",
       "</div>"
      ],
      "text/plain": [
       "   user_id       city tariff     date  duration_month  call_month  \\\n",
       "0     1000  Краснодар  ultra  2018-05             159        22.0   \n",
       "1     1000  Краснодар  ultra  2018-06             172        43.0   \n",
       "2     1000  Краснодар  ultra  2018-07             340        47.0   \n",
       "3     1000  Краснодар  ultra  2018-08             408        52.0   \n",
       "4     1000  Краснодар  ultra  2018-09             466        58.0   \n",
       "\n",
       "   messages_month  mb_month  messages_included  mb_per_month_included  \\\n",
       "0              22      2253               1000                  30720   \n",
       "1              60     23233               1000                  30720   \n",
       "2              75     14003               1000                  30720   \n",
       "3              81     14055               1000                  30720   \n",
       "4              57     14568               1000                  30720   \n",
       "\n",
       "   minutes_included  rub_monthly_fee  rub_per_gb  rub_per_message  \\\n",
       "0              3000             1950         150                1   \n",
       "1              3000             1950         150                1   \n",
       "2              3000             1950         150                1   \n",
       "3              3000             1950         150                1   \n",
       "4              3000             1950         150                1   \n",
       "\n",
       "   rub_per_minute  call_revenue  messagе_revenue  internet_revenue  revenue  \n",
       "0               1             0                0                 0     1950  \n",
       "1               1             0                0                 0     1950  \n",
       "2               1             0                0                 0     1950  \n",
       "3               1             0                0                 0     1950  \n",
       "4               1             0                0                 0     1950  "
      ]
     },
     "metadata": {},
     "output_type": "display_data"
    }
   ],
   "source": [
    "# в колонке 'revenue' сохраним сумму выручки\n",
    "data_total_month['revenue'] = data_total_month['rub_monthly_fee'] + data_total_month['call_revenue'] + data_total_month['messagе_revenue'] + data_total_month['internet_revenue']\n",
    "# выведем первые 5 строк data_total_month на экран\n",
    "display(data_total_month.head())"
   ]
  },
  {
   "cell_type": "markdown",
   "id": "abb7fbef",
   "metadata": {},
   "source": [
    "# Анализ полученных данных"
   ]
  },
  {
   "cell_type": "markdown",
   "id": "2a115b06",
   "metadata": {},
   "source": [
    "## Разделим данные в соответствие с тарифом."
   ]
  },
  {
   "cell_type": "code",
   "execution_count": 245,
   "id": "c55cd346",
   "metadata": {},
   "outputs": [
    {
     "data": {
      "text/html": [
       "<div>\n",
       "<style scoped>\n",
       "    .dataframe tbody tr th:only-of-type {\n",
       "        vertical-align: middle;\n",
       "    }\n",
       "\n",
       "    .dataframe tbody tr th {\n",
       "        vertical-align: top;\n",
       "    }\n",
       "\n",
       "    .dataframe thead th {\n",
       "        text-align: right;\n",
       "    }\n",
       "</style>\n",
       "<table border=\"1\" class=\"dataframe\">\n",
       "  <thead>\n",
       "    <tr style=\"text-align: right;\">\n",
       "      <th></th>\n",
       "      <th>user_id</th>\n",
       "      <th>city</th>\n",
       "      <th>tariff</th>\n",
       "      <th>date</th>\n",
       "      <th>duration_month</th>\n",
       "      <th>call_month</th>\n",
       "      <th>messages_month</th>\n",
       "      <th>mb_month</th>\n",
       "      <th>messages_included</th>\n",
       "      <th>mb_per_month_included</th>\n",
       "      <th>minutes_included</th>\n",
       "      <th>rub_monthly_fee</th>\n",
       "      <th>rub_per_gb</th>\n",
       "      <th>rub_per_message</th>\n",
       "      <th>rub_per_minute</th>\n",
       "      <th>call_revenue</th>\n",
       "      <th>messagе_revenue</th>\n",
       "      <th>internet_revenue</th>\n",
       "      <th>revenue</th>\n",
       "    </tr>\n",
       "  </thead>\n",
       "  <tbody>\n",
       "    <tr>\n",
       "      <th>8</th>\n",
       "      <td>1001</td>\n",
       "      <td>Москва</td>\n",
       "      <td>smart</td>\n",
       "      <td>2018-11</td>\n",
       "      <td>430</td>\n",
       "      <td>59.0</td>\n",
       "      <td>0</td>\n",
       "      <td>18429</td>\n",
       "      <td>50</td>\n",
       "      <td>15360</td>\n",
       "      <td>500</td>\n",
       "      <td>550</td>\n",
       "      <td>200</td>\n",
       "      <td>3</td>\n",
       "      <td>3</td>\n",
       "      <td>0</td>\n",
       "      <td>0</td>\n",
       "      <td>600</td>\n",
       "      <td>1150</td>\n",
       "    </tr>\n",
       "    <tr>\n",
       "      <th>9</th>\n",
       "      <td>1001</td>\n",
       "      <td>Москва</td>\n",
       "      <td>smart</td>\n",
       "      <td>2018-12</td>\n",
       "      <td>414</td>\n",
       "      <td>63.0</td>\n",
       "      <td>0</td>\n",
       "      <td>14036</td>\n",
       "      <td>50</td>\n",
       "      <td>15360</td>\n",
       "      <td>500</td>\n",
       "      <td>550</td>\n",
       "      <td>200</td>\n",
       "      <td>3</td>\n",
       "      <td>3</td>\n",
       "      <td>0</td>\n",
       "      <td>0</td>\n",
       "      <td>0</td>\n",
       "      <td>550</td>\n",
       "    </tr>\n",
       "    <tr>\n",
       "      <th>10</th>\n",
       "      <td>1002</td>\n",
       "      <td>Стерлитамак</td>\n",
       "      <td>smart</td>\n",
       "      <td>2018-06</td>\n",
       "      <td>117</td>\n",
       "      <td>15.0</td>\n",
       "      <td>4</td>\n",
       "      <td>10856</td>\n",
       "      <td>50</td>\n",
       "      <td>15360</td>\n",
       "      <td>500</td>\n",
       "      <td>550</td>\n",
       "      <td>200</td>\n",
       "      <td>3</td>\n",
       "      <td>3</td>\n",
       "      <td>0</td>\n",
       "      <td>0</td>\n",
       "      <td>0</td>\n",
       "      <td>550</td>\n",
       "    </tr>\n",
       "    <tr>\n",
       "      <th>11</th>\n",
       "      <td>1002</td>\n",
       "      <td>Стерлитамак</td>\n",
       "      <td>smart</td>\n",
       "      <td>2018-07</td>\n",
       "      <td>214</td>\n",
       "      <td>26.0</td>\n",
       "      <td>11</td>\n",
       "      <td>17580</td>\n",
       "      <td>50</td>\n",
       "      <td>15360</td>\n",
       "      <td>500</td>\n",
       "      <td>550</td>\n",
       "      <td>200</td>\n",
       "      <td>3</td>\n",
       "      <td>3</td>\n",
       "      <td>0</td>\n",
       "      <td>0</td>\n",
       "      <td>600</td>\n",
       "      <td>1150</td>\n",
       "    </tr>\n",
       "    <tr>\n",
       "      <th>12</th>\n",
       "      <td>1002</td>\n",
       "      <td>Стерлитамак</td>\n",
       "      <td>smart</td>\n",
       "      <td>2018-08</td>\n",
       "      <td>289</td>\n",
       "      <td>42.0</td>\n",
       "      <td>13</td>\n",
       "      <td>20319</td>\n",
       "      <td>50</td>\n",
       "      <td>15360</td>\n",
       "      <td>500</td>\n",
       "      <td>550</td>\n",
       "      <td>200</td>\n",
       "      <td>3</td>\n",
       "      <td>3</td>\n",
       "      <td>0</td>\n",
       "      <td>0</td>\n",
       "      <td>1000</td>\n",
       "      <td>1550</td>\n",
       "    </tr>\n",
       "  </tbody>\n",
       "</table>\n",
       "</div>"
      ],
      "text/plain": [
       "    user_id         city tariff     date  duration_month  call_month  \\\n",
       "8      1001       Москва  smart  2018-11             430        59.0   \n",
       "9      1001       Москва  smart  2018-12             414        63.0   \n",
       "10     1002  Стерлитамак  smart  2018-06             117        15.0   \n",
       "11     1002  Стерлитамак  smart  2018-07             214        26.0   \n",
       "12     1002  Стерлитамак  smart  2018-08             289        42.0   \n",
       "\n",
       "    messages_month  mb_month  messages_included  mb_per_month_included  \\\n",
       "8                0     18429                 50                  15360   \n",
       "9                0     14036                 50                  15360   \n",
       "10               4     10856                 50                  15360   \n",
       "11              11     17580                 50                  15360   \n",
       "12              13     20319                 50                  15360   \n",
       "\n",
       "    minutes_included  rub_monthly_fee  rub_per_gb  rub_per_message  \\\n",
       "8                500              550         200                3   \n",
       "9                500              550         200                3   \n",
       "10               500              550         200                3   \n",
       "11               500              550         200                3   \n",
       "12               500              550         200                3   \n",
       "\n",
       "    rub_per_minute  call_revenue  messagе_revenue  internet_revenue  revenue  \n",
       "8                3             0                0               600     1150  \n",
       "9                3             0                0                 0      550  \n",
       "10               3             0                0                 0      550  \n",
       "11               3             0                0               600     1150  \n",
       "12               3             0                0              1000     1550  "
      ]
     },
     "metadata": {},
     "output_type": "display_data"
    },
    {
     "name": "stdout",
     "output_type": "stream",
     "text": [
      "<class 'pandas.core.frame.DataFrame'>\n",
      "Int64Index: 2230 entries, 8 to 3215\n",
      "Data columns (total 19 columns):\n",
      " #   Column                 Non-Null Count  Dtype  \n",
      "---  ------                 --------------  -----  \n",
      " 0   user_id                2230 non-null   int64  \n",
      " 1   city                   2230 non-null   object \n",
      " 2   tariff                 2230 non-null   object \n",
      " 3   date                   2230 non-null   object \n",
      " 4   duration_month         2230 non-null   int64  \n",
      " 5   call_month             2230 non-null   float64\n",
      " 6   messages_month         2230 non-null   int64  \n",
      " 7   mb_month               2230 non-null   int64  \n",
      " 8   messages_included      2230 non-null   int64  \n",
      " 9   mb_per_month_included  2230 non-null   int64  \n",
      " 10  minutes_included       2230 non-null   int64  \n",
      " 11  rub_monthly_fee        2230 non-null   int64  \n",
      " 12  rub_per_gb             2230 non-null   int64  \n",
      " 13  rub_per_message        2230 non-null   int64  \n",
      " 14  rub_per_minute         2230 non-null   int64  \n",
      " 15  call_revenue           2230 non-null   int64  \n",
      " 16  messagе_revenue        2230 non-null   int64  \n",
      " 17  internet_revenue       2230 non-null   int64  \n",
      " 18  revenue                2230 non-null   int64  \n",
      "dtypes: float64(1), int64(15), object(3)\n",
      "memory usage: 348.4+ KB\n"
     ]
    }
   ],
   "source": [
    "#сохраним в переменную data_total_month_smart  всех клиентов тарифа smart\n",
    "data_total_month_smart = data_total_month.loc[data_total_month['tariff']=='smart']\n",
    "# выведем первые 5 строк на экран\n",
    "display(data_total_month_smart.head())\n",
    "# выведем общую информацию на экран\n",
    "data_total_month_smart.info()"
   ]
  },
  {
   "cell_type": "code",
   "execution_count": 246,
   "id": "24323c0d",
   "metadata": {},
   "outputs": [
    {
     "data": {
      "text/html": [
       "<div>\n",
       "<style scoped>\n",
       "    .dataframe tbody tr th:only-of-type {\n",
       "        vertical-align: middle;\n",
       "    }\n",
       "\n",
       "    .dataframe tbody tr th {\n",
       "        vertical-align: top;\n",
       "    }\n",
       "\n",
       "    .dataframe thead th {\n",
       "        text-align: right;\n",
       "    }\n",
       "</style>\n",
       "<table border=\"1\" class=\"dataframe\">\n",
       "  <thead>\n",
       "    <tr style=\"text-align: right;\">\n",
       "      <th></th>\n",
       "      <th>user_id</th>\n",
       "      <th>city</th>\n",
       "      <th>tariff</th>\n",
       "      <th>date</th>\n",
       "      <th>duration_month</th>\n",
       "      <th>call_month</th>\n",
       "      <th>messages_month</th>\n",
       "      <th>mb_month</th>\n",
       "      <th>messages_included</th>\n",
       "      <th>mb_per_month_included</th>\n",
       "      <th>minutes_included</th>\n",
       "      <th>rub_monthly_fee</th>\n",
       "      <th>rub_per_gb</th>\n",
       "      <th>rub_per_message</th>\n",
       "      <th>rub_per_minute</th>\n",
       "      <th>call_revenue</th>\n",
       "      <th>messagе_revenue</th>\n",
       "      <th>internet_revenue</th>\n",
       "      <th>revenue</th>\n",
       "    </tr>\n",
       "  </thead>\n",
       "  <tbody>\n",
       "    <tr>\n",
       "      <th>0</th>\n",
       "      <td>1000</td>\n",
       "      <td>Краснодар</td>\n",
       "      <td>ultra</td>\n",
       "      <td>2018-05</td>\n",
       "      <td>159</td>\n",
       "      <td>22.0</td>\n",
       "      <td>22</td>\n",
       "      <td>2253</td>\n",
       "      <td>1000</td>\n",
       "      <td>30720</td>\n",
       "      <td>3000</td>\n",
       "      <td>1950</td>\n",
       "      <td>150</td>\n",
       "      <td>1</td>\n",
       "      <td>1</td>\n",
       "      <td>0</td>\n",
       "      <td>0</td>\n",
       "      <td>0</td>\n",
       "      <td>1950</td>\n",
       "    </tr>\n",
       "    <tr>\n",
       "      <th>1</th>\n",
       "      <td>1000</td>\n",
       "      <td>Краснодар</td>\n",
       "      <td>ultra</td>\n",
       "      <td>2018-06</td>\n",
       "      <td>172</td>\n",
       "      <td>43.0</td>\n",
       "      <td>60</td>\n",
       "      <td>23233</td>\n",
       "      <td>1000</td>\n",
       "      <td>30720</td>\n",
       "      <td>3000</td>\n",
       "      <td>1950</td>\n",
       "      <td>150</td>\n",
       "      <td>1</td>\n",
       "      <td>1</td>\n",
       "      <td>0</td>\n",
       "      <td>0</td>\n",
       "      <td>0</td>\n",
       "      <td>1950</td>\n",
       "    </tr>\n",
       "    <tr>\n",
       "      <th>2</th>\n",
       "      <td>1000</td>\n",
       "      <td>Краснодар</td>\n",
       "      <td>ultra</td>\n",
       "      <td>2018-07</td>\n",
       "      <td>340</td>\n",
       "      <td>47.0</td>\n",
       "      <td>75</td>\n",
       "      <td>14003</td>\n",
       "      <td>1000</td>\n",
       "      <td>30720</td>\n",
       "      <td>3000</td>\n",
       "      <td>1950</td>\n",
       "      <td>150</td>\n",
       "      <td>1</td>\n",
       "      <td>1</td>\n",
       "      <td>0</td>\n",
       "      <td>0</td>\n",
       "      <td>0</td>\n",
       "      <td>1950</td>\n",
       "    </tr>\n",
       "    <tr>\n",
       "      <th>3</th>\n",
       "      <td>1000</td>\n",
       "      <td>Краснодар</td>\n",
       "      <td>ultra</td>\n",
       "      <td>2018-08</td>\n",
       "      <td>408</td>\n",
       "      <td>52.0</td>\n",
       "      <td>81</td>\n",
       "      <td>14055</td>\n",
       "      <td>1000</td>\n",
       "      <td>30720</td>\n",
       "      <td>3000</td>\n",
       "      <td>1950</td>\n",
       "      <td>150</td>\n",
       "      <td>1</td>\n",
       "      <td>1</td>\n",
       "      <td>0</td>\n",
       "      <td>0</td>\n",
       "      <td>0</td>\n",
       "      <td>1950</td>\n",
       "    </tr>\n",
       "    <tr>\n",
       "      <th>4</th>\n",
       "      <td>1000</td>\n",
       "      <td>Краснодар</td>\n",
       "      <td>ultra</td>\n",
       "      <td>2018-09</td>\n",
       "      <td>466</td>\n",
       "      <td>58.0</td>\n",
       "      <td>57</td>\n",
       "      <td>14568</td>\n",
       "      <td>1000</td>\n",
       "      <td>30720</td>\n",
       "      <td>3000</td>\n",
       "      <td>1950</td>\n",
       "      <td>150</td>\n",
       "      <td>1</td>\n",
       "      <td>1</td>\n",
       "      <td>0</td>\n",
       "      <td>0</td>\n",
       "      <td>0</td>\n",
       "      <td>1950</td>\n",
       "    </tr>\n",
       "  </tbody>\n",
       "</table>\n",
       "</div>"
      ],
      "text/plain": [
       "   user_id       city tariff     date  duration_month  call_month  \\\n",
       "0     1000  Краснодар  ultra  2018-05             159        22.0   \n",
       "1     1000  Краснодар  ultra  2018-06             172        43.0   \n",
       "2     1000  Краснодар  ultra  2018-07             340        47.0   \n",
       "3     1000  Краснодар  ultra  2018-08             408        52.0   \n",
       "4     1000  Краснодар  ultra  2018-09             466        58.0   \n",
       "\n",
       "   messages_month  mb_month  messages_included  mb_per_month_included  \\\n",
       "0              22      2253               1000                  30720   \n",
       "1              60     23233               1000                  30720   \n",
       "2              75     14003               1000                  30720   \n",
       "3              81     14055               1000                  30720   \n",
       "4              57     14568               1000                  30720   \n",
       "\n",
       "   minutes_included  rub_monthly_fee  rub_per_gb  rub_per_message  \\\n",
       "0              3000             1950         150                1   \n",
       "1              3000             1950         150                1   \n",
       "2              3000             1950         150                1   \n",
       "3              3000             1950         150                1   \n",
       "4              3000             1950         150                1   \n",
       "\n",
       "   rub_per_minute  call_revenue  messagе_revenue  internet_revenue  revenue  \n",
       "0               1             0                0                 0     1950  \n",
       "1               1             0                0                 0     1950  \n",
       "2               1             0                0                 0     1950  \n",
       "3               1             0                0                 0     1950  \n",
       "4               1             0                0                 0     1950  "
      ]
     },
     "metadata": {},
     "output_type": "display_data"
    },
    {
     "name": "stdout",
     "output_type": "stream",
     "text": [
      "<class 'pandas.core.frame.DataFrame'>\n",
      "Int64Index: 986 entries, 0 to 3192\n",
      "Data columns (total 19 columns):\n",
      " #   Column                 Non-Null Count  Dtype  \n",
      "---  ------                 --------------  -----  \n",
      " 0   user_id                986 non-null    int64  \n",
      " 1   city                   986 non-null    object \n",
      " 2   tariff                 986 non-null    object \n",
      " 3   date                   986 non-null    object \n",
      " 4   duration_month         986 non-null    int64  \n",
      " 5   call_month             986 non-null    float64\n",
      " 6   messages_month         986 non-null    int64  \n",
      " 7   mb_month               986 non-null    int64  \n",
      " 8   messages_included      986 non-null    int64  \n",
      " 9   mb_per_month_included  986 non-null    int64  \n",
      " 10  minutes_included       986 non-null    int64  \n",
      " 11  rub_monthly_fee        986 non-null    int64  \n",
      " 12  rub_per_gb             986 non-null    int64  \n",
      " 13  rub_per_message        986 non-null    int64  \n",
      " 14  rub_per_minute         986 non-null    int64  \n",
      " 15  call_revenue           986 non-null    int64  \n",
      " 16  messagе_revenue        986 non-null    int64  \n",
      " 17  internet_revenue       986 non-null    int64  \n",
      " 18  revenue                986 non-null    int64  \n",
      "dtypes: float64(1), int64(15), object(3)\n",
      "memory usage: 154.1+ KB\n"
     ]
    }
   ],
   "source": [
    "# сохраним в переменную data_total_month_ultra  всех клиентов тарифа ultra\n",
    "data_total_month_ultra = data_total_month.loc[data_total_month['tariff']=='ultra']\n",
    "# выведем первые 5 строк data_total_month_ultra на экран\n",
    "display(data_total_month_ultra.head())\n",
    "# выведем общую информацию data_total_month_ultra\n",
    "data_total_month_ultra.info()"
   ]
  },
  {
   "cell_type": "markdown",
   "id": "ca6ea6d3",
   "metadata": {},
   "source": [
    "## Анализ поведения пользователей. Сколько минут разговора, сколько сообщений и какой объём интернет-трафика требуется пользователям каждого тарифа в месяц."
   ]
  },
  {
   "cell_type": "markdown",
   "id": "55fc0df2",
   "metadata": {},
   "source": [
    "### Сравнительный анализ минут разговора"
   ]
  },
  {
   "cell_type": "code",
   "execution_count": 105,
   "id": "1a015e7f",
   "metadata": {},
   "outputs": [
    {
     "name": "stdout",
     "output_type": "stream",
     "text": [
      "count    2229.000000\n",
      "mean      417.611934\n",
      "std       190.411806\n",
      "min         0.000000\n",
      "25%       282.000000\n",
      "50%       421.000000\n",
      "75%       545.000000\n",
      "max      1435.000000\n",
      "Name: duration_month, dtype: float64\n"
     ]
    },
    {
     "data": {
      "image/png": "[encoded data removed]",
      "text/plain": [
       "<Figure size 432x288 with 1 Axes>"
      ]
     },
     "metadata": {
      "needs_background": "light"
     },
     "output_type": "display_data"
    }
   ],
   "source": [
    "# выведем на экран информацию об основных показателях data_total_month_smart\n",
    "print(data_total_month_smart['duration_month'].describe()) \n",
    "# построим гистограмму data_smart_duration\n",
    "data_total_month_smart['duration_month'].hist(bins=100, range=(0, 1435)); \n",
    "plt.title(\"Тариф смарт длительность разговоров в месяц\")\n",
    "plt.xlabel(\"длительность разговоров в месяц\")\n",
    "plt.ylabel(\"количество\")\n",
    "plt.show()"
   ]
  },
  {
   "cell_type": "code",
   "execution_count": 248,
   "id": "b8a62e4d",
   "metadata": {},
   "outputs": [
    {
     "name": "stdout",
     "output_type": "stream",
     "text": [
      "Среднее значение: 417.747533632287\n",
      "Стандартное отклонение: 190.4340414765959\n",
      "Дисперсия составляет: 36265.12415310985\n",
      "Количество минут разговоров: 989.0496580620747\n"
     ]
    }
   ],
   "source": [
    "# посчитаем среднее значение, стандартное отклонение и дисперсию длительности звонков пользователей тарифа smart\n",
    "print('Среднее значение:',data_total_month_smart['duration_month'].mean())\n",
    "\n",
    "print('Стандартное отклонение:',np.std(data_total_month_smart['duration_month']))\n",
    "\n",
    "print('Дисперсия составляет:',np.var(data_total_month_smart['duration_month']))\n",
    "\n",
    "print('Количество минут разговоров:',data_total_month_smart['duration_month'].mean()+3*np.std(data_total_month_smart['duration_month']))"
   ]
  },
  {
   "cell_type": "code",
   "execution_count": 249,
   "id": "4d07b344",
   "metadata": {},
   "outputs": [
    {
     "name": "stdout",
     "output_type": "stream",
     "text": [
      "count     986.000000\n",
      "mean      526.089249\n",
      "std       317.887549\n",
      "min         0.000000\n",
      "25%       282.500000\n",
      "50%       518.000000\n",
      "75%       751.750000\n",
      "max      1673.000000\n",
      "Name: duration_month, dtype: float64\n"
     ]
    },
    {
     "data": {
      "image/png": "[encoded data removed]",
      "text/plain": [
       "<Figure size 432x288 with 1 Axes>"
      ]
     },
     "metadata": {
      "needs_background": "light"
     },
     "output_type": "display_data"
    }
   ],
   "source": [
    "# выведем на экран информацию об основных показателях data_total_month_ultra\n",
    "print(data_total_month_ultra['duration_month'].describe()) \n",
    "# построим гистограмму data_total_month_ultra['duration_month']\n",
    "data_total_month_ultra['duration_month'].hist(bins=100, range=(0, 1680)) \n",
    "plt.title(\"Тариф ультра длительность разговоров в месяц\")\n",
    "plt.xlabel(\"длительность разговоров в месяц\")\n",
    "plt.ylabel(\"количество\")\n",
    "plt.show()"
   ]
  },
  {
   "cell_type": "code",
   "execution_count": 250,
   "id": "e25de5c5",
   "metadata": {},
   "outputs": [
    {
     "name": "stdout",
     "output_type": "stream",
     "text": [
      "Среднее значение: 526.0892494929006\n",
      "Стандартное отклонение: 317.72630711559117\n",
      "Дисперсия составляет: 100950.00623331097\n",
      "Количество минут разговоров: 1479.268170839674\n"
     ]
    }
   ],
   "source": [
    "# посчитаем среднее значение, стандартное отклонение и дисперсию длительности звонков пользователей тарифа ultra\n",
    "print('Среднее значение:',data_total_month_ultra['duration_month'].mean())\n",
    "\n",
    "print('Стандартное отклонение:',np.std(data_total_month_ultra['duration_month']))\n",
    "\n",
    "print('Дисперсия составляет:',np.var(data_total_month_ultra['duration_month']))\n",
    "\n",
    "print('Количество минут разговоров:',data_total_month_ultra['duration_month'].mean()+3*np.std(data_total_month_ultra['duration_month']))"
   ]
  },
  {
   "cell_type": "code",
   "execution_count": 251,
   "id": "dd1bf843",
   "metadata": {},
   "outputs": [
    {
     "data": {
      "image/png": "[encoded data removed]",
      "text/plain": [
       "<Figure size 432x288 with 1 Axes>"
      ]
     },
     "metadata": {
      "needs_background": "light"
     },
     "output_type": "display_data"
    }
   ],
   "source": [
    "# построим две гистограммы 'duration_month' по тарифам 'smart' и 'ultra' на одном графике \n",
    "ax = data_total_month_smart['duration_month'].plot(\n",
    "    kind='hist',\n",
    "    y='duration_month',\n",
    "    histtype='step',\n",
    "    range=(0, 1680),\n",
    "    bins=50,\n",
    "    linewidth=5,\n",
    "    alpha=0.7,\n",
    "    label='smart',\n",
    "    legend=True\n",
    ")\n",
    "data_total_month_ultra['duration_month'].plot(\n",
    "    kind='hist',\n",
    "    y='duration_month',\n",
    "    histtype='step',\n",
    "    range=(0, 1680),\n",
    "    bins=50,\n",
    "    linewidth=5,\n",
    "    alpha=0.7,\n",
    "    label='ultra',\n",
    "    ax=ax,\n",
    "    grid=True,\n",
    "    legend=True,\n",
    ") \n",
    "plt.title('Графики duration_month по тарифам smart и ultra')\n",
    "plt.show()"
   ]
  },
  {
   "cell_type": "markdown",
   "id": "fec54f4b",
   "metadata": {},
   "source": [
    "* Среднее значение duration_month среди ползователей тарифа smart составляет 417.7, стандарное отклонение-190.4, посчитаем дисперсию-36265. Количество минут разговоров пользователей тарифа смарт найдем по правилу 3 сигм: mean+3*std = 989 минут.  \n",
    "\n",
    "* Среднее значение duration_month среди ползователей тарифа ultra составляет 526, стандарное отклонение-317.7, посчитаем дисперсию-100950. Количество минут разговоров пользователей тарифа ультра найдем по правилу 3 сигм: mean+3*std = 1479.2 минут.\n",
    "\n",
    "\n",
    "Пользователи тарифа СМАРТ используют в среднем почти в 2 раза больше минут разговоров сверх тарифа, тогда как пользователи тарифа УЛЬТРА в среднем  не используют и половины лимита включенного в тариф. Цена 1 минуты разговора в тарифе СМАРТ - 3 руб., а цена 1 минуты разгорора в тарифе УЛЬТРА - 1 руб."
   ]
  },
  {
   "cell_type": "markdown",
   "id": "834d968f",
   "metadata": {},
   "source": [
    "### Сравнительный анализ количества сообщений в тарифах."
   ]
  },
  {
   "cell_type": "code",
   "execution_count": 253,
   "id": "8cb8db4c",
   "metadata": {
    "scrolled": true
   },
   "outputs": [
    {
     "name": "stdout",
     "output_type": "stream",
     "text": [
      "count    2230.000000\n",
      "mean       33.369058\n",
      "std        28.230396\n",
      "min         0.000000\n",
      "25%        10.000000\n",
      "50%        28.000000\n",
      "75%        51.000000\n",
      "max       143.000000\n",
      "Name: messages_month, dtype: float64\n"
     ]
    },
    {
     "data": {
      "image/png": "[encoded data removed]",
      "text/plain": [
       "<Figure size 432x288 with 1 Axes>"
      ]
     },
     "metadata": {
      "needs_background": "light"
     },
     "output_type": "display_data"
    }
   ],
   "source": [
    "# выведем на экран информацию об основных показателях data_total_month_smart['messages_month']\n",
    "print(data_total_month_smart['messages_month'].describe()) \n",
    "# построим гистограмму data_total_month_smart['messages_month']\n",
    "data_total_month_smart['messages_month'].hist(bins=100, range=(0, 150)); \n",
    "plt.title(\"Тариф смарт количество сообщений в месяц\")\n",
    "plt.xlabel(\"Количество сообщений в месяц\")\n",
    "plt.ylabel(\"количество\")\n",
    "plt.show()"
   ]
  },
  {
   "cell_type": "code",
   "execution_count": 254,
   "id": "dfb2c247",
   "metadata": {},
   "outputs": [
    {
     "name": "stdout",
     "output_type": "stream",
     "text": [
      "Среднее значение: 33.36905829596412\n",
      "Стандартное отклонение количества сообщений тарифа smart: 28.224065559229217\n",
      "Дисперсия количества сообщений тарифа smart: 796.5978766916688\n",
      "Количество сообщений: 118.04125497365177\n"
     ]
    }
   ],
   "source": [
    "# посчитаем среднее значение,стандартное отклонение и дисперсию количества сообщений пользователей тарифа smart\n",
    "print('Среднее значение:',data_total_month_smart['messages_month'].mean())\n",
    "\n",
    "print('Стандартное отклонение количества сообщений тарифа smart:',np.std(data_total_month_smart['messages_month']))\n",
    "\n",
    "print('Дисперсия количества сообщений тарифа smart:',np.var(data_total_month_smart['messages_month']))\n",
    "\n",
    "print('Количество сообщений:',data_total_month_smart['messages_month'].mean()+3*np.std(data_total_month_smart['messages_month']))"
   ]
  },
  {
   "cell_type": "code",
   "execution_count": 255,
   "id": "f6038833",
   "metadata": {},
   "outputs": [
    {
     "name": "stdout",
     "output_type": "stream",
     "text": [
      "count    986.000000\n",
      "mean      49.313387\n",
      "std       47.806040\n",
      "min        0.000000\n",
      "25%        6.000000\n",
      "50%       38.000000\n",
      "75%       78.750000\n",
      "max      224.000000\n",
      "Name: messages_month, dtype: float64\n"
     ]
    },
    {
     "data": {
      "image/png": "[encoded data removed]",
      "text/plain": [
       "<Figure size 432x288 with 1 Axes>"
      ]
     },
     "metadata": {
      "needs_background": "light"
     },
     "output_type": "display_data"
    }
   ],
   "source": [
    "# выведем на экран информацию об основных показателях data_total_month_ultra['messages_month']\n",
    "print(data_total_month_ultra['messages_month'].describe()) \n",
    "# построим гистограмму data_total_month_ultra\n",
    "data_total_month_ultra['messages_month'].hist(bins=100, range=(0, 225)); \n",
    "plt.title(\"Тариф ультра количество сообщений в месяц\")\n",
    "plt.xlabel(\"Количество сообщений в месяц\")\n",
    "plt.ylabel(\"количество\")\n",
    "\n",
    "\n",
    "plt.show()"
   ]
  },
  {
   "cell_type": "code",
   "execution_count": 256,
   "id": "643dba9c",
   "metadata": {},
   "outputs": [
    {
     "name": "stdout",
     "output_type": "stream",
     "text": [
      "Среднее значение: 49.31338742393509\n",
      "Стандартное отклонение количества сообщений тарифа ultra: 47.781791061922284\n",
      "Дисперсия количества сообщений тарифа составляет ultra: 2283.0995570851965\n",
      "Количество сообщений: 192.65876060970194\n"
     ]
    }
   ],
   "source": [
    "# посчитаем среднее значение, стандартное отклонение, дисперсию и количество сообщений пользователей тарифа ultra\n",
    "print('Среднее значение:',data_total_month_ultra['messages_month'].mean())\n",
    "\n",
    "print('Стандартное отклонение количества сообщений тарифа ultra:',np.std(data_total_month_ultra['messages_month']))\n",
    "\n",
    "print('Дисперсия количества сообщений тарифа составляет ultra:',np.var(data_total_month_ultra['messages_month']))\n",
    "\n",
    "print('Количество сообщений:',data_total_month_ultra['messages_month'].mean()+3*np.std(data_total_month_ultra['messages_month']))"
   ]
  },
  {
   "cell_type": "code",
   "execution_count": 257,
   "id": "e0d70234",
   "metadata": {},
   "outputs": [
    {
     "data": {
      "image/png": "[encoded data removed]",
      "text/plain": [
       "<Figure size 432x288 with 1 Axes>"
      ]
     },
     "metadata": {
      "needs_background": "light"
     },
     "output_type": "display_data"
    }
   ],
   "source": [
    "# построим две гистограммы 'messages_month' по тарифам 'smart' и 'ultra' на одном графике \n",
    "ax = data_total_month_smart['messages_month'].plot(\n",
    "    kind='hist',\n",
    "    y='messages_month',\n",
    "    histtype='step',\n",
    "    range=(0, 225),\n",
    "    bins=100,\n",
    "    linewidth=5,\n",
    "    alpha=0.7,\n",
    "    label='smart',\n",
    "    legend=True\n",
    ")\n",
    "data_total_month_ultra['messages_month'].plot(\n",
    "    kind='hist',\n",
    "    y='messages_month',\n",
    "    histtype='step',\n",
    "    range=(0, 225),\n",
    "    bins=100,\n",
    "    linewidth=5,\n",
    "    alpha=0.7,\n",
    "    label='ultra',\n",
    "    ax=ax,\n",
    "    grid=True,\n",
    "    legend=True,\n",
    ") \n",
    "plt.title('Графики messages_month по тарифам smart и ultra')\n",
    "plt.show()"
   ]
  },
  {
   "cell_type": "markdown",
   "id": "ace328d8",
   "metadata": {},
   "source": [
    "* Среднее значение messages_month среди пользователей тарифа smart составляет 33.3, стандарное отклонение-28.2, посчитаем дисперсию-796.5. Количество сообщений ползователей тарифа сигма найдем по правилу 3 сигм: mean+3*std = 118 сообщения.\n",
    "\n",
    "* Среднее значение messages_month среди пользователей тарифа ultra составляет 49.3, стандарное отклонение-47.7, посчитаем дисперсию-2283. Количество сообщений ползователей тарифа ультра найдем по правилу 3 сигм: mean+3*std = 192 сообщений.\n",
    "\n",
    "Обращает на себя внимание тот факт, что большое количество пользователей почти не используют сообщения- пики на уровне значения 0 имеют оба графика.\n",
    "Пользователи тарифа УЛЬТРА в среднем используют лишь 5 % входящих в тариф сообщений , тогда как пользователи тарифа СМАРТ в среднем используют в 2 с лишним раза больше сообщений,чем входит в тариф. При этом цена 1 сообщения тарифа СМАРТ- 3 руб., а цена 1 сообщения тарифа УЛЬТРА -1 руб."
   ]
  },
  {
   "cell_type": "markdown",
   "id": "937c7c3d",
   "metadata": {},
   "source": [
    "### Сравнительный анализ интернет- трафика в тарифах."
   ]
  },
  {
   "cell_type": "code",
   "execution_count": 259,
   "id": "26c202eb",
   "metadata": {},
   "outputs": [
    {
     "name": "stderr",
     "output_type": "stream",
     "text": [
      "/tmp/ipykernel_37/828632153.py:3: SettingWithCopyWarning: \n",
      "A value is trying to be set on a copy of a slice from a DataFrame.\n",
      "Try using .loc[row_indexer,col_indexer] = value instead\n",
      "\n",
      "See the caveats in the documentation: https://pandas.pydata.org/pandas-docs/stable/user_guide/indexing.html#returning-a-view-versus-a-copy\n",
      "  data_total_month_smart['gb_month'] = np.ceil(data_total_month_smart['mb_month']/1024)\n",
      "/tmp/ipykernel_37/828632153.py:5: SettingWithCopyWarning: \n",
      "A value is trying to be set on a copy of a slice from a DataFrame.\n",
      "Try using .loc[row_indexer,col_indexer] = value instead\n",
      "\n",
      "See the caveats in the documentation: https://pandas.pydata.org/pandas-docs/stable/user_guide/indexing.html#returning-a-view-versus-a-copy\n",
      "  data_total_month_ultra['gb_month'] = np.ceil(data_total_month_ultra['mb_month']/1024)\n"
     ]
    }
   ],
   "source": [
    "# добавим колонку ['gb_month'] , в которую поместим трафик в гигабайтах округлённых до целого\n",
    "\n",
    "data_total_month_smart['gb_month'] = np.ceil(data_total_month_smart['mb_month']/1024)\n",
    "\n",
    "data_total_month_ultra['gb_month'] = np.ceil(data_total_month_ultra['mb_month']/1024)\n"
   ]
  },
  {
   "cell_type": "code",
   "execution_count": 260,
   "id": "31b059be",
   "metadata": {
    "scrolled": false
   },
   "outputs": [
    {
     "name": "stdout",
     "output_type": "stream",
     "text": [
      "count    2230.000000\n",
      "mean       16.321525\n",
      "std         5.756167\n",
      "min         0.000000\n",
      "25%        13.000000\n",
      "50%        17.000000\n",
      "75%        20.000000\n",
      "max        38.000000\n",
      "Name: gb_month, dtype: float64\n"
     ]
    },
    {
     "data": {
      "image/png": "[encoded data removed]",
      "text/plain": [
       "<Figure size 432x288 with 1 Axes>"
      ]
     },
     "metadata": {
      "needs_background": "light"
     },
     "output_type": "display_data"
    }
   ],
   "source": [
    "# выведем на экран информацию об основных показателях data_total_month_smart['gb_month']\n",
    "print(data_total_month_smart['gb_month'].describe()) \n",
    "# построим гистограмму data_smart_internet\n",
    "(data_total_month_smart['gb_month']).hist(bins=100, range=(0, 40)); \n",
    "plt.title(\"Тариф смарт интернет-трафик в месяц\")\n",
    "plt.xlabel(\"Интернет-трафик в месяц\")\n",
    "plt.ylabel(\"количество\")\n",
    "plt.show()"
   ]
  },
  {
   "cell_type": "code",
   "execution_count": 261,
   "id": "a2128900",
   "metadata": {},
   "outputs": [
    {
     "name": "stdout",
     "output_type": "stream",
     "text": [
      "Среднее значение: 16.32152466367713\n",
      "Стандартное отклонение интернет-трафика тарифа smart: 5.754875757548352\n",
      "Дисперсия интернет-трафика тарифа smart составляет : 33.11859498481772\n",
      "Количество интернет-трафика : 33.58615193632219\n"
     ]
    }
   ],
   "source": [
    "# постчитаем  среднее значение,стандартное отклонение, дисперсию и количество интернет-трафика пользователей тарифа smart\n",
    "print('Среднее значение:',data_total_month_smart['gb_month'].mean())\n",
    "\n",
    "print('Стандартное отклонение интернет-трафика тарифа smart:',np.std(data_total_month_smart['gb_month']))\n",
    "\n",
    "print('Дисперсия интернет-трафика тарифа smart составляет :',np.var(data_total_month_smart['gb_month']))\n",
    "\n",
    "print('Количество интернет-трафика :',data_total_month_smart['gb_month'].mean()+3*np.std(data_total_month_smart['gb_month']))"
   ]
  },
  {
   "cell_type": "code",
   "execution_count": 262,
   "id": "2adff192",
   "metadata": {},
   "outputs": [
    {
     "name": "stdout",
     "output_type": "stream",
     "text": [
      "count    986.000000\n",
      "mean      19.474645\n",
      "std        9.868057\n",
      "min        0.000000\n",
      "25%       12.000000\n",
      "50%       19.000000\n",
      "75%       27.000000\n",
      "max       49.000000\n",
      "Name: gb_month, dtype: float64\n"
     ]
    },
    {
     "data": {
      "image/png": "[encoded data removed]",
      "text/plain": [
       "<Figure size 432x288 with 1 Axes>"
      ]
     },
     "metadata": {
      "needs_background": "light"
     },
     "output_type": "display_data"
    }
   ],
   "source": [
    "# выведем на экран информацию об основных показателях data_total_month_ultra['gb_month']\n",
    "print(data_total_month_ultra['gb_month'].describe()) \n",
    "# построим гистограмму data_ultra_internet\n",
    "data_total_month_ultra['gb_month'].hist(bins=100, range=(0, 50)); \n",
    "plt.title(\"Тариф ультра интернет-трафик в месяц\")\n",
    "plt.xlabel(\"Интернет-трафик в месяц\")\n",
    "plt.ylabel(\"количество\")\n",
    "plt.show()"
   ]
  },
  {
   "cell_type": "code",
   "execution_count": 263,
   "id": "de23384e",
   "metadata": {
    "scrolled": true
   },
   "outputs": [
    {
     "name": "stdout",
     "output_type": "stream",
     "text": [
      "Среднее значение: 19.474645030425965\n",
      "Стандартное отклонение интернет-трафика тарифа ultra: 9.863051408616236\n",
      "Дисперсия интернет-трафика тарифа ultra составляет : 97.27978308900674\n",
      "Количество интернет-трафика : 49.06379925627468\n"
     ]
    }
   ],
   "source": [
    "# постчитаем среднее значение, стандартное отклонение, дисперсию и количесво  интернет-трафика пользователей тарифа ultra\n",
    "print('Среднее значение:',data_total_month_ultra['gb_month'].mean())\n",
    "\n",
    "print('Стандартное отклонение интернет-трафика тарифа ultra:',np.std(data_total_month_ultra['gb_month']))\n",
    "\n",
    "print('Дисперсия интернет-трафика тарифа ultra составляет :',np.var(data_total_month_ultra['gb_month']))\n",
    "\n",
    "print('Количество интернет-трафика :',data_total_month_ultra['gb_month'].mean()+3*np.std(data_total_month_ultra['gb_month']))"
   ]
  },
  {
   "cell_type": "code",
   "execution_count": 264,
   "id": "cd400b0b",
   "metadata": {},
   "outputs": [
    {
     "data": {
      "image/png": "[encoded data removed]",
      "text/plain": [
       "<Figure size 432x288 with 1 Axes>"
      ]
     },
     "metadata": {
      "needs_background": "light"
     },
     "output_type": "display_data"
    }
   ],
   "source": [
    "# построим две гистограммы 'mb_month' по тарифам 'smart' и 'ultra' на одном графике \n",
    "ax = data_total_month_smart['gb_month'].plot(\n",
    "    kind='hist',\n",
    "    y='mb_month',\n",
    "    histtype='step',\n",
    "    range=(0, 50),\n",
    "    bins=100,\n",
    "    linewidth=5,\n",
    "    alpha=0.7,\n",
    "    label='smart',\n",
    "    legend=True\n",
    ")\n",
    "data_total_month_ultra['gb_month'].plot(\n",
    "    kind='hist',\n",
    "    y='mb_month',\n",
    "    histtype='step',\n",
    "    range=(0, 50),\n",
    "    bins=100,\n",
    "    linewidth=5,\n",
    "    alpha=0.7,\n",
    "    label='ultra',\n",
    "    ax=ax,\n",
    "    grid=True,\n",
    "    legend=True,\n",
    ")\n",
    "plt.title('Графики mb_month по тарифам smart и ultra')\n",
    "plt.show()"
   ]
  },
  {
   "cell_type": "markdown",
   "id": "46e6d08b",
   "metadata": {},
   "source": [
    "* Среднее значение mb_month среди ползователей тарифа smart составляет 16.3, стандарное отклонение-5.7, посчитаем дисперсию-33.1. Количество интернет-трафика ползователей тарифа сигма найдем по правилу 3 сигм: mean+3*std = 33.5 гБт. \n",
    "\n",
    "Пользователи этого тарифа используют интернет-трафик в среднем в 2 с лишним раз больше включенного в тариф трафика. Стоимость o\t1 Гб интернет-трафика: 200 рублей- выше чем в тарифе УЛЬТРА.\n",
    "\n",
    "* Среднее значение mb_month среди ползователей тарифа ultra составляет 19.4, стандарное отклонение-9.8, посчитаем дисперсию-97.2. Количество интернет-трафика ползователей тарифа ультра найдем по правилу 3 сигм: mean+3*std = 49 гБт.\n",
    "\n",
    "\n",
    "Пользователи этого тарифа используют интернет-трафик в среднем в 0,6 раз больше включенного в тариф трафика. Стоимость \t1 Гб интернет-трафика: 150 рублей- ниже чем в тарифе СМАРТ."
   ]
  },
  {
   "cell_type": "markdown",
   "id": "b2adaaa8",
   "metadata": {},
   "source": [
    "### Сравнительный анализ выручки в тарифах."
   ]
  },
  {
   "cell_type": "code",
   "execution_count": 266,
   "id": "3b153e2c",
   "metadata": {
    "scrolled": true
   },
   "outputs": [
    {
     "name": "stdout",
     "output_type": "stream",
     "text": [
      "count    2230.000000\n",
      "mean     1289.641704\n",
      "std       818.370799\n",
      "min       550.000000\n",
      "25%       550.000000\n",
      "50%      1021.000000\n",
      "75%      1750.000000\n",
      "max      6770.000000\n",
      "Name: revenue, dtype: float64\n"
     ]
    },
    {
     "data": {
      "image/png": "[encoded data removed]",
      "text/plain": [
       "<Figure size 432x288 with 1 Axes>"
      ]
     },
     "metadata": {
      "needs_background": "light"
     },
     "output_type": "display_data"
    }
   ],
   "source": [
    "# выведем на экран информацию об основных показателях data_total_month_smart['revenue']\n",
    "print(data_total_month_smart['revenue'].describe()) \n",
    "# построим гистограмму data_smart_internet\n",
    "(data_total_month_smart['revenue']).hist(bins=100, range=(500, 6800)); \n",
    "plt.title(\"Тариф смарт выручка в месяц\")\n",
    "plt.xlabel(\"Выручка в месяц\")\n",
    "plt.ylabel(\"количество\")\n",
    "plt.show()"
   ]
  },
  {
   "cell_type": "code",
   "execution_count": 267,
   "id": "56de2218",
   "metadata": {
    "scrolled": false
   },
   "outputs": [
    {
     "name": "stdout",
     "output_type": "stream",
     "text": [
      "count     986.000000\n",
      "mean     2070.030426\n",
      "std       376.015578\n",
      "min      1950.000000\n",
      "25%      1950.000000\n",
      "50%      1950.000000\n",
      "75%      1950.000000\n",
      "max      4800.000000\n",
      "Name: revenue, dtype: float64\n"
     ]
    },
    {
     "data": {
      "image/png": "[encoded data removed]",
      "text/plain": [
       "<Figure size 432x288 with 1 Axes>"
      ]
     },
     "metadata": {
      "needs_background": "light"
     },
     "output_type": "display_data"
    }
   ],
   "source": [
    "# выведем на экран информацию об основных показателях data_total_month_ultra['revenue']\n",
    "print(data_total_month_ultra['revenue'].describe()) \n",
    "# построим гистограмму data_smart_internet\n",
    "(data_total_month_ultra['revenue']).hist(bins=100, range=(1900, 4800)); \n",
    "plt.title(\"Тариф ультра выручка в месяц\")\n",
    "plt.xlabel(\"Выручка в месяц\")\n",
    "plt.ylabel(\"количество\")\n",
    "plt.show()"
   ]
  },
  {
   "cell_type": "code",
   "execution_count": 268,
   "id": "85371e4a",
   "metadata": {},
   "outputs": [
    {
     "data": {
      "image/png": "[encoded data removed]",
      "text/plain": [
       "<Figure size 432x288 with 1 Axes>"
      ]
     },
     "metadata": {
      "needs_background": "light"
     },
     "output_type": "display_data"
    }
   ],
   "source": [
    "# построим две гистограммы 'mb_month' по тарифам 'smart' и 'ultra' на одном графике \n",
    "ax = data_total_month_smart['revenue'].plot(\n",
    "    kind='hist',\n",
    "    y='revenue',\n",
    "    histtype='step',\n",
    "    range=(500, 6800),\n",
    "    bins=100,\n",
    "    linewidth=5,\n",
    "    alpha=0.7,\n",
    "    label='smart',\n",
    "    legend=True\n",
    ")\n",
    "data_total_month_ultra['revenue'].plot(\n",
    "    kind='hist',\n",
    "    y='revenue',\n",
    "    histtype='step',\n",
    "    range=(500, 6800),\n",
    "    bins=100,\n",
    "    linewidth=5,\n",
    "    alpha=0.7,\n",
    "    label='ultra',\n",
    "    ax=ax,\n",
    "    grid=True,\n",
    "    legend=True,\n",
    ")\n",
    "plt.title('Графики revenue по тарифам smart и ultra')\n",
    "plt.show()"
   ]
  },
  {
   "cell_type": "code",
   "execution_count": 269,
   "id": "2f1fff03",
   "metadata": {},
   "outputs": [
    {
     "name": "stdout",
     "output_type": "stream",
     "text": [
      "Выручка тарифа СМАРТ за месяц : 2875901\n",
      "Выручка тарифа УЛЬТРА за месяц : 2041050\n"
     ]
    }
   ],
   "source": [
    "# выведем на экран общую выручку тарифов смарт и ультра\n",
    "print('Выручка тарифа СМАРТ за месяц :',data_total_month_smart['revenue'].sum())\n",
    "print('Выручка тарифа УЛЬТРА за месяц :',data_total_month_ultra['revenue'].sum())"
   ]
  },
  {
   "cell_type": "markdown",
   "id": "3629303f",
   "metadata": {},
   "source": [
    "\n",
    "\n",
    "Средняя выручка пользователя тарифа СМАРТ составляет 1289.6, а общая выручка составляет 2875901 руб. в месяц.\n",
    "\n",
    "Средняя выручка пользователя тарифа УЛЬТРА составляет 2070, а общая выручка составляет 2041050 руб.в месяц."
   ]
  },
  {
   "cell_type": "markdown",
   "id": "8d45527b",
   "metadata": {},
   "source": [
    "#  Проверка гипотез.\n",
    "•\tсредняя выручка пользователей тарифов «Ультра» и «Смарт» различаются;\n",
    "\n",
    "•\tсредняя выручка пользователей из Москвы отличается от выручки пользователей из других регионов.\n"
   ]
  },
  {
   "cell_type": "markdown",
   "id": "5ba451aa",
   "metadata": {},
   "source": [
    "## Проверка гипотезы 1 : средняя выручка пользователей тарифов «Ультра» и «Смарт» различаются;"
   ]
  },
  {
   "cell_type": "markdown",
   "id": "4346a682",
   "metadata": {},
   "source": [
    " Проверим гипотезу, что средняя выручка пользователей тарифов «Ультра» и «Смарт» различаются. Сформулируем нулевую гипотезу Н0: средняя выручка пользователей тарифов «Ультра» и «Смарт» одинакова V_smart=V_ultra. Альтернативная гипотеза Н1 : средняя выручка пользователей тарифов «Ультра» и «Смарт» различны  V_smart!=V_ultra. Примем критический уровень статистической значимости  alpha = 0.05 как достаточный в целях нашего проекта. "
   ]
  },
  {
   "cell_type": "code",
   "execution_count": 270,
   "id": "e53557b8",
   "metadata": {},
   "outputs": [
    {
     "data": {
      "text/plain": [
       "8     1150\n",
       "9      550\n",
       "10     550\n",
       "11    1150\n",
       "12    1550\n",
       "Name: revenue, dtype: int64"
      ]
     },
     "metadata": {},
     "output_type": "display_data"
    }
   ],
   "source": [
    "# сохраним в переменной эначения выручки тарифа smart\n",
    "V_smart=data_total_month[data_total_month['tariff']=='smart']['revenue']\n",
    "# выведем первые 5 строк на экран\n",
    "display(V_smart.head())"
   ]
  },
  {
   "cell_type": "code",
   "execution_count": 271,
   "id": "4ce4024b",
   "metadata": {},
   "outputs": [
    {
     "data": {
      "text/plain": [
       "0    1950\n",
       "1    1950\n",
       "2    1950\n",
       "3    1950\n",
       "4    1950\n",
       "Name: revenue, dtype: int64"
      ]
     },
     "metadata": {},
     "output_type": "display_data"
    }
   ],
   "source": [
    "# сохраним в переменной эначения выручки тарифа ultra\n",
    "V_ultra=data_total_month[data_total_month['tariff']=='ultra']['revenue']\n",
    "# выведем первые 5 строк на экран\n",
    "display(V_ultra.head())"
   ]
  },
  {
   "cell_type": "code",
   "execution_count": 272,
   "id": "b99a4540",
   "metadata": {},
   "outputs": [
    {
     "name": "stdout",
     "output_type": "stream",
     "text": [
      "p-значение: 8.081909555489933e-161\n",
      "Отвергаем нулевую гипотезу\n"
     ]
    }
   ],
   "source": [
    "# проверим нулевую гипотезу методом scipy.stats.ttest_ind()\n",
    "\n",
    "alpha = 0.05 # критический уровень статистической значимости\n",
    "\n",
    "results = st.ttest_ind(\n",
    "\n",
    "    V_smart, \n",
    "\n",
    "    V_ultra) # проверим гипотезу о равенстве средних двух независимых совокупностей\n",
    "\n",
    "print('p-значение:',results.pvalue) #  выведем на экран получившеся p-значение\n",
    "\n",
    "if results.pvalue < alpha: #сравним получившееся p-значение с заданным уровнем статистической значимости:\n",
    "\n",
    "    print(\"Отвергаем нулевую гипотезу\")\n",
    "else:\n",
    "    print(\"Не получилось отвергнуть нулевую гипотезу\")\n"
   ]
  },
  {
   "cell_type": "code",
   "execution_count": 273,
   "id": "3c857414",
   "metadata": {},
   "outputs": [
    {
     "name": "stdout",
     "output_type": "stream",
     "text": [
      "Среднее значение выручки тарифа СМАРТ: 1289.6417040358745\n",
      "Среднее значение выручки тарифа УЛЬТРА: 2070.030425963489\n"
     ]
    }
   ],
   "source": [
    "# проверим  результат посчитав среднее V_smart и  V_ultra\n",
    "\n",
    "print('Среднее значение выручки тарифа СМАРТ:',V_smart.mean())\n",
    "\n",
    "print ('Среднее значение выручки тарифа УЛЬТРА:',V_ultra.mean())\n"
   ]
  },
  {
   "cell_type": "markdown",
   "id": "cea34d0e",
   "metadata": {},
   "source": [
    "Результат:\n",
    "\n",
    "Нулевая гипотеза Н0 не получила подтверждения. \n",
    "\n",
    "Поэтому принимаем альтернативную гипотезу Н1-средняя выручка пользователей тарифов «Ультра» и «Смарт» различны.\n"
   ]
  },
  {
   "cell_type": "markdown",
   "id": "ce9dbe99",
   "metadata": {},
   "source": [
    "## Проверка гипотезы 2: средняя выручка пользователей из Москвы отличается от выручки пользователей из других регионов."
   ]
  },
  {
   "cell_type": "markdown",
   "id": "a54ca293",
   "metadata": {},
   "source": [
    " Проверим гипотезу, что средняя выручка пользователей из Москвы и из других регионов различаются. Сформулируем нулевую гипотезу Н0: средняя выручка пользователей из Москвы и пользователей из других городов одинакова V_msk=V_other. Альтернативная гипотеза Н1 : средняя выручка пользователей из Москвы и из других городов различны  V_msk!=V_other. Примем критический уровень статистической значимости  alpha = 0.05 как достаточный в целях нашего проекта. "
   ]
  },
  {
   "cell_type": "code",
   "execution_count": 274,
   "id": "7b1a4fc8",
   "metadata": {},
   "outputs": [
    {
     "data": {
      "text/html": [
       "<div>\n",
       "<style scoped>\n",
       "    .dataframe tbody tr th:only-of-type {\n",
       "        vertical-align: middle;\n",
       "    }\n",
       "\n",
       "    .dataframe tbody tr th {\n",
       "        vertical-align: top;\n",
       "    }\n",
       "\n",
       "    .dataframe thead th {\n",
       "        text-align: right;\n",
       "    }\n",
       "</style>\n",
       "<table border=\"1\" class=\"dataframe\">\n",
       "  <thead>\n",
       "    <tr style=\"text-align: right;\">\n",
       "      <th></th>\n",
       "      <th>user_id</th>\n",
       "      <th>city</th>\n",
       "      <th>tariff</th>\n",
       "      <th>date</th>\n",
       "      <th>duration_month</th>\n",
       "      <th>call_month</th>\n",
       "      <th>messages_month</th>\n",
       "      <th>mb_month</th>\n",
       "      <th>messages_included</th>\n",
       "      <th>mb_per_month_included</th>\n",
       "      <th>minutes_included</th>\n",
       "      <th>rub_monthly_fee</th>\n",
       "      <th>rub_per_gb</th>\n",
       "      <th>rub_per_message</th>\n",
       "      <th>rub_per_minute</th>\n",
       "      <th>call_revenue</th>\n",
       "      <th>messagе_revenue</th>\n",
       "      <th>internet_revenue</th>\n",
       "      <th>revenue</th>\n",
       "    </tr>\n",
       "  </thead>\n",
       "  <tbody>\n",
       "    <tr>\n",
       "      <th>0</th>\n",
       "      <td>1000</td>\n",
       "      <td>Краснодар</td>\n",
       "      <td>ultra</td>\n",
       "      <td>2018-05</td>\n",
       "      <td>159</td>\n",
       "      <td>22.0</td>\n",
       "      <td>22</td>\n",
       "      <td>2253</td>\n",
       "      <td>1000</td>\n",
       "      <td>30720</td>\n",
       "      <td>3000</td>\n",
       "      <td>1950</td>\n",
       "      <td>150</td>\n",
       "      <td>1</td>\n",
       "      <td>1</td>\n",
       "      <td>0</td>\n",
       "      <td>0</td>\n",
       "      <td>0</td>\n",
       "      <td>1950</td>\n",
       "    </tr>\n",
       "    <tr>\n",
       "      <th>1</th>\n",
       "      <td>1000</td>\n",
       "      <td>Краснодар</td>\n",
       "      <td>ultra</td>\n",
       "      <td>2018-06</td>\n",
       "      <td>172</td>\n",
       "      <td>43.0</td>\n",
       "      <td>60</td>\n",
       "      <td>23233</td>\n",
       "      <td>1000</td>\n",
       "      <td>30720</td>\n",
       "      <td>3000</td>\n",
       "      <td>1950</td>\n",
       "      <td>150</td>\n",
       "      <td>1</td>\n",
       "      <td>1</td>\n",
       "      <td>0</td>\n",
       "      <td>0</td>\n",
       "      <td>0</td>\n",
       "      <td>1950</td>\n",
       "    </tr>\n",
       "    <tr>\n",
       "      <th>2</th>\n",
       "      <td>1000</td>\n",
       "      <td>Краснодар</td>\n",
       "      <td>ultra</td>\n",
       "      <td>2018-07</td>\n",
       "      <td>340</td>\n",
       "      <td>47.0</td>\n",
       "      <td>75</td>\n",
       "      <td>14003</td>\n",
       "      <td>1000</td>\n",
       "      <td>30720</td>\n",
       "      <td>3000</td>\n",
       "      <td>1950</td>\n",
       "      <td>150</td>\n",
       "      <td>1</td>\n",
       "      <td>1</td>\n",
       "      <td>0</td>\n",
       "      <td>0</td>\n",
       "      <td>0</td>\n",
       "      <td>1950</td>\n",
       "    </tr>\n",
       "    <tr>\n",
       "      <th>3</th>\n",
       "      <td>1000</td>\n",
       "      <td>Краснодар</td>\n",
       "      <td>ultra</td>\n",
       "      <td>2018-08</td>\n",
       "      <td>408</td>\n",
       "      <td>52.0</td>\n",
       "      <td>81</td>\n",
       "      <td>14055</td>\n",
       "      <td>1000</td>\n",
       "      <td>30720</td>\n",
       "      <td>3000</td>\n",
       "      <td>1950</td>\n",
       "      <td>150</td>\n",
       "      <td>1</td>\n",
       "      <td>1</td>\n",
       "      <td>0</td>\n",
       "      <td>0</td>\n",
       "      <td>0</td>\n",
       "      <td>1950</td>\n",
       "    </tr>\n",
       "    <tr>\n",
       "      <th>4</th>\n",
       "      <td>1000</td>\n",
       "      <td>Краснодар</td>\n",
       "      <td>ultra</td>\n",
       "      <td>2018-09</td>\n",
       "      <td>466</td>\n",
       "      <td>58.0</td>\n",
       "      <td>57</td>\n",
       "      <td>14568</td>\n",
       "      <td>1000</td>\n",
       "      <td>30720</td>\n",
       "      <td>3000</td>\n",
       "      <td>1950</td>\n",
       "      <td>150</td>\n",
       "      <td>1</td>\n",
       "      <td>1</td>\n",
       "      <td>0</td>\n",
       "      <td>0</td>\n",
       "      <td>0</td>\n",
       "      <td>1950</td>\n",
       "    </tr>\n",
       "  </tbody>\n",
       "</table>\n",
       "</div>"
      ],
      "text/plain": [
       "   user_id       city tariff     date  duration_month  call_month  \\\n",
       "0     1000  Краснодар  ultra  2018-05             159        22.0   \n",
       "1     1000  Краснодар  ultra  2018-06             172        43.0   \n",
       "2     1000  Краснодар  ultra  2018-07             340        47.0   \n",
       "3     1000  Краснодар  ultra  2018-08             408        52.0   \n",
       "4     1000  Краснодар  ultra  2018-09             466        58.0   \n",
       "\n",
       "   messages_month  mb_month  messages_included  mb_per_month_included  \\\n",
       "0              22      2253               1000                  30720   \n",
       "1              60     23233               1000                  30720   \n",
       "2              75     14003               1000                  30720   \n",
       "3              81     14055               1000                  30720   \n",
       "4              57     14568               1000                  30720   \n",
       "\n",
       "   minutes_included  rub_monthly_fee  rub_per_gb  rub_per_message  \\\n",
       "0              3000             1950         150                1   \n",
       "1              3000             1950         150                1   \n",
       "2              3000             1950         150                1   \n",
       "3              3000             1950         150                1   \n",
       "4              3000             1950         150                1   \n",
       "\n",
       "   rub_per_minute  call_revenue  messagе_revenue  internet_revenue  revenue  \n",
       "0               1             0                0                 0     1950  \n",
       "1               1             0                0                 0     1950  \n",
       "2               1             0                0                 0     1950  \n",
       "3               1             0                0                 0     1950  \n",
       "4               1             0                0                 0     1950  "
      ]
     },
     "metadata": {},
     "output_type": "display_data"
    }
   ],
   "source": [
    "#выведем первые 5 строк на экран\n",
    "display(data_total_month.head())"
   ]
  },
  {
   "cell_type": "code",
   "execution_count": 275,
   "id": "bfc907d2",
   "metadata": {},
   "outputs": [
    {
     "data": {
      "text/plain": [
       "8     1150\n",
       "9      550\n",
       "17    1950\n",
       "18    1950\n",
       "19    1950\n",
       "Name: revenue, dtype: int64"
      ]
     },
     "metadata": {},
     "output_type": "display_data"
    }
   ],
   "source": [
    "# сохраним в переменной эначения выручки тарифа smart\n",
    "V_msk=data_total_month[data_total_month['city']=='Москва']['revenue']\n",
    "# выведем первые 5 строк на экран\n",
    "display(V_msk.head())"
   ]
  },
  {
   "cell_type": "code",
   "execution_count": 276,
   "id": "87efe698",
   "metadata": {},
   "outputs": [
    {
     "data": {
      "text/plain": [
       "0    1950\n",
       "1    1950\n",
       "2    1950\n",
       "3    1950\n",
       "4    1950\n",
       "Name: revenue, dtype: int64"
      ]
     },
     "metadata": {},
     "output_type": "display_data"
    }
   ],
   "source": [
    "# сохраним в переменной эначения выручки тарифа ultra\n",
    "V_other=data_total_month[data_total_month['city']!='Москва']['revenue']\n",
    "# выведем первые 5 строк на экран\n",
    "display(V_other.head())"
   ]
  },
  {
   "cell_type": "code",
   "execution_count": 277,
   "id": "c3722d0a",
   "metadata": {},
   "outputs": [
    {
     "name": "stdout",
     "output_type": "stream",
     "text": [
      "p-значение: 0.5400751614511182\n",
      "Не получилось отвергнуть нулевую гипотезу\n"
     ]
    }
   ],
   "source": [
    "# проверим нулевую гипотезу методом scipy.stats.ttest_ind()\n",
    "\n",
    "alpha = 0.05 # критический уровень статистической значимости\n",
    "\n",
    "results = st.ttest_ind(\n",
    "\n",
    "    V_msk, \n",
    "\n",
    "    V_other) # проверим гипотезу о равенстве средних двух независимых совокупностей\n",
    "\n",
    "print('p-значение:',results.pvalue) #  выведем на экран получившеся p-значение\n",
    "\n",
    "if results.pvalue < alpha: #сравним получившееся p-значение с заданным уровнем статистической значимости:\n",
    "\n",
    "    print(\"Отвергаем нулевую гипотезу\")\n",
    "else:\n",
    "    print(\"Не получилось отвергнуть нулевую гипотезу\")\n"
   ]
  },
  {
   "cell_type": "code",
   "execution_count": 278,
   "id": "609a612b",
   "metadata": {},
   "outputs": [
    {
     "name": "stdout",
     "output_type": "stream",
     "text": [
      "p-значение: 0.1912450522572209\n",
      "Не получилось отвергнуть нулевую гипотезу\n"
     ]
    }
   ],
   "source": [
    "# Приведены два датасета: сумма покупок, совершённых за месяц посетителями ...\n",
    "\n",
    "sample_1 = [3071, 3636, 3454, 3151, 2185, 3259, 1727, 2263, 2015,\n",
    "2582, 4815, 633, 3186, 887, 2028, 3589, 2564, 1422, 1785,\n",
    "3180, 1770, 2716, 2546, 1848, 4644, 3134, 475, 2686,\n",
    "1838, 3352]\n",
    "sample_2 = [1211, 1228, 2157, 3699, 600, 1898, 1688, 1420, 5048, 3007,\n",
    "509, 3777, 5583, 3949, 121, 1674, 4300, 1338, 3066,\n",
    "3562, 1010, 2311, 462, 863, 2021, 528, 1849, 255,\n",
    "1740, 2596]\n",
    "alpha = .05 # критический уровень статистической значимости\n",
    "# если p-value окажется меньше него - отвергнем гипотезу\n",
    "results = st.ttest_ind(\n",
    "sample_1,\n",
    "sample_2)\n",
    "print('p-значение:', results.pvalue)\n",
    "if (results.pvalue < alpha):\n",
    "    print(\"Отвергаем нулевую гипотезу\")\n",
    "else:\n",
    "\n",
    "    print(\"Не получилось отвергнуть нулевую гипотезу\")"
   ]
  },
  {
   "cell_type": "code",
   "execution_count": 279,
   "id": "b930c34c",
   "metadata": {},
   "outputs": [
    {
     "name": "stdout",
     "output_type": "stream",
     "text": [
      "Среднее значение выручки пользователей г.Москва : 1546.7135842880523\n",
      "Среднее значение выручки пользователей других городов: 1524.7251439539348\n"
     ]
    }
   ],
   "source": [
    "# проверим  результат посчитав среднее V_msk и  V_other\n",
    "\n",
    "print('Среднее значение выручки пользователей г.Москва :',V_msk.mean())\n",
    "\n",
    "print ('Среднее значение выручки пользователей других городов:',V_other.mean())\n"
   ]
  },
  {
   "cell_type": "markdown",
   "id": "9405b642",
   "metadata": {},
   "source": [
    "Результат:\n",
    "\n",
    "Нулевую гипотезу отвергнуть не удалось. Отвергаем альтернативную гипотезу.\n",
    "\n",
    "Принимаем  гипотезу Н0-средняя выручка пользователей г.Москва и пользователей других городов одинакова.\n",
    "Это подтверждается расчетом средних значениями выручки по г.Москва и другим городам.\n"
   ]
  },
  {
   "cell_type": "markdown",
   "id": "43f843ea",
   "metadata": {},
   "source": [
    "# Общий вывод."
   ]
  },
  {
   "cell_type": "markdown",
   "id": "37cf46b3",
   "metadata": {},
   "source": [
    "Целью настоящего проекта является определение лучшего тарифа. Для исследования предоставлены данные в виде пяти  CSV- таблиц, в которых содержатся информация о клиентах и использованных ими услуг тарифов СМАРТ и УЛЬТРА. В начале работы над проектом осуществлена проверка этих данных и приведение их к пригодному для анализа виду. Затем были проведены необходимые расчеты, результаты которых добавлены к исследуемым массивам. После этого  осуществлён анализ полученных даных с использованием методов визуализации. Также в ходе работы над проектом были проверены гипотезы:\n",
    "\n",
    "•\tсредняя выручка пользователей тарифов «Ультра» и «Смарт» различаются;\n",
    "\n",
    "•\tсредняя выручка пользователей из Москвы отличается от выручки пользователей из других регионов.\n",
    "\n",
    "\n",
    "В результате исследования сделаны следующие выводы."
   ]
  },
  {
   "cell_type": "markdown",
   "id": "30b67e7c",
   "metadata": {},
   "source": [
    "## Вывод по использованию тарифов СМАРТ и УЛЬТРА.\n",
    "\n",
    "Установлены отличия в поведении пользователей тарифов:\n",
    "\n",
    "* Пользователи тарифа СМАРТ используют в среднем почти в 2 раза больше минут разговоров сверх тарифа, тогда как пользователи тарифа УЛЬТРА в среднем не используют и половины лимита включенного в тариф.\n",
    "\n",
    "* Пользователи тарифа УЛЬТРА в среднем используют входящий в тариф пакет сообщений только на 5%, тогда как пользователи тарифа СМАРТ в среднем используют в 2 с лишним раза больше сообщений,чем входит в тариф. \n",
    "\n",
    "* Пользователи тарифа СМАРТ используют интернет-трафик в среднем в в 2 с лишним раз больше включенного в тариф трафика. Пользователи тарифа УЛЬТРА используют интернет-трафик в среднем в 0,6 раз больше включенного в тариф трафика. \n",
    "\n",
    "* Средняя выручка пользователя тарифа СМАРТ составляет 1289.6, а общая выручка составляет 2875901 руб. в месяц.\n",
    "Средняя выручка пользователя тарифа УЛЬТРА составляет 2070, а общая выручка составляет 2041050 руб.в месяц.\n",
    "\n",
    "1.\tЕжемесячная плата: 550 рублей тарифа СМАРТ\n",
    "1.\tЕжемесячная плата: 1950 рублей тарифа УЛЬТРА\n",
    "\n",
    "Ежемесячная абонентская плата тарифа СМАРТ в 3,5 раза ниже чем плата тарифа УЛЬТРА , а количество пользователей этого тарифа выше в 2,5 раза чем количество пользователей тарифа УЛЬТРА. Несмотря на это, общая выручка тарифа СМАРТ выше общей выручки тарифа УЛЬТРА.\n",
    "##### На этом основании  по показателям выручки признаём лучшим тариф СМАРТ.\n"
   ]
  },
  {
   "cell_type": "markdown",
   "id": "46d3022a",
   "metadata": {},
   "source": [
    "##  Вывод по гипотезам.\n",
    "Вывод по гипотезе 1 :\n",
    "* средняя выручка пользователей тарифов «Ультра» и «Смарт» различны.\n",
    "\n",
    "Вывод по гипотезе 2 :\n",
    "* средняя выручка пользователей г.Москва и пользователей других городов одинакова. \n"
   ]
  }
 ],
 "metadata": {
  "ExecuteTimeLog": [
   {
    "duration": 180,
    "start_time": "2022-04-23T23:03:51.236Z"
   },
   {
    "duration": 161,
    "start_time": "2022-04-23T23:05:54.244Z"
   },
   {
    "duration": 40,
    "start_time": "2022-04-23T23:06:14.829Z"
   },
   {
    "duration": 1027,
    "start_time": "2022-04-23T23:06:20.688Z"
   },
   {
    "duration": 423,
    "start_time": "2022-04-23T23:06:21.717Z"
   },
   {
    "duration": 22,
    "start_time": "2022-04-23T23:06:22.142Z"
   },
   {
    "duration": 15,
    "start_time": "2022-04-23T23:06:22.166Z"
   },
   {
    "duration": 18,
    "start_time": "2022-04-23T23:06:22.183Z"
   },
   {
    "duration": 22,
    "start_time": "2022-04-23T23:06:22.203Z"
   },
   {
    "duration": 28,
    "start_time": "2022-04-23T23:06:22.227Z"
   },
   {
    "duration": 10,
    "start_time": "2022-04-23T23:06:22.257Z"
   },
   {
    "duration": 14,
    "start_time": "2022-04-23T23:06:22.269Z"
   },
   {
    "duration": 10,
    "start_time": "2022-04-23T23:06:22.287Z"
   },
   {
    "duration": 12,
    "start_time": "2022-04-23T23:06:22.331Z"
   },
   {
    "duration": 18,
    "start_time": "2022-04-23T23:06:22.345Z"
   },
   {
    "duration": 19,
    "start_time": "2022-04-23T23:06:22.365Z"
   },
   {
    "duration": 14,
    "start_time": "2022-04-23T23:06:22.385Z"
   },
   {
    "duration": 39,
    "start_time": "2022-04-23T23:06:22.401Z"
   },
   {
    "duration": 8,
    "start_time": "2022-04-23T23:06:22.442Z"
   },
   {
    "duration": 48,
    "start_time": "2022-04-23T23:06:22.452Z"
   },
   {
    "duration": 23,
    "start_time": "2022-04-23T23:06:22.501Z"
   },
   {
    "duration": 10,
    "start_time": "2022-04-23T23:06:22.526Z"
   },
   {
    "duration": 1261,
    "start_time": "2022-04-23T23:06:22.538Z"
   },
   {
    "duration": 1275,
    "start_time": "2022-04-23T23:06:23.801Z"
   },
   {
    "duration": 497,
    "start_time": "2022-04-23T23:06:25.078Z"
   },
   {
    "duration": 560,
    "start_time": "2022-04-23T23:06:25.577Z"
   },
   {
    "duration": 10,
    "start_time": "2022-04-23T23:06:26.138Z"
   },
   {
    "duration": 21,
    "start_time": "2022-04-23T23:06:26.150Z"
   },
   {
    "duration": 9,
    "start_time": "2022-04-23T23:06:26.173Z"
   },
   {
    "duration": 11,
    "start_time": "2022-04-23T23:06:26.183Z"
   },
   {
    "duration": 26,
    "start_time": "2022-04-23T23:06:26.231Z"
   },
   {
    "duration": 36,
    "start_time": "2022-04-23T23:06:26.259Z"
   },
   {
    "duration": 4,
    "start_time": "2022-04-23T23:06:26.296Z"
   },
   {
    "duration": 78,
    "start_time": "2022-04-23T23:06:26.302Z"
   },
   {
    "duration": 5,
    "start_time": "2022-04-23T23:06:26.381Z"
   },
   {
    "duration": 84,
    "start_time": "2022-04-23T23:06:26.387Z"
   },
   {
    "duration": 6,
    "start_time": "2022-04-23T23:06:26.472Z"
   },
   {
    "duration": 70,
    "start_time": "2022-04-23T23:06:26.479Z"
   },
   {
    "duration": 17,
    "start_time": "2022-04-23T23:06:26.550Z"
   },
   {
    "duration": 14,
    "start_time": "2022-04-23T23:06:26.569Z"
   },
   {
    "duration": 41,
    "start_time": "2022-04-23T23:06:26.585Z"
   },
   {
    "duration": 29,
    "start_time": "2022-04-23T23:06:26.630Z"
   },
   {
    "duration": 18,
    "start_time": "2022-04-23T23:06:26.660Z"
   },
   {
    "duration": 273,
    "start_time": "2022-04-23T23:06:26.680Z"
   },
   {
    "duration": 5,
    "start_time": "2022-04-23T23:06:26.955Z"
   },
   {
    "duration": 232,
    "start_time": "2022-04-23T23:06:26.961Z"
   },
   {
    "duration": 7,
    "start_time": "2022-04-23T23:06:27.195Z"
   },
   {
    "duration": 171,
    "start_time": "2022-04-23T23:06:27.203Z"
   },
   {
    "duration": 19,
    "start_time": "2022-04-23T23:06:27.376Z"
   },
   {
    "duration": 252,
    "start_time": "2022-04-23T23:06:27.397Z"
   },
   {
    "duration": 6,
    "start_time": "2022-04-23T23:06:27.651Z"
   },
   {
    "duration": 229,
    "start_time": "2022-04-23T23:06:27.658Z"
   },
   {
    "duration": 6,
    "start_time": "2022-04-23T23:06:27.889Z"
   },
   {
    "duration": 164,
    "start_time": "2022-04-23T23:06:27.897Z"
   },
   {
    "duration": 30,
    "start_time": "2022-04-23T23:06:28.064Z"
   },
   {
    "duration": 530,
    "start_time": "2022-04-23T23:06:28.096Z"
   },
   {
    "duration": 10,
    "start_time": "2022-04-23T23:06:28.629Z"
   },
   {
    "duration": 627,
    "start_time": "2022-04-23T23:06:28.641Z"
   },
   {
    "duration": 68,
    "start_time": "2022-04-23T23:06:29.270Z"
   },
   {
    "duration": 488,
    "start_time": "2022-04-23T23:06:29.342Z"
   },
   {
    "duration": 39,
    "start_time": "2022-04-23T23:06:29.832Z"
   },
   {
    "duration": 435,
    "start_time": "2022-04-23T23:06:29.873Z"
   },
   {
    "duration": 232,
    "start_time": "2022-04-23T23:06:30.310Z"
   },
   {
    "duration": 167,
    "start_time": "2022-04-23T23:06:30.544Z"
   },
   {
    "duration": 13,
    "start_time": "2022-04-23T23:06:30.713Z"
   },
   {
    "duration": 21,
    "start_time": "2022-04-23T23:06:30.728Z"
   },
   {
    "duration": 24,
    "start_time": "2022-04-23T23:06:30.751Z"
   },
   {
    "duration": 22,
    "start_time": "2022-04-23T23:06:30.776Z"
   },
   {
    "duration": 9,
    "start_time": "2022-04-23T23:06:30.799Z"
   },
   {
    "duration": 26,
    "start_time": "2022-04-23T23:06:30.810Z"
   },
   {
    "duration": 16,
    "start_time": "2022-04-23T23:06:30.839Z"
   },
   {
    "duration": 13,
    "start_time": "2022-04-23T23:06:30.856Z"
   },
   {
    "duration": 6,
    "start_time": "2022-04-23T23:06:30.871Z"
   },
   {
    "duration": 7,
    "start_time": "2022-04-23T23:06:30.879Z"
   },
   {
    "duration": 165,
    "start_time": "2022-04-23T23:08:11.886Z"
   },
   {
    "duration": 126,
    "start_time": "2022-04-23T23:10:11.619Z"
   },
   {
    "duration": 4,
    "start_time": "2022-04-23T23:15:14.869Z"
   },
   {
    "duration": 30,
    "start_time": "2022-04-23T23:20:21.665Z"
   },
   {
    "duration": 137,
    "start_time": "2022-04-24T01:20:55.749Z"
   },
   {
    "duration": 138,
    "start_time": "2022-04-24T01:23:46.715Z"
   },
   {
    "duration": 126,
    "start_time": "2022-04-24T01:24:18.373Z"
   },
   {
    "duration": 5,
    "start_time": "2022-04-24T01:29:16.911Z"
   },
   {
    "duration": 4,
    "start_time": "2022-04-24T01:29:20.672Z"
   },
   {
    "duration": 1035,
    "start_time": "2022-04-24T01:30:14.224Z"
   },
   {
    "duration": 402,
    "start_time": "2022-04-24T01:30:15.263Z"
   },
   {
    "duration": 42,
    "start_time": "2022-04-24T01:30:15.669Z"
   },
   {
    "duration": 25,
    "start_time": "2022-04-24T01:30:15.714Z"
   },
   {
    "duration": 35,
    "start_time": "2022-04-24T01:30:15.741Z"
   },
   {
    "duration": 12,
    "start_time": "2022-04-24T01:30:15.778Z"
   },
   {
    "duration": 38,
    "start_time": "2022-04-24T01:30:15.792Z"
   },
   {
    "duration": 7,
    "start_time": "2022-04-24T01:30:15.832Z"
   },
   {
    "duration": 9,
    "start_time": "2022-04-24T01:30:15.841Z"
   },
   {
    "duration": 8,
    "start_time": "2022-04-24T01:30:15.851Z"
   },
   {
    "duration": 13,
    "start_time": "2022-04-24T01:30:15.861Z"
   },
   {
    "duration": 11,
    "start_time": "2022-04-24T01:30:15.875Z"
   },
   {
    "duration": 17,
    "start_time": "2022-04-24T01:30:15.888Z"
   },
   {
    "duration": 13,
    "start_time": "2022-04-24T01:30:15.907Z"
   },
   {
    "duration": 21,
    "start_time": "2022-04-24T01:30:15.923Z"
   },
   {
    "duration": 3,
    "start_time": "2022-04-24T01:30:15.946Z"
   },
   {
    "duration": 9,
    "start_time": "2022-04-24T01:30:15.951Z"
   },
   {
    "duration": 67,
    "start_time": "2022-04-24T01:30:15.961Z"
   },
   {
    "duration": 9,
    "start_time": "2022-04-24T01:30:16.030Z"
   },
   {
    "duration": 11,
    "start_time": "2022-04-24T01:30:16.040Z"
   },
   {
    "duration": 33,
    "start_time": "2022-04-24T01:30:16.052Z"
   },
   {
    "duration": 969,
    "start_time": "2022-04-24T01:30:16.087Z"
   },
   {
    "duration": 757,
    "start_time": "2022-04-24T01:30:17.057Z"
   },
   {
    "duration": 454,
    "start_time": "2022-04-24T01:30:17.815Z"
   },
   {
    "duration": 536,
    "start_time": "2022-04-24T01:30:18.270Z"
   },
   {
    "duration": 7,
    "start_time": "2022-04-24T01:30:18.808Z"
   },
   {
    "duration": 22,
    "start_time": "2022-04-24T01:30:18.826Z"
   },
   {
    "duration": 10,
    "start_time": "2022-04-24T01:30:18.850Z"
   },
   {
    "duration": 12,
    "start_time": "2022-04-24T01:30:18.861Z"
   },
   {
    "duration": 23,
    "start_time": "2022-04-24T01:30:18.875Z"
   },
   {
    "duration": 45,
    "start_time": "2022-04-24T01:30:18.899Z"
   },
   {
    "duration": 4,
    "start_time": "2022-04-24T01:30:18.946Z"
   },
   {
    "duration": 74,
    "start_time": "2022-04-24T01:30:18.952Z"
   },
   {
    "duration": 5,
    "start_time": "2022-04-24T01:30:19.028Z"
   },
   {
    "duration": 63,
    "start_time": "2022-04-24T01:30:19.035Z"
   },
   {
    "duration": 5,
    "start_time": "2022-04-24T01:30:19.100Z"
   },
   {
    "duration": 73,
    "start_time": "2022-04-24T01:30:19.106Z"
   },
   {
    "duration": 18,
    "start_time": "2022-04-24T01:30:19.181Z"
   },
   {
    "duration": 38,
    "start_time": "2022-04-24T01:30:19.200Z"
   },
   {
    "duration": 4,
    "start_time": "2022-04-24T01:30:19.239Z"
   },
   {
    "duration": 26,
    "start_time": "2022-04-24T01:30:19.245Z"
   },
   {
    "duration": 21,
    "start_time": "2022-04-24T01:30:19.272Z"
   },
   {
    "duration": 46,
    "start_time": "2022-04-24T01:30:19.295Z"
   },
   {
    "duration": 253,
    "start_time": "2022-04-24T01:30:19.342Z"
   },
   {
    "duration": 6,
    "start_time": "2022-04-24T01:30:19.597Z"
   },
   {
    "duration": 223,
    "start_time": "2022-04-24T01:30:19.604Z"
   },
   {
    "duration": 6,
    "start_time": "2022-04-24T01:30:19.829Z"
   },
   {
    "duration": 154,
    "start_time": "2022-04-24T01:30:19.837Z"
   },
   {
    "duration": 32,
    "start_time": "2022-04-24T01:30:19.993Z"
   },
   {
    "duration": 227,
    "start_time": "2022-04-24T01:30:20.027Z"
   },
   {
    "duration": 6,
    "start_time": "2022-04-24T01:30:20.256Z"
   },
   {
    "duration": 233,
    "start_time": "2022-04-24T01:30:20.264Z"
   },
   {
    "duration": 8,
    "start_time": "2022-04-24T01:30:20.498Z"
   },
   {
    "duration": 157,
    "start_time": "2022-04-24T01:30:20.523Z"
   },
   {
    "duration": 23,
    "start_time": "2022-04-24T01:30:20.682Z"
   },
   {
    "duration": 309,
    "start_time": "2022-04-24T01:30:20.707Z"
   },
   {
    "duration": 12,
    "start_time": "2022-04-24T01:30:21.017Z"
   },
   {
    "duration": 238,
    "start_time": "2022-04-24T01:30:21.032Z"
   },
   {
    "duration": 6,
    "start_time": "2022-04-24T01:30:21.272Z"
   },
   {
    "duration": 162,
    "start_time": "2022-04-24T01:30:21.280Z"
   },
   {
    "duration": 22,
    "start_time": "2022-04-24T01:30:21.444Z"
   },
   {
    "duration": 230,
    "start_time": "2022-04-24T01:30:21.468Z"
   },
   {
    "duration": 223,
    "start_time": "2022-04-24T01:30:21.700Z"
   },
   {
    "duration": 152,
    "start_time": "2022-04-24T01:30:21.925Z"
   },
   {
    "duration": 4,
    "start_time": "2022-04-24T01:30:22.079Z"
   },
   {
    "duration": 8,
    "start_time": "2022-04-24T01:30:22.084Z"
   },
   {
    "duration": 6,
    "start_time": "2022-04-24T01:30:22.094Z"
   },
   {
    "duration": 25,
    "start_time": "2022-04-24T01:30:22.102Z"
   },
   {
    "duration": 6,
    "start_time": "2022-04-24T01:30:22.129Z"
   },
   {
    "duration": 13,
    "start_time": "2022-04-24T01:30:22.137Z"
   },
   {
    "duration": 8,
    "start_time": "2022-04-24T01:30:22.151Z"
   },
   {
    "duration": 6,
    "start_time": "2022-04-24T01:30:22.160Z"
   },
   {
    "duration": 5,
    "start_time": "2022-04-24T01:30:22.167Z"
   },
   {
    "duration": 5,
    "start_time": "2022-04-24T01:30:22.174Z"
   },
   {
    "duration": 5,
    "start_time": "2022-04-24T01:30:48.297Z"
   },
   {
    "duration": 4,
    "start_time": "2022-04-24T01:31:02.929Z"
   },
   {
    "duration": 13,
    "start_time": "2022-04-24T01:31:35.226Z"
   },
   {
    "duration": 15,
    "start_time": "2022-04-24T01:32:10.708Z"
   },
   {
    "duration": 8,
    "start_time": "2022-04-24T01:33:29.857Z"
   },
   {
    "duration": 1026,
    "start_time": "2022-04-24T01:38:25.797Z"
   },
   {
    "duration": 584,
    "start_time": "2022-04-24T01:38:26.825Z"
   },
   {
    "duration": 21,
    "start_time": "2022-04-24T01:38:27.411Z"
   },
   {
    "duration": 14,
    "start_time": "2022-04-24T01:38:27.434Z"
   },
   {
    "duration": 17,
    "start_time": "2022-04-24T01:38:27.450Z"
   },
   {
    "duration": 8,
    "start_time": "2022-04-24T01:38:27.468Z"
   },
   {
    "duration": 47,
    "start_time": "2022-04-24T01:38:27.477Z"
   },
   {
    "duration": 7,
    "start_time": "2022-04-24T01:38:27.526Z"
   },
   {
    "duration": 12,
    "start_time": "2022-04-24T01:38:27.535Z"
   },
   {
    "duration": 8,
    "start_time": "2022-04-24T01:38:27.550Z"
   },
   {
    "duration": 11,
    "start_time": "2022-04-24T01:38:27.560Z"
   },
   {
    "duration": 13,
    "start_time": "2022-04-24T01:38:27.572Z"
   },
   {
    "duration": 18,
    "start_time": "2022-04-24T01:38:27.586Z"
   },
   {
    "duration": 13,
    "start_time": "2022-04-24T01:38:27.624Z"
   },
   {
    "duration": 23,
    "start_time": "2022-04-24T01:38:27.639Z"
   },
   {
    "duration": 3,
    "start_time": "2022-04-24T01:38:27.664Z"
   },
   {
    "duration": 9,
    "start_time": "2022-04-24T01:38:27.669Z"
   },
   {
    "duration": 65,
    "start_time": "2022-04-24T01:38:27.680Z"
   },
   {
    "duration": 9,
    "start_time": "2022-04-24T01:38:27.747Z"
   },
   {
    "duration": 10,
    "start_time": "2022-04-24T01:38:27.758Z"
   },
   {
    "duration": 32,
    "start_time": "2022-04-24T01:38:27.770Z"
   },
   {
    "duration": 21,
    "start_time": "2022-04-24T01:38:27.804Z"
   },
   {
    "duration": 747,
    "start_time": "2022-04-24T01:38:27.827Z"
   },
   {
    "duration": 760,
    "start_time": "2022-04-24T01:38:28.576Z"
   },
   {
    "duration": 454,
    "start_time": "2022-04-24T01:38:29.338Z"
   },
   {
    "duration": 544,
    "start_time": "2022-04-24T01:38:29.793Z"
   },
   {
    "duration": 8,
    "start_time": "2022-04-24T01:38:30.338Z"
   },
   {
    "duration": 24,
    "start_time": "2022-04-24T01:38:30.349Z"
   },
   {
    "duration": 10,
    "start_time": "2022-04-24T01:38:30.374Z"
   },
   {
    "duration": 19,
    "start_time": "2022-04-24T01:38:30.386Z"
   },
   {
    "duration": 37,
    "start_time": "2022-04-24T01:38:30.407Z"
   },
   {
    "duration": 23,
    "start_time": "2022-04-24T01:38:30.446Z"
   },
   {
    "duration": 4,
    "start_time": "2022-04-24T01:38:30.471Z"
   },
   {
    "duration": 80,
    "start_time": "2022-04-24T01:38:30.477Z"
   },
   {
    "duration": 4,
    "start_time": "2022-04-24T01:38:30.559Z"
   },
   {
    "duration": 72,
    "start_time": "2022-04-24T01:38:30.565Z"
   },
   {
    "duration": 5,
    "start_time": "2022-04-24T01:38:30.639Z"
   },
   {
    "duration": 64,
    "start_time": "2022-04-24T01:38:30.645Z"
   },
   {
    "duration": 29,
    "start_time": "2022-04-24T01:38:30.710Z"
   },
   {
    "duration": 15,
    "start_time": "2022-04-24T01:38:30.741Z"
   },
   {
    "duration": 3,
    "start_time": "2022-04-24T01:38:30.758Z"
   },
   {
    "duration": 13,
    "start_time": "2022-04-24T01:38:30.763Z"
   },
   {
    "duration": 56,
    "start_time": "2022-04-24T01:38:30.777Z"
   },
   {
    "duration": 20,
    "start_time": "2022-04-24T01:38:30.835Z"
   },
   {
    "duration": 19,
    "start_time": "2022-04-24T01:38:30.856Z"
   },
   {
    "duration": 267,
    "start_time": "2022-04-24T01:38:30.876Z"
   },
   {
    "duration": 5,
    "start_time": "2022-04-24T01:38:31.145Z"
   },
   {
    "duration": 230,
    "start_time": "2022-04-24T01:38:31.152Z"
   },
   {
    "duration": 5,
    "start_time": "2022-04-24T01:38:31.383Z"
   },
   {
    "duration": 143,
    "start_time": "2022-04-24T01:38:31.390Z"
   },
   {
    "duration": 20,
    "start_time": "2022-04-24T01:38:31.535Z"
   },
   {
    "duration": 227,
    "start_time": "2022-04-24T01:38:31.556Z"
   },
   {
    "duration": 5,
    "start_time": "2022-04-24T01:38:31.785Z"
   },
   {
    "duration": 231,
    "start_time": "2022-04-24T01:38:31.792Z"
   },
   {
    "duration": 6,
    "start_time": "2022-04-24T01:38:32.025Z"
   },
   {
    "duration": 155,
    "start_time": "2022-04-24T01:38:32.032Z"
   },
   {
    "duration": 19,
    "start_time": "2022-04-24T01:38:32.189Z"
   },
   {
    "duration": 302,
    "start_time": "2022-04-24T01:38:32.209Z"
   },
   {
    "duration": 6,
    "start_time": "2022-04-24T01:38:32.513Z"
   },
   {
    "duration": 222,
    "start_time": "2022-04-24T01:38:32.524Z"
   },
   {
    "duration": 6,
    "start_time": "2022-04-24T01:38:32.747Z"
   },
   {
    "duration": 154,
    "start_time": "2022-04-24T01:38:32.755Z"
   },
   {
    "duration": 27,
    "start_time": "2022-04-24T01:38:32.910Z"
   },
   {
    "duration": 223,
    "start_time": "2022-04-24T01:38:32.939Z"
   },
   {
    "duration": 223,
    "start_time": "2022-04-24T01:38:33.164Z"
   },
   {
    "duration": 159,
    "start_time": "2022-04-24T01:38:33.389Z"
   },
   {
    "duration": 4,
    "start_time": "2022-04-24T01:38:33.550Z"
   },
   {
    "duration": 8,
    "start_time": "2022-04-24T01:38:33.556Z"
   },
   {
    "duration": 10,
    "start_time": "2022-04-24T01:38:33.566Z"
   },
   {
    "duration": 8,
    "start_time": "2022-04-24T01:38:33.577Z"
   },
   {
    "duration": 5,
    "start_time": "2022-04-24T01:38:33.586Z"
   },
   {
    "duration": 34,
    "start_time": "2022-04-24T01:38:33.593Z"
   },
   {
    "duration": 9,
    "start_time": "2022-04-24T01:38:33.629Z"
   },
   {
    "duration": 11,
    "start_time": "2022-04-24T01:38:33.639Z"
   },
   {
    "duration": 6,
    "start_time": "2022-04-24T01:38:33.651Z"
   },
   {
    "duration": 8,
    "start_time": "2022-04-24T01:38:33.658Z"
   },
   {
    "duration": 7,
    "start_time": "2022-04-24T01:38:33.667Z"
   },
   {
    "duration": 1022,
    "start_time": "2022-04-24T01:38:57.717Z"
   },
   {
    "duration": 396,
    "start_time": "2022-04-24T01:38:58.741Z"
   },
   {
    "duration": 23,
    "start_time": "2022-04-24T01:38:59.138Z"
   },
   {
    "duration": 15,
    "start_time": "2022-04-24T01:38:59.163Z"
   },
   {
    "duration": 18,
    "start_time": "2022-04-24T01:38:59.179Z"
   },
   {
    "duration": 8,
    "start_time": "2022-04-24T01:38:59.198Z"
   },
   {
    "duration": 34,
    "start_time": "2022-04-24T01:38:59.208Z"
   },
   {
    "duration": 8,
    "start_time": "2022-04-24T01:38:59.243Z"
   },
   {
    "duration": 12,
    "start_time": "2022-04-24T01:38:59.252Z"
   },
   {
    "duration": 11,
    "start_time": "2022-04-24T01:38:59.267Z"
   },
   {
    "duration": 16,
    "start_time": "2022-04-24T01:38:59.280Z"
   },
   {
    "duration": 16,
    "start_time": "2022-04-24T01:38:59.325Z"
   },
   {
    "duration": 32,
    "start_time": "2022-04-24T01:38:59.343Z"
   },
   {
    "duration": 21,
    "start_time": "2022-04-24T01:38:59.377Z"
   },
   {
    "duration": 22,
    "start_time": "2022-04-24T01:38:59.423Z"
   },
   {
    "duration": 4,
    "start_time": "2022-04-24T01:38:59.447Z"
   },
   {
    "duration": 7,
    "start_time": "2022-04-24T01:38:59.453Z"
   },
   {
    "duration": 63,
    "start_time": "2022-04-24T01:38:59.461Z"
   },
   {
    "duration": 10,
    "start_time": "2022-04-24T01:38:59.526Z"
   },
   {
    "duration": 10,
    "start_time": "2022-04-24T01:38:59.537Z"
   },
   {
    "duration": 35,
    "start_time": "2022-04-24T01:38:59.548Z"
   },
   {
    "duration": 5,
    "start_time": "2022-04-24T01:38:59.584Z"
   },
   {
    "duration": 778,
    "start_time": "2022-04-24T01:38:59.590Z"
   },
   {
    "duration": 762,
    "start_time": "2022-04-24T01:39:00.369Z"
   },
   {
    "duration": 1094,
    "start_time": "2022-04-24T01:39:01.133Z"
   },
   {
    "duration": 1188,
    "start_time": "2022-04-24T01:39:02.229Z"
   },
   {
    "duration": 7,
    "start_time": "2022-04-24T01:39:03.423Z"
   },
   {
    "duration": 22,
    "start_time": "2022-04-24T01:39:03.434Z"
   },
   {
    "duration": 10,
    "start_time": "2022-04-24T01:39:03.457Z"
   },
   {
    "duration": 12,
    "start_time": "2022-04-24T01:39:03.468Z"
   },
   {
    "duration": 43,
    "start_time": "2022-04-24T01:39:03.482Z"
   },
   {
    "duration": 22,
    "start_time": "2022-04-24T01:39:03.527Z"
   },
   {
    "duration": 4,
    "start_time": "2022-04-24T01:39:03.551Z"
   },
   {
    "duration": 80,
    "start_time": "2022-04-24T01:39:03.556Z"
   },
   {
    "duration": 5,
    "start_time": "2022-04-24T01:39:03.637Z"
   },
   {
    "duration": 63,
    "start_time": "2022-04-24T01:39:03.643Z"
   },
   {
    "duration": 16,
    "start_time": "2022-04-24T01:39:03.708Z"
   },
   {
    "duration": 63,
    "start_time": "2022-04-24T01:39:03.726Z"
   },
   {
    "duration": 33,
    "start_time": "2022-04-24T01:39:03.791Z"
   },
   {
    "duration": 15,
    "start_time": "2022-04-24T01:39:03.826Z"
   },
   {
    "duration": 3,
    "start_time": "2022-04-24T01:39:03.843Z"
   },
   {
    "duration": 10,
    "start_time": "2022-04-24T01:39:03.848Z"
   },
   {
    "duration": 22,
    "start_time": "2022-04-24T01:39:03.860Z"
   },
   {
    "duration": 54,
    "start_time": "2022-04-24T01:39:03.884Z"
   },
   {
    "duration": 21,
    "start_time": "2022-04-24T01:39:03.939Z"
   },
   {
    "duration": 254,
    "start_time": "2022-04-24T01:39:03.961Z"
   },
   {
    "duration": 6,
    "start_time": "2022-04-24T01:39:04.223Z"
   },
   {
    "duration": 222,
    "start_time": "2022-04-24T01:39:04.231Z"
   },
   {
    "duration": 6,
    "start_time": "2022-04-24T01:39:04.455Z"
   },
   {
    "duration": 150,
    "start_time": "2022-04-24T01:39:04.463Z"
   },
   {
    "duration": 25,
    "start_time": "2022-04-24T01:39:04.614Z"
   },
   {
    "duration": 220,
    "start_time": "2022-04-24T01:39:04.640Z"
   },
   {
    "duration": 5,
    "start_time": "2022-04-24T01:39:04.861Z"
   },
   {
    "duration": 228,
    "start_time": "2022-04-24T01:39:04.868Z"
   },
   {
    "duration": 7,
    "start_time": "2022-04-24T01:39:05.097Z"
   },
   {
    "duration": 162,
    "start_time": "2022-04-24T01:39:05.105Z"
   },
   {
    "duration": 20,
    "start_time": "2022-04-24T01:39:05.268Z"
   },
   {
    "duration": 294,
    "start_time": "2022-04-24T01:39:05.289Z"
   },
   {
    "duration": 6,
    "start_time": "2022-04-24T01:39:05.584Z"
   },
   {
    "duration": 225,
    "start_time": "2022-04-24T01:39:05.591Z"
   },
   {
    "duration": 5,
    "start_time": "2022-04-24T01:39:05.824Z"
   },
   {
    "duration": 150,
    "start_time": "2022-04-24T01:39:05.831Z"
   },
   {
    "duration": 20,
    "start_time": "2022-04-24T01:39:05.983Z"
   },
   {
    "duration": 222,
    "start_time": "2022-04-24T01:39:06.005Z"
   },
   {
    "duration": 227,
    "start_time": "2022-04-24T01:39:06.228Z"
   },
   {
    "duration": 154,
    "start_time": "2022-04-24T01:39:06.456Z"
   },
   {
    "duration": 4,
    "start_time": "2022-04-24T01:39:06.611Z"
   },
   {
    "duration": 12,
    "start_time": "2022-04-24T01:39:06.616Z"
   },
   {
    "duration": 7,
    "start_time": "2022-04-24T01:39:06.629Z"
   },
   {
    "duration": 5,
    "start_time": "2022-04-24T01:39:06.637Z"
   },
   {
    "duration": 7,
    "start_time": "2022-04-24T01:39:06.643Z"
   },
   {
    "duration": 14,
    "start_time": "2022-04-24T01:39:06.651Z"
   },
   {
    "duration": 8,
    "start_time": "2022-04-24T01:39:06.667Z"
   },
   {
    "duration": 7,
    "start_time": "2022-04-24T01:39:06.676Z"
   },
   {
    "duration": 40,
    "start_time": "2022-04-24T01:39:06.684Z"
   },
   {
    "duration": 12,
    "start_time": "2022-04-24T01:39:06.726Z"
   },
   {
    "duration": 5,
    "start_time": "2022-04-24T01:39:06.740Z"
   },
   {
    "duration": 15,
    "start_time": "2022-04-24T01:39:55.484Z"
   },
   {
    "duration": 14,
    "start_time": "2022-04-24T01:42:22.689Z"
   },
   {
    "duration": 14,
    "start_time": "2022-04-24T01:42:39.834Z"
   },
   {
    "duration": 1068,
    "start_time": "2022-04-24T01:44:09.889Z"
   },
   {
    "duration": 402,
    "start_time": "2022-04-24T01:44:10.959Z"
   },
   {
    "duration": 23,
    "start_time": "2022-04-24T01:44:11.362Z"
   },
   {
    "duration": 16,
    "start_time": "2022-04-24T01:44:11.386Z"
   },
   {
    "duration": 24,
    "start_time": "2022-04-24T01:44:11.404Z"
   },
   {
    "duration": 8,
    "start_time": "2022-04-24T01:44:11.429Z"
   },
   {
    "duration": 20,
    "start_time": "2022-04-24T01:44:11.439Z"
   },
   {
    "duration": 7,
    "start_time": "2022-04-24T01:44:11.461Z"
   },
   {
    "duration": 12,
    "start_time": "2022-04-24T01:44:11.469Z"
   },
   {
    "duration": 8,
    "start_time": "2022-04-24T01:44:11.484Z"
   },
   {
    "duration": 39,
    "start_time": "2022-04-24T01:44:11.493Z"
   },
   {
    "duration": 12,
    "start_time": "2022-04-24T01:44:11.534Z"
   },
   {
    "duration": 20,
    "start_time": "2022-04-24T01:44:11.547Z"
   },
   {
    "duration": 13,
    "start_time": "2022-04-24T01:44:11.568Z"
   },
   {
    "duration": 44,
    "start_time": "2022-04-24T01:44:11.583Z"
   },
   {
    "duration": 4,
    "start_time": "2022-04-24T01:44:11.628Z"
   },
   {
    "duration": 16,
    "start_time": "2022-04-24T01:44:11.633Z"
   },
   {
    "duration": 10,
    "start_time": "2022-04-24T01:44:11.651Z"
   },
   {
    "duration": 44,
    "start_time": "2022-04-24T01:44:11.662Z"
   },
   {
    "duration": 16,
    "start_time": "2022-04-24T01:44:11.708Z"
   },
   {
    "duration": 12,
    "start_time": "2022-04-24T01:44:11.726Z"
   },
   {
    "duration": 33,
    "start_time": "2022-04-24T01:44:11.740Z"
   },
   {
    "duration": 797,
    "start_time": "2022-04-24T01:44:11.775Z"
   },
   {
    "duration": 860,
    "start_time": "2022-04-24T01:44:12.574Z"
   },
   {
    "duration": 1504,
    "start_time": "2022-04-24T01:44:13.436Z"
   },
   {
    "duration": 949,
    "start_time": "2022-04-24T01:44:14.942Z"
   },
   {
    "duration": 7,
    "start_time": "2022-04-24T01:44:15.893Z"
   },
   {
    "duration": 37,
    "start_time": "2022-04-24T01:44:15.905Z"
   },
   {
    "duration": 10,
    "start_time": "2022-04-24T01:44:15.944Z"
   },
   {
    "duration": 8,
    "start_time": "2022-04-24T01:44:15.955Z"
   },
   {
    "duration": 22,
    "start_time": "2022-04-24T01:44:15.965Z"
   },
   {
    "duration": 53,
    "start_time": "2022-04-24T01:44:15.989Z"
   },
   {
    "duration": 5,
    "start_time": "2022-04-24T01:44:16.044Z"
   },
   {
    "duration": 74,
    "start_time": "2022-04-24T01:44:16.051Z"
   },
   {
    "duration": 6,
    "start_time": "2022-04-24T01:44:16.127Z"
   },
   {
    "duration": 61,
    "start_time": "2022-04-24T01:44:16.134Z"
   },
   {
    "duration": 28,
    "start_time": "2022-04-24T01:44:16.197Z"
   },
   {
    "duration": 59,
    "start_time": "2022-04-24T01:44:16.227Z"
   },
   {
    "duration": 17,
    "start_time": "2022-04-24T01:44:16.287Z"
   },
   {
    "duration": 16,
    "start_time": "2022-04-24T01:44:16.324Z"
   },
   {
    "duration": 4,
    "start_time": "2022-04-24T01:44:16.342Z"
   },
   {
    "duration": 16,
    "start_time": "2022-04-24T01:44:16.348Z"
   },
   {
    "duration": 22,
    "start_time": "2022-04-24T01:44:16.365Z"
   },
   {
    "duration": 53,
    "start_time": "2022-04-24T01:44:16.389Z"
   },
   {
    "duration": 20,
    "start_time": "2022-04-24T01:44:16.444Z"
   },
   {
    "duration": 261,
    "start_time": "2022-04-24T01:44:16.466Z"
   },
   {
    "duration": 6,
    "start_time": "2022-04-24T01:44:16.729Z"
   },
   {
    "duration": 230,
    "start_time": "2022-04-24T01:44:16.737Z"
   },
   {
    "duration": 6,
    "start_time": "2022-04-24T01:44:16.968Z"
   },
   {
    "duration": 153,
    "start_time": "2022-04-24T01:44:16.976Z"
   },
   {
    "duration": 20,
    "start_time": "2022-04-24T01:44:17.131Z"
   },
   {
    "duration": 222,
    "start_time": "2022-04-24T01:44:17.153Z"
   },
   {
    "duration": 5,
    "start_time": "2022-04-24T01:44:17.377Z"
   },
   {
    "duration": 223,
    "start_time": "2022-04-24T01:44:17.384Z"
   },
   {
    "duration": 5,
    "start_time": "2022-04-24T01:44:17.608Z"
   },
   {
    "duration": 163,
    "start_time": "2022-04-24T01:44:17.614Z"
   },
   {
    "duration": 28,
    "start_time": "2022-04-24T01:44:17.778Z"
   },
   {
    "duration": 530,
    "start_time": "2022-04-24T01:44:17.825Z"
   },
   {
    "duration": 8,
    "start_time": "2022-04-24T01:44:18.357Z"
   },
   {
    "duration": 227,
    "start_time": "2022-04-24T01:44:18.366Z"
   },
   {
    "duration": 5,
    "start_time": "2022-04-24T01:44:18.595Z"
   },
   {
    "duration": 160,
    "start_time": "2022-04-24T01:44:18.601Z"
   },
   {
    "duration": 20,
    "start_time": "2022-04-24T01:44:18.764Z"
   },
   {
    "duration": 228,
    "start_time": "2022-04-24T01:44:18.786Z"
   },
   {
    "duration": 216,
    "start_time": "2022-04-24T01:44:19.023Z"
   },
   {
    "duration": 157,
    "start_time": "2022-04-24T01:44:19.240Z"
   },
   {
    "duration": 4,
    "start_time": "2022-04-24T01:44:19.399Z"
   },
   {
    "duration": 19,
    "start_time": "2022-04-24T01:44:19.405Z"
   },
   {
    "duration": 6,
    "start_time": "2022-04-24T01:44:19.426Z"
   },
   {
    "duration": 8,
    "start_time": "2022-04-24T01:44:19.433Z"
   },
   {
    "duration": 7,
    "start_time": "2022-04-24T01:44:19.442Z"
   },
   {
    "duration": 15,
    "start_time": "2022-04-24T01:44:19.451Z"
   },
   {
    "duration": 10,
    "start_time": "2022-04-24T01:44:19.468Z"
   },
   {
    "duration": 6,
    "start_time": "2022-04-24T01:44:19.480Z"
   },
   {
    "duration": 5,
    "start_time": "2022-04-24T01:44:19.488Z"
   },
   {
    "duration": 32,
    "start_time": "2022-04-24T01:44:19.495Z"
   },
   {
    "duration": 5,
    "start_time": "2022-04-24T01:44:19.529Z"
   },
   {
    "duration": 23,
    "start_time": "2022-04-24T01:46:08.997Z"
   },
   {
    "duration": 2259,
    "start_time": "2022-04-24T01:47:00.688Z"
   },
   {
    "duration": 133,
    "start_time": "2022-04-24T01:56:27.460Z"
   },
   {
    "duration": 6,
    "start_time": "2022-04-24T01:57:34.478Z"
   },
   {
    "duration": 128,
    "start_time": "2022-04-24T01:57:40.294Z"
   },
   {
    "duration": 1378,
    "start_time": "2022-04-24T02:03:28.327Z"
   },
   {
    "duration": 646,
    "start_time": "2022-04-24T02:03:29.707Z"
   },
   {
    "duration": 42,
    "start_time": "2022-04-24T02:03:30.355Z"
   },
   {
    "duration": 24,
    "start_time": "2022-04-24T02:03:30.400Z"
   },
   {
    "duration": 35,
    "start_time": "2022-04-24T02:03:30.426Z"
   },
   {
    "duration": 14,
    "start_time": "2022-04-24T02:03:30.463Z"
   },
   {
    "duration": 48,
    "start_time": "2022-04-24T02:03:30.480Z"
   },
   {
    "duration": 10,
    "start_time": "2022-04-24T02:03:30.530Z"
   },
   {
    "duration": 38,
    "start_time": "2022-04-24T02:03:30.542Z"
   },
   {
    "duration": 19,
    "start_time": "2022-04-24T02:03:30.585Z"
   },
   {
    "duration": 23,
    "start_time": "2022-04-24T02:03:30.607Z"
   },
   {
    "duration": 30,
    "start_time": "2022-04-24T02:03:30.633Z"
   },
   {
    "duration": 24,
    "start_time": "2022-04-24T02:03:30.665Z"
   },
   {
    "duration": 26,
    "start_time": "2022-04-24T02:03:30.691Z"
   },
   {
    "duration": 33,
    "start_time": "2022-04-24T02:03:30.719Z"
   },
   {
    "duration": 4,
    "start_time": "2022-04-24T02:03:30.754Z"
   },
   {
    "duration": 26,
    "start_time": "2022-04-24T02:03:30.759Z"
   },
   {
    "duration": 69,
    "start_time": "2022-04-24T02:03:30.786Z"
   },
   {
    "duration": 9,
    "start_time": "2022-04-24T02:03:30.856Z"
   },
   {
    "duration": 24,
    "start_time": "2022-04-24T02:03:30.867Z"
   },
   {
    "duration": 50,
    "start_time": "2022-04-24T02:03:30.892Z"
   },
   {
    "duration": 789,
    "start_time": "2022-04-24T02:03:30.943Z"
   },
   {
    "duration": 771,
    "start_time": "2022-04-24T02:03:31.733Z"
   },
   {
    "duration": 459,
    "start_time": "2022-04-24T02:03:32.506Z"
   },
   {
    "duration": 549,
    "start_time": "2022-04-24T02:03:32.967Z"
   },
   {
    "duration": 13,
    "start_time": "2022-04-24T02:03:33.518Z"
   },
   {
    "duration": 25,
    "start_time": "2022-04-24T02:03:33.533Z"
   },
   {
    "duration": 12,
    "start_time": "2022-04-24T02:03:33.561Z"
   },
   {
    "duration": 12,
    "start_time": "2022-04-24T02:03:33.574Z"
   },
   {
    "duration": 53,
    "start_time": "2022-04-24T02:03:33.588Z"
   },
   {
    "duration": 25,
    "start_time": "2022-04-24T02:03:33.642Z"
   },
   {
    "duration": 4,
    "start_time": "2022-04-24T02:03:33.669Z"
   },
   {
    "duration": 81,
    "start_time": "2022-04-24T02:03:33.675Z"
   },
   {
    "duration": 4,
    "start_time": "2022-04-24T02:03:33.758Z"
   },
   {
    "duration": 73,
    "start_time": "2022-04-24T02:03:33.764Z"
   },
   {
    "duration": 6,
    "start_time": "2022-04-24T02:03:33.838Z"
   },
   {
    "duration": 58,
    "start_time": "2022-04-24T02:03:33.845Z"
   },
   {
    "duration": 28,
    "start_time": "2022-04-24T02:03:33.924Z"
   },
   {
    "duration": 22,
    "start_time": "2022-04-24T02:03:33.954Z"
   },
   {
    "duration": 4,
    "start_time": "2022-04-24T02:03:33.978Z"
   },
   {
    "duration": 41,
    "start_time": "2022-04-24T02:03:33.984Z"
   },
   {
    "duration": 35,
    "start_time": "2022-04-24T02:03:34.027Z"
   },
   {
    "duration": 30,
    "start_time": "2022-04-24T02:03:34.064Z"
   },
   {
    "duration": 54,
    "start_time": "2022-04-24T02:03:34.096Z"
   },
   {
    "duration": 432,
    "start_time": "2022-04-24T02:03:34.152Z"
   },
   {
    "duration": 8,
    "start_time": "2022-04-24T02:03:34.586Z"
   },
   {
    "duration": 402,
    "start_time": "2022-04-24T02:03:34.596Z"
   },
   {
    "duration": 7,
    "start_time": "2022-04-24T02:03:35.001Z"
   },
   {
    "duration": 237,
    "start_time": "2022-04-24T02:03:35.024Z"
   },
   {
    "duration": 32,
    "start_time": "2022-04-24T02:03:35.264Z"
   },
   {
    "duration": 231,
    "start_time": "2022-04-24T02:03:35.298Z"
   },
   {
    "duration": 6,
    "start_time": "2022-04-24T02:03:35.531Z"
   },
   {
    "duration": 235,
    "start_time": "2022-04-24T02:03:35.539Z"
   },
   {
    "duration": 7,
    "start_time": "2022-04-24T02:03:35.775Z"
   },
   {
    "duration": 164,
    "start_time": "2022-04-24T02:03:35.783Z"
   },
   {
    "duration": 20,
    "start_time": "2022-04-24T02:03:35.949Z"
   },
   {
    "duration": 314,
    "start_time": "2022-04-24T02:03:35.970Z"
   },
   {
    "duration": 6,
    "start_time": "2022-04-24T02:03:36.285Z"
   },
   {
    "duration": 239,
    "start_time": "2022-04-24T02:03:36.293Z"
   },
   {
    "duration": 6,
    "start_time": "2022-04-24T02:03:36.534Z"
   },
   {
    "duration": 167,
    "start_time": "2022-04-24T02:03:36.541Z"
   },
   {
    "duration": 26,
    "start_time": "2022-04-24T02:03:36.710Z"
   },
   {
    "duration": 257,
    "start_time": "2022-04-24T02:03:36.737Z"
   },
   {
    "duration": 224,
    "start_time": "2022-04-24T02:03:36.996Z"
   },
   {
    "duration": 153,
    "start_time": "2022-04-24T02:03:37.222Z"
   },
   {
    "duration": 4,
    "start_time": "2022-04-24T02:03:37.377Z"
   },
   {
    "duration": 9,
    "start_time": "2022-04-24T02:03:37.383Z"
   },
   {
    "duration": 18,
    "start_time": "2022-04-24T02:03:37.393Z"
   },
   {
    "duration": 15,
    "start_time": "2022-04-24T02:03:37.412Z"
   },
   {
    "duration": 8,
    "start_time": "2022-04-24T02:03:37.429Z"
   },
   {
    "duration": 15,
    "start_time": "2022-04-24T02:03:37.438Z"
   },
   {
    "duration": 12,
    "start_time": "2022-04-24T02:03:37.456Z"
   },
   {
    "duration": 11,
    "start_time": "2022-04-24T02:03:37.470Z"
   },
   {
    "duration": 7,
    "start_time": "2022-04-24T02:03:37.483Z"
   },
   {
    "duration": 11,
    "start_time": "2022-04-24T02:03:37.492Z"
   },
   {
    "duration": 22,
    "start_time": "2022-04-24T02:03:37.505Z"
   },
   {
    "duration": 1166,
    "start_time": "2022-04-26T10:56:21.268Z"
   },
   {
    "duration": 200,
    "start_time": "2022-04-26T10:56:22.436Z"
   },
   {
    "duration": 1,
    "start_time": "2022-04-26T10:56:22.640Z"
   },
   {
    "duration": 0,
    "start_time": "2022-04-26T10:56:22.642Z"
   },
   {
    "duration": 0,
    "start_time": "2022-04-26T10:56:22.643Z"
   },
   {
    "duration": 0,
    "start_time": "2022-04-26T10:56:22.647Z"
   },
   {
    "duration": 0,
    "start_time": "2022-04-26T10:56:22.648Z"
   },
   {
    "duration": 0,
    "start_time": "2022-04-26T10:56:22.649Z"
   },
   {
    "duration": 0,
    "start_time": "2022-04-26T10:56:22.650Z"
   },
   {
    "duration": 0,
    "start_time": "2022-04-26T10:56:22.651Z"
   },
   {
    "duration": 0,
    "start_time": "2022-04-26T10:56:22.652Z"
   },
   {
    "duration": 0,
    "start_time": "2022-04-26T10:56:22.653Z"
   },
   {
    "duration": 0,
    "start_time": "2022-04-26T10:56:22.654Z"
   },
   {
    "duration": 0,
    "start_time": "2022-04-26T10:56:22.655Z"
   },
   {
    "duration": 0,
    "start_time": "2022-04-26T10:56:22.656Z"
   },
   {
    "duration": 0,
    "start_time": "2022-04-26T10:56:22.657Z"
   },
   {
    "duration": 0,
    "start_time": "2022-04-26T10:56:22.658Z"
   },
   {
    "duration": 0,
    "start_time": "2022-04-26T10:56:22.659Z"
   },
   {
    "duration": 0,
    "start_time": "2022-04-26T10:56:22.660Z"
   },
   {
    "duration": 0,
    "start_time": "2022-04-26T10:56:22.661Z"
   },
   {
    "duration": 0,
    "start_time": "2022-04-26T10:56:22.662Z"
   },
   {
    "duration": 0,
    "start_time": "2022-04-26T10:56:22.663Z"
   },
   {
    "duration": 0,
    "start_time": "2022-04-26T10:56:22.664Z"
   },
   {
    "duration": 0,
    "start_time": "2022-04-26T10:56:22.666Z"
   },
   {
    "duration": 0,
    "start_time": "2022-04-26T10:56:22.667Z"
   },
   {
    "duration": 0,
    "start_time": "2022-04-26T10:56:22.668Z"
   },
   {
    "duration": 0,
    "start_time": "2022-04-26T10:56:22.669Z"
   },
   {
    "duration": 0,
    "start_time": "2022-04-26T10:56:22.670Z"
   },
   {
    "duration": 0,
    "start_time": "2022-04-26T10:56:22.671Z"
   },
   {
    "duration": 0,
    "start_time": "2022-04-26T10:56:22.672Z"
   },
   {
    "duration": 0,
    "start_time": "2022-04-26T10:56:22.673Z"
   },
   {
    "duration": 0,
    "start_time": "2022-04-26T10:56:22.674Z"
   },
   {
    "duration": 0,
    "start_time": "2022-04-26T10:56:22.675Z"
   },
   {
    "duration": 0,
    "start_time": "2022-04-26T10:56:22.676Z"
   },
   {
    "duration": 0,
    "start_time": "2022-04-26T10:56:22.677Z"
   },
   {
    "duration": 0,
    "start_time": "2022-04-26T10:56:22.678Z"
   },
   {
    "duration": 0,
    "start_time": "2022-04-26T10:56:22.679Z"
   },
   {
    "duration": 0,
    "start_time": "2022-04-26T10:56:22.680Z"
   },
   {
    "duration": 0,
    "start_time": "2022-04-26T10:56:22.681Z"
   },
   {
    "duration": 0,
    "start_time": "2022-04-26T10:56:22.682Z"
   },
   {
    "duration": 0,
    "start_time": "2022-04-26T10:56:22.683Z"
   },
   {
    "duration": 0,
    "start_time": "2022-04-26T10:56:22.684Z"
   },
   {
    "duration": 0,
    "start_time": "2022-04-26T10:56:22.747Z"
   },
   {
    "duration": 0,
    "start_time": "2022-04-26T10:56:22.748Z"
   },
   {
    "duration": 0,
    "start_time": "2022-04-26T10:56:22.749Z"
   },
   {
    "duration": 0,
    "start_time": "2022-04-26T10:56:22.751Z"
   },
   {
    "duration": 0,
    "start_time": "2022-04-26T10:56:22.752Z"
   },
   {
    "duration": 0,
    "start_time": "2022-04-26T10:56:22.753Z"
   },
   {
    "duration": 0,
    "start_time": "2022-04-26T10:56:22.754Z"
   },
   {
    "duration": 0,
    "start_time": "2022-04-26T10:56:22.755Z"
   },
   {
    "duration": 0,
    "start_time": "2022-04-26T10:56:22.756Z"
   },
   {
    "duration": 0,
    "start_time": "2022-04-26T10:56:22.757Z"
   },
   {
    "duration": 0,
    "start_time": "2022-04-26T10:56:22.758Z"
   },
   {
    "duration": 0,
    "start_time": "2022-04-26T10:56:22.759Z"
   },
   {
    "duration": 0,
    "start_time": "2022-04-26T10:56:22.760Z"
   },
   {
    "duration": 0,
    "start_time": "2022-04-26T10:56:22.761Z"
   },
   {
    "duration": 1,
    "start_time": "2022-04-26T10:56:22.761Z"
   },
   {
    "duration": 0,
    "start_time": "2022-04-26T10:56:22.762Z"
   },
   {
    "duration": 0,
    "start_time": "2022-04-26T10:56:22.763Z"
   },
   {
    "duration": 0,
    "start_time": "2022-04-26T10:56:22.764Z"
   },
   {
    "duration": 0,
    "start_time": "2022-04-26T10:56:22.765Z"
   },
   {
    "duration": 0,
    "start_time": "2022-04-26T10:56:22.766Z"
   },
   {
    "duration": 0,
    "start_time": "2022-04-26T10:56:22.767Z"
   },
   {
    "duration": 0,
    "start_time": "2022-04-26T10:56:22.768Z"
   },
   {
    "duration": 0,
    "start_time": "2022-04-26T10:56:22.769Z"
   },
   {
    "duration": 0,
    "start_time": "2022-04-26T10:56:22.770Z"
   },
   {
    "duration": 0,
    "start_time": "2022-04-26T10:56:22.771Z"
   },
   {
    "duration": 0,
    "start_time": "2022-04-26T10:56:22.772Z"
   },
   {
    "duration": 0,
    "start_time": "2022-04-26T10:56:22.773Z"
   },
   {
    "duration": 0,
    "start_time": "2022-04-26T10:56:22.774Z"
   },
   {
    "duration": 0,
    "start_time": "2022-04-26T10:56:22.775Z"
   },
   {
    "duration": 0,
    "start_time": "2022-04-26T10:56:22.776Z"
   },
   {
    "duration": 0,
    "start_time": "2022-04-26T10:56:22.777Z"
   },
   {
    "duration": 0,
    "start_time": "2022-04-26T10:56:22.778Z"
   },
   {
    "duration": 0,
    "start_time": "2022-04-26T10:56:22.779Z"
   },
   {
    "duration": 0,
    "start_time": "2022-04-26T10:56:22.780Z"
   },
   {
    "duration": 0,
    "start_time": "2022-04-26T10:56:22.781Z"
   },
   {
    "duration": 0,
    "start_time": "2022-04-26T10:56:22.782Z"
   },
   {
    "duration": 0,
    "start_time": "2022-04-26T10:56:22.783Z"
   },
   {
    "duration": 0,
    "start_time": "2022-04-26T10:56:22.848Z"
   },
   {
    "duration": 0,
    "start_time": "2022-04-26T10:56:22.849Z"
   },
   {
    "duration": 0,
    "start_time": "2022-04-26T10:56:22.850Z"
   },
   {
    "duration": 0,
    "start_time": "2022-04-26T10:56:22.851Z"
   },
   {
    "duration": 0,
    "start_time": "2022-04-26T10:56:22.852Z"
   },
   {
    "duration": 3,
    "start_time": "2022-04-26T10:56:32.372Z"
   },
   {
    "duration": 79,
    "start_time": "2022-04-26T10:56:32.378Z"
   },
   {
    "duration": 0,
    "start_time": "2022-04-26T10:56:32.459Z"
   },
   {
    "duration": 0,
    "start_time": "2022-04-26T10:56:32.460Z"
   },
   {
    "duration": 0,
    "start_time": "2022-04-26T10:56:32.461Z"
   },
   {
    "duration": 0,
    "start_time": "2022-04-26T10:56:32.462Z"
   },
   {
    "duration": 0,
    "start_time": "2022-04-26T10:56:32.462Z"
   },
   {
    "duration": 0,
    "start_time": "2022-04-26T10:56:32.463Z"
   },
   {
    "duration": 0,
    "start_time": "2022-04-26T10:56:32.464Z"
   },
   {
    "duration": 0,
    "start_time": "2022-04-26T10:56:32.465Z"
   },
   {
    "duration": 0,
    "start_time": "2022-04-26T10:56:32.466Z"
   },
   {
    "duration": 0,
    "start_time": "2022-04-26T10:56:32.467Z"
   },
   {
    "duration": 0,
    "start_time": "2022-04-26T10:56:32.468Z"
   },
   {
    "duration": 0,
    "start_time": "2022-04-26T10:56:32.469Z"
   },
   {
    "duration": 0,
    "start_time": "2022-04-26T10:56:32.469Z"
   },
   {
    "duration": 8,
    "start_time": "2022-04-26T10:56:32.471Z"
   },
   {
    "duration": 0,
    "start_time": "2022-04-26T10:56:32.481Z"
   },
   {
    "duration": 0,
    "start_time": "2022-04-26T10:56:32.482Z"
   },
   {
    "duration": 5,
    "start_time": "2022-04-26T10:56:32.483Z"
   },
   {
    "duration": 59,
    "start_time": "2022-04-26T10:56:32.489Z"
   },
   {
    "duration": 0,
    "start_time": "2022-04-26T10:56:32.550Z"
   },
   {
    "duration": 0,
    "start_time": "2022-04-26T10:56:32.551Z"
   },
   {
    "duration": 0,
    "start_time": "2022-04-26T10:56:32.552Z"
   },
   {
    "duration": 0,
    "start_time": "2022-04-26T10:56:32.553Z"
   },
   {
    "duration": 7,
    "start_time": "2022-04-26T10:56:32.554Z"
   },
   {
    "duration": 0,
    "start_time": "2022-04-26T10:56:32.562Z"
   },
   {
    "duration": 0,
    "start_time": "2022-04-26T10:56:32.564Z"
   },
   {
    "duration": 8,
    "start_time": "2022-04-26T10:56:32.768Z"
   },
   {
    "duration": 0,
    "start_time": "2022-04-26T10:56:32.778Z"
   },
   {
    "duration": 0,
    "start_time": "2022-04-26T10:56:32.780Z"
   },
   {
    "duration": 11,
    "start_time": "2022-04-26T10:56:32.782Z"
   },
   {
    "duration": 0,
    "start_time": "2022-04-26T10:56:32.795Z"
   },
   {
    "duration": 0,
    "start_time": "2022-04-26T10:56:32.796Z"
   },
   {
    "duration": 0,
    "start_time": "2022-04-26T10:56:32.797Z"
   },
   {
    "duration": 10,
    "start_time": "2022-04-26T10:56:32.799Z"
   },
   {
    "duration": 0,
    "start_time": "2022-04-26T10:56:32.811Z"
   },
   {
    "duration": 0,
    "start_time": "2022-04-26T10:56:32.812Z"
   },
   {
    "duration": 0,
    "start_time": "2022-04-26T10:56:32.813Z"
   },
   {
    "duration": 7,
    "start_time": "2022-04-26T10:56:32.848Z"
   },
   {
    "duration": 14,
    "start_time": "2022-04-26T10:56:32.856Z"
   },
   {
    "duration": 5,
    "start_time": "2022-04-26T10:56:33.009Z"
   },
   {
    "duration": 9,
    "start_time": "2022-04-26T10:56:33.016Z"
   },
   {
    "duration": 0,
    "start_time": "2022-04-26T10:56:33.027Z"
   },
   {
    "duration": 0,
    "start_time": "2022-04-26T10:56:33.028Z"
   },
   {
    "duration": 11,
    "start_time": "2022-04-26T10:56:33.029Z"
   },
   {
    "duration": 0,
    "start_time": "2022-04-26T10:56:33.042Z"
   },
   {
    "duration": 0,
    "start_time": "2022-04-26T10:56:33.043Z"
   },
   {
    "duration": 13,
    "start_time": "2022-04-26T10:56:33.045Z"
   },
   {
    "duration": 0,
    "start_time": "2022-04-26T10:56:33.059Z"
   },
   {
    "duration": 0,
    "start_time": "2022-04-26T10:56:33.060Z"
   },
   {
    "duration": 0,
    "start_time": "2022-04-26T10:56:33.061Z"
   },
   {
    "duration": 8,
    "start_time": "2022-04-26T10:56:33.063Z"
   },
   {
    "duration": 0,
    "start_time": "2022-04-26T10:56:33.072Z"
   },
   {
    "duration": 0,
    "start_time": "2022-04-26T10:56:33.073Z"
   },
   {
    "duration": 7,
    "start_time": "2022-04-26T10:56:33.078Z"
   },
   {
    "duration": 0,
    "start_time": "2022-04-26T10:56:33.086Z"
   },
   {
    "duration": 3,
    "start_time": "2022-04-26T10:56:33.088Z"
   },
   {
    "duration": 10,
    "start_time": "2022-04-26T10:56:33.093Z"
   },
   {
    "duration": 0,
    "start_time": "2022-04-26T10:56:33.104Z"
   },
   {
    "duration": 0,
    "start_time": "2022-04-26T10:56:33.105Z"
   },
   {
    "duration": 48,
    "start_time": "2022-04-26T10:56:33.106Z"
   },
   {
    "duration": 0,
    "start_time": "2022-04-26T10:56:33.156Z"
   },
   {
    "duration": 0,
    "start_time": "2022-04-26T10:56:33.157Z"
   },
   {
    "duration": 0,
    "start_time": "2022-04-26T10:56:33.158Z"
   },
   {
    "duration": 0,
    "start_time": "2022-04-26T10:56:33.159Z"
   },
   {
    "duration": 0,
    "start_time": "2022-04-26T10:56:33.161Z"
   },
   {
    "duration": 0,
    "start_time": "2022-04-26T10:56:33.161Z"
   },
   {
    "duration": 0,
    "start_time": "2022-04-26T10:56:33.162Z"
   },
   {
    "duration": 0,
    "start_time": "2022-04-26T10:56:33.163Z"
   },
   {
    "duration": 0,
    "start_time": "2022-04-26T10:56:33.164Z"
   },
   {
    "duration": 0,
    "start_time": "2022-04-26T10:56:33.165Z"
   },
   {
    "duration": 9,
    "start_time": "2022-04-26T10:56:33.167Z"
   },
   {
    "duration": 0,
    "start_time": "2022-04-26T10:56:33.177Z"
   },
   {
    "duration": 0,
    "start_time": "2022-04-26T10:56:33.179Z"
   },
   {
    "duration": 0,
    "start_time": "2022-04-26T10:56:33.180Z"
   },
   {
    "duration": 0,
    "start_time": "2022-04-26T10:56:33.181Z"
   },
   {
    "duration": 8,
    "start_time": "2022-04-26T10:56:33.183Z"
   },
   {
    "duration": 0,
    "start_time": "2022-04-26T10:56:33.249Z"
   },
   {
    "duration": 7,
    "start_time": "2022-04-26T10:56:33.253Z"
   },
   {
    "duration": 0,
    "start_time": "2022-04-26T10:56:33.262Z"
   },
   {
    "duration": 0,
    "start_time": "2022-04-26T10:56:33.263Z"
   },
   {
    "duration": 0,
    "start_time": "2022-04-26T10:56:33.264Z"
   },
   {
    "duration": 0,
    "start_time": "2022-04-26T10:56:33.265Z"
   },
   {
    "duration": 0,
    "start_time": "2022-04-26T10:56:33.266Z"
   },
   {
    "duration": 359,
    "start_time": "2022-04-26T10:57:27.641Z"
   },
   {
    "duration": 2,
    "start_time": "2022-04-26T10:57:38.399Z"
   },
   {
    "duration": 401,
    "start_time": "2022-04-26T10:57:38.434Z"
   },
   {
    "duration": 29,
    "start_time": "2022-04-26T10:57:38.837Z"
   },
   {
    "duration": 14,
    "start_time": "2022-04-26T10:57:38.867Z"
   },
   {
    "duration": 20,
    "start_time": "2022-04-26T10:57:38.883Z"
   },
   {
    "duration": 8,
    "start_time": "2022-04-26T10:57:38.904Z"
   },
   {
    "duration": 44,
    "start_time": "2022-04-26T10:57:38.914Z"
   },
   {
    "duration": 7,
    "start_time": "2022-04-26T10:57:38.959Z"
   },
   {
    "duration": 11,
    "start_time": "2022-04-26T10:57:38.968Z"
   },
   {
    "duration": 8,
    "start_time": "2022-04-26T10:57:38.981Z"
   },
   {
    "duration": 11,
    "start_time": "2022-04-26T10:57:38.992Z"
   },
   {
    "duration": 10,
    "start_time": "2022-04-26T10:57:39.004Z"
   },
   {
    "duration": 235,
    "start_time": "2022-04-26T10:57:39.016Z"
   },
   {
    "duration": 231,
    "start_time": "2022-04-26T10:57:39.252Z"
   },
   {
    "duration": 20,
    "start_time": "2022-04-26T10:57:39.484Z"
   },
   {
    "duration": 9,
    "start_time": "2022-04-26T10:57:39.506Z"
   },
   {
    "duration": 44,
    "start_time": "2022-04-26T10:57:39.516Z"
   },
   {
    "duration": 4,
    "start_time": "2022-04-26T10:57:39.562Z"
   },
   {
    "duration": 7,
    "start_time": "2022-04-26T10:57:39.567Z"
   },
   {
    "duration": 31,
    "start_time": "2022-04-26T10:57:39.576Z"
   },
   {
    "duration": 60,
    "start_time": "2022-04-26T10:57:39.609Z"
   },
   {
    "duration": 5,
    "start_time": "2022-04-26T10:57:39.671Z"
   },
   {
    "duration": 9,
    "start_time": "2022-04-26T10:57:39.677Z"
   },
   {
    "duration": 37,
    "start_time": "2022-04-26T10:57:39.688Z"
   },
   {
    "duration": 771,
    "start_time": "2022-04-26T10:57:39.747Z"
   },
   {
    "duration": 782,
    "start_time": "2022-04-26T10:57:40.520Z"
   },
   {
    "duration": 470,
    "start_time": "2022-04-26T10:57:41.304Z"
   },
   {
    "duration": 557,
    "start_time": "2022-04-26T10:57:41.775Z"
   },
   {
    "duration": 13,
    "start_time": "2022-04-26T10:57:42.336Z"
   },
   {
    "duration": 24,
    "start_time": "2022-04-26T10:57:42.350Z"
   },
   {
    "duration": 10,
    "start_time": "2022-04-26T10:57:42.376Z"
   },
   {
    "duration": 10,
    "start_time": "2022-04-26T10:57:42.387Z"
   },
   {
    "duration": 50,
    "start_time": "2022-04-26T10:57:42.398Z"
   },
   {
    "duration": 25,
    "start_time": "2022-04-26T10:57:42.449Z"
   },
   {
    "duration": 11,
    "start_time": "2022-04-26T10:57:42.476Z"
   },
   {
    "duration": 14,
    "start_time": "2022-04-26T10:57:42.488Z"
   },
   {
    "duration": 10,
    "start_time": "2022-04-26T10:57:42.504Z"
   },
   {
    "duration": 34,
    "start_time": "2022-04-26T10:57:42.516Z"
   },
   {
    "duration": 60,
    "start_time": "2022-04-26T10:57:42.552Z"
   },
   {
    "duration": 5,
    "start_time": "2022-04-26T10:57:42.613Z"
   },
   {
    "duration": 81,
    "start_time": "2022-04-26T10:57:42.620Z"
   },
   {
    "duration": 5,
    "start_time": "2022-04-26T10:57:42.702Z"
   },
   {
    "duration": 69,
    "start_time": "2022-04-26T10:57:42.709Z"
   },
   {
    "duration": 16,
    "start_time": "2022-04-26T10:57:42.780Z"
   },
   {
    "duration": 13,
    "start_time": "2022-04-26T10:57:42.798Z"
   },
   {
    "duration": 4,
    "start_time": "2022-04-26T10:57:42.812Z"
   },
   {
    "duration": 40,
    "start_time": "2022-04-26T10:57:42.817Z"
   },
   {
    "duration": 21,
    "start_time": "2022-04-26T10:57:42.859Z"
   },
   {
    "duration": 20,
    "start_time": "2022-04-26T10:57:42.882Z"
   },
   {
    "duration": 2,
    "start_time": "2022-04-26T10:57:42.904Z"
   },
   {
    "duration": 254,
    "start_time": "2022-04-26T10:57:42.907Z"
   },
   {
    "duration": 6,
    "start_time": "2022-04-26T10:57:43.163Z"
   },
   {
    "duration": 230,
    "start_time": "2022-04-26T10:57:43.171Z"
   },
   {
    "duration": 6,
    "start_time": "2022-04-26T10:57:43.402Z"
   },
   {
    "duration": 171,
    "start_time": "2022-04-26T10:57:43.410Z"
   },
   {
    "duration": 3,
    "start_time": "2022-04-26T10:57:43.582Z"
   },
   {
    "duration": 238,
    "start_time": "2022-04-26T10:57:43.586Z"
   },
   {
    "duration": 6,
    "start_time": "2022-04-26T10:57:43.825Z"
   },
   {
    "duration": 299,
    "start_time": "2022-04-26T10:57:43.832Z"
   },
   {
    "duration": 14,
    "start_time": "2022-04-26T10:57:44.133Z"
   },
   {
    "duration": 143,
    "start_time": "2022-04-26T10:57:44.149Z"
   },
   {
    "duration": 2,
    "start_time": "2022-04-26T10:57:44.294Z"
   },
   {
    "duration": 8,
    "start_time": "2022-04-26T10:57:44.297Z"
   },
   {
    "duration": 236,
    "start_time": "2022-04-26T10:57:44.306Z"
   },
   {
    "duration": 7,
    "start_time": "2022-04-26T10:57:44.546Z"
   },
   {
    "duration": 212,
    "start_time": "2022-04-26T10:57:44.555Z"
   },
   {
    "duration": 6,
    "start_time": "2022-04-26T10:57:44.768Z"
   },
   {
    "duration": 159,
    "start_time": "2022-04-26T10:57:44.776Z"
   },
   {
    "duration": 2,
    "start_time": "2022-04-26T10:57:44.937Z"
   },
   {
    "duration": 223,
    "start_time": "2022-04-26T10:57:44.948Z"
   },
   {
    "duration": 316,
    "start_time": "2022-04-26T10:57:45.173Z"
   },
   {
    "duration": 158,
    "start_time": "2022-04-26T10:57:45.491Z"
   },
   {
    "duration": 5,
    "start_time": "2022-04-26T10:57:45.651Z"
   },
   {
    "duration": 9,
    "start_time": "2022-04-26T10:57:45.658Z"
   },
   {
    "duration": 11,
    "start_time": "2022-04-26T10:57:45.669Z"
   },
   {
    "duration": 6,
    "start_time": "2022-04-26T10:57:45.682Z"
   },
   {
    "duration": 10,
    "start_time": "2022-04-26T10:57:45.690Z"
   },
   {
    "duration": 21,
    "start_time": "2022-04-26T10:57:45.701Z"
   },
   {
    "duration": 29,
    "start_time": "2022-04-26T10:57:45.723Z"
   },
   {
    "duration": 10,
    "start_time": "2022-04-26T10:57:45.754Z"
   },
   {
    "duration": 5,
    "start_time": "2022-04-26T10:57:45.766Z"
   },
   {
    "duration": 5,
    "start_time": "2022-04-26T10:57:45.773Z"
   },
   {
    "duration": 2,
    "start_time": "2022-04-26T10:57:45.784Z"
   },
   {
    "duration": 20,
    "start_time": "2022-04-26T10:59:22.062Z"
   },
   {
    "duration": 11,
    "start_time": "2022-04-26T10:59:34.654Z"
   },
   {
    "duration": 57,
    "start_time": "2022-04-26T11:00:08.329Z"
   },
   {
    "duration": 4,
    "start_time": "2022-04-26T11:00:28.235Z"
   },
   {
    "duration": 13,
    "start_time": "2022-04-26T11:00:31.046Z"
   },
   {
    "duration": 2,
    "start_time": "2022-04-26T11:00:42.234Z"
   },
   {
    "duration": 349,
    "start_time": "2022-04-26T11:00:51.033Z"
   },
   {
    "duration": 25,
    "start_time": "2022-04-26T11:00:55.622Z"
   },
   {
    "duration": 13,
    "start_time": "2022-04-26T11:00:58.771Z"
   },
   {
    "duration": 20,
    "start_time": "2022-04-26T11:01:06.173Z"
   },
   {
    "duration": 8,
    "start_time": "2022-04-26T11:01:09.426Z"
   },
   {
    "duration": 18,
    "start_time": "2022-04-26T11:01:14.557Z"
   },
   {
    "duration": 7,
    "start_time": "2022-04-26T11:01:18.102Z"
   },
   {
    "duration": 10,
    "start_time": "2022-04-26T11:01:25.162Z"
   },
   {
    "duration": 7,
    "start_time": "2022-04-26T11:01:28.595Z"
   },
   {
    "duration": 11,
    "start_time": "2022-04-26T11:01:34.101Z"
   },
   {
    "duration": 11,
    "start_time": "2022-04-26T11:01:36.973Z"
   },
   {
    "duration": 198,
    "start_time": "2022-04-26T11:01:42.853Z"
   },
   {
    "duration": 213,
    "start_time": "2022-04-26T11:01:45.930Z"
   },
   {
    "duration": 20,
    "start_time": "2022-04-26T11:01:50.330Z"
   },
   {
    "duration": 24,
    "start_time": "2022-04-26T11:02:13.061Z"
   },
   {
    "duration": 7,
    "start_time": "2022-04-26T11:02:18.424Z"
   },
   {
    "duration": 40,
    "start_time": "2022-04-26T11:02:24.358Z"
   },
   {
    "duration": 4,
    "start_time": "2022-04-26T11:02:29.629Z"
   },
   {
    "duration": 8,
    "start_time": "2022-04-26T11:02:33.199Z"
   },
   {
    "duration": 38,
    "start_time": "2022-04-26T11:02:37.225Z"
   },
   {
    "duration": 8,
    "start_time": "2022-04-26T11:02:55.256Z"
   },
   {
    "duration": 789,
    "start_time": "2022-04-26T11:02:59.239Z"
   },
   {
    "duration": 792,
    "start_time": "2022-04-26T11:03:04.495Z"
   },
   {
    "duration": 471,
    "start_time": "2022-04-26T11:03:10.377Z"
   },
   {
    "duration": 562,
    "start_time": "2022-04-26T11:03:14.849Z"
   },
   {
    "duration": 8,
    "start_time": "2022-04-26T11:03:24.232Z"
   },
   {
    "duration": 25,
    "start_time": "2022-04-26T11:03:27.289Z"
   },
   {
    "duration": 11,
    "start_time": "2022-04-26T11:03:29.184Z"
   },
   {
    "duration": 8,
    "start_time": "2022-04-26T11:03:42.357Z"
   },
   {
    "duration": 22,
    "start_time": "2022-04-26T11:03:44.935Z"
   },
   {
    "duration": 24,
    "start_time": "2022-04-26T11:03:51.564Z"
   },
   {
    "duration": 13,
    "start_time": "2022-04-26T11:03:59.942Z"
   },
   {
    "duration": 18,
    "start_time": "2022-04-26T11:04:06.168Z"
   },
   {
    "duration": 13,
    "start_time": "2022-04-26T11:04:10.867Z"
   },
   {
    "duration": 7,
    "start_time": "2022-04-26T11:04:31.503Z"
   },
   {
    "duration": 7,
    "start_time": "2022-04-26T11:04:36.078Z"
   },
   {
    "duration": 7,
    "start_time": "2022-04-26T11:04:39.210Z"
   },
   {
    "duration": 23,
    "start_time": "2022-04-26T11:04:42.692Z"
   },
   {
    "duration": 18,
    "start_time": "2022-04-26T11:06:41.700Z"
   },
   {
    "duration": 3,
    "start_time": "2022-04-26T11:07:00.490Z"
   },
   {
    "duration": 404,
    "start_time": "2022-04-26T11:07:00.524Z"
   },
   {
    "duration": 27,
    "start_time": "2022-04-26T11:07:00.931Z"
   },
   {
    "duration": 14,
    "start_time": "2022-04-26T11:07:00.960Z"
   },
   {
    "duration": 21,
    "start_time": "2022-04-26T11:07:00.977Z"
   },
   {
    "duration": 9,
    "start_time": "2022-04-26T11:07:01.000Z"
   },
   {
    "duration": 62,
    "start_time": "2022-04-26T11:07:01.011Z"
   },
   {
    "duration": 9,
    "start_time": "2022-04-26T11:07:01.075Z"
   },
   {
    "duration": 15,
    "start_time": "2022-04-26T11:07:01.086Z"
   },
   {
    "duration": 15,
    "start_time": "2022-04-26T11:07:01.103Z"
   },
   {
    "duration": 13,
    "start_time": "2022-04-26T11:07:01.121Z"
   },
   {
    "duration": 20,
    "start_time": "2022-04-26T11:07:01.135Z"
   },
   {
    "duration": 221,
    "start_time": "2022-04-26T11:07:01.157Z"
   },
   {
    "duration": 225,
    "start_time": "2022-04-26T11:07:01.379Z"
   },
   {
    "duration": 21,
    "start_time": "2022-04-26T11:07:01.605Z"
   },
   {
    "duration": 24,
    "start_time": "2022-04-26T11:07:01.628Z"
   },
   {
    "duration": 26,
    "start_time": "2022-04-26T11:07:01.654Z"
   },
   {
    "duration": 4,
    "start_time": "2022-04-26T11:07:01.682Z"
   },
   {
    "duration": 7,
    "start_time": "2022-04-26T11:07:01.687Z"
   },
   {
    "duration": 33,
    "start_time": "2022-04-26T11:07:01.696Z"
   },
   {
    "duration": 32,
    "start_time": "2022-04-26T11:07:01.731Z"
   },
   {
    "duration": 4,
    "start_time": "2022-04-26T11:07:01.765Z"
   },
   {
    "duration": 9,
    "start_time": "2022-04-26T11:07:01.771Z"
   },
   {
    "duration": 910,
    "start_time": "2022-04-26T11:07:01.782Z"
   },
   {
    "duration": 800,
    "start_time": "2022-04-26T11:07:02.694Z"
   },
   {
    "duration": 518,
    "start_time": "2022-04-26T11:07:03.495Z"
   },
   {
    "duration": 579,
    "start_time": "2022-04-26T11:07:04.015Z"
   },
   {
    "duration": 7,
    "start_time": "2022-04-26T11:07:04.596Z"
   },
   {
    "duration": 41,
    "start_time": "2022-04-26T11:07:04.607Z"
   },
   {
    "duration": 11,
    "start_time": "2022-04-26T11:07:04.650Z"
   },
   {
    "duration": 9,
    "start_time": "2022-04-26T11:07:04.663Z"
   },
   {
    "duration": 23,
    "start_time": "2022-04-26T11:07:04.673Z"
   },
   {
    "duration": 53,
    "start_time": "2022-04-26T11:07:04.697Z"
   },
   {
    "duration": 12,
    "start_time": "2022-04-26T11:07:04.752Z"
   },
   {
    "duration": 20,
    "start_time": "2022-04-26T11:07:04.765Z"
   },
   {
    "duration": 12,
    "start_time": "2022-04-26T11:07:04.786Z"
   },
   {
    "duration": 6,
    "start_time": "2022-04-26T11:07:04.799Z"
   },
   {
    "duration": 97,
    "start_time": "2022-04-26T11:07:04.806Z"
   },
   {
    "duration": 5,
    "start_time": "2022-04-26T11:07:04.905Z"
   },
   {
    "duration": 75,
    "start_time": "2022-04-26T11:07:04.911Z"
   },
   {
    "duration": 5,
    "start_time": "2022-04-26T11:07:04.988Z"
   },
   {
    "duration": 118,
    "start_time": "2022-04-26T11:07:04.995Z"
   },
   {
    "duration": 34,
    "start_time": "2022-04-26T11:07:05.115Z"
   },
   {
    "duration": 19,
    "start_time": "2022-04-26T11:07:05.152Z"
   },
   {
    "duration": 8,
    "start_time": "2022-04-26T11:07:05.172Z"
   },
   {
    "duration": 13,
    "start_time": "2022-04-26T11:07:05.182Z"
   },
   {
    "duration": 57,
    "start_time": "2022-04-26T11:07:05.197Z"
   },
   {
    "duration": 28,
    "start_time": "2022-04-26T11:07:05.257Z"
   },
   {
    "duration": 2,
    "start_time": "2022-04-26T11:07:05.287Z"
   },
   {
    "duration": 362,
    "start_time": "2022-04-26T11:07:05.291Z"
   },
   {
    "duration": 8,
    "start_time": "2022-04-26T11:07:05.655Z"
   },
   {
    "duration": 230,
    "start_time": "2022-04-26T11:07:05.665Z"
   },
   {
    "duration": 6,
    "start_time": "2022-04-26T11:07:05.897Z"
   },
   {
    "duration": 170,
    "start_time": "2022-04-26T11:07:05.905Z"
   },
   {
    "duration": 2,
    "start_time": "2022-04-26T11:07:06.077Z"
   },
   {
    "duration": 376,
    "start_time": "2022-04-26T11:07:06.081Z"
   },
   {
    "duration": 8,
    "start_time": "2022-04-26T11:07:06.461Z"
   },
   {
    "duration": 240,
    "start_time": "2022-04-26T11:07:06.471Z"
   },
   {
    "duration": 6,
    "start_time": "2022-04-26T11:07:06.713Z"
   },
   {
    "duration": 176,
    "start_time": "2022-04-26T11:07:06.721Z"
   },
   {
    "duration": 2,
    "start_time": "2022-04-26T11:07:06.899Z"
   },
   {
    "duration": 8,
    "start_time": "2022-04-26T11:07:06.903Z"
   },
   {
    "duration": 277,
    "start_time": "2022-04-26T11:07:06.913Z"
   },
   {
    "duration": 7,
    "start_time": "2022-04-26T11:07:07.192Z"
   },
   {
    "duration": 226,
    "start_time": "2022-04-26T11:07:07.200Z"
   },
   {
    "duration": 6,
    "start_time": "2022-04-26T11:07:07.428Z"
   },
   {
    "duration": 168,
    "start_time": "2022-04-26T11:07:07.436Z"
   },
   {
    "duration": 3,
    "start_time": "2022-04-26T11:07:07.605Z"
   },
   {
    "duration": 330,
    "start_time": "2022-04-26T11:07:07.610Z"
   },
   {
    "duration": 270,
    "start_time": "2022-04-26T11:07:07.947Z"
   },
   {
    "duration": 194,
    "start_time": "2022-04-26T11:07:08.220Z"
   },
   {
    "duration": 4,
    "start_time": "2022-04-26T11:07:08.416Z"
   },
   {
    "duration": 15,
    "start_time": "2022-04-26T11:07:08.422Z"
   },
   {
    "duration": 12,
    "start_time": "2022-04-26T11:07:08.447Z"
   },
   {
    "duration": 10,
    "start_time": "2022-04-26T11:07:08.462Z"
   },
   {
    "duration": 5,
    "start_time": "2022-04-26T11:07:08.474Z"
   },
   {
    "duration": 14,
    "start_time": "2022-04-26T11:07:08.481Z"
   },
   {
    "duration": 9,
    "start_time": "2022-04-26T11:07:08.496Z"
   },
   {
    "duration": 6,
    "start_time": "2022-04-26T11:07:08.506Z"
   },
   {
    "duration": 5,
    "start_time": "2022-04-26T11:07:08.514Z"
   },
   {
    "duration": 7,
    "start_time": "2022-04-26T11:07:08.554Z"
   },
   {
    "duration": 7,
    "start_time": "2022-04-26T11:07:08.565Z"
   },
   {
    "duration": 161,
    "start_time": "2022-04-27T07:43:51.508Z"
   },
   {
    "duration": 155,
    "start_time": "2022-04-27T07:45:39.628Z"
   },
   {
    "duration": 47,
    "start_time": "2022-04-27T07:55:13.736Z"
   },
   {
    "duration": 1314,
    "start_time": "2022-04-27T07:55:19.565Z"
   },
   {
    "duration": 447,
    "start_time": "2022-04-27T07:55:20.882Z"
   },
   {
    "duration": 46,
    "start_time": "2022-04-27T07:55:21.331Z"
   },
   {
    "duration": 25,
    "start_time": "2022-04-27T07:55:21.380Z"
   },
   {
    "duration": 37,
    "start_time": "2022-04-27T07:55:21.408Z"
   },
   {
    "duration": 10,
    "start_time": "2022-04-27T07:55:21.447Z"
   },
   {
    "duration": 44,
    "start_time": "2022-04-27T07:55:21.458Z"
   },
   {
    "duration": 9,
    "start_time": "2022-04-27T07:55:21.504Z"
   },
   {
    "duration": 16,
    "start_time": "2022-04-27T07:55:21.515Z"
   },
   {
    "duration": 16,
    "start_time": "2022-04-27T07:55:21.535Z"
   },
   {
    "duration": 39,
    "start_time": "2022-04-27T07:55:21.554Z"
   },
   {
    "duration": 15,
    "start_time": "2022-04-27T07:55:21.595Z"
   },
   {
    "duration": 260,
    "start_time": "2022-04-27T07:55:21.612Z"
   },
   {
    "duration": 266,
    "start_time": "2022-04-27T07:55:21.874Z"
   },
   {
    "duration": 24,
    "start_time": "2022-04-27T07:55:22.142Z"
   },
   {
    "duration": 24,
    "start_time": "2022-04-27T07:55:22.168Z"
   },
   {
    "duration": 28,
    "start_time": "2022-04-27T07:55:22.194Z"
   },
   {
    "duration": 5,
    "start_time": "2022-04-27T07:55:22.223Z"
   },
   {
    "duration": 11,
    "start_time": "2022-04-27T07:55:22.229Z"
   },
   {
    "duration": 59,
    "start_time": "2022-04-27T07:55:22.241Z"
   },
   {
    "duration": 38,
    "start_time": "2022-04-27T07:55:22.302Z"
   },
   {
    "duration": 5,
    "start_time": "2022-04-27T07:55:22.341Z"
   },
   {
    "duration": 10,
    "start_time": "2022-04-27T07:55:22.347Z"
   },
   {
    "duration": 904,
    "start_time": "2022-04-27T07:55:22.359Z"
   },
   {
    "duration": 884,
    "start_time": "2022-04-27T07:55:23.265Z"
   },
   {
    "duration": 525,
    "start_time": "2022-04-27T07:55:24.151Z"
   },
   {
    "duration": 623,
    "start_time": "2022-04-27T07:55:24.678Z"
   },
   {
    "duration": 8,
    "start_time": "2022-04-27T07:55:25.305Z"
   },
   {
    "duration": 26,
    "start_time": "2022-04-27T07:55:25.315Z"
   },
   {
    "duration": 10,
    "start_time": "2022-04-27T07:55:25.343Z"
   },
   {
    "duration": 39,
    "start_time": "2022-04-27T07:55:25.355Z"
   },
   {
    "duration": 28,
    "start_time": "2022-04-27T07:55:25.396Z"
   },
   {
    "duration": 26,
    "start_time": "2022-04-27T07:55:25.426Z"
   },
   {
    "duration": 39,
    "start_time": "2022-04-27T07:55:25.453Z"
   },
   {
    "duration": 22,
    "start_time": "2022-04-27T07:55:25.494Z"
   },
   {
    "duration": 13,
    "start_time": "2022-04-27T07:55:25.517Z"
   },
   {
    "duration": 22,
    "start_time": "2022-04-27T07:55:25.532Z"
   },
   {
    "duration": 5,
    "start_time": "2022-04-27T07:55:25.556Z"
   },
   {
    "duration": 98,
    "start_time": "2022-04-27T07:55:25.563Z"
   },
   {
    "duration": 5,
    "start_time": "2022-04-27T07:55:25.663Z"
   },
   {
    "duration": 80,
    "start_time": "2022-04-27T07:55:25.670Z"
   },
   {
    "duration": 6,
    "start_time": "2022-04-27T07:55:25.751Z"
   },
   {
    "duration": 79,
    "start_time": "2022-04-27T07:55:25.758Z"
   },
   {
    "duration": 19,
    "start_time": "2022-04-27T07:55:25.838Z"
   },
   {
    "duration": 36,
    "start_time": "2022-04-27T07:55:25.858Z"
   },
   {
    "duration": 5,
    "start_time": "2022-04-27T07:55:25.895Z"
   },
   {
    "duration": 15,
    "start_time": "2022-04-27T07:55:25.902Z"
   },
   {
    "duration": 24,
    "start_time": "2022-04-27T07:55:25.919Z"
   },
   {
    "duration": 53,
    "start_time": "2022-04-27T07:55:25.944Z"
   },
   {
    "duration": 3,
    "start_time": "2022-04-27T07:55:25.998Z"
   },
   {
    "duration": 269,
    "start_time": "2022-04-27T07:55:26.003Z"
   },
   {
    "duration": 7,
    "start_time": "2022-04-27T07:55:26.274Z"
   },
   {
    "duration": 254,
    "start_time": "2022-04-27T07:55:26.292Z"
   },
   {
    "duration": 7,
    "start_time": "2022-04-27T07:55:26.547Z"
   },
   {
    "duration": 184,
    "start_time": "2022-04-27T07:55:26.556Z"
   },
   {
    "duration": 3,
    "start_time": "2022-04-27T07:55:26.741Z"
   },
   {
    "duration": 267,
    "start_time": "2022-04-27T07:55:26.746Z"
   },
   {
    "duration": 8,
    "start_time": "2022-04-27T07:55:27.014Z"
   },
   {
    "duration": 345,
    "start_time": "2022-04-27T07:55:27.023Z"
   },
   {
    "duration": 23,
    "start_time": "2022-04-27T07:55:27.369Z"
   },
   {
    "duration": 249,
    "start_time": "2022-04-27T07:55:27.394Z"
   },
   {
    "duration": 5,
    "start_time": "2022-04-27T07:55:27.645Z"
   },
   {
    "duration": 14,
    "start_time": "2022-04-27T07:55:27.652Z"
   },
   {
    "duration": 267,
    "start_time": "2022-04-27T07:55:27.668Z"
   },
   {
    "duration": 7,
    "start_time": "2022-04-27T07:55:27.937Z"
   },
   {
    "duration": 257,
    "start_time": "2022-04-27T07:55:27.946Z"
   },
   {
    "duration": 6,
    "start_time": "2022-04-27T07:55:28.205Z"
   },
   {
    "duration": 170,
    "start_time": "2022-04-27T07:55:28.213Z"
   },
   {
    "duration": 2,
    "start_time": "2022-04-27T07:55:28.385Z"
   },
   {
    "duration": 270,
    "start_time": "2022-04-27T07:55:28.393Z"
   },
   {
    "duration": 351,
    "start_time": "2022-04-27T07:55:28.665Z"
   },
   {
    "duration": 183,
    "start_time": "2022-04-27T07:55:29.017Z"
   },
   {
    "duration": 17,
    "start_time": "2022-04-27T07:55:29.202Z"
   },
   {
    "duration": 12,
    "start_time": "2022-04-27T07:55:29.222Z"
   },
   {
    "duration": 11,
    "start_time": "2022-04-27T07:55:29.236Z"
   },
   {
    "duration": 7,
    "start_time": "2022-04-27T07:55:29.249Z"
   },
   {
    "duration": 6,
    "start_time": "2022-04-27T07:55:29.257Z"
   },
   {
    "duration": 29,
    "start_time": "2022-04-27T07:55:29.265Z"
   },
   {
    "duration": 11,
    "start_time": "2022-04-27T07:55:29.296Z"
   },
   {
    "duration": 13,
    "start_time": "2022-04-27T07:55:29.309Z"
   },
   {
    "duration": 7,
    "start_time": "2022-04-27T07:55:29.324Z"
   },
   {
    "duration": 8,
    "start_time": "2022-04-27T07:55:29.337Z"
   },
   {
    "duration": 10,
    "start_time": "2022-04-27T07:55:29.346Z"
   },
   {
    "duration": 12,
    "start_time": "2022-04-27T07:55:46.098Z"
   },
   {
    "duration": 283,
    "start_time": "2022-04-27T07:57:47.887Z"
   },
   {
    "duration": 4,
    "start_time": "2022-04-27T07:58:51.450Z"
   },
   {
    "duration": 4,
    "start_time": "2022-04-27T08:01:19.599Z"
   },
   {
    "duration": 4,
    "start_time": "2022-04-27T08:01:20.392Z"
   },
   {
    "duration": 17,
    "start_time": "2022-04-27T08:01:22.992Z"
   },
   {
    "duration": 4,
    "start_time": "2022-04-27T08:01:28.415Z"
   },
   {
    "duration": 109,
    "start_time": "2022-04-27T08:03:18.140Z"
   },
   {
    "duration": 169,
    "start_time": "2022-04-27T08:03:32.995Z"
   },
   {
    "duration": 164,
    "start_time": "2022-04-27T08:03:58.493Z"
   },
   {
    "duration": 169,
    "start_time": "2022-04-27T08:03:59.412Z"
   },
   {
    "duration": 31,
    "start_time": "2022-04-27T08:04:03.293Z"
   },
   {
    "duration": 57,
    "start_time": "2022-04-27T08:04:39.176Z"
   },
   {
    "duration": 1402,
    "start_time": "2022-04-27T08:04:39.885Z"
   },
   {
    "duration": 1128,
    "start_time": "2022-04-27T08:07:03.132Z"
   },
   {
    "duration": 438,
    "start_time": "2022-04-27T08:07:04.262Z"
   },
   {
    "duration": 27,
    "start_time": "2022-04-27T08:07:04.702Z"
   },
   {
    "duration": 20,
    "start_time": "2022-04-27T08:07:04.732Z"
   },
   {
    "duration": 39,
    "start_time": "2022-04-27T08:07:04.754Z"
   },
   {
    "duration": 9,
    "start_time": "2022-04-27T08:07:04.794Z"
   },
   {
    "duration": 23,
    "start_time": "2022-04-27T08:07:04.805Z"
   },
   {
    "duration": 7,
    "start_time": "2022-04-27T08:07:04.830Z"
   },
   {
    "duration": 22,
    "start_time": "2022-04-27T08:07:04.839Z"
   },
   {
    "duration": 11,
    "start_time": "2022-04-27T08:07:04.864Z"
   },
   {
    "duration": 24,
    "start_time": "2022-04-27T08:07:04.876Z"
   },
   {
    "duration": 21,
    "start_time": "2022-04-27T08:07:04.902Z"
   },
   {
    "duration": 238,
    "start_time": "2022-04-27T08:07:04.924Z"
   },
   {
    "duration": 259,
    "start_time": "2022-04-27T08:07:05.163Z"
   },
   {
    "duration": 22,
    "start_time": "2022-04-27T08:07:05.424Z"
   },
   {
    "duration": 9,
    "start_time": "2022-04-27T08:07:05.447Z"
   },
   {
    "duration": 43,
    "start_time": "2022-04-27T08:07:05.457Z"
   },
   {
    "duration": 5,
    "start_time": "2022-04-27T08:07:05.502Z"
   },
   {
    "duration": 17,
    "start_time": "2022-04-27T08:07:05.508Z"
   },
   {
    "duration": 52,
    "start_time": "2022-04-27T08:07:05.526Z"
   },
   {
    "duration": 36,
    "start_time": "2022-04-27T08:07:05.580Z"
   },
   {
    "duration": 4,
    "start_time": "2022-04-27T08:07:05.618Z"
   },
   {
    "duration": 12,
    "start_time": "2022-04-27T08:07:05.624Z"
   },
   {
    "duration": 880,
    "start_time": "2022-04-27T08:07:05.638Z"
   },
   {
    "duration": 1630,
    "start_time": "2022-04-27T08:07:06.521Z"
   },
   {
    "duration": 974,
    "start_time": "2022-04-27T08:07:08.153Z"
   },
   {
    "duration": 986,
    "start_time": "2022-04-27T08:07:09.128Z"
   },
   {
    "duration": 11,
    "start_time": "2022-04-27T08:07:10.121Z"
   },
   {
    "duration": 54,
    "start_time": "2022-04-27T08:07:10.135Z"
   },
   {
    "duration": 16,
    "start_time": "2022-04-27T08:07:10.192Z"
   },
   {
    "duration": 23,
    "start_time": "2022-04-27T08:07:10.210Z"
   },
   {
    "duration": 59,
    "start_time": "2022-04-27T08:07:10.235Z"
   },
   {
    "duration": 39,
    "start_time": "2022-04-27T08:07:10.296Z"
   },
   {
    "duration": 18,
    "start_time": "2022-04-27T08:07:10.337Z"
   },
   {
    "duration": 51,
    "start_time": "2022-04-27T08:07:10.357Z"
   },
   {
    "duration": 19,
    "start_time": "2022-04-27T08:07:10.410Z"
   },
   {
    "duration": 14,
    "start_time": "2022-04-27T08:07:10.431Z"
   },
   {
    "duration": 132,
    "start_time": "2022-04-27T08:07:10.446Z"
   },
   {
    "duration": 13,
    "start_time": "2022-04-27T08:07:10.580Z"
   },
   {
    "duration": 126,
    "start_time": "2022-04-27T08:07:10.594Z"
   },
   {
    "duration": 7,
    "start_time": "2022-04-27T08:07:10.722Z"
   },
   {
    "duration": 116,
    "start_time": "2022-04-27T08:07:10.732Z"
   },
   {
    "duration": 26,
    "start_time": "2022-04-27T08:07:10.850Z"
   },
   {
    "duration": 29,
    "start_time": "2022-04-27T08:07:10.879Z"
   },
   {
    "duration": 6,
    "start_time": "2022-04-27T08:07:10.909Z"
   },
   {
    "duration": 33,
    "start_time": "2022-04-27T08:07:10.917Z"
   },
   {
    "duration": 31,
    "start_time": "2022-04-27T08:07:10.952Z"
   },
   {
    "duration": 32,
    "start_time": "2022-04-27T08:07:10.985Z"
   },
   {
    "duration": 15,
    "start_time": "2022-04-27T08:07:11.019Z"
   },
   {
    "duration": 274,
    "start_time": "2022-04-27T08:07:11.036Z"
   },
   {
    "duration": 6,
    "start_time": "2022-04-27T08:07:11.312Z"
   },
   {
    "duration": 261,
    "start_time": "2022-04-27T08:07:11.319Z"
   },
   {
    "duration": 12,
    "start_time": "2022-04-27T08:07:11.581Z"
   },
   {
    "duration": 191,
    "start_time": "2022-04-27T08:07:11.594Z"
   },
   {
    "duration": 3,
    "start_time": "2022-04-27T08:07:11.786Z"
   },
   {
    "duration": 265,
    "start_time": "2022-04-27T08:07:11.790Z"
   },
   {
    "duration": 7,
    "start_time": "2022-04-27T08:07:12.057Z"
   },
   {
    "duration": 337,
    "start_time": "2022-04-27T08:07:12.066Z"
   },
   {
    "duration": 6,
    "start_time": "2022-04-27T08:07:12.405Z"
   },
   {
    "duration": 207,
    "start_time": "2022-04-27T08:07:12.413Z"
   },
   {
    "duration": 3,
    "start_time": "2022-04-27T08:07:12.621Z"
   },
   {
    "duration": 21,
    "start_time": "2022-04-27T08:07:12.626Z"
   },
   {
    "duration": 289,
    "start_time": "2022-04-27T08:07:12.650Z"
   },
   {
    "duration": 11,
    "start_time": "2022-04-27T08:07:12.941Z"
   },
   {
    "duration": 251,
    "start_time": "2022-04-27T08:07:12.954Z"
   },
   {
    "duration": 8,
    "start_time": "2022-04-27T08:07:13.207Z"
   },
   {
    "duration": 167,
    "start_time": "2022-04-27T08:07:13.216Z"
   },
   {
    "duration": 2,
    "start_time": "2022-04-27T08:07:13.393Z"
   },
   {
    "duration": 270,
    "start_time": "2022-04-27T08:07:13.397Z"
   },
   {
    "duration": 341,
    "start_time": "2022-04-27T08:07:13.669Z"
   },
   {
    "duration": 177,
    "start_time": "2022-04-27T08:07:14.012Z"
   },
   {
    "duration": 4,
    "start_time": "2022-04-27T08:07:14.191Z"
   },
   {
    "duration": 37,
    "start_time": "2022-04-27T08:07:14.197Z"
   },
   {
    "duration": 17,
    "start_time": "2022-04-27T08:07:14.236Z"
   },
   {
    "duration": 17,
    "start_time": "2022-04-27T08:07:14.254Z"
   },
   {
    "duration": 17,
    "start_time": "2022-04-27T08:07:14.273Z"
   },
   {
    "duration": 28,
    "start_time": "2022-04-27T08:07:14.291Z"
   },
   {
    "duration": 35,
    "start_time": "2022-04-27T08:07:14.321Z"
   },
   {
    "duration": 24,
    "start_time": "2022-04-27T08:07:14.358Z"
   },
   {
    "duration": 15,
    "start_time": "2022-04-27T08:07:14.384Z"
   },
   {
    "duration": 26,
    "start_time": "2022-04-27T08:07:14.400Z"
   },
   {
    "duration": 37,
    "start_time": "2022-04-27T08:07:14.431Z"
   },
   {
    "duration": 72,
    "start_time": "2022-04-27T08:07:14.470Z"
   },
   {
    "duration": 1395,
    "start_time": "2022-04-27T08:07:14.544Z"
   },
   {
    "duration": 185,
    "start_time": "2022-04-27T08:07:15.940Z"
   },
   {
    "duration": 189,
    "start_time": "2022-04-27T08:07:16.127Z"
   },
   {
    "duration": 165,
    "start_time": "2022-04-27T08:07:16.318Z"
   },
   {
    "duration": 30,
    "start_time": "2022-04-27T08:07:16.492Z"
   },
   {
    "duration": 49,
    "start_time": "2022-04-27T09:00:26.073Z"
   },
   {
    "duration": 1993,
    "start_time": "2022-04-27T09:00:33.108Z"
   },
   {
    "duration": 494,
    "start_time": "2022-04-27T09:00:35.103Z"
   },
   {
    "duration": 28,
    "start_time": "2022-04-27T09:00:35.599Z"
   },
   {
    "duration": 18,
    "start_time": "2022-04-27T09:00:35.629Z"
   },
   {
    "duration": 27,
    "start_time": "2022-04-27T09:00:35.649Z"
   },
   {
    "duration": 9,
    "start_time": "2022-04-27T09:00:35.678Z"
   },
   {
    "duration": 26,
    "start_time": "2022-04-27T09:00:35.689Z"
   },
   {
    "duration": 8,
    "start_time": "2022-04-27T09:00:35.717Z"
   },
   {
    "duration": 14,
    "start_time": "2022-04-27T09:00:35.727Z"
   },
   {
    "duration": 34,
    "start_time": "2022-04-27T09:00:35.744Z"
   },
   {
    "duration": 14,
    "start_time": "2022-04-27T09:00:35.780Z"
   },
   {
    "duration": 17,
    "start_time": "2022-04-27T09:00:35.796Z"
   },
   {
    "duration": 307,
    "start_time": "2022-04-27T09:00:35.815Z"
   },
   {
    "duration": 280,
    "start_time": "2022-04-27T09:00:36.124Z"
   },
   {
    "duration": 23,
    "start_time": "2022-04-27T09:00:36.406Z"
   },
   {
    "duration": 8,
    "start_time": "2022-04-27T09:00:36.431Z"
   },
   {
    "duration": 47,
    "start_time": "2022-04-27T09:00:36.441Z"
   },
   {
    "duration": 4,
    "start_time": "2022-04-27T09:00:36.490Z"
   },
   {
    "duration": 24,
    "start_time": "2022-04-27T09:00:36.496Z"
   },
   {
    "duration": 39,
    "start_time": "2022-04-27T09:00:36.522Z"
   },
   {
    "duration": 54,
    "start_time": "2022-04-27T09:00:36.562Z"
   },
   {
    "duration": 5,
    "start_time": "2022-04-27T09:00:36.618Z"
   },
   {
    "duration": 13,
    "start_time": "2022-04-27T09:00:36.624Z"
   },
   {
    "duration": 901,
    "start_time": "2022-04-27T09:00:36.639Z"
   },
   {
    "duration": 905,
    "start_time": "2022-04-27T09:00:37.542Z"
   },
   {
    "duration": 527,
    "start_time": "2022-04-27T09:00:38.449Z"
   },
   {
    "duration": 635,
    "start_time": "2022-04-27T09:00:38.978Z"
   },
   {
    "duration": 8,
    "start_time": "2022-04-27T09:00:39.616Z"
   },
   {
    "duration": 29,
    "start_time": "2022-04-27T09:00:39.625Z"
   },
   {
    "duration": 31,
    "start_time": "2022-04-27T09:00:39.656Z"
   },
   {
    "duration": 36,
    "start_time": "2022-04-27T09:00:39.689Z"
   },
   {
    "duration": 28,
    "start_time": "2022-04-27T09:00:39.726Z"
   },
   {
    "duration": 38,
    "start_time": "2022-04-27T09:00:39.756Z"
   },
   {
    "duration": 13,
    "start_time": "2022-04-27T09:00:39.796Z"
   },
   {
    "duration": 73,
    "start_time": "2022-04-27T09:00:44.915Z"
   },
   {
    "duration": 13,
    "start_time": "2022-04-27T09:01:42.700Z"
   },
   {
    "duration": 12,
    "start_time": "2022-04-27T09:02:45.102Z"
   },
   {
    "duration": 10,
    "start_time": "2022-04-27T09:03:37.901Z"
   },
   {
    "duration": 12,
    "start_time": "2022-04-27T09:03:51.964Z"
   },
   {
    "duration": 17,
    "start_time": "2022-04-27T09:04:19.818Z"
   },
   {
    "duration": 11,
    "start_time": "2022-04-27T09:05:01.456Z"
   },
   {
    "duration": 18,
    "start_time": "2022-04-27T09:05:47.280Z"
   },
   {
    "duration": 14,
    "start_time": "2022-04-27T09:24:41.305Z"
   },
   {
    "duration": 5,
    "start_time": "2022-04-27T09:33:46.784Z"
   },
   {
    "duration": 18,
    "start_time": "2022-04-27T09:34:17.636Z"
   },
   {
    "duration": 5,
    "start_time": "2022-04-27T09:34:46.215Z"
   },
   {
    "duration": 19,
    "start_time": "2022-04-27T09:34:48.778Z"
   },
   {
    "duration": 12,
    "start_time": "2022-04-27T09:34:55.486Z"
   },
   {
    "duration": 9,
    "start_time": "2022-04-27T09:37:27.968Z"
   },
   {
    "duration": 5,
    "start_time": "2022-04-27T09:37:40.018Z"
   },
   {
    "duration": 18,
    "start_time": "2022-04-27T09:37:46.959Z"
   },
   {
    "duration": 11,
    "start_time": "2022-04-27T09:38:06.829Z"
   },
   {
    "duration": 3,
    "start_time": "2022-04-27T09:40:45.304Z"
   },
   {
    "duration": 429,
    "start_time": "2022-04-27T09:40:45.348Z"
   },
   {
    "duration": 25,
    "start_time": "2022-04-27T09:40:45.779Z"
   },
   {
    "duration": 14,
    "start_time": "2022-04-27T09:40:45.805Z"
   },
   {
    "duration": 52,
    "start_time": "2022-04-27T09:40:45.821Z"
   },
   {
    "duration": 9,
    "start_time": "2022-04-27T09:40:45.875Z"
   },
   {
    "duration": 20,
    "start_time": "2022-04-27T09:40:45.886Z"
   },
   {
    "duration": 8,
    "start_time": "2022-04-27T09:40:45.908Z"
   },
   {
    "duration": 15,
    "start_time": "2022-04-27T09:40:45.918Z"
   },
   {
    "duration": 13,
    "start_time": "2022-04-27T09:40:45.935Z"
   },
   {
    "duration": 11,
    "start_time": "2022-04-27T09:40:45.973Z"
   },
   {
    "duration": 24,
    "start_time": "2022-04-27T09:40:45.986Z"
   },
   {
    "duration": 262,
    "start_time": "2022-04-27T09:40:46.012Z"
   },
   {
    "duration": 266,
    "start_time": "2022-04-27T09:40:46.275Z"
   },
   {
    "duration": 22,
    "start_time": "2022-04-27T09:40:46.543Z"
   },
   {
    "duration": 9,
    "start_time": "2022-04-27T09:40:46.573Z"
   },
   {
    "duration": 27,
    "start_time": "2022-04-27T09:40:46.584Z"
   },
   {
    "duration": 4,
    "start_time": "2022-04-27T09:40:46.613Z"
   },
   {
    "duration": 9,
    "start_time": "2022-04-27T09:40:46.618Z"
   },
   {
    "duration": 60,
    "start_time": "2022-04-27T09:40:46.628Z"
   },
   {
    "duration": 42,
    "start_time": "2022-04-27T09:40:46.690Z"
   },
   {
    "duration": 4,
    "start_time": "2022-04-27T09:40:46.734Z"
   },
   {
    "duration": 19,
    "start_time": "2022-04-27T09:40:46.740Z"
   },
   {
    "duration": 845,
    "start_time": "2022-04-27T09:40:46.761Z"
   },
   {
    "duration": 856,
    "start_time": "2022-04-27T09:40:47.608Z"
   },
   {
    "duration": 531,
    "start_time": "2022-04-27T09:40:48.465Z"
   },
   {
    "duration": 619,
    "start_time": "2022-04-27T09:40:48.998Z"
   },
   {
    "duration": 8,
    "start_time": "2022-04-27T09:40:49.619Z"
   },
   {
    "duration": 43,
    "start_time": "2022-04-27T09:40:49.631Z"
   },
   {
    "duration": 12,
    "start_time": "2022-04-27T09:40:49.676Z"
   },
   {
    "duration": 16,
    "start_time": "2022-04-27T09:40:49.690Z"
   },
   {
    "duration": 24,
    "start_time": "2022-04-27T09:40:49.708Z"
   },
   {
    "duration": 51,
    "start_time": "2022-04-27T09:40:49.733Z"
   },
   {
    "duration": 14,
    "start_time": "2022-04-27T09:40:49.786Z"
   },
   {
    "duration": 19,
    "start_time": "2022-04-27T09:40:49.802Z"
   },
   {
    "duration": 4,
    "start_time": "2022-04-27T09:40:49.823Z"
   },
   {
    "duration": 57,
    "start_time": "2022-04-27T09:40:49.828Z"
   },
   {
    "duration": 12,
    "start_time": "2022-04-27T09:40:49.887Z"
   },
   {
    "duration": 6,
    "start_time": "2022-04-27T09:40:49.901Z"
   },
   {
    "duration": 89,
    "start_time": "2022-04-27T09:40:49.909Z"
   },
   {
    "duration": 7,
    "start_time": "2022-04-27T09:40:49.999Z"
   },
   {
    "duration": 84,
    "start_time": "2022-04-27T09:40:50.008Z"
   },
   {
    "duration": 5,
    "start_time": "2022-04-27T09:40:50.094Z"
   },
   {
    "duration": 83,
    "start_time": "2022-04-27T09:40:50.101Z"
   },
   {
    "duration": 19,
    "start_time": "2022-04-27T09:40:50.186Z"
   },
   {
    "duration": 15,
    "start_time": "2022-04-27T09:40:50.206Z"
   },
   {
    "duration": 14,
    "start_time": "2022-04-27T09:40:50.223Z"
   },
   {
    "duration": 17,
    "start_time": "2022-04-27T09:40:50.239Z"
   },
   {
    "duration": 24,
    "start_time": "2022-04-27T09:40:50.274Z"
   },
   {
    "duration": 23,
    "start_time": "2022-04-27T09:40:50.300Z"
   },
   {
    "duration": 2,
    "start_time": "2022-04-27T09:40:50.325Z"
   },
   {
    "duration": 295,
    "start_time": "2022-04-27T09:40:50.329Z"
   },
   {
    "duration": 7,
    "start_time": "2022-04-27T09:40:50.626Z"
   },
   {
    "duration": 275,
    "start_time": "2022-04-27T09:40:50.635Z"
   },
   {
    "duration": 7,
    "start_time": "2022-04-27T09:40:50.912Z"
   },
   {
    "duration": 197,
    "start_time": "2022-04-27T09:40:50.920Z"
   },
   {
    "duration": 3,
    "start_time": "2022-04-27T09:40:51.118Z"
   },
   {
    "duration": 376,
    "start_time": "2022-04-27T09:40:51.122Z"
   },
   {
    "duration": 7,
    "start_time": "2022-04-27T09:40:51.500Z"
   },
   {
    "duration": 271,
    "start_time": "2022-04-27T09:40:51.508Z"
   },
   {
    "duration": 7,
    "start_time": "2022-04-27T09:40:51.782Z"
   },
   {
    "duration": 175,
    "start_time": "2022-04-27T09:40:51.791Z"
   },
   {
    "duration": 3,
    "start_time": "2022-04-27T09:40:51.972Z"
   },
   {
    "duration": 8,
    "start_time": "2022-04-27T09:40:51.977Z"
   },
   {
    "duration": 277,
    "start_time": "2022-04-27T09:40:51.987Z"
   },
   {
    "duration": 11,
    "start_time": "2022-04-27T09:40:52.267Z"
   },
   {
    "duration": 249,
    "start_time": "2022-04-27T09:40:52.281Z"
   },
   {
    "duration": 6,
    "start_time": "2022-04-27T09:40:52.533Z"
   },
   {
    "duration": 182,
    "start_time": "2022-04-27T09:40:52.541Z"
   },
   {
    "duration": 3,
    "start_time": "2022-04-27T09:40:52.726Z"
   },
   {
    "duration": 261,
    "start_time": "2022-04-27T09:40:52.731Z"
   },
   {
    "duration": 379,
    "start_time": "2022-04-27T09:40:52.994Z"
   },
   {
    "duration": 181,
    "start_time": "2022-04-27T09:40:53.375Z"
   },
   {
    "duration": 4,
    "start_time": "2022-04-27T09:40:53.559Z"
   },
   {
    "duration": 7,
    "start_time": "2022-04-27T09:40:53.574Z"
   },
   {
    "duration": 9,
    "start_time": "2022-04-27T09:40:53.583Z"
   },
   {
    "duration": 6,
    "start_time": "2022-04-27T09:40:53.594Z"
   },
   {
    "duration": 8,
    "start_time": "2022-04-27T09:40:53.602Z"
   },
   {
    "duration": 14,
    "start_time": "2022-04-27T09:40:53.612Z"
   },
   {
    "duration": 17,
    "start_time": "2022-04-27T09:40:53.629Z"
   },
   {
    "duration": 8,
    "start_time": "2022-04-27T09:40:53.674Z"
   },
   {
    "duration": 6,
    "start_time": "2022-04-27T09:40:53.684Z"
   },
   {
    "duration": 7,
    "start_time": "2022-04-27T09:40:53.696Z"
   },
   {
    "duration": 11,
    "start_time": "2022-04-27T09:40:53.704Z"
   },
   {
    "duration": 87,
    "start_time": "2022-04-27T09:40:53.717Z"
   },
   {
    "duration": 1429,
    "start_time": "2022-04-27T09:40:53.806Z"
   },
   {
    "duration": 186,
    "start_time": "2022-04-27T09:40:55.237Z"
   },
   {
    "duration": 186,
    "start_time": "2022-04-27T09:40:55.425Z"
   },
   {
    "duration": 178,
    "start_time": "2022-04-27T09:40:55.613Z"
   },
   {
    "duration": 36,
    "start_time": "2022-04-27T09:40:55.794Z"
   },
   {
    "duration": 3,
    "start_time": "2022-04-27T09:50:16.980Z"
   },
   {
    "duration": 425,
    "start_time": "2022-04-27T09:50:17.021Z"
   },
   {
    "duration": 24,
    "start_time": "2022-04-27T09:50:17.448Z"
   },
   {
    "duration": 13,
    "start_time": "2022-04-27T09:50:17.473Z"
   },
   {
    "duration": 21,
    "start_time": "2022-04-27T09:50:17.488Z"
   },
   {
    "duration": 8,
    "start_time": "2022-04-27T09:50:17.511Z"
   },
   {
    "duration": 21,
    "start_time": "2022-04-27T09:50:17.520Z"
   },
   {
    "duration": 33,
    "start_time": "2022-04-27T09:50:17.543Z"
   },
   {
    "duration": 12,
    "start_time": "2022-04-27T09:50:17.578Z"
   },
   {
    "duration": 9,
    "start_time": "2022-04-27T09:50:17.592Z"
   },
   {
    "duration": 11,
    "start_time": "2022-04-27T09:50:17.604Z"
   },
   {
    "duration": 13,
    "start_time": "2022-04-27T09:50:17.617Z"
   },
   {
    "duration": 242,
    "start_time": "2022-04-27T09:50:17.632Z"
   },
   {
    "duration": 342,
    "start_time": "2022-04-27T09:50:17.875Z"
   },
   {
    "duration": 21,
    "start_time": "2022-04-27T09:50:18.219Z"
   },
   {
    "duration": 8,
    "start_time": "2022-04-27T09:50:18.242Z"
   },
   {
    "duration": 44,
    "start_time": "2022-04-27T09:50:18.252Z"
   },
   {
    "duration": 4,
    "start_time": "2022-04-27T09:50:18.297Z"
   },
   {
    "duration": 9,
    "start_time": "2022-04-27T09:50:18.302Z"
   },
   {
    "duration": 35,
    "start_time": "2022-04-27T09:50:18.312Z"
   },
   {
    "duration": 61,
    "start_time": "2022-04-27T09:50:18.348Z"
   },
   {
    "duration": 4,
    "start_time": "2022-04-27T09:50:18.410Z"
   },
   {
    "duration": 11,
    "start_time": "2022-04-27T09:50:18.415Z"
   },
   {
    "duration": 846,
    "start_time": "2022-04-27T09:50:18.428Z"
   },
   {
    "duration": 850,
    "start_time": "2022-04-27T09:50:19.275Z"
   },
   {
    "duration": 503,
    "start_time": "2022-04-27T09:50:20.127Z"
   },
   {
    "duration": 606,
    "start_time": "2022-04-27T09:50:20.632Z"
   },
   {
    "duration": 7,
    "start_time": "2022-04-27T09:50:21.240Z"
   },
   {
    "duration": 39,
    "start_time": "2022-04-27T09:50:21.251Z"
   },
   {
    "duration": 10,
    "start_time": "2022-04-27T09:50:21.292Z"
   },
   {
    "duration": 12,
    "start_time": "2022-04-27T09:50:21.304Z"
   },
   {
    "duration": 23,
    "start_time": "2022-04-27T09:50:21.317Z"
   },
   {
    "duration": 54,
    "start_time": "2022-04-27T09:50:21.341Z"
   },
   {
    "duration": 13,
    "start_time": "2022-04-27T09:50:21.397Z"
   },
   {
    "duration": 22,
    "start_time": "2022-04-27T09:50:21.412Z"
   },
   {
    "duration": 4,
    "start_time": "2022-04-27T09:51:30.035Z"
   },
   {
    "duration": 9,
    "start_time": "2022-04-27T09:52:00.952Z"
   },
   {
    "duration": 5,
    "start_time": "2022-04-27T09:52:23.933Z"
   },
   {
    "duration": 14,
    "start_time": "2022-04-27T09:52:27.379Z"
   },
   {
    "duration": 5,
    "start_time": "2022-04-27T09:55:07.572Z"
   },
   {
    "duration": 34,
    "start_time": "2022-04-27T09:56:59.425Z"
   },
   {
    "duration": 27,
    "start_time": "2022-04-27T09:57:14.810Z"
   },
   {
    "duration": 13,
    "start_time": "2022-04-27T09:57:18.351Z"
   },
   {
    "duration": 22,
    "start_time": "2022-04-27T09:57:30.354Z"
   },
   {
    "duration": 10,
    "start_time": "2022-04-27T09:57:33.220Z"
   },
   {
    "duration": 20,
    "start_time": "2022-04-27T09:57:38.717Z"
   },
   {
    "duration": 8,
    "start_time": "2022-04-27T09:57:41.445Z"
   },
   {
    "duration": 12,
    "start_time": "2022-04-27T09:57:49.292Z"
   },
   {
    "duration": 10,
    "start_time": "2022-04-27T09:57:57.094Z"
   },
   {
    "duration": 12,
    "start_time": "2022-04-27T09:58:04.233Z"
   },
   {
    "duration": 10,
    "start_time": "2022-04-27T09:58:09.179Z"
   },
   {
    "duration": 193,
    "start_time": "2022-04-27T09:58:16.659Z"
   },
   {
    "duration": 247,
    "start_time": "2022-04-27T09:58:21.213Z"
   },
   {
    "duration": 22,
    "start_time": "2022-04-27T09:58:26.938Z"
   },
   {
    "duration": 10,
    "start_time": "2022-04-27T09:58:39.855Z"
   },
   {
    "duration": 395,
    "start_time": "2022-04-27T10:00:51.990Z"
   },
   {
    "duration": 26,
    "start_time": "2022-04-27T10:00:56.192Z"
   },
   {
    "duration": 15,
    "start_time": "2022-04-27T10:00:58.427Z"
   },
   {
    "duration": 23,
    "start_time": "2022-04-27T10:01:02.781Z"
   },
   {
    "duration": 9,
    "start_time": "2022-04-27T10:01:04.288Z"
   },
   {
    "duration": 22,
    "start_time": "2022-04-27T10:01:14.634Z"
   },
   {
    "duration": 8,
    "start_time": "2022-04-27T10:01:18.791Z"
   },
   {
    "duration": 12,
    "start_time": "2022-04-27T10:01:24.743Z"
   },
   {
    "duration": 8,
    "start_time": "2022-04-27T10:01:34.117Z"
   },
   {
    "duration": 12,
    "start_time": "2022-04-27T10:01:39.061Z"
   },
   {
    "duration": 10,
    "start_time": "2022-04-27T10:01:43.283Z"
   },
   {
    "duration": 194,
    "start_time": "2022-04-27T10:01:50.399Z"
   },
   {
    "duration": 252,
    "start_time": "2022-04-27T10:01:53.976Z"
   },
   {
    "duration": 23,
    "start_time": "2022-04-27T10:02:02.170Z"
   },
   {
    "duration": 10,
    "start_time": "2022-04-27T10:02:10.274Z"
   },
   {
    "duration": 28,
    "start_time": "2022-04-27T10:02:17.099Z"
   },
   {
    "duration": 7,
    "start_time": "2022-04-27T10:02:25.457Z"
   },
   {
    "duration": 36,
    "start_time": "2022-04-27T10:02:28.520Z"
   },
   {
    "duration": 41,
    "start_time": "2022-04-27T10:02:32.891Z"
   },
   {
    "duration": 5,
    "start_time": "2022-04-27T10:02:46.835Z"
   },
   {
    "duration": 9,
    "start_time": "2022-04-27T10:02:50.582Z"
   },
   {
    "duration": 841,
    "start_time": "2022-04-27T10:02:55.456Z"
   },
   {
    "duration": 867,
    "start_time": "2022-04-27T10:02:59.753Z"
   },
   {
    "duration": 507,
    "start_time": "2022-04-27T10:03:16.555Z"
   },
   {
    "duration": 623,
    "start_time": "2022-04-27T10:03:21.070Z"
   },
   {
    "duration": 9,
    "start_time": "2022-04-27T10:03:27.091Z"
   },
   {
    "duration": 28,
    "start_time": "2022-04-27T10:03:31.474Z"
   },
   {
    "duration": 12,
    "start_time": "2022-04-27T10:03:34.019Z"
   },
   {
    "duration": 10,
    "start_time": "2022-04-27T10:03:45.313Z"
   },
   {
    "duration": 28,
    "start_time": "2022-04-27T10:04:08.370Z"
   },
   {
    "duration": 29,
    "start_time": "2022-04-27T10:04:25.016Z"
   },
   {
    "duration": 14,
    "start_time": "2022-04-27T10:04:37.403Z"
   },
   {
    "duration": 20,
    "start_time": "2022-04-27T10:05:04.890Z"
   },
   {
    "duration": 5,
    "start_time": "2022-04-27T10:05:10.288Z"
   },
   {
    "duration": 11,
    "start_time": "2022-04-27T10:05:20.006Z"
   },
   {
    "duration": 5,
    "start_time": "2022-04-27T10:05:39.019Z"
   },
   {
    "duration": 5,
    "start_time": "2022-04-27T10:05:44.060Z"
   },
   {
    "duration": 71,
    "start_time": "2022-04-27T10:05:51.081Z"
   },
   {
    "duration": 6,
    "start_time": "2022-04-27T10:05:54.588Z"
   },
   {
    "duration": 66,
    "start_time": "2022-04-27T10:05:57.586Z"
   },
   {
    "duration": 6,
    "start_time": "2022-04-27T10:06:01.859Z"
   },
   {
    "duration": 61,
    "start_time": "2022-04-27T10:08:52.266Z"
   },
   {
    "duration": 19,
    "start_time": "2022-04-27T10:10:58.849Z"
   },
   {
    "duration": 16,
    "start_time": "2022-04-27T10:11:32.724Z"
   },
   {
    "duration": 5,
    "start_time": "2022-04-27T10:11:38.739Z"
   },
   {
    "duration": 14,
    "start_time": "2022-04-27T10:11:43.801Z"
   },
   {
    "duration": 24,
    "start_time": "2022-04-27T10:11:55.430Z"
   },
   {
    "duration": 24,
    "start_time": "2022-04-27T10:12:03.765Z"
   },
   {
    "duration": 3,
    "start_time": "2022-04-27T10:12:29.384Z"
   },
   {
    "duration": 8,
    "start_time": "2022-04-27T10:12:32.586Z"
   },
   {
    "duration": 251,
    "start_time": "2022-04-27T10:12:35.447Z"
   },
   {
    "duration": 7,
    "start_time": "2022-04-27T10:12:37.816Z"
   },
   {
    "duration": 177,
    "start_time": "2022-04-27T10:12:40.112Z"
   },
   {
    "duration": 2,
    "start_time": "2022-04-27T10:12:46.226Z"
   },
   {
    "duration": 251,
    "start_time": "2022-04-27T10:12:48.158Z"
   },
   {
    "duration": 8,
    "start_time": "2022-04-27T10:12:50.149Z"
   },
   {
    "duration": 377,
    "start_time": "2022-04-27T10:12:52.238Z"
   },
   {
    "duration": 7,
    "start_time": "2022-04-27T10:12:54.719Z"
   },
   {
    "duration": 152,
    "start_time": "2022-04-27T10:12:56.392Z"
   },
   {
    "duration": 2,
    "start_time": "2022-04-27T10:13:09.490Z"
   },
   {
    "duration": 6,
    "start_time": "2022-04-27T10:13:11.413Z"
   },
   {
    "duration": 257,
    "start_time": "2022-04-27T10:13:12.921Z"
   },
   {
    "duration": 8,
    "start_time": "2022-04-27T10:13:14.592Z"
   },
   {
    "duration": 238,
    "start_time": "2022-04-27T10:13:16.077Z"
   },
   {
    "duration": 7,
    "start_time": "2022-04-27T10:13:17.595Z"
   },
   {
    "duration": 158,
    "start_time": "2022-04-27T10:13:18.711Z"
   },
   {
    "duration": 3,
    "start_time": "2022-04-27T10:13:29.247Z"
   },
   {
    "duration": 248,
    "start_time": "2022-04-27T10:13:31.055Z"
   },
   {
    "duration": 247,
    "start_time": "2022-04-27T10:13:33.781Z"
   },
   {
    "duration": 285,
    "start_time": "2022-04-27T10:13:35.359Z"
   },
   {
    "duration": 5,
    "start_time": "2022-04-27T10:13:38.110Z"
   },
   {
    "duration": 10,
    "start_time": "2022-04-27T10:13:48.780Z"
   },
   {
    "duration": 7,
    "start_time": "2022-04-27T10:13:49.500Z"
   },
   {
    "duration": 6,
    "start_time": "2022-04-27T10:13:50.224Z"
   },
   {
    "duration": 4,
    "start_time": "2022-04-27T10:13:53.170Z"
   },
   {
    "duration": 13,
    "start_time": "2022-04-27T10:13:57.717Z"
   },
   {
    "duration": 7,
    "start_time": "2022-04-27T10:13:59.374Z"
   },
   {
    "duration": 8,
    "start_time": "2022-04-27T10:14:00.545Z"
   },
   {
    "duration": 6,
    "start_time": "2022-04-27T10:14:01.389Z"
   },
   {
    "duration": 6,
    "start_time": "2022-04-27T10:14:06.905Z"
   },
   {
    "duration": 4,
    "start_time": "2022-04-27T10:14:08.194Z"
   },
   {
    "duration": 184,
    "start_time": "2022-04-28T07:09:53.149Z"
   }
  ],
  "kernelspec": {
   "display_name": "Python 3 (ipykernel)",
   "language": "python",
   "name": "python3"
  },
  "language_info": {
   "codemirror_mode": {
    "name": "ipython",
    "version": 3
   },
   "file_extension": ".py",
   "mimetype": "text/x-python",
   "name": "python",
   "nbconvert_exporter": "python",
   "pygments_lexer": "ipython3",
   "version": "3.10.1"
  },
  "toc": {
   "base_numbering": 1,
   "nav_menu": {},
   "number_sections": true,
   "sideBar": true,
   "skip_h1_title": false,
   "title_cell": "Table of Contents",
   "title_sidebar": "Contents",
   "toc_cell": false,
   "toc_position": {
    "height": "calc(100% - 180px)",
    "left": "10px",
    "top": "150px",
    "width": "225px"
   },
   "toc_section_display": true,
   "toc_window_display": true
  }
 },
 "nbformat": 4,
 "nbformat_minor": 5
}
