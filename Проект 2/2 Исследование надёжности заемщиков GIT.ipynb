{
 "cells": [
  {
   "cell_type": "markdown",
   "id": "900da757",
   "metadata": {
    "toc": true
   },
   "source": [
    "<h1>Table of Contents<span class=\"tocSkip\"></span></h1>\n",
    "<div class=\"toc\"><ul class=\"toc-item\"><li><span><a href=\"#Исследование-надежности-заемщиков.\" data-toc-modified-id=\"Исследование-надежности-заемщиков.-0\"><span class=\"toc-item-num\">0&nbsp;&nbsp;</span><strong>Исследование надежности заемщиков.</strong></a></span></li><li><span><a href=\"#Шаг-1.-Обзор-данных\" data-toc-modified-id=\"Шаг-1.-Обзор-данных-1\"><span class=\"toc-item-num\">1&nbsp;&nbsp;</span>Шаг 1. Обзор данных</a></span></li><li><span><a href=\"#Шаг-2.1-Заполнение-пропусков\" data-toc-modified-id=\"Шаг-2.1-Заполнение-пропусков-2\"><span class=\"toc-item-num\">2&nbsp;&nbsp;</span>Шаг 2.1 Заполнение пропусков</a></span><ul class=\"toc-item\"><li><ul class=\"toc-item\"><li><span><a href=\"#Шаг-2.2-Проверка-данных-на-аномалии-и-исправления.\" data-toc-modified-id=\"Шаг-2.2-Проверка-данных-на-аномалии-и-исправления.-2.0.1\"><span class=\"toc-item-num\">2.0.1&nbsp;&nbsp;</span>Шаг 2.2 Проверка данных на аномалии и исправления.</a></span></li><li><span><a href=\"#Шаг-2.3.-Изменение-типов-данных.\" data-toc-modified-id=\"Шаг-2.3.-Изменение-типов-данных.-2.0.2\"><span class=\"toc-item-num\">2.0.2&nbsp;&nbsp;</span>Шаг 2.3. Изменение типов данных.</a></span></li><li><span><a href=\"#Шаг-2.4.-Удаление-дубликатов.\" data-toc-modified-id=\"Шаг-2.4.-Удаление-дубликатов.-2.0.3\"><span class=\"toc-item-num\">2.0.3&nbsp;&nbsp;</span>Шаг 2.4. Удаление дубликатов.</a></span></li><li><span><a href=\"#Шаг-2.5.-Формирование-дополнительных-датафреймов-словарей,-декомпозиция-исходного-датафрейма.\" data-toc-modified-id=\"Шаг-2.5.-Формирование-дополнительных-датафреймов-словарей,-декомпозиция-исходного-датафрейма.-2.0.4\"><span class=\"toc-item-num\">2.0.4&nbsp;&nbsp;</span>Шаг 2.5. Формирование дополнительных датафреймов словарей, декомпозиция исходного датафрейма.</a></span></li><li><span><a href=\"#Шаг-2.6.-Категоризация-дохода.\" data-toc-modified-id=\"Шаг-2.6.-Категоризация-дохода.-2.0.5\"><span class=\"toc-item-num\">2.0.5&nbsp;&nbsp;</span>Шаг 2.6. Категоризация дохода.</a></span></li><li><span><a href=\"#Шаг-2.7.-Категоризация-целей-кредита.\" data-toc-modified-id=\"Шаг-2.7.-Категоризация-целей-кредита.-2.0.6\"><span class=\"toc-item-num\">2.0.6&nbsp;&nbsp;</span>Шаг 2.7. Категоризация целей кредита.</a></span></li></ul></li></ul></li><li><span><a href=\"#Ответы-на-вопросы.\" data-toc-modified-id=\"Ответы-на-вопросы.-3\"><span class=\"toc-item-num\">3&nbsp;&nbsp;</span>Ответы на вопросы.</a></span><ul class=\"toc-item\"><li><span><a href=\"#Вопрос-1:-Влияет-ли-семейное-положение-и-количество-детей-на-факт-погашения-кредита-в-срок?\" data-toc-modified-id=\"Вопрос-1:-Влияет-ли-семейное-положение-и-количество-детей-на-факт-погашения-кредита-в-срок?-3.1\"><span class=\"toc-item-num\">3.1&nbsp;&nbsp;</span>Вопрос 1: Влияет ли семейное положение и количество детей на факт погашения кредита в срок?</a></span><ul class=\"toc-item\"><li><span><a href=\"#Ответ-1.--В-результате-анализа-установлено,-что-:\" data-toc-modified-id=\"Ответ-1.--В-результате-анализа-установлено,-что-:-3.1.1\"><span class=\"toc-item-num\">3.1.1&nbsp;&nbsp;</span><strong>Ответ 1.  В результате анализа установлено, что :</strong></a></span></li></ul></li><li><span><a href=\"#Вопрос-2:-Влияет-ли-уровень-дохода-и-цель-кредита-на-погашения-кредита-в-срок?¶\" data-toc-modified-id=\"Вопрос-2:-Влияет-ли-уровень-дохода-и-цель-кредита-на-погашения-кредита-в-срок?¶-3.2\"><span class=\"toc-item-num\">3.2&nbsp;&nbsp;</span>Вопрос 2: Влияет ли уровень дохода и цель кредита на погашения кредита в срок?¶</a></span><ul class=\"toc-item\"><li><span><a href=\"#Ответ-2.-В-результате-анализа-установлено,-что-:\" data-toc-modified-id=\"Ответ-2.-В-результате-анализа-установлено,-что-:-3.2.1\"><span class=\"toc-item-num\">3.2.1&nbsp;&nbsp;</span><strong>Ответ 2. В результате анализа установлено, что :</strong></a></span></li></ul></li></ul></li><li><span><a href=\"#Общий-вывод:\" data-toc-modified-id=\"Общий-вывод:-4\"><span class=\"toc-item-num\">4&nbsp;&nbsp;</span>Общий вывод:</a></span></li></ul></div>"
   ]
  },
  {
   "cell_type": "markdown",
   "id": "62020b9f",
   "metadata": {},
   "source": [
    "**Исследование надежности заемщиков.**\n",
    "====================================="
   ]
  },
  {
   "cell_type": "markdown",
   "id": "008bdc4e",
   "metadata": {},
   "source": [
    "# Шаг 1. Обзор данных"
   ]
  },
  {
   "cell_type": "code",
   "execution_count": 1,
   "id": "61849533",
   "metadata": {
    "scrolled": true
   },
   "outputs": [
    {
     "data": {
      "text/html": [
       "<div>\n",
       "<style scoped>\n",
       "    .dataframe tbody tr th:only-of-type {\n",
       "        vertical-align: middle;\n",
       "    }\n",
       "\n",
       "    .dataframe tbody tr th {\n",
       "        vertical-align: top;\n",
       "    }\n",
       "\n",
       "    .dataframe thead th {\n",
       "        text-align: right;\n",
       "    }\n",
       "</style>\n",
       "<table border=\"1\" class=\"dataframe\">\n",
       "  <thead>\n",
       "    <tr style=\"text-align: right;\">\n",
       "      <th></th>\n",
       "      <th>children</th>\n",
       "      <th>days_employed</th>\n",
       "      <th>dob_years</th>\n",
       "      <th>education</th>\n",
       "      <th>education_id</th>\n",
       "      <th>family_status</th>\n",
       "      <th>family_status_id</th>\n",
       "      <th>gender</th>\n",
       "      <th>income_type</th>\n",
       "      <th>debt</th>\n",
       "      <th>total_income</th>\n",
       "      <th>purpose</th>\n",
       "    </tr>\n",
       "  </thead>\n",
       "  <tbody>\n",
       "    <tr>\n",
       "      <th>0</th>\n",
       "      <td>1</td>\n",
       "      <td>-8437.673028</td>\n",
       "      <td>42</td>\n",
       "      <td>высшее</td>\n",
       "      <td>0</td>\n",
       "      <td>женат / замужем</td>\n",
       "      <td>0</td>\n",
       "      <td>F</td>\n",
       "      <td>сотрудник</td>\n",
       "      <td>0</td>\n",
       "      <td>253875.639453</td>\n",
       "      <td>покупка жилья</td>\n",
       "    </tr>\n",
       "    <tr>\n",
       "      <th>1</th>\n",
       "      <td>1</td>\n",
       "      <td>-4024.803754</td>\n",
       "      <td>36</td>\n",
       "      <td>среднее</td>\n",
       "      <td>1</td>\n",
       "      <td>женат / замужем</td>\n",
       "      <td>0</td>\n",
       "      <td>F</td>\n",
       "      <td>сотрудник</td>\n",
       "      <td>0</td>\n",
       "      <td>112080.014102</td>\n",
       "      <td>приобретение автомобиля</td>\n",
       "    </tr>\n",
       "    <tr>\n",
       "      <th>2</th>\n",
       "      <td>0</td>\n",
       "      <td>-5623.422610</td>\n",
       "      <td>33</td>\n",
       "      <td>Среднее</td>\n",
       "      <td>1</td>\n",
       "      <td>женат / замужем</td>\n",
       "      <td>0</td>\n",
       "      <td>M</td>\n",
       "      <td>сотрудник</td>\n",
       "      <td>0</td>\n",
       "      <td>145885.952297</td>\n",
       "      <td>покупка жилья</td>\n",
       "    </tr>\n",
       "    <tr>\n",
       "      <th>3</th>\n",
       "      <td>3</td>\n",
       "      <td>-4124.747207</td>\n",
       "      <td>32</td>\n",
       "      <td>среднее</td>\n",
       "      <td>1</td>\n",
       "      <td>женат / замужем</td>\n",
       "      <td>0</td>\n",
       "      <td>M</td>\n",
       "      <td>сотрудник</td>\n",
       "      <td>0</td>\n",
       "      <td>267628.550329</td>\n",
       "      <td>дополнительное образование</td>\n",
       "    </tr>\n",
       "    <tr>\n",
       "      <th>4</th>\n",
       "      <td>0</td>\n",
       "      <td>340266.072047</td>\n",
       "      <td>53</td>\n",
       "      <td>среднее</td>\n",
       "      <td>1</td>\n",
       "      <td>гражданский брак</td>\n",
       "      <td>1</td>\n",
       "      <td>F</td>\n",
       "      <td>пенсионер</td>\n",
       "      <td>0</td>\n",
       "      <td>158616.077870</td>\n",
       "      <td>сыграть свадьбу</td>\n",
       "    </tr>\n",
       "    <tr>\n",
       "      <th>5</th>\n",
       "      <td>0</td>\n",
       "      <td>-926.185831</td>\n",
       "      <td>27</td>\n",
       "      <td>высшее</td>\n",
       "      <td>0</td>\n",
       "      <td>гражданский брак</td>\n",
       "      <td>1</td>\n",
       "      <td>M</td>\n",
       "      <td>компаньон</td>\n",
       "      <td>0</td>\n",
       "      <td>255763.565419</td>\n",
       "      <td>покупка жилья</td>\n",
       "    </tr>\n",
       "    <tr>\n",
       "      <th>6</th>\n",
       "      <td>0</td>\n",
       "      <td>-2879.202052</td>\n",
       "      <td>43</td>\n",
       "      <td>высшее</td>\n",
       "      <td>0</td>\n",
       "      <td>женат / замужем</td>\n",
       "      <td>0</td>\n",
       "      <td>F</td>\n",
       "      <td>компаньон</td>\n",
       "      <td>0</td>\n",
       "      <td>240525.971920</td>\n",
       "      <td>операции с жильем</td>\n",
       "    </tr>\n",
       "    <tr>\n",
       "      <th>7</th>\n",
       "      <td>0</td>\n",
       "      <td>-152.779569</td>\n",
       "      <td>50</td>\n",
       "      <td>СРЕДНЕЕ</td>\n",
       "      <td>1</td>\n",
       "      <td>женат / замужем</td>\n",
       "      <td>0</td>\n",
       "      <td>M</td>\n",
       "      <td>сотрудник</td>\n",
       "      <td>0</td>\n",
       "      <td>135823.934197</td>\n",
       "      <td>образование</td>\n",
       "    </tr>\n",
       "    <tr>\n",
       "      <th>8</th>\n",
       "      <td>2</td>\n",
       "      <td>-6929.865299</td>\n",
       "      <td>35</td>\n",
       "      <td>ВЫСШЕЕ</td>\n",
       "      <td>0</td>\n",
       "      <td>гражданский брак</td>\n",
       "      <td>1</td>\n",
       "      <td>F</td>\n",
       "      <td>сотрудник</td>\n",
       "      <td>0</td>\n",
       "      <td>95856.832424</td>\n",
       "      <td>на проведение свадьбы</td>\n",
       "    </tr>\n",
       "    <tr>\n",
       "      <th>9</th>\n",
       "      <td>0</td>\n",
       "      <td>-2188.756445</td>\n",
       "      <td>41</td>\n",
       "      <td>среднее</td>\n",
       "      <td>1</td>\n",
       "      <td>женат / замужем</td>\n",
       "      <td>0</td>\n",
       "      <td>M</td>\n",
       "      <td>сотрудник</td>\n",
       "      <td>0</td>\n",
       "      <td>144425.938277</td>\n",
       "      <td>покупка жилья для семьи</td>\n",
       "    </tr>\n",
       "  </tbody>\n",
       "</table>\n",
       "</div>"
      ],
      "text/plain": [
       "   children  days_employed  dob_years education  education_id  \\\n",
       "0         1   -8437.673028         42    высшее             0   \n",
       "1         1   -4024.803754         36   среднее             1   \n",
       "2         0   -5623.422610         33   Среднее             1   \n",
       "3         3   -4124.747207         32   среднее             1   \n",
       "4         0  340266.072047         53   среднее             1   \n",
       "5         0    -926.185831         27    высшее             0   \n",
       "6         0   -2879.202052         43    высшее             0   \n",
       "7         0    -152.779569         50   СРЕДНЕЕ             1   \n",
       "8         2   -6929.865299         35    ВЫСШЕЕ             0   \n",
       "9         0   -2188.756445         41   среднее             1   \n",
       "\n",
       "      family_status  family_status_id gender income_type  debt   total_income  \\\n",
       "0   женат / замужем                 0      F   сотрудник     0  253875.639453   \n",
       "1   женат / замужем                 0      F   сотрудник     0  112080.014102   \n",
       "2   женат / замужем                 0      M   сотрудник     0  145885.952297   \n",
       "3   женат / замужем                 0      M   сотрудник     0  267628.550329   \n",
       "4  гражданский брак                 1      F   пенсионер     0  158616.077870   \n",
       "5  гражданский брак                 1      M   компаньон     0  255763.565419   \n",
       "6   женат / замужем                 0      F   компаньон     0  240525.971920   \n",
       "7   женат / замужем                 0      M   сотрудник     0  135823.934197   \n",
       "8  гражданский брак                 1      F   сотрудник     0   95856.832424   \n",
       "9   женат / замужем                 0      M   сотрудник     0  144425.938277   \n",
       "\n",
       "                      purpose  \n",
       "0               покупка жилья  \n",
       "1     приобретение автомобиля  \n",
       "2               покупка жилья  \n",
       "3  дополнительное образование  \n",
       "4             сыграть свадьбу  \n",
       "5               покупка жилья  \n",
       "6           операции с жильем  \n",
       "7                 образование  \n",
       "8       на проведение свадьбы  \n",
       "9     покупка жилья для семьи  "
      ]
     },
     "metadata": {},
     "output_type": "display_data"
    }
   ],
   "source": [
    "# импортируем библиотеку pandas\n",
    "import pandas as pd \n",
    "#сохраним таблицу в переменной client_stat\n",
    "client_stat = pd.read_csv('/datasets/data.csv') \n",
    "#познакомимся со структурой таблицы client_stat начало\n",
    "display(client_stat.head(10)) \n",
    "\n"
   ]
  },
  {
   "cell_type": "code",
   "execution_count": 2,
   "id": "27a40291",
   "metadata": {
    "scrolled": true
   },
   "outputs": [
    {
     "data": {
      "text/html": [
       "<div>\n",
       "<style scoped>\n",
       "    .dataframe tbody tr th:only-of-type {\n",
       "        vertical-align: middle;\n",
       "    }\n",
       "\n",
       "    .dataframe tbody tr th {\n",
       "        vertical-align: top;\n",
       "    }\n",
       "\n",
       "    .dataframe thead th {\n",
       "        text-align: right;\n",
       "    }\n",
       "</style>\n",
       "<table border=\"1\" class=\"dataframe\">\n",
       "  <thead>\n",
       "    <tr style=\"text-align: right;\">\n",
       "      <th></th>\n",
       "      <th>children</th>\n",
       "      <th>days_employed</th>\n",
       "      <th>dob_years</th>\n",
       "      <th>education</th>\n",
       "      <th>education_id</th>\n",
       "      <th>family_status</th>\n",
       "      <th>family_status_id</th>\n",
       "      <th>gender</th>\n",
       "      <th>income_type</th>\n",
       "      <th>debt</th>\n",
       "      <th>total_income</th>\n",
       "      <th>purpose</th>\n",
       "    </tr>\n",
       "  </thead>\n",
       "  <tbody>\n",
       "    <tr>\n",
       "      <th>21515</th>\n",
       "      <td>1</td>\n",
       "      <td>-467.685130</td>\n",
       "      <td>28</td>\n",
       "      <td>среднее</td>\n",
       "      <td>1</td>\n",
       "      <td>женат / замужем</td>\n",
       "      <td>0</td>\n",
       "      <td>F</td>\n",
       "      <td>сотрудник</td>\n",
       "      <td>1</td>\n",
       "      <td>109486.327999</td>\n",
       "      <td>заняться образованием</td>\n",
       "    </tr>\n",
       "    <tr>\n",
       "      <th>21516</th>\n",
       "      <td>0</td>\n",
       "      <td>-914.391429</td>\n",
       "      <td>42</td>\n",
       "      <td>высшее</td>\n",
       "      <td>0</td>\n",
       "      <td>женат / замужем</td>\n",
       "      <td>0</td>\n",
       "      <td>F</td>\n",
       "      <td>компаньон</td>\n",
       "      <td>0</td>\n",
       "      <td>322807.776603</td>\n",
       "      <td>покупка своего жилья</td>\n",
       "    </tr>\n",
       "    <tr>\n",
       "      <th>21517</th>\n",
       "      <td>0</td>\n",
       "      <td>-404.679034</td>\n",
       "      <td>42</td>\n",
       "      <td>высшее</td>\n",
       "      <td>0</td>\n",
       "      <td>гражданский брак</td>\n",
       "      <td>1</td>\n",
       "      <td>F</td>\n",
       "      <td>компаньон</td>\n",
       "      <td>0</td>\n",
       "      <td>178059.553491</td>\n",
       "      <td>на покупку своего автомобиля</td>\n",
       "    </tr>\n",
       "    <tr>\n",
       "      <th>21518</th>\n",
       "      <td>0</td>\n",
       "      <td>373995.710838</td>\n",
       "      <td>59</td>\n",
       "      <td>СРЕДНЕЕ</td>\n",
       "      <td>1</td>\n",
       "      <td>женат / замужем</td>\n",
       "      <td>0</td>\n",
       "      <td>F</td>\n",
       "      <td>пенсионер</td>\n",
       "      <td>0</td>\n",
       "      <td>153864.650328</td>\n",
       "      <td>сделка с автомобилем</td>\n",
       "    </tr>\n",
       "    <tr>\n",
       "      <th>21519</th>\n",
       "      <td>1</td>\n",
       "      <td>-2351.431934</td>\n",
       "      <td>37</td>\n",
       "      <td>ученая степень</td>\n",
       "      <td>4</td>\n",
       "      <td>в разводе</td>\n",
       "      <td>3</td>\n",
       "      <td>M</td>\n",
       "      <td>сотрудник</td>\n",
       "      <td>0</td>\n",
       "      <td>115949.039788</td>\n",
       "      <td>покупка коммерческой недвижимости</td>\n",
       "    </tr>\n",
       "    <tr>\n",
       "      <th>21520</th>\n",
       "      <td>1</td>\n",
       "      <td>-4529.316663</td>\n",
       "      <td>43</td>\n",
       "      <td>среднее</td>\n",
       "      <td>1</td>\n",
       "      <td>гражданский брак</td>\n",
       "      <td>1</td>\n",
       "      <td>F</td>\n",
       "      <td>компаньон</td>\n",
       "      <td>0</td>\n",
       "      <td>224791.862382</td>\n",
       "      <td>операции с жильем</td>\n",
       "    </tr>\n",
       "    <tr>\n",
       "      <th>21521</th>\n",
       "      <td>0</td>\n",
       "      <td>343937.404131</td>\n",
       "      <td>67</td>\n",
       "      <td>среднее</td>\n",
       "      <td>1</td>\n",
       "      <td>женат / замужем</td>\n",
       "      <td>0</td>\n",
       "      <td>F</td>\n",
       "      <td>пенсионер</td>\n",
       "      <td>0</td>\n",
       "      <td>155999.806512</td>\n",
       "      <td>сделка с автомобилем</td>\n",
       "    </tr>\n",
       "    <tr>\n",
       "      <th>21522</th>\n",
       "      <td>1</td>\n",
       "      <td>-2113.346888</td>\n",
       "      <td>38</td>\n",
       "      <td>среднее</td>\n",
       "      <td>1</td>\n",
       "      <td>гражданский брак</td>\n",
       "      <td>1</td>\n",
       "      <td>M</td>\n",
       "      <td>сотрудник</td>\n",
       "      <td>1</td>\n",
       "      <td>89672.561153</td>\n",
       "      <td>недвижимость</td>\n",
       "    </tr>\n",
       "    <tr>\n",
       "      <th>21523</th>\n",
       "      <td>3</td>\n",
       "      <td>-3112.481705</td>\n",
       "      <td>38</td>\n",
       "      <td>среднее</td>\n",
       "      <td>1</td>\n",
       "      <td>женат / замужем</td>\n",
       "      <td>0</td>\n",
       "      <td>M</td>\n",
       "      <td>сотрудник</td>\n",
       "      <td>1</td>\n",
       "      <td>244093.050500</td>\n",
       "      <td>на покупку своего автомобиля</td>\n",
       "    </tr>\n",
       "    <tr>\n",
       "      <th>21524</th>\n",
       "      <td>2</td>\n",
       "      <td>-1984.507589</td>\n",
       "      <td>40</td>\n",
       "      <td>среднее</td>\n",
       "      <td>1</td>\n",
       "      <td>женат / замужем</td>\n",
       "      <td>0</td>\n",
       "      <td>F</td>\n",
       "      <td>сотрудник</td>\n",
       "      <td>0</td>\n",
       "      <td>82047.418899</td>\n",
       "      <td>на покупку автомобиля</td>\n",
       "    </tr>\n",
       "  </tbody>\n",
       "</table>\n",
       "</div>"
      ],
      "text/plain": [
       "       children  days_employed  dob_years       education  education_id  \\\n",
       "21515         1    -467.685130         28         среднее             1   \n",
       "21516         0    -914.391429         42          высшее             0   \n",
       "21517         0    -404.679034         42          высшее             0   \n",
       "21518         0  373995.710838         59         СРЕДНЕЕ             1   \n",
       "21519         1   -2351.431934         37  ученая степень             4   \n",
       "21520         1   -4529.316663         43         среднее             1   \n",
       "21521         0  343937.404131         67         среднее             1   \n",
       "21522         1   -2113.346888         38         среднее             1   \n",
       "21523         3   -3112.481705         38         среднее             1   \n",
       "21524         2   -1984.507589         40         среднее             1   \n",
       "\n",
       "          family_status  family_status_id gender income_type  debt  \\\n",
       "21515   женат / замужем                 0      F   сотрудник     1   \n",
       "21516   женат / замужем                 0      F   компаньон     0   \n",
       "21517  гражданский брак                 1      F   компаньон     0   \n",
       "21518   женат / замужем                 0      F   пенсионер     0   \n",
       "21519         в разводе                 3      M   сотрудник     0   \n",
       "21520  гражданский брак                 1      F   компаньон     0   \n",
       "21521   женат / замужем                 0      F   пенсионер     0   \n",
       "21522  гражданский брак                 1      M   сотрудник     1   \n",
       "21523   женат / замужем                 0      M   сотрудник     1   \n",
       "21524   женат / замужем                 0      F   сотрудник     0   \n",
       "\n",
       "        total_income                            purpose  \n",
       "21515  109486.327999              заняться образованием  \n",
       "21516  322807.776603               покупка своего жилья  \n",
       "21517  178059.553491       на покупку своего автомобиля  \n",
       "21518  153864.650328               сделка с автомобилем  \n",
       "21519  115949.039788  покупка коммерческой недвижимости  \n",
       "21520  224791.862382                  операции с жильем  \n",
       "21521  155999.806512               сделка с автомобилем  \n",
       "21522   89672.561153                       недвижимость  \n",
       "21523  244093.050500       на покупку своего автомобиля  \n",
       "21524   82047.418899              на покупку автомобиля  "
      ]
     },
     "metadata": {},
     "output_type": "display_data"
    }
   ],
   "source": [
    "#познакомимся со структурой таблицы client_stat конец\n",
    "display(client_stat.tail(10)) \n"
   ]
  },
  {
   "cell_type": "code",
   "execution_count": 3,
   "id": "40daa117",
   "metadata": {},
   "outputs": [
    {
     "name": "stdout",
     "output_type": "stream",
     "text": [
      "<class 'pandas.core.frame.DataFrame'>\n",
      "RangeIndex: 21525 entries, 0 to 21524\n",
      "Data columns (total 12 columns):\n",
      " #   Column            Non-Null Count  Dtype  \n",
      "---  ------            --------------  -----  \n",
      " 0   children          21525 non-null  int64  \n",
      " 1   days_employed     19351 non-null  float64\n",
      " 2   dob_years         21525 non-null  int64  \n",
      " 3   education         21525 non-null  object \n",
      " 4   education_id      21525 non-null  int64  \n",
      " 5   family_status     21525 non-null  object \n",
      " 6   family_status_id  21525 non-null  int64  \n",
      " 7   gender            21525 non-null  object \n",
      " 8   income_type       21525 non-null  object \n",
      " 9   debt              21525 non-null  int64  \n",
      " 10  total_income      19351 non-null  float64\n",
      " 11  purpose           21525 non-null  object \n",
      "dtypes: float64(2), int64(5), object(5)\n",
      "memory usage: 2.0+ MB\n"
     ]
    }
   ],
   "source": [
    "#получим общую информацию о датасете client_stat\n",
    "client_stat.info() "
   ]
  },
  {
   "cell_type": "markdown",
   "id": "486a48b9",
   "metadata": {},
   "source": [
    "**Результат обзора.** \n",
    "В таблице 12 колонок и 21525 строк. В столбцах days_employed и total_income есть пропущенные значения, которые следует проанализировать и заменить на другие."
   ]
  },
  {
   "cell_type": "markdown",
   "id": "0208b529",
   "metadata": {},
   "source": [
    "# Шаг 2.1 Заполнение пропусков"
   ]
  },
  {
   "cell_type": "code",
   "execution_count": 4,
   "id": "4251b487",
   "metadata": {
    "scrolled": true
   },
   "outputs": [
    {
     "data": {
      "text/plain": [
       "'Уникальные значения в колонке с общим трудовым стажем:'"
      ]
     },
     "metadata": {},
     "output_type": "display_data"
    },
    {
     "data": {
      "text/plain": [
       "array([-8437.67302776, -4024.80375385, -5623.42261023, ...,\n",
       "       -2113.3468877 , -3112.4817052 , -1984.50758853])"
      ]
     },
     "metadata": {},
     "output_type": "display_data"
    },
    {
     "name": "stdout",
     "output_type": "stream",
     "text": [
      "Количество пропусков в колонке с общим трудовым стажем: 2174\n"
     ]
    }
   ],
   "source": [
    "#поиск всех уникальных значений в стролбце\n",
    "display('Уникальные значения в колонке с общим трудовым стажем:',client_stat['days_employed'].unique()) \n",
    "#количество пропусков\n",
    "print('Количество пропусков в колонке с общим трудовым стажем:',client_stat['days_employed'].isna().sum()) \n"
   ]
  },
  {
   "cell_type": "markdown",
   "id": "b0405e49",
   "metadata": {},
   "source": [
    "**Вывод:** Отрицательные значения с колонке с общим трудовым стажем могут появиться по причине ошибочно заполненной формы: данные начала и конца трудовой деятельности перепунаны местами или не заполнена одна из  ячеек. Поэтому отрицательные значения для анализа сохраним как положительные методом abs()"
   ]
  },
  {
   "cell_type": "code",
   "execution_count": 5,
   "id": "6b23a2a4",
   "metadata": {},
   "outputs": [],
   "source": [
    "#избавимся от отрицательных значений\n",
    "client_stat['days_employed'] = client_stat['days_employed'].abs()\n"
   ]
  },
  {
   "cell_type": "code",
   "execution_count": 6,
   "id": "07f42781",
   "metadata": {
    "scrolled": true
   },
   "outputs": [
    {
     "data": {
      "text/html": [
       "<div>\n",
       "<style scoped>\n",
       "    .dataframe tbody tr th:only-of-type {\n",
       "        vertical-align: middle;\n",
       "    }\n",
       "\n",
       "    .dataframe tbody tr th {\n",
       "        vertical-align: top;\n",
       "    }\n",
       "\n",
       "    .dataframe thead th {\n",
       "        text-align: right;\n",
       "    }\n",
       "</style>\n",
       "<table border=\"1\" class=\"dataframe\">\n",
       "  <thead>\n",
       "    <tr style=\"text-align: right;\">\n",
       "      <th></th>\n",
       "      <th>children</th>\n",
       "      <th>days_employed</th>\n",
       "      <th>dob_years</th>\n",
       "      <th>education</th>\n",
       "      <th>education_id</th>\n",
       "      <th>family_status</th>\n",
       "      <th>family_status_id</th>\n",
       "      <th>gender</th>\n",
       "      <th>income_type</th>\n",
       "      <th>debt</th>\n",
       "      <th>total_income</th>\n",
       "      <th>purpose</th>\n",
       "    </tr>\n",
       "  </thead>\n",
       "  <tbody>\n",
       "    <tr>\n",
       "      <th>6954</th>\n",
       "      <td>0</td>\n",
       "      <td>401755.400475</td>\n",
       "      <td>56</td>\n",
       "      <td>среднее</td>\n",
       "      <td>1</td>\n",
       "      <td>вдовец / вдова</td>\n",
       "      <td>2</td>\n",
       "      <td>F</td>\n",
       "      <td>пенсионер</td>\n",
       "      <td>0</td>\n",
       "      <td>176278.441171</td>\n",
       "      <td>ремонт жилью</td>\n",
       "    </tr>\n",
       "    <tr>\n",
       "      <th>10006</th>\n",
       "      <td>0</td>\n",
       "      <td>401715.811749</td>\n",
       "      <td>69</td>\n",
       "      <td>высшее</td>\n",
       "      <td>0</td>\n",
       "      <td>Не женат / не замужем</td>\n",
       "      <td>4</td>\n",
       "      <td>F</td>\n",
       "      <td>пенсионер</td>\n",
       "      <td>0</td>\n",
       "      <td>57390.256908</td>\n",
       "      <td>получение образования</td>\n",
       "    </tr>\n",
       "    <tr>\n",
       "      <th>7664</th>\n",
       "      <td>1</td>\n",
       "      <td>401675.093434</td>\n",
       "      <td>61</td>\n",
       "      <td>среднее</td>\n",
       "      <td>1</td>\n",
       "      <td>женат / замужем</td>\n",
       "      <td>0</td>\n",
       "      <td>F</td>\n",
       "      <td>пенсионер</td>\n",
       "      <td>0</td>\n",
       "      <td>126214.519212</td>\n",
       "      <td>операции с жильем</td>\n",
       "    </tr>\n",
       "    <tr>\n",
       "      <th>2156</th>\n",
       "      <td>0</td>\n",
       "      <td>401674.466633</td>\n",
       "      <td>60</td>\n",
       "      <td>среднее</td>\n",
       "      <td>1</td>\n",
       "      <td>женат / замужем</td>\n",
       "      <td>0</td>\n",
       "      <td>M</td>\n",
       "      <td>пенсионер</td>\n",
       "      <td>0</td>\n",
       "      <td>325395.724541</td>\n",
       "      <td>автомобили</td>\n",
       "    </tr>\n",
       "    <tr>\n",
       "      <th>7794</th>\n",
       "      <td>0</td>\n",
       "      <td>401663.850046</td>\n",
       "      <td>61</td>\n",
       "      <td>среднее</td>\n",
       "      <td>1</td>\n",
       "      <td>гражданский брак</td>\n",
       "      <td>1</td>\n",
       "      <td>F</td>\n",
       "      <td>пенсионер</td>\n",
       "      <td>0</td>\n",
       "      <td>48286.441362</td>\n",
       "      <td>свадьба</td>\n",
       "    </tr>\n",
       "    <tr>\n",
       "      <th>...</th>\n",
       "      <td>...</td>\n",
       "      <td>...</td>\n",
       "      <td>...</td>\n",
       "      <td>...</td>\n",
       "      <td>...</td>\n",
       "      <td>...</td>\n",
       "      <td>...</td>\n",
       "      <td>...</td>\n",
       "      <td>...</td>\n",
       "      <td>...</td>\n",
       "      <td>...</td>\n",
       "      <td>...</td>\n",
       "    </tr>\n",
       "    <tr>\n",
       "      <th>21489</th>\n",
       "      <td>2</td>\n",
       "      <td>NaN</td>\n",
       "      <td>47</td>\n",
       "      <td>Среднее</td>\n",
       "      <td>1</td>\n",
       "      <td>женат / замужем</td>\n",
       "      <td>0</td>\n",
       "      <td>M</td>\n",
       "      <td>компаньон</td>\n",
       "      <td>0</td>\n",
       "      <td>NaN</td>\n",
       "      <td>сделка с автомобилем</td>\n",
       "    </tr>\n",
       "    <tr>\n",
       "      <th>21495</th>\n",
       "      <td>1</td>\n",
       "      <td>NaN</td>\n",
       "      <td>50</td>\n",
       "      <td>среднее</td>\n",
       "      <td>1</td>\n",
       "      <td>гражданский брак</td>\n",
       "      <td>1</td>\n",
       "      <td>F</td>\n",
       "      <td>сотрудник</td>\n",
       "      <td>0</td>\n",
       "      <td>NaN</td>\n",
       "      <td>свадьба</td>\n",
       "    </tr>\n",
       "    <tr>\n",
       "      <th>21497</th>\n",
       "      <td>0</td>\n",
       "      <td>NaN</td>\n",
       "      <td>48</td>\n",
       "      <td>ВЫСШЕЕ</td>\n",
       "      <td>0</td>\n",
       "      <td>женат / замужем</td>\n",
       "      <td>0</td>\n",
       "      <td>F</td>\n",
       "      <td>компаньон</td>\n",
       "      <td>0</td>\n",
       "      <td>NaN</td>\n",
       "      <td>строительство недвижимости</td>\n",
       "    </tr>\n",
       "    <tr>\n",
       "      <th>21502</th>\n",
       "      <td>1</td>\n",
       "      <td>NaN</td>\n",
       "      <td>42</td>\n",
       "      <td>среднее</td>\n",
       "      <td>1</td>\n",
       "      <td>женат / замужем</td>\n",
       "      <td>0</td>\n",
       "      <td>F</td>\n",
       "      <td>сотрудник</td>\n",
       "      <td>0</td>\n",
       "      <td>NaN</td>\n",
       "      <td>строительство жилой недвижимости</td>\n",
       "    </tr>\n",
       "    <tr>\n",
       "      <th>21510</th>\n",
       "      <td>2</td>\n",
       "      <td>NaN</td>\n",
       "      <td>28</td>\n",
       "      <td>среднее</td>\n",
       "      <td>1</td>\n",
       "      <td>женат / замужем</td>\n",
       "      <td>0</td>\n",
       "      <td>F</td>\n",
       "      <td>сотрудник</td>\n",
       "      <td>0</td>\n",
       "      <td>NaN</td>\n",
       "      <td>приобретение автомобиля</td>\n",
       "    </tr>\n",
       "  </tbody>\n",
       "</table>\n",
       "<p>21525 rows × 12 columns</p>\n",
       "</div>"
      ],
      "text/plain": [
       "       children  days_employed  dob_years education  education_id  \\\n",
       "6954          0  401755.400475         56   среднее             1   \n",
       "10006         0  401715.811749         69    высшее             0   \n",
       "7664          1  401675.093434         61   среднее             1   \n",
       "2156          0  401674.466633         60   среднее             1   \n",
       "7794          0  401663.850046         61   среднее             1   \n",
       "...         ...            ...        ...       ...           ...   \n",
       "21489         2            NaN         47   Среднее             1   \n",
       "21495         1            NaN         50   среднее             1   \n",
       "21497         0            NaN         48    ВЫСШЕЕ             0   \n",
       "21502         1            NaN         42   среднее             1   \n",
       "21510         2            NaN         28   среднее             1   \n",
       "\n",
       "               family_status  family_status_id gender income_type  debt  \\\n",
       "6954          вдовец / вдова                 2      F   пенсионер     0   \n",
       "10006  Не женат / не замужем                 4      F   пенсионер     0   \n",
       "7664         женат / замужем                 0      F   пенсионер     0   \n",
       "2156         женат / замужем                 0      M   пенсионер     0   \n",
       "7794        гражданский брак                 1      F   пенсионер     0   \n",
       "...                      ...               ...    ...         ...   ...   \n",
       "21489        женат / замужем                 0      M   компаньон     0   \n",
       "21495       гражданский брак                 1      F   сотрудник     0   \n",
       "21497        женат / замужем                 0      F   компаньон     0   \n",
       "21502        женат / замужем                 0      F   сотрудник     0   \n",
       "21510        женат / замужем                 0      F   сотрудник     0   \n",
       "\n",
       "        total_income                           purpose  \n",
       "6954   176278.441171                      ремонт жилью  \n",
       "10006   57390.256908             получение образования  \n",
       "7664   126214.519212                 операции с жильем  \n",
       "2156   325395.724541                        автомобили  \n",
       "7794    48286.441362                           свадьба  \n",
       "...              ...                               ...  \n",
       "21489            NaN              сделка с автомобилем  \n",
       "21495            NaN                           свадьба  \n",
       "21497            NaN        строительство недвижимости  \n",
       "21502            NaN  строительство жилой недвижимости  \n",
       "21510            NaN           приобретение автомобиля  \n",
       "\n",
       "[21525 rows x 12 columns]"
      ]
     },
     "metadata": {},
     "output_type": "display_data"
    }
   ],
   "source": [
    "#отсортируем  по убыванию колонки'days_employed' \n",
    "display(client_stat.sort_values('days_employed',ascending=False))\n"
   ]
  },
  {
   "cell_type": "markdown",
   "id": "5743feb2",
   "metadata": {},
   "source": [
    "**Вывод:** При анализе показаний стажа, убеждаемся, что максимальное показание стажа соответствует более взрослым клиентам. "
   ]
  },
  {
   "cell_type": "code",
   "execution_count": 7,
   "id": "fc7871c2",
   "metadata": {
    "scrolled": true
   },
   "outputs": [
    {
     "data": {
      "text/plain": [
       "children  days_employed  dob_years  education  education_id  family_status          family_status_id  gender  income_type  debt  total_income   purpose                              \n",
       "-1        340499.039342  50         среднее    1             женат / замужем        0                 M       пенсионер    0     170762.773162  покупка своего жилья                     1\n",
       " 0        381198.918686  58         среднее    1             женат / замужем        0                 F       пенсионер    0     220571.822007  покупка недвижимости                     1\n",
       "          380893.813588  61         среднее    1             женат / замужем        0                 M       пенсионер    0     533870.927357  покупка жилья                            1\n",
       "          380899.304883  52         среднее    1             женат / замужем        0                 F       пенсионер    0     161296.851590  строительство недвижимости               1\n",
       "          380908.859717  53         среднее    1             Не женат / не замужем  4                 F       пенсионер    0     126543.079228  недвижимость                             1\n",
       "                                                                                                                                                                                        ..\n",
       "          354887.971442  56         Высшее     0             Не женат / не замужем  4                 F       пенсионер    1     142404.278858  автомобили                               1\n",
       "          354932.869424  67         высшее     0             женат / замужем        0                 F       пенсионер    1     196337.365354  заняться высшим образованием             1\n",
       "          354935.619093  60         Высшее     0             Не женат / не замужем  4                 F       пенсионер    0     123809.602385  дополнительное образование               1\n",
       "          354961.262366  51         среднее    1             женат / замужем        0                 F       пенсионер    0     64289.808726   приобретение автомобиля                  1\n",
       " 20       385267.263676  62         среднее    1             гражданский брак       1                 F       пенсионер    0     192221.076774  операции с коммерческой недвижимостью    1\n",
       "Length: 3491, dtype: int64"
      ]
     },
     "metadata": {},
     "output_type": "display_data"
    }
   ],
   "source": [
    "# проверим сколько значений более 14000 в client_stat\n",
    "display(client_stat[client_stat['days_employed']>13260].value_counts())"
   ]
  },
  {
   "cell_type": "markdown",
   "id": "1f112256",
   "metadata": {},
   "source": []
  },
  {
   "cell_type": "markdown",
   "id": "e608a88b",
   "metadata": {},
   "source": [
    "<div class=\"alert alert-info\">\n",
    "    \n",
    "Количество неправдоподобных значений более 10% (3470/21525%=16,12%), поэтому удалять их не будем, а заменим на правдоподобное.\n",
    "</div>\n"
   ]
  },
  {
   "cell_type": "code",
   "execution_count": 8,
   "id": "9d61ba27",
   "metadata": {},
   "outputs": [
    {
     "name": "stdout",
     "output_type": "stream",
     "text": [
      "10000\n",
      "13260\n"
     ]
    }
   ],
   "source": [
    "# в функции total_days_employed примем максимально возможный стаж за 13260 дней и все значения больше 13260 заменим на 13260\n",
    "\n",
    "def total_days_employed(days_employed):\n",
    "    if days_employed > 13260:\n",
    "        days_employed==13260\n",
    "        return 13260\n",
    "    \n",
    "    return days_employed\n",
    "    \n",
    "    \n",
    "print(total_days_employed(10000)) # проверим работу функции для  10000\n",
    "print(total_days_employed(235000)) # проверим работу функции для  235000\n",
    "\n"
   ]
  },
  {
   "cell_type": "code",
   "execution_count": 9,
   "id": "32377cfd",
   "metadata": {},
   "outputs": [
    {
     "data": {
      "text/html": [
       "<div>\n",
       "<style scoped>\n",
       "    .dataframe tbody tr th:only-of-type {\n",
       "        vertical-align: middle;\n",
       "    }\n",
       "\n",
       "    .dataframe tbody tr th {\n",
       "        vertical-align: top;\n",
       "    }\n",
       "\n",
       "    .dataframe thead th {\n",
       "        text-align: right;\n",
       "    }\n",
       "</style>\n",
       "<table border=\"1\" class=\"dataframe\">\n",
       "  <thead>\n",
       "    <tr style=\"text-align: right;\">\n",
       "      <th></th>\n",
       "      <th>children</th>\n",
       "      <th>days_employed</th>\n",
       "      <th>dob_years</th>\n",
       "      <th>education</th>\n",
       "      <th>education_id</th>\n",
       "      <th>family_status</th>\n",
       "      <th>family_status_id</th>\n",
       "      <th>gender</th>\n",
       "      <th>income_type</th>\n",
       "      <th>debt</th>\n",
       "      <th>total_income</th>\n",
       "      <th>purpose</th>\n",
       "    </tr>\n",
       "  </thead>\n",
       "  <tbody>\n",
       "    <tr>\n",
       "      <th>10714</th>\n",
       "      <td>0</td>\n",
       "      <td>13260.0</td>\n",
       "      <td>63</td>\n",
       "      <td>высшее</td>\n",
       "      <td>0</td>\n",
       "      <td>вдовец / вдова</td>\n",
       "      <td>2</td>\n",
       "      <td>F</td>\n",
       "      <td>пенсионер</td>\n",
       "      <td>0</td>\n",
       "      <td>112734.356402</td>\n",
       "      <td>покупка жилья для семьи</td>\n",
       "    </tr>\n",
       "    <tr>\n",
       "      <th>2781</th>\n",
       "      <td>0</td>\n",
       "      <td>13260.0</td>\n",
       "      <td>54</td>\n",
       "      <td>среднее</td>\n",
       "      <td>1</td>\n",
       "      <td>женат / замужем</td>\n",
       "      <td>0</td>\n",
       "      <td>F</td>\n",
       "      <td>пенсионер</td>\n",
       "      <td>0</td>\n",
       "      <td>210536.558888</td>\n",
       "      <td>покупка недвижимости</td>\n",
       "    </tr>\n",
       "    <tr>\n",
       "      <th>10345</th>\n",
       "      <td>0</td>\n",
       "      <td>13260.0</td>\n",
       "      <td>56</td>\n",
       "      <td>среднее</td>\n",
       "      <td>1</td>\n",
       "      <td>гражданский брак</td>\n",
       "      <td>1</td>\n",
       "      <td>F</td>\n",
       "      <td>пенсионер</td>\n",
       "      <td>0</td>\n",
       "      <td>161380.764539</td>\n",
       "      <td>строительство недвижимости</td>\n",
       "    </tr>\n",
       "    <tr>\n",
       "      <th>10340</th>\n",
       "      <td>0</td>\n",
       "      <td>13260.0</td>\n",
       "      <td>56</td>\n",
       "      <td>среднее</td>\n",
       "      <td>1</td>\n",
       "      <td>Не женат / не замужем</td>\n",
       "      <td>4</td>\n",
       "      <td>F</td>\n",
       "      <td>пенсионер</td>\n",
       "      <td>0</td>\n",
       "      <td>355525.588501</td>\n",
       "      <td>дополнительное образование</td>\n",
       "    </tr>\n",
       "    <tr>\n",
       "      <th>10336</th>\n",
       "      <td>0</td>\n",
       "      <td>13260.0</td>\n",
       "      <td>65</td>\n",
       "      <td>среднее</td>\n",
       "      <td>1</td>\n",
       "      <td>вдовец / вдова</td>\n",
       "      <td>2</td>\n",
       "      <td>F</td>\n",
       "      <td>пенсионер</td>\n",
       "      <td>0</td>\n",
       "      <td>266426.566475</td>\n",
       "      <td>покупка своего жилья</td>\n",
       "    </tr>\n",
       "    <tr>\n",
       "      <th>...</th>\n",
       "      <td>...</td>\n",
       "      <td>...</td>\n",
       "      <td>...</td>\n",
       "      <td>...</td>\n",
       "      <td>...</td>\n",
       "      <td>...</td>\n",
       "      <td>...</td>\n",
       "      <td>...</td>\n",
       "      <td>...</td>\n",
       "      <td>...</td>\n",
       "      <td>...</td>\n",
       "      <td>...</td>\n",
       "    </tr>\n",
       "    <tr>\n",
       "      <th>21489</th>\n",
       "      <td>2</td>\n",
       "      <td>NaN</td>\n",
       "      <td>47</td>\n",
       "      <td>Среднее</td>\n",
       "      <td>1</td>\n",
       "      <td>женат / замужем</td>\n",
       "      <td>0</td>\n",
       "      <td>M</td>\n",
       "      <td>компаньон</td>\n",
       "      <td>0</td>\n",
       "      <td>NaN</td>\n",
       "      <td>сделка с автомобилем</td>\n",
       "    </tr>\n",
       "    <tr>\n",
       "      <th>21495</th>\n",
       "      <td>1</td>\n",
       "      <td>NaN</td>\n",
       "      <td>50</td>\n",
       "      <td>среднее</td>\n",
       "      <td>1</td>\n",
       "      <td>гражданский брак</td>\n",
       "      <td>1</td>\n",
       "      <td>F</td>\n",
       "      <td>сотрудник</td>\n",
       "      <td>0</td>\n",
       "      <td>NaN</td>\n",
       "      <td>свадьба</td>\n",
       "    </tr>\n",
       "    <tr>\n",
       "      <th>21497</th>\n",
       "      <td>0</td>\n",
       "      <td>NaN</td>\n",
       "      <td>48</td>\n",
       "      <td>ВЫСШЕЕ</td>\n",
       "      <td>0</td>\n",
       "      <td>женат / замужем</td>\n",
       "      <td>0</td>\n",
       "      <td>F</td>\n",
       "      <td>компаньон</td>\n",
       "      <td>0</td>\n",
       "      <td>NaN</td>\n",
       "      <td>строительство недвижимости</td>\n",
       "    </tr>\n",
       "    <tr>\n",
       "      <th>21502</th>\n",
       "      <td>1</td>\n",
       "      <td>NaN</td>\n",
       "      <td>42</td>\n",
       "      <td>среднее</td>\n",
       "      <td>1</td>\n",
       "      <td>женат / замужем</td>\n",
       "      <td>0</td>\n",
       "      <td>F</td>\n",
       "      <td>сотрудник</td>\n",
       "      <td>0</td>\n",
       "      <td>NaN</td>\n",
       "      <td>строительство жилой недвижимости</td>\n",
       "    </tr>\n",
       "    <tr>\n",
       "      <th>21510</th>\n",
       "      <td>2</td>\n",
       "      <td>NaN</td>\n",
       "      <td>28</td>\n",
       "      <td>среднее</td>\n",
       "      <td>1</td>\n",
       "      <td>женат / замужем</td>\n",
       "      <td>0</td>\n",
       "      <td>F</td>\n",
       "      <td>сотрудник</td>\n",
       "      <td>0</td>\n",
       "      <td>NaN</td>\n",
       "      <td>приобретение автомобиля</td>\n",
       "    </tr>\n",
       "  </tbody>\n",
       "</table>\n",
       "<p>21525 rows × 12 columns</p>\n",
       "</div>"
      ],
      "text/plain": [
       "       children  days_employed  dob_years education  education_id  \\\n",
       "10714         0        13260.0         63    высшее             0   \n",
       "2781          0        13260.0         54   среднее             1   \n",
       "10345         0        13260.0         56   среднее             1   \n",
       "10340         0        13260.0         56   среднее             1   \n",
       "10336         0        13260.0         65   среднее             1   \n",
       "...         ...            ...        ...       ...           ...   \n",
       "21489         2            NaN         47   Среднее             1   \n",
       "21495         1            NaN         50   среднее             1   \n",
       "21497         0            NaN         48    ВЫСШЕЕ             0   \n",
       "21502         1            NaN         42   среднее             1   \n",
       "21510         2            NaN         28   среднее             1   \n",
       "\n",
       "               family_status  family_status_id gender income_type  debt  \\\n",
       "10714         вдовец / вдова                 2      F   пенсионер     0   \n",
       "2781         женат / замужем                 0      F   пенсионер     0   \n",
       "10345       гражданский брак                 1      F   пенсионер     0   \n",
       "10340  Не женат / не замужем                 4      F   пенсионер     0   \n",
       "10336         вдовец / вдова                 2      F   пенсионер     0   \n",
       "...                      ...               ...    ...         ...   ...   \n",
       "21489        женат / замужем                 0      M   компаньон     0   \n",
       "21495       гражданский брак                 1      F   сотрудник     0   \n",
       "21497        женат / замужем                 0      F   компаньон     0   \n",
       "21502        женат / замужем                 0      F   сотрудник     0   \n",
       "21510        женат / замужем                 0      F   сотрудник     0   \n",
       "\n",
       "        total_income                           purpose  \n",
       "10714  112734.356402           покупка жилья для семьи  \n",
       "2781   210536.558888              покупка недвижимости  \n",
       "10345  161380.764539        строительство недвижимости  \n",
       "10340  355525.588501        дополнительное образование  \n",
       "10336  266426.566475              покупка своего жилья  \n",
       "...              ...                               ...  \n",
       "21489            NaN              сделка с автомобилем  \n",
       "21495            NaN                           свадьба  \n",
       "21497            NaN        строительство недвижимости  \n",
       "21502            NaN  строительство жилой недвижимости  \n",
       "21510            NaN           приобретение автомобиля  \n",
       "\n",
       "[21525 rows x 12 columns]"
      ]
     },
     "metadata": {},
     "output_type": "display_data"
    }
   ],
   "source": [
    "# используя метод apply заменим в таблице значения стажа более 13260 на 13260\n",
    "client_stat['days_employed'] = client_stat['days_employed'].apply(total_days_employed)\n",
    "\n",
    "# проконтролируем внесённые изменения\n",
    "display(client_stat.sort_values('days_employed',ascending=False))"
   ]
  },
  {
   "cell_type": "markdown",
   "id": "a61b5159",
   "metadata": {},
   "source": [
    "<div class=\"alert alert-info\">\n",
    "    \n",
    "Результат: изменения неправдоподобно больших значений стажа работы внесены в таблицу client_stat\n",
    "</div>\n"
   ]
  },
  {
   "cell_type": "code",
   "execution_count": 10,
   "id": "8b6fb99d",
   "metadata": {
    "scrolled": true
   },
   "outputs": [
    {
     "data": {
      "text/html": [
       "<div>\n",
       "<style scoped>\n",
       "    .dataframe tbody tr th:only-of-type {\n",
       "        vertical-align: middle;\n",
       "    }\n",
       "\n",
       "    .dataframe tbody tr th {\n",
       "        vertical-align: top;\n",
       "    }\n",
       "\n",
       "    .dataframe thead th {\n",
       "        text-align: right;\n",
       "    }\n",
       "</style>\n",
       "<table border=\"1\" class=\"dataframe\">\n",
       "  <thead>\n",
       "    <tr style=\"text-align: right;\">\n",
       "      <th></th>\n",
       "      <th>children</th>\n",
       "      <th>days_employed</th>\n",
       "      <th>dob_years</th>\n",
       "      <th>education</th>\n",
       "      <th>education_id</th>\n",
       "      <th>family_status</th>\n",
       "      <th>family_status_id</th>\n",
       "      <th>gender</th>\n",
       "      <th>income_type</th>\n",
       "      <th>debt</th>\n",
       "      <th>total_income</th>\n",
       "      <th>purpose</th>\n",
       "    </tr>\n",
       "  </thead>\n",
       "  <tbody>\n",
       "    <tr>\n",
       "      <th>12</th>\n",
       "      <td>0</td>\n",
       "      <td>NaN</td>\n",
       "      <td>65</td>\n",
       "      <td>среднее</td>\n",
       "      <td>1</td>\n",
       "      <td>гражданский брак</td>\n",
       "      <td>1</td>\n",
       "      <td>M</td>\n",
       "      <td>пенсионер</td>\n",
       "      <td>0</td>\n",
       "      <td>NaN</td>\n",
       "      <td>сыграть свадьбу</td>\n",
       "    </tr>\n",
       "    <tr>\n",
       "      <th>26</th>\n",
       "      <td>0</td>\n",
       "      <td>NaN</td>\n",
       "      <td>41</td>\n",
       "      <td>среднее</td>\n",
       "      <td>1</td>\n",
       "      <td>женат / замужем</td>\n",
       "      <td>0</td>\n",
       "      <td>M</td>\n",
       "      <td>госслужащий</td>\n",
       "      <td>0</td>\n",
       "      <td>NaN</td>\n",
       "      <td>образование</td>\n",
       "    </tr>\n",
       "    <tr>\n",
       "      <th>29</th>\n",
       "      <td>0</td>\n",
       "      <td>NaN</td>\n",
       "      <td>63</td>\n",
       "      <td>среднее</td>\n",
       "      <td>1</td>\n",
       "      <td>Не женат / не замужем</td>\n",
       "      <td>4</td>\n",
       "      <td>F</td>\n",
       "      <td>пенсионер</td>\n",
       "      <td>0</td>\n",
       "      <td>NaN</td>\n",
       "      <td>строительство жилой недвижимости</td>\n",
       "    </tr>\n",
       "    <tr>\n",
       "      <th>41</th>\n",
       "      <td>0</td>\n",
       "      <td>NaN</td>\n",
       "      <td>50</td>\n",
       "      <td>среднее</td>\n",
       "      <td>1</td>\n",
       "      <td>женат / замужем</td>\n",
       "      <td>0</td>\n",
       "      <td>F</td>\n",
       "      <td>госслужащий</td>\n",
       "      <td>0</td>\n",
       "      <td>NaN</td>\n",
       "      <td>сделка с подержанным автомобилем</td>\n",
       "    </tr>\n",
       "    <tr>\n",
       "      <th>55</th>\n",
       "      <td>0</td>\n",
       "      <td>NaN</td>\n",
       "      <td>54</td>\n",
       "      <td>среднее</td>\n",
       "      <td>1</td>\n",
       "      <td>гражданский брак</td>\n",
       "      <td>1</td>\n",
       "      <td>F</td>\n",
       "      <td>пенсионер</td>\n",
       "      <td>1</td>\n",
       "      <td>NaN</td>\n",
       "      <td>сыграть свадьбу</td>\n",
       "    </tr>\n",
       "    <tr>\n",
       "      <th>65</th>\n",
       "      <td>0</td>\n",
       "      <td>NaN</td>\n",
       "      <td>21</td>\n",
       "      <td>среднее</td>\n",
       "      <td>1</td>\n",
       "      <td>Не женат / не замужем</td>\n",
       "      <td>4</td>\n",
       "      <td>M</td>\n",
       "      <td>компаньон</td>\n",
       "      <td>0</td>\n",
       "      <td>NaN</td>\n",
       "      <td>операции с коммерческой недвижимостью</td>\n",
       "    </tr>\n",
       "    <tr>\n",
       "      <th>67</th>\n",
       "      <td>0</td>\n",
       "      <td>NaN</td>\n",
       "      <td>52</td>\n",
       "      <td>высшее</td>\n",
       "      <td>0</td>\n",
       "      <td>женат / замужем</td>\n",
       "      <td>0</td>\n",
       "      <td>F</td>\n",
       "      <td>пенсионер</td>\n",
       "      <td>0</td>\n",
       "      <td>NaN</td>\n",
       "      <td>покупка жилья для семьи</td>\n",
       "    </tr>\n",
       "    <tr>\n",
       "      <th>72</th>\n",
       "      <td>1</td>\n",
       "      <td>NaN</td>\n",
       "      <td>32</td>\n",
       "      <td>высшее</td>\n",
       "      <td>0</td>\n",
       "      <td>женат / замужем</td>\n",
       "      <td>0</td>\n",
       "      <td>M</td>\n",
       "      <td>госслужащий</td>\n",
       "      <td>0</td>\n",
       "      <td>NaN</td>\n",
       "      <td>операции с коммерческой недвижимостью</td>\n",
       "    </tr>\n",
       "    <tr>\n",
       "      <th>82</th>\n",
       "      <td>2</td>\n",
       "      <td>NaN</td>\n",
       "      <td>50</td>\n",
       "      <td>высшее</td>\n",
       "      <td>0</td>\n",
       "      <td>женат / замужем</td>\n",
       "      <td>0</td>\n",
       "      <td>F</td>\n",
       "      <td>сотрудник</td>\n",
       "      <td>0</td>\n",
       "      <td>NaN</td>\n",
       "      <td>жилье</td>\n",
       "    </tr>\n",
       "    <tr>\n",
       "      <th>83</th>\n",
       "      <td>0</td>\n",
       "      <td>NaN</td>\n",
       "      <td>52</td>\n",
       "      <td>среднее</td>\n",
       "      <td>1</td>\n",
       "      <td>женат / замужем</td>\n",
       "      <td>0</td>\n",
       "      <td>M</td>\n",
       "      <td>сотрудник</td>\n",
       "      <td>0</td>\n",
       "      <td>NaN</td>\n",
       "      <td>жилье</td>\n",
       "    </tr>\n",
       "  </tbody>\n",
       "</table>\n",
       "</div>"
      ],
      "text/plain": [
       "    children  days_employed  dob_years education  education_id  \\\n",
       "12         0            NaN         65   среднее             1   \n",
       "26         0            NaN         41   среднее             1   \n",
       "29         0            NaN         63   среднее             1   \n",
       "41         0            NaN         50   среднее             1   \n",
       "55         0            NaN         54   среднее             1   \n",
       "65         0            NaN         21   среднее             1   \n",
       "67         0            NaN         52    высшее             0   \n",
       "72         1            NaN         32    высшее             0   \n",
       "82         2            NaN         50    высшее             0   \n",
       "83         0            NaN         52   среднее             1   \n",
       "\n",
       "            family_status  family_status_id gender  income_type  debt  \\\n",
       "12       гражданский брак                 1      M    пенсионер     0   \n",
       "26        женат / замужем                 0      M  госслужащий     0   \n",
       "29  Не женат / не замужем                 4      F    пенсионер     0   \n",
       "41        женат / замужем                 0      F  госслужащий     0   \n",
       "55       гражданский брак                 1      F    пенсионер     1   \n",
       "65  Не женат / не замужем                 4      M    компаньон     0   \n",
       "67        женат / замужем                 0      F    пенсионер     0   \n",
       "72        женат / замужем                 0      M  госслужащий     0   \n",
       "82        женат / замужем                 0      F    сотрудник     0   \n",
       "83        женат / замужем                 0      M    сотрудник     0   \n",
       "\n",
       "    total_income                                purpose  \n",
       "12           NaN                        сыграть свадьбу  \n",
       "26           NaN                            образование  \n",
       "29           NaN       строительство жилой недвижимости  \n",
       "41           NaN       сделка с подержанным автомобилем  \n",
       "55           NaN                        сыграть свадьбу  \n",
       "65           NaN  операции с коммерческой недвижимостью  \n",
       "67           NaN                покупка жилья для семьи  \n",
       "72           NaN  операции с коммерческой недвижимостью  \n",
       "82           NaN                                  жилье  \n",
       "83           NaN                                  жилье  "
      ]
     },
     "metadata": {},
     "output_type": "display_data"
    }
   ],
   "source": [
    "# пропуски в колонке days_employed\n",
    "display(client_stat[client_stat['days_employed'].isna()].head(10)) \n"
   ]
  },
  {
   "cell_type": "code",
   "execution_count": 11,
   "id": "de44a351",
   "metadata": {},
   "outputs": [
    {
     "name": "stdout",
     "output_type": "stream",
     "text": [
      "Количество пропусков в колонке с ежемесячным доходом: 2174\n"
     ]
    }
   ],
   "source": [
    "#количество пропусков\n",
    "print('Количество пропусков в колонке с ежемесячным доходом:',client_stat['total_income'].isna().sum())\n"
   ]
  },
  {
   "cell_type": "code",
   "execution_count": 12,
   "id": "fd082c38",
   "metadata": {},
   "outputs": [
    {
     "name": "stdout",
     "output_type": "stream",
     "text": [
      "       days_employed   total_income\n",
      "10714        13260.0  112734.356402\n",
      "2781         13260.0  210536.558888\n",
      "10345        13260.0  161380.764539\n",
      "10340        13260.0  355525.588501\n",
      "10336        13260.0  266426.566475\n",
      "...              ...            ...\n",
      "21489            NaN            NaN\n",
      "21495            NaN            NaN\n",
      "21497            NaN            NaN\n",
      "21502            NaN            NaN\n",
      "21510            NaN            NaN\n",
      "\n",
      "[21525 rows x 2 columns]\n"
     ]
    }
   ],
   "source": [
    "#объдиним для анализа эти колонки в одну таблицу\n",
    "client_income_employed = client_stat[['days_employed','total_income']]\n",
    "#посмотрим какая связь в показаниях  обеих колонок\n",
    "print(client_income_employed.sort_values('days_employed',ascending=False)) \n"
   ]
  },
  {
   "cell_type": "markdown",
   "id": "4001a4bb",
   "metadata": {},
   "source": [
    "**Вывод:** Пропуски значений в колонках со стажем и ежемесячным доходом одновременно скорее всего связаны с тем, что заемщик может быть безработным или не имеет документального подтверждения стажа и дохода. Точной информации у нас по этому поводу нет. Количество пропущенных значений более 10 %, а также в данных таблицы есть информация, что дети у таких клиентов есть.Следовательно, для цели исследования, игнорировать пропуски не стоит, а имеет смысл заменить медианным значением.Медианное значение предпочтительней среднего арифметического, т.к. \"сглаживает\" влияние крайних значений ."
   ]
  },
  {
   "cell_type": "code",
   "execution_count": 13,
   "id": "e4534069",
   "metadata": {},
   "outputs": [
    {
     "name": "stdout",
     "output_type": "stream",
     "text": [
      "days_employed       24.141633\n",
      "total_income     20667.263793\n",
      "dtype: float64\n"
     ]
    }
   ],
   "source": [
    "#найдём минимальные значения для каждой из колонок\n",
    "print(client_income_employed.min()) "
   ]
  },
  {
   "cell_type": "markdown",
   "id": "81658e8e",
   "metadata": {},
   "source": [
    "**Вывод:** *отрицательных значений в колонках days_employed и total_income нет*"
   ]
  },
  {
   "cell_type": "code",
   "execution_count": 14,
   "id": "c698eb98",
   "metadata": {},
   "outputs": [
    {
     "name": "stdout",
     "output_type": "stream",
     "text": [
      "days_employed      2194.220567\n",
      "total_income     145017.937533\n",
      "dtype: float64\n"
     ]
    }
   ],
   "source": [
    "#найдём медианные значения для каждой из колонок\n",
    "print(client_income_employed.median() ) "
   ]
  },
  {
   "cell_type": "code",
   "execution_count": 15,
   "id": "1326d6af",
   "metadata": {},
   "outputs": [
    {
     "name": "stdout",
     "output_type": "stream",
     "text": [
      "0\n",
      "<class 'pandas.core.frame.DataFrame'>\n",
      "RangeIndex: 21525 entries, 0 to 21524\n",
      "Data columns (total 12 columns):\n",
      " #   Column            Non-Null Count  Dtype  \n",
      "---  ------            --------------  -----  \n",
      " 0   children          21525 non-null  int64  \n",
      " 1   days_employed     21525 non-null  float64\n",
      " 2   dob_years         21525 non-null  int64  \n",
      " 3   education         21525 non-null  object \n",
      " 4   education_id      21525 non-null  int64  \n",
      " 5   family_status     21525 non-null  object \n",
      " 6   family_status_id  21525 non-null  int64  \n",
      " 7   gender            21525 non-null  object \n",
      " 8   income_type       21525 non-null  object \n",
      " 9   debt              21525 non-null  int64  \n",
      " 10  total_income      19351 non-null  float64\n",
      " 11  purpose           21525 non-null  object \n",
      "dtypes: float64(2), int64(5), object(5)\n",
      "memory usage: 2.0+ MB\n"
     ]
    }
   ],
   "source": [
    " #заменим пропуски на медианные значения \n",
    "client_stat['days_employed'] = client_stat['days_employed'].fillna(client_stat['days_employed'].median()) \n",
    "# контроль количества пропусков\n",
    "print(client_stat['days_employed'].isna().sum()) \n",
    " #контроль по общим данным таблицы- пропущенных значений  в колонках нет\n",
    "client_stat.info()"
   ]
  },
  {
   "cell_type": "code",
   "execution_count": 16,
   "id": "9504af03",
   "metadata": {},
   "outputs": [
    {
     "name": "stdout",
     "output_type": "stream",
     "text": [
      "0\n",
      "<class 'pandas.core.frame.DataFrame'>\n",
      "RangeIndex: 21525 entries, 0 to 21524\n",
      "Data columns (total 12 columns):\n",
      " #   Column            Non-Null Count  Dtype  \n",
      "---  ------            --------------  -----  \n",
      " 0   children          21525 non-null  int64  \n",
      " 1   days_employed     21525 non-null  float64\n",
      " 2   dob_years         21525 non-null  int64  \n",
      " 3   education         21525 non-null  object \n",
      " 4   education_id      21525 non-null  int64  \n",
      " 5   family_status     21525 non-null  object \n",
      " 6   family_status_id  21525 non-null  int64  \n",
      " 7   gender            21525 non-null  object \n",
      " 8   income_type       21525 non-null  object \n",
      " 9   debt              21525 non-null  int64  \n",
      " 10  total_income      21525 non-null  float64\n",
      " 11  purpose           21525 non-null  object \n",
      "dtypes: float64(2), int64(5), object(5)\n",
      "memory usage: 2.0+ MB\n"
     ]
    }
   ],
   "source": [
    "#заменим пропуски на медианные значения  \n",
    "client_stat['total_income'] = client_stat['total_income'].fillna(client_stat['total_income'].median()) \n",
    "#контроль количества пропусков\n",
    "print(client_stat['total_income'].isna().sum()) \n",
    " #общая информация о таблице\n",
    "client_stat.info()"
   ]
  },
  {
   "cell_type": "markdown",
   "id": "0537e819",
   "metadata": {},
   "source": [
    "**Итог :** Пропуски в колонках 'days_employed' и 'total_income' заменены на мадианные значения, изменения внесены в таблицу client_stat. "
   ]
  },
  {
   "cell_type": "markdown",
   "id": "bb896287",
   "metadata": {},
   "source": [
    "### Шаг 2.2 Проверка данных на аномалии и исправления."
   ]
  },
  {
   "cell_type": "markdown",
   "id": "d57d69a7",
   "metadata": {},
   "source": [
    "* ***В колонке 'education'значения указаны в разных регистрах.***"
   ]
  },
  {
   "cell_type": "code",
   "execution_count": 17,
   "id": "0af3edba",
   "metadata": {},
   "outputs": [
    {
     "data": {
      "text/html": [
       "<div>\n",
       "<style scoped>\n",
       "    .dataframe tbody tr th:only-of-type {\n",
       "        vertical-align: middle;\n",
       "    }\n",
       "\n",
       "    .dataframe tbody tr th {\n",
       "        vertical-align: top;\n",
       "    }\n",
       "\n",
       "    .dataframe thead th {\n",
       "        text-align: right;\n",
       "    }\n",
       "</style>\n",
       "<table border=\"1\" class=\"dataframe\">\n",
       "  <thead>\n",
       "    <tr style=\"text-align: right;\">\n",
       "      <th></th>\n",
       "      <th>children</th>\n",
       "      <th>days_employed</th>\n",
       "      <th>dob_years</th>\n",
       "      <th>education</th>\n",
       "      <th>education_id</th>\n",
       "      <th>family_status</th>\n",
       "      <th>family_status_id</th>\n",
       "      <th>gender</th>\n",
       "      <th>income_type</th>\n",
       "      <th>debt</th>\n",
       "      <th>total_income</th>\n",
       "      <th>purpose</th>\n",
       "    </tr>\n",
       "  </thead>\n",
       "  <tbody>\n",
       "    <tr>\n",
       "      <th>0</th>\n",
       "      <td>1</td>\n",
       "      <td>8437.673028</td>\n",
       "      <td>42</td>\n",
       "      <td>высшее</td>\n",
       "      <td>0</td>\n",
       "      <td>женат / замужем</td>\n",
       "      <td>0</td>\n",
       "      <td>F</td>\n",
       "      <td>сотрудник</td>\n",
       "      <td>0</td>\n",
       "      <td>253875.639453</td>\n",
       "      <td>покупка жилья</td>\n",
       "    </tr>\n",
       "    <tr>\n",
       "      <th>1</th>\n",
       "      <td>1</td>\n",
       "      <td>4024.803754</td>\n",
       "      <td>36</td>\n",
       "      <td>среднее</td>\n",
       "      <td>1</td>\n",
       "      <td>женат / замужем</td>\n",
       "      <td>0</td>\n",
       "      <td>F</td>\n",
       "      <td>сотрудник</td>\n",
       "      <td>0</td>\n",
       "      <td>112080.014102</td>\n",
       "      <td>приобретение автомобиля</td>\n",
       "    </tr>\n",
       "    <tr>\n",
       "      <th>2</th>\n",
       "      <td>0</td>\n",
       "      <td>5623.422610</td>\n",
       "      <td>33</td>\n",
       "      <td>среднее</td>\n",
       "      <td>1</td>\n",
       "      <td>женат / замужем</td>\n",
       "      <td>0</td>\n",
       "      <td>M</td>\n",
       "      <td>сотрудник</td>\n",
       "      <td>0</td>\n",
       "      <td>145885.952297</td>\n",
       "      <td>покупка жилья</td>\n",
       "    </tr>\n",
       "    <tr>\n",
       "      <th>3</th>\n",
       "      <td>3</td>\n",
       "      <td>4124.747207</td>\n",
       "      <td>32</td>\n",
       "      <td>среднее</td>\n",
       "      <td>1</td>\n",
       "      <td>женат / замужем</td>\n",
       "      <td>0</td>\n",
       "      <td>M</td>\n",
       "      <td>сотрудник</td>\n",
       "      <td>0</td>\n",
       "      <td>267628.550329</td>\n",
       "      <td>дополнительное образование</td>\n",
       "    </tr>\n",
       "    <tr>\n",
       "      <th>4</th>\n",
       "      <td>0</td>\n",
       "      <td>13260.000000</td>\n",
       "      <td>53</td>\n",
       "      <td>среднее</td>\n",
       "      <td>1</td>\n",
       "      <td>гражданский брак</td>\n",
       "      <td>1</td>\n",
       "      <td>F</td>\n",
       "      <td>пенсионер</td>\n",
       "      <td>0</td>\n",
       "      <td>158616.077870</td>\n",
       "      <td>сыграть свадьбу</td>\n",
       "    </tr>\n",
       "  </tbody>\n",
       "</table>\n",
       "</div>"
      ],
      "text/plain": [
       "   children  days_employed  dob_years education  education_id  \\\n",
       "0         1    8437.673028         42    высшее             0   \n",
       "1         1    4024.803754         36   среднее             1   \n",
       "2         0    5623.422610         33   среднее             1   \n",
       "3         3    4124.747207         32   среднее             1   \n",
       "4         0   13260.000000         53   среднее             1   \n",
       "\n",
       "      family_status  family_status_id gender income_type  debt   total_income  \\\n",
       "0   женат / замужем                 0      F   сотрудник     0  253875.639453   \n",
       "1   женат / замужем                 0      F   сотрудник     0  112080.014102   \n",
       "2   женат / замужем                 0      M   сотрудник     0  145885.952297   \n",
       "3   женат / замужем                 0      M   сотрудник     0  267628.550329   \n",
       "4  гражданский брак                 1      F   пенсионер     0  158616.077870   \n",
       "\n",
       "                      purpose  \n",
       "0               покупка жилья  \n",
       "1     приобретение автомобиля  \n",
       "2               покупка жилья  \n",
       "3  дополнительное образование  \n",
       "4             сыграть свадьбу  "
      ]
     },
     "metadata": {},
     "output_type": "display_data"
    }
   ],
   "source": [
    "#изменим регистр в 'education'\n",
    "client_stat['education'] = client_stat['education'].str.lower() \n",
    " #контроль изменений регистра\n",
    "display(client_stat.head())"
   ]
  },
  {
   "cell_type": "markdown",
   "id": "c9a8d2bc",
   "metadata": {},
   "source": [
    "**Результат:** В колонке 'education' привели все строки к одному регистру и сохранили изменения в таблице."
   ]
  },
  {
   "cell_type": "code",
   "execution_count": 18,
   "id": "f9287acc",
   "metadata": {
    "scrolled": false
   },
   "outputs": [
    {
     "name": "stdout",
     "output_type": "stream",
     "text": [
      "min    -1\n",
      "max    20\n",
      "Name: children, dtype: int64\n",
      " 0     14149\n",
      " 1      4818\n",
      " 2      2055\n",
      " 3       330\n",
      " 20       76\n",
      "-1        47\n",
      " 4        41\n",
      " 5         9\n",
      "Name: children, dtype: int64\n"
     ]
    }
   ],
   "source": [
    "#проверим колонки \"children\" на аномалии\n",
    "client_stat_children = client_stat['children'] \n",
    "# min и max значения таблицы\n",
    "print(client_stat_children.agg(['min', 'max'])) \n",
    "# ознакомимся с значениями таблицы\n",
    "print(client_stat_children.value_counts().head(10)) "
   ]
  },
  {
   "cell_type": "markdown",
   "id": "777f7fbc",
   "metadata": {},
   "source": [
    "* ***47 отрицательных значений в колонке 'children' составляют менее 1%, поэтому можно заменить эти значения на 1 методом abs() без ущерба для исспедования.***"
   ]
  },
  {
   "cell_type": "code",
   "execution_count": 19,
   "id": "9542e679",
   "metadata": {},
   "outputs": [
    {
     "name": "stdout",
     "output_type": "stream",
     "text": [
      "0     14149\n",
      "1      4865\n",
      "2      2055\n",
      "3       330\n",
      "20       76\n",
      "4        41\n",
      "5         9\n",
      "Name: children, dtype: int64\n"
     ]
    }
   ],
   "source": [
    "# заменим отрицательные значения на положительные\n",
    "client_stat['children'] = client_stat['children'].abs() \n",
    "#контроль изменений \n",
    "print(client_stat_children.value_counts().head(10)) "
   ]
  },
  {
   "cell_type": "code",
   "execution_count": 20,
   "id": "b88b64ad",
   "metadata": {},
   "outputs": [
    {
     "name": "stdout",
     "output_type": "stream",
     "text": [
      "0    14149\n",
      "1     4865\n",
      "2     2131\n",
      "3      330\n",
      "4       41\n",
      "5        9\n",
      "Name: children, dtype: int64\n"
     ]
    }
   ],
   "source": [
    "#исправим значения 20 в колонке 'children'  на 2\n",
    "client_stat.loc[(client_stat['children']==20),'children']=2 \n",
    " # выведем на экран результат исправлений\n",
    "print(client_stat['children'].value_counts().head(10))"
   ]
  },
  {
   "cell_type": "markdown",
   "id": "131ae0b2",
   "metadata": {},
   "source": [
    "**Результат:** В колонке *'children'* отрицательные значения заменены на положительные, количество 20 в 76 случаях заменены на 2, т.к. очень похоже на опечатку.Если бы это были по-настоящему многодетные семьи или семьи с приёмными детьми, значения были бы не такими круглыми(11,9,17 и т.д)."
   ]
  },
  {
   "cell_type": "markdown",
   "id": "78940482",
   "metadata": {},
   "source": [
    "### Шаг 2.3. Изменение типов данных."
   ]
  },
  {
   "cell_type": "code",
   "execution_count": 21,
   "id": "b464d7d6",
   "metadata": {},
   "outputs": [
    {
     "name": "stdout",
     "output_type": "stream",
     "text": [
      "0    253875\n",
      "1    112080\n",
      "2    145885\n",
      "3    267628\n",
      "4    158616\n",
      "5    255763\n",
      "6    240525\n",
      "7    135823\n",
      "8     95856\n",
      "9    144425\n",
      "Name: total_income, dtype: int64\n"
     ]
    }
   ],
   "source": [
    "# заменим тип данных - вещественные числа на целочисленные показатели\n",
    "client_stat['total_income'] = client_stat['total_income'].astype('int') \n",
    "#контроль изменений\n",
    "print(client_stat['total_income'].head(10))  \n"
   ]
  },
  {
   "cell_type": "markdown",
   "id": "8151b556",
   "metadata": {},
   "source": [
    "**Результат:** В колонке *'total_income'* заменили вещественный тип данных на целочисленный."
   ]
  },
  {
   "cell_type": "markdown",
   "id": "4ea0b1af",
   "metadata": {},
   "source": [
    "### Шаг 2.4. Удаление дубликатов."
   ]
  },
  {
   "cell_type": "code",
   "execution_count": 22,
   "id": "89623d72",
   "metadata": {},
   "outputs": [
    {
     "name": "stdout",
     "output_type": "stream",
     "text": [
      "Количество дубликатов: 71\n"
     ]
    }
   ],
   "source": [
    "#проверим данные на наличие и количество дубликатов\n",
    "print('Количество дубликатов:',client_stat.duplicated().sum()) \n"
   ]
  },
  {
   "cell_type": "code",
   "execution_count": 23,
   "id": "61899dd4",
   "metadata": {},
   "outputs": [
    {
     "data": {
      "text/html": [
       "<div>\n",
       "<style scoped>\n",
       "    .dataframe tbody tr th:only-of-type {\n",
       "        vertical-align: middle;\n",
       "    }\n",
       "\n",
       "    .dataframe tbody tr th {\n",
       "        vertical-align: top;\n",
       "    }\n",
       "\n",
       "    .dataframe thead th {\n",
       "        text-align: right;\n",
       "    }\n",
       "</style>\n",
       "<table border=\"1\" class=\"dataframe\">\n",
       "  <thead>\n",
       "    <tr style=\"text-align: right;\">\n",
       "      <th></th>\n",
       "      <th>children</th>\n",
       "      <th>days_employed</th>\n",
       "      <th>dob_years</th>\n",
       "      <th>education</th>\n",
       "      <th>education_id</th>\n",
       "      <th>family_status</th>\n",
       "      <th>family_status_id</th>\n",
       "      <th>gender</th>\n",
       "      <th>income_type</th>\n",
       "      <th>debt</th>\n",
       "      <th>total_income</th>\n",
       "      <th>purpose</th>\n",
       "    </tr>\n",
       "  </thead>\n",
       "  <tbody>\n",
       "    <tr>\n",
       "      <th>2849</th>\n",
       "      <td>0</td>\n",
       "      <td>2194.220567</td>\n",
       "      <td>41</td>\n",
       "      <td>среднее</td>\n",
       "      <td>1</td>\n",
       "      <td>женат / замужем</td>\n",
       "      <td>0</td>\n",
       "      <td>F</td>\n",
       "      <td>сотрудник</td>\n",
       "      <td>0</td>\n",
       "      <td>145017</td>\n",
       "      <td>покупка жилья для семьи</td>\n",
       "    </tr>\n",
       "    <tr>\n",
       "      <th>3290</th>\n",
       "      <td>0</td>\n",
       "      <td>2194.220567</td>\n",
       "      <td>58</td>\n",
       "      <td>среднее</td>\n",
       "      <td>1</td>\n",
       "      <td>гражданский брак</td>\n",
       "      <td>1</td>\n",
       "      <td>F</td>\n",
       "      <td>пенсионер</td>\n",
       "      <td>0</td>\n",
       "      <td>145017</td>\n",
       "      <td>сыграть свадьбу</td>\n",
       "    </tr>\n",
       "    <tr>\n",
       "      <th>4182</th>\n",
       "      <td>1</td>\n",
       "      <td>2194.220567</td>\n",
       "      <td>34</td>\n",
       "      <td>высшее</td>\n",
       "      <td>0</td>\n",
       "      <td>гражданский брак</td>\n",
       "      <td>1</td>\n",
       "      <td>F</td>\n",
       "      <td>сотрудник</td>\n",
       "      <td>0</td>\n",
       "      <td>145017</td>\n",
       "      <td>свадьба</td>\n",
       "    </tr>\n",
       "    <tr>\n",
       "      <th>4851</th>\n",
       "      <td>0</td>\n",
       "      <td>2194.220567</td>\n",
       "      <td>60</td>\n",
       "      <td>среднее</td>\n",
       "      <td>1</td>\n",
       "      <td>гражданский брак</td>\n",
       "      <td>1</td>\n",
       "      <td>F</td>\n",
       "      <td>пенсионер</td>\n",
       "      <td>0</td>\n",
       "      <td>145017</td>\n",
       "      <td>свадьба</td>\n",
       "    </tr>\n",
       "    <tr>\n",
       "      <th>5557</th>\n",
       "      <td>0</td>\n",
       "      <td>2194.220567</td>\n",
       "      <td>58</td>\n",
       "      <td>среднее</td>\n",
       "      <td>1</td>\n",
       "      <td>гражданский брак</td>\n",
       "      <td>1</td>\n",
       "      <td>F</td>\n",
       "      <td>пенсионер</td>\n",
       "      <td>0</td>\n",
       "      <td>145017</td>\n",
       "      <td>сыграть свадьбу</td>\n",
       "    </tr>\n",
       "    <tr>\n",
       "      <th>6312</th>\n",
       "      <td>0</td>\n",
       "      <td>2194.220567</td>\n",
       "      <td>30</td>\n",
       "      <td>среднее</td>\n",
       "      <td>1</td>\n",
       "      <td>женат / замужем</td>\n",
       "      <td>0</td>\n",
       "      <td>M</td>\n",
       "      <td>сотрудник</td>\n",
       "      <td>0</td>\n",
       "      <td>145017</td>\n",
       "      <td>строительство жилой недвижимости</td>\n",
       "    </tr>\n",
       "    <tr>\n",
       "      <th>7808</th>\n",
       "      <td>0</td>\n",
       "      <td>2194.220567</td>\n",
       "      <td>57</td>\n",
       "      <td>среднее</td>\n",
       "      <td>1</td>\n",
       "      <td>гражданский брак</td>\n",
       "      <td>1</td>\n",
       "      <td>F</td>\n",
       "      <td>пенсионер</td>\n",
       "      <td>0</td>\n",
       "      <td>145017</td>\n",
       "      <td>на проведение свадьбы</td>\n",
       "    </tr>\n",
       "    <tr>\n",
       "      <th>7921</th>\n",
       "      <td>0</td>\n",
       "      <td>2194.220567</td>\n",
       "      <td>64</td>\n",
       "      <td>высшее</td>\n",
       "      <td>0</td>\n",
       "      <td>гражданский брак</td>\n",
       "      <td>1</td>\n",
       "      <td>F</td>\n",
       "      <td>пенсионер</td>\n",
       "      <td>0</td>\n",
       "      <td>145017</td>\n",
       "      <td>на проведение свадьбы</td>\n",
       "    </tr>\n",
       "    <tr>\n",
       "      <th>7938</th>\n",
       "      <td>0</td>\n",
       "      <td>2194.220567</td>\n",
       "      <td>71</td>\n",
       "      <td>среднее</td>\n",
       "      <td>1</td>\n",
       "      <td>гражданский брак</td>\n",
       "      <td>1</td>\n",
       "      <td>F</td>\n",
       "      <td>пенсионер</td>\n",
       "      <td>0</td>\n",
       "      <td>145017</td>\n",
       "      <td>на проведение свадьбы</td>\n",
       "    </tr>\n",
       "    <tr>\n",
       "      <th>8583</th>\n",
       "      <td>0</td>\n",
       "      <td>2194.220567</td>\n",
       "      <td>58</td>\n",
       "      <td>высшее</td>\n",
       "      <td>0</td>\n",
       "      <td>Не женат / не замужем</td>\n",
       "      <td>4</td>\n",
       "      <td>F</td>\n",
       "      <td>пенсионер</td>\n",
       "      <td>0</td>\n",
       "      <td>145017</td>\n",
       "      <td>дополнительное образование</td>\n",
       "    </tr>\n",
       "  </tbody>\n",
       "</table>\n",
       "</div>"
      ],
      "text/plain": [
       "      children  days_employed  dob_years education  education_id  \\\n",
       "2849         0    2194.220567         41   среднее             1   \n",
       "3290         0    2194.220567         58   среднее             1   \n",
       "4182         1    2194.220567         34    высшее             0   \n",
       "4851         0    2194.220567         60   среднее             1   \n",
       "5557         0    2194.220567         58   среднее             1   \n",
       "6312         0    2194.220567         30   среднее             1   \n",
       "7808         0    2194.220567         57   среднее             1   \n",
       "7921         0    2194.220567         64    высшее             0   \n",
       "7938         0    2194.220567         71   среднее             1   \n",
       "8583         0    2194.220567         58    высшее             0   \n",
       "\n",
       "              family_status  family_status_id gender income_type  debt  \\\n",
       "2849        женат / замужем                 0      F   сотрудник     0   \n",
       "3290       гражданский брак                 1      F   пенсионер     0   \n",
       "4182       гражданский брак                 1      F   сотрудник     0   \n",
       "4851       гражданский брак                 1      F   пенсионер     0   \n",
       "5557       гражданский брак                 1      F   пенсионер     0   \n",
       "6312        женат / замужем                 0      M   сотрудник     0   \n",
       "7808       гражданский брак                 1      F   пенсионер     0   \n",
       "7921       гражданский брак                 1      F   пенсионер     0   \n",
       "7938       гражданский брак                 1      F   пенсионер     0   \n",
       "8583  Не женат / не замужем                 4      F   пенсионер     0   \n",
       "\n",
       "      total_income                           purpose  \n",
       "2849        145017           покупка жилья для семьи  \n",
       "3290        145017                   сыграть свадьбу  \n",
       "4182        145017                           свадьба  \n",
       "4851        145017                           свадьба  \n",
       "5557        145017                   сыграть свадьбу  \n",
       "6312        145017  строительство жилой недвижимости  \n",
       "7808        145017             на проведение свадьбы  \n",
       "7921        145017             на проведение свадьбы  \n",
       "7938        145017             на проведение свадьбы  \n",
       "8583        145017        дополнительное образование  "
      ]
     },
     "metadata": {},
     "output_type": "display_data"
    }
   ],
   "source": [
    "#сохраним дубликаты в отдельную таблицу client_stat_duplicates\n",
    "client_stat_duplicates = client_stat[client_stat.duplicated()]\n",
    "#просмотрим первые 10 строк этой таблицы\n",
    "display(client_stat_duplicates.head(10)) "
   ]
  },
  {
   "cell_type": "code",
   "execution_count": 24,
   "id": "8dd8be4e",
   "metadata": {},
   "outputs": [
    {
     "name": "stdout",
     "output_type": "stream",
     "text": [
      "Количество дубликатов: 0\n"
     ]
    }
   ],
   "source": [
    "#удаление дубликатов\n",
    "client_stat = client_stat.drop_duplicates().reset_index(drop=True)\n",
    "#контроль удаления дубликатов\n",
    "print('Количество дубликатов:',client_stat.duplicated().sum()) "
   ]
  },
  {
   "cell_type": "markdown",
   "id": "59d7b0ea",
   "metadata": {},
   "source": [
    "**Результат:** Дубликаты удалены методом с восстановлением индексации."
   ]
  },
  {
   "cell_type": "markdown",
   "id": "b5c482a3",
   "metadata": {},
   "source": [
    "### Шаг 2.5. Формирование дополнительных датафреймов словарей, декомпозиция исходного датафрейма."
   ]
  },
  {
   "cell_type": "code",
   "execution_count": 25,
   "id": "990e0e30",
   "metadata": {},
   "outputs": [
    {
     "name": "stdout",
     "output_type": "stream",
     "text": [
      "  education  education_id\n",
      "0    высшее             0\n",
      "1   среднее             1\n",
      "2   среднее             1\n",
      "3   среднее             1\n",
      "4   среднее             1\n",
      "5    высшее             0\n",
      "6    высшее             0\n",
      "7   среднее             1\n",
      "8    высшее             0\n",
      "9   среднее             1\n"
     ]
    }
   ],
   "source": [
    "# создадим таблицу где каждому значению'education' соответствует уникальное значение 'education_id'\n",
    "client_stat_education = client_stat[['education','education_id']]\n",
    "#просмотрим первые 10 строк таблицы \n",
    "print(client_stat_education.head(10)) \n"
   ]
  },
  {
   "cell_type": "code",
   "execution_count": 26,
   "id": "4a7c41bb",
   "metadata": {},
   "outputs": [
    {
     "name": "stdout",
     "output_type": "stream",
     "text": [
      "Количество дубликатов: 21449\n",
      "Количество дубликатов: 0\n",
      "             education  education_id\n",
      "0               высшее             0\n",
      "1              среднее             1\n",
      "2  неоконченное высшее             2\n",
      "3            начальное             3\n",
      "4       ученая степень             4\n"
     ]
    }
   ],
   "source": [
    "\n",
    "print('Количество дубликатов:',client_stat_education.duplicated().sum()) \n",
    "#удаление дубликатов\n",
    "client_stat_education = client_stat_education.drop_duplicates().reset_index(drop=True) \n",
    "\n",
    "print('Количество дубликатов:',client_stat_education.duplicated().sum()) \n",
    "#просмотрим что получилось\n",
    "print(client_stat_education) "
   ]
  },
  {
   "cell_type": "code",
   "execution_count": 27,
   "id": "2d5dd22b",
   "metadata": {},
   "outputs": [
    {
     "name": "stdout",
     "output_type": "stream",
     "text": [
      "      family_status  family_status_id\n",
      "0   женат / замужем                 0\n",
      "1   женат / замужем                 0\n",
      "2   женат / замужем                 0\n",
      "3   женат / замужем                 0\n",
      "4  гражданский брак                 1\n",
      "5  гражданский брак                 1\n",
      "6   женат / замужем                 0\n",
      "7   женат / замужем                 0\n",
      "8  гражданский брак                 1\n",
      "9   женат / замужем                 0\n"
     ]
    }
   ],
   "source": [
    "# создадим таблицу где каждому значению'family_status' соответствует уникальное значение 'family_status_id' \n",
    "client_stat_family = client_stat[['family_status','family_status_id']]\n",
    "#просмотрим первые 10 строк таблицы\n",
    "print(client_stat_family.head(10))"
   ]
  },
  {
   "cell_type": "code",
   "execution_count": 28,
   "id": "ea278989",
   "metadata": {},
   "outputs": [
    {
     "name": "stdout",
     "output_type": "stream",
     "text": [
      "Количество дубликатов: 21449\n",
      "Количество дубликатов: 0\n"
     ]
    },
    {
     "data": {
      "text/html": [
       "<div>\n",
       "<style scoped>\n",
       "    .dataframe tbody tr th:only-of-type {\n",
       "        vertical-align: middle;\n",
       "    }\n",
       "\n",
       "    .dataframe tbody tr th {\n",
       "        vertical-align: top;\n",
       "    }\n",
       "\n",
       "    .dataframe thead th {\n",
       "        text-align: right;\n",
       "    }\n",
       "</style>\n",
       "<table border=\"1\" class=\"dataframe\">\n",
       "  <thead>\n",
       "    <tr style=\"text-align: right;\">\n",
       "      <th></th>\n",
       "      <th>family_status</th>\n",
       "      <th>family_status_id</th>\n",
       "    </tr>\n",
       "  </thead>\n",
       "  <tbody>\n",
       "    <tr>\n",
       "      <th>0</th>\n",
       "      <td>женат / замужем</td>\n",
       "      <td>0</td>\n",
       "    </tr>\n",
       "    <tr>\n",
       "      <th>1</th>\n",
       "      <td>гражданский брак</td>\n",
       "      <td>1</td>\n",
       "    </tr>\n",
       "    <tr>\n",
       "      <th>2</th>\n",
       "      <td>вдовец / вдова</td>\n",
       "      <td>2</td>\n",
       "    </tr>\n",
       "    <tr>\n",
       "      <th>3</th>\n",
       "      <td>в разводе</td>\n",
       "      <td>3</td>\n",
       "    </tr>\n",
       "    <tr>\n",
       "      <th>4</th>\n",
       "      <td>Не женат / не замужем</td>\n",
       "      <td>4</td>\n",
       "    </tr>\n",
       "  </tbody>\n",
       "</table>\n",
       "</div>"
      ],
      "text/plain": [
       "           family_status  family_status_id\n",
       "0        женат / замужем                 0\n",
       "1       гражданский брак                 1\n",
       "2         вдовец / вдова                 2\n",
       "3              в разводе                 3\n",
       "4  Не женат / не замужем                 4"
      ]
     },
     "metadata": {},
     "output_type": "display_data"
    }
   ],
   "source": [
    "#удаление дубликатов\n",
    "print('Количество дубликатов:',client_stat_family.duplicated().sum()) \n",
    "\n",
    "client_stat_family = client_stat_family.drop_duplicates().reset_index(drop=True) \n",
    "\n",
    "print('Количество дубликатов:',client_stat_family.duplicated().sum()) \n",
    "#просмотрим что получилось\n",
    "display(client_stat_family)"
   ]
  },
  {
   "cell_type": "code",
   "execution_count": 29,
   "id": "0840198c",
   "metadata": {},
   "outputs": [
    {
     "data": {
      "text/html": [
       "<div>\n",
       "<style scoped>\n",
       "    .dataframe tbody tr th:only-of-type {\n",
       "        vertical-align: middle;\n",
       "    }\n",
       "\n",
       "    .dataframe tbody tr th {\n",
       "        vertical-align: top;\n",
       "    }\n",
       "\n",
       "    .dataframe thead th {\n",
       "        text-align: right;\n",
       "    }\n",
       "</style>\n",
       "<table border=\"1\" class=\"dataframe\">\n",
       "  <thead>\n",
       "    <tr style=\"text-align: right;\">\n",
       "      <th></th>\n",
       "      <th>children</th>\n",
       "      <th>days_employed</th>\n",
       "      <th>dob_years</th>\n",
       "      <th>education_id</th>\n",
       "      <th>family_status_id</th>\n",
       "      <th>gender</th>\n",
       "      <th>income_type</th>\n",
       "      <th>debt</th>\n",
       "      <th>total_income</th>\n",
       "      <th>purpose</th>\n",
       "    </tr>\n",
       "  </thead>\n",
       "  <tbody>\n",
       "    <tr>\n",
       "      <th>0</th>\n",
       "      <td>1</td>\n",
       "      <td>8437.673028</td>\n",
       "      <td>42</td>\n",
       "      <td>0</td>\n",
       "      <td>0</td>\n",
       "      <td>F</td>\n",
       "      <td>сотрудник</td>\n",
       "      <td>0</td>\n",
       "      <td>253875</td>\n",
       "      <td>покупка жилья</td>\n",
       "    </tr>\n",
       "    <tr>\n",
       "      <th>1</th>\n",
       "      <td>1</td>\n",
       "      <td>4024.803754</td>\n",
       "      <td>36</td>\n",
       "      <td>1</td>\n",
       "      <td>0</td>\n",
       "      <td>F</td>\n",
       "      <td>сотрудник</td>\n",
       "      <td>0</td>\n",
       "      <td>112080</td>\n",
       "      <td>приобретение автомобиля</td>\n",
       "    </tr>\n",
       "    <tr>\n",
       "      <th>2</th>\n",
       "      <td>0</td>\n",
       "      <td>5623.422610</td>\n",
       "      <td>33</td>\n",
       "      <td>1</td>\n",
       "      <td>0</td>\n",
       "      <td>M</td>\n",
       "      <td>сотрудник</td>\n",
       "      <td>0</td>\n",
       "      <td>145885</td>\n",
       "      <td>покупка жилья</td>\n",
       "    </tr>\n",
       "    <tr>\n",
       "      <th>3</th>\n",
       "      <td>3</td>\n",
       "      <td>4124.747207</td>\n",
       "      <td>32</td>\n",
       "      <td>1</td>\n",
       "      <td>0</td>\n",
       "      <td>M</td>\n",
       "      <td>сотрудник</td>\n",
       "      <td>0</td>\n",
       "      <td>267628</td>\n",
       "      <td>дополнительное образование</td>\n",
       "    </tr>\n",
       "    <tr>\n",
       "      <th>4</th>\n",
       "      <td>0</td>\n",
       "      <td>13260.000000</td>\n",
       "      <td>53</td>\n",
       "      <td>1</td>\n",
       "      <td>1</td>\n",
       "      <td>F</td>\n",
       "      <td>пенсионер</td>\n",
       "      <td>0</td>\n",
       "      <td>158616</td>\n",
       "      <td>сыграть свадьбу</td>\n",
       "    </tr>\n",
       "    <tr>\n",
       "      <th>5</th>\n",
       "      <td>0</td>\n",
       "      <td>926.185831</td>\n",
       "      <td>27</td>\n",
       "      <td>0</td>\n",
       "      <td>1</td>\n",
       "      <td>M</td>\n",
       "      <td>компаньон</td>\n",
       "      <td>0</td>\n",
       "      <td>255763</td>\n",
       "      <td>покупка жилья</td>\n",
       "    </tr>\n",
       "    <tr>\n",
       "      <th>6</th>\n",
       "      <td>0</td>\n",
       "      <td>2879.202052</td>\n",
       "      <td>43</td>\n",
       "      <td>0</td>\n",
       "      <td>0</td>\n",
       "      <td>F</td>\n",
       "      <td>компаньон</td>\n",
       "      <td>0</td>\n",
       "      <td>240525</td>\n",
       "      <td>операции с жильем</td>\n",
       "    </tr>\n",
       "    <tr>\n",
       "      <th>7</th>\n",
       "      <td>0</td>\n",
       "      <td>152.779569</td>\n",
       "      <td>50</td>\n",
       "      <td>1</td>\n",
       "      <td>0</td>\n",
       "      <td>M</td>\n",
       "      <td>сотрудник</td>\n",
       "      <td>0</td>\n",
       "      <td>135823</td>\n",
       "      <td>образование</td>\n",
       "    </tr>\n",
       "    <tr>\n",
       "      <th>8</th>\n",
       "      <td>2</td>\n",
       "      <td>6929.865299</td>\n",
       "      <td>35</td>\n",
       "      <td>0</td>\n",
       "      <td>1</td>\n",
       "      <td>F</td>\n",
       "      <td>сотрудник</td>\n",
       "      <td>0</td>\n",
       "      <td>95856</td>\n",
       "      <td>на проведение свадьбы</td>\n",
       "    </tr>\n",
       "    <tr>\n",
       "      <th>9</th>\n",
       "      <td>0</td>\n",
       "      <td>2188.756445</td>\n",
       "      <td>41</td>\n",
       "      <td>1</td>\n",
       "      <td>0</td>\n",
       "      <td>M</td>\n",
       "      <td>сотрудник</td>\n",
       "      <td>0</td>\n",
       "      <td>144425</td>\n",
       "      <td>покупка жилья для семьи</td>\n",
       "    </tr>\n",
       "  </tbody>\n",
       "</table>\n",
       "</div>"
      ],
      "text/plain": [
       "   children  days_employed  dob_years  education_id  family_status_id gender  \\\n",
       "0         1    8437.673028         42             0                 0      F   \n",
       "1         1    4024.803754         36             1                 0      F   \n",
       "2         0    5623.422610         33             1                 0      M   \n",
       "3         3    4124.747207         32             1                 0      M   \n",
       "4         0   13260.000000         53             1                 1      F   \n",
       "5         0     926.185831         27             0                 1      M   \n",
       "6         0    2879.202052         43             0                 0      F   \n",
       "7         0     152.779569         50             1                 0      M   \n",
       "8         2    6929.865299         35             0                 1      F   \n",
       "9         0    2188.756445         41             1                 0      M   \n",
       "\n",
       "  income_type  debt  total_income                     purpose  \n",
       "0   сотрудник     0        253875               покупка жилья  \n",
       "1   сотрудник     0        112080     приобретение автомобиля  \n",
       "2   сотрудник     0        145885               покупка жилья  \n",
       "3   сотрудник     0        267628  дополнительное образование  \n",
       "4   пенсионер     0        158616             сыграть свадьбу  \n",
       "5   компаньон     0        255763               покупка жилья  \n",
       "6   компаньон     0        240525           операции с жильем  \n",
       "7   сотрудник     0        135823                 образование  \n",
       "8   сотрудник     0         95856       на проведение свадьбы  \n",
       "9   сотрудник     0        144425     покупка жилья для семьи  "
      ]
     },
     "metadata": {},
     "output_type": "display_data"
    }
   ],
   "source": [
    "# удалены столбцы 'education' и 'family_status' \n",
    "client_stat_id=client_stat.drop(columns=['education','family_status'])\n",
    "# просмотр 10 строк нового датафрейма\n",
    "display(client_stat_id.head(10)) \n"
   ]
  },
  {
   "cell_type": "markdown",
   "id": "df14d45d",
   "metadata": {},
   "source": [
    "**Результат:** Для удобства обработки заменили текстовые колонки *education* и *family_status* на целочисленные идентификаторы в колонках *education_id* и *family_status_id* соответственно."
   ]
  },
  {
   "cell_type": "markdown",
   "id": "428a29cc",
   "metadata": {},
   "source": [
    "### Шаг 2.6. Категоризация дохода."
   ]
  },
  {
   "cell_type": "code",
   "execution_count": 30,
   "id": "d2482e1d",
   "metadata": {},
   "outputs": [
    {
     "name": "stdout",
     "output_type": "stream",
     "text": [
      "E\n",
      "B\n"
     ]
    }
   ],
   "source": [
    "# зададим функцию для содания подгрупп\n",
    "def total_income_category(total_income):\n",
    "    if total_income <= 30000:\n",
    "        return 'E'\n",
    "    if total_income <= 50000 and total_income >=30001:\n",
    "        return 'D'\n",
    "    if total_income <= 200000 and total_income >=50001:\n",
    "        return 'C'\n",
    "    if total_income <= 1000000 and total_income >=200001:\n",
    "        return 'B'\n",
    "    return 'A'\n",
    "# проверим работу функции для дохода 25000\n",
    "print(total_income_category(25000)) \n",
    "# проверим работу функции для дохода 235000\n",
    "print(total_income_category(235000)) "
   ]
  },
  {
   "cell_type": "markdown",
   "id": "c80b8a43",
   "metadata": {},
   "source": [
    "* **Функция для создания столбца *total_income_category* позволит классифицировать клиентов по размеру дохода.**"
   ]
  },
  {
   "cell_type": "code",
   "execution_count": 31,
   "id": "34cdf998",
   "metadata": {},
   "outputs": [
    {
     "data": {
      "text/html": [
       "<div>\n",
       "<style scoped>\n",
       "    .dataframe tbody tr th:only-of-type {\n",
       "        vertical-align: middle;\n",
       "    }\n",
       "\n",
       "    .dataframe tbody tr th {\n",
       "        vertical-align: top;\n",
       "    }\n",
       "\n",
       "    .dataframe thead th {\n",
       "        text-align: right;\n",
       "    }\n",
       "</style>\n",
       "<table border=\"1\" class=\"dataframe\">\n",
       "  <thead>\n",
       "    <tr style=\"text-align: right;\">\n",
       "      <th></th>\n",
       "      <th>children</th>\n",
       "      <th>days_employed</th>\n",
       "      <th>dob_years</th>\n",
       "      <th>education_id</th>\n",
       "      <th>family_status_id</th>\n",
       "      <th>gender</th>\n",
       "      <th>income_type</th>\n",
       "      <th>debt</th>\n",
       "      <th>total_income</th>\n",
       "      <th>purpose</th>\n",
       "      <th>total_income_category</th>\n",
       "    </tr>\n",
       "  </thead>\n",
       "  <tbody>\n",
       "    <tr>\n",
       "      <th>0</th>\n",
       "      <td>1</td>\n",
       "      <td>8437.673028</td>\n",
       "      <td>42</td>\n",
       "      <td>0</td>\n",
       "      <td>0</td>\n",
       "      <td>F</td>\n",
       "      <td>сотрудник</td>\n",
       "      <td>0</td>\n",
       "      <td>253875</td>\n",
       "      <td>покупка жилья</td>\n",
       "      <td>B</td>\n",
       "    </tr>\n",
       "    <tr>\n",
       "      <th>1</th>\n",
       "      <td>1</td>\n",
       "      <td>4024.803754</td>\n",
       "      <td>36</td>\n",
       "      <td>1</td>\n",
       "      <td>0</td>\n",
       "      <td>F</td>\n",
       "      <td>сотрудник</td>\n",
       "      <td>0</td>\n",
       "      <td>112080</td>\n",
       "      <td>приобретение автомобиля</td>\n",
       "      <td>C</td>\n",
       "    </tr>\n",
       "    <tr>\n",
       "      <th>2</th>\n",
       "      <td>0</td>\n",
       "      <td>5623.422610</td>\n",
       "      <td>33</td>\n",
       "      <td>1</td>\n",
       "      <td>0</td>\n",
       "      <td>M</td>\n",
       "      <td>сотрудник</td>\n",
       "      <td>0</td>\n",
       "      <td>145885</td>\n",
       "      <td>покупка жилья</td>\n",
       "      <td>C</td>\n",
       "    </tr>\n",
       "    <tr>\n",
       "      <th>3</th>\n",
       "      <td>3</td>\n",
       "      <td>4124.747207</td>\n",
       "      <td>32</td>\n",
       "      <td>1</td>\n",
       "      <td>0</td>\n",
       "      <td>M</td>\n",
       "      <td>сотрудник</td>\n",
       "      <td>0</td>\n",
       "      <td>267628</td>\n",
       "      <td>дополнительное образование</td>\n",
       "      <td>B</td>\n",
       "    </tr>\n",
       "    <tr>\n",
       "      <th>4</th>\n",
       "      <td>0</td>\n",
       "      <td>13260.000000</td>\n",
       "      <td>53</td>\n",
       "      <td>1</td>\n",
       "      <td>1</td>\n",
       "      <td>F</td>\n",
       "      <td>пенсионер</td>\n",
       "      <td>0</td>\n",
       "      <td>158616</td>\n",
       "      <td>сыграть свадьбу</td>\n",
       "      <td>C</td>\n",
       "    </tr>\n",
       "  </tbody>\n",
       "</table>\n",
       "</div>"
      ],
      "text/plain": [
       "   children  days_employed  dob_years  education_id  family_status_id gender  \\\n",
       "0         1    8437.673028         42             0                 0      F   \n",
       "1         1    4024.803754         36             1                 0      F   \n",
       "2         0    5623.422610         33             1                 0      M   \n",
       "3         3    4124.747207         32             1                 0      M   \n",
       "4         0   13260.000000         53             1                 1      F   \n",
       "\n",
       "  income_type  debt  total_income                     purpose  \\\n",
       "0   сотрудник     0        253875               покупка жилья   \n",
       "1   сотрудник     0        112080     приобретение автомобиля   \n",
       "2   сотрудник     0        145885               покупка жилья   \n",
       "3   сотрудник     0        267628  дополнительное образование   \n",
       "4   пенсионер     0        158616             сыграть свадьбу   \n",
       "\n",
       "  total_income_category  \n",
       "0                     B  \n",
       "1                     C  \n",
       "2                     C  \n",
       "3                     B  \n",
       "4                     C  "
      ]
     },
     "metadata": {},
     "output_type": "display_data"
    }
   ],
   "source": [
    "# создадим столбец с категориями дохода 'A','B','C','D','E'\n",
    "client_stat_id['total_income_category'] = client_stat_id['total_income'].apply(total_income_category)\n",
    "display(client_stat_id.head())"
   ]
  },
  {
   "cell_type": "code",
   "execution_count": 32,
   "id": "c2e0e6f6",
   "metadata": {},
   "outputs": [
    {
     "name": "stdout",
     "output_type": "stream",
     "text": [
      "C    16016\n",
      "B     5041\n",
      "D      350\n",
      "A       25\n",
      "E       22\n",
      "Name: total_income_category, dtype: int64\n"
     ]
    }
   ],
   "source": [
    "print(client_stat_id['total_income_category'].value_counts())"
   ]
  },
  {
   "cell_type": "markdown",
   "id": "78262ff9",
   "metadata": {},
   "source": [
    "***Вывод:*** большинство заемщиков имеют доход от 50001 до 200000 рублей, наименьшую долю составляют заёмщики с максимальным( более 1000000 руб.) и минимальным доходом (менее 30000 руб.)."
   ]
  },
  {
   "cell_type": "markdown",
   "id": "4b602d19",
   "metadata": {},
   "source": [
    "### Шаг 2.7. Категоризация целей кредита."
   ]
  },
  {
   "cell_type": "code",
   "execution_count": 33,
   "id": "89121320",
   "metadata": {},
   "outputs": [
    {
     "name": "stdout",
     "output_type": "stream",
     "text": [
      "свадьба                                   791\n",
      "на проведение свадьбы                     768\n",
      "сыграть свадьбу                           765\n",
      "операции с недвижимостью                  675\n",
      "покупка коммерческой недвижимости         661\n",
      "операции с жильем                         652\n",
      "покупка жилья для сдачи                   651\n",
      "операции с коммерческой недвижимостью     650\n",
      "жилье                                     646\n",
      "покупка жилья                             646\n",
      "покупка жилья для семьи                   638\n",
      "строительство собственной недвижимости    635\n",
      "недвижимость                              633\n",
      "операции со своей недвижимостью           627\n",
      "строительство жилой недвижимости          624\n",
      "покупка недвижимости                      621\n",
      "покупка своего жилья                      620\n",
      "строительство недвижимости                619\n",
      "ремонт жилью                              607\n",
      "покупка жилой недвижимости                606\n",
      "на покупку своего автомобиля              505\n",
      "заняться высшим образованием              496\n",
      "автомобиль                                494\n",
      "сделка с подержанным автомобилем          486\n",
      "автомобили                                478\n",
      "на покупку подержанного автомобиля        478\n",
      "свой автомобиль                           478\n",
      "на покупку автомобиля                     471\n",
      "приобретение автомобиля                   461\n",
      "дополнительное образование                460\n",
      "сделка с автомобилем                      455\n",
      "высшее образование                        452\n",
      "образование                               447\n",
      "получение дополнительного образования     446\n",
      "получение образования                     442\n",
      "профильное образование                    436\n",
      "получение высшего образования             426\n",
      "заняться образованием                     408\n",
      "Name: purpose, dtype: int64\n"
     ]
    }
   ],
   "source": [
    "print(client_stat['purpose'].value_counts()) # выведем на экран все значения  колонки 'purpose'"
   ]
  },
  {
   "cell_type": "markdown",
   "id": "cdf40d90",
   "metadata": {},
   "source": [
    "* **Значения колонки 'purpose' имеют множество неявных дубликатов. Чтобы объединить сходные значения, воспользуемся специальной функцией.**"
   ]
  },
  {
   "cell_type": "code",
   "execution_count": 34,
   "id": "5878aecc",
   "metadata": {},
   "outputs": [
    {
     "name": "stdout",
     "output_type": "stream",
     "text": [
      "                      purpose\n",
      "0               покупка жилья\n",
      "1     приобретение автомобиля\n",
      "2               покупка жилья\n",
      "3  дополнительное образование\n",
      "4             сыграть свадьбу\n",
      "5               покупка жилья\n",
      "6           операции с жильем\n",
      "7                 образование\n",
      "8       на проведение свадьбы\n",
      "9     покупка жилья для семьи\n"
     ]
    }
   ],
   "source": [
    "#сохраним колонку 'purpose' в отдельный Series\n",
    "client_stat_purpose = client_stat[[ 'purpose']] \n",
    "# выведем на печать первые 10 значений полученной таблицы\n",
    "print(client_stat_purpose.head(10))  \n"
   ]
  },
  {
   "cell_type": "markdown",
   "id": "32c0e8c4",
   "metadata": {},
   "source": [
    "Функция распределит  все значения колонки 'purpose' по основным группам: \n",
    "*  **'получение образования'**\n",
    "*  **'операции с автомобилем '**\n",
    "*  **'проведение свадьбы'**\n",
    "*  **'операции с недвижимостью'**\n"
   ]
  },
  {
   "cell_type": "code",
   "execution_count": 35,
   "id": "db554c0a",
   "metadata": {},
   "outputs": [
    {
     "name": "stdout",
     "output_type": "stream",
     "text": [
      "проведение свадьбы\n",
      "получение образования\n",
      "операции с недвижимостью\n",
      "операции с автомобилем \n"
     ]
    }
   ],
   "source": [
    "#функция для группировки по ключевым словам\n",
    "def purpose_category (purpose): \n",
    "            \n",
    "    if 'образов'in purpose:\n",
    "        return 'получение образования'\n",
    "    \n",
    "    if 'автомоб' in purpose :\n",
    "        return 'операции с автомобилем '\n",
    "    \n",
    "    if 'свадьб' in purpose :\n",
    "        return 'проведение свадьбы'\n",
    "       \n",
    "    return 'операции с недвижимостью'\n",
    "# проверка работы функции\n",
    "print(purpose_category('свадьб')) \n",
    "# проверка работы функции\n",
    "print(purpose_category('дополнительное образование')) \n",
    "# проверка работы функции\n",
    "print(purpose_category('покупка жилья для семьи')) \n",
    "# проверка работы функции\n",
    "print(purpose_category('свой автомобиль')) "
   ]
  },
  {
   "cell_type": "code",
   "execution_count": 36,
   "id": "452bef80",
   "metadata": {},
   "outputs": [
    {
     "name": "stderr",
     "output_type": "stream",
     "text": [
      "/tmp/ipykernel_68/1964235254.py:1: SettingWithCopyWarning: \n",
      "A value is trying to be set on a copy of a slice from a DataFrame.\n",
      "Try using .loc[row_indexer,col_indexer] = value instead\n",
      "\n",
      "See the caveats in the documentation: https://pandas.pydata.org/pandas-docs/stable/user_guide/indexing.html#returning-a-view-versus-a-copy\n",
      "  client_stat_purpose['purpose_category'] = client_stat_purpose['purpose'].apply(purpose_category)\n"
     ]
    },
    {
     "data": {
      "text/html": [
       "<div>\n",
       "<style scoped>\n",
       "    .dataframe tbody tr th:only-of-type {\n",
       "        vertical-align: middle;\n",
       "    }\n",
       "\n",
       "    .dataframe tbody tr th {\n",
       "        vertical-align: top;\n",
       "    }\n",
       "\n",
       "    .dataframe thead th {\n",
       "        text-align: right;\n",
       "    }\n",
       "</style>\n",
       "<table border=\"1\" class=\"dataframe\">\n",
       "  <thead>\n",
       "    <tr style=\"text-align: right;\">\n",
       "      <th></th>\n",
       "      <th>purpose</th>\n",
       "      <th>purpose_category</th>\n",
       "    </tr>\n",
       "  </thead>\n",
       "  <tbody>\n",
       "    <tr>\n",
       "      <th>0</th>\n",
       "      <td>покупка жилья</td>\n",
       "      <td>операции с недвижимостью</td>\n",
       "    </tr>\n",
       "    <tr>\n",
       "      <th>1</th>\n",
       "      <td>приобретение автомобиля</td>\n",
       "      <td>операции с автомобилем</td>\n",
       "    </tr>\n",
       "    <tr>\n",
       "      <th>2</th>\n",
       "      <td>покупка жилья</td>\n",
       "      <td>операции с недвижимостью</td>\n",
       "    </tr>\n",
       "    <tr>\n",
       "      <th>3</th>\n",
       "      <td>дополнительное образование</td>\n",
       "      <td>получение образования</td>\n",
       "    </tr>\n",
       "    <tr>\n",
       "      <th>4</th>\n",
       "      <td>сыграть свадьбу</td>\n",
       "      <td>проведение свадьбы</td>\n",
       "    </tr>\n",
       "    <tr>\n",
       "      <th>5</th>\n",
       "      <td>покупка жилья</td>\n",
       "      <td>операции с недвижимостью</td>\n",
       "    </tr>\n",
       "    <tr>\n",
       "      <th>6</th>\n",
       "      <td>операции с жильем</td>\n",
       "      <td>операции с недвижимостью</td>\n",
       "    </tr>\n",
       "    <tr>\n",
       "      <th>7</th>\n",
       "      <td>образование</td>\n",
       "      <td>получение образования</td>\n",
       "    </tr>\n",
       "    <tr>\n",
       "      <th>8</th>\n",
       "      <td>на проведение свадьбы</td>\n",
       "      <td>проведение свадьбы</td>\n",
       "    </tr>\n",
       "    <tr>\n",
       "      <th>9</th>\n",
       "      <td>покупка жилья для семьи</td>\n",
       "      <td>операции с недвижимостью</td>\n",
       "    </tr>\n",
       "  </tbody>\n",
       "</table>\n",
       "</div>"
      ],
      "text/plain": [
       "                      purpose          purpose_category\n",
       "0               покупка жилья  операции с недвижимостью\n",
       "1     приобретение автомобиля   операции с автомобилем \n",
       "2               покупка жилья  операции с недвижимостью\n",
       "3  дополнительное образование     получение образования\n",
       "4             сыграть свадьбу        проведение свадьбы\n",
       "5               покупка жилья  операции с недвижимостью\n",
       "6           операции с жильем  операции с недвижимостью\n",
       "7                 образование     получение образования\n",
       "8       на проведение свадьбы        проведение свадьбы\n",
       "9     покупка жилья для семьи  операции с недвижимостью"
      ]
     },
     "metadata": {},
     "output_type": "display_data"
    }
   ],
   "source": [
    "#добавим полученный столбец к таблице *client_stat_purpose* методом *apply* \n",
    "client_stat_purpose['purpose_category'] = client_stat_purpose['purpose'].apply(purpose_category)\n",
    "\n",
    "#выведем на экран первые 10 строк полученной таблицы\n",
    "display(client_stat_purpose.head(10)) \n"
   ]
  },
  {
   "cell_type": "markdown",
   "id": "fb437ead",
   "metadata": {},
   "source": [
    "**Результат:** Категории целевого назначения *'purpose_category'*соответствуют исходным данным колонки *'purpose'*. Теперь можно заменить в исходной таблице значения *'purpose'* на значения *'purpose_category'*. Это должно упростить дальнейший анализ."
   ]
  },
  {
   "cell_type": "code",
   "execution_count": 37,
   "id": "c0dfea93",
   "metadata": {},
   "outputs": [
    {
     "data": {
      "text/plain": [
       "purpose\n",
       "операции с автомобилем      403\n",
       "операции с недвижимостью    782\n",
       "получение образования       370\n",
       "проведение свадьбы          186\n",
       "Name: debt, dtype: int64"
      ]
     },
     "execution_count": 37,
     "metadata": {},
     "output_type": "execute_result"
    }
   ],
   "source": [
    "#заменим назначение кредита в столбце 'purpose' на значения после группировки по категориям 'purpose_category' \n",
    "client_stat['purpose']=client_stat_purpose['purpose_category']\n",
    "client_stat_id['purpose']=client_stat_purpose['purpose_category']\n",
    "#сгруппируем полученную таблицу по столбцу и запросим количество кредитных задолженностей\n",
    "client_stat.groupby('purpose')['debt'].sum()     "
   ]
  },
  {
   "cell_type": "code",
   "execution_count": 38,
   "id": "770134f2",
   "metadata": {},
   "outputs": [
    {
     "data": {
      "text/html": [
       "<div>\n",
       "<style scoped>\n",
       "    .dataframe tbody tr th:only-of-type {\n",
       "        vertical-align: middle;\n",
       "    }\n",
       "\n",
       "    .dataframe tbody tr th {\n",
       "        vertical-align: top;\n",
       "    }\n",
       "\n",
       "    .dataframe thead th {\n",
       "        text-align: right;\n",
       "    }\n",
       "</style>\n",
       "<table border=\"1\" class=\"dataframe\">\n",
       "  <thead>\n",
       "    <tr style=\"text-align: right;\">\n",
       "      <th></th>\n",
       "      <th>count</th>\n",
       "      <th>sum</th>\n",
       "      <th>mean</th>\n",
       "    </tr>\n",
       "    <tr>\n",
       "      <th>purpose</th>\n",
       "      <th></th>\n",
       "      <th></th>\n",
       "      <th></th>\n",
       "    </tr>\n",
       "  </thead>\n",
       "  <tbody>\n",
       "    <tr>\n",
       "      <th>операции с автомобилем</th>\n",
       "      <td>4306</td>\n",
       "      <td>403</td>\n",
       "      <td>0.093590</td>\n",
       "    </tr>\n",
       "    <tr>\n",
       "      <th>операции с недвижимостью</th>\n",
       "      <td>10811</td>\n",
       "      <td>782</td>\n",
       "      <td>0.072334</td>\n",
       "    </tr>\n",
       "    <tr>\n",
       "      <th>получение образования</th>\n",
       "      <td>4013</td>\n",
       "      <td>370</td>\n",
       "      <td>0.092200</td>\n",
       "    </tr>\n",
       "    <tr>\n",
       "      <th>проведение свадьбы</th>\n",
       "      <td>2324</td>\n",
       "      <td>186</td>\n",
       "      <td>0.080034</td>\n",
       "    </tr>\n",
       "  </tbody>\n",
       "</table>\n",
       "</div>"
      ],
      "text/plain": [
       "                          count  sum      mean\n",
       "purpose                                       \n",
       "операции с автомобилем     4306  403  0.093590\n",
       "операции с недвижимостью  10811  782  0.072334\n",
       "получение образования      4013  370  0.092200\n",
       "проведение свадьбы         2324  186  0.080034"
      ]
     },
     "execution_count": 38,
     "metadata": {},
     "output_type": "execute_result"
    }
   ],
   "source": [
    "# проанализируем средний показатель задолженности в зависимости от цели кредита\n",
    "client_stat_id.groupby('purpose').debt.agg(['count','sum','mean'])"
   ]
  },
  {
   "cell_type": "markdown",
   "id": "e8a87419",
   "metadata": {},
   "source": [
    "<div class=\"alert alert-info\">\n",
    "    \n",
    "    \n",
    "Анализируя показатель средний задолженности в зависимости от цели кредита установлено, что наиболее рискованными являются кредиты на операциями с автомобилем (0.093590) и на получение образования (0.092200). Более надёжные кредиты выдаются на операции с недвижимостью (0.072334).\n",
    " </div>   "
   ]
  },
  {
   "cell_type": "code",
   "execution_count": 39,
   "id": "2b4e6045",
   "metadata": {
    "scrolled": true
   },
   "outputs": [
    {
     "name": "stdout",
     "output_type": "stream",
     "text": [
      "0    19713\n",
      "1     1741\n",
      "Name: debt, dtype: int64\n"
     ]
    }
   ],
   "source": [
    "#запросим количество кредитов  с нарушениями (индекс 1)\n",
    "print(client_stat_id['debt'].value_counts()) \n"
   ]
  },
  {
   "cell_type": "code",
   "execution_count": 40,
   "id": "7861391e",
   "metadata": {
    "scrolled": true
   },
   "outputs": [
    {
     "name": "stdout",
     "output_type": "stream",
     "text": [
      "children\n",
      "0    1063\n",
      "1     445\n",
      "2     202\n",
      "3      27\n",
      "4       4\n",
      "5       0\n",
      "Name: debt, dtype: int64\n"
     ]
    }
   ],
   "source": [
    " #выведем на экран количество кредитных задолженностей сгруппированные по колонке'children'\n",
    "print(client_stat_id.groupby('children')['debt'].sum()) \n",
    "\n"
   ]
  },
  {
   "cell_type": "markdown",
   "id": "13d524a7",
   "metadata": {},
   "source": [
    "<div class=\"alert alert-info\">\n",
    "    \n",
    "Доля клиентов с задолженностью:1741/(19713+1741)%=8,12%.\n",
    "   * Из них не имеют детей: 1063/(19713+1741)%=4,95%\n",
    "   *  имеют одного ребёнка: 445/(19713+1741)%=2,07%\n",
    "   *  имеют двоих детей: 202/(19713+1741)%=0,94%\n",
    "   *  имеют троих детей: 27/(19713+1741)%=0,13%\n",
    "   *  имеют четверых детей: 4/(19713+1741)%=0,02%\n",
    "   *  имеют пятерых детей: 0%\n",
    "</div>\n"
   ]
  },
  {
   "cell_type": "code",
   "execution_count": 41,
   "id": "95257a69",
   "metadata": {},
   "outputs": [
    {
     "data": {
      "text/html": [
       "<div>\n",
       "<style scoped>\n",
       "    .dataframe tbody tr th:only-of-type {\n",
       "        vertical-align: middle;\n",
       "    }\n",
       "\n",
       "    .dataframe tbody tr th {\n",
       "        vertical-align: top;\n",
       "    }\n",
       "\n",
       "    .dataframe thead th {\n",
       "        text-align: right;\n",
       "    }\n",
       "</style>\n",
       "<table border=\"1\" class=\"dataframe\">\n",
       "  <thead>\n",
       "    <tr style=\"text-align: right;\">\n",
       "      <th></th>\n",
       "      <th>count</th>\n",
       "      <th>sum</th>\n",
       "      <th>mean</th>\n",
       "    </tr>\n",
       "    <tr>\n",
       "      <th>children</th>\n",
       "      <th></th>\n",
       "      <th></th>\n",
       "      <th></th>\n",
       "    </tr>\n",
       "  </thead>\n",
       "  <tbody>\n",
       "    <tr>\n",
       "      <th>0</th>\n",
       "      <td>14091</td>\n",
       "      <td>1063</td>\n",
       "      <td>0.075438</td>\n",
       "    </tr>\n",
       "    <tr>\n",
       "      <th>1</th>\n",
       "      <td>4855</td>\n",
       "      <td>445</td>\n",
       "      <td>0.091658</td>\n",
       "    </tr>\n",
       "    <tr>\n",
       "      <th>2</th>\n",
       "      <td>2128</td>\n",
       "      <td>202</td>\n",
       "      <td>0.094925</td>\n",
       "    </tr>\n",
       "    <tr>\n",
       "      <th>3</th>\n",
       "      <td>330</td>\n",
       "      <td>27</td>\n",
       "      <td>0.081818</td>\n",
       "    </tr>\n",
       "    <tr>\n",
       "      <th>4</th>\n",
       "      <td>41</td>\n",
       "      <td>4</td>\n",
       "      <td>0.097561</td>\n",
       "    </tr>\n",
       "    <tr>\n",
       "      <th>5</th>\n",
       "      <td>9</td>\n",
       "      <td>0</td>\n",
       "      <td>0.000000</td>\n",
       "    </tr>\n",
       "  </tbody>\n",
       "</table>\n",
       "</div>"
      ],
      "text/plain": [
       "          count   sum      mean\n",
       "children                       \n",
       "0         14091  1063  0.075438\n",
       "1          4855   445  0.091658\n",
       "2          2128   202  0.094925\n",
       "3           330    27  0.081818\n",
       "4            41     4  0.097561\n",
       "5             9     0  0.000000"
      ]
     },
     "execution_count": 41,
     "metadata": {},
     "output_type": "execute_result"
    }
   ],
   "source": [
    "# проанализируем средний показатель задолженности в зависимости от количества детей\n",
    "client_stat_id.groupby('children').debt.agg(['count','sum','mean'])"
   ]
  },
  {
   "cell_type": "markdown",
   "id": "f474475e",
   "metadata": {},
   "source": [
    "<div class=\"alert alert-info\">\n",
    "    \n",
    "* Средний показатель задолженности в группе без детей(0.075438) ниже чем в группах с детьми, максимальный показатель- в группе с 4 детьми (0.097561), но она мало показательна, т.к. количество таких семей, как и семей с 3 детьми среди заемщиков невелико. Если сравнивать более многочисленные группы с одним и двумя детьми, то динамика показывает рост показателя с ростом количества детей: с 0.091658 в семьях с одним ребенком до 0.094925 в семьях с двумя детьми. Поэтому можно сделать вывод, что количество детей в семьях заемщиков увеличивает возможность возникновения кредитной задолженности.\n",
    "    </div>"
   ]
  },
  {
   "cell_type": "code",
   "execution_count": 42,
   "id": "6ed88bb8",
   "metadata": {},
   "outputs": [
    {
     "name": "stdout",
     "output_type": "stream",
     "text": [
      "Не имели задолженность по возврату кредита и имеют детей: 6685\n",
      "Отсутствует задолженность по возврату кредита и количество детей: children\n",
      "0    13028\n",
      "1     4410\n",
      "2     1926\n",
      "3      303\n",
      "4       37\n",
      "5        9\n",
      "Name: debt, dtype: int64\n"
     ]
    }
   ],
   "source": [
    "#сохраним в отдельную переменную данные по кредитам без задолженностей\n",
    "client_stat_id_debit_0 = client_stat_id[client_stat_id['debt']==0] \n",
    "\n",
    "#выведем на экран количество кредитов семьям с детьми\n",
    "print('Не имели задолженность по возврату кредита и имеют детей:',client_stat_id_debit_0[client_stat_id_debit_0['children']>0]['debt'].count()) \n",
    "\n",
    "# сгруппируем полученные данные по столбцу 'children' выведем количество кредитной задолженности\n",
    "client_children_debit_0 = client_stat_id_debit_0.groupby('children')['debt'].count()\n",
    "\n",
    "print('Отсутствует задолженность по возврату кредита и количество детей:',client_children_debit_0)\n"
   ]
  },
  {
   "cell_type": "markdown",
   "id": "50be08f9",
   "metadata": {},
   "source": [
    "<div class=\"alert alert-info\">\n",
    "    \n",
    "Доля клиентов без задолженности:19713/(19713+1741)%=91,88%.Из них:\n",
    "    \n",
    "    *  не имеют дететей: 13028/(19713+1741)%=60,73%\n",
    "    *  имеют одного ребёнка: 4410/(19713+1741)%=20,56%\n",
    "    *  имеют двоих детей: 1926/(19713+1741)%=8,98%\n",
    "    *  имеют троих детей: 303/(19713+1741)%=1,41%\n",
    "    *  имеют четверых детей: 37/(19713+1741)%=0,17%\n",
    "    *  имеют пятеро детей:9/(19713+1741)%=0,04%\n",
    "</div>\n"
   ]
  },
  {
   "cell_type": "code",
   "execution_count": 43,
   "id": "3565571b",
   "metadata": {},
   "outputs": [
    {
     "name": "stdout",
     "output_type": "stream",
     "text": [
      "Имели задолженность по возврату кредита и имеют детей: 678\n",
      "Задолженность по возврату кредита и количество детей: children\n",
      "0    1063\n",
      "1     445\n",
      "2     202\n",
      "3      27\n",
      "4       4\n",
      "Name: debt, dtype: int64\n"
     ]
    }
   ],
   "source": [
    "# оставим для анализа только данные по  кредитной задолженности (индекс 1)\n",
    "client_stat_id_debit_1 = client_stat_id[client_stat_id['debt']==1]\n",
    "\n",
    "#выведем на экран количество кредитных нарушителей с детьми\n",
    "print('Имели задолженность по возврату кредита и имеют детей:',client_stat_id_debit_1[client_stat_id_debit_1['children']>0]['debt'].sum()) \n",
    "\n",
    "# сгруппируем полученные данные по столбцу 'children' \n",
    "client_children_debit_1 = client_stat_id_debit_1.groupby('children')['debt'].count()\n",
    "\n",
    "# выведем количество кредитной задолженности\n",
    "print('Задолженность по возврату кредита и количество детей:',client_children_debit_1)\n"
   ]
  },
  {
   "cell_type": "markdown",
   "id": "b34188d4",
   "metadata": {},
   "source": [
    "<div class=\"alert alert-info\">\n",
    "    \n",
    "Доля клиентов с детьми и задолженностью: 678/(19713+1741)%=3,16%. \n",
    "    \n",
    "    Из них\n",
    "    *  имеют одного ребёнка: 445/(19713+1741)%=2,07%\n",
    "    *  имеют двоих детей: 202/(19713+1741)%=0,94%\n",
    "    *  имеют троих детей: 27/(19713+1741)%=0,13%\n",
    "    *  имеют четверых детей: 4/(19713+1741)%=0,02%\n",
    "</div>\n"
   ]
  },
  {
   "cell_type": "markdown",
   "id": "d6985772",
   "metadata": {},
   "source": [
    "**Вывод:** Наличие детей у заёмщиков влияет на факт погашения кредита в срок положительно- менее 39% (678 из 1741 )случаев возникает в семьях с детьми. Cемьи с 5 детьми не имели задолженности по кредитам совсем.  Доля кредитов с нарушениями у клиентов с детьми-3,16%(678/(19713+1741)%), у клиентов без детей-4,95%(1063/(19713+1741)%). Разница 1,79 % не значительна.  Внутри группы с нарушениями у клиентов с детьми процент нарушений в зависимости от количетсва детей колеблется тоже незначительно (в пределах 2%- от 0,02 до 2,07)."
   ]
  },
  {
   "cell_type": "code",
   "execution_count": 44,
   "id": "e4d1f9a3",
   "metadata": {},
   "outputs": [
    {
     "data": {
      "text/plain": [
       "family_status_id\n",
       "0    931\n",
       "1    388\n",
       "2     63\n",
       "3     85\n",
       "4    274\n",
       "Name: debt, dtype: int64"
      ]
     },
     "execution_count": 44,
     "metadata": {},
     "output_type": "execute_result"
    }
   ],
   "source": [
    "# сгруппируем таблицу по колонке 'family_status_id'  и значениям  столбца 'debt'\n",
    "client_stat_id_debit_1.groupby('family_status_id')['debt'].sum()"
   ]
  },
  {
   "cell_type": "code",
   "execution_count": 45,
   "id": "be3fe7d0",
   "metadata": {},
   "outputs": [
    {
     "data": {
      "text/html": [
       "<div>\n",
       "<style scoped>\n",
       "    .dataframe tbody tr th:only-of-type {\n",
       "        vertical-align: middle;\n",
       "    }\n",
       "\n",
       "    .dataframe tbody tr th {\n",
       "        vertical-align: top;\n",
       "    }\n",
       "\n",
       "    .dataframe thead th {\n",
       "        text-align: right;\n",
       "    }\n",
       "</style>\n",
       "<table border=\"1\" class=\"dataframe\">\n",
       "  <thead>\n",
       "    <tr style=\"text-align: right;\">\n",
       "      <th></th>\n",
       "      <th>count</th>\n",
       "      <th>sum</th>\n",
       "      <th>mean</th>\n",
       "    </tr>\n",
       "    <tr>\n",
       "      <th>family_status_id</th>\n",
       "      <th></th>\n",
       "      <th></th>\n",
       "      <th></th>\n",
       "    </tr>\n",
       "  </thead>\n",
       "  <tbody>\n",
       "    <tr>\n",
       "      <th>0</th>\n",
       "      <td>12339</td>\n",
       "      <td>931</td>\n",
       "      <td>0.075452</td>\n",
       "    </tr>\n",
       "    <tr>\n",
       "      <th>1</th>\n",
       "      <td>4151</td>\n",
       "      <td>388</td>\n",
       "      <td>0.093471</td>\n",
       "    </tr>\n",
       "    <tr>\n",
       "      <th>2</th>\n",
       "      <td>959</td>\n",
       "      <td>63</td>\n",
       "      <td>0.065693</td>\n",
       "    </tr>\n",
       "    <tr>\n",
       "      <th>3</th>\n",
       "      <td>1195</td>\n",
       "      <td>85</td>\n",
       "      <td>0.071130</td>\n",
       "    </tr>\n",
       "    <tr>\n",
       "      <th>4</th>\n",
       "      <td>2810</td>\n",
       "      <td>274</td>\n",
       "      <td>0.097509</td>\n",
       "    </tr>\n",
       "  </tbody>\n",
       "</table>\n",
       "</div>"
      ],
      "text/plain": [
       "                  count  sum      mean\n",
       "family_status_id                      \n",
       "0                 12339  931  0.075452\n",
       "1                  4151  388  0.093471\n",
       "2                   959   63  0.065693\n",
       "3                  1195   85  0.071130\n",
       "4                  2810  274  0.097509"
      ]
     },
     "execution_count": 45,
     "metadata": {},
     "output_type": "execute_result"
    }
   ],
   "source": [
    "# проанализируем средний показатель задолженности в зависимости от семейного положения\n",
    "client_stat_id.groupby('family_status_id').debt.agg(['count','sum','mean'])"
   ]
  },
  {
   "cell_type": "markdown",
   "id": "60afb97f",
   "metadata": {},
   "source": [
    "**Вывод:** \n",
    "<div class=\"alert alert-info\">\n",
    "\n",
    "\n",
    "Анализ данных по кредитной задолженнсти в зависимости от семейного положения показал :\n",
    "\n",
    "* женатые/замужние клиенты, а также разведённые и овдовевшие, реже нарушают сроки  кредитных договоров, чем другие группы (средний показатель по группе от 0.065693 до 0.075452)\n",
    "* наиболее высокий показатель в группе одиноких клиентов и клиентов в гражданском браке (от 0.093471 до 0.097509)\n",
    "    </div>"
   ]
  },
  {
   "cell_type": "code",
   "execution_count": 46,
   "id": "b0d9a6f2",
   "metadata": {},
   "outputs": [
    {
     "data": {
      "text/plain": [
       "total_income_category\n",
       "A       2\n",
       "B     356\n",
       "C    1360\n",
       "D      21\n",
       "E       2\n",
       "Name: debt, dtype: int64"
      ]
     },
     "execution_count": 46,
     "metadata": {},
     "output_type": "execute_result"
    }
   ],
   "source": [
    "# сгруппируем таблицу по колонке 'total_income_category'  и значениям  столбца 'debt'\n",
    "client_stat_id_debit_1.groupby('total_income_category')['debt'].sum()\n"
   ]
  },
  {
   "cell_type": "code",
   "execution_count": 47,
   "id": "51f84be4",
   "metadata": {},
   "outputs": [
    {
     "data": {
      "text/html": [
       "<div>\n",
       "<style scoped>\n",
       "    .dataframe tbody tr th:only-of-type {\n",
       "        vertical-align: middle;\n",
       "    }\n",
       "\n",
       "    .dataframe tbody tr th {\n",
       "        vertical-align: top;\n",
       "    }\n",
       "\n",
       "    .dataframe thead th {\n",
       "        text-align: right;\n",
       "    }\n",
       "</style>\n",
       "<table border=\"1\" class=\"dataframe\">\n",
       "  <thead>\n",
       "    <tr style=\"text-align: right;\">\n",
       "      <th></th>\n",
       "      <th>count</th>\n",
       "      <th>sum</th>\n",
       "      <th>mean</th>\n",
       "    </tr>\n",
       "    <tr>\n",
       "      <th>total_income_category</th>\n",
       "      <th></th>\n",
       "      <th></th>\n",
       "      <th></th>\n",
       "    </tr>\n",
       "  </thead>\n",
       "  <tbody>\n",
       "    <tr>\n",
       "      <th>A</th>\n",
       "      <td>25</td>\n",
       "      <td>2</td>\n",
       "      <td>0.080000</td>\n",
       "    </tr>\n",
       "    <tr>\n",
       "      <th>B</th>\n",
       "      <td>5041</td>\n",
       "      <td>356</td>\n",
       "      <td>0.070621</td>\n",
       "    </tr>\n",
       "    <tr>\n",
       "      <th>C</th>\n",
       "      <td>16016</td>\n",
       "      <td>1360</td>\n",
       "      <td>0.084915</td>\n",
       "    </tr>\n",
       "    <tr>\n",
       "      <th>D</th>\n",
       "      <td>350</td>\n",
       "      <td>21</td>\n",
       "      <td>0.060000</td>\n",
       "    </tr>\n",
       "    <tr>\n",
       "      <th>E</th>\n",
       "      <td>22</td>\n",
       "      <td>2</td>\n",
       "      <td>0.090909</td>\n",
       "    </tr>\n",
       "  </tbody>\n",
       "</table>\n",
       "</div>"
      ],
      "text/plain": [
       "                       count   sum      mean\n",
       "total_income_category                       \n",
       "A                         25     2  0.080000\n",
       "B                       5041   356  0.070621\n",
       "C                      16016  1360  0.084915\n",
       "D                        350    21  0.060000\n",
       "E                         22     2  0.090909"
      ]
     },
     "execution_count": 47,
     "metadata": {},
     "output_type": "execute_result"
    }
   ],
   "source": [
    "# проанализируем средний показатель задолженности в зависимости от уровня дохода\n",
    "client_stat_id.groupby('total_income_category').debt.agg(['count','sum','mean'])"
   ]
  },
  {
   "cell_type": "markdown",
   "id": "24a1a387",
   "metadata": {},
   "source": [
    "<div class=\"alert alert-info\">\n",
    "\n",
    "    \n",
    "**Вывод:** \n",
    "\n",
    "Наибольшее количество нарушений по возвратам кредита (0.084915) у клиентов с уровнем   дохода  от 50000 руб. до 200000 руб. Еще выше показатель 0.090909 в группе с доходом менее 30000 руб., но она малочислена и поэтому для анализа не подходит, как и группа с доходом более 2000000 руб. с показателем 0.080000 .\n",
    "Наименьший показатель 0.060000 в группе  клиентов с доходом от 30000 руб. до 50000 руб.\n",
    "    </div>"
   ]
  },
  {
   "cell_type": "markdown",
   "id": "5e769a77",
   "metadata": {},
   "source": [
    "# Ответы на вопросы."
   ]
  },
  {
   "cell_type": "markdown",
   "id": "3c88746f",
   "metadata": {},
   "source": [
    "## Вопрос 1: Влияет ли семейное положение и количество детей на факт погашения кредита в срок?\n"
   ]
  },
  {
   "cell_type": "markdown",
   "id": "2e64a4ac",
   "metadata": {},
   "source": [
    "### **Ответ 1.  В результате анализа установлено, что :**\n",
    "<div class=\"alert alert-info\">\n",
    "   \n",
    "    \n",
    "* Средний показатель задолженности в группе без детей(0.075438) ниже чем в группах с детьми, максимальный показатель- в группе с 4 детьми (0.097561), но она мало показательна, т.к. количество таких семей, как и семей с 3 детьми среди заемщиков невелико. Если сравнивать более многочисленные группы с одним и двумя детьми, то динамика показывает рост показателя с ростом количества детей: с 0.091658 в семьях с одним ребенком до 0.094925 в семьях с двумя детьми. Поэтому можно сделать вывод, что количество детей в семьях заемщиков может увеличивает возможность возникновения кредитной задолженности.\n",
    "    \n",
    "* Анализ данных по кредитной задолженнсти в зависимости от семейного положения показал :\n",
    "\n",
    "* женатые/замужние клиенты, а также разведённые и овдовевшие, реже нарушают сроки  кредитных договоров, чем другие группы (средний показатель по группе от 0.065693 до 0.075452)\n",
    "* наиболее высокий показатель в группе одиноких клиентов и клиентов в гражданском браке (от 0.093471 до 0.097509)\n",
    "    </div>"
   ]
  },
  {
   "cell_type": "markdown",
   "id": "6c8d5d2c",
   "metadata": {},
   "source": [
    "##  Вопрос 2: Влияет ли уровень дохода и цель кредита на погашения кредита в срок?¶"
   ]
  },
  {
   "cell_type": "markdown",
   "id": "d210d51a",
   "metadata": {},
   "source": [
    "###  **Ответ 2. В результате анализа установлено, что :**\n",
    "<div class=\"alert alert-info\">\n",
    "    \n",
    "\n",
    "* Наибольшее количество нарушений по возвратам кредита (0.084915) у клиентов с уровнем дохода от 50000 руб. до 200000 руб. Еще выше показатель 0.090909 в группе с доходом менее 30000 руб., но она малочислена и поэтому для анализа не подходит, как и группа с доходом более 2000000 руб. с показателем 0.080000 . Наименьший показатель 0.060000 в группе клиентов с доходом от 30000 руб. до 50000 руб.\n",
    "    \n",
    "* Цель кредита влияет на факт погашения кредита в срок.\n",
    "Анализируя показатель средний задолженности в зависимости от цели кредита установлено, что наиболее рискованными являются кредиты на операциями с автомобилем (0.093590) и на получение образования (0.092200). Более надёжные кредиты выдаются на операции с недвижимостью (0.072334).\n",
    "    </div>"
   ]
  },
  {
   "cell_type": "markdown",
   "id": "dc9a3651",
   "metadata": {},
   "source": [
    "# Общий вывод:"
   ]
  },
  {
   "cell_type": "markdown",
   "id": "c24c87cb",
   "metadata": {},
   "source": [
    "<div class=\"alert alert-info\">\n",
    "    \n",
    "    \n",
    "Запрос банка состоял в следующем:***влияет ли семейное положение и количество детей на факт погашения кредита в срок.***\n",
    "В результате анализа представленных банком статистических данных установлено:\n",
    "    \n",
    "* семейное положение клиентов влияет на факт погашения кредита в срок: одинокие клиенты и находящиеся в гражданском браке чаще нарушают сроки возврата кредитов, чем другие группы клиентов (на 3%)\n",
    "* семьи с детьми нарушают сроки возвратов немного чаще, чем остальные группы клиентов (на 2%);\n",
    "* количество детей влияет на факт возврата кредитов в срок, но не существенно (0,3%);\n",
    "* наиболшее количество кредитных должников в группе с кредитами на операции с автомобилем (на 3%).\n",
    "    </div>"
   ]
  }
 ],
 "metadata": {
  "ExecuteTimeLog": [
   {
    "duration": 904,
    "start_time": "2022-03-12T06:32:01.008Z"
   },
   {
    "duration": 73,
    "start_time": "2022-03-12T07:22:36.929Z"
   },
   {
    "duration": 16,
    "start_time": "2022-03-12T07:29:36.960Z"
   },
   {
    "duration": 8,
    "start_time": "2022-03-12T07:30:30.115Z"
   },
   {
    "duration": 8,
    "start_time": "2022-03-12T07:33:55.114Z"
   },
   {
    "duration": 13,
    "start_time": "2022-03-12T07:50:11.237Z"
   },
   {
    "duration": 329,
    "start_time": "2022-03-12T07:51:52.105Z"
   },
   {
    "duration": 14,
    "start_time": "2022-03-12T07:52:14.362Z"
   },
   {
    "duration": 82,
    "start_time": "2022-03-12T07:53:12.685Z"
   },
   {
    "duration": 15,
    "start_time": "2022-03-12T07:56:15.095Z"
   },
   {
    "duration": 19,
    "start_time": "2022-03-12T08:00:36.337Z"
   },
   {
    "duration": 87,
    "start_time": "2022-03-12T08:07:35.892Z"
   },
   {
    "duration": 91,
    "start_time": "2022-03-12T08:10:20.522Z"
   },
   {
    "duration": 126,
    "start_time": "2022-03-12T08:12:18.311Z"
   },
   {
    "duration": 24,
    "start_time": "2022-03-12T08:12:47.971Z"
   },
   {
    "duration": 90,
    "start_time": "2022-03-12T08:13:53.393Z"
   },
   {
    "duration": 25,
    "start_time": "2022-03-12T08:13:53.486Z"
   },
   {
    "duration": 21,
    "start_time": "2022-03-12T08:16:24.744Z"
   },
   {
    "duration": 125,
    "start_time": "2022-03-12T08:19:18.432Z"
   },
   {
    "duration": 22,
    "start_time": "2022-03-12T08:19:40.456Z"
   },
   {
    "duration": 19,
    "start_time": "2022-03-12T08:50:25.394Z"
   },
   {
    "duration": 18,
    "start_time": "2022-03-12T08:51:27.563Z"
   },
   {
    "duration": 24,
    "start_time": "2022-03-12T09:24:39.046Z"
   },
   {
    "duration": 41,
    "start_time": "2022-03-12T09:25:52.416Z"
   },
   {
    "duration": 264,
    "start_time": "2022-03-12T09:30:31.061Z"
   },
   {
    "duration": 38,
    "start_time": "2022-03-12T09:30:51.737Z"
   },
   {
    "duration": 39,
    "start_time": "2022-03-12T09:31:17.722Z"
   },
   {
    "duration": 44,
    "start_time": "2022-03-12T09:38:01.187Z"
   },
   {
    "duration": 27,
    "start_time": "2022-03-12T09:39:29.763Z"
   },
   {
    "duration": 14,
    "start_time": "2022-03-12T09:40:38.927Z"
   },
   {
    "duration": 16,
    "start_time": "2022-03-12T09:43:32.527Z"
   },
   {
    "duration": 656,
    "start_time": "2022-03-13T06:26:47.740Z"
   },
   {
    "duration": 56,
    "start_time": "2022-03-13T06:31:33.965Z"
   },
   {
    "duration": 78,
    "start_time": "2022-03-13T07:11:41.431Z"
   },
   {
    "duration": 51,
    "start_time": "2022-03-13T07:12:28.644Z"
   },
   {
    "duration": 10,
    "start_time": "2022-03-13T07:12:47.908Z"
   },
   {
    "duration": 14,
    "start_time": "2022-03-13T07:14:17.935Z"
   },
   {
    "duration": 4,
    "start_time": "2022-03-13T07:15:19.865Z"
   },
   {
    "duration": 9,
    "start_time": "2022-03-13T07:15:27.212Z"
   },
   {
    "duration": 61,
    "start_time": "2022-03-13T07:17:58.773Z"
   },
   {
    "duration": 9,
    "start_time": "2022-03-13T07:17:58.836Z"
   },
   {
    "duration": 11,
    "start_time": "2022-03-13T07:17:58.847Z"
   },
   {
    "duration": 20,
    "start_time": "2022-03-13T07:17:58.859Z"
   },
   {
    "duration": 5,
    "start_time": "2022-03-13T07:17:58.880Z"
   },
   {
    "duration": 3,
    "start_time": "2022-03-13T07:17:58.886Z"
   },
   {
    "duration": 10,
    "start_time": "2022-03-13T07:23:58.394Z"
   },
   {
    "duration": 15,
    "start_time": "2022-03-13T07:24:04.032Z"
   },
   {
    "duration": 283,
    "start_time": "2022-03-13T07:35:00.743Z"
   },
   {
    "duration": 10,
    "start_time": "2022-03-13T07:35:27.511Z"
   },
   {
    "duration": 4,
    "start_time": "2022-03-13T07:39:43.100Z"
   },
   {
    "duration": 7,
    "start_time": "2022-03-13T07:45:40.382Z"
   },
   {
    "duration": 5,
    "start_time": "2022-03-13T07:48:11.614Z"
   },
   {
    "duration": 63,
    "start_time": "2022-03-13T07:53:02.482Z"
   },
   {
    "duration": 11,
    "start_time": "2022-03-13T07:53:02.547Z"
   },
   {
    "duration": 9,
    "start_time": "2022-03-13T07:53:02.560Z"
   },
   {
    "duration": 4,
    "start_time": "2022-03-13T07:53:02.571Z"
   },
   {
    "duration": 16,
    "start_time": "2022-03-13T07:53:02.577Z"
   },
   {
    "duration": 49,
    "start_time": "2022-03-13T07:53:02.595Z"
   },
   {
    "duration": 5,
    "start_time": "2022-03-13T07:53:02.646Z"
   },
   {
    "duration": 9,
    "start_time": "2022-03-13T07:53:02.653Z"
   },
   {
    "duration": 4,
    "start_time": "2022-03-13T08:03:40.886Z"
   },
   {
    "duration": 4,
    "start_time": "2022-03-13T08:03:49.406Z"
   },
   {
    "duration": 5,
    "start_time": "2022-03-13T08:04:22.924Z"
   },
   {
    "duration": 4,
    "start_time": "2022-03-13T08:11:02.793Z"
   },
   {
    "duration": 6,
    "start_time": "2022-03-13T08:13:06.389Z"
   },
   {
    "duration": 62,
    "start_time": "2022-03-13T08:21:01.789Z"
   },
   {
    "duration": 7,
    "start_time": "2022-03-13T08:22:34.521Z"
   },
   {
    "duration": 52,
    "start_time": "2022-03-13T08:22:38.392Z"
   },
   {
    "duration": 63,
    "start_time": "2022-03-13T08:23:12.934Z"
   },
   {
    "duration": 14,
    "start_time": "2022-03-13T08:23:43.129Z"
   },
   {
    "duration": 85,
    "start_time": "2022-03-13T08:25:02.918Z"
   },
   {
    "duration": 7,
    "start_time": "2022-03-13T08:25:16.507Z"
   },
   {
    "duration": 7,
    "start_time": "2022-03-13T08:25:31.767Z"
   },
   {
    "duration": 4,
    "start_time": "2022-03-13T08:26:32.610Z"
   },
   {
    "duration": 13,
    "start_time": "2022-03-13T08:27:07.995Z"
   },
   {
    "duration": 5,
    "start_time": "2022-03-13T08:32:10.062Z"
   },
   {
    "duration": 59,
    "start_time": "2022-03-13T08:32:56.246Z"
   },
   {
    "duration": 12,
    "start_time": "2022-03-13T08:32:56.306Z"
   },
   {
    "duration": 18,
    "start_time": "2022-03-13T08:32:56.320Z"
   },
   {
    "duration": 13,
    "start_time": "2022-03-13T08:32:56.340Z"
   },
   {
    "duration": 13,
    "start_time": "2022-03-13T08:32:56.355Z"
   },
   {
    "duration": 19,
    "start_time": "2022-03-13T08:32:56.369Z"
   },
   {
    "duration": 14,
    "start_time": "2022-03-13T08:32:56.389Z"
   },
   {
    "duration": 4,
    "start_time": "2022-03-13T08:32:56.405Z"
   },
   {
    "duration": 14,
    "start_time": "2022-03-13T08:32:56.432Z"
   },
   {
    "duration": 18,
    "start_time": "2022-03-13T08:32:56.448Z"
   },
   {
    "duration": 4,
    "start_time": "2022-03-13T08:33:42.375Z"
   },
   {
    "duration": 25,
    "start_time": "2022-03-13T09:09:21.078Z"
   },
   {
    "duration": 60,
    "start_time": "2022-03-13T09:10:56.589Z"
   },
   {
    "duration": 11,
    "start_time": "2022-03-13T09:10:56.651Z"
   },
   {
    "duration": 11,
    "start_time": "2022-03-13T09:10:56.664Z"
   },
   {
    "duration": 6,
    "start_time": "2022-03-13T09:10:56.677Z"
   },
   {
    "duration": 4,
    "start_time": "2022-03-13T09:10:56.685Z"
   },
   {
    "duration": 5,
    "start_time": "2022-03-13T09:11:12.274Z"
   },
   {
    "duration": 5,
    "start_time": "2022-03-13T09:11:33.346Z"
   },
   {
    "duration": 4,
    "start_time": "2022-03-13T09:11:38.606Z"
   },
   {
    "duration": 3,
    "start_time": "2022-03-13T09:14:38.333Z"
   },
   {
    "duration": 5,
    "start_time": "2022-03-13T09:15:17.838Z"
   },
   {
    "duration": 5,
    "start_time": "2022-03-13T09:25:23.018Z"
   },
   {
    "duration": 6,
    "start_time": "2022-03-13T09:25:33.006Z"
   },
   {
    "duration": 6,
    "start_time": "2022-03-13T09:26:02.856Z"
   },
   {
    "duration": 5,
    "start_time": "2022-03-13T09:26:53.120Z"
   },
   {
    "duration": 15,
    "start_time": "2022-03-13T09:37:59.346Z"
   },
   {
    "duration": 14,
    "start_time": "2022-03-13T09:39:22.702Z"
   },
   {
    "duration": 20,
    "start_time": "2022-03-13T09:42:14.758Z"
   },
   {
    "duration": 16,
    "start_time": "2022-03-13T09:42:37.219Z"
   },
   {
    "duration": 16,
    "start_time": "2022-03-13T09:42:40.530Z"
   },
   {
    "duration": 23,
    "start_time": "2022-03-13T09:43:38.976Z"
   },
   {
    "duration": 24,
    "start_time": "2022-03-13T09:48:26.349Z"
   },
   {
    "duration": 27,
    "start_time": "2022-03-13T11:14:09.430Z"
   },
   {
    "duration": 22,
    "start_time": "2022-03-13T11:15:16.751Z"
   },
   {
    "duration": 14,
    "start_time": "2022-03-13T11:16:46.415Z"
   },
   {
    "duration": 215,
    "start_time": "2022-03-13T11:22:49.858Z"
   },
   {
    "duration": 188,
    "start_time": "2022-03-13T11:25:37.588Z"
   },
   {
    "duration": 196,
    "start_time": "2022-03-13T11:26:17.970Z"
   },
   {
    "duration": 182,
    "start_time": "2022-03-13T11:26:32.835Z"
   },
   {
    "duration": 166,
    "start_time": "2022-03-13T11:43:03.539Z"
   },
   {
    "duration": 189,
    "start_time": "2022-03-13T11:43:22.898Z"
   },
   {
    "duration": 185,
    "start_time": "2022-03-13T11:44:10.649Z"
   },
   {
    "duration": 175,
    "start_time": "2022-03-13T11:44:34.728Z"
   },
   {
    "duration": 30,
    "start_time": "2022-03-13T11:47:40.358Z"
   },
   {
    "duration": 6,
    "start_time": "2022-03-13T12:17:31.333Z"
   },
   {
    "duration": 5,
    "start_time": "2022-03-13T12:18:25.163Z"
   },
   {
    "duration": 5,
    "start_time": "2022-03-13T12:18:28.996Z"
   },
   {
    "duration": 17,
    "start_time": "2022-03-13T12:18:39.108Z"
   },
   {
    "duration": 21,
    "start_time": "2022-03-13T12:19:16.838Z"
   },
   {
    "duration": 8,
    "start_time": "2022-03-13T12:29:03.721Z"
   },
   {
    "duration": 173,
    "start_time": "2022-03-13T12:29:49.768Z"
   },
   {
    "duration": 6,
    "start_time": "2022-03-13T12:30:19.982Z"
   },
   {
    "duration": 5,
    "start_time": "2022-03-13T12:31:13.751Z"
   },
   {
    "duration": 56,
    "start_time": "2022-03-13T12:38:03.209Z"
   },
   {
    "duration": 229,
    "start_time": "2022-03-13T12:38:14.957Z"
   },
   {
    "duration": 174,
    "start_time": "2022-03-13T12:39:21.380Z"
   },
   {
    "duration": 8,
    "start_time": "2022-03-13T12:42:50.370Z"
   },
   {
    "duration": 185,
    "start_time": "2022-03-13T12:45:01.748Z"
   },
   {
    "duration": 7,
    "start_time": "2022-03-13T12:45:35.345Z"
   },
   {
    "duration": 177,
    "start_time": "2022-03-13T12:49:37.788Z"
   },
   {
    "duration": 7,
    "start_time": "2022-03-13T12:50:57.734Z"
   },
   {
    "duration": 7,
    "start_time": "2022-03-13T12:51:18.028Z"
   },
   {
    "duration": 7,
    "start_time": "2022-03-13T12:52:30.807Z"
   },
   {
    "duration": 7,
    "start_time": "2022-03-13T12:53:07.998Z"
   },
   {
    "duration": 10,
    "start_time": "2022-03-13T12:56:57.269Z"
   },
   {
    "duration": 8,
    "start_time": "2022-03-13T12:57:10.368Z"
   },
   {
    "duration": 254,
    "start_time": "2022-03-13T13:05:44.925Z"
   },
   {
    "duration": 56,
    "start_time": "2022-03-13T13:05:54.391Z"
   },
   {
    "duration": 182,
    "start_time": "2022-03-13T13:06:06.730Z"
   },
   {
    "duration": 193,
    "start_time": "2022-03-13T13:06:27.935Z"
   },
   {
    "duration": 196,
    "start_time": "2022-03-13T13:32:15.543Z"
   },
   {
    "duration": 171,
    "start_time": "2022-03-13T13:32:55.912Z"
   },
   {
    "duration": 216,
    "start_time": "2022-03-13T13:33:11.896Z"
   },
   {
    "duration": 192,
    "start_time": "2022-03-13T13:33:35.780Z"
   },
   {
    "duration": 198,
    "start_time": "2022-03-13T13:34:03.675Z"
   },
   {
    "duration": 198,
    "start_time": "2022-03-13T13:34:22.774Z"
   },
   {
    "duration": 2,
    "start_time": "2022-03-13T13:35:22.783Z"
   },
   {
    "duration": 177,
    "start_time": "2022-03-13T13:35:29.979Z"
   },
   {
    "duration": 50,
    "start_time": "2022-03-13T13:36:34.032Z"
   },
   {
    "duration": 11,
    "start_time": "2022-03-13T13:36:34.083Z"
   },
   {
    "duration": 12,
    "start_time": "2022-03-13T13:36:34.096Z"
   },
   {
    "duration": 26,
    "start_time": "2022-03-13T13:36:34.109Z"
   },
   {
    "duration": 3,
    "start_time": "2022-03-13T13:36:34.136Z"
   },
   {
    "duration": 30,
    "start_time": "2022-03-13T13:36:34.140Z"
   },
   {
    "duration": 12,
    "start_time": "2022-03-13T13:36:34.171Z"
   },
   {
    "duration": 3,
    "start_time": "2022-03-13T13:36:34.185Z"
   },
   {
    "duration": 10,
    "start_time": "2022-03-13T13:36:34.190Z"
   },
   {
    "duration": 33,
    "start_time": "2022-03-13T13:36:34.202Z"
   },
   {
    "duration": 6,
    "start_time": "2022-03-13T13:36:34.237Z"
   },
   {
    "duration": 5,
    "start_time": "2022-03-13T13:36:34.334Z"
   },
   {
    "duration": 7,
    "start_time": "2022-03-13T13:36:34.340Z"
   },
   {
    "duration": 17,
    "start_time": "2022-03-13T13:36:34.349Z"
   },
   {
    "duration": 22,
    "start_time": "2022-03-13T13:36:34.368Z"
   },
   {
    "duration": 43,
    "start_time": "2022-03-13T13:36:34.391Z"
   },
   {
    "duration": 9,
    "start_time": "2022-03-13T13:36:34.435Z"
   },
   {
    "duration": 4,
    "start_time": "2022-03-13T13:36:34.446Z"
   },
   {
    "duration": 49,
    "start_time": "2022-03-13T13:37:49.347Z"
   },
   {
    "duration": 11,
    "start_time": "2022-03-13T13:37:49.398Z"
   },
   {
    "duration": 11,
    "start_time": "2022-03-13T13:37:49.411Z"
   },
   {
    "duration": 8,
    "start_time": "2022-03-13T13:37:49.432Z"
   },
   {
    "duration": 3,
    "start_time": "2022-03-13T13:37:49.441Z"
   },
   {
    "duration": 26,
    "start_time": "2022-03-13T13:37:49.445Z"
   },
   {
    "duration": 12,
    "start_time": "2022-03-13T13:37:49.472Z"
   },
   {
    "duration": 4,
    "start_time": "2022-03-13T13:37:49.486Z"
   },
   {
    "duration": 44,
    "start_time": "2022-03-13T13:37:49.492Z"
   },
   {
    "duration": 4,
    "start_time": "2022-03-13T13:37:49.538Z"
   },
   {
    "duration": 7,
    "start_time": "2022-03-13T13:37:49.544Z"
   },
   {
    "duration": 15,
    "start_time": "2022-03-13T13:37:49.553Z"
   },
   {
    "duration": 8,
    "start_time": "2022-03-13T13:37:49.569Z"
   },
   {
    "duration": 18,
    "start_time": "2022-03-13T13:37:49.579Z"
   },
   {
    "duration": 35,
    "start_time": "2022-03-13T13:37:49.599Z"
   },
   {
    "duration": 19,
    "start_time": "2022-03-13T13:37:49.635Z"
   },
   {
    "duration": 9,
    "start_time": "2022-03-13T13:37:49.656Z"
   },
   {
    "duration": 6,
    "start_time": "2022-03-13T13:37:49.667Z"
   },
   {
    "duration": 165,
    "start_time": "2022-03-13T13:37:54.160Z"
   },
   {
    "duration": 171,
    "start_time": "2022-03-13T13:51:53.039Z"
   },
   {
    "duration": 172,
    "start_time": "2022-03-13T13:52:19.914Z"
   },
   {
    "duration": 171,
    "start_time": "2022-03-13T13:52:57.663Z"
   },
   {
    "duration": 10,
    "start_time": "2022-03-13T13:54:16.460Z"
   },
   {
    "duration": 10,
    "start_time": "2022-03-13T13:54:48.632Z"
   },
   {
    "duration": 2186,
    "start_time": "2022-03-13T14:01:57.840Z"
   },
   {
    "duration": 2374,
    "start_time": "2022-03-13T14:02:37.493Z"
   },
   {
    "duration": 2099,
    "start_time": "2022-03-13T14:04:16.472Z"
   },
   {
    "duration": 175,
    "start_time": "2022-03-13T14:08:10.079Z"
   },
   {
    "duration": 8,
    "start_time": "2022-03-13T14:28:58.833Z"
   },
   {
    "duration": 12,
    "start_time": "2022-03-13T14:37:29.456Z"
   },
   {
    "duration": 16,
    "start_time": "2022-03-13T14:38:17.633Z"
   },
   {
    "duration": 24,
    "start_time": "2022-03-13T14:38:29.997Z"
   },
   {
    "duration": 20,
    "start_time": "2022-03-13T14:38:43.853Z"
   },
   {
    "duration": 166,
    "start_time": "2022-03-13T15:57:52.999Z"
   },
   {
    "duration": 166,
    "start_time": "2022-03-13T15:58:10.431Z"
   },
   {
    "duration": 182,
    "start_time": "2022-03-13T15:58:45.759Z"
   },
   {
    "duration": 6,
    "start_time": "2022-03-13T15:59:30.620Z"
   },
   {
    "duration": 169,
    "start_time": "2022-03-13T15:59:34.836Z"
   },
   {
    "duration": 51,
    "start_time": "2022-03-13T16:02:54.699Z"
   },
   {
    "duration": 12,
    "start_time": "2022-03-13T16:02:54.751Z"
   },
   {
    "duration": 11,
    "start_time": "2022-03-13T16:02:54.766Z"
   },
   {
    "duration": 8,
    "start_time": "2022-03-13T16:02:54.779Z"
   },
   {
    "duration": 4,
    "start_time": "2022-03-13T16:02:54.788Z"
   },
   {
    "duration": 63,
    "start_time": "2022-03-13T16:02:54.793Z"
   },
   {
    "duration": 14,
    "start_time": "2022-03-13T16:02:54.858Z"
   },
   {
    "duration": 4,
    "start_time": "2022-03-13T16:02:54.875Z"
   },
   {
    "duration": 10,
    "start_time": "2022-03-13T16:02:54.882Z"
   },
   {
    "duration": 40,
    "start_time": "2022-03-13T16:02:54.893Z"
   },
   {
    "duration": 6,
    "start_time": "2022-03-13T16:02:54.936Z"
   },
   {
    "duration": 6,
    "start_time": "2022-03-13T16:02:54.943Z"
   },
   {
    "duration": 23,
    "start_time": "2022-03-13T16:02:54.950Z"
   },
   {
    "duration": 26,
    "start_time": "2022-03-13T16:02:54.975Z"
   },
   {
    "duration": 43,
    "start_time": "2022-03-13T16:02:55.003Z"
   },
   {
    "duration": 19,
    "start_time": "2022-03-13T16:02:55.047Z"
   },
   {
    "duration": 9,
    "start_time": "2022-03-13T16:02:55.067Z"
   },
   {
    "duration": 4,
    "start_time": "2022-03-13T16:02:55.078Z"
   },
   {
    "duration": 171,
    "start_time": "2022-03-13T16:02:59.481Z"
   },
   {
    "duration": 168,
    "start_time": "2022-03-13T16:05:07.907Z"
   },
   {
    "duration": 168,
    "start_time": "2022-03-13T16:05:24.246Z"
   },
   {
    "duration": 5,
    "start_time": "2022-03-13T16:05:50.236Z"
   },
   {
    "duration": 9,
    "start_time": "2022-03-13T16:17:39.855Z"
   },
   {
    "duration": 16,
    "start_time": "2022-03-13T16:19:11.142Z"
   },
   {
    "duration": 14,
    "start_time": "2022-03-13T16:19:33.145Z"
   },
   {
    "duration": 30,
    "start_time": "2022-03-13T16:25:41.976Z"
   },
   {
    "duration": 16,
    "start_time": "2022-03-13T16:38:17.993Z"
   },
   {
    "duration": 50,
    "start_time": "2022-03-13T16:38:58.377Z"
   },
   {
    "duration": 12,
    "start_time": "2022-03-13T16:38:58.429Z"
   },
   {
    "duration": 12,
    "start_time": "2022-03-13T16:38:58.443Z"
   },
   {
    "duration": 7,
    "start_time": "2022-03-13T16:38:58.457Z"
   },
   {
    "duration": 3,
    "start_time": "2022-03-13T16:38:58.466Z"
   },
   {
    "duration": 26,
    "start_time": "2022-03-13T16:38:58.470Z"
   },
   {
    "duration": 13,
    "start_time": "2022-03-13T16:38:58.533Z"
   },
   {
    "duration": 5,
    "start_time": "2022-03-13T16:38:58.548Z"
   },
   {
    "duration": 11,
    "start_time": "2022-03-13T16:38:58.555Z"
   },
   {
    "duration": 4,
    "start_time": "2022-03-13T16:38:58.567Z"
   },
   {
    "duration": 5,
    "start_time": "2022-03-13T16:38:58.573Z"
   },
   {
    "duration": 4,
    "start_time": "2022-03-13T16:38:58.579Z"
   },
   {
    "duration": 49,
    "start_time": "2022-03-13T16:38:58.585Z"
   },
   {
    "duration": 14,
    "start_time": "2022-03-13T16:38:58.635Z"
   },
   {
    "duration": 22,
    "start_time": "2022-03-13T16:38:58.651Z"
   },
   {
    "duration": 17,
    "start_time": "2022-03-13T16:38:58.675Z"
   },
   {
    "duration": 42,
    "start_time": "2022-03-13T16:38:58.694Z"
   },
   {
    "duration": 6,
    "start_time": "2022-03-13T16:38:58.737Z"
   },
   {
    "duration": 4,
    "start_time": "2022-03-13T16:38:58.744Z"
   },
   {
    "duration": 17,
    "start_time": "2022-03-13T16:39:06.126Z"
   },
   {
    "duration": 29,
    "start_time": "2022-03-13T16:39:10.230Z"
   },
   {
    "duration": 19,
    "start_time": "2022-03-13T16:39:53.912Z"
   },
   {
    "duration": 20,
    "start_time": "2022-03-13T16:40:30.935Z"
   },
   {
    "duration": 21,
    "start_time": "2022-03-13T16:41:20.901Z"
   },
   {
    "duration": 15,
    "start_time": "2022-03-13T16:42:03.832Z"
   },
   {
    "duration": 19,
    "start_time": "2022-03-13T16:42:06.609Z"
   },
   {
    "duration": 51,
    "start_time": "2022-03-13T16:42:16.320Z"
   },
   {
    "duration": 12,
    "start_time": "2022-03-13T16:42:16.372Z"
   },
   {
    "duration": 16,
    "start_time": "2022-03-13T16:42:16.386Z"
   },
   {
    "duration": 33,
    "start_time": "2022-03-13T16:42:16.403Z"
   },
   {
    "duration": 3,
    "start_time": "2022-03-13T16:42:16.437Z"
   },
   {
    "duration": 28,
    "start_time": "2022-03-13T16:42:16.442Z"
   },
   {
    "duration": 13,
    "start_time": "2022-03-13T16:42:16.472Z"
   },
   {
    "duration": 3,
    "start_time": "2022-03-13T16:42:16.487Z"
   },
   {
    "duration": 10,
    "start_time": "2022-03-13T16:42:16.492Z"
   },
   {
    "duration": 5,
    "start_time": "2022-03-13T16:42:16.533Z"
   },
   {
    "duration": 6,
    "start_time": "2022-03-13T16:42:16.540Z"
   },
   {
    "duration": 5,
    "start_time": "2022-03-13T16:42:16.548Z"
   },
   {
    "duration": 13,
    "start_time": "2022-03-13T16:42:16.555Z"
   },
   {
    "duration": 18,
    "start_time": "2022-03-13T16:42:16.570Z"
   },
   {
    "duration": 48,
    "start_time": "2022-03-13T16:42:16.590Z"
   },
   {
    "duration": 7,
    "start_time": "2022-03-13T16:42:16.640Z"
   },
   {
    "duration": 5,
    "start_time": "2022-03-13T16:42:16.649Z"
   },
   {
    "duration": 16,
    "start_time": "2022-03-13T16:42:16.656Z"
   },
   {
    "duration": 61,
    "start_time": "2022-03-13T16:42:16.674Z"
   },
   {
    "duration": 340,
    "start_time": "2022-03-14T04:19:01.822Z"
   },
   {
    "duration": 280,
    "start_time": "2022-03-14T04:19:41.067Z"
   },
   {
    "duration": 626,
    "start_time": "2022-03-14T04:19:49.821Z"
   },
   {
    "duration": 11,
    "start_time": "2022-03-14T04:19:50.450Z"
   },
   {
    "duration": 11,
    "start_time": "2022-03-14T04:19:50.463Z"
   },
   {
    "duration": 26,
    "start_time": "2022-03-14T04:19:50.476Z"
   },
   {
    "duration": 3,
    "start_time": "2022-03-14T04:19:50.504Z"
   },
   {
    "duration": 23,
    "start_time": "2022-03-14T04:19:50.509Z"
   },
   {
    "duration": 14,
    "start_time": "2022-03-14T04:19:50.534Z"
   },
   {
    "duration": 3,
    "start_time": "2022-03-14T04:19:50.550Z"
   },
   {
    "duration": 12,
    "start_time": "2022-03-14T04:19:50.555Z"
   },
   {
    "duration": 33,
    "start_time": "2022-03-14T04:19:50.568Z"
   },
   {
    "duration": 4,
    "start_time": "2022-03-14T04:19:50.603Z"
   },
   {
    "duration": 9,
    "start_time": "2022-03-14T04:19:50.609Z"
   },
   {
    "duration": 10,
    "start_time": "2022-03-14T04:19:50.619Z"
   },
   {
    "duration": 17,
    "start_time": "2022-03-14T04:19:50.631Z"
   },
   {
    "duration": 8,
    "start_time": "2022-03-14T04:19:50.650Z"
   },
   {
    "duration": 41,
    "start_time": "2022-03-14T04:19:50.660Z"
   },
   {
    "duration": 305,
    "start_time": "2022-03-14T04:19:50.703Z"
   },
   {
    "duration": 2,
    "start_time": "2022-03-14T04:30:33.892Z"
   },
   {
    "duration": 5,
    "start_time": "2022-03-14T04:36:43.784Z"
   },
   {
    "duration": 4,
    "start_time": "2022-03-14T04:37:56.513Z"
   },
   {
    "duration": 18,
    "start_time": "2022-03-14T04:54:44.166Z"
   },
   {
    "duration": 23,
    "start_time": "2022-03-14T04:56:55.368Z"
   },
   {
    "duration": 14,
    "start_time": "2022-03-14T05:07:32.812Z"
   },
   {
    "duration": 16,
    "start_time": "2022-03-14T05:11:22.239Z"
   },
   {
    "duration": 8,
    "start_time": "2022-03-14T05:12:53.664Z"
   },
   {
    "duration": 11,
    "start_time": "2022-03-14T05:18:17.991Z"
   },
   {
    "duration": 56,
    "start_time": "2022-03-14T05:21:47.194Z"
   },
   {
    "duration": 11,
    "start_time": "2022-03-14T05:21:47.251Z"
   },
   {
    "duration": 10,
    "start_time": "2022-03-14T05:21:47.263Z"
   },
   {
    "duration": 27,
    "start_time": "2022-03-14T05:21:47.276Z"
   },
   {
    "duration": 3,
    "start_time": "2022-03-14T05:21:47.305Z"
   },
   {
    "duration": 25,
    "start_time": "2022-03-14T05:21:47.310Z"
   },
   {
    "duration": 14,
    "start_time": "2022-03-14T05:21:47.337Z"
   },
   {
    "duration": 4,
    "start_time": "2022-03-14T05:21:47.353Z"
   },
   {
    "duration": 42,
    "start_time": "2022-03-14T05:21:47.359Z"
   },
   {
    "duration": 4,
    "start_time": "2022-03-14T05:21:47.403Z"
   },
   {
    "duration": 9,
    "start_time": "2022-03-14T05:21:47.408Z"
   },
   {
    "duration": 4,
    "start_time": "2022-03-14T05:21:47.418Z"
   },
   {
    "duration": 14,
    "start_time": "2022-03-14T05:21:47.424Z"
   },
   {
    "duration": 17,
    "start_time": "2022-03-14T05:21:47.440Z"
   },
   {
    "duration": 45,
    "start_time": "2022-03-14T05:21:47.459Z"
   },
   {
    "duration": 6,
    "start_time": "2022-03-14T05:21:47.505Z"
   },
   {
    "duration": 3,
    "start_time": "2022-03-14T05:21:47.512Z"
   },
   {
    "duration": 11,
    "start_time": "2022-03-14T05:21:47.516Z"
   },
   {
    "duration": 31,
    "start_time": "2022-03-14T05:21:47.528Z"
   },
   {
    "duration": 49,
    "start_time": "2022-03-14T05:21:47.561Z"
   },
   {
    "duration": 45,
    "start_time": "2022-03-14T05:21:47.611Z"
   },
   {
    "duration": 6,
    "start_time": "2022-03-14T05:21:47.662Z"
   },
   {
    "duration": 42,
    "start_time": "2022-03-14T05:21:47.670Z"
   },
   {
    "duration": 14,
    "start_time": "2022-03-14T05:21:47.713Z"
   },
   {
    "duration": 14,
    "start_time": "2022-03-14T05:21:47.728Z"
   },
   {
    "duration": 8,
    "start_time": "2022-03-14T05:21:47.744Z"
   },
   {
    "duration": 5,
    "start_time": "2022-03-14T05:22:25.125Z"
   },
   {
    "duration": 14,
    "start_time": "2022-03-14T05:22:31.967Z"
   },
   {
    "duration": 27,
    "start_time": "2022-03-14T05:22:36.458Z"
   },
   {
    "duration": 21,
    "start_time": "2022-03-14T05:22:43.234Z"
   },
   {
    "duration": 13,
    "start_time": "2022-03-14T05:22:45.837Z"
   },
   {
    "duration": 10,
    "start_time": "2022-03-14T05:22:49.419Z"
   },
   {
    "duration": 7,
    "start_time": "2022-03-14T06:30:34.837Z"
   },
   {
    "duration": 7,
    "start_time": "2022-03-14T06:36:44.329Z"
   },
   {
    "duration": 11,
    "start_time": "2022-03-14T09:22:49.927Z"
   },
   {
    "duration": 12,
    "start_time": "2022-03-14T09:24:03.002Z"
   },
   {
    "duration": 4,
    "start_time": "2022-03-14T09:48:59.992Z"
   },
   {
    "duration": 4,
    "start_time": "2022-03-14T09:49:29.965Z"
   },
   {
    "duration": 3,
    "start_time": "2022-03-14T09:49:45.997Z"
   },
   {
    "duration": 5,
    "start_time": "2022-03-14T09:50:15.467Z"
   },
   {
    "duration": 4,
    "start_time": "2022-03-14T09:50:41.905Z"
   },
   {
    "duration": 4,
    "start_time": "2022-03-14T09:51:03.045Z"
   },
   {
    "duration": 4,
    "start_time": "2022-03-14T09:51:13.608Z"
   },
   {
    "duration": 4,
    "start_time": "2022-03-14T09:51:23.342Z"
   },
   {
    "duration": 99,
    "start_time": "2022-03-14T09:51:43.959Z"
   },
   {
    "duration": 4,
    "start_time": "2022-03-14T09:51:52.031Z"
   },
   {
    "duration": 5,
    "start_time": "2022-03-14T09:52:25.778Z"
   },
   {
    "duration": 9,
    "start_time": "2022-03-14T09:56:10.788Z"
   },
   {
    "duration": 14,
    "start_time": "2022-03-14T10:02:04.463Z"
   },
   {
    "duration": 16,
    "start_time": "2022-03-14T10:02:26.267Z"
   },
   {
    "duration": 15,
    "start_time": "2022-03-14T11:28:44.806Z"
   },
   {
    "duration": 7,
    "start_time": "2022-03-14T11:44:21.942Z"
   },
   {
    "duration": 5,
    "start_time": "2022-03-14T11:45:03.002Z"
   },
   {
    "duration": 6,
    "start_time": "2022-03-14T11:45:07.492Z"
   },
   {
    "duration": 973,
    "start_time": "2022-03-14T11:45:37.703Z"
   },
   {
    "duration": 10,
    "start_time": "2022-03-14T11:45:38.678Z"
   },
   {
    "duration": 13,
    "start_time": "2022-03-14T11:45:38.690Z"
   },
   {
    "duration": 7,
    "start_time": "2022-03-14T11:45:38.704Z"
   },
   {
    "duration": 3,
    "start_time": "2022-03-14T11:45:38.712Z"
   },
   {
    "duration": 24,
    "start_time": "2022-03-14T11:45:38.717Z"
   },
   {
    "duration": 13,
    "start_time": "2022-03-14T11:45:38.742Z"
   },
   {
    "duration": 4,
    "start_time": "2022-03-14T11:45:38.757Z"
   },
   {
    "duration": 45,
    "start_time": "2022-03-14T11:45:38.764Z"
   },
   {
    "duration": 9,
    "start_time": "2022-03-14T11:45:38.810Z"
   },
   {
    "duration": 9,
    "start_time": "2022-03-14T11:45:38.820Z"
   },
   {
    "duration": 6,
    "start_time": "2022-03-14T11:45:38.830Z"
   },
   {
    "duration": 15,
    "start_time": "2022-03-14T11:45:38.838Z"
   },
   {
    "duration": 20,
    "start_time": "2022-03-14T11:45:38.854Z"
   },
   {
    "duration": 28,
    "start_time": "2022-03-14T11:45:38.875Z"
   },
   {
    "duration": 5,
    "start_time": "2022-03-14T11:45:38.904Z"
   },
   {
    "duration": 6,
    "start_time": "2022-03-14T11:45:38.911Z"
   },
   {
    "duration": 12,
    "start_time": "2022-03-14T11:45:38.918Z"
   },
   {
    "duration": 21,
    "start_time": "2022-03-14T11:45:38.932Z"
   },
   {
    "duration": 22,
    "start_time": "2022-03-14T11:45:38.955Z"
   },
   {
    "duration": 44,
    "start_time": "2022-03-14T11:45:38.979Z"
   },
   {
    "duration": 4,
    "start_time": "2022-03-14T11:45:39.024Z"
   },
   {
    "duration": 7,
    "start_time": "2022-03-14T11:45:56.341Z"
   },
   {
    "duration": 54,
    "start_time": "2022-03-14T11:51:19.449Z"
   },
   {
    "duration": 10,
    "start_time": "2022-03-14T11:51:19.505Z"
   },
   {
    "duration": 11,
    "start_time": "2022-03-14T11:51:19.517Z"
   },
   {
    "duration": 6,
    "start_time": "2022-03-14T11:51:19.530Z"
   },
   {
    "duration": 3,
    "start_time": "2022-03-14T11:51:19.537Z"
   },
   {
    "duration": 24,
    "start_time": "2022-03-14T11:51:19.542Z"
   },
   {
    "duration": 44,
    "start_time": "2022-03-14T11:51:19.567Z"
   },
   {
    "duration": 3,
    "start_time": "2022-03-14T11:51:19.613Z"
   },
   {
    "duration": 8,
    "start_time": "2022-03-14T11:51:19.618Z"
   },
   {
    "duration": 4,
    "start_time": "2022-03-14T11:51:19.628Z"
   },
   {
    "duration": 7,
    "start_time": "2022-03-14T11:51:19.633Z"
   },
   {
    "duration": 7,
    "start_time": "2022-03-14T11:51:19.641Z"
   },
   {
    "duration": 18,
    "start_time": "2022-03-14T11:51:19.649Z"
   },
   {
    "duration": 46,
    "start_time": "2022-03-14T11:51:19.668Z"
   },
   {
    "duration": 8,
    "start_time": "2022-03-14T11:51:19.716Z"
   },
   {
    "duration": 4,
    "start_time": "2022-03-14T11:51:19.726Z"
   },
   {
    "duration": 5,
    "start_time": "2022-03-14T11:51:19.732Z"
   },
   {
    "duration": 9,
    "start_time": "2022-03-14T11:51:19.739Z"
   },
   {
    "duration": 19,
    "start_time": "2022-03-14T11:51:19.750Z"
   },
   {
    "duration": 47,
    "start_time": "2022-03-14T11:51:19.770Z"
   },
   {
    "duration": 29,
    "start_time": "2022-03-14T11:51:19.818Z"
   },
   {
    "duration": 5,
    "start_time": "2022-03-14T11:51:19.849Z"
   },
   {
    "duration": 113,
    "start_time": "2022-03-14T11:51:19.856Z"
   },
   {
    "duration": -262,
    "start_time": "2022-03-14T11:51:20.233Z"
   },
   {
    "duration": -264,
    "start_time": "2022-03-14T11:51:20.236Z"
   },
   {
    "duration": -265,
    "start_time": "2022-03-14T11:51:20.238Z"
   },
   {
    "duration": -289,
    "start_time": "2022-03-14T11:51:20.263Z"
   },
   {
    "duration": -291,
    "start_time": "2022-03-14T11:51:20.266Z"
   },
   {
    "duration": -293,
    "start_time": "2022-03-14T11:51:20.269Z"
   },
   {
    "duration": -294,
    "start_time": "2022-03-14T11:51:20.271Z"
   },
   {
    "duration": -298,
    "start_time": "2022-03-14T11:51:20.276Z"
   },
   {
    "duration": -308,
    "start_time": "2022-03-14T11:51:20.287Z"
   },
   {
    "duration": -310,
    "start_time": "2022-03-14T11:51:20.290Z"
   },
   {
    "duration": -312,
    "start_time": "2022-03-14T11:51:20.293Z"
   },
   {
    "duration": 57,
    "start_time": "2022-03-14T11:52:06.876Z"
   },
   {
    "duration": 11,
    "start_time": "2022-03-14T11:52:06.936Z"
   },
   {
    "duration": 13,
    "start_time": "2022-03-14T11:52:06.949Z"
   },
   {
    "duration": 9,
    "start_time": "2022-03-14T11:52:06.964Z"
   },
   {
    "duration": 2,
    "start_time": "2022-03-14T11:52:06.975Z"
   },
   {
    "duration": 42,
    "start_time": "2022-03-14T11:52:06.979Z"
   },
   {
    "duration": 12,
    "start_time": "2022-03-14T11:52:07.023Z"
   },
   {
    "duration": 3,
    "start_time": "2022-03-14T11:52:07.037Z"
   },
   {
    "duration": 9,
    "start_time": "2022-03-14T11:52:07.042Z"
   },
   {
    "duration": 4,
    "start_time": "2022-03-14T11:52:07.053Z"
   },
   {
    "duration": 44,
    "start_time": "2022-03-14T11:52:07.058Z"
   },
   {
    "duration": 5,
    "start_time": "2022-03-14T11:52:07.103Z"
   },
   {
    "duration": 15,
    "start_time": "2022-03-14T11:52:07.109Z"
   },
   {
    "duration": 17,
    "start_time": "2022-03-14T11:52:07.125Z"
   },
   {
    "duration": 9,
    "start_time": "2022-03-14T11:52:07.143Z"
   },
   {
    "duration": 7,
    "start_time": "2022-03-14T11:52:07.153Z"
   },
   {
    "duration": 5,
    "start_time": "2022-03-14T11:52:07.161Z"
   },
   {
    "duration": 9,
    "start_time": "2022-03-14T11:52:07.168Z"
   },
   {
    "duration": 35,
    "start_time": "2022-03-14T11:52:07.179Z"
   },
   {
    "duration": 22,
    "start_time": "2022-03-14T11:52:07.216Z"
   },
   {
    "duration": 25,
    "start_time": "2022-03-14T11:52:07.239Z"
   },
   {
    "duration": 4,
    "start_time": "2022-03-14T11:52:07.266Z"
   },
   {
    "duration": 29,
    "start_time": "2022-03-14T11:52:07.273Z"
   },
   {
    "duration": 3,
    "start_time": "2022-03-14T11:52:07.304Z"
   },
   {
    "duration": 10,
    "start_time": "2022-03-14T11:52:07.309Z"
   },
   {
    "duration": 9,
    "start_time": "2022-03-14T11:52:07.321Z"
   },
   {
    "duration": 18,
    "start_time": "2022-03-14T11:52:07.331Z"
   },
   {
    "duration": 6,
    "start_time": "2022-03-14T11:52:07.351Z"
   },
   {
    "duration": 10,
    "start_time": "2022-03-14T11:52:07.359Z"
   },
   {
    "duration": 20,
    "start_time": "2022-03-14T11:52:07.371Z"
   },
   {
    "duration": 4,
    "start_time": "2022-03-14T11:52:07.393Z"
   },
   {
    "duration": 104,
    "start_time": "2022-03-14T11:52:07.398Z"
   },
   {
    "duration": -277,
    "start_time": "2022-03-14T11:52:07.780Z"
   },
   {
    "duration": -281,
    "start_time": "2022-03-14T11:52:07.785Z"
   },
   {
    "duration": 16,
    "start_time": "2022-03-14T11:52:40.116Z"
   },
   {
    "duration": 59,
    "start_time": "2022-03-14T11:52:55.608Z"
   },
   {
    "duration": 11,
    "start_time": "2022-03-14T11:52:55.669Z"
   },
   {
    "duration": 10,
    "start_time": "2022-03-14T11:52:55.682Z"
   },
   {
    "duration": 6,
    "start_time": "2022-03-14T11:52:55.701Z"
   },
   {
    "duration": 2,
    "start_time": "2022-03-14T11:52:55.709Z"
   },
   {
    "duration": 28,
    "start_time": "2022-03-14T11:52:55.713Z"
   },
   {
    "duration": 12,
    "start_time": "2022-03-14T11:52:55.743Z"
   },
   {
    "duration": 3,
    "start_time": "2022-03-14T11:52:55.757Z"
   },
   {
    "duration": 43,
    "start_time": "2022-03-14T11:52:55.763Z"
   },
   {
    "duration": 4,
    "start_time": "2022-03-14T11:52:55.809Z"
   },
   {
    "duration": 5,
    "start_time": "2022-03-14T11:52:55.815Z"
   },
   {
    "duration": 7,
    "start_time": "2022-03-14T11:52:55.821Z"
   },
   {
    "duration": 15,
    "start_time": "2022-03-14T11:52:55.829Z"
   },
   {
    "duration": 16,
    "start_time": "2022-03-14T11:52:55.845Z"
   },
   {
    "duration": 9,
    "start_time": "2022-03-14T11:52:55.863Z"
   },
   {
    "duration": 5,
    "start_time": "2022-03-14T11:52:55.901Z"
   },
   {
    "duration": 2,
    "start_time": "2022-03-14T11:52:55.907Z"
   },
   {
    "duration": 11,
    "start_time": "2022-03-14T11:52:55.911Z"
   },
   {
    "duration": 19,
    "start_time": "2022-03-14T11:52:55.924Z"
   },
   {
    "duration": 23,
    "start_time": "2022-03-14T11:52:55.945Z"
   },
   {
    "duration": 49,
    "start_time": "2022-03-14T11:52:55.969Z"
   },
   {
    "duration": 6,
    "start_time": "2022-03-14T11:52:56.020Z"
   },
   {
    "duration": 2,
    "start_time": "2022-03-14T11:52:56.028Z"
   },
   {
    "duration": 8,
    "start_time": "2022-03-14T11:52:56.032Z"
   },
   {
    "duration": 11,
    "start_time": "2022-03-14T11:52:56.041Z"
   },
   {
    "duration": 7,
    "start_time": "2022-03-14T11:52:56.054Z"
   },
   {
    "duration": 16,
    "start_time": "2022-03-14T11:52:56.065Z"
   },
   {
    "duration": 23,
    "start_time": "2022-03-14T11:52:56.083Z"
   },
   {
    "duration": 7,
    "start_time": "2022-03-14T11:52:56.108Z"
   },
   {
    "duration": 15,
    "start_time": "2022-03-14T11:52:56.116Z"
   },
   {
    "duration": 7,
    "start_time": "2022-03-14T11:52:56.132Z"
   },
   {
    "duration": 18,
    "start_time": "2022-03-14T11:52:56.141Z"
   },
   {
    "duration": 6,
    "start_time": "2022-03-14T11:52:56.160Z"
   },
   {
    "duration": 7,
    "start_time": "2022-03-14T11:53:04.454Z"
   },
   {
    "duration": 6,
    "start_time": "2022-03-14T11:59:33.250Z"
   },
   {
    "duration": 1829,
    "start_time": "2022-03-14T12:27:46.101Z"
   },
   {
    "duration": 113,
    "start_time": "2022-03-14T12:28:19.549Z"
   },
   {
    "duration": 313,
    "start_time": "2022-03-14T12:29:32.405Z"
   },
   {
    "duration": 319,
    "start_time": "2022-03-14T12:30:20.441Z"
   },
   {
    "duration": 386,
    "start_time": "2022-03-14T13:19:05.594Z"
   },
   {
    "duration": 305,
    "start_time": "2022-03-14T13:19:53.909Z"
   },
   {
    "duration": 358,
    "start_time": "2022-03-14T13:23:11.455Z"
   },
   {
    "duration": 303,
    "start_time": "2022-03-14T13:23:33.770Z"
   },
   {
    "duration": 328,
    "start_time": "2022-03-14T13:24:11.390Z"
   },
   {
    "duration": 316,
    "start_time": "2022-03-14T13:24:27.770Z"
   },
   {
    "duration": 6,
    "start_time": "2022-03-14T13:27:34.205Z"
   },
   {
    "duration": 666,
    "start_time": "2022-03-14T13:36:58.903Z"
   },
   {
    "duration": 1041,
    "start_time": "2022-03-14T13:37:57.146Z"
   },
   {
    "duration": 381,
    "start_time": "2022-03-14T14:04:38.636Z"
   },
   {
    "duration": 653,
    "start_time": "2022-03-14T14:05:42.412Z"
   },
   {
    "duration": 9,
    "start_time": "2022-03-14T14:06:19.051Z"
   },
   {
    "duration": 301,
    "start_time": "2022-03-14T14:12:15.817Z"
   },
   {
    "duration": 102,
    "start_time": "2022-03-14T14:15:00.638Z"
   },
   {
    "duration": 107,
    "start_time": "2022-03-14T14:15:35.113Z"
   },
   {
    "duration": 307,
    "start_time": "2022-03-14T14:15:58.934Z"
   },
   {
    "duration": 291,
    "start_time": "2022-03-14T14:16:56.448Z"
   },
   {
    "duration": 312,
    "start_time": "2022-03-14T14:17:15.143Z"
   },
   {
    "duration": 293,
    "start_time": "2022-03-14T14:17:27.240Z"
   },
   {
    "duration": 103,
    "start_time": "2022-03-14T14:21:20.153Z"
   },
   {
    "duration": 110,
    "start_time": "2022-03-14T14:23:13.520Z"
   },
   {
    "duration": 159,
    "start_time": "2022-03-14T14:23:31.345Z"
   },
   {
    "duration": 4,
    "start_time": "2022-03-14T14:24:06.856Z"
   },
   {
    "duration": 4,
    "start_time": "2022-03-14T14:29:52.865Z"
   },
   {
    "duration": 4,
    "start_time": "2022-03-14T14:32:59.520Z"
   },
   {
    "duration": 4,
    "start_time": "2022-03-14T14:34:01.413Z"
   },
   {
    "duration": 3,
    "start_time": "2022-03-14T14:34:16.116Z"
   },
   {
    "duration": 5,
    "start_time": "2022-03-14T14:34:37.314Z"
   },
   {
    "duration": 4,
    "start_time": "2022-03-14T14:35:16.078Z"
   },
   {
    "duration": 4,
    "start_time": "2022-03-14T14:36:07.175Z"
   },
   {
    "duration": 4,
    "start_time": "2022-03-14T14:36:31.323Z"
   },
   {
    "duration": 111,
    "start_time": "2022-03-14T14:38:59.499Z"
   },
   {
    "duration": 98,
    "start_time": "2022-03-14T14:39:43.083Z"
   },
   {
    "duration": 1164,
    "start_time": "2022-03-14T14:40:24.914Z"
   },
   {
    "duration": 287,
    "start_time": "2022-03-14T14:40:52.503Z"
   },
   {
    "duration": 109,
    "start_time": "2022-03-14T14:41:45.716Z"
   },
   {
    "duration": 101,
    "start_time": "2022-03-14T14:42:51.002Z"
   },
   {
    "duration": 134,
    "start_time": "2022-03-14T14:44:03.186Z"
   },
   {
    "duration": 208,
    "start_time": "2022-03-14T14:45:10.378Z"
   },
   {
    "duration": 4,
    "start_time": "2022-03-14T14:47:55.640Z"
   },
   {
    "duration": 106,
    "start_time": "2022-03-14T14:48:34.099Z"
   },
   {
    "duration": 142,
    "start_time": "2022-03-14T14:49:14.971Z"
   },
   {
    "duration": 4,
    "start_time": "2022-03-14T14:50:03.240Z"
   },
   {
    "duration": 4,
    "start_time": "2022-03-14T14:51:28.502Z"
   },
   {
    "duration": 5,
    "start_time": "2022-03-14T14:51:48.423Z"
   },
   {
    "duration": 4,
    "start_time": "2022-03-14T14:59:09.674Z"
   },
   {
    "duration": 4,
    "start_time": "2022-03-14T14:59:55.454Z"
   },
   {
    "duration": 4,
    "start_time": "2022-03-14T15:00:46.775Z"
   },
   {
    "duration": 5,
    "start_time": "2022-03-14T15:37:29.863Z"
   },
   {
    "duration": 5,
    "start_time": "2022-03-14T15:46:37.228Z"
   },
   {
    "duration": 3,
    "start_time": "2022-03-14T15:50:43.030Z"
   },
   {
    "duration": 5,
    "start_time": "2022-03-14T15:51:24.761Z"
   },
   {
    "duration": 6,
    "start_time": "2022-03-14T15:52:00.010Z"
   },
   {
    "duration": 6,
    "start_time": "2022-03-14T15:52:43.295Z"
   },
   {
    "duration": 19,
    "start_time": "2022-03-14T15:53:25.237Z"
   },
   {
    "duration": 79,
    "start_time": "2022-03-14T15:55:38.553Z"
   },
   {
    "duration": 13,
    "start_time": "2022-03-14T15:55:38.634Z"
   },
   {
    "duration": 11,
    "start_time": "2022-03-14T15:55:38.649Z"
   },
   {
    "duration": 44,
    "start_time": "2022-03-14T15:55:38.662Z"
   },
   {
    "duration": 3,
    "start_time": "2022-03-14T15:55:38.708Z"
   },
   {
    "duration": 26,
    "start_time": "2022-03-14T15:55:38.713Z"
   },
   {
    "duration": 12,
    "start_time": "2022-03-14T15:55:38.740Z"
   },
   {
    "duration": 4,
    "start_time": "2022-03-14T15:55:38.755Z"
   },
   {
    "duration": 48,
    "start_time": "2022-03-14T15:55:38.761Z"
   },
   {
    "duration": 4,
    "start_time": "2022-03-14T15:55:38.811Z"
   },
   {
    "duration": 5,
    "start_time": "2022-03-14T15:55:38.817Z"
   },
   {
    "duration": 4,
    "start_time": "2022-03-14T15:55:38.823Z"
   },
   {
    "duration": 11,
    "start_time": "2022-03-14T15:55:38.829Z"
   },
   {
    "duration": 18,
    "start_time": "2022-03-14T15:55:38.842Z"
   },
   {
    "duration": 42,
    "start_time": "2022-03-14T15:55:38.863Z"
   },
   {
    "duration": 7,
    "start_time": "2022-03-14T15:55:38.907Z"
   },
   {
    "duration": 3,
    "start_time": "2022-03-14T15:55:38.915Z"
   },
   {
    "duration": 11,
    "start_time": "2022-03-14T15:55:38.919Z"
   },
   {
    "duration": 20,
    "start_time": "2022-03-14T15:55:38.932Z"
   },
   {
    "duration": 53,
    "start_time": "2022-03-14T15:55:38.954Z"
   },
   {
    "duration": 29,
    "start_time": "2022-03-14T15:55:39.008Z"
   },
   {
    "duration": 5,
    "start_time": "2022-03-14T15:55:39.039Z"
   },
   {
    "duration": 2,
    "start_time": "2022-03-14T15:55:39.047Z"
   },
   {
    "duration": 10,
    "start_time": "2022-03-14T15:55:39.051Z"
   },
   {
    "duration": 14,
    "start_time": "2022-03-14T15:55:39.062Z"
   },
   {
    "duration": 6,
    "start_time": "2022-03-14T15:55:39.078Z"
   },
   {
    "duration": 20,
    "start_time": "2022-03-14T15:55:39.085Z"
   },
   {
    "duration": 7,
    "start_time": "2022-03-14T15:55:39.107Z"
   },
   {
    "duration": 10,
    "start_time": "2022-03-14T15:55:39.116Z"
   },
   {
    "duration": 14,
    "start_time": "2022-03-14T15:55:39.128Z"
   },
   {
    "duration": 4,
    "start_time": "2022-03-14T15:55:39.144Z"
   },
   {
    "duration": 20,
    "start_time": "2022-03-14T15:55:39.149Z"
   },
   {
    "duration": 39,
    "start_time": "2022-03-14T15:55:39.170Z"
   },
   {
    "duration": 8,
    "start_time": "2022-03-14T15:55:39.211Z"
   },
   {
    "duration": 9,
    "start_time": "2022-03-14T15:55:39.221Z"
   },
   {
    "duration": 7,
    "start_time": "2022-03-14T15:55:39.232Z"
   },
   {
    "duration": 9,
    "start_time": "2022-03-14T15:55:39.240Z"
   },
   {
    "duration": 6,
    "start_time": "2022-03-14T15:57:02.997Z"
   },
   {
    "duration": 20,
    "start_time": "2022-03-14T15:58:49.876Z"
   },
   {
    "duration": 8,
    "start_time": "2022-03-14T15:59:18.394Z"
   },
   {
    "duration": 56,
    "start_time": "2022-03-14T15:59:58.899Z"
   },
   {
    "duration": 13,
    "start_time": "2022-03-14T15:59:58.957Z"
   },
   {
    "duration": 11,
    "start_time": "2022-03-14T15:59:58.973Z"
   },
   {
    "duration": 21,
    "start_time": "2022-03-14T15:59:58.986Z"
   },
   {
    "duration": 5,
    "start_time": "2022-03-14T15:59:59.008Z"
   },
   {
    "duration": 28,
    "start_time": "2022-03-14T15:59:59.015Z"
   },
   {
    "duration": 14,
    "start_time": "2022-03-14T15:59:59.044Z"
   },
   {
    "duration": 4,
    "start_time": "2022-03-14T15:59:59.060Z"
   },
   {
    "duration": 35,
    "start_time": "2022-03-14T15:59:59.066Z"
   },
   {
    "duration": 5,
    "start_time": "2022-03-14T15:59:59.103Z"
   },
   {
    "duration": 6,
    "start_time": "2022-03-14T15:59:59.110Z"
   },
   {
    "duration": 6,
    "start_time": "2022-03-14T15:59:59.118Z"
   },
   {
    "duration": 18,
    "start_time": "2022-03-14T15:59:59.125Z"
   },
   {
    "duration": 18,
    "start_time": "2022-03-14T15:59:59.145Z"
   },
   {
    "duration": 42,
    "start_time": "2022-03-14T15:59:59.165Z"
   },
   {
    "duration": 5,
    "start_time": "2022-03-14T15:59:59.209Z"
   },
   {
    "duration": 3,
    "start_time": "2022-03-14T15:59:59.215Z"
   },
   {
    "duration": 10,
    "start_time": "2022-03-14T15:59:59.219Z"
   },
   {
    "duration": 20,
    "start_time": "2022-03-14T15:59:59.231Z"
   },
   {
    "duration": 53,
    "start_time": "2022-03-14T15:59:59.252Z"
   },
   {
    "duration": 28,
    "start_time": "2022-03-14T15:59:59.307Z"
   },
   {
    "duration": 5,
    "start_time": "2022-03-14T15:59:59.337Z"
   },
   {
    "duration": 3,
    "start_time": "2022-03-14T15:59:59.344Z"
   },
   {
    "duration": 4,
    "start_time": "2022-03-14T15:59:59.349Z"
   },
   {
    "duration": 10,
    "start_time": "2022-03-14T15:59:59.355Z"
   },
   {
    "duration": 34,
    "start_time": "2022-03-14T15:59:59.367Z"
   },
   {
    "duration": 13,
    "start_time": "2022-03-14T15:59:59.405Z"
   },
   {
    "duration": 7,
    "start_time": "2022-03-14T15:59:59.420Z"
   },
   {
    "duration": 9,
    "start_time": "2022-03-14T15:59:59.428Z"
   },
   {
    "duration": 17,
    "start_time": "2022-03-14T15:59:59.439Z"
   },
   {
    "duration": 5,
    "start_time": "2022-03-14T15:59:59.458Z"
   },
   {
    "duration": 41,
    "start_time": "2022-03-14T15:59:59.464Z"
   },
   {
    "duration": 6,
    "start_time": "2022-03-14T15:59:59.507Z"
   },
   {
    "duration": 9,
    "start_time": "2022-03-14T15:59:59.515Z"
   },
   {
    "duration": 11,
    "start_time": "2022-03-14T15:59:59.526Z"
   },
   {
    "duration": 6,
    "start_time": "2022-03-14T15:59:59.539Z"
   },
   {
    "duration": 12,
    "start_time": "2022-03-14T15:59:59.547Z"
   },
   {
    "duration": 20,
    "start_time": "2022-03-14T15:59:59.561Z"
   },
   {
    "duration": 8,
    "start_time": "2022-03-14T16:00:05.373Z"
   },
   {
    "duration": 306,
    "start_time": "2022-03-15T04:00:57.983Z"
   },
   {
    "duration": 596,
    "start_time": "2022-03-15T04:01:13.338Z"
   },
   {
    "duration": 11,
    "start_time": "2022-03-15T04:01:13.935Z"
   },
   {
    "duration": 10,
    "start_time": "2022-03-15T04:01:13.948Z"
   },
   {
    "duration": 6,
    "start_time": "2022-03-15T04:01:13.960Z"
   },
   {
    "duration": 14,
    "start_time": "2022-03-15T04:01:13.968Z"
   },
   {
    "duration": 24,
    "start_time": "2022-03-15T04:01:13.983Z"
   },
   {
    "duration": 11,
    "start_time": "2022-03-15T04:01:14.008Z"
   },
   {
    "duration": 3,
    "start_time": "2022-03-15T04:01:14.022Z"
   },
   {
    "duration": 9,
    "start_time": "2022-03-15T04:01:14.027Z"
   },
   {
    "duration": 4,
    "start_time": "2022-03-15T04:01:14.037Z"
   },
   {
    "duration": 6,
    "start_time": "2022-03-15T04:01:14.042Z"
   },
   {
    "duration": 34,
    "start_time": "2022-03-15T04:01:14.050Z"
   },
   {
    "duration": 11,
    "start_time": "2022-03-15T04:01:14.085Z"
   },
   {
    "duration": 16,
    "start_time": "2022-03-15T04:01:14.098Z"
   },
   {
    "duration": 11,
    "start_time": "2022-03-15T04:01:14.115Z"
   },
   {
    "duration": 4,
    "start_time": "2022-03-15T04:01:14.127Z"
   },
   {
    "duration": 5,
    "start_time": "2022-03-15T04:01:14.132Z"
   },
   {
    "duration": 5,
    "start_time": "2022-03-15T04:01:14.139Z"
   },
   {
    "duration": 40,
    "start_time": "2022-03-15T04:01:14.146Z"
   },
   {
    "duration": 21,
    "start_time": "2022-03-15T04:01:14.187Z"
   },
   {
    "duration": 26,
    "start_time": "2022-03-15T04:01:14.209Z"
   },
   {
    "duration": 4,
    "start_time": "2022-03-15T04:01:14.236Z"
   },
   {
    "duration": 4,
    "start_time": "2022-03-15T04:01:14.242Z"
   },
   {
    "duration": 7,
    "start_time": "2022-03-15T04:01:14.248Z"
   },
   {
    "duration": 25,
    "start_time": "2022-03-15T04:01:14.256Z"
   },
   {
    "duration": 6,
    "start_time": "2022-03-15T04:01:14.282Z"
   },
   {
    "duration": 13,
    "start_time": "2022-03-15T04:01:14.289Z"
   },
   {
    "duration": 5,
    "start_time": "2022-03-15T04:01:14.304Z"
   },
   {
    "duration": 8,
    "start_time": "2022-03-15T04:01:14.310Z"
   },
   {
    "duration": 11,
    "start_time": "2022-03-15T04:01:14.320Z"
   },
   {
    "duration": 4,
    "start_time": "2022-03-15T04:01:14.333Z"
   },
   {
    "duration": 16,
    "start_time": "2022-03-15T04:01:14.338Z"
   },
   {
    "duration": 27,
    "start_time": "2022-03-15T04:01:14.355Z"
   },
   {
    "duration": 7,
    "start_time": "2022-03-15T04:01:14.384Z"
   },
   {
    "duration": 55,
    "start_time": "2022-03-15T04:01:57.692Z"
   },
   {
    "duration": 57,
    "start_time": "2022-03-15T04:02:05.032Z"
   },
   {
    "duration": 12,
    "start_time": "2022-03-15T04:02:10.875Z"
   },
   {
    "duration": 55,
    "start_time": "2022-03-15T04:02:24.957Z"
   },
   {
    "duration": 11,
    "start_time": "2022-03-15T04:02:25.014Z"
   },
   {
    "duration": 13,
    "start_time": "2022-03-15T04:02:25.026Z"
   },
   {
    "duration": 7,
    "start_time": "2022-03-15T04:02:25.041Z"
   },
   {
    "duration": 2,
    "start_time": "2022-03-15T04:02:25.050Z"
   },
   {
    "duration": 45,
    "start_time": "2022-03-15T04:02:25.054Z"
   },
   {
    "duration": 11,
    "start_time": "2022-03-15T04:02:25.100Z"
   },
   {
    "duration": 3,
    "start_time": "2022-03-15T04:02:25.113Z"
   },
   {
    "duration": 12,
    "start_time": "2022-03-15T04:02:25.118Z"
   },
   {
    "duration": 4,
    "start_time": "2022-03-15T04:02:25.131Z"
   },
   {
    "duration": 4,
    "start_time": "2022-03-15T04:02:25.137Z"
   },
   {
    "duration": 39,
    "start_time": "2022-03-15T04:02:25.142Z"
   },
   {
    "duration": 10,
    "start_time": "2022-03-15T04:02:25.182Z"
   },
   {
    "duration": 17,
    "start_time": "2022-03-15T04:02:25.193Z"
   },
   {
    "duration": 11,
    "start_time": "2022-03-15T04:02:25.211Z"
   },
   {
    "duration": 6,
    "start_time": "2022-03-15T04:02:25.223Z"
   },
   {
    "duration": 7,
    "start_time": "2022-03-15T04:02:25.230Z"
   },
   {
    "duration": 8,
    "start_time": "2022-03-15T04:02:25.238Z"
   },
   {
    "duration": 33,
    "start_time": "2022-03-15T04:02:25.248Z"
   },
   {
    "duration": 21,
    "start_time": "2022-03-15T04:02:25.282Z"
   },
   {
    "duration": 25,
    "start_time": "2022-03-15T04:02:25.304Z"
   },
   {
    "duration": 4,
    "start_time": "2022-03-15T04:02:25.330Z"
   },
   {
    "duration": 5,
    "start_time": "2022-03-15T04:02:25.337Z"
   },
   {
    "duration": 6,
    "start_time": "2022-03-15T04:02:25.343Z"
   },
   {
    "duration": 6,
    "start_time": "2022-03-15T04:02:25.350Z"
   },
   {
    "duration": 4,
    "start_time": "2022-03-15T04:02:25.358Z"
   },
   {
    "duration": 17,
    "start_time": "2022-03-15T04:02:25.380Z"
   },
   {
    "duration": 6,
    "start_time": "2022-03-15T04:02:25.398Z"
   },
   {
    "duration": 6,
    "start_time": "2022-03-15T04:02:25.405Z"
   },
   {
    "duration": 12,
    "start_time": "2022-03-15T04:02:25.413Z"
   },
   {
    "duration": 5,
    "start_time": "2022-03-15T04:02:25.426Z"
   },
   {
    "duration": 17,
    "start_time": "2022-03-15T04:02:25.432Z"
   },
   {
    "duration": 9,
    "start_time": "2022-03-15T04:02:25.450Z"
   },
   {
    "duration": 22,
    "start_time": "2022-03-15T04:02:25.460Z"
   },
   {
    "duration": 13,
    "start_time": "2022-03-15T04:02:25.483Z"
   },
   {
    "duration": 5,
    "start_time": "2022-03-15T04:02:25.497Z"
   },
   {
    "duration": 12,
    "start_time": "2022-03-15T04:02:25.503Z"
   },
   {
    "duration": 16,
    "start_time": "2022-03-15T04:02:25.516Z"
   },
   {
    "duration": 8,
    "start_time": "2022-03-15T04:02:25.533Z"
   },
   {
    "duration": 5,
    "start_time": "2022-03-15T04:04:57.480Z"
   },
   {
    "duration": 10,
    "start_time": "2022-03-15T04:10:34.161Z"
   },
   {
    "duration": 11,
    "start_time": "2022-03-15T04:11:17.503Z"
   },
   {
    "duration": 65,
    "start_time": "2022-03-15T04:11:29.387Z"
   },
   {
    "duration": 10,
    "start_time": "2022-03-15T04:11:29.454Z"
   },
   {
    "duration": 10,
    "start_time": "2022-03-15T04:11:29.466Z"
   },
   {
    "duration": 6,
    "start_time": "2022-03-15T04:11:29.478Z"
   },
   {
    "duration": 3,
    "start_time": "2022-03-15T04:11:29.485Z"
   },
   {
    "duration": 22,
    "start_time": "2022-03-15T04:11:29.489Z"
   },
   {
    "duration": 11,
    "start_time": "2022-03-15T04:11:29.512Z"
   },
   {
    "duration": 3,
    "start_time": "2022-03-15T04:11:29.525Z"
   },
   {
    "duration": 10,
    "start_time": "2022-03-15T04:11:29.530Z"
   },
   {
    "duration": 4,
    "start_time": "2022-03-15T04:11:29.541Z"
   },
   {
    "duration": 38,
    "start_time": "2022-03-15T04:11:29.546Z"
   },
   {
    "duration": 11,
    "start_time": "2022-03-15T04:11:29.585Z"
   },
   {
    "duration": 10,
    "start_time": "2022-03-15T04:11:29.598Z"
   },
   {
    "duration": 16,
    "start_time": "2022-03-15T04:11:29.609Z"
   },
   {
    "duration": 10,
    "start_time": "2022-03-15T04:11:29.626Z"
   },
   {
    "duration": 5,
    "start_time": "2022-03-15T04:11:29.637Z"
   },
   {
    "duration": 3,
    "start_time": "2022-03-15T04:11:29.643Z"
   },
   {
    "duration": 4,
    "start_time": "2022-03-15T04:11:29.681Z"
   },
   {
    "duration": 17,
    "start_time": "2022-03-15T04:11:29.686Z"
   },
   {
    "duration": 22,
    "start_time": "2022-03-15T04:11:29.705Z"
   },
   {
    "duration": 26,
    "start_time": "2022-03-15T04:11:29.728Z"
   },
   {
    "duration": 25,
    "start_time": "2022-03-15T04:11:29.756Z"
   },
   {
    "duration": 3,
    "start_time": "2022-03-15T04:11:29.784Z"
   },
   {
    "duration": 8,
    "start_time": "2022-03-15T04:11:29.788Z"
   },
   {
    "duration": 7,
    "start_time": "2022-03-15T04:11:29.797Z"
   },
   {
    "duration": 4,
    "start_time": "2022-03-15T04:11:29.806Z"
   },
   {
    "duration": 15,
    "start_time": "2022-03-15T04:11:29.811Z"
   },
   {
    "duration": 5,
    "start_time": "2022-03-15T04:11:29.828Z"
   },
   {
    "duration": 6,
    "start_time": "2022-03-15T04:11:29.835Z"
   },
   {
    "duration": 12,
    "start_time": "2022-03-15T04:11:29.842Z"
   },
   {
    "duration": 4,
    "start_time": "2022-03-15T04:11:29.856Z"
   },
   {
    "duration": 14,
    "start_time": "2022-03-15T04:11:29.881Z"
   },
   {
    "duration": 5,
    "start_time": "2022-03-15T04:11:29.896Z"
   },
   {
    "duration": 8,
    "start_time": "2022-03-15T04:11:29.902Z"
   },
   {
    "duration": 12,
    "start_time": "2022-03-15T04:11:29.911Z"
   },
   {
    "duration": 4,
    "start_time": "2022-03-15T04:11:29.924Z"
   },
   {
    "duration": 7,
    "start_time": "2022-03-15T04:11:29.929Z"
   },
   {
    "duration": 7,
    "start_time": "2022-03-15T04:11:29.937Z"
   },
   {
    "duration": 41,
    "start_time": "2022-03-15T04:11:29.945Z"
   },
   {
    "duration": 6,
    "start_time": "2022-03-15T04:11:29.987Z"
   },
   {
    "duration": 10,
    "start_time": "2022-03-15T04:12:24.857Z"
   },
   {
    "duration": 53,
    "start_time": "2022-03-15T04:12:31.644Z"
   },
   {
    "duration": 55,
    "start_time": "2022-03-15T04:12:41.020Z"
   },
   {
    "duration": 55,
    "start_time": "2022-03-15T04:12:56.703Z"
   },
   {
    "duration": 11,
    "start_time": "2022-03-15T04:12:56.759Z"
   },
   {
    "duration": 10,
    "start_time": "2022-03-15T04:12:56.772Z"
   },
   {
    "duration": 6,
    "start_time": "2022-03-15T04:12:56.783Z"
   },
   {
    "duration": 2,
    "start_time": "2022-03-15T04:12:56.791Z"
   },
   {
    "duration": 19,
    "start_time": "2022-03-15T04:12:56.795Z"
   },
   {
    "duration": 11,
    "start_time": "2022-03-15T04:12:56.816Z"
   },
   {
    "duration": 4,
    "start_time": "2022-03-15T04:12:56.829Z"
   },
   {
    "duration": 47,
    "start_time": "2022-03-15T04:12:56.834Z"
   },
   {
    "duration": 4,
    "start_time": "2022-03-15T04:12:56.882Z"
   },
   {
    "duration": 6,
    "start_time": "2022-03-15T04:12:56.888Z"
   },
   {
    "duration": 10,
    "start_time": "2022-03-15T04:12:56.895Z"
   },
   {
    "duration": 10,
    "start_time": "2022-03-15T04:12:56.906Z"
   },
   {
    "duration": 16,
    "start_time": "2022-03-15T04:12:56.917Z"
   },
   {
    "duration": 7,
    "start_time": "2022-03-15T04:12:56.934Z"
   },
   {
    "duration": 41,
    "start_time": "2022-03-15T04:12:56.943Z"
   },
   {
    "duration": 2,
    "start_time": "2022-03-15T04:12:56.985Z"
   },
   {
    "duration": 8,
    "start_time": "2022-03-15T04:12:56.989Z"
   },
   {
    "duration": 15,
    "start_time": "2022-03-15T04:12:56.998Z"
   },
   {
    "duration": 20,
    "start_time": "2022-03-15T04:12:57.014Z"
   },
   {
    "duration": 45,
    "start_time": "2022-03-15T04:12:57.036Z"
   },
   {
    "duration": 5,
    "start_time": "2022-03-15T04:12:57.082Z"
   },
   {
    "duration": 2,
    "start_time": "2022-03-15T04:12:57.090Z"
   },
   {
    "duration": 10,
    "start_time": "2022-03-15T04:12:57.094Z"
   },
   {
    "duration": 7,
    "start_time": "2022-03-15T04:12:57.105Z"
   },
   {
    "duration": 4,
    "start_time": "2022-03-15T04:12:57.113Z"
   },
   {
    "duration": 13,
    "start_time": "2022-03-15T04:12:57.119Z"
   },
   {
    "duration": 6,
    "start_time": "2022-03-15T04:12:57.134Z"
   },
   {
    "duration": 7,
    "start_time": "2022-03-15T04:12:57.141Z"
   },
   {
    "duration": 36,
    "start_time": "2022-03-15T04:12:57.150Z"
   },
   {
    "duration": 5,
    "start_time": "2022-03-15T04:12:57.187Z"
   },
   {
    "duration": 17,
    "start_time": "2022-03-15T04:12:57.194Z"
   },
   {
    "duration": 5,
    "start_time": "2022-03-15T04:12:57.213Z"
   },
   {
    "duration": 7,
    "start_time": "2022-03-15T04:12:57.219Z"
   },
   {
    "duration": 13,
    "start_time": "2022-03-15T04:12:57.227Z"
   },
   {
    "duration": 6,
    "start_time": "2022-03-15T04:12:57.241Z"
   },
   {
    "duration": 5,
    "start_time": "2022-03-15T04:12:57.248Z"
   },
   {
    "duration": 28,
    "start_time": "2022-03-15T04:12:57.254Z"
   },
   {
    "duration": 16,
    "start_time": "2022-03-15T04:13:02.753Z"
   },
   {
    "duration": 6,
    "start_time": "2022-03-15T04:13:11.567Z"
   },
   {
    "duration": 6,
    "start_time": "2022-03-15T04:18:47.840Z"
   },
   {
    "duration": 3756,
    "start_time": "2022-03-15T04:19:50.558Z"
   },
   {
    "duration": 742,
    "start_time": "2022-03-15T04:20:08.139Z"
   },
   {
    "duration": 5424,
    "start_time": "2022-03-15T04:27:58.440Z"
   },
   {
    "duration": 5336,
    "start_time": "2022-03-15T04:33:57.527Z"
   },
   {
    "duration": 5272,
    "start_time": "2022-03-15T04:34:31.551Z"
   },
   {
    "duration": 8,
    "start_time": "2022-03-15T04:40:07.046Z"
   },
   {
    "duration": 27,
    "start_time": "2022-03-15T04:47:33.633Z"
   },
   {
    "duration": 10,
    "start_time": "2022-03-15T04:47:36.756Z"
   },
   {
    "duration": 55,
    "start_time": "2022-03-15T04:48:04.101Z"
   },
   {
    "duration": 12,
    "start_time": "2022-03-15T04:48:04.157Z"
   },
   {
    "duration": 13,
    "start_time": "2022-03-15T04:48:04.171Z"
   },
   {
    "duration": 6,
    "start_time": "2022-03-15T04:48:04.186Z"
   },
   {
    "duration": 2,
    "start_time": "2022-03-15T04:48:04.194Z"
   },
   {
    "duration": 27,
    "start_time": "2022-03-15T04:48:04.197Z"
   },
   {
    "duration": 12,
    "start_time": "2022-03-15T04:48:04.225Z"
   },
   {
    "duration": 7,
    "start_time": "2022-03-15T04:48:04.239Z"
   },
   {
    "duration": 10,
    "start_time": "2022-03-15T04:48:04.247Z"
   },
   {
    "duration": 26,
    "start_time": "2022-03-15T04:48:04.259Z"
   },
   {
    "duration": 4,
    "start_time": "2022-03-15T04:48:04.321Z"
   },
   {
    "duration": 11,
    "start_time": "2022-03-15T04:48:04.327Z"
   },
   {
    "duration": 12,
    "start_time": "2022-03-15T04:48:04.531Z"
   },
   {
    "duration": 17,
    "start_time": "2022-03-15T04:48:04.545Z"
   },
   {
    "duration": 7,
    "start_time": "2022-03-15T04:48:04.564Z"
   },
   {
    "duration": 8,
    "start_time": "2022-03-15T04:48:04.573Z"
   },
   {
    "duration": 14,
    "start_time": "2022-03-15T04:48:04.583Z"
   },
   {
    "duration": 7,
    "start_time": "2022-03-15T04:48:04.599Z"
   },
   {
    "duration": 18,
    "start_time": "2022-03-15T04:48:04.607Z"
   },
   {
    "duration": 20,
    "start_time": "2022-03-15T04:48:04.627Z"
   },
   {
    "duration": 37,
    "start_time": "2022-03-15T04:48:04.649Z"
   },
   {
    "duration": 8,
    "start_time": "2022-03-15T04:48:04.688Z"
   },
   {
    "duration": 7,
    "start_time": "2022-03-15T04:48:04.698Z"
   },
   {
    "duration": 9,
    "start_time": "2022-03-15T04:48:04.706Z"
   },
   {
    "duration": 17,
    "start_time": "2022-03-15T04:48:04.716Z"
   },
   {
    "duration": 6,
    "start_time": "2022-03-15T04:48:04.734Z"
   },
   {
    "duration": 17,
    "start_time": "2022-03-15T04:48:04.741Z"
   },
   {
    "duration": 5,
    "start_time": "2022-03-15T04:48:04.781Z"
   },
   {
    "duration": 9,
    "start_time": "2022-03-15T04:48:04.788Z"
   },
   {
    "duration": 11,
    "start_time": "2022-03-15T04:48:04.798Z"
   },
   {
    "duration": 6,
    "start_time": "2022-03-15T04:48:04.810Z"
   },
   {
    "duration": 5,
    "start_time": "2022-03-15T04:48:04.817Z"
   },
   {
    "duration": 8,
    "start_time": "2022-03-15T04:48:04.823Z"
   },
   {
    "duration": 21,
    "start_time": "2022-03-15T04:48:04.832Z"
   },
   {
    "duration": 7,
    "start_time": "2022-03-15T04:48:09.512Z"
   },
   {
    "duration": 5,
    "start_time": "2022-03-15T04:53:41.481Z"
   },
   {
    "duration": 15,
    "start_time": "2022-03-15T04:56:59.278Z"
   },
   {
    "duration": 8,
    "start_time": "2022-03-15T04:57:21.584Z"
   },
   {
    "duration": 10,
    "start_time": "2022-03-15T05:11:32.880Z"
   },
   {
    "duration": 17,
    "start_time": "2022-03-15T05:42:37.088Z"
   },
   {
    "duration": 11,
    "start_time": "2022-03-15T05:48:37.713Z"
   },
   {
    "duration": 100,
    "start_time": "2022-03-15T05:50:29.164Z"
   },
   {
    "duration": 92,
    "start_time": "2022-03-15T05:50:52.149Z"
   },
   {
    "duration": 21,
    "start_time": "2022-03-15T05:51:26.525Z"
   },
   {
    "duration": 1785,
    "start_time": "2022-03-15T05:52:19.796Z"
   },
   {
    "duration": 19,
    "start_time": "2022-03-15T05:53:04.555Z"
   },
   {
    "duration": 6,
    "start_time": "2022-03-15T05:54:26.622Z"
   },
   {
    "duration": 284,
    "start_time": "2022-03-15T05:54:59.950Z"
   },
   {
    "duration": 295,
    "start_time": "2022-03-15T05:55:10.308Z"
   },
   {
    "duration": 12,
    "start_time": "2022-03-15T05:56:37.104Z"
   },
   {
    "duration": 7,
    "start_time": "2022-03-15T06:10:06.267Z"
   },
   {
    "duration": 3,
    "start_time": "2022-03-15T06:11:48.978Z"
   },
   {
    "duration": 4,
    "start_time": "2022-03-15T06:12:08.334Z"
   },
   {
    "duration": 275,
    "start_time": "2022-03-15T06:13:38.911Z"
   },
   {
    "duration": 5,
    "start_time": "2022-03-15T06:13:54.486Z"
   },
   {
    "duration": 5,
    "start_time": "2022-03-15T06:16:40.934Z"
   },
   {
    "duration": 6,
    "start_time": "2022-03-15T06:18:26.624Z"
   },
   {
    "duration": 4,
    "start_time": "2022-03-15T06:20:56.211Z"
   },
   {
    "duration": 4,
    "start_time": "2022-03-15T06:21:25.817Z"
   },
   {
    "duration": 6,
    "start_time": "2022-03-15T06:24:08.496Z"
   },
   {
    "duration": 292,
    "start_time": "2022-03-15T06:27:47.691Z"
   },
   {
    "duration": 338,
    "start_time": "2022-03-15T06:29:22.413Z"
   },
   {
    "duration": 325,
    "start_time": "2022-03-15T06:30:04.818Z"
   },
   {
    "duration": 361,
    "start_time": "2022-03-15T06:34:30.739Z"
   },
   {
    "duration": 871,
    "start_time": "2022-03-15T06:35:05.235Z"
   },
   {
    "duration": 409,
    "start_time": "2022-03-15T06:35:43.397Z"
   },
   {
    "duration": 8,
    "start_time": "2022-03-15T06:36:36.943Z"
   },
   {
    "duration": 6,
    "start_time": "2022-03-15T06:37:02.893Z"
   },
   {
    "duration": 11,
    "start_time": "2022-03-15T06:37:28.539Z"
   },
   {
    "duration": 18,
    "start_time": "2022-03-15T08:13:25.014Z"
   },
   {
    "duration": 100,
    "start_time": "2022-03-15T08:14:22.968Z"
   },
   {
    "duration": 19,
    "start_time": "2022-03-15T08:14:30.816Z"
   },
   {
    "duration": 5,
    "start_time": "2022-03-15T08:21:26.844Z"
   },
   {
    "duration": 12,
    "start_time": "2022-03-15T08:24:49.625Z"
   },
   {
    "duration": 8,
    "start_time": "2022-03-15T08:25:57.302Z"
   },
   {
    "duration": 13,
    "start_time": "2022-03-15T08:34:37.983Z"
   },
   {
    "duration": 15,
    "start_time": "2022-03-15T08:34:51.690Z"
   },
   {
    "duration": 9,
    "start_time": "2022-03-15T08:35:57.357Z"
   },
   {
    "duration": 6,
    "start_time": "2022-03-15T08:53:54.102Z"
   },
   {
    "duration": 6,
    "start_time": "2022-03-15T08:55:34.959Z"
   },
   {
    "duration": 8,
    "start_time": "2022-03-15T09:04:42.130Z"
   },
   {
    "duration": 11,
    "start_time": "2022-03-15T09:16:30.943Z"
   },
   {
    "duration": 11,
    "start_time": "2022-03-15T09:17:58.209Z"
   },
   {
    "duration": 682,
    "start_time": "2022-03-15T13:19:01.763Z"
   },
   {
    "duration": 345,
    "start_time": "2022-03-15T13:19:22.468Z"
   },
   {
    "duration": 787,
    "start_time": "2022-03-15T13:19:30.893Z"
   },
   {
    "duration": 27,
    "start_time": "2022-03-15T13:19:31.682Z"
   },
   {
    "duration": 40,
    "start_time": "2022-03-15T13:19:31.712Z"
   },
   {
    "duration": 38,
    "start_time": "2022-03-15T13:19:31.755Z"
   },
   {
    "duration": 61,
    "start_time": "2022-03-15T13:19:31.796Z"
   },
   {
    "duration": 36,
    "start_time": "2022-03-15T13:19:31.859Z"
   },
   {
    "duration": 19,
    "start_time": "2022-03-15T13:19:31.897Z"
   },
   {
    "duration": 24,
    "start_time": "2022-03-15T13:19:31.919Z"
   },
   {
    "duration": 17,
    "start_time": "2022-03-15T13:19:31.946Z"
   },
   {
    "duration": 10,
    "start_time": "2022-03-15T13:19:31.965Z"
   },
   {
    "duration": 10,
    "start_time": "2022-03-15T13:19:31.977Z"
   },
   {
    "duration": 27,
    "start_time": "2022-03-15T13:19:31.989Z"
   },
   {
    "duration": 16,
    "start_time": "2022-03-15T13:19:32.019Z"
   },
   {
    "duration": 29,
    "start_time": "2022-03-15T13:19:32.037Z"
   },
   {
    "duration": 17,
    "start_time": "2022-03-15T13:19:32.068Z"
   },
   {
    "duration": 21,
    "start_time": "2022-03-15T13:19:32.087Z"
   },
   {
    "duration": 32,
    "start_time": "2022-03-15T13:19:32.110Z"
   },
   {
    "duration": 7,
    "start_time": "2022-03-15T13:19:32.144Z"
   },
   {
    "duration": 21,
    "start_time": "2022-03-15T13:19:32.153Z"
   },
   {
    "duration": 51,
    "start_time": "2022-03-15T13:19:32.176Z"
   },
   {
    "duration": 37,
    "start_time": "2022-03-15T13:19:32.229Z"
   },
   {
    "duration": 34,
    "start_time": "2022-03-15T13:19:32.269Z"
   },
   {
    "duration": 10,
    "start_time": "2022-03-15T13:19:32.307Z"
   },
   {
    "duration": 26,
    "start_time": "2022-03-15T13:19:32.319Z"
   },
   {
    "duration": 46,
    "start_time": "2022-03-15T13:19:32.347Z"
   },
   {
    "duration": 13,
    "start_time": "2022-03-15T13:19:32.395Z"
   },
   {
    "duration": 37,
    "start_time": "2022-03-15T13:19:32.411Z"
   },
   {
    "duration": 7,
    "start_time": "2022-03-15T13:19:32.450Z"
   },
   {
    "duration": 12,
    "start_time": "2022-03-15T13:19:32.460Z"
   },
   {
    "duration": 14,
    "start_time": "2022-03-15T13:19:32.475Z"
   },
   {
    "duration": 14,
    "start_time": "2022-03-15T13:19:32.491Z"
   },
   {
    "duration": 35,
    "start_time": "2022-03-15T13:19:32.507Z"
   },
   {
    "duration": 14,
    "start_time": "2022-03-15T13:19:32.545Z"
   },
   {
    "duration": 9,
    "start_time": "2022-03-15T13:19:32.561Z"
   },
   {
    "duration": 20,
    "start_time": "2022-03-15T13:19:32.572Z"
   },
   {
    "duration": 16,
    "start_time": "2022-03-15T13:19:32.594Z"
   },
   {
    "duration": 50,
    "start_time": "2022-03-15T13:19:32.612Z"
   },
   {
    "duration": 26,
    "start_time": "2022-03-15T13:19:32.664Z"
   },
   {
    "duration": 44,
    "start_time": "2022-03-15T13:19:32.692Z"
   },
   {
    "duration": 7,
    "start_time": "2022-03-15T14:05:08.228Z"
   },
   {
    "duration": 15,
    "start_time": "2022-03-15T16:45:25.965Z"
   },
   {
    "duration": 80,
    "start_time": "2022-03-15T17:01:58.798Z"
   },
   {
    "duration": 97,
    "start_time": "2022-03-15T17:02:05.954Z"
   },
   {
    "duration": 11,
    "start_time": "2022-03-15T17:02:19.433Z"
   },
   {
    "duration": 10,
    "start_time": "2022-03-15T17:03:09.531Z"
   },
   {
    "duration": 10,
    "start_time": "2022-03-15T17:05:50.920Z"
   },
   {
    "duration": 76,
    "start_time": "2022-03-15T17:06:21.597Z"
   },
   {
    "duration": 84,
    "start_time": "2022-03-15T17:06:37.242Z"
   },
   {
    "duration": 78,
    "start_time": "2022-03-15T17:07:10.577Z"
   },
   {
    "duration": 9,
    "start_time": "2022-03-15T17:07:20.211Z"
   },
   {
    "duration": 370,
    "start_time": "2022-03-16T02:57:38.684Z"
   },
   {
    "duration": 883,
    "start_time": "2022-03-16T02:58:00.636Z"
   },
   {
    "duration": 28,
    "start_time": "2022-03-16T02:58:01.521Z"
   },
   {
    "duration": 22,
    "start_time": "2022-03-16T02:58:01.553Z"
   },
   {
    "duration": 16,
    "start_time": "2022-03-16T02:58:01.578Z"
   },
   {
    "duration": 14,
    "start_time": "2022-03-16T02:58:01.597Z"
   },
   {
    "duration": 66,
    "start_time": "2022-03-16T02:58:01.613Z"
   },
   {
    "duration": 21,
    "start_time": "2022-03-16T02:58:01.682Z"
   },
   {
    "duration": 11,
    "start_time": "2022-03-16T02:58:01.706Z"
   },
   {
    "duration": 13,
    "start_time": "2022-03-16T02:58:01.743Z"
   },
   {
    "duration": 6,
    "start_time": "2022-03-16T02:58:01.759Z"
   },
   {
    "duration": 17,
    "start_time": "2022-03-16T02:58:01.767Z"
   },
   {
    "duration": 22,
    "start_time": "2022-03-16T02:58:01.786Z"
   },
   {
    "duration": 44,
    "start_time": "2022-03-16T02:58:01.810Z"
   },
   {
    "duration": 37,
    "start_time": "2022-03-16T02:58:01.857Z"
   },
   {
    "duration": 39,
    "start_time": "2022-03-16T02:58:01.896Z"
   },
   {
    "duration": 33,
    "start_time": "2022-03-16T02:58:01.937Z"
   },
   {
    "duration": 25,
    "start_time": "2022-03-16T02:58:01.972Z"
   },
   {
    "duration": 16,
    "start_time": "2022-03-16T02:58:02.000Z"
   },
   {
    "duration": 37,
    "start_time": "2022-03-16T02:58:02.018Z"
   },
   {
    "duration": 36,
    "start_time": "2022-03-16T02:58:02.057Z"
   },
   {
    "duration": 67,
    "start_time": "2022-03-16T02:58:02.096Z"
   },
   {
    "duration": 8,
    "start_time": "2022-03-16T02:58:02.165Z"
   },
   {
    "duration": 24,
    "start_time": "2022-03-16T02:58:02.178Z"
   },
   {
    "duration": 31,
    "start_time": "2022-03-16T02:58:02.205Z"
   },
   {
    "duration": 26,
    "start_time": "2022-03-16T02:58:02.239Z"
   },
   {
    "duration": 35,
    "start_time": "2022-03-16T02:58:02.268Z"
   },
   {
    "duration": 21,
    "start_time": "2022-03-16T02:58:02.306Z"
   },
   {
    "duration": 23,
    "start_time": "2022-03-16T02:58:02.329Z"
   },
   {
    "duration": 23,
    "start_time": "2022-03-16T02:58:02.355Z"
   },
   {
    "duration": 26,
    "start_time": "2022-03-16T02:58:02.381Z"
   },
   {
    "duration": 29,
    "start_time": "2022-03-16T02:58:02.410Z"
   },
   {
    "duration": 12,
    "start_time": "2022-03-16T02:58:02.442Z"
   },
   {
    "duration": 22,
    "start_time": "2022-03-16T02:58:02.456Z"
   },
   {
    "duration": 18,
    "start_time": "2022-03-16T02:58:07.076Z"
   },
   {
    "duration": 14,
    "start_time": "2022-03-16T02:59:45.597Z"
   },
   {
    "duration": 15,
    "start_time": "2022-03-16T03:01:03.929Z"
   },
   {
    "duration": 8,
    "start_time": "2022-03-16T03:05:12.892Z"
   },
   {
    "duration": 8,
    "start_time": "2022-03-16T03:05:58.062Z"
   },
   {
    "duration": 8,
    "start_time": "2022-03-16T03:06:02.544Z"
   },
   {
    "duration": 82,
    "start_time": "2022-03-16T03:06:56.913Z"
   },
   {
    "duration": 20,
    "start_time": "2022-03-16T03:06:56.998Z"
   },
   {
    "duration": 14,
    "start_time": "2022-03-16T03:06:57.044Z"
   },
   {
    "duration": 10,
    "start_time": "2022-03-16T03:06:57.061Z"
   },
   {
    "duration": 5,
    "start_time": "2022-03-16T03:06:57.074Z"
   },
   {
    "duration": 87,
    "start_time": "2022-03-16T03:06:57.081Z"
   },
   {
    "duration": 22,
    "start_time": "2022-03-16T03:06:57.170Z"
   },
   {
    "duration": 5,
    "start_time": "2022-03-16T03:06:57.196Z"
   },
   {
    "duration": 42,
    "start_time": "2022-03-16T03:06:57.204Z"
   },
   {
    "duration": 7,
    "start_time": "2022-03-16T03:06:57.248Z"
   },
   {
    "duration": 7,
    "start_time": "2022-03-16T03:06:57.258Z"
   },
   {
    "duration": 17,
    "start_time": "2022-03-16T03:06:57.267Z"
   },
   {
    "duration": 57,
    "start_time": "2022-03-16T03:06:57.286Z"
   },
   {
    "duration": 29,
    "start_time": "2022-03-16T03:06:57.346Z"
   },
   {
    "duration": 11,
    "start_time": "2022-03-16T03:06:57.378Z"
   },
   {
    "duration": 7,
    "start_time": "2022-03-16T03:06:57.392Z"
   },
   {
    "duration": 51,
    "start_time": "2022-03-16T03:06:57.402Z"
   },
   {
    "duration": 9,
    "start_time": "2022-03-16T03:06:57.456Z"
   },
   {
    "duration": 31,
    "start_time": "2022-03-16T03:06:57.468Z"
   },
   {
    "duration": 72,
    "start_time": "2022-03-16T03:06:57.502Z"
   },
   {
    "duration": 67,
    "start_time": "2022-03-16T03:06:57.577Z"
   },
   {
    "duration": 12,
    "start_time": "2022-03-16T03:06:57.647Z"
   },
   {
    "duration": 8,
    "start_time": "2022-03-16T03:06:57.666Z"
   },
   {
    "duration": 21,
    "start_time": "2022-03-16T03:06:57.678Z"
   },
   {
    "duration": 7,
    "start_time": "2022-03-16T03:06:57.743Z"
   },
   {
    "duration": 29,
    "start_time": "2022-03-16T03:06:57.753Z"
   },
   {
    "duration": 9,
    "start_time": "2022-03-16T03:06:57.785Z"
   },
   {
    "duration": 11,
    "start_time": "2022-03-16T03:06:57.797Z"
   },
   {
    "duration": 9,
    "start_time": "2022-03-16T03:06:57.844Z"
   },
   {
    "duration": 7,
    "start_time": "2022-03-16T03:06:57.855Z"
   },
   {
    "duration": 24,
    "start_time": "2022-03-16T03:06:57.865Z"
   },
   {
    "duration": 52,
    "start_time": "2022-03-16T03:06:57.891Z"
   },
   {
    "duration": 7,
    "start_time": "2022-03-16T03:06:57.946Z"
   },
   {
    "duration": 9,
    "start_time": "2022-03-16T03:06:57.956Z"
   },
   {
    "duration": 14,
    "start_time": "2022-03-16T03:06:57.968Z"
   },
   {
    "duration": 9,
    "start_time": "2022-03-16T03:06:57.985Z"
   },
   {
    "duration": 52,
    "start_time": "2022-03-16T03:06:57.996Z"
   },
   {
    "duration": 22,
    "start_time": "2022-03-16T03:06:58.051Z"
   },
   {
    "duration": 8,
    "start_time": "2022-03-16T03:07:16.377Z"
   },
   {
    "duration": 356,
    "start_time": "2022-03-16T03:08:04.276Z"
   },
   {
    "duration": 8,
    "start_time": "2022-03-16T03:09:39.053Z"
   },
   {
    "duration": 15,
    "start_time": "2022-03-16T03:14:06.033Z"
   },
   {
    "duration": 15,
    "start_time": "2022-03-16T03:16:15.926Z"
   },
   {
    "duration": 14,
    "start_time": "2022-03-16T03:16:38.597Z"
   },
   {
    "duration": 14,
    "start_time": "2022-03-16T03:23:47.199Z"
   },
   {
    "duration": 127,
    "start_time": "2022-03-16T03:25:28.989Z"
   },
   {
    "duration": 110,
    "start_time": "2022-03-16T03:27:26.912Z"
   },
   {
    "duration": 7,
    "start_time": "2022-03-16T03:28:21.233Z"
   },
   {
    "duration": 9,
    "start_time": "2022-03-16T03:29:14.279Z"
   },
   {
    "duration": 13,
    "start_time": "2022-03-16T03:29:37.987Z"
   },
   {
    "duration": 342,
    "start_time": "2022-03-16T03:53:32.220Z"
   },
   {
    "duration": 54,
    "start_time": "2022-03-16T03:58:30.515Z"
   },
   {
    "duration": 41,
    "start_time": "2022-03-16T03:59:32.812Z"
   },
   {
    "duration": 105,
    "start_time": "2022-03-16T04:19:56.712Z"
   },
   {
    "duration": 323,
    "start_time": "2022-03-16T04:33:10.118Z"
   },
   {
    "duration": 756,
    "start_time": "2022-03-16T04:36:05.356Z"
   },
   {
    "duration": 99,
    "start_time": "2022-03-16T04:36:36.614Z"
   },
   {
    "duration": 142,
    "start_time": "2022-03-16T04:37:07.706Z"
   },
   {
    "duration": 114,
    "start_time": "2022-03-16T04:37:18.599Z"
   },
   {
    "duration": 109,
    "start_time": "2022-03-16T04:37:44.707Z"
   },
   {
    "duration": 104,
    "start_time": "2022-03-16T04:37:56.962Z"
   },
   {
    "duration": 105,
    "start_time": "2022-03-16T04:38:53.477Z"
   },
   {
    "duration": 124,
    "start_time": "2022-03-16T04:41:41.545Z"
   },
   {
    "duration": 114,
    "start_time": "2022-03-16T04:42:30.235Z"
   },
   {
    "duration": 349,
    "start_time": "2022-03-16T04:42:38.855Z"
   },
   {
    "duration": 332,
    "start_time": "2022-03-16T04:43:59.308Z"
   },
   {
    "duration": 103,
    "start_time": "2022-03-16T04:54:54.337Z"
   },
   {
    "duration": 90,
    "start_time": "2022-03-16T05:37:30.744Z"
   },
   {
    "duration": 19,
    "start_time": "2022-03-16T05:37:30.844Z"
   },
   {
    "duration": 19,
    "start_time": "2022-03-16T05:37:30.866Z"
   },
   {
    "duration": 11,
    "start_time": "2022-03-16T05:37:30.888Z"
   },
   {
    "duration": 5,
    "start_time": "2022-03-16T05:37:30.943Z"
   },
   {
    "duration": 57,
    "start_time": "2022-03-16T05:37:30.950Z"
   },
   {
    "duration": 35,
    "start_time": "2022-03-16T05:37:31.010Z"
   },
   {
    "duration": 12,
    "start_time": "2022-03-16T05:37:31.050Z"
   },
   {
    "duration": 21,
    "start_time": "2022-03-16T05:37:31.065Z"
   },
   {
    "duration": 6,
    "start_time": "2022-03-16T05:37:31.089Z"
   },
   {
    "duration": 7,
    "start_time": "2022-03-16T05:37:31.097Z"
   },
   {
    "duration": 50,
    "start_time": "2022-03-16T05:37:31.106Z"
   },
   {
    "duration": 17,
    "start_time": "2022-03-16T05:37:31.159Z"
   },
   {
    "duration": 31,
    "start_time": "2022-03-16T05:37:31.179Z"
   },
   {
    "duration": 13,
    "start_time": "2022-03-16T05:37:31.245Z"
   },
   {
    "duration": 11,
    "start_time": "2022-03-16T05:37:31.262Z"
   },
   {
    "duration": 12,
    "start_time": "2022-03-16T05:37:31.275Z"
   },
   {
    "duration": 57,
    "start_time": "2022-03-16T05:37:31.290Z"
   },
   {
    "duration": 34,
    "start_time": "2022-03-16T05:37:31.349Z"
   },
   {
    "duration": 37,
    "start_time": "2022-03-16T05:37:31.385Z"
   },
   {
    "duration": 44,
    "start_time": "2022-03-16T05:37:31.443Z"
   },
   {
    "duration": 10,
    "start_time": "2022-03-16T05:37:31.490Z"
   },
   {
    "duration": 41,
    "start_time": "2022-03-16T05:37:31.504Z"
   },
   {
    "duration": 22,
    "start_time": "2022-03-16T05:37:31.548Z"
   },
   {
    "duration": 7,
    "start_time": "2022-03-16T05:37:31.572Z"
   },
   {
    "duration": 29,
    "start_time": "2022-03-16T05:37:31.581Z"
   },
   {
    "duration": 38,
    "start_time": "2022-03-16T05:37:31.612Z"
   },
   {
    "duration": 11,
    "start_time": "2022-03-16T05:37:31.654Z"
   },
   {
    "duration": 15,
    "start_time": "2022-03-16T05:37:31.667Z"
   },
   {
    "duration": 14,
    "start_time": "2022-03-16T05:37:31.684Z"
   },
   {
    "duration": 53,
    "start_time": "2022-03-16T05:37:31.700Z"
   },
   {
    "duration": 12,
    "start_time": "2022-03-16T05:37:31.755Z"
   },
   {
    "duration": 7,
    "start_time": "2022-03-16T05:37:31.769Z"
   },
   {
    "duration": 10,
    "start_time": "2022-03-16T05:37:31.778Z"
   },
   {
    "duration": 57,
    "start_time": "2022-03-16T05:37:31.790Z"
   },
   {
    "duration": 12,
    "start_time": "2022-03-16T05:37:31.849Z"
   },
   {
    "duration": 9,
    "start_time": "2022-03-16T05:37:31.864Z"
   },
   {
    "duration": 9,
    "start_time": "2022-03-16T05:37:31.875Z"
   },
   {
    "duration": 469,
    "start_time": "2022-03-26T19:18:47.397Z"
   },
   {
    "duration": 12,
    "start_time": "2022-03-26T19:18:47.868Z"
   },
   {
    "duration": 31,
    "start_time": "2022-03-26T19:18:47.881Z"
   },
   {
    "duration": 7,
    "start_time": "2022-03-26T19:18:47.913Z"
   },
   {
    "duration": 14,
    "start_time": "2022-03-26T19:18:47.921Z"
   },
   {
    "duration": 31,
    "start_time": "2022-03-26T19:18:47.936Z"
   },
   {
    "duration": 12,
    "start_time": "2022-03-26T19:18:47.969Z"
   },
   {
    "duration": 5,
    "start_time": "2022-03-26T19:18:47.983Z"
   },
   {
    "duration": 18,
    "start_time": "2022-03-26T19:18:47.989Z"
   },
   {
    "duration": 4,
    "start_time": "2022-03-26T19:18:48.011Z"
   },
   {
    "duration": 11,
    "start_time": "2022-03-26T19:18:48.017Z"
   },
   {
    "duration": 19,
    "start_time": "2022-03-26T19:18:48.030Z"
   },
   {
    "duration": 19,
    "start_time": "2022-03-26T19:18:48.051Z"
   },
   {
    "duration": 34,
    "start_time": "2022-03-26T19:18:48.071Z"
   },
   {
    "duration": 74,
    "start_time": "2022-03-26T19:18:48.107Z"
   },
   {
    "duration": 0,
    "start_time": "2022-03-26T19:18:48.184Z"
   },
   {
    "duration": 0,
    "start_time": "2022-03-26T19:18:48.185Z"
   },
   {
    "duration": 0,
    "start_time": "2022-03-26T19:18:48.186Z"
   },
   {
    "duration": 0,
    "start_time": "2022-03-26T19:18:48.188Z"
   },
   {
    "duration": 0,
    "start_time": "2022-03-26T19:18:48.201Z"
   },
   {
    "duration": 0,
    "start_time": "2022-03-26T19:18:48.202Z"
   },
   {
    "duration": 0,
    "start_time": "2022-03-26T19:18:48.203Z"
   },
   {
    "duration": 0,
    "start_time": "2022-03-26T19:18:48.204Z"
   },
   {
    "duration": 0,
    "start_time": "2022-03-26T19:18:48.205Z"
   },
   {
    "duration": 0,
    "start_time": "2022-03-26T19:18:48.206Z"
   },
   {
    "duration": 0,
    "start_time": "2022-03-26T19:18:48.207Z"
   },
   {
    "duration": 0,
    "start_time": "2022-03-26T19:18:48.208Z"
   },
   {
    "duration": 0,
    "start_time": "2022-03-26T19:18:48.209Z"
   },
   {
    "duration": 0,
    "start_time": "2022-03-26T19:18:48.210Z"
   },
   {
    "duration": 0,
    "start_time": "2022-03-26T19:18:48.211Z"
   },
   {
    "duration": 0,
    "start_time": "2022-03-26T19:18:48.212Z"
   },
   {
    "duration": 0,
    "start_time": "2022-03-26T19:18:48.213Z"
   },
   {
    "duration": 0,
    "start_time": "2022-03-26T19:18:48.214Z"
   },
   {
    "duration": 0,
    "start_time": "2022-03-26T19:18:48.215Z"
   },
   {
    "duration": 0,
    "start_time": "2022-03-26T19:18:48.216Z"
   },
   {
    "duration": 0,
    "start_time": "2022-03-26T19:18:48.217Z"
   },
   {
    "duration": 0,
    "start_time": "2022-03-26T19:18:48.218Z"
   },
   {
    "duration": 0,
    "start_time": "2022-03-26T19:18:48.219Z"
   },
   {
    "duration": 10,
    "start_time": "2022-03-26T19:19:58.510Z"
   },
   {
    "duration": 11,
    "start_time": "2022-03-26T19:20:05.217Z"
   },
   {
    "duration": 4,
    "start_time": "2022-03-26T19:20:19.251Z"
   },
   {
    "duration": 9,
    "start_time": "2022-03-26T19:20:24.603Z"
   },
   {
    "duration": 4,
    "start_time": "2022-03-26T19:20:32.956Z"
   },
   {
    "duration": 5,
    "start_time": "2022-03-26T19:20:59.853Z"
   },
   {
    "duration": 8,
    "start_time": "2022-03-26T19:21:25.801Z"
   },
   {
    "duration": 6,
    "start_time": "2022-03-26T19:24:28.253Z"
   },
   {
    "duration": 61,
    "start_time": "2022-03-26T19:24:28.260Z"
   },
   {
    "duration": 5,
    "start_time": "2022-03-26T19:24:28.323Z"
   },
   {
    "duration": 25,
    "start_time": "2022-03-26T19:24:28.329Z"
   },
   {
    "duration": 36,
    "start_time": "2022-03-26T19:24:28.356Z"
   },
   {
    "duration": 49,
    "start_time": "2022-03-26T19:24:28.394Z"
   },
   {
    "duration": 7,
    "start_time": "2022-03-26T19:24:28.445Z"
   },
   {
    "duration": 10,
    "start_time": "2022-03-26T19:24:28.454Z"
   },
   {
    "duration": 38,
    "start_time": "2022-03-26T19:24:28.467Z"
   },
   {
    "duration": 6,
    "start_time": "2022-03-26T19:24:28.507Z"
   },
   {
    "duration": 18,
    "start_time": "2022-03-26T19:24:28.515Z"
   },
   {
    "duration": 6,
    "start_time": "2022-03-26T19:24:28.534Z"
   },
   {
    "duration": 8,
    "start_time": "2022-03-26T19:24:28.542Z"
   },
   {
    "duration": 6,
    "start_time": "2022-03-26T19:24:28.552Z"
   },
   {
    "duration": 43,
    "start_time": "2022-03-26T19:24:28.560Z"
   },
   {
    "duration": 16,
    "start_time": "2022-03-26T19:24:28.605Z"
   },
   {
    "duration": 10,
    "start_time": "2022-03-26T19:24:28.623Z"
   },
   {
    "duration": 5,
    "start_time": "2022-03-26T19:24:28.636Z"
   },
   {
    "duration": 7,
    "start_time": "2022-03-26T19:24:28.643Z"
   },
   {
    "duration": 18,
    "start_time": "2022-03-26T19:24:28.652Z"
   },
   {
    "duration": 10,
    "start_time": "2022-03-26T19:24:28.702Z"
   },
   {
    "duration": 6,
    "start_time": "2022-03-26T19:24:28.714Z"
   },
   {
    "duration": 9,
    "start_time": "2022-03-26T19:24:28.722Z"
   },
   {
    "duration": 5,
    "start_time": "2022-03-26T19:27:19.867Z"
   },
   {
    "duration": 7,
    "start_time": "2022-03-26T19:31:43.579Z"
   },
   {
    "duration": 61,
    "start_time": "2022-03-26T19:34:59.495Z"
   },
   {
    "duration": 72,
    "start_time": "2022-03-26T19:35:00.934Z"
   },
   {
    "duration": 1545,
    "start_time": "2022-03-26T19:35:16.321Z"
   },
   {
    "duration": 8,
    "start_time": "2022-03-26T19:37:47.364Z"
   },
   {
    "duration": 73,
    "start_time": "2022-03-27T14:18:46.295Z"
   },
   {
    "duration": 9,
    "start_time": "2022-03-27T14:19:03.421Z"
   },
   {
    "duration": 8,
    "start_time": "2022-03-27T14:19:11.137Z"
   },
   {
    "duration": 10,
    "start_time": "2022-03-27T14:19:46.085Z"
   },
   {
    "duration": 614,
    "start_time": "2022-03-27T14:20:03.444Z"
   },
   {
    "duration": 21,
    "start_time": "2022-03-27T14:20:10.267Z"
   },
   {
    "duration": 1784,
    "start_time": "2022-03-27T14:20:39.439Z"
   },
   {
    "duration": 14,
    "start_time": "2022-03-27T14:21:16.767Z"
   },
   {
    "duration": 9,
    "start_time": "2022-03-27T14:23:29.006Z"
   },
   {
    "duration": 54,
    "start_time": "2022-03-27T14:41:02.049Z"
   },
   {
    "duration": 497,
    "start_time": "2022-03-27T14:41:17.214Z"
   },
   {
    "duration": 13,
    "start_time": "2022-03-27T14:41:17.713Z"
   },
   {
    "duration": 23,
    "start_time": "2022-03-27T14:41:17.727Z"
   },
   {
    "duration": 7,
    "start_time": "2022-03-27T14:41:17.752Z"
   },
   {
    "duration": 2,
    "start_time": "2022-03-27T14:41:17.761Z"
   },
   {
    "duration": 24,
    "start_time": "2022-03-27T14:41:17.765Z"
   },
   {
    "duration": 22,
    "start_time": "2022-03-27T14:41:22.609Z"
   },
   {
    "duration": 20,
    "start_time": "2022-03-27T14:49:33.204Z"
   },
   {
    "duration": 20,
    "start_time": "2022-03-27T14:53:17.543Z"
   },
   {
    "duration": 21,
    "start_time": "2022-03-27T14:53:36.608Z"
   },
   {
    "duration": 9,
    "start_time": "2022-03-27T14:54:35.171Z"
   },
   {
    "duration": 31,
    "start_time": "2022-03-27T14:55:35.824Z"
   },
   {
    "duration": 4,
    "start_time": "2022-03-27T14:58:47.734Z"
   },
   {
    "duration": 113,
    "start_time": "2022-03-27T15:01:51.592Z"
   },
   {
    "duration": 886,
    "start_time": "2022-03-27T15:02:06.452Z"
   },
   {
    "duration": 496,
    "start_time": "2022-03-27T15:03:45.297Z"
   },
   {
    "duration": 16,
    "start_time": "2022-03-27T15:03:59.931Z"
   },
   {
    "duration": 24,
    "start_time": "2022-03-27T15:04:52.200Z"
   },
   {
    "duration": 11,
    "start_time": "2022-03-27T15:13:38.636Z"
   },
   {
    "duration": 69,
    "start_time": "2022-03-27T15:13:58.290Z"
   },
   {
    "duration": 13,
    "start_time": "2022-03-27T15:13:58.361Z"
   },
   {
    "duration": 17,
    "start_time": "2022-03-27T15:13:58.375Z"
   },
   {
    "duration": 7,
    "start_time": "2022-03-27T15:13:58.395Z"
   },
   {
    "duration": 3,
    "start_time": "2022-03-27T15:13:58.404Z"
   },
   {
    "duration": 51,
    "start_time": "2022-03-27T15:13:58.409Z"
   },
   {
    "duration": 22,
    "start_time": "2022-03-27T15:14:02.669Z"
   },
   {
    "duration": 115,
    "start_time": "2022-03-27T15:26:02.435Z"
   },
   {
    "duration": 997,
    "start_time": "2022-03-27T15:37:30.179Z"
   },
   {
    "duration": 4,
    "start_time": "2022-03-27T15:37:54.240Z"
   },
   {
    "duration": 4,
    "start_time": "2022-03-27T15:39:19.220Z"
   },
   {
    "duration": 103,
    "start_time": "2022-03-27T15:42:26.509Z"
   },
   {
    "duration": 107,
    "start_time": "2022-03-27T15:43:16.402Z"
   },
   {
    "duration": 4,
    "start_time": "2022-03-27T15:44:48.716Z"
   },
   {
    "duration": 3,
    "start_time": "2022-03-27T15:45:11.286Z"
   },
   {
    "duration": 4,
    "start_time": "2022-03-27T15:45:34.751Z"
   },
   {
    "duration": 28,
    "start_time": "2022-03-27T15:49:58.224Z"
   },
   {
    "duration": 16,
    "start_time": "2022-03-27T16:02:04.296Z"
   },
   {
    "duration": 4,
    "start_time": "2022-03-27T16:02:10.338Z"
   },
   {
    "duration": 10,
    "start_time": "2022-03-27T16:02:20.099Z"
   },
   {
    "duration": 6,
    "start_time": "2022-03-27T16:02:35.762Z"
   },
   {
    "duration": 7,
    "start_time": "2022-03-27T16:02:43.666Z"
   },
   {
    "duration": 118,
    "start_time": "2022-03-27T16:04:42.617Z"
   },
   {
    "duration": 8,
    "start_time": "2022-03-27T16:05:03.091Z"
   },
   {
    "duration": 57,
    "start_time": "2022-03-27T16:19:33.426Z"
   },
   {
    "duration": 533,
    "start_time": "2022-03-27T16:19:49.824Z"
   },
   {
    "duration": 14,
    "start_time": "2022-03-27T16:19:50.359Z"
   },
   {
    "duration": 23,
    "start_time": "2022-03-27T16:19:50.375Z"
   },
   {
    "duration": 8,
    "start_time": "2022-03-27T16:19:50.400Z"
   },
   {
    "duration": 22,
    "start_time": "2022-03-27T16:19:50.410Z"
   },
   {
    "duration": 27,
    "start_time": "2022-03-27T16:19:50.434Z"
   },
   {
    "duration": 24,
    "start_time": "2022-03-27T16:19:50.463Z"
   },
   {
    "duration": 4,
    "start_time": "2022-03-27T16:19:50.489Z"
   },
   {
    "duration": 65,
    "start_time": "2022-03-27T16:19:50.495Z"
   },
   {
    "duration": 14,
    "start_time": "2022-03-27T16:19:50.562Z"
   },
   {
    "duration": 8,
    "start_time": "2022-03-27T16:19:50.578Z"
   },
   {
    "duration": 14,
    "start_time": "2022-03-27T16:19:50.588Z"
   },
   {
    "duration": 5,
    "start_time": "2022-03-27T16:19:50.603Z"
   },
   {
    "duration": 8,
    "start_time": "2022-03-27T16:19:50.610Z"
   },
   {
    "duration": 20,
    "start_time": "2022-03-27T16:19:56.503Z"
   },
   {
    "duration": 7,
    "start_time": "2022-03-27T16:45:59.565Z"
   },
   {
    "duration": 19,
    "start_time": "2022-03-27T17:29:19.928Z"
   },
   {
    "duration": 32,
    "start_time": "2022-03-27T17:35:38.633Z"
   },
   {
    "duration": 7,
    "start_time": "2022-03-27T17:35:46.725Z"
   },
   {
    "duration": 7,
    "start_time": "2022-03-27T17:35:50.696Z"
   },
   {
    "duration": 23,
    "start_time": "2022-03-27T17:43:51.530Z"
   },
   {
    "duration": 8,
    "start_time": "2022-03-27T17:44:35.126Z"
   },
   {
    "duration": 8,
    "start_time": "2022-03-27T17:44:44.499Z"
   },
   {
    "duration": 9,
    "start_time": "2022-03-27T17:45:50.386Z"
   },
   {
    "duration": 7,
    "start_time": "2022-03-27T17:45:56.836Z"
   },
   {
    "duration": 9,
    "start_time": "2022-03-27T17:46:00.738Z"
   },
   {
    "duration": 13,
    "start_time": "2022-03-27T17:48:37.348Z"
   },
   {
    "duration": 222,
    "start_time": "2022-03-27T17:50:01.541Z"
   },
   {
    "duration": 8,
    "start_time": "2022-03-27T17:50:06.270Z"
   },
   {
    "duration": 199,
    "start_time": "2022-03-27T17:50:09.593Z"
   },
   {
    "duration": 13,
    "start_time": "2022-03-27T17:50:36.607Z"
   },
   {
    "duration": 15,
    "start_time": "2022-03-27T17:52:15.998Z"
   },
   {
    "duration": 8,
    "start_time": "2022-03-27T17:55:28.979Z"
   },
   {
    "duration": 209,
    "start_time": "2022-03-27T17:55:54.048Z"
   },
   {
    "duration": 10,
    "start_time": "2022-03-27T17:56:18.015Z"
   },
   {
    "duration": 9,
    "start_time": "2022-03-27T17:56:29.252Z"
   },
   {
    "duration": 9,
    "start_time": "2022-03-27T17:56:58.787Z"
   },
   {
    "duration": 88,
    "start_time": "2022-03-27T17:58:21.662Z"
   },
   {
    "duration": 14,
    "start_time": "2022-03-27T17:58:21.752Z"
   },
   {
    "duration": 18,
    "start_time": "2022-03-27T17:58:21.768Z"
   },
   {
    "duration": 43,
    "start_time": "2022-03-27T17:58:21.789Z"
   },
   {
    "duration": 3,
    "start_time": "2022-03-27T17:58:21.834Z"
   },
   {
    "duration": 33,
    "start_time": "2022-03-27T17:58:21.839Z"
   },
   {
    "duration": 59,
    "start_time": "2022-03-27T17:58:21.874Z"
   },
   {
    "duration": 4,
    "start_time": "2022-03-27T17:58:21.934Z"
   },
   {
    "duration": 37,
    "start_time": "2022-03-27T17:58:21.940Z"
   },
   {
    "duration": 15,
    "start_time": "2022-03-27T17:58:21.980Z"
   },
   {
    "duration": 37,
    "start_time": "2022-03-27T17:58:21.997Z"
   },
   {
    "duration": 15,
    "start_time": "2022-03-27T17:58:22.036Z"
   },
   {
    "duration": 5,
    "start_time": "2022-03-27T17:58:22.053Z"
   },
   {
    "duration": 7,
    "start_time": "2022-03-27T17:58:22.059Z"
   },
   {
    "duration": 19,
    "start_time": "2022-03-27T17:58:22.068Z"
   },
   {
    "duration": 51,
    "start_time": "2022-03-27T17:58:22.089Z"
   },
   {
    "duration": 22,
    "start_time": "2022-03-27T17:58:22.142Z"
   },
   {
    "duration": 11,
    "start_time": "2022-03-27T17:58:22.166Z"
   },
   {
    "duration": 9,
    "start_time": "2022-03-27T17:58:22.178Z"
   },
   {
    "duration": 8,
    "start_time": "2022-03-27T17:58:22.189Z"
   },
   {
    "duration": 35,
    "start_time": "2022-03-27T17:58:22.199Z"
   },
   {
    "duration": 25,
    "start_time": "2022-03-27T17:58:22.235Z"
   },
   {
    "duration": 28,
    "start_time": "2022-03-27T17:58:22.262Z"
   },
   {
    "duration": 62,
    "start_time": "2022-03-27T17:58:22.291Z"
   },
   {
    "duration": 6,
    "start_time": "2022-03-27T17:58:22.355Z"
   },
   {
    "duration": 24,
    "start_time": "2022-03-27T17:58:22.362Z"
   },
   {
    "duration": 7,
    "start_time": "2022-03-27T17:58:22.387Z"
   },
   {
    "duration": 37,
    "start_time": "2022-03-27T17:58:22.397Z"
   },
   {
    "duration": 14,
    "start_time": "2022-03-27T17:58:22.436Z"
   },
   {
    "duration": 10,
    "start_time": "2022-03-27T17:58:22.452Z"
   },
   {
    "duration": 24,
    "start_time": "2022-03-27T17:58:22.464Z"
   },
   {
    "duration": 12,
    "start_time": "2022-03-27T17:58:22.490Z"
   },
   {
    "duration": 33,
    "start_time": "2022-03-27T17:58:22.504Z"
   },
   {
    "duration": 8,
    "start_time": "2022-03-27T17:58:22.539Z"
   },
   {
    "duration": 7,
    "start_time": "2022-03-27T17:58:22.549Z"
   },
   {
    "duration": 19,
    "start_time": "2022-03-27T17:58:22.558Z"
   },
   {
    "duration": 11,
    "start_time": "2022-03-27T17:58:22.579Z"
   },
   {
    "duration": 42,
    "start_time": "2022-03-27T17:58:22.592Z"
   },
   {
    "duration": 10,
    "start_time": "2022-03-27T17:58:22.637Z"
   },
   {
    "duration": 17,
    "start_time": "2022-03-27T17:58:22.648Z"
   },
   {
    "duration": 9,
    "start_time": "2022-03-27T17:58:22.667Z"
   },
   {
    "duration": 7,
    "start_time": "2022-03-27T17:58:22.678Z"
   },
   {
    "duration": 17,
    "start_time": "2022-03-27T17:58:22.686Z"
   },
   {
    "duration": 462,
    "start_time": "2022-03-28T04:00:48.829Z"
   },
   {
    "duration": 12,
    "start_time": "2022-03-28T04:00:49.293Z"
   },
   {
    "duration": 15,
    "start_time": "2022-03-28T04:00:49.307Z"
   },
   {
    "duration": 6,
    "start_time": "2022-03-28T04:00:49.324Z"
   },
   {
    "duration": 3,
    "start_time": "2022-03-28T04:00:49.331Z"
   },
   {
    "duration": 22,
    "start_time": "2022-03-28T04:00:49.335Z"
   },
   {
    "duration": 53,
    "start_time": "2022-03-28T04:00:49.358Z"
   },
   {
    "duration": 3,
    "start_time": "2022-03-28T04:00:49.412Z"
   },
   {
    "duration": 30,
    "start_time": "2022-03-28T04:00:49.417Z"
   },
   {
    "duration": 12,
    "start_time": "2022-03-28T04:00:49.450Z"
   },
   {
    "duration": 5,
    "start_time": "2022-03-28T04:00:49.463Z"
   },
   {
    "duration": 36,
    "start_time": "2022-03-28T04:00:49.470Z"
   },
   {
    "duration": 5,
    "start_time": "2022-03-28T04:00:49.507Z"
   },
   {
    "duration": 7,
    "start_time": "2022-03-28T04:00:49.513Z"
   },
   {
    "duration": 15,
    "start_time": "2022-03-28T04:00:49.521Z"
   },
   {
    "duration": 13,
    "start_time": "2022-03-28T04:00:49.538Z"
   },
   {
    "duration": 17,
    "start_time": "2022-03-28T04:00:49.552Z"
   },
   {
    "duration": 5,
    "start_time": "2022-03-28T04:00:49.601Z"
   },
   {
    "duration": 5,
    "start_time": "2022-03-28T04:00:49.607Z"
   },
   {
    "duration": 7,
    "start_time": "2022-03-28T04:00:49.614Z"
   },
   {
    "duration": 7,
    "start_time": "2022-03-28T04:00:49.622Z"
   },
   {
    "duration": 21,
    "start_time": "2022-03-28T04:00:49.630Z"
   },
   {
    "duration": 49,
    "start_time": "2022-03-28T04:00:49.653Z"
   },
   {
    "duration": 30,
    "start_time": "2022-03-28T04:00:49.704Z"
   },
   {
    "duration": 5,
    "start_time": "2022-03-28T04:00:49.736Z"
   },
   {
    "duration": 14,
    "start_time": "2022-03-28T04:00:49.742Z"
   },
   {
    "duration": 5,
    "start_time": "2022-03-28T04:00:49.757Z"
   },
   {
    "duration": 36,
    "start_time": "2022-03-28T04:00:49.766Z"
   },
   {
    "duration": 13,
    "start_time": "2022-03-28T04:00:49.803Z"
   },
   {
    "duration": 9,
    "start_time": "2022-03-28T04:00:49.818Z"
   },
   {
    "duration": 17,
    "start_time": "2022-03-28T04:00:49.829Z"
   },
   {
    "duration": 5,
    "start_time": "2022-03-28T04:00:49.848Z"
   },
   {
    "duration": 11,
    "start_time": "2022-03-28T04:00:49.855Z"
   },
   {
    "duration": 34,
    "start_time": "2022-03-28T04:00:49.868Z"
   },
   {
    "duration": 5,
    "start_time": "2022-03-28T04:00:49.904Z"
   },
   {
    "duration": 22,
    "start_time": "2022-03-28T04:00:49.911Z"
   },
   {
    "duration": 9,
    "start_time": "2022-03-28T04:00:49.935Z"
   },
   {
    "duration": 5,
    "start_time": "2022-03-28T04:00:49.945Z"
   },
   {
    "duration": 11,
    "start_time": "2022-03-28T04:00:49.951Z"
   },
   {
    "duration": 14,
    "start_time": "2022-03-28T04:00:49.963Z"
   },
   {
    "duration": 8,
    "start_time": "2022-03-28T04:00:50.001Z"
   },
   {
    "duration": 5,
    "start_time": "2022-03-28T04:00:50.011Z"
   },
   {
    "duration": 9,
    "start_time": "2022-03-28T04:00:50.018Z"
   },
   {
    "duration": 5,
    "start_time": "2022-03-28T04:01:10.527Z"
   },
   {
    "duration": 63,
    "start_time": "2022-03-28T04:04:29.249Z"
   },
   {
    "duration": 5,
    "start_time": "2022-03-28T04:06:21.468Z"
   },
   {
    "duration": 6,
    "start_time": "2022-03-28T04:13:18.192Z"
   },
   {
    "duration": 77,
    "start_time": "2022-03-28T05:16:52.085Z"
   },
   {
    "duration": 11,
    "start_time": "2022-03-28T05:16:52.163Z"
   },
   {
    "duration": 25,
    "start_time": "2022-03-28T05:16:52.176Z"
   },
   {
    "duration": 6,
    "start_time": "2022-03-28T05:16:52.203Z"
   },
   {
    "duration": 3,
    "start_time": "2022-03-28T05:16:52.210Z"
   },
   {
    "duration": 20,
    "start_time": "2022-03-28T05:16:52.215Z"
   },
   {
    "duration": 20,
    "start_time": "2022-03-28T05:16:52.237Z"
   },
   {
    "duration": 4,
    "start_time": "2022-03-28T05:16:52.258Z"
   },
   {
    "duration": 58,
    "start_time": "2022-03-28T05:16:52.263Z"
   },
   {
    "duration": 12,
    "start_time": "2022-03-28T05:16:52.324Z"
   },
   {
    "duration": 3,
    "start_time": "2022-03-28T05:16:52.338Z"
   },
   {
    "duration": 11,
    "start_time": "2022-03-28T05:16:52.343Z"
   },
   {
    "duration": 4,
    "start_time": "2022-03-28T05:16:52.355Z"
   },
   {
    "duration": 7,
    "start_time": "2022-03-28T05:16:52.361Z"
   },
   {
    "duration": 16,
    "start_time": "2022-03-28T05:16:52.402Z"
   },
   {
    "duration": 15,
    "start_time": "2022-03-28T05:16:52.419Z"
   },
   {
    "duration": 16,
    "start_time": "2022-03-28T05:16:52.436Z"
   },
   {
    "duration": 5,
    "start_time": "2022-03-28T05:16:52.454Z"
   },
   {
    "duration": 11,
    "start_time": "2022-03-28T05:16:52.461Z"
   },
   {
    "duration": 30,
    "start_time": "2022-03-28T05:16:52.473Z"
   },
   {
    "duration": 4,
    "start_time": "2022-03-28T05:16:52.505Z"
   },
   {
    "duration": 19,
    "start_time": "2022-03-28T05:16:52.511Z"
   },
   {
    "duration": 22,
    "start_time": "2022-03-28T05:16:52.532Z"
   },
   {
    "duration": 54,
    "start_time": "2022-03-28T05:16:52.555Z"
   },
   {
    "duration": 6,
    "start_time": "2022-03-28T05:16:52.610Z"
   },
   {
    "duration": 16,
    "start_time": "2022-03-28T05:16:52.617Z"
   },
   {
    "duration": 5,
    "start_time": "2022-03-28T05:16:52.634Z"
   },
   {
    "duration": 13,
    "start_time": "2022-03-28T05:16:52.642Z"
   },
   {
    "duration": 12,
    "start_time": "2022-03-28T05:16:52.657Z"
   },
   {
    "duration": 33,
    "start_time": "2022-03-28T05:16:52.670Z"
   },
   {
    "duration": 21,
    "start_time": "2022-03-28T05:16:52.705Z"
   },
   {
    "duration": 8,
    "start_time": "2022-03-28T05:16:52.727Z"
   },
   {
    "duration": 11,
    "start_time": "2022-03-28T05:16:52.736Z"
   },
   {
    "duration": 10,
    "start_time": "2022-03-28T05:16:52.749Z"
   },
   {
    "duration": 8,
    "start_time": "2022-03-28T05:16:52.760Z"
   },
   {
    "duration": 32,
    "start_time": "2022-03-28T05:16:52.769Z"
   },
   {
    "duration": 9,
    "start_time": "2022-03-28T05:16:52.802Z"
   },
   {
    "duration": 4,
    "start_time": "2022-03-28T05:16:52.812Z"
   },
   {
    "duration": 10,
    "start_time": "2022-03-28T05:16:52.817Z"
   },
   {
    "duration": 14,
    "start_time": "2022-03-28T05:16:52.829Z"
   },
   {
    "duration": 7,
    "start_time": "2022-03-28T05:16:52.845Z"
   },
   {
    "duration": 7,
    "start_time": "2022-03-28T05:16:52.854Z"
   },
   {
    "duration": 15,
    "start_time": "2022-03-28T05:16:52.862Z"
   },
   {
    "duration": 200,
    "start_time": "2022-03-28T05:23:31.875Z"
   },
   {
    "duration": 513,
    "start_time": "2022-03-28T21:08:57.149Z"
   },
   {
    "duration": 14,
    "start_time": "2022-03-28T21:08:57.665Z"
   },
   {
    "duration": 19,
    "start_time": "2022-03-28T21:08:57.681Z"
   },
   {
    "duration": 30,
    "start_time": "2022-03-28T21:08:57.702Z"
   },
   {
    "duration": 4,
    "start_time": "2022-03-28T21:08:57.734Z"
   },
   {
    "duration": 31,
    "start_time": "2022-03-28T21:08:57.740Z"
   },
   {
    "duration": 26,
    "start_time": "2022-03-28T21:08:57.773Z"
   },
   {
    "duration": 34,
    "start_time": "2022-03-28T21:08:57.801Z"
   },
   {
    "duration": 33,
    "start_time": "2022-03-28T21:08:57.838Z"
   },
   {
    "duration": 15,
    "start_time": "2022-03-28T21:08:57.875Z"
   },
   {
    "duration": 7,
    "start_time": "2022-03-28T21:08:57.892Z"
   },
   {
    "duration": 39,
    "start_time": "2022-03-28T21:08:57.900Z"
   },
   {
    "duration": 6,
    "start_time": "2022-03-28T21:08:57.941Z"
   },
   {
    "duration": 9,
    "start_time": "2022-03-28T21:08:57.948Z"
   },
   {
    "duration": 23,
    "start_time": "2022-03-28T21:08:57.958Z"
   },
   {
    "duration": 18,
    "start_time": "2022-03-28T21:08:57.983Z"
   },
   {
    "duration": 22,
    "start_time": "2022-03-28T21:08:58.031Z"
   },
   {
    "duration": 15,
    "start_time": "2022-03-28T21:08:58.055Z"
   },
   {
    "duration": 8,
    "start_time": "2022-03-28T21:08:58.072Z"
   },
   {
    "duration": 7,
    "start_time": "2022-03-28T21:08:58.081Z"
   },
   {
    "duration": 6,
    "start_time": "2022-03-28T21:08:58.090Z"
   },
   {
    "duration": 50,
    "start_time": "2022-03-28T21:08:58.098Z"
   },
   {
    "duration": 28,
    "start_time": "2022-03-28T21:08:58.149Z"
   },
   {
    "duration": 54,
    "start_time": "2022-03-28T21:08:58.179Z"
   },
   {
    "duration": 6,
    "start_time": "2022-03-28T21:08:58.235Z"
   },
   {
    "duration": 20,
    "start_time": "2022-03-28T21:08:58.243Z"
   },
   {
    "duration": 7,
    "start_time": "2022-03-28T21:08:58.264Z"
   },
   {
    "duration": 18,
    "start_time": "2022-03-28T21:08:58.275Z"
   },
   {
    "duration": 38,
    "start_time": "2022-03-28T21:08:58.295Z"
   },
   {
    "duration": 7,
    "start_time": "2022-03-28T21:08:58.335Z"
   },
   {
    "duration": 25,
    "start_time": "2022-03-28T21:08:58.344Z"
   },
   {
    "duration": 6,
    "start_time": "2022-03-28T21:08:58.371Z"
   },
   {
    "duration": 10,
    "start_time": "2022-03-28T21:08:58.379Z"
   },
   {
    "duration": 11,
    "start_time": "2022-03-28T21:08:58.391Z"
   },
   {
    "duration": 7,
    "start_time": "2022-03-28T21:08:58.431Z"
   },
   {
    "duration": 42,
    "start_time": "2022-03-28T21:08:58.440Z"
   },
   {
    "duration": 180,
    "start_time": "2022-03-28T21:08:58.484Z"
   },
   {
    "duration": 6,
    "start_time": "2022-03-28T21:08:58.666Z"
   },
   {
    "duration": 11,
    "start_time": "2022-03-28T21:08:58.674Z"
   },
   {
    "duration": 20,
    "start_time": "2022-03-28T21:08:58.687Z"
   },
   {
    "duration": 10,
    "start_time": "2022-03-28T21:08:58.710Z"
   },
   {
    "duration": 11,
    "start_time": "2022-03-28T21:08:58.722Z"
   },
   {
    "duration": 30,
    "start_time": "2022-03-28T21:08:58.735Z"
   },
   {
    "duration": 7,
    "start_time": "2022-03-28T21:41:49.690Z"
   },
   {
    "duration": 368,
    "start_time": "2022-03-28T21:44:34.779Z"
   },
   {
    "duration": 13,
    "start_time": "2022-03-28T21:44:40.062Z"
   },
   {
    "duration": 12,
    "start_time": "2022-03-28T21:51:22.704Z"
   },
   {
    "duration": 65,
    "start_time": "2022-03-29T04:01:35.988Z"
   },
   {
    "duration": 595,
    "start_time": "2022-03-29T04:01:46.655Z"
   },
   {
    "duration": 19,
    "start_time": "2022-03-29T04:01:47.252Z"
   },
   {
    "duration": 37,
    "start_time": "2022-03-29T04:01:47.272Z"
   },
   {
    "duration": 11,
    "start_time": "2022-03-29T04:01:47.312Z"
   },
   {
    "duration": 5,
    "start_time": "2022-03-29T04:01:47.325Z"
   },
   {
    "duration": 63,
    "start_time": "2022-03-29T04:01:47.332Z"
   },
   {
    "duration": 32,
    "start_time": "2022-03-29T04:01:47.397Z"
   },
   {
    "duration": 6,
    "start_time": "2022-03-29T04:01:47.431Z"
   },
   {
    "duration": 67,
    "start_time": "2022-03-29T04:01:47.439Z"
   },
   {
    "duration": 20,
    "start_time": "2022-03-29T04:01:47.510Z"
   },
   {
    "duration": 6,
    "start_time": "2022-03-29T04:01:47.532Z"
   },
   {
    "duration": 46,
    "start_time": "2022-03-29T04:01:47.540Z"
   },
   {
    "duration": 7,
    "start_time": "2022-03-29T04:01:47.588Z"
   },
   {
    "duration": 15,
    "start_time": "2022-03-29T04:01:47.598Z"
   },
   {
    "duration": 29,
    "start_time": "2022-03-29T04:01:47.615Z"
   },
   {
    "duration": 49,
    "start_time": "2022-03-29T04:01:47.647Z"
   },
   {
    "duration": 26,
    "start_time": "2022-03-29T04:01:47.698Z"
   },
   {
    "duration": 9,
    "start_time": "2022-03-29T04:01:47.727Z"
   },
   {
    "duration": 18,
    "start_time": "2022-03-29T04:01:47.737Z"
   },
   {
    "duration": 29,
    "start_time": "2022-03-29T04:01:47.756Z"
   },
   {
    "duration": 6,
    "start_time": "2022-03-29T04:01:47.787Z"
   },
   {
    "duration": 40,
    "start_time": "2022-03-29T04:01:47.795Z"
   },
   {
    "duration": 53,
    "start_time": "2022-03-29T04:01:47.837Z"
   },
   {
    "duration": 50,
    "start_time": "2022-03-29T04:01:47.893Z"
   },
   {
    "duration": 8,
    "start_time": "2022-03-29T04:01:47.946Z"
   },
   {
    "duration": 44,
    "start_time": "2022-03-29T04:01:47.957Z"
   },
   {
    "duration": 9,
    "start_time": "2022-03-29T04:01:48.003Z"
   },
   {
    "duration": 66,
    "start_time": "2022-03-29T04:01:48.020Z"
   },
   {
    "duration": 19,
    "start_time": "2022-03-29T04:01:48.089Z"
   },
   {
    "duration": 8,
    "start_time": "2022-03-29T04:01:48.111Z"
   },
   {
    "duration": 62,
    "start_time": "2022-03-29T04:01:48.122Z"
   },
   {
    "duration": 13,
    "start_time": "2022-03-29T04:01:48.187Z"
   },
   {
    "duration": 11,
    "start_time": "2022-03-29T04:01:48.202Z"
   },
   {
    "duration": 12,
    "start_time": "2022-03-29T04:01:48.216Z"
   },
   {
    "duration": 11,
    "start_time": "2022-03-29T04:01:48.230Z"
   },
   {
    "duration": 56,
    "start_time": "2022-03-29T04:01:48.243Z"
   },
   {
    "duration": 13,
    "start_time": "2022-03-29T04:01:48.302Z"
   },
   {
    "duration": 5,
    "start_time": "2022-03-29T04:01:48.317Z"
   },
   {
    "duration": 12,
    "start_time": "2022-03-29T04:01:48.325Z"
   },
   {
    "duration": 15,
    "start_time": "2022-03-29T04:01:57.444Z"
   },
   {
    "duration": 143,
    "start_time": "2022-03-29T04:35:49.938Z"
   },
   {
    "duration": 84,
    "start_time": "2022-03-29T04:36:35.656Z"
   },
   {
    "duration": 40,
    "start_time": "2022-03-29T04:36:35.743Z"
   },
   {
    "duration": 21,
    "start_time": "2022-03-29T04:36:35.785Z"
   },
   {
    "duration": 8,
    "start_time": "2022-03-29T04:36:35.809Z"
   },
   {
    "duration": 4,
    "start_time": "2022-03-29T04:36:35.820Z"
   },
   {
    "duration": 81,
    "start_time": "2022-03-29T04:36:35.826Z"
   },
   {
    "duration": 30,
    "start_time": "2022-03-29T04:36:35.909Z"
   },
   {
    "duration": 5,
    "start_time": "2022-03-29T04:36:35.941Z"
   },
   {
    "duration": 68,
    "start_time": "2022-03-29T04:36:35.948Z"
   },
   {
    "duration": 21,
    "start_time": "2022-03-29T04:36:36.020Z"
   },
   {
    "duration": 10,
    "start_time": "2022-03-29T04:36:36.043Z"
   },
   {
    "duration": 34,
    "start_time": "2022-03-29T04:36:36.055Z"
   },
   {
    "duration": 6,
    "start_time": "2022-03-29T04:36:36.091Z"
   },
   {
    "duration": 10,
    "start_time": "2022-03-29T04:36:36.099Z"
   },
   {
    "duration": 22,
    "start_time": "2022-03-29T04:36:36.111Z"
   },
   {
    "duration": 59,
    "start_time": "2022-03-29T04:36:36.135Z"
   },
   {
    "duration": 27,
    "start_time": "2022-03-29T04:36:36.196Z"
   },
   {
    "duration": 8,
    "start_time": "2022-03-29T04:36:36.225Z"
   },
   {
    "duration": 12,
    "start_time": "2022-03-29T04:36:36.236Z"
   },
   {
    "duration": 9,
    "start_time": "2022-03-29T04:36:36.282Z"
   },
   {
    "duration": 7,
    "start_time": "2022-03-29T04:36:36.293Z"
   },
   {
    "duration": 28,
    "start_time": "2022-03-29T04:36:36.302Z"
   },
   {
    "duration": 70,
    "start_time": "2022-03-29T04:36:36.332Z"
   },
   {
    "duration": 45,
    "start_time": "2022-03-29T04:36:36.404Z"
   },
   {
    "duration": 8,
    "start_time": "2022-03-29T04:36:36.451Z"
   },
   {
    "duration": 35,
    "start_time": "2022-03-29T04:36:36.462Z"
   },
   {
    "duration": 15,
    "start_time": "2022-03-29T04:36:36.499Z"
   },
   {
    "duration": 35,
    "start_time": "2022-03-29T04:36:36.518Z"
   },
   {
    "duration": 34,
    "start_time": "2022-03-29T04:36:36.555Z"
   },
   {
    "duration": 13,
    "start_time": "2022-03-29T04:36:36.591Z"
   },
   {
    "duration": 26,
    "start_time": "2022-03-29T04:36:36.607Z"
   },
   {
    "duration": 11,
    "start_time": "2022-03-29T04:36:36.635Z"
   },
   {
    "duration": 35,
    "start_time": "2022-03-29T04:36:36.648Z"
   },
   {
    "duration": 10,
    "start_time": "2022-03-29T04:36:36.686Z"
   },
   {
    "duration": 11,
    "start_time": "2022-03-29T04:36:36.698Z"
   },
   {
    "duration": 21,
    "start_time": "2022-03-29T04:36:36.711Z"
   },
   {
    "duration": 10,
    "start_time": "2022-03-29T04:36:36.735Z"
   },
   {
    "duration": 7,
    "start_time": "2022-03-29T04:36:36.782Z"
   },
   {
    "duration": 11,
    "start_time": "2022-03-29T04:36:36.791Z"
   },
   {
    "duration": 15,
    "start_time": "2022-03-29T04:36:36.804Z"
   },
   {
    "duration": 15,
    "start_time": "2022-03-29T04:36:36.821Z"
   },
   {
    "duration": 53,
    "start_time": "2022-03-29T04:36:36.837Z"
   },
   {
    "duration": 10,
    "start_time": "2022-03-29T04:36:36.892Z"
   },
   {
    "duration": 11,
    "start_time": "2022-03-29T04:36:36.904Z"
   },
   {
    "duration": 16,
    "start_time": "2022-03-29T04:40:30.696Z"
   },
   {
    "duration": 16,
    "start_time": "2022-03-29T04:59:45.319Z"
   },
   {
    "duration": 23,
    "start_time": "2022-03-29T05:32:15.249Z"
   },
   {
    "duration": 12,
    "start_time": "2022-03-29T05:32:37.356Z"
   },
   {
    "duration": 44,
    "start_time": "2022-03-29T05:32:57.357Z"
   },
   {
    "duration": 14,
    "start_time": "2022-03-29T05:33:50.534Z"
   },
   {
    "duration": 17,
    "start_time": "2022-03-29T05:34:10.897Z"
   },
   {
    "duration": 11,
    "start_time": "2022-03-29T05:36:05.386Z"
   },
   {
    "duration": 18,
    "start_time": "2022-03-29T05:36:29.903Z"
   },
   {
    "duration": 10,
    "start_time": "2022-03-29T05:36:58.120Z"
   },
   {
    "duration": 9,
    "start_time": "2022-03-29T05:37:00.360Z"
   },
   {
    "duration": 13,
    "start_time": "2022-03-29T05:38:05.453Z"
   },
   {
    "duration": 23,
    "start_time": "2022-03-29T06:07:18.639Z"
   },
   {
    "duration": 99,
    "start_time": "2022-03-29T06:11:02.496Z"
   },
   {
    "duration": 34,
    "start_time": "2022-03-29T06:11:02.598Z"
   },
   {
    "duration": 52,
    "start_time": "2022-03-29T06:11:02.634Z"
   },
   {
    "duration": 14,
    "start_time": "2022-03-29T06:11:02.689Z"
   },
   {
    "duration": 11,
    "start_time": "2022-03-29T06:11:02.707Z"
   },
   {
    "duration": 87,
    "start_time": "2022-03-29T06:11:02.721Z"
   },
   {
    "duration": 45,
    "start_time": "2022-03-29T06:11:02.811Z"
   },
   {
    "duration": 7,
    "start_time": "2022-03-29T06:11:02.884Z"
   },
   {
    "duration": 49,
    "start_time": "2022-03-29T06:11:02.894Z"
   },
   {
    "duration": 45,
    "start_time": "2022-03-29T06:11:02.947Z"
   },
   {
    "duration": 14,
    "start_time": "2022-03-29T06:11:02.996Z"
   },
   {
    "duration": 21,
    "start_time": "2022-03-29T06:11:03.013Z"
   },
   {
    "duration": 7,
    "start_time": "2022-03-29T06:11:03.037Z"
   },
   {
    "duration": 35,
    "start_time": "2022-03-29T06:11:03.047Z"
   },
   {
    "duration": 45,
    "start_time": "2022-03-29T06:11:03.086Z"
   },
   {
    "duration": 54,
    "start_time": "2022-03-29T06:11:03.134Z"
   },
   {
    "duration": 39,
    "start_time": "2022-03-29T06:11:03.191Z"
   },
   {
    "duration": 9,
    "start_time": "2022-03-29T06:11:03.234Z"
   },
   {
    "duration": 39,
    "start_time": "2022-03-29T06:11:03.245Z"
   },
   {
    "duration": 22,
    "start_time": "2022-03-29T06:11:03.288Z"
   },
   {
    "duration": 23,
    "start_time": "2022-03-29T06:11:03.313Z"
   },
   {
    "duration": 36,
    "start_time": "2022-03-29T06:11:03.339Z"
   },
   {
    "duration": 38,
    "start_time": "2022-03-29T06:11:03.383Z"
   },
   {
    "duration": 78,
    "start_time": "2022-03-29T06:11:03.423Z"
   },
   {
    "duration": 9,
    "start_time": "2022-03-29T06:11:03.504Z"
   },
   {
    "duration": 65,
    "start_time": "2022-03-29T06:11:03.516Z"
   },
   {
    "duration": 10,
    "start_time": "2022-03-29T06:11:03.584Z"
   },
   {
    "duration": 23,
    "start_time": "2022-03-29T06:11:03.602Z"
   },
   {
    "duration": 57,
    "start_time": "2022-03-29T06:11:03.628Z"
   },
   {
    "duration": 18,
    "start_time": "2022-03-29T06:11:03.688Z"
   },
   {
    "duration": 59,
    "start_time": "2022-03-29T06:11:03.708Z"
   },
   {
    "duration": 57,
    "start_time": "2022-03-29T06:11:03.770Z"
   },
   {
    "duration": 49,
    "start_time": "2022-03-29T06:11:03.830Z"
   },
   {
    "duration": 93,
    "start_time": "2022-03-29T06:11:03.881Z"
   },
   {
    "duration": 12,
    "start_time": "2022-03-29T06:11:03.977Z"
   },
   {
    "duration": 31,
    "start_time": "2022-03-29T06:11:03.992Z"
   },
   {
    "duration": 13,
    "start_time": "2022-03-29T06:11:04.025Z"
   },
   {
    "duration": 45,
    "start_time": "2022-03-29T06:11:04.041Z"
   },
   {
    "duration": 9,
    "start_time": "2022-03-29T06:11:04.089Z"
   },
   {
    "duration": 22,
    "start_time": "2022-03-29T06:11:04.101Z"
   },
   {
    "duration": 21,
    "start_time": "2022-03-29T06:11:04.125Z"
   },
   {
    "duration": 46,
    "start_time": "2022-03-29T06:11:04.149Z"
   },
   {
    "duration": 13,
    "start_time": "2022-03-29T06:11:04.198Z"
   },
   {
    "duration": 18,
    "start_time": "2022-03-29T06:11:04.214Z"
   },
   {
    "duration": 51,
    "start_time": "2022-03-29T06:11:04.235Z"
   },
   {
    "duration": 12,
    "start_time": "2022-03-29T06:11:04.290Z"
   },
   {
    "duration": 27,
    "start_time": "2022-03-29T06:11:04.304Z"
   },
   {
    "duration": 870,
    "start_time": "2022-03-29T18:51:17.087Z"
   },
   {
    "duration": 26,
    "start_time": "2022-03-29T18:51:17.960Z"
   },
   {
    "duration": 23,
    "start_time": "2022-03-29T18:51:17.988Z"
   },
   {
    "duration": 11,
    "start_time": "2022-03-29T18:51:18.015Z"
   },
   {
    "duration": 6,
    "start_time": "2022-03-29T18:51:18.028Z"
   },
   {
    "duration": 78,
    "start_time": "2022-03-29T18:51:18.037Z"
   },
   {
    "duration": 38,
    "start_time": "2022-03-29T18:51:18.117Z"
   },
   {
    "duration": 6,
    "start_time": "2022-03-29T18:51:18.157Z"
   },
   {
    "duration": 47,
    "start_time": "2022-03-29T18:51:18.185Z"
   },
   {
    "duration": 52,
    "start_time": "2022-03-29T18:51:18.236Z"
   },
   {
    "duration": 5,
    "start_time": "2022-03-29T18:51:18.290Z"
   },
   {
    "duration": 23,
    "start_time": "2022-03-29T18:51:18.297Z"
   },
   {
    "duration": 6,
    "start_time": "2022-03-29T18:51:18.322Z"
   },
   {
    "duration": 9,
    "start_time": "2022-03-29T18:51:18.330Z"
   },
   {
    "duration": 23,
    "start_time": "2022-03-29T18:51:18.384Z"
   },
   {
    "duration": 23,
    "start_time": "2022-03-29T18:51:18.409Z"
   },
   {
    "duration": 57,
    "start_time": "2022-03-29T18:51:18.434Z"
   },
   {
    "duration": 24,
    "start_time": "2022-03-29T18:51:18.493Z"
   },
   {
    "duration": 10,
    "start_time": "2022-03-29T18:51:18.519Z"
   },
   {
    "duration": 14,
    "start_time": "2022-03-29T18:51:18.531Z"
   },
   {
    "duration": 40,
    "start_time": "2022-03-29T18:51:18.547Z"
   },
   {
    "duration": 32,
    "start_time": "2022-03-29T18:51:18.589Z"
   },
   {
    "duration": 62,
    "start_time": "2022-03-29T18:51:18.623Z"
   },
   {
    "duration": 54,
    "start_time": "2022-03-29T18:51:18.688Z"
   },
   {
    "duration": 8,
    "start_time": "2022-03-29T18:51:18.744Z"
   },
   {
    "duration": 45,
    "start_time": "2022-03-29T18:51:18.755Z"
   },
   {
    "duration": 8,
    "start_time": "2022-03-29T18:51:18.802Z"
   },
   {
    "duration": 22,
    "start_time": "2022-03-29T18:51:18.815Z"
   },
   {
    "duration": 59,
    "start_time": "2022-03-29T18:51:18.839Z"
   },
   {
    "duration": 13,
    "start_time": "2022-03-29T18:51:18.901Z"
   },
   {
    "duration": 31,
    "start_time": "2022-03-29T18:51:18.916Z"
   },
   {
    "duration": 39,
    "start_time": "2022-03-29T18:51:18.949Z"
   },
   {
    "duration": 12,
    "start_time": "2022-03-29T18:51:18.990Z"
   },
   {
    "duration": 14,
    "start_time": "2022-03-29T18:51:19.005Z"
   },
   {
    "duration": 10,
    "start_time": "2022-03-29T18:51:19.021Z"
   },
   {
    "duration": 59,
    "start_time": "2022-03-29T18:51:19.033Z"
   },
   {
    "duration": 13,
    "start_time": "2022-03-29T18:51:19.094Z"
   },
   {
    "duration": 18,
    "start_time": "2022-03-29T18:51:19.110Z"
   },
   {
    "duration": 6,
    "start_time": "2022-03-29T18:51:19.130Z"
   },
   {
    "duration": 46,
    "start_time": "2022-03-29T18:51:19.138Z"
   },
   {
    "duration": 16,
    "start_time": "2022-03-29T18:51:19.187Z"
   },
   {
    "duration": 17,
    "start_time": "2022-03-29T18:51:19.206Z"
   },
   {
    "duration": 69,
    "start_time": "2022-03-29T18:51:19.225Z"
   },
   {
    "duration": 22,
    "start_time": "2022-03-29T18:51:19.296Z"
   },
   {
    "duration": 29,
    "start_time": "2022-03-29T18:51:19.321Z"
   },
   {
    "duration": 9,
    "start_time": "2022-03-29T18:51:19.353Z"
   },
   {
    "duration": 41,
    "start_time": "2022-03-29T18:51:19.365Z"
   }
  ],
  "kernelspec": {
   "display_name": "Python 3 (ipykernel)",
   "language": "python",
   "name": "python3"
  },
  "language_info": {
   "codemirror_mode": {
    "name": "ipython",
    "version": 3
   },
   "file_extension": ".py",
   "mimetype": "text/x-python",
   "name": "python",
   "nbconvert_exporter": "python",
   "pygments_lexer": "ipython3",
   "version": "3.10.1"
  },
  "toc": {
   "base_numbering": "",
   "nav_menu": {},
   "number_sections": true,
   "sideBar": true,
   "skip_h1_title": false,
   "title_cell": "Table of Contents",
   "title_sidebar": "Contents",
   "toc_cell": true,
   "toc_position": {
    "height": "calc(100% - 180px)",
    "left": "10px",
    "top": "150px",
    "width": "238.396px"
   },
   "toc_section_display": true,
   "toc_window_display": true
  }
 },
 "nbformat": 4,
 "nbformat_minor": 5
}
