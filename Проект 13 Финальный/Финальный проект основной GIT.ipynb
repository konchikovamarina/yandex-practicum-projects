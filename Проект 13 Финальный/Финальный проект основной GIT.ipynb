{
 "cells": [
  {
   "cell_type": "markdown",
   "id": "5d294dca",
   "metadata": {},
   "source": [
    "# Проект«Ненужные вещи» — ваши ненужные вещи нужны кому-то другому!"
   ]
  },
  {
   "cell_type": "markdown",
   "id": "c4f25d92",
   "metadata": {},
   "source": [
    "Поступила задача от продакт-менеджера команды: пользователи совершают много действий в приложении, и в этих данных есть инсайты, которые позволят нам улучшить приложение для продажи ненужных вещей.\n"
   ]
  },
  {
   "cell_type": "markdown",
   "id": "24fa175f",
   "metadata": {},
   "source": [
    " \n",
    "По итогам исследования следует подготовить:\n",
    "\n",
    "* презентацию\n",
    "\n",
    "* и дашборд (Диаграмма распределения количества событий по типу события, с индикатор количества пользователей и фильтром дашборда по дате совершения события)\n",
    "\n"
   ]
  },
  {
   "cell_type": "markdown",
   "id": "2a7e469a",
   "metadata": {},
   "source": [
    "## Постановка задачи."
   ]
  },
  {
   "cell_type": "markdown",
   "id": "3dd152bf",
   "metadata": {},
   "source": [
    "Конечным заказчиком результата является  продакт-менеджер. \n",
    "\n",
    "Результат исследования поможет:\n",
    "\n",
    "* изучить поведение пользователей и адаптировать под их нужды работу приложения;\n",
    "\n",
    "* Сформулировать новые гипотезы для проверки поведения пользователей. \n",
    "\n",
    "Следует выделить группы пользователей, которые различаются по метрикам:\n",
    "\n",
    "1. retention rate,\n",
    "2. время, проведённое в приложении, \n",
    "3. частота действий, \n",
    "4. конверсия в целевое действие — просмотр контактов.\n",
    "\n",
    "Проверть статистические гипотезы:\n",
    "\n",
    "    1. *Некоторые пользователи установили приложение по ссылке из `yandex`, другие — из `google`. Проверить гипотезу: две эти группы демонстрируют разную конверсию в просмотры контактов.*\n",
    "    2. *Пользователи, которые пользуются приложением часто, и те, кто пользуется приложением редко, демонстрируют разную конверсию в просмотры контактов.*\n",
    "\n",
    "По итогам исследования подготовить презентацию в формате **pdf** .\n"
   ]
  },
  {
   "cell_type": "markdown",
   "id": "b0b8c628",
   "metadata": {},
   "source": [
    "# Знакомство с данными и предобработка."
   ]
  },
  {
   "cell_type": "markdown",
   "id": "4cbdb036",
   "metadata": {},
   "source": [
    "## Загрузка необходимых для работы библиотек"
   ]
  },
  {
   "cell_type": "raw",
   "id": "859c2345",
   "metadata": {},
   "source": [
    "!pip install --user --upgrade pandas"
   ]
  },
  {
   "cell_type": "code",
   "execution_count": 1,
   "id": "4e0f1e83",
   "metadata": {},
   "outputs": [
    {
     "name": "stdout",
     "output_type": "stream",
     "text": [
      "Requirement already satisfied: openpyxl in /opt/conda/lib/python3.9/site-packages (3.0.9)\r\n",
      "Requirement already satisfied: et-xmlfile in /opt/conda/lib/python3.9/site-packages (from openpyxl) (1.1.0)\r\n"
     ]
    }
   ],
   "source": [
    "# загрузим необходимые для работы библиотеки\n",
    "import pandas as pd\n",
    "import datetime\n",
    "import numpy as np\n",
    "import matplotlib.pyplot as plt\n",
    "from plotly import graph_objects as go \n",
    "import plotly.express as px\n",
    "from scipy import stats as st\n",
    "import math as mth\n",
    "import seaborn as sns\n",
    "\n",
    "from sklearn.linear_model import LogisticRegression\n",
    "from sklearn.model_selection import train_test_split\n",
    "from sklearn.preprocessing import StandardScaler\n",
    "from sklearn.ensemble import RandomForestClassifier\n",
    "from sklearn.metrics import accuracy_score, precision_score, recall_score, f1_score\n",
    "from scipy.cluster.hierarchy import dendrogram, linkage \n",
    "\n",
    "import itertools\n",
    "from itertools import combinations\n",
    "from sklearn.preprocessing import StandardScaler\n",
    "from sklearn.cluster import KMeans\n",
    "!pip install openpyxl"
   ]
  },
  {
   "cell_type": "markdown",
   "id": "e3585d70",
   "metadata": {},
   "source": [
    "## Загрузка данных"
   ]
  },
  {
   "cell_type": "code",
   "execution_count": 2,
   "id": "d5968bfa",
   "metadata": {},
   "outputs": [],
   "source": [
    "# предоставленные для анализа данные сохраним в переменных\n",
    "mobile_sourсes = pd.read_csv('https://code.s3.yandex.net/datasets/mobile_soures.csv')\n",
    "mobile_dataset = pd.read_csv('https://code.s3.yandex.net/datasets/mobile_dataset.csv')"
   ]
  },
  {
   "cell_type": "code",
   "execution_count": 3,
   "id": "356e6c8d",
   "metadata": {},
   "outputs": [
    {
     "data": {
      "text/html": [
       "<div>\n",
       "<style scoped>\n",
       "    .dataframe tbody tr th:only-of-type {\n",
       "        vertical-align: middle;\n",
       "    }\n",
       "\n",
       "    .dataframe tbody tr th {\n",
       "        vertical-align: top;\n",
       "    }\n",
       "\n",
       "    .dataframe thead th {\n",
       "        text-align: right;\n",
       "    }\n",
       "</style>\n",
       "<table border=\"1\" class=\"dataframe\">\n",
       "  <thead>\n",
       "    <tr style=\"text-align: right;\">\n",
       "      <th></th>\n",
       "      <th>userId</th>\n",
       "      <th>source</th>\n",
       "    </tr>\n",
       "  </thead>\n",
       "  <tbody>\n",
       "    <tr>\n",
       "      <th>0</th>\n",
       "      <td>020292ab-89bc-4156-9acf-68bc2783f894</td>\n",
       "      <td>other</td>\n",
       "    </tr>\n",
       "    <tr>\n",
       "      <th>1</th>\n",
       "      <td>cf7eda61-9349-469f-ac27-e5b6f5ec475c</td>\n",
       "      <td>yandex</td>\n",
       "    </tr>\n",
       "    <tr>\n",
       "      <th>2</th>\n",
       "      <td>8c356c42-3ba9-4cb6-80b8-3f868d0192c3</td>\n",
       "      <td>yandex</td>\n",
       "    </tr>\n",
       "    <tr>\n",
       "      <th>3</th>\n",
       "      <td>d9b06b47-0f36-419b-bbb0-3533e582a6cb</td>\n",
       "      <td>other</td>\n",
       "    </tr>\n",
       "    <tr>\n",
       "      <th>4</th>\n",
       "      <td>f32e1e2a-3027-4693-b793-b7b3ff274439</td>\n",
       "      <td>google</td>\n",
       "    </tr>\n",
       "  </tbody>\n",
       "</table>\n",
       "</div>"
      ],
      "text/plain": [
       "                                 userId  source\n",
       "0  020292ab-89bc-4156-9acf-68bc2783f894   other\n",
       "1  cf7eda61-9349-469f-ac27-e5b6f5ec475c  yandex\n",
       "2  8c356c42-3ba9-4cb6-80b8-3f868d0192c3  yandex\n",
       "3  d9b06b47-0f36-419b-bbb0-3533e582a6cb   other\n",
       "4  f32e1e2a-3027-4693-b793-b7b3ff274439  google"
      ]
     },
     "metadata": {},
     "output_type": "display_data"
    }
   ],
   "source": [
    "# выведем на экран первые 5 строк датасета\n",
    "display(mobile_sourсes.head())"
   ]
  },
  {
   "cell_type": "code",
   "execution_count": 4,
   "id": "bcc26365",
   "metadata": {},
   "outputs": [
    {
     "data": {
      "text/html": [
       "<div>\n",
       "<style scoped>\n",
       "    .dataframe tbody tr th:only-of-type {\n",
       "        vertical-align: middle;\n",
       "    }\n",
       "\n",
       "    .dataframe tbody tr th {\n",
       "        vertical-align: top;\n",
       "    }\n",
       "\n",
       "    .dataframe thead th {\n",
       "        text-align: right;\n",
       "    }\n",
       "</style>\n",
       "<table border=\"1\" class=\"dataframe\">\n",
       "  <thead>\n",
       "    <tr style=\"text-align: right;\">\n",
       "      <th></th>\n",
       "      <th>event.time</th>\n",
       "      <th>event.name</th>\n",
       "      <th>user.id</th>\n",
       "    </tr>\n",
       "  </thead>\n",
       "  <tbody>\n",
       "    <tr>\n",
       "      <th>0</th>\n",
       "      <td>2019-10-07 00:00:00.431357</td>\n",
       "      <td>advert_open</td>\n",
       "      <td>020292ab-89bc-4156-9acf-68bc2783f894</td>\n",
       "    </tr>\n",
       "    <tr>\n",
       "      <th>1</th>\n",
       "      <td>2019-10-07 00:00:01.236320</td>\n",
       "      <td>tips_show</td>\n",
       "      <td>020292ab-89bc-4156-9acf-68bc2783f894</td>\n",
       "    </tr>\n",
       "    <tr>\n",
       "      <th>2</th>\n",
       "      <td>2019-10-07 00:00:02.245341</td>\n",
       "      <td>tips_show</td>\n",
       "      <td>cf7eda61-9349-469f-ac27-e5b6f5ec475c</td>\n",
       "    </tr>\n",
       "    <tr>\n",
       "      <th>3</th>\n",
       "      <td>2019-10-07 00:00:07.039334</td>\n",
       "      <td>tips_show</td>\n",
       "      <td>020292ab-89bc-4156-9acf-68bc2783f894</td>\n",
       "    </tr>\n",
       "    <tr>\n",
       "      <th>4</th>\n",
       "      <td>2019-10-07 00:00:56.319813</td>\n",
       "      <td>advert_open</td>\n",
       "      <td>cf7eda61-9349-469f-ac27-e5b6f5ec475c</td>\n",
       "    </tr>\n",
       "  </tbody>\n",
       "</table>\n",
       "</div>"
      ],
      "text/plain": [
       "                   event.time   event.name  \\\n",
       "0  2019-10-07 00:00:00.431357  advert_open   \n",
       "1  2019-10-07 00:00:01.236320    tips_show   \n",
       "2  2019-10-07 00:00:02.245341    tips_show   \n",
       "3  2019-10-07 00:00:07.039334    tips_show   \n",
       "4  2019-10-07 00:00:56.319813  advert_open   \n",
       "\n",
       "                                user.id  \n",
       "0  020292ab-89bc-4156-9acf-68bc2783f894  \n",
       "1  020292ab-89bc-4156-9acf-68bc2783f894  \n",
       "2  cf7eda61-9349-469f-ac27-e5b6f5ec475c  \n",
       "3  020292ab-89bc-4156-9acf-68bc2783f894  \n",
       "4  cf7eda61-9349-469f-ac27-e5b6f5ec475c  "
      ]
     },
     "metadata": {},
     "output_type": "display_data"
    }
   ],
   "source": [
    "# выведем на экран первые 5 строк датасета\n",
    "display(mobile_dataset.head())"
   ]
  },
  {
   "cell_type": "markdown",
   "id": "94fcd07b",
   "metadata": {},
   "source": [
    "## Предобработка данных"
   ]
  },
  {
   "cell_type": "code",
   "execution_count": 5,
   "id": "53299cae",
   "metadata": {},
   "outputs": [
    {
     "name": "stdout",
     "output_type": "stream",
     "text": [
      "<class 'pandas.core.frame.DataFrame'>\n",
      "RangeIndex: 4293 entries, 0 to 4292\n",
      "Data columns (total 2 columns):\n",
      " #   Column  Non-Null Count  Dtype \n",
      "---  ------  --------------  ----- \n",
      " 0   userId  4293 non-null   object\n",
      " 1   source  4293 non-null   object\n",
      "dtypes: object(2)\n",
      "memory usage: 67.2+ KB\n"
     ]
    }
   ],
   "source": [
    "# выведем общую информацию mobile_sourсes\n",
    "mobile_sourсes.info()"
   ]
  },
  {
   "cell_type": "code",
   "execution_count": 6,
   "id": "90973a8d",
   "metadata": {},
   "outputs": [
    {
     "name": "stdout",
     "output_type": "stream",
     "text": [
      "<class 'pandas.core.frame.DataFrame'>\n",
      "RangeIndex: 74197 entries, 0 to 74196\n",
      "Data columns (total 3 columns):\n",
      " #   Column      Non-Null Count  Dtype \n",
      "---  ------      --------------  ----- \n",
      " 0   event.time  74197 non-null  object\n",
      " 1   event.name  74197 non-null  object\n",
      " 2   user.id     74197 non-null  object\n",
      "dtypes: object(3)\n",
      "memory usage: 1.7+ MB\n"
     ]
    }
   ],
   "source": [
    "# выведем общую информацию mobile_dataset\n",
    "mobile_dataset.info()"
   ]
  },
  {
   "cell_type": "code",
   "execution_count": 7,
   "id": "ef2ae142",
   "metadata": {},
   "outputs": [],
   "source": [
    "# переименуем  наименования колонок в переменной mobile_dataset\n",
    "mobile_dataset.rename(columns = {'event.time' : 'event_time', 'event.name' : 'event_name', 'user.id': 'userId'}, inplace = True) \n"
   ]
  },
  {
   "cell_type": "code",
   "execution_count": 8,
   "id": "7ba67198",
   "metadata": {},
   "outputs": [],
   "source": [
    "# сохраним столбец event_time в формате времени\n",
    "mobile_dataset['event_time'] = pd.to_datetime(mobile_dataset['event_time'])\n",
    "# отбросим микросекунды\n",
    "mobile_dataset['event_time']= mobile_dataset['event_time'].dt.floor(freq='S')"
   ]
  },
  {
   "cell_type": "code",
   "execution_count": 9,
   "id": "1faeb6b0",
   "metadata": {},
   "outputs": [
    {
     "name": "stdout",
     "output_type": "stream",
     "text": [
      "<class 'pandas.core.frame.DataFrame'>\n",
      "RangeIndex: 74197 entries, 0 to 74196\n",
      "Data columns (total 3 columns):\n",
      " #   Column      Non-Null Count  Dtype         \n",
      "---  ------      --------------  -----         \n",
      " 0   event_time  74197 non-null  datetime64[ns]\n",
      " 1   event_name  74197 non-null  object        \n",
      " 2   userId      74197 non-null  object        \n",
      "dtypes: datetime64[ns](1), object(2)\n",
      "memory usage: 1.7+ MB\n"
     ]
    }
   ],
   "source": [
    "# выведем общую информацию mobile_dataset для проверки типов данных\n",
    "mobile_dataset.info()"
   ]
  },
  {
   "cell_type": "code",
   "execution_count": 10,
   "id": "e16fd876",
   "metadata": {},
   "outputs": [
    {
     "data": {
      "text/html": [
       "<div>\n",
       "<style scoped>\n",
       "    .dataframe tbody tr th:only-of-type {\n",
       "        vertical-align: middle;\n",
       "    }\n",
       "\n",
       "    .dataframe tbody tr th {\n",
       "        vertical-align: top;\n",
       "    }\n",
       "\n",
       "    .dataframe thead th {\n",
       "        text-align: right;\n",
       "    }\n",
       "</style>\n",
       "<table border=\"1\" class=\"dataframe\">\n",
       "  <thead>\n",
       "    <tr style=\"text-align: right;\">\n",
       "      <th></th>\n",
       "      <th>event_time</th>\n",
       "      <th>event_name</th>\n",
       "      <th>userId</th>\n",
       "    </tr>\n",
       "  </thead>\n",
       "  <tbody>\n",
       "    <tr>\n",
       "      <th>0</th>\n",
       "      <td>2019-10-07 00:00:00</td>\n",
       "      <td>advert_open</td>\n",
       "      <td>020292ab-89bc-4156-9acf-68bc2783f894</td>\n",
       "    </tr>\n",
       "    <tr>\n",
       "      <th>1</th>\n",
       "      <td>2019-10-07 00:00:01</td>\n",
       "      <td>tips_show</td>\n",
       "      <td>020292ab-89bc-4156-9acf-68bc2783f894</td>\n",
       "    </tr>\n",
       "    <tr>\n",
       "      <th>2</th>\n",
       "      <td>2019-10-07 00:00:02</td>\n",
       "      <td>tips_show</td>\n",
       "      <td>cf7eda61-9349-469f-ac27-e5b6f5ec475c</td>\n",
       "    </tr>\n",
       "    <tr>\n",
       "      <th>3</th>\n",
       "      <td>2019-10-07 00:00:07</td>\n",
       "      <td>tips_show</td>\n",
       "      <td>020292ab-89bc-4156-9acf-68bc2783f894</td>\n",
       "    </tr>\n",
       "    <tr>\n",
       "      <th>4</th>\n",
       "      <td>2019-10-07 00:00:56</td>\n",
       "      <td>advert_open</td>\n",
       "      <td>cf7eda61-9349-469f-ac27-e5b6f5ec475c</td>\n",
       "    </tr>\n",
       "  </tbody>\n",
       "</table>\n",
       "</div>"
      ],
      "text/plain": [
       "           event_time   event_name                                userId\n",
       "0 2019-10-07 00:00:00  advert_open  020292ab-89bc-4156-9acf-68bc2783f894\n",
       "1 2019-10-07 00:00:01    tips_show  020292ab-89bc-4156-9acf-68bc2783f894\n",
       "2 2019-10-07 00:00:02    tips_show  cf7eda61-9349-469f-ac27-e5b6f5ec475c\n",
       "3 2019-10-07 00:00:07    tips_show  020292ab-89bc-4156-9acf-68bc2783f894\n",
       "4 2019-10-07 00:00:56  advert_open  cf7eda61-9349-469f-ac27-e5b6f5ec475c"
      ]
     },
     "metadata": {},
     "output_type": "display_data"
    }
   ],
   "source": [
    "# выведем на экран первые 5 строк датасета\n",
    "display(mobile_dataset.head())"
   ]
  },
  {
   "cell_type": "code",
   "execution_count": 11,
   "id": "e62de83c",
   "metadata": {},
   "outputs": [
    {
     "data": {
      "text/plain": [
       "1143"
      ]
     },
     "execution_count": 11,
     "metadata": {},
     "output_type": "execute_result"
    }
   ],
   "source": [
    "# проверим дубликаты\n",
    "mobile_dataset.duplicated().sum()"
   ]
  },
  {
   "cell_type": "code",
   "execution_count": 12,
   "id": "912f54bd",
   "metadata": {},
   "outputs": [
    {
     "data": {
      "text/plain": [
       "0"
      ]
     },
     "execution_count": 12,
     "metadata": {},
     "output_type": "execute_result"
    }
   ],
   "source": [
    "# проверим дубликаты\n",
    "mobile_sourсes.duplicated().sum()"
   ]
  },
  {
   "cell_type": "code",
   "execution_count": 13,
   "id": "d926859c",
   "metadata": {},
   "outputs": [
    {
     "data": {
      "text/plain": [
       "0"
      ]
     },
     "execution_count": 13,
     "metadata": {},
     "output_type": "execute_result"
    }
   ],
   "source": [
    "# удалим дубликаты\n",
    "mobile_dataset = mobile_dataset.drop_duplicates()\n",
    "# проверим дубликаты\n",
    "mobile_dataset.duplicated().sum()\n"
   ]
  },
  {
   "cell_type": "markdown",
   "id": "1620a724",
   "metadata": {},
   "source": [
    "* Предварительный вывод\n",
    "\n",
    "в ходе предобработки установлено:\n",
    "\n",
    "пропущенных значений в данных нет\n",
    "\n",
    "дубликаты удалены.\n",
    "\n",
    "Наименования колонок приведены к змеиному регистру.\n",
    "\n",
    "Колонка с указанной датой event_time переведена в формат datetime64, микросекунды отброшены."
   ]
  },
  {
   "cell_type": "markdown",
   "id": "32170eca",
   "metadata": {},
   "source": [
    "# Исследовательский анализ данных."
   ]
  },
  {
   "cell_type": "markdown",
   "id": "8a831d8d",
   "metadata": {},
   "source": [
    "## Определить минимальную и максимальную даты."
   ]
  },
  {
   "cell_type": "code",
   "execution_count": 14,
   "id": "c5def83c",
   "metadata": {},
   "outputs": [
    {
     "name": "stdout",
     "output_type": "stream",
     "text": [
      "Минимальная дата : 2019-10-07 00:00:00\n",
      "Максимальная дата : 2019-11-03 23:58:12\n"
     ]
    }
   ],
   "source": [
    "# найдём максимальную и минимальную даты\n",
    "print('Минимальная дата :',mobile_dataset['event_time'].min())\n",
    "print('Максимальная дата :',mobile_dataset['event_time'].max())"
   ]
  },
  {
   "cell_type": "markdown",
   "id": "71396737",
   "metadata": {},
   "source": [
    "## Определить количество событий."
   ]
  },
  {
   "cell_type": "code",
   "execution_count": 15,
   "id": "5549df7c",
   "metadata": {},
   "outputs": [
    {
     "data": {
      "text/plain": [
       "0       advert_open\n",
       "1         tips_show\n",
       "2               map\n",
       "3     contacts_show\n",
       "4          search_4\n",
       "5          search_5\n",
       "6        tips_click\n",
       "7       photos_show\n",
       "8          search_1\n",
       "9          search_2\n",
       "10         search_3\n",
       "11    favorites_add\n",
       "12    contacts_call\n",
       "13         search_6\n",
       "14         search_7\n",
       "15    show_contacts\n",
       "dtype: object"
      ]
     },
     "execution_count": 15,
     "metadata": {},
     "output_type": "execute_result"
    }
   ],
   "source": [
    "# определим сколько всего событий в данных\n",
    "pd.Series(mobile_dataset['event_name'].unique())"
   ]
  },
  {
   "cell_type": "markdown",
   "id": "fb9c1b0d",
   "metadata": {},
   "source": [
    "## Определить количество пользователей."
   ]
  },
  {
   "cell_type": "code",
   "execution_count": 16,
   "id": "a1134c68",
   "metadata": {},
   "outputs": [
    {
     "name": "stdout",
     "output_type": "stream",
     "text": [
      "всего пользователей : 4293\n"
     ]
    }
   ],
   "source": [
    "#определим сколько всего пользователей \n",
    "print('всего пользователей :',len(pd.Series(mobile_sourсes['userId'].unique())))"
   ]
  },
  {
   "cell_type": "markdown",
   "id": "f9a02cf2",
   "metadata": {},
   "source": [
    "## Построить гистограмму по дате."
   ]
  },
  {
   "cell_type": "code",
   "execution_count": 17,
   "id": "ab198434",
   "metadata": {},
   "outputs": [
    {
     "data": {
      "image/png": "[encoded data removed]",
      "text/plain": [
       "<Figure size 1080x576 with 1 Axes>"
      ]
     },
     "metadata": {
      "needs_background": "light"
     },
     "output_type": "display_data"
    }
   ],
   "source": [
    "# посторим гистограмму по дате \n",
    "h = mobile_dataset['event_time'].hist(bins=100,figsize=(15,8))\n",
    "fig = h.get_figure()\n",
    "plt.xticks(rotation=45)\n",
    "plt.title('Гистограмма по дате и времени ')\n",
    "plt.xlabel(\"дата\")\n",
    "plt.ylabel(\"активность пользователей\")\n",
    "plt.show()"
   ]
  },
  {
   "cell_type": "markdown",
   "id": "1cb0abf8",
   "metadata": {},
   "source": [
    "* Промежуточный вывод\n",
    "\n",
    "\n",
    "Гистограмма активности пользователей  имеет пик 24.10.2019 - возможно  вышла реклама или сезонное колебание (можно уточнить у продакт-менеджеров ). В целом, в анализируемом периоде активность пользователей распределена равномерно и находится на довольно высоком (относительно ночного спада) уровне."
   ]
  },
  {
   "cell_type": "markdown",
   "id": "f0fcd9e4",
   "metadata": {},
   "source": [
    "## Определить количество событий в среднем на пользователя."
   ]
  },
  {
   "cell_type": "code",
   "execution_count": 18,
   "id": "ff893d5c",
   "metadata": {},
   "outputs": [
    {
     "data": {
      "text/html": [
       "<div>\n",
       "<style scoped>\n",
       "    .dataframe tbody tr th:only-of-type {\n",
       "        vertical-align: middle;\n",
       "    }\n",
       "\n",
       "    .dataframe tbody tr th {\n",
       "        vertical-align: top;\n",
       "    }\n",
       "\n",
       "    .dataframe thead th {\n",
       "        text-align: right;\n",
       "    }\n",
       "</style>\n",
       "<table border=\"1\" class=\"dataframe\">\n",
       "  <thead>\n",
       "    <tr style=\"text-align: right;\">\n",
       "      <th></th>\n",
       "      <th>event_name</th>\n",
       "    </tr>\n",
       "  </thead>\n",
       "  <tbody>\n",
       "    <tr>\n",
       "      <th>count</th>\n",
       "      <td>4293.000000</td>\n",
       "    </tr>\n",
       "    <tr>\n",
       "      <th>mean</th>\n",
       "      <td>17.017004</td>\n",
       "    </tr>\n",
       "    <tr>\n",
       "      <th>std</th>\n",
       "      <td>28.597431</td>\n",
       "    </tr>\n",
       "    <tr>\n",
       "      <th>min</th>\n",
       "      <td>1.000000</td>\n",
       "    </tr>\n",
       "    <tr>\n",
       "      <th>25%</th>\n",
       "      <td>5.000000</td>\n",
       "    </tr>\n",
       "    <tr>\n",
       "      <th>50%</th>\n",
       "      <td>9.000000</td>\n",
       "    </tr>\n",
       "    <tr>\n",
       "      <th>75%</th>\n",
       "      <td>17.000000</td>\n",
       "    </tr>\n",
       "    <tr>\n",
       "      <th>max</th>\n",
       "      <td>470.000000</td>\n",
       "    </tr>\n",
       "  </tbody>\n",
       "</table>\n",
       "</div>"
      ],
      "text/plain": [
       "        event_name\n",
       "count  4293.000000\n",
       "mean     17.017004\n",
       "std      28.597431\n",
       "min       1.000000\n",
       "25%       5.000000\n",
       "50%       9.000000\n",
       "75%      17.000000\n",
       "max     470.000000"
      ]
     },
     "execution_count": 18,
     "metadata": {},
     "output_type": "execute_result"
    }
   ],
   "source": [
    "#Посчитаем сколько в среднем событий приходится на пользователя\n",
    "pd.pivot_table(mobile_dataset, values='event_name',index='userId',aggfunc={'event_name': 'count'})\\\n",
    ".reset_index().describe()"
   ]
  },
  {
   "cell_type": "markdown",
   "id": "8445805e",
   "metadata": {},
   "source": [
    "## Определить сколько раз пользователи совершали каждое событие."
   ]
  },
  {
   "cell_type": "code",
   "execution_count": 19,
   "id": "51ea9f1e",
   "metadata": {},
   "outputs": [
    {
     "data": {
      "text/plain": [
       "event_name\n",
       "advert_open       6146\n",
       "contacts_call      534\n",
       "contacts_show     4297\n",
       "favorites_add     1414\n",
       "map               3749\n",
       "photos_show       9352\n",
       "search_1          3488\n",
       "search_2           324\n",
       "search_3           521\n",
       "search_4           701\n",
       "search_5          1049\n",
       "search_6           460\n",
       "search_7           222\n",
       "show_contacts       79\n",
       "tips_click         811\n",
       "tips_show        39907\n",
       "Name: userId, dtype: int64"
      ]
     },
     "metadata": {},
     "output_type": "display_data"
    }
   ],
   "source": [
    "# посчитаем количество операций в каждом событии\n",
    "display(mobile_dataset.groupby(['event_name'])['userId'].count())#"
   ]
  },
  {
   "cell_type": "markdown",
   "id": "51728043",
   "metadata": {},
   "source": [
    "\n",
    "\n",
    " * События contacts_show и show_contact объединены в contacts_show;\n",
    "    \n",
    " * все события search объединены в одно search_7.   \n",
    "    \n",
    "    "
   ]
  },
  {
   "cell_type": "code",
   "execution_count": 20,
   "id": "f83b566e",
   "metadata": {},
   "outputs": [
    {
     "data": {
      "text/plain": [
       "event_name\n",
       "advert_open       6146\n",
       "contacts_call      534\n",
       "contacts_show     4376\n",
       "favorites_add     1414\n",
       "map               3749\n",
       "photos_show       9352\n",
       "search_7          6765\n",
       "tips_click         811\n",
       "tips_show        39907\n",
       "Name: userId, dtype: int64"
      ]
     },
     "metadata": {},
     "output_type": "display_data"
    }
   ],
   "source": [
    "# объединим события contacts_show и show_contacts\n",
    "mobile_dataset['event_name']= mobile_dataset['event_name'].replace('show_contacts','contacts_show')\n",
    "# объединим события search\n",
    "mobile_dataset['event_name']= mobile_dataset['event_name']\\\n",
    ".replace({'search_1','search_2','search_3'},{'search_4','search_5','search_6'})\\\n",
    ".replace({'search_4','search_5'},{'search_6','search_7'}).replace('search_6','search_7')\n",
    "# выведем на экран\n",
    "display(mobile_dataset.groupby(['event_name'])['userId'].count())"
   ]
  },
  {
   "cell_type": "markdown",
   "id": "75d2cd3f",
   "metadata": {},
   "source": [
    "В результете исследовательского анализа данных установлено:\n",
    "\n",
    "* минимальная дата анализируемого периода - 2019-10-07, \n",
    "* максимальная дата анализируемого периода -2019-11-03;\n",
    "\n",
    "* событие tips_show- самое много численное, пользователями не совершается, а является автоматическим и в некоторых пунтках анализа принимать участие не должно;\n",
    "\n",
    "* всего пользователей : 4293;\n",
    "\n",
    "* количество событий в среднем на пользователя -17;\n",
    "\n",
    "* наиболшее количество раз совершалось событие photos_show, наименьшее количество раз - contacts_call- что иллюстрирует большую заинтересованность пользователей в фотографиях и низкую активность в звонке непосредственно из приложения.\n",
    "\n",
    "В составе данных о событиях совершённых пользователями обнаружены идентичные и схожие по своей природе события, которые, для целей анализа, решено объединить между собой.Речь идёт о contacts_show и show_contact и событиях search. \n",
    "Гистограмма активности пользователей  даёт возможность сделать вывод о достаточно высокой активности  в течение анализируемого периода и небольшом пике активности 24.10.2019г. Причину пика следует уточнить у продакт- менеджера.\n"
   ]
  },
  {
   "cell_type": "markdown",
   "id": "ff89fcac",
   "metadata": {},
   "source": [
    "# Сегментирование пользователей на основе действий.\n"
   ]
  },
  {
   "cell_type": "markdown",
   "id": "702c0e3a",
   "metadata": {},
   "source": [
    "Перед сегментированием пользователей  выделим в данных пользовательские сессии. Размер сессий ограничим 30 минутами, т.к. это интуитивно достаточный период для пользования приложением по продаже ненужных вещей.  "
   ]
  },
  {
   "cell_type": "code",
   "execution_count": 21,
   "id": "deb3cb74",
   "metadata": {},
   "outputs": [
    {
     "data": {
      "text/html": [
       "<div>\n",
       "<style scoped>\n",
       "    .dataframe tbody tr th:only-of-type {\n",
       "        vertical-align: middle;\n",
       "    }\n",
       "\n",
       "    .dataframe tbody tr th {\n",
       "        vertical-align: top;\n",
       "    }\n",
       "\n",
       "    .dataframe thead th {\n",
       "        text-align: right;\n",
       "    }\n",
       "</style>\n",
       "<table border=\"1\" class=\"dataframe\">\n",
       "  <thead>\n",
       "    <tr style=\"text-align: right;\">\n",
       "      <th></th>\n",
       "      <th>session_id</th>\n",
       "    </tr>\n",
       "  </thead>\n",
       "  <tbody>\n",
       "    <tr>\n",
       "      <th>count</th>\n",
       "      <td>73054.000000</td>\n",
       "    </tr>\n",
       "    <tr>\n",
       "      <th>mean</th>\n",
       "      <td>5008.486914</td>\n",
       "    </tr>\n",
       "    <tr>\n",
       "      <th>std</th>\n",
       "      <td>3054.556129</td>\n",
       "    </tr>\n",
       "    <tr>\n",
       "      <th>min</th>\n",
       "      <td>1.000000</td>\n",
       "    </tr>\n",
       "    <tr>\n",
       "      <th>25%</th>\n",
       "      <td>2239.000000</td>\n",
       "    </tr>\n",
       "    <tr>\n",
       "      <th>50%</th>\n",
       "      <td>5000.000000</td>\n",
       "    </tr>\n",
       "    <tr>\n",
       "      <th>75%</th>\n",
       "      <td>7641.000000</td>\n",
       "    </tr>\n",
       "    <tr>\n",
       "      <th>max</th>\n",
       "      <td>10368.000000</td>\n",
       "    </tr>\n",
       "  </tbody>\n",
       "</table>\n",
       "</div>"
      ],
      "text/plain": [
       "         session_id\n",
       "count  73054.000000\n",
       "mean    5008.486914\n",
       "std     3054.556129\n",
       "min        1.000000\n",
       "25%     2239.000000\n",
       "50%     5000.000000\n",
       "75%     7641.000000\n",
       "max    10368.000000"
      ]
     },
     "metadata": {},
     "output_type": "display_data"
    }
   ],
   "source": [
    "# выделение сессий\n",
    "\n",
    "g = (mobile_dataset.sort_values(['userId', 'event_time']).groupby('userId')['event_time']\\\n",
    "     .diff() > pd.Timedelta('30Min')).cumsum()\n",
    "#создать счетчик групп\n",
    "mobile_dataset['session_id'] = mobile_dataset.groupby(['userId', g], sort=False).ngroup() + 1\n",
    "#  выведем основные показатели количества сессий\n",
    "display (mobile_dataset.describe())"
   ]
  },
  {
   "cell_type": "code",
   "execution_count": 22,
   "id": "843dfbee",
   "metadata": {},
   "outputs": [
    {
     "data": {
      "text/html": [
       "<div>\n",
       "<style scoped>\n",
       "    .dataframe tbody tr th:only-of-type {\n",
       "        vertical-align: middle;\n",
       "    }\n",
       "\n",
       "    .dataframe tbody tr th {\n",
       "        vertical-align: top;\n",
       "    }\n",
       "\n",
       "    .dataframe thead th {\n",
       "        text-align: right;\n",
       "    }\n",
       "</style>\n",
       "<table border=\"1\" class=\"dataframe\">\n",
       "  <thead>\n",
       "    <tr style=\"text-align: right;\">\n",
       "      <th></th>\n",
       "      <th>event_time</th>\n",
       "      <th>event_name</th>\n",
       "      <th>userId</th>\n",
       "      <th>session_id</th>\n",
       "      <th>source</th>\n",
       "    </tr>\n",
       "  </thead>\n",
       "  <tbody>\n",
       "    <tr>\n",
       "      <th>0</th>\n",
       "      <td>2019-10-07 00:00:00</td>\n",
       "      <td>advert_open</td>\n",
       "      <td>020292ab-89bc-4156-9acf-68bc2783f894</td>\n",
       "      <td>1</td>\n",
       "      <td>other</td>\n",
       "    </tr>\n",
       "    <tr>\n",
       "      <th>1</th>\n",
       "      <td>2019-10-07 00:00:01</td>\n",
       "      <td>tips_show</td>\n",
       "      <td>020292ab-89bc-4156-9acf-68bc2783f894</td>\n",
       "      <td>1</td>\n",
       "      <td>other</td>\n",
       "    </tr>\n",
       "    <tr>\n",
       "      <th>2</th>\n",
       "      <td>2019-10-07 00:00:02</td>\n",
       "      <td>tips_show</td>\n",
       "      <td>cf7eda61-9349-469f-ac27-e5b6f5ec475c</td>\n",
       "      <td>2</td>\n",
       "      <td>yandex</td>\n",
       "    </tr>\n",
       "    <tr>\n",
       "      <th>3</th>\n",
       "      <td>2019-10-07 00:00:07</td>\n",
       "      <td>tips_show</td>\n",
       "      <td>020292ab-89bc-4156-9acf-68bc2783f894</td>\n",
       "      <td>1</td>\n",
       "      <td>other</td>\n",
       "    </tr>\n",
       "    <tr>\n",
       "      <th>4</th>\n",
       "      <td>2019-10-07 00:00:56</td>\n",
       "      <td>advert_open</td>\n",
       "      <td>cf7eda61-9349-469f-ac27-e5b6f5ec475c</td>\n",
       "      <td>2</td>\n",
       "      <td>yandex</td>\n",
       "    </tr>\n",
       "  </tbody>\n",
       "</table>\n",
       "</div>"
      ],
      "text/plain": [
       "           event_time   event_name                                userId  \\\n",
       "0 2019-10-07 00:00:00  advert_open  020292ab-89bc-4156-9acf-68bc2783f894   \n",
       "1 2019-10-07 00:00:01    tips_show  020292ab-89bc-4156-9acf-68bc2783f894   \n",
       "2 2019-10-07 00:00:02    tips_show  cf7eda61-9349-469f-ac27-e5b6f5ec475c   \n",
       "3 2019-10-07 00:00:07    tips_show  020292ab-89bc-4156-9acf-68bc2783f894   \n",
       "4 2019-10-07 00:00:56  advert_open  cf7eda61-9349-469f-ac27-e5b6f5ec475c   \n",
       "\n",
       "   session_id  source  \n",
       "0           1   other  \n",
       "1           1   other  \n",
       "2           2  yandex  \n",
       "3           1   other  \n",
       "4           2  yandex  "
      ]
     },
     "metadata": {},
     "output_type": "display_data"
    }
   ],
   "source": [
    "# добавим источник в данные пользователей\n",
    "mobile_dataset_sourсes = mobile_dataset.merge(mobile_sourсes, how='left', on='userId')\n",
    "display(mobile_dataset_sourсes.head())"
   ]
  },
  {
   "cell_type": "markdown",
   "id": "6d9699d8",
   "metadata": {},
   "source": [
    "При подготовке данных к кластеризации в зависимости от типа поведения, удалим из них событие tips_show как независящее от поведения пользователя."
   ]
  },
  {
   "cell_type": "code",
   "execution_count": 23,
   "id": "7c240a68",
   "metadata": {},
   "outputs": [
    {
     "data": {
      "text/html": [
       "<div>\n",
       "<style scoped>\n",
       "    .dataframe tbody tr th:only-of-type {\n",
       "        vertical-align: middle;\n",
       "    }\n",
       "\n",
       "    .dataframe tbody tr th {\n",
       "        vertical-align: top;\n",
       "    }\n",
       "\n",
       "    .dataframe thead th {\n",
       "        text-align: right;\n",
       "    }\n",
       "</style>\n",
       "<table border=\"1\" class=\"dataframe\">\n",
       "  <thead>\n",
       "    <tr style=\"text-align: right;\">\n",
       "      <th></th>\n",
       "      <th>advert_open</th>\n",
       "      <th>contacts_call</th>\n",
       "      <th>contacts_show</th>\n",
       "      <th>favorites_add</th>\n",
       "      <th>map</th>\n",
       "      <th>photos_show</th>\n",
       "      <th>search_7</th>\n",
       "      <th>tips_click</th>\n",
       "      <th>tips_show</th>\n",
       "    </tr>\n",
       "    <tr>\n",
       "      <th>userId</th>\n",
       "      <th></th>\n",
       "      <th></th>\n",
       "      <th></th>\n",
       "      <th></th>\n",
       "      <th></th>\n",
       "      <th></th>\n",
       "      <th></th>\n",
       "      <th></th>\n",
       "      <th></th>\n",
       "    </tr>\n",
       "  </thead>\n",
       "  <tbody>\n",
       "    <tr>\n",
       "      <th>0001b1d5-b74a-4cbf-aeb0-7df5947bf349</th>\n",
       "      <td>0.0</td>\n",
       "      <td>0.000000</td>\n",
       "      <td>0.000000</td>\n",
       "      <td>0.0</td>\n",
       "      <td>3572.333333</td>\n",
       "      <td>0.000000</td>\n",
       "      <td>0.000000</td>\n",
       "      <td>0.0</td>\n",
       "      <td>3158.482759</td>\n",
       "    </tr>\n",
       "    <tr>\n",
       "      <th>00157779-810c-4498-9e05-a1e9e3cedf93</th>\n",
       "      <td>7169.5</td>\n",
       "      <td>6026.400000</td>\n",
       "      <td>7126.545455</td>\n",
       "      <td>6415.5</td>\n",
       "      <td>0.000000</td>\n",
       "      <td>6452.424242</td>\n",
       "      <td>6586.777778</td>\n",
       "      <td>0.0</td>\n",
       "      <td>0.000000</td>\n",
       "    </tr>\n",
       "    <tr>\n",
       "      <th>00463033-5717-4bf1-91b4-09183923b9df</th>\n",
       "      <td>0.0</td>\n",
       "      <td>0.000000</td>\n",
       "      <td>0.000000</td>\n",
       "      <td>0.0</td>\n",
       "      <td>0.000000</td>\n",
       "      <td>9431.000000</td>\n",
       "      <td>0.000000</td>\n",
       "      <td>0.0</td>\n",
       "      <td>0.000000</td>\n",
       "    </tr>\n",
       "    <tr>\n",
       "      <th>004690c3-5a84-4bb7-a8af-e0c8f8fca64e</th>\n",
       "      <td>7094.0</td>\n",
       "      <td>0.000000</td>\n",
       "      <td>0.000000</td>\n",
       "      <td>0.0</td>\n",
       "      <td>7126.000000</td>\n",
       "      <td>0.000000</td>\n",
       "      <td>6491.000000</td>\n",
       "      <td>0.0</td>\n",
       "      <td>6431.500000</td>\n",
       "    </tr>\n",
       "    <tr>\n",
       "      <th>00551e79-152e-4441-9cf7-565d7eb04090</th>\n",
       "      <td>0.0</td>\n",
       "      <td>7286.333333</td>\n",
       "      <td>7286.333333</td>\n",
       "      <td>0.0</td>\n",
       "      <td>0.000000</td>\n",
       "      <td>7979.000000</td>\n",
       "      <td>7661.000000</td>\n",
       "      <td>0.0</td>\n",
       "      <td>0.000000</td>\n",
       "    </tr>\n",
       "  </tbody>\n",
       "</table>\n",
       "</div>"
      ],
      "text/plain": [
       "                                      advert_open  contacts_call  \\\n",
       "userId                                                             \n",
       "0001b1d5-b74a-4cbf-aeb0-7df5947bf349          0.0       0.000000   \n",
       "00157779-810c-4498-9e05-a1e9e3cedf93       7169.5    6026.400000   \n",
       "00463033-5717-4bf1-91b4-09183923b9df          0.0       0.000000   \n",
       "004690c3-5a84-4bb7-a8af-e0c8f8fca64e       7094.0       0.000000   \n",
       "00551e79-152e-4441-9cf7-565d7eb04090          0.0    7286.333333   \n",
       "\n",
       "                                      contacts_show  favorites_add  \\\n",
       "userId                                                               \n",
       "0001b1d5-b74a-4cbf-aeb0-7df5947bf349       0.000000            0.0   \n",
       "00157779-810c-4498-9e05-a1e9e3cedf93    7126.545455         6415.5   \n",
       "00463033-5717-4bf1-91b4-09183923b9df       0.000000            0.0   \n",
       "004690c3-5a84-4bb7-a8af-e0c8f8fca64e       0.000000            0.0   \n",
       "00551e79-152e-4441-9cf7-565d7eb04090    7286.333333            0.0   \n",
       "\n",
       "                                              map  photos_show     search_7  \\\n",
       "userId                                                                        \n",
       "0001b1d5-b74a-4cbf-aeb0-7df5947bf349  3572.333333     0.000000     0.000000   \n",
       "00157779-810c-4498-9e05-a1e9e3cedf93     0.000000  6452.424242  6586.777778   \n",
       "00463033-5717-4bf1-91b4-09183923b9df     0.000000  9431.000000     0.000000   \n",
       "004690c3-5a84-4bb7-a8af-e0c8f8fca64e  7126.000000     0.000000  6491.000000   \n",
       "00551e79-152e-4441-9cf7-565d7eb04090     0.000000  7979.000000  7661.000000   \n",
       "\n",
       "                                      tips_click    tips_show  \n",
       "userId                                                         \n",
       "0001b1d5-b74a-4cbf-aeb0-7df5947bf349         0.0  3158.482759  \n",
       "00157779-810c-4498-9e05-a1e9e3cedf93         0.0     0.000000  \n",
       "00463033-5717-4bf1-91b4-09183923b9df         0.0     0.000000  \n",
       "004690c3-5a84-4bb7-a8af-e0c8f8fca64e         0.0  6431.500000  \n",
       "00551e79-152e-4441-9cf7-565d7eb04090         0.0     0.000000  "
      ]
     },
     "metadata": {},
     "output_type": "display_data"
    }
   ],
   "source": [
    "# сохраним в переменной df_cluster сгруппированные для обработки данные\n",
    "\n",
    "df_cluster = pd.pivot_table(mobile_dataset_sourсes, index='userId'\\\n",
    "                            ,columns=['event_name'],values='session_id',fill_value=0)\\\n",
    ".rename_axis(None, axis=1)\n",
    "\n",
    "display(df_cluster.head())"
   ]
  },
  {
   "cell_type": "markdown",
   "id": "58f662e3",
   "metadata": {},
   "source": [
    "## Проведём кластеризацию пользователей  в зависимости от типа поведения."
   ]
  },
  {
   "cell_type": "code",
   "execution_count": 24,
   "id": "327137c7",
   "metadata": {},
   "outputs": [],
   "source": [
    "# создаём объект класса scaler (нормализатор)\n",
    "scaler = StandardScaler() "
   ]
  },
  {
   "cell_type": "code",
   "execution_count": 25,
   "id": "44c843fd",
   "metadata": {},
   "outputs": [
    {
     "data": {
      "text/html": [
       "<div>\n",
       "<style scoped>\n",
       "    .dataframe tbody tr th:only-of-type {\n",
       "        vertical-align: middle;\n",
       "    }\n",
       "\n",
       "    .dataframe tbody tr th {\n",
       "        vertical-align: top;\n",
       "    }\n",
       "\n",
       "    .dataframe thead th {\n",
       "        text-align: right;\n",
       "    }\n",
       "</style>\n",
       "<table border=\"1\" class=\"dataframe\">\n",
       "  <thead>\n",
       "    <tr style=\"text-align: right;\">\n",
       "      <th></th>\n",
       "      <th>advert_open</th>\n",
       "      <th>contacts_call</th>\n",
       "      <th>favorites_add</th>\n",
       "      <th>map</th>\n",
       "      <th>photos_show</th>\n",
       "      <th>search_7</th>\n",
       "      <th>tips_click</th>\n",
       "    </tr>\n",
       "    <tr>\n",
       "      <th>userId</th>\n",
       "      <th></th>\n",
       "      <th></th>\n",
       "      <th></th>\n",
       "      <th></th>\n",
       "      <th></th>\n",
       "      <th></th>\n",
       "      <th></th>\n",
       "    </tr>\n",
       "  </thead>\n",
       "  <tbody>\n",
       "    <tr>\n",
       "      <th>0001b1d5-b74a-4cbf-aeb0-7df5947bf349</th>\n",
       "      <td>0.0</td>\n",
       "      <td>0.000000</td>\n",
       "      <td>0.0</td>\n",
       "      <td>3572.333333</td>\n",
       "      <td>0.000000</td>\n",
       "      <td>0.000000</td>\n",
       "      <td>0.0</td>\n",
       "    </tr>\n",
       "    <tr>\n",
       "      <th>00157779-810c-4498-9e05-a1e9e3cedf93</th>\n",
       "      <td>7169.5</td>\n",
       "      <td>6026.400000</td>\n",
       "      <td>6415.5</td>\n",
       "      <td>0.000000</td>\n",
       "      <td>6452.424242</td>\n",
       "      <td>6586.777778</td>\n",
       "      <td>0.0</td>\n",
       "    </tr>\n",
       "    <tr>\n",
       "      <th>00463033-5717-4bf1-91b4-09183923b9df</th>\n",
       "      <td>0.0</td>\n",
       "      <td>0.000000</td>\n",
       "      <td>0.0</td>\n",
       "      <td>0.000000</td>\n",
       "      <td>9431.000000</td>\n",
       "      <td>0.000000</td>\n",
       "      <td>0.0</td>\n",
       "    </tr>\n",
       "    <tr>\n",
       "      <th>004690c3-5a84-4bb7-a8af-e0c8f8fca64e</th>\n",
       "      <td>7094.0</td>\n",
       "      <td>0.000000</td>\n",
       "      <td>0.0</td>\n",
       "      <td>7126.000000</td>\n",
       "      <td>0.000000</td>\n",
       "      <td>6491.000000</td>\n",
       "      <td>0.0</td>\n",
       "    </tr>\n",
       "    <tr>\n",
       "      <th>00551e79-152e-4441-9cf7-565d7eb04090</th>\n",
       "      <td>0.0</td>\n",
       "      <td>7286.333333</td>\n",
       "      <td>0.0</td>\n",
       "      <td>0.000000</td>\n",
       "      <td>7979.000000</td>\n",
       "      <td>7661.000000</td>\n",
       "      <td>0.0</td>\n",
       "    </tr>\n",
       "  </tbody>\n",
       "</table>\n",
       "</div>"
      ],
      "text/plain": [
       "                                      advert_open  contacts_call  \\\n",
       "userId                                                             \n",
       "0001b1d5-b74a-4cbf-aeb0-7df5947bf349          0.0       0.000000   \n",
       "00157779-810c-4498-9e05-a1e9e3cedf93       7169.5    6026.400000   \n",
       "00463033-5717-4bf1-91b4-09183923b9df          0.0       0.000000   \n",
       "004690c3-5a84-4bb7-a8af-e0c8f8fca64e       7094.0       0.000000   \n",
       "00551e79-152e-4441-9cf7-565d7eb04090          0.0    7286.333333   \n",
       "\n",
       "                                      favorites_add          map  photos_show  \\\n",
       "userId                                                                          \n",
       "0001b1d5-b74a-4cbf-aeb0-7df5947bf349            0.0  3572.333333     0.000000   \n",
       "00157779-810c-4498-9e05-a1e9e3cedf93         6415.5     0.000000  6452.424242   \n",
       "00463033-5717-4bf1-91b4-09183923b9df            0.0     0.000000  9431.000000   \n",
       "004690c3-5a84-4bb7-a8af-e0c8f8fca64e            0.0  7126.000000     0.000000   \n",
       "00551e79-152e-4441-9cf7-565d7eb04090            0.0     0.000000  7979.000000   \n",
       "\n",
       "                                         search_7  tips_click  \n",
       "userId                                                         \n",
       "0001b1d5-b74a-4cbf-aeb0-7df5947bf349     0.000000         0.0  \n",
       "00157779-810c-4498-9e05-a1e9e3cedf93  6586.777778         0.0  \n",
       "00463033-5717-4bf1-91b4-09183923b9df     0.000000         0.0  \n",
       "004690c3-5a84-4bb7-a8af-e0c8f8fca64e  6491.000000         0.0  \n",
       "00551e79-152e-4441-9cf7-565d7eb04090  7661.000000         0.0  "
      ]
     },
     "metadata": {},
     "output_type": "display_data"
    }
   ],
   "source": [
    "# сохраним в переменной  х данные без целевой переменной  и tips_show \n",
    "x = df_cluster.drop(['contacts_show','tips_show'], axis = 1)\n",
    "display(x.head())"
   ]
  },
  {
   "cell_type": "markdown",
   "id": "f7f5a039",
   "metadata": {},
   "source": [
    "Для определения количества кластеров выведем дендрограмму"
   ]
  },
  {
   "cell_type": "code",
   "execution_count": 26,
   "id": "5485e009",
   "metadata": {},
   "outputs": [
    {
     "name": "stdout",
     "output_type": "stream",
     "text": [
      "[[-0.38293211 -0.19402471 -0.2569394   0.77680401 -0.4915753  -0.63785669\n",
      "  -0.24172145]\n",
      " [ 2.73630768  4.48288363  3.59573696 -0.56557639  1.89479623  1.5085191\n",
      "  -0.24172145]\n",
      " [-0.38293211 -0.19402471 -0.2569394  -0.56557639  2.9963959  -0.63785669\n",
      "  -0.24172145]\n",
      " [ 2.70345984 -0.19402471 -0.2569394   2.11217003 -0.4915753   1.47730883\n",
      "  -0.24172145]\n",
      " [-0.38293211  5.46068011 -0.2569394  -0.56557639  2.45938666  1.85856652\n",
      "  -0.24172145]\n",
      " [-0.38293211 -0.19402471 -0.2569394  -0.56557639 -0.4915753   1.71160309\n",
      "  -0.24172145]\n",
      " [-0.38293211 -0.19402471 -0.2569394  -0.56557639 -0.4915753  -0.63785669\n",
      "  -0.24172145]\n",
      " [-0.38293211 -0.19402471 -0.2569394  -0.56557639  1.20229683 -0.63785669\n",
      "  -0.24172145]\n",
      " [-0.38293211 -0.19402471 -0.2569394  -0.56557639 -0.30591508 -0.63785669\n",
      "  -0.24172145]\n",
      " [-0.38293211 -0.19402471 -0.2569394  -0.56557639  0.12051168 -0.63785669\n",
      "  -0.24172145]]\n"
     ]
    }
   ],
   "source": [
    "# обучаем нормализатор и преобразуем набор данных\n",
    "x_sc = scaler.fit_transform(x)  \n",
    "# выведем матрицу на экран\n",
    "print(x_sc[:10]) "
   ]
  },
  {
   "cell_type": "code",
   "execution_count": 27,
   "id": "b4736bb9",
   "metadata": {},
   "outputs": [
    {
     "name": "stdout",
     "output_type": "stream",
     "text": [
      "[[6.000e+00 1.200e+01 0.000e+00 2.000e+00]\n",
      " [1.900e+01 4.293e+03 0.000e+00 3.000e+00]\n",
      " [2.000e+01 4.294e+03 0.000e+00 4.000e+00]\n",
      " [3.100e+01 4.295e+03 0.000e+00 5.000e+00]\n",
      " [3.800e+01 4.296e+03 0.000e+00 6.000e+00]\n",
      " [4.000e+01 4.297e+03 0.000e+00 7.000e+00]\n",
      " [5.000e+01 4.298e+03 0.000e+00 8.000e+00]\n",
      " [5.800e+01 4.299e+03 0.000e+00 9.000e+00]\n",
      " [6.500e+01 4.300e+03 0.000e+00 1.000e+01]\n",
      " [6.800e+01 4.301e+03 0.000e+00 1.100e+01]]\n"
     ]
    }
   ],
   "source": [
    "# в переменной linked сохраним таблицу «связок» \n",
    "linked = linkage(x_sc, method = 'ward')\n",
    "#выведем матрицу\n",
    "print(linked[:10])"
   ]
  },
  {
   "cell_type": "code",
   "execution_count": 28,
   "id": "5e7fc35b",
   "metadata": {},
   "outputs": [
    {
     "data": {
      "image/png": "[encoded data removed]",
      "text/plain": [
       "<Figure size 1080x720 with 1 Axes>"
      ]
     },
     "metadata": {
      "needs_background": "light"
     },
     "output_type": "display_data"
    }
   ],
   "source": [
    "# отрисуем дендрограмму\n",
    "plt.figure(figsize=(15, 10))  \n",
    "dendrogram(linked, orientation='top')\n",
    "plt.title('Hierarchial clustering ')\n",
    "plt.show() "
   ]
  },
  {
   "cell_type": "markdown",
   "id": "f9fde3a2",
   "metadata": {},
   "source": [
    "Количество кластеров примем равным 6 ."
   ]
  },
  {
   "cell_type": "markdown",
   "id": "70c6f91a",
   "metadata": {},
   "source": [
    "\n",
    " * Выше отрисована дендрограмма. По ней определила 6 пересечений на уровне показателя 60.  \n",
    " \n"
   ]
  },
  {
   "cell_type": "code",
   "execution_count": 29,
   "id": "f58e96a9",
   "metadata": {
    "scrolled": false
   },
   "outputs": [
    {
     "data": {
      "text/html": [
       "<div>\n",
       "<style scoped>\n",
       "    .dataframe tbody tr th:only-of-type {\n",
       "        vertical-align: middle;\n",
       "    }\n",
       "\n",
       "    .dataframe tbody tr th {\n",
       "        vertical-align: top;\n",
       "    }\n",
       "\n",
       "    .dataframe thead th {\n",
       "        text-align: right;\n",
       "    }\n",
       "</style>\n",
       "<table border=\"1\" class=\"dataframe\">\n",
       "  <thead>\n",
       "    <tr style=\"text-align: right;\">\n",
       "      <th></th>\n",
       "      <th>advert_open</th>\n",
       "      <th>contacts_call</th>\n",
       "      <th>contacts_show</th>\n",
       "      <th>favorites_add</th>\n",
       "      <th>map</th>\n",
       "      <th>photos_show</th>\n",
       "      <th>search_7</th>\n",
       "      <th>tips_click</th>\n",
       "      <th>tips_show</th>\n",
       "    </tr>\n",
       "    <tr>\n",
       "      <th>cluster</th>\n",
       "      <th></th>\n",
       "      <th></th>\n",
       "      <th></th>\n",
       "      <th></th>\n",
       "      <th></th>\n",
       "      <th></th>\n",
       "      <th></th>\n",
       "      <th></th>\n",
       "      <th></th>\n",
       "    </tr>\n",
       "  </thead>\n",
       "  <tbody>\n",
       "    <tr>\n",
       "      <th>0</th>\n",
       "      <td>1337.475859</td>\n",
       "      <td>0.000000</td>\n",
       "      <td>2612.900159</td>\n",
       "      <td>655.148647</td>\n",
       "      <td>2524.680791</td>\n",
       "      <td>117.018325</td>\n",
       "      <td>1566.950344</td>\n",
       "      <td>7270.933500</td>\n",
       "      <td>6275.595023</td>\n",
       "    </tr>\n",
       "    <tr>\n",
       "      <th>1</th>\n",
       "      <td>239.136829</td>\n",
       "      <td>37.469589</td>\n",
       "      <td>638.593549</td>\n",
       "      <td>68.618802</td>\n",
       "      <td>766.574077</td>\n",
       "      <td>169.905371</td>\n",
       "      <td>1157.741867</td>\n",
       "      <td>84.798549</td>\n",
       "      <td>3197.759219</td>\n",
       "    </tr>\n",
       "    <tr>\n",
       "      <th>2</th>\n",
       "      <td>760.809012</td>\n",
       "      <td>7051.056698</td>\n",
       "      <td>6943.919434</td>\n",
       "      <td>1322.595641</td>\n",
       "      <td>0.000000</td>\n",
       "      <td>5221.165346</td>\n",
       "      <td>3694.176646</td>\n",
       "      <td>0.000000</td>\n",
       "      <td>14.246154</td>\n",
       "    </tr>\n",
       "    <tr>\n",
       "      <th>3</th>\n",
       "      <td>29.216360</td>\n",
       "      <td>86.984535</td>\n",
       "      <td>1399.599859</td>\n",
       "      <td>64.931083</td>\n",
       "      <td>0.000000</td>\n",
       "      <td>6317.023450</td>\n",
       "      <td>3732.670318</td>\n",
       "      <td>6.365159</td>\n",
       "      <td>29.705360</td>\n",
       "    </tr>\n",
       "    <tr>\n",
       "      <th>4</th>\n",
       "      <td>4059.029616</td>\n",
       "      <td>0.000000</td>\n",
       "      <td>1319.031686</td>\n",
       "      <td>40.126097</td>\n",
       "      <td>6534.678143</td>\n",
       "      <td>11.849829</td>\n",
       "      <td>2741.873375</td>\n",
       "      <td>24.761945</td>\n",
       "      <td>6575.542489</td>\n",
       "    </tr>\n",
       "    <tr>\n",
       "      <th>5</th>\n",
       "      <td>2212.797684</td>\n",
       "      <td>38.672131</td>\n",
       "      <td>2138.834183</td>\n",
       "      <td>7096.290437</td>\n",
       "      <td>831.698928</td>\n",
       "      <td>4283.991938</td>\n",
       "      <td>4216.278968</td>\n",
       "      <td>86.530055</td>\n",
       "      <td>1773.522801</td>\n",
       "    </tr>\n",
       "  </tbody>\n",
       "</table>\n",
       "</div>"
      ],
      "text/plain": [
       "         advert_open  contacts_call  contacts_show  favorites_add  \\\n",
       "cluster                                                             \n",
       "0        1337.475859       0.000000    2612.900159     655.148647   \n",
       "1         239.136829      37.469589     638.593549      68.618802   \n",
       "2         760.809012    7051.056698    6943.919434    1322.595641   \n",
       "3          29.216360      86.984535    1399.599859      64.931083   \n",
       "4        4059.029616       0.000000    1319.031686      40.126097   \n",
       "5        2212.797684      38.672131    2138.834183    7096.290437   \n",
       "\n",
       "                 map  photos_show     search_7   tips_click    tips_show  \n",
       "cluster                                                                   \n",
       "0        2524.680791   117.018325  1566.950344  7270.933500  6275.595023  \n",
       "1         766.574077   169.905371  1157.741867    84.798549  3197.759219  \n",
       "2           0.000000  5221.165346  3694.176646     0.000000    14.246154  \n",
       "3           0.000000  6317.023450  3732.670318     6.365159    29.705360  \n",
       "4        6534.678143    11.849829  2741.873375    24.761945  6575.542489  \n",
       "5         831.698928  4283.991938  4216.278968    86.530055  1773.522801  "
      ]
     },
     "metadata": {},
     "output_type": "display_data"
    }
   ],
   "source": [
    "# стандартизируем данные\n",
    "sc = StandardScaler()\n",
    "x_sc = sc.fit_transform(df_cluster)\n",
    "\n",
    "# задаём модель k_means с числом кластеров 6 и фиксируем значение random_state\n",
    "km = KMeans(n_clusters=6, random_state=0)\n",
    "# прогнозируем кластеры для наблюдений (алгоритм присваивает им номера от 0 до 6)\n",
    "labels =  km.fit_predict(x_sc)\n",
    "\n",
    "# сохраняем метки кластера в поле нашего датасета\n",
    "df_cluster['cluster'] = labels\n",
    "\n",
    "# выводим статистику по средним значениям наших признаков по кластеру\n",
    "display(df_cluster.groupby('cluster').mean())\n",
    "\n"
   ]
  },
  {
   "cell_type": "code",
   "execution_count": 30,
   "id": "df71dd19",
   "metadata": {},
   "outputs": [
    {
     "data": {
      "text/html": [
       "<div>\n",
       "<style scoped>\n",
       "    .dataframe tbody tr th:only-of-type {\n",
       "        vertical-align: middle;\n",
       "    }\n",
       "\n",
       "    .dataframe tbody tr th {\n",
       "        vertical-align: top;\n",
       "    }\n",
       "\n",
       "    .dataframe thead th {\n",
       "        text-align: right;\n",
       "    }\n",
       "</style>\n",
       "<table border=\"1\" class=\"dataframe\">\n",
       "  <thead>\n",
       "    <tr style=\"text-align: right;\">\n",
       "      <th></th>\n",
       "      <th>advert_open</th>\n",
       "      <th>contacts_call</th>\n",
       "      <th>contacts_show</th>\n",
       "      <th>favorites_add</th>\n",
       "      <th>map</th>\n",
       "      <th>photos_show</th>\n",
       "      <th>search_7</th>\n",
       "      <th>tips_click</th>\n",
       "      <th>tips_show</th>\n",
       "    </tr>\n",
       "    <tr>\n",
       "      <th>cluster</th>\n",
       "      <th></th>\n",
       "      <th></th>\n",
       "      <th></th>\n",
       "      <th></th>\n",
       "      <th></th>\n",
       "      <th></th>\n",
       "      <th></th>\n",
       "      <th></th>\n",
       "      <th></th>\n",
       "    </tr>\n",
       "  </thead>\n",
       "  <tbody>\n",
       "    <tr>\n",
       "      <th>0</th>\n",
       "      <td>191</td>\n",
       "      <td>191</td>\n",
       "      <td>191</td>\n",
       "      <td>191</td>\n",
       "      <td>191</td>\n",
       "      <td>191</td>\n",
       "      <td>191</td>\n",
       "      <td>191</td>\n",
       "      <td>191</td>\n",
       "    </tr>\n",
       "    <tr>\n",
       "      <th>1</th>\n",
       "      <td>2606</td>\n",
       "      <td>2606</td>\n",
       "      <td>2606</td>\n",
       "      <td>2606</td>\n",
       "      <td>2606</td>\n",
       "      <td>2606</td>\n",
       "      <td>2606</td>\n",
       "      <td>2606</td>\n",
       "      <td>2606</td>\n",
       "    </tr>\n",
       "    <tr>\n",
       "      <th>2</th>\n",
       "      <td>130</td>\n",
       "      <td>130</td>\n",
       "      <td>130</td>\n",
       "      <td>130</td>\n",
       "      <td>130</td>\n",
       "      <td>130</td>\n",
       "      <td>130</td>\n",
       "      <td>130</td>\n",
       "      <td>130</td>\n",
       "    </tr>\n",
       "    <tr>\n",
       "      <th>3</th>\n",
       "      <td>597</td>\n",
       "      <td>597</td>\n",
       "      <td>597</td>\n",
       "      <td>597</td>\n",
       "      <td>597</td>\n",
       "      <td>597</td>\n",
       "      <td>597</td>\n",
       "      <td>597</td>\n",
       "      <td>597</td>\n",
       "    </tr>\n",
       "    <tr>\n",
       "      <th>4</th>\n",
       "      <td>586</td>\n",
       "      <td>586</td>\n",
       "      <td>586</td>\n",
       "      <td>586</td>\n",
       "      <td>586</td>\n",
       "      <td>586</td>\n",
       "      <td>586</td>\n",
       "      <td>586</td>\n",
       "      <td>586</td>\n",
       "    </tr>\n",
       "    <tr>\n",
       "      <th>5</th>\n",
       "      <td>183</td>\n",
       "      <td>183</td>\n",
       "      <td>183</td>\n",
       "      <td>183</td>\n",
       "      <td>183</td>\n",
       "      <td>183</td>\n",
       "      <td>183</td>\n",
       "      <td>183</td>\n",
       "      <td>183</td>\n",
       "    </tr>\n",
       "  </tbody>\n",
       "</table>\n",
       "</div>"
      ],
      "text/plain": [
       "         advert_open  contacts_call  contacts_show  favorites_add   map  \\\n",
       "cluster                                                                   \n",
       "0                191            191            191            191   191   \n",
       "1               2606           2606           2606           2606  2606   \n",
       "2                130            130            130            130   130   \n",
       "3                597            597            597            597   597   \n",
       "4                586            586            586            586   586   \n",
       "5                183            183            183            183   183   \n",
       "\n",
       "         photos_show  search_7  tips_click  tips_show  \n",
       "cluster                                                \n",
       "0                191       191         191        191  \n",
       "1               2606      2606        2606       2606  \n",
       "2                130       130         130        130  \n",
       "3                597       597         597        597  \n",
       "4                586       586         586        586  \n",
       "5                183       183         183        183  "
      ]
     },
     "metadata": {},
     "output_type": "display_data"
    }
   ],
   "source": [
    "#  выведем количество  строк в кластерах\n",
    "display(df_cluster.groupby('cluster').count())"
   ]
  },
  {
   "cell_type": "markdown",
   "id": "3a4a14b8",
   "metadata": {},
   "source": [
    "* Промежуточный вывод\n",
    "\n",
    "Кластеризация проведена методом KMeans. Количество кластеров - 6.\n",
    "\n",
    "Поведение пользователей в кластерах имеют свои особенности, которые выражаются в средних показателях количества дейстыий в приложении. Самыми яркими поведенческими особенностями пользователей в кластерах являются:\n",
    "\n",
    "* Кластер 0 - совершено максимальное количество действий tips_click (более 7000 раз);\n",
    "* Кластер 1 - меньше всех осуществили действия search_7 (в среднем чуть более 1157);  \n",
    "* Кластер 2 - максимальное количество действий contacts_call (более 7000 раз);\n",
    "* Кластер 3 - максимальное количество действий photos_show (более 6000 раз);\n",
    "* Кластер 4 - максимальное количество действий\tadvert_open и map (более 4000 и 6000 раз соответственно);\n",
    "* Кластер 5 - максимальное количество действий favorites_add (более 7000 раз).\n",
    "\n",
    "По результатам кластеризации можно определить, что основная аудитория попала в кластер 1 - более 60 %. Размеры остальных клатеров заметно меньше. Показатели поведения пользователей в этой группе очень низки."
   ]
  },
  {
   "cell_type": "markdown",
   "id": "668416c9",
   "metadata": {},
   "source": [
    "## Исследуем, как группы пользователей,  различаются по метрикам:\n",
    "\n",
    "1. retention rate,\n",
    "2. время, проведённое в приложении, \n",
    "3. частота действий, \n",
    "4. конверсия в целевое действие — просмотр контактов."
   ]
  },
  {
   "cell_type": "code",
   "execution_count": 31,
   "id": "b2219e0a",
   "metadata": {
    "code_folding": []
   },
   "outputs": [
    {
     "data": {
      "text/html": [
       "<div>\n",
       "<style scoped>\n",
       "    .dataframe tbody tr th:only-of-type {\n",
       "        vertical-align: middle;\n",
       "    }\n",
       "\n",
       "    .dataframe tbody tr th {\n",
       "        vertical-align: top;\n",
       "    }\n",
       "\n",
       "    .dataframe thead th {\n",
       "        text-align: right;\n",
       "    }\n",
       "</style>\n",
       "<table border=\"1\" class=\"dataframe\">\n",
       "  <thead>\n",
       "    <tr style=\"text-align: right;\">\n",
       "      <th></th>\n",
       "      <th>userId</th>\n",
       "      <th>cluster</th>\n",
       "    </tr>\n",
       "  </thead>\n",
       "  <tbody>\n",
       "    <tr>\n",
       "      <th>0</th>\n",
       "      <td>0001b1d5-b74a-4cbf-aeb0-7df5947bf349</td>\n",
       "      <td>1</td>\n",
       "    </tr>\n",
       "    <tr>\n",
       "      <th>1</th>\n",
       "      <td>00157779-810c-4498-9e05-a1e9e3cedf93</td>\n",
       "      <td>2</td>\n",
       "    </tr>\n",
       "    <tr>\n",
       "      <th>2</th>\n",
       "      <td>00463033-5717-4bf1-91b4-09183923b9df</td>\n",
       "      <td>3</td>\n",
       "    </tr>\n",
       "    <tr>\n",
       "      <th>3</th>\n",
       "      <td>004690c3-5a84-4bb7-a8af-e0c8f8fca64e</td>\n",
       "      <td>4</td>\n",
       "    </tr>\n",
       "    <tr>\n",
       "      <th>4</th>\n",
       "      <td>00551e79-152e-4441-9cf7-565d7eb04090</td>\n",
       "      <td>2</td>\n",
       "    </tr>\n",
       "  </tbody>\n",
       "</table>\n",
       "</div>"
      ],
      "text/plain": [
       "                                 userId  cluster\n",
       "0  0001b1d5-b74a-4cbf-aeb0-7df5947bf349        1\n",
       "1  00157779-810c-4498-9e05-a1e9e3cedf93        2\n",
       "2  00463033-5717-4bf1-91b4-09183923b9df        3\n",
       "3  004690c3-5a84-4bb7-a8af-e0c8f8fca64e        4\n",
       "4  00551e79-152e-4441-9cf7-565d7eb04090        2"
      ]
     },
     "metadata": {},
     "output_type": "display_data"
    }
   ],
   "source": [
    "# сохраним в переменной cluster_id\n",
    "cluster_id = pd.pivot_table(df_cluster, values='cluster',index='userId').reset_index()\n",
    "display(cluster_id.head())"
   ]
  },
  {
   "cell_type": "code",
   "execution_count": 32,
   "id": "06fb7699",
   "metadata": {},
   "outputs": [
    {
     "data": {
      "text/html": [
       "<div>\n",
       "<style scoped>\n",
       "    .dataframe tbody tr th:only-of-type {\n",
       "        vertical-align: middle;\n",
       "    }\n",
       "\n",
       "    .dataframe tbody tr th {\n",
       "        vertical-align: top;\n",
       "    }\n",
       "\n",
       "    .dataframe thead th {\n",
       "        text-align: right;\n",
       "    }\n",
       "</style>\n",
       "<table border=\"1\" class=\"dataframe\">\n",
       "  <thead>\n",
       "    <tr style=\"text-align: right;\">\n",
       "      <th></th>\n",
       "      <th>event_time</th>\n",
       "      <th>event_name</th>\n",
       "      <th>userId</th>\n",
       "      <th>session_id</th>\n",
       "      <th>source</th>\n",
       "      <th>cluster</th>\n",
       "    </tr>\n",
       "  </thead>\n",
       "  <tbody>\n",
       "    <tr>\n",
       "      <th>0</th>\n",
       "      <td>2019-10-07 00:00:00</td>\n",
       "      <td>advert_open</td>\n",
       "      <td>020292ab-89bc-4156-9acf-68bc2783f894</td>\n",
       "      <td>1</td>\n",
       "      <td>other</td>\n",
       "      <td>1</td>\n",
       "    </tr>\n",
       "    <tr>\n",
       "      <th>1</th>\n",
       "      <td>2019-10-07 00:00:01</td>\n",
       "      <td>tips_show</td>\n",
       "      <td>020292ab-89bc-4156-9acf-68bc2783f894</td>\n",
       "      <td>1</td>\n",
       "      <td>other</td>\n",
       "      <td>1</td>\n",
       "    </tr>\n",
       "    <tr>\n",
       "      <th>2</th>\n",
       "      <td>2019-10-07 00:00:02</td>\n",
       "      <td>tips_show</td>\n",
       "      <td>cf7eda61-9349-469f-ac27-e5b6f5ec475c</td>\n",
       "      <td>2</td>\n",
       "      <td>yandex</td>\n",
       "      <td>1</td>\n",
       "    </tr>\n",
       "    <tr>\n",
       "      <th>3</th>\n",
       "      <td>2019-10-07 00:00:07</td>\n",
       "      <td>tips_show</td>\n",
       "      <td>020292ab-89bc-4156-9acf-68bc2783f894</td>\n",
       "      <td>1</td>\n",
       "      <td>other</td>\n",
       "      <td>1</td>\n",
       "    </tr>\n",
       "    <tr>\n",
       "      <th>4</th>\n",
       "      <td>2019-10-07 00:00:56</td>\n",
       "      <td>advert_open</td>\n",
       "      <td>cf7eda61-9349-469f-ac27-e5b6f5ec475c</td>\n",
       "      <td>2</td>\n",
       "      <td>yandex</td>\n",
       "      <td>1</td>\n",
       "    </tr>\n",
       "  </tbody>\n",
       "</table>\n",
       "</div>"
      ],
      "text/plain": [
       "           event_time   event_name                                userId  \\\n",
       "0 2019-10-07 00:00:00  advert_open  020292ab-89bc-4156-9acf-68bc2783f894   \n",
       "1 2019-10-07 00:00:01    tips_show  020292ab-89bc-4156-9acf-68bc2783f894   \n",
       "2 2019-10-07 00:00:02    tips_show  cf7eda61-9349-469f-ac27-e5b6f5ec475c   \n",
       "3 2019-10-07 00:00:07    tips_show  020292ab-89bc-4156-9acf-68bc2783f894   \n",
       "4 2019-10-07 00:00:56  advert_open  cf7eda61-9349-469f-ac27-e5b6f5ec475c   \n",
       "\n",
       "   session_id  source  cluster  \n",
       "0           1   other        1  \n",
       "1           1   other        1  \n",
       "2           2  yandex        1  \n",
       "3           1   other        1  \n",
       "4           2  yandex        1  "
      ]
     },
     "metadata": {},
     "output_type": "display_data"
    }
   ],
   "source": [
    "# добавим к данным номер кластера\n",
    "mobile_dataset_sourсes_cluster = mobile_dataset_sourсes.merge(cluster_id, how='left', on='userId')\n",
    "# выведем на печать  первые 5 строк\n",
    "display(mobile_dataset_sourсes_cluster.head())"
   ]
  },
  {
   "cell_type": "code",
   "execution_count": 33,
   "id": "8ff8a19a",
   "metadata": {},
   "outputs": [
    {
     "data": {
      "text/html": [
       "<div>\n",
       "<style scoped>\n",
       "    .dataframe tbody tr th:only-of-type {\n",
       "        vertical-align: middle;\n",
       "    }\n",
       "\n",
       "    .dataframe tbody tr th {\n",
       "        vertical-align: top;\n",
       "    }\n",
       "\n",
       "    .dataframe thead th {\n",
       "        text-align: right;\n",
       "    }\n",
       "</style>\n",
       "<table border=\"1\" class=\"dataframe\">\n",
       "  <thead>\n",
       "    <tr style=\"text-align: right;\">\n",
       "      <th></th>\n",
       "      <th>userId</th>\n",
       "    </tr>\n",
       "    <tr>\n",
       "      <th>cluster</th>\n",
       "      <th></th>\n",
       "    </tr>\n",
       "  </thead>\n",
       "  <tbody>\n",
       "    <tr>\n",
       "      <th>0</th>\n",
       "      <td>191</td>\n",
       "    </tr>\n",
       "    <tr>\n",
       "      <th>1</th>\n",
       "      <td>2606</td>\n",
       "    </tr>\n",
       "    <tr>\n",
       "      <th>2</th>\n",
       "      <td>130</td>\n",
       "    </tr>\n",
       "    <tr>\n",
       "      <th>3</th>\n",
       "      <td>597</td>\n",
       "    </tr>\n",
       "    <tr>\n",
       "      <th>4</th>\n",
       "      <td>586</td>\n",
       "    </tr>\n",
       "    <tr>\n",
       "      <th>5</th>\n",
       "      <td>183</td>\n",
       "    </tr>\n",
       "  </tbody>\n",
       "</table>\n",
       "</div>"
      ],
      "text/plain": [
       "         userId\n",
       "cluster        \n",
       "0           191\n",
       "1          2606\n",
       "2           130\n",
       "3           597\n",
       "4           586\n",
       "5           183"
      ]
     },
     "execution_count": 33,
     "metadata": {},
     "output_type": "execute_result"
    }
   ],
   "source": [
    "# выведем количество пользователей в кластерах\n",
    "mobile_dataset_sourсes_cluster.groupby('cluster').agg({'userId':'nunique'})"
   ]
  },
  {
   "cell_type": "markdown",
   "id": "a9389e68",
   "metadata": {},
   "source": [
    " **Исследуем как группы пользователей различаются по показателю retention rate.**"
   ]
  },
  {
   "cell_type": "markdown",
   "id": "a471bd7b",
   "metadata": {},
   "source": [
    "Для расчета  retention rate подготовим таблицу, добавив в mobile_dataset_sourсes_cluster колонку с датой первого события."
   ]
  },
  {
   "cell_type": "code",
   "execution_count": 34,
   "id": "ee75ca1a",
   "metadata": {},
   "outputs": [
    {
     "data": {
      "text/html": [
       "<div>\n",
       "<style scoped>\n",
       "    .dataframe tbody tr th:only-of-type {\n",
       "        vertical-align: middle;\n",
       "    }\n",
       "\n",
       "    .dataframe tbody tr th {\n",
       "        vertical-align: top;\n",
       "    }\n",
       "\n",
       "    .dataframe thead th {\n",
       "        text-align: right;\n",
       "    }\n",
       "</style>\n",
       "<table border=\"1\" class=\"dataframe\">\n",
       "  <thead>\n",
       "    <tr style=\"text-align: right;\">\n",
       "      <th></th>\n",
       "      <th>event_time</th>\n",
       "      <th>event_name</th>\n",
       "      <th>userId</th>\n",
       "      <th>session_id</th>\n",
       "      <th>source</th>\n",
       "      <th>cluster</th>\n",
       "      <th>min</th>\n",
       "    </tr>\n",
       "  </thead>\n",
       "  <tbody>\n",
       "    <tr>\n",
       "      <th>0</th>\n",
       "      <td>2019-10-07 00:00:00</td>\n",
       "      <td>advert_open</td>\n",
       "      <td>020292ab-89bc-4156-9acf-68bc2783f894</td>\n",
       "      <td>1</td>\n",
       "      <td>other</td>\n",
       "      <td>1</td>\n",
       "      <td>2019-10-07 00:00:00</td>\n",
       "    </tr>\n",
       "    <tr>\n",
       "      <th>1</th>\n",
       "      <td>2019-10-07 00:00:01</td>\n",
       "      <td>tips_show</td>\n",
       "      <td>020292ab-89bc-4156-9acf-68bc2783f894</td>\n",
       "      <td>1</td>\n",
       "      <td>other</td>\n",
       "      <td>1</td>\n",
       "      <td>2019-10-07 00:00:00</td>\n",
       "    </tr>\n",
       "    <tr>\n",
       "      <th>2</th>\n",
       "      <td>2019-10-07 00:00:02</td>\n",
       "      <td>tips_show</td>\n",
       "      <td>cf7eda61-9349-469f-ac27-e5b6f5ec475c</td>\n",
       "      <td>2</td>\n",
       "      <td>yandex</td>\n",
       "      <td>1</td>\n",
       "      <td>2019-10-07 00:00:02</td>\n",
       "    </tr>\n",
       "    <tr>\n",
       "      <th>3</th>\n",
       "      <td>2019-10-07 00:00:07</td>\n",
       "      <td>tips_show</td>\n",
       "      <td>020292ab-89bc-4156-9acf-68bc2783f894</td>\n",
       "      <td>1</td>\n",
       "      <td>other</td>\n",
       "      <td>1</td>\n",
       "      <td>2019-10-07 00:00:00</td>\n",
       "    </tr>\n",
       "    <tr>\n",
       "      <th>4</th>\n",
       "      <td>2019-10-07 00:00:56</td>\n",
       "      <td>advert_open</td>\n",
       "      <td>cf7eda61-9349-469f-ac27-e5b6f5ec475c</td>\n",
       "      <td>2</td>\n",
       "      <td>yandex</td>\n",
       "      <td>1</td>\n",
       "      <td>2019-10-07 00:00:02</td>\n",
       "    </tr>\n",
       "  </tbody>\n",
       "</table>\n",
       "</div>"
      ],
      "text/plain": [
       "           event_time   event_name                                userId  \\\n",
       "0 2019-10-07 00:00:00  advert_open  020292ab-89bc-4156-9acf-68bc2783f894   \n",
       "1 2019-10-07 00:00:01    tips_show  020292ab-89bc-4156-9acf-68bc2783f894   \n",
       "2 2019-10-07 00:00:02    tips_show  cf7eda61-9349-469f-ac27-e5b6f5ec475c   \n",
       "3 2019-10-07 00:00:07    tips_show  020292ab-89bc-4156-9acf-68bc2783f894   \n",
       "4 2019-10-07 00:00:56  advert_open  cf7eda61-9349-469f-ac27-e5b6f5ec475c   \n",
       "\n",
       "   session_id  source  cluster                 min  \n",
       "0           1   other        1 2019-10-07 00:00:00  \n",
       "1           1   other        1 2019-10-07 00:00:00  \n",
       "2           2  yandex        1 2019-10-07 00:00:02  \n",
       "3           1   other        1 2019-10-07 00:00:00  \n",
       "4           2  yandex        1 2019-10-07 00:00:02  "
      ]
     },
     "metadata": {},
     "output_type": "display_data"
    }
   ],
   "source": [
    "# создадим колонку с минимальной датой события\n",
    "mobile_dataset_sourсes_cluster['min'] = mobile_dataset_sourсes_cluster.groupby('userId')['event_time'].transform('min')\n",
    "# выведем на экран\n",
    "display(mobile_dataset_sourсes_cluster.head())"
   ]
  },
  {
   "cell_type": "code",
   "execution_count": 35,
   "id": "9b1853a1",
   "metadata": {
    "scrolled": true
   },
   "outputs": [
    {
     "data": {
      "text/html": [
       "<div>\n",
       "<style scoped>\n",
       "    .dataframe tbody tr th:only-of-type {\n",
       "        vertical-align: middle;\n",
       "    }\n",
       "\n",
       "    .dataframe tbody tr th {\n",
       "        vertical-align: top;\n",
       "    }\n",
       "\n",
       "    .dataframe thead th {\n",
       "        text-align: right;\n",
       "    }\n",
       "</style>\n",
       "<table border=\"1\" class=\"dataframe\">\n",
       "  <thead>\n",
       "    <tr style=\"text-align: right;\">\n",
       "      <th></th>\n",
       "      <th>event_time</th>\n",
       "      <th>event_name</th>\n",
       "      <th>userId</th>\n",
       "      <th>session_id</th>\n",
       "      <th>source</th>\n",
       "      <th>cluster</th>\n",
       "      <th>min</th>\n",
       "    </tr>\n",
       "  </thead>\n",
       "  <tbody>\n",
       "    <tr>\n",
       "      <th>509</th>\n",
       "      <td>2019-10-07 11:39:42</td>\n",
       "      <td>map</td>\n",
       "      <td>cb36854f-570a-41f4-baa8-36680b396370</td>\n",
       "      <td>52</td>\n",
       "      <td>yandex</td>\n",
       "      <td>0</td>\n",
       "      <td>2019-10-07 11:39:42</td>\n",
       "    </tr>\n",
       "    <tr>\n",
       "      <th>511</th>\n",
       "      <td>2019-10-07 11:39:45</td>\n",
       "      <td>map</td>\n",
       "      <td>cb36854f-570a-41f4-baa8-36680b396370</td>\n",
       "      <td>52</td>\n",
       "      <td>yandex</td>\n",
       "      <td>0</td>\n",
       "      <td>2019-10-07 11:39:42</td>\n",
       "    </tr>\n",
       "    <tr>\n",
       "      <th>512</th>\n",
       "      <td>2019-10-07 11:39:46</td>\n",
       "      <td>map</td>\n",
       "      <td>cb36854f-570a-41f4-baa8-36680b396370</td>\n",
       "      <td>52</td>\n",
       "      <td>yandex</td>\n",
       "      <td>0</td>\n",
       "      <td>2019-10-07 11:39:42</td>\n",
       "    </tr>\n",
       "    <tr>\n",
       "      <th>513</th>\n",
       "      <td>2019-10-07 11:39:47</td>\n",
       "      <td>map</td>\n",
       "      <td>cb36854f-570a-41f4-baa8-36680b396370</td>\n",
       "      <td>52</td>\n",
       "      <td>yandex</td>\n",
       "      <td>0</td>\n",
       "      <td>2019-10-07 11:39:42</td>\n",
       "    </tr>\n",
       "    <tr>\n",
       "      <th>514</th>\n",
       "      <td>2019-10-07 11:39:48</td>\n",
       "      <td>map</td>\n",
       "      <td>cb36854f-570a-41f4-baa8-36680b396370</td>\n",
       "      <td>52</td>\n",
       "      <td>yandex</td>\n",
       "      <td>0</td>\n",
       "      <td>2019-10-07 11:39:42</td>\n",
       "    </tr>\n",
       "  </tbody>\n",
       "</table>\n",
       "</div>"
      ],
      "text/plain": [
       "             event_time event_name                                userId  \\\n",
       "509 2019-10-07 11:39:42        map  cb36854f-570a-41f4-baa8-36680b396370   \n",
       "511 2019-10-07 11:39:45        map  cb36854f-570a-41f4-baa8-36680b396370   \n",
       "512 2019-10-07 11:39:46        map  cb36854f-570a-41f4-baa8-36680b396370   \n",
       "513 2019-10-07 11:39:47        map  cb36854f-570a-41f4-baa8-36680b396370   \n",
       "514 2019-10-07 11:39:48        map  cb36854f-570a-41f4-baa8-36680b396370   \n",
       "\n",
       "     session_id  source  cluster                 min  \n",
       "509          52  yandex        0 2019-10-07 11:39:42  \n",
       "511          52  yandex        0 2019-10-07 11:39:42  \n",
       "512          52  yandex        0 2019-10-07 11:39:42  \n",
       "513          52  yandex        0 2019-10-07 11:39:42  \n",
       "514          52  yandex        0 2019-10-07 11:39:42  "
      ]
     },
     "metadata": {},
     "output_type": "display_data"
    }
   ],
   "source": [
    "# сохраним данные  кластера 0 в переменной retention_rate_0\n",
    "retention_rate_0 = mobile_dataset_sourсes_cluster.query('cluster==0').copy()\n",
    "display(retention_rate_0.head())\n"
   ]
  },
  {
   "cell_type": "code",
   "execution_count": 36,
   "id": "27621c50",
   "metadata": {},
   "outputs": [
    {
     "name": "stdout",
     "output_type": "stream",
     "text": [
      "Показатель retention rate кластера 0\n"
     ]
    },
    {
     "data": {
      "image/png": "[encoded data removed]",
      "text/plain": [
       "<Figure size 720x432 with 2 Axes>"
      ]
     },
     "metadata": {
      "needs_background": "light"
     },
     "output_type": "display_data"
    }
   ],
   "source": [
    "# создадим функцию по расчету удержания и отрисовке тепловой карты\n",
    "def retention (retention_rate):\n",
    "    df_rev = retention_rate\n",
    "# здесь мы задаем текущую дату события в формате недели\n",
    "    df_rev['active_date'] = df_rev['event_time'].astype('datetime64[W]')\n",
    "    df_rev['min_week'] = df_rev['min'].astype('datetime64[W]')\n",
    "    \n",
    "# здесь рассчитываесмя lifetime события относительно первого захода пользователя\n",
    "    df_rev['lifetime'] = df_rev['active_date'] - df_rev['min_week']\n",
    "    \n",
    "# строим таблицу удержания\n",
    "    result_grouped = df_rev.pivot_table(\n",
    "        index=['min_week'], columns='lifetime', values='userId', aggfunc='nunique'\n",
    "    )\n",
    "# вычисляем размеры когорт\n",
    "    cohort_sizes = (\n",
    "        df_rev.groupby('min_week')\n",
    "        .agg({'userId': 'nunique'})\n",
    "        .rename(columns={'userId': 'cohort_size'})\n",
    "    )\n",
    "# объединяем размеры когорт и таблицу удержания\n",
    "    result_grouped = cohort_sizes.merge(\n",
    "        result_grouped, on='min_week', how='left'\n",
    "    )\n",
    "# выводим результат \n",
    "    result_grouped\n",
    "# делим данные таблицы удержания на размеры когорт (чтобы получить проценты)\n",
    "    result_grouped = result_grouped.div(\n",
    "        result_grouped['cohort_size'], axis=0\n",
    "    ).drop(columns=['cohort_size'])\n",
    "# выводим результат\n",
    "    result_grouped\n",
    "    \n",
    "# отрисуем тепловую карту\n",
    "    plt.figure(figsize=(10,6))\n",
    "    plt.title('Users Active')\n",
    "    ax = sns.heatmap(data=result_grouped, annot=True, vmin=0.0,cmap='Reds',fmt='g')\n",
    "    ax.set_yticklabels(result_grouped.index)\n",
    "    fig=ax.get_figure()\n",
    "    \n",
    "\n",
    "plt.show()\n",
    "retention (retention_rate_0)\n",
    "print('Показатель retention rate кластера 0')"
   ]
  },
  {
   "cell_type": "code",
   "execution_count": 37,
   "id": "6da30492",
   "metadata": {
    "scrolled": true
   },
   "outputs": [
    {
     "data": {
      "text/html": [
       "<div>\n",
       "<style scoped>\n",
       "    .dataframe tbody tr th:only-of-type {\n",
       "        vertical-align: middle;\n",
       "    }\n",
       "\n",
       "    .dataframe tbody tr th {\n",
       "        vertical-align: top;\n",
       "    }\n",
       "\n",
       "    .dataframe thead th {\n",
       "        text-align: right;\n",
       "    }\n",
       "</style>\n",
       "<table border=\"1\" class=\"dataframe\">\n",
       "  <thead>\n",
       "    <tr style=\"text-align: right;\">\n",
       "      <th></th>\n",
       "      <th>event_time</th>\n",
       "      <th>event_name</th>\n",
       "      <th>userId</th>\n",
       "      <th>session_id</th>\n",
       "      <th>source</th>\n",
       "      <th>cluster</th>\n",
       "      <th>min</th>\n",
       "    </tr>\n",
       "  </thead>\n",
       "  <tbody>\n",
       "    <tr>\n",
       "      <th>0</th>\n",
       "      <td>2019-10-07 00:00:00</td>\n",
       "      <td>advert_open</td>\n",
       "      <td>020292ab-89bc-4156-9acf-68bc2783f894</td>\n",
       "      <td>1</td>\n",
       "      <td>other</td>\n",
       "      <td>1</td>\n",
       "      <td>2019-10-07 00:00:00</td>\n",
       "    </tr>\n",
       "    <tr>\n",
       "      <th>1</th>\n",
       "      <td>2019-10-07 00:00:01</td>\n",
       "      <td>tips_show</td>\n",
       "      <td>020292ab-89bc-4156-9acf-68bc2783f894</td>\n",
       "      <td>1</td>\n",
       "      <td>other</td>\n",
       "      <td>1</td>\n",
       "      <td>2019-10-07 00:00:00</td>\n",
       "    </tr>\n",
       "    <tr>\n",
       "      <th>2</th>\n",
       "      <td>2019-10-07 00:00:02</td>\n",
       "      <td>tips_show</td>\n",
       "      <td>cf7eda61-9349-469f-ac27-e5b6f5ec475c</td>\n",
       "      <td>2</td>\n",
       "      <td>yandex</td>\n",
       "      <td>1</td>\n",
       "      <td>2019-10-07 00:00:02</td>\n",
       "    </tr>\n",
       "    <tr>\n",
       "      <th>3</th>\n",
       "      <td>2019-10-07 00:00:07</td>\n",
       "      <td>tips_show</td>\n",
       "      <td>020292ab-89bc-4156-9acf-68bc2783f894</td>\n",
       "      <td>1</td>\n",
       "      <td>other</td>\n",
       "      <td>1</td>\n",
       "      <td>2019-10-07 00:00:00</td>\n",
       "    </tr>\n",
       "    <tr>\n",
       "      <th>4</th>\n",
       "      <td>2019-10-07 00:00:56</td>\n",
       "      <td>advert_open</td>\n",
       "      <td>cf7eda61-9349-469f-ac27-e5b6f5ec475c</td>\n",
       "      <td>2</td>\n",
       "      <td>yandex</td>\n",
       "      <td>1</td>\n",
       "      <td>2019-10-07 00:00:02</td>\n",
       "    </tr>\n",
       "  </tbody>\n",
       "</table>\n",
       "</div>"
      ],
      "text/plain": [
       "           event_time   event_name                                userId  \\\n",
       "0 2019-10-07 00:00:00  advert_open  020292ab-89bc-4156-9acf-68bc2783f894   \n",
       "1 2019-10-07 00:00:01    tips_show  020292ab-89bc-4156-9acf-68bc2783f894   \n",
       "2 2019-10-07 00:00:02    tips_show  cf7eda61-9349-469f-ac27-e5b6f5ec475c   \n",
       "3 2019-10-07 00:00:07    tips_show  020292ab-89bc-4156-9acf-68bc2783f894   \n",
       "4 2019-10-07 00:00:56  advert_open  cf7eda61-9349-469f-ac27-e5b6f5ec475c   \n",
       "\n",
       "   session_id  source  cluster                 min  \n",
       "0           1   other        1 2019-10-07 00:00:00  \n",
       "1           1   other        1 2019-10-07 00:00:00  \n",
       "2           2  yandex        1 2019-10-07 00:00:02  \n",
       "3           1   other        1 2019-10-07 00:00:00  \n",
       "4           2  yandex        1 2019-10-07 00:00:02  "
      ]
     },
     "metadata": {},
     "output_type": "display_data"
    }
   ],
   "source": [
    "# сохраним данные  кластера 1 в переменной retention_rate_1\n",
    "retention_rate_1 = mobile_dataset_sourсes_cluster.query('cluster==1').copy()\n",
    "display(retention_rate_1.head())\n"
   ]
  },
  {
   "cell_type": "code",
   "execution_count": 38,
   "id": "b6edd340",
   "metadata": {},
   "outputs": [
    {
     "name": "stdout",
     "output_type": "stream",
     "text": [
      "Показатель retention rate кластера 1\n"
     ]
    },
    {
     "data": {
      "image/png": "[encoded data removed]",
      "text/plain": [
       "<Figure size 720x432 with 2 Axes>"
      ]
     },
     "metadata": {
      "needs_background": "light"
     },
     "output_type": "display_data"
    }
   ],
   "source": [
    "#  выведем  тепловую карту удержания по кластеру 1\n",
    "retention (retention_rate_1)\n",
    "print('Показатель retention rate кластера 1')"
   ]
  },
  {
   "cell_type": "code",
   "execution_count": 39,
   "id": "420ba3e3",
   "metadata": {
    "scrolled": true
   },
   "outputs": [
    {
     "data": {
      "text/html": [
       "<div>\n",
       "<style scoped>\n",
       "    .dataframe tbody tr th:only-of-type {\n",
       "        vertical-align: middle;\n",
       "    }\n",
       "\n",
       "    .dataframe tbody tr th {\n",
       "        vertical-align: top;\n",
       "    }\n",
       "\n",
       "    .dataframe thead th {\n",
       "        text-align: right;\n",
       "    }\n",
       "</style>\n",
       "<table border=\"1\" class=\"dataframe\">\n",
       "  <thead>\n",
       "    <tr style=\"text-align: right;\">\n",
       "      <th></th>\n",
       "      <th>event_time</th>\n",
       "      <th>event_name</th>\n",
       "      <th>userId</th>\n",
       "      <th>session_id</th>\n",
       "      <th>source</th>\n",
       "      <th>cluster</th>\n",
       "      <th>min</th>\n",
       "    </tr>\n",
       "  </thead>\n",
       "  <tbody>\n",
       "    <tr>\n",
       "      <th>2904</th>\n",
       "      <td>2019-10-08 11:31:11</td>\n",
       "      <td>photos_show</td>\n",
       "      <td>aa864e21-b0e5-4cb6-b316-1fea9f5a5f5d</td>\n",
       "      <td>311</td>\n",
       "      <td>yandex</td>\n",
       "      <td>2</td>\n",
       "      <td>2019-10-08 11:31:11</td>\n",
       "    </tr>\n",
       "    <tr>\n",
       "      <th>2914</th>\n",
       "      <td>2019-10-08 11:32:24</td>\n",
       "      <td>photos_show</td>\n",
       "      <td>aa864e21-b0e5-4cb6-b316-1fea9f5a5f5d</td>\n",
       "      <td>311</td>\n",
       "      <td>yandex</td>\n",
       "      <td>2</td>\n",
       "      <td>2019-10-08 11:31:11</td>\n",
       "    </tr>\n",
       "    <tr>\n",
       "      <th>3007</th>\n",
       "      <td>2019-10-08 11:54:35</td>\n",
       "      <td>photos_show</td>\n",
       "      <td>aa864e21-b0e5-4cb6-b316-1fea9f5a5f5d</td>\n",
       "      <td>311</td>\n",
       "      <td>yandex</td>\n",
       "      <td>2</td>\n",
       "      <td>2019-10-08 11:31:11</td>\n",
       "    </tr>\n",
       "    <tr>\n",
       "      <th>3014</th>\n",
       "      <td>2019-10-08 11:58:47</td>\n",
       "      <td>contacts_show</td>\n",
       "      <td>aa864e21-b0e5-4cb6-b316-1fea9f5a5f5d</td>\n",
       "      <td>311</td>\n",
       "      <td>yandex</td>\n",
       "      <td>2</td>\n",
       "      <td>2019-10-08 11:31:11</td>\n",
       "    </tr>\n",
       "    <tr>\n",
       "      <th>3080</th>\n",
       "      <td>2019-10-08 12:36:32</td>\n",
       "      <td>photos_show</td>\n",
       "      <td>66582665-95a6-42cc-ad71-7c3b9971bc64</td>\n",
       "      <td>334</td>\n",
       "      <td>other</td>\n",
       "      <td>2</td>\n",
       "      <td>2019-10-08 12:36:32</td>\n",
       "    </tr>\n",
       "  </tbody>\n",
       "</table>\n",
       "</div>"
      ],
      "text/plain": [
       "              event_time     event_name                                userId  \\\n",
       "2904 2019-10-08 11:31:11    photos_show  aa864e21-b0e5-4cb6-b316-1fea9f5a5f5d   \n",
       "2914 2019-10-08 11:32:24    photos_show  aa864e21-b0e5-4cb6-b316-1fea9f5a5f5d   \n",
       "3007 2019-10-08 11:54:35    photos_show  aa864e21-b0e5-4cb6-b316-1fea9f5a5f5d   \n",
       "3014 2019-10-08 11:58:47  contacts_show  aa864e21-b0e5-4cb6-b316-1fea9f5a5f5d   \n",
       "3080 2019-10-08 12:36:32    photos_show  66582665-95a6-42cc-ad71-7c3b9971bc64   \n",
       "\n",
       "      session_id  source  cluster                 min  \n",
       "2904         311  yandex        2 2019-10-08 11:31:11  \n",
       "2914         311  yandex        2 2019-10-08 11:31:11  \n",
       "3007         311  yandex        2 2019-10-08 11:31:11  \n",
       "3014         311  yandex        2 2019-10-08 11:31:11  \n",
       "3080         334   other        2 2019-10-08 12:36:32  "
      ]
     },
     "metadata": {},
     "output_type": "display_data"
    }
   ],
   "source": [
    "# сохраним данные  кластера 2 в переменной retention_rate_2\n",
    "retention_rate_2 = mobile_dataset_sourсes_cluster.query('cluster==2').copy()\n",
    "display(retention_rate_2.head())\n"
   ]
  },
  {
   "cell_type": "code",
   "execution_count": 40,
   "id": "89b8a39d",
   "metadata": {},
   "outputs": [
    {
     "name": "stdout",
     "output_type": "stream",
     "text": [
      "Показатель retention rate кластера 2\n"
     ]
    },
    {
     "data": {
      "image/png": "[encoded data removed]",
      "text/plain": [
       "<Figure size 720x432 with 2 Axes>"
      ]
     },
     "metadata": {
      "needs_background": "light"
     },
     "output_type": "display_data"
    }
   ],
   "source": [
    "#  выведем  тепловую карту удержания по кластеру 2\n",
    "retention (retention_rate_2)\n",
    "print('Показатель retention rate кластера 2')"
   ]
  },
  {
   "cell_type": "code",
   "execution_count": 41,
   "id": "20055131",
   "metadata": {
    "scrolled": true
   },
   "outputs": [
    {
     "data": {
      "text/html": [
       "<div>\n",
       "<style scoped>\n",
       "    .dataframe tbody tr th:only-of-type {\n",
       "        vertical-align: middle;\n",
       "    }\n",
       "\n",
       "    .dataframe tbody tr th {\n",
       "        vertical-align: top;\n",
       "    }\n",
       "\n",
       "    .dataframe thead th {\n",
       "        text-align: right;\n",
       "    }\n",
       "</style>\n",
       "<table border=\"1\" class=\"dataframe\">\n",
       "  <thead>\n",
       "    <tr style=\"text-align: right;\">\n",
       "      <th></th>\n",
       "      <th>event_time</th>\n",
       "      <th>event_name</th>\n",
       "      <th>userId</th>\n",
       "      <th>session_id</th>\n",
       "      <th>source</th>\n",
       "      <th>cluster</th>\n",
       "      <th>min</th>\n",
       "    </tr>\n",
       "  </thead>\n",
       "  <tbody>\n",
       "    <tr>\n",
       "      <th>255</th>\n",
       "      <td>2019-10-07 09:38:35</td>\n",
       "      <td>search_7</td>\n",
       "      <td>2b39c650-c582-4195-ba16-ade26ee0a72f</td>\n",
       "      <td>25</td>\n",
       "      <td>google</td>\n",
       "      <td>3</td>\n",
       "      <td>2019-10-07 09:38:35</td>\n",
       "    </tr>\n",
       "    <tr>\n",
       "      <th>259</th>\n",
       "      <td>2019-10-07 09:39:17</td>\n",
       "      <td>search_7</td>\n",
       "      <td>2b39c650-c582-4195-ba16-ade26ee0a72f</td>\n",
       "      <td>25</td>\n",
       "      <td>google</td>\n",
       "      <td>3</td>\n",
       "      <td>2019-10-07 09:38:35</td>\n",
       "    </tr>\n",
       "    <tr>\n",
       "      <th>607</th>\n",
       "      <td>2019-10-07 12:27:25</td>\n",
       "      <td>search_7</td>\n",
       "      <td>71a735e8-a704-4f79-a88e-ce0cfc5782c4</td>\n",
       "      <td>62</td>\n",
       "      <td>other</td>\n",
       "      <td>3</td>\n",
       "      <td>2019-10-07 12:27:25</td>\n",
       "    </tr>\n",
       "    <tr>\n",
       "      <th>612</th>\n",
       "      <td>2019-10-07 12:31:18</td>\n",
       "      <td>photos_show</td>\n",
       "      <td>71a735e8-a704-4f79-a88e-ce0cfc5782c4</td>\n",
       "      <td>62</td>\n",
       "      <td>other</td>\n",
       "      <td>3</td>\n",
       "      <td>2019-10-07 12:27:25</td>\n",
       "    </tr>\n",
       "    <tr>\n",
       "      <th>906</th>\n",
       "      <td>2019-10-07 14:32:55</td>\n",
       "      <td>photos_show</td>\n",
       "      <td>c21daf1f-e787-4a5c-9d92-62cd3dafc9b3</td>\n",
       "      <td>99</td>\n",
       "      <td>yandex</td>\n",
       "      <td>3</td>\n",
       "      <td>2019-10-07 14:32:55</td>\n",
       "    </tr>\n",
       "  </tbody>\n",
       "</table>\n",
       "</div>"
      ],
      "text/plain": [
       "             event_time   event_name                                userId  \\\n",
       "255 2019-10-07 09:38:35     search_7  2b39c650-c582-4195-ba16-ade26ee0a72f   \n",
       "259 2019-10-07 09:39:17     search_7  2b39c650-c582-4195-ba16-ade26ee0a72f   \n",
       "607 2019-10-07 12:27:25     search_7  71a735e8-a704-4f79-a88e-ce0cfc5782c4   \n",
       "612 2019-10-07 12:31:18  photos_show  71a735e8-a704-4f79-a88e-ce0cfc5782c4   \n",
       "906 2019-10-07 14:32:55  photos_show  c21daf1f-e787-4a5c-9d92-62cd3dafc9b3   \n",
       "\n",
       "     session_id  source  cluster                 min  \n",
       "255          25  google        3 2019-10-07 09:38:35  \n",
       "259          25  google        3 2019-10-07 09:38:35  \n",
       "607          62   other        3 2019-10-07 12:27:25  \n",
       "612          62   other        3 2019-10-07 12:27:25  \n",
       "906          99  yandex        3 2019-10-07 14:32:55  "
      ]
     },
     "metadata": {},
     "output_type": "display_data"
    }
   ],
   "source": [
    "# сохраним данные  кластера 3 в переменной retention_rate_3\n",
    "retention_rate_3 = mobile_dataset_sourсes_cluster.query('cluster==3').copy()\n",
    "display(retention_rate_3.head())\n"
   ]
  },
  {
   "cell_type": "code",
   "execution_count": 42,
   "id": "d4d3c22a",
   "metadata": {},
   "outputs": [
    {
     "name": "stdout",
     "output_type": "stream",
     "text": [
      "Показатель retention rate кластера 3\n"
     ]
    },
    {
     "data": {
      "image/png": "[encoded data removed]",
      "text/plain": [
       "<Figure size 720x432 with 2 Axes>"
      ]
     },
     "metadata": {
      "needs_background": "light"
     },
     "output_type": "display_data"
    }
   ],
   "source": [
    "#  выведем  тепловую карту удержания по кластеру 3\n",
    "retention (retention_rate_3)\n",
    "print('Показатель retention rate кластера 3')"
   ]
  },
  {
   "cell_type": "code",
   "execution_count": 43,
   "id": "671a52df",
   "metadata": {
    "scrolled": true
   },
   "outputs": [
    {
     "data": {
      "text/html": [
       "<div>\n",
       "<style scoped>\n",
       "    .dataframe tbody tr th:only-of-type {\n",
       "        vertical-align: middle;\n",
       "    }\n",
       "\n",
       "    .dataframe tbody tr th {\n",
       "        vertical-align: top;\n",
       "    }\n",
       "\n",
       "    .dataframe thead th {\n",
       "        text-align: right;\n",
       "    }\n",
       "</style>\n",
       "<table border=\"1\" class=\"dataframe\">\n",
       "  <thead>\n",
       "    <tr style=\"text-align: right;\">\n",
       "      <th></th>\n",
       "      <th>event_time</th>\n",
       "      <th>event_name</th>\n",
       "      <th>userId</th>\n",
       "      <th>session_id</th>\n",
       "      <th>source</th>\n",
       "      <th>cluster</th>\n",
       "      <th>min</th>\n",
       "    </tr>\n",
       "  </thead>\n",
       "  <tbody>\n",
       "    <tr>\n",
       "      <th>207</th>\n",
       "      <td>2019-10-07 09:00:21</td>\n",
       "      <td>tips_show</td>\n",
       "      <td>c9c9f6dd-6741-474d-a75b-2334f735f52f</td>\n",
       "      <td>14</td>\n",
       "      <td>other</td>\n",
       "      <td>4</td>\n",
       "      <td>2019-10-07 09:00:21</td>\n",
       "    </tr>\n",
       "    <tr>\n",
       "      <th>210</th>\n",
       "      <td>2019-10-07 09:02:57</td>\n",
       "      <td>tips_show</td>\n",
       "      <td>c9c9f6dd-6741-474d-a75b-2334f735f52f</td>\n",
       "      <td>14</td>\n",
       "      <td>other</td>\n",
       "      <td>4</td>\n",
       "      <td>2019-10-07 09:00:21</td>\n",
       "    </tr>\n",
       "    <tr>\n",
       "      <th>211</th>\n",
       "      <td>2019-10-07 09:05:05</td>\n",
       "      <td>tips_click</td>\n",
       "      <td>c9c9f6dd-6741-474d-a75b-2334f735f52f</td>\n",
       "      <td>14</td>\n",
       "      <td>other</td>\n",
       "      <td>4</td>\n",
       "      <td>2019-10-07 09:00:21</td>\n",
       "    </tr>\n",
       "    <tr>\n",
       "      <th>212</th>\n",
       "      <td>2019-10-07 09:05:17</td>\n",
       "      <td>tips_show</td>\n",
       "      <td>c9c9f6dd-6741-474d-a75b-2334f735f52f</td>\n",
       "      <td>14</td>\n",
       "      <td>other</td>\n",
       "      <td>4</td>\n",
       "      <td>2019-10-07 09:00:21</td>\n",
       "    </tr>\n",
       "    <tr>\n",
       "      <th>213</th>\n",
       "      <td>2019-10-07 09:08:09</td>\n",
       "      <td>tips_show</td>\n",
       "      <td>c9c9f6dd-6741-474d-a75b-2334f735f52f</td>\n",
       "      <td>14</td>\n",
       "      <td>other</td>\n",
       "      <td>4</td>\n",
       "      <td>2019-10-07 09:00:21</td>\n",
       "    </tr>\n",
       "  </tbody>\n",
       "</table>\n",
       "</div>"
      ],
      "text/plain": [
       "             event_time  event_name                                userId  \\\n",
       "207 2019-10-07 09:00:21   tips_show  c9c9f6dd-6741-474d-a75b-2334f735f52f   \n",
       "210 2019-10-07 09:02:57   tips_show  c9c9f6dd-6741-474d-a75b-2334f735f52f   \n",
       "211 2019-10-07 09:05:05  tips_click  c9c9f6dd-6741-474d-a75b-2334f735f52f   \n",
       "212 2019-10-07 09:05:17   tips_show  c9c9f6dd-6741-474d-a75b-2334f735f52f   \n",
       "213 2019-10-07 09:08:09   tips_show  c9c9f6dd-6741-474d-a75b-2334f735f52f   \n",
       "\n",
       "     session_id source  cluster                 min  \n",
       "207          14  other        4 2019-10-07 09:00:21  \n",
       "210          14  other        4 2019-10-07 09:00:21  \n",
       "211          14  other        4 2019-10-07 09:00:21  \n",
       "212          14  other        4 2019-10-07 09:00:21  \n",
       "213          14  other        4 2019-10-07 09:00:21  "
      ]
     },
     "metadata": {},
     "output_type": "display_data"
    }
   ],
   "source": [
    "# сохраним данные  кластера 4 в переменной retention_rate_4\n",
    "retention_rate_4 = mobile_dataset_sourсes_cluster.query('cluster==4').copy()\n",
    "display(retention_rate_4.head())\n"
   ]
  },
  {
   "cell_type": "code",
   "execution_count": 44,
   "id": "72a96382",
   "metadata": {},
   "outputs": [
    {
     "name": "stdout",
     "output_type": "stream",
     "text": [
      "Показатель retention rate кластера 4\n"
     ]
    },
    {
     "data": {
      "image/png": "[encoded data removed]",
      "text/plain": [
       "<Figure size 720x432 with 2 Axes>"
      ]
     },
     "metadata": {
      "needs_background": "light"
     },
     "output_type": "display_data"
    }
   ],
   "source": [
    "#  выведем  тепловую карту удержания по кластеру 4\n",
    "retention (retention_rate_4)\n",
    "print('Показатель retention rate кластера 4')"
   ]
  },
  {
   "cell_type": "code",
   "execution_count": 45,
   "id": "d340d6b4",
   "metadata": {
    "scrolled": true
   },
   "outputs": [
    {
     "data": {
      "text/html": [
       "<div>\n",
       "<style scoped>\n",
       "    .dataframe tbody tr th:only-of-type {\n",
       "        vertical-align: middle;\n",
       "    }\n",
       "\n",
       "    .dataframe tbody tr th {\n",
       "        vertical-align: top;\n",
       "    }\n",
       "\n",
       "    .dataframe thead th {\n",
       "        text-align: right;\n",
       "    }\n",
       "</style>\n",
       "<table border=\"1\" class=\"dataframe\">\n",
       "  <thead>\n",
       "    <tr style=\"text-align: right;\">\n",
       "      <th></th>\n",
       "      <th>event_time</th>\n",
       "      <th>event_name</th>\n",
       "      <th>userId</th>\n",
       "      <th>session_id</th>\n",
       "      <th>source</th>\n",
       "      <th>cluster</th>\n",
       "      <th>min</th>\n",
       "    </tr>\n",
       "  </thead>\n",
       "  <tbody>\n",
       "    <tr>\n",
       "      <th>701</th>\n",
       "      <td>2019-10-07 13:18:32</td>\n",
       "      <td>tips_show</td>\n",
       "      <td>593f807c-87d3-49c7-821b-bbe93d797c22</td>\n",
       "      <td>74</td>\n",
       "      <td>yandex</td>\n",
       "      <td>5</td>\n",
       "      <td>2019-10-07 13:18:32</td>\n",
       "    </tr>\n",
       "    <tr>\n",
       "      <th>702</th>\n",
       "      <td>2019-10-07 13:18:33</td>\n",
       "      <td>tips_show</td>\n",
       "      <td>593f807c-87d3-49c7-821b-bbe93d797c22</td>\n",
       "      <td>74</td>\n",
       "      <td>yandex</td>\n",
       "      <td>5</td>\n",
       "      <td>2019-10-07 13:18:32</td>\n",
       "    </tr>\n",
       "    <tr>\n",
       "      <th>741</th>\n",
       "      <td>2019-10-07 13:26:23</td>\n",
       "      <td>tips_show</td>\n",
       "      <td>593f807c-87d3-49c7-821b-bbe93d797c22</td>\n",
       "      <td>74</td>\n",
       "      <td>yandex</td>\n",
       "      <td>5</td>\n",
       "      <td>2019-10-07 13:18:32</td>\n",
       "    </tr>\n",
       "    <tr>\n",
       "      <th>744</th>\n",
       "      <td>2019-10-07 13:27:29</td>\n",
       "      <td>tips_show</td>\n",
       "      <td>593f807c-87d3-49c7-821b-bbe93d797c22</td>\n",
       "      <td>74</td>\n",
       "      <td>yandex</td>\n",
       "      <td>5</td>\n",
       "      <td>2019-10-07 13:18:32</td>\n",
       "    </tr>\n",
       "    <tr>\n",
       "      <th>751</th>\n",
       "      <td>2019-10-07 13:28:29</td>\n",
       "      <td>tips_show</td>\n",
       "      <td>593f807c-87d3-49c7-821b-bbe93d797c22</td>\n",
       "      <td>74</td>\n",
       "      <td>yandex</td>\n",
       "      <td>5</td>\n",
       "      <td>2019-10-07 13:18:32</td>\n",
       "    </tr>\n",
       "  </tbody>\n",
       "</table>\n",
       "</div>"
      ],
      "text/plain": [
       "             event_time event_name                                userId  \\\n",
       "701 2019-10-07 13:18:32  tips_show  593f807c-87d3-49c7-821b-bbe93d797c22   \n",
       "702 2019-10-07 13:18:33  tips_show  593f807c-87d3-49c7-821b-bbe93d797c22   \n",
       "741 2019-10-07 13:26:23  tips_show  593f807c-87d3-49c7-821b-bbe93d797c22   \n",
       "744 2019-10-07 13:27:29  tips_show  593f807c-87d3-49c7-821b-bbe93d797c22   \n",
       "751 2019-10-07 13:28:29  tips_show  593f807c-87d3-49c7-821b-bbe93d797c22   \n",
       "\n",
       "     session_id  source  cluster                 min  \n",
       "701          74  yandex        5 2019-10-07 13:18:32  \n",
       "702          74  yandex        5 2019-10-07 13:18:32  \n",
       "741          74  yandex        5 2019-10-07 13:18:32  \n",
       "744          74  yandex        5 2019-10-07 13:18:32  \n",
       "751          74  yandex        5 2019-10-07 13:18:32  "
      ]
     },
     "metadata": {},
     "output_type": "display_data"
    }
   ],
   "source": [
    "# сохраним данные  кластера 5 в переменной retention_rate_5\n",
    "retention_rate_5 = mobile_dataset_sourсes_cluster.query('cluster==5').copy()\n",
    "display(retention_rate_5.head())\n"
   ]
  },
  {
   "cell_type": "code",
   "execution_count": 46,
   "id": "0feec0b3",
   "metadata": {},
   "outputs": [
    {
     "name": "stdout",
     "output_type": "stream",
     "text": [
      "Показатель retention rate кластера 5\n"
     ]
    },
    {
     "data": {
      "image/png": "[encoded data removed]",
      "text/plain": [
       "<Figure size 720x432 with 2 Axes>"
      ]
     },
     "metadata": {
      "needs_background": "light"
     },
     "output_type": "display_data"
    }
   ],
   "source": [
    "#  выведем  тепловую карту удержания по кластеру 5\n",
    "retention (retention_rate_5)\n",
    "print('Показатель retention rate кластера 5')"
   ]
  },
  {
   "cell_type": "markdown",
   "id": "00ef3f39",
   "metadata": {},
   "source": [
    "* Промежуточный вывод\n",
    "\n",
    "Показатели удержания retention rate:\n",
    "\n",
    "наиболее высокие достигнуты в кластере  4 (0,7);\n",
    "\n",
    "самые низкие показатели в кластере 1 (0,02) - самом многочисленном.\n"
   ]
  },
  {
   "cell_type": "markdown",
   "id": "4bbcbf69",
   "metadata": {},
   "source": [
    "**Анализ времени , проведённого в приложении в разрезе кластеров**"
   ]
  },
  {
   "cell_type": "code",
   "execution_count": 53,
   "id": "8ac24302",
   "metadata": {},
   "outputs": [
    {
     "data": {
      "text/html": [
       "<div>\n",
       "<style scoped>\n",
       "    .dataframe tbody tr th:only-of-type {\n",
       "        vertical-align: middle;\n",
       "    }\n",
       "\n",
       "    .dataframe tbody tr th {\n",
       "        vertical-align: top;\n",
       "    }\n",
       "\n",
       "    .dataframe thead th {\n",
       "        text-align: right;\n",
       "    }\n",
       "</style>\n",
       "<table border=\"1\" class=\"dataframe\">\n",
       "  <thead>\n",
       "    <tr style=\"text-align: right;\">\n",
       "      <th></th>\n",
       "      <th>cluster</th>\n",
       "      <th>userId</th>\n",
       "      <th>session_id</th>\n",
       "      <th>first_event_time</th>\n",
       "      <th>last_event_time</th>\n",
       "    </tr>\n",
       "  </thead>\n",
       "  <tbody>\n",
       "    <tr>\n",
       "      <th>0</th>\n",
       "      <td>0</td>\n",
       "      <td>01147bf8-cd48-49c0-a5af-3f6eb45f8262</td>\n",
       "      <td>9625</td>\n",
       "      <td>2019-11-01 21:13:53</td>\n",
       "      <td>2019-11-01 22:23:01</td>\n",
       "    </tr>\n",
       "    <tr>\n",
       "      <th>1</th>\n",
       "      <td>0</td>\n",
       "      <td>01b4ca51-930d-4518-aa09-8a8c35e1d9cc</td>\n",
       "      <td>5075</td>\n",
       "      <td>2019-10-22 11:05:05</td>\n",
       "      <td>2019-10-22 11:22:20</td>\n",
       "    </tr>\n",
       "    <tr>\n",
       "      <th>2</th>\n",
       "      <td>0</td>\n",
       "      <td>034a556c-8837-4c78-8012-795e03764657</td>\n",
       "      <td>10196</td>\n",
       "      <td>2019-11-03 16:48:43</td>\n",
       "      <td>2019-11-03 17:05:31</td>\n",
       "    </tr>\n",
       "    <tr>\n",
       "      <th>3</th>\n",
       "      <td>0</td>\n",
       "      <td>04ee0c31-3c77-49f8-81d2-bbfe9fe2cde8</td>\n",
       "      <td>5676</td>\n",
       "      <td>2019-10-23 16:08:52</td>\n",
       "      <td>2019-10-23 16:14:38</td>\n",
       "    </tr>\n",
       "    <tr>\n",
       "      <th>4</th>\n",
       "      <td>0</td>\n",
       "      <td>0656a1d1-9032-43ae-b936-11e41526eeff</td>\n",
       "      <td>7362</td>\n",
       "      <td>2019-10-27 18:48:21</td>\n",
       "      <td>2019-10-27 18:56:04</td>\n",
       "    </tr>\n",
       "  </tbody>\n",
       "</table>\n",
       "</div>"
      ],
      "text/plain": [
       "   cluster                                userId  session_id  \\\n",
       "0        0  01147bf8-cd48-49c0-a5af-3f6eb45f8262        9625   \n",
       "1        0  01b4ca51-930d-4518-aa09-8a8c35e1d9cc        5075   \n",
       "2        0  034a556c-8837-4c78-8012-795e03764657       10196   \n",
       "3        0  04ee0c31-3c77-49f8-81d2-bbfe9fe2cde8        5676   \n",
       "4        0  0656a1d1-9032-43ae-b936-11e41526eeff        7362   \n",
       "\n",
       "     first_event_time     last_event_time  \n",
       "0 2019-11-01 21:13:53 2019-11-01 22:23:01  \n",
       "1 2019-10-22 11:05:05 2019-10-22 11:22:20  \n",
       "2 2019-11-03 16:48:43 2019-11-03 17:05:31  \n",
       "3 2019-10-23 16:08:52 2019-10-23 16:14:38  \n",
       "4 2019-10-27 18:48:21 2019-10-27 18:56:04  "
      ]
     },
     "metadata": {},
     "output_type": "display_data"
    }
   ],
   "source": [
    "# для расчета времени использования приложения сохраним  в переменной session необходимые  данные\n",
    "session = mobile_dataset_sourсes_cluster.copy()\n",
    "# группируем по кластерам, пользователям и сессиям\n",
    "\n",
    "first_session_event = (session.groupby(['cluster','userId', 'session_id'], as_index=False)\n",
    "                           .agg(first_event_time=('event_time', 'min')))\n",
    "\n",
    "# объединяем датасеты в переменной session_time\n",
    "session_time = first_session_event.merge(last_session_event, on=['cluster','userId', 'session_id'], how='left')\n",
    "# выведем на экран первые 5 строк\n",
    "display(session_time.head())"
   ]
  },
  {
   "cell_type": "code",
   "execution_count": 54,
   "id": "f69c9579",
   "metadata": {},
   "outputs": [
    {
     "data": {
      "text/html": [
       "<div>\n",
       "<style scoped>\n",
       "    .dataframe tbody tr th:only-of-type {\n",
       "        vertical-align: middle;\n",
       "    }\n",
       "\n",
       "    .dataframe tbody tr th {\n",
       "        vertical-align: top;\n",
       "    }\n",
       "\n",
       "    .dataframe thead th {\n",
       "        text-align: right;\n",
       "    }\n",
       "</style>\n",
       "<table border=\"1\" class=\"dataframe\">\n",
       "  <thead>\n",
       "    <tr style=\"text-align: right;\">\n",
       "      <th></th>\n",
       "      <th>cluster</th>\n",
       "      <th>userId</th>\n",
       "      <th>session_id</th>\n",
       "      <th>first_event_time</th>\n",
       "      <th>last_event_time</th>\n",
       "      <th>user_time</th>\n",
       "    </tr>\n",
       "  </thead>\n",
       "  <tbody>\n",
       "    <tr>\n",
       "      <th>0</th>\n",
       "      <td>0</td>\n",
       "      <td>01147bf8-cd48-49c0-a5af-3f6eb45f8262</td>\n",
       "      <td>9625</td>\n",
       "      <td>2019-11-01 21:13:53</td>\n",
       "      <td>2019-11-01 22:23:01</td>\n",
       "      <td>0 days 01:09:08</td>\n",
       "    </tr>\n",
       "    <tr>\n",
       "      <th>1</th>\n",
       "      <td>0</td>\n",
       "      <td>01b4ca51-930d-4518-aa09-8a8c35e1d9cc</td>\n",
       "      <td>5075</td>\n",
       "      <td>2019-10-22 11:05:05</td>\n",
       "      <td>2019-10-22 11:22:20</td>\n",
       "      <td>0 days 00:17:15</td>\n",
       "    </tr>\n",
       "    <tr>\n",
       "      <th>2</th>\n",
       "      <td>0</td>\n",
       "      <td>034a556c-8837-4c78-8012-795e03764657</td>\n",
       "      <td>10196</td>\n",
       "      <td>2019-11-03 16:48:43</td>\n",
       "      <td>2019-11-03 17:05:31</td>\n",
       "      <td>0 days 00:16:48</td>\n",
       "    </tr>\n",
       "    <tr>\n",
       "      <th>3</th>\n",
       "      <td>0</td>\n",
       "      <td>04ee0c31-3c77-49f8-81d2-bbfe9fe2cde8</td>\n",
       "      <td>5676</td>\n",
       "      <td>2019-10-23 16:08:52</td>\n",
       "      <td>2019-10-23 16:14:38</td>\n",
       "      <td>0 days 00:05:46</td>\n",
       "    </tr>\n",
       "    <tr>\n",
       "      <th>4</th>\n",
       "      <td>0</td>\n",
       "      <td>0656a1d1-9032-43ae-b936-11e41526eeff</td>\n",
       "      <td>7362</td>\n",
       "      <td>2019-10-27 18:48:21</td>\n",
       "      <td>2019-10-27 18:56:04</td>\n",
       "      <td>0 days 00:07:43</td>\n",
       "    </tr>\n",
       "  </tbody>\n",
       "</table>\n",
       "</div>"
      ],
      "text/plain": [
       "   cluster                                userId  session_id  \\\n",
       "0        0  01147bf8-cd48-49c0-a5af-3f6eb45f8262        9625   \n",
       "1        0  01b4ca51-930d-4518-aa09-8a8c35e1d9cc        5075   \n",
       "2        0  034a556c-8837-4c78-8012-795e03764657       10196   \n",
       "3        0  04ee0c31-3c77-49f8-81d2-bbfe9fe2cde8        5676   \n",
       "4        0  0656a1d1-9032-43ae-b936-11e41526eeff        7362   \n",
       "\n",
       "     first_event_time     last_event_time       user_time  \n",
       "0 2019-11-01 21:13:53 2019-11-01 22:23:01 0 days 01:09:08  \n",
       "1 2019-10-22 11:05:05 2019-10-22 11:22:20 0 days 00:17:15  \n",
       "2 2019-11-03 16:48:43 2019-11-03 17:05:31 0 days 00:16:48  \n",
       "3 2019-10-23 16:08:52 2019-10-23 16:14:38 0 days 00:05:46  \n",
       "4 2019-10-27 18:48:21 2019-10-27 18:56:04 0 days 00:07:43  "
      ]
     },
     "metadata": {},
     "output_type": "display_data"
    }
   ],
   "source": [
    "# сохраним в колонке user_time общее время пользования приложением\n",
    "session_time['user_time'] = session_time['last_event_time'] - session_time['first_event_time']\n",
    "# выведем на экран первые 5 строк\n",
    "display(session_time.head())\n"
   ]
  },
  {
   "cell_type": "code",
   "execution_count": 55,
   "id": "6c376691",
   "metadata": {
    "scrolled": true
   },
   "outputs": [
    {
     "data": {
      "text/plain": [
       "'Средние значения времени пользования приложением в кластерах '"
      ]
     },
     "metadata": {},
     "output_type": "display_data"
    },
    {
     "data": {
      "text/html": [
       "<div>\n",
       "<style scoped>\n",
       "    .dataframe tbody tr th:only-of-type {\n",
       "        vertical-align: middle;\n",
       "    }\n",
       "\n",
       "    .dataframe tbody tr th {\n",
       "        vertical-align: top;\n",
       "    }\n",
       "\n",
       "    .dataframe thead th {\n",
       "        text-align: right;\n",
       "    }\n",
       "</style>\n",
       "<table border=\"1\" class=\"dataframe\">\n",
       "  <thead>\n",
       "    <tr style=\"text-align: right;\">\n",
       "      <th></th>\n",
       "      <th>user_time</th>\n",
       "    </tr>\n",
       "    <tr>\n",
       "      <th>cluster</th>\n",
       "      <th></th>\n",
       "    </tr>\n",
       "  </thead>\n",
       "  <tbody>\n",
       "    <tr>\n",
       "      <th>0</th>\n",
       "      <td>0 days 00:20:48.293251533</td>\n",
       "    </tr>\n",
       "    <tr>\n",
       "      <th>4</th>\n",
       "      <td>0 days 00:15:18.573285198</td>\n",
       "    </tr>\n",
       "    <tr>\n",
       "      <th>1</th>\n",
       "      <td>0 days 00:12:54.730264446</td>\n",
       "    </tr>\n",
       "    <tr>\n",
       "      <th>5</th>\n",
       "      <td>0 days 00:11:58.229563269</td>\n",
       "    </tr>\n",
       "    <tr>\n",
       "      <th>2</th>\n",
       "      <td>0 days 00:08:56.428327645</td>\n",
       "    </tr>\n",
       "    <tr>\n",
       "      <th>3</th>\n",
       "      <td>0 days 00:08:31.847222222</td>\n",
       "    </tr>\n",
       "  </tbody>\n",
       "</table>\n",
       "</div>"
      ],
      "text/plain": [
       "                        user_time\n",
       "cluster                          \n",
       "0       0 days 00:20:48.293251533\n",
       "4       0 days 00:15:18.573285198\n",
       "1       0 days 00:12:54.730264446\n",
       "5       0 days 00:11:58.229563269\n",
       "2       0 days 00:08:56.428327645\n",
       "3       0 days 00:08:31.847222222"
      ]
     },
     "metadata": {},
     "output_type": "display_data"
    }
   ],
   "source": [
    "# выведем на экран средние значения времени пользования приложением в кластерах\n",
    "session_time_mean = session_time.groupby('cluster').agg({'user_time': 'mean'}).sort_values(by='user_time', ascending=False)\n",
    "display('Средние значения времени пользования приложением в кластерах ')\n",
    "display(session_time_mean)"
   ]
  },
  {
   "cell_type": "markdown",
   "id": "aa8a0c31",
   "metadata": {},
   "source": [
    "* Промежуточный вывод\n",
    "\n",
    "Среднее время пользования приложением в кластерах не превышает 21 минуты и не ниже 8 минут:\n",
    "\n",
    "* наибольшее среднее время пользования приложением показали пользователи кластера 0- более 20 минут;\n",
    "\n",
    "* наименьшее среднее время пользования приложением - у пользователей кластера 3 - чуть более 8 минут."
   ]
  },
  {
   "cell_type": "markdown",
   "id": "257e2cb8",
   "metadata": {},
   "source": [
    "**Исследуем, как группы пользователей различаются по частоте действий.**\n"
   ]
  },
  {
   "cell_type": "code",
   "execution_count": 59,
   "id": "d1bf215a",
   "metadata": {},
   "outputs": [
    {
     "name": "stdout",
     "output_type": "stream",
     "text": [
      "\n"
     ]
    },
    {
     "data": {
      "text/plain": [
       "'Частота событий в кластере 0'"
      ]
     },
     "metadata": {},
     "output_type": "display_data"
    },
    {
     "data": {
      "text/html": [
       "<div>\n",
       "<style scoped>\n",
       "    .dataframe tbody tr th:only-of-type {\n",
       "        vertical-align: middle;\n",
       "    }\n",
       "\n",
       "    .dataframe tbody tr th {\n",
       "        vertical-align: top;\n",
       "    }\n",
       "\n",
       "    .dataframe thead th {\n",
       "        text-align: right;\n",
       "    }\n",
       "</style>\n",
       "<table border=\"1\" class=\"dataframe\">\n",
       "  <thead>\n",
       "    <tr style=\"text-align: right;\">\n",
       "      <th></th>\n",
       "      <th>event_name</th>\n",
       "      <th>event_count</th>\n",
       "      <th>freq</th>\n",
       "    </tr>\n",
       "  </thead>\n",
       "  <tbody>\n",
       "    <tr>\n",
       "      <th>7</th>\n",
       "      <td>tips_show</td>\n",
       "      <td>5361</td>\n",
       "      <td>0.701</td>\n",
       "    </tr>\n",
       "    <tr>\n",
       "      <th>1</th>\n",
       "      <td>contacts_show</td>\n",
       "      <td>677</td>\n",
       "      <td>0.088</td>\n",
       "    </tr>\n",
       "    <tr>\n",
       "      <th>6</th>\n",
       "      <td>tips_click</td>\n",
       "      <td>498</td>\n",
       "      <td>0.065</td>\n",
       "    </tr>\n",
       "    <tr>\n",
       "      <th>0</th>\n",
       "      <td>advert_open</td>\n",
       "      <td>390</td>\n",
       "      <td>0.051</td>\n",
       "    </tr>\n",
       "    <tr>\n",
       "      <th>3</th>\n",
       "      <td>map</td>\n",
       "      <td>378</td>\n",
       "      <td>0.049</td>\n",
       "    </tr>\n",
       "    <tr>\n",
       "      <th>5</th>\n",
       "      <td>search_7</td>\n",
       "      <td>227</td>\n",
       "      <td>0.030</td>\n",
       "    </tr>\n",
       "    <tr>\n",
       "      <th>2</th>\n",
       "      <td>favorites_add</td>\n",
       "      <td>112</td>\n",
       "      <td>0.015</td>\n",
       "    </tr>\n",
       "    <tr>\n",
       "      <th>4</th>\n",
       "      <td>photos_show</td>\n",
       "      <td>7</td>\n",
       "      <td>0.001</td>\n",
       "    </tr>\n",
       "  </tbody>\n",
       "</table>\n",
       "</div>"
      ],
      "text/plain": [
       "      event_name  event_count   freq\n",
       "7      tips_show         5361  0.701\n",
       "1  contacts_show          677  0.088\n",
       "6     tips_click          498  0.065\n",
       "0    advert_open          390  0.051\n",
       "3            map          378  0.049\n",
       "5       search_7          227  0.030\n",
       "2  favorites_add          112  0.015\n",
       "4    photos_show            7  0.001"
      ]
     },
     "metadata": {},
     "output_type": "display_data"
    }
   ],
   "source": [
    "# выделяем данные кластера 0\n",
    "frequency_0 = mobile_dataset_sourсes_cluster.query('cluster == 0')\n",
    "\n",
    "# считаем количество каждого действия\n",
    "frequency_0_event_count = (frequency_0.groupby('event_name', as_index=False)\n",
    "                      .agg(event_count=('event_name', 'count'))\n",
    "                      .sort_values(by='event_count', ascending=False))\n",
    "# считаем частоту данного события\n",
    "\n",
    "frequency_0_event_count['freq'] = round(frequency_0_event_count['event_count']/frequency_0_event_count['event_count'].sum(), 3)\n",
    "# выведем на экран\n",
    "print()\n",
    "display('Частота событий в кластере 0',frequency_0_event_count)"
   ]
  },
  {
   "cell_type": "code",
   "execution_count": 60,
   "id": "0c5d1f78",
   "metadata": {},
   "outputs": [
    {
     "name": "stdout",
     "output_type": "stream",
     "text": [
      "\n"
     ]
    },
    {
     "data": {
      "text/plain": [
       "'Частота событий в кластере 1'"
      ]
     },
     "metadata": {},
     "output_type": "display_data"
    },
    {
     "data": {
      "text/html": [
       "<div>\n",
       "<style scoped>\n",
       "    .dataframe tbody tr th:only-of-type {\n",
       "        vertical-align: middle;\n",
       "    }\n",
       "\n",
       "    .dataframe tbody tr th {\n",
       "        vertical-align: top;\n",
       "    }\n",
       "\n",
       "    .dataframe thead th {\n",
       "        text-align: right;\n",
       "    }\n",
       "</style>\n",
       "<table border=\"1\" class=\"dataframe\">\n",
       "  <thead>\n",
       "    <tr style=\"text-align: right;\">\n",
       "      <th></th>\n",
       "      <th>event_name</th>\n",
       "      <th>event_count</th>\n",
       "      <th>freq</th>\n",
       "    </tr>\n",
       "  </thead>\n",
       "  <tbody>\n",
       "    <tr>\n",
       "      <th>8</th>\n",
       "      <td>tips_show</td>\n",
       "      <td>24578</td>\n",
       "      <td>0.665</td>\n",
       "    </tr>\n",
       "    <tr>\n",
       "      <th>6</th>\n",
       "      <td>search_7</td>\n",
       "      <td>3033</td>\n",
       "      <td>0.082</td>\n",
       "    </tr>\n",
       "    <tr>\n",
       "      <th>0</th>\n",
       "      <td>advert_open</td>\n",
       "      <td>2324</td>\n",
       "      <td>0.063</td>\n",
       "    </tr>\n",
       "    <tr>\n",
       "      <th>5</th>\n",
       "      <td>photos_show</td>\n",
       "      <td>2261</td>\n",
       "      <td>0.061</td>\n",
       "    </tr>\n",
       "    <tr>\n",
       "      <th>2</th>\n",
       "      <td>contacts_show</td>\n",
       "      <td>2004</td>\n",
       "      <td>0.054</td>\n",
       "    </tr>\n",
       "    <tr>\n",
       "      <th>4</th>\n",
       "      <td>map</td>\n",
       "      <td>1957</td>\n",
       "      <td>0.053</td>\n",
       "    </tr>\n",
       "    <tr>\n",
       "      <th>3</th>\n",
       "      <td>favorites_add</td>\n",
       "      <td>399</td>\n",
       "      <td>0.011</td>\n",
       "    </tr>\n",
       "    <tr>\n",
       "      <th>7</th>\n",
       "      <td>tips_click</td>\n",
       "      <td>292</td>\n",
       "      <td>0.008</td>\n",
       "    </tr>\n",
       "    <tr>\n",
       "      <th>1</th>\n",
       "      <td>contacts_call</td>\n",
       "      <td>126</td>\n",
       "      <td>0.003</td>\n",
       "    </tr>\n",
       "  </tbody>\n",
       "</table>\n",
       "</div>"
      ],
      "text/plain": [
       "      event_name  event_count   freq\n",
       "8      tips_show        24578  0.665\n",
       "6       search_7         3033  0.082\n",
       "0    advert_open         2324  0.063\n",
       "5    photos_show         2261  0.061\n",
       "2  contacts_show         2004  0.054\n",
       "4            map         1957  0.053\n",
       "3  favorites_add          399  0.011\n",
       "7     tips_click          292  0.008\n",
       "1  contacts_call          126  0.003"
      ]
     },
     "metadata": {},
     "output_type": "display_data"
    }
   ],
   "source": [
    "# выделяем данные кластера 1\n",
    "frequency_1 = mobile_dataset_sourсes_cluster.query('cluster == 1')\n",
    "\n",
    "# считаем количество каждого действия\n",
    "frequency_1_event_count = (frequency_1.groupby('event_name', as_index=False)\n",
    "                      .agg(event_count=('event_name', 'count'))\n",
    "                      .sort_values(by='event_count', ascending=False))\n",
    "# считаем частоту данного события\n",
    "\n",
    "frequency_1_event_count['freq'] = round(frequency_1_event_count['event_count']/frequency_1_event_count['event_count'].sum(), 3)\n",
    "# выведем на экран\n",
    "print()\n",
    "display('Частота событий в кластере 1',frequency_1_event_count)"
   ]
  },
  {
   "cell_type": "code",
   "execution_count": 61,
   "id": "073db56b",
   "metadata": {},
   "outputs": [
    {
     "name": "stdout",
     "output_type": "stream",
     "text": [
      "\n"
     ]
    },
    {
     "data": {
      "text/plain": [
       "'Частота событий в кластере 2'"
      ]
     },
     "metadata": {},
     "output_type": "display_data"
    },
    {
     "data": {
      "text/html": [
       "<div>\n",
       "<style scoped>\n",
       "    .dataframe tbody tr th:only-of-type {\n",
       "        vertical-align: middle;\n",
       "    }\n",
       "\n",
       "    .dataframe tbody tr th {\n",
       "        vertical-align: top;\n",
       "    }\n",
       "\n",
       "    .dataframe thead th {\n",
       "        text-align: right;\n",
       "    }\n",
       "</style>\n",
       "<table border=\"1\" class=\"dataframe\">\n",
       "  <thead>\n",
       "    <tr style=\"text-align: right;\">\n",
       "      <th></th>\n",
       "      <th>event_name</th>\n",
       "      <th>event_count</th>\n",
       "      <th>freq</th>\n",
       "    </tr>\n",
       "  </thead>\n",
       "  <tbody>\n",
       "    <tr>\n",
       "      <th>4</th>\n",
       "      <td>photos_show</td>\n",
       "      <td>1166</td>\n",
       "      <td>0.422</td>\n",
       "    </tr>\n",
       "    <tr>\n",
       "      <th>2</th>\n",
       "      <td>contacts_show</td>\n",
       "      <td>579</td>\n",
       "      <td>0.209</td>\n",
       "    </tr>\n",
       "    <tr>\n",
       "      <th>5</th>\n",
       "      <td>search_7</td>\n",
       "      <td>520</td>\n",
       "      <td>0.188</td>\n",
       "    </tr>\n",
       "    <tr>\n",
       "      <th>1</th>\n",
       "      <td>contacts_call</td>\n",
       "      <td>346</td>\n",
       "      <td>0.125</td>\n",
       "    </tr>\n",
       "    <tr>\n",
       "      <th>3</th>\n",
       "      <td>favorites_add</td>\n",
       "      <td>84</td>\n",
       "      <td>0.030</td>\n",
       "    </tr>\n",
       "    <tr>\n",
       "      <th>0</th>\n",
       "      <td>advert_open</td>\n",
       "      <td>69</td>\n",
       "      <td>0.025</td>\n",
       "    </tr>\n",
       "    <tr>\n",
       "      <th>6</th>\n",
       "      <td>tips_show</td>\n",
       "      <td>1</td>\n",
       "      <td>0.000</td>\n",
       "    </tr>\n",
       "  </tbody>\n",
       "</table>\n",
       "</div>"
      ],
      "text/plain": [
       "      event_name  event_count   freq\n",
       "4    photos_show         1166  0.422\n",
       "2  contacts_show          579  0.209\n",
       "5       search_7          520  0.188\n",
       "1  contacts_call          346  0.125\n",
       "3  favorites_add           84  0.030\n",
       "0    advert_open           69  0.025\n",
       "6      tips_show            1  0.000"
      ]
     },
     "metadata": {},
     "output_type": "display_data"
    }
   ],
   "source": [
    "# выделяем данные кластера 2\n",
    "frequency_2 = mobile_dataset_sourсes_cluster.query('cluster == 2')\n",
    "\n",
    "# считаем количество каждого действия\n",
    "frequency_2_event_count = (frequency_2.groupby('event_name', as_index=False)\n",
    "                      .agg(event_count=('event_name', 'count'))\n",
    "                      .sort_values(by='event_count', ascending=False))\n",
    "# считаем частоту данного события\n",
    "\n",
    "frequency_2_event_count['freq'] = round(frequency_2_event_count['event_count']/frequency_2_event_count['event_count'].sum(), 3)\n",
    "# выведем на экран\n",
    "print()\n",
    "display('Частота событий в кластере 2',frequency_2_event_count)"
   ]
  },
  {
   "cell_type": "code",
   "execution_count": 62,
   "id": "8dbd6fc1",
   "metadata": {},
   "outputs": [
    {
     "name": "stdout",
     "output_type": "stream",
     "text": [
      "\n"
     ]
    },
    {
     "data": {
      "text/plain": [
       "'Частота событий в кластере 3'"
      ]
     },
     "metadata": {},
     "output_type": "display_data"
    },
    {
     "data": {
      "text/html": [
       "<div>\n",
       "<style scoped>\n",
       "    .dataframe tbody tr th:only-of-type {\n",
       "        vertical-align: middle;\n",
       "    }\n",
       "\n",
       "    .dataframe tbody tr th {\n",
       "        vertical-align: top;\n",
       "    }\n",
       "\n",
       "    .dataframe thead th {\n",
       "        text-align: right;\n",
       "    }\n",
       "</style>\n",
       "<table border=\"1\" class=\"dataframe\">\n",
       "  <thead>\n",
       "    <tr style=\"text-align: right;\">\n",
       "      <th></th>\n",
       "      <th>event_name</th>\n",
       "      <th>event_count</th>\n",
       "      <th>freq</th>\n",
       "    </tr>\n",
       "  </thead>\n",
       "  <tbody>\n",
       "    <tr>\n",
       "      <th>4</th>\n",
       "      <td>photos_show</td>\n",
       "      <td>4400</td>\n",
       "      <td>0.681</td>\n",
       "    </tr>\n",
       "    <tr>\n",
       "      <th>5</th>\n",
       "      <td>search_7</td>\n",
       "      <td>1503</td>\n",
       "      <td>0.232</td>\n",
       "    </tr>\n",
       "    <tr>\n",
       "      <th>2</th>\n",
       "      <td>contacts_show</td>\n",
       "      <td>403</td>\n",
       "      <td>0.062</td>\n",
       "    </tr>\n",
       "    <tr>\n",
       "      <th>3</th>\n",
       "      <td>favorites_add</td>\n",
       "      <td>70</td>\n",
       "      <td>0.011</td>\n",
       "    </tr>\n",
       "    <tr>\n",
       "      <th>1</th>\n",
       "      <td>contacts_call</td>\n",
       "      <td>58</td>\n",
       "      <td>0.009</td>\n",
       "    </tr>\n",
       "    <tr>\n",
       "      <th>7</th>\n",
       "      <td>tips_show</td>\n",
       "      <td>21</td>\n",
       "      <td>0.003</td>\n",
       "    </tr>\n",
       "    <tr>\n",
       "      <th>0</th>\n",
       "      <td>advert_open</td>\n",
       "      <td>9</td>\n",
       "      <td>0.001</td>\n",
       "    </tr>\n",
       "    <tr>\n",
       "      <th>6</th>\n",
       "      <td>tips_click</td>\n",
       "      <td>1</td>\n",
       "      <td>0.000</td>\n",
       "    </tr>\n",
       "  </tbody>\n",
       "</table>\n",
       "</div>"
      ],
      "text/plain": [
       "      event_name  event_count   freq\n",
       "4    photos_show         4400  0.681\n",
       "5       search_7         1503  0.232\n",
       "2  contacts_show          403  0.062\n",
       "3  favorites_add           70  0.011\n",
       "1  contacts_call           58  0.009\n",
       "7      tips_show           21  0.003\n",
       "0    advert_open            9  0.001\n",
       "6     tips_click            1  0.000"
      ]
     },
     "metadata": {},
     "output_type": "display_data"
    }
   ],
   "source": [
    "# выделяем данные кластера 3\n",
    "frequency_3 = mobile_dataset_sourсes_cluster.query('cluster == 3')\n",
    "\n",
    "# считаем количество каждого действия\n",
    "frequency_3_event_count = (frequency_3.groupby('event_name', as_index=False)\n",
    "                      .agg(event_count=('event_name', 'count'))\n",
    "                      .sort_values(by='event_count', ascending=False))\n",
    "# считаем частоту данного события\n",
    "\n",
    "frequency_3_event_count['freq'] = round(frequency_3_event_count['event_count']/frequency_3_event_count['event_count'].sum(), 3)\n",
    "# выведем на экран\n",
    "print()\n",
    "display('Частота событий в кластере 3',frequency_3_event_count)"
   ]
  },
  {
   "cell_type": "code",
   "execution_count": 63,
   "id": "b4334e96",
   "metadata": {},
   "outputs": [
    {
     "name": "stdout",
     "output_type": "stream",
     "text": [
      "\n"
     ]
    },
    {
     "data": {
      "text/plain": [
       "'Частота событий в кластере 4'"
      ]
     },
     "metadata": {},
     "output_type": "display_data"
    },
    {
     "data": {
      "text/html": [
       "<div>\n",
       "<style scoped>\n",
       "    .dataframe tbody tr th:only-of-type {\n",
       "        vertical-align: middle;\n",
       "    }\n",
       "\n",
       "    .dataframe tbody tr th {\n",
       "        vertical-align: top;\n",
       "    }\n",
       "\n",
       "    .dataframe thead th {\n",
       "        text-align: right;\n",
       "    }\n",
       "</style>\n",
       "<table border=\"1\" class=\"dataframe\">\n",
       "  <thead>\n",
       "    <tr style=\"text-align: right;\">\n",
       "      <th></th>\n",
       "      <th>event_name</th>\n",
       "      <th>event_count</th>\n",
       "      <th>freq</th>\n",
       "    </tr>\n",
       "  </thead>\n",
       "  <tbody>\n",
       "    <tr>\n",
       "      <th>7</th>\n",
       "      <td>tips_show</td>\n",
       "      <td>7955</td>\n",
       "      <td>0.588</td>\n",
       "    </tr>\n",
       "    <tr>\n",
       "      <th>0</th>\n",
       "      <td>advert_open</td>\n",
       "      <td>2833</td>\n",
       "      <td>0.209</td>\n",
       "    </tr>\n",
       "    <tr>\n",
       "      <th>3</th>\n",
       "      <td>map</td>\n",
       "      <td>1260</td>\n",
       "      <td>0.093</td>\n",
       "    </tr>\n",
       "    <tr>\n",
       "      <th>5</th>\n",
       "      <td>search_7</td>\n",
       "      <td>882</td>\n",
       "      <td>0.065</td>\n",
       "    </tr>\n",
       "    <tr>\n",
       "      <th>1</th>\n",
       "      <td>contacts_show</td>\n",
       "      <td>527</td>\n",
       "      <td>0.039</td>\n",
       "    </tr>\n",
       "    <tr>\n",
       "      <th>2</th>\n",
       "      <td>favorites_add</td>\n",
       "      <td>58</td>\n",
       "      <td>0.004</td>\n",
       "    </tr>\n",
       "    <tr>\n",
       "      <th>6</th>\n",
       "      <td>tips_click</td>\n",
       "      <td>10</td>\n",
       "      <td>0.001</td>\n",
       "    </tr>\n",
       "    <tr>\n",
       "      <th>4</th>\n",
       "      <td>photos_show</td>\n",
       "      <td>1</td>\n",
       "      <td>0.000</td>\n",
       "    </tr>\n",
       "  </tbody>\n",
       "</table>\n",
       "</div>"
      ],
      "text/plain": [
       "      event_name  event_count   freq\n",
       "7      tips_show         7955  0.588\n",
       "0    advert_open         2833  0.209\n",
       "3            map         1260  0.093\n",
       "5       search_7          882  0.065\n",
       "1  contacts_show          527  0.039\n",
       "2  favorites_add           58  0.004\n",
       "6     tips_click           10  0.001\n",
       "4    photos_show            1  0.000"
      ]
     },
     "metadata": {},
     "output_type": "display_data"
    }
   ],
   "source": [
    "# выделяем данные кластера 4\n",
    "frequency_4 = mobile_dataset_sourсes_cluster.query('cluster == 4')\n",
    "\n",
    "# считаем количество каждого действия\n",
    "frequency_4_event_count = (frequency_4.groupby('event_name', as_index=False)\n",
    "                      .agg(event_count=('event_name', 'count'))\n",
    "                      .sort_values(by='event_count', ascending=False))\n",
    "# считаем частоту данного события\n",
    "\n",
    "frequency_4_event_count['freq'] = round(frequency_4_event_count['event_count']/frequency_4_event_count['event_count'].sum(), 3)\n",
    "# выведем на экран\n",
    "print()\n",
    "display('Частота событий в кластере 4',frequency_4_event_count)"
   ]
  },
  {
   "cell_type": "code",
   "execution_count": 64,
   "id": "4d39b07e",
   "metadata": {},
   "outputs": [
    {
     "name": "stdout",
     "output_type": "stream",
     "text": [
      "\n"
     ]
    },
    {
     "data": {
      "text/plain": [
       "'Частота событий в кластере 5'"
      ]
     },
     "metadata": {},
     "output_type": "display_data"
    },
    {
     "data": {
      "text/html": [
       "<div>\n",
       "<style scoped>\n",
       "    .dataframe tbody tr th:only-of-type {\n",
       "        vertical-align: middle;\n",
       "    }\n",
       "\n",
       "    .dataframe tbody tr th {\n",
       "        vertical-align: top;\n",
       "    }\n",
       "\n",
       "    .dataframe thead th {\n",
       "        text-align: right;\n",
       "    }\n",
       "</style>\n",
       "<table border=\"1\" class=\"dataframe\">\n",
       "  <thead>\n",
       "    <tr style=\"text-align: right;\">\n",
       "      <th></th>\n",
       "      <th>event_name</th>\n",
       "      <th>event_count</th>\n",
       "      <th>freq</th>\n",
       "    </tr>\n",
       "  </thead>\n",
       "  <tbody>\n",
       "    <tr>\n",
       "      <th>8</th>\n",
       "      <td>tips_show</td>\n",
       "      <td>1991</td>\n",
       "      <td>0.351</td>\n",
       "    </tr>\n",
       "    <tr>\n",
       "      <th>5</th>\n",
       "      <td>photos_show</td>\n",
       "      <td>1517</td>\n",
       "      <td>0.267</td>\n",
       "    </tr>\n",
       "    <tr>\n",
       "      <th>3</th>\n",
       "      <td>favorites_add</td>\n",
       "      <td>691</td>\n",
       "      <td>0.122</td>\n",
       "    </tr>\n",
       "    <tr>\n",
       "      <th>6</th>\n",
       "      <td>search_7</td>\n",
       "      <td>600</td>\n",
       "      <td>0.106</td>\n",
       "    </tr>\n",
       "    <tr>\n",
       "      <th>0</th>\n",
       "      <td>advert_open</td>\n",
       "      <td>521</td>\n",
       "      <td>0.092</td>\n",
       "    </tr>\n",
       "    <tr>\n",
       "      <th>2</th>\n",
       "      <td>contacts_show</td>\n",
       "      <td>186</td>\n",
       "      <td>0.033</td>\n",
       "    </tr>\n",
       "    <tr>\n",
       "      <th>4</th>\n",
       "      <td>map</td>\n",
       "      <td>154</td>\n",
       "      <td>0.027</td>\n",
       "    </tr>\n",
       "    <tr>\n",
       "      <th>7</th>\n",
       "      <td>tips_click</td>\n",
       "      <td>10</td>\n",
       "      <td>0.002</td>\n",
       "    </tr>\n",
       "    <tr>\n",
       "      <th>1</th>\n",
       "      <td>contacts_call</td>\n",
       "      <td>4</td>\n",
       "      <td>0.001</td>\n",
       "    </tr>\n",
       "  </tbody>\n",
       "</table>\n",
       "</div>"
      ],
      "text/plain": [
       "      event_name  event_count   freq\n",
       "8      tips_show         1991  0.351\n",
       "5    photos_show         1517  0.267\n",
       "3  favorites_add          691  0.122\n",
       "6       search_7          600  0.106\n",
       "0    advert_open          521  0.092\n",
       "2  contacts_show          186  0.033\n",
       "4            map          154  0.027\n",
       "7     tips_click           10  0.002\n",
       "1  contacts_call            4  0.001"
      ]
     },
     "metadata": {},
     "output_type": "display_data"
    }
   ],
   "source": [
    "# выделяем данные кластера 5\n",
    "frequency_5 = mobile_dataset_sourсes_cluster.query('cluster == 5')\n",
    "\n",
    "# считаем количество каждого действия\n",
    "frequency_5_event_count = (frequency_5.groupby('event_name', as_index=False)\n",
    "                      .agg(event_count=('event_name', 'count'))\n",
    "                      .sort_values(by='event_count', ascending=False))\n",
    "# считаем частоту данного события\n",
    "\n",
    "frequency_5_event_count['freq'] = round(frequency_5_event_count['event_count']/frequency_5_event_count['event_count'].sum(), 3)\n",
    "# выведем на экран\n",
    "print()\n",
    "display('Частота событий в кластере 5',frequency_5_event_count)"
   ]
  },
  {
   "cell_type": "markdown",
   "id": "d0bd140b",
   "metadata": {},
   "source": [
    "* Промежуточный вывод\n",
    "\n",
    " При анализе частоты событий в кластерах, обращает на себя внимание тот факт, что список событий в кластерах не одинаков. Все 9 событий имеют место лишь в кластерах 1 и 5, кластеры 0 (нет события tips_click),3(нет события map) и 4(нет события contacts_call) совершали 8 событий и лишь 7 событий содержит кластер 2(нет события tips_click и map).  \n",
    " \n",
    " Краткая харрактеристика частот в кластерах:\n",
    " \n",
    " * Кластер 0 : самое частое событие - tips_show\t(0,7), частота остальных событий на порядок ниже от 0,09 до 0;\n",
    " \n",
    " * Кластер 1 : самое частое событие - tips_show\t(0,7), частота остальных событий тоже на порядок ниже от 0,08 до 0;\n",
    " \n",
    " * Кластер 2 : самое частое событие - photos_show\t(0,4), частота contacts_show и search_7 - 0,2, остальные событий имеют частоту ниже 0,1 до 0;\n",
    " \n",
    " * Кластер 3 : самое частое событие - photos_show\t(0,7),  остальные событий имеют частоту ниже 0,2 до 0;\n",
    " \n",
    " * Кластер 4 : самое частое событие - tips_show\t(0,6), частота advert_open составляе 0,2, остальные событий имеют частоту ниже 0,06 до 0;\n",
    " \n",
    " * Кластер 5 : самое частое событие - tips_show и photos_show(0,3),  остальные событий имеют частоту ниже 0,1 до 0.\n",
    " \n",
    " Не зависящее от пользователя и самое частое событие tips_show не всегда возглавляет топ событий. Примером служат пользователи кластеров 2 и 3 - возможно, в них вошли любители фотографий.Этот факт нуждается в дополнительной проверке.  На одно событие tips_show приходится более 200 событий photos_show.  \n",
    "\n"
   ]
  },
  {
   "cell_type": "markdown",
   "id": "4f7b09ed",
   "metadata": {},
   "source": [
    "**Расчитаем показатель конверсии в кластерах.**"
   ]
  },
  {
   "cell_type": "markdown",
   "id": "473e3d7b",
   "metadata": {},
   "source": [
    "---"
   ]
  },
  {
   "cell_type": "code",
   "execution_count": 65,
   "id": "1c303f2a",
   "metadata": {},
   "outputs": [
    {
     "name": "stdout",
     "output_type": "stream",
     "text": [
      "Совершили целевое действие в кластерах          userId\n",
      "cluster        \n",
      "0            68\n",
      "1           480\n",
      "2           130\n",
      "3           135\n",
      "4           110\n",
      "5            58\n"
     ]
    }
   ],
   "source": [
    "#сохраним количество пользователей,совершивших целевое действие в кластерах в переменной conversion_cluster\n",
    "conversion_cluster = pd.pivot_table(mobile_dataset_sourсes_cluster\\\n",
    "                                    .query('event_name==\"contacts_show\"')\\\n",
    "                                    ,index='cluster', values= ['userId'],aggfunc= {'userId':'nunique'})\n",
    "# выведем на экран\n",
    "print('Совершили целевое действие в кластерах',conversion_cluster)"
   ]
  },
  {
   "cell_type": "code",
   "execution_count": 66,
   "id": "be3c5eab",
   "metadata": {
    "scrolled": true
   },
   "outputs": [
    {
     "name": "stdout",
     "output_type": "stream",
     "text": [
      "         userId  conversion\n",
      "cluster                    \n",
      "2           130    1.000000\n",
      "0            68    0.356021\n",
      "5            58    0.316940\n",
      "3           135    0.226131\n",
      "4           110    0.187713\n",
      "1           480    0.184190\n"
     ]
    }
   ],
   "source": [
    "# посчитаем конверсию в просмотр контактов\n",
    "conversion_cluster['conversion'] = conversion_cluster['userId']/mobile_dataset_sourсes_cluster\\\n",
    ".groupby('cluster')['userId'].nunique()\n",
    "\n",
    "\n",
    "# выведем на экран\n",
    "print(conversion_cluster.sort_values(by='conversion', ascending=False))"
   ]
  },
  {
   "cell_type": "code",
   "execution_count": 67,
   "id": "543ca05a",
   "metadata": {},
   "outputs": [
    {
     "data": {
      "text/plain": [
       "cluster\n",
       "0     191\n",
       "1    2606\n",
       "2     130\n",
       "3     597\n",
       "4     586\n",
       "5     183\n",
       "Name: userId, dtype: int64"
      ]
     },
     "execution_count": 67,
     "metadata": {},
     "output_type": "execute_result"
    }
   ],
   "source": [
    "# выведем количество пользователей\n",
    "len(pd.Series(mobile_dataset_sourсes_cluster['userId'].unique()))\n",
    "mobile_dataset_sourсes_cluster.groupby('cluster')['userId']\\\n",
    ".nunique()"
   ]
  },
  {
   "cell_type": "markdown",
   "id": "998a757a",
   "metadata": {},
   "source": [
    "* Промежуточный вывод\n",
    "\n",
    "Анализ показателей конверсии показал, что разброс значений  довольно большой: от 100% до 18%. \n",
    "\n",
    "Показатель конверсии 100% в кластере 2 является неправдоподобно высоким и этот факт нуждается в дополнительной проверке данных.\n",
    "самый низкий показатель конверсии (он же и наиболее правдоподобный) в кластере 1 - самом многочисленном кластере."
   ]
  },
  {
   "cell_type": "markdown",
   "id": "15357a9d",
   "metadata": {},
   "source": [
    "* Промежуточный вывод \n",
    "\n",
    "\n",
    "  * самый высокий показатель конверсии  в кластере 2 (100 %),\n",
    "  \n",
    "  * самый низкий показатель конверсии в кластере 1 -  (18.4%)."
   ]
  },
  {
   "cell_type": "markdown",
   "id": "80966b50",
   "metadata": {},
   "source": [
    "**Определим как различается время между распространенными событиями пользователей из разных групп. Для анализа выберем событие advert_open и contacts_show.**"
   ]
  },
  {
   "cell_type": "code",
   "execution_count": 69,
   "id": "fc41984e",
   "metadata": {},
   "outputs": [
    {
     "data": {
      "text/html": [
       "<div>\n",
       "<style scoped>\n",
       "    .dataframe tbody tr th:only-of-type {\n",
       "        vertical-align: middle;\n",
       "    }\n",
       "\n",
       "    .dataframe tbody tr th {\n",
       "        vertical-align: top;\n",
       "    }\n",
       "\n",
       "    .dataframe thead th {\n",
       "        text-align: right;\n",
       "    }\n",
       "</style>\n",
       "<table border=\"1\" class=\"dataframe\">\n",
       "  <thead>\n",
       "    <tr style=\"text-align: right;\">\n",
       "      <th></th>\n",
       "      <th>time_between</th>\n",
       "    </tr>\n",
       "    <tr>\n",
       "      <th>cluster</th>\n",
       "      <th></th>\n",
       "    </tr>\n",
       "  </thead>\n",
       "  <tbody>\n",
       "    <tr>\n",
       "      <th>0</th>\n",
       "      <td>0 days 00:42:28.166666666</td>\n",
       "    </tr>\n",
       "    <tr>\n",
       "      <th>3</th>\n",
       "      <td>0 days 00:39:31</td>\n",
       "    </tr>\n",
       "    <tr>\n",
       "      <th>2</th>\n",
       "      <td>0 days 00:26:40</td>\n",
       "    </tr>\n",
       "    <tr>\n",
       "      <th>5</th>\n",
       "      <td>0 days 00:21:24.285714285</td>\n",
       "    </tr>\n",
       "    <tr>\n",
       "      <th>1</th>\n",
       "      <td>0 days 00:14:33.090909090</td>\n",
       "    </tr>\n",
       "    <tr>\n",
       "      <th>4</th>\n",
       "      <td>0 days 00:10:30.222222222</td>\n",
       "    </tr>\n",
       "  </tbody>\n",
       "</table>\n",
       "</div>"
      ],
      "text/plain": [
       "                     time_between\n",
       "cluster                          \n",
       "0       0 days 00:42:28.166666666\n",
       "3                 0 days 00:39:31\n",
       "2                 0 days 00:26:40\n",
       "5       0 days 00:21:24.285714285\n",
       "1       0 days 00:14:33.090909090\n",
       "4       0 days 00:10:30.222222222"
      ]
     },
     "execution_count": 69,
     "metadata": {},
     "output_type": "execute_result"
    }
   ],
   "source": [
    "# создадим список сессий с событием advert_open\n",
    "advert_open_session = mobile_dataset_sourсes_cluster.copy().query('event_name == \"advert_open\"')['session_id'].unique()\n",
    "# сохраним в переменной mobile_dataset_advert_open_session сессии с событием advert_open\n",
    "mobile_dataset_advert_open_session =  mobile_dataset_sourсes_cluster.query('session_id in @advert_open_session')\n",
    "# создадим список сессий с событиями advert_open и contacts_show\n",
    "advert_open_contacts_show_session = mobile_dataset_advert_open_session.query('event_name == \"contacts_show\"')['session_id']\\\n",
    ".unique()\n",
    "# сохраним в переменной mobile_dataset_advert_open_contacts_show_session сессии с событием advert_open и contacts_show\n",
    "mobile_dataset_advert_open_contacts_show_session = mobile_dataset_sourсes_cluster\\\n",
    ".query('session_id in @advert_open_contacts_show_session')\n",
    "# сохраним в переменной first_advert_open_session первую дату событий advert_open в отобранных сессиях\n",
    "first_advert_open_session =  (mobile_dataset_advert_open_contacts_show_session.query('event_name == \"advert_open\"')\\\n",
    "                              .groupby(['cluster','userId', 'session_id'], as_index=False)\n",
    "                           .agg(first_advert_open=('event_time', 'min')))\n",
    "# сохраним в переменной first_contacts_show_session первую дату событий contacts_show в отобранных сессиях \n",
    "first_contacts_show_session =  (mobile_dataset_advert_open_contacts_show_session.query('event_name == \"contacts_show\"')\\\n",
    "                                .groupby(['cluster','userId', 'session_id'], as_index=False)\n",
    "                           .agg(first_contacts_show=('event_time', 'min')))\n",
    "# в переменной session_events_group соединим полученные даты событий  \n",
    "session_events_group = first_advert_open_session.merge(first_contacts_show_session\\\n",
    "                                                       ,on=['cluster','userId', 'session_id'], how='left')\n",
    "# сохраним в колонке time_between разницу между датами событий\n",
    "session_events_group['time_between']=session_events_group['first_advert_open']-session_events_group['first_contacts_show']\n",
    "# избавимся от отрицательных значений в полученных данных\n",
    "session_events_group = session_events_group.query('time_between>=\"0\"')\n",
    "# найдём и сохраним в переменной session_events_group_mean средние значения времени  между событиями в кластерах\n",
    "session_events_group_mean = session_events_group.groupby('cluster').agg({'time_between': 'mean'})\\\n",
    ".sort_values(by='time_between', ascending=False)\n",
    "# выведем на экран\n",
    "session_events_group_mean"
   ]
  },
  {
   "cell_type": "markdown",
   "id": "98e9ab11",
   "metadata": {},
   "source": [
    "* Промежуточный вывод\n",
    "\n",
    "В результате анализа среднего времени между событиями  advert_open и  contacts_show в группах пользователей установлено, что среднее время ограничено промежутком от 10 минут до 42минут:\n",
    "\n",
    "* наибольший промежуток времени зафиксирован среди пользователей кластера 0 - более 42 минут;\n",
    "\n",
    "* наименьший промежуток времени зафиксирован среди пользователей кластера 4 - чуть более 10 минут.\n",
    "\n"
   ]
  },
  {
   "cell_type": "markdown",
   "id": "b02bd65f",
   "metadata": {},
   "source": [
    "#  Проверим статистические гипотезы\n",
    "    "
   ]
  },
  {
   "cell_type": "markdown",
   "id": "eb02c851",
   "metadata": {},
   "source": [
    "## Гипотеза 1. *Некоторые пользователи установили приложение по ссылке из `yandex`, другие — из `google`. Проверим гипотезу: две эти группы демонстрируют разную конверсию в просмотры контактов.*"
   ]
  },
  {
   "cell_type": "markdown",
   "id": "919a0a20",
   "metadata": {},
   "source": [
    "* Гипотеза НО - конверсия в группах пользователей установивших приложение по ссылке из yandex и по ссылке из google - одинакова\n",
    "\n",
    "* Гипотеза Н1 - конверсия в группах пользователей установивших приложение по ссылке из yandex и по ссылке из google  -различна"
   ]
  },
  {
   "cell_type": "code",
   "execution_count": 70,
   "id": "2fd4b900",
   "metadata": {
    "scrolled": true
   },
   "outputs": [
    {
     "name": "stdout",
     "output_type": "stream",
     "text": [
      "            event_time   event_name                                userId  \\\n",
      "2  2019-10-07 00:00:02    tips_show  cf7eda61-9349-469f-ac27-e5b6f5ec475c   \n",
      "4  2019-10-07 00:00:56  advert_open  cf7eda61-9349-469f-ac27-e5b6f5ec475c   \n",
      "5  2019-10-07 00:01:19    tips_show  cf7eda61-9349-469f-ac27-e5b6f5ec475c   \n",
      "8  2019-10-07 00:01:49  advert_open  cf7eda61-9349-469f-ac27-e5b6f5ec475c   \n",
      "11 2019-10-07 00:02:06    tips_show  cf7eda61-9349-469f-ac27-e5b6f5ec475c   \n",
      "\n",
      "    session_id  source  cluster                 min  \n",
      "2            2  yandex        1 2019-10-07 00:00:02  \n",
      "4            2  yandex        1 2019-10-07 00:00:02  \n",
      "5            2  yandex        1 2019-10-07 00:00:02  \n",
      "8            2  yandex        1 2019-10-07 00:00:02  \n",
      "11           2  yandex        1 2019-10-07 00:00:02  \n"
     ]
    }
   ],
   "source": [
    "# сохраним в переменной yandex группу пользователей установивших приложение по ссылке из yandex\n",
    "yandex = mobile_dataset_sourсes_cluster.query('source==\"yandex\"')\n",
    "\n",
    "print(yandex.head())"
   ]
  },
  {
   "cell_type": "code",
   "execution_count": 71,
   "id": "5a497377",
   "metadata": {
    "scrolled": true
   },
   "outputs": [
    {
     "name": "stdout",
     "output_type": "stream",
     "text": [
      "            event_time event_name                                userId  \\\n",
      "37 2019-10-07 00:09:33  tips_show  f32e1e2a-3027-4693-b793-b7b3ff274439   \n",
      "44 2019-10-07 00:11:48  tips_show  f32e1e2a-3027-4693-b793-b7b3ff274439   \n",
      "49 2019-10-07 00:13:34  tips_show  f32e1e2a-3027-4693-b793-b7b3ff274439   \n",
      "50 2019-10-07 00:13:45  tips_show  f32e1e2a-3027-4693-b793-b7b3ff274439   \n",
      "57 2019-10-07 00:15:03  tips_show  f32e1e2a-3027-4693-b793-b7b3ff274439   \n",
      "\n",
      "    session_id  source  cluster                 min  \n",
      "37           5  google        1 2019-10-07 00:09:33  \n",
      "44           5  google        1 2019-10-07 00:09:33  \n",
      "49           5  google        1 2019-10-07 00:09:33  \n",
      "50           5  google        1 2019-10-07 00:09:33  \n",
      "57           5  google        1 2019-10-07 00:09:33  \n"
     ]
    }
   ],
   "source": [
    "# сохраним в переменной google группу пользователей установивших приложение по ссылке из google\n",
    "google = mobile_dataset_sourсes_cluster.query('source==\"google\"')\n",
    "print(google.head())"
   ]
  },
  {
   "cell_type": "code",
   "execution_count": 72,
   "id": "5f16eaf4",
   "metadata": {},
   "outputs": [
    {
     "name": "stdout",
     "output_type": "stream",
     "text": [
      "      event_name  userId\n",
      "0  contacts_show     478\n"
     ]
    }
   ],
   "source": [
    "# сохраним данные для анализа в переменной sample_yandex\n",
    "sample_yandex = pd.pivot_table(yandex.query('event_name==\"contacts_show\"')\\\n",
    "                                    ,index='event_name', values= ['userId'],aggfunc= {'userId':'nunique'})\\\n",
    ".reset_index()\n",
    "print(sample_yandex)"
   ]
  },
  {
   "cell_type": "code",
   "execution_count": 73,
   "id": "53eacd8b",
   "metadata": {},
   "outputs": [
    {
     "name": "stdout",
     "output_type": "stream",
     "text": [
      "      event_name  userId\n",
      "0  contacts_show     275\n"
     ]
    }
   ],
   "source": [
    "# сохраним данные для анализа в переменной sample_google\n",
    "sample_google = pd.pivot_table(google.query('event_name==\"contacts_show\"')\\\n",
    "                                    ,index='event_name', values= ['userId'],aggfunc= {'userId':'nunique'})\\\n",
    ".reset_index()\n",
    "print(sample_google)\n"
   ]
  },
  {
   "cell_type": "code",
   "execution_count": 74,
   "id": "ae2130df",
   "metadata": {},
   "outputs": [
    {
     "data": {
      "text/plain": [
       "'Количество уникальных пользователей в группах пользователей установивших приложение поссылке из yandex'"
      ]
     },
     "metadata": {},
     "output_type": "display_data"
    },
    {
     "data": {
      "text/plain": [
       "1934"
      ]
     },
     "metadata": {},
     "output_type": "display_data"
    }
   ],
   "source": [
    "# посчитаем количество уникальных пользователей в группах пользователей установивших приложение по \n",
    "#ссылке из yandex\n",
    "display('Количество уникальных пользователей в группах пользователей установивших приложение по\\\n",
    "ссылке из yandex',len(pd.Series(yandex['userId'].unique())))"
   ]
  },
  {
   "cell_type": "code",
   "execution_count": 75,
   "id": "e3c901c7",
   "metadata": {},
   "outputs": [
    {
     "data": {
      "text/plain": [
       "'Количество уникальных пользователей в группах пользователей установивших приложение поссылке из google'"
      ]
     },
     "metadata": {},
     "output_type": "display_data"
    },
    {
     "data": {
      "text/plain": [
       "1129"
      ]
     },
     "metadata": {},
     "output_type": "display_data"
    }
   ],
   "source": [
    "# посчитаем количество уникальных пользователей в группах пользователей установивших приложение по \n",
    "#ссылке из google\n",
    "display('Количество уникальных пользователей в группах пользователей установивших приложение по\\\n",
    "ссылке из google',len(pd.Series(google['userId'].unique())))"
   ]
  },
  {
   "cell_type": "code",
   "execution_count": 76,
   "id": "c808f857",
   "metadata": {},
   "outputs": [
    {
     "name": "stdout",
     "output_type": "stream",
     "text": [
      "[478 275]\n"
     ]
    }
   ],
   "source": [
    "# посчитаем пользователей совершивших целевое действие\n",
    "action = np.array([sample_yandex.loc[0,'userId']\n",
    "                  ,sample_google.loc[0,'userId']]) \n",
    "# выведем на экран\n",
    "print(action)"
   ]
  },
  {
   "cell_type": "code",
   "execution_count": 77,
   "id": "04211924",
   "metadata": {},
   "outputs": [
    {
     "name": "stdout",
     "output_type": "stream",
     "text": [
      "[1934 1129]\n"
     ]
    }
   ],
   "source": [
    "#общее количество пользователей\n",
    "total_quant = np.array([len(pd.Series(yandex['userId'].unique())),len(pd.Series(google['userId'].unique()))])\n",
    "\n",
    "# выведем на экран\n",
    "print(total_quant)"
   ]
  },
  {
   "cell_type": "markdown",
   "id": "52ff120b",
   "metadata": {},
   "source": [
    "Мы выбрали для исследования статистически значимой разницы между конверсиями Z-тест .\n",
    "\n"
   ]
  },
  {
   "cell_type": "code",
   "execution_count": 78,
   "id": "c043e3b9",
   "metadata": {},
   "outputs": [
    {
     "name": "stdout",
     "output_type": "stream",
     "text": [
      "p-значение:  0.8244316027993777\n",
      "Не получилось отвергнуть нулевую гипотезу, нет оснований считать выборки разными\n"
     ]
    }
   ],
   "source": [
    "alpha = .05 # критический уровень статистической значимости\n",
    "# запишем дальнейший код в функцию\n",
    "def z_test(action,total_quant,alpha):\n",
    "    \n",
    "# пропорция действия в первой группе:\n",
    "    p1 = action[0]/total_quant[0]\n",
    "\n",
    "# пропорция действия во второй группе:\n",
    "    p2 = action[1]/total_quant[1]\n",
    "\n",
    "# пропорция действия в комбинированном датасете:\n",
    "    p_combined = (action[0] + action[1]) / (total_quant[0] + total_quant[1])\n",
    "\n",
    "# разница пропорций в датасетах\n",
    "    difference = p1 - p2 \n",
    "\n",
    "#считаем статистику в ст.отклонениях стандартного нормального распределения\n",
    "    z_value = difference / mth.sqrt(p_combined * (1 - p_combined) * (1/total_quant[0] + 1/total_quant[1]))\n",
    "\n",
    "# задаем стандартное нормальное распределение (среднее 0, ст.отклонение 1)\n",
    "    distr = st.norm(0, 1) \n",
    "\n",
    "# считаем статистику в ст.отклонениях стандартного нормального распределения\n",
    "    z_value = difference / mth.sqrt(\n",
    "        p_combined * (1 - p_combined) * (1 / total_quant[0] + 1 / total_quant[1])\n",
    "    )\n",
    "\n",
    "# задаем стандартное нормальное распределение (среднее 0, ст.отклонение 1)\n",
    "    distr = st.norm(0, 1)\n",
    "\n",
    "    p_value = (1 - distr.cdf(abs(z_value))) * 2\n",
    "\n",
    "    print('p-значение: ', p_value)\n",
    "\n",
    "    if p_value < alpha:\n",
    "        print('Отвергаем нулевую гипотезу: между выборками есть значимая разница')\n",
    "    else:\n",
    "        print(\n",
    "            'Не получилось отвергнуть нулевую гипотезу, нет оснований считать выборки разными'\n",
    "        ) \n",
    "z_test(action,total_quant,alpha)"
   ]
  },
  {
   "cell_type": "markdown",
   "id": "db277d7e",
   "metadata": {},
   "source": [
    "## Гипотеза 2. *Пользователи, которые пользуются приложением часто, и те, кто пользуется приложением редко, демонстрируют разную конверсию в просмотры контактов.*"
   ]
  },
  {
   "cell_type": "markdown",
   "id": "e0aecec2",
   "metadata": {},
   "source": [
    "* Гипотеза НО - конверсия в группах пользователей пользующихся приложением часто, и те, кто пользуется приложением редко - одинакова\n",
    "\n",
    "* Гипотеза Н1 - конверсия в группах пользователей пользующихся приложением часто, и те, кто пользуется приложением редко  -различна"
   ]
  },
  {
   "cell_type": "code",
   "execution_count": 79,
   "id": "5a5fce06",
   "metadata": {},
   "outputs": [
    {
     "name": "stdout",
     "output_type": "stream",
     "text": [
      "                                 userId  session_count\n",
      "0  0001b1d5-b74a-4cbf-aeb0-7df5947bf349             35\n",
      "1  00157779-810c-4498-9e05-a1e9e3cedf93             71\n",
      "2  00463033-5717-4bf1-91b4-09183923b9df             10\n",
      "3  004690c3-5a84-4bb7-a8af-e0c8f8fca64e             32\n",
      "4  00551e79-152e-4441-9cf7-565d7eb04090              8\n"
     ]
    },
    {
     "data": {
      "text/html": [
       "<div>\n",
       "<style scoped>\n",
       "    .dataframe tbody tr th:only-of-type {\n",
       "        vertical-align: middle;\n",
       "    }\n",
       "\n",
       "    .dataframe tbody tr th {\n",
       "        vertical-align: top;\n",
       "    }\n",
       "\n",
       "    .dataframe thead th {\n",
       "        text-align: right;\n",
       "    }\n",
       "</style>\n",
       "<table border=\"1\" class=\"dataframe\">\n",
       "  <thead>\n",
       "    <tr style=\"text-align: right;\">\n",
       "      <th></th>\n",
       "      <th>event_time</th>\n",
       "      <th>event_name</th>\n",
       "      <th>userId</th>\n",
       "      <th>session_id</th>\n",
       "      <th>source</th>\n",
       "      <th>cluster</th>\n",
       "      <th>min</th>\n",
       "      <th>session_count</th>\n",
       "    </tr>\n",
       "  </thead>\n",
       "  <tbody>\n",
       "    <tr>\n",
       "      <th>0</th>\n",
       "      <td>2019-10-07 00:00:00</td>\n",
       "      <td>advert_open</td>\n",
       "      <td>020292ab-89bc-4156-9acf-68bc2783f894</td>\n",
       "      <td>1</td>\n",
       "      <td>other</td>\n",
       "      <td>1</td>\n",
       "      <td>2019-10-07 00:00:00</td>\n",
       "      <td>28</td>\n",
       "    </tr>\n",
       "    <tr>\n",
       "      <th>1</th>\n",
       "      <td>2019-10-07 00:00:01</td>\n",
       "      <td>tips_show</td>\n",
       "      <td>020292ab-89bc-4156-9acf-68bc2783f894</td>\n",
       "      <td>1</td>\n",
       "      <td>other</td>\n",
       "      <td>1</td>\n",
       "      <td>2019-10-07 00:00:00</td>\n",
       "      <td>28</td>\n",
       "    </tr>\n",
       "    <tr>\n",
       "      <th>2</th>\n",
       "      <td>2019-10-07 00:00:02</td>\n",
       "      <td>tips_show</td>\n",
       "      <td>cf7eda61-9349-469f-ac27-e5b6f5ec475c</td>\n",
       "      <td>2</td>\n",
       "      <td>yandex</td>\n",
       "      <td>1</td>\n",
       "      <td>2019-10-07 00:00:02</td>\n",
       "      <td>93</td>\n",
       "    </tr>\n",
       "    <tr>\n",
       "      <th>3</th>\n",
       "      <td>2019-10-07 00:00:07</td>\n",
       "      <td>tips_show</td>\n",
       "      <td>020292ab-89bc-4156-9acf-68bc2783f894</td>\n",
       "      <td>1</td>\n",
       "      <td>other</td>\n",
       "      <td>1</td>\n",
       "      <td>2019-10-07 00:00:00</td>\n",
       "      <td>28</td>\n",
       "    </tr>\n",
       "    <tr>\n",
       "      <th>4</th>\n",
       "      <td>2019-10-07 00:00:56</td>\n",
       "      <td>advert_open</td>\n",
       "      <td>cf7eda61-9349-469f-ac27-e5b6f5ec475c</td>\n",
       "      <td>2</td>\n",
       "      <td>yandex</td>\n",
       "      <td>1</td>\n",
       "      <td>2019-10-07 00:00:02</td>\n",
       "      <td>93</td>\n",
       "    </tr>\n",
       "  </tbody>\n",
       "</table>\n",
       "</div>"
      ],
      "text/plain": [
       "           event_time   event_name                                userId  \\\n",
       "0 2019-10-07 00:00:00  advert_open  020292ab-89bc-4156-9acf-68bc2783f894   \n",
       "1 2019-10-07 00:00:01    tips_show  020292ab-89bc-4156-9acf-68bc2783f894   \n",
       "2 2019-10-07 00:00:02    tips_show  cf7eda61-9349-469f-ac27-e5b6f5ec475c   \n",
       "3 2019-10-07 00:00:07    tips_show  020292ab-89bc-4156-9acf-68bc2783f894   \n",
       "4 2019-10-07 00:00:56  advert_open  cf7eda61-9349-469f-ac27-e5b6f5ec475c   \n",
       "\n",
       "   session_id  source  cluster                 min  session_count  \n",
       "0           1   other        1 2019-10-07 00:00:00             28  \n",
       "1           1   other        1 2019-10-07 00:00:00             28  \n",
       "2           2  yandex        1 2019-10-07 00:00:02             93  \n",
       "3           1   other        1 2019-10-07 00:00:00             28  \n",
       "4           2  yandex        1 2019-10-07 00:00:02             93  "
      ]
     },
     "metadata": {},
     "output_type": "display_data"
    }
   ],
   "source": [
    "# сохраним количество сессий в переменной \n",
    "session = mobile_dataset_sourсes_cluster.groupby('userId')['session_id'].count().reset_index()\\\n",
    ".rename(columns={'session_id': 'session_count'})\n",
    "# выведем на экран\n",
    "print(session.head())\n",
    "# создадим столбец session_count в mobile_dataset_sourсes_cluster\n",
    "mobile_dataset_sourсes_cluster_session = mobile_dataset_sourсes_cluster.merge(session,  how='left', on= 'userId')\n",
    "# выведем на экран\n",
    "display(mobile_dataset_sourсes_cluster_session.head())"
   ]
  },
  {
   "cell_type": "code",
   "execution_count": 80,
   "id": "531fab38",
   "metadata": {},
   "outputs": [
    {
     "data": {
      "text/html": [
       "<div>\n",
       "<style scoped>\n",
       "    .dataframe tbody tr th:only-of-type {\n",
       "        vertical-align: middle;\n",
       "    }\n",
       "\n",
       "    .dataframe tbody tr th {\n",
       "        vertical-align: top;\n",
       "    }\n",
       "\n",
       "    .dataframe thead th {\n",
       "        text-align: right;\n",
       "    }\n",
       "</style>\n",
       "<table border=\"1\" class=\"dataframe\">\n",
       "  <thead>\n",
       "    <tr style=\"text-align: right;\">\n",
       "      <th></th>\n",
       "      <th>event_time</th>\n",
       "      <th>event_name</th>\n",
       "      <th>userId</th>\n",
       "      <th>session_id</th>\n",
       "      <th>source</th>\n",
       "      <th>cluster</th>\n",
       "      <th>min</th>\n",
       "      <th>session_count</th>\n",
       "    </tr>\n",
       "  </thead>\n",
       "  <tbody>\n",
       "    <tr>\n",
       "      <th>0</th>\n",
       "      <td>2019-10-07 00:00:00</td>\n",
       "      <td>advert_open</td>\n",
       "      <td>020292ab-89bc-4156-9acf-68bc2783f894</td>\n",
       "      <td>1</td>\n",
       "      <td>other</td>\n",
       "      <td>1</td>\n",
       "      <td>2019-10-07 00:00:00</td>\n",
       "      <td>28</td>\n",
       "    </tr>\n",
       "    <tr>\n",
       "      <th>1</th>\n",
       "      <td>2019-10-07 00:00:01</td>\n",
       "      <td>tips_show</td>\n",
       "      <td>020292ab-89bc-4156-9acf-68bc2783f894</td>\n",
       "      <td>1</td>\n",
       "      <td>other</td>\n",
       "      <td>1</td>\n",
       "      <td>2019-10-07 00:00:00</td>\n",
       "      <td>28</td>\n",
       "    </tr>\n",
       "    <tr>\n",
       "      <th>2</th>\n",
       "      <td>2019-10-07 00:00:02</td>\n",
       "      <td>tips_show</td>\n",
       "      <td>cf7eda61-9349-469f-ac27-e5b6f5ec475c</td>\n",
       "      <td>2</td>\n",
       "      <td>yandex</td>\n",
       "      <td>1</td>\n",
       "      <td>2019-10-07 00:00:02</td>\n",
       "      <td>93</td>\n",
       "    </tr>\n",
       "    <tr>\n",
       "      <th>3</th>\n",
       "      <td>2019-10-07 00:00:07</td>\n",
       "      <td>tips_show</td>\n",
       "      <td>020292ab-89bc-4156-9acf-68bc2783f894</td>\n",
       "      <td>1</td>\n",
       "      <td>other</td>\n",
       "      <td>1</td>\n",
       "      <td>2019-10-07 00:00:00</td>\n",
       "      <td>28</td>\n",
       "    </tr>\n",
       "    <tr>\n",
       "      <th>4</th>\n",
       "      <td>2019-10-07 00:00:56</td>\n",
       "      <td>advert_open</td>\n",
       "      <td>cf7eda61-9349-469f-ac27-e5b6f5ec475c</td>\n",
       "      <td>2</td>\n",
       "      <td>yandex</td>\n",
       "      <td>1</td>\n",
       "      <td>2019-10-07 00:00:02</td>\n",
       "      <td>93</td>\n",
       "    </tr>\n",
       "  </tbody>\n",
       "</table>\n",
       "</div>"
      ],
      "text/plain": [
       "           event_time   event_name                                userId  \\\n",
       "0 2019-10-07 00:00:00  advert_open  020292ab-89bc-4156-9acf-68bc2783f894   \n",
       "1 2019-10-07 00:00:01    tips_show  020292ab-89bc-4156-9acf-68bc2783f894   \n",
       "2 2019-10-07 00:00:02    tips_show  cf7eda61-9349-469f-ac27-e5b6f5ec475c   \n",
       "3 2019-10-07 00:00:07    tips_show  020292ab-89bc-4156-9acf-68bc2783f894   \n",
       "4 2019-10-07 00:00:56  advert_open  cf7eda61-9349-469f-ac27-e5b6f5ec475c   \n",
       "\n",
       "   session_id  source  cluster                 min  session_count  \n",
       "0           1   other        1 2019-10-07 00:00:00             28  \n",
       "1           1   other        1 2019-10-07 00:00:00             28  \n",
       "2           2  yandex        1 2019-10-07 00:00:02             93  \n",
       "3           1   other        1 2019-10-07 00:00:00             28  \n",
       "4           2  yandex        1 2019-10-07 00:00:02             93  "
      ]
     },
     "metadata": {},
     "output_type": "display_data"
    }
   ],
   "source": [
    "# определим  порог для пользователей пользующихся приложением часто более 17\n",
    "often =mobile_dataset_sourсes_cluster_session.query('session_count>17')\n",
    "display(often.head())"
   ]
  },
  {
   "cell_type": "code",
   "execution_count": 81,
   "id": "1a821ad8",
   "metadata": {},
   "outputs": [
    {
     "name": "stdout",
     "output_type": "stream",
     "text": [
      "             event_time   event_name                                userId  \\\n",
      "25  2019-10-07 00:05:20     search_7  d9b06b47-0f36-419b-bbb0-3533e582a6cb   \n",
      "26  2019-10-07 00:05:23     search_7  d9b06b47-0f36-419b-bbb0-3533e582a6cb   \n",
      "144 2019-10-07 03:19:39    tips_show  57321726-5d66-4d51-84f4-c797c35dcf2b   \n",
      "191 2019-10-07 08:02:57  photos_show  48e614d6-fe03-40f7-bf9e-4c4f61c19f64   \n",
      "192 2019-10-07 08:08:29  photos_show  48e614d6-fe03-40f7-bf9e-4c4f61c19f64   \n",
      "\n",
      "     session_id  source  cluster                 min  session_count  \n",
      "25            4   other        1 2019-10-07 00:05:20              8  \n",
      "26            4   other        1 2019-10-07 00:05:20              8  \n",
      "144           9  google        1 2019-10-07 03:19:39              6  \n",
      "191          11  yandex        1 2019-10-07 08:02:57              5  \n",
      "192          11  yandex        1 2019-10-07 08:02:57              5  \n"
     ]
    }
   ],
   "source": [
    "# определим  порог для пользователей пользующихся приложением редко менее или равно 17\n",
    "rarely =  mobile_dataset_sourсes_cluster_session.query('session_count<=17')\n",
    "print(rarely.head())"
   ]
  },
  {
   "cell_type": "code",
   "execution_count": 82,
   "id": "b9e54d96",
   "metadata": {},
   "outputs": [
    {
     "name": "stdout",
     "output_type": "stream",
     "text": [
      "      event_name  userId\n",
      "0  contacts_show     368\n"
     ]
    }
   ],
   "source": [
    "# сохраним данные для анализа в переменной sample_often\n",
    "sample_often = pd.pivot_table(often.query('event_name==\"contacts_show\"')\\\n",
    "                                    ,index='event_name', values= ['userId'],aggfunc= {'userId':'nunique'})\\\n",
    ".reset_index()\n",
    "print(sample_often)"
   ]
  },
  {
   "cell_type": "code",
   "execution_count": 83,
   "id": "d64caf1b",
   "metadata": {},
   "outputs": [
    {
     "name": "stdout",
     "output_type": "stream",
     "text": [
      "      event_name  userId\n",
      "0  contacts_show     613\n"
     ]
    }
   ],
   "source": [
    "# сохраним данные для анализа в переменной sample_rarely\n",
    "sample_rarely = pd.pivot_table(rarely.query('event_name==\"contacts_show\"')\\\n",
    "                                    ,index='event_name', values= ['userId'],aggfunc= {'userId':'nunique'})\\\n",
    ".reset_index()\n",
    "print(sample_rarely)"
   ]
  },
  {
   "cell_type": "code",
   "execution_count": 84,
   "id": "a43f120f",
   "metadata": {},
   "outputs": [
    {
     "data": {
      "text/plain": [
       "'Количество уникальных пользователей в группах пользующихся приложением часто'"
      ]
     },
     "metadata": {},
     "output_type": "display_data"
    },
    {
     "data": {
      "text/plain": [
       "1034"
      ]
     },
     "metadata": {},
     "output_type": "display_data"
    }
   ],
   "source": [
    "# посчитаем количество уникальных пользователей в группах пользующихся приложением часто\n",
    "\n",
    "display('Количество уникальных пользователей в группах пользующихся приложением часто',\\\n",
    "        len(pd.Series(often['userId'].unique())))"
   ]
  },
  {
   "cell_type": "code",
   "execution_count": 85,
   "id": "4cf41f05",
   "metadata": {},
   "outputs": [
    {
     "data": {
      "text/plain": [
       "'Количество уникальных пользователей в группах пользующихся приложением редко'"
      ]
     },
     "metadata": {},
     "output_type": "display_data"
    },
    {
     "data": {
      "text/plain": [
       "3259"
      ]
     },
     "metadata": {},
     "output_type": "display_data"
    }
   ],
   "source": [
    "# посчитаем количество уникальных пользователей в группах пользующихся приложением редко\n",
    "\n",
    "display('Количество уникальных пользователей в группах пользующихся приложением редко',\\\n",
    "        len(pd.Series(rarely['userId'].unique())))"
   ]
  },
  {
   "cell_type": "code",
   "execution_count": 86,
   "id": "ac857c8e",
   "metadata": {},
   "outputs": [
    {
     "name": "stdout",
     "output_type": "stream",
     "text": [
      "[368 613]\n"
     ]
    }
   ],
   "source": [
    "# посчитаем пользователей совершивших целевое действие\n",
    "action = np.array([sample_often.loc[0,'userId'],sample_rarely.loc[0,'userId']]) # совершили действие\n",
    "# выведем на экран\n",
    "print(action)"
   ]
  },
  {
   "cell_type": "code",
   "execution_count": 87,
   "id": "8f419d1b",
   "metadata": {},
   "outputs": [
    {
     "name": "stdout",
     "output_type": "stream",
     "text": [
      "[1034 3259]\n"
     ]
    }
   ],
   "source": [
    "#общее количество пользователей\n",
    "total_quant = np.array([len(pd.Series(often['userId'].unique())),len(pd.Series(rarely['userId'].unique()))])\n",
    "\n",
    "# выведем на экран\n",
    "print(total_quant)"
   ]
  },
  {
   "cell_type": "code",
   "execution_count": 88,
   "id": "6dd6f2ff",
   "metadata": {},
   "outputs": [
    {
     "name": "stdout",
     "output_type": "stream",
     "text": [
      "p-значение:  0.0\n",
      "Отвергаем нулевую гипотезу: между выборками есть значимая разница\n"
     ]
    }
   ],
   "source": [
    "alpha = .05 # критический уровень статистической значимости\n",
    "\n",
    "z_test(action,total_quant,alpha)"
   ]
  },
  {
   "cell_type": "markdown",
   "id": "5e038394",
   "metadata": {},
   "source": [
    "* Промежуточный вывод\n",
    "\n",
    "* Гипотеза 1 о том, что пользователи, установившие приложение по ссылке из yandex и другие, по ссылке из google, демонстрируют одинаковую конверсию в просмотры контактов, подтвердилась. Отвергаем альтернативную гипотезу.\n",
    "\n",
    "* Гипотеза 2 о том, что пользователи, которые пользуются приложением часто, и те, кто пользуется приложением редко, демонстрируют одинаковую конверсию в просмотры контактов  не подтвердилась.Принимаем альтернативную гипотезу.\n",
    "\n"
   ]
  },
  {
   "cell_type": "markdown",
   "id": "90398309",
   "metadata": {},
   "source": [
    "# Общий вывод."
   ]
  },
  {
   "cell_type": "markdown",
   "id": "112fcb76",
   "metadata": {},
   "source": [
    "## Вывод по разделу предобработки.\n"
   ]
  },
  {
   "cell_type": "markdown",
   "id": "b977b3b4",
   "metadata": {},
   "source": [
    "В результете предобработки установлено:\n",
    "\n",
    "пропущенных значений в данных нет\n",
    "\n",
    "данные о событиях не позволяют полностью выстроить воронку событий;\n",
    "\n",
    "дубликаты удалены.\n",
    "\n",
    "Наименования колонок приведены к змеиному регистру.\n",
    "\n",
    "Колонка с указанной датой event_time переведена в формат datetime64, микросекунды отброшены."
   ]
  },
  {
   "cell_type": "markdown",
   "id": "fa25f4e3",
   "metadata": {},
   "source": [
    "## Вывод по разделу исследовательского анализа данных.\n"
   ]
  },
  {
   "cell_type": "markdown",
   "id": "87bb6bd8",
   "metadata": {},
   "source": [
    "В результете исследовательского анализа данных установлено:\n",
    "\n",
    "* минимальная дата анализируемого периода - 2019-10-07, \n",
    "* максимальная дата анализируемого периода -2019-11-03;\n",
    "\n",
    "* количество событий составляет 9;\n",
    "\n",
    "* всего пользователей : 4293;\n",
    "\n",
    "* количество событий в среднем на пользователя -17;\n",
    "\n",
    "* наиболшее количество раз совершалось событие tips_show (39907), \n",
    "* наименьшее количество раз совершалось действие contacts_call (534)"
   ]
  },
  {
   "cell_type": "markdown",
   "id": "28db347d",
   "metadata": {},
   "source": [
    "## Вывод по разделу сегментирования пользователей."
   ]
  },
  {
   "cell_type": "markdown",
   "id": "ae7c0ba6",
   "metadata": {},
   "source": [
    "Кластеризация проведена методом KMeans. Количество кластеров - 6.\n",
    "\n",
    "Поведение пользователей в кластерах имеют свои особенности, которые выражаются в средних показателях количества действий в приложении. Самыми яркими поведенческими особенностями пользователей в кластерах являются:\n",
    "\n",
    "* Кластер 0 - совершено максимальное количество действий tips_click (более 7000 раз);\n",
    "* Кластер 1 - меньше всех осуществили действия search_7 (в среднем чуть более 1157);  \n",
    "* Кластер 2 - максимальное количество действий contacts_call (более 7000 раз);\n",
    "* Кластер 3 - максимальное количество действий photos_show (более 6000 раз);\n",
    "* Кластер 4 - максимальное количество действий\tadvert_open и map (более 4000 и 6000 раз соответственно);\n",
    "* Кластер 5 - максимальное количество действий favorites_add (более 7000 раз).\n",
    "\n",
    "По результатам кластеризации можно определить, что основная аудитория попала в кластер 1 - более 60 %. Размеры остальных клатеров заметно меньше. Показатели поведения пользователей в этой группе очень низки.\n",
    "\n",
    "\n",
    "Показатели удержания retention rate:\n",
    "\n",
    "* наиболее высокие достигнуты в кластере 4 (0,7);\n",
    "\n",
    "* самые низкие показатели в кластере 1 (0,02) - самом многочисленном.\n",
    "\n",
    "\n",
    "\n",
    "Среднее время пользования приложением в кластерах не превышает 21 минуты и не ниже 8 минут:\n",
    "\n",
    "* наибольшее среднее время пользования приложением показали пользователи кластера 0- более 20 минут;\n",
    "\n",
    "* наименьшее среднее время пользования приложением - у пользователей кластера 3 - чуть более 8 минут.\n",
    "\n",
    "\n",
    "\n",
    "При анализе частоты событий в кластерах, обращает на себя внимание тот факт, что список событий в кластерах не одинаков. Все 9 событий имеют место лишь в кластерах 1 и 5, кластеры 0 (нет события tips_click),3(нет события map) и 4(нет события contacts_call) совершали 8 событий и лишь 7 событий содержит кластер 2(нет события tips_click и map).\n",
    "\n",
    "Краткая харрактеристика частот в кластерах:\n",
    "\n",
    "* Кластер 0 : самое частое событие - tips_show (0,7), частота остальных событий на порядок ниже от 0,09 до 0;\n",
    "\n",
    "* Кластер 1 : самое частое событие - tips_show (0,7), частота остальных событий тоже на порядок ниже от 0,08 до 0;\n",
    "\n",
    "* Кластер 2 : самое частое событие - photos_show (0,4), частота contacts_show и search_7 - 0,2, остальные событий имеют частоту ниже 0,1 до 0;\n",
    "\n",
    "* Кластер 3 : самое частое событие - photos_show (0,7), остальные событий имеют частоту ниже 0,2 до 0;\n",
    "\n",
    "* Кластер 4 : самое частое событие - tips_show (0,6), частота advert_open составляе 0,2, остальные событий имеют частоту ниже 0,06 до 0;\n",
    "\n",
    "* Кластер 5 : самое частое событие - tips_show и photos_show(0,3), остальные событий имеют частоту ниже 0,1 до 0.\n",
    "\n",
    "Не зависящее от пользователя и самое частое событие tips_show не всегда возглавляет топ событий. Примером служат пользователи кластеров 2 и 3 - возможно, в них вошли любители фотографий.Этот факт нуждается в дополнительной проверке. На одно событие tips_show приходится более 200 событий photos_show.\n",
    "\n",
    "В результате анализа среднего времени между событиями advert_open и contacts_show в группах пользователей установлено, что среднее время ограничено промежутком от 10 минут до 42минут:\n",
    "\n",
    "* наибольший промежуток времени зафиксирован среди пользователей кластера 0 - более 42 минут;\n",
    "\n",
    "* наименьший промежуток времени зафиксирован среди пользователей кластера 4 - чуть более 10 минут.\n",
    "\n",
    "Анализ показателей конверсии в группах показал следуюшие результаты :\n",
    "\n",
    "* самый высокий показатель конверсии в кластере 2 (100 %);\n",
    "* показатель конверсии в кластере 0 составляет 35%;\n",
    "* показатель конверсии в кластере 5 составляет 31%;\n",
    "* показатель конверсии в кластере 3 составляет 23%;\n",
    "* показатель конверсии в кластере 4 составляет 19%;\n",
    "* самый низкий показатель конверсии в кластере 1 (18.4%)."
   ]
  },
  {
   "cell_type": "markdown",
   "id": "cae9f5be",
   "metadata": {},
   "source": [
    "## Вывод по разделу проверки статистических гипотез."
   ]
  },
  {
   "cell_type": "markdown",
   "id": "b1868a58",
   "metadata": {},
   "source": [
    "* Гипотеза 1 о том, что пользователи, установившие приложение по ссылке из yandex и другие, по ссылке из google, демонстрируют одинаковую конверсию в просмотры контактов, подтвердилась. Отвергаем альтернативную гипотезу.\n",
    "\n",
    "* Гипотеза 2 о том, что пользователи, которые пользуются приложением часто, и те, кто пользуется приложением редко, демонстрируют одинаковую конверсию в просмотры контактов не подтвердилась.Принимаем альтернативную гипотезу."
   ]
  },
  {
   "cell_type": "markdown",
   "id": "8b626b22",
   "metadata": {},
   "source": [
    "## Общие рекомендации ."
   ]
  },
  {
   "cell_type": "markdown",
   "id": "20760329",
   "metadata": {},
   "source": [
    "   В процессе работы над задачей проведена предобработка данных,исследовательский анализ, сегментирование пользователей и проверка гипотез. \n",
    "   По результатам сделаны выводы. На их основании которых можно порекомендовать  формировать данные для анализа с детализацией по воронке событий, это позволит точнее проанализировать поведение пользователей.\n",
    "   \n",
    "   Значительная масса пользователей (кластер 1 более 60 %) совершает незначительное количество действий, при этом показатель времени использования приложения в этой группе не самый низкий.Причина такого поведения требует дополнительного исследования. Возможно есть техническая проблема с зависанием.Рекомендация - проверить работу приложения.\n",
    "   \n",
    "В результате проверки гипотез 1 и 2 установлено:\n",
    "\n",
    "   конверсия в просмотр контактов пользователей в приложении не зависит от браузера, через который они попали в приложение;\n",
    "   \n",
    "   конверсия в просмотр контактов пользователей в приложении зависит от количества времени проведённого в приложении.\n",
    "     \n",
    "\n",
    "\n"
   ]
  }
 ],
 "metadata": {
  "ExecuteTimeLog": [
   {
    "duration": 18243,
    "start_time": "2022-08-18T06:24:05.286Z"
   },
   {
    "duration": 358,
    "start_time": "2022-08-18T06:24:23.532Z"
   },
   {
    "duration": 31,
    "start_time": "2022-08-18T06:24:23.896Z"
   },
   {
    "duration": 22,
    "start_time": "2022-08-18T06:24:23.931Z"
   },
   {
    "duration": 43,
    "start_time": "2022-08-18T06:24:23.955Z"
   },
   {
    "duration": 109,
    "start_time": "2022-08-18T06:24:24.002Z"
   },
   {
    "duration": 52,
    "start_time": "2022-08-18T06:24:24.113Z"
   },
   {
    "duration": 68,
    "start_time": "2022-08-18T06:24:24.167Z"
   },
   {
    "duration": 27,
    "start_time": "2022-08-18T06:24:24.236Z"
   },
   {
    "duration": 14,
    "start_time": "2022-08-18T06:24:24.267Z"
   },
   {
    "duration": 71,
    "start_time": "2022-08-18T06:24:24.283Z"
   },
   {
    "duration": 7,
    "start_time": "2022-08-18T06:24:24.356Z"
   },
   {
    "duration": 62,
    "start_time": "2022-08-18T06:24:24.365Z"
   },
   {
    "duration": 5,
    "start_time": "2022-08-18T06:24:24.430Z"
   },
   {
    "duration": 28,
    "start_time": "2022-08-18T06:24:24.437Z"
   },
   {
    "duration": 10,
    "start_time": "2022-08-18T06:24:24.468Z"
   },
   {
    "duration": 544,
    "start_time": "2022-08-18T06:24:24.480Z"
   },
   {
    "duration": 45,
    "start_time": "2022-08-18T06:24:25.026Z"
   },
   {
    "duration": 41,
    "start_time": "2022-08-18T06:24:25.073Z"
   },
   {
    "duration": 1258,
    "start_time": "2022-08-18T06:24:25.116Z"
   },
   {
    "duration": 37,
    "start_time": "2022-08-18T06:24:26.377Z"
   },
   {
    "duration": 83,
    "start_time": "2022-08-18T06:24:26.417Z"
   },
   {
    "duration": 7,
    "start_time": "2022-08-18T06:24:26.502Z"
   },
   {
    "duration": 23,
    "start_time": "2022-08-18T06:24:26.513Z"
   },
   {
    "duration": 14,
    "start_time": "2022-08-18T06:24:26.538Z"
   },
   {
    "duration": 998,
    "start_time": "2022-08-18T06:24:26.554Z"
   },
   {
    "duration": 50,
    "start_time": "2022-08-18T06:24:27.554Z"
   },
   {
    "duration": 49,
    "start_time": "2022-08-18T06:24:27.608Z"
   },
   {
    "duration": 640,
    "start_time": "2022-08-18T06:24:27.660Z"
   },
   {
    "duration": 730,
    "start_time": "2022-08-18T06:24:28.302Z"
   },
   {
    "duration": 611,
    "start_time": "2022-08-18T06:24:29.035Z"
   },
   {
    "duration": 630,
    "start_time": "2022-08-18T06:24:29.649Z"
   },
   {
    "duration": 38,
    "start_time": "2022-08-18T06:24:30.281Z"
   },
   {
    "duration": 449,
    "start_time": "2022-08-18T06:24:30.322Z"
   },
   {
    "duration": 32,
    "start_time": "2022-08-18T06:24:30.773Z"
   },
   {
    "duration": 36,
    "start_time": "2022-08-18T06:24:30.806Z"
   },
   {
    "duration": 24,
    "start_time": "2022-08-18T06:24:30.845Z"
   },
   {
    "duration": 31,
    "start_time": "2022-08-18T06:24:30.872Z"
   },
   {
    "duration": 33,
    "start_time": "2022-08-18T06:24:30.905Z"
   },
   {
    "duration": 26,
    "start_time": "2022-08-18T06:24:30.939Z"
   },
   {
    "duration": 12,
    "start_time": "2022-08-18T06:24:30.968Z"
   },
   {
    "duration": 47,
    "start_time": "2022-08-18T06:24:30.982Z"
   },
   {
    "duration": 44,
    "start_time": "2022-08-18T06:24:31.031Z"
   },
   {
    "duration": 57,
    "start_time": "2022-08-18T06:24:31.078Z"
   },
   {
    "duration": 26,
    "start_time": "2022-08-18T06:24:31.138Z"
   },
   {
    "duration": 85,
    "start_time": "2022-08-18T06:24:31.166Z"
   },
   {
    "duration": 72,
    "start_time": "2022-08-18T06:24:31.253Z"
   },
   {
    "duration": 15,
    "start_time": "2022-08-18T06:24:31.327Z"
   },
   {
    "duration": 21,
    "start_time": "2022-08-18T06:24:31.344Z"
   },
   {
    "duration": 30,
    "start_time": "2022-08-18T06:24:31.368Z"
   },
   {
    "duration": 22,
    "start_time": "2022-08-18T06:24:31.399Z"
   },
   {
    "duration": 10,
    "start_time": "2022-08-18T06:24:31.423Z"
   },
   {
    "duration": 24,
    "start_time": "2022-08-18T06:24:31.435Z"
   },
   {
    "duration": 32,
    "start_time": "2022-08-18T06:24:31.461Z"
   },
   {
    "duration": 29,
    "start_time": "2022-08-18T06:24:31.495Z"
   },
   {
    "duration": 231,
    "start_time": "2022-08-18T06:24:31.527Z"
   },
   {
    "duration": 1269,
    "start_time": "2022-08-18T06:24:31.761Z"
   },
   {
    "duration": 17,
    "start_time": "2022-08-18T06:32:44.935Z"
   },
   {
    "duration": 34,
    "start_time": "2022-08-18T06:32:51.387Z"
   },
   {
    "duration": 18,
    "start_time": "2022-08-18T06:32:57.490Z"
   },
   {
    "duration": 45,
    "start_time": "2022-08-18T06:33:06.154Z"
   },
   {
    "duration": 11,
    "start_time": "2022-08-18T06:33:20.785Z"
   },
   {
    "duration": 15,
    "start_time": "2022-08-18T06:36:06.082Z"
   },
   {
    "duration": 14,
    "start_time": "2022-08-18T06:36:24.306Z"
   },
   {
    "duration": 621,
    "start_time": "2022-08-18T06:37:14.857Z"
   },
   {
    "duration": 469,
    "start_time": "2022-08-18T06:37:20.359Z"
   },
   {
    "duration": 630,
    "start_time": "2022-08-18T06:41:47.144Z"
   },
   {
    "duration": 780,
    "start_time": "2022-08-18T06:41:51.538Z"
   },
   {
    "duration": 776,
    "start_time": "2022-08-18T06:42:07.843Z"
   },
   {
    "duration": 743,
    "start_time": "2022-08-18T06:43:06.729Z"
   },
   {
    "duration": 444,
    "start_time": "2022-08-18T06:43:23.748Z"
   },
   {
    "duration": 663,
    "start_time": "2022-08-18T06:43:53.944Z"
   },
   {
    "duration": 703,
    "start_time": "2022-08-18T06:44:07.791Z"
   },
   {
    "duration": 604,
    "start_time": "2022-08-18T06:44:27.470Z"
   },
   {
    "duration": 778,
    "start_time": "2022-08-18T06:45:32.625Z"
   },
   {
    "duration": 2414,
    "start_time": "2022-08-18T06:46:21.730Z"
   },
   {
    "duration": 657,
    "start_time": "2022-08-18T06:46:30.204Z"
   },
   {
    "duration": 24,
    "start_time": "2022-08-18T06:51:44.779Z"
   },
   {
    "duration": 28,
    "start_time": "2022-08-18T06:52:07.751Z"
   },
   {
    "duration": 26,
    "start_time": "2022-08-18T06:52:57.031Z"
   },
   {
    "duration": 30491,
    "start_time": "2022-08-20T04:38:06.430Z"
   },
   {
    "duration": 313,
    "start_time": "2022-08-20T04:38:36.924Z"
   },
   {
    "duration": 11,
    "start_time": "2022-08-20T04:38:37.238Z"
   },
   {
    "duration": 11,
    "start_time": "2022-08-20T04:38:37.251Z"
   },
   {
    "duration": 14,
    "start_time": "2022-08-20T04:38:37.263Z"
   },
   {
    "duration": 30,
    "start_time": "2022-08-20T04:38:37.278Z"
   },
   {
    "duration": 7,
    "start_time": "2022-08-20T04:38:37.310Z"
   },
   {
    "duration": 26,
    "start_time": "2022-08-20T04:38:37.318Z"
   },
   {
    "duration": 13,
    "start_time": "2022-08-20T04:38:37.346Z"
   },
   {
    "duration": 7,
    "start_time": "2022-08-20T04:38:37.362Z"
   },
   {
    "duration": 40,
    "start_time": "2022-08-20T04:38:37.371Z"
   },
   {
    "duration": 6,
    "start_time": "2022-08-20T04:38:37.412Z"
   },
   {
    "duration": 47,
    "start_time": "2022-08-20T04:38:37.419Z"
   },
   {
    "duration": 4,
    "start_time": "2022-08-20T04:38:37.468Z"
   },
   {
    "duration": 9,
    "start_time": "2022-08-20T04:38:37.473Z"
   },
   {
    "duration": 18,
    "start_time": "2022-08-20T04:38:37.483Z"
   },
   {
    "duration": 395,
    "start_time": "2022-08-20T04:38:37.502Z"
   },
   {
    "duration": 33,
    "start_time": "2022-08-20T04:38:37.899Z"
   },
   {
    "duration": 12,
    "start_time": "2022-08-20T04:38:37.933Z"
   },
   {
    "duration": 135,
    "start_time": "2022-08-20T04:38:37.947Z"
   },
   {
    "duration": 686,
    "start_time": "2022-08-20T04:38:38.084Z"
   },
   {
    "duration": 31,
    "start_time": "2022-08-20T04:38:38.772Z"
   },
   {
    "duration": 51,
    "start_time": "2022-08-20T04:38:38.805Z"
   },
   {
    "duration": 2,
    "start_time": "2022-08-20T04:38:38.858Z"
   },
   {
    "duration": 14,
    "start_time": "2022-08-20T04:38:38.861Z"
   },
   {
    "duration": 25,
    "start_time": "2022-08-20T04:38:38.876Z"
   },
   {
    "duration": 646,
    "start_time": "2022-08-20T04:38:38.903Z"
   },
   {
    "duration": 111643,
    "start_time": "2022-08-20T04:38:39.553Z"
   },
   {
    "duration": 1208,
    "start_time": "2022-08-20T04:40:31.197Z"
   },
   {
    "duration": 13,
    "start_time": "2022-08-20T04:40:32.406Z"
   },
   {
    "duration": 19,
    "start_time": "2022-08-20T04:40:32.421Z"
   },
   {
    "duration": 26,
    "start_time": "2022-08-20T04:40:32.441Z"
   },
   {
    "duration": 48,
    "start_time": "2022-08-20T04:40:32.469Z"
   },
   {
    "duration": 20,
    "start_time": "2022-08-20T04:40:32.519Z"
   },
   {
    "duration": 21,
    "start_time": "2022-08-20T04:40:32.540Z"
   },
   {
    "duration": 541,
    "start_time": "2022-08-20T04:40:32.563Z"
   },
   {
    "duration": 18,
    "start_time": "2022-08-20T04:40:33.106Z"
   },
   {
    "duration": 533,
    "start_time": "2022-08-20T04:40:33.126Z"
   },
   {
    "duration": 11,
    "start_time": "2022-08-20T04:40:33.662Z"
   },
   {
    "duration": 25,
    "start_time": "2022-08-20T04:40:33.675Z"
   },
   {
    "duration": 20,
    "start_time": "2022-08-20T04:40:33.702Z"
   },
   {
    "duration": 533,
    "start_time": "2022-08-20T04:40:33.724Z"
   },
   {
    "duration": 5,
    "start_time": "2022-08-20T04:40:34.259Z"
   },
   {
    "duration": 19,
    "start_time": "2022-08-20T04:40:34.265Z"
   },
   {
    "duration": 484,
    "start_time": "2022-08-20T04:40:34.285Z"
   },
   {
    "duration": 6,
    "start_time": "2022-08-20T04:40:34.770Z"
   },
   {
    "duration": 27,
    "start_time": "2022-08-20T04:40:34.778Z"
   },
   {
    "duration": 440,
    "start_time": "2022-08-20T04:40:34.806Z"
   },
   {
    "duration": 5,
    "start_time": "2022-08-20T04:40:35.247Z"
   },
   {
    "duration": 17,
    "start_time": "2022-08-20T04:40:35.254Z"
   },
   {
    "duration": 464,
    "start_time": "2022-08-20T04:40:35.273Z"
   },
   {
    "duration": 4,
    "start_time": "2022-08-20T04:40:35.738Z"
   },
   {
    "duration": 16,
    "start_time": "2022-08-20T04:40:35.744Z"
   },
   {
    "duration": 17,
    "start_time": "2022-08-20T04:40:35.761Z"
   },
   {
    "duration": 28,
    "start_time": "2022-08-20T04:40:35.780Z"
   },
   {
    "duration": 18,
    "start_time": "2022-08-20T04:40:35.809Z"
   },
   {
    "duration": 12,
    "start_time": "2022-08-20T04:40:35.830Z"
   },
   {
    "duration": 10,
    "start_time": "2022-08-20T04:40:35.843Z"
   },
   {
    "duration": 13,
    "start_time": "2022-08-20T04:40:35.854Z"
   },
   {
    "duration": 14,
    "start_time": "2022-08-20T04:40:35.899Z"
   },
   {
    "duration": 8,
    "start_time": "2022-08-20T04:40:35.914Z"
   },
   {
    "duration": 11,
    "start_time": "2022-08-20T04:40:35.923Z"
   },
   {
    "duration": 4,
    "start_time": "2022-08-20T04:40:35.935Z"
   },
   {
    "duration": 11,
    "start_time": "2022-08-20T04:40:35.941Z"
   },
   {
    "duration": 8,
    "start_time": "2022-08-20T04:40:35.954Z"
   },
   {
    "duration": 69,
    "start_time": "2022-08-20T04:40:35.963Z"
   },
   {
    "duration": 21,
    "start_time": "2022-08-20T04:40:36.033Z"
   },
   {
    "duration": 10,
    "start_time": "2022-08-20T04:40:36.056Z"
   },
   {
    "duration": 41,
    "start_time": "2022-08-20T04:40:36.067Z"
   },
   {
    "duration": 12,
    "start_time": "2022-08-20T04:40:36.110Z"
   },
   {
    "duration": 8,
    "start_time": "2022-08-20T04:40:36.124Z"
   },
   {
    "duration": 7,
    "start_time": "2022-08-20T04:40:36.134Z"
   },
   {
    "duration": 4,
    "start_time": "2022-08-20T04:40:36.142Z"
   },
   {
    "duration": 11,
    "start_time": "2022-08-20T04:40:36.148Z"
   },
   {
    "duration": 5,
    "start_time": "2022-08-20T04:40:36.160Z"
   },
   {
    "duration": 6,
    "start_time": "2022-08-20T04:44:26.016Z"
   },
   {
    "duration": 17,
    "start_time": "2022-08-20T04:44:28.788Z"
   },
   {
    "duration": 115,
    "start_time": "2022-08-20T04:45:45.549Z"
   },
   {
    "duration": 1473,
    "start_time": "2022-08-20T04:46:10.091Z"
   },
   {
    "duration": 36,
    "start_time": "2022-08-20T04:46:48.703Z"
   },
   {
    "duration": 19,
    "start_time": "2022-08-20T04:47:00.790Z"
   },
   {
    "duration": 43,
    "start_time": "2022-08-20T04:47:01.562Z"
   },
   {
    "duration": 19,
    "start_time": "2022-08-20T04:52:04.399Z"
   },
   {
    "duration": 51,
    "start_time": "2022-08-20T04:55:37.658Z"
   },
   {
    "duration": 14,
    "start_time": "2022-08-20T04:56:03.961Z"
   },
   {
    "duration": 50,
    "start_time": "2022-08-20T04:56:08.596Z"
   },
   {
    "duration": 51,
    "start_time": "2022-08-20T04:56:36.648Z"
   },
   {
    "duration": 320,
    "start_time": "2022-08-20T04:57:12.285Z"
   },
   {
    "duration": 20,
    "start_time": "2022-08-20T04:58:36.202Z"
   },
   {
    "duration": 17,
    "start_time": "2022-08-20T04:58:52.122Z"
   },
   {
    "duration": 55,
    "start_time": "2022-08-20T04:58:52.714Z"
   },
   {
    "duration": 51,
    "start_time": "2022-08-20T04:58:53.345Z"
   },
   {
    "duration": 30,
    "start_time": "2022-08-20T04:58:55.123Z"
   },
   {
    "duration": 15,
    "start_time": "2022-08-20T04:59:46.649Z"
   },
   {
    "duration": 52,
    "start_time": "2022-08-20T04:59:47.064Z"
   },
   {
    "duration": 51,
    "start_time": "2022-08-20T04:59:47.520Z"
   },
   {
    "duration": 21,
    "start_time": "2022-08-20T04:59:48.237Z"
   },
   {
    "duration": 18,
    "start_time": "2022-08-20T05:04:51.900Z"
   },
   {
    "duration": 26,
    "start_time": "2022-08-20T05:06:29.819Z"
   },
   {
    "duration": 18,
    "start_time": "2022-08-20T05:07:34.141Z"
   },
   {
    "duration": 16,
    "start_time": "2022-08-20T05:07:48.886Z"
   },
   {
    "duration": 14,
    "start_time": "2022-08-20T05:07:56.042Z"
   },
   {
    "duration": 105,
    "start_time": "2022-08-20T05:08:53.488Z"
   },
   {
    "duration": 14,
    "start_time": "2022-08-20T05:09:00.518Z"
   },
   {
    "duration": 21,
    "start_time": "2022-08-20T05:09:12.712Z"
   },
   {
    "duration": 17,
    "start_time": "2022-08-20T05:09:54.369Z"
   },
   {
    "duration": 17,
    "start_time": "2022-08-20T05:10:15.183Z"
   },
   {
    "duration": 26,
    "start_time": "2022-08-20T05:10:21.718Z"
   },
   {
    "duration": 39,
    "start_time": "2022-08-20T05:10:25.284Z"
   },
   {
    "duration": 26,
    "start_time": "2022-08-20T05:10:32.557Z"
   },
   {
    "duration": 29,
    "start_time": "2022-08-20T05:11:03.927Z"
   },
   {
    "duration": 23,
    "start_time": "2022-08-20T05:11:19.679Z"
   },
   {
    "duration": 36,
    "start_time": "2022-08-20T05:11:25.787Z"
   },
   {
    "duration": 25,
    "start_time": "2022-08-20T05:11:32.273Z"
   },
   {
    "duration": 25,
    "start_time": "2022-08-20T05:11:39.728Z"
   },
   {
    "duration": 18,
    "start_time": "2022-08-20T05:11:54.258Z"
   },
   {
    "duration": 29,
    "start_time": "2022-08-20T05:12:12.792Z"
   },
   {
    "duration": 34,
    "start_time": "2022-08-20T05:14:18.522Z"
   },
   {
    "duration": 89,
    "start_time": "2022-08-20T05:14:52.553Z"
   },
   {
    "duration": 11,
    "start_time": "2022-08-20T05:14:58.135Z"
   },
   {
    "duration": 5,
    "start_time": "2022-08-20T05:15:15.750Z"
   },
   {
    "duration": 11,
    "start_time": "2022-08-20T05:15:22.088Z"
   },
   {
    "duration": 20,
    "start_time": "2022-08-20T05:15:33.691Z"
   },
   {
    "duration": 24,
    "start_time": "2022-08-20T05:15:35.915Z"
   },
   {
    "duration": 24,
    "start_time": "2022-08-20T05:15:52.374Z"
   },
   {
    "duration": 1589,
    "start_time": "2022-08-20T05:16:59.695Z"
   },
   {
    "duration": 22,
    "start_time": "2022-08-20T05:17:12.943Z"
   },
   {
    "duration": 24,
    "start_time": "2022-08-20T05:17:31.772Z"
   },
   {
    "duration": 31,
    "start_time": "2022-08-20T05:18:39.430Z"
   },
   {
    "duration": 27,
    "start_time": "2022-08-20T05:18:55.212Z"
   },
   {
    "duration": 26,
    "start_time": "2022-08-20T05:19:05.835Z"
   },
   {
    "duration": 17,
    "start_time": "2022-08-20T05:19:30.823Z"
   },
   {
    "duration": 14,
    "start_time": "2022-08-20T05:19:44.112Z"
   },
   {
    "duration": 15,
    "start_time": "2022-08-20T05:21:03.913Z"
   },
   {
    "duration": 9,
    "start_time": "2022-08-20T05:21:16.946Z"
   },
   {
    "duration": 24,
    "start_time": "2022-08-20T05:21:46.393Z"
   },
   {
    "duration": 14,
    "start_time": "2022-08-20T05:21:49.717Z"
   },
   {
    "duration": 14,
    "start_time": "2022-08-20T05:21:51.993Z"
   },
   {
    "duration": 10,
    "start_time": "2022-08-20T05:22:07.568Z"
   },
   {
    "duration": 14,
    "start_time": "2022-08-20T05:22:24.945Z"
   },
   {
    "duration": 10,
    "start_time": "2022-08-20T05:22:34.849Z"
   },
   {
    "duration": 10374,
    "start_time": "2022-08-22T05:13:16.500Z"
   },
   {
    "duration": 316,
    "start_time": "2022-08-22T05:13:26.877Z"
   },
   {
    "duration": 13,
    "start_time": "2022-08-22T05:13:27.194Z"
   },
   {
    "duration": 16,
    "start_time": "2022-08-22T05:13:27.210Z"
   },
   {
    "duration": 16,
    "start_time": "2022-08-22T05:13:27.228Z"
   },
   {
    "duration": 50,
    "start_time": "2022-08-22T05:13:27.246Z"
   },
   {
    "duration": 4,
    "start_time": "2022-08-22T05:13:27.298Z"
   },
   {
    "duration": 34,
    "start_time": "2022-08-22T05:13:27.305Z"
   },
   {
    "duration": 32,
    "start_time": "2022-08-22T05:13:27.342Z"
   },
   {
    "duration": 13,
    "start_time": "2022-08-22T05:13:27.379Z"
   },
   {
    "duration": 37,
    "start_time": "2022-08-22T05:13:27.394Z"
   },
   {
    "duration": 30,
    "start_time": "2022-08-22T05:13:27.433Z"
   },
   {
    "duration": 49,
    "start_time": "2022-08-22T05:13:27.466Z"
   },
   {
    "duration": 5,
    "start_time": "2022-08-22T05:13:27.517Z"
   },
   {
    "duration": 14,
    "start_time": "2022-08-22T05:13:27.523Z"
   },
   {
    "duration": 19,
    "start_time": "2022-08-22T05:13:27.539Z"
   },
   {
    "duration": 444,
    "start_time": "2022-08-22T05:13:27.561Z"
   },
   {
    "duration": 32,
    "start_time": "2022-08-22T05:13:28.007Z"
   },
   {
    "duration": 30,
    "start_time": "2022-08-22T05:13:28.040Z"
   },
   {
    "duration": 127,
    "start_time": "2022-08-22T05:13:28.072Z"
   },
   {
    "duration": 785,
    "start_time": "2022-08-22T05:13:28.201Z"
   },
   {
    "duration": 20,
    "start_time": "2022-08-22T05:13:28.988Z"
   },
   {
    "duration": 62,
    "start_time": "2022-08-22T05:13:29.010Z"
   },
   {
    "duration": 3,
    "start_time": "2022-08-22T05:13:29.074Z"
   },
   {
    "duration": 23,
    "start_time": "2022-08-22T05:13:29.079Z"
   },
   {
    "duration": 13,
    "start_time": "2022-08-22T05:13:29.104Z"
   },
   {
    "duration": 651,
    "start_time": "2022-08-22T05:13:29.119Z"
   },
   {
    "duration": 127540,
    "start_time": "2022-08-22T05:13:29.776Z"
   },
   {
    "duration": 1055,
    "start_time": "2022-08-22T05:15:37.318Z"
   },
   {
    "duration": 12,
    "start_time": "2022-08-22T05:15:38.375Z"
   },
   {
    "duration": 16,
    "start_time": "2022-08-22T05:15:38.389Z"
   },
   {
    "duration": 55,
    "start_time": "2022-08-22T05:15:38.406Z"
   },
   {
    "duration": 28,
    "start_time": "2022-08-22T05:15:38.463Z"
   },
   {
    "duration": 21,
    "start_time": "2022-08-22T05:15:38.492Z"
   },
   {
    "duration": 45,
    "start_time": "2022-08-22T05:15:38.515Z"
   },
   {
    "duration": 398,
    "start_time": "2022-08-22T05:15:38.562Z"
   },
   {
    "duration": 17,
    "start_time": "2022-08-22T05:15:38.962Z"
   },
   {
    "duration": 464,
    "start_time": "2022-08-22T05:15:38.981Z"
   },
   {
    "duration": 28,
    "start_time": "2022-08-22T05:15:39.446Z"
   },
   {
    "duration": 386,
    "start_time": "2022-08-22T05:15:39.476Z"
   },
   {
    "duration": 19,
    "start_time": "2022-08-22T05:15:39.865Z"
   },
   {
    "duration": 447,
    "start_time": "2022-08-22T05:15:39.886Z"
   },
   {
    "duration": 37,
    "start_time": "2022-08-22T05:15:40.336Z"
   },
   {
    "duration": 422,
    "start_time": "2022-08-22T05:15:40.378Z"
   },
   {
    "duration": 14,
    "start_time": "2022-08-22T05:15:40.802Z"
   },
   {
    "duration": 426,
    "start_time": "2022-08-22T05:15:40.818Z"
   },
   {
    "duration": 36,
    "start_time": "2022-08-22T05:15:41.247Z"
   },
   {
    "duration": 38,
    "start_time": "2022-08-22T05:15:41.285Z"
   },
   {
    "duration": 44,
    "start_time": "2022-08-22T05:15:41.325Z"
   },
   {
    "duration": 89,
    "start_time": "2022-08-22T05:15:41.372Z"
   },
   {
    "duration": 70,
    "start_time": "2022-08-22T05:15:41.463Z"
   },
   {
    "duration": 43,
    "start_time": "2022-08-22T05:15:41.535Z"
   },
   {
    "duration": 64,
    "start_time": "2022-08-22T05:15:41.580Z"
   },
   {
    "duration": 27,
    "start_time": "2022-08-22T05:15:41.645Z"
   },
   {
    "duration": 147,
    "start_time": "2022-08-22T05:15:41.674Z"
   },
   {
    "duration": 0,
    "start_time": "2022-08-22T05:15:41.823Z"
   },
   {
    "duration": 0,
    "start_time": "2022-08-22T05:15:41.824Z"
   },
   {
    "duration": 0,
    "start_time": "2022-08-22T05:15:41.825Z"
   },
   {
    "duration": 0,
    "start_time": "2022-08-22T05:15:41.826Z"
   },
   {
    "duration": 0,
    "start_time": "2022-08-22T05:15:41.827Z"
   },
   {
    "duration": 0,
    "start_time": "2022-08-22T05:15:41.828Z"
   },
   {
    "duration": 0,
    "start_time": "2022-08-22T05:15:41.829Z"
   },
   {
    "duration": 0,
    "start_time": "2022-08-22T05:15:41.830Z"
   },
   {
    "duration": 0,
    "start_time": "2022-08-22T05:15:41.831Z"
   },
   {
    "duration": 0,
    "start_time": "2022-08-22T05:15:41.832Z"
   },
   {
    "duration": 0,
    "start_time": "2022-08-22T05:15:41.834Z"
   },
   {
    "duration": 0,
    "start_time": "2022-08-22T05:15:41.835Z"
   },
   {
    "duration": 0,
    "start_time": "2022-08-22T05:15:41.860Z"
   },
   {
    "duration": 0,
    "start_time": "2022-08-22T05:15:41.862Z"
   },
   {
    "duration": 0,
    "start_time": "2022-08-22T05:15:41.863Z"
   },
   {
    "duration": 0,
    "start_time": "2022-08-22T05:15:41.864Z"
   },
   {
    "duration": 0,
    "start_time": "2022-08-22T05:15:41.866Z"
   },
   {
    "duration": 0,
    "start_time": "2022-08-22T05:15:41.868Z"
   },
   {
    "duration": 0,
    "start_time": "2022-08-22T05:15:41.869Z"
   },
   {
    "duration": 0,
    "start_time": "2022-08-22T05:15:41.871Z"
   },
   {
    "duration": 0,
    "start_time": "2022-08-22T05:15:41.872Z"
   },
   {
    "duration": 0,
    "start_time": "2022-08-22T05:15:41.874Z"
   },
   {
    "duration": 0,
    "start_time": "2022-08-22T05:15:41.875Z"
   },
   {
    "duration": 0,
    "start_time": "2022-08-22T05:15:41.876Z"
   },
   {
    "duration": 0,
    "start_time": "2022-08-22T05:15:41.878Z"
   },
   {
    "duration": 0,
    "start_time": "2022-08-22T05:15:41.879Z"
   },
   {
    "duration": 0,
    "start_time": "2022-08-22T05:15:41.880Z"
   },
   {
    "duration": 0,
    "start_time": "2022-08-22T05:15:41.882Z"
   },
   {
    "duration": 0,
    "start_time": "2022-08-22T05:15:41.883Z"
   },
   {
    "duration": 0,
    "start_time": "2022-08-22T05:15:41.884Z"
   },
   {
    "duration": 0,
    "start_time": "2022-08-22T05:15:41.885Z"
   },
   {
    "duration": 0,
    "start_time": "2022-08-22T05:15:41.887Z"
   },
   {
    "duration": 0,
    "start_time": "2022-08-22T05:15:41.889Z"
   },
   {
    "duration": 6843,
    "start_time": "2022-08-22T05:17:11.007Z"
   },
   {
    "duration": 4990,
    "start_time": "2022-08-22T05:17:38.102Z"
   },
   {
    "duration": 225,
    "start_time": "2022-08-22T05:17:43.095Z"
   },
   {
    "duration": 10,
    "start_time": "2022-08-22T05:17:43.322Z"
   },
   {
    "duration": 8,
    "start_time": "2022-08-22T05:17:43.334Z"
   },
   {
    "duration": 32,
    "start_time": "2022-08-22T05:17:43.344Z"
   },
   {
    "duration": 29,
    "start_time": "2022-08-22T05:17:43.379Z"
   },
   {
    "duration": 5,
    "start_time": "2022-08-22T05:17:43.410Z"
   },
   {
    "duration": 25,
    "start_time": "2022-08-22T05:17:43.416Z"
   },
   {
    "duration": 37,
    "start_time": "2022-08-22T05:17:43.457Z"
   },
   {
    "duration": 7,
    "start_time": "2022-08-22T05:17:43.497Z"
   },
   {
    "duration": 27,
    "start_time": "2022-08-22T05:17:43.506Z"
   },
   {
    "duration": 24,
    "start_time": "2022-08-22T05:17:43.535Z"
   },
   {
    "duration": 43,
    "start_time": "2022-08-22T05:17:43.561Z"
   },
   {
    "duration": 5,
    "start_time": "2022-08-22T05:17:43.606Z"
   },
   {
    "duration": 10,
    "start_time": "2022-08-22T05:17:43.612Z"
   },
   {
    "duration": 35,
    "start_time": "2022-08-22T05:17:43.623Z"
   },
   {
    "duration": 489,
    "start_time": "2022-08-22T05:17:43.660Z"
   },
   {
    "duration": 36,
    "start_time": "2022-08-22T05:17:44.150Z"
   },
   {
    "duration": 11,
    "start_time": "2022-08-22T05:17:44.187Z"
   },
   {
    "duration": 31,
    "start_time": "2022-08-22T05:17:44.199Z"
   },
   {
    "duration": 898,
    "start_time": "2022-08-22T05:17:44.231Z"
   },
   {
    "duration": 37,
    "start_time": "2022-08-22T05:17:45.131Z"
   },
   {
    "duration": 48,
    "start_time": "2022-08-22T05:17:45.170Z"
   },
   {
    "duration": 3,
    "start_time": "2022-08-22T05:17:45.219Z"
   },
   {
    "duration": 34,
    "start_time": "2022-08-22T05:17:45.224Z"
   },
   {
    "duration": 47,
    "start_time": "2022-08-22T05:17:45.260Z"
   },
   {
    "duration": 720,
    "start_time": "2022-08-22T05:17:45.309Z"
   },
   {
    "duration": 128411,
    "start_time": "2022-08-22T05:17:46.033Z"
   },
   {
    "duration": 920,
    "start_time": "2022-08-22T05:19:54.445Z"
   },
   {
    "duration": 93,
    "start_time": "2022-08-22T05:19:55.367Z"
   },
   {
    "duration": 39,
    "start_time": "2022-08-22T05:19:55.462Z"
   },
   {
    "duration": 40,
    "start_time": "2022-08-22T05:19:55.503Z"
   },
   {
    "duration": 26,
    "start_time": "2022-08-22T05:19:55.545Z"
   },
   {
    "duration": 25,
    "start_time": "2022-08-22T05:19:55.573Z"
   },
   {
    "duration": 23,
    "start_time": "2022-08-22T05:19:55.600Z"
   },
   {
    "duration": 423,
    "start_time": "2022-08-22T05:19:55.625Z"
   },
   {
    "duration": 26,
    "start_time": "2022-08-22T05:19:56.050Z"
   },
   {
    "duration": 409,
    "start_time": "2022-08-22T05:19:56.077Z"
   },
   {
    "duration": 12,
    "start_time": "2022-08-22T05:19:56.488Z"
   },
   {
    "duration": 435,
    "start_time": "2022-08-22T05:19:56.502Z"
   },
   {
    "duration": 23,
    "start_time": "2022-08-22T05:19:56.939Z"
   },
   {
    "duration": 409,
    "start_time": "2022-08-22T05:19:56.965Z"
   },
   {
    "duration": 21,
    "start_time": "2022-08-22T05:19:57.376Z"
   },
   {
    "duration": 439,
    "start_time": "2022-08-22T05:19:57.399Z"
   },
   {
    "duration": 27,
    "start_time": "2022-08-22T05:19:57.840Z"
   },
   {
    "duration": 379,
    "start_time": "2022-08-22T05:19:57.870Z"
   },
   {
    "duration": 26,
    "start_time": "2022-08-22T05:19:58.250Z"
   },
   {
    "duration": 32,
    "start_time": "2022-08-22T05:19:58.278Z"
   },
   {
    "duration": 16,
    "start_time": "2022-08-22T05:19:58.312Z"
   },
   {
    "duration": 70,
    "start_time": "2022-08-22T05:19:58.329Z"
   },
   {
    "duration": 31,
    "start_time": "2022-08-22T05:19:58.401Z"
   },
   {
    "duration": 50,
    "start_time": "2022-08-22T05:19:58.434Z"
   },
   {
    "duration": 41,
    "start_time": "2022-08-22T05:19:58.486Z"
   },
   {
    "duration": 10,
    "start_time": "2022-08-22T05:19:58.529Z"
   },
   {
    "duration": 18,
    "start_time": "2022-08-22T05:19:58.558Z"
   },
   {
    "duration": 34,
    "start_time": "2022-08-22T05:19:58.578Z"
   },
   {
    "duration": 14,
    "start_time": "2022-08-22T05:19:58.614Z"
   },
   {
    "duration": 8,
    "start_time": "2022-08-22T05:19:58.629Z"
   },
   {
    "duration": 35,
    "start_time": "2022-08-22T05:19:58.656Z"
   },
   {
    "duration": 32,
    "start_time": "2022-08-22T05:19:58.693Z"
   },
   {
    "duration": 20,
    "start_time": "2022-08-22T05:19:58.726Z"
   },
   {
    "duration": 23,
    "start_time": "2022-08-22T05:19:58.757Z"
   },
   {
    "duration": 22,
    "start_time": "2022-08-22T05:19:58.782Z"
   },
   {
    "duration": 18,
    "start_time": "2022-08-22T05:19:58.805Z"
   },
   {
    "duration": 48,
    "start_time": "2022-08-22T05:19:58.824Z"
   },
   {
    "duration": 21,
    "start_time": "2022-08-22T05:19:58.875Z"
   },
   {
    "duration": 24,
    "start_time": "2022-08-22T05:19:58.898Z"
   },
   {
    "duration": 46,
    "start_time": "2022-08-22T05:19:58.924Z"
   },
   {
    "duration": 50,
    "start_time": "2022-08-22T05:19:58.973Z"
   },
   {
    "duration": 10,
    "start_time": "2022-08-22T05:19:59.025Z"
   },
   {
    "duration": 16,
    "start_time": "2022-08-22T05:19:59.057Z"
   },
   {
    "duration": 14,
    "start_time": "2022-08-22T05:19:59.075Z"
   },
   {
    "duration": 12,
    "start_time": "2022-08-22T05:19:59.091Z"
   },
   {
    "duration": 7,
    "start_time": "2022-08-22T05:19:59.105Z"
   },
   {
    "duration": 43,
    "start_time": "2022-08-22T05:19:59.114Z"
   },
   {
    "duration": 5,
    "start_time": "2022-08-22T05:19:59.159Z"
   },
   {
    "duration": 18,
    "start_time": "2022-08-22T05:19:59.166Z"
   },
   {
    "duration": 7,
    "start_time": "2022-08-22T05:19:59.187Z"
   },
   {
    "duration": 61,
    "start_time": "2022-08-22T05:19:59.196Z"
   },
   {
    "duration": 25,
    "start_time": "2022-08-22T05:19:59.259Z"
   },
   {
    "duration": 12,
    "start_time": "2022-08-22T05:19:59.286Z"
   },
   {
    "duration": 13,
    "start_time": "2022-08-22T05:19:59.303Z"
   },
   {
    "duration": 45,
    "start_time": "2022-08-22T05:19:59.317Z"
   },
   {
    "duration": 11,
    "start_time": "2022-08-22T05:19:59.363Z"
   },
   {
    "duration": 19,
    "start_time": "2022-08-22T05:19:59.375Z"
   },
   {
    "duration": 6,
    "start_time": "2022-08-22T05:19:59.396Z"
   },
   {
    "duration": 14,
    "start_time": "2022-08-22T05:19:59.403Z"
   },
   {
    "duration": 5,
    "start_time": "2022-08-22T05:19:59.419Z"
   }
  ],
  "kernelspec": {
   "display_name": "Python 3 (ipykernel)",
   "language": "python",
   "name": "python3"
  },
  "language_info": {
   "codemirror_mode": {
    "name": "ipython",
    "version": 3
   },
   "file_extension": ".py",
   "mimetype": "text/x-python",
   "name": "python",
   "nbconvert_exporter": "python",
   "pygments_lexer": "ipython3",
   "version": "3.10.1"
  },
  "toc": {
   "base_numbering": 1,
   "nav_menu": {},
   "number_sections": true,
   "sideBar": true,
   "skip_h1_title": false,
   "title_cell": "Table of Contents",
   "title_sidebar": "Contents",
   "toc_cell": false,
   "toc_position": {
    "height": "468px",
    "left": "0px",
    "top": "111.125px",
    "width": "239px"
   },
   "toc_section_display": true,
   "toc_window_display": true
  }
 },
 "nbformat": 4,
 "nbformat_minor": 5
}
