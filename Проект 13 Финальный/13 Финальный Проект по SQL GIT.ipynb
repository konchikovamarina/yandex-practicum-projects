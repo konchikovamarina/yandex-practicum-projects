{
 "cells": [
  {
   "cell_type": "markdown",
   "id": "14bef208",
   "metadata": {},
   "source": [
    "#  Задание\n",
    "\n",
    "Есть сервис для чтения книг по подписке. \n",
    "Первая задача  — проанализировать базу данных. \n",
    "\n",
    "Задания для запросов\n",
    "\n",
    "•\tПосчитайте, сколько книг вышло после 1 января 2000 года;\n",
    "\n",
    "•\tДля каждой книги посчитайте количество обзоров и среднюю оценку;\n",
    "\n",
    "•\tОпределите издательство, которое выпустило наибольшее число книг толще 50 страниц — так вы исключите из анализа брошюры;\n",
    "\n",
    "•\tОпределите автора с самой высокой средней оценкой книг — учитывайте только книги с 50 и более оценками;\n",
    "\n",
    "•\tПосчитайте среднее количество обзоров от пользователей, которые поставили больше 50 оценок.\n",
    "\n"
   ]
  },
  {
   "cell_type": "markdown",
   "id": "df2e86e6",
   "metadata": {},
   "source": [
    "# Загрузка и предобработка"
   ]
  },
  {
   "cell_type": "markdown",
   "id": "e6912db2",
   "metadata": {},
   "source": [
    "## Загрузка  необходимых библиотек"
   ]
  },
  {
   "cell_type": "code",
   "execution_count": 2,
   "id": "3881ee1e",
   "metadata": {},
   "outputs": [],
   "source": [
    "# импортируем библиотеки\n",
    "import pandas as pd\n",
    "from sqlalchemy import create_engine"
   ]
  },
  {
   "cell_type": "code",
   "execution_count": 3,
   "id": "14d5f181",
   "metadata": {},
   "outputs": [],
   "source": [
    "\n",
    "# устанавливаем параметры\n",
    "db_config = {'user': 'praktikum_student', # имя пользователя\n",
    "'pwd': 'Sdf4$2;d-d30pp', # пароль\n",
    "'host': 'rc1b-wcoijxj3yxfsf3fs.mdb.yandexcloud.net',\n",
    "'port': 6432, # порт подключения\n",
    "'db': 'data-analyst-final-project-db'} # название базы данных\n",
    "connection_string = 'postgresql://{}:{}@{}:{}/{}'.format(db_config['user'],\n",
    " db_config['pwd'],\n",
    " db_config['host'],\n",
    " db_config['port'],\n",
    " db_config['db'])\n",
    "# сохраняем коннектор\n",
    "engine = create_engine(connection_string, connect_args={'sslmode':'require'}) "
   ]
  },
  {
   "cell_type": "markdown",
   "id": "6c705c73",
   "metadata": {},
   "source": [
    "## Запрос данных таблицы books"
   ]
  },
  {
   "cell_type": "markdown",
   "id": "16617a92",
   "metadata": {},
   "source": [
    "Таблица books\n",
    "Содержит данные о книгах:\n",
    "•\tbook_id — идентификатор книги;\n",
    "•\tauthor_id — идентификатор автора;\n",
    "•\ttitle — название книги;\n",
    "•\tnum_pages — количество страниц;\n",
    "•\tpublication_date — дата публикации книги;\n",
    "•\tpublisher_id — идентификатор издателя."
   ]
  },
  {
   "cell_type": "code",
   "execution_count": 4,
   "id": "432c87d3",
   "metadata": {},
   "outputs": [],
   "source": [
    "# зададим функцию\n",
    "def show_sql(query):\n",
    "    return pd.io.sql.read_sql(query, con = engine,)"
   ]
  },
  {
   "cell_type": "code",
   "execution_count": 5,
   "id": "a306114f",
   "metadata": {},
   "outputs": [
    {
     "data": {
      "text/html": [
       "<div>\n",
       "<style scoped>\n",
       "    .dataframe tbody tr th:only-of-type {\n",
       "        vertical-align: middle;\n",
       "    }\n",
       "\n",
       "    .dataframe tbody tr th {\n",
       "        vertical-align: top;\n",
       "    }\n",
       "\n",
       "    .dataframe thead th {\n",
       "        text-align: right;\n",
       "    }\n",
       "</style>\n",
       "<table border=\"1\" class=\"dataframe\">\n",
       "  <thead>\n",
       "    <tr style=\"text-align: right;\">\n",
       "      <th></th>\n",
       "      <th>book_id</th>\n",
       "      <th>author_id</th>\n",
       "      <th>title</th>\n",
       "      <th>num_pages</th>\n",
       "      <th>publication_date</th>\n",
       "      <th>publisher_id</th>\n",
       "    </tr>\n",
       "  </thead>\n",
       "  <tbody>\n",
       "    <tr>\n",
       "      <th>0</th>\n",
       "      <td>1</td>\n",
       "      <td>546</td>\n",
       "      <td>'Salem's Lot</td>\n",
       "      <td>594</td>\n",
       "      <td>2005-11-01</td>\n",
       "      <td>93</td>\n",
       "    </tr>\n",
       "    <tr>\n",
       "      <th>1</th>\n",
       "      <td>2</td>\n",
       "      <td>465</td>\n",
       "      <td>1 000 Places to See Before You Die</td>\n",
       "      <td>992</td>\n",
       "      <td>2003-05-22</td>\n",
       "      <td>336</td>\n",
       "    </tr>\n",
       "    <tr>\n",
       "      <th>2</th>\n",
       "      <td>3</td>\n",
       "      <td>407</td>\n",
       "      <td>13 Little Blue Envelopes (Little Blue Envelope...</td>\n",
       "      <td>322</td>\n",
       "      <td>2010-12-21</td>\n",
       "      <td>135</td>\n",
       "    </tr>\n",
       "    <tr>\n",
       "      <th>3</th>\n",
       "      <td>4</td>\n",
       "      <td>82</td>\n",
       "      <td>1491: New Revelations of the Americas Before C...</td>\n",
       "      <td>541</td>\n",
       "      <td>2006-10-10</td>\n",
       "      <td>309</td>\n",
       "    </tr>\n",
       "    <tr>\n",
       "      <th>4</th>\n",
       "      <td>5</td>\n",
       "      <td>125</td>\n",
       "      <td>1776</td>\n",
       "      <td>386</td>\n",
       "      <td>2006-07-04</td>\n",
       "      <td>268</td>\n",
       "    </tr>\n",
       "  </tbody>\n",
       "</table>\n",
       "</div>"
      ],
      "text/plain": [
       "   book_id  author_id                                              title  \\\n",
       "0        1        546                                       'Salem's Lot   \n",
       "1        2        465                 1 000 Places to See Before You Die   \n",
       "2        3        407  13 Little Blue Envelopes (Little Blue Envelope...   \n",
       "3        4         82  1491: New Revelations of the Americas Before C...   \n",
       "4        5        125                                               1776   \n",
       "\n",
       "   num_pages publication_date  publisher_id  \n",
       "0        594       2005-11-01            93  \n",
       "1        992       2003-05-22           336  \n",
       "2        322       2010-12-21           135  \n",
       "3        541       2006-10-10           309  \n",
       "4        386       2006-07-04           268  "
      ]
     },
     "execution_count": 5,
     "metadata": {},
     "output_type": "execute_result"
    }
   ],
   "source": [
    "# выведем данные таблицы books\n",
    "query = '''\n",
    "           SELECT *   \n",
    "           FROM books\n",
    "           LIMIT 5\n",
    "        ''' \n",
    "show_sql(query,)\n",
    "\n"
   ]
  },
  {
   "cell_type": "markdown",
   "id": "debf8a87",
   "metadata": {},
   "source": [
    "## Запрос данных таблицы authors"
   ]
  },
  {
   "cell_type": "markdown",
   "id": "ede247b3",
   "metadata": {},
   "source": [
    "Таблица authors\n",
    "Содержит данные об авторах:\n",
    "•\tauthor_id — идентификатор автора;\n",
    "•\tauthor — имя автора."
   ]
  },
  {
   "cell_type": "code",
   "execution_count": 6,
   "id": "99587c50",
   "metadata": {},
   "outputs": [
    {
     "data": {
      "text/html": [
       "<div>\n",
       "<style scoped>\n",
       "    .dataframe tbody tr th:only-of-type {\n",
       "        vertical-align: middle;\n",
       "    }\n",
       "\n",
       "    .dataframe tbody tr th {\n",
       "        vertical-align: top;\n",
       "    }\n",
       "\n",
       "    .dataframe thead th {\n",
       "        text-align: right;\n",
       "    }\n",
       "</style>\n",
       "<table border=\"1\" class=\"dataframe\">\n",
       "  <thead>\n",
       "    <tr style=\"text-align: right;\">\n",
       "      <th></th>\n",
       "      <th>author_id</th>\n",
       "      <th>author</th>\n",
       "    </tr>\n",
       "  </thead>\n",
       "  <tbody>\n",
       "    <tr>\n",
       "      <th>0</th>\n",
       "      <td>1</td>\n",
       "      <td>A.S. Byatt</td>\n",
       "    </tr>\n",
       "    <tr>\n",
       "      <th>1</th>\n",
       "      <td>2</td>\n",
       "      <td>Aesop/Laura Harris/Laura Gibbs</td>\n",
       "    </tr>\n",
       "    <tr>\n",
       "      <th>2</th>\n",
       "      <td>3</td>\n",
       "      <td>Agatha Christie</td>\n",
       "    </tr>\n",
       "    <tr>\n",
       "      <th>3</th>\n",
       "      <td>4</td>\n",
       "      <td>Alan Brennert</td>\n",
       "    </tr>\n",
       "    <tr>\n",
       "      <th>4</th>\n",
       "      <td>5</td>\n",
       "      <td>Alan Moore/David   Lloyd</td>\n",
       "    </tr>\n",
       "    <tr>\n",
       "      <th>...</th>\n",
       "      <td>...</td>\n",
       "      <td>...</td>\n",
       "    </tr>\n",
       "    <tr>\n",
       "      <th>631</th>\n",
       "      <td>632</td>\n",
       "      <td>William Strunk Jr./E.B. White</td>\n",
       "    </tr>\n",
       "    <tr>\n",
       "      <th>632</th>\n",
       "      <td>633</td>\n",
       "      <td>Zadie Smith</td>\n",
       "    </tr>\n",
       "    <tr>\n",
       "      <th>633</th>\n",
       "      <td>634</td>\n",
       "      <td>Zilpha Keatley Snyder</td>\n",
       "    </tr>\n",
       "    <tr>\n",
       "      <th>634</th>\n",
       "      <td>635</td>\n",
       "      <td>Zora Neale Hurston</td>\n",
       "    </tr>\n",
       "    <tr>\n",
       "      <th>635</th>\n",
       "      <td>636</td>\n",
       "      <td>Åsne Seierstad/Ingrid Christopherson</td>\n",
       "    </tr>\n",
       "  </tbody>\n",
       "</table>\n",
       "<p>636 rows × 2 columns</p>\n",
       "</div>"
      ],
      "text/plain": [
       "     author_id                                author\n",
       "0            1                            A.S. Byatt\n",
       "1            2        Aesop/Laura Harris/Laura Gibbs\n",
       "2            3                       Agatha Christie\n",
       "3            4                         Alan Brennert\n",
       "4            5              Alan Moore/David   Lloyd\n",
       "..         ...                                   ...\n",
       "631        632         William Strunk Jr./E.B. White\n",
       "632        633                           Zadie Smith\n",
       "633        634                 Zilpha Keatley Snyder\n",
       "634        635                    Zora Neale Hurston\n",
       "635        636  Åsne Seierstad/Ingrid Christopherson\n",
       "\n",
       "[636 rows x 2 columns]"
      ]
     },
     "execution_count": 6,
     "metadata": {},
     "output_type": "execute_result"
    }
   ],
   "source": [
    "# выведем данные таблицы books\n",
    "query = '''\n",
    "           SELECT *   \n",
    "           FROM authors\n",
    "        ''' \n",
    "show_sql(query)\n",
    "\n"
   ]
  },
  {
   "cell_type": "markdown",
   "id": "984ce65e",
   "metadata": {},
   "source": [
    "## Запрос данных таблицы publishers"
   ]
  },
  {
   "cell_type": "markdown",
   "id": "8efc099d",
   "metadata": {},
   "source": [
    "Таблица publishers\n",
    "Содержит данные об издательствах:\n",
    "•\tpublisher_id — идентификатор издательства;\n",
    "•\tpublisher — название издательства;"
   ]
  },
  {
   "cell_type": "code",
   "execution_count": 7,
   "id": "753a8614",
   "metadata": {},
   "outputs": [
    {
     "data": {
      "text/html": [
       "<div>\n",
       "<style scoped>\n",
       "    .dataframe tbody tr th:only-of-type {\n",
       "        vertical-align: middle;\n",
       "    }\n",
       "\n",
       "    .dataframe tbody tr th {\n",
       "        vertical-align: top;\n",
       "    }\n",
       "\n",
       "    .dataframe thead th {\n",
       "        text-align: right;\n",
       "    }\n",
       "</style>\n",
       "<table border=\"1\" class=\"dataframe\">\n",
       "  <thead>\n",
       "    <tr style=\"text-align: right;\">\n",
       "      <th></th>\n",
       "      <th>publisher_id</th>\n",
       "      <th>publisher</th>\n",
       "    </tr>\n",
       "  </thead>\n",
       "  <tbody>\n",
       "    <tr>\n",
       "      <th>0</th>\n",
       "      <td>1</td>\n",
       "      <td>Ace</td>\n",
       "    </tr>\n",
       "    <tr>\n",
       "      <th>1</th>\n",
       "      <td>2</td>\n",
       "      <td>Ace Book</td>\n",
       "    </tr>\n",
       "    <tr>\n",
       "      <th>2</th>\n",
       "      <td>3</td>\n",
       "      <td>Ace Books</td>\n",
       "    </tr>\n",
       "    <tr>\n",
       "      <th>3</th>\n",
       "      <td>4</td>\n",
       "      <td>Ace Hardcover</td>\n",
       "    </tr>\n",
       "    <tr>\n",
       "      <th>4</th>\n",
       "      <td>5</td>\n",
       "      <td>Addison Wesley Publishing Company</td>\n",
       "    </tr>\n",
       "    <tr>\n",
       "      <th>...</th>\n",
       "      <td>...</td>\n",
       "      <td>...</td>\n",
       "    </tr>\n",
       "    <tr>\n",
       "      <th>335</th>\n",
       "      <td>336</td>\n",
       "      <td>Workman Publishing Company</td>\n",
       "    </tr>\n",
       "    <tr>\n",
       "      <th>336</th>\n",
       "      <td>337</td>\n",
       "      <td>Wyatt Book</td>\n",
       "    </tr>\n",
       "    <tr>\n",
       "      <th>337</th>\n",
       "      <td>338</td>\n",
       "      <td>Yale University Press</td>\n",
       "    </tr>\n",
       "    <tr>\n",
       "      <th>338</th>\n",
       "      <td>339</td>\n",
       "      <td>Yearling</td>\n",
       "    </tr>\n",
       "    <tr>\n",
       "      <th>339</th>\n",
       "      <td>340</td>\n",
       "      <td>Yearling Books</td>\n",
       "    </tr>\n",
       "  </tbody>\n",
       "</table>\n",
       "<p>340 rows × 2 columns</p>\n",
       "</div>"
      ],
      "text/plain": [
       "     publisher_id                          publisher\n",
       "0               1                                Ace\n",
       "1               2                           Ace Book\n",
       "2               3                          Ace Books\n",
       "3               4                      Ace Hardcover\n",
       "4               5  Addison Wesley Publishing Company\n",
       "..            ...                                ...\n",
       "335           336         Workman Publishing Company\n",
       "336           337                         Wyatt Book\n",
       "337           338              Yale University Press\n",
       "338           339                           Yearling\n",
       "339           340                     Yearling Books\n",
       "\n",
       "[340 rows x 2 columns]"
      ]
     },
     "execution_count": 7,
     "metadata": {},
     "output_type": "execute_result"
    }
   ],
   "source": [
    "# выведем данные таблицы publishers\n",
    "query = '''\n",
    "           SELECT *   \n",
    "           FROM publishers\n",
    "        ''' \n",
    "show_sql(query)\n"
   ]
  },
  {
   "cell_type": "markdown",
   "id": "9572c97b",
   "metadata": {},
   "source": [
    "## Запрос данных таблицы ratings"
   ]
  },
  {
   "cell_type": "markdown",
   "id": "31c84411",
   "metadata": {},
   "source": [
    "Таблица ratings\n",
    "Содержит данные о пользовательских оценках книг:\n",
    "•\trating_id — идентификатор оценки;\n",
    "•\tbook_id — идентификатор книги;\n",
    "•\tusername — имя пользователя, оставившего оценку;\n",
    "•\trating — оценка книги."
   ]
  },
  {
   "cell_type": "code",
   "execution_count": 8,
   "id": "31343b47",
   "metadata": {},
   "outputs": [
    {
     "data": {
      "text/html": [
       "<div>\n",
       "<style scoped>\n",
       "    .dataframe tbody tr th:only-of-type {\n",
       "        vertical-align: middle;\n",
       "    }\n",
       "\n",
       "    .dataframe tbody tr th {\n",
       "        vertical-align: top;\n",
       "    }\n",
       "\n",
       "    .dataframe thead th {\n",
       "        text-align: right;\n",
       "    }\n",
       "</style>\n",
       "<table border=\"1\" class=\"dataframe\">\n",
       "  <thead>\n",
       "    <tr style=\"text-align: right;\">\n",
       "      <th></th>\n",
       "      <th>rating_id</th>\n",
       "      <th>book_id</th>\n",
       "      <th>username</th>\n",
       "      <th>rating</th>\n",
       "    </tr>\n",
       "  </thead>\n",
       "  <tbody>\n",
       "    <tr>\n",
       "      <th>0</th>\n",
       "      <td>1</td>\n",
       "      <td>1</td>\n",
       "      <td>ryanfranco</td>\n",
       "      <td>4</td>\n",
       "    </tr>\n",
       "    <tr>\n",
       "      <th>1</th>\n",
       "      <td>2</td>\n",
       "      <td>1</td>\n",
       "      <td>grantpatricia</td>\n",
       "      <td>2</td>\n",
       "    </tr>\n",
       "    <tr>\n",
       "      <th>2</th>\n",
       "      <td>3</td>\n",
       "      <td>1</td>\n",
       "      <td>brandtandrea</td>\n",
       "      <td>5</td>\n",
       "    </tr>\n",
       "    <tr>\n",
       "      <th>3</th>\n",
       "      <td>4</td>\n",
       "      <td>2</td>\n",
       "      <td>lorichen</td>\n",
       "      <td>3</td>\n",
       "    </tr>\n",
       "    <tr>\n",
       "      <th>4</th>\n",
       "      <td>5</td>\n",
       "      <td>2</td>\n",
       "      <td>mariokeller</td>\n",
       "      <td>2</td>\n",
       "    </tr>\n",
       "    <tr>\n",
       "      <th>...</th>\n",
       "      <td>...</td>\n",
       "      <td>...</td>\n",
       "      <td>...</td>\n",
       "      <td>...</td>\n",
       "    </tr>\n",
       "    <tr>\n",
       "      <th>6451</th>\n",
       "      <td>6452</td>\n",
       "      <td>1000</td>\n",
       "      <td>carolrodriguez</td>\n",
       "      <td>4</td>\n",
       "    </tr>\n",
       "    <tr>\n",
       "      <th>6452</th>\n",
       "      <td>6453</td>\n",
       "      <td>1000</td>\n",
       "      <td>wendy18</td>\n",
       "      <td>4</td>\n",
       "    </tr>\n",
       "    <tr>\n",
       "      <th>6453</th>\n",
       "      <td>6454</td>\n",
       "      <td>1000</td>\n",
       "      <td>jarvispaul</td>\n",
       "      <td>5</td>\n",
       "    </tr>\n",
       "    <tr>\n",
       "      <th>6454</th>\n",
       "      <td>6455</td>\n",
       "      <td>1000</td>\n",
       "      <td>zross</td>\n",
       "      <td>2</td>\n",
       "    </tr>\n",
       "    <tr>\n",
       "      <th>6455</th>\n",
       "      <td>6456</td>\n",
       "      <td>1000</td>\n",
       "      <td>fharris</td>\n",
       "      <td>5</td>\n",
       "    </tr>\n",
       "  </tbody>\n",
       "</table>\n",
       "<p>6456 rows × 4 columns</p>\n",
       "</div>"
      ],
      "text/plain": [
       "      rating_id  book_id        username  rating\n",
       "0             1        1      ryanfranco       4\n",
       "1             2        1   grantpatricia       2\n",
       "2             3        1    brandtandrea       5\n",
       "3             4        2        lorichen       3\n",
       "4             5        2     mariokeller       2\n",
       "...         ...      ...             ...     ...\n",
       "6451       6452     1000  carolrodriguez       4\n",
       "6452       6453     1000         wendy18       4\n",
       "6453       6454     1000      jarvispaul       5\n",
       "6454       6455     1000           zross       2\n",
       "6455       6456     1000         fharris       5\n",
       "\n",
       "[6456 rows x 4 columns]"
      ]
     },
     "execution_count": 8,
     "metadata": {},
     "output_type": "execute_result"
    }
   ],
   "source": [
    "# выведем данные таблицы ratings\n",
    "query = '''\n",
    "           SELECT *   \n",
    "           FROM ratings\n",
    "        ''' \n",
    "show_sql(query)\n"
   ]
  },
  {
   "cell_type": "markdown",
   "id": "ace21ab8",
   "metadata": {},
   "source": [
    "## Запрос данных таблицы reviews"
   ]
  },
  {
   "cell_type": "markdown",
   "id": "0e3e1d58",
   "metadata": {},
   "source": [
    "Таблица reviews\n",
    "Содержит данные о пользовательских обзорах на книги:\n",
    "•\treview_id — идентификатор обзора;\n",
    "•\tbook_id — идентификатор книги;\n",
    "•\tusername — имя пользователя, написавшего обзор;\n",
    "•\ttext — текст обзора."
   ]
  },
  {
   "cell_type": "code",
   "execution_count": 9,
   "id": "4508b882",
   "metadata": {},
   "outputs": [
    {
     "data": {
      "text/html": [
       "<div>\n",
       "<style scoped>\n",
       "    .dataframe tbody tr th:only-of-type {\n",
       "        vertical-align: middle;\n",
       "    }\n",
       "\n",
       "    .dataframe tbody tr th {\n",
       "        vertical-align: top;\n",
       "    }\n",
       "\n",
       "    .dataframe thead th {\n",
       "        text-align: right;\n",
       "    }\n",
       "</style>\n",
       "<table border=\"1\" class=\"dataframe\">\n",
       "  <thead>\n",
       "    <tr style=\"text-align: right;\">\n",
       "      <th></th>\n",
       "      <th>review_id</th>\n",
       "      <th>book_id</th>\n",
       "      <th>username</th>\n",
       "      <th>text</th>\n",
       "    </tr>\n",
       "  </thead>\n",
       "  <tbody>\n",
       "    <tr>\n",
       "      <th>0</th>\n",
       "      <td>1</td>\n",
       "      <td>1</td>\n",
       "      <td>brandtandrea</td>\n",
       "      <td>Mention society tell send professor analysis. ...</td>\n",
       "    </tr>\n",
       "    <tr>\n",
       "      <th>1</th>\n",
       "      <td>2</td>\n",
       "      <td>1</td>\n",
       "      <td>ryanfranco</td>\n",
       "      <td>Foot glass pretty audience hit themselves. Amo...</td>\n",
       "    </tr>\n",
       "    <tr>\n",
       "      <th>2</th>\n",
       "      <td>3</td>\n",
       "      <td>2</td>\n",
       "      <td>lorichen</td>\n",
       "      <td>Listen treat keep worry. Miss husband tax but ...</td>\n",
       "    </tr>\n",
       "    <tr>\n",
       "      <th>3</th>\n",
       "      <td>4</td>\n",
       "      <td>3</td>\n",
       "      <td>johnsonamanda</td>\n",
       "      <td>Finally month interesting blue could nature cu...</td>\n",
       "    </tr>\n",
       "    <tr>\n",
       "      <th>4</th>\n",
       "      <td>5</td>\n",
       "      <td>3</td>\n",
       "      <td>scotttamara</td>\n",
       "      <td>Nation purpose heavy give wait song will. List...</td>\n",
       "    </tr>\n",
       "    <tr>\n",
       "      <th>...</th>\n",
       "      <td>...</td>\n",
       "      <td>...</td>\n",
       "      <td>...</td>\n",
       "      <td>...</td>\n",
       "    </tr>\n",
       "    <tr>\n",
       "      <th>2788</th>\n",
       "      <td>2789</td>\n",
       "      <td>999</td>\n",
       "      <td>martinadam</td>\n",
       "      <td>Later hospital turn easy community. Fact same ...</td>\n",
       "    </tr>\n",
       "    <tr>\n",
       "      <th>2789</th>\n",
       "      <td>2790</td>\n",
       "      <td>1000</td>\n",
       "      <td>wknight</td>\n",
       "      <td>Change lose answer close pressure. Spend so now.</td>\n",
       "    </tr>\n",
       "    <tr>\n",
       "      <th>2790</th>\n",
       "      <td>2791</td>\n",
       "      <td>1000</td>\n",
       "      <td>carolrodriguez</td>\n",
       "      <td>Authority go who television entire hair guy po...</td>\n",
       "    </tr>\n",
       "    <tr>\n",
       "      <th>2791</th>\n",
       "      <td>2792</td>\n",
       "      <td>1000</td>\n",
       "      <td>wendy18</td>\n",
       "      <td>Or western offer wonder ask. More hear phone f...</td>\n",
       "    </tr>\n",
       "    <tr>\n",
       "      <th>2792</th>\n",
       "      <td>2793</td>\n",
       "      <td>1000</td>\n",
       "      <td>jarvispaul</td>\n",
       "      <td>Republican staff bit eat material measure plan...</td>\n",
       "    </tr>\n",
       "  </tbody>\n",
       "</table>\n",
       "<p>2793 rows × 4 columns</p>\n",
       "</div>"
      ],
      "text/plain": [
       "      review_id  book_id        username  \\\n",
       "0             1        1    brandtandrea   \n",
       "1             2        1      ryanfranco   \n",
       "2             3        2        lorichen   \n",
       "3             4        3   johnsonamanda   \n",
       "4             5        3     scotttamara   \n",
       "...         ...      ...             ...   \n",
       "2788       2789      999      martinadam   \n",
       "2789       2790     1000         wknight   \n",
       "2790       2791     1000  carolrodriguez   \n",
       "2791       2792     1000         wendy18   \n",
       "2792       2793     1000      jarvispaul   \n",
       "\n",
       "                                                   text  \n",
       "0     Mention society tell send professor analysis. ...  \n",
       "1     Foot glass pretty audience hit themselves. Amo...  \n",
       "2     Listen treat keep worry. Miss husband tax but ...  \n",
       "3     Finally month interesting blue could nature cu...  \n",
       "4     Nation purpose heavy give wait song will. List...  \n",
       "...                                                 ...  \n",
       "2788  Later hospital turn easy community. Fact same ...  \n",
       "2789   Change lose answer close pressure. Spend so now.  \n",
       "2790  Authority go who television entire hair guy po...  \n",
       "2791  Or western offer wonder ask. More hear phone f...  \n",
       "2792  Republican staff bit eat material measure plan...  \n",
       "\n",
       "[2793 rows x 4 columns]"
      ]
     },
     "execution_count": 9,
     "metadata": {},
     "output_type": "execute_result"
    }
   ],
   "source": [
    "# выведем данные таблицы reviews\n",
    "query = '''\n",
    "           SELECT *   \n",
    "           FROM reviews\n",
    "        ''' \n",
    "show_sql(query)\n"
   ]
  },
  {
   "cell_type": "markdown",
   "id": "4aeb174d",
   "metadata": {},
   "source": [
    "# Посчитаем, сколько книг вышло после 1 января 2000 года"
   ]
  },
  {
   "cell_type": "code",
   "execution_count": 10,
   "id": "9819ea41",
   "metadata": {},
   "outputs": [
    {
     "data": {
      "text/html": [
       "<div>\n",
       "<style scoped>\n",
       "    .dataframe tbody tr th:only-of-type {\n",
       "        vertical-align: middle;\n",
       "    }\n",
       "\n",
       "    .dataframe tbody tr th {\n",
       "        vertical-align: top;\n",
       "    }\n",
       "\n",
       "    .dataframe thead th {\n",
       "        text-align: right;\n",
       "    }\n",
       "</style>\n",
       "<table border=\"1\" class=\"dataframe\">\n",
       "  <thead>\n",
       "    <tr style=\"text-align: right;\">\n",
       "      <th></th>\n",
       "      <th>count_books</th>\n",
       "    </tr>\n",
       "  </thead>\n",
       "  <tbody>\n",
       "    <tr>\n",
       "      <th>0</th>\n",
       "      <td>819</td>\n",
       "    </tr>\n",
       "  </tbody>\n",
       "</table>\n",
       "</div>"
      ],
      "text/plain": [
       "   count_books\n",
       "0          819"
      ]
     },
     "execution_count": 10,
     "metadata": {},
     "output_type": "execute_result"
    }
   ],
   "source": [
    "# сколько книг вышло после 1 января 2000 года\n",
    "query = '''\n",
    "           SELECT COUNT(book_id) AS count_books  \n",
    "           FROM books\n",
    "           WHERE CAST (publication_date as date) >'01.01.2000'\n",
    "        ''' \n",
    "show_sql(query)"
   ]
  },
  {
   "cell_type": "markdown",
   "id": "f0fb465a",
   "metadata": {},
   "source": [
    "# Для каждой книги посчитаем количество обзоров и среднюю оценку"
   ]
  },
  {
   "cell_type": "code",
   "execution_count": 11,
   "id": "a9ce35d1",
   "metadata": {},
   "outputs": [
    {
     "data": {
      "text/html": [
       "<div>\n",
       "<style scoped>\n",
       "    .dataframe tbody tr th:only-of-type {\n",
       "        vertical-align: middle;\n",
       "    }\n",
       "\n",
       "    .dataframe tbody tr th {\n",
       "        vertical-align: top;\n",
       "    }\n",
       "\n",
       "    .dataframe thead th {\n",
       "        text-align: right;\n",
       "    }\n",
       "</style>\n",
       "<table border=\"1\" class=\"dataframe\">\n",
       "  <thead>\n",
       "    <tr style=\"text-align: right;\">\n",
       "      <th></th>\n",
       "      <th>title</th>\n",
       "      <th>count_review</th>\n",
       "      <th>avg_rating</th>\n",
       "    </tr>\n",
       "  </thead>\n",
       "  <tbody>\n",
       "    <tr>\n",
       "      <th>0</th>\n",
       "      <td>None</td>\n",
       "      <td>NaN</td>\n",
       "      <td>3.666667</td>\n",
       "    </tr>\n",
       "    <tr>\n",
       "      <th>1</th>\n",
       "      <td>None</td>\n",
       "      <td>NaN</td>\n",
       "      <td>4.000000</td>\n",
       "    </tr>\n",
       "    <tr>\n",
       "      <th>2</th>\n",
       "      <td>None</td>\n",
       "      <td>NaN</td>\n",
       "      <td>3.000000</td>\n",
       "    </tr>\n",
       "    <tr>\n",
       "      <th>3</th>\n",
       "      <td>None</td>\n",
       "      <td>NaN</td>\n",
       "      <td>5.000000</td>\n",
       "    </tr>\n",
       "    <tr>\n",
       "      <th>4</th>\n",
       "      <td>None</td>\n",
       "      <td>NaN</td>\n",
       "      <td>4.000000</td>\n",
       "    </tr>\n",
       "    <tr>\n",
       "      <th>...</th>\n",
       "      <td>...</td>\n",
       "      <td>...</td>\n",
       "      <td>...</td>\n",
       "    </tr>\n",
       "    <tr>\n",
       "      <th>995</th>\n",
       "      <td>Everyday Italian: 125 Simple and Delicious Rec...</td>\n",
       "      <td>1.0</td>\n",
       "      <td>3.500000</td>\n",
       "    </tr>\n",
       "    <tr>\n",
       "      <th>996</th>\n",
       "      <td>Dragons of Winter Night (Dragonlance: Chronicl...</td>\n",
       "      <td>1.0</td>\n",
       "      <td>4.000000</td>\n",
       "    </tr>\n",
       "    <tr>\n",
       "      <th>997</th>\n",
       "      <td>Lysistrata</td>\n",
       "      <td>1.0</td>\n",
       "      <td>4.000000</td>\n",
       "    </tr>\n",
       "    <tr>\n",
       "      <th>998</th>\n",
       "      <td>History of Beauty</td>\n",
       "      <td>1.0</td>\n",
       "      <td>2.500000</td>\n",
       "    </tr>\n",
       "    <tr>\n",
       "      <th>999</th>\n",
       "      <td>First Things First</td>\n",
       "      <td>1.0</td>\n",
       "      <td>4.000000</td>\n",
       "    </tr>\n",
       "  </tbody>\n",
       "</table>\n",
       "<p>1000 rows × 3 columns</p>\n",
       "</div>"
      ],
      "text/plain": [
       "                                                 title  count_review  \\\n",
       "0                                                 None           NaN   \n",
       "1                                                 None           NaN   \n",
       "2                                                 None           NaN   \n",
       "3                                                 None           NaN   \n",
       "4                                                 None           NaN   \n",
       "..                                                 ...           ...   \n",
       "995  Everyday Italian: 125 Simple and Delicious Rec...           1.0   \n",
       "996  Dragons of Winter Night (Dragonlance: Chronicl...           1.0   \n",
       "997                                         Lysistrata           1.0   \n",
       "998                                  History of Beauty           1.0   \n",
       "999                                 First Things First           1.0   \n",
       "\n",
       "     avg_rating  \n",
       "0      3.666667  \n",
       "1      4.000000  \n",
       "2      3.000000  \n",
       "3      5.000000  \n",
       "4      4.000000  \n",
       "..          ...  \n",
       "995    3.500000  \n",
       "996    4.000000  \n",
       "997    4.000000  \n",
       "998    2.500000  \n",
       "999    4.000000  \n",
       "\n",
       "[1000 rows x 3 columns]"
      ]
     },
     "execution_count": 11,
     "metadata": {},
     "output_type": "execute_result"
    }
   ],
   "source": [
    "# # Для каждой книги посчитаем количество обзоров и среднюю оценку\n",
    "query = '''\n",
    "           SELECT b.title,\n",
    "               count_review,\n",
    "               avg_rating              \n",
    "               \n",
    "           FROM \n",
    "           (SELECT book_id,\n",
    "              AVG (rating)AS avg_rating\n",
    "           FROM ratings           \n",
    "           GROUP BY book_id)AS one\n",
    "           LEFT JOIN (SELECT book_id,\n",
    "               COUNT(review_id) AS count_review\n",
    "           FROM reviews           \n",
    "                     \n",
    "           GROUP BY book_id) AS two ON one.book_id=two.book_id\n",
    "           LEFT JOIN books AS b ON two.book_id=b.book_id\n",
    "           ORDER BY two.count_review DESC         \n",
    "           \n",
    "        ''' \n",
    "show_sql(query)"
   ]
  },
  {
   "cell_type": "markdown",
   "id": "42f13b83",
   "metadata": {},
   "source": [
    "# Определим издательство, которое выпустило наибольшее число книг толще 50 страниц — так вы исключим из анализа брошюры"
   ]
  },
  {
   "cell_type": "code",
   "execution_count": 13,
   "id": "0d497c69",
   "metadata": {},
   "outputs": [
    {
     "data": {
      "text/html": [
       "<div>\n",
       "<style scoped>\n",
       "    .dataframe tbody tr th:only-of-type {\n",
       "        vertical-align: middle;\n",
       "    }\n",
       "\n",
       "    .dataframe tbody tr th {\n",
       "        vertical-align: top;\n",
       "    }\n",
       "\n",
       "    .dataframe thead th {\n",
       "        text-align: right;\n",
       "    }\n",
       "</style>\n",
       "<table border=\"1\" class=\"dataframe\">\n",
       "  <thead>\n",
       "    <tr style=\"text-align: right;\">\n",
       "      <th></th>\n",
       "      <th>books_count</th>\n",
       "      <th>publisher</th>\n",
       "    </tr>\n",
       "  </thead>\n",
       "  <tbody>\n",
       "    <tr>\n",
       "      <th>0</th>\n",
       "      <td>42</td>\n",
       "      <td>Penguin Books</td>\n",
       "    </tr>\n",
       "  </tbody>\n",
       "</table>\n",
       "</div>"
      ],
      "text/plain": [
       "   books_count      publisher\n",
       "0           42  Penguin Books"
      ]
     },
     "execution_count": 13,
     "metadata": {},
     "output_type": "execute_result"
    }
   ],
   "source": [
    "#  выведем издательство\n",
    "query = '''\n",
    "           SELECT COUNT(book_id) AS books_count,\n",
    "                  best_publisher.publisher\n",
    "           FROM \n",
    "           (SELECT b.book_id,\n",
    "                  pu.publisher\n",
    "           FROM publishers as pu\n",
    "           RIGHT OUTER JOIN  books AS b ON pu.publisher_id=b.publisher_id\n",
    "           WHERE num_pages > 50) AS best_publisher\n",
    "           GROUP BY publisher\n",
    "           ORDER BY COUNT(book_id) DESC\n",
    "           LIMIT 1\n",
    "           \n",
    "\n",
    "        ''' \n",
    "show_sql(query)"
   ]
  },
  {
   "cell_type": "markdown",
   "id": "746ee5d7",
   "metadata": {},
   "source": [
    "# Определим автора с самой высокой средней оценкой книг — учитём только книги с 50 и более оценками"
   ]
  },
  {
   "cell_type": "code",
   "execution_count": 14,
   "id": "4660f3a7",
   "metadata": {},
   "outputs": [
    {
     "data": {
      "text/html": [
       "<div>\n",
       "<style scoped>\n",
       "    .dataframe tbody tr th:only-of-type {\n",
       "        vertical-align: middle;\n",
       "    }\n",
       "\n",
       "    .dataframe tbody tr th {\n",
       "        vertical-align: top;\n",
       "    }\n",
       "\n",
       "    .dataframe thead th {\n",
       "        text-align: right;\n",
       "    }\n",
       "</style>\n",
       "<table border=\"1\" class=\"dataframe\">\n",
       "  <thead>\n",
       "    <tr style=\"text-align: right;\">\n",
       "      <th></th>\n",
       "      <th>author</th>\n",
       "      <th>avg</th>\n",
       "    </tr>\n",
       "  </thead>\n",
       "  <tbody>\n",
       "    <tr>\n",
       "      <th>0</th>\n",
       "      <td>J.K. Rowling/Mary GrandPré</td>\n",
       "      <td>4.283844</td>\n",
       "    </tr>\n",
       "  </tbody>\n",
       "</table>\n",
       "</div>"
      ],
      "text/plain": [
       "                       author       avg\n",
       "0  J.K. Rowling/Mary GrandPré  4.283844"
      ]
     },
     "execution_count": 14,
     "metadata": {},
     "output_type": "execute_result"
    }
   ],
   "source": [
    "# выведем автора\n",
    "query = '''\n",
    "\n",
    "           SELECT author,\n",
    "                 AVG(avg_rating)\n",
    "           FROM\n",
    "           (SELECT book_id,\n",
    "                  COUNT(rating_id) AS count_rating_id,\n",
    "                  AVG(rating) AS avg_rating\n",
    "                 \n",
    "           FROM ratings\n",
    "           GROUP BY book_id\n",
    "           ORDER BY count_rating_id DESC) AS b_r\n",
    "           LEFT OUTER JOIN  books AS b ON b_r.book_id=b.book_id\n",
    "           JOIN authors AS a ON b.author_id=a.author_id\n",
    "           WHERE count_rating_id>50\n",
    "           GROUP BY author\n",
    "           ORDER BY AVG DESC\n",
    "           LIMIT 1\n",
    "        ''' \n",
    "show_sql(query)"
   ]
  },
  {
   "cell_type": "markdown",
   "id": "4f2d13ee",
   "metadata": {},
   "source": [
    "#### Исправлено"
   ]
  },
  {
   "cell_type": "markdown",
   "id": "507353f5",
   "metadata": {},
   "source": [
    "# Посчитаем среднее количество обзоров от пользователей, которые поставили больше 50 оценок"
   ]
  },
  {
   "cell_type": "code",
   "execution_count": 15,
   "id": "8a367658",
   "metadata": {},
   "outputs": [
    {
     "data": {
      "text/html": [
       "<div>\n",
       "<style scoped>\n",
       "    .dataframe tbody tr th:only-of-type {\n",
       "        vertical-align: middle;\n",
       "    }\n",
       "\n",
       "    .dataframe tbody tr th {\n",
       "        vertical-align: top;\n",
       "    }\n",
       "\n",
       "    .dataframe thead th {\n",
       "        text-align: right;\n",
       "    }\n",
       "</style>\n",
       "<table border=\"1\" class=\"dataframe\">\n",
       "  <thead>\n",
       "    <tr style=\"text-align: right;\">\n",
       "      <th></th>\n",
       "      <th>avg_review_count</th>\n",
       "    </tr>\n",
       "  </thead>\n",
       "  <tbody>\n",
       "    <tr>\n",
       "      <th>0</th>\n",
       "      <td>24.333333</td>\n",
       "    </tr>\n",
       "  </tbody>\n",
       "</table>\n",
       "</div>"
      ],
      "text/plain": [
       "   avg_review_count\n",
       "0         24.333333"
      ]
     },
     "execution_count": 15,
     "metadata": {},
     "output_type": "execute_result"
    }
   ],
   "source": [
    "#выведем среднее количество обзоров от пользователей\n",
    "query = '''\n",
    "           SELECT AVG(review_count) AS avg_review_count\n",
    "           FROM\n",
    "           (SELECT username,\n",
    "                   COUNT(review_id) AS review_count\n",
    "           FROM\n",
    "           reviews \n",
    "           GROUP BY username) AS two \n",
    "           WHERE username IN (SELECT username\n",
    "          FROM\n",
    "           (SELECT username,\n",
    "                  COUNT(rating_id) AS count_rating \n",
    "           FROM ratings\n",
    "           GROUP BY username\n",
    "           ORDER BY count_rating DESC\n",
    "           LIMIT 6)AS one)\n",
    "           \n",
    "        '''\n",
    "show_sql(query)"
   ]
  },
  {
   "cell_type": "markdown",
   "id": "6afa0d2b",
   "metadata": {},
   "source": [
    "# Вывод\n",
    "\n",
    "  В результате настоящего исследования были проанализированы базы данных с информацией о книгах, издательствах, авторах, а также пользовательские обзоры книг. Эти данные помогут сформулировать ценностное предложение для нового продукта сервис для чтения книг по подписке. \n",
    " В соответствии с заданием были загружены данные, сформированы необходимые запросы, получены следующие результаты:\n",
    " \n",
    " * результат запроса о количестве книг, вышедших после 1 января 2000 года - 819 единиц;\n",
    " \n",
    " * выведена таблица о данных количества обзоров и средней оценки  каждой книги ;\n",
    " \n",
    " * Определено издательство, которое выпустило наибольшее число книг толще 50 страниц — Penguin Books выпустило 42 книги;\n",
    " \n",
    " * Определён автора с самой высокой средней оценкой книг (учитены только книги с 50 и более оценками)- J.K. Rowling/Mary GrandPré, средний рейтинг её книг - 4.28;\n",
    " \n",
    " * Посчитано среднее количество обзоров от пользователей, которые поставили больше 50 оценок - 24.33.\n",
    " \n",
    " "
   ]
  }
 ],
 "metadata": {
  "ExecuteTimeLog": [
   {
    "duration": 509,
    "start_time": "2022-08-27T06:55:56.130Z"
   },
   {
    "duration": 8578,
    "start_time": "2022-08-27T06:55:56.641Z"
   },
   {
    "duration": 2,
    "start_time": "2022-08-27T06:56:05.221Z"
   },
   {
    "duration": 264,
    "start_time": "2022-08-27T06:56:05.225Z"
   },
   {
    "duration": 91,
    "start_time": "2022-08-27T06:56:05.492Z"
   },
   {
    "duration": 77,
    "start_time": "2022-08-27T06:56:05.585Z"
   },
   {
    "duration": 123,
    "start_time": "2022-08-27T06:56:05.664Z"
   },
   {
    "duration": 100,
    "start_time": "2022-08-27T06:56:05.789Z"
   },
   {
    "duration": 76,
    "start_time": "2022-08-27T06:56:05.891Z"
   },
   {
    "duration": 92,
    "start_time": "2022-08-27T06:56:05.968Z"
   },
   {
    "duration": 76,
    "start_time": "2022-08-27T06:56:06.062Z"
   },
   {
    "duration": 78,
    "start_time": "2022-08-27T06:56:06.140Z"
   },
   {
    "duration": 79,
    "start_time": "2022-08-27T06:56:06.221Z"
   },
   {
    "duration": 78,
    "start_time": "2022-08-27T06:57:18.834Z"
   },
   {
    "duration": 79,
    "start_time": "2022-08-27T06:57:22.016Z"
   },
   {
    "duration": 520,
    "start_time": "2022-08-28T10:20:33.927Z"
   },
   {
    "duration": 10975,
    "start_time": "2022-08-28T10:20:34.450Z"
   },
   {
    "duration": 3,
    "start_time": "2022-08-28T10:20:45.426Z"
   },
   {
    "duration": 320,
    "start_time": "2022-08-28T10:20:45.430Z"
   },
   {
    "duration": 105,
    "start_time": "2022-08-28T10:20:45.751Z"
   },
   {
    "duration": 97,
    "start_time": "2022-08-28T10:20:45.858Z"
   },
   {
    "duration": 173,
    "start_time": "2022-08-28T10:20:45.956Z"
   },
   {
    "duration": 149,
    "start_time": "2022-08-28T10:20:46.130Z"
   },
   {
    "duration": 105,
    "start_time": "2022-08-28T10:20:46.282Z"
   },
   {
    "duration": 126,
    "start_time": "2022-08-28T10:20:46.390Z"
   },
   {
    "duration": 113,
    "start_time": "2022-08-28T10:20:46.518Z"
   },
   {
    "duration": 114,
    "start_time": "2022-08-28T10:20:46.633Z"
   },
   {
    "duration": 94,
    "start_time": "2022-08-28T10:20:46.749Z"
   },
   {
    "duration": 139,
    "start_time": "2022-08-28T11:02:17.403Z"
   },
   {
    "duration": 289,
    "start_time": "2022-08-28T11:02:24.485Z"
   },
   {
    "duration": 124,
    "start_time": "2022-08-28T11:02:30.632Z"
   },
   {
    "duration": 129,
    "start_time": "2022-08-28T11:02:37.371Z"
   },
   {
    "duration": 132,
    "start_time": "2022-08-28T11:03:31.226Z"
   },
   {
    "duration": 122,
    "start_time": "2022-08-28T11:03:35.224Z"
   },
   {
    "duration": 144,
    "start_time": "2022-08-28T11:03:43.492Z"
   },
   {
    "duration": 134,
    "start_time": "2022-08-28T11:04:08.525Z"
   },
   {
    "duration": 46,
    "start_time": "2022-08-28T11:10:10.825Z"
   },
   {
    "duration": 510,
    "start_time": "2022-08-28T11:10:16.710Z"
   },
   {
    "duration": 9310,
    "start_time": "2022-08-28T11:10:17.222Z"
   },
   {
    "duration": 3,
    "start_time": "2022-08-28T11:10:26.533Z"
   },
   {
    "duration": 73,
    "start_time": "2022-08-28T11:10:26.538Z"
   },
   {
    "duration": 12,
    "start_time": "2022-08-28T11:10:26.612Z"
   },
   {
    "duration": 11,
    "start_time": "2022-08-28T11:10:26.626Z"
   },
   {
    "duration": 24,
    "start_time": "2022-08-28T11:10:26.638Z"
   },
   {
    "duration": 18,
    "start_time": "2022-08-28T11:10:26.664Z"
   },
   {
    "duration": 26,
    "start_time": "2022-08-28T11:10:26.683Z"
   },
   {
    "duration": 19,
    "start_time": "2022-08-28T11:10:26.711Z"
   },
   {
    "duration": 18,
    "start_time": "2022-08-28T11:10:26.732Z"
   },
   {
    "duration": 9,
    "start_time": "2022-08-28T11:10:26.751Z"
   },
   {
    "duration": 15,
    "start_time": "2022-08-28T11:10:26.761Z"
   },
   {
    "duration": 10,
    "start_time": "2022-08-28T11:10:26.777Z"
   }
  ],
  "kernelspec": {
   "display_name": "Python 3 (ipykernel)",
   "language": "python",
   "name": "python3"
  },
  "language_info": {
   "codemirror_mode": {
    "name": "ipython",
    "version": 3
   },
   "file_extension": ".py",
   "mimetype": "text/x-python",
   "name": "python",
   "nbconvert_exporter": "python",
   "pygments_lexer": "ipython3",
   "version": "3.10.1"
  },
  "toc": {
   "base_numbering": 1,
   "nav_menu": {},
   "number_sections": true,
   "sideBar": true,
   "skip_h1_title": false,
   "title_cell": "Table of Contents",
   "title_sidebar": "Contents",
   "toc_cell": false,
   "toc_position": {
    "height": "calc(100% - 180px)",
    "left": "10px",
    "top": "150px",
    "width": "256px"
   },
   "toc_section_display": true,
   "toc_window_display": true
  }
 },
 "nbformat": 4,
 "nbformat_minor": 5
}
