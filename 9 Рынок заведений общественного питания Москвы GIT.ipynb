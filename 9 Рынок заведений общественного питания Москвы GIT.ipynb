{
 "cells": [
  {
   "cell_type": "markdown",
   "id": "30d9c6ab",
   "metadata": {},
   "source": [
    "\n",
    "# Описание проекта\n",
    "**Предстоит открыть небольшое кафе в Москве где гостей должны обслуживать роботы.  Сдедует подготовить исследование рынка. Есть открытые данные о заведениях общественного питания в Москве.**\n",
    "\n",
    "\n"
   ]
  },
  {
   "cell_type": "markdown",
   "id": "81b9e71c",
   "metadata": {},
   "source": [
    "# Загрузка и обработка данных.\n",
    "Загрузим данные о заведениях общественного питания Москвы и подготовим их к анализу."
   ]
  },
  {
   "cell_type": "code",
   "execution_count": 77,
   "id": "5e32d7de",
   "metadata": {},
   "outputs": [],
   "source": [
    "# загрузим необходимые библиотеки\n",
    "import pandas as pd\n",
    "import matplotlib.pyplot as plt\n",
    "import numpy as np\n",
    "import matplotlib as mpl\n",
    "import plotly.express as px\n",
    "from plotly import graph_objects as go\n",
    "import seaborn as sns"
   ]
  },
  {
   "cell_type": "code",
   "execution_count": 78,
   "id": "08427df1",
   "metadata": {},
   "outputs": [],
   "source": [
    "# сохраним данные в переменной rest_data\n",
    "try:\n",
    "    rest_data = pd.read_csv('\\\\Users\\\\VladimiRUS_74RU\\\\Desktop\\\\data anaiysis\\\\rest_data.csv')\n",
    "except:\n",
    "    rest_data = pd.read_csv('/datasets/rest_data.csv')\n"
   ]
  },
  {
   "cell_type": "code",
   "execution_count": 79,
   "id": "44090549",
   "metadata": {},
   "outputs": [
    {
     "data": {
      "text/html": [
       "<div>\n",
       "<style scoped>\n",
       "    .dataframe tbody tr th:only-of-type {\n",
       "        vertical-align: middle;\n",
       "    }\n",
       "\n",
       "    .dataframe tbody tr th {\n",
       "        vertical-align: top;\n",
       "    }\n",
       "\n",
       "    .dataframe thead th {\n",
       "        text-align: right;\n",
       "    }\n",
       "</style>\n",
       "<table border=\"1\" class=\"dataframe\">\n",
       "  <thead>\n",
       "    <tr style=\"text-align: right;\">\n",
       "      <th></th>\n",
       "      <th>id</th>\n",
       "      <th>object_name</th>\n",
       "      <th>chain</th>\n",
       "      <th>object_type</th>\n",
       "      <th>address</th>\n",
       "      <th>number</th>\n",
       "    </tr>\n",
       "  </thead>\n",
       "  <tbody>\n",
       "    <tr>\n",
       "      <th>0</th>\n",
       "      <td>151635</td>\n",
       "      <td>СМЕТАНА</td>\n",
       "      <td>нет</td>\n",
       "      <td>кафе</td>\n",
       "      <td>город Москва, улица Егора Абакумова, дом 9</td>\n",
       "      <td>48</td>\n",
       "    </tr>\n",
       "    <tr>\n",
       "      <th>1</th>\n",
       "      <td>77874</td>\n",
       "      <td>Родник</td>\n",
       "      <td>нет</td>\n",
       "      <td>кафе</td>\n",
       "      <td>город Москва, улица Талалихина, дом 2/1, корпус 1</td>\n",
       "      <td>35</td>\n",
       "    </tr>\n",
       "    <tr>\n",
       "      <th>2</th>\n",
       "      <td>24309</td>\n",
       "      <td>Кафе «Академия»</td>\n",
       "      <td>нет</td>\n",
       "      <td>кафе</td>\n",
       "      <td>город Москва, Абельмановская улица, дом 6</td>\n",
       "      <td>95</td>\n",
       "    </tr>\n",
       "    <tr>\n",
       "      <th>3</th>\n",
       "      <td>21894</td>\n",
       "      <td>ПИЦЦЕТОРИЯ</td>\n",
       "      <td>да</td>\n",
       "      <td>кафе</td>\n",
       "      <td>город Москва, Абрамцевская улица, дом 1</td>\n",
       "      <td>40</td>\n",
       "    </tr>\n",
       "    <tr>\n",
       "      <th>4</th>\n",
       "      <td>119365</td>\n",
       "      <td>Кафе «Вишневая метель»</td>\n",
       "      <td>нет</td>\n",
       "      <td>кафе</td>\n",
       "      <td>город Москва, Абрамцевская улица, дом 9, корпус 1</td>\n",
       "      <td>50</td>\n",
       "    </tr>\n",
       "  </tbody>\n",
       "</table>\n",
       "</div>"
      ],
      "text/plain": [
       "       id             object_name chain object_type  \\\n",
       "0  151635                 СМЕТАНА   нет        кафе   \n",
       "1   77874                  Родник   нет        кафе   \n",
       "2   24309         Кафе «Академия»   нет        кафе   \n",
       "3   21894              ПИЦЦЕТОРИЯ    да        кафе   \n",
       "4  119365  Кафе «Вишневая метель»   нет        кафе   \n",
       "\n",
       "                                             address  number  \n",
       "0         город Москва, улица Егора Абакумова, дом 9      48  \n",
       "1  город Москва, улица Талалихина, дом 2/1, корпус 1      35  \n",
       "2          город Москва, Абельмановская улица, дом 6      95  \n",
       "3            город Москва, Абрамцевская улица, дом 1      40  \n",
       "4  город Москва, Абрамцевская улица, дом 9, корпус 1      50  "
      ]
     },
     "metadata": {},
     "output_type": "display_data"
    }
   ],
   "source": [
    "# выведем на экран первые 5 строк\n",
    "display(rest_data.head())"
   ]
  },
  {
   "cell_type": "code",
   "execution_count": 80,
   "id": "2a48cc3c",
   "metadata": {},
   "outputs": [
    {
     "name": "stdout",
     "output_type": "stream",
     "text": [
      "<class 'pandas.core.frame.DataFrame'>\n",
      "RangeIndex: 15366 entries, 0 to 15365\n",
      "Data columns (total 6 columns):\n",
      " #   Column       Non-Null Count  Dtype \n",
      "---  ------       --------------  ----- \n",
      " 0   id           15366 non-null  int64 \n",
      " 1   object_name  15366 non-null  object\n",
      " 2   chain        15366 non-null  object\n",
      " 3   object_type  15366 non-null  object\n",
      " 4   address      15366 non-null  object\n",
      " 5   number       15366 non-null  int64 \n",
      "dtypes: int64(2), object(4)\n",
      "memory usage: 720.4+ KB\n"
     ]
    }
   ],
   "source": [
    "# выведем общую информацию\n",
    "rest_data.info()"
   ]
  },
  {
   "cell_type": "code",
   "execution_count": 81,
   "id": "1f34a6e0",
   "metadata": {},
   "outputs": [
    {
     "data": {
      "text/plain": [
       "0"
      ]
     },
     "execution_count": 81,
     "metadata": {},
     "output_type": "execute_result"
    }
   ],
   "source": [
    "# проверим наличие дубликатов\n",
    "rest_data.duplicated().sum()"
   ]
  },
  {
   "cell_type": "code",
   "execution_count": 83,
   "id": "a2a38177",
   "metadata": {},
   "outputs": [
    {
     "data": {
      "text/plain": [
       "4973"
      ]
     },
     "execution_count": 83,
     "metadata": {},
     "output_type": "execute_result"
    }
   ],
   "source": [
    "# проверим наличие дубликатов в колонке object_name\n",
    "rest_data['object_name'].duplicated().sum()\n"
   ]
  },
  {
   "cell_type": "code",
   "execution_count": 84,
   "id": "aae4a46a",
   "metadata": {},
   "outputs": [
    {
     "data": {
      "text/plain": [
       "Столовая                   267\n",
       "Кафе                       236\n",
       "Шаурма                     234\n",
       "KFC                        155\n",
       "Шоколадница                142\n",
       "                          ... \n",
       "Грузинский домик             1\n",
       "Кафе «Лаборатория»           1\n",
       "Кафе Бар Бульвар             1\n",
       "Torro Grill                  1\n",
       "Кальянная «Мята launge»      1\n",
       "Name: object_name, Length: 10393, dtype: int64"
      ]
     },
     "execution_count": 84,
     "metadata": {},
     "output_type": "execute_result"
    }
   ],
   "source": [
    "# выведем на экран названия заведений\n",
    "rest_data['object_name'].value_counts()"
   ]
  },
  {
   "cell_type": "code",
   "execution_count": 85,
   "id": "3093673e",
   "metadata": {},
   "outputs": [
    {
     "data": {
      "text/plain": [
       "5442"
      ]
     },
     "execution_count": 85,
     "metadata": {},
     "output_type": "execute_result"
    }
   ],
   "source": [
    "# приведём названия к одному регистру\n",
    "rest_data['object_name'] = rest_data['object_name'].str.upper() \n",
    "\n",
    "# проверим наличие дубликатов в колонке object_name\n",
    "rest_data['object_name'].duplicated().sum()"
   ]
  },
  {
   "cell_type": "code",
   "execution_count": 86,
   "id": "fe497c61",
   "metadata": {},
   "outputs": [
    {
     "name": "stdout",
     "output_type": "stream",
     "text": [
      "СТОЛОВАЯ                             321\n",
      "КАФЕ                                 278\n",
      "ШАУРМА                               250\n",
      "ШОКОЛАДНИЦА                          158\n",
      "KFC                                  155\n",
      "                                    ... \n",
      "КАФЕ «PHO»                             1\n",
      "ГБОУ ГОРОДА МОСКВЫ «ШКОЛА № 2057»      1\n",
      "МАНКА                                  1\n",
      "ШКОЛА 416                              1\n",
      "РИО ГРАНДЭ                             1\n",
      "Name: object_name, Length: 9924, dtype: int64\n",
      "количество уникальных значений названий заведений: 9924\n"
     ]
    }
   ],
   "source": [
    "# выведем на экран названия заведений\n",
    "print(rest_data['object_name'].value_counts())\n",
    "#  посчитаем количество уникальных значений колонки \n",
    "print('количество уникальных значений названий заведений:',rest_data['object_name']\\\n",
    "      .value_counts().count())\n"
   ]
  },
  {
   "cell_type": "code",
   "execution_count": 87,
   "id": "a8481043",
   "metadata": {},
   "outputs": [
    {
     "data": {
      "text/plain": [
       "15364"
      ]
     },
     "execution_count": 87,
     "metadata": {},
     "output_type": "execute_result"
    }
   ],
   "source": [
    "# проверим наличие дубликатов в колонке chain\n",
    "rest_data['chain'].duplicated().sum()"
   ]
  },
  {
   "cell_type": "code",
   "execution_count": 88,
   "id": "cd699e2a",
   "metadata": {},
   "outputs": [
    {
     "data": {
      "text/plain": [
       "нет    12398\n",
       "да      2968\n",
       "Name: chain, dtype: int64"
      ]
     },
     "execution_count": 88,
     "metadata": {},
     "output_type": "execute_result"
    }
   ],
   "source": [
    "# выведем на экран уникальные  значения и количество chain\n",
    "rest_data['chain'].value_counts()"
   ]
  },
  {
   "cell_type": "code",
   "execution_count": 89,
   "id": "d4801f9b",
   "metadata": {},
   "outputs": [
    {
     "data": {
      "text/plain": [
       "15357"
      ]
     },
     "execution_count": 89,
     "metadata": {},
     "output_type": "execute_result"
    }
   ],
   "source": [
    "# проверим наличие дубликатов в колонке object_type\n",
    "rest_data['object_type'].duplicated().sum()"
   ]
  },
  {
   "cell_type": "code",
   "execution_count": 90,
   "id": "6da34e91",
   "metadata": {},
   "outputs": [
    {
     "data": {
      "text/plain": [
       "кафе                                 6099\n",
       "столовая                             2587\n",
       "ресторан                             2285\n",
       "предприятие быстрого обслуживания    1923\n",
       "бар                                   856\n",
       "буфет                                 585\n",
       "кафетерий                             398\n",
       "закусочная                            360\n",
       "магазин (отдел кулинарии)             273\n",
       "Name: object_type, dtype: int64"
      ]
     },
     "execution_count": 90,
     "metadata": {},
     "output_type": "execute_result"
    }
   ],
   "source": [
    "# выведем на экран уникальные  значения и количество\n",
    "rest_data['object_type'].value_counts()"
   ]
  },
  {
   "cell_type": "code",
   "execution_count": 91,
   "id": "ef08afab",
   "metadata": {},
   "outputs": [
    {
     "data": {
      "text/plain": [
       "15364"
      ]
     },
     "execution_count": 91,
     "metadata": {},
     "output_type": "execute_result"
    }
   ],
   "source": [
    "# проверим наличие дубликатов в колонке object_type\n",
    "rest_data['chain'].duplicated().sum()"
   ]
  },
  {
   "cell_type": "code",
   "execution_count": 92,
   "id": "63f66fec",
   "metadata": {},
   "outputs": [
    {
     "data": {
      "text/plain": [
       "нет    12398\n",
       "да      2968\n",
       "Name: chain, dtype: int64"
      ]
     },
     "execution_count": 92,
     "metadata": {},
     "output_type": "execute_result"
    }
   ],
   "source": [
    "# выведем на экран уникальные  значения и количество\n",
    "rest_data['chain'].value_counts()"
   ]
  },
  {
   "cell_type": "markdown",
   "id": "5b52981a",
   "metadata": {},
   "source": [
    "\n",
    "Дубликаты наименований приведены к единому регистру, после обработки количество дубликатов увеличилось с 4973 до 5442, т.е 469 наименований отличались только регистром. Дубликаты в колонке с наименованиями могут быть связаны как с сетевым типом заведений , так и обычным совпадением. Поэтому оставим их без изменений. Количество дубликатов в остальных колонках объяснимо самой природой данных.\n"
   ]
  },
  {
   "cell_type": "markdown",
   "id": "a02aaeb1",
   "metadata": {},
   "source": [
    "# Анализ данных.\n"
   ]
  },
  {
   "cell_type": "markdown",
   "id": "ab3ef38f",
   "metadata": {},
   "source": [
    "## Исследование соотношения видов объектов общественного питания по количеству. Построение графика."
   ]
  },
  {
   "cell_type": "code",
   "execution_count": 93,
   "id": "2b75f6fa",
   "metadata": {},
   "outputs": [
    {
     "data": {
      "text/html": [
       "<div>\n",
       "<style scoped>\n",
       "    .dataframe tbody tr th:only-of-type {\n",
       "        vertical-align: middle;\n",
       "    }\n",
       "\n",
       "    .dataframe tbody tr th {\n",
       "        vertical-align: top;\n",
       "    }\n",
       "\n",
       "    .dataframe thead th {\n",
       "        text-align: right;\n",
       "    }\n",
       "</style>\n",
       "<table border=\"1\" class=\"dataframe\">\n",
       "  <thead>\n",
       "    <tr style=\"text-align: right;\">\n",
       "      <th></th>\n",
       "      <th>object_type</th>\n",
       "      <th>id</th>\n",
       "      <th>object_name</th>\n",
       "      <th>chain</th>\n",
       "      <th>address</th>\n",
       "      <th>number</th>\n",
       "    </tr>\n",
       "  </thead>\n",
       "  <tbody>\n",
       "    <tr>\n",
       "      <th>3</th>\n",
       "      <td>кафе</td>\n",
       "      <td>6099</td>\n",
       "      <td>6099</td>\n",
       "      <td>6099</td>\n",
       "      <td>6099</td>\n",
       "      <td>6099</td>\n",
       "    </tr>\n",
       "    <tr>\n",
       "      <th>8</th>\n",
       "      <td>столовая</td>\n",
       "      <td>2587</td>\n",
       "      <td>2587</td>\n",
       "      <td>2587</td>\n",
       "      <td>2587</td>\n",
       "      <td>2587</td>\n",
       "    </tr>\n",
       "    <tr>\n",
       "      <th>7</th>\n",
       "      <td>ресторан</td>\n",
       "      <td>2285</td>\n",
       "      <td>2285</td>\n",
       "      <td>2285</td>\n",
       "      <td>2285</td>\n",
       "      <td>2285</td>\n",
       "    </tr>\n",
       "    <tr>\n",
       "      <th>6</th>\n",
       "      <td>предприятие быстрого обслуживания</td>\n",
       "      <td>1923</td>\n",
       "      <td>1923</td>\n",
       "      <td>1923</td>\n",
       "      <td>1923</td>\n",
       "      <td>1923</td>\n",
       "    </tr>\n",
       "    <tr>\n",
       "      <th>0</th>\n",
       "      <td>бар</td>\n",
       "      <td>856</td>\n",
       "      <td>856</td>\n",
       "      <td>856</td>\n",
       "      <td>856</td>\n",
       "      <td>856</td>\n",
       "    </tr>\n",
       "    <tr>\n",
       "      <th>1</th>\n",
       "      <td>буфет</td>\n",
       "      <td>585</td>\n",
       "      <td>585</td>\n",
       "      <td>585</td>\n",
       "      <td>585</td>\n",
       "      <td>585</td>\n",
       "    </tr>\n",
       "    <tr>\n",
       "      <th>4</th>\n",
       "      <td>кафетерий</td>\n",
       "      <td>398</td>\n",
       "      <td>398</td>\n",
       "      <td>398</td>\n",
       "      <td>398</td>\n",
       "      <td>398</td>\n",
       "    </tr>\n",
       "    <tr>\n",
       "      <th>2</th>\n",
       "      <td>закусочная</td>\n",
       "      <td>360</td>\n",
       "      <td>360</td>\n",
       "      <td>360</td>\n",
       "      <td>360</td>\n",
       "      <td>360</td>\n",
       "    </tr>\n",
       "    <tr>\n",
       "      <th>5</th>\n",
       "      <td>магазин (отдел кулинарии)</td>\n",
       "      <td>273</td>\n",
       "      <td>273</td>\n",
       "      <td>273</td>\n",
       "      <td>273</td>\n",
       "      <td>273</td>\n",
       "    </tr>\n",
       "  </tbody>\n",
       "</table>\n",
       "</div>"
      ],
      "text/plain": [
       "                         object_type    id  object_name  chain  address  \\\n",
       "3                               кафе  6099         6099   6099     6099   \n",
       "8                           столовая  2587         2587   2587     2587   \n",
       "7                           ресторан  2285         2285   2285     2285   \n",
       "6  предприятие быстрого обслуживания  1923         1923   1923     1923   \n",
       "0                                бар   856          856    856      856   \n",
       "1                              буфет   585          585    585      585   \n",
       "4                          кафетерий   398          398    398      398   \n",
       "2                         закусочная   360          360    360      360   \n",
       "5          магазин (отдел кулинарии)   273          273    273      273   \n",
       "\n",
       "   number  \n",
       "3    6099  \n",
       "8    2587  \n",
       "7    2285  \n",
       "6    1923  \n",
       "0     856  \n",
       "1     585  \n",
       "4     398  \n",
       "2     360  \n",
       "5     273  "
      ]
     },
     "metadata": {},
     "output_type": "display_data"
    }
   ],
   "source": [
    "# сохраним в переменной rest_data_pie необходимые для анализа данные\n",
    "rest_data_pie = rest_data.groupby(['object_type']).count().reset_index(0).sort_values(by=['object_name']\n",
    "                                                                                     ,ascending=False)\n",
    "# выведем на экран rest_data_pie\n",
    "display(rest_data_pie)"
   ]
  },
  {
   "cell_type": "code",
   "execution_count": 94,
   "id": "bb21731b",
   "metadata": {
    "scrolled": true
   },
   "outputs": [
    {
     "data": {
      "application/vnd.plotly.v1+json": {
       "config": {
        "plotlyServerURL": "https://plot.ly"
       },
       "data": [
        {
         "labels": [
          "кафе",
          "столовая",
          "ресторан",
          "предприятие быстрого обслуживания",
          "бар",
          "буфет",
          "кафетерий",
          "закусочная",
          "магазин (отдел кулинарии)"
         ],
         "title": {
          "text": "Соотношение видов объектов общественного питания по количеству"
         },
         "type": "pie",
         "values": [
          6099,
          2587,
          2285,
          1923,
          856,
          585,
          398,
          360,
          273
         ]
        }
       ],
       "layout": {
        "template": {
         "data": {
          "bar": [
           {
            "error_x": {
             "color": "#2a3f5f"
            },
            "error_y": {
             "color": "#2a3f5f"
            },
            "marker": {
             "line": {
              "color": "#E5ECF6",
              "width": 0.5
             },
             "pattern": {
              "fillmode": "overlay",
              "size": 10,
              "solidity": 0.2
             }
            },
            "type": "bar"
           }
          ],
          "barpolar": [
           {
            "marker": {
             "line": {
              "color": "#E5ECF6",
              "width": 0.5
             },
             "pattern": {
              "fillmode": "overlay",
              "size": 10,
              "solidity": 0.2
             }
            },
            "type": "barpolar"
           }
          ],
          "carpet": [
           {
            "aaxis": {
             "endlinecolor": "#2a3f5f",
             "gridcolor": "white",
             "linecolor": "white",
             "minorgridcolor": "white",
             "startlinecolor": "#2a3f5f"
            },
            "baxis": {
             "endlinecolor": "#2a3f5f",
             "gridcolor": "white",
             "linecolor": "white",
             "minorgridcolor": "white",
             "startlinecolor": "#2a3f5f"
            },
            "type": "carpet"
           }
          ],
          "choropleth": [
           {
            "colorbar": {
             "outlinewidth": 0,
             "ticks": ""
            },
            "type": "choropleth"
           }
          ],
          "contour": [
           {
            "colorbar": {
             "outlinewidth": 0,
             "ticks": ""
            },
            "colorscale": [
             [
              0,
              "#0d0887"
             ],
             [
              0.1111111111111111,
              "#46039f"
             ],
             [
              0.2222222222222222,
              "#7201a8"
             ],
             [
              0.3333333333333333,
              "#9c179e"
             ],
             [
              0.4444444444444444,
              "#bd3786"
             ],
             [
              0.5555555555555556,
              "#d8576b"
             ],
             [
              0.6666666666666666,
              "#ed7953"
             ],
             [
              0.7777777777777778,
              "#fb9f3a"
             ],
             [
              0.8888888888888888,
              "#fdca26"
             ],
             [
              1,
              "#f0f921"
             ]
            ],
            "type": "contour"
           }
          ],
          "contourcarpet": [
           {
            "colorbar": {
             "outlinewidth": 0,
             "ticks": ""
            },
            "type": "contourcarpet"
           }
          ],
          "heatmap": [
           {
            "colorbar": {
             "outlinewidth": 0,
             "ticks": ""
            },
            "colorscale": [
             [
              0,
              "#0d0887"
             ],
             [
              0.1111111111111111,
              "#46039f"
             ],
             [
              0.2222222222222222,
              "#7201a8"
             ],
             [
              0.3333333333333333,
              "#9c179e"
             ],
             [
              0.4444444444444444,
              "#bd3786"
             ],
             [
              0.5555555555555556,
              "#d8576b"
             ],
             [
              0.6666666666666666,
              "#ed7953"
             ],
             [
              0.7777777777777778,
              "#fb9f3a"
             ],
             [
              0.8888888888888888,
              "#fdca26"
             ],
             [
              1,
              "#f0f921"
             ]
            ],
            "type": "heatmap"
           }
          ],
          "heatmapgl": [
           {
            "colorbar": {
             "outlinewidth": 0,
             "ticks": ""
            },
            "colorscale": [
             [
              0,
              "#0d0887"
             ],
             [
              0.1111111111111111,
              "#46039f"
             ],
             [
              0.2222222222222222,
              "#7201a8"
             ],
             [
              0.3333333333333333,
              "#9c179e"
             ],
             [
              0.4444444444444444,
              "#bd3786"
             ],
             [
              0.5555555555555556,
              "#d8576b"
             ],
             [
              0.6666666666666666,
              "#ed7953"
             ],
             [
              0.7777777777777778,
              "#fb9f3a"
             ],
             [
              0.8888888888888888,
              "#fdca26"
             ],
             [
              1,
              "#f0f921"
             ]
            ],
            "type": "heatmapgl"
           }
          ],
          "histogram": [
           {
            "marker": {
             "pattern": {
              "fillmode": "overlay",
              "size": 10,
              "solidity": 0.2
             }
            },
            "type": "histogram"
           }
          ],
          "histogram2d": [
           {
            "colorbar": {
             "outlinewidth": 0,
             "ticks": ""
            },
            "colorscale": [
             [
              0,
              "#0d0887"
             ],
             [
              0.1111111111111111,
              "#46039f"
             ],
             [
              0.2222222222222222,
              "#7201a8"
             ],
             [
              0.3333333333333333,
              "#9c179e"
             ],
             [
              0.4444444444444444,
              "#bd3786"
             ],
             [
              0.5555555555555556,
              "#d8576b"
             ],
             [
              0.6666666666666666,
              "#ed7953"
             ],
             [
              0.7777777777777778,
              "#fb9f3a"
             ],
             [
              0.8888888888888888,
              "#fdca26"
             ],
             [
              1,
              "#f0f921"
             ]
            ],
            "type": "histogram2d"
           }
          ],
          "histogram2dcontour": [
           {
            "colorbar": {
             "outlinewidth": 0,
             "ticks": ""
            },
            "colorscale": [
             [
              0,
              "#0d0887"
             ],
             [
              0.1111111111111111,
              "#46039f"
             ],
             [
              0.2222222222222222,
              "#7201a8"
             ],
             [
              0.3333333333333333,
              "#9c179e"
             ],
             [
              0.4444444444444444,
              "#bd3786"
             ],
             [
              0.5555555555555556,
              "#d8576b"
             ],
             [
              0.6666666666666666,
              "#ed7953"
             ],
             [
              0.7777777777777778,
              "#fb9f3a"
             ],
             [
              0.8888888888888888,
              "#fdca26"
             ],
             [
              1,
              "#f0f921"
             ]
            ],
            "type": "histogram2dcontour"
           }
          ],
          "mesh3d": [
           {
            "colorbar": {
             "outlinewidth": 0,
             "ticks": ""
            },
            "type": "mesh3d"
           }
          ],
          "parcoords": [
           {
            "line": {
             "colorbar": {
              "outlinewidth": 0,
              "ticks": ""
             }
            },
            "type": "parcoords"
           }
          ],
          "pie": [
           {
            "automargin": true,
            "type": "pie"
           }
          ],
          "scatter": [
           {
            "marker": {
             "colorbar": {
              "outlinewidth": 0,
              "ticks": ""
             }
            },
            "type": "scatter"
           }
          ],
          "scatter3d": [
           {
            "line": {
             "colorbar": {
              "outlinewidth": 0,
              "ticks": ""
             }
            },
            "marker": {
             "colorbar": {
              "outlinewidth": 0,
              "ticks": ""
             }
            },
            "type": "scatter3d"
           }
          ],
          "scattercarpet": [
           {
            "marker": {
             "colorbar": {
              "outlinewidth": 0,
              "ticks": ""
             }
            },
            "type": "scattercarpet"
           }
          ],
          "scattergeo": [
           {
            "marker": {
             "colorbar": {
              "outlinewidth": 0,
              "ticks": ""
             }
            },
            "type": "scattergeo"
           }
          ],
          "scattergl": [
           {
            "marker": {
             "colorbar": {
              "outlinewidth": 0,
              "ticks": ""
             }
            },
            "type": "scattergl"
           }
          ],
          "scattermapbox": [
           {
            "marker": {
             "colorbar": {
              "outlinewidth": 0,
              "ticks": ""
             }
            },
            "type": "scattermapbox"
           }
          ],
          "scatterpolar": [
           {
            "marker": {
             "colorbar": {
              "outlinewidth": 0,
              "ticks": ""
             }
            },
            "type": "scatterpolar"
           }
          ],
          "scatterpolargl": [
           {
            "marker": {
             "colorbar": {
              "outlinewidth": 0,
              "ticks": ""
             }
            },
            "type": "scatterpolargl"
           }
          ],
          "scatterternary": [
           {
            "marker": {
             "colorbar": {
              "outlinewidth": 0,
              "ticks": ""
             }
            },
            "type": "scatterternary"
           }
          ],
          "surface": [
           {
            "colorbar": {
             "outlinewidth": 0,
             "ticks": ""
            },
            "colorscale": [
             [
              0,
              "#0d0887"
             ],
             [
              0.1111111111111111,
              "#46039f"
             ],
             [
              0.2222222222222222,
              "#7201a8"
             ],
             [
              0.3333333333333333,
              "#9c179e"
             ],
             [
              0.4444444444444444,
              "#bd3786"
             ],
             [
              0.5555555555555556,
              "#d8576b"
             ],
             [
              0.6666666666666666,
              "#ed7953"
             ],
             [
              0.7777777777777778,
              "#fb9f3a"
             ],
             [
              0.8888888888888888,
              "#fdca26"
             ],
             [
              1,
              "#f0f921"
             ]
            ],
            "type": "surface"
           }
          ],
          "table": [
           {
            "cells": {
             "fill": {
              "color": "#EBF0F8"
             },
             "line": {
              "color": "white"
             }
            },
            "header": {
             "fill": {
              "color": "#C8D4E3"
             },
             "line": {
              "color": "white"
             }
            },
            "type": "table"
           }
          ]
         },
         "layout": {
          "annotationdefaults": {
           "arrowcolor": "#2a3f5f",
           "arrowhead": 0,
           "arrowwidth": 1
          },
          "autotypenumbers": "strict",
          "coloraxis": {
           "colorbar": {
            "outlinewidth": 0,
            "ticks": ""
           }
          },
          "colorscale": {
           "diverging": [
            [
             0,
             "#8e0152"
            ],
            [
             0.1,
             "#c51b7d"
            ],
            [
             0.2,
             "#de77ae"
            ],
            [
             0.3,
             "#f1b6da"
            ],
            [
             0.4,
             "#fde0ef"
            ],
            [
             0.5,
             "#f7f7f7"
            ],
            [
             0.6,
             "#e6f5d0"
            ],
            [
             0.7,
             "#b8e186"
            ],
            [
             0.8,
             "#7fbc41"
            ],
            [
             0.9,
             "#4d9221"
            ],
            [
             1,
             "#276419"
            ]
           ],
           "sequential": [
            [
             0,
             "#0d0887"
            ],
            [
             0.1111111111111111,
             "#46039f"
            ],
            [
             0.2222222222222222,
             "#7201a8"
            ],
            [
             0.3333333333333333,
             "#9c179e"
            ],
            [
             0.4444444444444444,
             "#bd3786"
            ],
            [
             0.5555555555555556,
             "#d8576b"
            ],
            [
             0.6666666666666666,
             "#ed7953"
            ],
            [
             0.7777777777777778,
             "#fb9f3a"
            ],
            [
             0.8888888888888888,
             "#fdca26"
            ],
            [
             1,
             "#f0f921"
            ]
           ],
           "sequentialminus": [
            [
             0,
             "#0d0887"
            ],
            [
             0.1111111111111111,
             "#46039f"
            ],
            [
             0.2222222222222222,
             "#7201a8"
            ],
            [
             0.3333333333333333,
             "#9c179e"
            ],
            [
             0.4444444444444444,
             "#bd3786"
            ],
            [
             0.5555555555555556,
             "#d8576b"
            ],
            [
             0.6666666666666666,
             "#ed7953"
            ],
            [
             0.7777777777777778,
             "#fb9f3a"
            ],
            [
             0.8888888888888888,
             "#fdca26"
            ],
            [
             1,
             "#f0f921"
            ]
           ]
          },
          "colorway": [
           "#636efa",
           "#EF553B",
           "#00cc96",
           "#ab63fa",
           "#FFA15A",
           "#19d3f3",
           "#FF6692",
           "#B6E880",
           "#FF97FF",
           "#FECB52"
          ],
          "font": {
           "color": "#2a3f5f"
          },
          "geo": {
           "bgcolor": "white",
           "lakecolor": "white",
           "landcolor": "#E5ECF6",
           "showlakes": true,
           "showland": true,
           "subunitcolor": "white"
          },
          "hoverlabel": {
           "align": "left"
          },
          "hovermode": "closest",
          "mapbox": {
           "style": "light"
          },
          "paper_bgcolor": "white",
          "plot_bgcolor": "#E5ECF6",
          "polar": {
           "angularaxis": {
            "gridcolor": "white",
            "linecolor": "white",
            "ticks": ""
           },
           "bgcolor": "#E5ECF6",
           "radialaxis": {
            "gridcolor": "white",
            "linecolor": "white",
            "ticks": ""
           }
          },
          "scene": {
           "xaxis": {
            "backgroundcolor": "#E5ECF6",
            "gridcolor": "white",
            "gridwidth": 2,
            "linecolor": "white",
            "showbackground": true,
            "ticks": "",
            "zerolinecolor": "white"
           },
           "yaxis": {
            "backgroundcolor": "#E5ECF6",
            "gridcolor": "white",
            "gridwidth": 2,
            "linecolor": "white",
            "showbackground": true,
            "ticks": "",
            "zerolinecolor": "white"
           },
           "zaxis": {
            "backgroundcolor": "#E5ECF6",
            "gridcolor": "white",
            "gridwidth": 2,
            "linecolor": "white",
            "showbackground": true,
            "ticks": "",
            "zerolinecolor": "white"
           }
          },
          "shapedefaults": {
           "line": {
            "color": "#2a3f5f"
           }
          },
          "ternary": {
           "aaxis": {
            "gridcolor": "white",
            "linecolor": "white",
            "ticks": ""
           },
           "baxis": {
            "gridcolor": "white",
            "linecolor": "white",
            "ticks": ""
           },
           "bgcolor": "#E5ECF6",
           "caxis": {
            "gridcolor": "white",
            "linecolor": "white",
            "ticks": ""
           }
          },
          "title": {
           "x": 0.05
          },
          "xaxis": {
           "automargin": true,
           "gridcolor": "white",
           "linecolor": "white",
           "ticks": "",
           "title": {
            "standoff": 15
           },
           "zerolinecolor": "white",
           "zerolinewidth": 2
          },
          "yaxis": {
           "automargin": true,
           "gridcolor": "white",
           "linecolor": "white",
           "ticks": "",
           "title": {
            "standoff": 15
           },
           "zerolinecolor": "white",
           "zerolinewidth": 2
          }
         }
        }
       }
      },
      "text/html": [
       "<div>                            <div id=\"380d9b39-b2f2-4e1f-8c46-6184d1fac3c3\" class=\"plotly-graph-div\" style=\"height:525px; width:100%;\"></div>            <script type=\"text/javascript\">                require([\"plotly\"], function(Plotly) {                    window.PLOTLYENV=window.PLOTLYENV || {};                                    if (document.getElementById(\"380d9b39-b2f2-4e1f-8c46-6184d1fac3c3\")) {                    Plotly.newPlot(                        \"380d9b39-b2f2-4e1f-8c46-6184d1fac3c3\",                        [{\"labels\":[\"\\u043a\\u0430\\u0444\\u0435\",\"\\u0441\\u0442\\u043e\\u043b\\u043e\\u0432\\u0430\\u044f\",\"\\u0440\\u0435\\u0441\\u0442\\u043e\\u0440\\u0430\\u043d\",\"\\u043f\\u0440\\u0435\\u0434\\u043f\\u0440\\u0438\\u044f\\u0442\\u0438\\u0435 \\u0431\\u044b\\u0441\\u0442\\u0440\\u043e\\u0433\\u043e \\u043e\\u0431\\u0441\\u043b\\u0443\\u0436\\u0438\\u0432\\u0430\\u043d\\u0438\\u044f\",\"\\u0431\\u0430\\u0440\",\"\\u0431\\u0443\\u0444\\u0435\\u0442\",\"\\u043a\\u0430\\u0444\\u0435\\u0442\\u0435\\u0440\\u0438\\u0439\",\"\\u0437\\u0430\\u043a\\u0443\\u0441\\u043e\\u0447\\u043d\\u0430\\u044f\",\"\\u043c\\u0430\\u0433\\u0430\\u0437\\u0438\\u043d (\\u043e\\u0442\\u0434\\u0435\\u043b \\u043a\\u0443\\u043b\\u0438\\u043d\\u0430\\u0440\\u0438\\u0438)\"],\"title\":{\"text\":\"\\u0421\\u043e\\u043e\\u0442\\u043d\\u043e\\u0448\\u0435\\u043d\\u0438\\u0435 \\u0432\\u0438\\u0434\\u043e\\u0432 \\u043e\\u0431\\u044a\\u0435\\u043a\\u0442\\u043e\\u0432 \\u043e\\u0431\\u0449\\u0435\\u0441\\u0442\\u0432\\u0435\\u043d\\u043d\\u043e\\u0433\\u043e \\u043f\\u0438\\u0442\\u0430\\u043d\\u0438\\u044f \\u043f\\u043e \\u043a\\u043e\\u043b\\u0438\\u0447\\u0435\\u0441\\u0442\\u0432\\u0443\"},\"values\":[6099,2587,2285,1923,856,585,398,360,273],\"type\":\"pie\"}],                        {\"template\":{\"data\":{\"bar\":[{\"error_x\":{\"color\":\"#2a3f5f\"},\"error_y\":{\"color\":\"#2a3f5f\"},\"marker\":{\"line\":{\"color\":\"#E5ECF6\",\"width\":0.5},\"pattern\":{\"fillmode\":\"overlay\",\"size\":10,\"solidity\":0.2}},\"type\":\"bar\"}],\"barpolar\":[{\"marker\":{\"line\":{\"color\":\"#E5ECF6\",\"width\":0.5},\"pattern\":{\"fillmode\":\"overlay\",\"size\":10,\"solidity\":0.2}},\"type\":\"barpolar\"}],\"carpet\":[{\"aaxis\":{\"endlinecolor\":\"#2a3f5f\",\"gridcolor\":\"white\",\"linecolor\":\"white\",\"minorgridcolor\":\"white\",\"startlinecolor\":\"#2a3f5f\"},\"baxis\":{\"endlinecolor\":\"#2a3f5f\",\"gridcolor\":\"white\",\"linecolor\":\"white\",\"minorgridcolor\":\"white\",\"startlinecolor\":\"#2a3f5f\"},\"type\":\"carpet\"}],\"choropleth\":[{\"colorbar\":{\"outlinewidth\":0,\"ticks\":\"\"},\"type\":\"choropleth\"}],\"contour\":[{\"colorbar\":{\"outlinewidth\":0,\"ticks\":\"\"},\"colorscale\":[[0.0,\"#0d0887\"],[0.1111111111111111,\"#46039f\"],[0.2222222222222222,\"#7201a8\"],[0.3333333333333333,\"#9c179e\"],[0.4444444444444444,\"#bd3786\"],[0.5555555555555556,\"#d8576b\"],[0.6666666666666666,\"#ed7953\"],[0.7777777777777778,\"#fb9f3a\"],[0.8888888888888888,\"#fdca26\"],[1.0,\"#f0f921\"]],\"type\":\"contour\"}],\"contourcarpet\":[{\"colorbar\":{\"outlinewidth\":0,\"ticks\":\"\"},\"type\":\"contourcarpet\"}],\"heatmap\":[{\"colorbar\":{\"outlinewidth\":0,\"ticks\":\"\"},\"colorscale\":[[0.0,\"#0d0887\"],[0.1111111111111111,\"#46039f\"],[0.2222222222222222,\"#7201a8\"],[0.3333333333333333,\"#9c179e\"],[0.4444444444444444,\"#bd3786\"],[0.5555555555555556,\"#d8576b\"],[0.6666666666666666,\"#ed7953\"],[0.7777777777777778,\"#fb9f3a\"],[0.8888888888888888,\"#fdca26\"],[1.0,\"#f0f921\"]],\"type\":\"heatmap\"}],\"heatmapgl\":[{\"colorbar\":{\"outlinewidth\":0,\"ticks\":\"\"},\"colorscale\":[[0.0,\"#0d0887\"],[0.1111111111111111,\"#46039f\"],[0.2222222222222222,\"#7201a8\"],[0.3333333333333333,\"#9c179e\"],[0.4444444444444444,\"#bd3786\"],[0.5555555555555556,\"#d8576b\"],[0.6666666666666666,\"#ed7953\"],[0.7777777777777778,\"#fb9f3a\"],[0.8888888888888888,\"#fdca26\"],[1.0,\"#f0f921\"]],\"type\":\"heatmapgl\"}],\"histogram\":[{\"marker\":{\"pattern\":{\"fillmode\":\"overlay\",\"size\":10,\"solidity\":0.2}},\"type\":\"histogram\"}],\"histogram2d\":[{\"colorbar\":{\"outlinewidth\":0,\"ticks\":\"\"},\"colorscale\":[[0.0,\"#0d0887\"],[0.1111111111111111,\"#46039f\"],[0.2222222222222222,\"#7201a8\"],[0.3333333333333333,\"#9c179e\"],[0.4444444444444444,\"#bd3786\"],[0.5555555555555556,\"#d8576b\"],[0.6666666666666666,\"#ed7953\"],[0.7777777777777778,\"#fb9f3a\"],[0.8888888888888888,\"#fdca26\"],[1.0,\"#f0f921\"]],\"type\":\"histogram2d\"}],\"histogram2dcontour\":[{\"colorbar\":{\"outlinewidth\":0,\"ticks\":\"\"},\"colorscale\":[[0.0,\"#0d0887\"],[0.1111111111111111,\"#46039f\"],[0.2222222222222222,\"#7201a8\"],[0.3333333333333333,\"#9c179e\"],[0.4444444444444444,\"#bd3786\"],[0.5555555555555556,\"#d8576b\"],[0.6666666666666666,\"#ed7953\"],[0.7777777777777778,\"#fb9f3a\"],[0.8888888888888888,\"#fdca26\"],[1.0,\"#f0f921\"]],\"type\":\"histogram2dcontour\"}],\"mesh3d\":[{\"colorbar\":{\"outlinewidth\":0,\"ticks\":\"\"},\"type\":\"mesh3d\"}],\"parcoords\":[{\"line\":{\"colorbar\":{\"outlinewidth\":0,\"ticks\":\"\"}},\"type\":\"parcoords\"}],\"pie\":[{\"automargin\":true,\"type\":\"pie\"}],\"scatter\":[{\"marker\":{\"colorbar\":{\"outlinewidth\":0,\"ticks\":\"\"}},\"type\":\"scatter\"}],\"scatter3d\":[{\"line\":{\"colorbar\":{\"outlinewidth\":0,\"ticks\":\"\"}},\"marker\":{\"colorbar\":{\"outlinewidth\":0,\"ticks\":\"\"}},\"type\":\"scatter3d\"}],\"scattercarpet\":[{\"marker\":{\"colorbar\":{\"outlinewidth\":0,\"ticks\":\"\"}},\"type\":\"scattercarpet\"}],\"scattergeo\":[{\"marker\":{\"colorbar\":{\"outlinewidth\":0,\"ticks\":\"\"}},\"type\":\"scattergeo\"}],\"scattergl\":[{\"marker\":{\"colorbar\":{\"outlinewidth\":0,\"ticks\":\"\"}},\"type\":\"scattergl\"}],\"scattermapbox\":[{\"marker\":{\"colorbar\":{\"outlinewidth\":0,\"ticks\":\"\"}},\"type\":\"scattermapbox\"}],\"scatterpolar\":[{\"marker\":{\"colorbar\":{\"outlinewidth\":0,\"ticks\":\"\"}},\"type\":\"scatterpolar\"}],\"scatterpolargl\":[{\"marker\":{\"colorbar\":{\"outlinewidth\":0,\"ticks\":\"\"}},\"type\":\"scatterpolargl\"}],\"scatterternary\":[{\"marker\":{\"colorbar\":{\"outlinewidth\":0,\"ticks\":\"\"}},\"type\":\"scatterternary\"}],\"surface\":[{\"colorbar\":{\"outlinewidth\":0,\"ticks\":\"\"},\"colorscale\":[[0.0,\"#0d0887\"],[0.1111111111111111,\"#46039f\"],[0.2222222222222222,\"#7201a8\"],[0.3333333333333333,\"#9c179e\"],[0.4444444444444444,\"#bd3786\"],[0.5555555555555556,\"#d8576b\"],[0.6666666666666666,\"#ed7953\"],[0.7777777777777778,\"#fb9f3a\"],[0.8888888888888888,\"#fdca26\"],[1.0,\"#f0f921\"]],\"type\":\"surface\"}],\"table\":[{\"cells\":{\"fill\":{\"color\":\"#EBF0F8\"},\"line\":{\"color\":\"white\"}},\"header\":{\"fill\":{\"color\":\"#C8D4E3\"},\"line\":{\"color\":\"white\"}},\"type\":\"table\"}]},\"layout\":{\"annotationdefaults\":{\"arrowcolor\":\"#2a3f5f\",\"arrowhead\":0,\"arrowwidth\":1},\"autotypenumbers\":\"strict\",\"coloraxis\":{\"colorbar\":{\"outlinewidth\":0,\"ticks\":\"\"}},\"colorscale\":{\"diverging\":[[0,\"#8e0152\"],[0.1,\"#c51b7d\"],[0.2,\"#de77ae\"],[0.3,\"#f1b6da\"],[0.4,\"#fde0ef\"],[0.5,\"#f7f7f7\"],[0.6,\"#e6f5d0\"],[0.7,\"#b8e186\"],[0.8,\"#7fbc41\"],[0.9,\"#4d9221\"],[1,\"#276419\"]],\"sequential\":[[0.0,\"#0d0887\"],[0.1111111111111111,\"#46039f\"],[0.2222222222222222,\"#7201a8\"],[0.3333333333333333,\"#9c179e\"],[0.4444444444444444,\"#bd3786\"],[0.5555555555555556,\"#d8576b\"],[0.6666666666666666,\"#ed7953\"],[0.7777777777777778,\"#fb9f3a\"],[0.8888888888888888,\"#fdca26\"],[1.0,\"#f0f921\"]],\"sequentialminus\":[[0.0,\"#0d0887\"],[0.1111111111111111,\"#46039f\"],[0.2222222222222222,\"#7201a8\"],[0.3333333333333333,\"#9c179e\"],[0.4444444444444444,\"#bd3786\"],[0.5555555555555556,\"#d8576b\"],[0.6666666666666666,\"#ed7953\"],[0.7777777777777778,\"#fb9f3a\"],[0.8888888888888888,\"#fdca26\"],[1.0,\"#f0f921\"]]},\"colorway\":[\"#636efa\",\"#EF553B\",\"#00cc96\",\"#ab63fa\",\"#FFA15A\",\"#19d3f3\",\"#FF6692\",\"#B6E880\",\"#FF97FF\",\"#FECB52\"],\"font\":{\"color\":\"#2a3f5f\"},\"geo\":{\"bgcolor\":\"white\",\"lakecolor\":\"white\",\"landcolor\":\"#E5ECF6\",\"showlakes\":true,\"showland\":true,\"subunitcolor\":\"white\"},\"hoverlabel\":{\"align\":\"left\"},\"hovermode\":\"closest\",\"mapbox\":{\"style\":\"light\"},\"paper_bgcolor\":\"white\",\"plot_bgcolor\":\"#E5ECF6\",\"polar\":{\"angularaxis\":{\"gridcolor\":\"white\",\"linecolor\":\"white\",\"ticks\":\"\"},\"bgcolor\":\"#E5ECF6\",\"radialaxis\":{\"gridcolor\":\"white\",\"linecolor\":\"white\",\"ticks\":\"\"}},\"scene\":{\"xaxis\":{\"backgroundcolor\":\"#E5ECF6\",\"gridcolor\":\"white\",\"gridwidth\":2,\"linecolor\":\"white\",\"showbackground\":true,\"ticks\":\"\",\"zerolinecolor\":\"white\"},\"yaxis\":{\"backgroundcolor\":\"#E5ECF6\",\"gridcolor\":\"white\",\"gridwidth\":2,\"linecolor\":\"white\",\"showbackground\":true,\"ticks\":\"\",\"zerolinecolor\":\"white\"},\"zaxis\":{\"backgroundcolor\":\"#E5ECF6\",\"gridcolor\":\"white\",\"gridwidth\":2,\"linecolor\":\"white\",\"showbackground\":true,\"ticks\":\"\",\"zerolinecolor\":\"white\"}},\"shapedefaults\":{\"line\":{\"color\":\"#2a3f5f\"}},\"ternary\":{\"aaxis\":{\"gridcolor\":\"white\",\"linecolor\":\"white\",\"ticks\":\"\"},\"baxis\":{\"gridcolor\":\"white\",\"linecolor\":\"white\",\"ticks\":\"\"},\"bgcolor\":\"#E5ECF6\",\"caxis\":{\"gridcolor\":\"white\",\"linecolor\":\"white\",\"ticks\":\"\"}},\"title\":{\"x\":0.05},\"xaxis\":{\"automargin\":true,\"gridcolor\":\"white\",\"linecolor\":\"white\",\"ticks\":\"\",\"title\":{\"standoff\":15},\"zerolinecolor\":\"white\",\"zerolinewidth\":2},\"yaxis\":{\"automargin\":true,\"gridcolor\":\"white\",\"linecolor\":\"white\",\"ticks\":\"\",\"title\":{\"standoff\":15},\"zerolinecolor\":\"white\",\"zerolinewidth\":2}}}},                        {\"responsive\": true}                    ).then(function(){\n",
       "                            \n",
       "var gd = document.getElementById('380d9b39-b2f2-4e1f-8c46-6184d1fac3c3');\n",
       "var x = new MutationObserver(function (mutations, observer) {{\n",
       "        var display = window.getComputedStyle(gd).display;\n",
       "        if (!display || display === 'none') {{\n",
       "            console.log([gd, 'removed!']);\n",
       "            Plotly.purge(gd);\n",
       "            observer.disconnect();\n",
       "        }}\n",
       "}});\n",
       "\n",
       "// Listen for the removal of the full notebook cells\n",
       "var notebookContainer = gd.closest('#notebook-container');\n",
       "if (notebookContainer) {{\n",
       "    x.observe(notebookContainer, {childList: true});\n",
       "}}\n",
       "\n",
       "// Listen for the clearing of the current output cell\n",
       "var outputEl = gd.closest('.output');\n",
       "if (outputEl) {{\n",
       "    x.observe(outputEl, {childList: true});\n",
       "}}\n",
       "\n",
       "                        })                };                });            </script>        </div>"
      ]
     },
     "metadata": {},
     "output_type": "display_data"
    }
   ],
   "source": [
    "# построим график\n",
    "from plotly import graph_objects as go\n",
    "\n",
    "labels = rest_data_pie['object_type']\n",
    "values = rest_data_pie['object_name']\n",
    "\n",
    "fig = go.Figure(data=[go.Pie(labels=labels, values=values\n",
    "                             ,title='Соотношение видов объектов общественного питания по количеству')])\n",
    "fig.show()\n"
   ]
  },
  {
   "cell_type": "markdown",
   "id": "0e008d36",
   "metadata": {},
   "source": [
    "*Промежуточный вывод*\n",
    "\n",
    " В результате исследования соотношения видов объектов общественного питания по количеству установлено, что подавляющее большинство объектов 39,7 % относятся к кафе, следующий в рейтинге -столовые 16,8 %, рестораны третьи по количеству-14,9%, предприятие быстрого обслуживания -12,5%. Доли остальных заведений не превышают 7%.\n"
   ]
  },
  {
   "cell_type": "markdown",
   "id": "c654b378",
   "metadata": {},
   "source": [
    "## Исследование соотношения сетевых и несетевых заведений по количеству. Построение графика."
   ]
  },
  {
   "cell_type": "code",
   "execution_count": 95,
   "id": "5af8c5cc",
   "metadata": {},
   "outputs": [
    {
     "data": {
      "text/html": [
       "<div>\n",
       "<style scoped>\n",
       "    .dataframe tbody tr th:only-of-type {\n",
       "        vertical-align: middle;\n",
       "    }\n",
       "\n",
       "    .dataframe tbody tr th {\n",
       "        vertical-align: top;\n",
       "    }\n",
       "\n",
       "    .dataframe thead th {\n",
       "        text-align: right;\n",
       "    }\n",
       "</style>\n",
       "<table border=\"1\" class=\"dataframe\">\n",
       "  <thead>\n",
       "    <tr style=\"text-align: right;\">\n",
       "      <th></th>\n",
       "      <th>chain</th>\n",
       "      <th>id</th>\n",
       "      <th>object_name</th>\n",
       "      <th>object_type</th>\n",
       "      <th>address</th>\n",
       "      <th>number</th>\n",
       "    </tr>\n",
       "  </thead>\n",
       "  <tbody>\n",
       "    <tr>\n",
       "      <th>1</th>\n",
       "      <td>нет</td>\n",
       "      <td>12398</td>\n",
       "      <td>12398</td>\n",
       "      <td>12398</td>\n",
       "      <td>12398</td>\n",
       "      <td>12398</td>\n",
       "    </tr>\n",
       "    <tr>\n",
       "      <th>0</th>\n",
       "      <td>да</td>\n",
       "      <td>2968</td>\n",
       "      <td>2968</td>\n",
       "      <td>2968</td>\n",
       "      <td>2968</td>\n",
       "      <td>2968</td>\n",
       "    </tr>\n",
       "  </tbody>\n",
       "</table>\n",
       "</div>"
      ],
      "text/plain": [
       "  chain     id  object_name  object_type  address  number\n",
       "1   нет  12398        12398        12398    12398   12398\n",
       "0    да   2968         2968         2968     2968    2968"
      ]
     },
     "metadata": {},
     "output_type": "display_data"
    }
   ],
   "source": [
    "# сохраним в переменной rest_data_chain необходимые данные\n",
    "rest_data_chain = rest_data.groupby(['chain']).count().reset_index(0).sort_values(by=['object_name']\n",
    "                                                                                     ,ascending=False)\n",
    "# выведем на печать rest_data_chain\n",
    "display(rest_data_chain)"
   ]
  },
  {
   "cell_type": "code",
   "execution_count": 96,
   "id": "34202a89",
   "metadata": {},
   "outputs": [
    {
     "data": {
      "application/vnd.plotly.v1+json": {
       "config": {
        "plotlyServerURL": "https://plot.ly"
       },
       "data": [
        {
         "labels": [
          "нет",
          "да"
         ],
         "title": {
          "text": "Соотношение количества сетевых и несетевых заведений"
         },
         "type": "pie",
         "values": [
          12398,
          2968
         ]
        }
       ],
       "layout": {
        "template": {
         "data": {
          "bar": [
           {
            "error_x": {
             "color": "#2a3f5f"
            },
            "error_y": {
             "color": "#2a3f5f"
            },
            "marker": {
             "line": {
              "color": "#E5ECF6",
              "width": 0.5
             },
             "pattern": {
              "fillmode": "overlay",
              "size": 10,
              "solidity": 0.2
             }
            },
            "type": "bar"
           }
          ],
          "barpolar": [
           {
            "marker": {
             "line": {
              "color": "#E5ECF6",
              "width": 0.5
             },
             "pattern": {
              "fillmode": "overlay",
              "size": 10,
              "solidity": 0.2
             }
            },
            "type": "barpolar"
           }
          ],
          "carpet": [
           {
            "aaxis": {
             "endlinecolor": "#2a3f5f",
             "gridcolor": "white",
             "linecolor": "white",
             "minorgridcolor": "white",
             "startlinecolor": "#2a3f5f"
            },
            "baxis": {
             "endlinecolor": "#2a3f5f",
             "gridcolor": "white",
             "linecolor": "white",
             "minorgridcolor": "white",
             "startlinecolor": "#2a3f5f"
            },
            "type": "carpet"
           }
          ],
          "choropleth": [
           {
            "colorbar": {
             "outlinewidth": 0,
             "ticks": ""
            },
            "type": "choropleth"
           }
          ],
          "contour": [
           {
            "colorbar": {
             "outlinewidth": 0,
             "ticks": ""
            },
            "colorscale": [
             [
              0,
              "#0d0887"
             ],
             [
              0.1111111111111111,
              "#46039f"
             ],
             [
              0.2222222222222222,
              "#7201a8"
             ],
             [
              0.3333333333333333,
              "#9c179e"
             ],
             [
              0.4444444444444444,
              "#bd3786"
             ],
             [
              0.5555555555555556,
              "#d8576b"
             ],
             [
              0.6666666666666666,
              "#ed7953"
             ],
             [
              0.7777777777777778,
              "#fb9f3a"
             ],
             [
              0.8888888888888888,
              "#fdca26"
             ],
             [
              1,
              "#f0f921"
             ]
            ],
            "type": "contour"
           }
          ],
          "contourcarpet": [
           {
            "colorbar": {
             "outlinewidth": 0,
             "ticks": ""
            },
            "type": "contourcarpet"
           }
          ],
          "heatmap": [
           {
            "colorbar": {
             "outlinewidth": 0,
             "ticks": ""
            },
            "colorscale": [
             [
              0,
              "#0d0887"
             ],
             [
              0.1111111111111111,
              "#46039f"
             ],
             [
              0.2222222222222222,
              "#7201a8"
             ],
             [
              0.3333333333333333,
              "#9c179e"
             ],
             [
              0.4444444444444444,
              "#bd3786"
             ],
             [
              0.5555555555555556,
              "#d8576b"
             ],
             [
              0.6666666666666666,
              "#ed7953"
             ],
             [
              0.7777777777777778,
              "#fb9f3a"
             ],
             [
              0.8888888888888888,
              "#fdca26"
             ],
             [
              1,
              "#f0f921"
             ]
            ],
            "type": "heatmap"
           }
          ],
          "heatmapgl": [
           {
            "colorbar": {
             "outlinewidth": 0,
             "ticks": ""
            },
            "colorscale": [
             [
              0,
              "#0d0887"
             ],
             [
              0.1111111111111111,
              "#46039f"
             ],
             [
              0.2222222222222222,
              "#7201a8"
             ],
             [
              0.3333333333333333,
              "#9c179e"
             ],
             [
              0.4444444444444444,
              "#bd3786"
             ],
             [
              0.5555555555555556,
              "#d8576b"
             ],
             [
              0.6666666666666666,
              "#ed7953"
             ],
             [
              0.7777777777777778,
              "#fb9f3a"
             ],
             [
              0.8888888888888888,
              "#fdca26"
             ],
             [
              1,
              "#f0f921"
             ]
            ],
            "type": "heatmapgl"
           }
          ],
          "histogram": [
           {
            "marker": {
             "pattern": {
              "fillmode": "overlay",
              "size": 10,
              "solidity": 0.2
             }
            },
            "type": "histogram"
           }
          ],
          "histogram2d": [
           {
            "colorbar": {
             "outlinewidth": 0,
             "ticks": ""
            },
            "colorscale": [
             [
              0,
              "#0d0887"
             ],
             [
              0.1111111111111111,
              "#46039f"
             ],
             [
              0.2222222222222222,
              "#7201a8"
             ],
             [
              0.3333333333333333,
              "#9c179e"
             ],
             [
              0.4444444444444444,
              "#bd3786"
             ],
             [
              0.5555555555555556,
              "#d8576b"
             ],
             [
              0.6666666666666666,
              "#ed7953"
             ],
             [
              0.7777777777777778,
              "#fb9f3a"
             ],
             [
              0.8888888888888888,
              "#fdca26"
             ],
             [
              1,
              "#f0f921"
             ]
            ],
            "type": "histogram2d"
           }
          ],
          "histogram2dcontour": [
           {
            "colorbar": {
             "outlinewidth": 0,
             "ticks": ""
            },
            "colorscale": [
             [
              0,
              "#0d0887"
             ],
             [
              0.1111111111111111,
              "#46039f"
             ],
             [
              0.2222222222222222,
              "#7201a8"
             ],
             [
              0.3333333333333333,
              "#9c179e"
             ],
             [
              0.4444444444444444,
              "#bd3786"
             ],
             [
              0.5555555555555556,
              "#d8576b"
             ],
             [
              0.6666666666666666,
              "#ed7953"
             ],
             [
              0.7777777777777778,
              "#fb9f3a"
             ],
             [
              0.8888888888888888,
              "#fdca26"
             ],
             [
              1,
              "#f0f921"
             ]
            ],
            "type": "histogram2dcontour"
           }
          ],
          "mesh3d": [
           {
            "colorbar": {
             "outlinewidth": 0,
             "ticks": ""
            },
            "type": "mesh3d"
           }
          ],
          "parcoords": [
           {
            "line": {
             "colorbar": {
              "outlinewidth": 0,
              "ticks": ""
             }
            },
            "type": "parcoords"
           }
          ],
          "pie": [
           {
            "automargin": true,
            "type": "pie"
           }
          ],
          "scatter": [
           {
            "marker": {
             "colorbar": {
              "outlinewidth": 0,
              "ticks": ""
             }
            },
            "type": "scatter"
           }
          ],
          "scatter3d": [
           {
            "line": {
             "colorbar": {
              "outlinewidth": 0,
              "ticks": ""
             }
            },
            "marker": {
             "colorbar": {
              "outlinewidth": 0,
              "ticks": ""
             }
            },
            "type": "scatter3d"
           }
          ],
          "scattercarpet": [
           {
            "marker": {
             "colorbar": {
              "outlinewidth": 0,
              "ticks": ""
             }
            },
            "type": "scattercarpet"
           }
          ],
          "scattergeo": [
           {
            "marker": {
             "colorbar": {
              "outlinewidth": 0,
              "ticks": ""
             }
            },
            "type": "scattergeo"
           }
          ],
          "scattergl": [
           {
            "marker": {
             "colorbar": {
              "outlinewidth": 0,
              "ticks": ""
             }
            },
            "type": "scattergl"
           }
          ],
          "scattermapbox": [
           {
            "marker": {
             "colorbar": {
              "outlinewidth": 0,
              "ticks": ""
             }
            },
            "type": "scattermapbox"
           }
          ],
          "scatterpolar": [
           {
            "marker": {
             "colorbar": {
              "outlinewidth": 0,
              "ticks": ""
             }
            },
            "type": "scatterpolar"
           }
          ],
          "scatterpolargl": [
           {
            "marker": {
             "colorbar": {
              "outlinewidth": 0,
              "ticks": ""
             }
            },
            "type": "scatterpolargl"
           }
          ],
          "scatterternary": [
           {
            "marker": {
             "colorbar": {
              "outlinewidth": 0,
              "ticks": ""
             }
            },
            "type": "scatterternary"
           }
          ],
          "surface": [
           {
            "colorbar": {
             "outlinewidth": 0,
             "ticks": ""
            },
            "colorscale": [
             [
              0,
              "#0d0887"
             ],
             [
              0.1111111111111111,
              "#46039f"
             ],
             [
              0.2222222222222222,
              "#7201a8"
             ],
             [
              0.3333333333333333,
              "#9c179e"
             ],
             [
              0.4444444444444444,
              "#bd3786"
             ],
             [
              0.5555555555555556,
              "#d8576b"
             ],
             [
              0.6666666666666666,
              "#ed7953"
             ],
             [
              0.7777777777777778,
              "#fb9f3a"
             ],
             [
              0.8888888888888888,
              "#fdca26"
             ],
             [
              1,
              "#f0f921"
             ]
            ],
            "type": "surface"
           }
          ],
          "table": [
           {
            "cells": {
             "fill": {
              "color": "#EBF0F8"
             },
             "line": {
              "color": "white"
             }
            },
            "header": {
             "fill": {
              "color": "#C8D4E3"
             },
             "line": {
              "color": "white"
             }
            },
            "type": "table"
           }
          ]
         },
         "layout": {
          "annotationdefaults": {
           "arrowcolor": "#2a3f5f",
           "arrowhead": 0,
           "arrowwidth": 1
          },
          "autotypenumbers": "strict",
          "coloraxis": {
           "colorbar": {
            "outlinewidth": 0,
            "ticks": ""
           }
          },
          "colorscale": {
           "diverging": [
            [
             0,
             "#8e0152"
            ],
            [
             0.1,
             "#c51b7d"
            ],
            [
             0.2,
             "#de77ae"
            ],
            [
             0.3,
             "#f1b6da"
            ],
            [
             0.4,
             "#fde0ef"
            ],
            [
             0.5,
             "#f7f7f7"
            ],
            [
             0.6,
             "#e6f5d0"
            ],
            [
             0.7,
             "#b8e186"
            ],
            [
             0.8,
             "#7fbc41"
            ],
            [
             0.9,
             "#4d9221"
            ],
            [
             1,
             "#276419"
            ]
           ],
           "sequential": [
            [
             0,
             "#0d0887"
            ],
            [
             0.1111111111111111,
             "#46039f"
            ],
            [
             0.2222222222222222,
             "#7201a8"
            ],
            [
             0.3333333333333333,
             "#9c179e"
            ],
            [
             0.4444444444444444,
             "#bd3786"
            ],
            [
             0.5555555555555556,
             "#d8576b"
            ],
            [
             0.6666666666666666,
             "#ed7953"
            ],
            [
             0.7777777777777778,
             "#fb9f3a"
            ],
            [
             0.8888888888888888,
             "#fdca26"
            ],
            [
             1,
             "#f0f921"
            ]
           ],
           "sequentialminus": [
            [
             0,
             "#0d0887"
            ],
            [
             0.1111111111111111,
             "#46039f"
            ],
            [
             0.2222222222222222,
             "#7201a8"
            ],
            [
             0.3333333333333333,
             "#9c179e"
            ],
            [
             0.4444444444444444,
             "#bd3786"
            ],
            [
             0.5555555555555556,
             "#d8576b"
            ],
            [
             0.6666666666666666,
             "#ed7953"
            ],
            [
             0.7777777777777778,
             "#fb9f3a"
            ],
            [
             0.8888888888888888,
             "#fdca26"
            ],
            [
             1,
             "#f0f921"
            ]
           ]
          },
          "colorway": [
           "#636efa",
           "#EF553B",
           "#00cc96",
           "#ab63fa",
           "#FFA15A",
           "#19d3f3",
           "#FF6692",
           "#B6E880",
           "#FF97FF",
           "#FECB52"
          ],
          "font": {
           "color": "#2a3f5f"
          },
          "geo": {
           "bgcolor": "white",
           "lakecolor": "white",
           "landcolor": "#E5ECF6",
           "showlakes": true,
           "showland": true,
           "subunitcolor": "white"
          },
          "hoverlabel": {
           "align": "left"
          },
          "hovermode": "closest",
          "mapbox": {
           "style": "light"
          },
          "paper_bgcolor": "white",
          "plot_bgcolor": "#E5ECF6",
          "polar": {
           "angularaxis": {
            "gridcolor": "white",
            "linecolor": "white",
            "ticks": ""
           },
           "bgcolor": "#E5ECF6",
           "radialaxis": {
            "gridcolor": "white",
            "linecolor": "white",
            "ticks": ""
           }
          },
          "scene": {
           "xaxis": {
            "backgroundcolor": "#E5ECF6",
            "gridcolor": "white",
            "gridwidth": 2,
            "linecolor": "white",
            "showbackground": true,
            "ticks": "",
            "zerolinecolor": "white"
           },
           "yaxis": {
            "backgroundcolor": "#E5ECF6",
            "gridcolor": "white",
            "gridwidth": 2,
            "linecolor": "white",
            "showbackground": true,
            "ticks": "",
            "zerolinecolor": "white"
           },
           "zaxis": {
            "backgroundcolor": "#E5ECF6",
            "gridcolor": "white",
            "gridwidth": 2,
            "linecolor": "white",
            "showbackground": true,
            "ticks": "",
            "zerolinecolor": "white"
           }
          },
          "shapedefaults": {
           "line": {
            "color": "#2a3f5f"
           }
          },
          "ternary": {
           "aaxis": {
            "gridcolor": "white",
            "linecolor": "white",
            "ticks": ""
           },
           "baxis": {
            "gridcolor": "white",
            "linecolor": "white",
            "ticks": ""
           },
           "bgcolor": "#E5ECF6",
           "caxis": {
            "gridcolor": "white",
            "linecolor": "white",
            "ticks": ""
           }
          },
          "title": {
           "x": 0.05
          },
          "xaxis": {
           "automargin": true,
           "gridcolor": "white",
           "linecolor": "white",
           "ticks": "",
           "title": {
            "standoff": 15
           },
           "zerolinecolor": "white",
           "zerolinewidth": 2
          },
          "yaxis": {
           "automargin": true,
           "gridcolor": "white",
           "linecolor": "white",
           "ticks": "",
           "title": {
            "standoff": 15
           },
           "zerolinecolor": "white",
           "zerolinewidth": 2
          }
         }
        }
       }
      },
      "text/html": [
       "<div>                            <div id=\"d121cb0e-8e9d-4f63-b1cb-69f215129953\" class=\"plotly-graph-div\" style=\"height:525px; width:100%;\"></div>            <script type=\"text/javascript\">                require([\"plotly\"], function(Plotly) {                    window.PLOTLYENV=window.PLOTLYENV || {};                                    if (document.getElementById(\"d121cb0e-8e9d-4f63-b1cb-69f215129953\")) {                    Plotly.newPlot(                        \"d121cb0e-8e9d-4f63-b1cb-69f215129953\",                        [{\"labels\":[\"\\u043d\\u0435\\u0442\",\"\\u0434\\u0430\"],\"title\":{\"text\":\"\\u0421\\u043e\\u043e\\u0442\\u043d\\u043e\\u0448\\u0435\\u043d\\u0438\\u0435 \\u043a\\u043e\\u043b\\u0438\\u0447\\u0435\\u0441\\u0442\\u0432\\u0430 \\u0441\\u0435\\u0442\\u0435\\u0432\\u044b\\u0445 \\u0438 \\u043d\\u0435\\u0441\\u0435\\u0442\\u0435\\u0432\\u044b\\u0445 \\u0437\\u0430\\u0432\\u0435\\u0434\\u0435\\u043d\\u0438\\u0439\"},\"values\":[12398,2968],\"type\":\"pie\"}],                        {\"template\":{\"data\":{\"bar\":[{\"error_x\":{\"color\":\"#2a3f5f\"},\"error_y\":{\"color\":\"#2a3f5f\"},\"marker\":{\"line\":{\"color\":\"#E5ECF6\",\"width\":0.5},\"pattern\":{\"fillmode\":\"overlay\",\"size\":10,\"solidity\":0.2}},\"type\":\"bar\"}],\"barpolar\":[{\"marker\":{\"line\":{\"color\":\"#E5ECF6\",\"width\":0.5},\"pattern\":{\"fillmode\":\"overlay\",\"size\":10,\"solidity\":0.2}},\"type\":\"barpolar\"}],\"carpet\":[{\"aaxis\":{\"endlinecolor\":\"#2a3f5f\",\"gridcolor\":\"white\",\"linecolor\":\"white\",\"minorgridcolor\":\"white\",\"startlinecolor\":\"#2a3f5f\"},\"baxis\":{\"endlinecolor\":\"#2a3f5f\",\"gridcolor\":\"white\",\"linecolor\":\"white\",\"minorgridcolor\":\"white\",\"startlinecolor\":\"#2a3f5f\"},\"type\":\"carpet\"}],\"choropleth\":[{\"colorbar\":{\"outlinewidth\":0,\"ticks\":\"\"},\"type\":\"choropleth\"}],\"contour\":[{\"colorbar\":{\"outlinewidth\":0,\"ticks\":\"\"},\"colorscale\":[[0.0,\"#0d0887\"],[0.1111111111111111,\"#46039f\"],[0.2222222222222222,\"#7201a8\"],[0.3333333333333333,\"#9c179e\"],[0.4444444444444444,\"#bd3786\"],[0.5555555555555556,\"#d8576b\"],[0.6666666666666666,\"#ed7953\"],[0.7777777777777778,\"#fb9f3a\"],[0.8888888888888888,\"#fdca26\"],[1.0,\"#f0f921\"]],\"type\":\"contour\"}],\"contourcarpet\":[{\"colorbar\":{\"outlinewidth\":0,\"ticks\":\"\"},\"type\":\"contourcarpet\"}],\"heatmap\":[{\"colorbar\":{\"outlinewidth\":0,\"ticks\":\"\"},\"colorscale\":[[0.0,\"#0d0887\"],[0.1111111111111111,\"#46039f\"],[0.2222222222222222,\"#7201a8\"],[0.3333333333333333,\"#9c179e\"],[0.4444444444444444,\"#bd3786\"],[0.5555555555555556,\"#d8576b\"],[0.6666666666666666,\"#ed7953\"],[0.7777777777777778,\"#fb9f3a\"],[0.8888888888888888,\"#fdca26\"],[1.0,\"#f0f921\"]],\"type\":\"heatmap\"}],\"heatmapgl\":[{\"colorbar\":{\"outlinewidth\":0,\"ticks\":\"\"},\"colorscale\":[[0.0,\"#0d0887\"],[0.1111111111111111,\"#46039f\"],[0.2222222222222222,\"#7201a8\"],[0.3333333333333333,\"#9c179e\"],[0.4444444444444444,\"#bd3786\"],[0.5555555555555556,\"#d8576b\"],[0.6666666666666666,\"#ed7953\"],[0.7777777777777778,\"#fb9f3a\"],[0.8888888888888888,\"#fdca26\"],[1.0,\"#f0f921\"]],\"type\":\"heatmapgl\"}],\"histogram\":[{\"marker\":{\"pattern\":{\"fillmode\":\"overlay\",\"size\":10,\"solidity\":0.2}},\"type\":\"histogram\"}],\"histogram2d\":[{\"colorbar\":{\"outlinewidth\":0,\"ticks\":\"\"},\"colorscale\":[[0.0,\"#0d0887\"],[0.1111111111111111,\"#46039f\"],[0.2222222222222222,\"#7201a8\"],[0.3333333333333333,\"#9c179e\"],[0.4444444444444444,\"#bd3786\"],[0.5555555555555556,\"#d8576b\"],[0.6666666666666666,\"#ed7953\"],[0.7777777777777778,\"#fb9f3a\"],[0.8888888888888888,\"#fdca26\"],[1.0,\"#f0f921\"]],\"type\":\"histogram2d\"}],\"histogram2dcontour\":[{\"colorbar\":{\"outlinewidth\":0,\"ticks\":\"\"},\"colorscale\":[[0.0,\"#0d0887\"],[0.1111111111111111,\"#46039f\"],[0.2222222222222222,\"#7201a8\"],[0.3333333333333333,\"#9c179e\"],[0.4444444444444444,\"#bd3786\"],[0.5555555555555556,\"#d8576b\"],[0.6666666666666666,\"#ed7953\"],[0.7777777777777778,\"#fb9f3a\"],[0.8888888888888888,\"#fdca26\"],[1.0,\"#f0f921\"]],\"type\":\"histogram2dcontour\"}],\"mesh3d\":[{\"colorbar\":{\"outlinewidth\":0,\"ticks\":\"\"},\"type\":\"mesh3d\"}],\"parcoords\":[{\"line\":{\"colorbar\":{\"outlinewidth\":0,\"ticks\":\"\"}},\"type\":\"parcoords\"}],\"pie\":[{\"automargin\":true,\"type\":\"pie\"}],\"scatter\":[{\"marker\":{\"colorbar\":{\"outlinewidth\":0,\"ticks\":\"\"}},\"type\":\"scatter\"}],\"scatter3d\":[{\"line\":{\"colorbar\":{\"outlinewidth\":0,\"ticks\":\"\"}},\"marker\":{\"colorbar\":{\"outlinewidth\":0,\"ticks\":\"\"}},\"type\":\"scatter3d\"}],\"scattercarpet\":[{\"marker\":{\"colorbar\":{\"outlinewidth\":0,\"ticks\":\"\"}},\"type\":\"scattercarpet\"}],\"scattergeo\":[{\"marker\":{\"colorbar\":{\"outlinewidth\":0,\"ticks\":\"\"}},\"type\":\"scattergeo\"}],\"scattergl\":[{\"marker\":{\"colorbar\":{\"outlinewidth\":0,\"ticks\":\"\"}},\"type\":\"scattergl\"}],\"scattermapbox\":[{\"marker\":{\"colorbar\":{\"outlinewidth\":0,\"ticks\":\"\"}},\"type\":\"scattermapbox\"}],\"scatterpolar\":[{\"marker\":{\"colorbar\":{\"outlinewidth\":0,\"ticks\":\"\"}},\"type\":\"scatterpolar\"}],\"scatterpolargl\":[{\"marker\":{\"colorbar\":{\"outlinewidth\":0,\"ticks\":\"\"}},\"type\":\"scatterpolargl\"}],\"scatterternary\":[{\"marker\":{\"colorbar\":{\"outlinewidth\":0,\"ticks\":\"\"}},\"type\":\"scatterternary\"}],\"surface\":[{\"colorbar\":{\"outlinewidth\":0,\"ticks\":\"\"},\"colorscale\":[[0.0,\"#0d0887\"],[0.1111111111111111,\"#46039f\"],[0.2222222222222222,\"#7201a8\"],[0.3333333333333333,\"#9c179e\"],[0.4444444444444444,\"#bd3786\"],[0.5555555555555556,\"#d8576b\"],[0.6666666666666666,\"#ed7953\"],[0.7777777777777778,\"#fb9f3a\"],[0.8888888888888888,\"#fdca26\"],[1.0,\"#f0f921\"]],\"type\":\"surface\"}],\"table\":[{\"cells\":{\"fill\":{\"color\":\"#EBF0F8\"},\"line\":{\"color\":\"white\"}},\"header\":{\"fill\":{\"color\":\"#C8D4E3\"},\"line\":{\"color\":\"white\"}},\"type\":\"table\"}]},\"layout\":{\"annotationdefaults\":{\"arrowcolor\":\"#2a3f5f\",\"arrowhead\":0,\"arrowwidth\":1},\"autotypenumbers\":\"strict\",\"coloraxis\":{\"colorbar\":{\"outlinewidth\":0,\"ticks\":\"\"}},\"colorscale\":{\"diverging\":[[0,\"#8e0152\"],[0.1,\"#c51b7d\"],[0.2,\"#de77ae\"],[0.3,\"#f1b6da\"],[0.4,\"#fde0ef\"],[0.5,\"#f7f7f7\"],[0.6,\"#e6f5d0\"],[0.7,\"#b8e186\"],[0.8,\"#7fbc41\"],[0.9,\"#4d9221\"],[1,\"#276419\"]],\"sequential\":[[0.0,\"#0d0887\"],[0.1111111111111111,\"#46039f\"],[0.2222222222222222,\"#7201a8\"],[0.3333333333333333,\"#9c179e\"],[0.4444444444444444,\"#bd3786\"],[0.5555555555555556,\"#d8576b\"],[0.6666666666666666,\"#ed7953\"],[0.7777777777777778,\"#fb9f3a\"],[0.8888888888888888,\"#fdca26\"],[1.0,\"#f0f921\"]],\"sequentialminus\":[[0.0,\"#0d0887\"],[0.1111111111111111,\"#46039f\"],[0.2222222222222222,\"#7201a8\"],[0.3333333333333333,\"#9c179e\"],[0.4444444444444444,\"#bd3786\"],[0.5555555555555556,\"#d8576b\"],[0.6666666666666666,\"#ed7953\"],[0.7777777777777778,\"#fb9f3a\"],[0.8888888888888888,\"#fdca26\"],[1.0,\"#f0f921\"]]},\"colorway\":[\"#636efa\",\"#EF553B\",\"#00cc96\",\"#ab63fa\",\"#FFA15A\",\"#19d3f3\",\"#FF6692\",\"#B6E880\",\"#FF97FF\",\"#FECB52\"],\"font\":{\"color\":\"#2a3f5f\"},\"geo\":{\"bgcolor\":\"white\",\"lakecolor\":\"white\",\"landcolor\":\"#E5ECF6\",\"showlakes\":true,\"showland\":true,\"subunitcolor\":\"white\"},\"hoverlabel\":{\"align\":\"left\"},\"hovermode\":\"closest\",\"mapbox\":{\"style\":\"light\"},\"paper_bgcolor\":\"white\",\"plot_bgcolor\":\"#E5ECF6\",\"polar\":{\"angularaxis\":{\"gridcolor\":\"white\",\"linecolor\":\"white\",\"ticks\":\"\"},\"bgcolor\":\"#E5ECF6\",\"radialaxis\":{\"gridcolor\":\"white\",\"linecolor\":\"white\",\"ticks\":\"\"}},\"scene\":{\"xaxis\":{\"backgroundcolor\":\"#E5ECF6\",\"gridcolor\":\"white\",\"gridwidth\":2,\"linecolor\":\"white\",\"showbackground\":true,\"ticks\":\"\",\"zerolinecolor\":\"white\"},\"yaxis\":{\"backgroundcolor\":\"#E5ECF6\",\"gridcolor\":\"white\",\"gridwidth\":2,\"linecolor\":\"white\",\"showbackground\":true,\"ticks\":\"\",\"zerolinecolor\":\"white\"},\"zaxis\":{\"backgroundcolor\":\"#E5ECF6\",\"gridcolor\":\"white\",\"gridwidth\":2,\"linecolor\":\"white\",\"showbackground\":true,\"ticks\":\"\",\"zerolinecolor\":\"white\"}},\"shapedefaults\":{\"line\":{\"color\":\"#2a3f5f\"}},\"ternary\":{\"aaxis\":{\"gridcolor\":\"white\",\"linecolor\":\"white\",\"ticks\":\"\"},\"baxis\":{\"gridcolor\":\"white\",\"linecolor\":\"white\",\"ticks\":\"\"},\"bgcolor\":\"#E5ECF6\",\"caxis\":{\"gridcolor\":\"white\",\"linecolor\":\"white\",\"ticks\":\"\"}},\"title\":{\"x\":0.05},\"xaxis\":{\"automargin\":true,\"gridcolor\":\"white\",\"linecolor\":\"white\",\"ticks\":\"\",\"title\":{\"standoff\":15},\"zerolinecolor\":\"white\",\"zerolinewidth\":2},\"yaxis\":{\"automargin\":true,\"gridcolor\":\"white\",\"linecolor\":\"white\",\"ticks\":\"\",\"title\":{\"standoff\":15},\"zerolinecolor\":\"white\",\"zerolinewidth\":2}}}},                        {\"responsive\": true}                    ).then(function(){\n",
       "                            \n",
       "var gd = document.getElementById('d121cb0e-8e9d-4f63-b1cb-69f215129953');\n",
       "var x = new MutationObserver(function (mutations, observer) {{\n",
       "        var display = window.getComputedStyle(gd).display;\n",
       "        if (!display || display === 'none') {{\n",
       "            console.log([gd, 'removed!']);\n",
       "            Plotly.purge(gd);\n",
       "            observer.disconnect();\n",
       "        }}\n",
       "}});\n",
       "\n",
       "// Listen for the removal of the full notebook cells\n",
       "var notebookContainer = gd.closest('#notebook-container');\n",
       "if (notebookContainer) {{\n",
       "    x.observe(notebookContainer, {childList: true});\n",
       "}}\n",
       "\n",
       "// Listen for the clearing of the current output cell\n",
       "var outputEl = gd.closest('.output');\n",
       "if (outputEl) {{\n",
       "    x.observe(outputEl, {childList: true});\n",
       "}}\n",
       "\n",
       "                        })                };                });            </script>        </div>"
      ]
     },
     "metadata": {},
     "output_type": "display_data"
    }
   ],
   "source": [
    "# посторим график\n",
    "from plotly import graph_objects as go\n",
    "\n",
    "labels = rest_data_chain['chain']\n",
    "values = rest_data_chain['object_name']\n",
    "\n",
    "fig = go.Figure(data=[go.Pie(labels=labels\n",
    "                             , values=values\n",
    "                             ,title='Соотношение количества сетевых и несетевых заведений')])\n",
    "fig.show()"
   ]
  },
  {
   "cell_type": "markdown",
   "id": "1c072c78",
   "metadata": {},
   "source": [
    "*Промежуточный вывод*\n",
    "\n",
    " В результате исследования соотношение сетевых и несетевых заведений по количеству установлено, что подавляющее большинство объектов 80,7 % не являются сетевыми, доля сетевых заведений составляет 19,3%.\n"
   ]
  },
  {
   "cell_type": "markdown",
   "id": "22e9cca1",
   "metadata": {},
   "source": [
    "## Исследование вида объекта общественного питания , для которого характерно сетевое распространение?"
   ]
  },
  {
   "cell_type": "code",
   "execution_count": 97,
   "id": "fb842220",
   "metadata": {},
   "outputs": [
    {
     "data": {
      "text/html": [
       "<div>\n",
       "<style scoped>\n",
       "    .dataframe tbody tr th:only-of-type {\n",
       "        vertical-align: middle;\n",
       "    }\n",
       "\n",
       "    .dataframe tbody tr th {\n",
       "        vertical-align: top;\n",
       "    }\n",
       "\n",
       "    .dataframe thead th {\n",
       "        text-align: right;\n",
       "    }\n",
       "</style>\n",
       "<table border=\"1\" class=\"dataframe\">\n",
       "  <thead>\n",
       "    <tr style=\"text-align: right;\">\n",
       "      <th></th>\n",
       "      <th>id</th>\n",
       "      <th>object_name</th>\n",
       "      <th>chain</th>\n",
       "      <th>object_type</th>\n",
       "      <th>address</th>\n",
       "      <th>number</th>\n",
       "    </tr>\n",
       "  </thead>\n",
       "  <tbody>\n",
       "    <tr>\n",
       "      <th>3</th>\n",
       "      <td>21894</td>\n",
       "      <td>ПИЦЦЕТОРИЯ</td>\n",
       "      <td>да</td>\n",
       "      <td>кафе</td>\n",
       "      <td>город Москва, Абрамцевская улица, дом 1</td>\n",
       "      <td>40</td>\n",
       "    </tr>\n",
       "    <tr>\n",
       "      <th>6</th>\n",
       "      <td>148815</td>\n",
       "      <td>БРУСНИКА</td>\n",
       "      <td>да</td>\n",
       "      <td>кафе</td>\n",
       "      <td>город Москва, переулок Сивцев Вражек, дом 6/2</td>\n",
       "      <td>10</td>\n",
       "    </tr>\n",
       "    <tr>\n",
       "      <th>13</th>\n",
       "      <td>22579</td>\n",
       "      <td>АЛЛО ПИЦЦА</td>\n",
       "      <td>да</td>\n",
       "      <td>кафе</td>\n",
       "      <td>город Москва, улица Авиаторов, дом 14</td>\n",
       "      <td>32</td>\n",
       "    </tr>\n",
       "    <tr>\n",
       "      <th>16</th>\n",
       "      <td>144107</td>\n",
       "      <td>СУШИ WOK</td>\n",
       "      <td>да</td>\n",
       "      <td>предприятие быстрого обслуживания</td>\n",
       "      <td>город Москва, Азовская улица, дом 3</td>\n",
       "      <td>7</td>\n",
       "    </tr>\n",
       "    <tr>\n",
       "      <th>18</th>\n",
       "      <td>58565</td>\n",
       "      <td>ТАНУКИ</td>\n",
       "      <td>да</td>\n",
       "      <td>ресторан</td>\n",
       "      <td>город Москва, Большая Академическая улица, дом 65</td>\n",
       "      <td>160</td>\n",
       "    </tr>\n",
       "  </tbody>\n",
       "</table>\n",
       "</div>"
      ],
      "text/plain": [
       "        id object_name chain                        object_type  \\\n",
       "3    21894  ПИЦЦЕТОРИЯ    да                               кафе   \n",
       "6   148815    БРУСНИКА    да                               кафе   \n",
       "13   22579  АЛЛО ПИЦЦА    да                               кафе   \n",
       "16  144107    СУШИ WOK    да  предприятие быстрого обслуживания   \n",
       "18   58565      ТАНУКИ    да                           ресторан   \n",
       "\n",
       "                                              address  number  \n",
       "3             город Москва, Абрамцевская улица, дом 1      40  \n",
       "6       город Москва, переулок Сивцев Вражек, дом 6/2      10  \n",
       "13              город Москва, улица Авиаторов, дом 14      32  \n",
       "16                город Москва, Азовская улица, дом 3       7  \n",
       "18  город Москва, Большая Академическая улица, дом 65     160  "
      ]
     },
     "metadata": {},
     "output_type": "display_data"
    }
   ],
   "source": [
    "# сохраним в переменной rest_data_chain_y данные сетевых заведений\n",
    "rest_data_chain_y = rest_data.query('chain==\"да\"')\n",
    "# выведем на экран первые 5 строк\n",
    "display(rest_data_chain_y.head())"
   ]
  },
  {
   "cell_type": "code",
   "execution_count": 98,
   "id": "b94dc0c7",
   "metadata": {
    "scrolled": true
   },
   "outputs": [
    {
     "data": {
      "text/html": [
       "<div>\n",
       "<style scoped>\n",
       "    .dataframe tbody tr th:only-of-type {\n",
       "        vertical-align: middle;\n",
       "    }\n",
       "\n",
       "    .dataframe tbody tr th {\n",
       "        vertical-align: top;\n",
       "    }\n",
       "\n",
       "    .dataframe thead th {\n",
       "        text-align: right;\n",
       "    }\n",
       "</style>\n",
       "<table border=\"1\" class=\"dataframe\">\n",
       "  <thead>\n",
       "    <tr style=\"text-align: right;\">\n",
       "      <th></th>\n",
       "      <th>object_type_ch</th>\n",
       "      <th>count_id</th>\n",
       "      <th>object_name</th>\n",
       "      <th>chain</th>\n",
       "      <th>address</th>\n",
       "      <th>number</th>\n",
       "    </tr>\n",
       "  </thead>\n",
       "  <tbody>\n",
       "    <tr>\n",
       "      <th>3</th>\n",
       "      <td>кафе</td>\n",
       "      <td>1396</td>\n",
       "      <td>1396</td>\n",
       "      <td>1396</td>\n",
       "      <td>1396</td>\n",
       "      <td>1396</td>\n",
       "    </tr>\n",
       "    <tr>\n",
       "      <th>6</th>\n",
       "      <td>предприятие быстрого обслуживания</td>\n",
       "      <td>791</td>\n",
       "      <td>791</td>\n",
       "      <td>791</td>\n",
       "      <td>791</td>\n",
       "      <td>791</td>\n",
       "    </tr>\n",
       "    <tr>\n",
       "      <th>7</th>\n",
       "      <td>ресторан</td>\n",
       "      <td>544</td>\n",
       "      <td>544</td>\n",
       "      <td>544</td>\n",
       "      <td>544</td>\n",
       "      <td>544</td>\n",
       "    </tr>\n",
       "    <tr>\n",
       "      <th>5</th>\n",
       "      <td>магазин (отдел кулинарии)</td>\n",
       "      <td>78</td>\n",
       "      <td>78</td>\n",
       "      <td>78</td>\n",
       "      <td>78</td>\n",
       "      <td>78</td>\n",
       "    </tr>\n",
       "    <tr>\n",
       "      <th>2</th>\n",
       "      <td>закусочная</td>\n",
       "      <td>56</td>\n",
       "      <td>56</td>\n",
       "      <td>56</td>\n",
       "      <td>56</td>\n",
       "      <td>56</td>\n",
       "    </tr>\n",
       "    <tr>\n",
       "      <th>4</th>\n",
       "      <td>кафетерий</td>\n",
       "      <td>52</td>\n",
       "      <td>52</td>\n",
       "      <td>52</td>\n",
       "      <td>52</td>\n",
       "      <td>52</td>\n",
       "    </tr>\n",
       "    <tr>\n",
       "      <th>0</th>\n",
       "      <td>бар</td>\n",
       "      <td>37</td>\n",
       "      <td>37</td>\n",
       "      <td>37</td>\n",
       "      <td>37</td>\n",
       "      <td>37</td>\n",
       "    </tr>\n",
       "    <tr>\n",
       "      <th>1</th>\n",
       "      <td>буфет</td>\n",
       "      <td>11</td>\n",
       "      <td>11</td>\n",
       "      <td>11</td>\n",
       "      <td>11</td>\n",
       "      <td>11</td>\n",
       "    </tr>\n",
       "    <tr>\n",
       "      <th>8</th>\n",
       "      <td>столовая</td>\n",
       "      <td>3</td>\n",
       "      <td>3</td>\n",
       "      <td>3</td>\n",
       "      <td>3</td>\n",
       "      <td>3</td>\n",
       "    </tr>\n",
       "  </tbody>\n",
       "</table>\n",
       "</div>"
      ],
      "text/plain": [
       "                      object_type_ch  count_id  object_name  chain  address  \\\n",
       "3                               кафе      1396         1396   1396     1396   \n",
       "6  предприятие быстрого обслуживания       791          791    791      791   \n",
       "7                           ресторан       544          544    544      544   \n",
       "5          магазин (отдел кулинарии)        78           78     78       78   \n",
       "2                         закусочная        56           56     56       56   \n",
       "4                          кафетерий        52           52     52       52   \n",
       "0                                бар        37           37     37       37   \n",
       "1                              буфет        11           11     11       11   \n",
       "8                           столовая         3            3      3        3   \n",
       "\n",
       "   number  \n",
       "3    1396  \n",
       "6     791  \n",
       "7     544  \n",
       "5      78  \n",
       "2      56  \n",
       "4      52  \n",
       "0      37  \n",
       "1      11  \n",
       "8       3  "
      ]
     },
     "metadata": {},
     "output_type": "display_data"
    }
   ],
   "source": [
    "# в переменной rest_data_chain_y_type сохраним данные сгруппированные по типам заведений\n",
    "rest_data_chain_y_type=rest_data_chain_y.groupby(['object_type']).\\\n",
    "count().reset_index(0).rename(columns={'id':'count_id','object_type':'object_type_ch'}).\\\n",
    "sort_values(by=['count_id'],ascending=False)\n",
    "# выведем на экран \n",
    "display(rest_data_chain_y_type)"
   ]
  },
  {
   "cell_type": "code",
   "execution_count": 99,
   "id": "4f619979",
   "metadata": {
    "scrolled": true
   },
   "outputs": [
    {
     "data": {
      "application/vnd.plotly.v1+json": {
       "config": {
        "plotlyServerURL": "https://plot.ly"
       },
       "data": [
        {
         "labels": [
          "кафе",
          "предприятие быстрого обслуживания",
          "ресторан",
          "магазин (отдел кулинарии)",
          "закусочная",
          "кафетерий",
          "бар",
          "буфет",
          "столовая"
         ],
         "title": {
          "text": "Виды объектов общественного питания с сетевым распространением"
         },
         "type": "pie",
         "values": [
          1396,
          791,
          544,
          78,
          56,
          52,
          37,
          11,
          3
         ]
        }
       ],
       "layout": {
        "template": {
         "data": {
          "bar": [
           {
            "error_x": {
             "color": "#2a3f5f"
            },
            "error_y": {
             "color": "#2a3f5f"
            },
            "marker": {
             "line": {
              "color": "#E5ECF6",
              "width": 0.5
             },
             "pattern": {
              "fillmode": "overlay",
              "size": 10,
              "solidity": 0.2
             }
            },
            "type": "bar"
           }
          ],
          "barpolar": [
           {
            "marker": {
             "line": {
              "color": "#E5ECF6",
              "width": 0.5
             },
             "pattern": {
              "fillmode": "overlay",
              "size": 10,
              "solidity": 0.2
             }
            },
            "type": "barpolar"
           }
          ],
          "carpet": [
           {
            "aaxis": {
             "endlinecolor": "#2a3f5f",
             "gridcolor": "white",
             "linecolor": "white",
             "minorgridcolor": "white",
             "startlinecolor": "#2a3f5f"
            },
            "baxis": {
             "endlinecolor": "#2a3f5f",
             "gridcolor": "white",
             "linecolor": "white",
             "minorgridcolor": "white",
             "startlinecolor": "#2a3f5f"
            },
            "type": "carpet"
           }
          ],
          "choropleth": [
           {
            "colorbar": {
             "outlinewidth": 0,
             "ticks": ""
            },
            "type": "choropleth"
           }
          ],
          "contour": [
           {
            "colorbar": {
             "outlinewidth": 0,
             "ticks": ""
            },
            "colorscale": [
             [
              0,
              "#0d0887"
             ],
             [
              0.1111111111111111,
              "#46039f"
             ],
             [
              0.2222222222222222,
              "#7201a8"
             ],
             [
              0.3333333333333333,
              "#9c179e"
             ],
             [
              0.4444444444444444,
              "#bd3786"
             ],
             [
              0.5555555555555556,
              "#d8576b"
             ],
             [
              0.6666666666666666,
              "#ed7953"
             ],
             [
              0.7777777777777778,
              "#fb9f3a"
             ],
             [
              0.8888888888888888,
              "#fdca26"
             ],
             [
              1,
              "#f0f921"
             ]
            ],
            "type": "contour"
           }
          ],
          "contourcarpet": [
           {
            "colorbar": {
             "outlinewidth": 0,
             "ticks": ""
            },
            "type": "contourcarpet"
           }
          ],
          "heatmap": [
           {
            "colorbar": {
             "outlinewidth": 0,
             "ticks": ""
            },
            "colorscale": [
             [
              0,
              "#0d0887"
             ],
             [
              0.1111111111111111,
              "#46039f"
             ],
             [
              0.2222222222222222,
              "#7201a8"
             ],
             [
              0.3333333333333333,
              "#9c179e"
             ],
             [
              0.4444444444444444,
              "#bd3786"
             ],
             [
              0.5555555555555556,
              "#d8576b"
             ],
             [
              0.6666666666666666,
              "#ed7953"
             ],
             [
              0.7777777777777778,
              "#fb9f3a"
             ],
             [
              0.8888888888888888,
              "#fdca26"
             ],
             [
              1,
              "#f0f921"
             ]
            ],
            "type": "heatmap"
           }
          ],
          "heatmapgl": [
           {
            "colorbar": {
             "outlinewidth": 0,
             "ticks": ""
            },
            "colorscale": [
             [
              0,
              "#0d0887"
             ],
             [
              0.1111111111111111,
              "#46039f"
             ],
             [
              0.2222222222222222,
              "#7201a8"
             ],
             [
              0.3333333333333333,
              "#9c179e"
             ],
             [
              0.4444444444444444,
              "#bd3786"
             ],
             [
              0.5555555555555556,
              "#d8576b"
             ],
             [
              0.6666666666666666,
              "#ed7953"
             ],
             [
              0.7777777777777778,
              "#fb9f3a"
             ],
             [
              0.8888888888888888,
              "#fdca26"
             ],
             [
              1,
              "#f0f921"
             ]
            ],
            "type": "heatmapgl"
           }
          ],
          "histogram": [
           {
            "marker": {
             "pattern": {
              "fillmode": "overlay",
              "size": 10,
              "solidity": 0.2
             }
            },
            "type": "histogram"
           }
          ],
          "histogram2d": [
           {
            "colorbar": {
             "outlinewidth": 0,
             "ticks": ""
            },
            "colorscale": [
             [
              0,
              "#0d0887"
             ],
             [
              0.1111111111111111,
              "#46039f"
             ],
             [
              0.2222222222222222,
              "#7201a8"
             ],
             [
              0.3333333333333333,
              "#9c179e"
             ],
             [
              0.4444444444444444,
              "#bd3786"
             ],
             [
              0.5555555555555556,
              "#d8576b"
             ],
             [
              0.6666666666666666,
              "#ed7953"
             ],
             [
              0.7777777777777778,
              "#fb9f3a"
             ],
             [
              0.8888888888888888,
              "#fdca26"
             ],
             [
              1,
              "#f0f921"
             ]
            ],
            "type": "histogram2d"
           }
          ],
          "histogram2dcontour": [
           {
            "colorbar": {
             "outlinewidth": 0,
             "ticks": ""
            },
            "colorscale": [
             [
              0,
              "#0d0887"
             ],
             [
              0.1111111111111111,
              "#46039f"
             ],
             [
              0.2222222222222222,
              "#7201a8"
             ],
             [
              0.3333333333333333,
              "#9c179e"
             ],
             [
              0.4444444444444444,
              "#bd3786"
             ],
             [
              0.5555555555555556,
              "#d8576b"
             ],
             [
              0.6666666666666666,
              "#ed7953"
             ],
             [
              0.7777777777777778,
              "#fb9f3a"
             ],
             [
              0.8888888888888888,
              "#fdca26"
             ],
             [
              1,
              "#f0f921"
             ]
            ],
            "type": "histogram2dcontour"
           }
          ],
          "mesh3d": [
           {
            "colorbar": {
             "outlinewidth": 0,
             "ticks": ""
            },
            "type": "mesh3d"
           }
          ],
          "parcoords": [
           {
            "line": {
             "colorbar": {
              "outlinewidth": 0,
              "ticks": ""
             }
            },
            "type": "parcoords"
           }
          ],
          "pie": [
           {
            "automargin": true,
            "type": "pie"
           }
          ],
          "scatter": [
           {
            "marker": {
             "colorbar": {
              "outlinewidth": 0,
              "ticks": ""
             }
            },
            "type": "scatter"
           }
          ],
          "scatter3d": [
           {
            "line": {
             "colorbar": {
              "outlinewidth": 0,
              "ticks": ""
             }
            },
            "marker": {
             "colorbar": {
              "outlinewidth": 0,
              "ticks": ""
             }
            },
            "type": "scatter3d"
           }
          ],
          "scattercarpet": [
           {
            "marker": {
             "colorbar": {
              "outlinewidth": 0,
              "ticks": ""
             }
            },
            "type": "scattercarpet"
           }
          ],
          "scattergeo": [
           {
            "marker": {
             "colorbar": {
              "outlinewidth": 0,
              "ticks": ""
             }
            },
            "type": "scattergeo"
           }
          ],
          "scattergl": [
           {
            "marker": {
             "colorbar": {
              "outlinewidth": 0,
              "ticks": ""
             }
            },
            "type": "scattergl"
           }
          ],
          "scattermapbox": [
           {
            "marker": {
             "colorbar": {
              "outlinewidth": 0,
              "ticks": ""
             }
            },
            "type": "scattermapbox"
           }
          ],
          "scatterpolar": [
           {
            "marker": {
             "colorbar": {
              "outlinewidth": 0,
              "ticks": ""
             }
            },
            "type": "scatterpolar"
           }
          ],
          "scatterpolargl": [
           {
            "marker": {
             "colorbar": {
              "outlinewidth": 0,
              "ticks": ""
             }
            },
            "type": "scatterpolargl"
           }
          ],
          "scatterternary": [
           {
            "marker": {
             "colorbar": {
              "outlinewidth": 0,
              "ticks": ""
             }
            },
            "type": "scatterternary"
           }
          ],
          "surface": [
           {
            "colorbar": {
             "outlinewidth": 0,
             "ticks": ""
            },
            "colorscale": [
             [
              0,
              "#0d0887"
             ],
             [
              0.1111111111111111,
              "#46039f"
             ],
             [
              0.2222222222222222,
              "#7201a8"
             ],
             [
              0.3333333333333333,
              "#9c179e"
             ],
             [
              0.4444444444444444,
              "#bd3786"
             ],
             [
              0.5555555555555556,
              "#d8576b"
             ],
             [
              0.6666666666666666,
              "#ed7953"
             ],
             [
              0.7777777777777778,
              "#fb9f3a"
             ],
             [
              0.8888888888888888,
              "#fdca26"
             ],
             [
              1,
              "#f0f921"
             ]
            ],
            "type": "surface"
           }
          ],
          "table": [
           {
            "cells": {
             "fill": {
              "color": "#EBF0F8"
             },
             "line": {
              "color": "white"
             }
            },
            "header": {
             "fill": {
              "color": "#C8D4E3"
             },
             "line": {
              "color": "white"
             }
            },
            "type": "table"
           }
          ]
         },
         "layout": {
          "annotationdefaults": {
           "arrowcolor": "#2a3f5f",
           "arrowhead": 0,
           "arrowwidth": 1
          },
          "autotypenumbers": "strict",
          "coloraxis": {
           "colorbar": {
            "outlinewidth": 0,
            "ticks": ""
           }
          },
          "colorscale": {
           "diverging": [
            [
             0,
             "#8e0152"
            ],
            [
             0.1,
             "#c51b7d"
            ],
            [
             0.2,
             "#de77ae"
            ],
            [
             0.3,
             "#f1b6da"
            ],
            [
             0.4,
             "#fde0ef"
            ],
            [
             0.5,
             "#f7f7f7"
            ],
            [
             0.6,
             "#e6f5d0"
            ],
            [
             0.7,
             "#b8e186"
            ],
            [
             0.8,
             "#7fbc41"
            ],
            [
             0.9,
             "#4d9221"
            ],
            [
             1,
             "#276419"
            ]
           ],
           "sequential": [
            [
             0,
             "#0d0887"
            ],
            [
             0.1111111111111111,
             "#46039f"
            ],
            [
             0.2222222222222222,
             "#7201a8"
            ],
            [
             0.3333333333333333,
             "#9c179e"
            ],
            [
             0.4444444444444444,
             "#bd3786"
            ],
            [
             0.5555555555555556,
             "#d8576b"
            ],
            [
             0.6666666666666666,
             "#ed7953"
            ],
            [
             0.7777777777777778,
             "#fb9f3a"
            ],
            [
             0.8888888888888888,
             "#fdca26"
            ],
            [
             1,
             "#f0f921"
            ]
           ],
           "sequentialminus": [
            [
             0,
             "#0d0887"
            ],
            [
             0.1111111111111111,
             "#46039f"
            ],
            [
             0.2222222222222222,
             "#7201a8"
            ],
            [
             0.3333333333333333,
             "#9c179e"
            ],
            [
             0.4444444444444444,
             "#bd3786"
            ],
            [
             0.5555555555555556,
             "#d8576b"
            ],
            [
             0.6666666666666666,
             "#ed7953"
            ],
            [
             0.7777777777777778,
             "#fb9f3a"
            ],
            [
             0.8888888888888888,
             "#fdca26"
            ],
            [
             1,
             "#f0f921"
            ]
           ]
          },
          "colorway": [
           "#636efa",
           "#EF553B",
           "#00cc96",
           "#ab63fa",
           "#FFA15A",
           "#19d3f3",
           "#FF6692",
           "#B6E880",
           "#FF97FF",
           "#FECB52"
          ],
          "font": {
           "color": "#2a3f5f"
          },
          "geo": {
           "bgcolor": "white",
           "lakecolor": "white",
           "landcolor": "#E5ECF6",
           "showlakes": true,
           "showland": true,
           "subunitcolor": "white"
          },
          "hoverlabel": {
           "align": "left"
          },
          "hovermode": "closest",
          "mapbox": {
           "style": "light"
          },
          "paper_bgcolor": "white",
          "plot_bgcolor": "#E5ECF6",
          "polar": {
           "angularaxis": {
            "gridcolor": "white",
            "linecolor": "white",
            "ticks": ""
           },
           "bgcolor": "#E5ECF6",
           "radialaxis": {
            "gridcolor": "white",
            "linecolor": "white",
            "ticks": ""
           }
          },
          "scene": {
           "xaxis": {
            "backgroundcolor": "#E5ECF6",
            "gridcolor": "white",
            "gridwidth": 2,
            "linecolor": "white",
            "showbackground": true,
            "ticks": "",
            "zerolinecolor": "white"
           },
           "yaxis": {
            "backgroundcolor": "#E5ECF6",
            "gridcolor": "white",
            "gridwidth": 2,
            "linecolor": "white",
            "showbackground": true,
            "ticks": "",
            "zerolinecolor": "white"
           },
           "zaxis": {
            "backgroundcolor": "#E5ECF6",
            "gridcolor": "white",
            "gridwidth": 2,
            "linecolor": "white",
            "showbackground": true,
            "ticks": "",
            "zerolinecolor": "white"
           }
          },
          "shapedefaults": {
           "line": {
            "color": "#2a3f5f"
           }
          },
          "ternary": {
           "aaxis": {
            "gridcolor": "white",
            "linecolor": "white",
            "ticks": ""
           },
           "baxis": {
            "gridcolor": "white",
            "linecolor": "white",
            "ticks": ""
           },
           "bgcolor": "#E5ECF6",
           "caxis": {
            "gridcolor": "white",
            "linecolor": "white",
            "ticks": ""
           }
          },
          "title": {
           "x": 0.05
          },
          "xaxis": {
           "automargin": true,
           "gridcolor": "white",
           "linecolor": "white",
           "ticks": "",
           "title": {
            "standoff": 15
           },
           "zerolinecolor": "white",
           "zerolinewidth": 2
          },
          "yaxis": {
           "automargin": true,
           "gridcolor": "white",
           "linecolor": "white",
           "ticks": "",
           "title": {
            "standoff": 15
           },
           "zerolinecolor": "white",
           "zerolinewidth": 2
          }
         }
        }
       }
      },
      "text/html": [
       "<div>                            <div id=\"c923620a-28ac-4c0f-be41-ffc2a41fef6f\" class=\"plotly-graph-div\" style=\"height:525px; width:100%;\"></div>            <script type=\"text/javascript\">                require([\"plotly\"], function(Plotly) {                    window.PLOTLYENV=window.PLOTLYENV || {};                                    if (document.getElementById(\"c923620a-28ac-4c0f-be41-ffc2a41fef6f\")) {                    Plotly.newPlot(                        \"c923620a-28ac-4c0f-be41-ffc2a41fef6f\",                        [{\"labels\":[\"\\u043a\\u0430\\u0444\\u0435\",\"\\u043f\\u0440\\u0435\\u0434\\u043f\\u0440\\u0438\\u044f\\u0442\\u0438\\u0435 \\u0431\\u044b\\u0441\\u0442\\u0440\\u043e\\u0433\\u043e \\u043e\\u0431\\u0441\\u043b\\u0443\\u0436\\u0438\\u0432\\u0430\\u043d\\u0438\\u044f\",\"\\u0440\\u0435\\u0441\\u0442\\u043e\\u0440\\u0430\\u043d\",\"\\u043c\\u0430\\u0433\\u0430\\u0437\\u0438\\u043d (\\u043e\\u0442\\u0434\\u0435\\u043b \\u043a\\u0443\\u043b\\u0438\\u043d\\u0430\\u0440\\u0438\\u0438)\",\"\\u0437\\u0430\\u043a\\u0443\\u0441\\u043e\\u0447\\u043d\\u0430\\u044f\",\"\\u043a\\u0430\\u0444\\u0435\\u0442\\u0435\\u0440\\u0438\\u0439\",\"\\u0431\\u0430\\u0440\",\"\\u0431\\u0443\\u0444\\u0435\\u0442\",\"\\u0441\\u0442\\u043e\\u043b\\u043e\\u0432\\u0430\\u044f\"],\"title\":{\"text\":\"\\u0412\\u0438\\u0434\\u044b \\u043e\\u0431\\u044a\\u0435\\u043a\\u0442\\u043e\\u0432 \\u043e\\u0431\\u0449\\u0435\\u0441\\u0442\\u0432\\u0435\\u043d\\u043d\\u043e\\u0433\\u043e \\u043f\\u0438\\u0442\\u0430\\u043d\\u0438\\u044f \\u0441 \\u0441\\u0435\\u0442\\u0435\\u0432\\u044b\\u043c \\u0440\\u0430\\u0441\\u043f\\u0440\\u043e\\u0441\\u0442\\u0440\\u0430\\u043d\\u0435\\u043d\\u0438\\u0435\\u043c\"},\"values\":[1396,791,544,78,56,52,37,11,3],\"type\":\"pie\"}],                        {\"template\":{\"data\":{\"bar\":[{\"error_x\":{\"color\":\"#2a3f5f\"},\"error_y\":{\"color\":\"#2a3f5f\"},\"marker\":{\"line\":{\"color\":\"#E5ECF6\",\"width\":0.5},\"pattern\":{\"fillmode\":\"overlay\",\"size\":10,\"solidity\":0.2}},\"type\":\"bar\"}],\"barpolar\":[{\"marker\":{\"line\":{\"color\":\"#E5ECF6\",\"width\":0.5},\"pattern\":{\"fillmode\":\"overlay\",\"size\":10,\"solidity\":0.2}},\"type\":\"barpolar\"}],\"carpet\":[{\"aaxis\":{\"endlinecolor\":\"#2a3f5f\",\"gridcolor\":\"white\",\"linecolor\":\"white\",\"minorgridcolor\":\"white\",\"startlinecolor\":\"#2a3f5f\"},\"baxis\":{\"endlinecolor\":\"#2a3f5f\",\"gridcolor\":\"white\",\"linecolor\":\"white\",\"minorgridcolor\":\"white\",\"startlinecolor\":\"#2a3f5f\"},\"type\":\"carpet\"}],\"choropleth\":[{\"colorbar\":{\"outlinewidth\":0,\"ticks\":\"\"},\"type\":\"choropleth\"}],\"contour\":[{\"colorbar\":{\"outlinewidth\":0,\"ticks\":\"\"},\"colorscale\":[[0.0,\"#0d0887\"],[0.1111111111111111,\"#46039f\"],[0.2222222222222222,\"#7201a8\"],[0.3333333333333333,\"#9c179e\"],[0.4444444444444444,\"#bd3786\"],[0.5555555555555556,\"#d8576b\"],[0.6666666666666666,\"#ed7953\"],[0.7777777777777778,\"#fb9f3a\"],[0.8888888888888888,\"#fdca26\"],[1.0,\"#f0f921\"]],\"type\":\"contour\"}],\"contourcarpet\":[{\"colorbar\":{\"outlinewidth\":0,\"ticks\":\"\"},\"type\":\"contourcarpet\"}],\"heatmap\":[{\"colorbar\":{\"outlinewidth\":0,\"ticks\":\"\"},\"colorscale\":[[0.0,\"#0d0887\"],[0.1111111111111111,\"#46039f\"],[0.2222222222222222,\"#7201a8\"],[0.3333333333333333,\"#9c179e\"],[0.4444444444444444,\"#bd3786\"],[0.5555555555555556,\"#d8576b\"],[0.6666666666666666,\"#ed7953\"],[0.7777777777777778,\"#fb9f3a\"],[0.8888888888888888,\"#fdca26\"],[1.0,\"#f0f921\"]],\"type\":\"heatmap\"}],\"heatmapgl\":[{\"colorbar\":{\"outlinewidth\":0,\"ticks\":\"\"},\"colorscale\":[[0.0,\"#0d0887\"],[0.1111111111111111,\"#46039f\"],[0.2222222222222222,\"#7201a8\"],[0.3333333333333333,\"#9c179e\"],[0.4444444444444444,\"#bd3786\"],[0.5555555555555556,\"#d8576b\"],[0.6666666666666666,\"#ed7953\"],[0.7777777777777778,\"#fb9f3a\"],[0.8888888888888888,\"#fdca26\"],[1.0,\"#f0f921\"]],\"type\":\"heatmapgl\"}],\"histogram\":[{\"marker\":{\"pattern\":{\"fillmode\":\"overlay\",\"size\":10,\"solidity\":0.2}},\"type\":\"histogram\"}],\"histogram2d\":[{\"colorbar\":{\"outlinewidth\":0,\"ticks\":\"\"},\"colorscale\":[[0.0,\"#0d0887\"],[0.1111111111111111,\"#46039f\"],[0.2222222222222222,\"#7201a8\"],[0.3333333333333333,\"#9c179e\"],[0.4444444444444444,\"#bd3786\"],[0.5555555555555556,\"#d8576b\"],[0.6666666666666666,\"#ed7953\"],[0.7777777777777778,\"#fb9f3a\"],[0.8888888888888888,\"#fdca26\"],[1.0,\"#f0f921\"]],\"type\":\"histogram2d\"}],\"histogram2dcontour\":[{\"colorbar\":{\"outlinewidth\":0,\"ticks\":\"\"},\"colorscale\":[[0.0,\"#0d0887\"],[0.1111111111111111,\"#46039f\"],[0.2222222222222222,\"#7201a8\"],[0.3333333333333333,\"#9c179e\"],[0.4444444444444444,\"#bd3786\"],[0.5555555555555556,\"#d8576b\"],[0.6666666666666666,\"#ed7953\"],[0.7777777777777778,\"#fb9f3a\"],[0.8888888888888888,\"#fdca26\"],[1.0,\"#f0f921\"]],\"type\":\"histogram2dcontour\"}],\"mesh3d\":[{\"colorbar\":{\"outlinewidth\":0,\"ticks\":\"\"},\"type\":\"mesh3d\"}],\"parcoords\":[{\"line\":{\"colorbar\":{\"outlinewidth\":0,\"ticks\":\"\"}},\"type\":\"parcoords\"}],\"pie\":[{\"automargin\":true,\"type\":\"pie\"}],\"scatter\":[{\"marker\":{\"colorbar\":{\"outlinewidth\":0,\"ticks\":\"\"}},\"type\":\"scatter\"}],\"scatter3d\":[{\"line\":{\"colorbar\":{\"outlinewidth\":0,\"ticks\":\"\"}},\"marker\":{\"colorbar\":{\"outlinewidth\":0,\"ticks\":\"\"}},\"type\":\"scatter3d\"}],\"scattercarpet\":[{\"marker\":{\"colorbar\":{\"outlinewidth\":0,\"ticks\":\"\"}},\"type\":\"scattercarpet\"}],\"scattergeo\":[{\"marker\":{\"colorbar\":{\"outlinewidth\":0,\"ticks\":\"\"}},\"type\":\"scattergeo\"}],\"scattergl\":[{\"marker\":{\"colorbar\":{\"outlinewidth\":0,\"ticks\":\"\"}},\"type\":\"scattergl\"}],\"scattermapbox\":[{\"marker\":{\"colorbar\":{\"outlinewidth\":0,\"ticks\":\"\"}},\"type\":\"scattermapbox\"}],\"scatterpolar\":[{\"marker\":{\"colorbar\":{\"outlinewidth\":0,\"ticks\":\"\"}},\"type\":\"scatterpolar\"}],\"scatterpolargl\":[{\"marker\":{\"colorbar\":{\"outlinewidth\":0,\"ticks\":\"\"}},\"type\":\"scatterpolargl\"}],\"scatterternary\":[{\"marker\":{\"colorbar\":{\"outlinewidth\":0,\"ticks\":\"\"}},\"type\":\"scatterternary\"}],\"surface\":[{\"colorbar\":{\"outlinewidth\":0,\"ticks\":\"\"},\"colorscale\":[[0.0,\"#0d0887\"],[0.1111111111111111,\"#46039f\"],[0.2222222222222222,\"#7201a8\"],[0.3333333333333333,\"#9c179e\"],[0.4444444444444444,\"#bd3786\"],[0.5555555555555556,\"#d8576b\"],[0.6666666666666666,\"#ed7953\"],[0.7777777777777778,\"#fb9f3a\"],[0.8888888888888888,\"#fdca26\"],[1.0,\"#f0f921\"]],\"type\":\"surface\"}],\"table\":[{\"cells\":{\"fill\":{\"color\":\"#EBF0F8\"},\"line\":{\"color\":\"white\"}},\"header\":{\"fill\":{\"color\":\"#C8D4E3\"},\"line\":{\"color\":\"white\"}},\"type\":\"table\"}]},\"layout\":{\"annotationdefaults\":{\"arrowcolor\":\"#2a3f5f\",\"arrowhead\":0,\"arrowwidth\":1},\"autotypenumbers\":\"strict\",\"coloraxis\":{\"colorbar\":{\"outlinewidth\":0,\"ticks\":\"\"}},\"colorscale\":{\"diverging\":[[0,\"#8e0152\"],[0.1,\"#c51b7d\"],[0.2,\"#de77ae\"],[0.3,\"#f1b6da\"],[0.4,\"#fde0ef\"],[0.5,\"#f7f7f7\"],[0.6,\"#e6f5d0\"],[0.7,\"#b8e186\"],[0.8,\"#7fbc41\"],[0.9,\"#4d9221\"],[1,\"#276419\"]],\"sequential\":[[0.0,\"#0d0887\"],[0.1111111111111111,\"#46039f\"],[0.2222222222222222,\"#7201a8\"],[0.3333333333333333,\"#9c179e\"],[0.4444444444444444,\"#bd3786\"],[0.5555555555555556,\"#d8576b\"],[0.6666666666666666,\"#ed7953\"],[0.7777777777777778,\"#fb9f3a\"],[0.8888888888888888,\"#fdca26\"],[1.0,\"#f0f921\"]],\"sequentialminus\":[[0.0,\"#0d0887\"],[0.1111111111111111,\"#46039f\"],[0.2222222222222222,\"#7201a8\"],[0.3333333333333333,\"#9c179e\"],[0.4444444444444444,\"#bd3786\"],[0.5555555555555556,\"#d8576b\"],[0.6666666666666666,\"#ed7953\"],[0.7777777777777778,\"#fb9f3a\"],[0.8888888888888888,\"#fdca26\"],[1.0,\"#f0f921\"]]},\"colorway\":[\"#636efa\",\"#EF553B\",\"#00cc96\",\"#ab63fa\",\"#FFA15A\",\"#19d3f3\",\"#FF6692\",\"#B6E880\",\"#FF97FF\",\"#FECB52\"],\"font\":{\"color\":\"#2a3f5f\"},\"geo\":{\"bgcolor\":\"white\",\"lakecolor\":\"white\",\"landcolor\":\"#E5ECF6\",\"showlakes\":true,\"showland\":true,\"subunitcolor\":\"white\"},\"hoverlabel\":{\"align\":\"left\"},\"hovermode\":\"closest\",\"mapbox\":{\"style\":\"light\"},\"paper_bgcolor\":\"white\",\"plot_bgcolor\":\"#E5ECF6\",\"polar\":{\"angularaxis\":{\"gridcolor\":\"white\",\"linecolor\":\"white\",\"ticks\":\"\"},\"bgcolor\":\"#E5ECF6\",\"radialaxis\":{\"gridcolor\":\"white\",\"linecolor\":\"white\",\"ticks\":\"\"}},\"scene\":{\"xaxis\":{\"backgroundcolor\":\"#E5ECF6\",\"gridcolor\":\"white\",\"gridwidth\":2,\"linecolor\":\"white\",\"showbackground\":true,\"ticks\":\"\",\"zerolinecolor\":\"white\"},\"yaxis\":{\"backgroundcolor\":\"#E5ECF6\",\"gridcolor\":\"white\",\"gridwidth\":2,\"linecolor\":\"white\",\"showbackground\":true,\"ticks\":\"\",\"zerolinecolor\":\"white\"},\"zaxis\":{\"backgroundcolor\":\"#E5ECF6\",\"gridcolor\":\"white\",\"gridwidth\":2,\"linecolor\":\"white\",\"showbackground\":true,\"ticks\":\"\",\"zerolinecolor\":\"white\"}},\"shapedefaults\":{\"line\":{\"color\":\"#2a3f5f\"}},\"ternary\":{\"aaxis\":{\"gridcolor\":\"white\",\"linecolor\":\"white\",\"ticks\":\"\"},\"baxis\":{\"gridcolor\":\"white\",\"linecolor\":\"white\",\"ticks\":\"\"},\"bgcolor\":\"#E5ECF6\",\"caxis\":{\"gridcolor\":\"white\",\"linecolor\":\"white\",\"ticks\":\"\"}},\"title\":{\"x\":0.05},\"xaxis\":{\"automargin\":true,\"gridcolor\":\"white\",\"linecolor\":\"white\",\"ticks\":\"\",\"title\":{\"standoff\":15},\"zerolinecolor\":\"white\",\"zerolinewidth\":2},\"yaxis\":{\"automargin\":true,\"gridcolor\":\"white\",\"linecolor\":\"white\",\"ticks\":\"\",\"title\":{\"standoff\":15},\"zerolinecolor\":\"white\",\"zerolinewidth\":2}}}},                        {\"responsive\": true}                    ).then(function(){\n",
       "                            \n",
       "var gd = document.getElementById('c923620a-28ac-4c0f-be41-ffc2a41fef6f');\n",
       "var x = new MutationObserver(function (mutations, observer) {{\n",
       "        var display = window.getComputedStyle(gd).display;\n",
       "        if (!display || display === 'none') {{\n",
       "            console.log([gd, 'removed!']);\n",
       "            Plotly.purge(gd);\n",
       "            observer.disconnect();\n",
       "        }}\n",
       "}});\n",
       "\n",
       "// Listen for the removal of the full notebook cells\n",
       "var notebookContainer = gd.closest('#notebook-container');\n",
       "if (notebookContainer) {{\n",
       "    x.observe(notebookContainer, {childList: true});\n",
       "}}\n",
       "\n",
       "// Listen for the clearing of the current output cell\n",
       "var outputEl = gd.closest('.output');\n",
       "if (outputEl) {{\n",
       "    x.observe(outputEl, {childList: true});\n",
       "}}\n",
       "\n",
       "                        })                };                });            </script>        </div>"
      ]
     },
     "metadata": {},
     "output_type": "display_data"
    }
   ],
   "source": [
    "#\n",
    "\n",
    "labels = rest_data_chain_y_type['object_type_ch']\n",
    "values = rest_data_chain_y_type['count_id']\n",
    "\n",
    "fig = go.Figure(data=[go.Pie(labels=labels, values=values\n",
    "                             ,title='Виды объектов общественного питания с сетевым распространением')])\n",
    "fig.show()"
   ]
  },
  {
   "cell_type": "markdown",
   "id": "717bf8ff",
   "metadata": {},
   "source": [
    "Для сравнения построим такой же график для несетевых предприятий питания."
   ]
  },
  {
   "cell_type": "code",
   "execution_count": 100,
   "id": "0c47f7a0",
   "metadata": {},
   "outputs": [],
   "source": [
    "# сохраним в переменной rest_data_chain_n данные сетевых заведений\n",
    "rest_data_chain_n = rest_data.query('chain!=\"да\"')\n",
    "\n",
    "rest_data_chain_n_type = rest_data_chain_n.groupby(['object_type']).\\\n",
    "count().reset_index(0).rename(columns={'id':'count_id','object_type':'object_type_ch'}).\\\n",
    "sort_values(by=['count_id'])"
   ]
  },
  {
   "cell_type": "code",
   "execution_count": 101,
   "id": "2c5755b7",
   "metadata": {},
   "outputs": [
    {
     "data": {
      "application/vnd.plotly.v1+json": {
       "config": {
        "plotlyServerURL": "https://plot.ly"
       },
       "data": [
        {
         "labels": [
          "магазин (отдел кулинарии)",
          "закусочная",
          "кафетерий",
          "буфет",
          "бар",
          "предприятие быстрого обслуживания",
          "ресторан",
          "столовая",
          "кафе"
         ],
         "title": {
          "text": "Виды объектов общественного питания без сетевого распространения"
         },
         "type": "pie",
         "values": [
          195,
          304,
          346,
          574,
          819,
          1132,
          1741,
          2584,
          4703
         ]
        }
       ],
       "layout": {
        "template": {
         "data": {
          "bar": [
           {
            "error_x": {
             "color": "#2a3f5f"
            },
            "error_y": {
             "color": "#2a3f5f"
            },
            "marker": {
             "line": {
              "color": "#E5ECF6",
              "width": 0.5
             },
             "pattern": {
              "fillmode": "overlay",
              "size": 10,
              "solidity": 0.2
             }
            },
            "type": "bar"
           }
          ],
          "barpolar": [
           {
            "marker": {
             "line": {
              "color": "#E5ECF6",
              "width": 0.5
             },
             "pattern": {
              "fillmode": "overlay",
              "size": 10,
              "solidity": 0.2
             }
            },
            "type": "barpolar"
           }
          ],
          "carpet": [
           {
            "aaxis": {
             "endlinecolor": "#2a3f5f",
             "gridcolor": "white",
             "linecolor": "white",
             "minorgridcolor": "white",
             "startlinecolor": "#2a3f5f"
            },
            "baxis": {
             "endlinecolor": "#2a3f5f",
             "gridcolor": "white",
             "linecolor": "white",
             "minorgridcolor": "white",
             "startlinecolor": "#2a3f5f"
            },
            "type": "carpet"
           }
          ],
          "choropleth": [
           {
            "colorbar": {
             "outlinewidth": 0,
             "ticks": ""
            },
            "type": "choropleth"
           }
          ],
          "contour": [
           {
            "colorbar": {
             "outlinewidth": 0,
             "ticks": ""
            },
            "colorscale": [
             [
              0,
              "#0d0887"
             ],
             [
              0.1111111111111111,
              "#46039f"
             ],
             [
              0.2222222222222222,
              "#7201a8"
             ],
             [
              0.3333333333333333,
              "#9c179e"
             ],
             [
              0.4444444444444444,
              "#bd3786"
             ],
             [
              0.5555555555555556,
              "#d8576b"
             ],
             [
              0.6666666666666666,
              "#ed7953"
             ],
             [
              0.7777777777777778,
              "#fb9f3a"
             ],
             [
              0.8888888888888888,
              "#fdca26"
             ],
             [
              1,
              "#f0f921"
             ]
            ],
            "type": "contour"
           }
          ],
          "contourcarpet": [
           {
            "colorbar": {
             "outlinewidth": 0,
             "ticks": ""
            },
            "type": "contourcarpet"
           }
          ],
          "heatmap": [
           {
            "colorbar": {
             "outlinewidth": 0,
             "ticks": ""
            },
            "colorscale": [
             [
              0,
              "#0d0887"
             ],
             [
              0.1111111111111111,
              "#46039f"
             ],
             [
              0.2222222222222222,
              "#7201a8"
             ],
             [
              0.3333333333333333,
              "#9c179e"
             ],
             [
              0.4444444444444444,
              "#bd3786"
             ],
             [
              0.5555555555555556,
              "#d8576b"
             ],
             [
              0.6666666666666666,
              "#ed7953"
             ],
             [
              0.7777777777777778,
              "#fb9f3a"
             ],
             [
              0.8888888888888888,
              "#fdca26"
             ],
             [
              1,
              "#f0f921"
             ]
            ],
            "type": "heatmap"
           }
          ],
          "heatmapgl": [
           {
            "colorbar": {
             "outlinewidth": 0,
             "ticks": ""
            },
            "colorscale": [
             [
              0,
              "#0d0887"
             ],
             [
              0.1111111111111111,
              "#46039f"
             ],
             [
              0.2222222222222222,
              "#7201a8"
             ],
             [
              0.3333333333333333,
              "#9c179e"
             ],
             [
              0.4444444444444444,
              "#bd3786"
             ],
             [
              0.5555555555555556,
              "#d8576b"
             ],
             [
              0.6666666666666666,
              "#ed7953"
             ],
             [
              0.7777777777777778,
              "#fb9f3a"
             ],
             [
              0.8888888888888888,
              "#fdca26"
             ],
             [
              1,
              "#f0f921"
             ]
            ],
            "type": "heatmapgl"
           }
          ],
          "histogram": [
           {
            "marker": {
             "pattern": {
              "fillmode": "overlay",
              "size": 10,
              "solidity": 0.2
             }
            },
            "type": "histogram"
           }
          ],
          "histogram2d": [
           {
            "colorbar": {
             "outlinewidth": 0,
             "ticks": ""
            },
            "colorscale": [
             [
              0,
              "#0d0887"
             ],
             [
              0.1111111111111111,
              "#46039f"
             ],
             [
              0.2222222222222222,
              "#7201a8"
             ],
             [
              0.3333333333333333,
              "#9c179e"
             ],
             [
              0.4444444444444444,
              "#bd3786"
             ],
             [
              0.5555555555555556,
              "#d8576b"
             ],
             [
              0.6666666666666666,
              "#ed7953"
             ],
             [
              0.7777777777777778,
              "#fb9f3a"
             ],
             [
              0.8888888888888888,
              "#fdca26"
             ],
             [
              1,
              "#f0f921"
             ]
            ],
            "type": "histogram2d"
           }
          ],
          "histogram2dcontour": [
           {
            "colorbar": {
             "outlinewidth": 0,
             "ticks": ""
            },
            "colorscale": [
             [
              0,
              "#0d0887"
             ],
             [
              0.1111111111111111,
              "#46039f"
             ],
             [
              0.2222222222222222,
              "#7201a8"
             ],
             [
              0.3333333333333333,
              "#9c179e"
             ],
             [
              0.4444444444444444,
              "#bd3786"
             ],
             [
              0.5555555555555556,
              "#d8576b"
             ],
             [
              0.6666666666666666,
              "#ed7953"
             ],
             [
              0.7777777777777778,
              "#fb9f3a"
             ],
             [
              0.8888888888888888,
              "#fdca26"
             ],
             [
              1,
              "#f0f921"
             ]
            ],
            "type": "histogram2dcontour"
           }
          ],
          "mesh3d": [
           {
            "colorbar": {
             "outlinewidth": 0,
             "ticks": ""
            },
            "type": "mesh3d"
           }
          ],
          "parcoords": [
           {
            "line": {
             "colorbar": {
              "outlinewidth": 0,
              "ticks": ""
             }
            },
            "type": "parcoords"
           }
          ],
          "pie": [
           {
            "automargin": true,
            "type": "pie"
           }
          ],
          "scatter": [
           {
            "marker": {
             "colorbar": {
              "outlinewidth": 0,
              "ticks": ""
             }
            },
            "type": "scatter"
           }
          ],
          "scatter3d": [
           {
            "line": {
             "colorbar": {
              "outlinewidth": 0,
              "ticks": ""
             }
            },
            "marker": {
             "colorbar": {
              "outlinewidth": 0,
              "ticks": ""
             }
            },
            "type": "scatter3d"
           }
          ],
          "scattercarpet": [
           {
            "marker": {
             "colorbar": {
              "outlinewidth": 0,
              "ticks": ""
             }
            },
            "type": "scattercarpet"
           }
          ],
          "scattergeo": [
           {
            "marker": {
             "colorbar": {
              "outlinewidth": 0,
              "ticks": ""
             }
            },
            "type": "scattergeo"
           }
          ],
          "scattergl": [
           {
            "marker": {
             "colorbar": {
              "outlinewidth": 0,
              "ticks": ""
             }
            },
            "type": "scattergl"
           }
          ],
          "scattermapbox": [
           {
            "marker": {
             "colorbar": {
              "outlinewidth": 0,
              "ticks": ""
             }
            },
            "type": "scattermapbox"
           }
          ],
          "scatterpolar": [
           {
            "marker": {
             "colorbar": {
              "outlinewidth": 0,
              "ticks": ""
             }
            },
            "type": "scatterpolar"
           }
          ],
          "scatterpolargl": [
           {
            "marker": {
             "colorbar": {
              "outlinewidth": 0,
              "ticks": ""
             }
            },
            "type": "scatterpolargl"
           }
          ],
          "scatterternary": [
           {
            "marker": {
             "colorbar": {
              "outlinewidth": 0,
              "ticks": ""
             }
            },
            "type": "scatterternary"
           }
          ],
          "surface": [
           {
            "colorbar": {
             "outlinewidth": 0,
             "ticks": ""
            },
            "colorscale": [
             [
              0,
              "#0d0887"
             ],
             [
              0.1111111111111111,
              "#46039f"
             ],
             [
              0.2222222222222222,
              "#7201a8"
             ],
             [
              0.3333333333333333,
              "#9c179e"
             ],
             [
              0.4444444444444444,
              "#bd3786"
             ],
             [
              0.5555555555555556,
              "#d8576b"
             ],
             [
              0.6666666666666666,
              "#ed7953"
             ],
             [
              0.7777777777777778,
              "#fb9f3a"
             ],
             [
              0.8888888888888888,
              "#fdca26"
             ],
             [
              1,
              "#f0f921"
             ]
            ],
            "type": "surface"
           }
          ],
          "table": [
           {
            "cells": {
             "fill": {
              "color": "#EBF0F8"
             },
             "line": {
              "color": "white"
             }
            },
            "header": {
             "fill": {
              "color": "#C8D4E3"
             },
             "line": {
              "color": "white"
             }
            },
            "type": "table"
           }
          ]
         },
         "layout": {
          "annotationdefaults": {
           "arrowcolor": "#2a3f5f",
           "arrowhead": 0,
           "arrowwidth": 1
          },
          "autotypenumbers": "strict",
          "coloraxis": {
           "colorbar": {
            "outlinewidth": 0,
            "ticks": ""
           }
          },
          "colorscale": {
           "diverging": [
            [
             0,
             "#8e0152"
            ],
            [
             0.1,
             "#c51b7d"
            ],
            [
             0.2,
             "#de77ae"
            ],
            [
             0.3,
             "#f1b6da"
            ],
            [
             0.4,
             "#fde0ef"
            ],
            [
             0.5,
             "#f7f7f7"
            ],
            [
             0.6,
             "#e6f5d0"
            ],
            [
             0.7,
             "#b8e186"
            ],
            [
             0.8,
             "#7fbc41"
            ],
            [
             0.9,
             "#4d9221"
            ],
            [
             1,
             "#276419"
            ]
           ],
           "sequential": [
            [
             0,
             "#0d0887"
            ],
            [
             0.1111111111111111,
             "#46039f"
            ],
            [
             0.2222222222222222,
             "#7201a8"
            ],
            [
             0.3333333333333333,
             "#9c179e"
            ],
            [
             0.4444444444444444,
             "#bd3786"
            ],
            [
             0.5555555555555556,
             "#d8576b"
            ],
            [
             0.6666666666666666,
             "#ed7953"
            ],
            [
             0.7777777777777778,
             "#fb9f3a"
            ],
            [
             0.8888888888888888,
             "#fdca26"
            ],
            [
             1,
             "#f0f921"
            ]
           ],
           "sequentialminus": [
            [
             0,
             "#0d0887"
            ],
            [
             0.1111111111111111,
             "#46039f"
            ],
            [
             0.2222222222222222,
             "#7201a8"
            ],
            [
             0.3333333333333333,
             "#9c179e"
            ],
            [
             0.4444444444444444,
             "#bd3786"
            ],
            [
             0.5555555555555556,
             "#d8576b"
            ],
            [
             0.6666666666666666,
             "#ed7953"
            ],
            [
             0.7777777777777778,
             "#fb9f3a"
            ],
            [
             0.8888888888888888,
             "#fdca26"
            ],
            [
             1,
             "#f0f921"
            ]
           ]
          },
          "colorway": [
           "#636efa",
           "#EF553B",
           "#00cc96",
           "#ab63fa",
           "#FFA15A",
           "#19d3f3",
           "#FF6692",
           "#B6E880",
           "#FF97FF",
           "#FECB52"
          ],
          "font": {
           "color": "#2a3f5f"
          },
          "geo": {
           "bgcolor": "white",
           "lakecolor": "white",
           "landcolor": "#E5ECF6",
           "showlakes": true,
           "showland": true,
           "subunitcolor": "white"
          },
          "hoverlabel": {
           "align": "left"
          },
          "hovermode": "closest",
          "mapbox": {
           "style": "light"
          },
          "paper_bgcolor": "white",
          "plot_bgcolor": "#E5ECF6",
          "polar": {
           "angularaxis": {
            "gridcolor": "white",
            "linecolor": "white",
            "ticks": ""
           },
           "bgcolor": "#E5ECF6",
           "radialaxis": {
            "gridcolor": "white",
            "linecolor": "white",
            "ticks": ""
           }
          },
          "scene": {
           "xaxis": {
            "backgroundcolor": "#E5ECF6",
            "gridcolor": "white",
            "gridwidth": 2,
            "linecolor": "white",
            "showbackground": true,
            "ticks": "",
            "zerolinecolor": "white"
           },
           "yaxis": {
            "backgroundcolor": "#E5ECF6",
            "gridcolor": "white",
            "gridwidth": 2,
            "linecolor": "white",
            "showbackground": true,
            "ticks": "",
            "zerolinecolor": "white"
           },
           "zaxis": {
            "backgroundcolor": "#E5ECF6",
            "gridcolor": "white",
            "gridwidth": 2,
            "linecolor": "white",
            "showbackground": true,
            "ticks": "",
            "zerolinecolor": "white"
           }
          },
          "shapedefaults": {
           "line": {
            "color": "#2a3f5f"
           }
          },
          "ternary": {
           "aaxis": {
            "gridcolor": "white",
            "linecolor": "white",
            "ticks": ""
           },
           "baxis": {
            "gridcolor": "white",
            "linecolor": "white",
            "ticks": ""
           },
           "bgcolor": "#E5ECF6",
           "caxis": {
            "gridcolor": "white",
            "linecolor": "white",
            "ticks": ""
           }
          },
          "title": {
           "x": 0.05
          },
          "xaxis": {
           "automargin": true,
           "gridcolor": "white",
           "linecolor": "white",
           "ticks": "",
           "title": {
            "standoff": 15
           },
           "zerolinecolor": "white",
           "zerolinewidth": 2
          },
          "yaxis": {
           "automargin": true,
           "gridcolor": "white",
           "linecolor": "white",
           "ticks": "",
           "title": {
            "standoff": 15
           },
           "zerolinecolor": "white",
           "zerolinewidth": 2
          }
         }
        }
       }
      },
      "text/html": [
       "<div>                            <div id=\"5203ac6d-f2fd-4621-a78b-3993083ac639\" class=\"plotly-graph-div\" style=\"height:525px; width:100%;\"></div>            <script type=\"text/javascript\">                require([\"plotly\"], function(Plotly) {                    window.PLOTLYENV=window.PLOTLYENV || {};                                    if (document.getElementById(\"5203ac6d-f2fd-4621-a78b-3993083ac639\")) {                    Plotly.newPlot(                        \"5203ac6d-f2fd-4621-a78b-3993083ac639\",                        [{\"labels\":[\"\\u043c\\u0430\\u0433\\u0430\\u0437\\u0438\\u043d (\\u043e\\u0442\\u0434\\u0435\\u043b \\u043a\\u0443\\u043b\\u0438\\u043d\\u0430\\u0440\\u0438\\u0438)\",\"\\u0437\\u0430\\u043a\\u0443\\u0441\\u043e\\u0447\\u043d\\u0430\\u044f\",\"\\u043a\\u0430\\u0444\\u0435\\u0442\\u0435\\u0440\\u0438\\u0439\",\"\\u0431\\u0443\\u0444\\u0435\\u0442\",\"\\u0431\\u0430\\u0440\",\"\\u043f\\u0440\\u0435\\u0434\\u043f\\u0440\\u0438\\u044f\\u0442\\u0438\\u0435 \\u0431\\u044b\\u0441\\u0442\\u0440\\u043e\\u0433\\u043e \\u043e\\u0431\\u0441\\u043b\\u0443\\u0436\\u0438\\u0432\\u0430\\u043d\\u0438\\u044f\",\"\\u0440\\u0435\\u0441\\u0442\\u043e\\u0440\\u0430\\u043d\",\"\\u0441\\u0442\\u043e\\u043b\\u043e\\u0432\\u0430\\u044f\",\"\\u043a\\u0430\\u0444\\u0435\"],\"title\":{\"text\":\"\\u0412\\u0438\\u0434\\u044b \\u043e\\u0431\\u044a\\u0435\\u043a\\u0442\\u043e\\u0432 \\u043e\\u0431\\u0449\\u0435\\u0441\\u0442\\u0432\\u0435\\u043d\\u043d\\u043e\\u0433\\u043e \\u043f\\u0438\\u0442\\u0430\\u043d\\u0438\\u044f \\u0431\\u0435\\u0437 \\u0441\\u0435\\u0442\\u0435\\u0432\\u043e\\u0433\\u043e \\u0440\\u0430\\u0441\\u043f\\u0440\\u043e\\u0441\\u0442\\u0440\\u0430\\u043d\\u0435\\u043d\\u0438\\u044f\"},\"values\":[195,304,346,574,819,1132,1741,2584,4703],\"type\":\"pie\"}],                        {\"template\":{\"data\":{\"bar\":[{\"error_x\":{\"color\":\"#2a3f5f\"},\"error_y\":{\"color\":\"#2a3f5f\"},\"marker\":{\"line\":{\"color\":\"#E5ECF6\",\"width\":0.5},\"pattern\":{\"fillmode\":\"overlay\",\"size\":10,\"solidity\":0.2}},\"type\":\"bar\"}],\"barpolar\":[{\"marker\":{\"line\":{\"color\":\"#E5ECF6\",\"width\":0.5},\"pattern\":{\"fillmode\":\"overlay\",\"size\":10,\"solidity\":0.2}},\"type\":\"barpolar\"}],\"carpet\":[{\"aaxis\":{\"endlinecolor\":\"#2a3f5f\",\"gridcolor\":\"white\",\"linecolor\":\"white\",\"minorgridcolor\":\"white\",\"startlinecolor\":\"#2a3f5f\"},\"baxis\":{\"endlinecolor\":\"#2a3f5f\",\"gridcolor\":\"white\",\"linecolor\":\"white\",\"minorgridcolor\":\"white\",\"startlinecolor\":\"#2a3f5f\"},\"type\":\"carpet\"}],\"choropleth\":[{\"colorbar\":{\"outlinewidth\":0,\"ticks\":\"\"},\"type\":\"choropleth\"}],\"contour\":[{\"colorbar\":{\"outlinewidth\":0,\"ticks\":\"\"},\"colorscale\":[[0.0,\"#0d0887\"],[0.1111111111111111,\"#46039f\"],[0.2222222222222222,\"#7201a8\"],[0.3333333333333333,\"#9c179e\"],[0.4444444444444444,\"#bd3786\"],[0.5555555555555556,\"#d8576b\"],[0.6666666666666666,\"#ed7953\"],[0.7777777777777778,\"#fb9f3a\"],[0.8888888888888888,\"#fdca26\"],[1.0,\"#f0f921\"]],\"type\":\"contour\"}],\"contourcarpet\":[{\"colorbar\":{\"outlinewidth\":0,\"ticks\":\"\"},\"type\":\"contourcarpet\"}],\"heatmap\":[{\"colorbar\":{\"outlinewidth\":0,\"ticks\":\"\"},\"colorscale\":[[0.0,\"#0d0887\"],[0.1111111111111111,\"#46039f\"],[0.2222222222222222,\"#7201a8\"],[0.3333333333333333,\"#9c179e\"],[0.4444444444444444,\"#bd3786\"],[0.5555555555555556,\"#d8576b\"],[0.6666666666666666,\"#ed7953\"],[0.7777777777777778,\"#fb9f3a\"],[0.8888888888888888,\"#fdca26\"],[1.0,\"#f0f921\"]],\"type\":\"heatmap\"}],\"heatmapgl\":[{\"colorbar\":{\"outlinewidth\":0,\"ticks\":\"\"},\"colorscale\":[[0.0,\"#0d0887\"],[0.1111111111111111,\"#46039f\"],[0.2222222222222222,\"#7201a8\"],[0.3333333333333333,\"#9c179e\"],[0.4444444444444444,\"#bd3786\"],[0.5555555555555556,\"#d8576b\"],[0.6666666666666666,\"#ed7953\"],[0.7777777777777778,\"#fb9f3a\"],[0.8888888888888888,\"#fdca26\"],[1.0,\"#f0f921\"]],\"type\":\"heatmapgl\"}],\"histogram\":[{\"marker\":{\"pattern\":{\"fillmode\":\"overlay\",\"size\":10,\"solidity\":0.2}},\"type\":\"histogram\"}],\"histogram2d\":[{\"colorbar\":{\"outlinewidth\":0,\"ticks\":\"\"},\"colorscale\":[[0.0,\"#0d0887\"],[0.1111111111111111,\"#46039f\"],[0.2222222222222222,\"#7201a8\"],[0.3333333333333333,\"#9c179e\"],[0.4444444444444444,\"#bd3786\"],[0.5555555555555556,\"#d8576b\"],[0.6666666666666666,\"#ed7953\"],[0.7777777777777778,\"#fb9f3a\"],[0.8888888888888888,\"#fdca26\"],[1.0,\"#f0f921\"]],\"type\":\"histogram2d\"}],\"histogram2dcontour\":[{\"colorbar\":{\"outlinewidth\":0,\"ticks\":\"\"},\"colorscale\":[[0.0,\"#0d0887\"],[0.1111111111111111,\"#46039f\"],[0.2222222222222222,\"#7201a8\"],[0.3333333333333333,\"#9c179e\"],[0.4444444444444444,\"#bd3786\"],[0.5555555555555556,\"#d8576b\"],[0.6666666666666666,\"#ed7953\"],[0.7777777777777778,\"#fb9f3a\"],[0.8888888888888888,\"#fdca26\"],[1.0,\"#f0f921\"]],\"type\":\"histogram2dcontour\"}],\"mesh3d\":[{\"colorbar\":{\"outlinewidth\":0,\"ticks\":\"\"},\"type\":\"mesh3d\"}],\"parcoords\":[{\"line\":{\"colorbar\":{\"outlinewidth\":0,\"ticks\":\"\"}},\"type\":\"parcoords\"}],\"pie\":[{\"automargin\":true,\"type\":\"pie\"}],\"scatter\":[{\"marker\":{\"colorbar\":{\"outlinewidth\":0,\"ticks\":\"\"}},\"type\":\"scatter\"}],\"scatter3d\":[{\"line\":{\"colorbar\":{\"outlinewidth\":0,\"ticks\":\"\"}},\"marker\":{\"colorbar\":{\"outlinewidth\":0,\"ticks\":\"\"}},\"type\":\"scatter3d\"}],\"scattercarpet\":[{\"marker\":{\"colorbar\":{\"outlinewidth\":0,\"ticks\":\"\"}},\"type\":\"scattercarpet\"}],\"scattergeo\":[{\"marker\":{\"colorbar\":{\"outlinewidth\":0,\"ticks\":\"\"}},\"type\":\"scattergeo\"}],\"scattergl\":[{\"marker\":{\"colorbar\":{\"outlinewidth\":0,\"ticks\":\"\"}},\"type\":\"scattergl\"}],\"scattermapbox\":[{\"marker\":{\"colorbar\":{\"outlinewidth\":0,\"ticks\":\"\"}},\"type\":\"scattermapbox\"}],\"scatterpolar\":[{\"marker\":{\"colorbar\":{\"outlinewidth\":0,\"ticks\":\"\"}},\"type\":\"scatterpolar\"}],\"scatterpolargl\":[{\"marker\":{\"colorbar\":{\"outlinewidth\":0,\"ticks\":\"\"}},\"type\":\"scatterpolargl\"}],\"scatterternary\":[{\"marker\":{\"colorbar\":{\"outlinewidth\":0,\"ticks\":\"\"}},\"type\":\"scatterternary\"}],\"surface\":[{\"colorbar\":{\"outlinewidth\":0,\"ticks\":\"\"},\"colorscale\":[[0.0,\"#0d0887\"],[0.1111111111111111,\"#46039f\"],[0.2222222222222222,\"#7201a8\"],[0.3333333333333333,\"#9c179e\"],[0.4444444444444444,\"#bd3786\"],[0.5555555555555556,\"#d8576b\"],[0.6666666666666666,\"#ed7953\"],[0.7777777777777778,\"#fb9f3a\"],[0.8888888888888888,\"#fdca26\"],[1.0,\"#f0f921\"]],\"type\":\"surface\"}],\"table\":[{\"cells\":{\"fill\":{\"color\":\"#EBF0F8\"},\"line\":{\"color\":\"white\"}},\"header\":{\"fill\":{\"color\":\"#C8D4E3\"},\"line\":{\"color\":\"white\"}},\"type\":\"table\"}]},\"layout\":{\"annotationdefaults\":{\"arrowcolor\":\"#2a3f5f\",\"arrowhead\":0,\"arrowwidth\":1},\"autotypenumbers\":\"strict\",\"coloraxis\":{\"colorbar\":{\"outlinewidth\":0,\"ticks\":\"\"}},\"colorscale\":{\"diverging\":[[0,\"#8e0152\"],[0.1,\"#c51b7d\"],[0.2,\"#de77ae\"],[0.3,\"#f1b6da\"],[0.4,\"#fde0ef\"],[0.5,\"#f7f7f7\"],[0.6,\"#e6f5d0\"],[0.7,\"#b8e186\"],[0.8,\"#7fbc41\"],[0.9,\"#4d9221\"],[1,\"#276419\"]],\"sequential\":[[0.0,\"#0d0887\"],[0.1111111111111111,\"#46039f\"],[0.2222222222222222,\"#7201a8\"],[0.3333333333333333,\"#9c179e\"],[0.4444444444444444,\"#bd3786\"],[0.5555555555555556,\"#d8576b\"],[0.6666666666666666,\"#ed7953\"],[0.7777777777777778,\"#fb9f3a\"],[0.8888888888888888,\"#fdca26\"],[1.0,\"#f0f921\"]],\"sequentialminus\":[[0.0,\"#0d0887\"],[0.1111111111111111,\"#46039f\"],[0.2222222222222222,\"#7201a8\"],[0.3333333333333333,\"#9c179e\"],[0.4444444444444444,\"#bd3786\"],[0.5555555555555556,\"#d8576b\"],[0.6666666666666666,\"#ed7953\"],[0.7777777777777778,\"#fb9f3a\"],[0.8888888888888888,\"#fdca26\"],[1.0,\"#f0f921\"]]},\"colorway\":[\"#636efa\",\"#EF553B\",\"#00cc96\",\"#ab63fa\",\"#FFA15A\",\"#19d3f3\",\"#FF6692\",\"#B6E880\",\"#FF97FF\",\"#FECB52\"],\"font\":{\"color\":\"#2a3f5f\"},\"geo\":{\"bgcolor\":\"white\",\"lakecolor\":\"white\",\"landcolor\":\"#E5ECF6\",\"showlakes\":true,\"showland\":true,\"subunitcolor\":\"white\"},\"hoverlabel\":{\"align\":\"left\"},\"hovermode\":\"closest\",\"mapbox\":{\"style\":\"light\"},\"paper_bgcolor\":\"white\",\"plot_bgcolor\":\"#E5ECF6\",\"polar\":{\"angularaxis\":{\"gridcolor\":\"white\",\"linecolor\":\"white\",\"ticks\":\"\"},\"bgcolor\":\"#E5ECF6\",\"radialaxis\":{\"gridcolor\":\"white\",\"linecolor\":\"white\",\"ticks\":\"\"}},\"scene\":{\"xaxis\":{\"backgroundcolor\":\"#E5ECF6\",\"gridcolor\":\"white\",\"gridwidth\":2,\"linecolor\":\"white\",\"showbackground\":true,\"ticks\":\"\",\"zerolinecolor\":\"white\"},\"yaxis\":{\"backgroundcolor\":\"#E5ECF6\",\"gridcolor\":\"white\",\"gridwidth\":2,\"linecolor\":\"white\",\"showbackground\":true,\"ticks\":\"\",\"zerolinecolor\":\"white\"},\"zaxis\":{\"backgroundcolor\":\"#E5ECF6\",\"gridcolor\":\"white\",\"gridwidth\":2,\"linecolor\":\"white\",\"showbackground\":true,\"ticks\":\"\",\"zerolinecolor\":\"white\"}},\"shapedefaults\":{\"line\":{\"color\":\"#2a3f5f\"}},\"ternary\":{\"aaxis\":{\"gridcolor\":\"white\",\"linecolor\":\"white\",\"ticks\":\"\"},\"baxis\":{\"gridcolor\":\"white\",\"linecolor\":\"white\",\"ticks\":\"\"},\"bgcolor\":\"#E5ECF6\",\"caxis\":{\"gridcolor\":\"white\",\"linecolor\":\"white\",\"ticks\":\"\"}},\"title\":{\"x\":0.05},\"xaxis\":{\"automargin\":true,\"gridcolor\":\"white\",\"linecolor\":\"white\",\"ticks\":\"\",\"title\":{\"standoff\":15},\"zerolinecolor\":\"white\",\"zerolinewidth\":2},\"yaxis\":{\"automargin\":true,\"gridcolor\":\"white\",\"linecolor\":\"white\",\"ticks\":\"\",\"title\":{\"standoff\":15},\"zerolinecolor\":\"white\",\"zerolinewidth\":2}}}},                        {\"responsive\": true}                    ).then(function(){\n",
       "                            \n",
       "var gd = document.getElementById('5203ac6d-f2fd-4621-a78b-3993083ac639');\n",
       "var x = new MutationObserver(function (mutations, observer) {{\n",
       "        var display = window.getComputedStyle(gd).display;\n",
       "        if (!display || display === 'none') {{\n",
       "            console.log([gd, 'removed!']);\n",
       "            Plotly.purge(gd);\n",
       "            observer.disconnect();\n",
       "        }}\n",
       "}});\n",
       "\n",
       "// Listen for the removal of the full notebook cells\n",
       "var notebookContainer = gd.closest('#notebook-container');\n",
       "if (notebookContainer) {{\n",
       "    x.observe(notebookContainer, {childList: true});\n",
       "}}\n",
       "\n",
       "// Listen for the clearing of the current output cell\n",
       "var outputEl = gd.closest('.output');\n",
       "if (outputEl) {{\n",
       "    x.observe(outputEl, {childList: true});\n",
       "}}\n",
       "\n",
       "                        })                };                });            </script>        </div>"
      ]
     },
     "metadata": {},
     "output_type": "display_data"
    }
   ],
   "source": [
    "# построим график\n",
    "\n",
    "labels = rest_data_chain_n_type['object_type_ch']\n",
    "values = rest_data_chain_n_type['count_id']\n",
    "\n",
    "fig = go.Figure(data=[go.Pie(labels=labels, values=values\n",
    "                             ,title='Виды объектов общественного питания без сетевого распространения')])\n",
    "fig.show()"
   ]
  },
  {
   "cell_type": "markdown",
   "id": "46ec7c89",
   "metadata": {},
   "source": [
    "*Промежуточный вывод*\n",
    "\n",
    " В результате исследования  вида объекта общественного питания, для которого характерно сетевое распространение, установлено, что подавляющее большинство объектов 47 % относятся к кафе, доля сетевых предприятий быстрого обслуживания составляет 26,7%. Сетевые рестораны составляют 18,3 % от количества всех сетевых объектов питания, доли остальных типов заведений не превышают 2%. \n",
    " \n",
    " Для несетевых предприятий соотношения  в части кафе и ресторанов совпадают (37,9% и 14% соответственно), но доля баров и буфетов выше.\n",
    " \n",
    " Доля же столовых у несетевых предприятий составляет более 20% (0,1% в сетях), а доля предприятий быстрого обслуживания - чуть более 9% (26.7% в сетях). Разница существенная!"
   ]
  },
  {
   "cell_type": "code",
   "execution_count": 102,
   "id": "0fe33650",
   "metadata": {},
   "outputs": [
    {
     "data": {
      "text/html": [
       "<div>\n",
       "<style scoped>\n",
       "    .dataframe tbody tr th:only-of-type {\n",
       "        vertical-align: middle;\n",
       "    }\n",
       "\n",
       "    .dataframe tbody tr th {\n",
       "        vertical-align: top;\n",
       "    }\n",
       "\n",
       "    .dataframe thead th {\n",
       "        text-align: right;\n",
       "    }\n",
       "</style>\n",
       "<table border=\"1\" class=\"dataframe\">\n",
       "  <thead>\n",
       "    <tr style=\"text-align: right;\">\n",
       "      <th></th>\n",
       "      <th>object_type</th>\n",
       "      <th>chain</th>\n",
       "      <th>id</th>\n",
       "    </tr>\n",
       "  </thead>\n",
       "  <tbody>\n",
       "    <tr>\n",
       "      <th>0</th>\n",
       "      <td>бар</td>\n",
       "      <td>да</td>\n",
       "      <td>37</td>\n",
       "    </tr>\n",
       "    <tr>\n",
       "      <th>1</th>\n",
       "      <td>бар</td>\n",
       "      <td>нет</td>\n",
       "      <td>819</td>\n",
       "    </tr>\n",
       "    <tr>\n",
       "      <th>2</th>\n",
       "      <td>буфет</td>\n",
       "      <td>да</td>\n",
       "      <td>11</td>\n",
       "    </tr>\n",
       "    <tr>\n",
       "      <th>3</th>\n",
       "      <td>буфет</td>\n",
       "      <td>нет</td>\n",
       "      <td>574</td>\n",
       "    </tr>\n",
       "    <tr>\n",
       "      <th>4</th>\n",
       "      <td>закусочная</td>\n",
       "      <td>да</td>\n",
       "      <td>56</td>\n",
       "    </tr>\n",
       "  </tbody>\n",
       "</table>\n",
       "</div>"
      ],
      "text/plain": [
       "  object_type chain   id\n",
       "0         бар    да   37\n",
       "1         бар   нет  819\n",
       "2       буфет    да   11\n",
       "3       буфет   нет  574\n",
       "4  закусочная    да   56"
      ]
     },
     "metadata": {},
     "output_type": "display_data"
    }
   ],
   "source": [
    "# сгруппируем rest_data  по колонке object_type\n",
    "rest_data_type = rest_data[['object_type','id','chain']].groupby(['object_type','chain'])\\\n",
    ".count().reset_index()\n",
    "\n",
    "display(rest_data_type.head())"
   ]
  },
  {
   "cell_type": "code",
   "execution_count": 103,
   "id": "aa5b1f14",
   "metadata": {},
   "outputs": [
    {
     "data": {
      "application/vnd.plotly.v1+json": {
       "config": {
        "plotlyServerURL": "https://plot.ly"
       },
       "data": [
        {
         "alignmentgroup": "True",
         "hovertemplate": "chain=да<br>object_type=%{x}<br>id=%{y}<extra></extra>",
         "legendgroup": "да",
         "marker": {
          "color": "#636efa",
          "pattern": {
           "shape": ""
          }
         },
         "name": "да",
         "offsetgroup": "да",
         "orientation": "v",
         "showlegend": true,
         "textposition": "auto",
         "type": "bar",
         "x": [
          "бар",
          "буфет",
          "закусочная",
          "кафе",
          "кафетерий",
          "магазин (отдел кулинарии)",
          "предприятие быстрого обслуживания",
          "ресторан",
          "столовая"
         ],
         "xaxis": "x",
         "y": [
          37,
          11,
          56,
          1396,
          52,
          78,
          791,
          544,
          3
         ],
         "yaxis": "y"
        },
        {
         "alignmentgroup": "True",
         "hovertemplate": "chain=нет<br>object_type=%{x}<br>id=%{y}<extra></extra>",
         "legendgroup": "нет",
         "marker": {
          "color": "#EF553B",
          "pattern": {
           "shape": ""
          }
         },
         "name": "нет",
         "offsetgroup": "нет",
         "orientation": "v",
         "showlegend": true,
         "textposition": "auto",
         "type": "bar",
         "x": [
          "бар",
          "буфет",
          "закусочная",
          "кафе",
          "кафетерий",
          "магазин (отдел кулинарии)",
          "предприятие быстрого обслуживания",
          "ресторан",
          "столовая"
         ],
         "xaxis": "x",
         "y": [
          819,
          574,
          304,
          4703,
          346,
          195,
          1132,
          1741,
          2584
         ],
         "yaxis": "y"
        }
       ],
       "layout": {
        "barmode": "relative",
        "height": 800,
        "legend": {
         "title": {
          "text": "chain"
         },
         "tracegroupgap": 0
        },
        "template": {
         "data": {
          "bar": [
           {
            "error_x": {
             "color": "#2a3f5f"
            },
            "error_y": {
             "color": "#2a3f5f"
            },
            "marker": {
             "line": {
              "color": "#E5ECF6",
              "width": 0.5
             },
             "pattern": {
              "fillmode": "overlay",
              "size": 10,
              "solidity": 0.2
             }
            },
            "type": "bar"
           }
          ],
          "barpolar": [
           {
            "marker": {
             "line": {
              "color": "#E5ECF6",
              "width": 0.5
             },
             "pattern": {
              "fillmode": "overlay",
              "size": 10,
              "solidity": 0.2
             }
            },
            "type": "barpolar"
           }
          ],
          "carpet": [
           {
            "aaxis": {
             "endlinecolor": "#2a3f5f",
             "gridcolor": "white",
             "linecolor": "white",
             "minorgridcolor": "white",
             "startlinecolor": "#2a3f5f"
            },
            "baxis": {
             "endlinecolor": "#2a3f5f",
             "gridcolor": "white",
             "linecolor": "white",
             "minorgridcolor": "white",
             "startlinecolor": "#2a3f5f"
            },
            "type": "carpet"
           }
          ],
          "choropleth": [
           {
            "colorbar": {
             "outlinewidth": 0,
             "ticks": ""
            },
            "type": "choropleth"
           }
          ],
          "contour": [
           {
            "colorbar": {
             "outlinewidth": 0,
             "ticks": ""
            },
            "colorscale": [
             [
              0,
              "#0d0887"
             ],
             [
              0.1111111111111111,
              "#46039f"
             ],
             [
              0.2222222222222222,
              "#7201a8"
             ],
             [
              0.3333333333333333,
              "#9c179e"
             ],
             [
              0.4444444444444444,
              "#bd3786"
             ],
             [
              0.5555555555555556,
              "#d8576b"
             ],
             [
              0.6666666666666666,
              "#ed7953"
             ],
             [
              0.7777777777777778,
              "#fb9f3a"
             ],
             [
              0.8888888888888888,
              "#fdca26"
             ],
             [
              1,
              "#f0f921"
             ]
            ],
            "type": "contour"
           }
          ],
          "contourcarpet": [
           {
            "colorbar": {
             "outlinewidth": 0,
             "ticks": ""
            },
            "type": "contourcarpet"
           }
          ],
          "heatmap": [
           {
            "colorbar": {
             "outlinewidth": 0,
             "ticks": ""
            },
            "colorscale": [
             [
              0,
              "#0d0887"
             ],
             [
              0.1111111111111111,
              "#46039f"
             ],
             [
              0.2222222222222222,
              "#7201a8"
             ],
             [
              0.3333333333333333,
              "#9c179e"
             ],
             [
              0.4444444444444444,
              "#bd3786"
             ],
             [
              0.5555555555555556,
              "#d8576b"
             ],
             [
              0.6666666666666666,
              "#ed7953"
             ],
             [
              0.7777777777777778,
              "#fb9f3a"
             ],
             [
              0.8888888888888888,
              "#fdca26"
             ],
             [
              1,
              "#f0f921"
             ]
            ],
            "type": "heatmap"
           }
          ],
          "heatmapgl": [
           {
            "colorbar": {
             "outlinewidth": 0,
             "ticks": ""
            },
            "colorscale": [
             [
              0,
              "#0d0887"
             ],
             [
              0.1111111111111111,
              "#46039f"
             ],
             [
              0.2222222222222222,
              "#7201a8"
             ],
             [
              0.3333333333333333,
              "#9c179e"
             ],
             [
              0.4444444444444444,
              "#bd3786"
             ],
             [
              0.5555555555555556,
              "#d8576b"
             ],
             [
              0.6666666666666666,
              "#ed7953"
             ],
             [
              0.7777777777777778,
              "#fb9f3a"
             ],
             [
              0.8888888888888888,
              "#fdca26"
             ],
             [
              1,
              "#f0f921"
             ]
            ],
            "type": "heatmapgl"
           }
          ],
          "histogram": [
           {
            "marker": {
             "pattern": {
              "fillmode": "overlay",
              "size": 10,
              "solidity": 0.2
             }
            },
            "type": "histogram"
           }
          ],
          "histogram2d": [
           {
            "colorbar": {
             "outlinewidth": 0,
             "ticks": ""
            },
            "colorscale": [
             [
              0,
              "#0d0887"
             ],
             [
              0.1111111111111111,
              "#46039f"
             ],
             [
              0.2222222222222222,
              "#7201a8"
             ],
             [
              0.3333333333333333,
              "#9c179e"
             ],
             [
              0.4444444444444444,
              "#bd3786"
             ],
             [
              0.5555555555555556,
              "#d8576b"
             ],
             [
              0.6666666666666666,
              "#ed7953"
             ],
             [
              0.7777777777777778,
              "#fb9f3a"
             ],
             [
              0.8888888888888888,
              "#fdca26"
             ],
             [
              1,
              "#f0f921"
             ]
            ],
            "type": "histogram2d"
           }
          ],
          "histogram2dcontour": [
           {
            "colorbar": {
             "outlinewidth": 0,
             "ticks": ""
            },
            "colorscale": [
             [
              0,
              "#0d0887"
             ],
             [
              0.1111111111111111,
              "#46039f"
             ],
             [
              0.2222222222222222,
              "#7201a8"
             ],
             [
              0.3333333333333333,
              "#9c179e"
             ],
             [
              0.4444444444444444,
              "#bd3786"
             ],
             [
              0.5555555555555556,
              "#d8576b"
             ],
             [
              0.6666666666666666,
              "#ed7953"
             ],
             [
              0.7777777777777778,
              "#fb9f3a"
             ],
             [
              0.8888888888888888,
              "#fdca26"
             ],
             [
              1,
              "#f0f921"
             ]
            ],
            "type": "histogram2dcontour"
           }
          ],
          "mesh3d": [
           {
            "colorbar": {
             "outlinewidth": 0,
             "ticks": ""
            },
            "type": "mesh3d"
           }
          ],
          "parcoords": [
           {
            "line": {
             "colorbar": {
              "outlinewidth": 0,
              "ticks": ""
             }
            },
            "type": "parcoords"
           }
          ],
          "pie": [
           {
            "automargin": true,
            "type": "pie"
           }
          ],
          "scatter": [
           {
            "marker": {
             "colorbar": {
              "outlinewidth": 0,
              "ticks": ""
             }
            },
            "type": "scatter"
           }
          ],
          "scatter3d": [
           {
            "line": {
             "colorbar": {
              "outlinewidth": 0,
              "ticks": ""
             }
            },
            "marker": {
             "colorbar": {
              "outlinewidth": 0,
              "ticks": ""
             }
            },
            "type": "scatter3d"
           }
          ],
          "scattercarpet": [
           {
            "marker": {
             "colorbar": {
              "outlinewidth": 0,
              "ticks": ""
             }
            },
            "type": "scattercarpet"
           }
          ],
          "scattergeo": [
           {
            "marker": {
             "colorbar": {
              "outlinewidth": 0,
              "ticks": ""
             }
            },
            "type": "scattergeo"
           }
          ],
          "scattergl": [
           {
            "marker": {
             "colorbar": {
              "outlinewidth": 0,
              "ticks": ""
             }
            },
            "type": "scattergl"
           }
          ],
          "scattermapbox": [
           {
            "marker": {
             "colorbar": {
              "outlinewidth": 0,
              "ticks": ""
             }
            },
            "type": "scattermapbox"
           }
          ],
          "scatterpolar": [
           {
            "marker": {
             "colorbar": {
              "outlinewidth": 0,
              "ticks": ""
             }
            },
            "type": "scatterpolar"
           }
          ],
          "scatterpolargl": [
           {
            "marker": {
             "colorbar": {
              "outlinewidth": 0,
              "ticks": ""
             }
            },
            "type": "scatterpolargl"
           }
          ],
          "scatterternary": [
           {
            "marker": {
             "colorbar": {
              "outlinewidth": 0,
              "ticks": ""
             }
            },
            "type": "scatterternary"
           }
          ],
          "surface": [
           {
            "colorbar": {
             "outlinewidth": 0,
             "ticks": ""
            },
            "colorscale": [
             [
              0,
              "#0d0887"
             ],
             [
              0.1111111111111111,
              "#46039f"
             ],
             [
              0.2222222222222222,
              "#7201a8"
             ],
             [
              0.3333333333333333,
              "#9c179e"
             ],
             [
              0.4444444444444444,
              "#bd3786"
             ],
             [
              0.5555555555555556,
              "#d8576b"
             ],
             [
              0.6666666666666666,
              "#ed7953"
             ],
             [
              0.7777777777777778,
              "#fb9f3a"
             ],
             [
              0.8888888888888888,
              "#fdca26"
             ],
             [
              1,
              "#f0f921"
             ]
            ],
            "type": "surface"
           }
          ],
          "table": [
           {
            "cells": {
             "fill": {
              "color": "#EBF0F8"
             },
             "line": {
              "color": "white"
             }
            },
            "header": {
             "fill": {
              "color": "#C8D4E3"
             },
             "line": {
              "color": "white"
             }
            },
            "type": "table"
           }
          ]
         },
         "layout": {
          "annotationdefaults": {
           "arrowcolor": "#2a3f5f",
           "arrowhead": 0,
           "arrowwidth": 1
          },
          "autotypenumbers": "strict",
          "coloraxis": {
           "colorbar": {
            "outlinewidth": 0,
            "ticks": ""
           }
          },
          "colorscale": {
           "diverging": [
            [
             0,
             "#8e0152"
            ],
            [
             0.1,
             "#c51b7d"
            ],
            [
             0.2,
             "#de77ae"
            ],
            [
             0.3,
             "#f1b6da"
            ],
            [
             0.4,
             "#fde0ef"
            ],
            [
             0.5,
             "#f7f7f7"
            ],
            [
             0.6,
             "#e6f5d0"
            ],
            [
             0.7,
             "#b8e186"
            ],
            [
             0.8,
             "#7fbc41"
            ],
            [
             0.9,
             "#4d9221"
            ],
            [
             1,
             "#276419"
            ]
           ],
           "sequential": [
            [
             0,
             "#0d0887"
            ],
            [
             0.1111111111111111,
             "#46039f"
            ],
            [
             0.2222222222222222,
             "#7201a8"
            ],
            [
             0.3333333333333333,
             "#9c179e"
            ],
            [
             0.4444444444444444,
             "#bd3786"
            ],
            [
             0.5555555555555556,
             "#d8576b"
            ],
            [
             0.6666666666666666,
             "#ed7953"
            ],
            [
             0.7777777777777778,
             "#fb9f3a"
            ],
            [
             0.8888888888888888,
             "#fdca26"
            ],
            [
             1,
             "#f0f921"
            ]
           ],
           "sequentialminus": [
            [
             0,
             "#0d0887"
            ],
            [
             0.1111111111111111,
             "#46039f"
            ],
            [
             0.2222222222222222,
             "#7201a8"
            ],
            [
             0.3333333333333333,
             "#9c179e"
            ],
            [
             0.4444444444444444,
             "#bd3786"
            ],
            [
             0.5555555555555556,
             "#d8576b"
            ],
            [
             0.6666666666666666,
             "#ed7953"
            ],
            [
             0.7777777777777778,
             "#fb9f3a"
            ],
            [
             0.8888888888888888,
             "#fdca26"
            ],
            [
             1,
             "#f0f921"
            ]
           ]
          },
          "colorway": [
           "#636efa",
           "#EF553B",
           "#00cc96",
           "#ab63fa",
           "#FFA15A",
           "#19d3f3",
           "#FF6692",
           "#B6E880",
           "#FF97FF",
           "#FECB52"
          ],
          "font": {
           "color": "#2a3f5f"
          },
          "geo": {
           "bgcolor": "white",
           "lakecolor": "white",
           "landcolor": "#E5ECF6",
           "showlakes": true,
           "showland": true,
           "subunitcolor": "white"
          },
          "hoverlabel": {
           "align": "left"
          },
          "hovermode": "closest",
          "mapbox": {
           "style": "light"
          },
          "paper_bgcolor": "white",
          "plot_bgcolor": "#E5ECF6",
          "polar": {
           "angularaxis": {
            "gridcolor": "white",
            "linecolor": "white",
            "ticks": ""
           },
           "bgcolor": "#E5ECF6",
           "radialaxis": {
            "gridcolor": "white",
            "linecolor": "white",
            "ticks": ""
           }
          },
          "scene": {
           "xaxis": {
            "backgroundcolor": "#E5ECF6",
            "gridcolor": "white",
            "gridwidth": 2,
            "linecolor": "white",
            "showbackground": true,
            "ticks": "",
            "zerolinecolor": "white"
           },
           "yaxis": {
            "backgroundcolor": "#E5ECF6",
            "gridcolor": "white",
            "gridwidth": 2,
            "linecolor": "white",
            "showbackground": true,
            "ticks": "",
            "zerolinecolor": "white"
           },
           "zaxis": {
            "backgroundcolor": "#E5ECF6",
            "gridcolor": "white",
            "gridwidth": 2,
            "linecolor": "white",
            "showbackground": true,
            "ticks": "",
            "zerolinecolor": "white"
           }
          },
          "shapedefaults": {
           "line": {
            "color": "#2a3f5f"
           }
          },
          "ternary": {
           "aaxis": {
            "gridcolor": "white",
            "linecolor": "white",
            "ticks": ""
           },
           "baxis": {
            "gridcolor": "white",
            "linecolor": "white",
            "ticks": ""
           },
           "bgcolor": "#E5ECF6",
           "caxis": {
            "gridcolor": "white",
            "linecolor": "white",
            "ticks": ""
           }
          },
          "title": {
           "x": 0.05
          },
          "xaxis": {
           "automargin": true,
           "gridcolor": "white",
           "linecolor": "white",
           "ticks": "",
           "title": {
            "standoff": 15
           },
           "zerolinecolor": "white",
           "zerolinewidth": 2
          },
          "yaxis": {
           "automargin": true,
           "gridcolor": "white",
           "linecolor": "white",
           "ticks": "",
           "title": {
            "standoff": 15
           },
           "zerolinecolor": "white",
           "zerolinewidth": 2
          }
         }
        },
        "title": {
         "text": "График характерного сетевого распределения для типов заведений"
        },
        "width": 800,
        "xaxis": {
         "anchor": "y",
         "domain": [
          0,
          1
         ],
         "tickangle": 45,
         "title": {
          "text": "object_type"
         }
        },
        "yaxis": {
         "anchor": "x",
         "domain": [
          0,
          1
         ],
         "title": {
          "text": "id"
         }
        }
       }
      },
      "text/html": [
       "<div>                            <div id=\"89f7ebae-dfb1-47ec-9a20-b0e1ac8eecc9\" class=\"plotly-graph-div\" style=\"height:800px; width:800px;\"></div>            <script type=\"text/javascript\">                require([\"plotly\"], function(Plotly) {                    window.PLOTLYENV=window.PLOTLYENV || {};                                    if (document.getElementById(\"89f7ebae-dfb1-47ec-9a20-b0e1ac8eecc9\")) {                    Plotly.newPlot(                        \"89f7ebae-dfb1-47ec-9a20-b0e1ac8eecc9\",                        [{\"alignmentgroup\":\"True\",\"hovertemplate\":\"chain=\\u0434\\u0430<br>object_type=%{x}<br>id=%{y}<extra></extra>\",\"legendgroup\":\"\\u0434\\u0430\",\"marker\":{\"color\":\"#636efa\",\"pattern\":{\"shape\":\"\"}},\"name\":\"\\u0434\\u0430\",\"offsetgroup\":\"\\u0434\\u0430\",\"orientation\":\"v\",\"showlegend\":true,\"textposition\":\"auto\",\"x\":[\"\\u0431\\u0430\\u0440\",\"\\u0431\\u0443\\u0444\\u0435\\u0442\",\"\\u0437\\u0430\\u043a\\u0443\\u0441\\u043e\\u0447\\u043d\\u0430\\u044f\",\"\\u043a\\u0430\\u0444\\u0435\",\"\\u043a\\u0430\\u0444\\u0435\\u0442\\u0435\\u0440\\u0438\\u0439\",\"\\u043c\\u0430\\u0433\\u0430\\u0437\\u0438\\u043d (\\u043e\\u0442\\u0434\\u0435\\u043b \\u043a\\u0443\\u043b\\u0438\\u043d\\u0430\\u0440\\u0438\\u0438)\",\"\\u043f\\u0440\\u0435\\u0434\\u043f\\u0440\\u0438\\u044f\\u0442\\u0438\\u0435 \\u0431\\u044b\\u0441\\u0442\\u0440\\u043e\\u0433\\u043e \\u043e\\u0431\\u0441\\u043b\\u0443\\u0436\\u0438\\u0432\\u0430\\u043d\\u0438\\u044f\",\"\\u0440\\u0435\\u0441\\u0442\\u043e\\u0440\\u0430\\u043d\",\"\\u0441\\u0442\\u043e\\u043b\\u043e\\u0432\\u0430\\u044f\"],\"xaxis\":\"x\",\"y\":[37,11,56,1396,52,78,791,544,3],\"yaxis\":\"y\",\"type\":\"bar\"},{\"alignmentgroup\":\"True\",\"hovertemplate\":\"chain=\\u043d\\u0435\\u0442<br>object_type=%{x}<br>id=%{y}<extra></extra>\",\"legendgroup\":\"\\u043d\\u0435\\u0442\",\"marker\":{\"color\":\"#EF553B\",\"pattern\":{\"shape\":\"\"}},\"name\":\"\\u043d\\u0435\\u0442\",\"offsetgroup\":\"\\u043d\\u0435\\u0442\",\"orientation\":\"v\",\"showlegend\":true,\"textposition\":\"auto\",\"x\":[\"\\u0431\\u0430\\u0440\",\"\\u0431\\u0443\\u0444\\u0435\\u0442\",\"\\u0437\\u0430\\u043a\\u0443\\u0441\\u043e\\u0447\\u043d\\u0430\\u044f\",\"\\u043a\\u0430\\u0444\\u0435\",\"\\u043a\\u0430\\u0444\\u0435\\u0442\\u0435\\u0440\\u0438\\u0439\",\"\\u043c\\u0430\\u0433\\u0430\\u0437\\u0438\\u043d (\\u043e\\u0442\\u0434\\u0435\\u043b \\u043a\\u0443\\u043b\\u0438\\u043d\\u0430\\u0440\\u0438\\u0438)\",\"\\u043f\\u0440\\u0435\\u0434\\u043f\\u0440\\u0438\\u044f\\u0442\\u0438\\u0435 \\u0431\\u044b\\u0441\\u0442\\u0440\\u043e\\u0433\\u043e \\u043e\\u0431\\u0441\\u043b\\u0443\\u0436\\u0438\\u0432\\u0430\\u043d\\u0438\\u044f\",\"\\u0440\\u0435\\u0441\\u0442\\u043e\\u0440\\u0430\\u043d\",\"\\u0441\\u0442\\u043e\\u043b\\u043e\\u0432\\u0430\\u044f\"],\"xaxis\":\"x\",\"y\":[819,574,304,4703,346,195,1132,1741,2584],\"yaxis\":\"y\",\"type\":\"bar\"}],                        {\"template\":{\"data\":{\"bar\":[{\"error_x\":{\"color\":\"#2a3f5f\"},\"error_y\":{\"color\":\"#2a3f5f\"},\"marker\":{\"line\":{\"color\":\"#E5ECF6\",\"width\":0.5},\"pattern\":{\"fillmode\":\"overlay\",\"size\":10,\"solidity\":0.2}},\"type\":\"bar\"}],\"barpolar\":[{\"marker\":{\"line\":{\"color\":\"#E5ECF6\",\"width\":0.5},\"pattern\":{\"fillmode\":\"overlay\",\"size\":10,\"solidity\":0.2}},\"type\":\"barpolar\"}],\"carpet\":[{\"aaxis\":{\"endlinecolor\":\"#2a3f5f\",\"gridcolor\":\"white\",\"linecolor\":\"white\",\"minorgridcolor\":\"white\",\"startlinecolor\":\"#2a3f5f\"},\"baxis\":{\"endlinecolor\":\"#2a3f5f\",\"gridcolor\":\"white\",\"linecolor\":\"white\",\"minorgridcolor\":\"white\",\"startlinecolor\":\"#2a3f5f\"},\"type\":\"carpet\"}],\"choropleth\":[{\"colorbar\":{\"outlinewidth\":0,\"ticks\":\"\"},\"type\":\"choropleth\"}],\"contour\":[{\"colorbar\":{\"outlinewidth\":0,\"ticks\":\"\"},\"colorscale\":[[0.0,\"#0d0887\"],[0.1111111111111111,\"#46039f\"],[0.2222222222222222,\"#7201a8\"],[0.3333333333333333,\"#9c179e\"],[0.4444444444444444,\"#bd3786\"],[0.5555555555555556,\"#d8576b\"],[0.6666666666666666,\"#ed7953\"],[0.7777777777777778,\"#fb9f3a\"],[0.8888888888888888,\"#fdca26\"],[1.0,\"#f0f921\"]],\"type\":\"contour\"}],\"contourcarpet\":[{\"colorbar\":{\"outlinewidth\":0,\"ticks\":\"\"},\"type\":\"contourcarpet\"}],\"heatmap\":[{\"colorbar\":{\"outlinewidth\":0,\"ticks\":\"\"},\"colorscale\":[[0.0,\"#0d0887\"],[0.1111111111111111,\"#46039f\"],[0.2222222222222222,\"#7201a8\"],[0.3333333333333333,\"#9c179e\"],[0.4444444444444444,\"#bd3786\"],[0.5555555555555556,\"#d8576b\"],[0.6666666666666666,\"#ed7953\"],[0.7777777777777778,\"#fb9f3a\"],[0.8888888888888888,\"#fdca26\"],[1.0,\"#f0f921\"]],\"type\":\"heatmap\"}],\"heatmapgl\":[{\"colorbar\":{\"outlinewidth\":0,\"ticks\":\"\"},\"colorscale\":[[0.0,\"#0d0887\"],[0.1111111111111111,\"#46039f\"],[0.2222222222222222,\"#7201a8\"],[0.3333333333333333,\"#9c179e\"],[0.4444444444444444,\"#bd3786\"],[0.5555555555555556,\"#d8576b\"],[0.6666666666666666,\"#ed7953\"],[0.7777777777777778,\"#fb9f3a\"],[0.8888888888888888,\"#fdca26\"],[1.0,\"#f0f921\"]],\"type\":\"heatmapgl\"}],\"histogram\":[{\"marker\":{\"pattern\":{\"fillmode\":\"overlay\",\"size\":10,\"solidity\":0.2}},\"type\":\"histogram\"}],\"histogram2d\":[{\"colorbar\":{\"outlinewidth\":0,\"ticks\":\"\"},\"colorscale\":[[0.0,\"#0d0887\"],[0.1111111111111111,\"#46039f\"],[0.2222222222222222,\"#7201a8\"],[0.3333333333333333,\"#9c179e\"],[0.4444444444444444,\"#bd3786\"],[0.5555555555555556,\"#d8576b\"],[0.6666666666666666,\"#ed7953\"],[0.7777777777777778,\"#fb9f3a\"],[0.8888888888888888,\"#fdca26\"],[1.0,\"#f0f921\"]],\"type\":\"histogram2d\"}],\"histogram2dcontour\":[{\"colorbar\":{\"outlinewidth\":0,\"ticks\":\"\"},\"colorscale\":[[0.0,\"#0d0887\"],[0.1111111111111111,\"#46039f\"],[0.2222222222222222,\"#7201a8\"],[0.3333333333333333,\"#9c179e\"],[0.4444444444444444,\"#bd3786\"],[0.5555555555555556,\"#d8576b\"],[0.6666666666666666,\"#ed7953\"],[0.7777777777777778,\"#fb9f3a\"],[0.8888888888888888,\"#fdca26\"],[1.0,\"#f0f921\"]],\"type\":\"histogram2dcontour\"}],\"mesh3d\":[{\"colorbar\":{\"outlinewidth\":0,\"ticks\":\"\"},\"type\":\"mesh3d\"}],\"parcoords\":[{\"line\":{\"colorbar\":{\"outlinewidth\":0,\"ticks\":\"\"}},\"type\":\"parcoords\"}],\"pie\":[{\"automargin\":true,\"type\":\"pie\"}],\"scatter\":[{\"marker\":{\"colorbar\":{\"outlinewidth\":0,\"ticks\":\"\"}},\"type\":\"scatter\"}],\"scatter3d\":[{\"line\":{\"colorbar\":{\"outlinewidth\":0,\"ticks\":\"\"}},\"marker\":{\"colorbar\":{\"outlinewidth\":0,\"ticks\":\"\"}},\"type\":\"scatter3d\"}],\"scattercarpet\":[{\"marker\":{\"colorbar\":{\"outlinewidth\":0,\"ticks\":\"\"}},\"type\":\"scattercarpet\"}],\"scattergeo\":[{\"marker\":{\"colorbar\":{\"outlinewidth\":0,\"ticks\":\"\"}},\"type\":\"scattergeo\"}],\"scattergl\":[{\"marker\":{\"colorbar\":{\"outlinewidth\":0,\"ticks\":\"\"}},\"type\":\"scattergl\"}],\"scattermapbox\":[{\"marker\":{\"colorbar\":{\"outlinewidth\":0,\"ticks\":\"\"}},\"type\":\"scattermapbox\"}],\"scatterpolar\":[{\"marker\":{\"colorbar\":{\"outlinewidth\":0,\"ticks\":\"\"}},\"type\":\"scatterpolar\"}],\"scatterpolargl\":[{\"marker\":{\"colorbar\":{\"outlinewidth\":0,\"ticks\":\"\"}},\"type\":\"scatterpolargl\"}],\"scatterternary\":[{\"marker\":{\"colorbar\":{\"outlinewidth\":0,\"ticks\":\"\"}},\"type\":\"scatterternary\"}],\"surface\":[{\"colorbar\":{\"outlinewidth\":0,\"ticks\":\"\"},\"colorscale\":[[0.0,\"#0d0887\"],[0.1111111111111111,\"#46039f\"],[0.2222222222222222,\"#7201a8\"],[0.3333333333333333,\"#9c179e\"],[0.4444444444444444,\"#bd3786\"],[0.5555555555555556,\"#d8576b\"],[0.6666666666666666,\"#ed7953\"],[0.7777777777777778,\"#fb9f3a\"],[0.8888888888888888,\"#fdca26\"],[1.0,\"#f0f921\"]],\"type\":\"surface\"}],\"table\":[{\"cells\":{\"fill\":{\"color\":\"#EBF0F8\"},\"line\":{\"color\":\"white\"}},\"header\":{\"fill\":{\"color\":\"#C8D4E3\"},\"line\":{\"color\":\"white\"}},\"type\":\"table\"}]},\"layout\":{\"annotationdefaults\":{\"arrowcolor\":\"#2a3f5f\",\"arrowhead\":0,\"arrowwidth\":1},\"autotypenumbers\":\"strict\",\"coloraxis\":{\"colorbar\":{\"outlinewidth\":0,\"ticks\":\"\"}},\"colorscale\":{\"diverging\":[[0,\"#8e0152\"],[0.1,\"#c51b7d\"],[0.2,\"#de77ae\"],[0.3,\"#f1b6da\"],[0.4,\"#fde0ef\"],[0.5,\"#f7f7f7\"],[0.6,\"#e6f5d0\"],[0.7,\"#b8e186\"],[0.8,\"#7fbc41\"],[0.9,\"#4d9221\"],[1,\"#276419\"]],\"sequential\":[[0.0,\"#0d0887\"],[0.1111111111111111,\"#46039f\"],[0.2222222222222222,\"#7201a8\"],[0.3333333333333333,\"#9c179e\"],[0.4444444444444444,\"#bd3786\"],[0.5555555555555556,\"#d8576b\"],[0.6666666666666666,\"#ed7953\"],[0.7777777777777778,\"#fb9f3a\"],[0.8888888888888888,\"#fdca26\"],[1.0,\"#f0f921\"]],\"sequentialminus\":[[0.0,\"#0d0887\"],[0.1111111111111111,\"#46039f\"],[0.2222222222222222,\"#7201a8\"],[0.3333333333333333,\"#9c179e\"],[0.4444444444444444,\"#bd3786\"],[0.5555555555555556,\"#d8576b\"],[0.6666666666666666,\"#ed7953\"],[0.7777777777777778,\"#fb9f3a\"],[0.8888888888888888,\"#fdca26\"],[1.0,\"#f0f921\"]]},\"colorway\":[\"#636efa\",\"#EF553B\",\"#00cc96\",\"#ab63fa\",\"#FFA15A\",\"#19d3f3\",\"#FF6692\",\"#B6E880\",\"#FF97FF\",\"#FECB52\"],\"font\":{\"color\":\"#2a3f5f\"},\"geo\":{\"bgcolor\":\"white\",\"lakecolor\":\"white\",\"landcolor\":\"#E5ECF6\",\"showlakes\":true,\"showland\":true,\"subunitcolor\":\"white\"},\"hoverlabel\":{\"align\":\"left\"},\"hovermode\":\"closest\",\"mapbox\":{\"style\":\"light\"},\"paper_bgcolor\":\"white\",\"plot_bgcolor\":\"#E5ECF6\",\"polar\":{\"angularaxis\":{\"gridcolor\":\"white\",\"linecolor\":\"white\",\"ticks\":\"\"},\"bgcolor\":\"#E5ECF6\",\"radialaxis\":{\"gridcolor\":\"white\",\"linecolor\":\"white\",\"ticks\":\"\"}},\"scene\":{\"xaxis\":{\"backgroundcolor\":\"#E5ECF6\",\"gridcolor\":\"white\",\"gridwidth\":2,\"linecolor\":\"white\",\"showbackground\":true,\"ticks\":\"\",\"zerolinecolor\":\"white\"},\"yaxis\":{\"backgroundcolor\":\"#E5ECF6\",\"gridcolor\":\"white\",\"gridwidth\":2,\"linecolor\":\"white\",\"showbackground\":true,\"ticks\":\"\",\"zerolinecolor\":\"white\"},\"zaxis\":{\"backgroundcolor\":\"#E5ECF6\",\"gridcolor\":\"white\",\"gridwidth\":2,\"linecolor\":\"white\",\"showbackground\":true,\"ticks\":\"\",\"zerolinecolor\":\"white\"}},\"shapedefaults\":{\"line\":{\"color\":\"#2a3f5f\"}},\"ternary\":{\"aaxis\":{\"gridcolor\":\"white\",\"linecolor\":\"white\",\"ticks\":\"\"},\"baxis\":{\"gridcolor\":\"white\",\"linecolor\":\"white\",\"ticks\":\"\"},\"bgcolor\":\"#E5ECF6\",\"caxis\":{\"gridcolor\":\"white\",\"linecolor\":\"white\",\"ticks\":\"\"}},\"title\":{\"x\":0.05},\"xaxis\":{\"automargin\":true,\"gridcolor\":\"white\",\"linecolor\":\"white\",\"ticks\":\"\",\"title\":{\"standoff\":15},\"zerolinecolor\":\"white\",\"zerolinewidth\":2},\"yaxis\":{\"automargin\":true,\"gridcolor\":\"white\",\"linecolor\":\"white\",\"ticks\":\"\",\"title\":{\"standoff\":15},\"zerolinecolor\":\"white\",\"zerolinewidth\":2}}},\"xaxis\":{\"anchor\":\"y\",\"domain\":[0.0,1.0],\"title\":{\"text\":\"object_type\"},\"tickangle\":45},\"yaxis\":{\"anchor\":\"x\",\"domain\":[0.0,1.0],\"title\":{\"text\":\"id\"}},\"legend\":{\"title\":{\"text\":\"chain\"},\"tracegroupgap\":0},\"title\":{\"text\":\"\\u0413\\u0440\\u0430\\u0444\\u0438\\u043a \\u0445\\u0430\\u0440\\u0430\\u043a\\u0442\\u0435\\u0440\\u043d\\u043e\\u0433\\u043e \\u0441\\u0435\\u0442\\u0435\\u0432\\u043e\\u0433\\u043e \\u0440\\u0430\\u0441\\u043f\\u0440\\u0435\\u0434\\u0435\\u043b\\u0435\\u043d\\u0438\\u044f \\u0434\\u043b\\u044f \\u0442\\u0438\\u043f\\u043e\\u0432 \\u0437\\u0430\\u0432\\u0435\\u0434\\u0435\\u043d\\u0438\\u0439\"},\"barmode\":\"relative\",\"height\":800,\"width\":800},                        {\"responsive\": true}                    ).then(function(){\n",
       "                            \n",
       "var gd = document.getElementById('89f7ebae-dfb1-47ec-9a20-b0e1ac8eecc9');\n",
       "var x = new MutationObserver(function (mutations, observer) {{\n",
       "        var display = window.getComputedStyle(gd).display;\n",
       "        if (!display || display === 'none') {{\n",
       "            console.log([gd, 'removed!']);\n",
       "            Plotly.purge(gd);\n",
       "            observer.disconnect();\n",
       "        }}\n",
       "}});\n",
       "\n",
       "// Listen for the removal of the full notebook cells\n",
       "var notebookContainer = gd.closest('#notebook-container');\n",
       "if (notebookContainer) {{\n",
       "    x.observe(notebookContainer, {childList: true});\n",
       "}}\n",
       "\n",
       "// Listen for the clearing of the current output cell\n",
       "var outputEl = gd.closest('.output');\n",
       "if (outputEl) {{\n",
       "    x.observe(outputEl, {childList: true});\n",
       "}}\n",
       "\n",
       "                        })                };                });            </script>        </div>"
      ]
     },
     "metadata": {},
     "output_type": "display_data"
    }
   ],
   "source": [
    "# построим график характерных для сетей типов заведений\n",
    "fig = px.bar(\n",
    "    rest_data_type,\n",
    "    x='object_type',\n",
    "    y='id',\n",
    "    width=800, height=800,\n",
    "    color='chain',\n",
    "    \n",
    "    title='График характерного сетевого распределения для типов заведений',\n",
    ")\n",
    "fig.update_xaxes(tickangle=45)\n",
    "fig.show() \n"
   ]
  },
  {
   "cell_type": "markdown",
   "id": "4b04e15a",
   "metadata": {},
   "source": [
    "\n",
    "Наиболее характерным видом объекта сетевого распространения является предприятие выстрого обслуживания - более 41% от количества всех заведений этого типа, не превышает 29% доля сетевых магазинов(отделов кулинарии), почти 24% всех ресторанов и 23% всех кафе также имеют сетевое распространение. Остальные типы заведений имеют не существенную долю сетевого распространения.\n"
   ]
  },
  {
   "cell_type": "markdown",
   "id": "67b592f0",
   "metadata": {},
   "source": [
    "Для следующих исследований проведём ранжирование предприятий по количеству посадочных мест и добавим соответсвующую колонку в таблицу."
   ]
  },
  {
   "cell_type": "code",
   "execution_count": 104,
   "id": "7b7bb53f",
   "metadata": {},
   "outputs": [
    {
     "name": "stdout",
     "output_type": "stream",
     "text": [
      "Проверка работы функции: от 150 до 400\n"
     ]
    },
    {
     "data": {
      "text/html": [
       "<div>\n",
       "<style scoped>\n",
       "    .dataframe tbody tr th:only-of-type {\n",
       "        vertical-align: middle;\n",
       "    }\n",
       "\n",
       "    .dataframe tbody tr th {\n",
       "        vertical-align: top;\n",
       "    }\n",
       "\n",
       "    .dataframe thead th {\n",
       "        text-align: right;\n",
       "    }\n",
       "</style>\n",
       "<table border=\"1\" class=\"dataframe\">\n",
       "  <thead>\n",
       "    <tr style=\"text-align: right;\">\n",
       "      <th></th>\n",
       "      <th>id</th>\n",
       "      <th>object_name</th>\n",
       "      <th>chain</th>\n",
       "      <th>object_type</th>\n",
       "      <th>address</th>\n",
       "      <th>number</th>\n",
       "      <th>type_namber</th>\n",
       "    </tr>\n",
       "  </thead>\n",
       "  <tbody>\n",
       "    <tr>\n",
       "      <th>0</th>\n",
       "      <td>151635</td>\n",
       "      <td>СМЕТАНА</td>\n",
       "      <td>нет</td>\n",
       "      <td>кафе</td>\n",
       "      <td>город Москва, улица Егора Абакумова, дом 9</td>\n",
       "      <td>48</td>\n",
       "      <td>от 10 до 50</td>\n",
       "    </tr>\n",
       "    <tr>\n",
       "      <th>1</th>\n",
       "      <td>77874</td>\n",
       "      <td>РОДНИК</td>\n",
       "      <td>нет</td>\n",
       "      <td>кафе</td>\n",
       "      <td>город Москва, улица Талалихина, дом 2/1, корпус 1</td>\n",
       "      <td>35</td>\n",
       "      <td>от 10 до 50</td>\n",
       "    </tr>\n",
       "    <tr>\n",
       "      <th>2</th>\n",
       "      <td>24309</td>\n",
       "      <td>КАФЕ «АКАДЕМИЯ»</td>\n",
       "      <td>нет</td>\n",
       "      <td>кафе</td>\n",
       "      <td>город Москва, Абельмановская улица, дом 6</td>\n",
       "      <td>95</td>\n",
       "      <td>от 50 до 150</td>\n",
       "    </tr>\n",
       "    <tr>\n",
       "      <th>3</th>\n",
       "      <td>21894</td>\n",
       "      <td>ПИЦЦЕТОРИЯ</td>\n",
       "      <td>да</td>\n",
       "      <td>кафе</td>\n",
       "      <td>город Москва, Абрамцевская улица, дом 1</td>\n",
       "      <td>40</td>\n",
       "      <td>от 10 до 50</td>\n",
       "    </tr>\n",
       "    <tr>\n",
       "      <th>4</th>\n",
       "      <td>119365</td>\n",
       "      <td>КАФЕ «ВИШНЕВАЯ МЕТЕЛЬ»</td>\n",
       "      <td>нет</td>\n",
       "      <td>кафе</td>\n",
       "      <td>город Москва, Абрамцевская улица, дом 9, корпус 1</td>\n",
       "      <td>50</td>\n",
       "      <td>более 400</td>\n",
       "    </tr>\n",
       "  </tbody>\n",
       "</table>\n",
       "</div>"
      ],
      "text/plain": [
       "       id             object_name chain object_type  \\\n",
       "0  151635                 СМЕТАНА   нет        кафе   \n",
       "1   77874                  РОДНИК   нет        кафе   \n",
       "2   24309         КАФЕ «АКАДЕМИЯ»   нет        кафе   \n",
       "3   21894              ПИЦЦЕТОРИЯ    да        кафе   \n",
       "4  119365  КАФЕ «ВИШНЕВАЯ МЕТЕЛЬ»   нет        кафе   \n",
       "\n",
       "                                             address  number   type_namber  \n",
       "0         город Москва, улица Егора Абакумова, дом 9      48   от 10 до 50  \n",
       "1  город Москва, улица Талалихина, дом 2/1, корпус 1      35   от 10 до 50  \n",
       "2          город Москва, Абельмановская улица, дом 6      95  от 50 до 150  \n",
       "3            город Москва, Абрамцевская улица, дом 1      40   от 10 до 50  \n",
       "4  город Москва, Абрамцевская улица, дом 9, корпус 1      50     более 400  "
      ]
     },
     "metadata": {},
     "output_type": "display_data"
    }
   ],
   "source": [
    "# создадим функцию для определения типа заведения и добавим колонку с  в rest_data\n",
    "def rest_type_namber(row):\n",
    "    \n",
    "    number = row['number']\n",
    "   \n",
    "    \n",
    "   \n",
    "    if number==0:\n",
    "          return 'нет посадочных мест'\n",
    "      \n",
    "    if number>1 and number<10: \n",
    "            return 'от 1 до 10'  \n",
    "    if number>10 and number<50: \n",
    "            return 'от 10 до 50'\n",
    "    if number>50 and number<150: \n",
    "            return 'от 50 до 150'\n",
    "    if number>150 and number<400: \n",
    "            return 'от 150 до 400'       \n",
    "            \n",
    "    \n",
    "    return 'более 400'    \n",
    "\n",
    "row_values = [175] # для проверки работы функции зададим переменные\n",
    "row_columns = ['number']\n",
    "row = pd.Series(data=row_values, index=row_columns)\n",
    "print('Проверка работы функции:', rest_type_namber(row))# печать результата работы функции\n",
    "rest_data['type_namber'] = rest_data.apply(rest_type_namber,axis=1)\n",
    "display(rest_data.head())# контроль внесённых изменений"
   ]
  },
  {
   "cell_type": "markdown",
   "id": "e6f3ba72",
   "metadata": {},
   "source": [
    "## Исследование типов , характерных для сетевых заведений: много заведений с небольшим числом посадочных мест в каждом или мало заведений с большим количеством посадочных мест?"
   ]
  },
  {
   "cell_type": "code",
   "execution_count": 105,
   "id": "2124edc3",
   "metadata": {},
   "outputs": [
    {
     "data": {
      "text/html": [
       "<div>\n",
       "<style scoped>\n",
       "    .dataframe tbody tr th:only-of-type {\n",
       "        vertical-align: middle;\n",
       "    }\n",
       "\n",
       "    .dataframe tbody tr th {\n",
       "        vertical-align: top;\n",
       "    }\n",
       "\n",
       "    .dataframe thead th {\n",
       "        text-align: right;\n",
       "    }\n",
       "</style>\n",
       "<table border=\"1\" class=\"dataframe\">\n",
       "  <thead>\n",
       "    <tr style=\"text-align: right;\">\n",
       "      <th></th>\n",
       "      <th>id</th>\n",
       "      <th>object_name</th>\n",
       "      <th>chain</th>\n",
       "      <th>object_type</th>\n",
       "      <th>address</th>\n",
       "      <th>number</th>\n",
       "    </tr>\n",
       "  </thead>\n",
       "  <tbody>\n",
       "    <tr>\n",
       "      <th>120</th>\n",
       "      <td>26075</td>\n",
       "      <td>МАКДОНАЛДС</td>\n",
       "      <td>да</td>\n",
       "      <td>предприятие быстрого обслуживания</td>\n",
       "      <td>город Москва, Большая Бронная улица, дом 29</td>\n",
       "      <td>580</td>\n",
       "    </tr>\n",
       "    <tr>\n",
       "      <th>3590</th>\n",
       "      <td>74895</td>\n",
       "      <td>ЧАЙХОНА №1</td>\n",
       "      <td>да</td>\n",
       "      <td>ресторан</td>\n",
       "      <td>город Москва, Пушкинская площадь, дом 2</td>\n",
       "      <td>500</td>\n",
       "    </tr>\n",
       "    <tr>\n",
       "      <th>6551</th>\n",
       "      <td>26402</td>\n",
       "      <td>МАКДОНАЛДС</td>\n",
       "      <td>да</td>\n",
       "      <td>предприятие быстрого обслуживания</td>\n",
       "      <td>город Москва, улица Арбат, дом 52, строение 1</td>\n",
       "      <td>480</td>\n",
       "    </tr>\n",
       "    <tr>\n",
       "      <th>8903</th>\n",
       "      <td>25036</td>\n",
       "      <td>ЯКИТОРИЯ</td>\n",
       "      <td>да</td>\n",
       "      <td>кафе</td>\n",
       "      <td>1-я Тверская-Ямская улица, дом 29/66, корпус 1</td>\n",
       "      <td>456</td>\n",
       "    </tr>\n",
       "    <tr>\n",
       "      <th>3092</th>\n",
       "      <td>83667</td>\n",
       "      <td>ЧАЙХОНА №1</td>\n",
       "      <td>да</td>\n",
       "      <td>ресторан</td>\n",
       "      <td>город Москва, улица Большая Полянка, дом 56, с...</td>\n",
       "      <td>430</td>\n",
       "    </tr>\n",
       "    <tr>\n",
       "      <th>...</th>\n",
       "      <td>...</td>\n",
       "      <td>...</td>\n",
       "      <td>...</td>\n",
       "      <td>...</td>\n",
       "      <td>...</td>\n",
       "      <td>...</td>\n",
       "    </tr>\n",
       "    <tr>\n",
       "      <th>15122</th>\n",
       "      <td>213380</td>\n",
       "      <td>КРОШКА КАРТОШКА</td>\n",
       "      <td>да</td>\n",
       "      <td>предприятие быстрого обслуживания</td>\n",
       "      <td>город Москва, Варшавское шоссе, дом 87Б</td>\n",
       "      <td>0</td>\n",
       "    </tr>\n",
       "    <tr>\n",
       "      <th>11955</th>\n",
       "      <td>130252</td>\n",
       "      <td>КЕБАБ ХАУС</td>\n",
       "      <td>да</td>\n",
       "      <td>кафе</td>\n",
       "      <td>город Москва, Ореховый бульвар, дом 14, корпус 3</td>\n",
       "      <td>0</td>\n",
       "    </tr>\n",
       "    <tr>\n",
       "      <th>15119</th>\n",
       "      <td>219044</td>\n",
       "      <td>КРОШКА КАРТОШКА</td>\n",
       "      <td>да</td>\n",
       "      <td>кафе</td>\n",
       "      <td>город Москва, улица Вавилова, дом 3</td>\n",
       "      <td>0</td>\n",
       "    </tr>\n",
       "    <tr>\n",
       "      <th>15118</th>\n",
       "      <td>210329</td>\n",
       "      <td>КРОШКА КАРТОШКА</td>\n",
       "      <td>да</td>\n",
       "      <td>предприятие быстрого обслуживания</td>\n",
       "      <td>город Москва, поселение Московский, Киевское ш...</td>\n",
       "      <td>0</td>\n",
       "    </tr>\n",
       "    <tr>\n",
       "      <th>11992</th>\n",
       "      <td>184443</td>\n",
       "      <td>СТАРДОГS</td>\n",
       "      <td>да</td>\n",
       "      <td>кафе</td>\n",
       "      <td>город Москва, Ленинградское шоссе, дом 9, корп...</td>\n",
       "      <td>0</td>\n",
       "    </tr>\n",
       "  </tbody>\n",
       "</table>\n",
       "<p>2968 rows × 6 columns</p>\n",
       "</div>"
      ],
      "text/plain": [
       "           id      object_name chain                        object_type  \\\n",
       "120     26075       МАКДОНАЛДС    да  предприятие быстрого обслуживания   \n",
       "3590    74895       ЧАЙХОНА №1    да                           ресторан   \n",
       "6551    26402       МАКДОНАЛДС    да  предприятие быстрого обслуживания   \n",
       "8903    25036         ЯКИТОРИЯ    да                               кафе   \n",
       "3092    83667       ЧАЙХОНА №1    да                           ресторан   \n",
       "...       ...              ...   ...                                ...   \n",
       "15122  213380  КРОШКА КАРТОШКА    да  предприятие быстрого обслуживания   \n",
       "11955  130252       КЕБАБ ХАУС    да                               кафе   \n",
       "15119  219044  КРОШКА КАРТОШКА    да                               кафе   \n",
       "15118  210329  КРОШКА КАРТОШКА    да  предприятие быстрого обслуживания   \n",
       "11992  184443         СТАРДОГS    да                               кафе   \n",
       "\n",
       "                                                 address  number  \n",
       "120          город Москва, Большая Бронная улица, дом 29     580  \n",
       "3590             город Москва, Пушкинская площадь, дом 2     500  \n",
       "6551       город Москва, улица Арбат, дом 52, строение 1     480  \n",
       "8903      1-я Тверская-Ямская улица, дом 29/66, корпус 1     456  \n",
       "3092   город Москва, улица Большая Полянка, дом 56, с...     430  \n",
       "...                                                  ...     ...  \n",
       "15122            город Москва, Варшавское шоссе, дом 87Б       0  \n",
       "11955   город Москва, Ореховый бульвар, дом 14, корпус 3       0  \n",
       "15119                город Москва, улица Вавилова, дом 3       0  \n",
       "15118  город Москва, поселение Московский, Киевское ш...       0  \n",
       "11992  город Москва, Ленинградское шоссе, дом 9, корп...       0  \n",
       "\n",
       "[2968 rows x 6 columns]"
      ]
     },
     "metadata": {},
     "output_type": "display_data"
    }
   ],
   "source": [
    "# сохраним в переменной rest_data_chain_y_number сгруппированные необходимым образом данные\n",
    "rest_data_chain_y_number = rest_data_chain_y.sort_values(by=['number'],ascending=False)\n",
    "# выведем на экран \n",
    "display(rest_data_chain_y_number)"
   ]
  },
  {
   "cell_type": "code",
   "execution_count": 106,
   "id": "733f9f1a",
   "metadata": {},
   "outputs": [
    {
     "data": {
      "text/html": [
       "<div>\n",
       "<style scoped>\n",
       "    .dataframe tbody tr th:only-of-type {\n",
       "        vertical-align: middle;\n",
       "    }\n",
       "\n",
       "    .dataframe tbody tr th {\n",
       "        vertical-align: top;\n",
       "    }\n",
       "\n",
       "    .dataframe thead th {\n",
       "        text-align: right;\n",
       "    }\n",
       "</style>\n",
       "<table border=\"1\" class=\"dataframe\">\n",
       "  <thead>\n",
       "    <tr style=\"text-align: right;\">\n",
       "      <th></th>\n",
       "      <th>count_number</th>\n",
       "      <th>count_ch</th>\n",
       "    </tr>\n",
       "  </thead>\n",
       "  <tbody>\n",
       "    <tr>\n",
       "      <th>0</th>\n",
       "      <td>0</td>\n",
       "      <td>268</td>\n",
       "    </tr>\n",
       "    <tr>\n",
       "      <th>1</th>\n",
       "      <td>20</td>\n",
       "      <td>161</td>\n",
       "    </tr>\n",
       "    <tr>\n",
       "      <th>2</th>\n",
       "      <td>40</td>\n",
       "      <td>144</td>\n",
       "    </tr>\n",
       "    <tr>\n",
       "      <th>3</th>\n",
       "      <td>10</td>\n",
       "      <td>131</td>\n",
       "    </tr>\n",
       "    <tr>\n",
       "      <th>4</th>\n",
       "      <td>50</td>\n",
       "      <td>122</td>\n",
       "    </tr>\n",
       "    <tr>\n",
       "      <th>...</th>\n",
       "      <td>...</td>\n",
       "      <td>...</td>\n",
       "    </tr>\n",
       "    <tr>\n",
       "      <th>189</th>\n",
       "      <td>154</td>\n",
       "      <td>1</td>\n",
       "    </tr>\n",
       "    <tr>\n",
       "      <th>190</th>\n",
       "      <td>428</td>\n",
       "      <td>1</td>\n",
       "    </tr>\n",
       "    <tr>\n",
       "      <th>191</th>\n",
       "      <td>132</td>\n",
       "      <td>1</td>\n",
       "    </tr>\n",
       "    <tr>\n",
       "      <th>192</th>\n",
       "      <td>81</td>\n",
       "      <td>1</td>\n",
       "    </tr>\n",
       "    <tr>\n",
       "      <th>193</th>\n",
       "      <td>343</td>\n",
       "      <td>1</td>\n",
       "    </tr>\n",
       "  </tbody>\n",
       "</table>\n",
       "<p>194 rows × 2 columns</p>\n",
       "</div>"
      ],
      "text/plain": [
       "     count_number  count_ch\n",
       "0               0       268\n",
       "1              20       161\n",
       "2              40       144\n",
       "3              10       131\n",
       "4              50       122\n",
       "..            ...       ...\n",
       "189           154         1\n",
       "190           428         1\n",
       "191           132         1\n",
       "192            81         1\n",
       "193           343         1\n",
       "\n",
       "[194 rows x 2 columns]"
      ]
     },
     "metadata": {},
     "output_type": "display_data"
    }
   ],
   "source": [
    "# сохраним в переменной rest_number количество заведений с количеством посадочных мест\n",
    "rest_number = rest_data_chain_y_number['number'].value_counts(\n",
    ").reset_index(0).rename(columns={'index':'count_number','number':'count_ch'})\n",
    "# выведем на экран \n",
    "display(rest_number)"
   ]
  },
  {
   "cell_type": "code",
   "execution_count": 107,
   "id": "309a98c3",
   "metadata": {},
   "outputs": [
    {
     "data": {
      "image/png": "[encoded data removed]",
      "text/plain": [
       "<Figure size 576x396 with 1 Axes>"
      ]
     },
     "metadata": {},
     "output_type": "display_data"
    }
   ],
   "source": [
    "size, scale = 1000, 10\n",
    "commutes = rest_number ['count_number']\n",
    "\n",
    "commutes.plot.hist(grid=True, bins=20, rwidth=0.9,\n",
    "                   color='#607c8e')\n",
    "plt.title('Гистограмма посадочных мест в сетевых заведениях')\n",
    "plt.xlabel('Количество мест')\n",
    "plt.ylabel('Число заведений')\n",
    "plt.grid(axis='y', alpha=0.75)"
   ]
  },
  {
   "cell_type": "code",
   "execution_count": 108,
   "id": "1acf9569",
   "metadata": {},
   "outputs": [
    {
     "data": {
      "text/plain": [
       "array([580, 500, 480, 456, 430, 428, 400, 398, 380, 356, 350, 343, 320,\n",
       "       310, 306, 300, 284, 282, 280, 276, 275, 273, 266, 250, 240, 230,\n",
       "       225, 224, 220, 218, 217, 215, 210, 206, 205, 200, 199, 198, 195,\n",
       "       190, 189, 188, 186, 184, 180, 178, 176, 175, 174, 173, 170, 166,\n",
       "       165, 164, 162, 160, 159, 158, 157, 156, 155, 154, 152, 150, 149,\n",
       "       148, 146, 145, 144, 143, 140, 138, 136, 135, 133, 132, 131, 130,\n",
       "       128, 125, 124, 123, 122, 120, 119, 118, 116, 115, 114, 110, 109,\n",
       "       108, 106, 104, 102, 101, 100,  99,  98,  96,  95,  94,  93,  92,\n",
       "        91,  90,  89,  88,  87,  86,  85,  84,  83,  82,  81,  80,  79,\n",
       "        78,  76,  75,  74,  73,  72,  71,  70,  69,  68,  67,  66,  65,\n",
       "        64,  63,  62,  61,  60,  58,  57,  56,  55,  54,  53,  52,  51,\n",
       "        50,  49,  48,  47,  46,  45,  44,  43,  42,  41,  40,  39,  38,\n",
       "        37,  36,  35,  34,  33,  32,  31,  30,  29,  28,  27,  26,  25,\n",
       "        24,  23,  22,  21,  20,  19,  18,  17,  16,  15,  14,  13,  12,\n",
       "        11,  10,   9,   8,   7,   6,   5,   4,   3,   2,   1,   0])"
      ]
     },
     "execution_count": 108,
     "metadata": {},
     "output_type": "execute_result"
    }
   ],
   "source": [
    "# выведем список уникальных значений количества мест\n",
    "rest_data_chain_y_number['number'].unique()"
   ]
  },
  {
   "cell_type": "markdown",
   "id": "76fc8b4d",
   "metadata": {},
   "source": [
    "Количество уникальных значений велико и неудобно для анализа, но мы позаботились и заранее добавили в таблицу группировку по количеству мест. В данных видно, что значительную часть составляют заведения с нулевым количеством мест. Проверим что это: пропуск в данных, ошибка или достоверные данные."
   ]
  },
  {
   "cell_type": "code",
   "execution_count": 109,
   "id": "4560fe21",
   "metadata": {},
   "outputs": [
    {
     "data": {
      "text/html": [
       "<div>\n",
       "<style scoped>\n",
       "    .dataframe tbody tr th:only-of-type {\n",
       "        vertical-align: middle;\n",
       "    }\n",
       "\n",
       "    .dataframe tbody tr th {\n",
       "        vertical-align: top;\n",
       "    }\n",
       "\n",
       "    .dataframe thead th {\n",
       "        text-align: right;\n",
       "    }\n",
       "</style>\n",
       "<table border=\"1\" class=\"dataframe\">\n",
       "  <thead>\n",
       "    <tr style=\"text-align: right;\">\n",
       "      <th></th>\n",
       "      <th>id</th>\n",
       "      <th>object_name</th>\n",
       "      <th>chain</th>\n",
       "      <th>object_type</th>\n",
       "      <th>address</th>\n",
       "      <th>number</th>\n",
       "    </tr>\n",
       "  </thead>\n",
       "  <tbody>\n",
       "    <tr>\n",
       "      <th>11990</th>\n",
       "      <td>180571</td>\n",
       "      <td>СТАРДОГS</td>\n",
       "      <td>да</td>\n",
       "      <td>предприятие быстрого обслуживания</td>\n",
       "      <td>город Москва, проспект Андропова, дом 25А, стр...</td>\n",
       "      <td>0</td>\n",
       "    </tr>\n",
       "    <tr>\n",
       "      <th>12013</th>\n",
       "      <td>178174</td>\n",
       "      <td>ПИЦЦА ПАОЛО</td>\n",
       "      <td>да</td>\n",
       "      <td>предприятие быстрого обслуживания</td>\n",
       "      <td>город Москва, Святоозерская улица, дом 1А</td>\n",
       "      <td>0</td>\n",
       "    </tr>\n",
       "    <tr>\n",
       "      <th>8893</th>\n",
       "      <td>148031</td>\n",
       "      <td>БУРГЕР КИНГ</td>\n",
       "      <td>да</td>\n",
       "      <td>предприятие быстрого обслуживания</td>\n",
       "      <td>город Московский, улица Хабарова, дом 2</td>\n",
       "      <td>0</td>\n",
       "    </tr>\n",
       "    <tr>\n",
       "      <th>15217</th>\n",
       "      <td>214146</td>\n",
       "      <td>МАКДОНАЛДС</td>\n",
       "      <td>да</td>\n",
       "      <td>предприятие быстрого обслуживания</td>\n",
       "      <td>город Москва, Кировоградская улица, дом 13А</td>\n",
       "      <td>0</td>\n",
       "    </tr>\n",
       "    <tr>\n",
       "      <th>11997</th>\n",
       "      <td>187763</td>\n",
       "      <td>КОФЕ С СОБОЙ</td>\n",
       "      <td>да</td>\n",
       "      <td>предприятие быстрого обслуживания</td>\n",
       "      <td>город Москва, Сходненская улица, дом 37</td>\n",
       "      <td>0</td>\n",
       "    </tr>\n",
       "    <tr>\n",
       "      <th>...</th>\n",
       "      <td>...</td>\n",
       "      <td>...</td>\n",
       "      <td>...</td>\n",
       "      <td>...</td>\n",
       "      <td>...</td>\n",
       "      <td>...</td>\n",
       "    </tr>\n",
       "    <tr>\n",
       "      <th>15122</th>\n",
       "      <td>213380</td>\n",
       "      <td>КРОШКА КАРТОШКА</td>\n",
       "      <td>да</td>\n",
       "      <td>предприятие быстрого обслуживания</td>\n",
       "      <td>город Москва, Варшавское шоссе, дом 87Б</td>\n",
       "      <td>0</td>\n",
       "    </tr>\n",
       "    <tr>\n",
       "      <th>11955</th>\n",
       "      <td>130252</td>\n",
       "      <td>КЕБАБ ХАУС</td>\n",
       "      <td>да</td>\n",
       "      <td>кафе</td>\n",
       "      <td>город Москва, Ореховый бульвар, дом 14, корпус 3</td>\n",
       "      <td>0</td>\n",
       "    </tr>\n",
       "    <tr>\n",
       "      <th>15119</th>\n",
       "      <td>219044</td>\n",
       "      <td>КРОШКА КАРТОШКА</td>\n",
       "      <td>да</td>\n",
       "      <td>кафе</td>\n",
       "      <td>город Москва, улица Вавилова, дом 3</td>\n",
       "      <td>0</td>\n",
       "    </tr>\n",
       "    <tr>\n",
       "      <th>15118</th>\n",
       "      <td>210329</td>\n",
       "      <td>КРОШКА КАРТОШКА</td>\n",
       "      <td>да</td>\n",
       "      <td>предприятие быстрого обслуживания</td>\n",
       "      <td>город Москва, поселение Московский, Киевское ш...</td>\n",
       "      <td>0</td>\n",
       "    </tr>\n",
       "    <tr>\n",
       "      <th>11992</th>\n",
       "      <td>184443</td>\n",
       "      <td>СТАРДОГS</td>\n",
       "      <td>да</td>\n",
       "      <td>кафе</td>\n",
       "      <td>город Москва, Ленинградское шоссе, дом 9, корп...</td>\n",
       "      <td>0</td>\n",
       "    </tr>\n",
       "  </tbody>\n",
       "</table>\n",
       "<p>268 rows × 6 columns</p>\n",
       "</div>"
      ],
      "text/plain": [
       "           id      object_name chain                        object_type  \\\n",
       "11990  180571         СТАРДОГS    да  предприятие быстрого обслуживания   \n",
       "12013  178174      ПИЦЦА ПАОЛО    да  предприятие быстрого обслуживания   \n",
       "8893   148031      БУРГЕР КИНГ    да  предприятие быстрого обслуживания   \n",
       "15217  214146       МАКДОНАЛДС    да  предприятие быстрого обслуживания   \n",
       "11997  187763     КОФЕ С СОБОЙ    да  предприятие быстрого обслуживания   \n",
       "...       ...              ...   ...                                ...   \n",
       "15122  213380  КРОШКА КАРТОШКА    да  предприятие быстрого обслуживания   \n",
       "11955  130252       КЕБАБ ХАУС    да                               кафе   \n",
       "15119  219044  КРОШКА КАРТОШКА    да                               кафе   \n",
       "15118  210329  КРОШКА КАРТОШКА    да  предприятие быстрого обслуживания   \n",
       "11992  184443         СТАРДОГS    да                               кафе   \n",
       "\n",
       "                                                 address  number  \n",
       "11990  город Москва, проспект Андропова, дом 25А, стр...       0  \n",
       "12013          город Москва, Святоозерская улица, дом 1А       0  \n",
       "8893             город Московский, улица Хабарова, дом 2       0  \n",
       "15217        город Москва, Кировоградская улица, дом 13А       0  \n",
       "11997            город Москва, Сходненская улица, дом 37       0  \n",
       "...                                                  ...     ...  \n",
       "15122            город Москва, Варшавское шоссе, дом 87Б       0  \n",
       "11955   город Москва, Ореховый бульвар, дом 14, корпус 3       0  \n",
       "15119                город Москва, улица Вавилова, дом 3       0  \n",
       "15118  город Москва, поселение Московский, Киевское ш...       0  \n",
       "11992  город Москва, Ленинградское шоссе, дом 9, корп...       0  \n",
       "\n",
       "[268 rows x 6 columns]"
      ]
     },
     "metadata": {},
     "output_type": "display_data"
    }
   ],
   "source": [
    "# выведем на экран \n",
    "display(rest_data_chain_y_number.query('number==0'))"
   ]
  },
  {
   "cell_type": "markdown",
   "id": "3f7f1692",
   "metadata": {},
   "source": [
    "Проверим выборочно в интернете, какие заведения не имеют посадочных мест:\n",
    "\n",
    "* Пицца Паоло - Предлагаемые варианты: Еда навынос · Доставка\n",
    "\n",
    "* Крошка Картошка - Предлагаемые варианты: Еда в заведении · Еда навынос · Доставка\n",
    "Находится в: ТДЦ Варшавский\n",
    "\n",
    "* Кебаб Хаус - Предлагаемые варианты: Еда в заведении · Еда навынос · Доставка\n",
    "Находится в: ТЦ Домодедовский\n",
    "\n",
    "Делаем вывод, что не имеют посадочных мест заведения с доставкой еды и торгующие на вынос. "
   ]
  },
  {
   "cell_type": "code",
   "execution_count": 110,
   "id": "8058620d",
   "metadata": {},
   "outputs": [
    {
     "name": "stdout",
     "output_type": "stream",
     "text": [
      "           type_namber  total\n",
      "0            более 400   1566\n",
      "1  нет посадочных мест   1621\n",
      "2           от 1 до 10   1199\n",
      "3          от 10 до 50   5822\n",
      "4        от 150 до 400   1362\n",
      "5         от 50 до 150   3796\n"
     ]
    }
   ],
   "source": [
    "# сохраним в переменной rest_data_gr необходимые данные по всем объектам\n",
    "rest_data_gr = rest_data[['id','type_namber']].groupby(by=[\"type_namber\"]).count().reset_index().rename(columns={'id':'total'})\n",
    "# выведем на экран \n",
    "print(rest_data_gr)"
   ]
  },
  {
   "cell_type": "code",
   "execution_count": 111,
   "id": "ea21ce16",
   "metadata": {},
   "outputs": [
    {
     "data": {
      "application/vnd.plotly.v1+json": {
       "config": {
        "plotlyServerURL": "https://plot.ly"
       },
       "data": [
        {
         "labels": [
          "более 400",
          "нет посадочных мест",
          "от 1 до 10",
          "от 10 до 50",
          "от 150 до 400",
          "от 50 до 150"
         ],
         "title": {
          "text": "Распределение объектов общественного питания по числу посадочных мест"
         },
         "type": "pie",
         "values": [
          1566,
          1621,
          1199,
          5822,
          1362,
          3796
         ]
        }
       ],
       "layout": {
        "template": {
         "data": {
          "bar": [
           {
            "error_x": {
             "color": "#2a3f5f"
            },
            "error_y": {
             "color": "#2a3f5f"
            },
            "marker": {
             "line": {
              "color": "#E5ECF6",
              "width": 0.5
             },
             "pattern": {
              "fillmode": "overlay",
              "size": 10,
              "solidity": 0.2
             }
            },
            "type": "bar"
           }
          ],
          "barpolar": [
           {
            "marker": {
             "line": {
              "color": "#E5ECF6",
              "width": 0.5
             },
             "pattern": {
              "fillmode": "overlay",
              "size": 10,
              "solidity": 0.2
             }
            },
            "type": "barpolar"
           }
          ],
          "carpet": [
           {
            "aaxis": {
             "endlinecolor": "#2a3f5f",
             "gridcolor": "white",
             "linecolor": "white",
             "minorgridcolor": "white",
             "startlinecolor": "#2a3f5f"
            },
            "baxis": {
             "endlinecolor": "#2a3f5f",
             "gridcolor": "white",
             "linecolor": "white",
             "minorgridcolor": "white",
             "startlinecolor": "#2a3f5f"
            },
            "type": "carpet"
           }
          ],
          "choropleth": [
           {
            "colorbar": {
             "outlinewidth": 0,
             "ticks": ""
            },
            "type": "choropleth"
           }
          ],
          "contour": [
           {
            "colorbar": {
             "outlinewidth": 0,
             "ticks": ""
            },
            "colorscale": [
             [
              0,
              "#0d0887"
             ],
             [
              0.1111111111111111,
              "#46039f"
             ],
             [
              0.2222222222222222,
              "#7201a8"
             ],
             [
              0.3333333333333333,
              "#9c179e"
             ],
             [
              0.4444444444444444,
              "#bd3786"
             ],
             [
              0.5555555555555556,
              "#d8576b"
             ],
             [
              0.6666666666666666,
              "#ed7953"
             ],
             [
              0.7777777777777778,
              "#fb9f3a"
             ],
             [
              0.8888888888888888,
              "#fdca26"
             ],
             [
              1,
              "#f0f921"
             ]
            ],
            "type": "contour"
           }
          ],
          "contourcarpet": [
           {
            "colorbar": {
             "outlinewidth": 0,
             "ticks": ""
            },
            "type": "contourcarpet"
           }
          ],
          "heatmap": [
           {
            "colorbar": {
             "outlinewidth": 0,
             "ticks": ""
            },
            "colorscale": [
             [
              0,
              "#0d0887"
             ],
             [
              0.1111111111111111,
              "#46039f"
             ],
             [
              0.2222222222222222,
              "#7201a8"
             ],
             [
              0.3333333333333333,
              "#9c179e"
             ],
             [
              0.4444444444444444,
              "#bd3786"
             ],
             [
              0.5555555555555556,
              "#d8576b"
             ],
             [
              0.6666666666666666,
              "#ed7953"
             ],
             [
              0.7777777777777778,
              "#fb9f3a"
             ],
             [
              0.8888888888888888,
              "#fdca26"
             ],
             [
              1,
              "#f0f921"
             ]
            ],
            "type": "heatmap"
           }
          ],
          "heatmapgl": [
           {
            "colorbar": {
             "outlinewidth": 0,
             "ticks": ""
            },
            "colorscale": [
             [
              0,
              "#0d0887"
             ],
             [
              0.1111111111111111,
              "#46039f"
             ],
             [
              0.2222222222222222,
              "#7201a8"
             ],
             [
              0.3333333333333333,
              "#9c179e"
             ],
             [
              0.4444444444444444,
              "#bd3786"
             ],
             [
              0.5555555555555556,
              "#d8576b"
             ],
             [
              0.6666666666666666,
              "#ed7953"
             ],
             [
              0.7777777777777778,
              "#fb9f3a"
             ],
             [
              0.8888888888888888,
              "#fdca26"
             ],
             [
              1,
              "#f0f921"
             ]
            ],
            "type": "heatmapgl"
           }
          ],
          "histogram": [
           {
            "marker": {
             "pattern": {
              "fillmode": "overlay",
              "size": 10,
              "solidity": 0.2
             }
            },
            "type": "histogram"
           }
          ],
          "histogram2d": [
           {
            "colorbar": {
             "outlinewidth": 0,
             "ticks": ""
            },
            "colorscale": [
             [
              0,
              "#0d0887"
             ],
             [
              0.1111111111111111,
              "#46039f"
             ],
             [
              0.2222222222222222,
              "#7201a8"
             ],
             [
              0.3333333333333333,
              "#9c179e"
             ],
             [
              0.4444444444444444,
              "#bd3786"
             ],
             [
              0.5555555555555556,
              "#d8576b"
             ],
             [
              0.6666666666666666,
              "#ed7953"
             ],
             [
              0.7777777777777778,
              "#fb9f3a"
             ],
             [
              0.8888888888888888,
              "#fdca26"
             ],
             [
              1,
              "#f0f921"
             ]
            ],
            "type": "histogram2d"
           }
          ],
          "histogram2dcontour": [
           {
            "colorbar": {
             "outlinewidth": 0,
             "ticks": ""
            },
            "colorscale": [
             [
              0,
              "#0d0887"
             ],
             [
              0.1111111111111111,
              "#46039f"
             ],
             [
              0.2222222222222222,
              "#7201a8"
             ],
             [
              0.3333333333333333,
              "#9c179e"
             ],
             [
              0.4444444444444444,
              "#bd3786"
             ],
             [
              0.5555555555555556,
              "#d8576b"
             ],
             [
              0.6666666666666666,
              "#ed7953"
             ],
             [
              0.7777777777777778,
              "#fb9f3a"
             ],
             [
              0.8888888888888888,
              "#fdca26"
             ],
             [
              1,
              "#f0f921"
             ]
            ],
            "type": "histogram2dcontour"
           }
          ],
          "mesh3d": [
           {
            "colorbar": {
             "outlinewidth": 0,
             "ticks": ""
            },
            "type": "mesh3d"
           }
          ],
          "parcoords": [
           {
            "line": {
             "colorbar": {
              "outlinewidth": 0,
              "ticks": ""
             }
            },
            "type": "parcoords"
           }
          ],
          "pie": [
           {
            "automargin": true,
            "type": "pie"
           }
          ],
          "scatter": [
           {
            "marker": {
             "colorbar": {
              "outlinewidth": 0,
              "ticks": ""
             }
            },
            "type": "scatter"
           }
          ],
          "scatter3d": [
           {
            "line": {
             "colorbar": {
              "outlinewidth": 0,
              "ticks": ""
             }
            },
            "marker": {
             "colorbar": {
              "outlinewidth": 0,
              "ticks": ""
             }
            },
            "type": "scatter3d"
           }
          ],
          "scattercarpet": [
           {
            "marker": {
             "colorbar": {
              "outlinewidth": 0,
              "ticks": ""
             }
            },
            "type": "scattercarpet"
           }
          ],
          "scattergeo": [
           {
            "marker": {
             "colorbar": {
              "outlinewidth": 0,
              "ticks": ""
             }
            },
            "type": "scattergeo"
           }
          ],
          "scattergl": [
           {
            "marker": {
             "colorbar": {
              "outlinewidth": 0,
              "ticks": ""
             }
            },
            "type": "scattergl"
           }
          ],
          "scattermapbox": [
           {
            "marker": {
             "colorbar": {
              "outlinewidth": 0,
              "ticks": ""
             }
            },
            "type": "scattermapbox"
           }
          ],
          "scatterpolar": [
           {
            "marker": {
             "colorbar": {
              "outlinewidth": 0,
              "ticks": ""
             }
            },
            "type": "scatterpolar"
           }
          ],
          "scatterpolargl": [
           {
            "marker": {
             "colorbar": {
              "outlinewidth": 0,
              "ticks": ""
             }
            },
            "type": "scatterpolargl"
           }
          ],
          "scatterternary": [
           {
            "marker": {
             "colorbar": {
              "outlinewidth": 0,
              "ticks": ""
             }
            },
            "type": "scatterternary"
           }
          ],
          "surface": [
           {
            "colorbar": {
             "outlinewidth": 0,
             "ticks": ""
            },
            "colorscale": [
             [
              0,
              "#0d0887"
             ],
             [
              0.1111111111111111,
              "#46039f"
             ],
             [
              0.2222222222222222,
              "#7201a8"
             ],
             [
              0.3333333333333333,
              "#9c179e"
             ],
             [
              0.4444444444444444,
              "#bd3786"
             ],
             [
              0.5555555555555556,
              "#d8576b"
             ],
             [
              0.6666666666666666,
              "#ed7953"
             ],
             [
              0.7777777777777778,
              "#fb9f3a"
             ],
             [
              0.8888888888888888,
              "#fdca26"
             ],
             [
              1,
              "#f0f921"
             ]
            ],
            "type": "surface"
           }
          ],
          "table": [
           {
            "cells": {
             "fill": {
              "color": "#EBF0F8"
             },
             "line": {
              "color": "white"
             }
            },
            "header": {
             "fill": {
              "color": "#C8D4E3"
             },
             "line": {
              "color": "white"
             }
            },
            "type": "table"
           }
          ]
         },
         "layout": {
          "annotationdefaults": {
           "arrowcolor": "#2a3f5f",
           "arrowhead": 0,
           "arrowwidth": 1
          },
          "autotypenumbers": "strict",
          "coloraxis": {
           "colorbar": {
            "outlinewidth": 0,
            "ticks": ""
           }
          },
          "colorscale": {
           "diverging": [
            [
             0,
             "#8e0152"
            ],
            [
             0.1,
             "#c51b7d"
            ],
            [
             0.2,
             "#de77ae"
            ],
            [
             0.3,
             "#f1b6da"
            ],
            [
             0.4,
             "#fde0ef"
            ],
            [
             0.5,
             "#f7f7f7"
            ],
            [
             0.6,
             "#e6f5d0"
            ],
            [
             0.7,
             "#b8e186"
            ],
            [
             0.8,
             "#7fbc41"
            ],
            [
             0.9,
             "#4d9221"
            ],
            [
             1,
             "#276419"
            ]
           ],
           "sequential": [
            [
             0,
             "#0d0887"
            ],
            [
             0.1111111111111111,
             "#46039f"
            ],
            [
             0.2222222222222222,
             "#7201a8"
            ],
            [
             0.3333333333333333,
             "#9c179e"
            ],
            [
             0.4444444444444444,
             "#bd3786"
            ],
            [
             0.5555555555555556,
             "#d8576b"
            ],
            [
             0.6666666666666666,
             "#ed7953"
            ],
            [
             0.7777777777777778,
             "#fb9f3a"
            ],
            [
             0.8888888888888888,
             "#fdca26"
            ],
            [
             1,
             "#f0f921"
            ]
           ],
           "sequentialminus": [
            [
             0,
             "#0d0887"
            ],
            [
             0.1111111111111111,
             "#46039f"
            ],
            [
             0.2222222222222222,
             "#7201a8"
            ],
            [
             0.3333333333333333,
             "#9c179e"
            ],
            [
             0.4444444444444444,
             "#bd3786"
            ],
            [
             0.5555555555555556,
             "#d8576b"
            ],
            [
             0.6666666666666666,
             "#ed7953"
            ],
            [
             0.7777777777777778,
             "#fb9f3a"
            ],
            [
             0.8888888888888888,
             "#fdca26"
            ],
            [
             1,
             "#f0f921"
            ]
           ]
          },
          "colorway": [
           "#636efa",
           "#EF553B",
           "#00cc96",
           "#ab63fa",
           "#FFA15A",
           "#19d3f3",
           "#FF6692",
           "#B6E880",
           "#FF97FF",
           "#FECB52"
          ],
          "font": {
           "color": "#2a3f5f"
          },
          "geo": {
           "bgcolor": "white",
           "lakecolor": "white",
           "landcolor": "#E5ECF6",
           "showlakes": true,
           "showland": true,
           "subunitcolor": "white"
          },
          "hoverlabel": {
           "align": "left"
          },
          "hovermode": "closest",
          "mapbox": {
           "style": "light"
          },
          "paper_bgcolor": "white",
          "plot_bgcolor": "#E5ECF6",
          "polar": {
           "angularaxis": {
            "gridcolor": "white",
            "linecolor": "white",
            "ticks": ""
           },
           "bgcolor": "#E5ECF6",
           "radialaxis": {
            "gridcolor": "white",
            "linecolor": "white",
            "ticks": ""
           }
          },
          "scene": {
           "xaxis": {
            "backgroundcolor": "#E5ECF6",
            "gridcolor": "white",
            "gridwidth": 2,
            "linecolor": "white",
            "showbackground": true,
            "ticks": "",
            "zerolinecolor": "white"
           },
           "yaxis": {
            "backgroundcolor": "#E5ECF6",
            "gridcolor": "white",
            "gridwidth": 2,
            "linecolor": "white",
            "showbackground": true,
            "ticks": "",
            "zerolinecolor": "white"
           },
           "zaxis": {
            "backgroundcolor": "#E5ECF6",
            "gridcolor": "white",
            "gridwidth": 2,
            "linecolor": "white",
            "showbackground": true,
            "ticks": "",
            "zerolinecolor": "white"
           }
          },
          "shapedefaults": {
           "line": {
            "color": "#2a3f5f"
           }
          },
          "ternary": {
           "aaxis": {
            "gridcolor": "white",
            "linecolor": "white",
            "ticks": ""
           },
           "baxis": {
            "gridcolor": "white",
            "linecolor": "white",
            "ticks": ""
           },
           "bgcolor": "#E5ECF6",
           "caxis": {
            "gridcolor": "white",
            "linecolor": "white",
            "ticks": ""
           }
          },
          "title": {
           "x": 0.05
          },
          "xaxis": {
           "automargin": true,
           "gridcolor": "white",
           "linecolor": "white",
           "ticks": "",
           "title": {
            "standoff": 15
           },
           "zerolinecolor": "white",
           "zerolinewidth": 2
          },
          "yaxis": {
           "automargin": true,
           "gridcolor": "white",
           "linecolor": "white",
           "ticks": "",
           "title": {
            "standoff": 15
           },
           "zerolinecolor": "white",
           "zerolinewidth": 2
          }
         }
        }
       }
      },
      "text/html": [
       "<div>                            <div id=\"079d448d-95cd-4544-be53-0caed9096b47\" class=\"plotly-graph-div\" style=\"height:525px; width:100%;\"></div>            <script type=\"text/javascript\">                require([\"plotly\"], function(Plotly) {                    window.PLOTLYENV=window.PLOTLYENV || {};                                    if (document.getElementById(\"079d448d-95cd-4544-be53-0caed9096b47\")) {                    Plotly.newPlot(                        \"079d448d-95cd-4544-be53-0caed9096b47\",                        [{\"labels\":[\"\\u0431\\u043e\\u043b\\u0435\\u0435 400\",\"\\u043d\\u0435\\u0442 \\u043f\\u043e\\u0441\\u0430\\u0434\\u043e\\u0447\\u043d\\u044b\\u0445 \\u043c\\u0435\\u0441\\u0442\",\"\\u043e\\u0442 1 \\u0434\\u043e 10\",\"\\u043e\\u0442 10 \\u0434\\u043e 50\",\"\\u043e\\u0442 150 \\u0434\\u043e 400\",\"\\u043e\\u0442 50 \\u0434\\u043e 150\"],\"title\":{\"text\":\"\\u0420\\u0430\\u0441\\u043f\\u0440\\u0435\\u0434\\u0435\\u043b\\u0435\\u043d\\u0438\\u0435 \\u043e\\u0431\\u044a\\u0435\\u043a\\u0442\\u043e\\u0432 \\u043e\\u0431\\u0449\\u0435\\u0441\\u0442\\u0432\\u0435\\u043d\\u043d\\u043e\\u0433\\u043e \\u043f\\u0438\\u0442\\u0430\\u043d\\u0438\\u044f \\u043f\\u043e \\u0447\\u0438\\u0441\\u043b\\u0443 \\u043f\\u043e\\u0441\\u0430\\u0434\\u043e\\u0447\\u043d\\u044b\\u0445 \\u043c\\u0435\\u0441\\u0442\"},\"values\":[1566,1621,1199,5822,1362,3796],\"type\":\"pie\"}],                        {\"template\":{\"data\":{\"bar\":[{\"error_x\":{\"color\":\"#2a3f5f\"},\"error_y\":{\"color\":\"#2a3f5f\"},\"marker\":{\"line\":{\"color\":\"#E5ECF6\",\"width\":0.5},\"pattern\":{\"fillmode\":\"overlay\",\"size\":10,\"solidity\":0.2}},\"type\":\"bar\"}],\"barpolar\":[{\"marker\":{\"line\":{\"color\":\"#E5ECF6\",\"width\":0.5},\"pattern\":{\"fillmode\":\"overlay\",\"size\":10,\"solidity\":0.2}},\"type\":\"barpolar\"}],\"carpet\":[{\"aaxis\":{\"endlinecolor\":\"#2a3f5f\",\"gridcolor\":\"white\",\"linecolor\":\"white\",\"minorgridcolor\":\"white\",\"startlinecolor\":\"#2a3f5f\"},\"baxis\":{\"endlinecolor\":\"#2a3f5f\",\"gridcolor\":\"white\",\"linecolor\":\"white\",\"minorgridcolor\":\"white\",\"startlinecolor\":\"#2a3f5f\"},\"type\":\"carpet\"}],\"choropleth\":[{\"colorbar\":{\"outlinewidth\":0,\"ticks\":\"\"},\"type\":\"choropleth\"}],\"contour\":[{\"colorbar\":{\"outlinewidth\":0,\"ticks\":\"\"},\"colorscale\":[[0.0,\"#0d0887\"],[0.1111111111111111,\"#46039f\"],[0.2222222222222222,\"#7201a8\"],[0.3333333333333333,\"#9c179e\"],[0.4444444444444444,\"#bd3786\"],[0.5555555555555556,\"#d8576b\"],[0.6666666666666666,\"#ed7953\"],[0.7777777777777778,\"#fb9f3a\"],[0.8888888888888888,\"#fdca26\"],[1.0,\"#f0f921\"]],\"type\":\"contour\"}],\"contourcarpet\":[{\"colorbar\":{\"outlinewidth\":0,\"ticks\":\"\"},\"type\":\"contourcarpet\"}],\"heatmap\":[{\"colorbar\":{\"outlinewidth\":0,\"ticks\":\"\"},\"colorscale\":[[0.0,\"#0d0887\"],[0.1111111111111111,\"#46039f\"],[0.2222222222222222,\"#7201a8\"],[0.3333333333333333,\"#9c179e\"],[0.4444444444444444,\"#bd3786\"],[0.5555555555555556,\"#d8576b\"],[0.6666666666666666,\"#ed7953\"],[0.7777777777777778,\"#fb9f3a\"],[0.8888888888888888,\"#fdca26\"],[1.0,\"#f0f921\"]],\"type\":\"heatmap\"}],\"heatmapgl\":[{\"colorbar\":{\"outlinewidth\":0,\"ticks\":\"\"},\"colorscale\":[[0.0,\"#0d0887\"],[0.1111111111111111,\"#46039f\"],[0.2222222222222222,\"#7201a8\"],[0.3333333333333333,\"#9c179e\"],[0.4444444444444444,\"#bd3786\"],[0.5555555555555556,\"#d8576b\"],[0.6666666666666666,\"#ed7953\"],[0.7777777777777778,\"#fb9f3a\"],[0.8888888888888888,\"#fdca26\"],[1.0,\"#f0f921\"]],\"type\":\"heatmapgl\"}],\"histogram\":[{\"marker\":{\"pattern\":{\"fillmode\":\"overlay\",\"size\":10,\"solidity\":0.2}},\"type\":\"histogram\"}],\"histogram2d\":[{\"colorbar\":{\"outlinewidth\":0,\"ticks\":\"\"},\"colorscale\":[[0.0,\"#0d0887\"],[0.1111111111111111,\"#46039f\"],[0.2222222222222222,\"#7201a8\"],[0.3333333333333333,\"#9c179e\"],[0.4444444444444444,\"#bd3786\"],[0.5555555555555556,\"#d8576b\"],[0.6666666666666666,\"#ed7953\"],[0.7777777777777778,\"#fb9f3a\"],[0.8888888888888888,\"#fdca26\"],[1.0,\"#f0f921\"]],\"type\":\"histogram2d\"}],\"histogram2dcontour\":[{\"colorbar\":{\"outlinewidth\":0,\"ticks\":\"\"},\"colorscale\":[[0.0,\"#0d0887\"],[0.1111111111111111,\"#46039f\"],[0.2222222222222222,\"#7201a8\"],[0.3333333333333333,\"#9c179e\"],[0.4444444444444444,\"#bd3786\"],[0.5555555555555556,\"#d8576b\"],[0.6666666666666666,\"#ed7953\"],[0.7777777777777778,\"#fb9f3a\"],[0.8888888888888888,\"#fdca26\"],[1.0,\"#f0f921\"]],\"type\":\"histogram2dcontour\"}],\"mesh3d\":[{\"colorbar\":{\"outlinewidth\":0,\"ticks\":\"\"},\"type\":\"mesh3d\"}],\"parcoords\":[{\"line\":{\"colorbar\":{\"outlinewidth\":0,\"ticks\":\"\"}},\"type\":\"parcoords\"}],\"pie\":[{\"automargin\":true,\"type\":\"pie\"}],\"scatter\":[{\"marker\":{\"colorbar\":{\"outlinewidth\":0,\"ticks\":\"\"}},\"type\":\"scatter\"}],\"scatter3d\":[{\"line\":{\"colorbar\":{\"outlinewidth\":0,\"ticks\":\"\"}},\"marker\":{\"colorbar\":{\"outlinewidth\":0,\"ticks\":\"\"}},\"type\":\"scatter3d\"}],\"scattercarpet\":[{\"marker\":{\"colorbar\":{\"outlinewidth\":0,\"ticks\":\"\"}},\"type\":\"scattercarpet\"}],\"scattergeo\":[{\"marker\":{\"colorbar\":{\"outlinewidth\":0,\"ticks\":\"\"}},\"type\":\"scattergeo\"}],\"scattergl\":[{\"marker\":{\"colorbar\":{\"outlinewidth\":0,\"ticks\":\"\"}},\"type\":\"scattergl\"}],\"scattermapbox\":[{\"marker\":{\"colorbar\":{\"outlinewidth\":0,\"ticks\":\"\"}},\"type\":\"scattermapbox\"}],\"scatterpolar\":[{\"marker\":{\"colorbar\":{\"outlinewidth\":0,\"ticks\":\"\"}},\"type\":\"scatterpolar\"}],\"scatterpolargl\":[{\"marker\":{\"colorbar\":{\"outlinewidth\":0,\"ticks\":\"\"}},\"type\":\"scatterpolargl\"}],\"scatterternary\":[{\"marker\":{\"colorbar\":{\"outlinewidth\":0,\"ticks\":\"\"}},\"type\":\"scatterternary\"}],\"surface\":[{\"colorbar\":{\"outlinewidth\":0,\"ticks\":\"\"},\"colorscale\":[[0.0,\"#0d0887\"],[0.1111111111111111,\"#46039f\"],[0.2222222222222222,\"#7201a8\"],[0.3333333333333333,\"#9c179e\"],[0.4444444444444444,\"#bd3786\"],[0.5555555555555556,\"#d8576b\"],[0.6666666666666666,\"#ed7953\"],[0.7777777777777778,\"#fb9f3a\"],[0.8888888888888888,\"#fdca26\"],[1.0,\"#f0f921\"]],\"type\":\"surface\"}],\"table\":[{\"cells\":{\"fill\":{\"color\":\"#EBF0F8\"},\"line\":{\"color\":\"white\"}},\"header\":{\"fill\":{\"color\":\"#C8D4E3\"},\"line\":{\"color\":\"white\"}},\"type\":\"table\"}]},\"layout\":{\"annotationdefaults\":{\"arrowcolor\":\"#2a3f5f\",\"arrowhead\":0,\"arrowwidth\":1},\"autotypenumbers\":\"strict\",\"coloraxis\":{\"colorbar\":{\"outlinewidth\":0,\"ticks\":\"\"}},\"colorscale\":{\"diverging\":[[0,\"#8e0152\"],[0.1,\"#c51b7d\"],[0.2,\"#de77ae\"],[0.3,\"#f1b6da\"],[0.4,\"#fde0ef\"],[0.5,\"#f7f7f7\"],[0.6,\"#e6f5d0\"],[0.7,\"#b8e186\"],[0.8,\"#7fbc41\"],[0.9,\"#4d9221\"],[1,\"#276419\"]],\"sequential\":[[0.0,\"#0d0887\"],[0.1111111111111111,\"#46039f\"],[0.2222222222222222,\"#7201a8\"],[0.3333333333333333,\"#9c179e\"],[0.4444444444444444,\"#bd3786\"],[0.5555555555555556,\"#d8576b\"],[0.6666666666666666,\"#ed7953\"],[0.7777777777777778,\"#fb9f3a\"],[0.8888888888888888,\"#fdca26\"],[1.0,\"#f0f921\"]],\"sequentialminus\":[[0.0,\"#0d0887\"],[0.1111111111111111,\"#46039f\"],[0.2222222222222222,\"#7201a8\"],[0.3333333333333333,\"#9c179e\"],[0.4444444444444444,\"#bd3786\"],[0.5555555555555556,\"#d8576b\"],[0.6666666666666666,\"#ed7953\"],[0.7777777777777778,\"#fb9f3a\"],[0.8888888888888888,\"#fdca26\"],[1.0,\"#f0f921\"]]},\"colorway\":[\"#636efa\",\"#EF553B\",\"#00cc96\",\"#ab63fa\",\"#FFA15A\",\"#19d3f3\",\"#FF6692\",\"#B6E880\",\"#FF97FF\",\"#FECB52\"],\"font\":{\"color\":\"#2a3f5f\"},\"geo\":{\"bgcolor\":\"white\",\"lakecolor\":\"white\",\"landcolor\":\"#E5ECF6\",\"showlakes\":true,\"showland\":true,\"subunitcolor\":\"white\"},\"hoverlabel\":{\"align\":\"left\"},\"hovermode\":\"closest\",\"mapbox\":{\"style\":\"light\"},\"paper_bgcolor\":\"white\",\"plot_bgcolor\":\"#E5ECF6\",\"polar\":{\"angularaxis\":{\"gridcolor\":\"white\",\"linecolor\":\"white\",\"ticks\":\"\"},\"bgcolor\":\"#E5ECF6\",\"radialaxis\":{\"gridcolor\":\"white\",\"linecolor\":\"white\",\"ticks\":\"\"}},\"scene\":{\"xaxis\":{\"backgroundcolor\":\"#E5ECF6\",\"gridcolor\":\"white\",\"gridwidth\":2,\"linecolor\":\"white\",\"showbackground\":true,\"ticks\":\"\",\"zerolinecolor\":\"white\"},\"yaxis\":{\"backgroundcolor\":\"#E5ECF6\",\"gridcolor\":\"white\",\"gridwidth\":2,\"linecolor\":\"white\",\"showbackground\":true,\"ticks\":\"\",\"zerolinecolor\":\"white\"},\"zaxis\":{\"backgroundcolor\":\"#E5ECF6\",\"gridcolor\":\"white\",\"gridwidth\":2,\"linecolor\":\"white\",\"showbackground\":true,\"ticks\":\"\",\"zerolinecolor\":\"white\"}},\"shapedefaults\":{\"line\":{\"color\":\"#2a3f5f\"}},\"ternary\":{\"aaxis\":{\"gridcolor\":\"white\",\"linecolor\":\"white\",\"ticks\":\"\"},\"baxis\":{\"gridcolor\":\"white\",\"linecolor\":\"white\",\"ticks\":\"\"},\"bgcolor\":\"#E5ECF6\",\"caxis\":{\"gridcolor\":\"white\",\"linecolor\":\"white\",\"ticks\":\"\"}},\"title\":{\"x\":0.05},\"xaxis\":{\"automargin\":true,\"gridcolor\":\"white\",\"linecolor\":\"white\",\"ticks\":\"\",\"title\":{\"standoff\":15},\"zerolinecolor\":\"white\",\"zerolinewidth\":2},\"yaxis\":{\"automargin\":true,\"gridcolor\":\"white\",\"linecolor\":\"white\",\"ticks\":\"\",\"title\":{\"standoff\":15},\"zerolinecolor\":\"white\",\"zerolinewidth\":2}}}},                        {\"responsive\": true}                    ).then(function(){\n",
       "                            \n",
       "var gd = document.getElementById('079d448d-95cd-4544-be53-0caed9096b47');\n",
       "var x = new MutationObserver(function (mutations, observer) {{\n",
       "        var display = window.getComputedStyle(gd).display;\n",
       "        if (!display || display === 'none') {{\n",
       "            console.log([gd, 'removed!']);\n",
       "            Plotly.purge(gd);\n",
       "            observer.disconnect();\n",
       "        }}\n",
       "}});\n",
       "\n",
       "// Listen for the removal of the full notebook cells\n",
       "var notebookContainer = gd.closest('#notebook-container');\n",
       "if (notebookContainer) {{\n",
       "    x.observe(notebookContainer, {childList: true});\n",
       "}}\n",
       "\n",
       "// Listen for the clearing of the current output cell\n",
       "var outputEl = gd.closest('.output');\n",
       "if (outputEl) {{\n",
       "    x.observe(outputEl, {childList: true});\n",
       "}}\n",
       "\n",
       "                        })                };                });            </script>        </div>"
      ]
     },
     "metadata": {},
     "output_type": "display_data"
    }
   ],
   "source": [
    "# построим график\n",
    "labels = rest_data_gr['type_namber']\n",
    "values = rest_data_gr['total']\n",
    "\n",
    "fig = go.Figure(data=[go.Pie(labels=labels, values=values\n",
    "                    ,title='Распределение объектов общественного питания по числу посадочных мест')])\n",
    "fig.show()"
   ]
  },
  {
   "cell_type": "code",
   "execution_count": 112,
   "id": "e023166f",
   "metadata": {},
   "outputs": [
    {
     "name": "stdout",
     "output_type": "stream",
     "text": [
      "           type_namber  total\n",
      "0            более 400    323\n",
      "1  нет посадочных мест    268\n",
      "2           от 1 до 10    220\n",
      "3          от 10 до 50   1176\n",
      "4        от 150 до 400    148\n",
      "5         от 50 до 150    833\n"
     ]
    }
   ],
   "source": [
    "# для сетевых заведений сохраним в переменной rest_data_gr_ch необходимые данные\n",
    "\n",
    "rest_data_gr_ch = rest_data.query('chain==\"да\"')[['id','type_namber']].\\\n",
    "groupby(by=[\"type_namber\"]).count().reset_index().rename(columns={'id':'total'})\n",
    "# выведем на экран\n",
    "print(rest_data_gr_ch)"
   ]
  },
  {
   "cell_type": "code",
   "execution_count": 113,
   "id": "3c1a6d58",
   "metadata": {},
   "outputs": [
    {
     "data": {
      "application/vnd.plotly.v1+json": {
       "config": {
        "plotlyServerURL": "https://plot.ly"
       },
       "data": [
        {
         "labels": [
          "более 400",
          "нет посадочных мест",
          "от 1 до 10",
          "от 10 до 50",
          "от 150 до 400",
          "от 50 до 150"
         ],
         "title": {
          "text": "Распределение сетевых объектов общественного питания по числу посадочных мест"
         },
         "type": "pie",
         "values": [
          323,
          268,
          220,
          1176,
          148,
          833
         ]
        }
       ],
       "layout": {
        "template": {
         "data": {
          "bar": [
           {
            "error_x": {
             "color": "#2a3f5f"
            },
            "error_y": {
             "color": "#2a3f5f"
            },
            "marker": {
             "line": {
              "color": "#E5ECF6",
              "width": 0.5
             },
             "pattern": {
              "fillmode": "overlay",
              "size": 10,
              "solidity": 0.2
             }
            },
            "type": "bar"
           }
          ],
          "barpolar": [
           {
            "marker": {
             "line": {
              "color": "#E5ECF6",
              "width": 0.5
             },
             "pattern": {
              "fillmode": "overlay",
              "size": 10,
              "solidity": 0.2
             }
            },
            "type": "barpolar"
           }
          ],
          "carpet": [
           {
            "aaxis": {
             "endlinecolor": "#2a3f5f",
             "gridcolor": "white",
             "linecolor": "white",
             "minorgridcolor": "white",
             "startlinecolor": "#2a3f5f"
            },
            "baxis": {
             "endlinecolor": "#2a3f5f",
             "gridcolor": "white",
             "linecolor": "white",
             "minorgridcolor": "white",
             "startlinecolor": "#2a3f5f"
            },
            "type": "carpet"
           }
          ],
          "choropleth": [
           {
            "colorbar": {
             "outlinewidth": 0,
             "ticks": ""
            },
            "type": "choropleth"
           }
          ],
          "contour": [
           {
            "colorbar": {
             "outlinewidth": 0,
             "ticks": ""
            },
            "colorscale": [
             [
              0,
              "#0d0887"
             ],
             [
              0.1111111111111111,
              "#46039f"
             ],
             [
              0.2222222222222222,
              "#7201a8"
             ],
             [
              0.3333333333333333,
              "#9c179e"
             ],
             [
              0.4444444444444444,
              "#bd3786"
             ],
             [
              0.5555555555555556,
              "#d8576b"
             ],
             [
              0.6666666666666666,
              "#ed7953"
             ],
             [
              0.7777777777777778,
              "#fb9f3a"
             ],
             [
              0.8888888888888888,
              "#fdca26"
             ],
             [
              1,
              "#f0f921"
             ]
            ],
            "type": "contour"
           }
          ],
          "contourcarpet": [
           {
            "colorbar": {
             "outlinewidth": 0,
             "ticks": ""
            },
            "type": "contourcarpet"
           }
          ],
          "heatmap": [
           {
            "colorbar": {
             "outlinewidth": 0,
             "ticks": ""
            },
            "colorscale": [
             [
              0,
              "#0d0887"
             ],
             [
              0.1111111111111111,
              "#46039f"
             ],
             [
              0.2222222222222222,
              "#7201a8"
             ],
             [
              0.3333333333333333,
              "#9c179e"
             ],
             [
              0.4444444444444444,
              "#bd3786"
             ],
             [
              0.5555555555555556,
              "#d8576b"
             ],
             [
              0.6666666666666666,
              "#ed7953"
             ],
             [
              0.7777777777777778,
              "#fb9f3a"
             ],
             [
              0.8888888888888888,
              "#fdca26"
             ],
             [
              1,
              "#f0f921"
             ]
            ],
            "type": "heatmap"
           }
          ],
          "heatmapgl": [
           {
            "colorbar": {
             "outlinewidth": 0,
             "ticks": ""
            },
            "colorscale": [
             [
              0,
              "#0d0887"
             ],
             [
              0.1111111111111111,
              "#46039f"
             ],
             [
              0.2222222222222222,
              "#7201a8"
             ],
             [
              0.3333333333333333,
              "#9c179e"
             ],
             [
              0.4444444444444444,
              "#bd3786"
             ],
             [
              0.5555555555555556,
              "#d8576b"
             ],
             [
              0.6666666666666666,
              "#ed7953"
             ],
             [
              0.7777777777777778,
              "#fb9f3a"
             ],
             [
              0.8888888888888888,
              "#fdca26"
             ],
             [
              1,
              "#f0f921"
             ]
            ],
            "type": "heatmapgl"
           }
          ],
          "histogram": [
           {
            "marker": {
             "pattern": {
              "fillmode": "overlay",
              "size": 10,
              "solidity": 0.2
             }
            },
            "type": "histogram"
           }
          ],
          "histogram2d": [
           {
            "colorbar": {
             "outlinewidth": 0,
             "ticks": ""
            },
            "colorscale": [
             [
              0,
              "#0d0887"
             ],
             [
              0.1111111111111111,
              "#46039f"
             ],
             [
              0.2222222222222222,
              "#7201a8"
             ],
             [
              0.3333333333333333,
              "#9c179e"
             ],
             [
              0.4444444444444444,
              "#bd3786"
             ],
             [
              0.5555555555555556,
              "#d8576b"
             ],
             [
              0.6666666666666666,
              "#ed7953"
             ],
             [
              0.7777777777777778,
              "#fb9f3a"
             ],
             [
              0.8888888888888888,
              "#fdca26"
             ],
             [
              1,
              "#f0f921"
             ]
            ],
            "type": "histogram2d"
           }
          ],
          "histogram2dcontour": [
           {
            "colorbar": {
             "outlinewidth": 0,
             "ticks": ""
            },
            "colorscale": [
             [
              0,
              "#0d0887"
             ],
             [
              0.1111111111111111,
              "#46039f"
             ],
             [
              0.2222222222222222,
              "#7201a8"
             ],
             [
              0.3333333333333333,
              "#9c179e"
             ],
             [
              0.4444444444444444,
              "#bd3786"
             ],
             [
              0.5555555555555556,
              "#d8576b"
             ],
             [
              0.6666666666666666,
              "#ed7953"
             ],
             [
              0.7777777777777778,
              "#fb9f3a"
             ],
             [
              0.8888888888888888,
              "#fdca26"
             ],
             [
              1,
              "#f0f921"
             ]
            ],
            "type": "histogram2dcontour"
           }
          ],
          "mesh3d": [
           {
            "colorbar": {
             "outlinewidth": 0,
             "ticks": ""
            },
            "type": "mesh3d"
           }
          ],
          "parcoords": [
           {
            "line": {
             "colorbar": {
              "outlinewidth": 0,
              "ticks": ""
             }
            },
            "type": "parcoords"
           }
          ],
          "pie": [
           {
            "automargin": true,
            "type": "pie"
           }
          ],
          "scatter": [
           {
            "marker": {
             "colorbar": {
              "outlinewidth": 0,
              "ticks": ""
             }
            },
            "type": "scatter"
           }
          ],
          "scatter3d": [
           {
            "line": {
             "colorbar": {
              "outlinewidth": 0,
              "ticks": ""
             }
            },
            "marker": {
             "colorbar": {
              "outlinewidth": 0,
              "ticks": ""
             }
            },
            "type": "scatter3d"
           }
          ],
          "scattercarpet": [
           {
            "marker": {
             "colorbar": {
              "outlinewidth": 0,
              "ticks": ""
             }
            },
            "type": "scattercarpet"
           }
          ],
          "scattergeo": [
           {
            "marker": {
             "colorbar": {
              "outlinewidth": 0,
              "ticks": ""
             }
            },
            "type": "scattergeo"
           }
          ],
          "scattergl": [
           {
            "marker": {
             "colorbar": {
              "outlinewidth": 0,
              "ticks": ""
             }
            },
            "type": "scattergl"
           }
          ],
          "scattermapbox": [
           {
            "marker": {
             "colorbar": {
              "outlinewidth": 0,
              "ticks": ""
             }
            },
            "type": "scattermapbox"
           }
          ],
          "scatterpolar": [
           {
            "marker": {
             "colorbar": {
              "outlinewidth": 0,
              "ticks": ""
             }
            },
            "type": "scatterpolar"
           }
          ],
          "scatterpolargl": [
           {
            "marker": {
             "colorbar": {
              "outlinewidth": 0,
              "ticks": ""
             }
            },
            "type": "scatterpolargl"
           }
          ],
          "scatterternary": [
           {
            "marker": {
             "colorbar": {
              "outlinewidth": 0,
              "ticks": ""
             }
            },
            "type": "scatterternary"
           }
          ],
          "surface": [
           {
            "colorbar": {
             "outlinewidth": 0,
             "ticks": ""
            },
            "colorscale": [
             [
              0,
              "#0d0887"
             ],
             [
              0.1111111111111111,
              "#46039f"
             ],
             [
              0.2222222222222222,
              "#7201a8"
             ],
             [
              0.3333333333333333,
              "#9c179e"
             ],
             [
              0.4444444444444444,
              "#bd3786"
             ],
             [
              0.5555555555555556,
              "#d8576b"
             ],
             [
              0.6666666666666666,
              "#ed7953"
             ],
             [
              0.7777777777777778,
              "#fb9f3a"
             ],
             [
              0.8888888888888888,
              "#fdca26"
             ],
             [
              1,
              "#f0f921"
             ]
            ],
            "type": "surface"
           }
          ],
          "table": [
           {
            "cells": {
             "fill": {
              "color": "#EBF0F8"
             },
             "line": {
              "color": "white"
             }
            },
            "header": {
             "fill": {
              "color": "#C8D4E3"
             },
             "line": {
              "color": "white"
             }
            },
            "type": "table"
           }
          ]
         },
         "layout": {
          "annotationdefaults": {
           "arrowcolor": "#2a3f5f",
           "arrowhead": 0,
           "arrowwidth": 1
          },
          "autotypenumbers": "strict",
          "coloraxis": {
           "colorbar": {
            "outlinewidth": 0,
            "ticks": ""
           }
          },
          "colorscale": {
           "diverging": [
            [
             0,
             "#8e0152"
            ],
            [
             0.1,
             "#c51b7d"
            ],
            [
             0.2,
             "#de77ae"
            ],
            [
             0.3,
             "#f1b6da"
            ],
            [
             0.4,
             "#fde0ef"
            ],
            [
             0.5,
             "#f7f7f7"
            ],
            [
             0.6,
             "#e6f5d0"
            ],
            [
             0.7,
             "#b8e186"
            ],
            [
             0.8,
             "#7fbc41"
            ],
            [
             0.9,
             "#4d9221"
            ],
            [
             1,
             "#276419"
            ]
           ],
           "sequential": [
            [
             0,
             "#0d0887"
            ],
            [
             0.1111111111111111,
             "#46039f"
            ],
            [
             0.2222222222222222,
             "#7201a8"
            ],
            [
             0.3333333333333333,
             "#9c179e"
            ],
            [
             0.4444444444444444,
             "#bd3786"
            ],
            [
             0.5555555555555556,
             "#d8576b"
            ],
            [
             0.6666666666666666,
             "#ed7953"
            ],
            [
             0.7777777777777778,
             "#fb9f3a"
            ],
            [
             0.8888888888888888,
             "#fdca26"
            ],
            [
             1,
             "#f0f921"
            ]
           ],
           "sequentialminus": [
            [
             0,
             "#0d0887"
            ],
            [
             0.1111111111111111,
             "#46039f"
            ],
            [
             0.2222222222222222,
             "#7201a8"
            ],
            [
             0.3333333333333333,
             "#9c179e"
            ],
            [
             0.4444444444444444,
             "#bd3786"
            ],
            [
             0.5555555555555556,
             "#d8576b"
            ],
            [
             0.6666666666666666,
             "#ed7953"
            ],
            [
             0.7777777777777778,
             "#fb9f3a"
            ],
            [
             0.8888888888888888,
             "#fdca26"
            ],
            [
             1,
             "#f0f921"
            ]
           ]
          },
          "colorway": [
           "#636efa",
           "#EF553B",
           "#00cc96",
           "#ab63fa",
           "#FFA15A",
           "#19d3f3",
           "#FF6692",
           "#B6E880",
           "#FF97FF",
           "#FECB52"
          ],
          "font": {
           "color": "#2a3f5f"
          },
          "geo": {
           "bgcolor": "white",
           "lakecolor": "white",
           "landcolor": "#E5ECF6",
           "showlakes": true,
           "showland": true,
           "subunitcolor": "white"
          },
          "hoverlabel": {
           "align": "left"
          },
          "hovermode": "closest",
          "mapbox": {
           "style": "light"
          },
          "paper_bgcolor": "white",
          "plot_bgcolor": "#E5ECF6",
          "polar": {
           "angularaxis": {
            "gridcolor": "white",
            "linecolor": "white",
            "ticks": ""
           },
           "bgcolor": "#E5ECF6",
           "radialaxis": {
            "gridcolor": "white",
            "linecolor": "white",
            "ticks": ""
           }
          },
          "scene": {
           "xaxis": {
            "backgroundcolor": "#E5ECF6",
            "gridcolor": "white",
            "gridwidth": 2,
            "linecolor": "white",
            "showbackground": true,
            "ticks": "",
            "zerolinecolor": "white"
           },
           "yaxis": {
            "backgroundcolor": "#E5ECF6",
            "gridcolor": "white",
            "gridwidth": 2,
            "linecolor": "white",
            "showbackground": true,
            "ticks": "",
            "zerolinecolor": "white"
           },
           "zaxis": {
            "backgroundcolor": "#E5ECF6",
            "gridcolor": "white",
            "gridwidth": 2,
            "linecolor": "white",
            "showbackground": true,
            "ticks": "",
            "zerolinecolor": "white"
           }
          },
          "shapedefaults": {
           "line": {
            "color": "#2a3f5f"
           }
          },
          "ternary": {
           "aaxis": {
            "gridcolor": "white",
            "linecolor": "white",
            "ticks": ""
           },
           "baxis": {
            "gridcolor": "white",
            "linecolor": "white",
            "ticks": ""
           },
           "bgcolor": "#E5ECF6",
           "caxis": {
            "gridcolor": "white",
            "linecolor": "white",
            "ticks": ""
           }
          },
          "title": {
           "x": 0.05
          },
          "xaxis": {
           "automargin": true,
           "gridcolor": "white",
           "linecolor": "white",
           "ticks": "",
           "title": {
            "standoff": 15
           },
           "zerolinecolor": "white",
           "zerolinewidth": 2
          },
          "yaxis": {
           "automargin": true,
           "gridcolor": "white",
           "linecolor": "white",
           "ticks": "",
           "title": {
            "standoff": 15
           },
           "zerolinecolor": "white",
           "zerolinewidth": 2
          }
         }
        }
       }
      },
      "text/html": [
       "<div>                            <div id=\"50e8a962-177f-44ae-b6c2-2c47d95d14bc\" class=\"plotly-graph-div\" style=\"height:525px; width:100%;\"></div>            <script type=\"text/javascript\">                require([\"plotly\"], function(Plotly) {                    window.PLOTLYENV=window.PLOTLYENV || {};                                    if (document.getElementById(\"50e8a962-177f-44ae-b6c2-2c47d95d14bc\")) {                    Plotly.newPlot(                        \"50e8a962-177f-44ae-b6c2-2c47d95d14bc\",                        [{\"labels\":[\"\\u0431\\u043e\\u043b\\u0435\\u0435 400\",\"\\u043d\\u0435\\u0442 \\u043f\\u043e\\u0441\\u0430\\u0434\\u043e\\u0447\\u043d\\u044b\\u0445 \\u043c\\u0435\\u0441\\u0442\",\"\\u043e\\u0442 1 \\u0434\\u043e 10\",\"\\u043e\\u0442 10 \\u0434\\u043e 50\",\"\\u043e\\u0442 150 \\u0434\\u043e 400\",\"\\u043e\\u0442 50 \\u0434\\u043e 150\"],\"title\":{\"text\":\"\\u0420\\u0430\\u0441\\u043f\\u0440\\u0435\\u0434\\u0435\\u043b\\u0435\\u043d\\u0438\\u0435 \\u0441\\u0435\\u0442\\u0435\\u0432\\u044b\\u0445 \\u043e\\u0431\\u044a\\u0435\\u043a\\u0442\\u043e\\u0432 \\u043e\\u0431\\u0449\\u0435\\u0441\\u0442\\u0432\\u0435\\u043d\\u043d\\u043e\\u0433\\u043e \\u043f\\u0438\\u0442\\u0430\\u043d\\u0438\\u044f \\u043f\\u043e \\u0447\\u0438\\u0441\\u043b\\u0443 \\u043f\\u043e\\u0441\\u0430\\u0434\\u043e\\u0447\\u043d\\u044b\\u0445 \\u043c\\u0435\\u0441\\u0442\"},\"values\":[323,268,220,1176,148,833],\"type\":\"pie\"}],                        {\"template\":{\"data\":{\"bar\":[{\"error_x\":{\"color\":\"#2a3f5f\"},\"error_y\":{\"color\":\"#2a3f5f\"},\"marker\":{\"line\":{\"color\":\"#E5ECF6\",\"width\":0.5},\"pattern\":{\"fillmode\":\"overlay\",\"size\":10,\"solidity\":0.2}},\"type\":\"bar\"}],\"barpolar\":[{\"marker\":{\"line\":{\"color\":\"#E5ECF6\",\"width\":0.5},\"pattern\":{\"fillmode\":\"overlay\",\"size\":10,\"solidity\":0.2}},\"type\":\"barpolar\"}],\"carpet\":[{\"aaxis\":{\"endlinecolor\":\"#2a3f5f\",\"gridcolor\":\"white\",\"linecolor\":\"white\",\"minorgridcolor\":\"white\",\"startlinecolor\":\"#2a3f5f\"},\"baxis\":{\"endlinecolor\":\"#2a3f5f\",\"gridcolor\":\"white\",\"linecolor\":\"white\",\"minorgridcolor\":\"white\",\"startlinecolor\":\"#2a3f5f\"},\"type\":\"carpet\"}],\"choropleth\":[{\"colorbar\":{\"outlinewidth\":0,\"ticks\":\"\"},\"type\":\"choropleth\"}],\"contour\":[{\"colorbar\":{\"outlinewidth\":0,\"ticks\":\"\"},\"colorscale\":[[0.0,\"#0d0887\"],[0.1111111111111111,\"#46039f\"],[0.2222222222222222,\"#7201a8\"],[0.3333333333333333,\"#9c179e\"],[0.4444444444444444,\"#bd3786\"],[0.5555555555555556,\"#d8576b\"],[0.6666666666666666,\"#ed7953\"],[0.7777777777777778,\"#fb9f3a\"],[0.8888888888888888,\"#fdca26\"],[1.0,\"#f0f921\"]],\"type\":\"contour\"}],\"contourcarpet\":[{\"colorbar\":{\"outlinewidth\":0,\"ticks\":\"\"},\"type\":\"contourcarpet\"}],\"heatmap\":[{\"colorbar\":{\"outlinewidth\":0,\"ticks\":\"\"},\"colorscale\":[[0.0,\"#0d0887\"],[0.1111111111111111,\"#46039f\"],[0.2222222222222222,\"#7201a8\"],[0.3333333333333333,\"#9c179e\"],[0.4444444444444444,\"#bd3786\"],[0.5555555555555556,\"#d8576b\"],[0.6666666666666666,\"#ed7953\"],[0.7777777777777778,\"#fb9f3a\"],[0.8888888888888888,\"#fdca26\"],[1.0,\"#f0f921\"]],\"type\":\"heatmap\"}],\"heatmapgl\":[{\"colorbar\":{\"outlinewidth\":0,\"ticks\":\"\"},\"colorscale\":[[0.0,\"#0d0887\"],[0.1111111111111111,\"#46039f\"],[0.2222222222222222,\"#7201a8\"],[0.3333333333333333,\"#9c179e\"],[0.4444444444444444,\"#bd3786\"],[0.5555555555555556,\"#d8576b\"],[0.6666666666666666,\"#ed7953\"],[0.7777777777777778,\"#fb9f3a\"],[0.8888888888888888,\"#fdca26\"],[1.0,\"#f0f921\"]],\"type\":\"heatmapgl\"}],\"histogram\":[{\"marker\":{\"pattern\":{\"fillmode\":\"overlay\",\"size\":10,\"solidity\":0.2}},\"type\":\"histogram\"}],\"histogram2d\":[{\"colorbar\":{\"outlinewidth\":0,\"ticks\":\"\"},\"colorscale\":[[0.0,\"#0d0887\"],[0.1111111111111111,\"#46039f\"],[0.2222222222222222,\"#7201a8\"],[0.3333333333333333,\"#9c179e\"],[0.4444444444444444,\"#bd3786\"],[0.5555555555555556,\"#d8576b\"],[0.6666666666666666,\"#ed7953\"],[0.7777777777777778,\"#fb9f3a\"],[0.8888888888888888,\"#fdca26\"],[1.0,\"#f0f921\"]],\"type\":\"histogram2d\"}],\"histogram2dcontour\":[{\"colorbar\":{\"outlinewidth\":0,\"ticks\":\"\"},\"colorscale\":[[0.0,\"#0d0887\"],[0.1111111111111111,\"#46039f\"],[0.2222222222222222,\"#7201a8\"],[0.3333333333333333,\"#9c179e\"],[0.4444444444444444,\"#bd3786\"],[0.5555555555555556,\"#d8576b\"],[0.6666666666666666,\"#ed7953\"],[0.7777777777777778,\"#fb9f3a\"],[0.8888888888888888,\"#fdca26\"],[1.0,\"#f0f921\"]],\"type\":\"histogram2dcontour\"}],\"mesh3d\":[{\"colorbar\":{\"outlinewidth\":0,\"ticks\":\"\"},\"type\":\"mesh3d\"}],\"parcoords\":[{\"line\":{\"colorbar\":{\"outlinewidth\":0,\"ticks\":\"\"}},\"type\":\"parcoords\"}],\"pie\":[{\"automargin\":true,\"type\":\"pie\"}],\"scatter\":[{\"marker\":{\"colorbar\":{\"outlinewidth\":0,\"ticks\":\"\"}},\"type\":\"scatter\"}],\"scatter3d\":[{\"line\":{\"colorbar\":{\"outlinewidth\":0,\"ticks\":\"\"}},\"marker\":{\"colorbar\":{\"outlinewidth\":0,\"ticks\":\"\"}},\"type\":\"scatter3d\"}],\"scattercarpet\":[{\"marker\":{\"colorbar\":{\"outlinewidth\":0,\"ticks\":\"\"}},\"type\":\"scattercarpet\"}],\"scattergeo\":[{\"marker\":{\"colorbar\":{\"outlinewidth\":0,\"ticks\":\"\"}},\"type\":\"scattergeo\"}],\"scattergl\":[{\"marker\":{\"colorbar\":{\"outlinewidth\":0,\"ticks\":\"\"}},\"type\":\"scattergl\"}],\"scattermapbox\":[{\"marker\":{\"colorbar\":{\"outlinewidth\":0,\"ticks\":\"\"}},\"type\":\"scattermapbox\"}],\"scatterpolar\":[{\"marker\":{\"colorbar\":{\"outlinewidth\":0,\"ticks\":\"\"}},\"type\":\"scatterpolar\"}],\"scatterpolargl\":[{\"marker\":{\"colorbar\":{\"outlinewidth\":0,\"ticks\":\"\"}},\"type\":\"scatterpolargl\"}],\"scatterternary\":[{\"marker\":{\"colorbar\":{\"outlinewidth\":0,\"ticks\":\"\"}},\"type\":\"scatterternary\"}],\"surface\":[{\"colorbar\":{\"outlinewidth\":0,\"ticks\":\"\"},\"colorscale\":[[0.0,\"#0d0887\"],[0.1111111111111111,\"#46039f\"],[0.2222222222222222,\"#7201a8\"],[0.3333333333333333,\"#9c179e\"],[0.4444444444444444,\"#bd3786\"],[0.5555555555555556,\"#d8576b\"],[0.6666666666666666,\"#ed7953\"],[0.7777777777777778,\"#fb9f3a\"],[0.8888888888888888,\"#fdca26\"],[1.0,\"#f0f921\"]],\"type\":\"surface\"}],\"table\":[{\"cells\":{\"fill\":{\"color\":\"#EBF0F8\"},\"line\":{\"color\":\"white\"}},\"header\":{\"fill\":{\"color\":\"#C8D4E3\"},\"line\":{\"color\":\"white\"}},\"type\":\"table\"}]},\"layout\":{\"annotationdefaults\":{\"arrowcolor\":\"#2a3f5f\",\"arrowhead\":0,\"arrowwidth\":1},\"autotypenumbers\":\"strict\",\"coloraxis\":{\"colorbar\":{\"outlinewidth\":0,\"ticks\":\"\"}},\"colorscale\":{\"diverging\":[[0,\"#8e0152\"],[0.1,\"#c51b7d\"],[0.2,\"#de77ae\"],[0.3,\"#f1b6da\"],[0.4,\"#fde0ef\"],[0.5,\"#f7f7f7\"],[0.6,\"#e6f5d0\"],[0.7,\"#b8e186\"],[0.8,\"#7fbc41\"],[0.9,\"#4d9221\"],[1,\"#276419\"]],\"sequential\":[[0.0,\"#0d0887\"],[0.1111111111111111,\"#46039f\"],[0.2222222222222222,\"#7201a8\"],[0.3333333333333333,\"#9c179e\"],[0.4444444444444444,\"#bd3786\"],[0.5555555555555556,\"#d8576b\"],[0.6666666666666666,\"#ed7953\"],[0.7777777777777778,\"#fb9f3a\"],[0.8888888888888888,\"#fdca26\"],[1.0,\"#f0f921\"]],\"sequentialminus\":[[0.0,\"#0d0887\"],[0.1111111111111111,\"#46039f\"],[0.2222222222222222,\"#7201a8\"],[0.3333333333333333,\"#9c179e\"],[0.4444444444444444,\"#bd3786\"],[0.5555555555555556,\"#d8576b\"],[0.6666666666666666,\"#ed7953\"],[0.7777777777777778,\"#fb9f3a\"],[0.8888888888888888,\"#fdca26\"],[1.0,\"#f0f921\"]]},\"colorway\":[\"#636efa\",\"#EF553B\",\"#00cc96\",\"#ab63fa\",\"#FFA15A\",\"#19d3f3\",\"#FF6692\",\"#B6E880\",\"#FF97FF\",\"#FECB52\"],\"font\":{\"color\":\"#2a3f5f\"},\"geo\":{\"bgcolor\":\"white\",\"lakecolor\":\"white\",\"landcolor\":\"#E5ECF6\",\"showlakes\":true,\"showland\":true,\"subunitcolor\":\"white\"},\"hoverlabel\":{\"align\":\"left\"},\"hovermode\":\"closest\",\"mapbox\":{\"style\":\"light\"},\"paper_bgcolor\":\"white\",\"plot_bgcolor\":\"#E5ECF6\",\"polar\":{\"angularaxis\":{\"gridcolor\":\"white\",\"linecolor\":\"white\",\"ticks\":\"\"},\"bgcolor\":\"#E5ECF6\",\"radialaxis\":{\"gridcolor\":\"white\",\"linecolor\":\"white\",\"ticks\":\"\"}},\"scene\":{\"xaxis\":{\"backgroundcolor\":\"#E5ECF6\",\"gridcolor\":\"white\",\"gridwidth\":2,\"linecolor\":\"white\",\"showbackground\":true,\"ticks\":\"\",\"zerolinecolor\":\"white\"},\"yaxis\":{\"backgroundcolor\":\"#E5ECF6\",\"gridcolor\":\"white\",\"gridwidth\":2,\"linecolor\":\"white\",\"showbackground\":true,\"ticks\":\"\",\"zerolinecolor\":\"white\"},\"zaxis\":{\"backgroundcolor\":\"#E5ECF6\",\"gridcolor\":\"white\",\"gridwidth\":2,\"linecolor\":\"white\",\"showbackground\":true,\"ticks\":\"\",\"zerolinecolor\":\"white\"}},\"shapedefaults\":{\"line\":{\"color\":\"#2a3f5f\"}},\"ternary\":{\"aaxis\":{\"gridcolor\":\"white\",\"linecolor\":\"white\",\"ticks\":\"\"},\"baxis\":{\"gridcolor\":\"white\",\"linecolor\":\"white\",\"ticks\":\"\"},\"bgcolor\":\"#E5ECF6\",\"caxis\":{\"gridcolor\":\"white\",\"linecolor\":\"white\",\"ticks\":\"\"}},\"title\":{\"x\":0.05},\"xaxis\":{\"automargin\":true,\"gridcolor\":\"white\",\"linecolor\":\"white\",\"ticks\":\"\",\"title\":{\"standoff\":15},\"zerolinecolor\":\"white\",\"zerolinewidth\":2},\"yaxis\":{\"automargin\":true,\"gridcolor\":\"white\",\"linecolor\":\"white\",\"ticks\":\"\",\"title\":{\"standoff\":15},\"zerolinecolor\":\"white\",\"zerolinewidth\":2}}}},                        {\"responsive\": true}                    ).then(function(){\n",
       "                            \n",
       "var gd = document.getElementById('50e8a962-177f-44ae-b6c2-2c47d95d14bc');\n",
       "var x = new MutationObserver(function (mutations, observer) {{\n",
       "        var display = window.getComputedStyle(gd).display;\n",
       "        if (!display || display === 'none') {{\n",
       "            console.log([gd, 'removed!']);\n",
       "            Plotly.purge(gd);\n",
       "            observer.disconnect();\n",
       "        }}\n",
       "}});\n",
       "\n",
       "// Listen for the removal of the full notebook cells\n",
       "var notebookContainer = gd.closest('#notebook-container');\n",
       "if (notebookContainer) {{\n",
       "    x.observe(notebookContainer, {childList: true});\n",
       "}}\n",
       "\n",
       "// Listen for the clearing of the current output cell\n",
       "var outputEl = gd.closest('.output');\n",
       "if (outputEl) {{\n",
       "    x.observe(outputEl, {childList: true});\n",
       "}}\n",
       "\n",
       "                        })                };                });            </script>        </div>"
      ]
     },
     "metadata": {},
     "output_type": "display_data"
    }
   ],
   "source": [
    "# построим график\n",
    "labels = rest_data_gr_ch['type_namber']\n",
    "values = rest_data_gr_ch['total']\n",
    "\n",
    "fig = go.Figure(data=[go.Pie(labels=labels, values=values\n",
    "             ,title='Распределение сетевых объектов общественного питания по числу посадочных мест')])\n",
    "fig.show()"
   ]
  },
  {
   "cell_type": "markdown",
   "id": "0511d385",
   "metadata": {},
   "source": [
    "*Промежуточный вывод*\n",
    "\n",
    " В результате исследования:\"Что характерно для сетевых заведений: много заведений с небольшим числом посадочных мест в каждом или мало заведений с большим количеством посадочных мест?\", установлено:\n",
    "* более 9% объектов  не имеют посадочных мест, а работают с доставкой или на выдачу;\n",
    "* наиболее распространены предприятия с небольшим кодичеством посадочных мест от 10 до 50- 39,6 %;\n",
    "* доля сетевых предприятий с количеством мест более 400 составляет 10,9%.  \n",
    "\n",
    "Подобное соотношение характерно не только для сетевых заведений, но и для предприятий общественного питания в целом.\n"
   ]
  },
  {
   "cell_type": "code",
   "execution_count": 114,
   "id": "3da1f0e1",
   "metadata": {},
   "outputs": [
    {
     "data": {
      "text/html": [
       "<div>\n",
       "<style scoped>\n",
       "    .dataframe tbody tr th:only-of-type {\n",
       "        vertical-align: middle;\n",
       "    }\n",
       "\n",
       "    .dataframe tbody tr th {\n",
       "        vertical-align: top;\n",
       "    }\n",
       "\n",
       "    .dataframe thead th {\n",
       "        text-align: right;\n",
       "    }\n",
       "</style>\n",
       "<table border=\"1\" class=\"dataframe\">\n",
       "  <thead>\n",
       "    <tr style=\"text-align: right;\">\n",
       "      <th></th>\n",
       "      <th>id</th>\n",
       "    </tr>\n",
       "    <tr>\n",
       "      <th>object_name</th>\n",
       "      <th></th>\n",
       "    </tr>\n",
       "  </thead>\n",
       "  <tbody>\n",
       "    <tr>\n",
       "      <th>КОФЕЙНЯ «КОФЕ ХАУС»</th>\n",
       "      <td>2</td>\n",
       "    </tr>\n",
       "    <tr>\n",
       "      <th>МИ ПЬЯЧЕ</th>\n",
       "      <td>2</td>\n",
       "    </tr>\n",
       "    <tr>\n",
       "      <th>МАГНОЛИЯ</th>\n",
       "      <td>2</td>\n",
       "    </tr>\n",
       "    <tr>\n",
       "      <th>КРЕПЕРИ ДЕ ПАРИ</th>\n",
       "      <td>2</td>\n",
       "    </tr>\n",
       "    <tr>\n",
       "      <th>КОФЕТУН</th>\n",
       "      <td>2</td>\n",
       "    </tr>\n",
       "    <tr>\n",
       "      <th>...</th>\n",
       "      <td>...</td>\n",
       "    </tr>\n",
       "    <tr>\n",
       "      <th>ТЕРЕМОК</th>\n",
       "      <td>94</td>\n",
       "    </tr>\n",
       "    <tr>\n",
       "      <th>БУРГЕР КИНГ</th>\n",
       "      <td>137</td>\n",
       "    </tr>\n",
       "    <tr>\n",
       "      <th>МАКДОНАЛДС</th>\n",
       "      <td>151</td>\n",
       "    </tr>\n",
       "    <tr>\n",
       "      <th>KFC</th>\n",
       "      <td>155</td>\n",
       "    </tr>\n",
       "    <tr>\n",
       "      <th>ШОКОЛАДНИЦА</th>\n",
       "      <td>157</td>\n",
       "    </tr>\n",
       "  </tbody>\n",
       "</table>\n",
       "<p>246 rows × 1 columns</p>\n",
       "</div>"
      ],
      "text/plain": [
       "                      id\n",
       "object_name             \n",
       "КОФЕЙНЯ «КОФЕ ХАУС»    2\n",
       "МИ ПЬЯЧЕ               2\n",
       "МАГНОЛИЯ               2\n",
       "КРЕПЕРИ ДЕ ПАРИ        2\n",
       "КОФЕТУН                2\n",
       "...                  ...\n",
       "ТЕРЕМОК               94\n",
       "БУРГЕР КИНГ          137\n",
       "МАКДОНАЛДС           151\n",
       "KFC                  155\n",
       "ШОКОЛАДНИЦА          157\n",
       "\n",
       "[246 rows x 1 columns]"
      ]
     },
     "execution_count": 114,
     "metadata": {},
     "output_type": "execute_result"
    }
   ],
   "source": [
    "# посчитаем количество заведений в сетях\n",
    "pd.pivot_table(rest_data_chain_y,values='id',index=['object_name'],aggfunc='count')\\\n",
    ".query('id>1').sort_values(by='id')"
   ]
  },
  {
   "cell_type": "code",
   "execution_count": 115,
   "id": "c0e23c97",
   "metadata": {},
   "outputs": [
    {
     "data": {
      "text/html": [
       "<div>\n",
       "<style scoped>\n",
       "    .dataframe tbody tr th:only-of-type {\n",
       "        vertical-align: middle;\n",
       "    }\n",
       "\n",
       "    .dataframe tbody tr th {\n",
       "        vertical-align: top;\n",
       "    }\n",
       "\n",
       "    .dataframe thead th {\n",
       "        text-align: right;\n",
       "    }\n",
       "</style>\n",
       "<table border=\"1\" class=\"dataframe\">\n",
       "  <thead>\n",
       "    <tr style=\"text-align: right;\">\n",
       "      <th></th>\n",
       "      <th>id</th>\n",
       "      <th>number</th>\n",
       "    </tr>\n",
       "    <tr>\n",
       "      <th>object_name</th>\n",
       "      <th></th>\n",
       "      <th></th>\n",
       "    </tr>\n",
       "  </thead>\n",
       "  <tbody>\n",
       "    <tr>\n",
       "      <th>ПРЕДПРИЯТИЕ БЫСТРОГО ОБСЛУЖИВАНИЯ «МИЛТИ»</th>\n",
       "      <td>3</td>\n",
       "      <td>0.000000</td>\n",
       "    </tr>\n",
       "    <tr>\n",
       "      <th>WOKKER</th>\n",
       "      <td>2</td>\n",
       "      <td>0.000000</td>\n",
       "    </tr>\n",
       "    <tr>\n",
       "      <th>МАГАЗИН ГОТОВОЙ ЕДЫ «МИЛТИ»</th>\n",
       "      <td>3</td>\n",
       "      <td>0.000000</td>\n",
       "    </tr>\n",
       "    <tr>\n",
       "      <th>MY BOX</th>\n",
       "      <td>2</td>\n",
       "      <td>0.000000</td>\n",
       "    </tr>\n",
       "    <tr>\n",
       "      <th>ТОЧКА ПРОДАЖИ ГОТОВОЙ ЕДЫ МИЛТИ</th>\n",
       "      <td>2</td>\n",
       "      <td>0.000000</td>\n",
       "    </tr>\n",
       "    <tr>\n",
       "      <th>...</th>\n",
       "      <td>...</td>\n",
       "      <td>...</td>\n",
       "    </tr>\n",
       "    <tr>\n",
       "      <th>КАФЕ ПРОНТО</th>\n",
       "      <td>3</td>\n",
       "      <td>211.000000</td>\n",
       "    </tr>\n",
       "    <tr>\n",
       "      <th>СТАРИНА МЮЛЛЕР СТАРИНА МИЛЛЕР</th>\n",
       "      <td>2</td>\n",
       "      <td>215.000000</td>\n",
       "    </tr>\n",
       "    <tr>\n",
       "      <th>ТЕМПЛ БАР</th>\n",
       "      <td>3</td>\n",
       "      <td>216.666667</td>\n",
       "    </tr>\n",
       "    <tr>\n",
       "      <th>ПИЛЗНЕР</th>\n",
       "      <td>2</td>\n",
       "      <td>245.000000</td>\n",
       "    </tr>\n",
       "    <tr>\n",
       "      <th>БАКИНСКИЙ БУЛЬВАР</th>\n",
       "      <td>3</td>\n",
       "      <td>258.666667</td>\n",
       "    </tr>\n",
       "  </tbody>\n",
       "</table>\n",
       "<p>246 rows × 2 columns</p>\n",
       "</div>"
      ],
      "text/plain": [
       "                                           id      number\n",
       "object_name                                              \n",
       "ПРЕДПРИЯТИЕ БЫСТРОГО ОБСЛУЖИВАНИЯ «МИЛТИ»   3    0.000000\n",
       "WOKKER                                      2    0.000000\n",
       "МАГАЗИН ГОТОВОЙ ЕДЫ «МИЛТИ»                 3    0.000000\n",
       "MY BOX                                      2    0.000000\n",
       "ТОЧКА ПРОДАЖИ ГОТОВОЙ ЕДЫ МИЛТИ             2    0.000000\n",
       "...                                        ..         ...\n",
       "КАФЕ ПРОНТО                                 3  211.000000\n",
       "СТАРИНА МЮЛЛЕР СТАРИНА МИЛЛЕР               2  215.000000\n",
       "ТЕМПЛ БАР                                   3  216.666667\n",
       "ПИЛЗНЕР                                     2  245.000000\n",
       "БАКИНСКИЙ БУЛЬВАР                           3  258.666667\n",
       "\n",
       "[246 rows x 2 columns]"
      ]
     },
     "execution_count": 115,
     "metadata": {},
     "output_type": "execute_result"
    }
   ],
   "source": [
    "# посчитаем число заведений и среднее число посадочных мест  в заведениях  сетей\n",
    "pd.pivot_table(rest_data_chain_y,values=['id','number'],index=['object_name']\n",
    "               ,aggfunc={'id':'count','number':np.mean}).query('id>1').sort_values(by='number')\n"
   ]
  },
  {
   "cell_type": "code",
   "execution_count": 116,
   "id": "bcb0d6d2",
   "metadata": {},
   "outputs": [
    {
     "data": {
      "text/html": [
       "<div>\n",
       "<style scoped>\n",
       "    .dataframe tbody tr th:only-of-type {\n",
       "        vertical-align: middle;\n",
       "    }\n",
       "\n",
       "    .dataframe tbody tr th {\n",
       "        vertical-align: top;\n",
       "    }\n",
       "\n",
       "    .dataframe thead th {\n",
       "        text-align: right;\n",
       "    }\n",
       "</style>\n",
       "<table border=\"1\" class=\"dataframe\">\n",
       "  <thead>\n",
       "    <tr style=\"text-align: right;\">\n",
       "      <th></th>\n",
       "      <th>id</th>\n",
       "      <th>number</th>\n",
       "    </tr>\n",
       "  </thead>\n",
       "  <tbody>\n",
       "    <tr>\n",
       "      <th>count</th>\n",
       "      <td>246.000000</td>\n",
       "      <td>246.000000</td>\n",
       "    </tr>\n",
       "    <tr>\n",
       "      <th>mean</th>\n",
       "      <td>10.719512</td>\n",
       "      <td>59.390484</td>\n",
       "    </tr>\n",
       "    <tr>\n",
       "      <th>std</th>\n",
       "      <td>22.680536</td>\n",
       "      <td>49.547694</td>\n",
       "    </tr>\n",
       "    <tr>\n",
       "      <th>min</th>\n",
       "      <td>2.000000</td>\n",
       "      <td>0.000000</td>\n",
       "    </tr>\n",
       "    <tr>\n",
       "      <th>25%</th>\n",
       "      <td>2.000000</td>\n",
       "      <td>21.125000</td>\n",
       "    </tr>\n",
       "    <tr>\n",
       "      <th>50%</th>\n",
       "      <td>4.000000</td>\n",
       "      <td>44.000000</td>\n",
       "    </tr>\n",
       "    <tr>\n",
       "      <th>75%</th>\n",
       "      <td>7.000000</td>\n",
       "      <td>85.000000</td>\n",
       "    </tr>\n",
       "    <tr>\n",
       "      <th>max</th>\n",
       "      <td>157.000000</td>\n",
       "      <td>258.666667</td>\n",
       "    </tr>\n",
       "  </tbody>\n",
       "</table>\n",
       "</div>"
      ],
      "text/plain": [
       "               id      number\n",
       "count  246.000000  246.000000\n",
       "mean    10.719512   59.390484\n",
       "std     22.680536   49.547694\n",
       "min      2.000000    0.000000\n",
       "25%      2.000000   21.125000\n",
       "50%      4.000000   44.000000\n",
       "75%      7.000000   85.000000\n",
       "max    157.000000  258.666667"
      ]
     },
     "execution_count": 116,
     "metadata": {},
     "output_type": "execute_result"
    }
   ],
   "source": [
    "# определим основные параметры в данных колонок\n",
    "pd.pivot_table(rest_data_chain_y,values=['id','number'],index=['object_name']\n",
    "               ,aggfunc={'id':'count','number':np.mean}).query('id>1').describe()\n"
   ]
  },
  {
   "cell_type": "markdown",
   "id": "0ccb8221",
   "metadata": {},
   "source": [
    "Для создания групп определим критерий \n",
    "* для количества заведений: для малого количества min: от 0 до 50 %, для большого количества: от 75% до max, остальное -золотая середина\n",
    "\n",
    "* для количества мест: для малого количества min  от 0 до 25%, для большого количества: от 75% до max, остальное -золотая середина\n"
   ]
  },
  {
   "cell_type": "code",
   "execution_count": 117,
   "id": "fcf9e267",
   "metadata": {},
   "outputs": [
    {
     "name": "stdout",
     "output_type": "stream",
     "text": [
      "          object_name  id     number\n",
      "0          BOCCONCINO   3  66.666667\n",
      "1         BURGER CLUB   3  20.333333\n",
      "2  COFFEESHOP COMPANY   4  47.250000\n",
      "3               COFIX  25   9.600000\n",
      "4             CORREAS   3  44.000000\n"
     ]
    }
   ],
   "source": [
    "# сохраним необходимые данные в переменной rest_data_chain_y_grupuped\n",
    "rest_data_chain_y_grupuped = pd.pivot_table(rest_data_chain_y,values=['id','number'],index=['object_name']\n",
    "               ,aggfunc={'id':'count','number':np.mean}).query('id>1').reset_index()\n",
    "print(rest_data_chain_y_grupuped.head())"
   ]
  },
  {
   "cell_type": "code",
   "execution_count": 118,
   "id": "86e336a1",
   "metadata": {},
   "outputs": [
    {
     "name": "stdout",
     "output_type": "stream",
     "text": [
      "          object_name  id     number  id_group number_group\n",
      "0          BOCCONCINO   3  66.666667    [0, 4)     [21, 85)\n",
      "1         BURGER CLUB   3  20.333333    [0, 4)      [0, 21)\n",
      "2  COFFEESHOP COMPANY   4  47.250000    [4, 7)     [21, 85)\n",
      "3               COFIX  25   9.600000  [7, 157)      [0, 21)\n",
      "4             CORREAS   3  44.000000    [0, 4)     [21, 85)\n"
     ]
    }
   ],
   "source": [
    "# разделим на группы сетевые заведения по количеству заведений в сети\n",
    "rest_data_chain_y_grupuped['id_group'] =pd.cut(rest_data_chain_y_grupuped['id'],\n",
    "       bins=[0, 4, 7,157],right=False)\n",
    "# разделим на группы сетевые заведения по среднему количеству мест в заведениях сети\n",
    "rest_data_chain_y_grupuped['number_group'] =pd.cut(rest_data_chain_y_grupuped['number'],\n",
    "       bins=[0, 21, 85,258],right=False)\n",
    "# выведем на экран первые 5 строк\n",
    "print(rest_data_chain_y_grupuped.head())\n",
    "\n"
   ]
  },
  {
   "cell_type": "code",
   "execution_count": 119,
   "id": "e5357b19",
   "metadata": {},
   "outputs": [
    {
     "name": "stdout",
     "output_type": "stream",
     "text": [
      "   id_group  object_name\n",
      "0    [0, 4)          122\n",
      "1    [4, 7)           55\n",
      "2  [7, 157)           68\n"
     ]
    }
   ],
   "source": [
    "# постчитаем количество сетей в группах\n",
    "rest_data_chain_y_grupuped_id = rest_data_chain_y_grupuped[['object_name','id_group']]\\\n",
    ".groupby(by=['id_group']).count().reset_index()\n",
    "# выведем на экран\n",
    "print(rest_data_chain_y_grupuped_id)"
   ]
  },
  {
   "cell_type": "code",
   "execution_count": 120,
   "id": "12453ad2",
   "metadata": {},
   "outputs": [
    {
     "name": "stdout",
     "output_type": "stream",
     "text": [
      "  number_group  object_name\n",
      "0      [0, 21)           60\n",
      "1     [21, 85)          122\n",
      "2    [85, 258)           63\n"
     ]
    }
   ],
   "source": [
    "# постчитаем количество сетей в группах\n",
    "rest_data_chain_y_grupuped_number = rest_data_chain_y_grupuped[['object_name','number_group']]\\\n",
    ".groupby(by=['number_group']).count().reset_index()\n",
    "# выведем на экран\n",
    "print(rest_data_chain_y_grupuped_number.head())"
   ]
  },
  {
   "cell_type": "markdown",
   "id": "d4f997ad",
   "metadata": {},
   "source": [
    "*Промежуточный вывод\n",
    "\n",
    "Большинство сетей имеют до 4 заведений  и количество мест от 21 до 85."
   ]
  },
  {
   "cell_type": "code",
   "execution_count": 121,
   "id": "b6cc85f3",
   "metadata": {},
   "outputs": [
    {
     "data": {
      "text/plain": [
       "id_group  number_group\n",
       "[0, 4)    [21, 85)        59\n",
       "[7, 157)  [21, 85)        35\n",
       "[0, 4)    [85, 258)       33\n",
       "          [0, 21)         29\n",
       "[4, 7)    [21, 85)        27\n",
       "[7, 157)  [0, 21)         17\n",
       "          [85, 258)       16\n",
       "[4, 7)    [0, 21)         14\n",
       "          [85, 258)       14\n",
       "dtype: int64"
      ]
     },
     "execution_count": 121,
     "metadata": {},
     "output_type": "execute_result"
    }
   ],
   "source": [
    "# Код ревьюера\n",
    "\n",
    "rest_data_chain_y_grupuped[['id_group','number_group']].value_counts()"
   ]
  },
  {
   "cell_type": "markdown",
   "id": "5304d75a",
   "metadata": {},
   "source": [
    "## Определение для каждого вида объекта общественного питания  среднего количества посадочных мест. Построение графика.Поиск вида заведения, которое предоставляет в среднем самое большое количество посадочных мест.  "
   ]
  },
  {
   "cell_type": "code",
   "execution_count": 122,
   "id": "5f038b93",
   "metadata": {},
   "outputs": [
    {
     "name": "stdout",
     "output_type": "stream",
     "text": [
      "                         object_type    id  number\n",
      "8                           столовая  2587     103\n",
      "7                           ресторан  2285      80\n",
      "0                                бар   856      35\n",
      "1                              буфет   585      32\n",
      "3                               кафе  6099      30\n",
      "4                          кафетерий   398       6\n",
      "6  предприятие быстрого обслуживания  1923       5\n",
      "2                         закусочная   360       0\n",
      "5          магазин (отдел кулинарии)   273       0\n"
     ]
    }
   ],
   "source": [
    "# сохраним в переменной rest_data_mean_number необходимые данные по видам заведений\n",
    "rest_data_mean_number = rest_data[['id', 'object_type', 'number']]\\\n",
    ".groupby('object_type', as_index=False)\\\n",
    ".agg({'id': 'count','number': 'median'}).sort_values('number', ascending=False)\n",
    "\n",
    "# выведем на экран \n",
    "print(rest_data_mean_number)"
   ]
  },
  {
   "cell_type": "code",
   "execution_count": 123,
   "id": "81ad8f4d",
   "metadata": {},
   "outputs": [
    {
     "data": {
      "image/png": "[encoded data removed]",
      "text/plain": [
       "<Figure size 864x576 with 1 Axes>"
      ]
     },
     "metadata": {},
     "output_type": "display_data"
    }
   ],
   "source": [
    "#построим график среднего количества мест для каждого вида \n",
    "plt.figure(figsize=(12, 8))\n",
    "\n",
    "# задание параметров построения графика\n",
    "ax = sns.barplot(y=rest_data_mean_number.object_type,\n",
    "                 x=rest_data_mean_number.number)\n",
    "                 \n",
    "                 \n",
    "\n",
    "# подписи осей и названия\n",
    "plt.xlabel('Среднее количество мест')\n",
    "plt.title('Среднее количество посадочных мест для каждого вида объекта  ');"
   ]
  },
  {
   "cell_type": "markdown",
   "id": "8751afeb",
   "metadata": {},
   "source": [
    "*Промежуточный вывод*\n",
    "\n",
    " В результате исследования   \"Для каждого вида объекта общественного питания опишите среднее количество посадочных мест. Какой вид предоставляет в среднем самое большое количество посадочных мест?\", установлено, что  наиболшее количество посадочных мест предоставляют столовые -103 мест, за ними следуют рестораны-80 мест и бары-35 мест, замыкают рейтинг предприятия быстрого обслуживанияс небольшим количеством посадочных мест равным 5. В магазинах(отделах кулинарии) и закусочных среднее количество посадочных мест равно нулю.\n"
   ]
  },
  {
   "cell_type": "markdown",
   "id": "a2e16d41",
   "metadata": {},
   "source": [
    "## Выделение в отдельный столбец информации об улице из столбца address . Построение графика топ-10 улиц по количеству объектов общественного питания. Поиск внешней информацией и ответа на вопрос — в каких районах Москвы находятся эти улицы?"
   ]
  },
  {
   "cell_type": "code",
   "execution_count": 124,
   "id": "b9186358",
   "metadata": {},
   "outputs": [
    {
     "name": "stdout",
     "output_type": "stream",
     "text": [
      "0           город Москва, улица Егора Абакумова, дом 9\n",
      "1    город Москва, улица Талалихина, дом 2/1, корпус 1\n",
      "2            город Москва, Абельмановская улица, дом 6\n",
      "3              город Москва, Абрамцевская улица, дом 1\n",
      "4    город Москва, Абрамцевская улица, дом 9, корпус 1\n",
      "Name: address, dtype: object\n"
     ]
    }
   ],
   "source": [
    "# выведем на экран первые 5 строк\n",
    "print(rest_data['address'].head())"
   ]
  },
  {
   "cell_type": "code",
   "execution_count": 125,
   "id": "eea9393b",
   "metadata": {},
   "outputs": [
    {
     "data": {
      "text/html": [
       "<div>\n",
       "<style scoped>\n",
       "    .dataframe tbody tr th:only-of-type {\n",
       "        vertical-align: middle;\n",
       "    }\n",
       "\n",
       "    .dataframe tbody tr th {\n",
       "        vertical-align: top;\n",
       "    }\n",
       "\n",
       "    .dataframe thead th {\n",
       "        text-align: right;\n",
       "    }\n",
       "</style>\n",
       "<table border=\"1\" class=\"dataframe\">\n",
       "  <thead>\n",
       "    <tr style=\"text-align: right;\">\n",
       "      <th></th>\n",
       "      <th>id</th>\n",
       "      <th>object_name</th>\n",
       "      <th>chain</th>\n",
       "      <th>object_type</th>\n",
       "      <th>address</th>\n",
       "      <th>number</th>\n",
       "      <th>type_namber</th>\n",
       "      <th>street</th>\n",
       "    </tr>\n",
       "  </thead>\n",
       "  <tbody>\n",
       "    <tr>\n",
       "      <th>0</th>\n",
       "      <td>151635</td>\n",
       "      <td>СМЕТАНА</td>\n",
       "      <td>нет</td>\n",
       "      <td>кафе</td>\n",
       "      <td>город Москва, улица Егора Абакумова, дом 9</td>\n",
       "      <td>48</td>\n",
       "      <td>от 10 до 50</td>\n",
       "      <td>улица Егора Абакумова</td>\n",
       "    </tr>\n",
       "    <tr>\n",
       "      <th>1</th>\n",
       "      <td>77874</td>\n",
       "      <td>РОДНИК</td>\n",
       "      <td>нет</td>\n",
       "      <td>кафе</td>\n",
       "      <td>город Москва, улица Талалихина, дом 2/1, корпус 1</td>\n",
       "      <td>35</td>\n",
       "      <td>от 10 до 50</td>\n",
       "      <td>улица Талалихина</td>\n",
       "    </tr>\n",
       "    <tr>\n",
       "      <th>2</th>\n",
       "      <td>24309</td>\n",
       "      <td>КАФЕ «АКАДЕМИЯ»</td>\n",
       "      <td>нет</td>\n",
       "      <td>кафе</td>\n",
       "      <td>город Москва, Абельмановская улица, дом 6</td>\n",
       "      <td>95</td>\n",
       "      <td>от 50 до 150</td>\n",
       "      <td>Абельмановская улица</td>\n",
       "    </tr>\n",
       "    <tr>\n",
       "      <th>3</th>\n",
       "      <td>21894</td>\n",
       "      <td>ПИЦЦЕТОРИЯ</td>\n",
       "      <td>да</td>\n",
       "      <td>кафе</td>\n",
       "      <td>город Москва, Абрамцевская улица, дом 1</td>\n",
       "      <td>40</td>\n",
       "      <td>от 10 до 50</td>\n",
       "      <td>Абрамцевская улица</td>\n",
       "    </tr>\n",
       "    <tr>\n",
       "      <th>4</th>\n",
       "      <td>119365</td>\n",
       "      <td>КАФЕ «ВИШНЕВАЯ МЕТЕЛЬ»</td>\n",
       "      <td>нет</td>\n",
       "      <td>кафе</td>\n",
       "      <td>город Москва, Абрамцевская улица, дом 9, корпус 1</td>\n",
       "      <td>50</td>\n",
       "      <td>более 400</td>\n",
       "      <td>Абрамцевская улица</td>\n",
       "    </tr>\n",
       "  </tbody>\n",
       "</table>\n",
       "</div>"
      ],
      "text/plain": [
       "       id             object_name chain object_type  \\\n",
       "0  151635                 СМЕТАНА   нет        кафе   \n",
       "1   77874                  РОДНИК   нет        кафе   \n",
       "2   24309         КАФЕ «АКАДЕМИЯ»   нет        кафе   \n",
       "3   21894              ПИЦЦЕТОРИЯ    да        кафе   \n",
       "4  119365  КАФЕ «ВИШНЕВАЯ МЕТЕЛЬ»   нет        кафе   \n",
       "\n",
       "                                             address  number   type_namber  \\\n",
       "0         город Москва, улица Егора Абакумова, дом 9      48   от 10 до 50   \n",
       "1  город Москва, улица Талалихина, дом 2/1, корпус 1      35   от 10 до 50   \n",
       "2          город Москва, Абельмановская улица, дом 6      95  от 50 до 150   \n",
       "3            город Москва, Абрамцевская улица, дом 1      40   от 10 до 50   \n",
       "4  город Москва, Абрамцевская улица, дом 9, корпус 1      50     более 400   \n",
       "\n",
       "                   street  \n",
       "0   улица Егора Абакумова  \n",
       "1        улица Талалихина  \n",
       "2    Абельмановская улица  \n",
       "3      Абрамцевская улица  \n",
       "4      Абрамцевская улица  "
      ]
     },
     "metadata": {},
     "output_type": "display_data"
    }
   ],
   "source": [
    "# выделим в отдельный столбец название улиц\n",
    "pattern = '\\,*,(([а-яА-Я1-9\\-ё\\s\"]+)?(улица|переулок|шоссе|проспект|площадь|проезд|\\\n",
    "село|Проезд|аллея|бульвар|набережная|тупик|линия|)([а-яА-Яё1-9\\-\\s\"]+)?)\\,'\n",
    "rest_data['street'] = rest_data['address'].str.extract(pat = pattern)[0]\n",
    "# выведем на экран первые 5 строк\n",
    "display(rest_data.head())"
   ]
  },
  {
   "cell_type": "code",
   "execution_count": 127,
   "id": "b25f6d80",
   "metadata": {},
   "outputs": [
    {
     "name": "stdout",
     "output_type": "stream",
     "text": [
      "                       street   id\n",
      "1329         город Зеленоград  232\n",
      "1430            проспект Мира  204\n",
      "990         Профсоюзная улица  182\n",
      "680    Ленинградский проспект  171\n",
      "976    Пресненская набережная  167\n",
      "404          Варшавское шоссе  161\n",
      "683        Ленинский проспект  147\n",
      "1401      поселение Сосенское  138\n",
      "1427     проспект Вернадского  132\n",
      "671      Кутузовский проспект  114\n"
     ]
    }
   ],
   "source": [
    "#сохраним в переменной необходимые данные\n",
    "rest_data_street = rest_data[['id',  'street']]\\\n",
    ".groupby('street', as_index=False)\\\n",
    ".agg({'id': 'count'}).sort_values('id', ascending=False)\n",
    "\n",
    "# выведем на экран первые 10 строк\n",
    "print(rest_data_street.head(10))"
   ]
  },
  {
   "cell_type": "markdown",
   "id": "b3692952",
   "metadata": {},
   "source": [
    "В полученном рейтинге город Зеленоград и поселение Сосенское удалим, т.к они не являются улицами и , скорее всего, в рейтинг попало количество всех заведений этих населённых пунктов и для целей нашего анализа они не нужны."
   ]
  },
  {
   "cell_type": "code",
   "execution_count": 128,
   "id": "016aa1a9",
   "metadata": {},
   "outputs": [
    {
     "name": "stdout",
     "output_type": "stream",
     "text": [
      "                       street   id\n",
      "1430            проспект Мира  204\n",
      "990         Профсоюзная улица  182\n",
      "680    Ленинградский проспект  171\n",
      "976    Пресненская набережная  167\n",
      "404          Варшавское шоссе  161\n",
      "683        Ленинский проспект  147\n",
      "1427     проспект Вернадского  132\n",
      "671      Кутузовский проспект  114\n",
      "597           Каширское шоссе  112\n",
      "602      Кировоградская улица  110\n"
     ]
    }
   ],
   "source": [
    "# удалим город Зеленоград  поселение Сосенское из списка улиц\n",
    "rest_data_street_select = rest_data_street.drop([1329,1401])\n",
    "# сохраним в переменной rest_data_street_select_ten первые 10 улиц\n",
    "rest_data_street_select_ten = rest_data_street_select[:10]\n",
    "# выведем на экран \n",
    "print(rest_data_street_select_ten)\n"
   ]
  },
  {
   "cell_type": "code",
   "execution_count": 129,
   "id": "962858ec",
   "metadata": {},
   "outputs": [
    {
     "data": {
      "image/png": "[encoded data removed]",
      "text/plain": [
       "<Figure size 576x396 with 1 Axes>"
      ]
     },
     "metadata": {},
     "output_type": "display_data"
    }
   ],
   "source": [
    "# построим график\n",
    "plt.style.use('seaborn')\n",
    "plt.bar(rest_data_street_select_ten['street'],rest_data_street_select_ten['id'])\n",
    "plt.title('Топ-10 улиц Москвы по количеству объектов общественного питания')\n",
    "plt.xticks(rotation=45)\n",
    "plt.show()"
   ]
  },
  {
   "cell_type": "markdown",
   "id": "db75d53a",
   "metadata": {},
   "source": [
    "Для ответа на вопрос — \"в каких районах Москвы находятся эти улицы?\" найдем информацию об улицах и районах города Москва во внешнем источнике."
   ]
  },
  {
   "cell_type": "code",
   "execution_count": 130,
   "id": "e14ed220",
   "metadata": {},
   "outputs": [
    {
     "data": {
      "text/html": [
       "<div>\n",
       "<style scoped>\n",
       "    .dataframe tbody tr th:only-of-type {\n",
       "        vertical-align: middle;\n",
       "    }\n",
       "\n",
       "    .dataframe tbody tr th {\n",
       "        vertical-align: top;\n",
       "    }\n",
       "\n",
       "    .dataframe thead th {\n",
       "        text-align: right;\n",
       "    }\n",
       "</style>\n",
       "<table border=\"1\" class=\"dataframe\">\n",
       "  <thead>\n",
       "    <tr style=\"text-align: right;\">\n",
       "      <th></th>\n",
       "      <th>streetname</th>\n",
       "      <th>areaid</th>\n",
       "      <th>okrug</th>\n",
       "      <th>area</th>\n",
       "    </tr>\n",
       "  </thead>\n",
       "  <tbody>\n",
       "    <tr>\n",
       "      <th>0</th>\n",
       "      <td>Выставочный переулок</td>\n",
       "      <td>17</td>\n",
       "      <td>ЦАО</td>\n",
       "      <td>Пресненский район</td>\n",
       "    </tr>\n",
       "    <tr>\n",
       "      <th>1</th>\n",
       "      <td>улица Гашека</td>\n",
       "      <td>17</td>\n",
       "      <td>ЦАО</td>\n",
       "      <td>Пресненский район</td>\n",
       "    </tr>\n",
       "    <tr>\n",
       "      <th>2</th>\n",
       "      <td>Большая Никитская улица</td>\n",
       "      <td>17</td>\n",
       "      <td>ЦАО</td>\n",
       "      <td>Пресненский район</td>\n",
       "    </tr>\n",
       "    <tr>\n",
       "      <th>3</th>\n",
       "      <td>Глубокий переулок</td>\n",
       "      <td>17</td>\n",
       "      <td>ЦАО</td>\n",
       "      <td>Пресненский район</td>\n",
       "    </tr>\n",
       "    <tr>\n",
       "      <th>4</th>\n",
       "      <td>Большой Гнездниковский переулок</td>\n",
       "      <td>17</td>\n",
       "      <td>ЦАО</td>\n",
       "      <td>Пресненский район</td>\n",
       "    </tr>\n",
       "  </tbody>\n",
       "</table>\n",
       "</div>"
      ],
      "text/plain": [
       "                        streetname  areaid okrug               area\n",
       "0             Выставочный переулок      17   ЦАО  Пресненский район\n",
       "1                     улица Гашека      17   ЦАО  Пресненский район\n",
       "2          Большая Никитская улица      17   ЦАО  Пресненский район\n",
       "3                Глубокий переулок      17   ЦАО  Пресненский район\n",
       "4  Большой Гнездниковский переулок      17   ЦАО  Пресненский район"
      ]
     },
     "execution_count": 130,
     "metadata": {},
     "output_type": "execute_result"
    }
   ],
   "source": [
    "from io import BytesIO\n",
    "import pandas as pd\n",
    "import numpy as np\n",
    "import requests\n",
    "r = requests.get('https://docs.google.com/spreadsheets/d/16QHtZVH5eS1b6ukXS8QFLmKCjLB6GqxZUIQpvMyRDsY/export?format=csv')\n",
    "data_msk = pd.read_csv(BytesIO(r.content))\n",
    "data_msk.head()"
   ]
  },
  {
   "cell_type": "code",
   "execution_count": 131,
   "id": "500ba672",
   "metadata": {},
   "outputs": [
    {
     "name": "stdout",
     "output_type": "stream",
     "text": [
      "<class 'pandas.core.frame.DataFrame'>\n",
      "RangeIndex: 4398 entries, 0 to 4397\n",
      "Data columns (total 4 columns):\n",
      " #   Column      Non-Null Count  Dtype \n",
      "---  ------      --------------  ----- \n",
      " 0   streetname  4398 non-null   object\n",
      " 1   areaid      4398 non-null   int64 \n",
      " 2   okrug       4398 non-null   object\n",
      " 3   area        4398 non-null   object\n",
      "dtypes: int64(1), object(3)\n",
      "memory usage: 137.6+ KB\n"
     ]
    }
   ],
   "source": [
    "# выведем общую информацию\n",
    "data_msk.info()"
   ]
  },
  {
   "cell_type": "code",
   "execution_count": 132,
   "id": "a44c5255",
   "metadata": {},
   "outputs": [
    {
     "data": {
      "text/plain": [
       "8"
      ]
     },
     "execution_count": 132,
     "metadata": {},
     "output_type": "execute_result"
    }
   ],
   "source": [
    "# проверим дубликаты\n",
    "data_msk.duplicated().sum()"
   ]
  },
  {
   "cell_type": "code",
   "execution_count": 133,
   "id": "c1904ebd",
   "metadata": {},
   "outputs": [
    {
     "data": {
      "text/plain": [
       "0"
      ]
     },
     "execution_count": 133,
     "metadata": {},
     "output_type": "execute_result"
    }
   ],
   "source": [
    "# удалим дубликаты\n",
    "data_msk = data_msk.drop_duplicates()\n",
    "# проверим дубликаты\n",
    "data_msk.duplicated().sum()\n"
   ]
  },
  {
   "cell_type": "markdown",
   "id": "dadc3c88",
   "metadata": {},
   "source": [
    "Для каждой улицы определим в помощью внешних данных, список районов, по которым она проходит."
   ]
  },
  {
   "cell_type": "code",
   "execution_count": 134,
   "id": "193591b8",
   "metadata": {},
   "outputs": [
    {
     "name": "stdout",
     "output_type": "stream",
     "text": [
      "         streetname  areaid okrug                area\n",
      "2293  проспект Мира      70  СВАО  Алексеевский район\n",
      "2390  проспект Мира      86  СВАО   Ярославский Район\n",
      "2531  проспект Мира      78  СВАО  Район Марьина роща\n",
      "2578  проспект Мира      79  СВАО  Останкинский район\n",
      "2644  проспект Мира      81  СВАО     Район Ростокино\n",
      "2712  проспект Мира      82  СВАО      Район Свиблово\n",
      "4334  проспект Мира      16   ЦАО     Мещанский район\n"
     ]
    }
   ],
   "source": [
    "# определим список районов проспект Мира\n",
    "pr_mira = data_msk[\"streetname\"].str.contains('проспект Мира')\n",
    "res_one = data_msk.loc[pr_mira]\n",
    "# выведем на экран \n",
    "print(res_one)"
   ]
  },
  {
   "cell_type": "code",
   "execution_count": 135,
   "id": "14e952f5",
   "metadata": {},
   "outputs": [
    {
     "name": "stdout",
     "output_type": "stream",
     "text": [
      "             streetname  areaid okrug                 area\n",
      "3845  Профсоюзная улица     123  ЮЗАО  Академический район\n",
      "3867  Профсоюзная улица     132  ЮЗАО      Район Черемушки\n",
      "3916  Профсоюзная улица     134  ЮЗАО        Район Ясенево\n",
      "3948  Профсоюзная улица     126  ЮЗАО       Район Коньково\n",
      "3996  Профсоюзная улица     129  ЮЗАО    Обручевский район\n",
      "4024  Профсоюзная улица     131  ЮЗАО    Район Теплый Стан\n"
     ]
    }
   ],
   "source": [
    "# определим список районов Профсоюзная улица\n",
    "prof_ul = data_msk[\"streetname\"].str.contains('Профсоюзная улица')\n",
    "res_too = data_msk.loc[prof_ul]\n",
    "# выведем на экран \n",
    "print(res_too)"
   ]
  },
  {
   "cell_type": "code",
   "execution_count": 136,
   "id": "0d8798fa",
   "metadata": {},
   "outputs": [
    {
     "name": "stdout",
     "output_type": "stream",
     "text": [
      "                  streetname  areaid okrug               area\n",
      "1857  Ленинградский проспект      54   САО     Район Аэропорт\n",
      "1896  Ленинградский проспект      55   САО      Район Беговой\n",
      "1992  Ленинградский проспект      69   САО  Хорошевский район\n",
      "2150  Ленинградский проспект      66   САО        Район Сокол\n"
     ]
    }
   ],
   "source": [
    "# определим список районов Ленинградский проспект\n",
    "len_pr = data_msk[\"streetname\"].str.contains('Ленинградский проспект')\n",
    "res_three = data_msk.loc[len_pr]\n",
    "# выведем на экран \n",
    "print(res_three)"
   ]
  },
  {
   "cell_type": "code",
   "execution_count": 137,
   "id": "361c4392",
   "metadata": {},
   "outputs": [
    {
     "name": "stdout",
     "output_type": "stream",
     "text": [
      "                streetname  areaid okrug               area\n",
      "72  Пресненская набережная      17   ЦАО  Пресненский район\n"
     ]
    }
   ],
   "source": [
    "# определим список районов Пресненская набережная\n",
    "pres_nab = data_msk[\"streetname\"].str.contains('Пресненская набережная')\n",
    "res_four = data_msk.loc[pres_nab]\n",
    "# выведем на экран \n",
    "print(res_four)"
   ]
  },
  {
   "cell_type": "code",
   "execution_count": 138,
   "id": "1aa080b7",
   "metadata": {},
   "outputs": [
    {
     "name": "stdout",
     "output_type": "stream",
     "text": [
      "            streetname  areaid okrug                         area\n",
      "3105  Варшавское шоссе     109   ЮАО  Район Чертаново Центральное\n",
      "3117  Варшавское шоссе     108   ЮАО     Район Чертаново Северное\n",
      "3125  Варшавское шоссе     110   ЮАО        Район Чертаново Южное\n",
      "3241  Варшавское шоссе      99   ЮАО                Донской район\n",
      "3305  Варшавское шоссе     102   ЮАО     Район Нагатино-Садовники\n",
      "3349  Варшавское шоссе     104   ЮАО               Нагорный район\n",
      "3999  Варшавское шоссе     130  ЮЗАО        Район Северное Бутово\n",
      "4065  Варшавское шоссе     133  ЮЗАО           Район Южное Бутово\n"
     ]
    }
   ],
   "source": [
    "# определим список районов Варшавское шоссе\n",
    "var_sh = data_msk[\"streetname\"].str.contains('Варшавское шоссе')\n",
    "res_five = data_msk.loc[var_sh]\n",
    "# выведем на экран \n",
    "print(res_five)"
   ]
  },
  {
   "cell_type": "code",
   "execution_count": 139,
   "id": "9cf8b884",
   "metadata": {},
   "outputs": [
    {
     "name": "stdout",
     "output_type": "stream",
     "text": [
      "              streetname  areaid okrug                        area\n",
      "1504  Ленинский проспект      44   ЗАО  Район Проспект Вернадского\n",
      "1602  Ленинский проспект      47   ЗАО    Район Тропарево-Никулино\n",
      "3260  Ленинский проспект      99   ЮАО               Донской район\n",
      "3886  Ленинский проспект     124  ЮЗАО           Район Гагаринский\n",
      "3973  Ленинский проспект     128  ЮЗАО         Ломоносовский район\n",
      "3986  Ленинский проспект     129  ЮЗАО           Обручевский район\n",
      "4021  Ленинский проспект     131  ЮЗАО           Район Теплый Стан\n",
      "4163  Ленинский проспект      21   ЦАО              Район Якиманка\n"
     ]
    }
   ],
   "source": [
    "# определим список районов Ленинский проспект\n",
    "lenin_pr = data_msk[\"streetname\"].str.contains('Ленинский проспект')\n",
    "res_six = data_msk.loc[lenin_pr]\n",
    "# выведем на экран \n",
    "print(res_six)"
   ]
  },
  {
   "cell_type": "code",
   "execution_count": 140,
   "id": "17c15c44",
   "metadata": {},
   "outputs": [
    {
     "name": "stdout",
     "output_type": "stream",
     "text": [
      "                streetname  areaid okrug                        area\n",
      "1501  проспект Вернадского      44   ЗАО  Район Проспект Вернадского\n",
      "1510  проспект Вернадского      45   ЗАО               Район Раменки\n",
      "1598  проспект Вернадского      47   ЗАО    Район Тропарево-Никулино\n",
      "3878  проспект Вернадского     124  ЮЗАО           Район Гагаринский\n",
      "3967  проспект Вернадского     128  ЮЗАО         Ломоносовский район\n"
     ]
    }
   ],
   "source": [
    "# определим список районов проспект Вернадского\n",
    "pr_vern = data_msk[\"streetname\"].str.contains('проспект Вернадского')\n",
    "res_seven = data_msk.loc[pr_vern]\n",
    "# выведем на экран \n",
    "print(res_seven)"
   ]
  },
  {
   "cell_type": "code",
   "execution_count": 141,
   "id": "bbe3aed9",
   "metadata": {},
   "outputs": [
    {
     "name": "stdout",
     "output_type": "stream",
     "text": [
      "                streetname  areaid okrug                  area\n",
      "1208  Кутузовский проспект      38   ЗАО    Район Дорогомилово\n",
      "1280  Кутузовский проспект      49   ЗАО  Район Фили-Давыдково\n"
     ]
    }
   ],
   "source": [
    "# определим список районов Кутузовский проспект\n",
    "kut_pr = data_msk[\"streetname\"].str.contains('Кутузовский проспект')\n",
    "res_eight = data_msk.loc[kut_pr]\n",
    "# выведем на экран \n",
    "print(res_eight)"
   ]
  },
  {
   "cell_type": "code",
   "execution_count": 142,
   "id": "223f2470",
   "metadata": {},
   "outputs": [
    {
     "name": "stdout",
     "output_type": "stream",
     "text": [
      "           streetname  areaid okrug                             area\n",
      "3292  Каширское шоссе     101   ЮАО       Район Москворечье-Сабурово\n",
      "3308  Каширское шоссе     102   ЮАО         Район Нагатино-Садовники\n",
      "3369  Каширское шоссе     106   ЮАО     Район Орехово-Борисово Южное\n",
      "3392  Каширское шоссе     105   ЮАО  Район Орехово-Борисово Северное\n"
     ]
    }
   ],
   "source": [
    "# определим список районов Каширское шоссе\n",
    "kash_sh = data_msk[\"streetname\"].str.contains('Каширское шоссе')\n",
    "res_nine = data_msk.loc[kash_sh]\n",
    "# выведем на экран \n",
    "print(res_nine)"
   ]
  },
  {
   "cell_type": "code",
   "execution_count": 143,
   "id": "089b83c1",
   "metadata": {},
   "outputs": [
    {
     "name": "stdout",
     "output_type": "stream",
     "text": [
      "                streetname  areaid okrug                         area\n",
      "3111  Кировоградская улица     109   ЮАО  Район Чертаново Центральное\n",
      "3120  Кировоградская улица     108   ЮАО     Район Чертаново Северное\n",
      "3131  Кировоградская улица     110   ЮАО        Район Чертаново Южное\n"
     ]
    }
   ],
   "source": [
    "# определим список районов Кировоградская улица\n",
    "kir_ul = data_msk[\"streetname\"].str.contains('Кировоградская улица')\n",
    "res_ten = data_msk.loc[kir_ul]\n",
    "# выведем на экран \n",
    "print(res_ten)"
   ]
  },
  {
   "cell_type": "code",
   "execution_count": 144,
   "id": "5f33ef43",
   "metadata": {},
   "outputs": [
    {
     "name": "stdout",
     "output_type": "stream",
     "text": [
      "                  streetname  areaid okrug                             area\n",
      "2293           проспект Мира      70  СВАО               Алексеевский район\n",
      "2390           проспект Мира      86  СВАО                Ярославский Район\n",
      "2531           проспект Мира      78  СВАО               Район Марьина роща\n",
      "2578           проспект Мира      79  СВАО               Останкинский район\n",
      "2644           проспект Мира      81  СВАО                  Район Ростокино\n",
      "2712           проспект Мира      82  СВАО                   Район Свиблово\n",
      "4334           проспект Мира      16   ЦАО                  Мещанский район\n",
      "3845       Профсоюзная улица     123  ЮЗАО              Академический район\n",
      "3867       Профсоюзная улица     132  ЮЗАО                  Район Черемушки\n",
      "3916       Профсоюзная улица     134  ЮЗАО                    Район Ясенево\n",
      "3948       Профсоюзная улица     126  ЮЗАО                   Район Коньково\n",
      "3996       Профсоюзная улица     129  ЮЗАО                Обручевский район\n",
      "4024       Профсоюзная улица     131  ЮЗАО                Район Теплый Стан\n",
      "1857  Ленинградский проспект      54   САО                   Район Аэропорт\n",
      "1896  Ленинградский проспект      55   САО                    Район Беговой\n",
      "1992  Ленинградский проспект      69   САО                Хорошевский район\n",
      "2150  Ленинградский проспект      66   САО                      Район Сокол\n",
      "72    Пресненская набережная      17   ЦАО                Пресненский район\n",
      "3105        Варшавское шоссе     109   ЮАО      Район Чертаново Центральное\n",
      "3117        Варшавское шоссе     108   ЮАО         Район Чертаново Северное\n",
      "3125        Варшавское шоссе     110   ЮАО            Район Чертаново Южное\n",
      "3241        Варшавское шоссе      99   ЮАО                    Донской район\n",
      "3305        Варшавское шоссе     102   ЮАО         Район Нагатино-Садовники\n",
      "3349        Варшавское шоссе     104   ЮАО                   Нагорный район\n",
      "3999        Варшавское шоссе     130  ЮЗАО            Район Северное Бутово\n",
      "4065        Варшавское шоссе     133  ЮЗАО               Район Южное Бутово\n",
      "1504      Ленинский проспект      44   ЗАО       Район Проспект Вернадского\n",
      "1602      Ленинский проспект      47   ЗАО         Район Тропарево-Никулино\n",
      "3260      Ленинский проспект      99   ЮАО                    Донской район\n",
      "3886      Ленинский проспект     124  ЮЗАО                Район Гагаринский\n",
      "3973      Ленинский проспект     128  ЮЗАО              Ломоносовский район\n",
      "3986      Ленинский проспект     129  ЮЗАО                Обручевский район\n",
      "4021      Ленинский проспект     131  ЮЗАО                Район Теплый Стан\n",
      "4163      Ленинский проспект      21   ЦАО                   Район Якиманка\n",
      "1501    проспект Вернадского      44   ЗАО       Район Проспект Вернадского\n",
      "1510    проспект Вернадского      45   ЗАО                    Район Раменки\n",
      "1598    проспект Вернадского      47   ЗАО         Район Тропарево-Никулино\n",
      "3878    проспект Вернадского     124  ЮЗАО                Район Гагаринский\n",
      "3967    проспект Вернадского     128  ЮЗАО              Ломоносовский район\n",
      "1208    Кутузовский проспект      38   ЗАО               Район Дорогомилово\n",
      "1280    Кутузовский проспект      49   ЗАО             Район Фили-Давыдково\n",
      "3292         Каширское шоссе     101   ЮАО       Район Москворечье-Сабурово\n",
      "3308         Каширское шоссе     102   ЮАО         Район Нагатино-Садовники\n",
      "3369         Каширское шоссе     106   ЮАО     Район Орехово-Борисово Южное\n",
      "3392         Каширское шоссе     105   ЮАО  Район Орехово-Борисово Северное\n",
      "3111    Кировоградская улица     109   ЮАО      Район Чертаново Центральное\n",
      "3120    Кировоградская улица     108   ЮАО         Район Чертаново Северное\n",
      "3131    Кировоградская улица     110   ЮАО            Район Чертаново Южное\n"
     ]
    }
   ],
   "source": [
    "# сохраним в переменной все полученные списки\n",
    "res_ouer = res_one.append(res_too).append(res_three).append(res_four).append(res_five)\\\n",
    ".append(res_six).append(res_seven).append(res_eight).append(res_nine).append(res_ten)\n",
    "# выведем на экран\n",
    "print(res_ouer)"
   ]
  },
  {
   "cell_type": "code",
   "execution_count": 145,
   "id": "da934a89",
   "metadata": {},
   "outputs": [
    {
     "name": "stdout",
     "output_type": "stream",
     "text": [
      "['Алексеевский район' 'Ярославский Район' 'Район Марьина роща'\n",
      " 'Останкинский район' 'Район Ростокино' 'Район Свиблово' 'Мещанский район'\n",
      " 'Академический район' 'Район Черемушки' 'Район Ясенево' 'Район Коньково'\n",
      " 'Обручевский район' 'Район Теплый Стан' 'Район Аэропорт' 'Район Беговой'\n",
      " 'Хорошевский район' 'Район Сокол' 'Пресненский район'\n",
      " 'Район Чертаново Центральное' 'Район Чертаново Северное'\n",
      " 'Район Чертаново Южное' 'Донской район' 'Район Нагатино-Садовники'\n",
      " 'Нагорный район' 'Район Северное Бутово' 'Район Южное Бутово'\n",
      " 'Район Проспект Вернадского' 'Район Тропарево-Никулино'\n",
      " 'Район Гагаринский' 'Ломоносовский район' 'Район Якиманка'\n",
      " 'Район Раменки' 'Район Дорогомилово' 'Район Фили-Давыдково'\n",
      " 'Район Москворечье-Сабурово' 'Район Орехово-Борисово Южное'\n",
      " 'Район Орехово-Борисово Северное']\n",
      "Количество районов с улицами вошедшими в топ 10: 37\n"
     ]
    }
   ],
   "source": [
    "# сохраним в переменной res_ouer_area список районов с улицами топ 10\n",
    "res_ouer_area = res_ouer['area'].unique()\n",
    "# выведем на экран список\n",
    "print(res_ouer_area)\n",
    "# выведем на экран количество районов\n",
    "print('Количество районов с улицами вошедшими в топ 10:',len(res_ouer_area))"
   ]
  },
  {
   "cell_type": "markdown",
   "id": "f7405ce7",
   "metadata": {},
   "source": [
    "*Промежуточный вывод*\n",
    "\n",
    "В топ 10 улиц с наибольшим количеством заведений питания вошли центральные улицы и проспекты с большой пртяжённостью преимущественно в пределах МКАД (по данным https://yandex.ru/maps). Эти улицы протянулись по территории 37 районов Москвы."
   ]
  },
  {
   "cell_type": "markdown",
   "id": "02cffffc",
   "metadata": {},
   "source": [
    "## Поиск числа улиц с одним объектом общественного питания. Поиск внешней информации и ответ на вопрос — в каких районах Москвы находятся эти улицы? "
   ]
  },
  {
   "cell_type": "code",
   "execution_count": 146,
   "id": "bdb7e233",
   "metadata": {},
   "outputs": [
    {
     "name": "stdout",
     "output_type": "stream",
     "text": [
      "число улиц с одним объектом общественного питания: street    557\n",
      "id        557\n",
      "dtype: int64\n"
     ]
    }
   ],
   "source": [
    "# сохраним в переменной rest_data_street число улиц с одним объектом общественного питания\n",
    "rest_data_street = rest_data[['id',  'street']]\\\n",
    ".groupby('street', as_index=False)\\\n",
    ".agg({'id': 'count'}).sort_values('id', ascending=True)\n",
    "# выведем на экран \n",
    "print('число улиц с одним объектом общественного питания:',rest_data_street.query('id==1').count())"
   ]
  },
  {
   "cell_type": "code",
   "execution_count": 147,
   "id": "5542abd0",
   "metadata": {},
   "outputs": [
    {
     "name": "stdout",
     "output_type": "stream",
     "text": [
      "[' Песчаная улица' ' дом 22' ' Ижорский проезд' ' Изваринская улица'\n",
      " ' Известковый переулок' ' Измайловская площадь' ' дом 19' ' дом 18'\n",
      " ' дом 16' ' дом 11А' ' Икшинская улица' ' дом 118Б' ' дом 1'\n",
      " ' Институтский переулок' ' Интернациональная улица' ' деревня Столбово'\n",
      " ' деревня Сенькино-Секерино' ' деревня Дудкино' ' Иваньковское шоссе'\n",
      " ' дом 23' ' Зюзинская улица' ' Зубарев переулок' ' переулок Расковой'\n",
      " ' переулок Маяковского' ' Есенинский бульвар' ' Живарев переулок'\n",
      " ' переулок Красина' ' Жигулёвская улица' ' переулок Васнецова'\n",
      " ' Жуков проезд' ' Калибровская улица' ' домовладение 11' ' дом 8'\n",
      " ' дом 46' ' Зарайская улица' ' дом 39' ' Звонарский переулок' ' дом 37'\n",
      " ' дом 3' ' дом 28' ' Заводской проезд' ' переулок Хользунова'\n",
      " ' Калошин переулок' ' владение 2Б' ' Конаковский проезд'\n",
      " ' Кондрашёвский тупик' ' Черницынский проезд' ' Кооперативная улица'\n",
      " ' Черниговский переулок' ' Коптевский бульвар' ' Чермянский проезд'\n",
      " ' Чермянская улица' ' Челюскинская улица' ' Костомаровская набережная'\n",
      " ' Хохловский переулок' ' Хованская улица' ' Хлыновский тупик'\n",
      " ' Красногвардейский бульвар' ' Хлебный переулок' ' Хитровский переулок'\n",
      " ' Хилков переулок' ' Черноморский бульвар' ' Композиторская улица'\n",
      " ' Чукотский проезд' ' Чуксин тупик' ' Канатчиковский проезд'\n",
      " ' Карельский бульвар' ' Яхромская улица' ' Каскадная улица'\n",
      " ' Яузский бульвар' ' Ясногорская улица' ' Янтарный проезд'\n",
      " ' Ялтинская улица' ' деревня Давыдково' ' Якиманский переулок'\n",
      " ' Кирпичная улица' ' Электрический переулок' ' Щёлковский проезд'\n",
      " ' Шубинский переулок' ' Кожевнический проезд' ' Козицкий переулок'\n",
      " ' Штурвальная улица' ' Шепелюгинская улица' ' Юрловский проезд'\n",
      " ' Елоховский проезд' ' Егорьевский проезд' ' площадь Журавлёва'\n",
      " ' улица Васильцовский Стан' ' Вагоноремонтная улица'\n",
      " ' Варсонофьевский переулок' ' улица Брусилова'\n",
      " ' улица Бориса Жигулёнкова' ' улица Богородский Вал' ' улица Богданова'\n",
      " ' Вербная улица' ' улица Благуша' ' Верхний Золоторожский переулок'\n",
      " ' Верхняя улица' ' улица Атарбекова' ' улица Артюхиной'\n",
      " ' Винницкая улица' ' улица Анатолия Живова' ' улица Алексея Дикого'\n",
      " ' Волоцкой переулок' ' Бутиковский переулок' ' Будайский проезд'\n",
      " ' Будайская улица' ' Брошевский переулок' ' Большой Знаменский переулок'\n",
      " ' Большой Казённый переулок' ' улица Девятая Рота'\n",
      " ' Большой Кисельный переулок' ' Большой Николопесковский переулок'\n",
      " ' улица Гончарова' ' Большой Полуярославский переулок'\n",
      " ' Большой Предтеченский переулок' ' улица Академика Семёнова'\n",
      " ' Большой Симоновский переулок' ' улица Генерала Ермолова'\n",
      " ' Большой Трёхсвятительский переулок' ' улица Гамалеи' ' Боровая улица'\n",
      " ' Боровский проезд' ' улица Высоцкого' ' Ботанический переулок'\n",
      " ' Бродников переулок' ' Большой Строченовский переулок'\n",
      " ' улица Академика Понтрягина' ' улица Академика Петровского'\n",
      " ' Воротниковский переулок' ' улица Авиаконструктора Микояна'\n",
      " ' улица 9 Мая' ' Гранатный переулок' ' Гродненская улица'\n",
      " ' проезд Якушкина' ' проезд Черепановых' ' Дегтярный переулок'\n",
      " ' Делегатская улица' ' улица Айвазовского' ' Денежный переулок'\n",
      " ' Дмитровский переулок' ' проезд Нансена' ' Докучаев переулок'\n",
      " ' проезд Досфлота' ' проезд Донелайтиса' ' проезд Добролюбова'\n",
      " ' посёлок Акулово' ' поселение Филимонковское' ' Дивизионная улица'\n",
      " ' Красноказарменный проезд' ' Госпитальный переулок' ' Городская улица'\n",
      " ' улица Академика Павлова' ' улица Академика Опарина' ' Врачебный проезд'\n",
      " ' Выползов переулок' ' Высокая улица' ' Вяземская улица'\n",
      " ' улица Академика Комарова' ' Газгольдерная улица'\n",
      " ' улица Академика Арцимовича' ' Гаражная улица' ' Гжатская улица'\n",
      " ' Гжельский переулок' ' Глазовский переулок' ' Глебовская улица'\n",
      " ' Глинистый переулок' ' Глинищевский переулок' ' Перовский проезд'\n",
      " ' Гончарная набережная' ' Гвардейская улица' ' улица Демьяна Бедного'\n",
      " ' Хвалынский бульвар' ' Кремлёвская набережная' ' Несвижский переулок'\n",
      " ' Скатертный переулок' ' Нижний Журавлёв переулок'\n",
      " ' Нижний Кисельный переулок' ' Синельниковская улица'\n",
      " ' Симферопольский проезд' ' Сивашская улица' ' Сибирский проезд'\n",
      " ' Сеченовский переулок' ' Никитский переулок' ' Северодвинская улица'\n",
      " ' Новобутовский проезд' ' Нововладыкинский проезд' ' Сверчков переулок'\n",
      " ' Садовнический проезд' ' Садовая-Сухаревская улица'\n",
      " ' Русаковская набережная' ' Неманский проезд' ' Нелидовская улица'\n",
      " ' Скорняжный переулок' ' Научный проезд'\n",
      " ' Средний Овчинниковский переулок' ' Мишина улица'\n",
      " ' Средний Кондратьевский переулок' ' Спортивный проезд'\n",
      " ' Молодёжная улица' ' Спартаковский переулок' ' Союзный проспект'\n",
      " ' Мрузовский переулок' ' Новолучанская улица' ' Софийская набережная'\n",
      " ' Сормовский проезд' ' Солнечногорский проезд' ' Соймоновский проезд'\n",
      " ' Нагорный бульвар' ' Напрудный переулок' ' Нарвская улица'\n",
      " ' Наро-Фоминская улица' ' Народный проспект' ' Сосновая аллея'\n",
      " ' Михневский проезд' ' Новоостаповская улица' ' Ростокинская улица'\n",
      " ' Орехово-Зуевский проезд' ' Полтавская улица' ' Пожарский переулок'\n",
      " ' Подсосенский переулок' ' Подольская улица' ' Отрадный проезд'\n",
      " ' Плетешковский переулок' ' Платовская улица' ' Печорская улица'\n",
      " ' Петровско-Разумовская аллея' ' Парусный проезд' ' Педагогическая улица'\n",
      " ' Пенягинская улица' ' Петроверигский переулок' ' Песчаный переулок'\n",
      " ' шоссе Фрезер' ' Пестовский переулок' ' Оренбургская улица'\n",
      " ' Попов проезд' ' Олонецкий проезд' ' Посланников переулок'\n",
      " ' Родниковая улица' ' Новопресненский переулок' ' Рижский проезд'\n",
      " ' Новорублёвская улица' ' Новосибирская улица' ' Радужная улица'\n",
      " ' Пяловская улица' ' Пыжёвский переулок' ' Рубцов переулок'\n",
      " ' Новохорошёвский проезд' ' Пуговишников переулок' ' Прохладная улица'\n",
      " ' Норильская улица' ' Проточный переулок' ' Прокатная улица'\n",
      " ' Производственная улица' ' Причальный проезд' ' Прибрежный проезд'\n",
      " ' Пулковская улица' ' Средняя Калитниковская улица' ' Миусская площадь'\n",
      " ' Мирской переулок' ' Троилинский переулок' ' Триумфальная площадь'\n",
      " ' Тихий тупик' ' Тихвинский переулок' ' Тихая улица'\n",
      " ' Лонгиновская улица' ' Лосевская улица' ' Тимирязевский проезд'\n",
      " ' Тетеринский переулок' ' Тестовская улица' ' Лужнецкий проезд'\n",
      " ' Тессинский переулок' ' Тенистый проезд' ' Театральная аллея'\n",
      " ' Лыщиков переулок' ' Таёжная улица' ' Тарханская улица'\n",
      " ' Линейный проезд' ' Лечебная улица' ' Лефортовский переулок'\n",
      " ' Тургеневская площадь' ' Кривоарбатский переулок' ' Фруктовая улица'\n",
      " ' Фролов переулок' ' Кузьминская улица' ' Кулаков переулок'\n",
      " ' Филипповский переулок' ' Кунцевская улица' ' Курганская улица'\n",
      " ' Тарусская улица' ' Феодосийская улица' ' Фармацевтический проезд'\n",
      " ' Кучин переулок' ' Учинская улица' ' Утренняя улица'\n",
      " ' Успенский переулок' ' Ландышевая улица' ' Уржумская улица'\n",
      " ' Лениногорская улица' ' Федоскинская улица' ' Магаданская улица'\n",
      " ' Мажоров переулок' ' Таможенный проезд' ' Малый Путинковский переулок'\n",
      " ' Малый Саввинский переулок' ' Малый Татарский переулок'\n",
      " ' Малый Толмачёвский переулок' ' Мамоновский переулок'\n",
      " ' Староникольская улица' ' Мансуровский переулок'\n",
      " ' Старомонетный переулок' ' Малый Полуярославский переулок'\n",
      " ' Мариупольская улица' ' Машкинское шоссе' ' Международная улица'\n",
      " ' Мерзляковский переулок' ' Миллионная улица' ' Староалексеевская улица'\n",
      " ' Минаевский переулок' ' Стандартная улица' ' Сретенский тупик'\n",
      " ' Старомарьинское шоссе' ' Хавская улица' ' Старослободская улица'\n",
      " ' Малый Лёвшинский переулок' ' Малая Андроньевская улица'\n",
      " ' Малая Переяславская улица' ' Таганрогская улица' ' Сумская улица'\n",
      " ' Малая Тульская улица' ' Стромынский переулок' ' Стройковская улица'\n",
      " ' Малый Власьевский переулок' ' Малый Николопесковский переулок'\n",
      " ' Стрельбищенский переулок' ' Малый Знаменский переулок'\n",
      " ' Малый Ивановский переулок' ' Малый Казённый переулок'\n",
      " ' Малый Каретный переулок' ' Стрелецкая улица' ' Столовый переулок'\n",
      " ' Малый Конюшковский переулок' ' Малый Коптевский проезд'\n",
      " ' Малый Златоустинский переулок' ' Большой Афанасьевский переулок'\n",
      " ' Гольяновская улица' ' Большая Ширяевская улица'\n",
      " ' 1-я Чоботовская аллея' ' 1-я линия Хорошёвского Серебряного Бора'\n",
      " ' улица Старые Кузьминки' ' Ащеулов переулок'\n",
      " ' 5-й Котельнический переулок' ' 5-й Монетчиковский переулок'\n",
      " ' Астрадамский проезд' ' 5-й Рощинский проезд' ' улица Рогова'\n",
      " ' Архангельский переулок' ' 11-я Парковая улица'\n",
      " ' 42-й километр Московской Кольцевой Автодороги'\n",
      " ' 12-й проезд Марьиной Рощи' ' улица Советской Армии'\n",
      " ' Армавирская улица' ' улица Малые Каменщики' ' 14-я Парковая улица'\n",
      " ' 2-я Дубровская улица' ' 5-й проезд Марьиной Рощи'\n",
      " ' 2-я Гражданская улица' ' Анненский проезд' ' Анненская улица'\n",
      " ' 17-й проезд Марьиной Рощи' ' Андроньевская площадь'\n",
      " ' улица Полины Осипенко' ' 5-й проезд Подбельского' ' Аэрофлотская улица'\n",
      " ' Бабаевская улица' ' улица Лефортовский Вал'\n",
      " ' улица Линии Октябрьской Железной Дороги' ' улица Фадеева'\n",
      " ' улица Недорубова' ' улица Уткина' ' Басовская улица'\n",
      " ' 4-я Гражданская улица' ' улица Ращупкина' ' 4-я Кабельная улица'\n",
      " ' 1-я Миусская улица' ' Барабанный переулок' ' улица Степана Шутова'\n",
      " ' Банный проезд' ' улица Льва Яшина' ' 1-я Напрудная улица'\n",
      " ' улица Максимова' ' 2-я Прядильная улица' ' 2-я Напрудная улица'\n",
      " ' 1-я Пугачёвская улица' ' 2-я Квесисская улица' ' улица Ремизова'\n",
      " ' Базовая улица' ' улица Малая Ордынка' ' 42-й километр Калужского шоссе'\n",
      " ' Балтийская улица' ' 1-я Гражданская улица'\n",
      " ' Андреево-Забелинская улица' ' 2-й Балтийский переулок'\n",
      " ' 2-й Новокузнецкий переулок' ' улица Можайский Вал'\n",
      " ' 2-й Новоподмосковный переулок' ' 2-й Обыденский переулок'\n",
      " ' 8-я улица Соколиной Горы' ' 8-й проезд Марьиной Рощи'\n",
      " ' 78-й километр Московской Кольцевой Автодороги' ' улица Рудневой'\n",
      " ' 2-й Полевой переулок' ' 2-й Рощинский проезд'\n",
      " ' 2-й Сельскохозяйственный проезд'\n",
      " ' 56-й километр Московской Кольцевой Автодороги' ' 7-я улица Лазенки'\n",
      " ' 2-й Сетуньский проезд' ' 2-й Щемиловский переулок'\n",
      " ' 2-й Стрелецкий проезд' ' улица Ротерта' ' 6-й Лучевой просек'\n",
      " ' 7-й Ростовский переулок' ' 2-й Хуторской переулок'\n",
      " ' 67-й километр Московской Кольцевой Автодороги'\n",
      " ' 65-й километр Московской Кольцевой Автодороги' ' 6-я улица Новые Сады'\n",
      " ' 6-я улица Лазенки' ' 7-я Северная линия' ' улица Новая Дорога'\n",
      " ' 2-й Неопалимовский переулок' ' улица Рословка'\n",
      " ' улица Маршала Мерецкова' ' улица Маршала Новикова'\n",
      " ' 2-й Боткинский проезд' ' Алымов переулок'\n",
      " ' 2-й Верхний Михайловский проезд' ' улица Николаева'\n",
      " ' 2-й Вышеславцев переулок' ' улица Саляма Адиля' ' 2-й Иртышский проезд'\n",
      " ' 2-й Кабельный проезд' ' 2-й Кадашёвский переулок' ' улица Савельева'\n",
      " ' Автомобильный проезд' ' Авиационный переулок' ' улица Немчинова'\n",
      " ' улица Рокотова' ' 2-й Колобовский переулок' ' улица Сайкина'\n",
      " ' 2-й Красносельский переулок' ' 2-й Курьяновский проезд'\n",
      " ' 2-й Лучевой просек' ' улица Медведева' ' улица Медиков'\n",
      " ' 2-й Магистральный тупик' ' улица Рогожский Посёлок' ' улица Фонвизина'\n",
      " ' 1-я Карачаровская улица' ' улица Лапина' ' 3-я Новоостанкинская улица'\n",
      " ' улица Пивченкова' ' улица Знаменские Садки' ' 3-й Кадашёвский переулок'\n",
      " ' 3-я Песчаная улица' ' улица Шумкина' ' 1-й Краснокурсантский проезд'\n",
      " ' улица Инессы Арманд' ' 1-й Курьяновский проезд' ' 1-й Лучевой просек'\n",
      " ' улица Капотня' ' улица Зенитчиков' ' 1-й Люсиновский переулок'\n",
      " ' 1-й Магистральный тупик' ' 1-й Монетчиковский переулок'\n",
      " ' улица Шумилова' ' Большая Внуковская улица' ' 3-я Подрезковская улица'\n",
      " ' 26-й километр Московской Кольцевой Автодороги'\n",
      " ' Большая Бутовская улица' ' 4-й Рощинский проезд'\n",
      " ' 1-й Новокузнецкий переулок' ' 1-й Обыденский переулок'\n",
      " ' 3-я Северная линия' ' 3-й Дорожный проезд'\n",
      " ' 1-й Котельнический переулок' ' 1-й Коптельский переулок'\n",
      " ' 1-й Кожуховский проезд' ' 3-й Павловский переулок'\n",
      " ' 1-й Балтийский переулок' ' улица Достоевского'\n",
      " ' 1-й Басманный переулок' ' улица Дубки' ' 1-й Ботанический проезд'\n",
      " ' улица Пржевальского' ' 3-й Лучевой просек' ' 3-й Стрелецкий проезд'\n",
      " ' 1-й Вешняковский проезд' ' 1-й Голутвинский переулок'\n",
      " ' 3-й Угрешский проезд' ' улица Екатерины Будановой'\n",
      " ' 3-й проезд Подбельского' ' улица Щорса' ' улица Жебрунова'\n",
      " ' улица Подвойского' ' улица Жуковского' ' 3-й Лихачёвский переулок'\n",
      " ' 3-я Железногорская улица' ' 1-й Зачатьевский переулок'\n",
      " ' улица Захарьинские Дворики' ' 1-й Кирпичный переулок'\n",
      " ' 3-й Кожуховский проезд' ' 1-й Кожевнический переулок' ' улица Клочкова'\n",
      " ' 1-й Рижский переулок' ' 1-й Николощеповский переулок'\n",
      " ' 1-й Саратовский проезд' ' 2-я Ямская улица' ' 1-й проезд Марьиной Рощи'\n",
      " ' Библиотечная улица' ' Больничный переулок'\n",
      " ' 34-й километр Московской Кольцевой Автодороги'\n",
      " ' Бескудниковский проезд' ' Бескудниковский переулок' ' улица Кошкина'\n",
      " ' 1-я Аэропортовская улица' ' 1-я Боевская улица'\n",
      " ' 38-й километр Московской Кольцевой Автодороги'\n",
      " ' 31-й километр Московской Кольцевой Автодороги' ' улица Красных Зорь'\n",
      " ' 2-я Филёвская улица' ' 4-й Вятский переулок' ' Берниковская набережная'\n",
      " ' 4-й Кожевнический переулок' ' улица Крутицкий Вал' ' улица Кубинка'\n",
      " ' улица Павла Андреева' ' улица Кутузова' ' улица Раевского'\n",
      " ' 2-я Сокольническая улица' ' улица Кухмистерова'\n",
      " ' 4-й Вешняковский проезд' ' улица Константинова'\n",
      " ' 6-я Кожуховская улица' ' 3-я Черепковская улица' ' улица Хабарова'\n",
      " ' 1-й Сельскохозяйственный проезд' ' Большая Юшуньская улица'\n",
      " ' 2-я улица Бухвостова' ' 2-я улица Марьиной Рощи'\n",
      " ' Богоявленский переулок' ' 1-й Сетуньский проезд'\n",
      " ' 2-я улица Энтузиастов' ' улица Шеногина'\n",
      " ' 1-й Спасоналивковский переулок' ' 1-й Силикатный проезд'\n",
      " ' улица Паперника' ' 1-й Тушинский проезд']\n"
     ]
    }
   ],
   "source": [
    "#сохраним список уникальных значений улиц  \n",
    "spisok = rest_data_street.query('id==1')['street'].unique()\n",
    "# выведем на экран \n",
    "print(spisok)"
   ]
  },
  {
   "cell_type": "code",
   "execution_count": 148,
   "id": "452b2ce8",
   "metadata": {},
   "outputs": [
    {
     "name": "stdout",
     "output_type": "stream",
     "text": [
      "['Песчаная улица', 'дом 22', 'Ижорский проезд', 'Изваринская улица', 'Известковый переулок', 'Измайловская площадь', 'дом 19', 'дом 18', 'дом 16', 'дом 11А', 'Икшинская улица', 'дом 118Б', 'дом 1', 'Институтский переулок', 'Интернациональная улица', 'деревня Столбово', 'деревня Сенькино-Секерино', 'деревня Дудкино', 'Иваньковское шоссе', 'дом 23', 'Зюзинская улица', 'Зубарев переулок', 'переулок Расковой', 'переулок Маяковского', 'Есенинский бульвар', 'Живарев переулок', 'переулок Красина', 'Жигулёвская улица', 'переулок Васнецова', 'Жуков проезд', 'Калибровская улица', 'домовладение 11', 'дом 8', 'дом 46', 'Зарайская улица', 'дом 39', 'Звонарский переулок', 'дом 37', 'дом 3', 'дом 28', 'Заводской проезд', 'переулок Хользунова', 'Калошин переулок', 'владение 2Б', 'Конаковский проезд', 'Кондрашёвский тупик', 'Черницынский проезд', 'Кооперативная улица', 'Черниговский переулок', 'Коптевский бульвар', 'Чермянский проезд', 'Чермянская улица', 'Челюскинская улица', 'Костомаровская набережная', 'Хохловский переулок', 'Хованская улица', 'Хлыновский тупик', 'Красногвардейский бульвар', 'Хлебный переулок', 'Хитровский переулок', 'Хилков переулок', 'Черноморский бульвар', 'Композиторская улица', 'Чукотский проезд', 'Чуксин тупик', 'Канатчиковский проезд', 'Карельский бульвар', 'Яхромская улица', 'Каскадная улица', 'Яузский бульвар', 'Ясногорская улица', 'Янтарный проезд', 'Ялтинская улица', 'деревня Давыдково', 'Якиманский переулок', 'Кирпичная улица', 'Электрический переулок', 'Щёлковский проезд', 'Шубинский переулок', 'Кожевнический проезд', 'Козицкий переулок', 'Штурвальная улица', 'Шепелюгинская улица', 'Юрловский проезд', 'Елоховский проезд', 'Егорьевский проезд', 'площадь Журавлёва', 'улица Васильцовский Стан', 'Вагоноремонтная улица', 'Варсонофьевский переулок', 'улица Брусилова', 'улица Бориса Жигулёнкова', 'улица Богородский Вал', 'улица Богданова', 'Вербная улица', 'улица Благуша', 'Верхний Золоторожский переулок', 'Верхняя улица', 'улица Атарбекова', 'улица Артюхиной', 'Винницкая улица', 'улица Анатолия Живова', 'улица Алексея Дикого', 'Волоцкой переулок', 'Бутиковский переулок', 'Будайский проезд', 'Будайская улица', 'Брошевский переулок', 'Большой Знаменский переулок', 'Большой Казённый переулок', 'улица Девятая Рота', 'Большой Кисельный переулок', 'Большой Николопесковский переулок', 'улица Гончарова', 'Большой Полуярославский переулок', 'Большой Предтеченский переулок', 'улица Академика Семёнова', 'Большой Симоновский переулок', 'улица Генерала Ермолова', 'Большой Трёхсвятительский переулок', 'улица Гамалеи', 'Боровая улица', 'Боровский проезд', 'улица Высоцкого', 'Ботанический переулок', 'Бродников переулок', 'Большой Строченовский переулок', 'улица Академика Понтрягина', 'улица Академика Петровского', 'Воротниковский переулок', 'улица Авиаконструктора Микояна', 'улица 9 Мая', 'Гранатный переулок', 'Гродненская улица', 'проезд Якушкина', 'проезд Черепановых', 'Дегтярный переулок', 'Делегатская улица', 'улица Айвазовского', 'Денежный переулок', 'Дмитровский переулок', 'проезд Нансена', 'Докучаев переулок', 'проезд Досфлота', 'проезд Донелайтиса', 'проезд Добролюбова', 'посёлок Акулово', 'поселение Филимонковское', 'Дивизионная улица', 'Красноказарменный проезд', 'Госпитальный переулок', 'Городская улица', 'улица Академика Павлова', 'улица Академика Опарина', 'Врачебный проезд', 'Выползов переулок', 'Высокая улица', 'Вяземская улица', 'улица Академика Комарова', 'Газгольдерная улица', 'улица Академика Арцимовича', 'Гаражная улица', 'Гжатская улица', 'Гжельский переулок', 'Глазовский переулок', 'Глебовская улица', 'Глинистый переулок', 'Глинищевский переулок', 'Перовский проезд', 'Гончарная набережная', 'Гвардейская улица', 'улица Демьяна Бедного', 'Хвалынский бульвар', 'Кремлёвская набережная', 'Несвижский переулок', 'Скатертный переулок', 'Нижний Журавлёв переулок', 'Нижний Кисельный переулок', 'Синельниковская улица', 'Симферопольский проезд', 'Сивашская улица', 'Сибирский проезд', 'Сеченовский переулок', 'Никитский переулок', 'Северодвинская улица', 'Новобутовский проезд', 'Нововладыкинский проезд', 'Сверчков переулок', 'Садовнический проезд', 'Садовая-Сухаревская улица', 'Русаковская набережная', 'Неманский проезд', 'Нелидовская улица', 'Скорняжный переулок', 'Научный проезд', 'Средний Овчинниковский переулок', 'Мишина улица', 'Средний Кондратьевский переулок', 'Спортивный проезд', 'Молодёжная улица', 'Спартаковский переулок', 'Союзный проспект', 'Мрузовский переулок', 'Новолучанская улица', 'Софийская набережная', 'Сормовский проезд', 'Солнечногорский проезд', 'Соймоновский проезд', 'Нагорный бульвар', 'Напрудный переулок', 'Нарвская улица', 'Наро-Фоминская улица', 'Народный проспект', 'Сосновая аллея', 'Михневский проезд', 'Новоостаповская улица', 'Ростокинская улица', 'Орехово-Зуевский проезд', 'Полтавская улица', 'Пожарский переулок', 'Подсосенский переулок', 'Подольская улица', 'Отрадный проезд', 'Плетешковский переулок', 'Платовская улица', 'Печорская улица', 'Петровско-Разумовская аллея', 'Парусный проезд', 'Педагогическая улица', 'Пенягинская улица', 'Петроверигский переулок', 'Песчаный переулок', 'шоссе Фрезер', 'Пестовский переулок', 'Оренбургская улица', 'Попов проезд', 'Олонецкий проезд', 'Посланников переулок', 'Родниковая улица', 'Новопресненский переулок', 'Рижский проезд', 'Новорублёвская улица', 'Новосибирская улица', 'Радужная улица', 'Пяловская улица', 'Пыжёвский переулок', 'Рубцов переулок', 'Новохорошёвский проезд', 'Пуговишников переулок', 'Прохладная улица', 'Норильская улица', 'Проточный переулок', 'Прокатная улица', 'Производственная улица', 'Причальный проезд', 'Прибрежный проезд', 'Пулковская улица', 'Средняя Калитниковская улица', 'Миусская площадь', 'Мирской переулок', 'Троилинский переулок', 'Триумфальная площадь', 'Тихий тупик', 'Тихвинский переулок', 'Тихая улица', 'Лонгиновская улица', 'Лосевская улица', 'Тимирязевский проезд', 'Тетеринский переулок', 'Тестовская улица', 'Лужнецкий проезд', 'Тессинский переулок', 'Тенистый проезд', 'Театральная аллея', 'Лыщиков переулок', 'Таёжная улица', 'Тарханская улица', 'Линейный проезд', 'Лечебная улица', 'Лефортовский переулок', 'Тургеневская площадь', 'Кривоарбатский переулок', 'Фруктовая улица', 'Фролов переулок', 'Кузьминская улица', 'Кулаков переулок', 'Филипповский переулок', 'Кунцевская улица', 'Курганская улица', 'Тарусская улица', 'Феодосийская улица', 'Фармацевтический проезд', 'Кучин переулок', 'Учинская улица', 'Утренняя улица', 'Успенский переулок', 'Ландышевая улица', 'Уржумская улица', 'Лениногорская улица', 'Федоскинская улица', 'Магаданская улица', 'Мажоров переулок', 'Таможенный проезд', 'Малый Путинковский переулок', 'Малый Саввинский переулок', 'Малый Татарский переулок', 'Малый Толмачёвский переулок', 'Мамоновский переулок', 'Староникольская улица', 'Мансуровский переулок', 'Старомонетный переулок', 'Малый Полуярославский переулок', 'Мариупольская улица', 'Машкинское шоссе', 'Международная улица', 'Мерзляковский переулок', 'Миллионная улица', 'Староалексеевская улица', 'Минаевский переулок', 'Стандартная улица', 'Сретенский тупик', 'Старомарьинское шоссе', 'Хавская улица', 'Старослободская улица', 'Малый Лёвшинский переулок', 'Малая Андроньевская улица', 'Малая Переяславская улица', 'Таганрогская улица', 'Сумская улица', 'Малая Тульская улица', 'Стромынский переулок', 'Стройковская улица', 'Малый Власьевский переулок', 'Малый Николопесковский переулок', 'Стрельбищенский переулок', 'Малый Знаменский переулок', 'Малый Ивановский переулок', 'Малый Казённый переулок', 'Малый Каретный переулок', 'Стрелецкая улица', 'Столовый переулок', 'Малый Конюшковский переулок', 'Малый Коптевский проезд', 'Малый Златоустинский переулок', 'Большой Афанасьевский переулок', 'Гольяновская улица', 'Большая Ширяевская улица', '1-я Чоботовская аллея', '1-я линия Хорошёвского Серебряного Бора', 'улица Старые Кузьминки', 'Ащеулов переулок', '5-й Котельнический переулок', '5-й Монетчиковский переулок', 'Астрадамский проезд', '5-й Рощинский проезд', 'улица Рогова', 'Архангельский переулок', '11-я Парковая улица', '42-й километр Московской Кольцевой Автодороги', '12-й проезд Марьиной Рощи', 'улица Советской Армии', 'Армавирская улица', 'улица Малые Каменщики', '14-я Парковая улица', '2-я Дубровская улица', '5-й проезд Марьиной Рощи', '2-я Гражданская улица', 'Анненский проезд', 'Анненская улица', '17-й проезд Марьиной Рощи', 'Андроньевская площадь', 'улица Полины Осипенко', '5-й проезд Подбельского', 'Аэрофлотская улица', 'Бабаевская улица', 'улица Лефортовский Вал', 'улица Линии Октябрьской Железной Дороги', 'улица Фадеева', 'улица Недорубова', 'улица Уткина', 'Басовская улица', '4-я Гражданская улица', 'улица Ращупкина', '4-я Кабельная улица', '1-я Миусская улица', 'Барабанный переулок', 'улица Степана Шутова', 'Банный проезд', 'улица Льва Яшина', '1-я Напрудная улица', 'улица Максимова', '2-я Прядильная улица', '2-я Напрудная улица', '1-я Пугачёвская улица', '2-я Квесисская улица', 'улица Ремизова', 'Базовая улица', 'улица Малая Ордынка', '42-й километр Калужского шоссе', 'Балтийская улица', '1-я Гражданская улица', 'Андреево-Забелинская улица', '2-й Балтийский переулок', '2-й Новокузнецкий переулок', 'улица Можайский Вал', '2-й Новоподмосковный переулок', '2-й Обыденский переулок', '8-я улица Соколиной Горы', '8-й проезд Марьиной Рощи', '78-й километр Московской Кольцевой Автодороги', 'улица Рудневой', '2-й Полевой переулок', '2-й Рощинский проезд', '2-й Сельскохозяйственный проезд', '56-й километр Московской Кольцевой Автодороги', '7-я улица Лазенки', '2-й Сетуньский проезд', '2-й Щемиловский переулок', '2-й Стрелецкий проезд', 'улица Ротерта', '6-й Лучевой просек', '7-й Ростовский переулок', '2-й Хуторской переулок', '67-й километр Московской Кольцевой Автодороги', '65-й километр Московской Кольцевой Автодороги', '6-я улица Новые Сады', '6-я улица Лазенки', '7-я Северная линия', 'улица Новая Дорога', '2-й Неопалимовский переулок', 'улица Рословка', 'улица Маршала Мерецкова', 'улица Маршала Новикова', '2-й Боткинский проезд', 'Алымов переулок', '2-й Верхний Михайловский проезд', 'улица Николаева', '2-й Вышеславцев переулок', 'улица Саляма Адиля', '2-й Иртышский проезд', '2-й Кабельный проезд', '2-й Кадашёвский переулок', 'улица Савельева', 'Автомобильный проезд', 'Авиационный переулок', 'улица Немчинова', 'улица Рокотова', '2-й Колобовский переулок', 'улица Сайкина', '2-й Красносельский переулок', '2-й Курьяновский проезд', '2-й Лучевой просек', 'улица Медведева', 'улица Медиков', '2-й Магистральный тупик', 'улица Рогожский Посёлок', 'улица Фонвизина', '1-я Карачаровская улица', 'улица Лапина', '3-я Новоостанкинская улица', 'улица Пивченкова', 'улица Знаменские Садки', '3-й Кадашёвский переулок', '3-я Песчаная улица', 'улица Шумкина', '1-й Краснокурсантский проезд', 'улица Инессы Арманд', '1-й Курьяновский проезд', '1-й Лучевой просек', 'улица Капотня', 'улица Зенитчиков', '1-й Люсиновский переулок', '1-й Магистральный тупик', '1-й Монетчиковский переулок', 'улица Шумилова', 'Большая Внуковская улица', '3-я Подрезковская улица', '26-й километр Московской Кольцевой Автодороги', 'Большая Бутовская улица', '4-й Рощинский проезд', '1-й Новокузнецкий переулок', '1-й Обыденский переулок', '3-я Северная линия', '3-й Дорожный проезд', '1-й Котельнический переулок', '1-й Коптельский переулок', '1-й Кожуховский проезд', '3-й Павловский переулок', '1-й Балтийский переулок', 'улица Достоевского', '1-й Басманный переулок', 'улица Дубки', '1-й Ботанический проезд', 'улица Пржевальского', '3-й Лучевой просек', '3-й Стрелецкий проезд', '1-й Вешняковский проезд', '1-й Голутвинский переулок', '3-й Угрешский проезд', 'улица Екатерины Будановой', '3-й проезд Подбельского', 'улица Щорса', 'улица Жебрунова', 'улица Подвойского', 'улица Жуковского', '3-й Лихачёвский переулок', '3-я Железногорская улица', '1-й Зачатьевский переулок', 'улица Захарьинские Дворики', '1-й Кирпичный переулок', '3-й Кожуховский проезд', '1-й Кожевнический переулок', 'улица Клочкова', '1-й Рижский переулок', '1-й Николощеповский переулок', '1-й Саратовский проезд', '2-я Ямская улица', '1-й проезд Марьиной Рощи', 'Библиотечная улица', 'Больничный переулок', '34-й километр Московской Кольцевой Автодороги', 'Бескудниковский проезд', 'Бескудниковский переулок', 'улица Кошкина', '1-я Аэропортовская улица', '1-я Боевская улица', '38-й километр Московской Кольцевой Автодороги', '31-й километр Московской Кольцевой Автодороги', 'улица Красных Зорь', '2-я Филёвская улица', '4-й Вятский переулок', 'Берниковская набережная', '4-й Кожевнический переулок', 'улица Крутицкий Вал', 'улица Кубинка', 'улица Павла Андреева', 'улица Кутузова', 'улица Раевского', '2-я Сокольническая улица', 'улица Кухмистерова', '4-й Вешняковский проезд', 'улица Константинова', '6-я Кожуховская улица', '3-я Черепковская улица', 'улица Хабарова', '1-й Сельскохозяйственный проезд', 'Большая Юшуньская улица', '2-я улица Бухвостова', '2-я улица Марьиной Рощи', 'Богоявленский переулок', '1-й Сетуньский проезд', '2-я улица Энтузиастов', 'улица Шеногина', '1-й Спасоналивковский переулок', '1-й Силикатный проезд', 'улица Паперника', '1-й Тушинский проезд']\n"
     ]
    }
   ],
   "source": [
    "# обработаем список, удалив лишние пробелы и разделив запятыми\n",
    "spisok = [x.strip(' ') for x in spisok]\n",
    "# выведем на экран \n",
    "print(spisok)"
   ]
  },
  {
   "cell_type": "markdown",
   "id": "ff5aea96",
   "metadata": {},
   "source": [
    "Полученных список сравним с внешними данными мосгаза и узнаем в каких районах находятся наши улицы"
   ]
  },
  {
   "cell_type": "code",
   "execution_count": 149,
   "id": "295f0ed4",
   "metadata": {},
   "outputs": [
    {
     "name": "stdout",
     "output_type": "stream",
     "text": [
      "['Алексеевский район' 'Алтуфьевский район' 'Бабушкинский район'\n",
      " 'Басманный район' 'Бескудниковский Район' 'Бутырский район'\n",
      " 'Войковский Район' 'Головинский район' 'Даниловский район'\n",
      " 'Дмитровский район' 'Донской район' 'Красносельский район'\n",
      " 'Лосиноостровский район' 'Мещанский район' 'Можайский Район'\n",
      " 'Молжаниновский район' 'Нагорный район' 'Нижегородский район'\n",
      " 'Обручевский район' 'Останкинский район' 'Пресненский район'\n",
      " 'Район Арбат' 'Район Аэропорт' 'Район Беговой' 'Район Бирюлево Восточное'\n",
      " 'Район Богородское' 'Район Внуково' 'Район Восточное Измайлово'\n",
      " 'Район Восточный' 'Район Выхино-Жулебино' 'Район Гагаринский'\n",
      " 'Район Гольяново' 'Район Дорогомилово' 'Район Замоскворечье'\n",
      " 'Район Западное Дегунино' 'Район Зюзино' 'Район Ивановское'\n",
      " 'Район Измайлово' 'Район Коньково' 'Район Коптево'\n",
      " 'Район Косино-Ухтомский' 'Район Котловка' 'Район Кузьминки'\n",
      " 'Район Кунцево' 'Район Куркино' 'Район Левобережный' 'Район Лефортово'\n",
      " 'Район Люблино' 'Район Марфино' 'Район Марьина роща' 'Район Марьино'\n",
      " 'Район Матушкино-Савелки' 'Район Метрогородок' 'Район Митино'\n",
      " 'Район Москворечье-Сабурово' 'Район Нагатино-Садовники'\n",
      " 'Район Ново-Переделкино' 'Район Новогиреево' 'Район Отрадное'\n",
      " 'Район Очаково-Матвеевское' 'Район Перово' 'Район Печатники'\n",
      " 'Район Покровское-Стрешнево' 'Район Преображенское' 'Район Раменки'\n",
      " 'Район Ростокино' 'Район Свиблово' 'Район Северное Бутово'\n",
      " 'Район Северное Измайлово' 'Район Северное Медведково' 'Район Северный'\n",
      " 'Район Сокол' 'Район Соколиная Гора' 'Район Сокольники' 'Район Солнцево'\n",
      " 'Район Строгино' 'Район Текстильщики' 'Район Филевский Парк'\n",
      " 'Район Фили-Давыдково' 'Район Хамовники' 'Район Хорошево-Мневники'\n",
      " 'Район Царицыно' 'Район Черемушки' 'Район Чертаново Северное'\n",
      " 'Район Чертаново Южное' 'Район Щукино' 'Район Южное Бутово'\n",
      " 'Район Южное Медведково' 'Район Южное Тушино' 'Район Якиманка'\n",
      " 'Район Ясенево' 'Рязанский район' 'Савеловский район' 'Таганский район'\n",
      " 'Тверской район' 'Тимирязевский Район' 'Хорошевский район'\n",
      " 'Южнопортовый Район' 'Ярославский Район']\n"
     ]
    }
   ],
   "source": [
    "# список районов Москви по которым проходят улицы с с одним объектом общественного питания\n",
    "data_msk_spisok = data_msk.query('streetname in @spisok').sort_values(by='area')  \n",
    "# сохраним список в переменной data_msk_spisok_area\n",
    "data_msk_spisok_area = data_msk_spisok['area'].unique()\n",
    "# выведем на экран \n",
    "print(data_msk_spisok_area)"
   ]
  },
  {
   "cell_type": "code",
   "execution_count": 150,
   "id": "1297c873",
   "metadata": {},
   "outputs": [
    {
     "name": "stdout",
     "output_type": "stream",
     "text": [
      "районов Москвы, по которым проходят улицы с с одним объектом общественного питания: 99\n",
      "районов в Москве всего : 123\n"
     ]
    }
   ],
   "source": [
    "# выведем на экран \n",
    "print('районов Москвы, по которым проходят улицы с с одним объектом общественного питания:'\n",
    "      ,len(data_msk_spisok_area))\n",
    "# выведем на экран \n",
    "print ('районов в Москве всего :',len(data_msk['area'].unique()))\n"
   ]
  },
  {
   "cell_type": "markdown",
   "id": "f438963e",
   "metadata": {},
   "source": [
    "Определим какие районы входят в оба списка . "
   ]
  },
  {
   "cell_type": "code",
   "execution_count": 151,
   "id": "fc858422",
   "metadata": {},
   "outputs": [
    {
     "name": "stdout",
     "output_type": "stream",
     "text": [
      "0             Район Южное Бутово\n",
      "1          Район Северное Бутово\n",
      "2     Район Москворечье-Сабурово\n",
      "3                 Район Коньково\n",
      "4              Хорошевский район\n",
      "5                 Район Свиблово\n",
      "6              Обручевский район\n",
      "7                  Район Беговой\n",
      "8              Пресненский район\n",
      "9                  Район Ясенево\n",
      "10      Район Нагатино-Садовники\n",
      "11                Район Якиманка\n",
      "12             Ярославский Район\n",
      "13                Район Аэропорт\n",
      "14                 Район Раменки\n",
      "15            Алексеевский район\n",
      "16      Район Чертаново Северное\n",
      "17            Район Дорогомилово\n",
      "18                   Район Сокол\n",
      "19             Район Гагаринский\n",
      "20         Район Чертаново Южное\n",
      "21               Район Черемушки\n",
      "22          Район Фили-Давыдково\n",
      "23                Нагорный район\n",
      "24               Район Ростокино\n",
      "25               Мещанский район\n",
      "26            Останкинский район\n",
      "27                 Донской район\n",
      "28            Район Марьина роща\n",
      "dtype: object\n"
     ]
    }
   ],
   "source": [
    "# сохраним в переменной area список районов, вошедших в оба списка\n",
    "area = c = list(set(res_ouer_area) & set(data_msk_spisok_area))\n",
    "# выведем на экран\n",
    "print(pd.Series(area))"
   ]
  },
  {
   "cell_type": "markdown",
   "id": "06e9c624",
   "metadata": {},
   "source": [
    "*Промежуточный вывод*\n",
    "\n",
    "Количество улиц с одним объектом питания составляет 557. Выборочная проверка местоположения  на карте г.Москва показала, что большинство этих улиц находится либо вдали от центра ,либо в  районах промзон,скверов, аэропортов или в спальных районах. Сравнив список районов с топом 10 улиц и список районов с одним объектом питания, обнаружено совпадение в 28 случаях. При этом оличество районов с топом 10 улиц составляет 37, а количетво районов улиц с одним объектом - 99 . Таким образом более 75% топовых районов включают в себя и улицы с одним объектом питания, и лишь по 28% районов с одним объектом проходят топовые улицы."
   ]
  },
  {
   "cell_type": "markdown",
   "id": "b12d0ef6",
   "metadata": {},
   "source": [
    "# Общий вывод и  рекомендации о виде заведения, количестве посадочных мест, а также районе расположения. Комментарий возможность развития сети.¶"
   ]
  },
  {
   "cell_type": "markdown",
   "id": "63703286",
   "metadata": {},
   "source": [
    "Работа над проектом включила в себя:\n",
    "* предобработку данных;\n",
    "* анализ полученных данных с использованием методов визуализации и с привлечением информациии из внешних источников;\n",
    "* выводы и рекомендации.\n",
    "\n",
    "На основании исследований проведённых в ходе работы установлено.\n",
    "\n",
    "* Соотношения видов объектов общественного питания по количеству следующее:подавляющее большинство объектов 39,7 % относятся к кафе, следующий в рейтинге -столовые 16,8 %, рестораны третьи по количеству-14,9%, предприятие быстрого обслуживания -12,5%. Доли остальных заведений не превышают 7%.\n",
    "\n",
    "* Соотношения сетевых и несетевых заведений по количеству: 80,7 % не являются сетевыми, доля сетевых заведений составляет 19,3%.\n",
    "\n",
    "\n",
    "* Характер сетевого распространения для  объектов общественного питания следующий: 47 % относятся к кафе, доля сетевых предприятий быстрого обслуживания составляет 26,7%. Сетевые рестораны составляют 18,3 % от количества всех сетевых объектов питания, доли остальных типов заведений не превышают 2%. Существенное отличие от несетевых предприятий в части столовых- они в бодавляющем большинстве несетевые(0,1% среди сетевых предприятий против 20% среди несетевых).\n",
    "\n",
    "* Среднее количество посадочных мест распределилось следующим образом: столовые -103 мест, за ними следуют рестораны-80 мест и бары-35 мест, замыкают рейтинг предприятия быстрого обслуживанияс небольшим количеством посадочных мест равным 5. В магазинах(отделах кулинарии) и закусочных среднее количество посадочных мест равно нулю.\n",
    ".\n",
    "\n",
    "* Топ-10 улиц по количеству объектов общественного питания включает в себя:\n",
    "проспект Мира,  \n",
    "Профсоюзная улица,  \n",
    "Ленинградский проспект,  \n",
    "Пресненская набережная,  \n",
    "Варшавское шоссе,  \n",
    "Ленинский проспект,  \n",
    "проспект Вернадского,  \n",
    "Кутузовский проспект,  \n",
    "Каширское шоссе,  \n",
    "Кировоградская улица.\n",
    "Местоположение этих улиц в пределах МКАД . Это протяжённые крупные проспекты и улицы центра города.\n",
    "\n",
    "* Количество улиц с одним объектом общественного питания составляет 557.Они протянулись по территории 99 районов. Большинство этих улиц находится либо далеко от центра, либо в промышленных или спальных районах Москвы.\n",
    "\n",
    "\n",
    "Рекомендации относительно заведения:\n",
    "\n",
    "заведение на первом этапе может не быть сетевым, но сеть вполне возможна по мере развития бизнеса\n",
    "\n",
    "тип заведения :кафе или предприятие быстрого питания в случае выбора сетевого развития\n",
    "\n",
    "количество посадочных мест- до 50\n",
    "\n",
    "местоположение-в районе МКАД\n"
   ]
  },
  {
   "cell_type": "markdown",
   "id": "7f531765",
   "metadata": {},
   "source": [
    "   Презентация находится по адресу https://disk.yandex.ru/i/PqDfL1Py1VGNcg"
   ]
  }
 ],
 "metadata": {
  "ExecuteTimeLog": [
   {
    "duration": 4,
    "start_time": "2022-06-16T18:44:46.189Z"
   },
   {
    "duration": 97,
    "start_time": "2022-06-16T18:44:46.195Z"
   },
   {
    "duration": 10,
    "start_time": "2022-06-16T18:44:46.294Z"
   },
   {
    "duration": 26,
    "start_time": "2022-06-16T18:44:46.306Z"
   },
   {
    "duration": 35,
    "start_time": "2022-06-16T18:44:46.335Z"
   },
   {
    "duration": 19,
    "start_time": "2022-06-16T18:44:46.372Z"
   },
   {
    "duration": 105,
    "start_time": "2022-06-16T18:44:46.393Z"
   },
   {
    "duration": 79,
    "start_time": "2022-06-16T18:44:46.500Z"
   },
   {
    "duration": 10,
    "start_time": "2022-06-16T18:44:46.581Z"
   },
   {
    "duration": 24,
    "start_time": "2022-06-16T18:44:46.592Z"
   },
   {
    "duration": 19,
    "start_time": "2022-06-16T18:44:46.619Z"
   },
   {
    "duration": 10,
    "start_time": "2022-06-16T18:44:46.640Z"
   },
   {
    "duration": 29,
    "start_time": "2022-06-16T18:44:46.652Z"
   },
   {
    "duration": 13,
    "start_time": "2022-06-16T18:44:46.685Z"
   },
   {
    "duration": 152,
    "start_time": "2022-06-16T18:44:46.700Z"
   },
   {
    "duration": 15,
    "start_time": "2022-06-16T18:44:46.854Z"
   },
   {
    "duration": 15,
    "start_time": "2022-06-16T18:44:46.871Z"
   },
   {
    "duration": 240,
    "start_time": "2022-06-16T18:44:46.888Z"
   },
   {
    "duration": 7,
    "start_time": "2022-06-16T18:44:47.130Z"
   },
   {
    "duration": 36,
    "start_time": "2022-06-16T18:44:47.139Z"
   },
   {
    "duration": 10,
    "start_time": "2022-06-16T18:44:47.176Z"
   },
   {
    "duration": 55,
    "start_time": "2022-06-16T18:44:47.188Z"
   },
   {
    "duration": 18,
    "start_time": "2022-06-16T18:44:47.246Z"
   },
   {
    "duration": 70,
    "start_time": "2022-06-16T18:44:47.266Z"
   },
   {
    "duration": 14,
    "start_time": "2022-06-16T18:44:47.338Z"
   },
   {
    "duration": 16,
    "start_time": "2022-06-16T18:44:47.354Z"
   },
   {
    "duration": 572,
    "start_time": "2022-06-16T18:44:47.372Z"
   },
   {
    "duration": 5,
    "start_time": "2022-06-16T18:44:47.947Z"
   },
   {
    "duration": 183,
    "start_time": "2022-06-16T18:44:47.955Z"
   },
   {
    "duration": 23,
    "start_time": "2022-06-16T18:44:48.140Z"
   },
   {
    "duration": 64,
    "start_time": "2022-06-16T18:44:48.164Z"
   },
   {
    "duration": 408,
    "start_time": "2022-06-16T18:44:48.229Z"
   },
   {
    "duration": 86,
    "start_time": "2022-06-16T18:44:48.641Z"
   },
   {
    "duration": 0,
    "start_time": "2022-06-16T18:44:48.730Z"
   },
   {
    "duration": 0,
    "start_time": "2022-06-16T18:44:48.732Z"
   },
   {
    "duration": 0,
    "start_time": "2022-06-16T18:44:48.734Z"
   },
   {
    "duration": 0,
    "start_time": "2022-06-16T18:44:48.735Z"
   },
   {
    "duration": 0,
    "start_time": "2022-06-16T18:44:48.737Z"
   },
   {
    "duration": 0,
    "start_time": "2022-06-16T18:44:48.739Z"
   },
   {
    "duration": 0,
    "start_time": "2022-06-16T18:44:48.740Z"
   },
   {
    "duration": 0,
    "start_time": "2022-06-16T18:44:48.742Z"
   },
   {
    "duration": 0,
    "start_time": "2022-06-16T18:44:48.743Z"
   },
   {
    "duration": 0,
    "start_time": "2022-06-16T18:44:48.745Z"
   },
   {
    "duration": 0,
    "start_time": "2022-06-16T18:44:48.747Z"
   },
   {
    "duration": 0,
    "start_time": "2022-06-16T18:44:48.749Z"
   },
   {
    "duration": 0,
    "start_time": "2022-06-16T18:44:48.750Z"
   },
   {
    "duration": 0,
    "start_time": "2022-06-16T18:44:48.752Z"
   },
   {
    "duration": 0,
    "start_time": "2022-06-16T18:44:48.753Z"
   },
   {
    "duration": 0,
    "start_time": "2022-06-16T18:44:48.754Z"
   },
   {
    "duration": 0,
    "start_time": "2022-06-16T18:44:48.757Z"
   },
   {
    "duration": 0,
    "start_time": "2022-06-16T18:44:48.759Z"
   },
   {
    "duration": 1263,
    "start_time": "2022-06-16T18:45:12.612Z"
   },
   {
    "duration": 76,
    "start_time": "2022-06-16T18:45:13.877Z"
   },
   {
    "duration": 14,
    "start_time": "2022-06-16T18:45:13.955Z"
   },
   {
    "duration": 22,
    "start_time": "2022-06-16T18:45:13.971Z"
   },
   {
    "duration": 38,
    "start_time": "2022-06-16T18:45:13.996Z"
   },
   {
    "duration": 18,
    "start_time": "2022-06-16T18:45:14.036Z"
   },
   {
    "duration": 176,
    "start_time": "2022-06-16T18:45:14.056Z"
   },
   {
    "duration": 22,
    "start_time": "2022-06-16T18:45:14.234Z"
   },
   {
    "duration": 69,
    "start_time": "2022-06-16T18:45:14.258Z"
   },
   {
    "duration": 18,
    "start_time": "2022-06-16T18:45:14.329Z"
   },
   {
    "duration": 18,
    "start_time": "2022-06-16T18:45:14.349Z"
   },
   {
    "duration": 71,
    "start_time": "2022-06-16T18:45:14.370Z"
   },
   {
    "duration": 38,
    "start_time": "2022-06-16T18:45:14.443Z"
   },
   {
    "duration": 50,
    "start_time": "2022-06-16T18:45:14.486Z"
   },
   {
    "duration": 217,
    "start_time": "2022-06-16T18:45:14.539Z"
   },
   {
    "duration": 17,
    "start_time": "2022-06-16T18:45:14.760Z"
   },
   {
    "duration": 40,
    "start_time": "2022-06-16T18:45:14.781Z"
   },
   {
    "duration": 271,
    "start_time": "2022-06-16T18:45:14.823Z"
   },
   {
    "duration": 5,
    "start_time": "2022-06-16T18:45:15.097Z"
   },
   {
    "duration": 32,
    "start_time": "2022-06-16T18:45:15.105Z"
   },
   {
    "duration": 12,
    "start_time": "2022-06-16T18:45:15.139Z"
   },
   {
    "duration": 21,
    "start_time": "2022-06-16T18:45:15.152Z"
   },
   {
    "duration": 9,
    "start_time": "2022-06-16T18:45:15.175Z"
   },
   {
    "duration": 17,
    "start_time": "2022-06-16T18:45:15.186Z"
   },
   {
    "duration": 11,
    "start_time": "2022-06-16T18:45:15.226Z"
   },
   {
    "duration": 15,
    "start_time": "2022-06-16T18:45:15.240Z"
   },
   {
    "duration": 224,
    "start_time": "2022-06-16T18:45:15.257Z"
   },
   {
    "duration": 5,
    "start_time": "2022-06-16T18:45:15.484Z"
   },
   {
    "duration": 77,
    "start_time": "2022-06-16T18:45:15.490Z"
   },
   {
    "duration": 16,
    "start_time": "2022-06-16T18:45:15.569Z"
   },
   {
    "duration": 7,
    "start_time": "2022-06-16T18:45:15.587Z"
   },
   {
    "duration": 235,
    "start_time": "2022-06-16T18:45:15.596Z"
   },
   {
    "duration": 125,
    "start_time": "2022-06-16T18:45:15.834Z"
   },
   {
    "duration": 0,
    "start_time": "2022-06-16T18:45:15.962Z"
   },
   {
    "duration": 0,
    "start_time": "2022-06-16T18:45:15.963Z"
   },
   {
    "duration": 0,
    "start_time": "2022-06-16T18:45:15.965Z"
   },
   {
    "duration": 0,
    "start_time": "2022-06-16T18:45:15.967Z"
   },
   {
    "duration": 0,
    "start_time": "2022-06-16T18:45:15.968Z"
   },
   {
    "duration": 0,
    "start_time": "2022-06-16T18:45:15.969Z"
   },
   {
    "duration": 0,
    "start_time": "2022-06-16T18:45:15.970Z"
   },
   {
    "duration": 0,
    "start_time": "2022-06-16T18:45:15.971Z"
   },
   {
    "duration": 0,
    "start_time": "2022-06-16T18:45:15.973Z"
   },
   {
    "duration": 0,
    "start_time": "2022-06-16T18:45:15.974Z"
   },
   {
    "duration": 0,
    "start_time": "2022-06-16T18:45:15.975Z"
   },
   {
    "duration": 0,
    "start_time": "2022-06-16T18:45:15.976Z"
   },
   {
    "duration": 0,
    "start_time": "2022-06-16T18:45:16.092Z"
   },
   {
    "duration": 0,
    "start_time": "2022-06-16T18:45:16.093Z"
   },
   {
    "duration": 0,
    "start_time": "2022-06-16T18:45:16.094Z"
   },
   {
    "duration": 0,
    "start_time": "2022-06-16T18:45:16.095Z"
   },
   {
    "duration": 0,
    "start_time": "2022-06-16T18:45:16.097Z"
   },
   {
    "duration": 0,
    "start_time": "2022-06-16T18:45:16.098Z"
   },
   {
    "duration": 4,
    "start_time": "2022-06-16T19:16:25.281Z"
   },
   {
    "duration": 248,
    "start_time": "2022-06-16T19:20:11.220Z"
   },
   {
    "duration": 12,
    "start_time": "2022-06-16T19:20:14.970Z"
   },
   {
    "duration": 37,
    "start_time": "2022-06-16T19:20:14.985Z"
   },
   {
    "duration": 31,
    "start_time": "2022-06-16T19:20:15.024Z"
   },
   {
    "duration": 19,
    "start_time": "2022-06-16T19:20:15.058Z"
   },
   {
    "duration": 24,
    "start_time": "2022-06-16T19:20:15.079Z"
   },
   {
    "duration": 14,
    "start_time": "2022-06-16T19:20:15.104Z"
   },
   {
    "duration": 15,
    "start_time": "2022-06-16T19:20:15.120Z"
   },
   {
    "duration": 18,
    "start_time": "2022-06-16T19:20:15.137Z"
   },
   {
    "duration": 11,
    "start_time": "2022-06-16T19:20:15.157Z"
   },
   {
    "duration": 10,
    "start_time": "2022-06-16T19:20:15.170Z"
   },
   {
    "duration": 21,
    "start_time": "2022-06-16T19:20:15.181Z"
   },
   {
    "duration": 23,
    "start_time": "2022-06-16T19:20:15.204Z"
   },
   {
    "duration": 30,
    "start_time": "2022-06-16T19:20:15.230Z"
   },
   {
    "duration": 9,
    "start_time": "2022-06-16T19:20:15.262Z"
   },
   {
    "duration": 10,
    "start_time": "2022-06-16T19:20:15.273Z"
   },
   {
    "duration": 12,
    "start_time": "2022-06-16T19:20:15.285Z"
   },
   {
    "duration": 29,
    "start_time": "2022-06-16T19:20:15.299Z"
   },
   {
    "duration": 24,
    "start_time": "2022-06-16T19:20:15.330Z"
   },
   {
    "duration": 1391,
    "start_time": "2022-06-17T07:23:58.250Z"
   },
   {
    "duration": 557,
    "start_time": "2022-06-17T07:23:59.643Z"
   },
   {
    "duration": 14,
    "start_time": "2022-06-17T07:24:00.201Z"
   },
   {
    "duration": 25,
    "start_time": "2022-06-17T07:24:00.217Z"
   },
   {
    "duration": 36,
    "start_time": "2022-06-17T07:24:00.243Z"
   },
   {
    "duration": 17,
    "start_time": "2022-06-17T07:24:00.281Z"
   },
   {
    "duration": 173,
    "start_time": "2022-06-17T07:24:00.300Z"
   },
   {
    "duration": 17,
    "start_time": "2022-06-17T07:24:00.474Z"
   },
   {
    "duration": 36,
    "start_time": "2022-06-17T07:24:00.493Z"
   },
   {
    "duration": 65,
    "start_time": "2022-06-17T07:24:00.533Z"
   },
   {
    "duration": 54,
    "start_time": "2022-06-17T07:24:00.600Z"
   },
   {
    "duration": 92,
    "start_time": "2022-06-17T07:24:00.656Z"
   },
   {
    "duration": 239,
    "start_time": "2022-06-17T07:24:00.750Z"
   },
   {
    "duration": 13,
    "start_time": "2022-06-17T07:24:00.991Z"
   },
   {
    "duration": 128,
    "start_time": "2022-06-17T07:24:01.006Z"
   },
   {
    "duration": 13,
    "start_time": "2022-06-17T07:24:01.136Z"
   },
   {
    "duration": 80,
    "start_time": "2022-06-17T07:24:01.151Z"
   },
   {
    "duration": 430,
    "start_time": "2022-06-17T07:24:01.233Z"
   },
   {
    "duration": 5,
    "start_time": "2022-06-17T07:24:01.665Z"
   },
   {
    "duration": 64,
    "start_time": "2022-06-17T07:24:01.672Z"
   },
   {
    "duration": 40,
    "start_time": "2022-06-17T07:24:01.738Z"
   },
   {
    "duration": 113,
    "start_time": "2022-06-17T07:24:01.780Z"
   },
   {
    "duration": 92,
    "start_time": "2022-06-17T07:24:01.895Z"
   },
   {
    "duration": 59,
    "start_time": "2022-06-17T07:24:01.989Z"
   },
   {
    "duration": 15,
    "start_time": "2022-06-17T07:24:02.049Z"
   },
   {
    "duration": 58,
    "start_time": "2022-06-17T07:24:02.066Z"
   },
   {
    "duration": 255,
    "start_time": "2022-06-17T07:24:02.126Z"
   },
   {
    "duration": 4,
    "start_time": "2022-06-17T07:24:02.385Z"
   },
   {
    "duration": 80,
    "start_time": "2022-06-17T07:24:02.390Z"
   },
   {
    "duration": 4,
    "start_time": "2022-06-17T07:24:02.472Z"
   },
   {
    "duration": 63,
    "start_time": "2022-06-17T07:24:02.478Z"
   },
   {
    "duration": 8,
    "start_time": "2022-06-17T07:24:02.542Z"
   },
   {
    "duration": 229,
    "start_time": "2022-06-17T07:24:02.552Z"
   },
   {
    "duration": 142,
    "start_time": "2022-06-17T07:24:02.782Z"
   },
   {
    "duration": 0,
    "start_time": "2022-06-17T07:24:02.926Z"
   },
   {
    "duration": 0,
    "start_time": "2022-06-17T07:24:02.928Z"
   },
   {
    "duration": 0,
    "start_time": "2022-06-17T07:24:02.929Z"
   },
   {
    "duration": 0,
    "start_time": "2022-06-17T07:24:02.931Z"
   },
   {
    "duration": 0,
    "start_time": "2022-06-17T07:24:02.932Z"
   },
   {
    "duration": 0,
    "start_time": "2022-06-17T07:24:02.934Z"
   },
   {
    "duration": 0,
    "start_time": "2022-06-17T07:24:02.936Z"
   },
   {
    "duration": 0,
    "start_time": "2022-06-17T07:24:02.937Z"
   },
   {
    "duration": 0,
    "start_time": "2022-06-17T07:24:02.939Z"
   },
   {
    "duration": 1,
    "start_time": "2022-06-17T07:24:02.940Z"
   },
   {
    "duration": 0,
    "start_time": "2022-06-17T07:24:02.942Z"
   },
   {
    "duration": 0,
    "start_time": "2022-06-17T07:24:02.944Z"
   },
   {
    "duration": 0,
    "start_time": "2022-06-17T07:24:02.945Z"
   },
   {
    "duration": 0,
    "start_time": "2022-06-17T07:24:02.947Z"
   },
   {
    "duration": 0,
    "start_time": "2022-06-17T07:24:02.949Z"
   },
   {
    "duration": 0,
    "start_time": "2022-06-17T07:24:02.950Z"
   },
   {
    "duration": 0,
    "start_time": "2022-06-17T07:24:02.951Z"
   },
   {
    "duration": 0,
    "start_time": "2022-06-17T07:24:02.952Z"
   },
   {
    "duration": 43,
    "start_time": "2022-06-17T07:45:57.409Z"
   },
   {
    "duration": 31,
    "start_time": "2022-06-17T08:16:56.998Z"
   },
   {
    "duration": 27,
    "start_time": "2022-06-17T08:17:14.792Z"
   },
   {
    "duration": 37,
    "start_time": "2022-06-17T08:20:17.755Z"
   },
   {
    "duration": 1090,
    "start_time": "2022-06-17T08:31:29.503Z"
   },
   {
    "duration": 784,
    "start_time": "2022-06-17T08:33:22.314Z"
   },
   {
    "duration": 1248,
    "start_time": "2022-06-17T09:17:34.151Z"
   },
   {
    "duration": 271,
    "start_time": "2022-06-17T09:30:00.480Z"
   },
   {
    "duration": 271,
    "start_time": "2022-06-17T09:41:53.084Z"
   },
   {
    "duration": 1190,
    "start_time": "2022-06-17T09:48:47.322Z"
   },
   {
    "duration": 981,
    "start_time": "2022-06-17T09:49:45.694Z"
   },
   {
    "duration": 268,
    "start_time": "2022-06-17T10:11:40.604Z"
   },
   {
    "duration": 1032,
    "start_time": "2022-06-17T10:26:41.730Z"
   },
   {
    "duration": 19,
    "start_time": "2022-06-17T10:28:44.267Z"
   },
   {
    "duration": 41,
    "start_time": "2022-06-17T10:29:32.785Z"
   },
   {
    "duration": 1145,
    "start_time": "2022-06-17T10:33:10.935Z"
   },
   {
    "duration": 16,
    "start_time": "2022-06-17T10:33:54.651Z"
   },
   {
    "duration": 16,
    "start_time": "2022-06-17T10:35:36.602Z"
   },
   {
    "duration": 8,
    "start_time": "2022-06-17T10:48:10.634Z"
   },
   {
    "duration": 424,
    "start_time": "2022-06-17T10:49:31.614Z"
   },
   {
    "duration": 7,
    "start_time": "2022-06-17T10:49:52.622Z"
   },
   {
    "duration": 6,
    "start_time": "2022-06-17T10:50:30.240Z"
   },
   {
    "duration": 10,
    "start_time": "2022-06-17T10:50:50.205Z"
   },
   {
    "duration": 7,
    "start_time": "2022-06-17T10:51:11.793Z"
   },
   {
    "duration": 8,
    "start_time": "2022-06-17T10:51:39.010Z"
   },
   {
    "duration": 16,
    "start_time": "2022-06-17T10:52:12.834Z"
   },
   {
    "duration": 11,
    "start_time": "2022-06-17T10:52:36.748Z"
   },
   {
    "duration": 12,
    "start_time": "2022-06-17T10:52:55.138Z"
   },
   {
    "duration": 24,
    "start_time": "2022-06-17T10:54:09.673Z"
   },
   {
    "duration": 7,
    "start_time": "2022-06-17T10:56:53.334Z"
   },
   {
    "duration": 13,
    "start_time": "2022-06-17T10:58:06.608Z"
   },
   {
    "duration": 6,
    "start_time": "2022-06-17T11:01:15.727Z"
   },
   {
    "duration": 14,
    "start_time": "2022-06-17T11:03:47.297Z"
   },
   {
    "duration": 16,
    "start_time": "2022-06-17T11:05:43.866Z"
   },
   {
    "duration": 30,
    "start_time": "2022-06-17T11:06:01.200Z"
   },
   {
    "duration": 6,
    "start_time": "2022-06-17T11:06:46.688Z"
   },
   {
    "duration": 20,
    "start_time": "2022-06-17T11:07:27.997Z"
   },
   {
    "duration": 14,
    "start_time": "2022-06-17T11:08:37.939Z"
   },
   {
    "duration": 40,
    "start_time": "2022-06-17T11:11:31.466Z"
   },
   {
    "duration": 44,
    "start_time": "2022-06-18T08:12:29.340Z"
   },
   {
    "duration": 1323,
    "start_time": "2022-06-18T08:12:46.418Z"
   },
   {
    "duration": 504,
    "start_time": "2022-06-18T08:12:47.743Z"
   },
   {
    "duration": 12,
    "start_time": "2022-06-18T08:12:48.249Z"
   },
   {
    "duration": 14,
    "start_time": "2022-06-18T08:12:48.264Z"
   },
   {
    "duration": 30,
    "start_time": "2022-06-18T08:12:48.280Z"
   },
   {
    "duration": 6,
    "start_time": "2022-06-18T08:12:48.311Z"
   },
   {
    "duration": 22,
    "start_time": "2022-06-18T08:12:48.318Z"
   },
   {
    "duration": 13,
    "start_time": "2022-06-18T08:12:48.342Z"
   },
   {
    "duration": 13,
    "start_time": "2022-06-18T08:12:48.357Z"
   },
   {
    "duration": 64,
    "start_time": "2022-06-18T08:12:52.394Z"
   },
   {
    "duration": 9,
    "start_time": "2022-06-18T08:13:05.436Z"
   },
   {
    "duration": 9,
    "start_time": "2022-06-18T08:13:45.613Z"
   },
   {
    "duration": 15,
    "start_time": "2022-06-18T08:14:54.123Z"
   },
   {
    "duration": 14,
    "start_time": "2022-06-18T08:21:41.831Z"
   },
   {
    "duration": 5,
    "start_time": "2022-06-18T08:23:15.324Z"
   },
   {
    "duration": 7,
    "start_time": "2022-06-18T08:24:01.328Z"
   },
   {
    "duration": 8,
    "start_time": "2022-06-18T08:26:07.181Z"
   },
   {
    "duration": 413,
    "start_time": "2022-06-18T08:26:30.824Z"
   },
   {
    "duration": 5,
    "start_time": "2022-06-18T08:26:38.401Z"
   },
   {
    "duration": 4,
    "start_time": "2022-06-18T08:34:04.096Z"
   },
   {
    "duration": 7,
    "start_time": "2022-06-18T08:34:06.844Z"
   },
   {
    "duration": 9,
    "start_time": "2022-06-18T08:38:09.909Z"
   },
   {
    "duration": 15,
    "start_time": "2022-06-18T08:38:55.292Z"
   },
   {
    "duration": 15,
    "start_time": "2022-06-18T08:40:40.669Z"
   },
   {
    "duration": 14,
    "start_time": "2022-06-18T08:40:54.111Z"
   },
   {
    "duration": 13,
    "start_time": "2022-06-18T08:41:08.244Z"
   },
   {
    "duration": 11,
    "start_time": "2022-06-18T08:47:37.120Z"
   },
   {
    "duration": 2,
    "start_time": "2022-06-18T08:47:41.662Z"
   },
   {
    "duration": 73,
    "start_time": "2022-06-18T08:47:41.666Z"
   },
   {
    "duration": 8,
    "start_time": "2022-06-18T08:47:41.741Z"
   },
   {
    "duration": 14,
    "start_time": "2022-06-18T08:47:41.750Z"
   },
   {
    "duration": 17,
    "start_time": "2022-06-18T08:47:41.765Z"
   },
   {
    "duration": 5,
    "start_time": "2022-06-18T08:47:41.784Z"
   },
   {
    "duration": 15,
    "start_time": "2022-06-18T08:47:41.791Z"
   },
   {
    "duration": 26,
    "start_time": "2022-06-18T08:47:41.808Z"
   },
   {
    "duration": 24,
    "start_time": "2022-06-18T08:47:41.835Z"
   },
   {
    "duration": 4,
    "start_time": "2022-06-18T08:47:41.861Z"
   },
   {
    "duration": 15,
    "start_time": "2022-06-18T08:47:41.867Z"
   },
   {
    "duration": 7,
    "start_time": "2022-06-18T08:47:41.883Z"
   },
   {
    "duration": 13,
    "start_time": "2022-06-18T08:47:41.892Z"
   },
   {
    "duration": 11,
    "start_time": "2022-06-18T08:47:41.907Z"
   },
   {
    "duration": 14,
    "start_time": "2022-06-18T08:47:41.920Z"
   },
   {
    "duration": 28,
    "start_time": "2022-06-18T08:47:41.935Z"
   },
   {
    "duration": 162,
    "start_time": "2022-06-18T08:47:41.965Z"
   },
   {
    "duration": 14,
    "start_time": "2022-06-18T08:47:42.129Z"
   },
   {
    "duration": 8,
    "start_time": "2022-06-18T08:47:42.145Z"
   },
   {
    "duration": 18,
    "start_time": "2022-06-18T08:47:42.159Z"
   },
   {
    "duration": 13,
    "start_time": "2022-06-18T08:47:42.179Z"
   },
   {
    "duration": 13,
    "start_time": "2022-06-18T08:47:42.193Z"
   },
   {
    "duration": 63,
    "start_time": "2022-06-18T08:47:42.207Z"
   },
   {
    "duration": 9,
    "start_time": "2022-06-18T08:47:47.901Z"
   },
   {
    "duration": 8,
    "start_time": "2022-06-18T09:08:37.721Z"
   },
   {
    "duration": 12,
    "start_time": "2022-06-18T09:08:40.216Z"
   },
   {
    "duration": 13,
    "start_time": "2022-06-18T09:09:12.750Z"
   },
   {
    "duration": 13,
    "start_time": "2022-06-18T09:11:38.765Z"
   },
   {
    "duration": 29,
    "start_time": "2022-06-18T09:12:43.480Z"
   },
   {
    "duration": 14,
    "start_time": "2022-06-18T09:13:27.448Z"
   },
   {
    "duration": 15,
    "start_time": "2022-06-18T09:14:41.156Z"
   },
   {
    "duration": 233,
    "start_time": "2022-06-18T09:14:56.312Z"
   },
   {
    "duration": 51,
    "start_time": "2022-06-18T09:18:42.000Z"
   },
   {
    "duration": 12,
    "start_time": "2022-06-18T09:21:23.480Z"
   },
   {
    "duration": 11,
    "start_time": "2022-06-18T09:21:52.887Z"
   },
   {
    "duration": 49,
    "start_time": "2022-06-18T09:21:58.397Z"
   },
   {
    "duration": 128,
    "start_time": "2022-06-18T09:23:42.946Z"
   },
   {
    "duration": 48,
    "start_time": "2022-06-18T09:24:06.816Z"
   },
   {
    "duration": 4,
    "start_time": "2022-06-18T09:24:12.501Z"
   },
   {
    "duration": 86,
    "start_time": "2022-06-18T09:24:12.509Z"
   },
   {
    "duration": 9,
    "start_time": "2022-06-18T09:24:12.596Z"
   },
   {
    "duration": 26,
    "start_time": "2022-06-18T09:24:12.606Z"
   },
   {
    "duration": 28,
    "start_time": "2022-06-18T09:24:12.634Z"
   },
   {
    "duration": 6,
    "start_time": "2022-06-18T09:24:12.664Z"
   },
   {
    "duration": 13,
    "start_time": "2022-06-18T09:24:12.672Z"
   },
   {
    "duration": 20,
    "start_time": "2022-06-18T09:24:12.686Z"
   },
   {
    "duration": 14,
    "start_time": "2022-06-18T09:24:12.708Z"
   },
   {
    "duration": 4,
    "start_time": "2022-06-18T09:24:12.724Z"
   },
   {
    "duration": 6,
    "start_time": "2022-06-18T09:24:12.760Z"
   },
   {
    "duration": 14,
    "start_time": "2022-06-18T09:24:12.768Z"
   },
   {
    "duration": 8,
    "start_time": "2022-06-18T09:24:12.783Z"
   },
   {
    "duration": 14,
    "start_time": "2022-06-18T09:24:12.793Z"
   },
   {
    "duration": 9,
    "start_time": "2022-06-18T09:24:12.808Z"
   },
   {
    "duration": 18,
    "start_time": "2022-06-18T09:24:12.818Z"
   },
   {
    "duration": 20,
    "start_time": "2022-06-18T09:24:12.838Z"
   },
   {
    "duration": 14,
    "start_time": "2022-06-18T09:24:12.860Z"
   },
   {
    "duration": 9,
    "start_time": "2022-06-18T09:24:12.875Z"
   },
   {
    "duration": 11,
    "start_time": "2022-06-18T09:24:12.885Z"
   },
   {
    "duration": 13,
    "start_time": "2022-06-18T09:24:12.897Z"
   },
   {
    "duration": 8,
    "start_time": "2022-06-18T09:24:12.911Z"
   },
   {
    "duration": 51,
    "start_time": "2022-06-18T09:24:12.921Z"
   },
   {
    "duration": 8,
    "start_time": "2022-06-18T09:24:12.974Z"
   },
   {
    "duration": 15,
    "start_time": "2022-06-18T09:24:12.983Z"
   },
   {
    "duration": 70,
    "start_time": "2022-06-18T09:24:13.001Z"
   },
   {
    "duration": 113,
    "start_time": "2022-06-18T09:24:13.073Z"
   },
   {
    "duration": 12,
    "start_time": "2022-06-18T09:24:13.187Z"
   },
   {
    "duration": 9,
    "start_time": "2022-06-18T09:24:13.201Z"
   },
   {
    "duration": 181,
    "start_time": "2022-06-18T09:24:13.212Z"
   },
   {
    "duration": 4,
    "start_time": "2022-06-18T09:24:13.394Z"
   },
   {
    "duration": 16,
    "start_time": "2022-06-18T09:24:13.399Z"
   },
   {
    "duration": 9,
    "start_time": "2022-06-18T09:24:13.417Z"
   },
   {
    "duration": 29,
    "start_time": "2022-06-18T09:26:00.049Z"
   },
   {
    "duration": 8,
    "start_time": "2022-06-18T09:27:20.077Z"
   },
   {
    "duration": 109,
    "start_time": "2022-06-18T09:40:09.720Z"
   },
   {
    "duration": 195,
    "start_time": "2022-06-18T09:41:16.457Z"
   },
   {
    "duration": 217,
    "start_time": "2022-06-18T09:42:01.951Z"
   },
   {
    "duration": 47,
    "start_time": "2022-06-18T10:01:55.169Z"
   },
   {
    "duration": 32,
    "start_time": "2022-06-18T10:03:21.939Z"
   },
   {
    "duration": 15,
    "start_time": "2022-06-18T10:03:43.579Z"
   },
   {
    "duration": 21,
    "start_time": "2022-06-18T10:05:42.169Z"
   },
   {
    "duration": 20,
    "start_time": "2022-06-18T10:06:12.692Z"
   },
   {
    "duration": 20,
    "start_time": "2022-06-18T10:06:51.888Z"
   },
   {
    "duration": 51,
    "start_time": "2022-06-18T10:07:29.404Z"
   },
   {
    "duration": 28,
    "start_time": "2022-06-18T10:14:28.345Z"
   },
   {
    "duration": 46,
    "start_time": "2022-06-18T10:14:48.480Z"
   },
   {
    "duration": 12,
    "start_time": "2022-06-18T10:15:57.842Z"
   },
   {
    "duration": 47,
    "start_time": "2022-06-18T10:16:30.137Z"
   },
   {
    "duration": 47,
    "start_time": "2022-06-18T10:19:24.567Z"
   },
   {
    "duration": 10,
    "start_time": "2022-06-18T10:30:55.685Z"
   },
   {
    "duration": 3,
    "start_time": "2022-06-18T10:31:00.273Z"
   },
   {
    "duration": 97,
    "start_time": "2022-06-18T10:31:00.279Z"
   },
   {
    "duration": 9,
    "start_time": "2022-06-18T10:31:00.377Z"
   },
   {
    "duration": 23,
    "start_time": "2022-06-18T10:31:00.388Z"
   },
   {
    "duration": 22,
    "start_time": "2022-06-18T10:31:00.413Z"
   },
   {
    "duration": 26,
    "start_time": "2022-06-18T10:31:00.437Z"
   },
   {
    "duration": 16,
    "start_time": "2022-06-18T10:31:00.465Z"
   },
   {
    "duration": 28,
    "start_time": "2022-06-18T10:31:00.483Z"
   },
   {
    "duration": 15,
    "start_time": "2022-06-18T10:31:00.512Z"
   },
   {
    "duration": 19,
    "start_time": "2022-06-18T10:31:00.528Z"
   },
   {
    "duration": 28,
    "start_time": "2022-06-18T10:31:00.549Z"
   },
   {
    "duration": 13,
    "start_time": "2022-06-18T10:31:00.578Z"
   },
   {
    "duration": 12,
    "start_time": "2022-06-18T10:31:00.592Z"
   },
   {
    "duration": 12,
    "start_time": "2022-06-18T10:31:00.605Z"
   },
   {
    "duration": 24,
    "start_time": "2022-06-18T10:31:00.618Z"
   },
   {
    "duration": 25,
    "start_time": "2022-06-18T10:31:00.644Z"
   },
   {
    "duration": 21,
    "start_time": "2022-06-18T10:31:00.671Z"
   },
   {
    "duration": 18,
    "start_time": "2022-06-18T10:31:00.694Z"
   },
   {
    "duration": 12,
    "start_time": "2022-06-18T10:31:00.713Z"
   },
   {
    "duration": 33,
    "start_time": "2022-06-18T10:31:00.726Z"
   },
   {
    "duration": 14,
    "start_time": "2022-06-18T10:31:00.761Z"
   },
   {
    "duration": 12,
    "start_time": "2022-06-18T10:31:00.778Z"
   },
   {
    "duration": 26,
    "start_time": "2022-06-18T10:31:00.792Z"
   },
   {
    "duration": 16,
    "start_time": "2022-06-18T10:31:00.820Z"
   },
   {
    "duration": 34,
    "start_time": "2022-06-18T10:31:00.838Z"
   },
   {
    "duration": 63,
    "start_time": "2022-06-18T10:31:00.874Z"
   },
   {
    "duration": 114,
    "start_time": "2022-06-18T10:31:00.938Z"
   },
   {
    "duration": 18,
    "start_time": "2022-06-18T10:31:01.053Z"
   },
   {
    "duration": 12,
    "start_time": "2022-06-18T10:31:01.074Z"
   },
   {
    "duration": 200,
    "start_time": "2022-06-18T10:31:01.088Z"
   },
   {
    "duration": 5,
    "start_time": "2022-06-18T10:31:01.290Z"
   },
   {
    "duration": 20,
    "start_time": "2022-06-18T10:31:01.297Z"
   },
   {
    "duration": 119,
    "start_time": "2022-06-18T10:31:01.319Z"
   },
   {
    "duration": 19,
    "start_time": "2022-06-18T10:31:01.440Z"
   },
   {
    "duration": 9,
    "start_time": "2022-06-18T10:31:01.461Z"
   },
   {
    "duration": 9,
    "start_time": "2022-06-18T10:31:05.152Z"
   },
   {
    "duration": 16,
    "start_time": "2022-06-18T10:31:10.716Z"
   },
   {
    "duration": 15,
    "start_time": "2022-06-18T10:31:20.337Z"
   },
   {
    "duration": 13,
    "start_time": "2022-06-18T10:31:22.170Z"
   },
   {
    "duration": 27,
    "start_time": "2022-06-18T10:51:18.494Z"
   },
   {
    "duration": 9,
    "start_time": "2022-06-18T10:51:31.252Z"
   },
   {
    "duration": 12,
    "start_time": "2022-06-18T10:52:05.985Z"
   },
   {
    "duration": 30,
    "start_time": "2022-06-18T10:56:40.793Z"
   },
   {
    "duration": 13,
    "start_time": "2022-06-18T10:56:51.411Z"
   },
   {
    "duration": 20,
    "start_time": "2022-06-18T10:58:59.033Z"
   },
   {
    "duration": 11,
    "start_time": "2022-06-18T10:59:21.601Z"
   },
   {
    "duration": 16,
    "start_time": "2022-06-18T11:01:03.397Z"
   },
   {
    "duration": 20,
    "start_time": "2022-06-18T11:01:54.607Z"
   },
   {
    "duration": 13,
    "start_time": "2022-06-18T11:02:14.456Z"
   },
   {
    "duration": 16,
    "start_time": "2022-06-18T11:03:06.518Z"
   },
   {
    "duration": 19,
    "start_time": "2022-06-18T11:05:52.368Z"
   },
   {
    "duration": 21,
    "start_time": "2022-06-18T11:06:18.632Z"
   },
   {
    "duration": 16,
    "start_time": "2022-06-18T11:07:06.645Z"
   },
   {
    "duration": 349,
    "start_time": "2022-06-18T11:11:28.252Z"
   },
   {
    "duration": 16,
    "start_time": "2022-06-18T11:11:58.547Z"
   },
   {
    "duration": 1470,
    "start_time": "2022-06-19T14:43:24.249Z"
   },
   {
    "duration": 859,
    "start_time": "2022-06-19T14:45:35.272Z"
   },
   {
    "duration": 16,
    "start_time": "2022-06-19T14:50:03.917Z"
   },
   {
    "duration": 76,
    "start_time": "2022-06-19T14:51:32.268Z"
   },
   {
    "duration": 8,
    "start_time": "2022-06-19T14:52:05.757Z"
   },
   {
    "duration": 14,
    "start_time": "2022-06-19T14:59:08.066Z"
   },
   {
    "duration": 21,
    "start_time": "2022-06-19T14:59:27.564Z"
   },
   {
    "duration": 10,
    "start_time": "2022-06-19T14:59:52.863Z"
   },
   {
    "duration": 10,
    "start_time": "2022-06-19T15:00:06.116Z"
   },
   {
    "duration": 13,
    "start_time": "2022-06-19T15:00:09.120Z"
   },
   {
    "duration": 12,
    "start_time": "2022-06-19T15:00:12.356Z"
   },
   {
    "duration": 8,
    "start_time": "2022-06-19T15:00:15.111Z"
   },
   {
    "duration": 9,
    "start_time": "2022-06-19T15:00:17.967Z"
   },
   {
    "duration": 8,
    "start_time": "2022-06-19T15:00:20.804Z"
   },
   {
    "duration": 9,
    "start_time": "2022-06-19T15:00:23.316Z"
   },
   {
    "duration": 8,
    "start_time": "2022-06-19T15:00:25.749Z"
   },
   {
    "duration": 9,
    "start_time": "2022-06-19T15:02:21.175Z"
   },
   {
    "duration": 11,
    "start_time": "2022-06-19T15:02:33.499Z"
   },
   {
    "duration": 8,
    "start_time": "2022-06-19T15:02:35.804Z"
   },
   {
    "duration": 24,
    "start_time": "2022-06-19T15:02:40.063Z"
   },
   {
    "duration": 1056,
    "start_time": "2022-06-19T15:03:13.422Z"
   },
   {
    "duration": 126,
    "start_time": "2022-06-19T15:03:14.480Z"
   },
   {
    "duration": 12,
    "start_time": "2022-06-19T15:03:14.607Z"
   },
   {
    "duration": 19,
    "start_time": "2022-06-19T15:03:14.621Z"
   },
   {
    "duration": 19,
    "start_time": "2022-06-19T15:03:14.642Z"
   },
   {
    "duration": 6,
    "start_time": "2022-06-19T15:03:14.663Z"
   },
   {
    "duration": 16,
    "start_time": "2022-06-19T15:03:14.670Z"
   },
   {
    "duration": 14,
    "start_time": "2022-06-19T15:03:14.688Z"
   },
   {
    "duration": 46,
    "start_time": "2022-06-19T15:03:14.705Z"
   },
   {
    "duration": 11,
    "start_time": "2022-06-19T15:03:14.753Z"
   },
   {
    "duration": 10,
    "start_time": "2022-06-19T15:03:14.766Z"
   },
   {
    "duration": 7,
    "start_time": "2022-06-19T15:03:14.778Z"
   },
   {
    "duration": 7,
    "start_time": "2022-06-19T15:03:14.787Z"
   },
   {
    "duration": 6,
    "start_time": "2022-06-19T15:03:14.797Z"
   },
   {
    "duration": 8,
    "start_time": "2022-06-19T15:03:14.804Z"
   },
   {
    "duration": 42,
    "start_time": "2022-06-19T15:03:14.814Z"
   },
   {
    "duration": 158,
    "start_time": "2022-06-19T15:03:14.858Z"
   },
   {
    "duration": 16,
    "start_time": "2022-06-19T15:03:15.018Z"
   },
   {
    "duration": 10,
    "start_time": "2022-06-19T15:03:15.041Z"
   },
   {
    "duration": 13,
    "start_time": "2022-06-19T15:03:15.053Z"
   },
   {
    "duration": 14,
    "start_time": "2022-06-19T15:03:15.068Z"
   },
   {
    "duration": 64,
    "start_time": "2022-06-19T15:03:15.084Z"
   },
   {
    "duration": 14,
    "start_time": "2022-06-19T15:03:15.150Z"
   },
   {
    "duration": 9,
    "start_time": "2022-06-19T15:03:15.166Z"
   },
   {
    "duration": 16,
    "start_time": "2022-06-19T15:03:15.177Z"
   },
   {
    "duration": 376,
    "start_time": "2022-06-19T15:03:15.194Z"
   },
   {
    "duration": 114,
    "start_time": "2022-06-19T15:03:15.572Z"
   },
   {
    "duration": 14,
    "start_time": "2022-06-19T15:03:15.688Z"
   },
   {
    "duration": 12,
    "start_time": "2022-06-19T15:03:15.704Z"
   },
   {
    "duration": 211,
    "start_time": "2022-06-19T15:03:15.717Z"
   },
   {
    "duration": 11,
    "start_time": "2022-06-19T15:03:15.930Z"
   },
   {
    "duration": 16,
    "start_time": "2022-06-19T15:03:15.943Z"
   },
   {
    "duration": 13,
    "start_time": "2022-06-19T15:03:15.961Z"
   },
   {
    "duration": 9,
    "start_time": "2022-06-19T15:03:15.976Z"
   },
   {
    "duration": 12,
    "start_time": "2022-06-19T15:03:15.987Z"
   },
   {
    "duration": 43,
    "start_time": "2022-06-19T15:03:16.001Z"
   },
   {
    "duration": 17,
    "start_time": "2022-06-19T15:03:16.046Z"
   },
   {
    "duration": 14,
    "start_time": "2022-06-19T15:03:16.065Z"
   },
   {
    "duration": 215,
    "start_time": "2022-06-19T15:03:16.080Z"
   },
   {
    "duration": 4,
    "start_time": "2022-06-19T15:03:16.297Z"
   },
   {
    "duration": 60,
    "start_time": "2022-06-19T15:03:16.305Z"
   },
   {
    "duration": 4,
    "start_time": "2022-06-19T15:03:16.366Z"
   },
   {
    "duration": 20,
    "start_time": "2022-06-19T15:03:16.372Z"
   },
   {
    "duration": 7,
    "start_time": "2022-06-19T15:03:16.393Z"
   },
   {
    "duration": 210,
    "start_time": "2022-06-19T15:03:16.401Z"
   },
   {
    "duration": 1497,
    "start_time": "2022-06-19T15:03:16.613Z"
   },
   {
    "duration": 13,
    "start_time": "2022-06-19T15:03:18.112Z"
   },
   {
    "duration": 15,
    "start_time": "2022-06-19T15:03:18.126Z"
   },
   {
    "duration": 13,
    "start_time": "2022-06-19T15:03:18.143Z"
   },
   {
    "duration": 13,
    "start_time": "2022-06-19T15:03:18.164Z"
   },
   {
    "duration": 14,
    "start_time": "2022-06-19T15:03:18.179Z"
   },
   {
    "duration": 19,
    "start_time": "2022-06-19T15:03:18.195Z"
   },
   {
    "duration": 28,
    "start_time": "2022-06-19T15:03:18.216Z"
   },
   {
    "duration": 12,
    "start_time": "2022-06-19T15:03:18.247Z"
   },
   {
    "duration": 12,
    "start_time": "2022-06-19T15:03:18.261Z"
   },
   {
    "duration": 14,
    "start_time": "2022-06-19T15:03:18.275Z"
   },
   {
    "duration": 17,
    "start_time": "2022-06-19T15:03:18.291Z"
   },
   {
    "duration": 14,
    "start_time": "2022-06-19T15:03:18.310Z"
   },
   {
    "duration": 22,
    "start_time": "2022-06-19T15:03:18.326Z"
   },
   {
    "duration": 18,
    "start_time": "2022-06-19T15:03:18.351Z"
   },
   {
    "duration": 8,
    "start_time": "2022-06-19T15:03:18.371Z"
   },
   {
    "duration": 18,
    "start_time": "2022-06-19T15:03:18.381Z"
   },
   {
    "duration": 8,
    "start_time": "2022-06-19T15:03:18.401Z"
   },
   {
    "duration": 6,
    "start_time": "2022-06-19T15:03:18.441Z"
   },
   {
    "duration": 15,
    "start_time": "2022-06-19T15:03:18.449Z"
   },
   {
    "duration": 8,
    "start_time": "2022-06-19T15:03:18.466Z"
   },
   {
    "duration": 7,
    "start_time": "2022-06-19T15:03:18.476Z"
   },
   {
    "duration": 16,
    "start_time": "2022-06-19T15:05:52.859Z"
   },
   {
    "duration": 97,
    "start_time": "2022-06-19T15:09:48.304Z"
   },
   {
    "duration": 3,
    "start_time": "2022-06-19T15:10:04.551Z"
   },
   {
    "duration": 117,
    "start_time": "2022-06-19T15:10:04.556Z"
   },
   {
    "duration": 13,
    "start_time": "2022-06-19T15:10:04.675Z"
   },
   {
    "duration": 16,
    "start_time": "2022-06-19T15:10:04.690Z"
   },
   {
    "duration": 37,
    "start_time": "2022-06-19T15:10:04.708Z"
   },
   {
    "duration": 12,
    "start_time": "2022-06-19T15:10:04.747Z"
   },
   {
    "duration": 22,
    "start_time": "2022-06-19T15:10:04.761Z"
   },
   {
    "duration": 19,
    "start_time": "2022-06-19T15:10:04.785Z"
   },
   {
    "duration": 47,
    "start_time": "2022-06-19T15:10:04.806Z"
   },
   {
    "duration": 5,
    "start_time": "2022-06-19T15:10:04.855Z"
   },
   {
    "duration": 11,
    "start_time": "2022-06-19T15:10:04.863Z"
   },
   {
    "duration": 9,
    "start_time": "2022-06-19T15:10:04.876Z"
   },
   {
    "duration": 15,
    "start_time": "2022-06-19T15:10:04.887Z"
   },
   {
    "duration": 10,
    "start_time": "2022-06-19T15:10:04.904Z"
   },
   {
    "duration": 11,
    "start_time": "2022-06-19T15:10:04.916Z"
   },
   {
    "duration": 32,
    "start_time": "2022-06-19T15:10:04.929Z"
   },
   {
    "duration": 10,
    "start_time": "2022-06-19T15:10:04.964Z"
   },
   {
    "duration": 18,
    "start_time": "2022-06-19T15:10:04.977Z"
   },
   {
    "duration": 9,
    "start_time": "2022-06-19T15:10:04.997Z"
   },
   {
    "duration": 42,
    "start_time": "2022-06-19T15:10:05.008Z"
   },
   {
    "duration": 13,
    "start_time": "2022-06-19T15:10:05.051Z"
   },
   {
    "duration": 9,
    "start_time": "2022-06-19T15:10:05.066Z"
   },
   {
    "duration": 13,
    "start_time": "2022-06-19T15:10:05.076Z"
   },
   {
    "duration": 9,
    "start_time": "2022-06-19T15:10:05.091Z"
   },
   {
    "duration": 48,
    "start_time": "2022-06-19T15:10:05.102Z"
   },
   {
    "duration": 49,
    "start_time": "2022-06-19T15:10:05.151Z"
   },
   {
    "duration": 121,
    "start_time": "2022-06-19T15:10:05.202Z"
   },
   {
    "duration": 24,
    "start_time": "2022-06-19T15:10:05.325Z"
   },
   {
    "duration": 12,
    "start_time": "2022-06-19T15:10:05.352Z"
   },
   {
    "duration": 180,
    "start_time": "2022-06-19T15:10:05.366Z"
   },
   {
    "duration": 5,
    "start_time": "2022-06-19T15:10:05.547Z"
   },
   {
    "duration": 18,
    "start_time": "2022-06-19T15:10:05.554Z"
   },
   {
    "duration": 20,
    "start_time": "2022-06-19T15:10:05.573Z"
   },
   {
    "duration": 11,
    "start_time": "2022-06-19T15:10:05.594Z"
   },
   {
    "duration": 41,
    "start_time": "2022-06-19T15:10:05.607Z"
   },
   {
    "duration": 13,
    "start_time": "2022-06-19T15:10:05.650Z"
   },
   {
    "duration": 18,
    "start_time": "2022-06-19T15:10:46.163Z"
   },
   {
    "duration": 16,
    "start_time": "2022-06-19T15:11:36.634Z"
   },
   {
    "duration": 15,
    "start_time": "2022-06-19T15:12:53.255Z"
   },
   {
    "duration": 14,
    "start_time": "2022-06-19T15:13:18.255Z"
   },
   {
    "duration": 18,
    "start_time": "2022-06-19T15:14:25.503Z"
   },
   {
    "duration": 17,
    "start_time": "2022-06-19T15:15:48.076Z"
   },
   {
    "duration": 18,
    "start_time": "2022-06-19T15:23:21.962Z"
   },
   {
    "duration": 18,
    "start_time": "2022-06-19T15:24:15.897Z"
   },
   {
    "duration": 17,
    "start_time": "2022-06-19T15:29:44.656Z"
   },
   {
    "duration": 18,
    "start_time": "2022-06-19T15:30:23.786Z"
   },
   {
    "duration": 20,
    "start_time": "2022-06-19T15:32:01.216Z"
   },
   {
    "duration": 16,
    "start_time": "2022-06-19T15:32:12.796Z"
   },
   {
    "duration": 15,
    "start_time": "2022-06-19T15:33:31.646Z"
   },
   {
    "duration": 15,
    "start_time": "2022-06-19T15:34:12.747Z"
   },
   {
    "duration": 20,
    "start_time": "2022-06-19T15:34:39.962Z"
   },
   {
    "duration": 19,
    "start_time": "2022-06-19T15:36:39.558Z"
   },
   {
    "duration": 111,
    "start_time": "2022-06-19T15:40:48.755Z"
   },
   {
    "duration": 32,
    "start_time": "2022-06-19T15:41:02.407Z"
   },
   {
    "duration": 3,
    "start_time": "2022-06-19T15:42:17.553Z"
   },
   {
    "duration": 98,
    "start_time": "2022-06-19T15:42:17.559Z"
   },
   {
    "duration": 11,
    "start_time": "2022-06-19T15:42:17.659Z"
   },
   {
    "duration": 16,
    "start_time": "2022-06-19T15:42:17.672Z"
   },
   {
    "duration": 24,
    "start_time": "2022-06-19T15:42:17.690Z"
   },
   {
    "duration": 6,
    "start_time": "2022-06-19T15:42:17.742Z"
   },
   {
    "duration": 15,
    "start_time": "2022-06-19T15:42:17.749Z"
   },
   {
    "duration": 17,
    "start_time": "2022-06-19T15:42:17.766Z"
   },
   {
    "duration": 21,
    "start_time": "2022-06-19T15:42:17.785Z"
   },
   {
    "duration": 5,
    "start_time": "2022-06-19T15:42:17.808Z"
   },
   {
    "duration": 31,
    "start_time": "2022-06-19T15:42:17.815Z"
   },
   {
    "duration": 11,
    "start_time": "2022-06-19T15:42:17.847Z"
   },
   {
    "duration": 13,
    "start_time": "2022-06-19T15:42:17.860Z"
   },
   {
    "duration": 9,
    "start_time": "2022-06-19T15:42:17.875Z"
   },
   {
    "duration": 10,
    "start_time": "2022-06-19T15:42:17.886Z"
   },
   {
    "duration": 19,
    "start_time": "2022-06-19T15:42:17.898Z"
   },
   {
    "duration": 32,
    "start_time": "2022-06-19T15:42:17.918Z"
   },
   {
    "duration": 16,
    "start_time": "2022-06-19T15:42:17.952Z"
   },
   {
    "duration": 9,
    "start_time": "2022-06-19T15:42:17.970Z"
   },
   {
    "duration": 15,
    "start_time": "2022-06-19T15:42:17.981Z"
   },
   {
    "duration": 46,
    "start_time": "2022-06-19T15:42:17.997Z"
   },
   {
    "duration": 10,
    "start_time": "2022-06-19T15:42:18.044Z"
   },
   {
    "duration": 25,
    "start_time": "2022-06-19T15:42:18.056Z"
   },
   {
    "duration": 11,
    "start_time": "2022-06-19T15:42:18.083Z"
   },
   {
    "duration": 15,
    "start_time": "2022-06-19T15:42:18.097Z"
   },
   {
    "duration": 77,
    "start_time": "2022-06-19T15:42:18.114Z"
   },
   {
    "duration": 130,
    "start_time": "2022-06-19T15:42:18.194Z"
   },
   {
    "duration": 24,
    "start_time": "2022-06-19T15:42:18.326Z"
   },
   {
    "duration": 13,
    "start_time": "2022-06-19T15:42:18.354Z"
   },
   {
    "duration": 193,
    "start_time": "2022-06-19T15:42:18.369Z"
   },
   {
    "duration": 4,
    "start_time": "2022-06-19T15:42:18.564Z"
   },
   {
    "duration": 20,
    "start_time": "2022-06-19T15:42:18.570Z"
   },
   {
    "duration": 16,
    "start_time": "2022-06-19T15:42:18.591Z"
   },
   {
    "duration": 9,
    "start_time": "2022-06-19T15:42:18.609Z"
   },
   {
    "duration": 32,
    "start_time": "2022-06-19T15:42:18.620Z"
   },
   {
    "duration": 9,
    "start_time": "2022-06-19T15:42:18.654Z"
   },
   {
    "duration": 32,
    "start_time": "2022-06-19T15:42:22.264Z"
   },
   {
    "duration": 15,
    "start_time": "2022-06-19T15:44:10.357Z"
   },
   {
    "duration": 31,
    "start_time": "2022-06-19T15:45:25.006Z"
   },
   {
    "duration": 15,
    "start_time": "2022-06-19T16:07:04.588Z"
   },
   {
    "duration": 40,
    "start_time": "2022-06-19T16:07:59.592Z"
   },
   {
    "duration": 18,
    "start_time": "2022-06-19T16:08:09.368Z"
   },
   {
    "duration": 23,
    "start_time": "2022-06-19T16:08:23.863Z"
   },
   {
    "duration": 21,
    "start_time": "2022-06-19T16:09:58.606Z"
   },
   {
    "duration": 32,
    "start_time": "2022-06-19T16:10:59.507Z"
   },
   {
    "duration": 22,
    "start_time": "2022-06-19T16:11:45.900Z"
   },
   {
    "duration": 14,
    "start_time": "2022-06-19T16:37:32.758Z"
   },
   {
    "duration": 11,
    "start_time": "2022-06-19T16:37:48.978Z"
   },
   {
    "duration": 57,
    "start_time": "2022-06-19T16:39:23.314Z"
   },
   {
    "duration": 59,
    "start_time": "2022-06-19T16:39:49.405Z"
   },
   {
    "duration": 45,
    "start_time": "2022-06-19T16:40:12.580Z"
   },
   {
    "duration": 62,
    "start_time": "2022-06-19T16:40:37.552Z"
   },
   {
    "duration": 45,
    "start_time": "2022-06-19T16:41:13.696Z"
   },
   {
    "duration": 22,
    "start_time": "2022-06-19T16:42:35.723Z"
   },
   {
    "duration": 12,
    "start_time": "2022-06-19T16:42:51.164Z"
   },
   {
    "duration": 35,
    "start_time": "2022-06-19T16:43:47.153Z"
   },
   {
    "duration": 45,
    "start_time": "2022-06-19T16:45:59.481Z"
   },
   {
    "duration": 46,
    "start_time": "2022-06-19T16:47:37.504Z"
   },
   {
    "duration": 54,
    "start_time": "2022-06-20T04:16:26.818Z"
   },
   {
    "duration": 1566,
    "start_time": "2022-06-20T04:16:33.648Z"
   },
   {
    "duration": 322,
    "start_time": "2022-06-20T04:16:35.216Z"
   },
   {
    "duration": 14,
    "start_time": "2022-06-20T04:16:35.540Z"
   },
   {
    "duration": 16,
    "start_time": "2022-06-20T04:16:35.557Z"
   },
   {
    "duration": 20,
    "start_time": "2022-06-20T04:16:35.575Z"
   },
   {
    "duration": 6,
    "start_time": "2022-06-20T04:16:35.597Z"
   },
   {
    "duration": 43,
    "start_time": "2022-06-20T04:16:35.606Z"
   },
   {
    "duration": 17,
    "start_time": "2022-06-20T04:16:35.651Z"
   },
   {
    "duration": 25,
    "start_time": "2022-06-20T04:16:35.670Z"
   },
   {
    "duration": 6,
    "start_time": "2022-06-20T04:16:35.699Z"
   },
   {
    "duration": 16,
    "start_time": "2022-06-20T04:16:35.729Z"
   },
   {
    "duration": 11,
    "start_time": "2022-06-20T04:16:35.748Z"
   },
   {
    "duration": 14,
    "start_time": "2022-06-20T04:16:35.761Z"
   },
   {
    "duration": 14,
    "start_time": "2022-06-20T04:16:35.777Z"
   },
   {
    "duration": 17,
    "start_time": "2022-06-20T04:16:35.793Z"
   },
   {
    "duration": 26,
    "start_time": "2022-06-20T04:16:35.811Z"
   },
   {
    "duration": 182,
    "start_time": "2022-06-20T04:16:35.839Z"
   },
   {
    "duration": 25,
    "start_time": "2022-06-20T04:16:36.024Z"
   },
   {
    "duration": 14,
    "start_time": "2022-06-20T04:16:36.051Z"
   },
   {
    "duration": 67,
    "start_time": "2022-06-20T04:16:36.067Z"
   },
   {
    "duration": 23,
    "start_time": "2022-06-20T04:16:36.137Z"
   },
   {
    "duration": 16,
    "start_time": "2022-06-20T04:16:36.161Z"
   },
   {
    "duration": 39,
    "start_time": "2022-06-20T04:16:36.229Z"
   },
   {
    "duration": 11,
    "start_time": "2022-06-20T04:16:36.270Z"
   },
   {
    "duration": 21,
    "start_time": "2022-06-20T04:16:36.283Z"
   },
   {
    "duration": 270,
    "start_time": "2022-06-20T04:16:36.307Z"
   },
   {
    "duration": 124,
    "start_time": "2022-06-20T04:16:36.579Z"
   },
   {
    "duration": 35,
    "start_time": "2022-06-20T04:16:36.707Z"
   },
   {
    "duration": 13,
    "start_time": "2022-06-20T04:16:36.744Z"
   },
   {
    "duration": 198,
    "start_time": "2022-06-20T04:16:36.759Z"
   },
   {
    "duration": 6,
    "start_time": "2022-06-20T04:16:36.959Z"
   },
   {
    "duration": 28,
    "start_time": "2022-06-20T04:16:36.967Z"
   },
   {
    "duration": 40,
    "start_time": "2022-06-20T04:16:36.997Z"
   },
   {
    "duration": 107,
    "start_time": "2022-06-20T04:16:37.039Z"
   },
   {
    "duration": 13,
    "start_time": "2022-06-20T04:16:37.148Z"
   },
   {
    "duration": 11,
    "start_time": "2022-06-20T04:16:37.162Z"
   },
   {
    "duration": 22,
    "start_time": "2022-06-20T04:16:37.175Z"
   },
   {
    "duration": 51,
    "start_time": "2022-06-20T04:16:43.912Z"
   },
   {
    "duration": 14,
    "start_time": "2022-06-20T04:31:13.906Z"
   },
   {
    "duration": 22,
    "start_time": "2022-06-20T04:31:48.785Z"
   },
   {
    "duration": 22,
    "start_time": "2022-06-20T04:32:42.943Z"
   },
   {
    "duration": 28,
    "start_time": "2022-06-20T04:33:25.502Z"
   },
   {
    "duration": 124,
    "start_time": "2022-06-20T04:35:40.761Z"
   },
   {
    "duration": 20,
    "start_time": "2022-06-20T04:35:58.338Z"
   },
   {
    "duration": 36,
    "start_time": "2022-06-20T04:36:19.241Z"
   },
   {
    "duration": 32,
    "start_time": "2022-06-20T05:59:34.120Z"
   },
   {
    "duration": 54,
    "start_time": "2022-06-20T06:05:02.945Z"
   },
   {
    "duration": 44,
    "start_time": "2022-06-20T06:05:54.346Z"
   },
   {
    "duration": 58,
    "start_time": "2022-06-20T06:06:01.495Z"
   },
   {
    "duration": 41,
    "start_time": "2022-06-20T06:06:54.379Z"
   },
   {
    "duration": 74,
    "start_time": "2022-06-20T06:07:27.210Z"
   },
   {
    "duration": 38,
    "start_time": "2022-06-20T09:55:30.579Z"
   },
   {
    "duration": 37,
    "start_time": "2022-06-20T09:56:08.695Z"
   },
   {
    "duration": 17,
    "start_time": "2022-06-20T09:56:44.795Z"
   },
   {
    "duration": 56,
    "start_time": "2022-06-20T09:56:56.866Z"
   },
   {
    "duration": 37,
    "start_time": "2022-06-20T10:00:05.121Z"
   },
   {
    "duration": 36,
    "start_time": "2022-06-20T10:00:22.227Z"
   },
   {
    "duration": 47,
    "start_time": "2022-06-20T10:01:00.464Z"
   },
   {
    "duration": 74,
    "start_time": "2022-06-20T10:01:11.861Z"
   },
   {
    "duration": 50,
    "start_time": "2022-06-20T10:01:31.799Z"
   },
   {
    "duration": 41,
    "start_time": "2022-06-20T10:02:04.228Z"
   },
   {
    "duration": 35,
    "start_time": "2022-06-20T10:02:14.885Z"
   },
   {
    "duration": 47,
    "start_time": "2022-06-20T10:02:26.821Z"
   },
   {
    "duration": 23,
    "start_time": "2022-06-20T10:02:51.087Z"
   },
   {
    "duration": 35,
    "start_time": "2022-06-20T10:03:06.201Z"
   },
   {
    "duration": 34,
    "start_time": "2022-06-20T10:03:21.435Z"
   },
   {
    "duration": 37,
    "start_time": "2022-06-20T10:04:28.636Z"
   },
   {
    "duration": 36,
    "start_time": "2022-06-20T10:06:31.202Z"
   },
   {
    "duration": 32,
    "start_time": "2022-06-20T10:07:16.160Z"
   },
   {
    "duration": 63,
    "start_time": "2022-06-20T10:08:27.820Z"
   },
   {
    "duration": 161,
    "start_time": "2022-06-20T10:08:37.823Z"
   },
   {
    "duration": 31,
    "start_time": "2022-06-20T10:09:00.267Z"
   },
   {
    "duration": 22,
    "start_time": "2022-06-20T10:10:29.742Z"
   },
   {
    "duration": 46,
    "start_time": "2022-06-20T10:11:25.781Z"
   },
   {
    "duration": 51,
    "start_time": "2022-06-20T10:11:48.809Z"
   },
   {
    "duration": 55,
    "start_time": "2022-06-20T10:11:59.305Z"
   },
   {
    "duration": 48,
    "start_time": "2022-06-20T10:12:05.622Z"
   },
   {
    "duration": 48,
    "start_time": "2022-06-20T10:12:08.989Z"
   },
   {
    "duration": 72,
    "start_time": "2022-06-20T10:12:31.686Z"
   },
   {
    "duration": 57,
    "start_time": "2022-06-20T10:12:40.803Z"
   },
   {
    "duration": 58,
    "start_time": "2022-06-20T10:12:55.351Z"
   },
   {
    "duration": 96,
    "start_time": "2022-06-20T10:13:06.073Z"
   },
   {
    "duration": 51,
    "start_time": "2022-06-20T10:13:20.282Z"
   },
   {
    "duration": 30,
    "start_time": "2022-06-20T10:13:34.809Z"
   },
   {
    "duration": 35,
    "start_time": "2022-06-20T10:20:59.664Z"
   },
   {
    "duration": 32,
    "start_time": "2022-06-20T10:23:24.548Z"
   },
   {
    "duration": 25,
    "start_time": "2022-06-20T10:25:56.184Z"
   },
   {
    "duration": 5,
    "start_time": "2022-06-20T10:26:18.354Z"
   },
   {
    "duration": 108,
    "start_time": "2022-06-20T10:26:18.362Z"
   },
   {
    "duration": 11,
    "start_time": "2022-06-20T10:26:18.472Z"
   },
   {
    "duration": 18,
    "start_time": "2022-06-20T10:26:18.484Z"
   },
   {
    "duration": 40,
    "start_time": "2022-06-20T10:26:18.504Z"
   },
   {
    "duration": 7,
    "start_time": "2022-06-20T10:26:18.545Z"
   },
   {
    "duration": 22,
    "start_time": "2022-06-20T10:26:18.554Z"
   },
   {
    "duration": 49,
    "start_time": "2022-06-20T10:26:18.578Z"
   },
   {
    "duration": 29,
    "start_time": "2022-06-20T10:26:18.629Z"
   },
   {
    "duration": 5,
    "start_time": "2022-06-20T10:26:18.660Z"
   },
   {
    "duration": 13,
    "start_time": "2022-06-20T10:26:18.669Z"
   },
   {
    "duration": 10,
    "start_time": "2022-06-20T10:26:18.684Z"
   },
   {
    "duration": 40,
    "start_time": "2022-06-20T10:26:18.696Z"
   },
   {
    "duration": 8,
    "start_time": "2022-06-20T10:26:18.738Z"
   },
   {
    "duration": 13,
    "start_time": "2022-06-20T10:26:18.748Z"
   },
   {
    "duration": 19,
    "start_time": "2022-06-20T10:26:18.763Z"
   },
   {
    "duration": 12,
    "start_time": "2022-06-20T10:26:18.784Z"
   },
   {
    "duration": 48,
    "start_time": "2022-06-20T10:26:18.798Z"
   },
   {
    "duration": 13,
    "start_time": "2022-06-20T10:26:18.849Z"
   },
   {
    "duration": 13,
    "start_time": "2022-06-20T10:26:18.865Z"
   },
   {
    "duration": 19,
    "start_time": "2022-06-20T10:26:18.880Z"
   },
   {
    "duration": 11,
    "start_time": "2022-06-20T10:26:18.925Z"
   },
   {
    "duration": 27,
    "start_time": "2022-06-20T10:26:18.938Z"
   },
   {
    "duration": 12,
    "start_time": "2022-06-20T10:26:18.968Z"
   },
   {
    "duration": 17,
    "start_time": "2022-06-20T10:26:18.981Z"
   },
   {
    "duration": 88,
    "start_time": "2022-06-20T10:26:19.000Z"
   },
   {
    "duration": 122,
    "start_time": "2022-06-20T10:26:19.090Z"
   },
   {
    "duration": 24,
    "start_time": "2022-06-20T10:26:19.214Z"
   },
   {
    "duration": 14,
    "start_time": "2022-06-20T10:26:19.242Z"
   },
   {
    "duration": 186,
    "start_time": "2022-06-20T10:26:19.257Z"
   },
   {
    "duration": 6,
    "start_time": "2022-06-20T10:26:19.445Z"
   },
   {
    "duration": 22,
    "start_time": "2022-06-20T10:26:19.452Z"
   },
   {
    "duration": 12,
    "start_time": "2022-06-20T10:26:19.476Z"
   },
   {
    "duration": 12,
    "start_time": "2022-06-20T10:26:19.490Z"
   },
   {
    "duration": 31,
    "start_time": "2022-06-20T10:26:19.504Z"
   },
   {
    "duration": 9,
    "start_time": "2022-06-20T10:26:19.537Z"
   },
   {
    "duration": 27,
    "start_time": "2022-06-20T10:26:19.548Z"
   },
   {
    "duration": 22,
    "start_time": "2022-06-20T10:26:19.577Z"
   },
   {
    "duration": 38,
    "start_time": "2022-06-20T10:26:19.600Z"
   },
   {
    "duration": 235,
    "start_time": "2022-06-20T10:26:19.640Z"
   },
   {
    "duration": 4,
    "start_time": "2022-06-20T10:26:19.877Z"
   },
   {
    "duration": 60,
    "start_time": "2022-06-20T10:26:19.883Z"
   },
   {
    "duration": 4,
    "start_time": "2022-06-20T10:26:19.946Z"
   },
   {
    "duration": 26,
    "start_time": "2022-06-20T10:26:19.952Z"
   },
   {
    "duration": 5,
    "start_time": "2022-06-20T10:26:19.980Z"
   },
   {
    "duration": 203,
    "start_time": "2022-06-20T10:26:19.987Z"
   },
   {
    "duration": 1282,
    "start_time": "2022-06-20T10:26:20.192Z"
   },
   {
    "duration": 13,
    "start_time": "2022-06-20T10:26:21.476Z"
   },
   {
    "duration": 20,
    "start_time": "2022-06-20T10:26:21.491Z"
   },
   {
    "duration": 19,
    "start_time": "2022-06-20T10:26:21.513Z"
   },
   {
    "duration": 10,
    "start_time": "2022-06-20T10:26:21.534Z"
   },
   {
    "duration": 12,
    "start_time": "2022-06-20T10:26:21.547Z"
   },
   {
    "duration": 16,
    "start_time": "2022-06-20T10:26:21.561Z"
   },
   {
    "duration": 16,
    "start_time": "2022-06-20T10:26:21.579Z"
   },
   {
    "duration": 29,
    "start_time": "2022-06-20T10:26:21.597Z"
   },
   {
    "duration": 11,
    "start_time": "2022-06-20T10:26:21.629Z"
   },
   {
    "duration": 12,
    "start_time": "2022-06-20T10:26:21.641Z"
   },
   {
    "duration": 13,
    "start_time": "2022-06-20T10:26:21.655Z"
   },
   {
    "duration": 15,
    "start_time": "2022-06-20T10:26:21.670Z"
   },
   {
    "duration": 11,
    "start_time": "2022-06-20T10:26:21.688Z"
   },
   {
    "duration": 36,
    "start_time": "2022-06-20T10:26:21.701Z"
   },
   {
    "duration": 9,
    "start_time": "2022-06-20T10:26:21.739Z"
   },
   {
    "duration": 21,
    "start_time": "2022-06-20T10:26:21.750Z"
   },
   {
    "duration": 9,
    "start_time": "2022-06-20T10:26:21.772Z"
   },
   {
    "duration": 10,
    "start_time": "2022-06-20T10:26:21.783Z"
   },
   {
    "duration": 9,
    "start_time": "2022-06-20T10:26:21.827Z"
   },
   {
    "duration": 7,
    "start_time": "2022-06-20T10:26:21.838Z"
   },
   {
    "duration": 6,
    "start_time": "2022-06-20T10:26:21.847Z"
   },
   {
    "duration": 1331,
    "start_time": "2022-06-20T12:12:54.010Z"
   },
   {
    "duration": 122,
    "start_time": "2022-06-20T12:12:55.344Z"
   },
   {
    "duration": 13,
    "start_time": "2022-06-20T12:12:55.468Z"
   },
   {
    "duration": 16,
    "start_time": "2022-06-20T12:12:55.483Z"
   },
   {
    "duration": 19,
    "start_time": "2022-06-20T12:12:55.501Z"
   },
   {
    "duration": 135,
    "start_time": "2022-06-20T12:12:55.522Z"
   },
   {
    "duration": 0,
    "start_time": "2022-06-20T12:12:55.661Z"
   },
   {
    "duration": 0,
    "start_time": "2022-06-20T12:12:55.662Z"
   },
   {
    "duration": 0,
    "start_time": "2022-06-20T12:12:55.663Z"
   },
   {
    "duration": 0,
    "start_time": "2022-06-20T12:12:55.664Z"
   },
   {
    "duration": 0,
    "start_time": "2022-06-20T12:12:55.665Z"
   },
   {
    "duration": 0,
    "start_time": "2022-06-20T12:12:55.666Z"
   },
   {
    "duration": 0,
    "start_time": "2022-06-20T12:12:55.668Z"
   },
   {
    "duration": 1,
    "start_time": "2022-06-20T12:12:55.668Z"
   },
   {
    "duration": 0,
    "start_time": "2022-06-20T12:12:55.670Z"
   },
   {
    "duration": 0,
    "start_time": "2022-06-20T12:12:55.671Z"
   },
   {
    "duration": 0,
    "start_time": "2022-06-20T12:12:55.672Z"
   },
   {
    "duration": 0,
    "start_time": "2022-06-20T12:12:55.673Z"
   },
   {
    "duration": 1,
    "start_time": "2022-06-20T12:12:55.674Z"
   },
   {
    "duration": 0,
    "start_time": "2022-06-20T12:12:55.676Z"
   },
   {
    "duration": 0,
    "start_time": "2022-06-20T12:12:55.677Z"
   },
   {
    "duration": 0,
    "start_time": "2022-06-20T12:12:55.678Z"
   },
   {
    "duration": 0,
    "start_time": "2022-06-20T12:12:55.679Z"
   },
   {
    "duration": 0,
    "start_time": "2022-06-20T12:12:55.681Z"
   },
   {
    "duration": 0,
    "start_time": "2022-06-20T12:12:55.682Z"
   },
   {
    "duration": 0,
    "start_time": "2022-06-20T12:12:55.682Z"
   },
   {
    "duration": 0,
    "start_time": "2022-06-20T12:12:55.684Z"
   },
   {
    "duration": 0,
    "start_time": "2022-06-20T12:12:55.684Z"
   },
   {
    "duration": 0,
    "start_time": "2022-06-20T12:12:55.685Z"
   },
   {
    "duration": 0,
    "start_time": "2022-06-20T12:12:55.687Z"
   },
   {
    "duration": 0,
    "start_time": "2022-06-20T12:12:55.688Z"
   },
   {
    "duration": 0,
    "start_time": "2022-06-20T12:12:55.689Z"
   },
   {
    "duration": 0,
    "start_time": "2022-06-20T12:12:55.690Z"
   },
   {
    "duration": 0,
    "start_time": "2022-06-20T12:12:55.691Z"
   },
   {
    "duration": 0,
    "start_time": "2022-06-20T12:12:55.693Z"
   },
   {
    "duration": 0,
    "start_time": "2022-06-20T12:12:55.694Z"
   },
   {
    "duration": 0,
    "start_time": "2022-06-20T12:12:55.743Z"
   },
   {
    "duration": 0,
    "start_time": "2022-06-20T12:12:55.744Z"
   },
   {
    "duration": 0,
    "start_time": "2022-06-20T12:12:55.746Z"
   },
   {
    "duration": 0,
    "start_time": "2022-06-20T12:12:55.747Z"
   },
   {
    "duration": 0,
    "start_time": "2022-06-20T12:12:55.749Z"
   },
   {
    "duration": 0,
    "start_time": "2022-06-20T12:12:55.750Z"
   },
   {
    "duration": 0,
    "start_time": "2022-06-20T12:12:55.751Z"
   },
   {
    "duration": 0,
    "start_time": "2022-06-20T12:12:55.752Z"
   },
   {
    "duration": 0,
    "start_time": "2022-06-20T12:12:55.754Z"
   },
   {
    "duration": 0,
    "start_time": "2022-06-20T12:12:55.755Z"
   },
   {
    "duration": 0,
    "start_time": "2022-06-20T12:12:55.757Z"
   },
   {
    "duration": 0,
    "start_time": "2022-06-20T12:12:55.758Z"
   },
   {
    "duration": 0,
    "start_time": "2022-06-20T12:12:55.759Z"
   },
   {
    "duration": 0,
    "start_time": "2022-06-20T12:12:55.760Z"
   },
   {
    "duration": 0,
    "start_time": "2022-06-20T12:12:55.762Z"
   },
   {
    "duration": 1,
    "start_time": "2022-06-20T12:12:55.762Z"
   },
   {
    "duration": 0,
    "start_time": "2022-06-20T12:12:55.764Z"
   },
   {
    "duration": 0,
    "start_time": "2022-06-20T12:12:55.765Z"
   },
   {
    "duration": 0,
    "start_time": "2022-06-20T12:12:55.766Z"
   },
   {
    "duration": 0,
    "start_time": "2022-06-20T12:12:55.767Z"
   },
   {
    "duration": 0,
    "start_time": "2022-06-20T12:12:55.769Z"
   },
   {
    "duration": 0,
    "start_time": "2022-06-20T12:12:55.770Z"
   },
   {
    "duration": 0,
    "start_time": "2022-06-20T12:12:55.771Z"
   },
   {
    "duration": 0,
    "start_time": "2022-06-20T12:12:55.772Z"
   },
   {
    "duration": 0,
    "start_time": "2022-06-20T12:12:55.774Z"
   },
   {
    "duration": 0,
    "start_time": "2022-06-20T12:12:55.774Z"
   },
   {
    "duration": 0,
    "start_time": "2022-06-20T12:12:55.776Z"
   },
   {
    "duration": 0,
    "start_time": "2022-06-20T12:12:55.777Z"
   },
   {
    "duration": 0,
    "start_time": "2022-06-20T12:12:55.778Z"
   },
   {
    "duration": 1,
    "start_time": "2022-06-20T12:12:55.841Z"
   },
   {
    "duration": 0,
    "start_time": "2022-06-20T12:12:55.844Z"
   },
   {
    "duration": 0,
    "start_time": "2022-06-20T12:12:55.845Z"
   },
   {
    "duration": 0,
    "start_time": "2022-06-20T12:12:55.846Z"
   },
   {
    "duration": 20,
    "start_time": "2022-06-20T12:13:43.560Z"
   },
   {
    "duration": 35,
    "start_time": "2022-06-20T12:14:01.697Z"
   },
   {
    "duration": 29,
    "start_time": "2022-06-20T12:14:13.458Z"
   },
   {
    "duration": 26,
    "start_time": "2022-06-20T12:14:25.263Z"
   },
   {
    "duration": 26,
    "start_time": "2022-06-20T12:14:32.236Z"
   },
   {
    "duration": 4,
    "start_time": "2022-06-20T12:15:05.631Z"
   },
   {
    "duration": 159,
    "start_time": "2022-06-20T12:15:05.638Z"
   },
   {
    "duration": 10,
    "start_time": "2022-06-20T12:15:05.799Z"
   },
   {
    "duration": 22,
    "start_time": "2022-06-20T12:15:05.810Z"
   },
   {
    "duration": 24,
    "start_time": "2022-06-20T12:15:05.843Z"
   },
   {
    "duration": 26,
    "start_time": "2022-06-20T12:15:05.869Z"
   },
   {
    "duration": 6,
    "start_time": "2022-06-20T12:15:05.897Z"
   },
   {
    "duration": 42,
    "start_time": "2022-06-20T12:15:05.905Z"
   },
   {
    "duration": 17,
    "start_time": "2022-06-20T12:15:05.949Z"
   },
   {
    "duration": 20,
    "start_time": "2022-06-20T12:15:05.968Z"
   },
   {
    "duration": 10,
    "start_time": "2022-06-20T12:15:05.991Z"
   },
   {
    "duration": 9,
    "start_time": "2022-06-20T12:15:06.003Z"
   },
   {
    "duration": 30,
    "start_time": "2022-06-20T12:15:06.014Z"
   },
   {
    "duration": 8,
    "start_time": "2022-06-20T12:15:06.046Z"
   },
   {
    "duration": 18,
    "start_time": "2022-06-20T12:15:06.056Z"
   },
   {
    "duration": 23,
    "start_time": "2022-06-20T12:15:06.076Z"
   },
   {
    "duration": 19,
    "start_time": "2022-06-20T12:15:06.102Z"
   },
   {
    "duration": 1563,
    "start_time": "2022-06-20T12:15:06.123Z"
   },
   {
    "duration": 66,
    "start_time": "2022-06-20T12:15:07.688Z"
   },
   {
    "duration": 10,
    "start_time": "2022-06-20T12:15:07.756Z"
   },
   {
    "duration": 14,
    "start_time": "2022-06-20T12:15:07.767Z"
   },
   {
    "duration": 67,
    "start_time": "2022-06-20T12:15:07.783Z"
   },
   {
    "duration": 10,
    "start_time": "2022-06-20T12:15:07.852Z"
   },
   {
    "duration": 14,
    "start_time": "2022-06-20T12:15:07.863Z"
   },
   {
    "duration": 65,
    "start_time": "2022-06-20T12:15:07.879Z"
   },
   {
    "duration": 14,
    "start_time": "2022-06-20T12:15:07.946Z"
   },
   {
    "duration": 580,
    "start_time": "2022-06-20T12:15:07.962Z"
   },
   {
    "duration": 224,
    "start_time": "2022-06-20T12:15:08.545Z"
   },
   {
    "duration": 15,
    "start_time": "2022-06-20T12:15:08.773Z"
   },
   {
    "duration": 13,
    "start_time": "2022-06-20T12:15:08.842Z"
   },
   {
    "duration": 532,
    "start_time": "2022-06-20T12:15:08.857Z"
   },
   {
    "duration": 5,
    "start_time": "2022-06-20T12:15:09.442Z"
   },
   {
    "duration": 19,
    "start_time": "2022-06-20T12:15:09.449Z"
   },
   {
    "duration": 16,
    "start_time": "2022-06-20T12:15:09.470Z"
   },
   {
    "duration": 9,
    "start_time": "2022-06-20T12:15:09.542Z"
   },
   {
    "duration": 17,
    "start_time": "2022-06-20T12:15:09.553Z"
   },
   {
    "duration": 10,
    "start_time": "2022-06-20T12:15:09.572Z"
   },
   {
    "duration": 72,
    "start_time": "2022-06-20T12:15:09.584Z"
   },
   {
    "duration": 31,
    "start_time": "2022-06-20T12:15:09.658Z"
   },
   {
    "duration": 63,
    "start_time": "2022-06-20T12:15:09.690Z"
   },
   {
    "duration": 415,
    "start_time": "2022-06-20T12:15:09.755Z"
   },
   {
    "duration": 5,
    "start_time": "2022-06-20T12:15:10.172Z"
   },
   {
    "duration": 68,
    "start_time": "2022-06-20T12:15:10.179Z"
   },
   {
    "duration": 4,
    "start_time": "2022-06-20T12:15:10.249Z"
   },
   {
    "duration": 19,
    "start_time": "2022-06-20T12:15:10.255Z"
   },
   {
    "duration": 8,
    "start_time": "2022-06-20T12:15:10.276Z"
   },
   {
    "duration": 226,
    "start_time": "2022-06-20T12:15:10.286Z"
   },
   {
    "duration": 1297,
    "start_time": "2022-06-20T12:15:10.514Z"
   },
   {
    "duration": 14,
    "start_time": "2022-06-20T12:15:11.813Z"
   },
   {
    "duration": 21,
    "start_time": "2022-06-20T12:15:11.829Z"
   },
   {
    "duration": 13,
    "start_time": "2022-06-20T12:15:11.852Z"
   },
   {
    "duration": 10,
    "start_time": "2022-06-20T12:15:11.868Z"
   },
   {
    "duration": 16,
    "start_time": "2022-06-20T12:15:11.880Z"
   },
   {
    "duration": 21,
    "start_time": "2022-06-20T12:15:11.897Z"
   },
   {
    "duration": 22,
    "start_time": "2022-06-20T12:15:11.920Z"
   },
   {
    "duration": 9,
    "start_time": "2022-06-20T12:15:11.943Z"
   },
   {
    "duration": 21,
    "start_time": "2022-06-20T12:15:11.953Z"
   },
   {
    "duration": 12,
    "start_time": "2022-06-20T12:15:11.976Z"
   },
   {
    "duration": 18,
    "start_time": "2022-06-20T12:15:11.989Z"
   },
   {
    "duration": 16,
    "start_time": "2022-06-20T12:15:12.009Z"
   },
   {
    "duration": 10,
    "start_time": "2022-06-20T12:15:12.041Z"
   },
   {
    "duration": 22,
    "start_time": "2022-06-20T12:15:12.053Z"
   },
   {
    "duration": 9,
    "start_time": "2022-06-20T12:15:12.077Z"
   },
   {
    "duration": 28,
    "start_time": "2022-06-20T12:15:12.088Z"
   },
   {
    "duration": 28,
    "start_time": "2022-06-20T12:15:12.119Z"
   },
   {
    "duration": 13,
    "start_time": "2022-06-20T12:15:12.149Z"
   },
   {
    "duration": 16,
    "start_time": "2022-06-20T12:15:12.163Z"
   },
   {
    "duration": 6,
    "start_time": "2022-06-20T12:15:12.181Z"
   },
   {
    "duration": 17,
    "start_time": "2022-06-20T12:15:12.188Z"
   },
   {
    "duration": 44,
    "start_time": "2022-06-20T12:39:50.906Z"
   },
   {
    "duration": 1322,
    "start_time": "2022-06-20T12:39:55.522Z"
   },
   {
    "duration": 138,
    "start_time": "2022-06-20T12:39:56.846Z"
   },
   {
    "duration": 10,
    "start_time": "2022-06-20T12:39:56.986Z"
   },
   {
    "duration": 11,
    "start_time": "2022-06-20T12:39:56.998Z"
   },
   {
    "duration": 15,
    "start_time": "2022-06-20T12:39:57.010Z"
   },
   {
    "duration": 22,
    "start_time": "2022-06-20T12:39:57.026Z"
   },
   {
    "duration": 5,
    "start_time": "2022-06-20T12:39:57.049Z"
   },
   {
    "duration": 16,
    "start_time": "2022-06-20T12:39:57.055Z"
   },
   {
    "duration": 29,
    "start_time": "2022-06-20T12:39:57.073Z"
   },
   {
    "duration": 11,
    "start_time": "2022-06-20T12:39:57.105Z"
   },
   {
    "duration": 5,
    "start_time": "2022-06-20T12:39:57.117Z"
   },
   {
    "duration": 10,
    "start_time": "2022-06-20T12:39:57.123Z"
   },
   {
    "duration": 9,
    "start_time": "2022-06-20T12:39:57.134Z"
   },
   {
    "duration": 9,
    "start_time": "2022-06-20T12:39:57.144Z"
   },
   {
    "duration": 8,
    "start_time": "2022-06-20T12:39:57.154Z"
   },
   {
    "duration": 7,
    "start_time": "2022-06-20T12:39:57.164Z"
   },
   {
    "duration": 32,
    "start_time": "2022-06-20T12:39:57.172Z"
   },
   {
    "duration": 142,
    "start_time": "2022-06-20T12:39:57.206Z"
   },
   {
    "duration": 17,
    "start_time": "2022-06-20T12:39:57.350Z"
   },
   {
    "duration": 30,
    "start_time": "2022-06-20T12:39:57.369Z"
   },
   {
    "duration": 27,
    "start_time": "2022-06-20T12:39:57.401Z"
   },
   {
    "duration": 21,
    "start_time": "2022-06-20T12:39:57.430Z"
   },
   {
    "duration": 49,
    "start_time": "2022-06-20T12:39:57.453Z"
   },
   {
    "duration": 15,
    "start_time": "2022-06-20T12:39:57.504Z"
   },
   {
    "duration": 16,
    "start_time": "2022-06-20T12:39:57.521Z"
   },
   {
    "duration": 38,
    "start_time": "2022-06-20T12:39:57.538Z"
   },
   {
    "duration": 215,
    "start_time": "2022-06-20T12:39:57.577Z"
   },
   {
    "duration": 90,
    "start_time": "2022-06-20T12:39:57.796Z"
   },
   {
    "duration": 12,
    "start_time": "2022-06-20T12:39:57.894Z"
   },
   {
    "duration": 9,
    "start_time": "2022-06-20T12:39:57.907Z"
   },
   {
    "duration": 227,
    "start_time": "2022-06-20T12:39:57.918Z"
   },
   {
    "duration": 5,
    "start_time": "2022-06-20T12:39:58.146Z"
   },
   {
    "duration": 24,
    "start_time": "2022-06-20T12:39:58.152Z"
   },
   {
    "duration": 20,
    "start_time": "2022-06-20T12:39:58.177Z"
   },
   {
    "duration": 9,
    "start_time": "2022-06-20T12:39:58.198Z"
   },
   {
    "duration": 16,
    "start_time": "2022-06-20T12:39:58.209Z"
   },
   {
    "duration": 9,
    "start_time": "2022-06-20T12:39:58.227Z"
   },
   {
    "duration": 28,
    "start_time": "2022-06-20T12:39:58.238Z"
   },
   {
    "duration": 19,
    "start_time": "2022-06-20T12:39:58.267Z"
   },
   {
    "duration": 13,
    "start_time": "2022-06-20T12:39:58.288Z"
   },
   {
    "duration": 171,
    "start_time": "2022-06-20T12:39:58.302Z"
   },
   {
    "duration": 4,
    "start_time": "2022-06-20T12:39:58.474Z"
   },
   {
    "duration": 42,
    "start_time": "2022-06-20T12:39:58.494Z"
   },
   {
    "duration": 4,
    "start_time": "2022-06-20T12:39:58.537Z"
   },
   {
    "duration": 20,
    "start_time": "2022-06-20T12:39:58.542Z"
   },
   {
    "duration": 10,
    "start_time": "2022-06-20T12:39:58.563Z"
   },
   {
    "duration": 163,
    "start_time": "2022-06-20T12:39:58.574Z"
   },
   {
    "duration": 1333,
    "start_time": "2022-06-20T12:39:58.739Z"
   },
   {
    "duration": 10,
    "start_time": "2022-06-20T12:40:00.073Z"
   },
   {
    "duration": 14,
    "start_time": "2022-06-20T12:40:00.085Z"
   },
   {
    "duration": 13,
    "start_time": "2022-06-20T12:40:00.100Z"
   },
   {
    "duration": 14,
    "start_time": "2022-06-20T12:40:00.114Z"
   },
   {
    "duration": 14,
    "start_time": "2022-06-20T12:40:00.130Z"
   },
   {
    "duration": 23,
    "start_time": "2022-06-20T12:40:00.145Z"
   },
   {
    "duration": 10,
    "start_time": "2022-06-20T12:40:00.169Z"
   },
   {
    "duration": 26,
    "start_time": "2022-06-20T12:40:00.180Z"
   },
   {
    "duration": 19,
    "start_time": "2022-06-20T12:40:00.207Z"
   },
   {
    "duration": 21,
    "start_time": "2022-06-20T12:40:00.228Z"
   },
   {
    "duration": 21,
    "start_time": "2022-06-20T12:40:00.251Z"
   },
   {
    "duration": 21,
    "start_time": "2022-06-20T12:40:00.273Z"
   },
   {
    "duration": 28,
    "start_time": "2022-06-20T12:40:00.296Z"
   },
   {
    "duration": 21,
    "start_time": "2022-06-20T12:40:00.325Z"
   },
   {
    "duration": 13,
    "start_time": "2022-06-20T12:40:00.347Z"
   },
   {
    "duration": 19,
    "start_time": "2022-06-20T12:40:00.362Z"
   },
   {
    "duration": 9,
    "start_time": "2022-06-20T12:40:00.382Z"
   },
   {
    "duration": 20,
    "start_time": "2022-06-20T12:40:00.393Z"
   },
   {
    "duration": 14,
    "start_time": "2022-06-20T12:40:00.415Z"
   },
   {
    "duration": 15,
    "start_time": "2022-06-20T12:40:00.430Z"
   },
   {
    "duration": 7,
    "start_time": "2022-06-20T12:40:00.446Z"
   },
   {
    "duration": 92,
    "start_time": "2022-06-20T13:46:39.217Z"
   },
   {
    "duration": 85,
    "start_time": "2022-06-20T13:46:44.445Z"
   },
   {
    "duration": 42,
    "start_time": "2022-06-20T13:46:52.642Z"
   },
   {
    "duration": 44,
    "start_time": "2022-06-20T13:55:46.045Z"
   },
   {
    "duration": 62,
    "start_time": "2022-06-20T14:59:46.761Z"
   },
   {
    "duration": 4,
    "start_time": "2022-06-20T14:59:46.824Z"
   },
   {
    "duration": 121,
    "start_time": "2022-06-20T14:59:46.830Z"
   },
   {
    "duration": 9,
    "start_time": "2022-06-20T14:59:46.953Z"
   },
   {
    "duration": 15,
    "start_time": "2022-06-20T14:59:46.963Z"
   },
   {
    "duration": 19,
    "start_time": "2022-06-20T14:59:46.980Z"
   },
   {
    "duration": 21,
    "start_time": "2022-06-20T14:59:47.001Z"
   },
   {
    "duration": 6,
    "start_time": "2022-06-20T14:59:47.023Z"
   },
   {
    "duration": 12,
    "start_time": "2022-06-20T14:59:47.030Z"
   },
   {
    "duration": 19,
    "start_time": "2022-06-20T14:59:47.043Z"
   },
   {
    "duration": 31,
    "start_time": "2022-06-20T14:59:47.063Z"
   },
   {
    "duration": 4,
    "start_time": "2022-06-20T14:59:47.096Z"
   },
   {
    "duration": 7,
    "start_time": "2022-06-20T14:59:47.102Z"
   },
   {
    "duration": 41,
    "start_time": "2022-06-20T14:59:47.111Z"
   },
   {
    "duration": 20,
    "start_time": "2022-06-20T14:59:47.154Z"
   },
   {
    "duration": 8,
    "start_time": "2022-06-20T14:59:47.176Z"
   },
   {
    "duration": 7,
    "start_time": "2022-06-20T14:59:47.185Z"
   },
   {
    "duration": 14,
    "start_time": "2022-06-20T14:59:47.194Z"
   },
   {
    "duration": 9,
    "start_time": "2022-06-20T14:59:47.209Z"
   },
   {
    "duration": 19,
    "start_time": "2022-06-20T14:59:47.219Z"
   },
   {
    "duration": 8,
    "start_time": "2022-06-20T14:59:47.239Z"
   },
   {
    "duration": 12,
    "start_time": "2022-06-20T14:59:47.249Z"
   },
   {
    "duration": 42,
    "start_time": "2022-06-20T14:59:47.262Z"
   },
   {
    "duration": 12,
    "start_time": "2022-06-20T14:59:47.305Z"
   },
   {
    "duration": 19,
    "start_time": "2022-06-20T14:59:47.318Z"
   },
   {
    "duration": 67,
    "start_time": "2022-06-20T14:59:47.339Z"
   },
   {
    "duration": 48,
    "start_time": "2022-06-20T14:59:47.408Z"
   },
   {
    "duration": 49,
    "start_time": "2022-06-20T15:00:38.052Z"
   },
   {
    "duration": 69,
    "start_time": "2022-06-20T15:00:48.063Z"
   },
   {
    "duration": 1930,
    "start_time": "2022-06-20T16:34:08.048Z"
   },
   {
    "duration": 219,
    "start_time": "2022-06-20T16:34:09.981Z"
   },
   {
    "duration": 23,
    "start_time": "2022-06-20T16:34:10.202Z"
   },
   {
    "duration": 24,
    "start_time": "2022-06-20T16:34:10.229Z"
   },
   {
    "duration": 41,
    "start_time": "2022-06-20T16:34:10.255Z"
   },
   {
    "duration": 61,
    "start_time": "2022-06-20T16:34:10.298Z"
   },
   {
    "duration": 8,
    "start_time": "2022-06-20T16:34:10.361Z"
   },
   {
    "duration": 29,
    "start_time": "2022-06-20T16:34:10.371Z"
   },
   {
    "duration": 31,
    "start_time": "2022-06-20T16:34:10.402Z"
   },
   {
    "duration": 32,
    "start_time": "2022-06-20T16:34:10.437Z"
   },
   {
    "duration": 9,
    "start_time": "2022-06-20T16:34:10.471Z"
   },
   {
    "duration": 21,
    "start_time": "2022-06-20T16:34:10.483Z"
   },
   {
    "duration": 12,
    "start_time": "2022-06-20T16:34:10.506Z"
   },
   {
    "duration": 27,
    "start_time": "2022-06-20T16:34:10.520Z"
   },
   {
    "duration": 16,
    "start_time": "2022-06-20T16:34:10.549Z"
   },
   {
    "duration": 37,
    "start_time": "2022-06-20T16:34:10.567Z"
   },
   {
    "duration": 51,
    "start_time": "2022-06-20T16:34:10.607Z"
   },
   {
    "duration": 212,
    "start_time": "2022-06-20T16:34:10.661Z"
   },
   {
    "duration": 22,
    "start_time": "2022-06-20T16:34:10.875Z"
   },
   {
    "duration": 40,
    "start_time": "2022-06-20T16:34:10.899Z"
   },
   {
    "duration": 38,
    "start_time": "2022-06-20T16:34:10.942Z"
   },
   {
    "duration": 58,
    "start_time": "2022-06-20T16:34:10.982Z"
   },
   {
    "duration": 38,
    "start_time": "2022-06-20T16:34:11.042Z"
   },
   {
    "duration": 27,
    "start_time": "2022-06-20T16:34:11.083Z"
   },
   {
    "duration": 18,
    "start_time": "2022-06-20T16:34:11.112Z"
   },
   {
    "duration": 67,
    "start_time": "2022-06-20T16:34:11.132Z"
   },
   {
    "duration": 303,
    "start_time": "2022-06-20T16:34:11.201Z"
   },
   {
    "duration": 156,
    "start_time": "2022-06-20T16:34:11.509Z"
   },
   {
    "duration": 20,
    "start_time": "2022-06-20T16:34:11.667Z"
   },
   {
    "duration": 17,
    "start_time": "2022-06-20T16:34:11.689Z"
   },
   {
    "duration": 244,
    "start_time": "2022-06-20T16:34:11.707Z"
   },
   {
    "duration": 6,
    "start_time": "2022-06-20T16:34:11.953Z"
   },
   {
    "duration": 34,
    "start_time": "2022-06-20T16:34:11.960Z"
   },
   {
    "duration": 19,
    "start_time": "2022-06-20T16:34:11.996Z"
   },
   {
    "duration": 103,
    "start_time": "2022-06-20T16:34:12.026Z"
   },
   {
    "duration": 17,
    "start_time": "2022-06-20T16:34:12.131Z"
   },
   {
    "duration": 22,
    "start_time": "2022-06-20T16:34:12.150Z"
   },
   {
    "duration": 23,
    "start_time": "2022-06-20T16:34:12.175Z"
   },
   {
    "duration": 47,
    "start_time": "2022-06-20T16:34:12.200Z"
   },
   {
    "duration": 31,
    "start_time": "2022-06-20T16:34:12.250Z"
   },
   {
    "duration": 265,
    "start_time": "2022-06-20T16:34:12.285Z"
   },
   {
    "duration": 7,
    "start_time": "2022-06-20T16:34:12.557Z"
   },
   {
    "duration": 94,
    "start_time": "2022-06-20T16:34:12.567Z"
   },
   {
    "duration": 6,
    "start_time": "2022-06-20T16:34:12.663Z"
   },
   {
    "duration": 22,
    "start_time": "2022-06-20T16:34:12.671Z"
   },
   {
    "duration": 13,
    "start_time": "2022-06-20T16:34:12.695Z"
   },
   {
    "duration": 332,
    "start_time": "2022-06-20T16:34:12.711Z"
   },
   {
    "duration": 1555,
    "start_time": "2022-06-20T16:34:13.047Z"
   },
   {
    "duration": 17,
    "start_time": "2022-06-20T16:34:14.605Z"
   },
   {
    "duration": 45,
    "start_time": "2022-06-20T16:34:14.624Z"
   },
   {
    "duration": 18,
    "start_time": "2022-06-20T16:34:14.671Z"
   },
   {
    "duration": 14,
    "start_time": "2022-06-20T16:34:14.692Z"
   },
   {
    "duration": 39,
    "start_time": "2022-06-20T16:34:14.709Z"
   },
   {
    "duration": 21,
    "start_time": "2022-06-20T16:34:14.750Z"
   },
   {
    "duration": 12,
    "start_time": "2022-06-20T16:34:14.774Z"
   },
   {
    "duration": 25,
    "start_time": "2022-06-20T16:34:14.787Z"
   },
   {
    "duration": 19,
    "start_time": "2022-06-20T16:34:14.813Z"
   },
   {
    "duration": 40,
    "start_time": "2022-06-20T16:34:14.836Z"
   },
   {
    "duration": 28,
    "start_time": "2022-06-20T16:34:14.878Z"
   },
   {
    "duration": 27,
    "start_time": "2022-06-20T16:34:14.908Z"
   },
   {
    "duration": 35,
    "start_time": "2022-06-20T16:34:14.937Z"
   },
   {
    "duration": 30,
    "start_time": "2022-06-20T16:34:14.974Z"
   },
   {
    "duration": 17,
    "start_time": "2022-06-20T16:34:15.007Z"
   },
   {
    "duration": 46,
    "start_time": "2022-06-20T16:34:15.026Z"
   },
   {
    "duration": 7,
    "start_time": "2022-06-20T16:34:15.074Z"
   },
   {
    "duration": 33,
    "start_time": "2022-06-20T16:34:15.083Z"
   },
   {
    "duration": 9,
    "start_time": "2022-06-20T16:34:15.118Z"
   },
   {
    "duration": 35,
    "start_time": "2022-06-20T16:34:15.129Z"
   },
   {
    "duration": 8,
    "start_time": "2022-06-20T16:34:15.166Z"
   },
   {
    "duration": 29,
    "start_time": "2022-06-20T16:45:08.765Z"
   },
   {
    "duration": 229,
    "start_time": "2022-06-20T16:50:14.978Z"
   },
   {
    "duration": 6,
    "start_time": "2022-06-20T16:50:30.954Z"
   },
   {
    "duration": 257,
    "start_time": "2022-06-20T16:50:30.964Z"
   },
   {
    "duration": 14,
    "start_time": "2022-06-20T16:50:31.223Z"
   },
   {
    "duration": 31,
    "start_time": "2022-06-20T16:50:31.239Z"
   },
   {
    "duration": 26,
    "start_time": "2022-06-20T16:50:31.273Z"
   },
   {
    "duration": 59,
    "start_time": "2022-06-20T16:50:31.303Z"
   },
   {
    "duration": 33,
    "start_time": "2022-06-20T16:50:31.364Z"
   },
   {
    "duration": 26,
    "start_time": "2022-06-20T16:50:31.401Z"
   },
   {
    "duration": 27,
    "start_time": "2022-06-20T16:50:31.432Z"
   },
   {
    "duration": 34,
    "start_time": "2022-06-20T16:50:31.462Z"
   },
   {
    "duration": 14,
    "start_time": "2022-06-20T16:50:31.502Z"
   },
   {
    "duration": 20,
    "start_time": "2022-06-20T16:50:31.519Z"
   },
   {
    "duration": 16,
    "start_time": "2022-06-20T16:50:31.544Z"
   },
   {
    "duration": 27,
    "start_time": "2022-06-20T16:50:31.563Z"
   },
   {
    "duration": 34,
    "start_time": "2022-06-20T16:50:31.592Z"
   },
   {
    "duration": 73,
    "start_time": "2022-06-20T16:50:31.628Z"
   },
   {
    "duration": 34,
    "start_time": "2022-06-20T16:50:31.703Z"
   },
   {
    "duration": 21,
    "start_time": "2022-06-20T16:50:31.740Z"
   },
   {
    "duration": 29,
    "start_time": "2022-06-20T16:50:31.763Z"
   },
   {
    "duration": 22,
    "start_time": "2022-06-20T16:50:31.794Z"
   },
   {
    "duration": 53,
    "start_time": "2022-06-20T16:50:31.819Z"
   },
   {
    "duration": 26,
    "start_time": "2022-06-20T16:50:31.874Z"
   },
   {
    "duration": 27,
    "start_time": "2022-06-20T16:50:31.902Z"
   },
   {
    "duration": 70,
    "start_time": "2022-06-20T16:50:31.932Z"
   },
   {
    "duration": 40,
    "start_time": "2022-06-20T16:50:32.004Z"
   },
   {
    "duration": 67,
    "start_time": "2022-06-20T16:50:32.050Z"
   },
   {
    "duration": 133,
    "start_time": "2022-06-20T16:50:32.119Z"
   },
   {
    "duration": 167,
    "start_time": "2022-06-20T16:50:32.255Z"
   },
   {
    "duration": 19,
    "start_time": "2022-06-20T16:50:32.427Z"
   },
   {
    "duration": 16,
    "start_time": "2022-06-20T16:50:32.449Z"
   },
   {
    "duration": 238,
    "start_time": "2022-06-20T16:50:32.466Z"
   },
   {
    "duration": 10,
    "start_time": "2022-06-20T16:50:32.707Z"
   },
   {
    "duration": 84,
    "start_time": "2022-06-20T16:50:32.719Z"
   },
   {
    "duration": 86,
    "start_time": "2022-06-20T16:50:32.805Z"
   },
   {
    "duration": 13,
    "start_time": "2022-06-20T16:50:32.894Z"
   },
   {
    "duration": 16,
    "start_time": "2022-06-20T16:50:32.908Z"
   },
   {
    "duration": 20,
    "start_time": "2022-06-20T16:50:32.926Z"
   },
   {
    "duration": 23,
    "start_time": "2022-06-20T16:50:44.688Z"
   },
   {
    "duration": 18,
    "start_time": "2022-06-20T16:51:20.386Z"
   },
   {
    "duration": 29,
    "start_time": "2022-06-20T16:52:05.588Z"
   },
   {
    "duration": 22,
    "start_time": "2022-06-20T16:52:32.851Z"
   },
   {
    "duration": 18,
    "start_time": "2022-06-20T16:52:50.093Z"
   },
   {
    "duration": 25,
    "start_time": "2022-06-20T16:57:03.889Z"
   },
   {
    "duration": 12,
    "start_time": "2022-06-20T17:04:45.554Z"
   },
   {
    "duration": 20,
    "start_time": "2022-06-20T17:05:07.630Z"
   },
   {
    "duration": 24,
    "start_time": "2022-06-20T17:05:37.222Z"
   },
   {
    "duration": 18,
    "start_time": "2022-06-20T17:06:48.916Z"
   },
   {
    "duration": 25,
    "start_time": "2022-06-20T17:07:31.256Z"
   },
   {
    "duration": 43,
    "start_time": "2022-06-21T02:58:34.482Z"
   },
   {
    "duration": 1231,
    "start_time": "2022-06-21T02:58:39.608Z"
   },
   {
    "duration": 281,
    "start_time": "2022-06-21T02:58:40.841Z"
   },
   {
    "duration": 12,
    "start_time": "2022-06-21T02:58:41.124Z"
   },
   {
    "duration": 13,
    "start_time": "2022-06-21T02:58:41.138Z"
   },
   {
    "duration": 18,
    "start_time": "2022-06-21T02:58:41.152Z"
   },
   {
    "duration": 23,
    "start_time": "2022-06-21T02:58:41.171Z"
   },
   {
    "duration": 5,
    "start_time": "2022-06-21T02:58:41.195Z"
   },
   {
    "duration": 14,
    "start_time": "2022-06-21T02:58:41.201Z"
   },
   {
    "duration": 36,
    "start_time": "2022-06-21T02:58:41.216Z"
   },
   {
    "duration": 13,
    "start_time": "2022-06-21T02:58:41.254Z"
   },
   {
    "duration": 4,
    "start_time": "2022-06-21T02:58:41.269Z"
   },
   {
    "duration": 9,
    "start_time": "2022-06-21T02:58:41.274Z"
   },
   {
    "duration": 6,
    "start_time": "2022-06-21T02:58:41.284Z"
   },
   {
    "duration": 8,
    "start_time": "2022-06-21T02:58:41.291Z"
   },
   {
    "duration": 7,
    "start_time": "2022-06-21T02:58:41.300Z"
   },
   {
    "duration": 9,
    "start_time": "2022-06-21T02:58:41.309Z"
   },
   {
    "duration": 43,
    "start_time": "2022-06-21T02:58:41.320Z"
   },
   {
    "duration": 139,
    "start_time": "2022-06-21T02:58:41.365Z"
   },
   {
    "duration": 13,
    "start_time": "2022-06-21T02:58:41.505Z"
   },
   {
    "duration": 34,
    "start_time": "2022-06-21T02:58:41.520Z"
   },
   {
    "duration": 14,
    "start_time": "2022-06-21T02:58:41.556Z"
   },
   {
    "duration": 13,
    "start_time": "2022-06-21T02:58:41.572Z"
   },
   {
    "duration": 8,
    "start_time": "2022-06-21T02:58:41.587Z"
   },
   {
    "duration": 13,
    "start_time": "2022-06-21T02:58:41.653Z"
   },
   {
    "duration": 9,
    "start_time": "2022-06-21T02:58:41.668Z"
   },
   {
    "duration": 15,
    "start_time": "2022-06-21T02:58:41.679Z"
   },
   {
    "duration": 255,
    "start_time": "2022-06-21T02:58:41.696Z"
   },
   {
    "duration": 104,
    "start_time": "2022-06-21T02:58:41.955Z"
   },
   {
    "duration": 12,
    "start_time": "2022-06-21T02:58:42.060Z"
   },
   {
    "duration": 12,
    "start_time": "2022-06-21T02:58:42.074Z"
   },
   {
    "duration": 195,
    "start_time": "2022-06-21T02:58:42.088Z"
   },
   {
    "duration": 5,
    "start_time": "2022-06-21T02:58:42.284Z"
   },
   {
    "duration": 22,
    "start_time": "2022-06-21T02:58:42.290Z"
   },
   {
    "duration": 10,
    "start_time": "2022-06-21T02:58:42.313Z"
   },
   {
    "duration": 93,
    "start_time": "2022-06-21T02:58:42.324Z"
   },
   {
    "duration": 15,
    "start_time": "2022-06-21T02:58:42.419Z"
   },
   {
    "duration": 25,
    "start_time": "2022-06-21T02:58:42.436Z"
   },
   {
    "duration": 16,
    "start_time": "2022-06-21T02:58:48.312Z"
   },
   {
    "duration": 21,
    "start_time": "2022-06-21T03:54:17.817Z"
   },
   {
    "duration": 20,
    "start_time": "2022-06-21T03:56:02.686Z"
   },
   {
    "duration": 25,
    "start_time": "2022-06-21T03:56:08.598Z"
   },
   {
    "duration": 122,
    "start_time": "2022-06-21T04:07:11.418Z"
   },
   {
    "duration": 23,
    "start_time": "2022-06-21T04:07:55.478Z"
   },
   {
    "duration": 20,
    "start_time": "2022-06-21T04:08:21.848Z"
   },
   {
    "duration": 15,
    "start_time": "2022-06-21T04:09:50.511Z"
   },
   {
    "duration": 21,
    "start_time": "2022-06-21T04:10:07.147Z"
   },
   {
    "duration": 16,
    "start_time": "2022-06-21T04:24:41.194Z"
   },
   {
    "duration": 20,
    "start_time": "2022-06-21T04:39:25.141Z"
   },
   {
    "duration": 6,
    "start_time": "2022-06-21T04:40:45.659Z"
   },
   {
    "duration": 11,
    "start_time": "2022-06-21T04:41:05.923Z"
   },
   {
    "duration": 10,
    "start_time": "2022-06-21T04:41:38.248Z"
   },
   {
    "duration": 13,
    "start_time": "2022-06-21T04:43:16.636Z"
   },
   {
    "duration": 47,
    "start_time": "2022-06-21T05:01:03.911Z"
   },
   {
    "duration": 16,
    "start_time": "2022-06-21T05:02:46.570Z"
   },
   {
    "duration": 12,
    "start_time": "2022-06-21T05:03:08.365Z"
   },
   {
    "duration": 17,
    "start_time": "2022-06-21T05:03:21.450Z"
   },
   {
    "duration": 14,
    "start_time": "2022-06-21T05:14:59.714Z"
   },
   {
    "duration": 15,
    "start_time": "2022-06-21T05:16:14.493Z"
   },
   {
    "duration": 13,
    "start_time": "2022-06-21T05:18:40.947Z"
   },
   {
    "duration": 12,
    "start_time": "2022-06-21T05:19:10.517Z"
   },
   {
    "duration": 8,
    "start_time": "2022-06-21T05:19:18.511Z"
   },
   {
    "duration": 14,
    "start_time": "2022-06-21T05:20:43.115Z"
   },
   {
    "duration": 14,
    "start_time": "2022-06-21T05:22:06.577Z"
   },
   {
    "duration": 10,
    "start_time": "2022-06-21T05:24:29.609Z"
   },
   {
    "duration": 13,
    "start_time": "2022-06-21T05:27:59.341Z"
   },
   {
    "duration": 12,
    "start_time": "2022-06-21T05:28:33.400Z"
   },
   {
    "duration": 12,
    "start_time": "2022-06-21T05:29:25.394Z"
   },
   {
    "duration": 12,
    "start_time": "2022-06-21T05:30:30.633Z"
   },
   {
    "duration": 12,
    "start_time": "2022-06-21T05:31:23.324Z"
   },
   {
    "duration": 11,
    "start_time": "2022-06-21T05:33:03.609Z"
   },
   {
    "duration": 18,
    "start_time": "2022-06-21T05:43:14.797Z"
   },
   {
    "duration": 12,
    "start_time": "2022-06-21T05:45:17.600Z"
   },
   {
    "duration": 14,
    "start_time": "2022-06-21T05:45:44.085Z"
   },
   {
    "duration": 16,
    "start_time": "2022-06-21T05:45:53.243Z"
   },
   {
    "duration": 13,
    "start_time": "2022-06-21T06:00:55.388Z"
   },
   {
    "duration": 12,
    "start_time": "2022-06-21T06:01:10.852Z"
   },
   {
    "duration": 13,
    "start_time": "2022-06-21T06:01:35.797Z"
   },
   {
    "duration": 3,
    "start_time": "2022-06-21T06:01:41.975Z"
   },
   {
    "duration": 104,
    "start_time": "2022-06-21T06:01:41.980Z"
   },
   {
    "duration": 9,
    "start_time": "2022-06-21T06:01:42.087Z"
   },
   {
    "duration": 21,
    "start_time": "2022-06-21T06:01:42.098Z"
   },
   {
    "duration": 40,
    "start_time": "2022-06-21T06:01:42.122Z"
   },
   {
    "duration": 28,
    "start_time": "2022-06-21T06:01:42.164Z"
   },
   {
    "duration": 7,
    "start_time": "2022-06-21T06:01:42.194Z"
   },
   {
    "duration": 15,
    "start_time": "2022-06-21T06:01:42.202Z"
   },
   {
    "duration": 41,
    "start_time": "2022-06-21T06:01:42.219Z"
   },
   {
    "duration": 31,
    "start_time": "2022-06-21T06:01:42.262Z"
   },
   {
    "duration": 8,
    "start_time": "2022-06-21T06:01:42.296Z"
   },
   {
    "duration": 16,
    "start_time": "2022-06-21T06:01:42.306Z"
   },
   {
    "duration": 14,
    "start_time": "2022-06-21T06:01:42.324Z"
   },
   {
    "duration": 16,
    "start_time": "2022-06-21T06:01:42.339Z"
   },
   {
    "duration": 13,
    "start_time": "2022-06-21T06:01:42.356Z"
   },
   {
    "duration": 13,
    "start_time": "2022-06-21T06:01:42.370Z"
   },
   {
    "duration": 18,
    "start_time": "2022-06-21T06:01:42.385Z"
   },
   {
    "duration": 10,
    "start_time": "2022-06-21T06:01:42.404Z"
   },
   {
    "duration": 28,
    "start_time": "2022-06-21T06:01:42.416Z"
   },
   {
    "duration": 8,
    "start_time": "2022-06-21T06:01:42.453Z"
   },
   {
    "duration": 21,
    "start_time": "2022-06-21T06:01:42.463Z"
   },
   {
    "duration": 15,
    "start_time": "2022-06-21T06:01:42.486Z"
   },
   {
    "duration": 13,
    "start_time": "2022-06-21T06:01:42.503Z"
   },
   {
    "duration": 45,
    "start_time": "2022-06-21T06:01:42.518Z"
   },
   {
    "duration": 13,
    "start_time": "2022-06-21T06:01:42.566Z"
   },
   {
    "duration": 21,
    "start_time": "2022-06-21T06:01:42.581Z"
   },
   {
    "duration": 95,
    "start_time": "2022-06-21T06:01:42.605Z"
   },
   {
    "duration": 122,
    "start_time": "2022-06-21T06:01:42.702Z"
   },
   {
    "duration": 27,
    "start_time": "2022-06-21T06:01:42.828Z"
   },
   {
    "duration": 14,
    "start_time": "2022-06-21T06:01:42.857Z"
   },
   {
    "duration": 173,
    "start_time": "2022-06-21T06:01:42.873Z"
   },
   {
    "duration": 6,
    "start_time": "2022-06-21T06:01:43.048Z"
   },
   {
    "duration": 22,
    "start_time": "2022-06-21T06:01:43.055Z"
   },
   {
    "duration": 15,
    "start_time": "2022-06-21T06:01:43.079Z"
   },
   {
    "duration": 9,
    "start_time": "2022-06-21T06:01:43.095Z"
   },
   {
    "duration": 38,
    "start_time": "2022-06-21T06:01:43.106Z"
   },
   {
    "duration": 22,
    "start_time": "2022-06-21T06:01:43.146Z"
   },
   {
    "duration": 23,
    "start_time": "2022-06-21T06:01:43.171Z"
   },
   {
    "duration": 32,
    "start_time": "2022-06-21T06:01:43.196Z"
   },
   {
    "duration": 35,
    "start_time": "2022-06-21T06:01:43.252Z"
   },
   {
    "duration": 18,
    "start_time": "2022-06-21T06:01:43.289Z"
   },
   {
    "duration": 15,
    "start_time": "2022-06-21T06:01:43.310Z"
   },
   {
    "duration": 11,
    "start_time": "2022-06-21T06:01:48.223Z"
   },
   {
    "duration": 22,
    "start_time": "2022-06-21T06:02:21.202Z"
   },
   {
    "duration": 13,
    "start_time": "2022-06-21T06:03:16.470Z"
   },
   {
    "duration": 25,
    "start_time": "2022-06-21T06:03:20.192Z"
   },
   {
    "duration": 8,
    "start_time": "2022-06-21T06:07:17.416Z"
   },
   {
    "duration": 9,
    "start_time": "2022-06-21T06:08:07.836Z"
   },
   {
    "duration": 7,
    "start_time": "2022-06-21T06:16:40.817Z"
   },
   {
    "duration": 9,
    "start_time": "2022-06-21T06:16:54.249Z"
   },
   {
    "duration": 11,
    "start_time": "2022-06-21T06:17:23.632Z"
   },
   {
    "duration": 1157,
    "start_time": "2022-06-21T06:20:42.755Z"
   },
   {
    "duration": 2919,
    "start_time": "2022-06-21T06:21:25.855Z"
   },
   {
    "duration": 24,
    "start_time": "2022-06-21T06:22:57.333Z"
   },
   {
    "duration": 20,
    "start_time": "2022-06-21T06:23:15.447Z"
   },
   {
    "duration": 786,
    "start_time": "2022-06-21T06:23:21.407Z"
   },
   {
    "duration": 923,
    "start_time": "2022-06-21T06:24:30.708Z"
   },
   {
    "duration": 10,
    "start_time": "2022-06-21T06:25:22.152Z"
   },
   {
    "duration": 9,
    "start_time": "2022-06-21T06:25:44.540Z"
   },
   {
    "duration": 11,
    "start_time": "2022-06-21T06:26:48.771Z"
   },
   {
    "duration": 9,
    "start_time": "2022-06-21T06:26:55.075Z"
   },
   {
    "duration": 10,
    "start_time": "2022-06-21T06:27:02.395Z"
   },
   {
    "duration": 13,
    "start_time": "2022-06-21T06:29:37.351Z"
   },
   {
    "duration": 1369,
    "start_time": "2022-06-21T06:30:29.117Z"
   },
   {
    "duration": 1129,
    "start_time": "2022-06-21T06:30:54.781Z"
   },
   {
    "duration": 19,
    "start_time": "2022-06-21T06:32:08.698Z"
   },
   {
    "duration": 11,
    "start_time": "2022-06-21T06:32:30.206Z"
   },
   {
    "duration": 14,
    "start_time": "2022-06-21T06:32:34.146Z"
   },
   {
    "duration": 11,
    "start_time": "2022-06-21T06:33:09.620Z"
   },
   {
    "duration": 34,
    "start_time": "2022-06-21T06:33:46.088Z"
   },
   {
    "duration": 6,
    "start_time": "2022-06-21T06:34:26.921Z"
   },
   {
    "duration": 8,
    "start_time": "2022-06-21T06:35:02.319Z"
   },
   {
    "duration": 13,
    "start_time": "2022-06-21T07:51:31.077Z"
   },
   {
    "duration": 4,
    "start_time": "2022-06-21T07:55:52.428Z"
   },
   {
    "duration": 116,
    "start_time": "2022-06-21T07:55:52.434Z"
   },
   {
    "duration": 18,
    "start_time": "2022-06-21T07:55:52.552Z"
   },
   {
    "duration": 32,
    "start_time": "2022-06-21T07:55:52.573Z"
   },
   {
    "duration": 23,
    "start_time": "2022-06-21T07:55:52.607Z"
   },
   {
    "duration": 48,
    "start_time": "2022-06-21T07:55:52.632Z"
   },
   {
    "duration": 7,
    "start_time": "2022-06-21T07:55:52.683Z"
   },
   {
    "duration": 20,
    "start_time": "2022-06-21T07:55:52.692Z"
   },
   {
    "duration": 44,
    "start_time": "2022-06-21T07:55:52.714Z"
   },
   {
    "duration": 24,
    "start_time": "2022-06-21T07:55:52.759Z"
   },
   {
    "duration": 5,
    "start_time": "2022-06-21T07:55:52.786Z"
   },
   {
    "duration": 9,
    "start_time": "2022-06-21T07:55:52.793Z"
   },
   {
    "duration": 9,
    "start_time": "2022-06-21T07:55:52.803Z"
   },
   {
    "duration": 14,
    "start_time": "2022-06-21T07:55:52.814Z"
   },
   {
    "duration": 6,
    "start_time": "2022-06-21T07:55:52.851Z"
   },
   {
    "duration": 22,
    "start_time": "2022-06-21T07:55:52.859Z"
   },
   {
    "duration": 18,
    "start_time": "2022-06-21T07:55:52.883Z"
   },
   {
    "duration": 18,
    "start_time": "2022-06-21T07:55:52.904Z"
   },
   {
    "duration": 23,
    "start_time": "2022-06-21T07:55:52.924Z"
   },
   {
    "duration": 10,
    "start_time": "2022-06-21T07:55:52.952Z"
   },
   {
    "duration": 37,
    "start_time": "2022-06-21T07:55:52.964Z"
   },
   {
    "duration": 15,
    "start_time": "2022-06-21T07:55:53.003Z"
   },
   {
    "duration": 9,
    "start_time": "2022-06-21T07:55:53.020Z"
   },
   {
    "duration": 42,
    "start_time": "2022-06-21T07:55:53.030Z"
   },
   {
    "duration": 9,
    "start_time": "2022-06-21T07:55:53.075Z"
   },
   {
    "duration": 21,
    "start_time": "2022-06-21T07:55:53.086Z"
   },
   {
    "duration": 72,
    "start_time": "2022-06-21T07:55:53.109Z"
   },
   {
    "duration": 121,
    "start_time": "2022-06-21T07:55:53.182Z"
   },
   {
    "duration": 21,
    "start_time": "2022-06-21T07:55:53.308Z"
   },
   {
    "duration": 27,
    "start_time": "2022-06-21T07:55:53.331Z"
   },
   {
    "duration": 204,
    "start_time": "2022-06-21T07:55:53.360Z"
   },
   {
    "duration": 7,
    "start_time": "2022-06-21T07:55:53.567Z"
   },
   {
    "duration": 33,
    "start_time": "2022-06-21T07:55:53.576Z"
   },
   {
    "duration": 23,
    "start_time": "2022-06-21T07:55:53.611Z"
   },
   {
    "duration": 15,
    "start_time": "2022-06-21T07:55:53.636Z"
   },
   {
    "duration": 35,
    "start_time": "2022-06-21T07:55:53.654Z"
   },
   {
    "duration": 13,
    "start_time": "2022-06-21T07:55:53.691Z"
   },
   {
    "duration": 48,
    "start_time": "2022-06-21T07:55:53.706Z"
   },
   {
    "duration": 46,
    "start_time": "2022-06-21T07:55:53.756Z"
   },
   {
    "duration": 27,
    "start_time": "2022-06-21T07:55:53.804Z"
   },
   {
    "duration": 18,
    "start_time": "2022-06-21T07:55:53.832Z"
   },
   {
    "duration": 28,
    "start_time": "2022-06-21T07:55:53.852Z"
   },
   {
    "duration": 20,
    "start_time": "2022-06-21T07:55:53.882Z"
   },
   {
    "duration": 17,
    "start_time": "2022-06-21T07:55:53.903Z"
   },
   {
    "duration": 52,
    "start_time": "2022-06-21T07:55:53.923Z"
   },
   {
    "duration": 242,
    "start_time": "2022-06-21T07:55:53.977Z"
   },
   {
    "duration": 5,
    "start_time": "2022-06-21T07:55:54.221Z"
   },
   {
    "duration": 72,
    "start_time": "2022-06-21T07:55:54.228Z"
   },
   {
    "duration": 4,
    "start_time": "2022-06-21T07:55:54.303Z"
   },
   {
    "duration": 19,
    "start_time": "2022-06-21T07:55:54.309Z"
   },
   {
    "duration": 22,
    "start_time": "2022-06-21T07:55:54.330Z"
   },
   {
    "duration": 201,
    "start_time": "2022-06-21T07:55:54.355Z"
   },
   {
    "duration": 1233,
    "start_time": "2022-06-21T07:55:54.558Z"
   },
   {
    "duration": 12,
    "start_time": "2022-06-21T07:55:55.793Z"
   },
   {
    "duration": 18,
    "start_time": "2022-06-21T07:55:55.807Z"
   },
   {
    "duration": 14,
    "start_time": "2022-06-21T07:55:55.827Z"
   },
   {
    "duration": 16,
    "start_time": "2022-06-21T07:55:55.843Z"
   },
   {
    "duration": 21,
    "start_time": "2022-06-21T07:55:55.864Z"
   },
   {
    "duration": 15,
    "start_time": "2022-06-21T07:55:55.887Z"
   },
   {
    "duration": 13,
    "start_time": "2022-06-21T07:55:55.904Z"
   },
   {
    "duration": 19,
    "start_time": "2022-06-21T07:55:55.918Z"
   },
   {
    "duration": 14,
    "start_time": "2022-06-21T07:55:55.939Z"
   },
   {
    "duration": 30,
    "start_time": "2022-06-21T07:55:55.957Z"
   },
   {
    "duration": 15,
    "start_time": "2022-06-21T07:55:55.989Z"
   },
   {
    "duration": 13,
    "start_time": "2022-06-21T07:55:56.006Z"
   },
   {
    "duration": 17,
    "start_time": "2022-06-21T07:55:56.020Z"
   },
   {
    "duration": 24,
    "start_time": "2022-06-21T07:55:56.040Z"
   },
   {
    "duration": 16,
    "start_time": "2022-06-21T07:55:56.066Z"
   },
   {
    "duration": 25,
    "start_time": "2022-06-21T07:55:56.084Z"
   },
   {
    "duration": 9,
    "start_time": "2022-06-21T07:55:56.111Z"
   },
   {
    "duration": 7,
    "start_time": "2022-06-21T07:55:56.122Z"
   },
   {
    "duration": 63,
    "start_time": "2022-06-21T07:55:56.131Z"
   },
   {
    "duration": 9,
    "start_time": "2022-06-21T07:55:56.196Z"
   },
   {
    "duration": 9,
    "start_time": "2022-06-21T07:55:56.207Z"
   },
   {
    "duration": 3,
    "start_time": "2022-06-21T07:58:23.834Z"
   },
   {
    "duration": 145,
    "start_time": "2022-06-21T07:58:23.839Z"
   },
   {
    "duration": 9,
    "start_time": "2022-06-21T07:58:23.987Z"
   },
   {
    "duration": 18,
    "start_time": "2022-06-21T07:58:23.997Z"
   },
   {
    "duration": 46,
    "start_time": "2022-06-21T07:58:24.017Z"
   },
   {
    "duration": 30,
    "start_time": "2022-06-21T07:58:24.066Z"
   },
   {
    "duration": 7,
    "start_time": "2022-06-21T07:58:24.097Z"
   },
   {
    "duration": 15,
    "start_time": "2022-06-21T07:58:24.106Z"
   },
   {
    "duration": 47,
    "start_time": "2022-06-21T07:58:24.123Z"
   },
   {
    "duration": 22,
    "start_time": "2022-06-21T07:58:24.172Z"
   },
   {
    "duration": 6,
    "start_time": "2022-06-21T07:58:24.198Z"
   },
   {
    "duration": 10,
    "start_time": "2022-06-21T07:58:24.206Z"
   },
   {
    "duration": 35,
    "start_time": "2022-06-21T07:58:24.218Z"
   },
   {
    "duration": 26,
    "start_time": "2022-06-21T07:58:24.255Z"
   },
   {
    "duration": 19,
    "start_time": "2022-06-21T07:58:24.283Z"
   },
   {
    "duration": 19,
    "start_time": "2022-06-21T07:58:24.303Z"
   },
   {
    "duration": 19,
    "start_time": "2022-06-21T07:58:24.324Z"
   },
   {
    "duration": 35,
    "start_time": "2022-06-21T07:58:24.351Z"
   },
   {
    "duration": 25,
    "start_time": "2022-06-21T07:58:24.389Z"
   },
   {
    "duration": 10,
    "start_time": "2022-06-21T07:58:24.416Z"
   },
   {
    "duration": 20,
    "start_time": "2022-06-21T07:58:24.428Z"
   },
   {
    "duration": 15,
    "start_time": "2022-06-21T07:58:24.450Z"
   },
   {
    "duration": 31,
    "start_time": "2022-06-21T07:58:24.466Z"
   },
   {
    "duration": 25,
    "start_time": "2022-06-21T07:58:24.499Z"
   },
   {
    "duration": 12,
    "start_time": "2022-06-21T07:58:24.527Z"
   },
   {
    "duration": 31,
    "start_time": "2022-06-21T07:58:24.541Z"
   },
   {
    "duration": 48,
    "start_time": "2022-06-21T07:58:24.574Z"
   },
   {
    "duration": 137,
    "start_time": "2022-06-21T07:58:24.624Z"
   },
   {
    "duration": 16,
    "start_time": "2022-06-21T07:58:24.766Z"
   },
   {
    "duration": 14,
    "start_time": "2022-06-21T07:58:24.784Z"
   },
   {
    "duration": 191,
    "start_time": "2022-06-21T07:58:24.800Z"
   },
   {
    "duration": 5,
    "start_time": "2022-06-21T07:58:24.993Z"
   },
   {
    "duration": 26,
    "start_time": "2022-06-21T07:58:25.000Z"
   },
   {
    "duration": 31,
    "start_time": "2022-06-21T07:58:25.028Z"
   },
   {
    "duration": 120,
    "start_time": "2022-06-21T07:58:25.061Z"
   },
   {
    "duration": 62,
    "start_time": "2022-06-21T07:58:25.183Z"
   },
   {
    "duration": 71,
    "start_time": "2022-06-21T07:58:25.247Z"
   },
   {
    "duration": 34,
    "start_time": "2022-06-21T07:58:25.320Z"
   },
   {
    "duration": 55,
    "start_time": "2022-06-21T07:58:25.356Z"
   },
   {
    "duration": 49,
    "start_time": "2022-06-21T07:58:25.413Z"
   },
   {
    "duration": 37,
    "start_time": "2022-06-21T07:58:25.466Z"
   },
   {
    "duration": 23,
    "start_time": "2022-06-21T07:58:25.505Z"
   },
   {
    "duration": 52,
    "start_time": "2022-06-21T07:58:25.532Z"
   },
   {
    "duration": 29,
    "start_time": "2022-06-21T07:58:25.585Z"
   },
   {
    "duration": 38,
    "start_time": "2022-06-21T07:58:25.616Z"
   },
   {
    "duration": 238,
    "start_time": "2022-06-21T07:58:25.655Z"
   },
   {
    "duration": 5,
    "start_time": "2022-06-21T07:58:25.895Z"
   },
   {
    "duration": 63,
    "start_time": "2022-06-21T07:58:25.902Z"
   },
   {
    "duration": 17,
    "start_time": "2022-06-21T07:58:25.967Z"
   },
   {
    "duration": 38,
    "start_time": "2022-06-21T07:58:25.986Z"
   },
   {
    "duration": 15,
    "start_time": "2022-06-21T07:58:26.026Z"
   },
   {
    "duration": 235,
    "start_time": "2022-06-21T07:58:26.043Z"
   },
   {
    "duration": 837,
    "start_time": "2022-06-21T07:58:26.280Z"
   },
   {
    "duration": 12,
    "start_time": "2022-06-21T07:58:27.120Z"
   },
   {
    "duration": 22,
    "start_time": "2022-06-21T07:58:27.134Z"
   },
   {
    "duration": 32,
    "start_time": "2022-06-21T07:58:27.158Z"
   },
   {
    "duration": 18,
    "start_time": "2022-06-21T07:58:27.192Z"
   },
   {
    "duration": 17,
    "start_time": "2022-06-21T07:58:27.212Z"
   },
   {
    "duration": 22,
    "start_time": "2022-06-21T07:58:27.231Z"
   },
   {
    "duration": 30,
    "start_time": "2022-06-21T07:58:27.255Z"
   },
   {
    "duration": 16,
    "start_time": "2022-06-21T07:58:27.288Z"
   },
   {
    "duration": 44,
    "start_time": "2022-06-21T07:58:27.306Z"
   },
   {
    "duration": 42,
    "start_time": "2022-06-21T07:58:27.353Z"
   },
   {
    "duration": 27,
    "start_time": "2022-06-21T07:58:27.397Z"
   },
   {
    "duration": 20,
    "start_time": "2022-06-21T07:58:27.427Z"
   },
   {
    "duration": 30,
    "start_time": "2022-06-21T07:58:27.451Z"
   },
   {
    "duration": 20,
    "start_time": "2022-06-21T07:58:27.484Z"
   },
   {
    "duration": 15,
    "start_time": "2022-06-21T07:58:27.506Z"
   },
   {
    "duration": 21,
    "start_time": "2022-06-21T07:58:27.522Z"
   },
   {
    "duration": 7,
    "start_time": "2022-06-21T07:58:27.544Z"
   },
   {
    "duration": 8,
    "start_time": "2022-06-21T07:58:27.553Z"
   },
   {
    "duration": 10,
    "start_time": "2022-06-21T07:58:27.563Z"
   },
   {
    "duration": 10,
    "start_time": "2022-06-21T07:58:27.575Z"
   },
   {
    "duration": 16,
    "start_time": "2022-06-21T07:58:27.586Z"
   },
   {
    "duration": 13,
    "start_time": "2022-06-21T07:58:51.801Z"
   },
   {
    "duration": 10,
    "start_time": "2022-06-21T07:58:59.276Z"
   },
   {
    "duration": 1634,
    "start_time": "2022-06-21T13:43:38.478Z"
   },
   {
    "duration": 389,
    "start_time": "2022-06-21T13:43:40.115Z"
   },
   {
    "duration": 15,
    "start_time": "2022-06-21T13:43:40.506Z"
   },
   {
    "duration": 69,
    "start_time": "2022-06-21T13:43:40.523Z"
   },
   {
    "duration": 44,
    "start_time": "2022-06-21T13:43:40.594Z"
   },
   {
    "duration": 48,
    "start_time": "2022-06-21T13:43:40.651Z"
   },
   {
    "duration": 7,
    "start_time": "2022-06-21T13:43:40.701Z"
   },
   {
    "duration": 75,
    "start_time": "2022-06-21T13:43:40.709Z"
   },
   {
    "duration": 30,
    "start_time": "2022-06-21T13:43:40.785Z"
   },
   {
    "duration": 73,
    "start_time": "2022-06-21T13:43:40.817Z"
   },
   {
    "duration": 6,
    "start_time": "2022-06-21T13:43:40.892Z"
   },
   {
    "duration": 35,
    "start_time": "2022-06-21T13:43:40.900Z"
   },
   {
    "duration": 65,
    "start_time": "2022-06-21T13:43:40.936Z"
   },
   {
    "duration": 72,
    "start_time": "2022-06-21T13:43:41.005Z"
   },
   {
    "duration": 18,
    "start_time": "2022-06-21T13:43:41.079Z"
   },
   {
    "duration": 34,
    "start_time": "2022-06-21T13:43:41.099Z"
   },
   {
    "duration": 66,
    "start_time": "2022-06-21T13:43:41.135Z"
   },
   {
    "duration": 398,
    "start_time": "2022-06-21T13:43:41.203Z"
   },
   {
    "duration": 15,
    "start_time": "2022-06-21T13:43:41.603Z"
   },
   {
    "duration": 74,
    "start_time": "2022-06-21T13:43:41.619Z"
   },
   {
    "duration": 45,
    "start_time": "2022-06-21T13:43:41.695Z"
   },
   {
    "duration": 51,
    "start_time": "2022-06-21T13:43:41.741Z"
   },
   {
    "duration": 19,
    "start_time": "2022-06-21T13:43:41.794Z"
   },
   {
    "duration": 66,
    "start_time": "2022-06-21T13:43:41.814Z"
   },
   {
    "duration": 28,
    "start_time": "2022-06-21T13:43:41.882Z"
   },
   {
    "duration": 79,
    "start_time": "2022-06-21T13:43:41.912Z"
   },
   {
    "duration": 300,
    "start_time": "2022-06-21T13:43:41.993Z"
   },
   {
    "duration": 132,
    "start_time": "2022-06-21T13:43:42.297Z"
   },
   {
    "duration": 28,
    "start_time": "2022-06-21T13:43:42.440Z"
   },
   {
    "duration": 27,
    "start_time": "2022-06-21T13:43:42.469Z"
   },
   {
    "duration": 201,
    "start_time": "2022-06-21T13:43:42.498Z"
   },
   {
    "duration": 4,
    "start_time": "2022-06-21T13:43:42.701Z"
   },
   {
    "duration": 34,
    "start_time": "2022-06-21T13:43:42.706Z"
   },
   {
    "duration": 63,
    "start_time": "2022-06-21T13:43:42.742Z"
   },
   {
    "duration": 143,
    "start_time": "2022-06-21T13:43:42.807Z"
   },
   {
    "duration": 50,
    "start_time": "2022-06-21T13:43:42.952Z"
   },
   {
    "duration": 61,
    "start_time": "2022-06-21T13:43:43.004Z"
   },
   {
    "duration": 37,
    "start_time": "2022-06-21T13:43:43.067Z"
   },
   {
    "duration": 37,
    "start_time": "2022-06-21T13:43:43.105Z"
   },
   {
    "duration": 65,
    "start_time": "2022-06-21T13:43:43.143Z"
   },
   {
    "duration": 22,
    "start_time": "2022-06-21T13:43:43.212Z"
   },
   {
    "duration": 72,
    "start_time": "2022-06-21T13:43:43.239Z"
   },
   {
    "duration": 26,
    "start_time": "2022-06-21T13:43:43.313Z"
   },
   {
    "duration": 57,
    "start_time": "2022-06-21T13:43:43.341Z"
   },
   {
    "duration": 68,
    "start_time": "2022-06-21T13:43:43.400Z"
   },
   {
    "duration": 242,
    "start_time": "2022-06-21T13:43:43.470Z"
   },
   {
    "duration": 4,
    "start_time": "2022-06-21T13:43:43.714Z"
   },
   {
    "duration": 98,
    "start_time": "2022-06-21T13:43:43.720Z"
   },
   {
    "duration": 48,
    "start_time": "2022-06-21T13:43:43.821Z"
   },
   {
    "duration": 30,
    "start_time": "2022-06-21T13:43:43.870Z"
   },
   {
    "duration": 25,
    "start_time": "2022-06-21T13:43:43.902Z"
   },
   {
    "duration": 271,
    "start_time": "2022-06-21T13:43:43.931Z"
   },
   {
    "duration": 1075,
    "start_time": "2022-06-21T13:43:44.204Z"
   },
   {
    "duration": 15,
    "start_time": "2022-06-21T13:43:45.281Z"
   },
   {
    "duration": 27,
    "start_time": "2022-06-21T13:43:45.298Z"
   },
   {
    "duration": 77,
    "start_time": "2022-06-21T13:43:45.326Z"
   },
   {
    "duration": 14,
    "start_time": "2022-06-21T13:43:45.404Z"
   },
   {
    "duration": 67,
    "start_time": "2022-06-21T13:43:45.419Z"
   },
   {
    "duration": 36,
    "start_time": "2022-06-21T13:43:45.488Z"
   },
   {
    "duration": 68,
    "start_time": "2022-06-21T13:43:45.528Z"
   },
   {
    "duration": 60,
    "start_time": "2022-06-21T13:43:45.598Z"
   },
   {
    "duration": 41,
    "start_time": "2022-06-21T13:43:45.660Z"
   },
   {
    "duration": 37,
    "start_time": "2022-06-21T13:43:45.703Z"
   },
   {
    "duration": 35,
    "start_time": "2022-06-21T13:43:45.749Z"
   },
   {
    "duration": 31,
    "start_time": "2022-06-21T13:43:45.786Z"
   },
   {
    "duration": 95,
    "start_time": "2022-06-21T13:43:45.818Z"
   },
   {
    "duration": 70,
    "start_time": "2022-06-21T13:43:45.915Z"
   },
   {
    "duration": 36,
    "start_time": "2022-06-21T13:43:45.987Z"
   },
   {
    "duration": 82,
    "start_time": "2022-06-21T13:43:46.024Z"
   },
   {
    "duration": 14,
    "start_time": "2022-06-21T13:43:46.108Z"
   },
   {
    "duration": 61,
    "start_time": "2022-06-21T13:43:46.124Z"
   },
   {
    "duration": 39,
    "start_time": "2022-06-21T13:43:46.187Z"
   },
   {
    "duration": 62,
    "start_time": "2022-06-21T13:43:46.228Z"
   },
   {
    "duration": 22,
    "start_time": "2022-06-21T13:43:46.292Z"
   },
   {
    "duration": 27,
    "start_time": "2022-06-21T13:45:57.904Z"
   },
   {
    "duration": 17,
    "start_time": "2022-06-21T13:46:18.706Z"
   },
   {
    "duration": 1614,
    "start_time": "2022-06-21T13:51:42.460Z"
   },
   {
    "duration": 379,
    "start_time": "2022-06-21T13:51:44.076Z"
   },
   {
    "duration": 13,
    "start_time": "2022-06-21T13:51:44.459Z"
   },
   {
    "duration": 14,
    "start_time": "2022-06-21T13:51:44.474Z"
   },
   {
    "duration": 19,
    "start_time": "2022-06-21T13:51:44.490Z"
   },
   {
    "duration": 33,
    "start_time": "2022-06-21T13:51:44.510Z"
   },
   {
    "duration": 14,
    "start_time": "2022-06-21T13:51:44.546Z"
   },
   {
    "duration": 15,
    "start_time": "2022-06-21T13:51:44.564Z"
   },
   {
    "duration": 14,
    "start_time": "2022-06-21T13:51:44.581Z"
   },
   {
    "duration": 34,
    "start_time": "2022-06-21T13:51:44.597Z"
   },
   {
    "duration": 22,
    "start_time": "2022-06-21T13:51:44.636Z"
   },
   {
    "duration": 16,
    "start_time": "2022-06-21T13:51:44.659Z"
   },
   {
    "duration": 8,
    "start_time": "2022-06-21T13:51:44.677Z"
   },
   {
    "duration": 12,
    "start_time": "2022-06-21T13:51:44.687Z"
   },
   {
    "duration": 6,
    "start_time": "2022-06-21T13:51:44.702Z"
   },
   {
    "duration": 10,
    "start_time": "2022-06-21T13:51:44.710Z"
   },
   {
    "duration": 63,
    "start_time": "2022-06-21T13:51:44.722Z"
   },
   {
    "duration": 337,
    "start_time": "2022-06-21T13:51:44.787Z"
   },
   {
    "duration": 20,
    "start_time": "2022-06-21T13:51:45.126Z"
   },
   {
    "duration": 28,
    "start_time": "2022-06-21T13:51:45.148Z"
   },
   {
    "duration": 30,
    "start_time": "2022-06-21T13:51:45.179Z"
   },
   {
    "duration": 26,
    "start_time": "2022-06-21T13:51:45.212Z"
   },
   {
    "duration": 36,
    "start_time": "2022-06-21T13:51:45.242Z"
   },
   {
    "duration": 14,
    "start_time": "2022-06-21T13:51:45.280Z"
   },
   {
    "duration": 23,
    "start_time": "2022-06-21T13:51:45.296Z"
   },
   {
    "duration": 53,
    "start_time": "2022-06-21T13:51:45.321Z"
   },
   {
    "duration": 380,
    "start_time": "2022-06-21T13:51:45.375Z"
   },
   {
    "duration": 314,
    "start_time": "2022-06-21T13:51:45.760Z"
   },
   {
    "duration": 82,
    "start_time": "2022-06-21T13:51:46.076Z"
   },
   {
    "duration": 23,
    "start_time": "2022-06-21T13:51:46.160Z"
   },
   {
    "duration": 309,
    "start_time": "2022-06-21T13:51:46.185Z"
   },
   {
    "duration": 6,
    "start_time": "2022-06-21T13:51:46.495Z"
   },
   {
    "duration": 37,
    "start_time": "2022-06-21T13:51:46.503Z"
   },
   {
    "duration": 18,
    "start_time": "2022-06-21T13:51:46.542Z"
   },
   {
    "duration": 13,
    "start_time": "2022-06-21T13:51:46.562Z"
   },
   {
    "duration": 14,
    "start_time": "2022-06-21T13:51:46.576Z"
   },
   {
    "duration": 9,
    "start_time": "2022-06-21T13:51:46.591Z"
   },
   {
    "duration": 56,
    "start_time": "2022-06-21T13:51:46.623Z"
   },
   {
    "duration": 28,
    "start_time": "2022-06-21T13:51:46.681Z"
   },
   {
    "duration": 29,
    "start_time": "2022-06-21T13:51:46.710Z"
   },
   {
    "duration": 23,
    "start_time": "2022-06-21T13:51:46.741Z"
   },
   {
    "duration": 15,
    "start_time": "2022-06-21T13:51:46.766Z"
   },
   {
    "duration": 11,
    "start_time": "2022-06-21T13:51:46.783Z"
   },
   {
    "duration": 43,
    "start_time": "2022-06-21T13:51:46.796Z"
   },
   {
    "duration": 36,
    "start_time": "2022-06-21T13:51:46.841Z"
   },
   {
    "duration": 17,
    "start_time": "2022-06-21T13:51:46.880Z"
   },
   {
    "duration": 247,
    "start_time": "2022-06-21T13:51:46.899Z"
   },
   {
    "duration": 5,
    "start_time": "2022-06-21T13:51:47.147Z"
   },
   {
    "duration": 59,
    "start_time": "2022-06-21T13:51:47.153Z"
   },
   {
    "duration": 4,
    "start_time": "2022-06-21T13:51:47.213Z"
   },
   {
    "duration": 54,
    "start_time": "2022-06-21T13:51:47.219Z"
   },
   {
    "duration": 6,
    "start_time": "2022-06-21T13:51:47.275Z"
   },
   {
    "duration": 199,
    "start_time": "2022-06-21T13:51:47.282Z"
   },
   {
    "duration": 1196,
    "start_time": "2022-06-21T13:51:47.483Z"
   },
   {
    "duration": 19,
    "start_time": "2022-06-21T13:51:48.681Z"
   },
   {
    "duration": 25,
    "start_time": "2022-06-21T13:51:48.702Z"
   },
   {
    "duration": 46,
    "start_time": "2022-06-21T13:51:48.733Z"
   },
   {
    "duration": 11,
    "start_time": "2022-06-21T13:51:48.782Z"
   },
   {
    "duration": 10,
    "start_time": "2022-06-21T13:51:48.796Z"
   },
   {
    "duration": 21,
    "start_time": "2022-06-21T13:51:48.808Z"
   },
   {
    "duration": 41,
    "start_time": "2022-06-21T13:51:48.836Z"
   },
   {
    "duration": 13,
    "start_time": "2022-06-21T13:51:48.880Z"
   },
   {
    "duration": 12,
    "start_time": "2022-06-21T13:51:48.895Z"
   },
   {
    "duration": 13,
    "start_time": "2022-06-21T13:51:48.909Z"
   },
   {
    "duration": 64,
    "start_time": "2022-06-21T13:51:48.927Z"
   },
   {
    "duration": 17,
    "start_time": "2022-06-21T13:51:48.993Z"
   },
   {
    "duration": 55,
    "start_time": "2022-06-21T13:51:49.013Z"
   },
   {
    "duration": 20,
    "start_time": "2022-06-21T13:51:49.070Z"
   },
   {
    "duration": 8,
    "start_time": "2022-06-21T13:51:49.093Z"
   },
   {
    "duration": 19,
    "start_time": "2022-06-21T13:51:49.102Z"
   },
   {
    "duration": 15,
    "start_time": "2022-06-21T13:51:49.127Z"
   },
   {
    "duration": 31,
    "start_time": "2022-06-21T13:51:49.149Z"
   },
   {
    "duration": 16,
    "start_time": "2022-06-21T13:51:49.182Z"
   },
   {
    "duration": 7,
    "start_time": "2022-06-21T13:51:49.201Z"
   },
   {
    "duration": 8,
    "start_time": "2022-06-21T13:51:49.210Z"
   },
   {
    "duration": 16,
    "start_time": "2022-06-21T14:11:32.652Z"
   },
   {
    "duration": 26,
    "start_time": "2022-06-21T14:11:52.808Z"
   },
   {
    "duration": 16,
    "start_time": "2022-06-21T14:14:35.213Z"
   },
   {
    "duration": 15,
    "start_time": "2022-06-21T14:14:53.969Z"
   },
   {
    "duration": 25,
    "start_time": "2022-06-21T14:16:19.940Z"
   },
   {
    "duration": 13,
    "start_time": "2022-06-21T14:17:25.893Z"
   },
   {
    "duration": 13,
    "start_time": "2022-06-21T14:18:31.096Z"
   },
   {
    "duration": 16,
    "start_time": "2022-06-21T14:18:36.223Z"
   },
   {
    "duration": 9,
    "start_time": "2022-06-21T14:18:46.894Z"
   },
   {
    "duration": 14,
    "start_time": "2022-06-21T14:19:51.254Z"
   },
   {
    "duration": 4,
    "start_time": "2022-06-21T15:05:57.657Z"
   },
   {
    "duration": 124,
    "start_time": "2022-06-21T15:05:57.663Z"
   },
   {
    "duration": 10,
    "start_time": "2022-06-21T15:05:57.789Z"
   },
   {
    "duration": 27,
    "start_time": "2022-06-21T15:05:57.801Z"
   },
   {
    "duration": 20,
    "start_time": "2022-06-21T15:05:57.829Z"
   },
   {
    "duration": 23,
    "start_time": "2022-06-21T15:05:57.851Z"
   },
   {
    "duration": 5,
    "start_time": "2022-06-21T15:05:57.875Z"
   },
   {
    "duration": 13,
    "start_time": "2022-06-21T15:05:57.882Z"
   },
   {
    "duration": 15,
    "start_time": "2022-06-21T15:05:57.929Z"
   },
   {
    "duration": 18,
    "start_time": "2022-06-21T15:05:57.946Z"
   },
   {
    "duration": 5,
    "start_time": "2022-06-21T15:05:57.966Z"
   },
   {
    "duration": 8,
    "start_time": "2022-06-21T15:05:57.973Z"
   },
   {
    "duration": 6,
    "start_time": "2022-06-21T15:05:57.982Z"
   },
   {
    "duration": 7,
    "start_time": "2022-06-21T15:05:57.990Z"
   },
   {
    "duration": 5,
    "start_time": "2022-06-21T15:05:58.027Z"
   },
   {
    "duration": 9,
    "start_time": "2022-06-21T15:05:58.033Z"
   },
   {
    "duration": 21,
    "start_time": "2022-06-21T15:05:58.044Z"
   },
   {
    "duration": 11,
    "start_time": "2022-06-21T15:05:58.066Z"
   },
   {
    "duration": 15,
    "start_time": "2022-06-21T15:05:58.078Z"
   },
   {
    "duration": 36,
    "start_time": "2022-06-21T15:05:58.095Z"
   },
   {
    "duration": 14,
    "start_time": "2022-06-21T15:05:58.132Z"
   },
   {
    "duration": 12,
    "start_time": "2022-06-21T15:05:58.147Z"
   },
   {
    "duration": 9,
    "start_time": "2022-06-21T15:05:58.160Z"
   },
   {
    "duration": 17,
    "start_time": "2022-06-21T15:05:58.172Z"
   },
   {
    "duration": 11,
    "start_time": "2022-06-21T15:05:58.190Z"
   },
   {
    "duration": 12,
    "start_time": "2022-06-21T15:05:58.227Z"
   },
   {
    "duration": 46,
    "start_time": "2022-06-21T15:05:58.240Z"
   },
   {
    "duration": 120,
    "start_time": "2022-06-21T15:05:58.287Z"
   },
   {
    "duration": 20,
    "start_time": "2022-06-21T15:05:58.408Z"
   },
   {
    "duration": 14,
    "start_time": "2022-06-21T15:05:58.430Z"
   },
   {
    "duration": 170,
    "start_time": "2022-06-21T15:05:58.446Z"
   },
   {
    "duration": 4,
    "start_time": "2022-06-21T15:05:58.617Z"
   },
   {
    "duration": 14,
    "start_time": "2022-06-21T15:05:58.627Z"
   },
   {
    "duration": 12,
    "start_time": "2022-06-21T15:05:58.642Z"
   },
   {
    "duration": 8,
    "start_time": "2022-06-21T15:05:58.656Z"
   },
   {
    "duration": 11,
    "start_time": "2022-06-21T15:05:58.666Z"
   },
   {
    "duration": 8,
    "start_time": "2022-06-21T15:05:58.678Z"
   },
   {
    "duration": 50,
    "start_time": "2022-06-21T15:05:58.688Z"
   },
   {
    "duration": 18,
    "start_time": "2022-06-21T15:05:58.739Z"
   },
   {
    "duration": 21,
    "start_time": "2022-06-21T15:05:58.759Z"
   },
   {
    "duration": 16,
    "start_time": "2022-06-21T15:05:58.782Z"
   },
   {
    "duration": 45,
    "start_time": "2022-06-21T15:05:58.800Z"
   },
   {
    "duration": 12,
    "start_time": "2022-06-21T15:05:58.846Z"
   },
   {
    "duration": 12,
    "start_time": "2022-06-21T15:05:58.859Z"
   },
   {
    "duration": 11,
    "start_time": "2022-06-21T15:05:58.873Z"
   },
   {
    "duration": 15,
    "start_time": "2022-06-21T15:05:58.885Z"
   },
   {
    "duration": 191,
    "start_time": "2022-06-21T15:05:58.901Z"
   },
   {
    "duration": 4,
    "start_time": "2022-06-21T15:05:59.093Z"
   },
   {
    "duration": 56,
    "start_time": "2022-06-21T15:05:59.099Z"
   },
   {
    "duration": 4,
    "start_time": "2022-06-21T15:05:59.157Z"
   },
   {
    "duration": 17,
    "start_time": "2022-06-21T15:05:59.162Z"
   },
   {
    "duration": 5,
    "start_time": "2022-06-21T15:05:59.181Z"
   },
   {
    "duration": 193,
    "start_time": "2022-06-21T15:05:59.188Z"
   },
   {
    "duration": 1257,
    "start_time": "2022-06-21T15:05:59.382Z"
   },
   {
    "duration": 10,
    "start_time": "2022-06-21T15:06:00.641Z"
   },
   {
    "duration": 25,
    "start_time": "2022-06-21T15:06:00.653Z"
   },
   {
    "duration": 22,
    "start_time": "2022-06-21T15:06:00.680Z"
   },
   {
    "duration": 38,
    "start_time": "2022-06-21T15:06:00.704Z"
   },
   {
    "duration": 27,
    "start_time": "2022-06-21T15:06:00.744Z"
   },
   {
    "duration": 11,
    "start_time": "2022-06-21T15:06:00.773Z"
   },
   {
    "duration": 11,
    "start_time": "2022-06-21T15:06:00.786Z"
   },
   {
    "duration": 13,
    "start_time": "2022-06-21T15:06:00.799Z"
   },
   {
    "duration": 22,
    "start_time": "2022-06-21T15:06:00.814Z"
   },
   {
    "duration": 15,
    "start_time": "2022-06-21T15:06:00.837Z"
   },
   {
    "duration": 103,
    "start_time": "2022-06-21T15:06:00.854Z"
   },
   {
    "duration": 19,
    "start_time": "2022-06-21T15:06:00.958Z"
   },
   {
    "duration": 10,
    "start_time": "2022-06-21T15:06:00.979Z"
   },
   {
    "duration": 26,
    "start_time": "2022-06-21T15:06:00.991Z"
   },
   {
    "duration": 7,
    "start_time": "2022-06-21T15:06:01.022Z"
   },
   {
    "duration": 21,
    "start_time": "2022-06-21T15:06:01.031Z"
   },
   {
    "duration": 7,
    "start_time": "2022-06-21T15:06:01.054Z"
   },
   {
    "duration": 11,
    "start_time": "2022-06-21T15:06:01.062Z"
   },
   {
    "duration": 29,
    "start_time": "2022-06-21T15:06:01.075Z"
   },
   {
    "duration": 15,
    "start_time": "2022-06-21T15:06:01.105Z"
   },
   {
    "duration": 66,
    "start_time": "2022-06-21T15:06:01.122Z"
   }
  ],
  "kernelspec": {
   "display_name": "Python 3 (ipykernel)",
   "language": "python",
   "name": "python3"
  },
  "language_info": {
   "codemirror_mode": {
    "name": "ipython",
    "version": 3
   },
   "file_extension": ".py",
   "mimetype": "text/x-python",
   "name": "python",
   "nbconvert_exporter": "python",
   "pygments_lexer": "ipython3",
   "version": "3.10.1"
  },
  "toc": {
   "base_numbering": 1,
   "nav_menu": {},
   "number_sections": true,
   "sideBar": true,
   "skip_h1_title": false,
   "title_cell": "Table of Contents",
   "title_sidebar": "Contents",
   "toc_cell": false,
   "toc_position": {
    "height": "calc(100% - 180px)",
    "left": "10px",
    "top": "150px",
    "width": "256px"
   },
   "toc_section_display": true,
   "toc_window_display": true
  }
 },
 "nbformat": 4,
 "nbformat_minor": 5
}
