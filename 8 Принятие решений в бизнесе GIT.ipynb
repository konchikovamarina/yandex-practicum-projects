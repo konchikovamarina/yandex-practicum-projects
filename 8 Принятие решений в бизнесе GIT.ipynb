{
 "cells": [
  {
   "cell_type": "markdown",
   "id": "dce01b89",
   "metadata": {},
   "source": [
    "**Задание проекта:\"Приоритизировать гипотезы, запустите A/B-тест и проанализировать результаты.\"**"
   ]
  },
  {
   "cell_type": "markdown",
   "id": "023d4c40",
   "metadata": {},
   "source": [
    "\n",
    "Поставлена задача:\n",
    "\n",
    "\n",
    "Приоритизировать гипотезы по увеличению выручки интернет маназина, запустить A/B-тест и проанализировать результаты.\n",
    "\n"
   ]
  },
  {
   "cell_type": "markdown",
   "id": "87e4b1dc",
   "metadata": {},
   "source": [
    "# Знакомство с вводными данными."
   ]
  },
  {
   "cell_type": "code",
   "execution_count": 195,
   "id": "7f1625fb",
   "metadata": {},
   "outputs": [],
   "source": [
    "# загрузим необходимые библиотеки\n",
    "import pandas as pd\n",
    "from scipy import stats as st\n",
    "import numpy as np\n",
    "import math as mth\n",
    "import matplotlib.pyplot as plt\n",
    "import datetime as dt\n"
   ]
  },
  {
   "cell_type": "code",
   "execution_count": 196,
   "id": "74e830fa",
   "metadata": {},
   "outputs": [],
   "source": [
    "# загрузим файлы\n",
    "#hypothesis\n",
    "try:\n",
    "    hypothesis = pd.read_csv('\\Dev\\Jupyter\\dist\\projects\\ABtest\\hypothesis.csv', sep=',')\n",
    "except:\n",
    "    hypothesis = pd.read_csv('/datasets/hypothesis.csv', sep=',')\n",
    "\n",
    "#orders\n",
    "try:\n",
    "    orders = pd.read_csv('\\Dev\\Jupyter\\dist\\projects\\ABtest\\orders.csv', sep=',')\n",
    "except:\n",
    "    orders = pd.read_csv('/datasets/orders.csv', sep=',')\n",
    "\n",
    "#visitors\n",
    "try:\n",
    "    visitors = pd.read_csv('\\\\Dev\\\\Jupyter\\\\dist\\\\projects\\\\ABtest\\\\visitors.csv', sep=',')\n",
    "except:\n",
    "    visitors = pd.read_csv('/datasets/visitors.csv', sep=',')\n"
   ]
  },
  {
   "cell_type": "code",
   "execution_count": 197,
   "id": "89c0b454",
   "metadata": {},
   "outputs": [
    {
     "name": "stdout",
     "output_type": "stream",
     "text": [
      "   transactionId   visitorId        date  revenue group\n",
      "0     3667963787  3312258926  2019-08-15     1650     B\n",
      "1     2804400009  3642806036  2019-08-15      730     B\n",
      "2     2961555356  4069496402  2019-08-15      400     A\n",
      "3     3797467345  1196621759  2019-08-15     9759     B\n",
      "4     2282983706  2322279887  2019-08-15     2308     B\n"
     ]
    }
   ],
   "source": [
    "# выведем первые 5 строк на экран\n",
    "print(orders.head())"
   ]
  },
  {
   "cell_type": "code",
   "execution_count": 198,
   "id": "9c6717cf",
   "metadata": {},
   "outputs": [
    {
     "name": "stdout",
     "output_type": "stream",
     "text": [
      "                                                                                                     Hypothesis  \\\n",
      "0            Добавить два новых канала привлечения трафика, что позволит привлекать на 30% больше пользователей   \n",
      "1                                     Запустить собственную службу доставки, что сократит срок доставки заказов   \n",
      "2  Добавить блоки рекомендаций товаров на сайт интернет магазина, чтобы повысить конверсию и средний чек заказа   \n",
      "3           Изменить структура категорий, что увеличит конверсию, т.к. пользователи быстрее найдут нужный товар   \n",
      "4                              Изменить цвет фона главной страницы, чтобы увеличить вовлеченность пользователей   \n",
      "\n",
      "   Reach  Impact  Confidence  Efforts  \n",
      "0      3      10           8        6  \n",
      "1      2       5           4       10  \n",
      "2      8       3           7        3  \n",
      "3      8       3           3        8  \n",
      "4      3       1           1        1  \n"
     ]
    }
   ],
   "source": [
    "# выведем первые 5 строк на экран\n",
    "print(hypothesis.head())"
   ]
  },
  {
   "cell_type": "code",
   "execution_count": 199,
   "id": "1d71a3c1",
   "metadata": {},
   "outputs": [
    {
     "name": "stdout",
     "output_type": "stream",
     "text": [
      "   transactionId   visitorId        date  revenue group\n",
      "0     3667963787  3312258926  2019-08-15     1650     B\n",
      "1     2804400009  3642806036  2019-08-15      730     B\n",
      "2     2961555356  4069496402  2019-08-15      400     A\n",
      "3     3797467345  1196621759  2019-08-15     9759     B\n",
      "4     2282983706  2322279887  2019-08-15     2308     B\n"
     ]
    }
   ],
   "source": [
    "# выведем первые 5 строк на экран\n",
    "print(orders.head())"
   ]
  },
  {
   "cell_type": "code",
   "execution_count": 200,
   "id": "84142b77",
   "metadata": {},
   "outputs": [
    {
     "name": "stdout",
     "output_type": "stream",
     "text": [
      "         date group  visitors\n",
      "0  2019-08-01     A       719\n",
      "1  2019-08-02     A       619\n",
      "2  2019-08-03     A       507\n",
      "3  2019-08-04     A       717\n",
      "4  2019-08-05     A       756\n"
     ]
    }
   ],
   "source": [
    "# выведем первые 5 строк на экран\n",
    "print(visitors.head())"
   ]
  },
  {
   "cell_type": "code",
   "execution_count": 201,
   "id": "e12997f5",
   "metadata": {},
   "outputs": [
    {
     "name": "stdout",
     "output_type": "stream",
     "text": [
      "<class 'pandas.core.frame.DataFrame'>\n",
      "RangeIndex: 9 entries, 0 to 8\n",
      "Data columns (total 5 columns):\n",
      " #   Column      Non-Null Count  Dtype \n",
      "---  ------      --------------  ----- \n",
      " 0   Hypothesis  9 non-null      object\n",
      " 1   Reach       9 non-null      int64 \n",
      " 2   Impact      9 non-null      int64 \n",
      " 3   Confidence  9 non-null      int64 \n",
      " 4   Efforts     9 non-null      int64 \n",
      "dtypes: int64(4), object(1)\n",
      "memory usage: 488.0+ bytes\n"
     ]
    }
   ],
   "source": [
    "# выведем общую информацию  \n",
    "hypothesis.info()"
   ]
  },
  {
   "cell_type": "code",
   "execution_count": 202,
   "id": "850d5a17",
   "metadata": {},
   "outputs": [
    {
     "name": "stdout",
     "output_type": "stream",
     "text": [
      "<class 'pandas.core.frame.DataFrame'>\n",
      "RangeIndex: 1197 entries, 0 to 1196\n",
      "Data columns (total 5 columns):\n",
      " #   Column         Non-Null Count  Dtype \n",
      "---  ------         --------------  ----- \n",
      " 0   transactionId  1197 non-null   int64 \n",
      " 1   visitorId      1197 non-null   int64 \n",
      " 2   date           1197 non-null   object\n",
      " 3   revenue        1197 non-null   int64 \n",
      " 4   group          1197 non-null   object\n",
      "dtypes: int64(3), object(2)\n",
      "memory usage: 46.9+ KB\n"
     ]
    }
   ],
   "source": [
    "# выведем общую информацию  orders\n",
    "orders.info()"
   ]
  },
  {
   "cell_type": "code",
   "execution_count": 203,
   "id": "ac47a9b6",
   "metadata": {},
   "outputs": [
    {
     "name": "stdout",
     "output_type": "stream",
     "text": [
      "<class 'pandas.core.frame.DataFrame'>\n",
      "RangeIndex: 62 entries, 0 to 61\n",
      "Data columns (total 3 columns):\n",
      " #   Column    Non-Null Count  Dtype \n",
      "---  ------    --------------  ----- \n",
      " 0   date      62 non-null     object\n",
      " 1   group     62 non-null     object\n",
      " 2   visitors  62 non-null     int64 \n",
      "dtypes: int64(1), object(2)\n",
      "memory usage: 1.6+ KB\n"
     ]
    }
   ],
   "source": [
    "# выведем общую информацию  visitors\n",
    "visitors.info()"
   ]
  },
  {
   "cell_type": "markdown",
   "id": "890f908f",
   "metadata": {},
   "source": [
    "## Обработка данных."
   ]
  },
  {
   "cell_type": "code",
   "execution_count": 204,
   "id": "d605761d",
   "metadata": {},
   "outputs": [
    {
     "name": "stdout",
     "output_type": "stream",
     "text": [
      "                                                                                                     hypothesis  \\\n",
      "0            Добавить два новых канала привлечения трафика, что позволит привлекать на 30% больше пользователей   \n",
      "1                                     Запустить собственную службу доставки, что сократит срок доставки заказов   \n",
      "2  Добавить блоки рекомендаций товаров на сайт интернет магазина, чтобы повысить конверсию и средний чек заказа   \n",
      "3           Изменить структура категорий, что увеличит конверсию, т.к. пользователи быстрее найдут нужный товар   \n",
      "4                              Изменить цвет фона главной страницы, чтобы увеличить вовлеченность пользователей   \n",
      "\n",
      "   reach  impact  confidence  efforts  \n",
      "0      3      10           8        6  \n",
      "1      2       5           4       10  \n",
      "2      8       3           7        3  \n",
      "3      8       3           3        8  \n",
      "4      3       1           1        1  \n"
     ]
    }
   ],
   "source": [
    "# приведём названия колонок к нижнему регистру\n",
    "hypothesis.columns = hypothesis.columns.str.lower()\n",
    "# выведем первые 5 строк на экран\n",
    "print(hypothesis.head())"
   ]
  },
  {
   "cell_type": "code",
   "execution_count": 205,
   "id": "61a96c96",
   "metadata": {},
   "outputs": [
    {
     "name": "stdout",
     "output_type": "stream",
     "text": [
      "   transactionid   visitorid        date  revenue group\n",
      "0     3667963787  3312258926  2019-08-15     1650     B\n",
      "1     2804400009  3642806036  2019-08-15      730     B\n",
      "2     2961555356  4069496402  2019-08-15      400     A\n",
      "3     3797467345  1196621759  2019-08-15     9759     B\n",
      "4     2282983706  2322279887  2019-08-15     2308     B\n"
     ]
    }
   ],
   "source": [
    "# приведём названия колонок к нижнему регистру\n",
    "orders.columns = orders.columns.str.lower()\n",
    "# выведем первые 5 строк на экран\n",
    "print(orders.head())"
   ]
  },
  {
   "cell_type": "code",
   "execution_count": 206,
   "id": "a61f1210",
   "metadata": {},
   "outputs": [
    {
     "name": "stdout",
     "output_type": "stream",
     "text": [
      "0\n",
      "0\n",
      "0\n"
     ]
    }
   ],
   "source": [
    "# проверим данные на количество дубликатов\n",
    "print(hypothesis.duplicated().sum())\n",
    "print(orders.duplicated().sum())\n",
    "print(visitors.duplicated().sum())"
   ]
  },
  {
   "cell_type": "markdown",
   "id": "4665bf0a",
   "metadata": {},
   "source": [
    "*Промежуточный вывод*\n",
    "\n",
    "Необходимиые для анализа библиотеки загружены\n",
    "\n",
    "Данные сохранены в переменных\n",
    "\n",
    "названия колонок приведены к нижнему регистру\n",
    "\n",
    "проведена проверка на наличие дубликатов\n",
    "\n",
    "\n",
    "\n"
   ]
  },
  {
   "cell_type": "code",
   "execution_count": 207,
   "id": "d7bcfa3d",
   "metadata": {},
   "outputs": [
    {
     "name": "stdout",
     "output_type": "stream",
     "text": [
      "       transactionid  visitorid  date  revenue\n",
      "group                                         \n",
      "A                557        557   557      557\n",
      "B                640        640   640      640\n",
      "Минимальная дата: 2019-08-01\n",
      "Максимальная дата: 2019-08-31\n"
     ]
    }
   ],
   "source": [
    "# найдём количество и размер групп \n",
    "print(orders.groupby(by=['group']).count())\n",
    "\n",
    "# выведем минимальную дату\n",
    "print('Минимальная дата:',orders['date'].min())\n",
    "# выведем максимальную дату\n",
    "print('Максимальная дата:',orders['date'].max())"
   ]
  },
  {
   "cell_type": "markdown",
   "id": "a31a3726",
   "metadata": {},
   "source": [
    " # Часть 1. Приоритизация гипотез. \n",
    " "
   ]
  },
  {
   "cell_type": "code",
   "execution_count": 208,
   "id": "2e968025",
   "metadata": {},
   "outputs": [
    {
     "data": {
      "text/html": [
       "<div>\n",
       "<style scoped>\n",
       "    .dataframe tbody tr th:only-of-type {\n",
       "        vertical-align: middle;\n",
       "    }\n",
       "\n",
       "    .dataframe tbody tr th {\n",
       "        vertical-align: top;\n",
       "    }\n",
       "\n",
       "    .dataframe thead th {\n",
       "        text-align: right;\n",
       "    }\n",
       "</style>\n",
       "<table border=\"1\" class=\"dataframe\">\n",
       "  <thead>\n",
       "    <tr style=\"text-align: right;\">\n",
       "      <th></th>\n",
       "      <th>hypothesis</th>\n",
       "      <th>reach</th>\n",
       "      <th>impact</th>\n",
       "      <th>confidence</th>\n",
       "      <th>efforts</th>\n",
       "    </tr>\n",
       "  </thead>\n",
       "  <tbody>\n",
       "    <tr>\n",
       "      <th>0</th>\n",
       "      <td>Добавить два новых канала привлечения трафика, что позволит привлекать на 30% больше пользователей</td>\n",
       "      <td>3</td>\n",
       "      <td>10</td>\n",
       "      <td>8</td>\n",
       "      <td>6</td>\n",
       "    </tr>\n",
       "    <tr>\n",
       "      <th>1</th>\n",
       "      <td>Запустить собственную службу доставки, что сократит срок доставки заказов</td>\n",
       "      <td>2</td>\n",
       "      <td>5</td>\n",
       "      <td>4</td>\n",
       "      <td>10</td>\n",
       "    </tr>\n",
       "    <tr>\n",
       "      <th>2</th>\n",
       "      <td>Добавить блоки рекомендаций товаров на сайт интернет магазина, чтобы повысить конверсию и средний чек заказа</td>\n",
       "      <td>8</td>\n",
       "      <td>3</td>\n",
       "      <td>7</td>\n",
       "      <td>3</td>\n",
       "    </tr>\n",
       "    <tr>\n",
       "      <th>3</th>\n",
       "      <td>Изменить структура категорий, что увеличит конверсию, т.к. пользователи быстрее найдут нужный товар</td>\n",
       "      <td>8</td>\n",
       "      <td>3</td>\n",
       "      <td>3</td>\n",
       "      <td>8</td>\n",
       "    </tr>\n",
       "    <tr>\n",
       "      <th>4</th>\n",
       "      <td>Изменить цвет фона главной страницы, чтобы увеличить вовлеченность пользователей</td>\n",
       "      <td>3</td>\n",
       "      <td>1</td>\n",
       "      <td>1</td>\n",
       "      <td>1</td>\n",
       "    </tr>\n",
       "    <tr>\n",
       "      <th>5</th>\n",
       "      <td>Добавить страницу отзывов клиентов о магазине, что позволит увеличить количество заказов</td>\n",
       "      <td>3</td>\n",
       "      <td>2</td>\n",
       "      <td>2</td>\n",
       "      <td>3</td>\n",
       "    </tr>\n",
       "    <tr>\n",
       "      <th>6</th>\n",
       "      <td>Показать на главной странице баннеры с актуальными акциями и распродажами, чтобы увеличить конверсию</td>\n",
       "      <td>5</td>\n",
       "      <td>3</td>\n",
       "      <td>8</td>\n",
       "      <td>3</td>\n",
       "    </tr>\n",
       "    <tr>\n",
       "      <th>7</th>\n",
       "      <td>Добавить форму подписки на все основные страницы, чтобы собрать базу клиентов для email-рассылок</td>\n",
       "      <td>10</td>\n",
       "      <td>7</td>\n",
       "      <td>8</td>\n",
       "      <td>5</td>\n",
       "    </tr>\n",
       "    <tr>\n",
       "      <th>8</th>\n",
       "      <td>Запустить акцию, дающую скидку на товар в день рождения</td>\n",
       "      <td>1</td>\n",
       "      <td>9</td>\n",
       "      <td>9</td>\n",
       "      <td>5</td>\n",
       "    </tr>\n",
       "  </tbody>\n",
       "</table>\n",
       "</div>"
      ],
      "text/plain": [
       "                                                                                                     hypothesis  \\\n",
       "0            Добавить два новых канала привлечения трафика, что позволит привлекать на 30% больше пользователей   \n",
       "1                                     Запустить собственную службу доставки, что сократит срок доставки заказов   \n",
       "2  Добавить блоки рекомендаций товаров на сайт интернет магазина, чтобы повысить конверсию и средний чек заказа   \n",
       "3           Изменить структура категорий, что увеличит конверсию, т.к. пользователи быстрее найдут нужный товар   \n",
       "4                              Изменить цвет фона главной страницы, чтобы увеличить вовлеченность пользователей   \n",
       "5                      Добавить страницу отзывов клиентов о магазине, что позволит увеличить количество заказов   \n",
       "6          Показать на главной странице баннеры с актуальными акциями и распродажами, чтобы увеличить конверсию   \n",
       "7              Добавить форму подписки на все основные страницы, чтобы собрать базу клиентов для email-рассылок   \n",
       "8                                                       Запустить акцию, дающую скидку на товар в день рождения   \n",
       "\n",
       "   reach  impact  confidence  efforts  \n",
       "0      3      10           8        6  \n",
       "1      2       5           4       10  \n",
       "2      8       3           7        3  \n",
       "3      8       3           3        8  \n",
       "4      3       1           1        1  \n",
       "5      3       2           2        3  \n",
       "6      5       3           8        3  \n",
       "7     10       7           8        5  \n",
       "8      1       9           9        5  "
      ]
     },
     "metadata": {},
     "output_type": "display_data"
    }
   ],
   "source": [
    "# выведем на экран hypothesis\n",
    "display(hypothesis)"
   ]
  },
  {
   "cell_type": "code",
   "execution_count": 209,
   "id": "5c5f5bfe",
   "metadata": {},
   "outputs": [
    {
     "name": "stdout",
     "output_type": "stream",
     "text": [
      "                                                                                                     hypothesis  \\\n",
      "8                                                       Запустить акцию, дающую скидку на товар в день рождения   \n",
      "0            Добавить два новых канала привлечения трафика, что позволит привлекать на 30% больше пользователей   \n",
      "7              Добавить форму подписки на все основные страницы, чтобы собрать базу клиентов для email-рассылок   \n",
      "6          Показать на главной странице баннеры с актуальными акциями и распродажами, чтобы увеличить конверсию   \n",
      "2  Добавить блоки рекомендаций товаров на сайт интернет магазина, чтобы повысить конверсию и средний чек заказа   \n",
      "1                                     Запустить собственную службу доставки, что сократит срок доставки заказов   \n",
      "5                      Добавить страницу отзывов клиентов о магазине, что позволит увеличить количество заказов   \n",
      "3           Изменить структура категорий, что увеличит конверсию, т.к. пользователи быстрее найдут нужный товар   \n",
      "4                              Изменить цвет фона главной страницы, чтобы увеличить вовлеченность пользователей   \n",
      "\n",
      "         ICE  \n",
      "8  16.200000  \n",
      "0  13.333333  \n",
      "7  11.200000  \n",
      "6   8.000000  \n",
      "2   7.000000  \n",
      "1   2.000000  \n",
      "5   1.333333  \n",
      "3   1.125000  \n",
      "4   1.000000  \n"
     ]
    }
   ],
   "source": [
    "# посчитаем ICE и отсортируем по убыванию\n",
    "hypothesis['ICE'] = hypothesis['impact']*hypothesis['confidence']/hypothesis['efforts']\n",
    "pd.set_option('display.max_colwidth', None)\n",
    "# выведем на экран hypothesis','ICE'\n",
    "print(hypothesis[['hypothesis','ICE']].sort_values(by=['ICE'],ascending=False))"
   ]
  },
  {
   "cell_type": "markdown",
   "id": "30bc3264",
   "metadata": {},
   "source": [
    "Используя фреймворк ICE для приоритизации гипотез, отберём  первые 4 гипотезы 8,0,7,6."
   ]
  },
  {
   "cell_type": "code",
   "execution_count": 210,
   "id": "dd9f8c2b",
   "metadata": {},
   "outputs": [
    {
     "name": "stdout",
     "output_type": "stream",
     "text": [
      "                                                                                                     hypothesis  \\\n",
      "7              Добавить форму подписки на все основные страницы, чтобы собрать базу клиентов для email-рассылок   \n",
      "2  Добавить блоки рекомендаций товаров на сайт интернет магазина, чтобы повысить конверсию и средний чек заказа   \n",
      "0            Добавить два новых канала привлечения трафика, что позволит привлекать на 30% больше пользователей   \n",
      "6          Показать на главной странице баннеры с актуальными акциями и распродажами, чтобы увеличить конверсию   \n",
      "8                                                       Запустить акцию, дающую скидку на товар в день рождения   \n",
      "3           Изменить структура категорий, что увеличит конверсию, т.к. пользователи быстрее найдут нужный товар   \n",
      "1                                     Запустить собственную службу доставки, что сократит срок доставки заказов   \n",
      "5                      Добавить страницу отзывов клиентов о магазине, что позволит увеличить количество заказов   \n",
      "4                              Изменить цвет фона главной страницы, чтобы увеличить вовлеченность пользователей   \n",
      "\n",
      "    RICE  \n",
      "7  112.0  \n",
      "2   56.0  \n",
      "0   40.0  \n",
      "6   40.0  \n",
      "8   16.2  \n",
      "3    9.0  \n",
      "1    4.0  \n",
      "5    4.0  \n",
      "4    3.0  \n"
     ]
    }
   ],
   "source": [
    "# посчитаем ICE и отсортируем по убыванию\n",
    "hypothesis['RICE'] = hypothesis['reach']*hypothesis['impact']*hypothesis['confidence']/hypothesis['efforts']\n",
    "# выведем на экран hypothesis','RICE'\n",
    "print(hypothesis[['hypothesis','RICE']].sort_values(by=['RICE'],ascending=False))"
   ]
  },
  {
   "cell_type": "markdown",
   "id": "b0785c3e",
   "metadata": {},
   "source": [
    "*Промежуточный вывод*\n",
    "\n",
    "С помощью фреймворк RICE тоже отберём первые 4 гипотезы: 7,2,0,6. Приоритизация гипотез при применении RICE вместо ICE изменилась разительно, т.к. компонента Reach имеет максимальную оценку у гипотезы 7.У остальных гипотез, отобранных по фреймворку ICE, оценка Reach невысока, в отличие от оценок других компонент."
   ]
  },
  {
   "cell_type": "code",
   "execution_count": 211,
   "id": "7a46281e",
   "metadata": {},
   "outputs": [
    {
     "data": {
      "image/png": "[encoded data removed]",
      "text/plain": [
       "<Figure size 720x720 with 1 Axes>"
      ]
     },
     "metadata": {
      "needs_background": "light"
     },
     "output_type": "display_data"
    }
   ],
   "source": [
    "y = hypothesis['ICE'] \n",
    "z = hypothesis['RICE'] \n",
    "n = hypothesis.index \n",
    "\n",
    "fig, ax = plt.subplots()\n",
    "ax.scatter(z, y)\n",
    "\n",
    "for i, txt in enumerate(n):\n",
    "    ax.annotate(txt, (z[i], y[i]))\n",
    "\n",
    "plt.title(\"ICE and RICE гипотезы\") \n",
    "plt.xlabel(\"RICE\") \n",
    "plt.ylabel(\"ICE\")\n",
    "\n",
    "fig.set_figheight(10)\n",
    "fig.set_figwidth(10) \n",
    "plt.show()    "
   ]
  },
  {
   "cell_type": "markdown",
   "id": "43065ef2",
   "metadata": {},
   "source": [
    "# Часть 2.Анализ A/B-теста.\n"
   ]
  },
  {
   "cell_type": "markdown",
   "id": "506664a4",
   "metadata": {},
   "source": [
    "## График кумулятивной выручки по группам. \n"
   ]
  },
  {
   "cell_type": "code",
   "execution_count": 212,
   "id": "5ec0cda7",
   "metadata": {},
   "outputs": [],
   "source": [
    "# создаем массив уникальных пар значений дат и групп теста\n",
    "datesGroups = orders[['date','group']].drop_duplicates()\n"
   ]
  },
  {
   "cell_type": "code",
   "execution_count": 213,
   "id": "05477669",
   "metadata": {},
   "outputs": [],
   "source": [
    "#Соберём агрегированные кумулятивные по дням данные о заказах \n",
    "ordersAggregated = datesGroups.apply(\n",
    "    lambda x: orders[np.logical_and(orders['date'] <= x['date'], orders['group'] == x['group']\n",
    "                                   )]\\\n",
    ".agg({'date' : 'max', 'group' : 'max'\n",
    "      , 'transactionid' : 'nunique'\n",
    "      , 'visitorid' : 'nunique'\n",
    "      , 'revenue' : 'sum'}), axis=1).sort_values(by=['date','group'])\n",
    "\n"
   ]
  },
  {
   "cell_type": "code",
   "execution_count": 214,
   "id": "492e1a53",
   "metadata": {},
   "outputs": [],
   "source": [
    "# получаем агрегированные кумулятивные по дням данные о посетителях интернет-магазина\n",
    "\n",
    "visitorsAggregated = datesGroups.apply(\n",
    "    lambda x: visitors[np.logical_and(visitors['date'] <= x['date'], visitors['group'] == x['group'])]\n",
    "    .agg({'date' : 'max', 'group' : 'max'\n",
    "          , 'visitors' : 'sum'})\n",
    "    , axis=1).sort_values(by=['date','group'])\n"
   ]
  },
  {
   "cell_type": "code",
   "execution_count": 215,
   "id": "4ef0e8d3",
   "metadata": {},
   "outputs": [
    {
     "name": "stdout",
     "output_type": "stream",
     "text": [
      "         date group  orders  buyers  revenue  visitors\n",
      "0  2019-08-01     A      24      20   148579       719\n",
      "1  2019-08-01     B      21      20   101217       713\n",
      "2  2019-08-02     A      44      38   242401      1338\n",
      "3  2019-08-02     B      45      43   266748      1294\n",
      "4  2019-08-03     A      68      62   354874      1845\n"
     ]
    }
   ],
   "source": [
    "# объединяем кумулятивные данные в одной таблице и присваиваем ее столбцам понятные названия\n",
    "cumulativeData = ordersAggregated.merge(\n",
    "    visitorsAggregated, left_on=['date', 'group'], right_on=['date', 'group']\n",
    ")\n",
    "cumulativeData.columns = ['date', 'group', 'orders', 'buyers', 'revenue', 'visitors']\n",
    "\n",
    "print(cumulativeData.head(5))\n"
   ]
  },
  {
   "cell_type": "code",
   "execution_count": 216,
   "id": "a77df5c0",
   "metadata": {},
   "outputs": [
    {
     "name": "stdout",
     "output_type": "stream",
     "text": [
      "Минимальная дата 2019-08-01\n",
      "Максимальная дата 2019-08-31\n"
     ]
    }
   ],
   "source": [
    "# проверим даты cumulativeData с исходными \n",
    "print ('Минимальная дата',cumulativeData['date'].min())\n",
    "print ('Максимальная дата',cumulativeData['date'].max())"
   ]
  },
  {
   "cell_type": "code",
   "execution_count": 217,
   "id": "2ad800d5",
   "metadata": {},
   "outputs": [
    {
     "data": {
      "image/png": "[encoded data removed]",
      "text/plain": [
       "<Figure size 1800x720 with 1 Axes>"
      ]
     },
     "metadata": {
      "needs_background": "light"
     },
     "output_type": "display_data"
    }
   ],
   "source": [
    "\n",
    "\n",
    "# датафрейм с кумулятивным количеством заказов и кумулятивной выручкой по дням в группе А\n",
    "cumulativeRevenueA = cumulativeData[cumulativeData['group']=='A'][['date','revenue', 'orders']]\n",
    "\n",
    "# датафрейм с кумулятивным количеством заказов и кумулятивной выручкой по дням в группе B\n",
    "cumulativeRevenueB = cumulativeData[cumulativeData['group']=='B'][['date','revenue', 'orders']]\n",
    "plt.figure(figsize=(25, 10))\n",
    "# Строим график выручки группы А\n",
    "plt.plot(cumulativeRevenueA['date'], cumulativeRevenueA['revenue'], label='A')\n",
    "plt.xticks(rotation=45)\n",
    "# Строим график выручки группы B\n",
    "plt.plot(cumulativeRevenueB['date'], cumulativeRevenueB['revenue'], label='B')\n",
    "plt.title(\"График кумулятивной выручки по группам\")\n",
    "plt.legend()\n",
    "plt.show()"
   ]
  },
  {
   "cell_type": "markdown",
   "id": "35199720",
   "metadata": {},
   "source": [
    "*Промежуточный вывод*\n",
    "\n",
    "Графики растут на всём протяжении анализа почти равномерно. График группы А близок к линейному и показывает равномерный рост на всём протяжении. График группы В имеет резкий скачок выручки с 18 по 19 августа . Может быть крупный заказ или увеличение спроса. Необходим дополнительный анализ выбросов."
   ]
  },
  {
   "cell_type": "markdown",
   "id": "f93bf055",
   "metadata": {},
   "source": [
    "## График кумулятивного среднего чека по группам.\n",
    " "
   ]
  },
  {
   "cell_type": "markdown",
   "id": "4c9034c9",
   "metadata": {},
   "source": [
    "Построим графики среднего чека по группам — разделим кумулятивную выручку на кумулятивное число заказов:"
   ]
  },
  {
   "cell_type": "code",
   "execution_count": 218,
   "id": "6b63178b",
   "metadata": {},
   "outputs": [
    {
     "data": {
      "image/png": "[encoded data removed]",
      "text/plain": [
       "<Figure size 1800x720 with 1 Axes>"
      ]
     },
     "metadata": {
      "needs_background": "light"
     },
     "output_type": "display_data"
    }
   ],
   "source": [
    "# Построим график кумулятивного среднего чека по группам\n",
    "plt.figure(figsize=(25, 10))\n",
    "plt.xticks(rotation=45)\n",
    "plt.plot(cumulativeRevenueA['date'], cumulativeRevenueA['revenue']/cumulativeRevenueA['orders'], label='A')\n",
    "plt.plot(cumulativeRevenueB['date'], cumulativeRevenueB['revenue']/cumulativeRevenueB['orders'], label='B')\n",
    "plt.title(\"График среднего чека по группам\")\n",
    "plt.legend()\n",
    "plt.show()"
   ]
  },
  {
   "cell_type": "markdown",
   "id": "4ed8a2e4",
   "metadata": {},
   "source": [
    "*Промежуточный вывод*\n",
    "\n",
    "Вначале периода оба графика ведут себя нестабильно имеют резкие спады и подъёмы. 19-20 августа график В имеет резкий подъём и далее начинает плавно спадать, т.к. резкий ему нужно больше данных, чтобы стабилизироваться и приблизится к реальному среднему чеку.График А ,напротив, почти не меняется после пика 13 августа. Оба графика к концу периода начали стабилизироватся в области настоящего среднего. Средний чек группы В выше, чем у группы А, возможно был крупный заказ и это выясним в ходе дальнейшего анализа."
   ]
  },
  {
   "cell_type": "markdown",
   "id": "39c01e2d",
   "metadata": {},
   "source": [
    "## График относительного изменения кумулятивного среднего чека группы B к группе A. \n",
    "  "
   ]
  },
  {
   "cell_type": "markdown",
   "id": "46441ff1",
   "metadata": {},
   "source": [
    "Построим график относительного различия для среднего чека. Добавим горизон-тальную ось методом axhline(). "
   ]
  },
  {
   "cell_type": "code",
   "execution_count": 219,
   "id": "2bcd2851",
   "metadata": {},
   "outputs": [],
   "source": [
    "# собираем данные в одном датафрейме\n",
    "mergedCumulativeRevenue = cumulativeRevenueA.merge(cumulativeRevenueB\n",
    "                                                   , left_on='date'\n",
    "                                                   , right_on='date'\n",
    "                                                   , how='left'\n",
    "                                                   , suffixes=['A', 'B'])"
   ]
  },
  {
   "cell_type": "code",
   "execution_count": 220,
   "id": "543b52ed",
   "metadata": {},
   "outputs": [
    {
     "data": {
      "image/png": "[encoded data removed]",
      "text/plain": [
       "<Figure size 1800x720 with 1 Axes>"
      ]
     },
     "metadata": {
      "needs_background": "light"
     },
     "output_type": "display_data"
    }
   ],
   "source": [
    "# Построим график относительного различия для среднего чека\n",
    "plt.figure(figsize=(25, 10))\n",
    "plt.xticks(rotation=45)\n",
    "# cтроим отношение средних чеков\n",
    "plt.plot(mergedCumulativeRevenue['date'], (\n",
    "    mergedCumulativeRevenue['revenueB']/mergedCumulativeRevenue['ordersB'])/(\n",
    "    mergedCumulativeRevenue['revenueA']/mergedCumulativeRevenue['ordersA'])-1)\n",
    "\n",
    "# добавляем ось X\n",
    "plt.axhline(y=0, color='black', linestyle='--') \n",
    "plt.title(\"График относительного различия для среднего чека по группам\")\n",
    "plt.show()"
   ]
  },
  {
   "cell_type": "markdown",
   "id": "fb2035b5",
   "metadata": {},
   "source": [
    "*Промежуточный вывод*\n",
    "\n",
    "В нескольких точках график различия между сегментами резко «скачет».В середине августа наблюдаем резкий уход в минус и затем возвращение на прежний уровень . К Концу наблюдаемого периода наметилась стабилизация. Видимо всё же присутствуют крупные заказы и выбросы,которые найдём  позже."
   ]
  },
  {
   "cell_type": "markdown",
   "id": "9c3cc912",
   "metadata": {},
   "source": [
    "##  График кумулятивной конверсии по группам. \n"
   ]
  },
  {
   "cell_type": "code",
   "execution_count": 221,
   "id": "591000f1",
   "metadata": {},
   "outputs": [],
   "source": [
    "# считаем кумулятивную конверсию\n",
    "cumulativeData['conversion'] = cumulativeData['orders']/cumulativeData['visitors']\n",
    "\n",
    "# отделяем данные по группе A\n",
    "cumulativeDataA = cumulativeData[cumulativeData['group']=='A']\n",
    "\n",
    "# отделяем данные по группе B\n",
    "cumulativeDataB = cumulativeData[cumulativeData['group']=='B']\n"
   ]
  },
  {
   "cell_type": "code",
   "execution_count": 222,
   "id": "cfe892f0",
   "metadata": {},
   "outputs": [
    {
     "data": {
      "image/png": "[encoded data removed]",
      "text/plain": [
       "<Figure size 1800x720 with 1 Axes>"
      ]
     },
     "metadata": {
      "needs_background": "light"
     },
     "output_type": "display_data"
    }
   ],
   "source": [
    "# строим графики\n",
    "plt.figure(figsize=(25, 10))\n",
    "plt.xticks(rotation=45)\n",
    "plt.plot(cumulativeDataA['date'], cumulativeDataA['conversion'], label='A')\n",
    "plt.plot(cumulativeDataB['date'], cumulativeDataB['conversion'], label='B')\n",
    "plt.legend()\n",
    "\n",
    "# задаем масштаб осей\n",
    "plt.axis([\"2019-08-01\", '2019-08-31', 0, 0.05])\n",
    "#  подпись графика\n",
    "plt.title(\"График кумулятивной конверсии по группам\")\n",
    "plt.show()"
   ]
  },
  {
   "cell_type": "markdown",
   "id": "7fb9469a",
   "metadata": {},
   "source": [
    "*Промежуточный вывод*\n",
    "\n",
    "Вначале  графика заметны пики  конверсии в обеих группах, но конверсия группы А опережала группу В. Группы колебались около одного значения, но затем конверсия группы В вырвалась вперёд и зафиксировалась, а конверсия группы А просела и также зафиксировалась."
   ]
  },
  {
   "cell_type": "markdown",
   "id": "0abe4d2c",
   "metadata": {},
   "source": [
    "## График относительного изменения кумулятивной конверсии группы B к группе A.\n"
   ]
  },
  {
   "cell_type": "code",
   "execution_count": 223,
   "id": "6495a5ca",
   "metadata": {},
   "outputs": [],
   "source": [
    "# Построим график относительного различия кумулятивных конверсий:\n",
    "mergedCumulativeConversions = cumulativeDataA[['date','conversion']].merge(\n",
    "    cumulativeDataB[['date','conversion']]\n",
    "    , left_on='date'\n",
    "    , right_on='date'\n",
    "    , how='left'\n",
    "    , suffixes=['A', 'B'])"
   ]
  },
  {
   "cell_type": "code",
   "execution_count": 224,
   "id": "f62f43f6",
   "metadata": {
    "scrolled": true
   },
   "outputs": [
    {
     "data": {
      "image/png": "[encoded data removed]",
      "text/plain": [
       "<Figure size 1800x720 with 1 Axes>"
      ]
     },
     "metadata": {
      "needs_background": "light"
     },
     "output_type": "display_data"
    }
   ],
   "source": [
    "plt.figure(figsize=(25, 10))\n",
    "plt.xticks(rotation=45)\n",
    "plt.plot(mergedCumulativeConversions['date']\n",
    "         , mergedCumulativeConversions['conversionB']/mergedCumulativeConversions['conversionA']-1\n",
    "         , label=\"Относительный прирост конверсии группы B относительно группы A\")\n",
    "plt.legend()\n",
    "\n",
    "plt.axhline(y=0, color='black', linestyle='--')\n",
    "plt.axhline(y=-0.1, color='grey', linestyle='--')\n",
    "plt.axis([\"2019-08-01\", '2019-08-31', -0.1, 0.3])\n",
    "plt.title(\"График относительного различия кумулятивных конверсий\")\n",
    "plt.show()"
   ]
  },
  {
   "cell_type": "markdown",
   "id": "b8e9e1c2",
   "metadata": {},
   "source": [
    "*Промежуточный вывод*\n",
    "\n",
    "В начале теста группа B значительно проигрывала группе A, затем вырвалась вперёд. Потом её конверсия снова падала, но снова вырвалась вперёд и затем стабилизировалась и теперь постепенно растёт.\n",
    "Стоит проанализировать аномалии, возможно, они изменят картину. \n"
   ]
  },
  {
   "cell_type": "markdown",
   "id": "0d9026bc",
   "metadata": {},
   "source": [
    "## Точечный график количества заказов по пользователям. \n"
   ]
  },
  {
   "cell_type": "code",
   "execution_count": 225,
   "id": "d1eab224",
   "metadata": {},
   "outputs": [
    {
     "name": "stdout",
     "output_type": "stream",
     "text": [
      "        visitors  transactions\n",
      "1023  4256040402            11\n",
      "591   2458001652            11\n",
      "569   2378935119             9\n",
      "487   2038680547             8\n",
      "44     199603092             5\n",
      "744   3062433592             5\n",
      "55     237748145             5\n",
      "917   3803269165             5\n",
      "299   1230306981             5\n",
      "897   3717692402             5\n"
     ]
    }
   ],
   "source": [
    "# Подсчитаем количество заказов по пользователям и посмотрим на результат:\n",
    "ordersByUsers = (\n",
    "    orders.groupby('visitorid', as_index=False)\n",
    "    .agg({'transactionid': 'nunique'})\n",
    ")\n",
    "\n",
    "ordersByUsers.columns = ['visitors', 'transactions']\n",
    "# выведем на экран результат первые 10 строк\n",
    "print(ordersByUsers.sort_values(by='transactions', ascending=False).head(10))\n"
   ]
  },
  {
   "cell_type": "code",
   "execution_count": 226,
   "id": "f9a1d823",
   "metadata": {},
   "outputs": [
    {
     "data": {
      "image/png": "[encoded data removed]",
      "text/plain": [
       "<Figure size 1800x720 with 1 Axes>"
      ]
     },
     "metadata": {
      "needs_background": "light"
     },
     "output_type": "display_data"
    }
   ],
   "source": [
    "# построим График количества заказов по пользователям\n",
    "x_values = pd.Series(range(0,len(ordersByUsers)))\n",
    "plt.figure(figsize=(25, 10))\n",
    "plt.scatter(x_values, ordersByUsers['transactions'])\n",
    "plt.title(\"График количества заказов по пользователям\")\n",
    "plt.show()"
   ]
  },
  {
   "cell_type": "markdown",
   "id": "776a92cc",
   "metadata": {},
   "source": [
    "*Промежуточный вывод*\n",
    "\n",
    "Очень много пользователей с 1 заказом, меньше - с двумя, а 3-4 и более заказов уже редкость. Их точная доля не ясна — непонятно, считать их аномалиями или нет.\n",
    "Посчитаем выборочные перцентили количества заказов на одного пользователя."
   ]
  },
  {
   "cell_type": "markdown",
   "id": "9fce3754",
   "metadata": {},
   "source": [
    "## Расчет 95-й и 99-й перцентили количества заказов на пользователя.\n"
   ]
  },
  {
   "cell_type": "code",
   "execution_count": 227,
   "id": "2ff4f980",
   "metadata": {},
   "outputs": [
    {
     "name": "stdout",
     "output_type": "stream",
     "text": [
      "[1. 2. 4.]\n"
     ]
    }
   ],
   "source": [
    "# Определим 90, 95 и 99 перцентили количества заказов\n",
    "print(np.percentile(ordersByUsers['transactions'], [90, 95, 99]))"
   ]
  },
  {
   "cell_type": "markdown",
   "id": "cc6f34c9",
   "metadata": {},
   "source": [
    "*Промежуточный вывод*\n",
    "\n",
    "Не более 5% пользователей оформляли больше чем 2 заказов, не более 1% пользователей заказали более 4 раз и 10% пользователей сделали более одного заказа.\n",
    "Разумно выбрать 2 или 4 заказа на одного пользователя за нижнюю границу числа заказов, и отсеять аномальных пользователей по ней."
   ]
  },
  {
   "cell_type": "markdown",
   "id": "00b44c14",
   "metadata": {},
   "source": [
    "## Точечный график стоимостей заказов.\n"
   ]
  },
  {
   "cell_type": "code",
   "execution_count": 228,
   "id": "7dce2298",
   "metadata": {},
   "outputs": [
    {
     "data": {
      "image/png": "[encoded data removed]",
      "text/plain": [
       "<Figure size 1800x720 with 1 Axes>"
      ]
     },
     "metadata": {
      "needs_background": "light"
     },
     "output_type": "display_data"
    }
   ],
   "source": [
    "# построим точечный график стоимостей заказов\n",
    "x_values = pd.Series(range(0,len(orders['revenue'])))\n",
    "plt.figure(figsize=(25, 10))\n",
    "plt.scatter(x_values, orders['revenue'])\n",
    "plt.title(\"График стоимостей заказов\")\n",
    "plt.show()"
   ]
  },
  {
   "cell_type": "markdown",
   "id": "da0abf0c",
   "metadata": {},
   "source": [
    "*Промежуточный вывод*\n",
    "\n",
    "Всё, как предполагали: есть один очень дорогой заказ и небольшое количество не очень дорогих. По графику можно выбрать границу аномальных заказов между 10000 и 30000, принято отсеивать от 1% до 5% наблюдений с крайними значениями. Далее найдём границы этих значений."
   ]
  },
  {
   "cell_type": "code",
   "execution_count": 229,
   "id": "48e0f8a5",
   "metadata": {},
   "outputs": [
    {
     "data": {
      "image/png": "[encoded data removed]",
      "text/plain": [
       "<Figure size 1800x720 with 1 Axes>"
      ]
     },
     "metadata": {
      "needs_background": "light"
     },
     "output_type": "display_data"
    }
   ],
   "source": [
    "# построим точечный график стоимостей заказов\n",
    "x_values = pd.Series(range(0,len(orders['revenue'])))\n",
    "plt.figure(figsize=(25, 10))\n",
    "plt.scatter(x_values, orders['revenue'])\n",
    "plt.title(\"График стоимостей заказов\")\n",
    "plt.ylim([0, 70000]) \n",
    "plt.show()"
   ]
  },
  {
   "cell_type": "markdown",
   "id": "f36458c5",
   "metadata": {},
   "source": [
    "## Расчёт 95-й и 99-й перцентилей стоимости заказов.\n",
    "Выбор границы для определения аномальных заказов."
   ]
  },
  {
   "cell_type": "code",
   "execution_count": 231,
   "id": "4bfe912b",
   "metadata": {},
   "outputs": [
    {
     "name": "stdout",
     "output_type": "stream",
     "text": [
      "[18168.  28000.  58233.2]\n"
     ]
    }
   ],
   "source": [
    "# Определим 90, 95 и 99 перцентили среднего чека в выборке:\n",
    "\n",
    "\n",
    "print(np.percentile(orders['revenue'], [90, 95, 99]))\n",
    "\n",
    "\n"
   ]
  },
  {
   "cell_type": "markdown",
   "id": "849011e7",
   "metadata": {},
   "source": [
    "*Промежуточный вывод*\n",
    "\n",
    "Не более 5% заказов дороже 28000 рублей и не более 1% дороже 58233 рублей."
   ]
  },
  {
   "cell_type": "markdown",
   "id": "de06352e",
   "metadata": {},
   "source": [
    "## Расчёт статистической значимости различий в конверсии между группами по «сырым» данным.\n"
   ]
  },
  {
   "cell_type": "markdown",
   "id": "9eadd511",
   "metadata": {},
   "source": [
    "Посчитаем статистическую значимость различий в конверсии и среднем чеке между группами по «сырым» данным — без удаления аномальных пользователей. Примем критический уровень статистической значимости alpha = 0.05    \n",
    "\n",
    "Сформулируем гипотезы.\n",
    "\n",
    "Нулевая Н0: различий в конверсии между группами нет. \n",
    "\n",
    "Альтернативная Н1: различия в конверсии между группами есть.\n"
   ]
  },
  {
   "cell_type": "code",
   "execution_count": 232,
   "id": "d2ebec48",
   "metadata": {},
   "outputs": [],
   "source": [
    "# Подготовим данные группы А\n",
    "visitorsAdaily = visitors[visitors['group'] == 'A'][['date', 'visitors']]\n",
    "visitorsAdaily.columns = ['date', 'visitorsperdateA']\n",
    "\n",
    "visitorsAcummulative = visitorsAdaily.apply(\n",
    "    lambda x: visitorsAdaily[visitorsAdaily['date'] <= x['date']].agg(\n",
    "        {'date': 'max', 'visitorsperdateA': 'sum'}\n",
    "    ),\n",
    "    axis=1,\n",
    ")\n",
    "visitorsAcummulative.columns = ['date', 'visitorscummulativeA']\n"
   ]
  },
  {
   "cell_type": "code",
   "execution_count": 233,
   "id": "6c9c5a35",
   "metadata": {},
   "outputs": [],
   "source": [
    "# Подготовим данные группы В\n",
    "visitorsBdaily = visitors[visitors['group'] == 'B'][['date', 'visitors']]\n",
    "visitorsBdaily.columns = ['date', 'visitorsperdateB']\n",
    "\n",
    "visitorsBcummulative = visitorsBdaily.apply(\n",
    "    lambda x: visitorsBdaily[visitorsBdaily['date'] <= x['date']].agg(\n",
    "        {'date': 'max', 'visitorsperdateB': 'sum'}\n",
    "    ),\n",
    "    axis=1,\n",
    ")\n",
    "visitorsBcummulative.columns = ['date', 'visitorscummulativeB']\n"
   ]
  },
  {
   "cell_type": "code",
   "execution_count": 234,
   "id": "44f729a6",
   "metadata": {},
   "outputs": [],
   "source": [
    "# создадим переменные для ежедневного и накопленного количества заказов  для группы А\n",
    "ordersAdaily = (\n",
    "    orders[orders['group'] == 'A'][['date', 'transactionid', 'visitorid', 'revenue']]\n",
    "    .groupby('date', as_index=False)\n",
    "    .agg({'visitorid': pd.Series.nunique, 'revenue': 'sum'})\n",
    ")\n",
    "ordersAdaily.columns = ['date', 'ordersperdateA', 'revenueperdateA']\n",
    "\n",
    "ordersAcummulative = ordersAdaily.apply(\n",
    "    lambda x: ordersAdaily[ordersAdaily['date'] <= x['date']].agg(\n",
    "        {'date': 'max', 'ordersperdateA': 'sum', 'revenueperdateA': 'sum'}\n",
    "    ),\n",
    "    axis=1,\n",
    ").sort_values(by=['date'])\n",
    "ordersAcummulative.columns = [\n",
    "    'date',\n",
    "    'orderscummulativeA',\n",
    "    'revenuecummulativeA',\n",
    "]\n"
   ]
  },
  {
   "cell_type": "code",
   "execution_count": 235,
   "id": "20f00a31",
   "metadata": {},
   "outputs": [],
   "source": [
    "# создадим переменные для ежедневного и накопленного количества заказов  для группы В\n",
    "ordersBdaily = (\n",
    "    orders[orders['group'] == 'B'][['date', 'transactionid', 'visitorid', 'revenue']]\n",
    "    .groupby('date', as_index=False)\n",
    "    .agg({'visitorid': pd.Series.nunique, 'revenue': 'sum'})\n",
    ")\n",
    "ordersBdaily.columns = ['date', 'ordersperdateB', 'revenueperdateB']\n",
    "\n",
    "ordersBcummulative = ordersBdaily.apply(\n",
    "    lambda x: ordersBdaily[ordersBdaily['date'] <= x['date']].agg(\n",
    "        {'date': 'max', 'ordersperdateB': 'sum', 'revenueperdateB': 'sum'}\n",
    "    ),\n",
    "    axis=1,\n",
    ").sort_values(by=['date'])\n",
    "ordersBcummulative.columns = [\n",
    "    'date',\n",
    "    'orderscummulativeB',\n",
    "    'revenuecummulativeB',\n",
    "]\n"
   ]
  },
  {
   "cell_type": "code",
   "execution_count": 236,
   "id": "ad7525ca",
   "metadata": {},
   "outputs": [
    {
     "data": {
      "text/html": [
       "<div>\n",
       "<style scoped>\n",
       "    .dataframe tbody tr th:only-of-type {\n",
       "        vertical-align: middle;\n",
       "    }\n",
       "\n",
       "    .dataframe tbody tr th {\n",
       "        vertical-align: top;\n",
       "    }\n",
       "\n",
       "    .dataframe thead th {\n",
       "        text-align: right;\n",
       "    }\n",
       "</style>\n",
       "<table border=\"1\" class=\"dataframe\">\n",
       "  <thead>\n",
       "    <tr style=\"text-align: right;\">\n",
       "      <th></th>\n",
       "      <th>date</th>\n",
       "      <th>ordersperdateA</th>\n",
       "      <th>revenueperdateA</th>\n",
       "      <th>ordersperdateB</th>\n",
       "      <th>revenueperdateB</th>\n",
       "      <th>orderscummulativeA</th>\n",
       "      <th>revenuecummulativeA</th>\n",
       "      <th>orderscummulativeB</th>\n",
       "      <th>revenuecummulativeB</th>\n",
       "      <th>visitorsperdateA</th>\n",
       "      <th>visitorsperdateB</th>\n",
       "      <th>visitorscummulativeA</th>\n",
       "      <th>visitorscummulativeB</th>\n",
       "    </tr>\n",
       "  </thead>\n",
       "  <tbody>\n",
       "    <tr>\n",
       "      <th>0</th>\n",
       "      <td>2019-08-01</td>\n",
       "      <td>20</td>\n",
       "      <td>148579</td>\n",
       "      <td>20</td>\n",
       "      <td>101217</td>\n",
       "      <td>20</td>\n",
       "      <td>148579</td>\n",
       "      <td>20</td>\n",
       "      <td>101217</td>\n",
       "      <td>719</td>\n",
       "      <td>713</td>\n",
       "      <td>719</td>\n",
       "      <td>713</td>\n",
       "    </tr>\n",
       "    <tr>\n",
       "      <th>1</th>\n",
       "      <td>2019-08-02</td>\n",
       "      <td>19</td>\n",
       "      <td>93822</td>\n",
       "      <td>23</td>\n",
       "      <td>165531</td>\n",
       "      <td>39</td>\n",
       "      <td>242401</td>\n",
       "      <td>43</td>\n",
       "      <td>266748</td>\n",
       "      <td>619</td>\n",
       "      <td>581</td>\n",
       "      <td>1338</td>\n",
       "      <td>1294</td>\n",
       "    </tr>\n",
       "    <tr>\n",
       "      <th>2</th>\n",
       "      <td>2019-08-03</td>\n",
       "      <td>24</td>\n",
       "      <td>112473</td>\n",
       "      <td>16</td>\n",
       "      <td>114248</td>\n",
       "      <td>63</td>\n",
       "      <td>354874</td>\n",
       "      <td>59</td>\n",
       "      <td>380996</td>\n",
       "      <td>507</td>\n",
       "      <td>509</td>\n",
       "      <td>1845</td>\n",
       "      <td>1803</td>\n",
       "    </tr>\n",
       "    <tr>\n",
       "      <th>3</th>\n",
       "      <td>2019-08-04</td>\n",
       "      <td>15</td>\n",
       "      <td>70825</td>\n",
       "      <td>16</td>\n",
       "      <td>108571</td>\n",
       "      <td>78</td>\n",
       "      <td>425699</td>\n",
       "      <td>75</td>\n",
       "      <td>489567</td>\n",
       "      <td>717</td>\n",
       "      <td>770</td>\n",
       "      <td>2562</td>\n",
       "      <td>2573</td>\n",
       "    </tr>\n",
       "    <tr>\n",
       "      <th>4</th>\n",
       "      <td>2019-08-05</td>\n",
       "      <td>25</td>\n",
       "      <td>124218</td>\n",
       "      <td>23</td>\n",
       "      <td>92428</td>\n",
       "      <td>103</td>\n",
       "      <td>549917</td>\n",
       "      <td>98</td>\n",
       "      <td>581995</td>\n",
       "      <td>756</td>\n",
       "      <td>707</td>\n",
       "      <td>3318</td>\n",
       "      <td>3280</td>\n",
       "    </tr>\n",
       "  </tbody>\n",
       "</table>\n",
       "</div>"
      ],
      "text/plain": [
       "         date  ordersperdateA  revenueperdateA  ordersperdateB  \\\n",
       "0  2019-08-01              20           148579              20   \n",
       "1  2019-08-02              19            93822              23   \n",
       "2  2019-08-03              24           112473              16   \n",
       "3  2019-08-04              15            70825              16   \n",
       "4  2019-08-05              25           124218              23   \n",
       "\n",
       "   revenueperdateB  orderscummulativeA  revenuecummulativeA  \\\n",
       "0           101217                  20               148579   \n",
       "1           165531                  39               242401   \n",
       "2           114248                  63               354874   \n",
       "3           108571                  78               425699   \n",
       "4            92428                 103               549917   \n",
       "\n",
       "   orderscummulativeB  revenuecummulativeB  visitorsperdateA  \\\n",
       "0                  20               101217               719   \n",
       "1                  43               266748               619   \n",
       "2                  59               380996               507   \n",
       "3                  75               489567               717   \n",
       "4                  98               581995               756   \n",
       "\n",
       "   visitorsperdateB  visitorscummulativeA  visitorscummulativeB  \n",
       "0               713                   719                   713  \n",
       "1               581                  1338                  1294  \n",
       "2               509                  1845                  1803  \n",
       "3               770                  2562                  2573  \n",
       "4               707                  3318                  3280  "
      ]
     },
     "metadata": {},
     "output_type": "display_data"
    }
   ],
   "source": [
    "# сохраним в переменной data результат соединения полученных ранее переменных\n",
    "data = (\n",
    "    ordersAdaily.merge(\n",
    "        ordersBdaily, left_on='date', right_on='date', how='left'\n",
    "    )\n",
    "    .merge(ordersAcummulative, left_on='date', right_on='date', how='left')\n",
    "    .merge(ordersBcummulative, left_on='date', right_on='date', how='left')\n",
    "    .merge(visitorsAdaily, left_on='date', right_on='date', how='left')\n",
    "    .merge(visitorsBdaily, left_on='date', right_on='date', how='left')\n",
    "    .merge(visitorsAcummulative, left_on='date', right_on='date', how='left')\n",
    "    .merge(visitorsBcummulative, left_on='date', right_on='date', how='left')\n",
    ")\n",
    "# выведем на экран первые 5 строк\n",
    "display(data.head(5))\n"
   ]
  },
  {
   "cell_type": "markdown",
   "id": "b0e3936d",
   "metadata": {},
   "source": [
    "•\tПосчитаем статистическую значимость различия в конверсии между группами.\n",
    "•\tСоздадим переменные ordersbyusersA и ordersbyusersB со столбцами ['visitorid', 'transactionid']. В них для пользователей, которые заказывали хотя бы 1 раз, укажем число совершённых заказов.\n"
   ]
  },
  {
   "cell_type": "code",
   "execution_count": 237,
   "id": "f21476de",
   "metadata": {},
   "outputs": [],
   "source": [
    "# создадим переменную для группы А\n",
    "ordersbyusersA = (\n",
    "    orders[orders['group'] == 'A']\n",
    "    .groupby('visitorid', as_index=False)\n",
    "    .agg({'transactionid': pd.Series.nunique})\n",
    ")\n",
    "ordersbyusersA.columns = ['visitorid', 'transactions']\n"
   ]
  },
  {
   "cell_type": "code",
   "execution_count": 238,
   "id": "d34b1122",
   "metadata": {},
   "outputs": [],
   "source": [
    "# создадим переменную для группы В\n",
    "ordersbyusersB = (\n",
    "    orders[orders['group'] == 'B']\n",
    "    .groupby('visitorid', as_index=False)\n",
    "    .agg({'transactionid': pd.Series.nunique})\n",
    ")\n",
    "ordersbyusersB.columns = ['visitorid', 'transactions']"
   ]
  },
  {
   "cell_type": "markdown",
   "id": "51b3b9f8",
   "metadata": {},
   "source": [
    "Объявим переменные sampleA и sampleB, в которых пользователям из разных групп будет соответствовать количество заказов. Тем, кто ничего не заказал, будут соот-ветствовать нули. Это нужно, чтобы подготовить выборки к проверке критерием Манна-Уитни.\n",
    "Переменная sampleA должна состоять из двух частей:\n",
    "1.\tСписок с количеством заказов для каждого из пользовате-лей: ordersByUsersA['orders'].\n",
    "2.\tНули для пользователей, которые ничего не заказывали. Их количество равно разнице между суммой посетителей и количеством записей о зака-зах: data['visitorsPerDateA'].sum() - len(ordersByUsersA['orders']). Создадим объект pd.Series нужной длины:\n",
    "\n",
    "Применим критерий и отформатируем p-value , округлив его до трёх знаков после запятой.\n",
    "\n",
    "Чтобы получить конверсию в группе, поделим сумму заказов на число пользовате-лей — найдём среднее в выборке sampleA методом mean(). Аналогично найдём кон-версию группы B: SampleB.mean().\n",
    "Выведем относительный прирост конверсии группы B: конверсия группы B / конвер-сия группы A - 1. Округлим до трёх знаков после запятой.\n",
    "\n"
   ]
  },
  {
   "cell_type": "code",
   "execution_count": 239,
   "id": "07acd4e3",
   "metadata": {},
   "outputs": [],
   "source": [
    "# переменные sampleA и sampleB\n",
    "\n",
    "sampleA = pd.concat([ordersbyusersA['transactions']\n",
    "                     ,pd.Series(0, index=np.arange(data['visitorsperdateA'].sum() \n",
    "                                                    - len(ordersbyusersA['transactions']))\n",
    "                                                        , name='transactions')],axis=0)\n",
    "\n",
    "sampleB = pd.concat([ordersbyusersB['transactions']\n",
    "                     ,pd.Series(0, index=np.arange(data['visitorsperdateB'].sum() \n",
    "                                                   - len(ordersbyusersB['transactions']))\n",
    "                                                        , name='transactions')],axis=0)\n"
   ]
  },
  {
   "cell_type": "code",
   "execution_count": 240,
   "id": "2928fe9f",
   "metadata": {},
   "outputs": [
    {
     "name": "stdout",
     "output_type": "stream",
     "text": [
      "p-value  составляет: 0.017\n",
      "конверсия составляет: 0.138\n"
     ]
    }
   ],
   "source": [
    "# Применим критерий Манна-Уитни и отформатируем p-value, округлив его до трёх знаков после запятой\n",
    "print('p-value  составляет:',\"{0:.3f}\".format(st.mannwhitneyu(sampleA, sampleB)[1]))\n",
    "\n",
    "print('конверсия составляет:',\"{0:.3f}\".format(sampleB.mean() / sampleA.mean() - 1))\n",
    "\n"
   ]
  },
  {
   "cell_type": "markdown",
   "id": "03fe784a",
   "metadata": {},
   "source": [
    "*Промежуточный вывод*\n",
    "\n",
    "По «сырым» данным различия в конверсии групп A и B есть.\n",
    "Первое число — p-value = 0.017 меньше 0.05. Значит, нулевую гипотезу о том, что статистически значимых различий в конверсии между группами нет, отвергаем.\n",
    "\n",
    "Принимаем альтернативную гипотезу о том , что различия в конверсии между группами есть.\n",
    "\n",
    "Относительный проигрыш группы А равен 13.8%.\n"
   ]
  },
  {
   "cell_type": "markdown",
   "id": "e1f99f37",
   "metadata": {},
   "source": [
    "## Расчёт статистической значимости различий в среднем чеке заказа между группами по «сырым» данным. \n",
    "\n",
    " "
   ]
  },
  {
   "cell_type": "markdown",
   "id": "4d817a42",
   "metadata": {},
   "source": [
    "Нулевая гипотеза Н0: различий в среднем чеке между группами нет.\n",
    "\n",
    "Альтернативная гипотеза Н1: различия в среднем чеке между группами есть.\n",
    "\n",
    "\n",
    "Чтобы рассчитать статистическую значимость различий в среднем чеке, передадим критерию mannwhitneyu() данные о выручке с заказов.\n"
   ]
  },
  {
   "cell_type": "code",
   "execution_count": 241,
   "id": "0d7f1ab2",
   "metadata": {},
   "outputs": [
    {
     "name": "stdout",
     "output_type": "stream",
     "text": [
      "p-value  составляет: 0.729\n",
      "средний чек составляет: 0.259\n"
     ]
    }
   ],
   "source": [
    "#  выведем результат расчётов\n",
    "print('p-value  составляет:','{0:.3f}'.format(st.mannwhitneyu(orders[orders['group']=='A']['revenue']\n",
    "                                       , orders[orders['group']=='B']['revenue'])[1]))\n",
    "print('средний чек составляет:','{0:.3f}'.format(orders[orders['group']=='B']['revenue'].\n",
    "                       mean()/orders[orders['group']=='A']['revenue'].mean()-1))\n"
   ]
  },
  {
   "cell_type": "markdown",
   "id": "f8be2d2b",
   "metadata": {},
   "source": [
    "*Промежуточный вывод*\n",
    "\n",
    "P-value значительно больше 0.05. Значит, причин отвергать нулевую гипотезу  нет. Впрочем, средний чек группы B значи-тельно выше среднего чека группы A."
   ]
  },
  {
   "cell_type": "markdown",
   "id": "db57cfbc",
   "metadata": {},
   "source": [
    "## Расчёт статистической значимости различий в конверсии между группами по «очищенным» данным.\n",
    "\n"
   ]
  },
  {
   "cell_type": "markdown",
   "id": "a417d3f9",
   "metadata": {},
   "source": [
    "Вспомним, что  95-й и 99-й перцентили средних чеков равны 28000 и  58233 рублям. А 95-й и 99-й перцентили количества заказов на одного пользователя равны 2 и 4 заказам.\n",
    "Примем за аномальных пользователей тех, кто совершил от 3 заказов или совершил заказ дороже 30 000 рублей. Так мы уберём  около 5% пользователей с наибольшим числом заказов и от 1% до 5% пользователей с дорогими заказами. Сделаем срезы пользователей с числом заказов больше 3 — userswithmanyorders и пользователей, совершив-ших заказы дороже 30 000 — userswithexpensiveorders. Объединим их в табли-це abnormalusers.\n",
    "Узнаем, сколько всего аномальных пользователей методом shape().\n"
   ]
  },
  {
   "cell_type": "code",
   "execution_count": 242,
   "id": "e485a4aa",
   "metadata": {},
   "outputs": [
    {
     "name": "stdout",
     "output_type": "stream",
     "text": [
      "1099    148427295\n",
      "18      199603092\n",
      "928     204675465\n",
      "23      237748145\n",
      "37      249864742\n",
      "Name: visitorid, dtype: int64\n",
      "74\n"
     ]
    }
   ],
   "source": [
    "# Сделаем срезы аномальных пользователей\n",
    "userswithmanyorders = pd.concat(\n",
    "    [\n",
    "        ordersbyusersA[ordersbyusersA['transactions'] > np.percentile(ordersByUsers['transactions'], [95, 99])[0]]['visitorid'],\n",
    "        ordersbyusersB[ordersbyusersB['transactions'] > np.percentile(ordersByUsers['transactions'], [95, 99])[0]]['visitorid'],\n",
    "    ],\n",
    "    axis=0,\n",
    ")\n",
    "userswithexpensiveorders = orders[orders['revenue'] > np.percentile(orders['revenue'], [95, 99])[0]]['visitorid']\n",
    "abnormalusers = (\n",
    "    pd.concat([userswithmanyorders, userswithexpensiveorders], axis=0)\n",
    "    .drop_duplicates()\n",
    "    .sort_values()\n",
    ")\n",
    "# выведем на экран первые 5 строк\n",
    "print(abnormalusers.head(5))\n",
    "# выведем на экран количество строк\n",
    "print(abnormalusers.shape[0])\n"
   ]
  },
  {
   "cell_type": "markdown",
   "id": "f8836630",
   "metadata": {},
   "source": [
    "*Промежуточный вывод*\n",
    "\n",
    "Всего 74 аномальных пользователей отсеятся по заданным условиям.\n",
    "\n",
    "\n",
    "Узнаем, как их действия повлияли на результаты теста. Посчитаем статистическую значимость различий в конверсии между группами теста по очищенным данным. Сначала подготовим выборки количества заказов по пользователям по группам теста.\n"
   ]
  },
  {
   "cell_type": "code",
   "execution_count": 243,
   "id": "b291c125",
   "metadata": {},
   "outputs": [],
   "source": [
    "# расчет по очищенным данным\n",
    "sampleAfiltered = pd.concat(\n",
    "    [\n",
    "        ordersbyusersA[\n",
    "            np.logical_not(ordersbyusersA['visitorid'].isin(abnormalusers))\n",
    "        ]['transactions'],\n",
    "        pd.Series(\n",
    "            0,\n",
    "            index=np.arange(\n",
    "                data['visitorsperdateA'].sum() - len(ordersbyusersA['transactions'])\n",
    "            ),\n",
    "            name='transactions',\n",
    "        ),\n",
    "    ],\n",
    "    axis=0,\n",
    ")\n",
    "\n",
    "sampleBfiltered = pd.concat(\n",
    "    [\n",
    "        ordersbyusersB[\n",
    "            np.logical_not(ordersbyusersB['visitorid'].isin(abnormalusers))\n",
    "        ]['transactions'],\n",
    "        pd.Series(\n",
    "            0,\n",
    "            index=np.arange(\n",
    "                data['visitorsperdateB'].sum() - len(ordersbyusersB['transactions'])\n",
    "            ),\n",
    "            name='transactions',\n",
    "        ),\n",
    "    ],\n",
    "    axis=0,\n",
    ")\n"
   ]
  },
  {
   "cell_type": "code",
   "execution_count": 244,
   "id": "146e2493",
   "metadata": {},
   "outputs": [
    {
     "name": "stdout",
     "output_type": "stream",
     "text": [
      "P-value: 0.013\n",
      "Конверсии : 0.173\n"
     ]
    }
   ],
   "source": [
    "# Применим статистический критерий Манна-Уитни к полученным выборкам\n",
    "print('P-value:','{0:.3f}'.format(st.mannwhitneyu(sampleAfiltered, sampleBfiltered)[1]))\n",
    "print('Конверсии :','{0:.3f}'.format(sampleBfiltered.mean()/sampleAfiltered.mean()-1))\n"
   ]
  },
  {
   "cell_type": "markdown",
   "id": "6049bc73",
   "metadata": {},
   "source": [
    "*Промежуточный вывод*\n",
    "\n",
    "Результаты по конверсии изменились :0.017/0.138 было до очистки данных.\n",
    "\n",
    "Принимаем альтернативную гипотезу о том , что различия в конверсии между группами есть.\n",
    "\n",
    "Относительный проигрыш группы А равен 17.3%.\n"
   ]
  },
  {
   "cell_type": "markdown",
   "id": "0fe4788d",
   "metadata": {},
   "source": [
    "## Расчёт статистической значимости различий в среднем чеке заказа между группами по «очищенным» данным. "
   ]
  },
  {
   "cell_type": "code",
   "execution_count": 245,
   "id": "b402c6a4",
   "metadata": {},
   "outputs": [
    {
     "name": "stdout",
     "output_type": "stream",
     "text": [
      "0.738\n",
      "-0.020\n"
     ]
    }
   ],
   "source": [
    "# Применим статистический критерий Манна-Уитни к полученным выборкам\n",
    "print(\n",
    "    '{0:.3f}'.format(\n",
    "        st.mannwhitneyu(\n",
    "            orders[\n",
    "                np.logical_and(\n",
    "                    orders['group'] == 'A',\n",
    "                    np.logical_not(orders['visitorid'].isin(abnormalusers)),\n",
    "                )\n",
    "            ]['revenue'],\n",
    "            orders[\n",
    "                np.logical_and(\n",
    "                    orders['group'] == 'B',\n",
    "                    np.logical_not(orders['visitorid'].isin(abnormalusers)),\n",
    "                )\n",
    "            ]['revenue'],\n",
    "        )[1]\n",
    "    )\n",
    ")\n",
    "\n",
    "print(\n",
    "    \"{0:.3f}\".format(\n",
    "        orders[\n",
    "            np.logical_and(\n",
    "                orders['group'] == 'B',\n",
    "                np.logical_not(orders['visitorid'].isin(abnormalusers)),\n",
    "            )\n",
    "        ]['revenue'].mean()\n",
    "        / orders[\n",
    "            np.logical_and(\n",
    "                orders['group'] == 'A',\n",
    "                np.logical_not(orders['visitorid'].isin(abnormalusers)),\n",
    "            )\n",
    "        ]['revenue'].mean()\n",
    "        - 1\n",
    "    )\n",
    ")\n"
   ]
  },
  {
   "cell_type": "markdown",
   "id": "bf749482",
   "metadata": {},
   "source": [
    "*Промежуточный вывод*\n",
    "\n",
    "Вспомним, что эти показатели по сырым данным были: 0.729/0.259\n",
    "\n",
    "P-value увеличился, но и разница между сегментами заметно сократилась на 27,9 пунктов:с 25,9% до -2%. \n",
    "Аномально большые заказы больше не оказываеют влияния на  размер средней выручки группы В. Общие выводы по результатам теста не изменились.Примается нулевая гипотеза Н0: различий в среднем чеке между группами нет.\n"
   ]
  },
  {
   "cell_type": "markdown",
   "id": "60ef1ccc",
   "metadata": {},
   "source": [
    "# Выводы и решение по результатам теста. \n"
   ]
  },
  {
   "cell_type": "markdown",
   "id": "30754f23",
   "metadata": {},
   "source": [
    "В ходе выполнения задания были выполнены следующие этапы:\n",
    "\n",
    "Знакомство и предобработка постапивших для анализа данных.\n",
    "\n",
    "Приоритизация гипотез.\n",
    " \n",
    "Анализ A/B-теста с применение средств визуализации и статистических методов.\n",
    "\n",
    "\n",
    "В результате проведённого анализа установлены факты:\n",
    "\n",
    "\n",
    "\n",
    "•\tЕсть статистически значимое различие по конверсии между группами как по сырым данным, так и после фильтрации аномалий.;\n",
    "\n",
    "•\tПо сырым данным есть статистически значимого различие по среднему чеку между группами. Однако после удаления аномалий статистически значимое различие соекратилось с 25,9% до -2%.;\n",
    "\n",
    "•\tГрафик различия конверсии и расчёты статистической значимости различий между группами сообщают, что результаты группы B лучше результатов в группе A и эта тенденция сохраняется.\n",
    "\n",
    "Исходя из обнаруженных фактов, тест следует :\n",
    "\n",
    " **Остановить тест и зафиксировать победу группы В.**\n",
    " \n",
    " \n"
   ]
  }
 ],
 "metadata": {
  "ExecuteTimeLog": [
   {
    "duration": 32,
    "start_time": "2022-06-09T15:43:54.233Z"
   },
   {
    "duration": 3,
    "start_time": "2022-06-09T15:44:41.142Z"
   },
   {
    "duration": 1275,
    "start_time": "2022-06-09T15:49:55.019Z"
   },
   {
    "duration": 212,
    "start_time": "2022-06-09T15:49:56.297Z"
   },
   {
    "duration": 0,
    "start_time": "2022-06-09T15:49:56.512Z"
   },
   {
    "duration": 0,
    "start_time": "2022-06-09T15:49:56.513Z"
   },
   {
    "duration": 0,
    "start_time": "2022-06-09T15:49:56.514Z"
   },
   {
    "duration": 0,
    "start_time": "2022-06-09T15:49:56.516Z"
   },
   {
    "duration": 0,
    "start_time": "2022-06-09T15:49:56.517Z"
   },
   {
    "duration": 0,
    "start_time": "2022-06-09T15:49:56.518Z"
   },
   {
    "duration": 0,
    "start_time": "2022-06-09T15:49:56.520Z"
   },
   {
    "duration": 0,
    "start_time": "2022-06-09T15:49:56.521Z"
   },
   {
    "duration": 0,
    "start_time": "2022-06-09T15:49:56.522Z"
   },
   {
    "duration": 0,
    "start_time": "2022-06-09T15:49:56.524Z"
   },
   {
    "duration": 0,
    "start_time": "2022-06-09T15:49:56.525Z"
   },
   {
    "duration": 0,
    "start_time": "2022-06-09T15:49:56.526Z"
   },
   {
    "duration": 0,
    "start_time": "2022-06-09T15:49:56.527Z"
   },
   {
    "duration": 0,
    "start_time": "2022-06-09T15:49:56.528Z"
   },
   {
    "duration": 0,
    "start_time": "2022-06-09T15:49:56.529Z"
   },
   {
    "duration": 0,
    "start_time": "2022-06-09T15:49:56.530Z"
   },
   {
    "duration": 0,
    "start_time": "2022-06-09T15:49:56.531Z"
   },
   {
    "duration": 0,
    "start_time": "2022-06-09T15:49:56.532Z"
   },
   {
    "duration": 1,
    "start_time": "2022-06-09T15:49:56.533Z"
   },
   {
    "duration": 1,
    "start_time": "2022-06-09T15:49:56.534Z"
   },
   {
    "duration": 0,
    "start_time": "2022-06-09T15:49:56.536Z"
   },
   {
    "duration": 0,
    "start_time": "2022-06-09T15:49:56.536Z"
   },
   {
    "duration": 0,
    "start_time": "2022-06-09T15:49:56.537Z"
   },
   {
    "duration": 0,
    "start_time": "2022-06-09T15:49:56.538Z"
   },
   {
    "duration": 0,
    "start_time": "2022-06-09T15:49:56.539Z"
   },
   {
    "duration": 0,
    "start_time": "2022-06-09T15:49:56.540Z"
   },
   {
    "duration": 0,
    "start_time": "2022-06-09T15:49:56.541Z"
   },
   {
    "duration": 0,
    "start_time": "2022-06-09T15:49:56.542Z"
   },
   {
    "duration": 0,
    "start_time": "2022-06-09T15:49:56.543Z"
   },
   {
    "duration": 0,
    "start_time": "2022-06-09T15:49:56.596Z"
   },
   {
    "duration": 0,
    "start_time": "2022-06-09T15:49:56.597Z"
   },
   {
    "duration": 0,
    "start_time": "2022-06-09T15:49:56.598Z"
   },
   {
    "duration": 0,
    "start_time": "2022-06-09T15:49:56.599Z"
   },
   {
    "duration": 0,
    "start_time": "2022-06-09T15:49:56.599Z"
   },
   {
    "duration": 0,
    "start_time": "2022-06-09T15:49:56.600Z"
   },
   {
    "duration": 0,
    "start_time": "2022-06-09T15:49:56.601Z"
   },
   {
    "duration": 0,
    "start_time": "2022-06-09T15:49:56.601Z"
   },
   {
    "duration": 0,
    "start_time": "2022-06-09T15:49:56.602Z"
   },
   {
    "duration": 0,
    "start_time": "2022-06-09T15:49:56.603Z"
   },
   {
    "duration": 0,
    "start_time": "2022-06-09T15:49:56.603Z"
   },
   {
    "duration": 9,
    "start_time": "2022-06-09T15:50:00.818Z"
   },
   {
    "duration": 10,
    "start_time": "2022-06-09T15:50:28.246Z"
   },
   {
    "duration": 3,
    "start_time": "2022-06-09T15:50:40.333Z"
   },
   {
    "duration": 59,
    "start_time": "2022-06-09T15:50:40.346Z"
   },
   {
    "duration": 0,
    "start_time": "2022-06-09T15:50:40.407Z"
   },
   {
    "duration": 0,
    "start_time": "2022-06-09T15:50:40.409Z"
   },
   {
    "duration": 0,
    "start_time": "2022-06-09T15:50:40.410Z"
   },
   {
    "duration": 0,
    "start_time": "2022-06-09T15:50:40.411Z"
   },
   {
    "duration": 0,
    "start_time": "2022-06-09T15:50:40.413Z"
   },
   {
    "duration": 0,
    "start_time": "2022-06-09T15:50:40.414Z"
   },
   {
    "duration": 0,
    "start_time": "2022-06-09T15:50:40.415Z"
   },
   {
    "duration": 0,
    "start_time": "2022-06-09T15:50:40.417Z"
   },
   {
    "duration": 0,
    "start_time": "2022-06-09T15:50:40.418Z"
   },
   {
    "duration": 0,
    "start_time": "2022-06-09T15:50:40.419Z"
   },
   {
    "duration": 0,
    "start_time": "2022-06-09T15:50:40.421Z"
   },
   {
    "duration": 0,
    "start_time": "2022-06-09T15:50:40.422Z"
   },
   {
    "duration": 0,
    "start_time": "2022-06-09T15:50:40.423Z"
   },
   {
    "duration": 9,
    "start_time": "2022-06-09T15:50:40.424Z"
   },
   {
    "duration": 0,
    "start_time": "2022-06-09T15:50:40.434Z"
   },
   {
    "duration": 0,
    "start_time": "2022-06-09T15:50:40.435Z"
   },
   {
    "duration": 0,
    "start_time": "2022-06-09T15:50:40.437Z"
   },
   {
    "duration": 64,
    "start_time": "2022-06-09T15:50:40.439Z"
   },
   {
    "duration": 0,
    "start_time": "2022-06-09T15:50:40.506Z"
   },
   {
    "duration": 0,
    "start_time": "2022-06-09T15:50:40.507Z"
   },
   {
    "duration": 0,
    "start_time": "2022-06-09T15:50:40.508Z"
   },
   {
    "duration": 0,
    "start_time": "2022-06-09T15:50:40.509Z"
   },
   {
    "duration": 0,
    "start_time": "2022-06-09T15:50:40.510Z"
   },
   {
    "duration": 0,
    "start_time": "2022-06-09T15:50:40.511Z"
   },
   {
    "duration": 0,
    "start_time": "2022-06-09T15:50:40.512Z"
   },
   {
    "duration": 0,
    "start_time": "2022-06-09T15:50:40.513Z"
   },
   {
    "duration": 0,
    "start_time": "2022-06-09T15:50:40.514Z"
   },
   {
    "duration": 0,
    "start_time": "2022-06-09T15:50:40.515Z"
   },
   {
    "duration": 1,
    "start_time": "2022-06-09T15:50:40.515Z"
   },
   {
    "duration": 0,
    "start_time": "2022-06-09T15:50:40.517Z"
   },
   {
    "duration": 11,
    "start_time": "2022-06-09T15:50:40.519Z"
   },
   {
    "duration": 0,
    "start_time": "2022-06-09T15:50:40.533Z"
   },
   {
    "duration": 0,
    "start_time": "2022-06-09T15:50:40.534Z"
   },
   {
    "duration": 0,
    "start_time": "2022-06-09T15:50:40.536Z"
   },
   {
    "duration": 0,
    "start_time": "2022-06-09T15:50:40.594Z"
   },
   {
    "duration": 0,
    "start_time": "2022-06-09T15:50:40.595Z"
   },
   {
    "duration": 0,
    "start_time": "2022-06-09T15:50:40.598Z"
   },
   {
    "duration": 0,
    "start_time": "2022-06-09T15:50:40.601Z"
   },
   {
    "duration": 9,
    "start_time": "2022-06-09T15:50:40.948Z"
   },
   {
    "duration": 0,
    "start_time": "2022-06-09T15:50:40.959Z"
   },
   {
    "duration": 219,
    "start_time": "2022-06-09T15:52:51.508Z"
   },
   {
    "duration": 2,
    "start_time": "2022-06-09T15:53:01.722Z"
   },
   {
    "duration": 118,
    "start_time": "2022-06-09T15:53:01.726Z"
   },
   {
    "duration": 8,
    "start_time": "2022-06-09T15:53:01.847Z"
   },
   {
    "duration": 14,
    "start_time": "2022-06-09T15:53:01.856Z"
   },
   {
    "duration": 44,
    "start_time": "2022-06-09T15:53:01.873Z"
   },
   {
    "duration": 25,
    "start_time": "2022-06-09T15:53:01.918Z"
   },
   {
    "duration": 36,
    "start_time": "2022-06-09T15:53:01.944Z"
   },
   {
    "duration": 47,
    "start_time": "2022-06-09T15:53:01.981Z"
   },
   {
    "duration": 40,
    "start_time": "2022-06-09T15:53:02.030Z"
   },
   {
    "duration": 41,
    "start_time": "2022-06-09T15:53:02.072Z"
   },
   {
    "duration": 24,
    "start_time": "2022-06-09T15:53:02.116Z"
   },
   {
    "duration": 31,
    "start_time": "2022-06-09T15:53:02.141Z"
   },
   {
    "duration": 55,
    "start_time": "2022-06-09T15:53:02.174Z"
   },
   {
    "duration": 36,
    "start_time": "2022-06-09T15:53:02.231Z"
   },
   {
    "duration": 8,
    "start_time": "2022-06-09T15:53:02.269Z"
   },
   {
    "duration": 33,
    "start_time": "2022-06-09T15:53:02.278Z"
   },
   {
    "duration": 191,
    "start_time": "2022-06-09T15:53:02.313Z"
   },
   {
    "duration": 136,
    "start_time": "2022-06-09T15:53:02.508Z"
   },
   {
    "duration": 19,
    "start_time": "2022-06-09T15:53:02.645Z"
   },
   {
    "duration": 377,
    "start_time": "2022-06-09T15:53:02.665Z"
   },
   {
    "duration": 384,
    "start_time": "2022-06-09T15:53:03.044Z"
   },
   {
    "duration": 7,
    "start_time": "2022-06-09T15:53:03.429Z"
   },
   {
    "duration": 469,
    "start_time": "2022-06-09T15:53:03.437Z"
   },
   {
    "duration": 7,
    "start_time": "2022-06-09T15:53:03.911Z"
   },
   {
    "duration": 341,
    "start_time": "2022-06-09T15:53:03.919Z"
   },
   {
    "duration": 7,
    "start_time": "2022-06-09T15:53:04.261Z"
   },
   {
    "duration": 537,
    "start_time": "2022-06-09T15:53:04.270Z"
   },
   {
    "duration": 10,
    "start_time": "2022-06-09T15:53:04.809Z"
   },
   {
    "duration": 201,
    "start_time": "2022-06-09T15:53:04.822Z"
   },
   {
    "duration": 5,
    "start_time": "2022-06-09T15:53:05.025Z"
   },
   {
    "duration": 221,
    "start_time": "2022-06-09T15:53:05.031Z"
   },
   {
    "duration": 4,
    "start_time": "2022-06-09T15:53:05.254Z"
   },
   {
    "duration": 57,
    "start_time": "2022-06-09T15:53:05.259Z"
   },
   {
    "duration": 50,
    "start_time": "2022-06-09T15:53:05.317Z"
   },
   {
    "duration": 62,
    "start_time": "2022-06-09T15:53:05.368Z"
   },
   {
    "duration": 68,
    "start_time": "2022-06-09T15:53:05.432Z"
   },
   {
    "duration": 31,
    "start_time": "2022-06-09T15:53:05.504Z"
   },
   {
    "duration": 90,
    "start_time": "2022-06-09T15:53:05.536Z"
   },
   {
    "duration": 85,
    "start_time": "2022-06-09T15:53:05.628Z"
   },
   {
    "duration": 5,
    "start_time": "2022-06-09T15:53:05.715Z"
   },
   {
    "duration": 26,
    "start_time": "2022-06-09T15:53:05.721Z"
   },
   {
    "duration": 9,
    "start_time": "2022-06-09T15:53:05.749Z"
   },
   {
    "duration": 9,
    "start_time": "2022-06-09T15:53:05.760Z"
   },
   {
    "duration": 20,
    "start_time": "2022-06-09T15:53:05.794Z"
   },
   {
    "duration": 31,
    "start_time": "2022-06-09T15:53:05.816Z"
   },
   {
    "duration": 13,
    "start_time": "2022-06-09T15:53:05.849Z"
   },
   {
    "duration": 340,
    "start_time": "2022-06-09T15:58:24.522Z"
   },
   {
    "duration": 13,
    "start_time": "2022-06-09T16:00:19.159Z"
   },
   {
    "duration": 23,
    "start_time": "2022-06-09T16:04:21.314Z"
   },
   {
    "duration": 22,
    "start_time": "2022-06-09T16:05:27.551Z"
   },
   {
    "duration": 9,
    "start_time": "2022-06-09T16:07:49.209Z"
   },
   {
    "duration": 215,
    "start_time": "2022-06-09T16:11:42.954Z"
   },
   {
    "duration": 217,
    "start_time": "2022-06-09T16:11:58.656Z"
   },
   {
    "duration": 338,
    "start_time": "2022-06-09T16:12:22.909Z"
   },
   {
    "duration": 200,
    "start_time": "2022-06-09T16:13:09.318Z"
   },
   {
    "duration": 196,
    "start_time": "2022-06-09T16:13:18.639Z"
   },
   {
    "duration": 190,
    "start_time": "2022-06-09T16:13:28.209Z"
   },
   {
    "duration": 1131,
    "start_time": "2022-06-10T03:48:48.074Z"
   },
   {
    "duration": 282,
    "start_time": "2022-06-10T03:48:49.207Z"
   },
   {
    "duration": 7,
    "start_time": "2022-06-10T03:48:49.490Z"
   },
   {
    "duration": 26,
    "start_time": "2022-06-10T03:48:49.499Z"
   },
   {
    "duration": 35,
    "start_time": "2022-06-10T03:48:49.527Z"
   },
   {
    "duration": 22,
    "start_time": "2022-06-10T03:48:49.563Z"
   },
   {
    "duration": 31,
    "start_time": "2022-06-10T03:48:49.586Z"
   },
   {
    "duration": 44,
    "start_time": "2022-06-10T03:48:49.619Z"
   },
   {
    "duration": 31,
    "start_time": "2022-06-10T03:48:49.664Z"
   },
   {
    "duration": 21,
    "start_time": "2022-06-10T03:48:49.697Z"
   },
   {
    "duration": 31,
    "start_time": "2022-06-10T03:48:49.720Z"
   },
   {
    "duration": 30,
    "start_time": "2022-06-10T03:48:49.753Z"
   },
   {
    "duration": 14,
    "start_time": "2022-06-10T03:49:11.412Z"
   },
   {
    "duration": 11,
    "start_time": "2022-06-10T03:50:32.926Z"
   },
   {
    "duration": 7,
    "start_time": "2022-06-10T03:50:59.295Z"
   },
   {
    "duration": 92,
    "start_time": "2022-06-10T03:52:34.992Z"
   },
   {
    "duration": 5,
    "start_time": "2022-06-10T03:52:54.463Z"
   },
   {
    "duration": 5,
    "start_time": "2022-06-10T03:52:59.365Z"
   },
   {
    "duration": 3,
    "start_time": "2022-06-10T03:53:41.516Z"
   },
   {
    "duration": 33,
    "start_time": "2022-06-10T03:54:02.266Z"
   },
   {
    "duration": 4,
    "start_time": "2022-06-10T03:54:10.048Z"
   },
   {
    "duration": 9,
    "start_time": "2022-06-10T03:54:35.352Z"
   },
   {
    "duration": 6,
    "start_time": "2022-06-10T03:54:49.194Z"
   },
   {
    "duration": 8,
    "start_time": "2022-06-10T03:56:39.439Z"
   },
   {
    "duration": 8,
    "start_time": "2022-06-10T04:05:43.604Z"
   },
   {
    "duration": 896,
    "start_time": "2022-06-10T04:07:14.382Z"
   },
   {
    "duration": 4,
    "start_time": "2022-06-10T04:07:21.559Z"
   },
   {
    "duration": 152,
    "start_time": "2022-06-10T04:07:21.565Z"
   },
   {
    "duration": 6,
    "start_time": "2022-06-10T04:07:21.719Z"
   },
   {
    "duration": 11,
    "start_time": "2022-06-10T04:07:21.726Z"
   },
   {
    "duration": 11,
    "start_time": "2022-06-10T04:07:21.739Z"
   },
   {
    "duration": 11,
    "start_time": "2022-06-10T04:07:21.752Z"
   },
   {
    "duration": 32,
    "start_time": "2022-06-10T04:07:21.765Z"
   },
   {
    "duration": 18,
    "start_time": "2022-06-10T04:07:21.799Z"
   },
   {
    "duration": 21,
    "start_time": "2022-06-10T04:07:21.819Z"
   },
   {
    "duration": 15,
    "start_time": "2022-06-10T04:07:21.842Z"
   },
   {
    "duration": 14,
    "start_time": "2022-06-10T04:07:21.860Z"
   },
   {
    "duration": 17,
    "start_time": "2022-06-10T04:07:21.876Z"
   },
   {
    "duration": 16,
    "start_time": "2022-06-10T04:07:21.894Z"
   },
   {
    "duration": 24,
    "start_time": "2022-06-10T04:07:21.912Z"
   },
   {
    "duration": 12,
    "start_time": "2022-06-10T04:07:21.937Z"
   },
   {
    "duration": 25,
    "start_time": "2022-06-10T04:07:21.951Z"
   },
   {
    "duration": 11,
    "start_time": "2022-06-10T04:07:21.978Z"
   },
   {
    "duration": 212,
    "start_time": "2022-06-10T04:07:30.184Z"
   },
   {
    "duration": 3,
    "start_time": "2022-06-10T04:10:19.856Z"
   },
   {
    "duration": 111,
    "start_time": "2022-06-10T04:10:19.862Z"
   },
   {
    "duration": 5,
    "start_time": "2022-06-10T04:10:19.975Z"
   },
   {
    "duration": 8,
    "start_time": "2022-06-10T04:10:19.981Z"
   },
   {
    "duration": 8,
    "start_time": "2022-06-10T04:10:19.991Z"
   },
   {
    "duration": 7,
    "start_time": "2022-06-10T04:10:20.001Z"
   },
   {
    "duration": 15,
    "start_time": "2022-06-10T04:10:20.009Z"
   },
   {
    "duration": 18,
    "start_time": "2022-06-10T04:10:20.026Z"
   },
   {
    "duration": 19,
    "start_time": "2022-06-10T04:10:20.046Z"
   },
   {
    "duration": 10,
    "start_time": "2022-06-10T04:10:20.067Z"
   },
   {
    "duration": 7,
    "start_time": "2022-06-10T04:10:20.080Z"
   },
   {
    "duration": 11,
    "start_time": "2022-06-10T04:10:20.089Z"
   },
   {
    "duration": 9,
    "start_time": "2022-06-10T04:10:20.101Z"
   },
   {
    "duration": 22,
    "start_time": "2022-06-10T04:10:20.111Z"
   },
   {
    "duration": 12,
    "start_time": "2022-06-10T04:10:20.135Z"
   },
   {
    "duration": 10,
    "start_time": "2022-06-10T04:10:20.149Z"
   },
   {
    "duration": 11,
    "start_time": "2022-06-10T04:10:20.161Z"
   },
   {
    "duration": 204,
    "start_time": "2022-06-10T04:10:20.173Z"
   },
   {
    "duration": 5,
    "start_time": "2022-06-10T04:10:20.379Z"
   },
   {
    "duration": 166,
    "start_time": "2022-06-10T04:10:20.386Z"
   },
   {
    "duration": 132,
    "start_time": "2022-06-10T04:10:20.554Z"
   },
   {
    "duration": 11,
    "start_time": "2022-06-10T04:10:20.688Z"
   },
   {
    "duration": 341,
    "start_time": "2022-06-10T04:10:20.701Z"
   },
   {
    "duration": 343,
    "start_time": "2022-06-10T04:10:21.044Z"
   },
   {
    "duration": 6,
    "start_time": "2022-06-10T04:10:21.389Z"
   },
   {
    "duration": 509,
    "start_time": "2022-06-10T04:10:21.397Z"
   },
   {
    "duration": 6,
    "start_time": "2022-06-10T04:10:21.908Z"
   },
   {
    "duration": 347,
    "start_time": "2022-06-10T04:10:21.916Z"
   },
   {
    "duration": 7,
    "start_time": "2022-06-10T04:10:22.266Z"
   },
   {
    "duration": 454,
    "start_time": "2022-06-10T04:10:25.392Z"
   },
   {
    "duration": 509,
    "start_time": "2022-06-10T04:10:46.406Z"
   },
   {
    "duration": 194,
    "start_time": "2022-06-10T04:15:46.928Z"
   },
   {
    "duration": 270,
    "start_time": "2022-06-10T04:18:27.163Z"
   },
   {
    "duration": 159,
    "start_time": "2022-06-10T04:18:46.790Z"
   },
   {
    "duration": 181,
    "start_time": "2022-06-10T04:19:02.499Z"
   },
   {
    "duration": 167,
    "start_time": "2022-06-10T04:19:37.918Z"
   },
   {
    "duration": 193,
    "start_time": "2022-06-10T04:19:49.891Z"
   },
   {
    "duration": 178,
    "start_time": "2022-06-10T04:19:59.640Z"
   },
   {
    "duration": 192,
    "start_time": "2022-06-10T04:20:07.725Z"
   },
   {
    "duration": 204,
    "start_time": "2022-06-10T04:20:21.182Z"
   },
   {
    "duration": 186,
    "start_time": "2022-06-10T04:20:31.633Z"
   },
   {
    "duration": 10,
    "start_time": "2022-06-10T04:24:56.259Z"
   },
   {
    "duration": 2,
    "start_time": "2022-06-10T04:25:11.900Z"
   },
   {
    "duration": 138,
    "start_time": "2022-06-10T04:25:11.904Z"
   },
   {
    "duration": 5,
    "start_time": "2022-06-10T04:25:12.044Z"
   },
   {
    "duration": 10,
    "start_time": "2022-06-10T04:25:12.050Z"
   },
   {
    "duration": 7,
    "start_time": "2022-06-10T04:25:12.062Z"
   },
   {
    "duration": 9,
    "start_time": "2022-06-10T04:25:12.071Z"
   },
   {
    "duration": 15,
    "start_time": "2022-06-10T04:25:12.081Z"
   },
   {
    "duration": 11,
    "start_time": "2022-06-10T04:25:12.097Z"
   },
   {
    "duration": 9,
    "start_time": "2022-06-10T04:25:12.128Z"
   },
   {
    "duration": 9,
    "start_time": "2022-06-10T04:25:12.138Z"
   },
   {
    "duration": 7,
    "start_time": "2022-06-10T04:25:12.150Z"
   },
   {
    "duration": 10,
    "start_time": "2022-06-10T04:25:12.158Z"
   },
   {
    "duration": 9,
    "start_time": "2022-06-10T04:25:12.169Z"
   },
   {
    "duration": 9,
    "start_time": "2022-06-10T04:25:12.180Z"
   },
   {
    "duration": 47,
    "start_time": "2022-06-10T04:25:12.190Z"
   },
   {
    "duration": 12,
    "start_time": "2022-06-10T04:25:12.239Z"
   },
   {
    "duration": 13,
    "start_time": "2022-06-10T04:25:12.253Z"
   },
   {
    "duration": 203,
    "start_time": "2022-06-10T04:25:12.268Z"
   },
   {
    "duration": 6,
    "start_time": "2022-06-10T04:25:12.473Z"
   },
   {
    "duration": 170,
    "start_time": "2022-06-10T04:25:12.481Z"
   },
   {
    "duration": 123,
    "start_time": "2022-06-10T04:25:12.652Z"
   },
   {
    "duration": 9,
    "start_time": "2022-06-10T04:25:12.778Z"
   },
   {
    "duration": 431,
    "start_time": "2022-06-10T04:25:12.789Z"
   },
   {
    "duration": 336,
    "start_time": "2022-06-10T04:25:13.227Z"
   },
   {
    "duration": 6,
    "start_time": "2022-06-10T04:25:13.565Z"
   },
   {
    "duration": 431,
    "start_time": "2022-06-10T04:25:13.573Z"
   },
   {
    "duration": 6,
    "start_time": "2022-06-10T04:25:14.005Z"
   },
   {
    "duration": 343,
    "start_time": "2022-06-10T04:25:14.013Z"
   },
   {
    "duration": 9,
    "start_time": "2022-06-10T04:25:14.359Z"
   },
   {
    "duration": 520,
    "start_time": "2022-06-10T04:25:14.369Z"
   },
   {
    "duration": 10,
    "start_time": "2022-06-10T04:25:14.891Z"
   },
   {
    "duration": 186,
    "start_time": "2022-06-10T04:25:14.903Z"
   },
   {
    "duration": 5,
    "start_time": "2022-06-10T04:25:15.091Z"
   },
   {
    "duration": 204,
    "start_time": "2022-06-10T04:25:15.097Z"
   },
   {
    "duration": 207,
    "start_time": "2022-06-10T04:25:15.303Z"
   },
   {
    "duration": 203,
    "start_time": "2022-06-10T04:25:15.512Z"
   },
   {
    "duration": 11,
    "start_time": "2022-06-10T04:25:15.718Z"
   },
   {
    "duration": 47,
    "start_time": "2022-06-10T04:25:15.731Z"
   },
   {
    "duration": 54,
    "start_time": "2022-06-10T04:25:15.780Z"
   },
   {
    "duration": 55,
    "start_time": "2022-06-10T04:25:15.836Z"
   },
   {
    "duration": 68,
    "start_time": "2022-06-10T04:25:15.892Z"
   },
   {
    "duration": 30,
    "start_time": "2022-06-10T04:25:15.962Z"
   },
   {
    "duration": 78,
    "start_time": "2022-06-10T04:25:15.994Z"
   },
   {
    "duration": 80,
    "start_time": "2022-06-10T04:25:16.074Z"
   },
   {
    "duration": 6,
    "start_time": "2022-06-10T04:25:16.156Z"
   },
   {
    "duration": 22,
    "start_time": "2022-06-10T04:25:16.164Z"
   },
   {
    "duration": 10,
    "start_time": "2022-06-10T04:25:16.188Z"
   },
   {
    "duration": 40,
    "start_time": "2022-06-10T04:25:16.200Z"
   },
   {
    "duration": 27,
    "start_time": "2022-06-10T04:25:16.242Z"
   },
   {
    "duration": 22,
    "start_time": "2022-06-10T04:25:18.716Z"
   },
   {
    "duration": 3,
    "start_time": "2022-06-10T04:26:52.117Z"
   },
   {
    "duration": 126,
    "start_time": "2022-06-10T04:26:52.122Z"
   },
   {
    "duration": 5,
    "start_time": "2022-06-10T04:26:52.250Z"
   },
   {
    "duration": 21,
    "start_time": "2022-06-10T04:26:52.257Z"
   },
   {
    "duration": 19,
    "start_time": "2022-06-10T04:26:52.280Z"
   },
   {
    "duration": 11,
    "start_time": "2022-06-10T04:26:52.300Z"
   },
   {
    "duration": 20,
    "start_time": "2022-06-10T04:26:52.313Z"
   },
   {
    "duration": 10,
    "start_time": "2022-06-10T04:26:52.335Z"
   },
   {
    "duration": 16,
    "start_time": "2022-06-10T04:26:52.347Z"
   },
   {
    "duration": 7,
    "start_time": "2022-06-10T04:26:52.365Z"
   },
   {
    "duration": 7,
    "start_time": "2022-06-10T04:26:52.374Z"
   },
   {
    "duration": 9,
    "start_time": "2022-06-10T04:26:52.382Z"
   },
   {
    "duration": 8,
    "start_time": "2022-06-10T04:26:52.393Z"
   },
   {
    "duration": 29,
    "start_time": "2022-06-10T04:26:52.402Z"
   },
   {
    "duration": 9,
    "start_time": "2022-06-10T04:26:52.432Z"
   },
   {
    "duration": 7,
    "start_time": "2022-06-10T04:26:52.443Z"
   },
   {
    "duration": 14,
    "start_time": "2022-06-10T04:26:52.452Z"
   },
   {
    "duration": 177,
    "start_time": "2022-06-10T04:26:52.467Z"
   },
   {
    "duration": 5,
    "start_time": "2022-06-10T04:26:52.646Z"
   },
   {
    "duration": 152,
    "start_time": "2022-06-10T04:26:52.652Z"
   },
   {
    "duration": 110,
    "start_time": "2022-06-10T04:26:52.806Z"
   },
   {
    "duration": 9,
    "start_time": "2022-06-10T04:26:52.927Z"
   },
   {
    "duration": 402,
    "start_time": "2022-06-10T04:26:52.937Z"
   },
   {
    "duration": 317,
    "start_time": "2022-06-10T04:26:53.341Z"
   },
   {
    "duration": 5,
    "start_time": "2022-06-10T04:26:53.660Z"
   },
   {
    "duration": 415,
    "start_time": "2022-06-10T04:26:53.667Z"
   },
   {
    "duration": 5,
    "start_time": "2022-06-10T04:26:54.084Z"
   },
   {
    "duration": 304,
    "start_time": "2022-06-10T04:26:54.090Z"
   },
   {
    "duration": 7,
    "start_time": "2022-06-10T04:26:54.399Z"
   },
   {
    "duration": 481,
    "start_time": "2022-06-10T04:26:54.407Z"
   },
   {
    "duration": 8,
    "start_time": "2022-06-10T04:26:54.890Z"
   },
   {
    "duration": 167,
    "start_time": "2022-06-10T04:26:54.899Z"
   },
   {
    "duration": 4,
    "start_time": "2022-06-10T04:26:55.067Z"
   },
   {
    "duration": 178,
    "start_time": "2022-06-10T04:26:55.073Z"
   },
   {
    "duration": 188,
    "start_time": "2022-06-10T04:26:55.253Z"
   },
   {
    "duration": 192,
    "start_time": "2022-06-10T04:26:55.443Z"
   },
   {
    "duration": 4,
    "start_time": "2022-06-10T04:26:55.636Z"
   },
   {
    "duration": 46,
    "start_time": "2022-06-10T04:26:55.641Z"
   },
   {
    "duration": 45,
    "start_time": "2022-06-10T04:26:55.689Z"
   },
   {
    "duration": 54,
    "start_time": "2022-06-10T04:26:55.735Z"
   },
   {
    "duration": 77,
    "start_time": "2022-06-10T04:26:55.790Z"
   },
   {
    "duration": 32,
    "start_time": "2022-06-10T04:26:55.868Z"
   },
   {
    "duration": 75,
    "start_time": "2022-06-10T04:26:55.901Z"
   },
   {
    "duration": 80,
    "start_time": "2022-06-10T04:26:55.978Z"
   },
   {
    "duration": 5,
    "start_time": "2022-06-10T04:26:56.060Z"
   },
   {
    "duration": 24,
    "start_time": "2022-06-10T04:26:56.067Z"
   },
   {
    "duration": 9,
    "start_time": "2022-06-10T04:26:56.093Z"
   },
   {
    "duration": 23,
    "start_time": "2022-06-10T04:26:56.104Z"
   },
   {
    "duration": 8,
    "start_time": "2022-06-10T04:26:56.128Z"
   },
   {
    "duration": 23,
    "start_time": "2022-06-10T04:26:56.137Z"
   },
   {
    "duration": 12,
    "start_time": "2022-06-10T04:26:56.161Z"
   },
   {
    "duration": 4,
    "start_time": "2022-06-10T04:30:06.714Z"
   },
   {
    "duration": 3,
    "start_time": "2022-06-10T04:30:54.507Z"
   },
   {
    "duration": 4,
    "start_time": "2022-06-10T04:31:27.144Z"
   },
   {
    "duration": 4,
    "start_time": "2022-06-10T04:32:15.627Z"
   },
   {
    "duration": 206,
    "start_time": "2022-06-10T04:35:47.524Z"
   },
   {
    "duration": 3,
    "start_time": "2022-06-10T04:46:34.105Z"
   },
   {
    "duration": 115,
    "start_time": "2022-06-10T04:46:34.111Z"
   },
   {
    "duration": 6,
    "start_time": "2022-06-10T04:46:34.228Z"
   },
   {
    "duration": 13,
    "start_time": "2022-06-10T04:46:34.235Z"
   },
   {
    "duration": 10,
    "start_time": "2022-06-10T04:46:34.250Z"
   },
   {
    "duration": 8,
    "start_time": "2022-06-10T04:46:34.262Z"
   },
   {
    "duration": 13,
    "start_time": "2022-06-10T04:46:34.272Z"
   },
   {
    "duration": 40,
    "start_time": "2022-06-10T04:46:34.287Z"
   },
   {
    "duration": 9,
    "start_time": "2022-06-10T04:46:34.329Z"
   },
   {
    "duration": 8,
    "start_time": "2022-06-10T04:46:34.340Z"
   },
   {
    "duration": 10,
    "start_time": "2022-06-10T04:46:34.350Z"
   },
   {
    "duration": 10,
    "start_time": "2022-06-10T04:46:34.362Z"
   },
   {
    "duration": 9,
    "start_time": "2022-06-10T04:46:34.374Z"
   },
   {
    "duration": 10,
    "start_time": "2022-06-10T04:46:34.384Z"
   },
   {
    "duration": 39,
    "start_time": "2022-06-10T04:46:34.396Z"
   },
   {
    "duration": 10,
    "start_time": "2022-06-10T04:46:34.437Z"
   },
   {
    "duration": 164,
    "start_time": "2022-06-10T04:46:34.449Z"
   },
   {
    "duration": 14,
    "start_time": "2022-06-10T04:46:34.614Z"
   },
   {
    "duration": 261,
    "start_time": "2022-06-10T04:46:34.629Z"
   },
   {
    "duration": 110,
    "start_time": "2022-06-10T04:46:34.892Z"
   },
   {
    "duration": 10,
    "start_time": "2022-06-10T04:46:35.003Z"
   },
   {
    "duration": 4,
    "start_time": "2022-06-10T04:46:35.028Z"
   },
   {
    "duration": 336,
    "start_time": "2022-06-10T04:46:35.034Z"
   },
   {
    "duration": 341,
    "start_time": "2022-06-10T04:46:35.372Z"
   },
   {
    "duration": 6,
    "start_time": "2022-06-10T04:46:35.715Z"
   },
   {
    "duration": 414,
    "start_time": "2022-06-10T04:46:35.727Z"
   },
   {
    "duration": 6,
    "start_time": "2022-06-10T04:46:36.143Z"
   },
   {
    "duration": 385,
    "start_time": "2022-06-10T04:46:36.150Z"
   },
   {
    "duration": 8,
    "start_time": "2022-06-10T04:46:36.538Z"
   },
   {
    "duration": 448,
    "start_time": "2022-06-10T04:46:36.547Z"
   },
   {
    "duration": 10,
    "start_time": "2022-06-10T04:46:36.997Z"
   },
   {
    "duration": 191,
    "start_time": "2022-06-10T04:46:37.009Z"
   },
   {
    "duration": 4,
    "start_time": "2022-06-10T04:46:37.202Z"
   },
   {
    "duration": 213,
    "start_time": "2022-06-10T04:46:37.208Z"
   },
   {
    "duration": 223,
    "start_time": "2022-06-10T04:46:37.427Z"
   },
   {
    "duration": 201,
    "start_time": "2022-06-10T04:46:37.652Z"
   },
   {
    "duration": 5,
    "start_time": "2022-06-10T04:46:37.855Z"
   },
   {
    "duration": 47,
    "start_time": "2022-06-10T04:46:37.862Z"
   },
   {
    "duration": 59,
    "start_time": "2022-06-10T04:46:37.911Z"
   },
   {
    "duration": 58,
    "start_time": "2022-06-10T04:46:37.971Z"
   },
   {
    "duration": 71,
    "start_time": "2022-06-10T04:46:38.032Z"
   },
   {
    "duration": 51,
    "start_time": "2022-06-10T04:46:38.104Z"
   },
   {
    "duration": 75,
    "start_time": "2022-06-10T04:46:38.157Z"
   },
   {
    "duration": 75,
    "start_time": "2022-06-10T04:46:38.234Z"
   },
   {
    "duration": 36,
    "start_time": "2022-06-10T04:46:38.311Z"
   },
   {
    "duration": 23,
    "start_time": "2022-06-10T04:46:38.348Z"
   },
   {
    "duration": 9,
    "start_time": "2022-06-10T04:46:38.373Z"
   },
   {
    "duration": 9,
    "start_time": "2022-06-10T04:46:38.384Z"
   },
   {
    "duration": 9,
    "start_time": "2022-06-10T04:46:38.394Z"
   },
   {
    "duration": 42,
    "start_time": "2022-06-10T04:46:38.405Z"
   },
   {
    "duration": 13,
    "start_time": "2022-06-10T04:46:38.448Z"
   }
  ],
  "kernelspec": {
   "display_name": "Python 3 (ipykernel)",
   "language": "python",
   "name": "python3"
  },
  "language_info": {
   "codemirror_mode": {
    "name": "ipython",
    "version": 3
   },
   "file_extension": ".py",
   "mimetype": "text/x-python",
   "name": "python",
   "nbconvert_exporter": "python",
   "pygments_lexer": "ipython3",
   "version": "3.10.1"
  },
  "toc": {
   "base_numbering": 1,
   "nav_menu": {},
   "number_sections": true,
   "sideBar": true,
   "skip_h1_title": false,
   "title_cell": "Table of Contents",
   "title_sidebar": "Contents",
   "toc_cell": false,
   "toc_position": {
    "height": "calc(100% - 180px)",
    "left": "10px",
    "top": "150px",
    "width": "256px"
   },
   "toc_section_display": true,
   "toc_window_display": true
  }
 },
 "nbformat": 4,
 "nbformat_minor": 5
}
