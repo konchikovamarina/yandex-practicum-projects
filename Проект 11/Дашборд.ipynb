{
 "cells": [
  {
   "cell_type": "code",
   "execution_count": null,
   "id": "301670da",
   "metadata": {},
   "outputs": [],
   "source": []
  },
  {
   "cell_type": "code",
   "execution_count": 26,
   "id": "aea74e89",
   "metadata": {},
   "outputs": [],
   "source": [
    "#!/usr/bin/python\n",
    "# -*- coding: utf-8 -*-\n",
    "\n",
    "# импортируем библиотеки\n",
    "import pandas as pd\n",
    "from sqlalchemy import create_engine\n",
    "\n",
    "db_config = {'user': 'praktikum_student', # имя пользователя\n",
    "            'pwd': 'Sdf4$2;d-d30pp', # пароль\n",
    "            'host': 'rc1b-wcoijxj3yxfsf3fs.mdb.yandexcloud.net',\n",
    "            'port': 6432, # порт подключения\n",
    "            'db': 'data-analyst-zen-project-db'} # название базы данных\n",
    "\n",
    "connection_string = 'postgresql://{}:{}@{}:{}/{}'.format(db_config['user'],\n",
    "                                                db_config['pwd'],\n",
    "                                                db_config['host'],\n",
    "                                                db_config['port'],\n",
    "                                                db_config['db'])\n",
    "\n",
    "engine = create_engine(connection_string) "
   ]
  },
  {
   "cell_type": "code",
   "execution_count": 27,
   "id": "ae8d7fc5",
   "metadata": {},
   "outputs": [],
   "source": [
    "\n",
    "query = ''' SELECT *\n",
    "            FROM dash_visits\n",
    "        '''\n",
    "dash_visits = pd.io.sql.read_sql(query, con = engine)"
   ]
  },
  {
   "cell_type": "code",
   "execution_count": 28,
   "id": "b812c0e7",
   "metadata": {},
   "outputs": [],
   "source": [
    "\n",
    "dash_visits.to_csv('dash_visits.csv')\n"
   ]
  },
  {
   "cell_type": "code",
   "execution_count": 29,
   "id": "c66294a6",
   "metadata": {},
   "outputs": [
    {
     "name": "stdout",
     "output_type": "stream",
     "text": [
      "   record_id item_topic source_topic age_segment                  dt  visits\n",
      "0    1040597     Деньги         Авто       18-25 2019-09-24 18:32:00       3\n",
      "1    1040598     Деньги         Авто       18-25 2019-09-24 18:35:00       1\n",
      "2    1040599     Деньги         Авто       18-25 2019-09-24 18:54:00       4\n",
      "3    1040600     Деньги         Авто       18-25 2019-09-24 18:55:00      17\n",
      "4    1040601     Деньги         Авто       18-25 2019-09-24 18:56:00      27\n"
     ]
    }
   ],
   "source": [
    "print(dash_visits.head())"
   ]
  },
  {
   "cell_type": "code",
   "execution_count": null,
   "id": "fe4b7090",
   "metadata": {},
   "outputs": [],
   "source": []
  },
  {
   "cell_type": "code",
   "execution_count": 31,
   "id": "68878f1e",
   "metadata": {},
   "outputs": [
    {
     "name": "stdout",
     "output_type": "stream",
     "text": [
      "       record_id item_topic source_topic age_segment                  dt  \\\n",
      "30740    1071337       Юмор      Финансы       36-40 2019-09-24 18:57:00   \n",
      "30741    1071338       Юмор      Финансы       36-40 2019-09-24 19:00:00   \n",
      "30742    1071339       Юмор      Финансы       41-45 2019-09-24 18:54:00   \n",
      "30743    1071340       Юмор      Финансы       41-45 2019-09-24 18:56:00   \n",
      "30744    1071341       Юмор      Финансы       41-45 2019-09-24 19:00:00   \n",
      "\n",
      "       visits  \n",
      "30740       2  \n",
      "30741       1  \n",
      "30742       1  \n",
      "30743       1  \n",
      "30744       1  \n"
     ]
    }
   ],
   "source": [
    "print(dash_visits.tail())"
   ]
  },
  {
   "cell_type": "code",
   "execution_count": null,
   "id": "35ae5039",
   "metadata": {},
   "outputs": [],
   "source": []
  }
 ],
 "metadata": {
  "kernelspec": {
   "display_name": "Python 3 (ipykernel)",
   "language": "python",
   "name": "python3"
  },
  "language_info": {
   "codemirror_mode": {
    "name": "ipython",
    "version": 3
   },
   "file_extension": ".py",
   "mimetype": "text/x-python",
   "name": "python",
   "nbconvert_exporter": "python",
   "pygments_lexer": "ipython3",
   "version": "3.10.1"
  },
  "toc": {
   "base_numbering": 1,
   "nav_menu": {},
   "number_sections": true,
   "sideBar": true,
   "skip_h1_title": false,
   "title_cell": "Table of Contents",
   "title_sidebar": "Contents",
   "toc_cell": false,
   "toc_position": {},
   "toc_section_display": true,
   "toc_window_display": false
  }
 },
 "nbformat": 4,
 "nbformat_minor": 5
}
