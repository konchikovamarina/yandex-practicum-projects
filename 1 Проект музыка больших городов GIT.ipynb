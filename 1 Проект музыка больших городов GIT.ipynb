{
 "cells": [
  {
   "cell_type": "markdown",
   "metadata": {
    "id": "E0vqbgi9ay0H"
   },
   "source": [
    "# Яндекс.Музыка"
   ]
  },
  {
   "cell_type": "markdown",
   "metadata": {
    "id": "VUC88oWjTJw2"
   },
   "source": [
    "Сравнение Москвы и Петербурга окружено мифами. Например:\n",
    " * Москва — мегаполис, подчинённый жёсткому ритму рабочей недели;\n",
    " * Петербург — культурная столица, со своими вкусами.\n",
    "\n",
    "На данных Яндекс.Музыки вы сравните поведение пользователей двух столиц.\n",
    "\n",
    "**Цель исследования** — проверьте три гипотезы:\n",
    "1. Активность пользователей зависит от дня недели. Причём в Москве и Петербурге это проявляется по-разному.\n",
    "2. В понедельник утром в Москве преобладают одни жанры, а в Петербурге — другие. Так же и вечером пятницы преобладают разные жанры — в зависимости от города. \n",
    "3. Москва и Петербург предпочитают разные жанры музыки. В Москве чаще слушают поп-музыку, в Петербурге — русский рэп.\n",
    "\n",
    "**Ход исследования**\n",
    "\n",
    "Данные о поведении пользователей вы получите из файла `yandex_music_project.csv`. О качестве данных ничего не известно. Поэтому перед проверкой гипотез понадобится обзор данных. \n",
    "\n",
    "Вы проверите данные на ошибки и оцените их влияние на исследование. Затем, на этапе предобработки вы поищете возможность исправить самые критичные ошибки данных.\n",
    " \n",
    "Таким образом, исследование пройдёт в три этапа:\n",
    " 1. Обзор данных.\n",
    " 2. Предобработка данных.\n",
    " 3. Проверка гипотез.\n",
    "\n"
   ]
  },
  {
   "cell_type": "markdown",
   "metadata": {
    "id": "Ml1hmfXC_Zcs"
   },
   "source": [
    "## Обзор данных\n",
    "\n",
    "Составьте первое представление о данных Яндекс.Музыки.\n",
    "\n",
    "\n"
   ]
  },
  {
   "cell_type": "markdown",
   "metadata": {
    "id": "57eAOGIz_Zcs"
   },
   "source": [
    "Основной инструмент аналитика — `pandas`. Импортируйте эту библиотеку."
   ]
  },
  {
   "cell_type": "code",
   "execution_count": 1,
   "metadata": {
    "id": "AXN7PHPN_Zcs"
   },
   "outputs": [],
   "source": [
    "import pandas as pd  # импорт библиотеки pandas"
   ]
  },
  {
   "cell_type": "markdown",
   "metadata": {
    "id": "SG23P8tt_Zcs"
   },
   "source": [
    "Прочитайте файл `yandex_music_project.csv` из папки `/datasets` и сохраните его в переменной `df`:"
   ]
  },
  {
   "cell_type": "code",
   "execution_count": 2,
   "metadata": {
    "id": "fFVu7vqh_Zct"
   },
   "outputs": [],
   "source": [
    "df = pd.read_csv('/datasets/yandex_music_project.csv')# чтение файла с данными и сохранение в df"
   ]
  },
  {
   "cell_type": "markdown",
   "metadata": {
    "id": "rDoOMd3uTqnZ"
   },
   "source": [
    "Выведите на экран первые десять строк таблицы:"
   ]
  },
  {
   "cell_type": "code",
   "execution_count": 3,
   "metadata": {
    "id": "oWTVX3gW_Zct"
   },
   "outputs": [
    {
     "data": {
      "text/html": [
       "<div>\n",
       "<style scoped>\n",
       "    .dataframe tbody tr th:only-of-type {\n",
       "        vertical-align: middle;\n",
       "    }\n",
       "\n",
       "    .dataframe tbody tr th {\n",
       "        vertical-align: top;\n",
       "    }\n",
       "\n",
       "    .dataframe thead th {\n",
       "        text-align: right;\n",
       "    }\n",
       "</style>\n",
       "<table border=\"1\" class=\"dataframe\">\n",
       "  <thead>\n",
       "    <tr style=\"text-align: right;\">\n",
       "      <th></th>\n",
       "      <th>userID</th>\n",
       "      <th>Track</th>\n",
       "      <th>artist</th>\n",
       "      <th>genre</th>\n",
       "      <th>City</th>\n",
       "      <th>time</th>\n",
       "      <th>Day</th>\n",
       "    </tr>\n",
       "  </thead>\n",
       "  <tbody>\n",
       "    <tr>\n",
       "      <td>0</td>\n",
       "      <td>FFB692EC</td>\n",
       "      <td>Kamigata To Boots</td>\n",
       "      <td>The Mass Missile</td>\n",
       "      <td>rock</td>\n",
       "      <td>Saint-Petersburg</td>\n",
       "      <td>20:28:33</td>\n",
       "      <td>Wednesday</td>\n",
       "    </tr>\n",
       "    <tr>\n",
       "      <td>1</td>\n",
       "      <td>55204538</td>\n",
       "      <td>Delayed Because of Accident</td>\n",
       "      <td>Andreas Rönnberg</td>\n",
       "      <td>rock</td>\n",
       "      <td>Moscow</td>\n",
       "      <td>14:07:09</td>\n",
       "      <td>Friday</td>\n",
       "    </tr>\n",
       "    <tr>\n",
       "      <td>2</td>\n",
       "      <td>20EC38</td>\n",
       "      <td>Funiculì funiculà</td>\n",
       "      <td>Mario Lanza</td>\n",
       "      <td>pop</td>\n",
       "      <td>Saint-Petersburg</td>\n",
       "      <td>20:58:07</td>\n",
       "      <td>Wednesday</td>\n",
       "    </tr>\n",
       "    <tr>\n",
       "      <td>3</td>\n",
       "      <td>A3DD03C9</td>\n",
       "      <td>Dragons in the Sunset</td>\n",
       "      <td>Fire + Ice</td>\n",
       "      <td>folk</td>\n",
       "      <td>Saint-Petersburg</td>\n",
       "      <td>08:37:09</td>\n",
       "      <td>Monday</td>\n",
       "    </tr>\n",
       "    <tr>\n",
       "      <td>4</td>\n",
       "      <td>E2DC1FAE</td>\n",
       "      <td>Soul People</td>\n",
       "      <td>Space Echo</td>\n",
       "      <td>dance</td>\n",
       "      <td>Moscow</td>\n",
       "      <td>08:34:34</td>\n",
       "      <td>Monday</td>\n",
       "    </tr>\n",
       "    <tr>\n",
       "      <td>5</td>\n",
       "      <td>842029A1</td>\n",
       "      <td>Преданная</td>\n",
       "      <td>IMPERVTOR</td>\n",
       "      <td>rusrap</td>\n",
       "      <td>Saint-Petersburg</td>\n",
       "      <td>13:09:41</td>\n",
       "      <td>Friday</td>\n",
       "    </tr>\n",
       "    <tr>\n",
       "      <td>6</td>\n",
       "      <td>4CB90AA5</td>\n",
       "      <td>True</td>\n",
       "      <td>Roman Messer</td>\n",
       "      <td>dance</td>\n",
       "      <td>Moscow</td>\n",
       "      <td>13:00:07</td>\n",
       "      <td>Wednesday</td>\n",
       "    </tr>\n",
       "    <tr>\n",
       "      <td>7</td>\n",
       "      <td>F03E1C1F</td>\n",
       "      <td>Feeling This Way</td>\n",
       "      <td>Polina Griffith</td>\n",
       "      <td>dance</td>\n",
       "      <td>Moscow</td>\n",
       "      <td>20:47:49</td>\n",
       "      <td>Wednesday</td>\n",
       "    </tr>\n",
       "    <tr>\n",
       "      <td>8</td>\n",
       "      <td>8FA1D3BE</td>\n",
       "      <td>И вновь продолжается бой</td>\n",
       "      <td>NaN</td>\n",
       "      <td>ruspop</td>\n",
       "      <td>Moscow</td>\n",
       "      <td>09:17:40</td>\n",
       "      <td>Friday</td>\n",
       "    </tr>\n",
       "    <tr>\n",
       "      <td>9</td>\n",
       "      <td>E772D5C0</td>\n",
       "      <td>Pessimist</td>\n",
       "      <td>NaN</td>\n",
       "      <td>dance</td>\n",
       "      <td>Saint-Petersburg</td>\n",
       "      <td>21:20:49</td>\n",
       "      <td>Wednesday</td>\n",
       "    </tr>\n",
       "  </tbody>\n",
       "</table>\n",
       "</div>"
      ],
      "text/plain": [
       "     userID                        Track            artist   genre  \\\n",
       "0  FFB692EC            Kamigata To Boots  The Mass Missile    rock   \n",
       "1  55204538  Delayed Because of Accident  Andreas Rönnberg    rock   \n",
       "2    20EC38            Funiculì funiculà       Mario Lanza     pop   \n",
       "3  A3DD03C9        Dragons in the Sunset        Fire + Ice    folk   \n",
       "4  E2DC1FAE                  Soul People        Space Echo   dance   \n",
       "5  842029A1                    Преданная         IMPERVTOR  rusrap   \n",
       "6  4CB90AA5                         True      Roman Messer   dance   \n",
       "7  F03E1C1F             Feeling This Way   Polina Griffith   dance   \n",
       "8  8FA1D3BE     И вновь продолжается бой               NaN  ruspop   \n",
       "9  E772D5C0                    Pessimist               NaN   dance   \n",
       "\n",
       "             City        time        Day  \n",
       "0  Saint-Petersburg  20:28:33  Wednesday  \n",
       "1            Moscow  14:07:09     Friday  \n",
       "2  Saint-Petersburg  20:58:07  Wednesday  \n",
       "3  Saint-Petersburg  08:37:09     Monday  \n",
       "4            Moscow  08:34:34     Monday  \n",
       "5  Saint-Petersburg  13:09:41     Friday  \n",
       "6            Moscow  13:00:07  Wednesday  \n",
       "7            Moscow  20:47:49  Wednesday  \n",
       "8            Moscow  09:17:40     Friday  \n",
       "9  Saint-Petersburg  21:20:49  Wednesday  "
      ]
     },
     "execution_count": 3,
     "metadata": {},
     "output_type": "execute_result"
    }
   ],
   "source": [
    "df.head(10) # получение первых 10 строк таблицы df"
   ]
  },
  {
   "cell_type": "markdown",
   "metadata": {
    "id": "EO73Kwic_Zct"
   },
   "source": [
    "Одной командой получить общую информацию о таблице:"
   ]
  },
  {
   "cell_type": "code",
   "execution_count": 4,
   "metadata": {
    "id": "DSf2kIb-_Zct"
   },
   "outputs": [
    {
     "name": "stdout",
     "output_type": "stream",
     "text": [
      "<class 'pandas.core.frame.DataFrame'>\n",
      "RangeIndex: 65079 entries, 0 to 65078\n",
      "Data columns (total 7 columns):\n",
      "  userID    65079 non-null object\n",
      "Track       63848 non-null object\n",
      "artist      57876 non-null object\n",
      "genre       63881 non-null object\n",
      "  City      65079 non-null object\n",
      "time        65079 non-null object\n",
      "Day         65079 non-null object\n",
      "dtypes: object(7)\n",
      "memory usage: 3.5+ MB\n"
     ]
    }
   ],
   "source": [
    "df.info() # получение общей информации о данных в таблице df"
   ]
  },
  {
   "cell_type": "markdown",
   "metadata": {
    "id": "TaQ2Iwbr_Zct"
   },
   "source": [
    "Итак, в таблице семь столбцов. Тип данных во всех столбцах — `object`.\n",
    "\n",
    "Согласно документации к данным:\n",
    "* `userID` — идентификатор пользователя;\n",
    "* `Track` — название трека;  \n",
    "* `artist` — имя исполнителя;\n",
    "* `genre` — название жанра;\n",
    "* `City` — город пользователя;\n",
    "* `time` — время начала прослушивания\n",
    "* `Day` — день недели.\n",
    "\n",
    "В названиях колонок видны три нарушения стиля:\n",
    "1. Строчные буквы сочетаются с прописными.\n",
    "2. Встречаются пробелы.\n",
    "3. Найдите ещё одну проблему в названии колонок и опишите её в этом пункте.\n",
    "4. Идентификатор пользователя `userID` описан двумя \"склеенными\" словами вместо применения змеиного регистра.\n",
    "\n",
    "Количество значений в столбцах различается. Значит, в данных есть пропущенные значения.\n"
   ]
  },
  {
   "cell_type": "markdown",
   "metadata": {
    "id": "MCB6-dXG_Zct"
   },
   "source": [
    "**Выводы**\n",
    "\n",
    "В каждой строке таблицы — данные о прослушанном треке. Часть колонок описывает саму композицию: название, исполнителя и жанр. Остальные данные рассказывают о пользователе: из какого он города, когда он слушал музыку. \n",
    "\n",
    "Предварительно можно утверждать, что, данных достаточно для проверки гипотез. Но встречаются пропуски в данных, а в названиях колонок — расхождения с хорошим стилем.\n",
    "\n",
    "Чтобы двигаться дальше, нужно устранить проблемы в данных."
   ]
  },
  {
   "cell_type": "markdown",
   "metadata": {
    "id": "SjYF6Ub9_Zct"
   },
   "source": [
    "## Предобработка данных\n",
    "Исправьте стиль в заголовках столбцов, исключите пропуски. Затем проверьте данные на дубликаты."
   ]
  },
  {
   "cell_type": "markdown",
   "metadata": {
    "id": "dIaKXr29_Zct"
   },
   "source": [
    "### Стиль заголовков\n",
    "Выведите на экран названия столбцов:"
   ]
  },
  {
   "cell_type": "code",
   "execution_count": 5,
   "metadata": {
    "id": "oKOTdF_Q_Zct"
   },
   "outputs": [
    {
     "name": "stdout",
     "output_type": "stream",
     "text": [
      "Index(['  userID', 'Track', 'artist', 'genre', '  City  ', 'time', 'Day'], dtype='object')\n"
     ]
    }
   ],
   "source": [
    "print(df.columns) # перечень названий столбцов таблицы df"
   ]
  },
  {
   "cell_type": "markdown",
   "metadata": {
    "id": "zj5534cv_Zct"
   },
   "source": [
    "Приведите названия в соответствие с хорошим стилем:\n",
    "* несколько слов в названии запишите в «змеином_регистре»,\n",
    "* все символы сделайте строчными,\n",
    "* устраните пробелы.\n",
    "\n",
    "Для этого переименуйте колонки так:\n",
    "* `'  userID'` → `'user_id'`;\n",
    "* `'Track'` → `'track'`;\n",
    "* `'  City  '` → `'city'`;\n",
    "* `'Day'` → `'day'`."
   ]
  },
  {
   "cell_type": "code",
   "execution_count": 6,
   "metadata": {
    "id": "ISlFqs5y_Zct"
   },
   "outputs": [],
   "source": [
    "df = df.rename(columns = {'  userID':'user_id','Track':'track','  City  ':'city','Day':'day'}) # переименование столбцов"
   ]
  },
  {
   "cell_type": "markdown",
   "metadata": {
    "id": "1dqbh00J_Zct"
   },
   "source": [
    "Проверьте результат. Для этого ещё раз выведите на экран названия столбцов:"
   ]
  },
  {
   "cell_type": "code",
   "execution_count": 7,
   "metadata": {
    "id": "d4NOAmTW_Zct"
   },
   "outputs": [
    {
     "data": {
      "text/plain": [
       "Index(['user_id', 'track', 'artist', 'genre', 'city', 'time', 'day'], dtype='object')"
      ]
     },
     "metadata": {},
     "output_type": "display_data"
    }
   ],
   "source": [
    "display(df.columns) # проверка результатов - перечень названий столбцов"
   ]
  },
  {
   "cell_type": "markdown",
   "metadata": {
    "id": "5ISfbcfY_Zct"
   },
   "source": [
    "### Пропуски значений\n",
    "Сначала посчитайте, сколько в таблице пропущенных значений. Для этого достаточно двух методов `pandas`:"
   ]
  },
  {
   "cell_type": "code",
   "execution_count": 8,
   "metadata": {
    "id": "RskX29qr_Zct"
   },
   "outputs": [
    {
     "data": {
      "text/plain": [
       "user_id       0\n",
       "track      1231\n",
       "artist     7203\n",
       "genre      1198\n",
       "city          0\n",
       "time          0\n",
       "day           0\n",
       "dtype: int64"
      ]
     },
     "execution_count": 8,
     "metadata": {},
     "output_type": "execute_result"
    }
   ],
   "source": [
    "df.isna().sum() # подсчёт пропусков"
   ]
  },
  {
   "cell_type": "markdown",
   "metadata": {
    "id": "qubhgnlO_Zct"
   },
   "source": [
    "Не все пропущенные значения влияют на исследование. Так в `track` и `artist` пропуски не важны для вашей работы. Достаточно заменить их явными обозначениями.\n",
    "\n",
    "Но пропуски в `genre` могут помешать сравнению музыкальных вкусов в Москве и Санкт-Петербурге. На практике было бы правильно установить причину пропусков и восстановить данные. Такой возможности нет в учебном проекте. Придётся:\n",
    "* заполнить и эти пропуски явными обозначениями,\n",
    "* оценить, насколько они повредят расчётам. "
   ]
  },
  {
   "cell_type": "markdown",
   "metadata": {
    "id": "fSv2laPA_Zct"
   },
   "source": [
    "Замените пропущенные значения в столбцах `track`, `artist` и `genre` на строку `'unknown'`. Для этого создайте список `columns_to_replace`, переберите его элементы циклом `for` и для каждого столбца выполните замену пропущенных значений:"
   ]
  },
  {
   "cell_type": "code",
   "execution_count": 9,
   "metadata": {
    "id": "KplB5qWs_Zct"
   },
   "outputs": [],
   "source": [
    "columns_to_replace = ['track','artist','genre']\n",
    "for col in columns_to_replace: \n",
    "    df[col] = df[col].fillna('unknown')# перебор названий столбцов в цикле и замена пропущенных значений на 'unknown'"
   ]
  },
  {
   "cell_type": "markdown",
   "metadata": {
    "id": "Ilsm-MZo_Zct"
   },
   "source": [
    "Убедитесь, что в таблице не осталось пропусков. Для этого ещё раз посчитайте пропущенные значения."
   ]
  },
  {
   "cell_type": "code",
   "execution_count": 10,
   "metadata": {
    "id": "Tq4nYRX4_Zct",
    "scrolled": true
   },
   "outputs": [
    {
     "data": {
      "text/plain": [
       "user_id    0\n",
       "track      0\n",
       "artist     0\n",
       "genre      0\n",
       "city       0\n",
       "time       0\n",
       "day        0\n",
       "dtype: int64"
      ]
     },
     "execution_count": 10,
     "metadata": {},
     "output_type": "execute_result"
    }
   ],
   "source": [
    "df.isna().sum()# подсчёт пропусков после замены пропущенных значений на 'unknown'"
   ]
  },
  {
   "cell_type": "markdown",
   "metadata": {
    "id": "BWKRtBJ3_Zct"
   },
   "source": [
    "### Дубликаты\n",
    "Посчитайте явные дубликаты в таблице одной командой:"
   ]
  },
  {
   "cell_type": "code",
   "execution_count": 11,
   "metadata": {
    "id": "36eES_S0_Zct"
   },
   "outputs": [
    {
     "data": {
      "text/plain": [
       "3826"
      ]
     },
     "execution_count": 11,
     "metadata": {},
     "output_type": "execute_result"
    }
   ],
   "source": [
    "df.duplicated().sum()# подсчёт явных дубликатов"
   ]
  },
  {
   "cell_type": "markdown",
   "metadata": {
    "id": "Ot25h6XR_Zct"
   },
   "source": [
    "Вызовите специальный метод `pandas`, чтобы удалить явные дубликаты:"
   ]
  },
  {
   "cell_type": "code",
   "execution_count": 12,
   "metadata": {
    "id": "exFHq6tt_Zct"
   },
   "outputs": [],
   "source": [
    "df = df.drop_duplicates().reset_index(drop = True) # удаление явных дубликатов (с удалением старых индексов и формированием новых)"
   ]
  },
  {
   "cell_type": "markdown",
   "metadata": {
    "id": "Im2YwBEG_Zct"
   },
   "source": [
    "Ещё раз посчитайте явные дубликаты в таблице — убедитесь, что полностью от них избавились:"
   ]
  },
  {
   "cell_type": "code",
   "execution_count": 13,
   "metadata": {
    "id": "-8PuNWQ0_Zct"
   },
   "outputs": [
    {
     "data": {
      "text/plain": [
       "0"
      ]
     },
     "execution_count": 13,
     "metadata": {},
     "output_type": "execute_result"
    }
   ],
   "source": [
    "df.duplicated().sum() # проверка на отсутствие дубликатов после удаления явных дупликатов"
   ]
  },
  {
   "cell_type": "markdown",
   "metadata": {
    "id": "QlFBsxAr_Zct"
   },
   "source": [
    "Теперь избавьтесь от неявных дубликатов в колонке `genre`. Например, название одного и того же жанра может быть записано немного по-разному. Такие ошибки тоже повлияют на результат исследования."
   ]
  },
  {
   "cell_type": "markdown",
   "metadata": {
    "id": "eSjWwsOh_Zct"
   },
   "source": [
    "Выведите на экран список уникальных названий жанров, отсортированный в алфавитном порядке. Для этого:\n",
    "* извлеките нужный столбец датафрейма, \n",
    "* примените к нему метод сортировки,\n",
    "* для отсортированного столбца вызовите метод, который вернёт уникальные значения из столбца."
   ]
  },
  {
   "cell_type": "code",
   "execution_count": 14,
   "metadata": {
    "id": "JIUcqzZN_Zct"
   },
   "outputs": [
    {
     "data": {
      "text/plain": [
       "array(['rock', 'pop', 'folk', 'dance', 'rusrap', 'ruspop', 'world',\n",
       "       'electronic', 'unknown', 'alternative', 'children', 'rnb', 'hip',\n",
       "       'jazz', 'postrock', 'latin', 'classical', 'metal', 'reggae',\n",
       "       'tatar', 'blues', 'instrumental', 'rusrock', 'dnb', 'türk', 'post',\n",
       "       'country', 'psychedelic', 'conjazz', 'indie', 'posthardcore',\n",
       "       'local', 'avantgarde', 'punk', 'videogame', 'techno', 'house',\n",
       "       'christmas', 'melodic', 'caucasian', 'reggaeton', 'soundtrack',\n",
       "       'singer', 'ska', 'shanson', 'ambient', 'film', 'western', 'rap',\n",
       "       'beats', \"hard'n'heavy\", 'progmetal', 'minimal', 'contemporary',\n",
       "       'new', 'soul', 'holiday', 'german', 'tropical', 'fairytail',\n",
       "       'spiritual', 'urban', 'gospel', 'nujazz', 'folkmetal', 'trance',\n",
       "       'miscellaneous', 'anime', 'hardcore', 'progressive', 'chanson',\n",
       "       'numetal', 'vocal', 'estrada', 'russian', 'classicmetal',\n",
       "       'dubstep', 'club', 'deep', 'southern', 'black', 'folkrock',\n",
       "       'fitness', 'french', 'disco', 'religious', 'hiphop', 'drum',\n",
       "       'extrememetal', 'türkçe', 'experimental', 'easy', 'metalcore',\n",
       "       'modern', 'argentinetango', 'old', 'breaks', 'eurofolk',\n",
       "       'stonerrock', 'industrial', 'funk', 'jpop', 'middle', 'variété',\n",
       "       'other', 'adult', 'christian', 'gothic', 'international', 'muslim',\n",
       "       'relax', 'schlager', 'caribbean', 'ukrrock', 'nu', 'breakbeat',\n",
       "       'comedy', 'chill', 'newage', 'specialty', 'uzbek', 'k-pop',\n",
       "       'balkan', 'chinese', 'meditative', 'dub', 'power', 'death',\n",
       "       'grime', 'arabesk', 'romance', 'flamenco', 'leftfield', 'european',\n",
       "       'tech', 'newwave', 'dancehall', 'mpb', 'piano', 'top', 'bigroom',\n",
       "       'opera', 'celtic', 'tradjazz', 'acoustic', 'epicmetal', 'hip-hop',\n",
       "       'historisch', 'downbeat', 'downtempo', 'africa', 'audiobook',\n",
       "       'jewish', 'sängerportrait', 'deutschrock', 'eastern', 'action',\n",
       "       'future', 'electropop', 'folklore', 'bollywood', 'marschmusik',\n",
       "       'rnr', 'karaoke', 'indian', 'rancheras', 'электроника',\n",
       "       'afrikaans', 'tango', 'rhythm', 'sound', 'deutschspr', 'trip',\n",
       "       'lovers', 'choral', 'dancepop', 'podcasts', 'retro', 'smooth',\n",
       "       'mexican', 'brazilian', 'ïîï', 'mood', 'surf', 'author', 'gangsta',\n",
       "       'triphop', 'inspirational', 'idm', 'ethnic', 'bluegrass',\n",
       "       'broadway', 'animated', 'americana', 'karadeniz', 'rockabilly',\n",
       "       'colombian', 'self', 'hop', 'synthrock', 'sertanejo', 'japanese',\n",
       "       'canzone', 'swing', 'lounge', 'sport', 'korean', 'ragga',\n",
       "       'traditional', 'gitarre', 'frankreich', 'alternativepunk', 'emo',\n",
       "       'laiko', 'cantopop', 'glitch', 'documentary', 'rockalternative',\n",
       "       'thrash', 'hymn', 'oceania', 'rockother', 'popeurodance', 'dark',\n",
       "       'vi', 'grunge', 'hardstyle', 'samba', 'garage', 'soft', 'art',\n",
       "       'folktronica', 'entehno', 'mediterranean', 'chamber', 'cuban',\n",
       "       'taraftar', 'rockindie', 'gypsy', 'hardtechno', 'shoegazing',\n",
       "       'skarock', 'bossa', 'salsa', 'latino', 'worldbeat', 'malaysian',\n",
       "       'baile', 'ghazal', 'loungeelectronic', 'arabic', 'popelectronic',\n",
       "       'acid', 'kayokyoku', 'neoklassik', 'tribal', 'tanzorchester',\n",
       "       'native', 'independent', 'cantautori', 'handsup', 'poprussian',\n",
       "       'punjabi', 'synthpop', 'rave', 'französisch', 'quebecois',\n",
       "       'speech', 'soulful', 'teen', 'jam', 'ram', 'horror', 'scenic',\n",
       "       'orchestral', 'neue', 'roots', 'slow', 'jungle', 'indipop', 'axé',\n",
       "       'fado', 'showtunes', 'arena', 'irish', 'mandopop', 'forró',\n",
       "       'popdance', 'dirty', 'regional'], dtype=object)"
      ]
     },
     "execution_count": 14,
     "metadata": {},
     "output_type": "execute_result"
    }
   ],
   "source": [
    "df['genre'].unique()\n",
    " # Просмотр уникальных названий жанров"
   ]
  },
  {
   "cell_type": "markdown",
   "metadata": {
    "id": "qej-Qmuo_Zct"
   },
   "source": [
    "Просмотрите список и найдите неявные дубликаты названия `hiphop`. Это могут быть названия с ошибками или альтернативные названия того же жанра.\n",
    "\n",
    "Вы увидите следующие неявные дубликаты:\n",
    "* *hip*,\n",
    "* *hop*,\n",
    "* *hip-hop*.\n",
    "\n",
    "Чтобы очистить от них таблицу, напишите функцию `replace_wrong_genres()` с двумя параметрами: \n",
    "* `wrong_genres` — список дубликатов,\n",
    "* `correct_genre` — строка с правильным значением.\n",
    "\n",
    "Функция должна исправить колонку `genre` в таблице `df`: заменить каждое значение из списка `wrong_genres` на значение из `correct_genre`."
   ]
  },
  {
   "cell_type": "code",
   "execution_count": 15,
   "metadata": {
    "id": "ErNDkmns_Zct"
   },
   "outputs": [],
   "source": [
    "# Функция для замены неявных дубликатов\n",
    "def replace_wrong_genres(wrong_genres,correct_genre):\n",
    "    for wrong_genre in wrong_genres:\n",
    "        df['genre'] = df['genre'].replace(wrong_genre,correct_genre)\n",
    "    \n",
    "wrong_genres = ['hip','hop','hip-hop']\n",
    "correct_genre = 'hiphop'\n",
    "        "
   ]
  },
  {
   "cell_type": "markdown",
   "metadata": {
    "id": "aDoBJxbA_Zct"
   },
   "source": [
    "Вызовите `replace_wrong_genres()` и передайте ей такие аргументы, чтобы она устранила неявные дубликаты: вместо `hip`, `hop` и `hip-hop` в таблице должно быть значение `hiphop`:"
   ]
  },
  {
   "cell_type": "code",
   "execution_count": 16,
   "metadata": {
    "id": "YN5i2hpmSo09"
   },
   "outputs": [],
   "source": [
    "# Устранение неявных дубликатов\n",
    "replace_wrong_genres(wrong_genres,correct_genre)\n"
   ]
  },
  {
   "cell_type": "markdown",
   "metadata": {
    "id": "zQKF16_RG15m"
   },
   "source": [
    "Проверьте, что заменили неправильные названия:\n",
    "\n",
    "*   hip\n",
    "*   hop\n",
    "*   hip-hop\n",
    "\n",
    "Выведите отсортированный список уникальных значений столбца `genre`:"
   ]
  },
  {
   "cell_type": "code",
   "execution_count": 17,
   "metadata": {
    "id": "wvixALnFG15m"
   },
   "outputs": [
    {
     "name": "stdout",
     "output_type": "stream",
     "text": [
      "Series([], Name: genre, dtype: object)\n",
      "Series([], Name: genre, dtype: object)\n",
      "Series([], Name: genre, dtype: object)\n"
     ]
    }
   ],
   "source": [
    "# Проверка на неявные дубликаты\n",
    "print(df[df['genre']=='hip']['genre'])\n",
    "print(df[df['genre']=='hop']['genre'])\n",
    "print(df[df['genre']=='hip-hop']['genre'])\n"
   ]
  },
  {
   "cell_type": "markdown",
   "metadata": {
    "id": "jz6a9-7HQUDd"
   },
   "source": [
    "**Выводы**\n",
    "\n",
    "Предобработка обнаружила три проблемы в данных:\n",
    "\n",
    "- нарушения в стиле заголовков,\n",
    "- пропущенные значения,\n",
    "- дубликаты — явные и неявные.\n",
    "\n",
    "Вы исправили заголовки, чтобы упростить работу с таблицей. Без дубликатов исследование станет более точным.\n",
    "\n",
    "Пропущенные значения вы заменили на `'unknown'`. Ещё предстоит увидеть, не повредят ли исследованию пропуски в колонке `genre`.\n",
    "\n",
    "Теперь можно перейти к проверке гипотез. "
   ]
  },
  {
   "cell_type": "markdown",
   "metadata": {
    "id": "WttZHXH0SqKk"
   },
   "source": [
    "## Проверка гипотез"
   ]
  },
  {
   "cell_type": "markdown",
   "metadata": {
    "id": "Im936VVi_Zcu"
   },
   "source": [
    "### Сравнение поведения пользователей двух столиц"
   ]
  },
  {
   "cell_type": "markdown",
   "metadata": {
    "id": "nwt_MuaL_Zcu"
   },
   "source": [
    "Первая гипотеза утверждает, что пользователи по-разному слушают музыку в Москве и Санкт-Петербурге. Проверьте это предположение по данным о трёх днях недели — понедельнике, среде и пятнице. Для этого:\n",
    "\n",
    "* Разделите пользователей Москвы и Санкт-Петербурга\n",
    "* Сравните, сколько треков послушала каждая группа пользователей в понедельник, среду и пятницу.\n"
   ]
  },
  {
   "cell_type": "markdown",
   "metadata": {
    "id": "8Dw_YMmT_Zcu"
   },
   "source": [
    "Для тренировки сначала выполните каждый из расчётов по отдельности. \n",
    "\n",
    "Оцените активность пользователей в каждом городе. Сгруппируйте данные по городу и посчитайте прослушивания в каждой группе.\n",
    "\n"
   ]
  },
  {
   "cell_type": "code",
   "execution_count": 18,
   "metadata": {
    "id": "0_Qs96oh_Zcu"
   },
   "outputs": [
    {
     "name": "stdout",
     "output_type": "stream",
     "text": [
      "city\n",
      "Moscow              42741\n",
      "Saint-Petersburg    18512\n",
      "Name: user_id, dtype: int64\n"
     ]
    }
   ],
   "source": [
    "# Подсчёт прослушиваний в каждом городе\n",
    "print(df.groupby('city')['user_id'].count())"
   ]
  },
  {
   "cell_type": "markdown",
   "metadata": {
    "id": "dzli3w8o_Zcu"
   },
   "source": [
    "В Москве прослушиваний больше, чем в Петербурге. Из этого не следует, что московские пользователи чаще слушают музыку. Просто самих пользователей в Москве больше.\n",
    "\n",
    "Теперь сгруппируйте данные по дню недели и подсчитайте прослушивания в понедельник, среду и пятницу. Учтите, что в данных есть информация только о прослушиваниях только за эти дни.\n"
   ]
  },
  {
   "cell_type": "code",
   "execution_count": 19,
   "metadata": {
    "id": "uZMKjiJz_Zcu"
   },
   "outputs": [
    {
     "data": {
      "text/plain": [
       "day\n",
       "Friday       21840\n",
       "Monday       21354\n",
       "Wednesday    18059\n",
       "Name: user_id, dtype: int64"
      ]
     },
     "execution_count": 19,
     "metadata": {},
     "output_type": "execute_result"
    }
   ],
   "source": [
    "# Подсчёт прослушиваний в каждый из трёх дней\n",
    "df.groupby('day')['user_id'].count()"
   ]
  },
  {
   "cell_type": "markdown",
   "metadata": {
    "id": "cC2tNrlL_Zcu"
   },
   "source": [
    "В среднем пользователи из двух городов менее активны по средам. Но картина может измениться, если рассмотреть каждый город в отдельности."
   ]
  },
  {
   "cell_type": "markdown",
   "metadata": {
    "id": "POzs8bGa_Zcu"
   },
   "source": [
    "Вы видели, как работает группировка по городу и по дням недели. Теперь напишите функцию, которая объединит два эти расчёта.\n",
    "\n",
    "Создайте функцию `number_tracks()`, которая посчитает прослушивания для заданного дня и города. Ей понадобятся два параметра:\n",
    "* день недели,\n",
    "* название города.\n",
    "\n",
    "В функции сохраните в переменную строки исходной таблицы, у которых значение:\n",
    "  * в колонке `day` равно параметру `day`,\n",
    "  * в колонке `city` равно параметру `city`.\n",
    "\n",
    "Для этого примените последовательную фильтрацию с логической индексацией.\n",
    "\n",
    "Затем посчитайте значения в столбце `user_id` получившейся таблицы. Результат сохраните в новую переменную. Верните эту переменную из функции."
   ]
  },
  {
   "cell_type": "code",
   "execution_count": 20,
   "metadata": {
    "id": "Nz3GdQB1_Zcu"
   },
   "outputs": [],
   "source": [
    "# <создание функции number_tracks()>\n",
    " #'use# в столбце 'city' равно параметру city (используйте последовательную фильтрацию\n",
    "# с помощью логической индексации).\n",
    "#r_id'].count() # В переменной track_list_count сохраняется число значений столбца 'user_id',\n",
    "# рассчитанное методом count() для таблицы track_list.\n",
    "    # Функция возвращает число - значение track_list_count.\n",
    "\n",
    "# Функция для подсчёта прослушиваний для конкретного города и дня.\n",
    "# С помощью последовательной фильтрации с логической индексацией она \n",
    "# сначала получит из исходной таблицы строки с нужным днём,\n",
    "# затем из результата отфильтрует строки с нужным городом,\n",
    "# методом count() посчитает количество значений в колонке user_id. \n",
    "# Это количество функция вернёт в качестве результата\n",
    "def number_tracks(day,city):\n",
    "    track_list = df[df['day']==day]\n",
    "    track_list = track_list[df['city']==city] # значение в столбце 'day' равно параметру day и одновременно значение\n",
    "    track_list_count = track_list['user_id'].count()\n",
    "    return track_list_count"
   ]
  },
  {
   "cell_type": "markdown",
   "metadata": {
    "id": "ytf7xFrFJQ2r"
   },
   "source": [
    "Вызовите `number_tracks()` шесть раз, меняя значение параметров — так, чтобы получить данные для каждого города в каждый из трёх дней."
   ]
  },
  {
   "cell_type": "code",
   "execution_count": 21,
   "metadata": {
    "id": "rJcRATNQ_Zcu"
   },
   "outputs": [
    {
     "name": "stderr",
     "output_type": "stream",
     "text": [
      "/opt/conda/lib/python3.7/site-packages/ipykernel_launcher.py:16: UserWarning: Boolean Series key will be reindexed to match DataFrame index.\n",
      "  app.launch_new_instance()\n"
     ]
    },
    {
     "data": {
      "text/plain": [
       "15740"
      ]
     },
     "execution_count": 21,
     "metadata": {},
     "output_type": "execute_result"
    }
   ],
   "source": [
    "number_tracks('Monday','Moscow') # количество прослушиваний в Москве по понедельникам"
   ]
  },
  {
   "cell_type": "code",
   "execution_count": 22,
   "metadata": {
    "id": "hq_ncZ5T_Zcu"
   },
   "outputs": [
    {
     "name": "stderr",
     "output_type": "stream",
     "text": [
      "/opt/conda/lib/python3.7/site-packages/ipykernel_launcher.py:16: UserWarning: Boolean Series key will be reindexed to match DataFrame index.\n",
      "  app.launch_new_instance()\n"
     ]
    },
    {
     "data": {
      "text/plain": [
       "5614"
      ]
     },
     "execution_count": 22,
     "metadata": {},
     "output_type": "execute_result"
    }
   ],
   "source": [
    "number_tracks('Monday','Saint-Petersburg') # количество прослушиваний в Санкт-Петербурге по понедельникам"
   ]
  },
  {
   "cell_type": "code",
   "execution_count": 23,
   "metadata": {
    "id": "_NTy2VPU_Zcu"
   },
   "outputs": [
    {
     "name": "stderr",
     "output_type": "stream",
     "text": [
      "/opt/conda/lib/python3.7/site-packages/ipykernel_launcher.py:16: UserWarning: Boolean Series key will be reindexed to match DataFrame index.\n",
      "  app.launch_new_instance()\n"
     ]
    },
    {
     "data": {
      "text/plain": [
       "11056"
      ]
     },
     "execution_count": 23,
     "metadata": {},
     "output_type": "execute_result"
    }
   ],
   "source": [
    "number_tracks('Wednesday','Moscow') # количество прослушиваний в Москве по средам"
   ]
  },
  {
   "cell_type": "code",
   "execution_count": 24,
   "metadata": {
    "id": "j2y3TAwo_Zcu"
   },
   "outputs": [
    {
     "name": "stderr",
     "output_type": "stream",
     "text": [
      "/opt/conda/lib/python3.7/site-packages/ipykernel_launcher.py:16: UserWarning: Boolean Series key will be reindexed to match DataFrame index.\n",
      "  app.launch_new_instance()\n"
     ]
    },
    {
     "data": {
      "text/plain": [
       "7003"
      ]
     },
     "execution_count": 24,
     "metadata": {},
     "output_type": "execute_result"
    }
   ],
   "source": [
    "number_tracks('Wednesday','Saint-Petersburg') # количество прослушиваний в Санкт-Петербурге по средам"
   ]
  },
  {
   "cell_type": "code",
   "execution_count": 25,
   "metadata": {
    "id": "vYDw5u_K_Zcu"
   },
   "outputs": [
    {
     "name": "stderr",
     "output_type": "stream",
     "text": [
      "/opt/conda/lib/python3.7/site-packages/ipykernel_launcher.py:16: UserWarning: Boolean Series key will be reindexed to match DataFrame index.\n",
      "  app.launch_new_instance()\n"
     ]
    },
    {
     "data": {
      "text/plain": [
       "15945"
      ]
     },
     "execution_count": 25,
     "metadata": {},
     "output_type": "execute_result"
    }
   ],
   "source": [
    "number_tracks('Friday','Moscow') # количество прослушиваний в Москве по пятницам"
   ]
  },
  {
   "cell_type": "code",
   "execution_count": 26,
   "metadata": {
    "id": "8_yzFtW3_Zcu"
   },
   "outputs": [
    {
     "name": "stderr",
     "output_type": "stream",
     "text": [
      "/opt/conda/lib/python3.7/site-packages/ipykernel_launcher.py:16: UserWarning: Boolean Series key will be reindexed to match DataFrame index.\n",
      "  app.launch_new_instance()\n"
     ]
    },
    {
     "data": {
      "text/plain": [
       "5895"
      ]
     },
     "execution_count": 26,
     "metadata": {},
     "output_type": "execute_result"
    }
   ],
   "source": [
    "number_tracks('Friday','Saint-Petersburg') # количество прослушиваний в Санкт-Петербурге по пятницам"
   ]
  },
  {
   "cell_type": "markdown",
   "metadata": {
    "id": "7QXffbO-_Zcu"
   },
   "source": [
    "Создайте c помощью конструктора `pd.DataFrame` таблицу, где\n",
    "* названия колонок — `['city', 'monday', 'wednesday', 'friday']`;\n",
    "* данные — результаты, которые вы получили с помощью `number_tracks`."
   ]
  },
  {
   "cell_type": "code",
   "execution_count": 27,
   "metadata": {
    "id": "APAcLpOr_Zcu",
    "scrolled": true
   },
   "outputs": [
    {
     "data": {
      "text/html": [
       "<div>\n",
       "<style scoped>\n",
       "    .dataframe tbody tr th:only-of-type {\n",
       "        vertical-align: middle;\n",
       "    }\n",
       "\n",
       "    .dataframe tbody tr th {\n",
       "        vertical-align: top;\n",
       "    }\n",
       "\n",
       "    .dataframe thead th {\n",
       "        text-align: right;\n",
       "    }\n",
       "</style>\n",
       "<table border=\"1\" class=\"dataframe\">\n",
       "  <thead>\n",
       "    <tr style=\"text-align: right;\">\n",
       "      <th></th>\n",
       "      <th>city</th>\n",
       "      <th>monday</th>\n",
       "      <th>wednesday</th>\n",
       "      <th>friday</th>\n",
       "    </tr>\n",
       "  </thead>\n",
       "  <tbody>\n",
       "    <tr>\n",
       "      <td>0</td>\n",
       "      <td>Moscow</td>\n",
       "      <td>15740</td>\n",
       "      <td>11056</td>\n",
       "      <td>15945</td>\n",
       "    </tr>\n",
       "    <tr>\n",
       "      <td>1</td>\n",
       "      <td>Saint-Petersburg</td>\n",
       "      <td>5614</td>\n",
       "      <td>7003</td>\n",
       "      <td>5895</td>\n",
       "    </tr>\n",
       "  </tbody>\n",
       "</table>\n",
       "</div>"
      ],
      "text/plain": [
       "               city  monday  wednesday  friday\n",
       "0            Moscow   15740      11056   15945\n",
       "1  Saint-Petersburg    5614       7003    5895"
      ]
     },
     "metadata": {},
     "output_type": "display_data"
    }
   ],
   "source": [
    "number_tracks_result = [\n",
    "    ['Moscow',15740,11056,15945],\n",
    "    ['Saint-Petersburg',5614,7003,5895],\n",
    "    ]\n",
    "columns = ['city','monday','wednesday','friday']\n",
    "tabl_result = pd.DataFrame(data=number_tracks_result, columns=columns)\n",
    "display(tabl_result) # Таблица с результатами"
   ]
  },
  {
   "cell_type": "markdown",
   "metadata": {
    "id": "-EgPIHYu_Zcu"
   },
   "source": [
    "**Выводы**\n",
    "\n",
    "Данные показывают разницу поведения пользователей:\n",
    "\n",
    "- В Москве пик прослушиваний приходится на понедельник и пятницу, а в среду заметен спад.\n",
    "- В Петербурге, наоборот, больше слушают музыку по средам. Активность в понедельник и пятницу здесь почти в равной мере уступает среде.\n",
    "\n",
    "Значит, данные говорят в пользу первой гипотезы."
   ]
  },
  {
   "cell_type": "markdown",
   "metadata": {
    "id": "atZAxtq4_Zcu"
   },
   "source": [
    "### Музыка в начале и в конце недели"
   ]
  },
  {
   "cell_type": "markdown",
   "metadata": {
    "id": "eXrQqXFH_Zcu"
   },
   "source": [
    "Согласно второй гипотезе, утром в понедельник в Москве преобладают одни жанры, а в Петербурге — другие. Так же и вечером пятницы преобладают разные жанры — в зависимости от города."
   ]
  },
  {
   "cell_type": "markdown",
   "metadata": {
    "id": "S8UcW6Hw_Zcu"
   },
   "source": [
    "Сохраните таблицы с данными в две переменные:\n",
    "* по Москве — в `moscow_general`;\n",
    "* по Санкт-Петербургу — в `spb_general`."
   ]
  },
  {
   "cell_type": "code",
   "execution_count": 28,
   "metadata": {
    "id": "qeaFfM_P_Zcu"
   },
   "outputs": [],
   "source": [
    "# получение таблицы moscow_general из тех строк таблицы df, \n",
    "# для которых значение в столбце 'city' равно 'Moscow'\n",
    "moscow_general = df[df['city'] == 'Moscow']\n"
   ]
  },
  {
   "cell_type": "code",
   "execution_count": 29,
   "metadata": {
    "id": "ORaVRKto_Zcu"
   },
   "outputs": [],
   "source": [
    "# получение таблицы spb_general из тех строк таблицы df,\n",
    "# для которых значение в столбце 'city' равно 'Saint-Petersburg'\n",
    "spb_general = df[df['city'] == 'Saint-Petersburg']\n"
   ]
  },
  {
   "cell_type": "markdown",
   "metadata": {
    "id": "MEJV-CX2_Zcu"
   },
   "source": [
    "Создайте функцию `genre_weekday()` с четырьмя параметрами:\n",
    "* таблица (датафрейм) с данными,\n",
    "* день недели,\n",
    "* начальная временная метка в формате 'hh:mm', \n",
    "* последняя временная метка в формате 'hh:mm'.\n",
    "\n",
    "Функция должна вернуть информацию о топ-10 жанров тех треков, которые прослушивали в указанный день, в промежутке между двумя отметками времени."
   ]
  },
  {
   "cell_type": "code",
   "execution_count": 30,
   "metadata": {
    "id": "laJT9BYl_Zcu"
   },
   "outputs": [],
   "source": [
    "# Объявление функции genre_weekday() с параметрами table, day, time1, time2,\n",
    "# которая возвращает информацию о самых популярных жанрах в указанный день в\n",
    "# заданное время:\n",
    "# 1) в переменную genre_df сохраняются те строки переданного датафрейма table, для\n",
    "#    которых одновременно:\n",
    "#    - значение в столбце day равно значению аргумента day\n",
    "#    - значение в столбце time больше значения аргумента time1\n",
    "#    - значение в столбце time меньше значения аргумента time2\n",
    "#    Используйте последовательную фильтрацию с помощью логической индексации.\n",
    "# 2) сгруппировать датафрейм genre_df по столбцу genre, взять один из его\n",
    "#    столбцов и посчитать методом count() количество записей для каждого из\n",
    "#    присутствующих жанров, получившийся Series записать в переменную\n",
    "#    genre_df_count\n",
    "# 3) отсортировать genre_df_count по убыванию встречаемости и сохранить\n",
    "#    в переменную genre_df_sorted\n",
    "# 4) вернуть Series из 10 первых значений genre_df_sorted, это будут топ-10\n",
    "#    популярных жанров (в указанный день, в заданное время)\n",
    "def genre_weekday(table, day, time1, time2):\n",
    "    genre_df=table[(table['day'] == day) & (df['time'] > time1) & (df['time'] < time2)]\n",
    "    \n",
    "    genre_df_count = genre_df.groupby('genre')['genre'].count()\n",
    "    \n",
    "    genre_df_sorted = genre_df_count.sort_values(ascending = False)\n",
    "    \n",
    "    return genre_df_sorted.head(10)"
   ]
  },
  {
   "cell_type": "markdown",
   "metadata": {
    "id": "la2s2_PF_Zcu"
   },
   "source": [
    "Cравните результаты функции `genre_weekday()` для Москвы и Санкт-Петербурга в понедельник утром (с 7:00 до 11:00) и в пятницу вечером (с 17:00 до 23:00):"
   ]
  },
  {
   "cell_type": "code",
   "execution_count": 31,
   "metadata": {
    "id": "yz7itPUQ_Zcu"
   },
   "outputs": [
    {
     "name": "stderr",
     "output_type": "stream",
     "text": [
      "/opt/conda/lib/python3.7/site-packages/ipykernel_launcher.py:19: UserWarning: Boolean Series key will be reindexed to match DataFrame index.\n"
     ]
    },
    {
     "data": {
      "text/plain": [
       "genre\n",
       "pop            781\n",
       "dance          549\n",
       "electronic     480\n",
       "rock           474\n",
       "hiphop         286\n",
       "ruspop         186\n",
       "world          181\n",
       "rusrap         175\n",
       "alternative    164\n",
       "unknown        161\n",
       "Name: genre, dtype: int64"
      ]
     },
     "execution_count": 31,
     "metadata": {},
     "output_type": "execute_result"
    }
   ],
   "source": [
    "# вызов функции для утра понедельника в Москве (вместо df — таблица moscow_general)\n",
    "# объекты, хранящие время, являются строками и сравниваются как строки\n",
    "# пример вызова: genre_weekday(moscow_general, 'Monday', '07:00', '11:00')\n",
    "genre_weekday(moscow_general, 'Monday', '07:00', '11:00')"
   ]
  },
  {
   "cell_type": "code",
   "execution_count": 32,
   "metadata": {
    "id": "kwUcHPdy_Zcu"
   },
   "outputs": [
    {
     "name": "stderr",
     "output_type": "stream",
     "text": [
      "/opt/conda/lib/python3.7/site-packages/ipykernel_launcher.py:19: UserWarning: Boolean Series key will be reindexed to match DataFrame index.\n"
     ]
    },
    {
     "data": {
      "text/plain": [
       "genre\n",
       "pop            218\n",
       "dance          182\n",
       "rock           162\n",
       "electronic     147\n",
       "hiphop          80\n",
       "ruspop          64\n",
       "alternative     58\n",
       "rusrap          55\n",
       "jazz            44\n",
       "classical       40\n",
       "Name: genre, dtype: int64"
      ]
     },
     "execution_count": 32,
     "metadata": {},
     "output_type": "execute_result"
    }
   ],
   "source": [
    "# вызов функции для утра понедельника в Петербурге (вместо df — таблица spb_general)\n",
    "genre_weekday(spb_general, 'Monday', '07:00', '11:00')"
   ]
  },
  {
   "cell_type": "code",
   "execution_count": 33,
   "metadata": {
    "id": "EzXVRE1o_Zcu"
   },
   "outputs": [
    {
     "name": "stderr",
     "output_type": "stream",
     "text": [
      "/opt/conda/lib/python3.7/site-packages/ipykernel_launcher.py:19: UserWarning: Boolean Series key will be reindexed to match DataFrame index.\n"
     ]
    },
    {
     "data": {
      "text/plain": [
       "genre\n",
       "pop            713\n",
       "rock           517\n",
       "dance          495\n",
       "electronic     482\n",
       "hiphop         273\n",
       "world          208\n",
       "ruspop         170\n",
       "alternative    163\n",
       "classical      163\n",
       "rusrap         142\n",
       "Name: genre, dtype: int64"
      ]
     },
     "execution_count": 33,
     "metadata": {},
     "output_type": "execute_result"
    }
   ],
   "source": [
    "# вызов функции для вечера пятницы в Москве\n",
    "genre_weekday(moscow_general, 'Friday', '17:00', '23:00')"
   ]
  },
  {
   "cell_type": "code",
   "execution_count": 34,
   "metadata": {
    "id": "JZaEKu5v_Zcu"
   },
   "outputs": [
    {
     "name": "stderr",
     "output_type": "stream",
     "text": [
      "/opt/conda/lib/python3.7/site-packages/ipykernel_launcher.py:19: UserWarning: Boolean Series key will be reindexed to match DataFrame index.\n"
     ]
    },
    {
     "data": {
      "text/plain": [
       "genre\n",
       "pop            256\n",
       "rock           216\n",
       "electronic     216\n",
       "dance          210\n",
       "hiphop          97\n",
       "alternative     63\n",
       "jazz            61\n",
       "classical       60\n",
       "rusrap          59\n",
       "world           54\n",
       "Name: genre, dtype: int64"
      ]
     },
     "execution_count": 34,
     "metadata": {},
     "output_type": "execute_result"
    }
   ],
   "source": [
    "# вызов функции для вечера пятницы в Петербурге\n",
    "genre_weekday(spb_general, 'Friday', '17:00', '23:00')"
   ]
  },
  {
   "cell_type": "markdown",
   "metadata": {
    "id": "wrCe4MNX_Zcu"
   },
   "source": [
    "**Выводы**\n",
    "\n",
    "Если сравнить топ-10 жанров в понедельник утром, можно сделать такие выводы:\n",
    "\n",
    "1. В Москве и Петербурге слушают похожую музыку. Единственное отличие — в московский рейтинг вошёл жанр “world”, а в петербургский — джаз и классика.\n",
    "\n",
    "2. В Москве пропущенных значений оказалось так много, что значение `'unknown'` заняло десятое место среди самых популярных жанров. Значит, пропущенные значения занимают существенную долю в данных и угрожают достоверности исследования.\n",
    "\n",
    "Вечер пятницы не меняет эту картину. Некоторые жанры поднимаются немного выше, другие спускаются, но в целом топ-10 остаётся тем же самым.\n",
    "\n",
    "Таким образом, вторая гипотеза подтвердилась лишь частично:\n",
    "* Пользователи слушают похожую музыку в начале недели и в конце.\n",
    "* Разница между Москвой и Петербургом не слишком выражена. В Москве чаще слушают русскую популярную музыку, в Петербурге — джаз.\n",
    "\n",
    "Однако пропуски в данных ставят под сомнение этот результат. В Москве их так много, что рейтинг топ-10 мог бы выглядеть иначе, если бы не утерянные  данные о жанрах."
   ]
  },
  {
   "cell_type": "markdown",
   "metadata": {
    "id": "JolODAqr_Zcu"
   },
   "source": [
    "### Жанровые предпочтения в Москве и Петербурге\n",
    "\n",
    "Гипотеза: Петербург — столица рэпа, музыку этого жанра там слушают чаще, чем в Москве.  А Москва — город контрастов, в котором, тем не менее, преобладает поп-музыка."
   ]
  },
  {
   "cell_type": "markdown",
   "metadata": {
    "id": "DlegSvaT_Zcu"
   },
   "source": [
    "Сгруппируйте таблицу `moscow_general` по жанру и посчитайте прослушивания треков каждого жанра методом `count()`. Затем отсортируйте результат в порядке убывания и сохраните его в таблице `moscow_genres`."
   ]
  },
  {
   "cell_type": "code",
   "execution_count": 35,
   "metadata": {
    "id": "r19lIPke_Zcu"
   },
   "outputs": [],
   "source": [
    "# одной строкой: группировка таблицы moscow_general по столбцу 'genre', \n",
    "# подсчёт числа значений 'genre' в этой группировке методом count(), \n",
    "# сортировка получившегося Series в порядке убывания и сохранение в moscow_genres\n",
    "moscow_genres = (moscow_general.groupby('genre')['genre'].count()).sort_values(ascending = False)\n",
    "\n"
   ]
  },
  {
   "cell_type": "markdown",
   "metadata": {
    "id": "6kMuomxTiIr8"
   },
   "source": [
    "Выведите на экран первые десять строк `moscow_genres`:"
   ]
  },
  {
   "cell_type": "code",
   "execution_count": 36,
   "metadata": {
    "id": "WhCSooF8_Zcv"
   },
   "outputs": [
    {
     "data": {
      "text/plain": [
       "genre\n",
       "pop            5892\n",
       "dance          4435\n",
       "rock           3965\n",
       "electronic     3786\n",
       "hiphop         2096\n",
       "classical      1616\n",
       "world          1432\n",
       "alternative    1379\n",
       "ruspop         1372\n",
       "rusrap         1161\n",
       "Name: genre, dtype: int64"
      ]
     },
     "execution_count": 36,
     "metadata": {},
     "output_type": "execute_result"
    }
   ],
   "source": [
    "# просмотр первых 10 строк moscow_genres\n",
    "moscow_genres.head(10)"
   ]
  },
  {
   "cell_type": "markdown",
   "metadata": {
    "id": "cnPG2vnN_Zcv"
   },
   "source": [
    "Теперь повторите то же и для Петербурга.\n",
    "\n",
    "Сгруппируйте таблицу `spb_general` по жанру. Посчитайте прослушивания треков каждого жанра. Результат отсортируйте в порядке убывания и сохраните в таблице `spb_genres`:\n"
   ]
  },
  {
   "cell_type": "code",
   "execution_count": 37,
   "metadata": {
    "id": "gluLIpE7_Zcv"
   },
   "outputs": [],
   "source": [
    "# одной строкой: группировка таблицы spb_general по столбцу 'genre', \n",
    "# подсчёт числа значений 'genre' в этой группировке методом count(), \n",
    "# сортировка получившегося Series в порядке убывания и сохранение в spb_genres\n",
    "spb_genres = (spb_general.groupby('genre')['genre'].count()).sort_values(ascending = False)"
   ]
  },
  {
   "cell_type": "markdown",
   "metadata": {
    "id": "5Doha_ODgyQ8"
   },
   "source": [
    "Выведите на экран первые десять строк `spb_genres`:"
   ]
  },
  {
   "cell_type": "code",
   "execution_count": 38,
   "metadata": {
    "id": "uaGJHjVU_Zcv"
   },
   "outputs": [
    {
     "data": {
      "text/plain": [
       "genre\n",
       "pop            2431\n",
       "dance          1932\n",
       "rock           1879\n",
       "electronic     1736\n",
       "hiphop          960\n",
       "alternative     649\n",
       "classical       646\n",
       "rusrap          564\n",
       "ruspop          538\n",
       "world           515\n",
       "Name: genre, dtype: int64"
      ]
     },
     "execution_count": 38,
     "metadata": {},
     "output_type": "execute_result"
    }
   ],
   "source": [
    "# просмотр первых 10 строк spb_genres\n",
    "spb_genres.head(10)"
   ]
  },
  {
   "cell_type": "markdown",
   "metadata": {
    "id": "RY51YJYu_Zcv"
   },
   "source": [
    "**Выводы**"
   ]
  },
  {
   "cell_type": "markdown",
   "metadata": {
    "id": "nVhnJEm__Zcv"
   },
   "source": [
    "Гипотеза частично подтвердилась:\n",
    "* Поп-музыка — самый популярный жанр в Москве, как и предполагала гипотеза. Более того, в топ-10 жанров встречается близкий жанр — русская популярная музыка.\n",
    "* Вопреки ожиданиям, рэп одинаково популярен в Москве и Петербурге. \n"
   ]
  },
  {
   "cell_type": "markdown",
   "metadata": {
    "id": "ykKQ0N65_Zcv"
   },
   "source": [
    "## Итоги исследования"
   ]
  },
  {
   "cell_type": "markdown",
   "metadata": {
    "id": "tjUwbHb3_Zcv"
   },
   "source": [
    "Вы проверили три гипотезы и установили:\n",
    "\n",
    "1. День недели по-разному влияет на активность пользователей в Москве и Петербурге. \n",
    "\n",
    "Первая гипотеза полностью подтвердилась.\n",
    "\n",
    "2. Музыкальные предпочтения не сильно меняются в течение недели — будь то Москва или Петербург. Небольшие различия заметны в начале недели, по понедельникам:\n",
    "* в Москве слушают музыку жанра “world”,\n",
    "* в Петербурге — джаз и классику.\n",
    "\n",
    "Таким образом, вторая гипотеза подтвердилась лишь отчасти. Этот результат мог оказаться иным, если бы не пропуски в данных.\n",
    "\n",
    "3. Во вкусах пользователей Москвы и Петербурга больше общего чем различий. Вопреки ожиданиям, предпочтения жанров в Петербурге напоминают московские.\n",
    "\n",
    "Третья гипотеза не подтвердилась. Если различия в предпочтениях и существуют, на основной массе пользователей они незаметны.\n",
    "\n",
    "**На практике исследования содержат проверки статистических гипотез.**\n",
    "Из данных одного сервиса не всегда можно сделать вывод о всех жителях города.\n",
    "Проверки статистических гипотез покажут, насколько они достоверны, исходя из имеющихся данных. \n",
    "С методами проверок гипотез вы ещё познакомитесь в следующих темах."
   ]
  }
 ],
 "metadata": {
  "ExecuteTimeLog": [
   {
    "duration": 249,
    "start_time": "2022-03-02T10:48:28.651Z"
   },
   {
    "duration": 575,
    "start_time": "2022-03-02T10:48:54.928Z"
   },
   {
    "duration": 134,
    "start_time": "2022-03-02T10:49:03.866Z"
   },
   {
    "duration": 3,
    "start_time": "2022-03-02T10:49:19.809Z"
   },
   {
    "duration": 139,
    "start_time": "2022-03-02T10:49:26.712Z"
   },
   {
    "duration": 18,
    "start_time": "2022-03-02T10:51:09.443Z"
   },
   {
    "duration": 39,
    "start_time": "2022-03-02T10:53:33.003Z"
   },
   {
    "duration": 4,
    "start_time": "2022-03-02T11:04:39.265Z"
   },
   {
    "duration": 20,
    "start_time": "2022-03-02T11:11:27.815Z"
   },
   {
    "duration": 4,
    "start_time": "2022-03-02T11:11:59.155Z"
   },
   {
    "duration": 25,
    "start_time": "2022-03-02T11:33:48.310Z"
   },
   {
    "duration": 4,
    "start_time": "2022-03-02T13:04:35.185Z"
   },
   {
    "duration": 280,
    "start_time": "2022-03-02T16:44:57.926Z"
   },
   {
    "duration": 213,
    "start_time": "2022-03-02T16:48:47.829Z"
   },
   {
    "duration": 224,
    "start_time": "2022-03-02T16:49:29.675Z"
   },
   {
    "duration": 233,
    "start_time": "2022-03-02T16:50:37.655Z"
   },
   {
    "duration": 3,
    "start_time": "2022-03-02T16:52:12.659Z"
   },
   {
    "duration": 217,
    "start_time": "2022-03-02T17:07:35.116Z"
   },
   {
    "duration": 672,
    "start_time": "2022-03-03T05:14:40.678Z"
   },
   {
    "duration": 149,
    "start_time": "2022-03-03T05:14:41.352Z"
   },
   {
    "duration": 17,
    "start_time": "2022-03-03T05:14:41.503Z"
   },
   {
    "duration": 28,
    "start_time": "2022-03-03T05:14:41.522Z"
   },
   {
    "duration": 5,
    "start_time": "2022-03-03T05:14:41.551Z"
   },
   {
    "duration": 38,
    "start_time": "2022-03-03T05:14:41.557Z"
   },
   {
    "duration": 4,
    "start_time": "2022-03-03T05:14:41.597Z"
   },
   {
    "duration": 25,
    "start_time": "2022-03-03T05:14:41.603Z"
   },
   {
    "duration": 18,
    "start_time": "2022-03-03T05:14:41.631Z"
   },
   {
    "duration": 2,
    "start_time": "2022-03-03T05:14:41.651Z"
   },
   {
    "duration": 24,
    "start_time": "2022-03-03T05:14:41.654Z"
   },
   {
    "duration": 5,
    "start_time": "2022-03-03T05:14:41.680Z"
   },
   {
    "duration": 5,
    "start_time": "2022-03-03T05:14:41.687Z"
   },
   {
    "duration": 6,
    "start_time": "2022-03-03T05:14:41.693Z"
   },
   {
    "duration": 6,
    "start_time": "2022-03-03T05:14:41.700Z"
   },
   {
    "duration": 5,
    "start_time": "2022-03-03T05:14:41.707Z"
   },
   {
    "duration": 4,
    "start_time": "2022-03-03T05:14:41.714Z"
   },
   {
    "duration": 6,
    "start_time": "2022-03-03T05:14:41.720Z"
   },
   {
    "duration": 6,
    "start_time": "2022-03-03T05:14:41.727Z"
   },
   {
    "duration": 5,
    "start_time": "2022-03-03T05:14:41.734Z"
   },
   {
    "duration": 6,
    "start_time": "2022-03-03T05:14:41.741Z"
   },
   {
    "duration": 5,
    "start_time": "2022-03-03T05:14:41.749Z"
   },
   {
    "duration": 2,
    "start_time": "2022-03-03T05:14:41.779Z"
   },
   {
    "duration": 9,
    "start_time": "2022-03-03T05:14:41.782Z"
   },
   {
    "duration": 6,
    "start_time": "2022-03-03T05:14:41.792Z"
   },
   {
    "duration": 7,
    "start_time": "2022-03-03T05:14:41.799Z"
   },
   {
    "duration": 5,
    "start_time": "2022-03-03T05:14:41.808Z"
   },
   {
    "duration": 8,
    "start_time": "2022-03-03T05:14:41.814Z"
   },
   {
    "duration": 5,
    "start_time": "2022-03-03T05:14:41.823Z"
   },
   {
    "duration": 5,
    "start_time": "2022-03-03T05:14:41.830Z"
   },
   {
    "duration": 7,
    "start_time": "2022-03-03T05:14:41.836Z"
   },
   {
    "duration": 5,
    "start_time": "2022-03-03T05:14:41.844Z"
   },
   {
    "duration": 7,
    "start_time": "2022-03-03T05:14:41.851Z"
   },
   {
    "duration": 20,
    "start_time": "2022-03-03T05:14:41.859Z"
   },
   {
    "duration": 6,
    "start_time": "2022-03-03T05:14:41.881Z"
   },
   {
    "duration": 6,
    "start_time": "2022-03-03T05:14:41.889Z"
   },
   {
    "duration": 5,
    "start_time": "2022-03-03T05:14:41.896Z"
   },
   {
    "duration": 5,
    "start_time": "2022-03-03T05:14:41.903Z"
   },
   {
    "duration": 24,
    "start_time": "2022-03-03T05:16:07.143Z"
   },
   {
    "duration": 60,
    "start_time": "2022-03-03T05:27:22.546Z"
   },
   {
    "duration": 73,
    "start_time": "2022-03-03T05:32:32.781Z"
   },
   {
    "duration": 54,
    "start_time": "2022-03-03T05:33:33.844Z"
   },
   {
    "duration": 11,
    "start_time": "2022-03-03T06:44:31.954Z"
   },
   {
    "duration": 3,
    "start_time": "2022-03-03T07:09:10.231Z"
   },
   {
    "duration": 3,
    "start_time": "2022-03-03T07:09:14.327Z"
   },
   {
    "duration": 330,
    "start_time": "2022-03-03T07:10:57.185Z"
   },
   {
    "duration": 259,
    "start_time": "2022-03-03T07:12:52.749Z"
   },
   {
    "duration": 3,
    "start_time": "2022-03-03T07:13:18.192Z"
   },
   {
    "duration": 133,
    "start_time": "2022-03-03T07:13:18.204Z"
   },
   {
    "duration": 11,
    "start_time": "2022-03-03T07:13:18.339Z"
   },
   {
    "duration": 31,
    "start_time": "2022-03-03T07:13:18.353Z"
   },
   {
    "duration": 4,
    "start_time": "2022-03-03T07:13:18.387Z"
   },
   {
    "duration": 27,
    "start_time": "2022-03-03T07:13:18.393Z"
   },
   {
    "duration": 4,
    "start_time": "2022-03-03T07:13:18.422Z"
   },
   {
    "duration": 33,
    "start_time": "2022-03-03T07:13:18.427Z"
   },
   {
    "duration": 18,
    "start_time": "2022-03-03T07:13:18.478Z"
   },
   {
    "duration": 27,
    "start_time": "2022-03-03T07:13:18.498Z"
   },
   {
    "duration": 75,
    "start_time": "2022-03-03T07:13:18.527Z"
   },
   {
    "duration": 73,
    "start_time": "2022-03-03T07:13:18.604Z"
   },
   {
    "duration": 47,
    "start_time": "2022-03-03T07:13:18.679Z"
   },
   {
    "duration": 273,
    "start_time": "2022-03-03T07:13:18.728Z"
   },
   {
    "duration": -693,
    "start_time": "2022-03-03T07:13:19.696Z"
   },
   {
    "duration": -716,
    "start_time": "2022-03-03T07:13:19.720Z"
   },
   {
    "duration": -724,
    "start_time": "2022-03-03T07:13:19.729Z"
   },
   {
    "duration": -734,
    "start_time": "2022-03-03T07:13:19.740Z"
   },
   {
    "duration": -743,
    "start_time": "2022-03-03T07:13:19.750Z"
   },
   {
    "duration": -802,
    "start_time": "2022-03-03T07:13:19.810Z"
   },
   {
    "duration": -818,
    "start_time": "2022-03-03T07:13:19.827Z"
   },
   {
    "duration": -828,
    "start_time": "2022-03-03T07:13:19.838Z"
   },
   {
    "duration": -835,
    "start_time": "2022-03-03T07:13:19.846Z"
   },
   {
    "duration": -846,
    "start_time": "2022-03-03T07:13:19.858Z"
   },
   {
    "duration": -897,
    "start_time": "2022-03-03T07:13:19.910Z"
   },
   {
    "duration": -912,
    "start_time": "2022-03-03T07:13:19.926Z"
   },
   {
    "duration": -928,
    "start_time": "2022-03-03T07:13:19.943Z"
   },
   {
    "duration": -938,
    "start_time": "2022-03-03T07:13:19.954Z"
   },
   {
    "duration": -944,
    "start_time": "2022-03-03T07:13:19.961Z"
   },
   {
    "duration": -957,
    "start_time": "2022-03-03T07:13:19.975Z"
   },
   {
    "duration": -999,
    "start_time": "2022-03-03T07:13:20.018Z"
   },
   {
    "duration": -1016,
    "start_time": "2022-03-03T07:13:20.035Z"
   },
   {
    "duration": 3,
    "start_time": "2022-03-03T07:13:19.040Z"
   },
   {
    "duration": 2,
    "start_time": "2022-03-03T07:13:19.054Z"
   },
   {
    "duration": 7,
    "start_time": "2022-03-03T07:13:19.070Z"
   },
   {
    "duration": 3,
    "start_time": "2022-03-03T07:13:19.089Z"
   },
   {
    "duration": 3,
    "start_time": "2022-03-03T07:13:19.107Z"
   },
   {
    "duration": 2,
    "start_time": "2022-03-03T07:13:19.119Z"
   },
   {
    "duration": 7,
    "start_time": "2022-03-03T07:14:50.759Z"
   },
   {
    "duration": 7,
    "start_time": "2022-03-03T07:17:17.888Z"
   },
   {
    "duration": 8,
    "start_time": "2022-03-03T10:06:15.907Z"
   },
   {
    "duration": 277,
    "start_time": "2022-03-03T10:15:05.597Z"
   },
   {
    "duration": 514,
    "start_time": "2022-03-03T10:15:05.362Z"
   },
   {
    "duration": 448,
    "start_time": "2022-03-03T10:15:05.429Z"
   },
   {
    "duration": 433,
    "start_time": "2022-03-03T10:15:05.445Z"
   },
   {
    "duration": 417,
    "start_time": "2022-03-03T10:15:05.462Z"
   },
   {
    "duration": 395,
    "start_time": "2022-03-03T10:15:05.485Z"
   },
   {
    "duration": 359,
    "start_time": "2022-03-03T10:15:05.522Z"
   },
   {
    "duration": 345,
    "start_time": "2022-03-03T10:15:05.536Z"
   },
   {
    "duration": 290,
    "start_time": "2022-03-03T10:15:05.592Z"
   },
   {
    "duration": 278,
    "start_time": "2022-03-03T10:15:05.605Z"
   },
   {
    "duration": 180,
    "start_time": "2022-03-03T10:15:05.704Z"
   },
   {
    "duration": 164,
    "start_time": "2022-03-03T10:15:05.721Z"
   },
   {
    "duration": 156,
    "start_time": "2022-03-03T10:15:05.730Z"
   },
   {
    "duration": 25,
    "start_time": "2022-03-03T10:15:05.862Z"
   },
   {
    "duration": 15,
    "start_time": "2022-03-03T10:15:05.872Z"
   },
   {
    "duration": 4,
    "start_time": "2022-03-03T10:15:05.885Z"
   },
   {
    "duration": -5,
    "start_time": "2022-03-03T10:15:05.894Z"
   },
   {
    "duration": -78,
    "start_time": "2022-03-03T10:15:05.968Z"
   },
   {
    "duration": -88,
    "start_time": "2022-03-03T10:15:05.979Z"
   },
   {
    "duration": -98,
    "start_time": "2022-03-03T10:15:05.990Z"
   },
   {
    "duration": -108,
    "start_time": "2022-03-03T10:15:06.001Z"
   },
   {
    "duration": 5,
    "start_time": "2022-03-03T10:15:05.895Z"
   },
   {
    "duration": 9,
    "start_time": "2022-03-03T10:15:05.901Z"
   },
   {
    "duration": 2,
    "start_time": "2022-03-03T10:15:21.779Z"
   },
   {
    "duration": 146,
    "start_time": "2022-03-03T10:15:21.797Z"
   },
   {
    "duration": 10,
    "start_time": "2022-03-03T10:15:21.944Z"
   },
   {
    "duration": 32,
    "start_time": "2022-03-03T10:15:21.956Z"
   },
   {
    "duration": 3,
    "start_time": "2022-03-03T10:15:21.990Z"
   },
   {
    "duration": 15,
    "start_time": "2022-03-03T10:15:21.994Z"
   },
   {
    "duration": 4,
    "start_time": "2022-03-03T10:15:22.012Z"
   },
   {
    "duration": 25,
    "start_time": "2022-03-03T10:15:22.017Z"
   },
   {
    "duration": 43,
    "start_time": "2022-03-03T10:15:22.045Z"
   },
   {
    "duration": 23,
    "start_time": "2022-03-03T10:15:22.089Z"
   },
   {
    "duration": 3,
    "start_time": "2022-03-03T10:16:11.311Z"
   },
   {
    "duration": 476,
    "start_time": "2022-03-03T10:20:46.343Z"
   },
   {
    "duration": 621,
    "start_time": "2022-03-03T10:21:47.599Z"
   },
   {
    "duration": 8274,
    "start_time": "2022-03-03T10:22:06.155Z"
   },
   {
    "duration": 6629,
    "start_time": "2022-03-03T10:22:58.263Z"
   },
   {
    "duration": 2,
    "start_time": "2022-03-03T10:23:59.958Z"
   },
   {
    "duration": 291,
    "start_time": "2022-03-03T10:24:51.777Z"
   },
   {
    "duration": 321,
    "start_time": "2022-03-03T10:25:38.377Z"
   },
   {
    "duration": 8,
    "start_time": "2022-03-03T10:26:49.221Z"
   },
   {
    "duration": 5,
    "start_time": "2022-03-03T10:53:29.159Z"
   },
   {
    "duration": 3,
    "start_time": "2022-03-03T10:55:55.923Z"
   },
   {
    "duration": 4,
    "start_time": "2022-03-03T10:56:00.929Z"
   },
   {
    "duration": 11,
    "start_time": "2022-03-03T10:56:13.282Z"
   },
   {
    "duration": 559,
    "start_time": "2022-03-03T11:08:59.580Z"
   },
   {
    "duration": 3,
    "start_time": "2022-03-03T11:18:05.808Z"
   },
   {
    "duration": 161,
    "start_time": "2022-03-03T11:18:05.818Z"
   },
   {
    "duration": 13,
    "start_time": "2022-03-03T11:18:05.981Z"
   },
   {
    "duration": 30,
    "start_time": "2022-03-03T11:18:05.997Z"
   },
   {
    "duration": 17,
    "start_time": "2022-03-03T11:18:06.030Z"
   },
   {
    "duration": 42,
    "start_time": "2022-03-03T11:18:06.049Z"
   },
   {
    "duration": 4,
    "start_time": "2022-03-03T11:18:06.093Z"
   },
   {
    "duration": 32,
    "start_time": "2022-03-03T11:18:06.099Z"
   },
   {
    "duration": 25,
    "start_time": "2022-03-03T11:18:06.133Z"
   },
   {
    "duration": 36,
    "start_time": "2022-03-03T11:18:06.160Z"
   },
   {
    "duration": 68,
    "start_time": "2022-03-03T11:18:06.198Z"
   },
   {
    "duration": 70,
    "start_time": "2022-03-03T11:18:06.278Z"
   },
   {
    "duration": 71,
    "start_time": "2022-03-03T11:18:06.350Z"
   },
   {
    "duration": 8,
    "start_time": "2022-03-03T11:18:06.423Z"
   },
   {
    "duration": 3,
    "start_time": "2022-03-03T11:18:06.433Z"
   },
   {
    "duration": 4,
    "start_time": "2022-03-03T11:23:17.450Z"
   },
   {
    "duration": 510,
    "start_time": "2022-03-03T11:23:21.899Z"
   },
   {
    "duration": 516,
    "start_time": "2022-03-03T11:24:22.209Z"
   },
   {
    "duration": 3,
    "start_time": "2022-03-03T11:26:40.691Z"
   },
   {
    "duration": 521,
    "start_time": "2022-03-03T11:26:45.764Z"
   },
   {
    "duration": 552,
    "start_time": "2022-03-03T11:26:58.538Z"
   },
   {
    "duration": 4,
    "start_time": "2022-03-03T11:31:44.339Z"
   },
   {
    "duration": 524,
    "start_time": "2022-03-03T11:31:48.438Z"
   },
   {
    "duration": 3,
    "start_time": "2022-03-03T12:46:02.006Z"
   },
   {
    "duration": 165,
    "start_time": "2022-03-03T12:46:02.014Z"
   },
   {
    "duration": 12,
    "start_time": "2022-03-03T12:46:02.181Z"
   },
   {
    "duration": 34,
    "start_time": "2022-03-03T12:46:02.195Z"
   },
   {
    "duration": 5,
    "start_time": "2022-03-03T12:46:02.231Z"
   },
   {
    "duration": 16,
    "start_time": "2022-03-03T12:46:02.238Z"
   },
   {
    "duration": 4,
    "start_time": "2022-03-03T12:46:02.278Z"
   },
   {
    "duration": 33,
    "start_time": "2022-03-03T12:46:02.285Z"
   },
   {
    "duration": 20,
    "start_time": "2022-03-03T12:46:02.321Z"
   },
   {
    "duration": 46,
    "start_time": "2022-03-03T12:46:02.343Z"
   },
   {
    "duration": 64,
    "start_time": "2022-03-03T12:46:02.391Z"
   },
   {
    "duration": 85,
    "start_time": "2022-03-03T12:46:02.457Z"
   },
   {
    "duration": 76,
    "start_time": "2022-03-03T12:46:02.544Z"
   },
   {
    "duration": 7,
    "start_time": "2022-03-03T12:46:02.622Z"
   },
   {
    "duration": 10,
    "start_time": "2022-03-03T12:46:02.631Z"
   },
   {
    "duration": 9,
    "start_time": "2022-03-03T13:10:42.320Z"
   },
   {
    "duration": 2,
    "start_time": "2022-03-03T14:18:35.216Z"
   },
   {
    "duration": 139,
    "start_time": "2022-03-03T14:18:35.226Z"
   },
   {
    "duration": 15,
    "start_time": "2022-03-03T14:18:35.367Z"
   },
   {
    "duration": 33,
    "start_time": "2022-03-03T14:18:35.384Z"
   },
   {
    "duration": 4,
    "start_time": "2022-03-03T14:18:35.419Z"
   },
   {
    "duration": 17,
    "start_time": "2022-03-03T14:18:35.425Z"
   },
   {
    "duration": 4,
    "start_time": "2022-03-03T14:18:35.444Z"
   },
   {
    "duration": 32,
    "start_time": "2022-03-03T14:18:35.477Z"
   },
   {
    "duration": 23,
    "start_time": "2022-03-03T14:18:35.512Z"
   },
   {
    "duration": 43,
    "start_time": "2022-03-03T14:18:35.538Z"
   },
   {
    "duration": 58,
    "start_time": "2022-03-03T14:18:35.583Z"
   },
   {
    "duration": 87,
    "start_time": "2022-03-03T14:18:35.643Z"
   },
   {
    "duration": 65,
    "start_time": "2022-03-03T14:18:35.732Z"
   },
   {
    "duration": 7,
    "start_time": "2022-03-03T14:18:35.798Z"
   },
   {
    "duration": 8,
    "start_time": "2022-03-03T14:18:35.806Z"
   },
   {
    "duration": 500,
    "start_time": "2022-03-03T14:18:35.816Z"
   },
   {
    "duration": -1021,
    "start_time": "2022-03-03T14:18:37.341Z"
   },
   {
    "duration": -1032,
    "start_time": "2022-03-03T14:18:37.353Z"
   },
   {
    "duration": -1040,
    "start_time": "2022-03-03T14:18:37.363Z"
   },
   {
    "duration": -1052,
    "start_time": "2022-03-03T14:18:37.376Z"
   },
   {
    "duration": -1059,
    "start_time": "2022-03-03T14:18:37.385Z"
   },
   {
    "duration": -1068,
    "start_time": "2022-03-03T14:18:37.395Z"
   },
   {
    "duration": -1094,
    "start_time": "2022-03-03T14:18:37.423Z"
   },
   {
    "duration": -1104,
    "start_time": "2022-03-03T14:18:37.434Z"
   },
   {
    "duration": -1148,
    "start_time": "2022-03-03T14:18:37.480Z"
   },
   {
    "duration": -1161,
    "start_time": "2022-03-03T14:18:37.494Z"
   },
   {
    "duration": -1169,
    "start_time": "2022-03-03T14:18:37.503Z"
   },
   {
    "duration": -1178,
    "start_time": "2022-03-03T14:18:37.514Z"
   },
   {
    "duration": -1210,
    "start_time": "2022-03-03T14:18:37.548Z"
   },
   {
    "duration": -1220,
    "start_time": "2022-03-03T14:18:37.559Z"
   },
   {
    "duration": -1228,
    "start_time": "2022-03-03T14:18:37.569Z"
   },
   {
    "duration": -1240,
    "start_time": "2022-03-03T14:18:37.582Z"
   },
   {
    "duration": -1248,
    "start_time": "2022-03-03T14:18:37.592Z"
   },
   {
    "duration": -1258,
    "start_time": "2022-03-03T14:18:37.602Z"
   },
   {
    "duration": -1285,
    "start_time": "2022-03-03T14:18:37.630Z"
   },
   {
    "duration": -1294,
    "start_time": "2022-03-03T14:18:37.640Z"
   },
   {
    "duration": -1313,
    "start_time": "2022-03-03T14:18:37.660Z"
   },
   {
    "duration": -1328,
    "start_time": "2022-03-03T14:18:37.676Z"
   },
   {
    "duration": 10,
    "start_time": "2022-03-03T14:43:26.491Z"
   },
   {
    "duration": 287,
    "start_time": "2022-03-03T14:43:33.854Z"
   },
   {
    "duration": 294,
    "start_time": "2022-03-03T14:45:09.207Z"
   },
   {
    "duration": 277,
    "start_time": "2022-03-03T14:52:44.017Z"
   },
   {
    "duration": 93,
    "start_time": "2022-03-03T18:16:29.063Z"
   },
   {
    "duration": 5,
    "start_time": "2022-03-03T18:16:42.918Z"
   },
   {
    "duration": 7678,
    "start_time": "2022-03-03T18:16:49.261Z"
   },
   {
    "duration": 2,
    "start_time": "2022-03-03T18:35:27.730Z"
   },
   {
    "duration": 133,
    "start_time": "2022-03-03T18:35:27.740Z"
   },
   {
    "duration": 11,
    "start_time": "2022-03-03T18:35:27.877Z"
   },
   {
    "duration": 25,
    "start_time": "2022-03-03T18:35:27.890Z"
   },
   {
    "duration": 4,
    "start_time": "2022-03-03T18:35:27.918Z"
   },
   {
    "duration": 16,
    "start_time": "2022-03-03T18:35:27.924Z"
   },
   {
    "duration": 6,
    "start_time": "2022-03-03T18:35:27.942Z"
   },
   {
    "duration": 23,
    "start_time": "2022-03-03T18:35:27.978Z"
   },
   {
    "duration": 19,
    "start_time": "2022-03-03T18:35:28.004Z"
   },
   {
    "duration": 23,
    "start_time": "2022-03-03T18:35:28.025Z"
   },
   {
    "duration": 80,
    "start_time": "2022-03-03T18:35:28.050Z"
   },
   {
    "duration": 76,
    "start_time": "2022-03-03T18:35:28.133Z"
   },
   {
    "duration": 51,
    "start_time": "2022-03-03T18:35:28.211Z"
   },
   {
    "duration": 8,
    "start_time": "2022-03-03T18:35:28.276Z"
   },
   {
    "duration": 4,
    "start_time": "2022-03-03T18:35:28.285Z"
   },
   {
    "duration": 11,
    "start_time": "2022-03-03T18:35:36.585Z"
   },
   {
    "duration": 8,
    "start_time": "2022-03-03T18:35:45.961Z"
   },
   {
    "duration": 16,
    "start_time": "2022-03-03T18:37:35.525Z"
   },
   {
    "duration": 11,
    "start_time": "2022-03-03T18:38:41.936Z"
   },
   {
    "duration": 268,
    "start_time": "2022-03-03T18:39:19.389Z"
   },
   {
    "duration": 3,
    "start_time": "2022-03-03T18:40:23.234Z"
   },
   {
    "duration": 160,
    "start_time": "2022-03-03T18:40:23.246Z"
   },
   {
    "duration": 12,
    "start_time": "2022-03-03T18:40:23.408Z"
   },
   {
    "duration": 29,
    "start_time": "2022-03-03T18:40:23.423Z"
   },
   {
    "duration": 25,
    "start_time": "2022-03-03T18:40:23.455Z"
   },
   {
    "duration": 40,
    "start_time": "2022-03-03T18:40:23.483Z"
   },
   {
    "duration": 15,
    "start_time": "2022-03-03T18:40:23.524Z"
   },
   {
    "duration": 30,
    "start_time": "2022-03-03T18:40:23.541Z"
   },
   {
    "duration": 34,
    "start_time": "2022-03-03T18:40:23.573Z"
   },
   {
    "duration": 31,
    "start_time": "2022-03-03T18:40:23.609Z"
   },
   {
    "duration": 76,
    "start_time": "2022-03-03T18:40:23.642Z"
   },
   {
    "duration": 66,
    "start_time": "2022-03-03T18:40:23.720Z"
   },
   {
    "duration": 51,
    "start_time": "2022-03-03T18:40:23.792Z"
   },
   {
    "duration": 20,
    "start_time": "2022-03-03T18:40:23.845Z"
   },
   {
    "duration": 17,
    "start_time": "2022-03-03T18:40:23.878Z"
   },
   {
    "duration": 29,
    "start_time": "2022-03-03T18:40:23.897Z"
   },
   {
    "duration": 20,
    "start_time": "2022-03-03T18:40:23.928Z"
   },
   {
    "duration": 3486,
    "start_time": "2022-03-03T18:41:05.777Z"
   },
   {
    "duration": 281,
    "start_time": "2022-03-03T18:44:47.186Z"
   },
   {
    "duration": 10,
    "start_time": "2022-03-03T18:45:08.141Z"
   },
   {
    "duration": 11,
    "start_time": "2022-03-03T18:45:57.328Z"
   },
   {
    "duration": 108,
    "start_time": "2022-03-04T10:27:08.870Z"
   },
   {
    "duration": 4,
    "start_time": "2022-03-04T10:28:52.305Z"
   },
   {
    "duration": 158,
    "start_time": "2022-03-04T10:47:33.712Z"
   },
   {
    "duration": 115,
    "start_time": "2022-03-04T10:49:15.550Z"
   },
   {
    "duration": 143,
    "start_time": "2022-03-04T10:49:26.737Z"
   },
   {
    "duration": 92,
    "start_time": "2022-03-04T10:49:48.665Z"
   },
   {
    "duration": 94,
    "start_time": "2022-03-04T10:50:07.051Z"
   },
   {
    "duration": 97,
    "start_time": "2022-03-04T10:51:11.435Z"
   },
   {
    "duration": 4,
    "start_time": "2022-03-04T10:51:20.828Z"
   },
   {
    "duration": 325,
    "start_time": "2022-03-04T10:54:10.354Z"
   },
   {
    "duration": 4,
    "start_time": "2022-03-04T10:59:26.032Z"
   },
   {
    "duration": 574,
    "start_time": "2022-03-04T10:59:32.505Z"
   },
   {
    "duration": 2368,
    "start_time": "2022-03-04T11:01:18.724Z"
   },
   {
    "duration": 127,
    "start_time": "2022-03-04T11:01:21.094Z"
   },
   {
    "duration": 15,
    "start_time": "2022-03-04T11:01:21.223Z"
   },
   {
    "duration": 26,
    "start_time": "2022-03-04T11:01:21.239Z"
   },
   {
    "duration": 8,
    "start_time": "2022-03-04T11:01:21.267Z"
   },
   {
    "duration": 34,
    "start_time": "2022-03-04T11:01:21.277Z"
   },
   {
    "duration": 6,
    "start_time": "2022-03-04T11:01:21.313Z"
   },
   {
    "duration": 28,
    "start_time": "2022-03-04T11:01:21.322Z"
   },
   {
    "duration": 26,
    "start_time": "2022-03-04T11:01:21.351Z"
   },
   {
    "duration": 34,
    "start_time": "2022-03-04T11:01:21.378Z"
   },
   {
    "duration": 54,
    "start_time": "2022-03-04T11:01:21.414Z"
   },
   {
    "duration": 93,
    "start_time": "2022-03-04T11:01:21.470Z"
   },
   {
    "duration": 80,
    "start_time": "2022-03-04T11:01:21.565Z"
   },
   {
    "duration": 8,
    "start_time": "2022-03-04T11:01:21.647Z"
   },
   {
    "duration": 3,
    "start_time": "2022-03-04T11:01:21.657Z"
   },
   {
    "duration": 15,
    "start_time": "2022-03-04T11:01:21.662Z"
   },
   {
    "duration": 32,
    "start_time": "2022-03-04T11:01:21.678Z"
   },
   {
    "duration": 15,
    "start_time": "2022-03-04T11:01:21.711Z"
   },
   {
    "duration": 11,
    "start_time": "2022-03-04T11:01:21.727Z"
   },
   {
    "duration": 3,
    "start_time": "2022-03-04T11:01:21.739Z"
   },
   {
    "duration": 17,
    "start_time": "2022-03-04T11:01:35.684Z"
   },
   {
    "duration": 3,
    "start_time": "2022-03-04T11:03:56.754Z"
   },
   {
    "duration": 19,
    "start_time": "2022-03-04T11:04:03.011Z"
   },
   {
    "duration": 16,
    "start_time": "2022-03-04T11:05:33.978Z"
   },
   {
    "duration": 16,
    "start_time": "2022-03-04T11:06:49.010Z"
   },
   {
    "duration": 15,
    "start_time": "2022-03-04T11:07:42.388Z"
   },
   {
    "duration": 17,
    "start_time": "2022-03-04T11:08:43.894Z"
   },
   {
    "duration": 16,
    "start_time": "2022-03-04T11:09:27.243Z"
   },
   {
    "duration": 319,
    "start_time": "2022-03-04T11:37:44.263Z"
   },
   {
    "duration": 302,
    "start_time": "2022-03-04T11:44:43.227Z"
   },
   {
    "duration": 323,
    "start_time": "2022-03-04T11:47:05.900Z"
   },
   {
    "duration": 129,
    "start_time": "2022-03-04T11:53:40.920Z"
   },
   {
    "duration": 100,
    "start_time": "2022-03-04T11:54:15.836Z"
   },
   {
    "duration": 841,
    "start_time": "2022-03-04T11:55:59.739Z"
   },
   {
    "duration": 302,
    "start_time": "2022-03-04T11:56:03.822Z"
   },
   {
    "duration": 313,
    "start_time": "2022-03-04T12:26:03.058Z"
   },
   {
    "duration": 305,
    "start_time": "2022-03-04T12:29:14.314Z"
   },
   {
    "duration": 311,
    "start_time": "2022-03-04T12:44:43.396Z"
   },
   {
    "duration": 295,
    "start_time": "2022-03-04T12:47:49.012Z"
   },
   {
    "duration": 295,
    "start_time": "2022-03-04T12:50:49.787Z"
   },
   {
    "duration": 2,
    "start_time": "2022-03-04T12:57:48.332Z"
   },
   {
    "duration": 112,
    "start_time": "2022-03-04T12:57:48.346Z"
   },
   {
    "duration": 9,
    "start_time": "2022-03-04T12:57:48.459Z"
   },
   {
    "duration": 26,
    "start_time": "2022-03-04T12:57:48.470Z"
   },
   {
    "duration": 10,
    "start_time": "2022-03-04T12:57:48.497Z"
   },
   {
    "duration": 14,
    "start_time": "2022-03-04T12:57:48.508Z"
   },
   {
    "duration": 3,
    "start_time": "2022-03-04T12:57:48.524Z"
   },
   {
    "duration": 24,
    "start_time": "2022-03-04T12:57:48.528Z"
   },
   {
    "duration": 22,
    "start_time": "2022-03-04T12:57:48.553Z"
   },
   {
    "duration": 33,
    "start_time": "2022-03-04T12:57:48.577Z"
   },
   {
    "duration": 55,
    "start_time": "2022-03-04T12:57:48.611Z"
   },
   {
    "duration": 51,
    "start_time": "2022-03-04T12:57:48.706Z"
   },
   {
    "duration": 49,
    "start_time": "2022-03-04T12:57:48.758Z"
   },
   {
    "duration": 6,
    "start_time": "2022-03-04T12:57:48.808Z"
   },
   {
    "duration": 17,
    "start_time": "2022-03-04T12:57:48.815Z"
   },
   {
    "duration": 24,
    "start_time": "2022-03-04T12:57:48.833Z"
   },
   {
    "duration": 22,
    "start_time": "2022-03-04T12:57:48.858Z"
   },
   {
    "duration": 8,
    "start_time": "2022-03-04T12:57:49.371Z"
   },
   {
    "duration": 14,
    "start_time": "2022-03-04T12:57:49.386Z"
   },
   {
    "duration": 2,
    "start_time": "2022-03-04T12:57:49.446Z"
   },
   {
    "duration": 16,
    "start_time": "2022-03-04T12:57:49.471Z"
   },
   {
    "duration": 20,
    "start_time": "2022-03-04T12:57:49.488Z"
   },
   {
    "duration": 14,
    "start_time": "2022-03-04T12:57:49.514Z"
   },
   {
    "duration": 13,
    "start_time": "2022-03-04T12:57:49.531Z"
   },
   {
    "duration": 15,
    "start_time": "2022-03-04T12:57:49.577Z"
   },
   {
    "duration": 14,
    "start_time": "2022-03-04T12:57:49.621Z"
   },
   {
    "duration": 305,
    "start_time": "2022-03-04T12:57:49.696Z"
   },
   {
    "duration": 736,
    "start_time": "2022-03-04T13:04:26.122Z"
   },
   {
    "duration": 9,
    "start_time": "2022-03-04T13:05:46.352Z"
   },
   {
    "duration": 9,
    "start_time": "2022-03-04T14:33:37.400Z"
   },
   {
    "duration": 9,
    "start_time": "2022-03-04T14:34:41.312Z"
   },
   {
    "duration": 3,
    "start_time": "2022-03-04T15:22:28.959Z"
   },
   {
    "duration": 4178,
    "start_time": "2022-03-04T15:23:43.355Z"
   },
   {
    "duration": 4,
    "start_time": "2022-03-04T15:53:59.313Z"
   },
   {
    "duration": 4019,
    "start_time": "2022-03-04T15:54:08.116Z"
   },
   {
    "duration": 312,
    "start_time": "2022-03-04T15:56:11.739Z"
   },
   {
    "duration": 309,
    "start_time": "2022-03-04T15:56:30.863Z"
   },
   {
    "duration": 12,
    "start_time": "2022-03-04T15:57:10.578Z"
   },
   {
    "duration": 15,
    "start_time": "2022-03-04T15:57:57.217Z"
   },
   {
    "duration": 11,
    "start_time": "2022-03-04T15:58:35.547Z"
   },
   {
    "duration": 8,
    "start_time": "2022-03-04T15:58:49.076Z"
   },
   {
    "duration": 3,
    "start_time": "2022-03-04T15:59:39.648Z"
   },
   {
    "duration": 50,
    "start_time": "2022-03-04T16:00:12.404Z"
   },
   {
    "duration": 55,
    "start_time": "2022-03-04T16:01:34.514Z"
   },
   {
    "duration": 50,
    "start_time": "2022-03-04T16:03:43.298Z"
   },
   {
    "duration": 52,
    "start_time": "2022-03-04T16:04:34.496Z"
   },
   {
    "duration": 7,
    "start_time": "2022-03-04T16:23:48.881Z"
   },
   {
    "duration": 5,
    "start_time": "2022-03-04T16:23:54.069Z"
   },
   {
    "duration": 296,
    "start_time": "2022-03-04T16:29:06.410Z"
   },
   {
    "duration": 322,
    "start_time": "2022-03-04T16:31:00.748Z"
   },
   {
    "duration": 8,
    "start_time": "2022-03-04T16:31:20.476Z"
   },
   {
    "duration": 5,
    "start_time": "2022-03-04T16:31:29.022Z"
   },
   {
    "duration": 6,
    "start_time": "2022-03-04T16:32:28.872Z"
   },
   {
    "duration": 4,
    "start_time": "2022-03-04T16:32:34.735Z"
   },
   {
    "duration": 2,
    "start_time": "2022-03-04T16:38:29.986Z"
   },
   {
    "duration": 138,
    "start_time": "2022-03-04T16:38:29.995Z"
   },
   {
    "duration": 9,
    "start_time": "2022-03-04T16:38:30.135Z"
   },
   {
    "duration": 24,
    "start_time": "2022-03-04T16:38:30.146Z"
   },
   {
    "duration": 4,
    "start_time": "2022-03-04T16:38:30.171Z"
   },
   {
    "duration": 37,
    "start_time": "2022-03-04T16:38:30.177Z"
   },
   {
    "duration": 3,
    "start_time": "2022-03-04T16:38:30.222Z"
   },
   {
    "duration": 28,
    "start_time": "2022-03-04T16:38:30.227Z"
   },
   {
    "duration": 17,
    "start_time": "2022-03-04T16:38:30.257Z"
   },
   {
    "duration": 19,
    "start_time": "2022-03-04T16:38:30.275Z"
   },
   {
    "duration": 59,
    "start_time": "2022-03-04T16:38:30.295Z"
   },
   {
    "duration": 75,
    "start_time": "2022-03-04T16:38:30.356Z"
   },
   {
    "duration": 46,
    "start_time": "2022-03-04T16:38:30.432Z"
   },
   {
    "duration": 8,
    "start_time": "2022-03-04T16:38:30.479Z"
   },
   {
    "duration": 16,
    "start_time": "2022-03-04T16:38:30.488Z"
   },
   {
    "duration": 43,
    "start_time": "2022-03-04T16:38:30.505Z"
   },
   {
    "duration": 17,
    "start_time": "2022-03-04T16:38:30.550Z"
   },
   {
    "duration": 19,
    "start_time": "2022-03-04T16:38:30.569Z"
   },
   {
    "duration": 39,
    "start_time": "2022-03-04T16:38:30.590Z"
   },
   {
    "duration": 18,
    "start_time": "2022-03-04T16:38:30.631Z"
   },
   {
    "duration": 26,
    "start_time": "2022-03-04T16:38:30.651Z"
   },
   {
    "duration": 15,
    "start_time": "2022-03-04T16:38:30.679Z"
   },
   {
    "duration": 16,
    "start_time": "2022-03-04T16:38:30.872Z"
   },
   {
    "duration": 33,
    "start_time": "2022-03-04T16:38:30.890Z"
   },
   {
    "duration": 17,
    "start_time": "2022-03-04T16:38:30.924Z"
   },
   {
    "duration": 14,
    "start_time": "2022-03-04T16:38:30.943Z"
   },
   {
    "duration": 10,
    "start_time": "2022-03-04T16:38:30.958Z"
   },
   {
    "duration": 35,
    "start_time": "2022-03-04T16:38:30.970Z"
   },
   {
    "duration": 20,
    "start_time": "2022-03-04T16:38:31.007Z"
   },
   {
    "duration": 9,
    "start_time": "2022-03-04T16:38:31.029Z"
   },
   {
    "duration": 56,
    "start_time": "2022-03-04T16:38:31.040Z"
   },
   {
    "duration": 60,
    "start_time": "2022-03-04T16:38:31.098Z"
   },
   {
    "duration": 55,
    "start_time": "2022-03-04T16:38:31.632Z"
   },
   {
    "duration": 57,
    "start_time": "2022-03-04T16:38:31.688Z"
   },
   {
    "duration": 7,
    "start_time": "2022-03-04T16:38:31.748Z"
   },
   {
    "duration": 4,
    "start_time": "2022-03-04T16:38:31.757Z"
   },
   {
    "duration": 7,
    "start_time": "2022-03-04T16:38:31.763Z"
   },
   {
    "duration": 7,
    "start_time": "2022-03-04T16:38:31.771Z"
   },
   {
    "duration": 91,
    "start_time": "2022-03-04T16:39:55.938Z"
   },
   {
    "duration": 3,
    "start_time": "2022-03-04T16:40:16.482Z"
   },
   {
    "duration": 3,
    "start_time": "2022-03-04T16:40:22.170Z"
   },
   {
    "duration": 121,
    "start_time": "2022-03-04T16:40:22.180Z"
   },
   {
    "duration": 11,
    "start_time": "2022-03-04T16:40:22.303Z"
   },
   {
    "duration": 24,
    "start_time": "2022-03-04T16:40:22.316Z"
   },
   {
    "duration": 4,
    "start_time": "2022-03-04T16:40:22.341Z"
   },
   {
    "duration": 11,
    "start_time": "2022-03-04T16:40:22.346Z"
   },
   {
    "duration": 3,
    "start_time": "2022-03-04T16:40:22.359Z"
   },
   {
    "duration": 58,
    "start_time": "2022-03-04T16:40:22.363Z"
   },
   {
    "duration": 17,
    "start_time": "2022-03-04T16:40:22.423Z"
   },
   {
    "duration": 18,
    "start_time": "2022-03-04T16:40:22.442Z"
   },
   {
    "duration": 65,
    "start_time": "2022-03-04T16:40:22.462Z"
   },
   {
    "duration": 55,
    "start_time": "2022-03-04T16:40:22.529Z"
   },
   {
    "duration": 65,
    "start_time": "2022-03-04T16:40:22.586Z"
   },
   {
    "duration": 5,
    "start_time": "2022-03-04T16:40:22.653Z"
   },
   {
    "duration": 3,
    "start_time": "2022-03-04T16:40:22.660Z"
   },
   {
    "duration": 10,
    "start_time": "2022-03-04T16:40:22.665Z"
   },
   {
    "duration": 12,
    "start_time": "2022-03-04T16:40:22.676Z"
   },
   {
    "duration": 18,
    "start_time": "2022-03-04T16:40:22.705Z"
   },
   {
    "duration": 9,
    "start_time": "2022-03-04T16:40:22.725Z"
   },
   {
    "duration": 3,
    "start_time": "2022-03-04T16:40:22.735Z"
   },
   {
    "duration": 20,
    "start_time": "2022-03-04T16:40:22.739Z"
   },
   {
    "duration": 15,
    "start_time": "2022-03-04T16:40:22.760Z"
   },
   {
    "duration": 45,
    "start_time": "2022-03-04T16:40:22.776Z"
   },
   {
    "duration": 15,
    "start_time": "2022-03-04T16:40:22.822Z"
   },
   {
    "duration": 17,
    "start_time": "2022-03-04T16:40:22.838Z"
   },
   {
    "duration": 14,
    "start_time": "2022-03-04T16:40:22.858Z"
   },
   {
    "duration": 32,
    "start_time": "2022-03-04T16:40:22.874Z"
   },
   {
    "duration": 10,
    "start_time": "2022-03-04T16:40:23.568Z"
   },
   {
    "duration": 9,
    "start_time": "2022-03-04T16:40:23.580Z"
   },
   {
    "duration": 4,
    "start_time": "2022-03-04T16:40:23.590Z"
   },
   {
    "duration": 49,
    "start_time": "2022-03-04T16:40:23.599Z"
   },
   {
    "duration": 61,
    "start_time": "2022-03-04T16:40:24.784Z"
   },
   {
    "duration": 42,
    "start_time": "2022-03-04T16:40:24.847Z"
   },
   {
    "duration": 72,
    "start_time": "2022-03-04T16:40:24.890Z"
   },
   {
    "duration": 7,
    "start_time": "2022-03-04T16:40:24.963Z"
   },
   {
    "duration": 3,
    "start_time": "2022-03-04T16:40:24.971Z"
   },
   {
    "duration": 6,
    "start_time": "2022-03-04T16:40:24.976Z"
   },
   {
    "duration": 26,
    "start_time": "2022-03-04T16:40:24.983Z"
   },
   {
    "duration": 549,
    "start_time": "2022-03-06T08:44:11.597Z"
   },
   {
    "duration": 138,
    "start_time": "2022-03-06T08:44:12.148Z"
   },
   {
    "duration": 19,
    "start_time": "2022-03-06T08:44:12.288Z"
   },
   {
    "duration": 39,
    "start_time": "2022-03-06T08:44:12.309Z"
   },
   {
    "duration": 6,
    "start_time": "2022-03-06T08:44:12.350Z"
   },
   {
    "duration": 23,
    "start_time": "2022-03-06T08:44:12.358Z"
   },
   {
    "duration": 13,
    "start_time": "2022-03-06T08:44:12.383Z"
   },
   {
    "duration": 51,
    "start_time": "2022-03-06T08:44:12.400Z"
   },
   {
    "duration": 33,
    "start_time": "2022-03-06T08:44:12.454Z"
   },
   {
    "duration": 29,
    "start_time": "2022-03-06T08:44:12.489Z"
   },
   {
    "duration": 78,
    "start_time": "2022-03-06T08:44:12.520Z"
   },
   {
    "duration": 77,
    "start_time": "2022-03-06T08:44:12.600Z"
   },
   {
    "duration": 61,
    "start_time": "2022-03-06T08:44:12.679Z"
   },
   {
    "duration": 7,
    "start_time": "2022-03-06T08:44:12.741Z"
   },
   {
    "duration": 9,
    "start_time": "2022-03-06T08:44:12.749Z"
   },
   {
    "duration": 27,
    "start_time": "2022-03-06T08:44:12.760Z"
   },
   {
    "duration": 16,
    "start_time": "2022-03-06T08:44:12.789Z"
   },
   {
    "duration": 25,
    "start_time": "2022-03-06T08:44:12.807Z"
   },
   {
    "duration": 27,
    "start_time": "2022-03-06T08:44:12.834Z"
   },
   {
    "duration": 6,
    "start_time": "2022-03-06T08:44:12.863Z"
   },
   {
    "duration": 43,
    "start_time": "2022-03-06T08:44:12.870Z"
   },
   {
    "duration": 18,
    "start_time": "2022-03-06T08:44:12.915Z"
   },
   {
    "duration": 20,
    "start_time": "2022-03-06T08:44:12.936Z"
   },
   {
    "duration": 22,
    "start_time": "2022-03-06T08:44:12.958Z"
   },
   {
    "duration": 44,
    "start_time": "2022-03-06T08:44:12.982Z"
   },
   {
    "duration": 21,
    "start_time": "2022-03-06T08:44:13.028Z"
   },
   {
    "duration": 9,
    "start_time": "2022-03-06T08:44:13.051Z"
   },
   {
    "duration": 24,
    "start_time": "2022-03-06T08:44:13.062Z"
   },
   {
    "duration": 13,
    "start_time": "2022-03-06T08:44:13.087Z"
   },
   {
    "duration": 19,
    "start_time": "2022-03-06T08:44:13.101Z"
   },
   {
    "duration": 73,
    "start_time": "2022-03-06T08:44:13.121Z"
   },
   {
    "duration": 63,
    "start_time": "2022-03-06T08:44:13.196Z"
   },
   {
    "duration": 50,
    "start_time": "2022-03-06T08:44:13.261Z"
   },
   {
    "duration": 77,
    "start_time": "2022-03-06T08:44:13.313Z"
   },
   {
    "duration": 7,
    "start_time": "2022-03-06T08:44:13.392Z"
   },
   {
    "duration": 17,
    "start_time": "2022-03-06T08:44:13.401Z"
   },
   {
    "duration": 25,
    "start_time": "2022-03-06T08:44:13.419Z"
   },
   {
    "duration": 10,
    "start_time": "2022-03-06T08:44:13.446Z"
   },
   {
    "duration": 578,
    "start_time": "2022-03-06T08:56:03.211Z"
   },
   {
    "duration": 139,
    "start_time": "2022-03-06T08:56:03.791Z"
   },
   {
    "duration": 19,
    "start_time": "2022-03-06T08:56:03.932Z"
   },
   {
    "duration": 24,
    "start_time": "2022-03-06T08:56:03.953Z"
   },
   {
    "duration": 5,
    "start_time": "2022-03-06T08:56:03.979Z"
   },
   {
    "duration": 28,
    "start_time": "2022-03-06T08:56:03.985Z"
   },
   {
    "duration": 25,
    "start_time": "2022-03-06T08:56:04.014Z"
   },
   {
    "duration": 24,
    "start_time": "2022-03-06T08:56:04.042Z"
   },
   {
    "duration": 22,
    "start_time": "2022-03-06T08:56:04.069Z"
   },
   {
    "duration": 46,
    "start_time": "2022-03-06T08:56:04.093Z"
   },
   {
    "duration": 61,
    "start_time": "2022-03-06T08:56:04.141Z"
   },
   {
    "duration": 95,
    "start_time": "2022-03-06T08:56:04.204Z"
   },
   {
    "duration": 62,
    "start_time": "2022-03-06T08:56:04.301Z"
   },
   {
    "duration": 7,
    "start_time": "2022-03-06T08:56:04.364Z"
   },
   {
    "duration": 4,
    "start_time": "2022-03-06T08:56:04.372Z"
   },
   {
    "duration": 15,
    "start_time": "2022-03-06T08:56:04.377Z"
   },
   {
    "duration": 14,
    "start_time": "2022-03-06T08:56:04.394Z"
   },
   {
    "duration": 32,
    "start_time": "2022-03-06T08:56:04.410Z"
   },
   {
    "duration": 11,
    "start_time": "2022-03-06T08:56:04.443Z"
   },
   {
    "duration": 3,
    "start_time": "2022-03-06T08:56:04.456Z"
   },
   {
    "duration": 26,
    "start_time": "2022-03-06T08:56:04.461Z"
   },
   {
    "duration": 18,
    "start_time": "2022-03-06T08:56:04.488Z"
   },
   {
    "duration": 44,
    "start_time": "2022-03-06T08:56:04.510Z"
   },
   {
    "duration": 17,
    "start_time": "2022-03-06T08:56:04.556Z"
   },
   {
    "duration": 21,
    "start_time": "2022-03-06T08:56:04.575Z"
   },
   {
    "duration": 52,
    "start_time": "2022-03-06T08:56:04.597Z"
   },
   {
    "duration": 9,
    "start_time": "2022-03-06T08:56:04.650Z"
   },
   {
    "duration": 15,
    "start_time": "2022-03-06T08:56:04.660Z"
   },
   {
    "duration": 9,
    "start_time": "2022-03-06T08:56:04.677Z"
   },
   {
    "duration": 5,
    "start_time": "2022-03-06T08:56:04.687Z"
   },
   {
    "duration": 76,
    "start_time": "2022-03-06T08:56:04.693Z"
   },
   {
    "duration": 57,
    "start_time": "2022-03-06T08:56:04.771Z"
   },
   {
    "duration": 50,
    "start_time": "2022-03-06T08:56:04.838Z"
   },
   {
    "duration": 76,
    "start_time": "2022-03-06T08:56:04.890Z"
   },
   {
    "duration": 7,
    "start_time": "2022-03-06T08:56:04.969Z"
   },
   {
    "duration": 4,
    "start_time": "2022-03-06T08:56:04.978Z"
   },
   {
    "duration": 8,
    "start_time": "2022-03-06T08:56:04.984Z"
   },
   {
    "duration": 4,
    "start_time": "2022-03-06T08:56:04.994Z"
   },
   {
    "duration": 208,
    "start_time": "2022-03-07T06:57:18.235Z"
   },
   {
    "duration": 547,
    "start_time": "2022-03-07T06:57:39.783Z"
   },
   {
    "duration": 139,
    "start_time": "2022-03-07T06:57:40.332Z"
   },
   {
    "duration": 17,
    "start_time": "2022-03-07T06:57:40.473Z"
   },
   {
    "duration": 29,
    "start_time": "2022-03-07T06:57:40.491Z"
   },
   {
    "duration": 5,
    "start_time": "2022-03-07T06:57:40.522Z"
   },
   {
    "duration": 22,
    "start_time": "2022-03-07T06:57:40.538Z"
   },
   {
    "duration": 9,
    "start_time": "2022-03-07T06:57:40.561Z"
   },
   {
    "duration": 29,
    "start_time": "2022-03-07T06:57:40.573Z"
   },
   {
    "duration": 34,
    "start_time": "2022-03-07T06:57:40.604Z"
   },
   {
    "duration": 23,
    "start_time": "2022-03-07T06:57:40.639Z"
   },
   {
    "duration": 62,
    "start_time": "2022-03-07T06:57:40.663Z"
   },
   {
    "duration": 80,
    "start_time": "2022-03-07T06:57:40.726Z"
   },
   {
    "duration": 64,
    "start_time": "2022-03-07T06:57:40.807Z"
   },
   {
    "duration": 7,
    "start_time": "2022-03-07T06:57:40.872Z"
   },
   {
    "duration": 5,
    "start_time": "2022-03-07T06:57:40.880Z"
   },
   {
    "duration": 15,
    "start_time": "2022-03-07T06:57:40.887Z"
   },
   {
    "duration": 14,
    "start_time": "2022-03-07T06:57:40.904Z"
   },
   {
    "duration": 24,
    "start_time": "2022-03-07T06:57:40.919Z"
   },
   {
    "duration": 10,
    "start_time": "2022-03-07T06:57:40.945Z"
   },
   {
    "duration": 3,
    "start_time": "2022-03-07T06:57:40.957Z"
   },
   {
    "duration": 31,
    "start_time": "2022-03-07T06:57:40.961Z"
   },
   {
    "duration": 45,
    "start_time": "2022-03-07T06:57:40.994Z"
   },
   {
    "duration": 19,
    "start_time": "2022-03-07T06:57:41.042Z"
   },
   {
    "duration": 17,
    "start_time": "2022-03-07T06:57:41.063Z"
   },
   {
    "duration": 21,
    "start_time": "2022-03-07T06:57:41.082Z"
   },
   {
    "duration": 48,
    "start_time": "2022-03-07T06:57:41.104Z"
   },
   {
    "duration": 9,
    "start_time": "2022-03-07T06:57:41.153Z"
   },
   {
    "duration": 4,
    "start_time": "2022-03-07T07:01:10.339Z"
   },
   {
    "duration": 3,
    "start_time": "2022-03-07T07:01:42.904Z"
   },
   {
    "duration": 163,
    "start_time": "2022-03-07T07:01:42.909Z"
   },
   {
    "duration": 9,
    "start_time": "2022-03-07T07:01:43.074Z"
   },
   {
    "duration": 27,
    "start_time": "2022-03-07T07:01:43.085Z"
   },
   {
    "duration": 4,
    "start_time": "2022-03-07T07:01:43.137Z"
   },
   {
    "duration": 19,
    "start_time": "2022-03-07T07:01:43.142Z"
   },
   {
    "duration": 4,
    "start_time": "2022-03-07T07:01:43.165Z"
   },
   {
    "duration": 30,
    "start_time": "2022-03-07T07:01:43.171Z"
   },
   {
    "duration": 47,
    "start_time": "2022-03-07T07:01:43.203Z"
   },
   {
    "duration": 25,
    "start_time": "2022-03-07T07:01:43.252Z"
   },
   {
    "duration": 79,
    "start_time": "2022-03-07T07:01:43.279Z"
   },
   {
    "duration": 64,
    "start_time": "2022-03-07T07:01:43.361Z"
   },
   {
    "duration": 53,
    "start_time": "2022-03-07T07:01:43.438Z"
   },
   {
    "duration": 7,
    "start_time": "2022-03-07T07:01:43.493Z"
   },
   {
    "duration": 4,
    "start_time": "2022-03-07T07:01:43.501Z"
   },
   {
    "duration": 32,
    "start_time": "2022-03-07T07:01:43.506Z"
   },
   {
    "duration": 14,
    "start_time": "2022-03-07T07:01:43.540Z"
   },
   {
    "duration": 15,
    "start_time": "2022-03-07T07:01:43.556Z"
   },
   {
    "duration": 16,
    "start_time": "2022-03-07T07:01:43.574Z"
   },
   {
    "duration": 3,
    "start_time": "2022-03-07T07:01:43.592Z"
   },
   {
    "duration": 42,
    "start_time": "2022-03-07T07:01:43.597Z"
   },
   {
    "duration": 17,
    "start_time": "2022-03-07T07:01:43.640Z"
   },
   {
    "duration": 17,
    "start_time": "2022-03-07T07:01:43.659Z"
   },
   {
    "duration": 16,
    "start_time": "2022-03-07T07:01:43.677Z"
   },
   {
    "duration": 49,
    "start_time": "2022-03-07T07:01:43.694Z"
   },
   {
    "duration": 18,
    "start_time": "2022-03-07T07:01:43.745Z"
   },
   {
    "duration": 8,
    "start_time": "2022-03-07T07:01:43.765Z"
   },
   {
    "duration": 14,
    "start_time": "2022-03-07T07:01:43.775Z"
   },
   {
    "duration": 13,
    "start_time": "2022-03-07T07:01:43.790Z"
   },
   {
    "duration": 6,
    "start_time": "2022-03-07T07:01:43.805Z"
   },
   {
    "duration": 54,
    "start_time": "2022-03-07T07:01:43.837Z"
   },
   {
    "duration": 73,
    "start_time": "2022-03-07T07:01:43.893Z"
   },
   {
    "duration": 50,
    "start_time": "2022-03-07T07:01:43.968Z"
   },
   {
    "duration": 70,
    "start_time": "2022-03-07T07:01:44.019Z"
   },
   {
    "duration": 7,
    "start_time": "2022-03-07T07:01:44.091Z"
   },
   {
    "duration": 9,
    "start_time": "2022-03-07T07:01:44.099Z"
   },
   {
    "duration": 30,
    "start_time": "2022-03-07T07:01:44.110Z"
   },
   {
    "duration": 4,
    "start_time": "2022-03-07T07:01:44.142Z"
   },
   {
    "duration": 252,
    "start_time": "2022-03-07T07:03:16.497Z"
   },
   {
    "duration": 253,
    "start_time": "2022-03-07T07:03:58.943Z"
   },
   {
    "duration": 7,
    "start_time": "2022-03-07T07:04:06.254Z"
   },
   {
    "duration": 180,
    "start_time": "2022-03-07T07:21:19.167Z"
   },
   {
    "duration": 7,
    "start_time": "2022-03-07T07:23:35.782Z"
   },
   {
    "duration": 730,
    "start_time": "2022-03-08T03:42:54.790Z"
   },
   {
    "duration": 165,
    "start_time": "2022-03-08T03:42:55.523Z"
   },
   {
    "duration": 26,
    "start_time": "2022-03-08T03:42:55.691Z"
   },
   {
    "duration": 33,
    "start_time": "2022-03-08T03:42:55.719Z"
   },
   {
    "duration": 4,
    "start_time": "2022-03-08T03:42:55.755Z"
   },
   {
    "duration": 42,
    "start_time": "2022-03-08T03:42:55.784Z"
   },
   {
    "duration": 5,
    "start_time": "2022-03-08T03:42:55.829Z"
   },
   {
    "duration": 49,
    "start_time": "2022-03-08T03:42:55.838Z"
   },
   {
    "duration": 22,
    "start_time": "2022-03-08T03:42:55.890Z"
   },
   {
    "duration": 27,
    "start_time": "2022-03-08T03:42:55.915Z"
   },
   {
    "duration": 112,
    "start_time": "2022-03-08T03:42:55.945Z"
   },
   {
    "duration": 105,
    "start_time": "2022-03-08T03:42:56.060Z"
   },
   {
    "duration": 86,
    "start_time": "2022-03-08T03:42:56.167Z"
   },
   {
    "duration": 9,
    "start_time": "2022-03-08T03:42:56.255Z"
   },
   {
    "duration": 4,
    "start_time": "2022-03-08T03:42:56.283Z"
   },
   {
    "duration": 26,
    "start_time": "2022-03-08T03:42:56.289Z"
   },
   {
    "duration": 21,
    "start_time": "2022-03-08T03:42:56.318Z"
   },
   {
    "duration": 17,
    "start_time": "2022-03-08T03:42:56.342Z"
   },
   {
    "duration": 30,
    "start_time": "2022-03-08T03:42:56.362Z"
   },
   {
    "duration": 5,
    "start_time": "2022-03-08T03:42:56.395Z"
   },
   {
    "duration": 38,
    "start_time": "2022-03-08T03:42:56.402Z"
   },
   {
    "duration": 46,
    "start_time": "2022-03-08T03:42:56.443Z"
   },
   {
    "duration": 23,
    "start_time": "2022-03-08T03:42:56.494Z"
   },
   {
    "duration": 20,
    "start_time": "2022-03-08T03:42:56.520Z"
   },
   {
    "duration": 57,
    "start_time": "2022-03-08T03:42:56.543Z"
   },
   {
    "duration": 22,
    "start_time": "2022-03-08T03:42:56.603Z"
   },
   {
    "duration": 11,
    "start_time": "2022-03-08T03:42:56.628Z"
   },
   {
    "duration": 51,
    "start_time": "2022-03-08T03:42:56.641Z"
   },
   {
    "duration": 15,
    "start_time": "2022-03-08T03:42:56.694Z"
   },
   {
    "duration": 10,
    "start_time": "2022-03-08T03:42:56.712Z"
   },
   {
    "duration": 105,
    "start_time": "2022-03-08T03:42:56.724Z"
   },
   {
    "duration": 104,
    "start_time": "2022-03-08T03:42:56.832Z"
   },
   {
    "duration": 86,
    "start_time": "2022-03-08T03:42:56.939Z"
   },
   {
    "duration": 108,
    "start_time": "2022-03-08T03:42:57.027Z"
   },
   {
    "duration": 10,
    "start_time": "2022-03-08T03:42:57.138Z"
   },
   {
    "duration": 21,
    "start_time": "2022-03-08T03:42:57.150Z"
   },
   {
    "duration": 8,
    "start_time": "2022-03-08T03:42:57.183Z"
   },
   {
    "duration": 21,
    "start_time": "2022-03-08T03:42:57.193Z"
   },
   {
    "duration": 98,
    "start_time": "2022-03-08T03:42:57.216Z"
   }
  ],
  "colab": {
   "collapsed_sections": [
    "E0vqbgi9ay0H",
    "VUC88oWjTJw2"
   ],
   "name": "yandex_music_project_2021.2.ipynb",
   "provenance": []
  },
  "kernelspec": {
   "display_name": "Python 3 (ipykernel)",
   "language": "python",
   "name": "python3"
  },
  "language_info": {
   "codemirror_mode": {
    "name": "ipython",
    "version": 3
   },
   "file_extension": ".py",
   "mimetype": "text/x-python",
   "name": "python",
   "nbconvert_exporter": "python",
   "pygments_lexer": "ipython3",
   "version": "3.10.1"
  },
  "toc": {
   "base_numbering": 1,
   "nav_menu": {},
   "number_sections": true,
   "sideBar": true,
   "skip_h1_title": true,
   "title_cell": "Table of Contents",
   "title_sidebar": "Contents",
   "toc_cell": false,
   "toc_position": {
    "height": "calc(100% - 180px)",
    "left": "10px",
    "top": "150px",
    "width": "165px"
   },
   "toc_section_display": true,
   "toc_window_display": true
  }
 },
 "nbformat": 4,
 "nbformat_minor": 1
}
